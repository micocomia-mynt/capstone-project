{
 "cells": [
  {
   "cell_type": "markdown",
   "id": "banner-batch",
   "metadata": {},
   "source": [
    "Reference: https://towardsdatascience.com/evaluate-topic-model-in-python-latent-dirichlet-allocation-lda-7d57484bb5d0?gi=b3b53e8290cd"
   ]
  },
  {
   "cell_type": "code",
   "execution_count": 1,
   "id": "entertaining-calvin",
   "metadata": {},
   "outputs": [
    {
     "name": "stderr",
     "output_type": "stream",
     "text": [
      "/Users/micocomia/.pyenv/versions/3.9.1/lib/python3.9/site-packages/gensim/similarities/__init__.py:15: UserWarning: The gensim.similarities.levenshtein submodule is disabled, because the optional Levenshtein package <https://pypi.org/project/python-Levenshtein/> is unavailable. Install Levenhstein (e.g. `pip install python-Levenshtein`) to suppress this warning.\n",
      "  warnings.warn(msg)\n"
     ]
    }
   ],
   "source": [
    "import warnings\n",
    "import gensim\n",
    "import spacy\n",
    "import joblib\n",
    "import pickle\n",
    "import pyLDAvis\n",
    "import tqdm\n",
    "import pandas as pd\n",
    "import numpy as np\n",
    "import pyLDAvis.gensim_models as gensimvis\n",
    "import gensim.corpora as corpora\n",
    "\n",
    "from gensim.utils import simple_preprocess\n",
    "from gensim.models import CoherenceModel\n",
    "from datetime import datetime\n",
    "\n",
    "warnings.filterwarnings(action=\"ignore\")\n",
    "pyLDAvis.enable_notebook()"
   ]
  },
  {
   "cell_type": "markdown",
   "id": "ancient-richardson",
   "metadata": {},
   "source": [
    "### I. Import Data\n",
    "---"
   ]
  },
  {
   "cell_type": "code",
   "execution_count": 2,
   "id": "distributed-toilet",
   "metadata": {},
   "outputs": [],
   "source": [
    "gcash_good = joblib.load('../../Data/Preprocessed/Mico/P2/gcash_good.sav')\n",
    "gcash_bad = joblib.load('../../Data/Preprocessed/Mico/P2/gcash_bad.sav')\n",
    "paymaya_good = joblib.load('../../Data/Preprocessed/Mico/P2/paymaya_good.sav')\n",
    "paymaya_bad = joblib.load('../../Data/Preprocessed/Mico/P2/paymaya_bad.sav')"
   ]
  },
  {
   "cell_type": "code",
   "execution_count": 3,
   "id": "aware-consequence",
   "metadata": {},
   "outputs": [],
   "source": [
    "def get_data(list, store):\n",
    "    if store == 'as':\n",
    "        data, dictionary, corpus = list[0], list[1], list[2]\n",
    "    elif store == 'ps':\n",
    "        data, dictionary, corpus = list[3], list[4], list[5]\n",
    "    return data, dictionary, corpus"
   ]
  },
  {
   "cell_type": "code",
   "execution_count": 4,
   "id": "saved-impact",
   "metadata": {},
   "outputs": [],
   "source": [
    "gcash_good_as, gcash_good_dict_as, gcash_good_corpus_as = get_data(gcash_good, 'as')\n",
    "gcash_good_ps, gcash_good_dict_ps, gcash_good_corpus_ps = get_data(gcash_good, 'ps')"
   ]
  },
  {
   "cell_type": "code",
   "execution_count": 5,
   "id": "unavailable-savings",
   "metadata": {},
   "outputs": [],
   "source": [
    "gcash_bad_as, gcash_bad_dict_as, gcash_bad_corpus_as = get_data(gcash_bad, 'as')\n",
    "gcash_bad_ps, gcash_bad_dict_ps, gcash_bad_corpus_ps = get_data(gcash_bad, 'ps')"
   ]
  },
  {
   "cell_type": "code",
   "execution_count": 6,
   "id": "serial-technique",
   "metadata": {},
   "outputs": [],
   "source": [
    "paymaya_good_as, paymaya_good_dict_as, paymaya_good_corpus_as = get_data(paymaya_good, 'as')\n",
    "paymaya_good_ps, paymaya_good_dict_ps, paymaya_good_corpus_ps = get_data(paymaya_good, 'ps')"
   ]
  },
  {
   "cell_type": "code",
   "execution_count": 7,
   "id": "worthy-dairy",
   "metadata": {},
   "outputs": [],
   "source": [
    "paymaya_bad_as, paymaya_bad_dict_as, paymaya_bad_corpus_as = get_data(paymaya_bad, 'as')\n",
    "paymaya_bad_ps, paymaya_bad_dict_ps, paymaya_bad_corpus_ps = get_data(paymaya_bad, 'ps')"
   ]
  },
  {
   "cell_type": "markdown",
   "id": "third-surprise",
   "metadata": {},
   "source": [
    "### II. Topic Modeling\n",
    "---"
   ]
  },
  {
   "cell_type": "markdown",
   "id": "recreational-montreal",
   "metadata": {},
   "source": [
    "#### A. Base Model"
   ]
  },
  {
   "cell_type": "code",
   "execution_count": 8,
   "id": "surprised-damages",
   "metadata": {},
   "outputs": [],
   "source": [
    "def build_model(corpus, dictionary):\n",
    "    lda_model = gensim.models.LdaMulticore(corpus=corpus,\n",
    "                                           id2word=dictionary,\n",
    "                                           num_topics=10, \n",
    "                                           random_state=100,\n",
    "                                           chunksize=10000, # Increasing chunksize will speed up training as long as document fits memory\n",
    "                                           passes=10, # Epochs\n",
    "                                           per_word_topics=True)\n",
    "    return lda_model"
   ]
  },
  {
   "cell_type": "markdown",
   "id": "massive-birthday",
   "metadata": {},
   "source": [
    "Create different LDA models for each type of review and store."
   ]
  },
  {
   "cell_type": "code",
   "execution_count": 9,
   "id": "taken-haven",
   "metadata": {},
   "outputs": [],
   "source": [
    "gcash_good_lda_as = build_model(gcash_good_corpus_as, gcash_good_dict_as)\n",
    "gcash_bad_lda_as = build_model(gcash_bad_corpus_as, gcash_bad_dict_as)"
   ]
  },
  {
   "cell_type": "code",
   "execution_count": 10,
   "id": "possible-clarity",
   "metadata": {},
   "outputs": [],
   "source": [
    "gcash_good_lda_ps = build_model(gcash_good_corpus_ps, gcash_good_dict_ps)\n",
    "gcash_bad_lda_ps = build_model(gcash_bad_corpus_ps, gcash_bad_dict_ps)"
   ]
  },
  {
   "cell_type": "code",
   "execution_count": 11,
   "id": "available-actor",
   "metadata": {},
   "outputs": [],
   "source": [
    "paymaya_good_lda_as = build_model(paymaya_good_corpus_as, paymaya_good_dict_as)\n",
    "paymaya_bad_lda_as = build_model(paymaya_bad_corpus_as, paymaya_bad_dict_as)"
   ]
  },
  {
   "cell_type": "code",
   "execution_count": 12,
   "id": "sapphire-hawaii",
   "metadata": {},
   "outputs": [],
   "source": [
    "paymaya_good_lda_ps = build_model(paymaya_good_corpus_ps, paymaya_good_dict_ps)\n",
    "paymaya_bad_lda_ps = build_model(paymaya_bad_corpus_ps, paymaya_bad_dict_ps)"
   ]
  },
  {
   "cell_type": "markdown",
   "id": "trying-veteran",
   "metadata": {},
   "source": [
    "#### B. Base Coherence"
   ]
  },
  {
   "cell_type": "markdown",
   "id": "charming-imaging",
   "metadata": {},
   "source": [
    "Check quality of topics through topic coherence which is measured by the \"degree of semantic similarity between hgih scoring words in the topics.\" We first compute the base coherence of the topics."
   ]
  },
  {
   "cell_type": "code",
   "execution_count": 13,
   "id": "numeric-ladder",
   "metadata": {},
   "outputs": [],
   "source": [
    "def compute_coherence(lda_model, data, dictionary):\n",
    "    coherence_model_lda = CoherenceModel(model = lda_model,\n",
    "                                         texts = data,\n",
    "                                         dictionary = dictionary, \n",
    "                                         coherence = 'c_v')\n",
    "    \n",
    "    return coherence_model_lda.get_coherence()"
   ]
  },
  {
   "cell_type": "code",
   "execution_count": 14,
   "id": "faced-tuning",
   "metadata": {},
   "outputs": [],
   "source": [
    "gcash_good_as_base = compute_coherence(gcash_good_lda_as, gcash_good_as, gcash_good_dict_as)\n",
    "gcash_bad_as_base = compute_coherence(gcash_bad_lda_as, gcash_bad_as, gcash_bad_dict_as)\n",
    "gcash_good_ps_base = compute_coherence(gcash_good_lda_ps, gcash_good_ps, gcash_good_dict_ps)\n",
    "gcash_bad_ps_base = compute_coherence(gcash_bad_lda_ps, gcash_bad_ps, gcash_bad_dict_ps)"
   ]
  },
  {
   "cell_type": "code",
   "execution_count": 15,
   "id": "aggressive-interaction",
   "metadata": {},
   "outputs": [],
   "source": [
    "paymaya_good_as_base = compute_coherence(paymaya_good_lda_as, paymaya_good_as, paymaya_good_dict_as)\n",
    "paymaya_bad_as_base = compute_coherence(paymaya_bad_lda_as, paymaya_bad_as, paymaya_bad_dict_as)\n",
    "paymaya_good_ps_base = compute_coherence(paymaya_good_lda_ps, paymaya_good_ps, paymaya_good_dict_ps)\n",
    "paymaya_bad_ps_base = compute_coherence(paymaya_bad_lda_ps, paymaya_bad_ps, paymaya_bad_dict_ps)"
   ]
  },
  {
   "cell_type": "code",
   "execution_count": 16,
   "id": "chemical-pathology",
   "metadata": {},
   "outputs": [],
   "source": [
    "gcash_as = [gcash_good_as_base, gcash_bad_as_base]\n",
    "gcash_ps = [gcash_good_ps_base, gcash_bad_ps_base]\n",
    "paymaya_as = [paymaya_good_as_base, paymaya_bad_as_base]\n",
    "paymaya_ps = [paymaya_good_ps_base, paymaya_bad_ps_base]"
   ]
  },
  {
   "cell_type": "code",
   "execution_count": 17,
   "id": "permanent-chicken",
   "metadata": {},
   "outputs": [],
   "source": [
    "df = pd.DataFrame(list(zip(gcash_as, gcash_ps, paymaya_as, paymaya_ps)), \n",
    "                  columns = ['GCash AS', 'GCash PS', 'PayMaya AS', 'PayMaya PS'],\n",
    "                  index = ['Good', 'Bad'])"
   ]
  },
  {
   "cell_type": "code",
   "execution_count": 18,
   "id": "senior-mambo",
   "metadata": {},
   "outputs": [
    {
     "data": {
      "text/html": [
       "<div>\n",
       "<style scoped>\n",
       "    .dataframe tbody tr th:only-of-type {\n",
       "        vertical-align: middle;\n",
       "    }\n",
       "\n",
       "    .dataframe tbody tr th {\n",
       "        vertical-align: top;\n",
       "    }\n",
       "\n",
       "    .dataframe thead th {\n",
       "        text-align: right;\n",
       "    }\n",
       "</style>\n",
       "<table border=\"1\" class=\"dataframe\">\n",
       "  <thead>\n",
       "    <tr style=\"text-align: right;\">\n",
       "      <th></th>\n",
       "      <th>GCash AS</th>\n",
       "      <th>GCash PS</th>\n",
       "      <th>PayMaya AS</th>\n",
       "      <th>PayMaya PS</th>\n",
       "    </tr>\n",
       "  </thead>\n",
       "  <tbody>\n",
       "    <tr>\n",
       "      <th>Good</th>\n",
       "      <td>0.429972</td>\n",
       "      <td>0.461109</td>\n",
       "      <td>0.295934</td>\n",
       "      <td>0.549764</td>\n",
       "    </tr>\n",
       "    <tr>\n",
       "      <th>Bad</th>\n",
       "      <td>0.391118</td>\n",
       "      <td>0.422193</td>\n",
       "      <td>0.299370</td>\n",
       "      <td>0.463847</td>\n",
       "    </tr>\n",
       "  </tbody>\n",
       "</table>\n",
       "</div>"
      ],
      "text/plain": [
       "      GCash AS  GCash PS  PayMaya AS  PayMaya PS\n",
       "Good  0.429972  0.461109    0.295934    0.549764\n",
       "Bad   0.391118  0.422193    0.299370    0.463847"
      ]
     },
     "execution_count": 18,
     "metadata": {},
     "output_type": "execute_result"
    }
   ],
   "source": [
    "df"
   ]
  },
  {
   "cell_type": "code",
   "execution_count": 19,
   "id": "experienced-moment",
   "metadata": {},
   "outputs": [],
   "source": [
    "df.to_csv('Results/base.csv', index=False)"
   ]
  },
  {
   "cell_type": "markdown",
   "id": "immediate-tours",
   "metadata": {},
   "source": [
    "#### C. Hyperparameter Tuning"
   ]
  },
  {
   "cell_type": "code",
   "execution_count": 8,
   "id": "legitimate-jamaica",
   "metadata": {},
   "outputs": [],
   "source": [
    "# supporting function\n",
    "def compute_coherence_values(corpus, dictionary, data, k, a, b):\n",
    "    \n",
    "    lda_model = gensim.models.LdaMulticore(corpus=corpus,\n",
    "                                           id2word=dictionary,\n",
    "                                           num_topics=k,\n",
    "                                           random_state=100,\n",
    "                                           chunksize=10000,\n",
    "                                           passes=10,\n",
    "                                           alpha=a,\n",
    "                                           eta=b)\n",
    "    \n",
    "    coherence_model_lda = CoherenceModel(model=lda_model, texts=data, dictionary=dictionary, coherence='c_v')\n",
    "    \n",
    "    return coherence_model_lda.get_coherence()"
   ]
  },
  {
   "cell_type": "code",
   "execution_count": 9,
   "id": "geographic-insulin",
   "metadata": {},
   "outputs": [],
   "source": [
    "def hyperparameter_tuner(corpus, dictionary, data, temp):\n",
    "    grid = {}\n",
    "    grid['Validation_Set'] = {}\n",
    "\n",
    "    # Topics range\n",
    "    min_topics = 2\n",
    "    max_topics = 6\n",
    "    step_size = 1\n",
    "    topics_range = range(min_topics, max_topics, step_size)\n",
    "\n",
    "    # Alpha parameter\n",
    "    alpha = list(np.arange(0.01, 1, 0.3))\n",
    "    alpha.append('symmetric')\n",
    "    alpha.append('asymmetric')\n",
    "\n",
    "    # Beta parameter\n",
    "    beta = list(np.arange(0.01, 1, 0.3))\n",
    "    beta.append('symmetric')\n",
    "\n",
    "    # Validation sets\n",
    "    num_of_docs = len(corpus)\n",
    "    corpus_sets = [corpus]\n",
    "    corpus_title = ['100% Corpus']\n",
    "    model_results = {'Validation_Set': [],\n",
    "                     'Topics': [],\n",
    "                     'Alpha': [],\n",
    "                     'Beta': [],\n",
    "                     'Coherence': []\n",
    "                    }\n",
    "\n",
    "    # Can take a long time to run\n",
    "    if 1 == 1:\n",
    "        pbar = tqdm.tqdm(total=120)\n",
    "\n",
    "        # iterate through validation corpuses\n",
    "        for i in range(len(corpus_sets)):\n",
    "            # iterate through number of topics\n",
    "            for k in topics_range:\n",
    "                # iterate through alpha values\n",
    "                for a in alpha:\n",
    "                    # iterare through beta values\n",
    "                    for b in beta:\n",
    "                        # get the coherence score for the given parameters\n",
    "                        cv = compute_coherence_values(corpus_sets[i], \n",
    "                                                      dictionary, \n",
    "                                                      data,\n",
    "                                                      k, a, b)\n",
    "                        # Save the model results\n",
    "                        model_results['Validation_Set'].append(corpus_title[i])\n",
    "                        model_results['Topics'].append(k)\n",
    "                        model_results['Alpha'].append(a)\n",
    "                        model_results['Beta'].append(b)\n",
    "                        model_results['Coherence'].append(cv)\n",
    "\n",
    "                        pbar.update(1)\n",
    "        filename = f'Results/{temp}.csv'\n",
    "        pd.DataFrame(model_results).to_csv(filename, index=False)\n",
    "        pbar.close()"
   ]
  },
  {
   "cell_type": "code",
   "execution_count": 10,
   "id": "nasty-pressure",
   "metadata": {
    "scrolled": true,
    "tags": []
   },
   "outputs": [
    {
     "name": "stderr",
     "output_type": "stream",
     "text": [
      "100%|██████████| 120/120 [06:06<00:00,  3.05s/it]\n"
     ]
    }
   ],
   "source": [
    "hyperparameter_tuner(gcash_good_corpus_as, gcash_good_dict_as, gcash_good_as, 'gcash_good_as')"
   ]
  },
  {
   "cell_type": "code",
   "execution_count": 11,
   "id": "organized-stuart",
   "metadata": {},
   "outputs": [
    {
     "name": "stderr",
     "output_type": "stream",
     "text": [
      "100%|██████████| 120/120 [18:18<00:00,  9.16s/it]\n"
     ]
    }
   ],
   "source": [
    "hyperparameter_tuner(gcash_bad_corpus_as, gcash_bad_dict_as, gcash_bad_as, 'gcash_bad_as')"
   ]
  },
  {
   "cell_type": "code",
   "execution_count": 12,
   "id": "distinguished-anthropology",
   "metadata": {},
   "outputs": [
    {
     "name": "stderr",
     "output_type": "stream",
     "text": [
      "100%|██████████| 120/120 [56:47<00:00, 28.40s/it]\n"
     ]
    }
   ],
   "source": [
    "hyperparameter_tuner(gcash_good_corpus_ps, gcash_good_dict_ps, gcash_good_ps, 'gcash_good_ps')"
   ]
  },
  {
   "cell_type": "code",
   "execution_count": 13,
   "id": "close-wound",
   "metadata": {
    "scrolled": true,
    "tags": []
   },
   "outputs": [
    {
     "name": "stderr",
     "output_type": "stream",
     "text": [
      "100%|██████████| 120/120 [1:25:25<00:00, 42.71s/it]\n"
     ]
    }
   ],
   "source": [
    "hyperparameter_tuner(gcash_bad_corpus_ps, gcash_bad_dict_ps, gcash_bad_ps, 'gcash_bad_ps')"
   ]
  },
  {
   "cell_type": "code",
   "execution_count": 14,
   "id": "compound-street",
   "metadata": {},
   "outputs": [
    {
     "name": "stderr",
     "output_type": "stream",
     "text": [
      " 17%|█▋        | 20/120 [01:15<06:23,  3.83s/it]"
     ]
    },
    {
     "ename": "KeyboardInterrupt",
     "evalue": "",
     "output_type": "error",
     "traceback": [
      "\u001b[0;31m---------------------------------------------------------------------------\u001b[0m",
      "\u001b[0;31mKeyboardInterrupt\u001b[0m                         Traceback (most recent call last)",
      "\u001b[0;32m<ipython-input-14-a382bfed68eb>\u001b[0m in \u001b[0;36m<module>\u001b[0;34m\u001b[0m\n\u001b[0;32m----> 1\u001b[0;31m \u001b[0mhyperparameter_tuner\u001b[0m\u001b[0;34m(\u001b[0m\u001b[0mpaymaya_good_corpus_as\u001b[0m\u001b[0;34m,\u001b[0m \u001b[0mpaymaya_good_dict_as\u001b[0m\u001b[0;34m,\u001b[0m \u001b[0mpaymaya_good_as\u001b[0m\u001b[0;34m,\u001b[0m \u001b[0;34m'paymaya_good_as'\u001b[0m\u001b[0;34m)\u001b[0m\u001b[0;34m\u001b[0m\u001b[0;34m\u001b[0m\u001b[0m\n\u001b[0m",
      "\u001b[0;32m<ipython-input-9-49b7c61167af>\u001b[0m in \u001b[0;36mhyperparameter_tuner\u001b[0;34m(corpus, dictionary, data, temp)\u001b[0m\n\u001b[1;32m     42\u001b[0m                     \u001b[0;32mfor\u001b[0m \u001b[0mb\u001b[0m \u001b[0;32min\u001b[0m \u001b[0mbeta\u001b[0m\u001b[0;34m:\u001b[0m\u001b[0;34m\u001b[0m\u001b[0;34m\u001b[0m\u001b[0m\n\u001b[1;32m     43\u001b[0m                         \u001b[0;31m# get the coherence score for the given parameters\u001b[0m\u001b[0;34m\u001b[0m\u001b[0;34m\u001b[0m\u001b[0;34m\u001b[0m\u001b[0m\n\u001b[0;32m---> 44\u001b[0;31m                         cv = compute_coherence_values(corpus_sets[i], \n\u001b[0m\u001b[1;32m     45\u001b[0m                                                       \u001b[0mdictionary\u001b[0m\u001b[0;34m,\u001b[0m\u001b[0;34m\u001b[0m\u001b[0;34m\u001b[0m\u001b[0m\n\u001b[1;32m     46\u001b[0m                                                       \u001b[0mdata\u001b[0m\u001b[0;34m,\u001b[0m\u001b[0;34m\u001b[0m\u001b[0;34m\u001b[0m\u001b[0m\n",
      "\u001b[0;32m<ipython-input-8-9ee52675a7a8>\u001b[0m in \u001b[0;36mcompute_coherence_values\u001b[0;34m(corpus, dictionary, data, k, a, b)\u001b[0m\n\u001b[1;32m     13\u001b[0m     \u001b[0mcoherence_model_lda\u001b[0m \u001b[0;34m=\u001b[0m \u001b[0mCoherenceModel\u001b[0m\u001b[0;34m(\u001b[0m\u001b[0mmodel\u001b[0m\u001b[0;34m=\u001b[0m\u001b[0mlda_model\u001b[0m\u001b[0;34m,\u001b[0m \u001b[0mtexts\u001b[0m\u001b[0;34m=\u001b[0m\u001b[0mdata\u001b[0m\u001b[0;34m,\u001b[0m \u001b[0mdictionary\u001b[0m\u001b[0;34m=\u001b[0m\u001b[0mdictionary\u001b[0m\u001b[0;34m,\u001b[0m \u001b[0mcoherence\u001b[0m\u001b[0;34m=\u001b[0m\u001b[0;34m'c_v'\u001b[0m\u001b[0;34m)\u001b[0m\u001b[0;34m\u001b[0m\u001b[0;34m\u001b[0m\u001b[0m\n\u001b[1;32m     14\u001b[0m \u001b[0;34m\u001b[0m\u001b[0m\n\u001b[0;32m---> 15\u001b[0;31m     \u001b[0;32mreturn\u001b[0m \u001b[0mcoherence_model_lda\u001b[0m\u001b[0;34m.\u001b[0m\u001b[0mget_coherence\u001b[0m\u001b[0;34m(\u001b[0m\u001b[0;34m)\u001b[0m\u001b[0;34m\u001b[0m\u001b[0;34m\u001b[0m\u001b[0m\n\u001b[0m",
      "\u001b[0;32m~/.pyenv/versions/3.9.1/lib/python3.9/site-packages/gensim/models/coherencemodel.py\u001b[0m in \u001b[0;36mget_coherence\u001b[0;34m(self)\u001b[0m\n\u001b[1;32m    610\u001b[0m \u001b[0;34m\u001b[0m\u001b[0m\n\u001b[1;32m    611\u001b[0m         \"\"\"\n\u001b[0;32m--> 612\u001b[0;31m         \u001b[0mconfirmed_measures\u001b[0m \u001b[0;34m=\u001b[0m \u001b[0mself\u001b[0m\u001b[0;34m.\u001b[0m\u001b[0mget_coherence_per_topic\u001b[0m\u001b[0;34m(\u001b[0m\u001b[0;34m)\u001b[0m\u001b[0;34m\u001b[0m\u001b[0;34m\u001b[0m\u001b[0m\n\u001b[0m\u001b[1;32m    613\u001b[0m         \u001b[0;32mreturn\u001b[0m \u001b[0mself\u001b[0m\u001b[0;34m.\u001b[0m\u001b[0maggregate_measures\u001b[0m\u001b[0;34m(\u001b[0m\u001b[0mconfirmed_measures\u001b[0m\u001b[0;34m)\u001b[0m\u001b[0;34m\u001b[0m\u001b[0;34m\u001b[0m\u001b[0m\n\u001b[1;32m    614\u001b[0m \u001b[0;34m\u001b[0m\u001b[0m\n",
      "\u001b[0;32m~/.pyenv/versions/3.9.1/lib/python3.9/site-packages/gensim/models/coherencemodel.py\u001b[0m in \u001b[0;36mget_coherence_per_topic\u001b[0;34m(self, segmented_topics, with_std, with_support)\u001b[0m\n\u001b[1;32m    570\u001b[0m             \u001b[0msegmented_topics\u001b[0m \u001b[0;34m=\u001b[0m \u001b[0mmeasure\u001b[0m\u001b[0;34m.\u001b[0m\u001b[0mseg\u001b[0m\u001b[0;34m(\u001b[0m\u001b[0mself\u001b[0m\u001b[0;34m.\u001b[0m\u001b[0mtopics\u001b[0m\u001b[0;34m)\u001b[0m\u001b[0;34m\u001b[0m\u001b[0;34m\u001b[0m\u001b[0m\n\u001b[1;32m    571\u001b[0m         \u001b[0;32mif\u001b[0m \u001b[0mself\u001b[0m\u001b[0;34m.\u001b[0m\u001b[0m_accumulator\u001b[0m \u001b[0;32mis\u001b[0m \u001b[0;32mNone\u001b[0m\u001b[0;34m:\u001b[0m\u001b[0;34m\u001b[0m\u001b[0;34m\u001b[0m\u001b[0m\n\u001b[0;32m--> 572\u001b[0;31m             \u001b[0mself\u001b[0m\u001b[0;34m.\u001b[0m\u001b[0mestimate_probabilities\u001b[0m\u001b[0;34m(\u001b[0m\u001b[0msegmented_topics\u001b[0m\u001b[0;34m)\u001b[0m\u001b[0;34m\u001b[0m\u001b[0;34m\u001b[0m\u001b[0m\n\u001b[0m\u001b[1;32m    573\u001b[0m \u001b[0;34m\u001b[0m\u001b[0m\n\u001b[1;32m    574\u001b[0m         \u001b[0mkwargs\u001b[0m \u001b[0;34m=\u001b[0m \u001b[0mdict\u001b[0m\u001b[0;34m(\u001b[0m\u001b[0mwith_std\u001b[0m\u001b[0;34m=\u001b[0m\u001b[0mwith_std\u001b[0m\u001b[0;34m,\u001b[0m \u001b[0mwith_support\u001b[0m\u001b[0;34m=\u001b[0m\u001b[0mwith_support\u001b[0m\u001b[0;34m)\u001b[0m\u001b[0;34m\u001b[0m\u001b[0;34m\u001b[0m\u001b[0m\n",
      "\u001b[0;32m~/.pyenv/versions/3.9.1/lib/python3.9/site-packages/gensim/models/coherencemodel.py\u001b[0m in \u001b[0;36mestimate_probabilities\u001b[0;34m(self, segmented_topics)\u001b[0m\n\u001b[1;32m    542\u001b[0m                 \u001b[0mkwargs\u001b[0m\u001b[0;34m[\u001b[0m\u001b[0;34m'model'\u001b[0m\u001b[0;34m]\u001b[0m \u001b[0;34m=\u001b[0m \u001b[0mself\u001b[0m\u001b[0;34m.\u001b[0m\u001b[0mkeyed_vectors\u001b[0m\u001b[0;34m\u001b[0m\u001b[0;34m\u001b[0m\u001b[0m\n\u001b[1;32m    543\u001b[0m \u001b[0;34m\u001b[0m\u001b[0m\n\u001b[0;32m--> 544\u001b[0;31m             \u001b[0mself\u001b[0m\u001b[0;34m.\u001b[0m\u001b[0m_accumulator\u001b[0m \u001b[0;34m=\u001b[0m \u001b[0mself\u001b[0m\u001b[0;34m.\u001b[0m\u001b[0mmeasure\u001b[0m\u001b[0;34m.\u001b[0m\u001b[0mprob\u001b[0m\u001b[0;34m(\u001b[0m\u001b[0;34m**\u001b[0m\u001b[0mkwargs\u001b[0m\u001b[0;34m)\u001b[0m\u001b[0;34m\u001b[0m\u001b[0;34m\u001b[0m\u001b[0m\n\u001b[0m\u001b[1;32m    545\u001b[0m \u001b[0;34m\u001b[0m\u001b[0m\n\u001b[1;32m    546\u001b[0m         \u001b[0;32mreturn\u001b[0m \u001b[0mself\u001b[0m\u001b[0;34m.\u001b[0m\u001b[0m_accumulator\u001b[0m\u001b[0;34m\u001b[0m\u001b[0;34m\u001b[0m\u001b[0m\n",
      "\u001b[0;32m~/.pyenv/versions/3.9.1/lib/python3.9/site-packages/gensim/topic_coherence/probability_estimation.py\u001b[0m in \u001b[0;36mp_boolean_sliding_window\u001b[0;34m(texts, segmented_topics, dictionary, window_size, processes)\u001b[0m\n\u001b[1;32m    154\u001b[0m         \u001b[0maccumulator\u001b[0m \u001b[0;34m=\u001b[0m \u001b[0mParallelWordOccurrenceAccumulator\u001b[0m\u001b[0;34m(\u001b[0m\u001b[0mprocesses\u001b[0m\u001b[0;34m,\u001b[0m \u001b[0mtop_ids\u001b[0m\u001b[0;34m,\u001b[0m \u001b[0mdictionary\u001b[0m\u001b[0;34m)\u001b[0m\u001b[0;34m\u001b[0m\u001b[0;34m\u001b[0m\u001b[0m\n\u001b[1;32m    155\u001b[0m     \u001b[0mlogger\u001b[0m\u001b[0;34m.\u001b[0m\u001b[0minfo\u001b[0m\u001b[0;34m(\u001b[0m\u001b[0;34m\"using %s to estimate probabilities from sliding windows\"\u001b[0m\u001b[0;34m,\u001b[0m \u001b[0maccumulator\u001b[0m\u001b[0;34m)\u001b[0m\u001b[0;34m\u001b[0m\u001b[0;34m\u001b[0m\u001b[0m\n\u001b[0;32m--> 156\u001b[0;31m     \u001b[0;32mreturn\u001b[0m \u001b[0maccumulator\u001b[0m\u001b[0;34m.\u001b[0m\u001b[0maccumulate\u001b[0m\u001b[0;34m(\u001b[0m\u001b[0mtexts\u001b[0m\u001b[0;34m,\u001b[0m \u001b[0mwindow_size\u001b[0m\u001b[0;34m)\u001b[0m\u001b[0;34m\u001b[0m\u001b[0;34m\u001b[0m\u001b[0m\n\u001b[0m\u001b[1;32m    157\u001b[0m \u001b[0;34m\u001b[0m\u001b[0m\n\u001b[1;32m    158\u001b[0m \u001b[0;34m\u001b[0m\u001b[0m\n",
      "\u001b[0;32m~/.pyenv/versions/3.9.1/lib/python3.9/site-packages/gensim/topic_coherence/text_analysis.py\u001b[0m in \u001b[0;36maccumulate\u001b[0;34m(self, texts, window_size)\u001b[0m\n\u001b[1;32m    449\u001b[0m             \u001b[0minterrupted\u001b[0m \u001b[0;34m=\u001b[0m \u001b[0;32mTrue\u001b[0m\u001b[0;34m\u001b[0m\u001b[0;34m\u001b[0m\u001b[0m\n\u001b[1;32m    450\u001b[0m \u001b[0;34m\u001b[0m\u001b[0m\n\u001b[0;32m--> 451\u001b[0;31m         \u001b[0maccumulators\u001b[0m \u001b[0;34m=\u001b[0m \u001b[0mself\u001b[0m\u001b[0;34m.\u001b[0m\u001b[0mterminate_workers\u001b[0m\u001b[0;34m(\u001b[0m\u001b[0minput_q\u001b[0m\u001b[0;34m,\u001b[0m \u001b[0moutput_q\u001b[0m\u001b[0;34m,\u001b[0m \u001b[0mworkers\u001b[0m\u001b[0;34m,\u001b[0m \u001b[0minterrupted\u001b[0m\u001b[0;34m)\u001b[0m\u001b[0;34m\u001b[0m\u001b[0;34m\u001b[0m\u001b[0m\n\u001b[0m\u001b[1;32m    452\u001b[0m         \u001b[0;32mreturn\u001b[0m \u001b[0mself\u001b[0m\u001b[0;34m.\u001b[0m\u001b[0mmerge_accumulators\u001b[0m\u001b[0;34m(\u001b[0m\u001b[0maccumulators\u001b[0m\u001b[0;34m)\u001b[0m\u001b[0;34m\u001b[0m\u001b[0;34m\u001b[0m\u001b[0m\n\u001b[1;32m    453\u001b[0m \u001b[0;34m\u001b[0m\u001b[0m\n",
      "\u001b[0;32m~/.pyenv/versions/3.9.1/lib/python3.9/site-packages/gensim/topic_coherence/text_analysis.py\u001b[0m in \u001b[0;36mterminate_workers\u001b[0;34m(self, input_q, output_q, workers, interrupted)\u001b[0m\n\u001b[1;32m    522\u001b[0m         \u001b[0;32mif\u001b[0m \u001b[0;32mnot\u001b[0m \u001b[0minterrupted\u001b[0m\u001b[0;34m:\u001b[0m\u001b[0;34m\u001b[0m\u001b[0;34m\u001b[0m\u001b[0m\n\u001b[1;32m    523\u001b[0m             \u001b[0;32mfor\u001b[0m \u001b[0m_\u001b[0m \u001b[0;32min\u001b[0m \u001b[0mworkers\u001b[0m\u001b[0;34m:\u001b[0m\u001b[0;34m\u001b[0m\u001b[0;34m\u001b[0m\u001b[0m\n\u001b[0;32m--> 524\u001b[0;31m                 \u001b[0minput_q\u001b[0m\u001b[0;34m.\u001b[0m\u001b[0mput\u001b[0m\u001b[0;34m(\u001b[0m\u001b[0;32mNone\u001b[0m\u001b[0;34m,\u001b[0m \u001b[0mblock\u001b[0m\u001b[0;34m=\u001b[0m\u001b[0;32mTrue\u001b[0m\u001b[0;34m)\u001b[0m\u001b[0;34m\u001b[0m\u001b[0;34m\u001b[0m\u001b[0m\n\u001b[0m\u001b[1;32m    525\u001b[0m \u001b[0;34m\u001b[0m\u001b[0m\n\u001b[1;32m    526\u001b[0m         \u001b[0maccumulators\u001b[0m \u001b[0;34m=\u001b[0m \u001b[0;34m[\u001b[0m\u001b[0;34m]\u001b[0m\u001b[0;34m\u001b[0m\u001b[0;34m\u001b[0m\u001b[0m\n",
      "\u001b[0;32m~/.pyenv/versions/3.9.1/lib/python3.9/multiprocessing/queues.py\u001b[0m in \u001b[0;36mput\u001b[0;34m(self, obj, block, timeout)\u001b[0m\n\u001b[1;32m     87\u001b[0m         \u001b[0;32mif\u001b[0m \u001b[0mself\u001b[0m\u001b[0;34m.\u001b[0m\u001b[0m_closed\u001b[0m\u001b[0;34m:\u001b[0m\u001b[0;34m\u001b[0m\u001b[0;34m\u001b[0m\u001b[0m\n\u001b[1;32m     88\u001b[0m             \u001b[0;32mraise\u001b[0m \u001b[0mValueError\u001b[0m\u001b[0;34m(\u001b[0m\u001b[0;34mf\"Queue {self!r} is closed\"\u001b[0m\u001b[0;34m)\u001b[0m\u001b[0;34m\u001b[0m\u001b[0;34m\u001b[0m\u001b[0m\n\u001b[0;32m---> 89\u001b[0;31m         \u001b[0;32mif\u001b[0m \u001b[0;32mnot\u001b[0m \u001b[0mself\u001b[0m\u001b[0;34m.\u001b[0m\u001b[0m_sem\u001b[0m\u001b[0;34m.\u001b[0m\u001b[0macquire\u001b[0m\u001b[0;34m(\u001b[0m\u001b[0mblock\u001b[0m\u001b[0;34m,\u001b[0m \u001b[0mtimeout\u001b[0m\u001b[0;34m)\u001b[0m\u001b[0;34m:\u001b[0m\u001b[0;34m\u001b[0m\u001b[0;34m\u001b[0m\u001b[0m\n\u001b[0m\u001b[1;32m     90\u001b[0m             \u001b[0;32mraise\u001b[0m \u001b[0mFull\u001b[0m\u001b[0;34m\u001b[0m\u001b[0;34m\u001b[0m\u001b[0m\n\u001b[1;32m     91\u001b[0m \u001b[0;34m\u001b[0m\u001b[0m\n",
      "\u001b[0;31mKeyboardInterrupt\u001b[0m: "
     ]
    }
   ],
   "source": [
    "hyperparameter_tuner(paymaya_good_corpus_as, paymaya_good_dict_as, paymaya_good_as, 'paymaya_good_as')"
   ]
  },
  {
   "cell_type": "code",
   "execution_count": null,
   "id": "recent-township",
   "metadata": {},
   "outputs": [],
   "source": [
    "hyperparameter_tuner(paymaya_bad_corpus_as, paymaya_bad_dict_as, paymaya_bad_as, 'paymaya_bad_as')"
   ]
  },
  {
   "cell_type": "code",
   "execution_count": null,
   "id": "ranging-tulsa",
   "metadata": {},
   "outputs": [],
   "source": [
    "hyperparameter_tuner(paymaya_good_corpus_ps, paymaya_good_dict_ps, paymaya_good_ps, 'paymaya_good_ps')"
   ]
  },
  {
   "cell_type": "code",
   "execution_count": null,
   "id": "nervous-pricing",
   "metadata": {},
   "outputs": [],
   "source": [
    "hyperparameter_tuner(paymaya_bad_corpus_ps, paymaya_bad_dict_ps, paymaya_bad_ps, 'paymaya_bad_ps')"
   ]
  },
  {
   "cell_type": "markdown",
   "id": "convertible-toronto",
   "metadata": {},
   "source": [
    "#### D. Final Models"
   ]
  },
  {
   "cell_type": "code",
   "execution_count": 15,
   "id": "smooth-survival",
   "metadata": {},
   "outputs": [],
   "source": [
    "def build_final_model(df, corpus, dictionary):\n",
    "    df1 = df.iloc[df['Coherence'].idxmax]\n",
    "    alpha = df1.Alpha\n",
    "    beta = df1.Beta\n",
    "    topics = df1.Topics\n",
    "    \n",
    "    if (alpha != 'symmetric') and (alpha != \"asymmetric\"):\n",
    "        alpha = float(alpha)\n",
    "        \n",
    "    if (beta != 'symmetric'):\n",
    "        beta = float(beta)\n",
    "    \n",
    "    lda_model = gensim.models.LdaMulticore(corpus=corpus,\n",
    "                                           id2word=dictionary,\n",
    "                                           num_topics=topics, \n",
    "                                           random_state=100,\n",
    "                                           chunksize=100,\n",
    "                                           passes=10,\n",
    "                                           alpha=alpha,\n",
    "                                           eta=beta)\n",
    "    \n",
    "    return lda_model"
   ]
  },
  {
   "cell_type": "code",
   "execution_count": 16,
   "id": "strong-broadcast",
   "metadata": {},
   "outputs": [],
   "source": [
    "df_gcash_good_as = pd.read_csv('Results/gcash_good_as.csv')\n",
    "df_gcash_bad_as = pd.read_csv('Results/gcash_bad_as.csv')\n",
    "df_gcash_good_ps = pd.read_csv('Results/gcash_good_ps.csv')\n",
    "df_gcash_bad_ps = pd.read_csv('Results/gcash_bad_ps.csv')"
   ]
  },
  {
   "cell_type": "code",
   "execution_count": 576,
   "id": "divine-burlington",
   "metadata": {},
   "outputs": [],
   "source": [
    "df_paymaya_good_as = pd.read_csv('Results/paymaya_good_as.csv')\n",
    "df_paymaya_bad_as = pd.read_csv('Results/paymaya_bad_as.csv')\n",
    "df_paymaya_good_ps = pd.read_csv('Results/paymaya_good_ps.csv')\n",
    "df_paymaya_bad_ps = pd.read_csv('Results/paymaya_bad_ps.csv')"
   ]
  },
  {
   "cell_type": "code",
   "execution_count": 17,
   "id": "joined-communication",
   "metadata": {},
   "outputs": [],
   "source": [
    "gcash_good_as_final = build_final_model(df_gcash_good_as, gcash_good_corpus_as, gcash_good_dict_as)\n",
    "gcash_bad_as_final = build_final_model(df_gcash_bad_as, gcash_bad_corpus_as, gcash_bad_dict_as)\n",
    "gcash_good_ps_final = build_final_model(df_gcash_good_ps, gcash_good_corpus_ps, gcash_good_dict_ps)\n",
    "gcash_bad_ps_final = build_final_model(df_gcash_bad_ps, gcash_bad_corpus_ps, gcash_bad_dict_ps)"
   ]
  },
  {
   "cell_type": "code",
   "execution_count": 578,
   "id": "social-custom",
   "metadata": {},
   "outputs": [],
   "source": [
    "paymaya_good_as_final = build_final_model(df_paymaya_good_as, paymaya_good_corpus_as, paymaya_good_dict_as)\n",
    "paymaya_bad_as_final = build_final_model(df_paymaya_bad_as, paymaya_bad_corpus_as, paymaya_bad_dict_as)\n",
    "paymaya_good_ps_final = build_final_model(df_paymaya_good_ps, paymaya_good_corpus_ps, paymaya_good_dict_ps)\n",
    "paymaya_bad_ps_final = build_final_model(df_paymaya_bad_ps, paymaya_bad_corpus_ps, paymaya_bad_dict_ps)"
   ]
  },
  {
   "cell_type": "markdown",
   "id": "imported-berlin",
   "metadata": {},
   "source": [
    "### III. Topic Visualization \n",
    "---"
   ]
  },
  {
   "cell_type": "code",
   "execution_count": 18,
   "id": "administrative-sellers",
   "metadata": {},
   "outputs": [
    {
     "name": "stdout",
     "output_type": "stream",
     "text": [
      "[(0, '0.156*\"money\" + 0.097*\"pay\" + 0.080*\"bills\" + 0.078*\"transactions\" + 0.068*\"bank\" + 0.068*\"cash\" + 0.061*\"online\" + 0.060*\"transfer\" + 0.060*\"use\" + 0.049*\"hope\"'), (1, '0.149*\"good\" + 0.143*\"love\" + 0.125*\"convenient\" + 0.095*\"use\" + 0.078*\"need\" + 0.074*\"great\" + 0.060*\"transaction\" + 0.059*\"time\" + 0.049*\"useful\" + 0.049*\"easy\"')]\n"
     ]
    },
    {
     "data": {
      "text/html": [
       "\n",
       "<link rel=\"stylesheet\" type=\"text/css\" href=\"https://cdn.jsdelivr.net/gh/bmabey/pyLDAvis@3.3.1/pyLDAvis/js/ldavis.v1.0.0.css\">\n",
       "\n",
       "\n",
       "<div id=\"ldavis_el101358460463043926386430\"></div>\n",
       "<script type=\"text/javascript\">\n",
       "\n",
       "var ldavis_el101358460463043926386430_data = {\"mdsDat\": {\"x\": [0.12271828757419179, -0.12271828757419179], \"y\": [0.0, 0.0], \"topics\": [1, 2], \"cluster\": [1, 1], \"Freq\": [57.201171423481334, 42.79882857651867]}, \"tinfo\": {\"Term\": [\"good\", \"love\", \"money\", \"pay\", \"bills\", \"need\", \"convenient\", \"online\", \"transfer\", \"great\", \"transaction\", \"cash\", \"transactions\", \"use\", \"time\", \"useful\", \"bank\", \"easy\", \"hope\", \"pay\", \"bills\", \"online\", \"transfer\", \"money\", \"cash\", \"transactions\", \"bank\", \"hope\", \"easy\", \"use\", \"useful\", \"time\", \"convenient\", \"transaction\", \"great\", \"need\", \"love\", \"good\", \"good\", \"love\", \"need\", \"great\", \"transaction\", \"convenient\", \"time\", \"useful\", \"use\", \"easy\", \"hope\", \"bank\", \"transactions\", \"cash\", \"money\", \"transfer\", \"online\", \"bills\", \"pay\"], \"Freq\": [31.0, 31.0, 42.0, 25.0, 21.0, 19.0, 36.0, 16.0, 16.0, 19.0, 16.0, 20.0, 24.0, 33.0, 19.0, 16.0, 23.0, 19.0, 18.0, 24.808832174052593, 20.454219724924425, 15.675275086202184, 15.463586902229933, 40.09206634260553, 17.451973399072756, 20.07603200213411, 17.571342989306228, 12.621826762776383, 9.774213052900361, 15.461905842531946, 6.688559089199046, 7.6915169064101025, 12.58779606764947, 4.520203048439637, 4.855796909172483, 4.045561057155538, 4.049949321415536, 2.9425708593246025, 28.603187036691843, 27.513264492362392, 14.96418195182681, 14.166716587815857, 11.600078211696196, 23.938284184871733, 11.375713808107768, 9.46591537415145, 18.21256061550187, 9.325859790297459, 5.557500378059892, 5.514273942570254, 4.014729513068304, 2.734821299355334, 2.661638280095575, 0.8292749055910441, 0.6209303947428492, 0.7455789659474217, 0.3222309917736096], \"Total\": [31.0, 31.0, 42.0, 25.0, 21.0, 19.0, 36.0, 16.0, 16.0, 19.0, 16.0, 20.0, 24.0, 33.0, 19.0, 16.0, 23.0, 19.0, 18.0, 25.131063165826202, 21.199798690871845, 16.296205480945034, 16.292861807820977, 42.7537046227011, 20.18679469842809, 24.090761515202413, 23.08561693187648, 18.179327140836275, 19.10007284319782, 33.67446645803382, 16.154474463350496, 19.06723071451787, 36.526080252521204, 16.120281260135833, 19.02251349698834, 19.009743008982348, 31.563213813777928, 31.545757896016447, 31.545757896016447, 31.563213813777928, 19.009743008982348, 19.02251349698834, 16.120281260135833, 36.526080252521204, 19.06723071451787, 16.154474463350496, 33.67446645803382, 19.10007284319782, 18.179327140836275, 23.08561693187648, 24.090761515202413, 20.18679469842809, 42.7537046227011, 16.292861807820977, 16.296205480945034, 21.199798690871845, 25.131063165826202], \"Category\": [\"Default\", \"Default\", \"Default\", \"Default\", \"Default\", \"Default\", \"Default\", \"Default\", \"Default\", \"Default\", \"Default\", \"Default\", \"Default\", \"Default\", \"Default\", \"Default\", \"Default\", \"Default\", \"Default\", \"Topic1\", \"Topic1\", \"Topic1\", \"Topic1\", \"Topic1\", \"Topic1\", \"Topic1\", \"Topic1\", \"Topic1\", \"Topic1\", \"Topic1\", \"Topic1\", \"Topic1\", \"Topic1\", \"Topic1\", \"Topic1\", \"Topic1\", \"Topic1\", \"Topic1\", \"Topic2\", \"Topic2\", \"Topic2\", \"Topic2\", \"Topic2\", \"Topic2\", \"Topic2\", \"Topic2\", \"Topic2\", \"Topic2\", \"Topic2\", \"Topic2\", \"Topic2\", \"Topic2\", \"Topic2\", \"Topic2\", \"Topic2\", \"Topic2\", \"Topic2\"], \"logprob\": [19.0, 18.0, 17.0, 16.0, 15.0, 14.0, 13.0, 12.0, 11.0, 10.0, 9.0, 8.0, 7.0, 6.0, 5.0, 4.0, 3.0, 2.0, 1.0, -2.3372, -2.5302, -2.7963, -2.8099, -1.8572, -2.689, -2.5489, -2.6822, -3.013, -3.2687, -2.81, -3.648, -3.5083, -3.0157, -4.0399, -3.9683, -4.1508, -4.1497, -4.4691, -1.9048, -1.9437, -2.5527, -2.6075, -2.8074, -2.0829, -2.8269, -3.0107, -2.3563, -3.0256, -3.5432, -3.551, -3.8684, -4.2523, -4.2794, -5.4456, -5.7349, -5.552, -6.3909], \"loglift\": [19.0, 18.0, 17.0, 16.0, 15.0, 14.0, 13.0, 12.0, 11.0, 10.0, 9.0, 8.0, 7.0, 6.0, 5.0, 4.0, 3.0, 2.0, 1.0, 0.5457, 0.5228, 0.5197, 0.5064, 0.4943, 0.413, 0.3763, 0.2857, 0.1937, -0.1113, -0.2198, -0.3232, -0.3493, -0.5067, -0.7129, -0.8069, -0.9887, -1.4947, -1.8136, 0.7507, 0.7113, 0.6094, 0.5539, 0.5196, 0.4261, 0.3322, 0.3142, 0.234, 0.1318, -0.3365, -0.5832, -0.9432, -1.1503, -1.9279, -2.1293, -2.4188, -2.4989, -3.5079]}, \"token.table\": {\"Topic\": [1, 2, 1, 2, 1, 2, 1, 2, 1, 2, 1, 2, 1, 2, 1, 2, 1, 2, 1, 2, 1, 2, 1, 2, 1, 1, 2, 1, 2, 1, 2, 1, 2, 1, 2, 1, 2], \"Freq\": [0.7797062583649523, 0.2599020861216508, 0.9434051847205299, 0.047170259236026496, 0.8421346852714443, 0.14861200328319604, 0.3559100760367704, 0.6570647557601915, 0.5235582126882483, 0.47120239141942344, 0.09509995004364234, 0.9192995170885426, 0.26284644249518363, 0.7359700389865143, 0.7150979736097087, 0.33004521858909636, 0.12672980716095286, 0.88710865012667, 0.9355914382858193, 0.07016935787143644, 0.21041841534154085, 0.7890690575307782, 0.9818236532859516, 0.06136397833037197, 0.9947848141178355, 0.41956800752973356, 0.5769060103533836, 0.31016828548547726, 0.7444038851651454, 0.8301937648330067, 0.16603875296660134, 0.920648574629144, 0.061376571641942934, 0.4454413559512063, 0.5345296271414476, 0.4333164793370923, 0.5571211877191187], \"Term\": [\"bank\", \"bank\", \"bills\", \"bills\", \"cash\", \"cash\", \"convenient\", \"convenient\", \"easy\", \"easy\", \"good\", \"good\", \"great\", \"great\", \"hope\", \"hope\", \"love\", \"love\", \"money\", \"money\", \"need\", \"need\", \"online\", \"online\", \"pay\", \"time\", \"time\", \"transaction\", \"transaction\", \"transactions\", \"transactions\", \"transfer\", \"transfer\", \"use\", \"use\", \"useful\", \"useful\"]}, \"R\": 19, \"lambda.step\": 0.01, \"plot.opts\": {\"xlab\": \"PC1\", \"ylab\": \"PC2\"}, \"topic.order\": [1, 2]};\n",
       "\n",
       "function LDAvis_load_lib(url, callback){\n",
       "  var s = document.createElement('script');\n",
       "  s.src = url;\n",
       "  s.async = true;\n",
       "  s.onreadystatechange = s.onload = callback;\n",
       "  s.onerror = function(){console.warn(\"failed to load library \" + url);};\n",
       "  document.getElementsByTagName(\"head\")[0].appendChild(s);\n",
       "}\n",
       "\n",
       "if(typeof(LDAvis) !== \"undefined\"){\n",
       "   // already loaded: just create the visualization\n",
       "   !function(LDAvis){\n",
       "       new LDAvis(\"#\" + \"ldavis_el101358460463043926386430\", ldavis_el101358460463043926386430_data);\n",
       "   }(LDAvis);\n",
       "}else if(typeof define === \"function\" && define.amd){\n",
       "   // require.js is available: use it to load d3/LDAvis\n",
       "   require.config({paths: {d3: \"https://d3js.org/d3.v5\"}});\n",
       "   require([\"d3\"], function(d3){\n",
       "      window.d3 = d3;\n",
       "      LDAvis_load_lib(\"https://cdn.jsdelivr.net/gh/bmabey/pyLDAvis@3.3.1/pyLDAvis/js/ldavis.v3.0.0.js\", function(){\n",
       "        new LDAvis(\"#\" + \"ldavis_el101358460463043926386430\", ldavis_el101358460463043926386430_data);\n",
       "      });\n",
       "    });\n",
       "}else{\n",
       "    // require.js not available: dynamically load d3 & LDAvis\n",
       "    LDAvis_load_lib(\"https://d3js.org/d3.v5.js\", function(){\n",
       "         LDAvis_load_lib(\"https://cdn.jsdelivr.net/gh/bmabey/pyLDAvis@3.3.1/pyLDAvis/js/ldavis.v3.0.0.js\", function(){\n",
       "                 new LDAvis(\"#\" + \"ldavis_el101358460463043926386430\", ldavis_el101358460463043926386430_data);\n",
       "            })\n",
       "         });\n",
       "}\n",
       "</script>"
      ],
      "text/plain": [
       "PreparedData(topic_coordinates=              x    y  topics  cluster       Freq\n",
       "topic                                           \n",
       "0      0.122718  0.0       1        1  57.201171\n",
       "1     -0.122718  0.0       2        1  42.798829, topic_info=            Term       Freq      Total Category  logprob  loglift\n",
       "1           good  31.000000  31.000000  Default  19.0000  19.0000\n",
       "8           love  31.000000  31.000000  Default  18.0000  18.0000\n",
       "4          money  42.000000  42.000000  Default  17.0000  17.0000\n",
       "12           pay  25.000000  25.000000  Default  16.0000  16.0000\n",
       "3          bills  21.000000  21.000000  Default  15.0000  15.0000\n",
       "7           need  19.000000  19.000000  Default  14.0000  14.0000\n",
       "0     convenient  36.000000  36.000000  Default  13.0000  13.0000\n",
       "11        online  16.000000  16.000000  Default  12.0000  12.0000\n",
       "13      transfer  16.000000  16.000000  Default  11.0000  11.0000\n",
       "15         great  19.000000  19.000000  Default  10.0000  10.0000\n",
       "18   transaction  16.000000  16.000000  Default   9.0000   9.0000\n",
       "16          cash  20.000000  20.000000  Default   8.0000   8.0000\n",
       "9   transactions  24.000000  24.000000  Default   7.0000   7.0000\n",
       "6            use  33.000000  33.000000  Default   6.0000   6.0000\n",
       "5           time  19.000000  19.000000  Default   5.0000   5.0000\n",
       "17        useful  16.000000  16.000000  Default   4.0000   4.0000\n",
       "10          bank  23.000000  23.000000  Default   3.0000   3.0000\n",
       "14          easy  19.000000  19.000000  Default   2.0000   2.0000\n",
       "2           hope  18.000000  18.000000  Default   1.0000   1.0000\n",
       "12           pay  24.808832  25.131063   Topic1  -2.3372   0.5457\n",
       "3          bills  20.454220  21.199799   Topic1  -2.5302   0.5228\n",
       "11        online  15.675275  16.296205   Topic1  -2.7963   0.5197\n",
       "13      transfer  15.463587  16.292862   Topic1  -2.8099   0.5064\n",
       "4          money  40.092066  42.753705   Topic1  -1.8572   0.4943\n",
       "16          cash  17.451973  20.186795   Topic1  -2.6890   0.4130\n",
       "9   transactions  20.076032  24.090762   Topic1  -2.5489   0.3763\n",
       "10          bank  17.571343  23.085617   Topic1  -2.6822   0.2857\n",
       "2           hope  12.621827  18.179327   Topic1  -3.0130   0.1937\n",
       "14          easy   9.774213  19.100073   Topic1  -3.2687  -0.1113\n",
       "6            use  15.461906  33.674466   Topic1  -2.8100  -0.2198\n",
       "17        useful   6.688559  16.154474   Topic1  -3.6480  -0.3232\n",
       "5           time   7.691517  19.067231   Topic1  -3.5083  -0.3493\n",
       "0     convenient  12.587796  36.526080   Topic1  -3.0157  -0.5067\n",
       "18   transaction   4.520203  16.120281   Topic1  -4.0399  -0.7129\n",
       "15         great   4.855797  19.022513   Topic1  -3.9683  -0.8069\n",
       "7           need   4.045561  19.009743   Topic1  -4.1508  -0.9887\n",
       "8           love   4.049949  31.563214   Topic1  -4.1497  -1.4947\n",
       "1           good   2.942571  31.545758   Topic1  -4.4691  -1.8136\n",
       "1           good  28.603187  31.545758   Topic2  -1.9048   0.7507\n",
       "8           love  27.513264  31.563214   Topic2  -1.9437   0.7113\n",
       "7           need  14.964182  19.009743   Topic2  -2.5527   0.6094\n",
       "15         great  14.166717  19.022513   Topic2  -2.6075   0.5539\n",
       "18   transaction  11.600078  16.120281   Topic2  -2.8074   0.5196\n",
       "0     convenient  23.938284  36.526080   Topic2  -2.0829   0.4261\n",
       "5           time  11.375714  19.067231   Topic2  -2.8269   0.3322\n",
       "17        useful   9.465915  16.154474   Topic2  -3.0107   0.3142\n",
       "6            use  18.212561  33.674466   Topic2  -2.3563   0.2340\n",
       "14          easy   9.325860  19.100073   Topic2  -3.0256   0.1318\n",
       "2           hope   5.557500  18.179327   Topic2  -3.5432  -0.3365\n",
       "10          bank   5.514274  23.085617   Topic2  -3.5510  -0.5832\n",
       "9   transactions   4.014730  24.090762   Topic2  -3.8684  -0.9432\n",
       "16          cash   2.734821  20.186795   Topic2  -4.2523  -1.1503\n",
       "4          money   2.661638  42.753705   Topic2  -4.2794  -1.9279\n",
       "13      transfer   0.829275  16.292862   Topic2  -5.4456  -2.1293\n",
       "11        online   0.620930  16.296205   Topic2  -5.7349  -2.4188\n",
       "3          bills   0.745579  21.199799   Topic2  -5.5520  -2.4989\n",
       "12           pay   0.322231  25.131063   Topic2  -6.3909  -3.5079, token_table=      Topic      Freq          Term\n",
       "term                               \n",
       "10        1  0.779706          bank\n",
       "10        2  0.259902          bank\n",
       "3         1  0.943405         bills\n",
       "3         2  0.047170         bills\n",
       "16        1  0.842135          cash\n",
       "16        2  0.148612          cash\n",
       "0         1  0.355910    convenient\n",
       "0         2  0.657065    convenient\n",
       "14        1  0.523558          easy\n",
       "14        2  0.471202          easy\n",
       "1         1  0.095100          good\n",
       "1         2  0.919300          good\n",
       "15        1  0.262846         great\n",
       "15        2  0.735970         great\n",
       "2         1  0.715098          hope\n",
       "2         2  0.330045          hope\n",
       "8         1  0.126730          love\n",
       "8         2  0.887109          love\n",
       "4         1  0.935591         money\n",
       "4         2  0.070169         money\n",
       "7         1  0.210418          need\n",
       "7         2  0.789069          need\n",
       "11        1  0.981824        online\n",
       "11        2  0.061364        online\n",
       "12        1  0.994785           pay\n",
       "5         1  0.419568          time\n",
       "5         2  0.576906          time\n",
       "18        1  0.310168   transaction\n",
       "18        2  0.744404   transaction\n",
       "9         1  0.830194  transactions\n",
       "9         2  0.166039  transactions\n",
       "13        1  0.920649      transfer\n",
       "13        2  0.061377      transfer\n",
       "6         1  0.445441           use\n",
       "6         2  0.534530           use\n",
       "17        1  0.433316        useful\n",
       "17        2  0.557121        useful, R=19, lambda_step=0.01, plot_opts={'xlab': 'PC1', 'ylab': 'PC2'}, topic_order=[1, 2])"
      ]
     },
     "execution_count": 18,
     "metadata": {},
     "output_type": "execute_result"
    }
   ],
   "source": [
    "gcash_good_as_visual = gensimvis.prepare(gcash_good_as_final, gcash_good_corpus_as, gcash_good_dict_as)\n",
    "print(gcash_good_as_final.print_topics())\n",
    "gcash_good_as_visual"
   ]
  },
  {
   "cell_type": "code",
   "execution_count": 19,
   "id": "first-attribute",
   "metadata": {},
   "outputs": [
    {
     "name": "stdout",
     "output_type": "stream",
     "text": [
      "[(0, '0.042*\"money\" + 0.025*\"load\" + 0.019*\"verify\" + 0.015*\"tried\" + 0.015*\"already\" + 0.015*\"fix\" + 0.015*\"use\" + 0.013*\"get\" + 0.013*\"mpin\" + 0.011*\"transaction\"'), (1, '0.041*\"money\" + 0.028*\"service\" + 0.024*\"use\" + 0.022*\"bank\" + 0.018*\"customer_service\" + 0.014*\"working\" + 0.014*\"transaction\" + 0.012*\"one\" + 0.012*\"log\" + 0.011*\"ticket\"'), (2, '0.024*\"fix\" + 0.021*\"verification\" + 0.020*\"verified\" + 0.018*\"need\" + 0.016*\"gcredit\" + 0.015*\"verify\" + 0.014*\"use\" + 0.013*\"problem\" + 0.013*\"issue\" + 0.012*\"already\"'), (3, '0.048*\"cash\" + 0.048*\"update\" + 0.024*\"always\" + 0.019*\"pera\" + 0.019*\"use\" + 0.019*\"fix\" + 0.016*\"wala\" + 0.015*\"email\" + 0.014*\"error\" + 0.013*\"need\"')]\n"
     ]
    },
    {
     "data": {
      "text/html": [
       "\n",
       "<link rel=\"stylesheet\" type=\"text/css\" href=\"https://cdn.jsdelivr.net/gh/bmabey/pyLDAvis@3.3.1/pyLDAvis/js/ldavis.v1.0.0.css\">\n",
       "\n",
       "\n",
       "<div id=\"ldavis_el101358460477607869399685\"></div>\n",
       "<script type=\"text/javascript\">\n",
       "\n",
       "var ldavis_el101358460477607869399685_data = {\"mdsDat\": {\"x\": [0.07221206004189754, 0.037542581273448464, -0.037192040227399255, -0.0725626010879468], \"y\": [-0.013443409029283211, 0.04206166321228833, -0.07590894931957422, 0.04729069513656912], \"topics\": [1, 2, 3, 4], \"cluster\": [1, 1, 1, 1], \"Freq\": [28.22967821155321, 25.99684138703041, 23.581635514222256, 22.19184488719412]}, \"tinfo\": {\"Term\": [\"update\", \"cash\", \"money\", \"load\", \"pera\", \"verified\", \"verification\", \"gcredit\", \"wala\", \"service\", \"always\", \"verify\", \"pesos\", \"get_fully\", \"bank\", \"bulok\", \"student_id\", \"deducted\", \"paypal\", \"mpin\", \"working\", \"transaction\", \"pay_bills\", \"email\", \"poor_customer\", \"id\", \"fix\", \"code\", \"customer_service\", \"worst\", \"poor_customer\", \"unreliable\", \"slow\", \"transferred\", \"fee\", \"information\", \"trust\", \"info\", \"bank\", \"maintenance\", \"credited\", \"customer_service\", \"user\", \"service\", \"going\", \"worst_customer\", \"issues\", \"ever\", \"asking\", \"every\", \"log\", \"customer_support\", \"automatically\", \"recommend\", \"amount\", \"login\", \"never\", \"answer\", \"poor\", \"hard\", \"pandemic\", \"one\", \"money\", \"working\", \"transaction\", \"transfer\", \"limit\", \"ticket\", \"use\", \"lot\", \"back\", \"need\", \"time\", \"issue\", \"get\", \"number\", \"cash\", \"system\", \"fix\", \"pesos\", \"scam\", \"paid\", \"deducted\", \"load\", \"valid_id\", \"reflect\", \"text\", \"went\", \"loading\", \"mpin\", \"purchase\", \"message\", \"charge\", \"receive\", \"got\", \"refund\", \"said\", \"happened\", \"received\", \"ok\", \"people\", \"last\", \"two\", \"balance\", \"stupid\", \"acc\", \"everything\", \"php\", \"way\", \"money\", \"verify\", \"tried\", \"wait\", \"get\", \"already\", \"could\", \"transaction\", \"really\", \"days\", \"fix\", \"use\", \"id\", \"error\", \"problem\", \"poor\", \"code\", \"option\", \"time\", \"always\", \"service\", \"update\", \"verification_code\", \"wala\", \"updating\", \"pera\", \"update\", \"verifying\", \"nalang\", \"cash\", \"crashing\", \"keeps\", \"updated\", \"makapag\", \"sending\", \"paypal\", \"experience\", \"pwede\", \"always\", \"worst\", \"failed\", \"annoying\", \"email\", \"code\", \"fully_verify\", \"accounts\", \"access\", \"disappointing\", \"disappointed\", \"convenient\", \"open\", \"errors\", \"error\", \"support\", \"send\", \"fix\", \"time\", \"use\", \"useless\", \"need\", \"number\", \"card\", \"trying\", \"problem\", \"service\", \"verification\", \"verify\", \"since\", \"working\", \"already\", \"get_fully\", \"bulok\", \"verified\", \"feature\", \"pay_bills\", \"send_money\", \"gcredit\", \"bug\", \"keeps_crashing\", \"verification_process\", \"verification\", \"every_time\", \"get_verified\", \"student_id\", \"available\", \"ids\", \"many_times\", \"student\", \"stop\", \"though\", \"fully_verified\", \"input\", \"always_says\", \"crashes\", \"needs\", \"try\", \"everytime\", \"button\", \"link\", \"id\", \"hope\", \"pay\", \"wrong\", \"fix\", \"need\", \"problem\", \"issue\", \"verify\", \"since\", \"already\", \"tried\", \"working\", \"trying\", \"use\", \"system\", \"get\", \"time\", \"cash\"], \"Freq\": [198.0, 218.0, 325.0, 118.0, 77.0, 80.0, 104.0, 69.0, 60.0, 170.0, 135.0, 145.0, 41.0, 28.0, 127.0, 30.0, 56.0, 50.0, 63.0, 65.0, 106.0, 107.0, 48.0, 92.0, 33.0, 73.0, 203.0, 64.0, 108.0, 67.0, 29.44373300476991, 27.29917161075058, 24.93313827323808, 19.915037804722964, 31.47865069974344, 18.8478208156871, 19.092879022812873, 12.815890746401193, 80.62814376644177, 17.438737831389997, 11.11690834725885, 66.57869057871739, 26.221793072245212, 102.86181880684359, 23.688677851710413, 13.142461510499235, 27.344062312076797, 24.99959965372873, 21.78308183115778, 18.26383550953564, 43.55400530181494, 13.176990981252839, 11.55147501463299, 12.717070787149746, 30.391648214738492, 18.539492712368283, 32.25275118949503, 10.555098736947492, 36.86146614307937, 22.095108301574417, 16.953906993004598, 45.624800741657104, 151.8400913009893, 50.11598373928465, 49.578268128744156, 37.14191057235843, 26.397809404624727, 41.55480151080493, 86.71734561878492, 23.808947316123547, 29.036793156683235, 36.72716097446113, 34.280702232648856, 31.40960882499718, 31.404560477108234, 27.31594482341203, 35.53306456449628, 25.074758255599395, 26.516063284569693, 34.77399731447627, 30.98487002654827, 19.661643106969862, 37.220766519302316, 85.72667800836807, 14.620433803435635, 11.903985298529117, 18.771383621811495, 12.529801555245829, 11.51016717198724, 42.46907216131231, 13.22970865786543, 19.79422424434464, 22.69383388286799, 31.382289671373307, 30.222262871723007, 14.453886961667497, 17.674294984783565, 12.602726996039856, 35.15893148636156, 8.896429913566793, 25.059559103285928, 19.40069452216888, 10.252390152453877, 28.855298473874743, 16.91165325286809, 18.38374772183161, 11.89110140320893, 17.156094420462857, 10.470705185018762, 140.37573137399804, 64.92528285010172, 52.22833013985194, 17.738726249028897, 44.75208112350443, 52.16548156332695, 24.049494715587524, 38.69797525424594, 23.918956769907318, 29.88368400432977, 50.01234100861359, 49.12850028874801, 25.078375327107004, 28.429597912625006, 26.188897163683777, 22.84473930637123, 21.955375682186638, 22.249486839876422, 23.778746669082196, 23.854688960997553, 22.724190996391556, 22.457208709347917, 18.021665791999474, 47.97247093856214, 14.048786027714868, 58.350432541340986, 146.08261820872738, 13.48423057130235, 13.866844836238117, 147.16271742821303, 14.761693883496502, 20.523109821008923, 33.59642799772591, 10.667847420504732, 23.074594877309455, 36.457400412613445, 10.840359228662301, 9.386413616544036, 74.21882722632381, 35.82477632805241, 12.422224533507631, 21.48935786222072, 46.611908156318336, 32.09905504280668, 11.318927519846302, 10.281171420903656, 23.87066778397423, 10.065952946278331, 13.713754934484722, 10.192833325361661, 30.46266497759817, 8.033474606193082, 44.3752937896319, 26.68662323368389, 21.92422009206144, 57.32498781821521, 38.76640461410707, 57.97970694098016, 23.32788944129024, 39.47584096272477, 25.476642599147755, 19.368275539083797, 23.70602139882421, 26.697409855122192, 32.87705472716464, 25.83020598051912, 28.89697960491029, 22.917822469188742, 24.40189819728335, 24.721944070061745, 25.40252164097234, 26.031180325292443, 58.02545469581993, 25.37316638284141, 32.17829480952373, 21.602055490213658, 44.7407648282216, 15.435005458424447, 15.379940199765052, 15.433592703085695, 61.26361336385197, 9.797143657780941, 27.777096377461177, 33.008404623591304, 19.163733690889682, 14.256212063636466, 13.214250664564062, 12.324731335629233, 10.605987680303535, 10.742474201660395, 28.55267893371536, 11.907117905868951, 8.347532577783234, 17.135428910378216, 10.470793836789872, 35.102301232931055, 14.38439445472818, 9.815432332424987, 18.34651174746222, 32.49229410627701, 18.854497244518708, 24.469139814136486, 21.83409619424747, 69.75155477090549, 50.72005256475647, 37.343089514653, 36.389821781235035, 44.173730719608514, 27.7541863962983, 35.18950030271905, 33.00352102488945, 30.314289584129774, 24.786844742651997, 40.488220994006696, 23.6876915728481, 25.13837530041782, 25.1338593132666, 19.866056900024073], \"Total\": [198.0, 218.0, 325.0, 118.0, 77.0, 80.0, 104.0, 69.0, 60.0, 170.0, 135.0, 145.0, 41.0, 28.0, 127.0, 30.0, 56.0, 50.0, 63.0, 65.0, 106.0, 107.0, 48.0, 92.0, 33.0, 73.0, 203.0, 64.0, 108.0, 67.0, 33.59768653552699, 33.402759279440765, 35.11601690149069, 28.729389628297028, 46.479775696777466, 28.081020919289767, 29.857825145665785, 20.06487825062459, 127.27295559865354, 27.901873936143282, 17.90324219704731, 108.16044224848105, 43.04057154350083, 170.07438527786383, 39.23072136293973, 21.976529404789034, 46.063481791930954, 42.276063579376576, 37.379037100859634, 31.508708823065618, 75.50613272793302, 23.606259866664956, 20.835968141536927, 22.981042399215216, 55.224436755796845, 33.88093330307707, 59.12599832966613, 19.459271003186497, 68.21766674745683, 41.194387219487474, 31.609183179853506, 88.93008743496371, 325.38343117872137, 106.57613582699125, 107.12569751942226, 77.01573096916366, 52.05142931325901, 92.07063302731723, 234.31377384251977, 46.42222506709206, 63.29671542863979, 142.66887671906164, 121.95971282910472, 98.03302156972467, 110.16536923618497, 80.55112102134474, 218.598195110391, 72.07621558266678, 203.60494688230398, 41.10701532520748, 40.6086608428205, 26.496135593126304, 50.93702868327871, 118.15574845844458, 20.18857182499055, 16.64972036559237, 27.289073534049592, 18.489481211572897, 17.45938928978013, 65.31780509508671, 21.37883725456339, 32.19700315046556, 37.06332509446632, 52.30362295673595, 50.562768743593054, 24.259177695258938, 30.29479382784638, 22.297103914705385, 62.96714208782973, 15.955098363923305, 45.29852132102536, 35.109351519130385, 18.758237851837944, 53.13586761434301, 31.421799117726856, 34.193427296936456, 22.155905757927897, 31.998060325441223, 19.75676664694418, 325.38343117872137, 145.78567503437935, 121.6481419915541, 35.32194169497202, 110.16536923618497, 133.4303145134806, 52.58730818970706, 107.12569751942226, 53.05813836548834, 76.20699067355103, 203.60494688230398, 234.31377384251977, 73.03058346859763, 107.80140271326283, 99.89152905732986, 68.21766674745683, 64.45839904651447, 72.32185202830496, 121.95971282910472, 135.00393754982687, 170.07438527786383, 198.65634963827998, 21.849385964555534, 60.90374630770909, 18.241598106282837, 77.37067200344205, 198.65634963827998, 19.055920374781984, 20.002253699564356, 218.598195110391, 22.056480941362402, 32.48075723060332, 54.65036774459139, 18.07939896896065, 39.48916304314096, 63.98791236722127, 19.422458627752995, 16.84271406875917, 135.00393754982687, 67.053408285848, 24.180126979730147, 41.97853084507357, 92.78048200016886, 64.45839904651447, 23.04067067153497, 21.160952392232897, 50.07934208034783, 21.310505857790854, 29.033622927453987, 22.146490936081364, 66.81647623554358, 17.64094950448921, 107.80140271326283, 65.59449778200624, 54.94538713841256, 203.60494688230398, 121.95971282910472, 234.31377384251977, 63.10179062697462, 142.66887671906164, 80.55112102134474, 50.78976043402531, 76.24318706561832, 99.89152905732986, 170.07438527786383, 104.40538070211454, 145.78567503437935, 75.89131858032496, 106.57613582699125, 133.4303145134806, 28.758888843041184, 30.802044004107383, 80.46037968365493, 37.51063664362217, 48.742128729030185, 33.0564276881466, 69.54555134734449, 24.476093216180125, 24.412326378495806, 25.08345242963237, 104.40538070211454, 16.70354431976986, 47.47217441769279, 56.86257655853302, 33.71175223982242, 25.080149480621483, 23.441931352689224, 22.439904197766552, 19.506126416421303, 20.21349348950861, 54.403082500948585, 22.850303963600112, 16.418035435155375, 34.58366856766279, 21.791325590325407, 74.02786677467753, 32.21088402099752, 21.997362743708297, 41.159273963777764, 73.03058346859763, 42.5317091027068, 56.65118438965534, 50.28571841038097, 203.60494688230398, 142.66887671906164, 99.89152905732986, 98.03302156972467, 145.78567503437935, 75.89131858032496, 133.4303145134806, 121.6481419915541, 106.57613582699125, 76.24318706561832, 234.31377384251977, 72.07621558266678, 110.16536923618497, 121.95971282910472, 218.598195110391], \"Category\": [\"Default\", \"Default\", \"Default\", \"Default\", \"Default\", \"Default\", \"Default\", \"Default\", \"Default\", \"Default\", \"Default\", \"Default\", \"Default\", \"Default\", \"Default\", \"Default\", \"Default\", \"Default\", \"Default\", \"Default\", \"Default\", \"Default\", \"Default\", \"Default\", \"Default\", \"Default\", \"Default\", \"Default\", \"Default\", \"Default\", \"Topic1\", \"Topic1\", \"Topic1\", \"Topic1\", \"Topic1\", \"Topic1\", \"Topic1\", \"Topic1\", \"Topic1\", \"Topic1\", \"Topic1\", \"Topic1\", \"Topic1\", \"Topic1\", \"Topic1\", \"Topic1\", \"Topic1\", \"Topic1\", \"Topic1\", \"Topic1\", \"Topic1\", \"Topic1\", \"Topic1\", \"Topic1\", \"Topic1\", \"Topic1\", \"Topic1\", \"Topic1\", \"Topic1\", \"Topic1\", \"Topic1\", \"Topic1\", \"Topic1\", \"Topic1\", \"Topic1\", \"Topic1\", \"Topic1\", \"Topic1\", \"Topic1\", \"Topic1\", \"Topic1\", \"Topic1\", \"Topic1\", \"Topic1\", \"Topic1\", \"Topic1\", \"Topic1\", \"Topic1\", \"Topic1\", \"Topic2\", \"Topic2\", \"Topic2\", \"Topic2\", \"Topic2\", \"Topic2\", \"Topic2\", \"Topic2\", \"Topic2\", \"Topic2\", \"Topic2\", \"Topic2\", \"Topic2\", \"Topic2\", \"Topic2\", \"Topic2\", \"Topic2\", \"Topic2\", \"Topic2\", \"Topic2\", \"Topic2\", \"Topic2\", \"Topic2\", \"Topic2\", \"Topic2\", \"Topic2\", \"Topic2\", \"Topic2\", \"Topic2\", \"Topic2\", \"Topic2\", \"Topic2\", \"Topic2\", \"Topic2\", \"Topic2\", \"Topic2\", \"Topic2\", \"Topic2\", \"Topic2\", \"Topic2\", \"Topic2\", \"Topic2\", \"Topic2\", \"Topic2\", \"Topic2\", \"Topic2\", \"Topic2\", \"Topic2\", \"Topic2\", \"Topic2\", \"Topic2\", \"Topic2\", \"Topic3\", \"Topic3\", \"Topic3\", \"Topic3\", \"Topic3\", \"Topic3\", \"Topic3\", \"Topic3\", \"Topic3\", \"Topic3\", \"Topic3\", \"Topic3\", \"Topic3\", \"Topic3\", \"Topic3\", \"Topic3\", \"Topic3\", \"Topic3\", \"Topic3\", \"Topic3\", \"Topic3\", \"Topic3\", \"Topic3\", \"Topic3\", \"Topic3\", \"Topic3\", \"Topic3\", \"Topic3\", \"Topic3\", \"Topic3\", \"Topic3\", \"Topic3\", \"Topic3\", \"Topic3\", \"Topic3\", \"Topic3\", \"Topic3\", \"Topic3\", \"Topic3\", \"Topic3\", \"Topic3\", \"Topic3\", \"Topic3\", \"Topic3\", \"Topic3\", \"Topic3\", \"Topic3\", \"Topic3\", \"Topic4\", \"Topic4\", \"Topic4\", \"Topic4\", \"Topic4\", \"Topic4\", \"Topic4\", \"Topic4\", \"Topic4\", \"Topic4\", \"Topic4\", \"Topic4\", \"Topic4\", \"Topic4\", \"Topic4\", \"Topic4\", \"Topic4\", \"Topic4\", \"Topic4\", \"Topic4\", \"Topic4\", \"Topic4\", \"Topic4\", \"Topic4\", \"Topic4\", \"Topic4\", \"Topic4\", \"Topic4\", \"Topic4\", \"Topic4\", \"Topic4\", \"Topic4\", \"Topic4\", \"Topic4\", \"Topic4\", \"Topic4\", \"Topic4\", \"Topic4\", \"Topic4\", \"Topic4\", \"Topic4\", \"Topic4\", \"Topic4\", \"Topic4\", \"Topic4\", \"Topic4\", \"Topic4\", \"Topic4\"], \"logprob\": [30.0, 29.0, 28.0, 27.0, 26.0, 25.0, 24.0, 23.0, 22.0, 21.0, 20.0, 19.0, 18.0, 17.0, 16.0, 15.0, 14.0, 13.0, 12.0, 11.0, 10.0, 9.0, 8.0, 7.0, 6.0, 5.0, 4.0, 3.0, 2.0, 1.0, -4.8241, -4.8997, -4.9904, -5.2151, -4.7573, -5.2702, -5.2573, -5.6559, -3.8168, -5.3479, -5.7981, -4.0082, -4.94, -3.5732, -5.0416, -5.6308, -4.8981, -4.9877, -5.1255, -5.3017, -4.4326, -5.6281, -5.7598, -5.6637, -4.7924, -5.2867, -4.733, -5.85, -4.5994, -5.1112, -5.3761, -4.3861, -3.1838, -4.2923, -4.303, -4.5919, -4.9333, -4.4796, -3.7439, -5.0365, -4.838, -4.6031, -4.672, -4.7595, -4.7596, -4.8991, -4.6361, -4.9847, -4.9288, -4.5753, -4.6907, -5.1455, -4.5073, -3.673, -5.4418, -5.6473, -5.1919, -5.5961, -5.681, -4.3754, -5.5417, -5.1388, -5.0021, -4.678, -4.7156, -5.4532, -5.2521, -5.5903, -4.5643, -5.9386, -4.9029, -5.1589, -5.7967, -4.7619, -5.2962, -5.2127, -5.6484, -5.2818, -5.7756, -3.1799, -3.951, -4.1686, -5.2485, -4.3231, -4.1698, -4.9441, -4.4684, -4.9495, -4.7269, -4.2119, -4.2298, -4.9022, -4.7768, -4.8589, -4.9955, -5.0352, -5.0219, -4.9554, -4.9522, -5.0008, -5.0126, -5.1351, -4.1561, -5.3842, -3.9602, -3.0425, -5.4252, -5.3972, -3.0352, -5.3347, -5.0051, -4.5123, -5.6595, -4.888, -4.4305, -5.6434, -5.7874, -3.7197, -4.4481, -5.5072, -4.9591, -4.1848, -4.5579, -5.6002, -5.6964, -4.854, -5.7175, -5.4083, -5.705, -4.6102, -5.9431, -4.234, -4.7425, -4.9391, -3.978, -4.3691, -3.9666, -4.877, -4.351, -4.7889, -5.0631, -4.861, -4.7421, -4.5339, -4.7751, -4.663, -4.8948, -4.832, -4.819, -4.7311, -4.7067, -3.9051, -4.7323, -4.4947, -4.8932, -4.1651, -5.2293, -5.2329, -5.2294, -3.8508, -5.6839, -4.6417, -4.4692, -5.0129, -5.3088, -5.3847, -5.4543, -5.6045, -5.5917, -4.6142, -5.4888, -5.844, -5.1248, -5.6174, -4.4077, -5.2998, -5.682, -5.0565, -4.4849, -5.0292, -4.7685, -4.8825, -3.721, -4.0396, -4.3458, -4.3717, -4.1778, -4.6426, -4.4052, -4.4693, -4.5543, -4.7556, -4.2649, -4.801, -4.7416, -4.7417, -4.9769], \"loglift\": [30.0, 29.0, 28.0, 27.0, 26.0, 25.0, 24.0, 23.0, 22.0, 21.0, 20.0, 19.0, 18.0, 17.0, 16.0, 15.0, 14.0, 13.0, 12.0, 11.0, 10.0, 9.0, 8.0, 7.0, 6.0, 5.0, 4.0, 3.0, 2.0, 1.0, 1.1328, 1.063, 0.9223, 0.8984, 0.8751, 0.8661, 0.8177, 0.8165, 0.8083, 0.7948, 0.7883, 0.7796, 0.7692, 0.7619, 0.7603, 0.7507, 0.7433, 0.7394, 0.7248, 0.7195, 0.7146, 0.6818, 0.6749, 0.6731, 0.6676, 0.6618, 0.6587, 0.6531, 0.6493, 0.6419, 0.6418, 0.5974, 0.5026, 0.5103, 0.4943, 0.5355, 0.5858, 0.4693, 0.2708, 0.5971, 0.4855, -0.0922, -0.0043, 0.1266, 0.0098, 0.1834, -0.552, 0.2089, -0.7736, 1.1799, 1.0767, 1.0489, 1.0335, 1.0264, 1.0245, 1.0117, 0.973, 0.9581, 0.9305, 0.9167, 0.8673, 0.8607, 0.8567, 0.8364, 0.8326, 0.8294, 0.8083, 0.7767, 0.7645, 0.7631, 0.7552, 0.754, 0.7431, 0.7366, 0.7277, 0.7266, 0.7249, 0.7239, 0.7123, 0.5065, 0.5383, 0.5017, 0.6584, 0.4464, 0.408, 0.5648, 0.329, 0.5505, 0.4111, -0.0567, -0.215, 0.2783, 0.0143, 0.0084, 0.2532, 0.2702, 0.1684, -0.2877, -0.3861, -0.6656, -0.8328, 1.2521, 1.206, 1.1835, 1.1626, 1.1373, 1.0988, 1.0784, 1.049, 1.0431, 0.9856, 0.9582, 0.9172, 0.9074, 0.8822, 0.8615, 0.86, 0.8464, 0.8179, 0.7787, 0.7751, 0.7563, 0.7475, 0.7339, 0.7229, 0.7037, 0.6947, 0.6946, 0.6687, 0.6593, 0.6581, 0.5571, 0.5454, 0.526, 0.1773, 0.2986, 0.0481, 0.4496, 0.1599, 0.2936, 0.4806, 0.2765, 0.1252, -0.1988, 0.048, -0.1737, 0.2473, -0.0295, -0.2412, 1.3813, 1.3372, 1.1786, 1.1145, 1.0902, 1.08, 1.0643, 1.0444, 1.0434, 1.0198, 0.9724, 0.9719, 0.9695, 0.9616, 0.9406, 0.9406, 0.9322, 0.9062, 0.8961, 0.8733, 0.8608, 0.8536, 0.829, 0.8032, 0.7725, 0.7593, 0.6993, 0.6985, 0.6974, 0.6956, 0.6919, 0.6659, 0.6712, 0.4342, 0.4712, 0.5215, 0.5144, 0.3114, 0.4995, 0.1726, 0.2009, 0.2482, 0.3818, -0.2502, 0.3927, 0.0279, -0.074, -0.8928]}, \"token.table\": {\"Topic\": [1, 2, 3, 4, 1, 2, 3, 4, 1, 2, 3, 4, 1, 2, 3, 4, 1, 2, 3, 4, 1, 2, 3, 4, 1, 2, 3, 4, 1, 2, 3, 4, 1, 2, 3, 4, 1, 2, 3, 4, 1, 2, 3, 4, 1, 2, 3, 4, 1, 2, 3, 4, 1, 2, 3, 4, 1, 2, 3, 4, 1, 2, 3, 4, 1, 2, 3, 4, 1, 2, 3, 4, 1, 2, 3, 4, 1, 2, 3, 4, 1, 2, 3, 4, 1, 2, 3, 4, 1, 2, 3, 4, 1, 2, 3, 4, 1, 2, 3, 4, 1, 2, 3, 4, 1, 2, 3, 4, 1, 2, 3, 4, 1, 2, 3, 4, 1, 2, 3, 4, 1, 2, 3, 4, 1, 2, 3, 4, 1, 2, 3, 4, 1, 2, 3, 4, 1, 2, 3, 4, 1, 2, 3, 4, 1, 2, 3, 4, 1, 2, 3, 4, 1, 2, 3, 4, 1, 2, 3, 4, 1, 2, 3, 4, 1, 2, 3, 4, 1, 2, 3, 4, 1, 2, 3, 4, 1, 2, 3, 4, 1, 2, 3, 4, 1, 2, 3, 4, 1, 2, 3, 4, 1, 2, 3, 4, 1, 2, 3, 4, 1, 2, 3, 4, 1, 2, 3, 4, 1, 2, 3, 4, 1, 2, 3, 4, 1, 2, 3, 4, 1, 2, 3, 4, 1, 2, 3, 4, 1, 2, 3, 4, 1, 2, 3, 4, 1, 2, 3, 4, 1, 2, 3, 4, 1, 2, 3, 4, 1, 2, 3, 4, 1, 2, 3, 4, 1, 2, 3, 4, 1, 2, 3, 4, 1, 2, 3, 4, 1, 2, 3, 4, 1, 2, 3, 4, 1, 2, 3, 4, 1, 2, 3, 4, 1, 2, 3, 4, 1, 2, 3, 4, 1, 2, 3, 4, 1, 2, 3, 4, 1, 2, 3, 4, 1, 2, 3, 4, 1, 2, 3, 4, 1, 2, 3, 4, 1, 2, 3, 4, 1, 2, 3, 4, 1, 2, 3, 4, 1, 2, 3, 4, 1, 2, 3, 4, 1, 2, 3, 4, 1, 2, 3, 4, 1, 2, 3, 4, 1, 2, 3, 4, 1, 2, 3, 4, 1, 2, 3, 4, 1, 2, 3, 4, 1, 2, 3, 4, 1, 2, 3, 4, 1, 2, 3, 4, 1, 2, 3, 4, 1, 2, 3, 4, 1, 2, 3, 4, 1, 2, 3, 4, 1, 2, 3, 4, 1, 2, 3, 4, 1, 2, 3, 4, 1, 2, 3, 4, 1, 2, 3, 4, 1, 2, 3, 4, 1, 2, 3, 4, 1, 2, 3, 4, 1, 2, 3, 4, 1, 2, 3, 4, 1, 2, 3, 4, 1, 2, 3, 4, 1, 2, 3, 4, 1, 2, 3, 4, 1, 2, 3, 4, 1, 2, 3, 4, 1, 2, 3, 4, 1, 2, 3, 4, 1, 2, 3, 4, 1, 2, 3, 4, 1, 2, 3, 4, 1, 2, 3, 4, 1, 2, 3, 4, 1, 2, 3, 4, 1, 2, 3, 4, 1, 2, 3, 4, 1, 2, 3, 4, 1, 2, 3, 4, 1, 2, 3, 4, 1, 2, 3, 4, 1, 2, 3, 4, 1, 2, 3, 4, 1, 2, 3, 4, 1, 2, 3, 4, 1, 2, 3, 4, 1, 2, 3, 4, 1, 2, 3, 4, 1, 2, 3, 4, 1, 2, 3, 4, 1, 2, 3, 4, 1, 2, 3, 4, 1, 2, 3, 4, 1, 2, 3, 4, 1, 2, 3, 4, 1, 2, 3, 4, 1, 2, 3, 4, 1, 2, 3, 4, 1, 2, 3, 4, 1, 2, 3, 4, 1, 2, 3, 4, 1, 2, 3, 4, 1, 2, 3, 4, 1, 2, 3, 4, 1, 2, 3, 4, 1, 2, 3, 4, 1, 2, 3, 4, 1, 2, 3, 4, 1, 2, 3, 4, 1, 2, 3, 4], \"Freq\": [0.02924538658602364, 0.5264169585484255, 0.11698154634409456, 0.32169925244626, 0.2795563882915684, 0.07987325379759098, 0.4792395227855459, 0.1797148210445797, 0.28354111331030135, 0.18902740887353423, 0.47256852218383555, 0.047256852218383556, 0.15738552424590402, 0.3897165362279528, 0.18736371934036194, 0.26230920707650673, 0.14814382723184244, 0.17777259267821094, 0.5481321607578171, 0.1259222531470661, 0.06090862721971804, 0.30454313609859024, 0.12181725443943608, 0.48726901775774434, 0.5432377723046842, 0.30783473763932107, 0.03621585148697895, 0.10864755446093684, 0.214395306810891, 0.11910850378382834, 0.5002557158920791, 0.142930204540594, 0.5652832522964877, 0.3597257060068558, 0.05138938657240797, 0.05138938657240797, 0.5885651880394225, 0.1337648154635051, 0.2407766678343092, 0.05350592618540204, 0.5759271620346623, 0.14398179050866558, 0.19197572067822077, 0.09598786033911039, 0.029663246006499118, 0.14831623003249558, 0.26696921405849205, 0.5636016741234833, 0.45815963440779744, 0.33177076974357744, 0.0789930404151375, 0.12638886466421997, 0.2822951929357607, 0.5457707063424707, 0.018819679529050715, 0.15055743623240572, 0.6364274296844955, 0.15714257523073966, 0.14928544646920267, 0.06285703009229586, 0.08171238695389031, 0.12256858043083546, 0.16342477390778062, 0.6128429021541774, 0.0973961338280004, 0.0324653779426668, 0.0324653779426668, 0.8440998265093368, 0.04545999498444516, 0.27275996990667095, 0.22729997492222578, 0.45459994984445157, 0.13782305606841427, 0.27564611213682855, 0.37409115218569594, 0.21657908810750817, 0.16468571472797466, 0.07319365099021097, 0.6724666684725632, 0.09149206373776371, 0.2967893455852491, 0.6205595407691572, 0.05396169919731802, 0.05396169919731802, 0.015513882050939242, 0.3413054051206633, 0.49644422563005575, 0.13962493845845317, 0.13546164079259884, 0.13546164079259884, 0.4515388026419962, 0.3160771618493973, 0.3042559231645876, 0.4563838847468814, 0.09507997598893363, 0.1331119663845071, 0.08674614707605452, 0.17349229415210904, 0.2313230588694787, 0.49156150009764227, 0.09067629624676031, 0.045338148123380155, 0.6800722218507024, 0.22669074061690078, 0.6144138519119277, 0.22342321887706462, 0.11171160943853231, 0.055855804719266156, 0.6194501298920209, 0.15717391355469185, 0.08320971894071921, 0.14792838922794527, 0.5507013848626505, 0.2118082249471733, 0.2118082249471733, 0.042361644989434656, 0.27556527051380364, 0.3936646721625766, 0.14434371312627808, 0.1968323360812883, 0.19632083493089061, 0.7263870892442953, 0.01963208349308906, 0.03926416698617812, 0.10332847566065279, 0.30998542698195836, 0.48219955308304635, 0.1377713008808704, 0.23462605877898776, 0.0938504235115951, 0.4692521175579755, 0.1877008470231902, 0.22634070816706664, 0.23711883712740314, 0.5065720611358159, 0.03233438688100952, 0.19480265999745072, 0.25973687999660094, 0.40815795428037294, 0.12986843999830047, 0.39680403813970805, 0.11337258232563087, 0.4534903293025235, 0.056686291162815435, 0.5913511780267945, 0.1182702356053589, 0.2365404712107178, 0.04730809424214356, 0.571270631909337, 0.19042354396977904, 0.15868628664148252, 0.09521177198488952, 0.11973506710386336, 0.11973506710386336, 0.17960260065579503, 0.5986753355193168, 0.045134692795945695, 0.5416163135513483, 0.27080815677567416, 0.13540407838783708, 0.18627244120616934, 0.031045406867694893, 0.3414994755446438, 0.43463569614772846, 0.15446036248537878, 0.05148678749512626, 0.5663546624463889, 0.2574339374756313, 0.24813765473728544, 0.08271255157909514, 0.4962753094745709, 0.16542510315819028, 0.18661373483220234, 0.07997731492808671, 0.05331820995205781, 0.6664776244007227, 0.6669567469997342, 0.12908840264510985, 0.17211787019347977, 0.02151473377418497, 0.13260974457367994, 0.24557360106237025, 0.2799539052111021, 0.34380304148731833, 0.09190655694762918, 0.2389570480638359, 0.1470504911162067, 0.5330580302962493, 0.043401514402765434, 0.08680302880553087, 0.47741665843041975, 0.3906136296248889, 0.30196036400827037, 0.02875812990554956, 0.02875812990554956, 0.6470579228748651, 0.28139514454436854, 0.40847682272569624, 0.08169536454513925, 0.22693156818094237, 0.034771858031711504, 0.034771858031711504, 0.034771858031711504, 0.8692964507927876, 0.08425988590295555, 0.06319491442721667, 0.27384462918460556, 0.5898192013206889, 0.6117654523343073, 0.22941204462536527, 0.07647068154178842, 0.10196090872238456, 0.1779965817465329, 0.5933219391551097, 0.09888698985918495, 0.13844178580285893, 0.17939549527604434, 0.5830353596471441, 0.17939549527604434, 0.08969774763802217, 0.5340533379652422, 0.1699260620798498, 0.14565091035415698, 0.14565091035415698, 0.0705356089207587, 0.3291661749635406, 0.1410712178415174, 0.4467255231648051, 0.027385786954036574, 0.34232233692545716, 0.19170050867825603, 0.4381725912645852, 0.039872170649248466, 0.1993608532462423, 0.1993608532462423, 0.5582103890894785, 0.647898274667843, 0.1495149864618099, 0.0996766576412066, 0.1495149864618099, 0.6766135766434432, 0.0712224817519414, 0.1424449635038828, 0.10683372262791209, 0.3063416579118948, 0.13128928196224063, 0.04376309398741355, 0.5251571278489625, 0.31621997877471997, 0.1326083781958503, 0.17341095610226578, 0.3672232011577393, 0.5861476151967664, 0.23880088026534926, 0.04341834186642714, 0.13025502559928143, 0.12314983827505126, 0.06157491913752563, 0.646536650944019, 0.18472475741257688, 0.12288873880707343, 0.1638516517427646, 0.0819258258713823, 0.6144436940353671, 0.19937708038229757, 0.5411663610376648, 0.17089464032768362, 0.08544732016384181, 0.4995059759747471, 0.30738829290753666, 0.11527060984032625, 0.07684707322688417, 0.2672544712445743, 0.07288758306670208, 0.1943668881778722, 0.4373254984002125, 0.14387789186557357, 0.7278528647317252, 0.07617064863471543, 0.05078043242314361, 0.057275771987359884, 0.6873092638483186, 0.17182731596207965, 0.11455154397471977, 0.5827341225187987, 0.10595165863978159, 0.22514727460953587, 0.07946374397983619, 0.5607873853426115, 0.08854537663304392, 0.11806050217739189, 0.26563612989913177, 0.51699374524409, 0.15078984236285958, 0.06462421815551125, 0.2800382786738821, 0.6092780735410998, 0.10751966003666466, 0.14335954671555287, 0.14335954671555287, 0.05531157322855894, 0.16593471968567683, 0.6084273055141484, 0.22124629291423575, 0.12797580348070783, 0.12797580348070783, 0.1706344046409438, 0.5545618150830673, 0.09317637377553943, 0.6211758251702629, 0.09317637377553943, 0.18635274755107886, 0.46714118002066274, 0.4302616131769262, 0.06453924197653893, 0.036879566843736535, 0.1530976122887542, 0.6430099716127677, 0.18371713474650506, 0.015309761228875422, 0.09998873277182559, 0.09998873277182559, 0.6999211294027791, 0.09998873277182559, 0.25934177692349153, 0.11214779542637472, 0.2733602513517884, 0.3574710979215694, 0.22944909795757568, 0.045889819591515134, 0.22944909795757568, 0.45889819591515135, 0.5412170771574809, 0.27060853857874045, 0.08456516830585639, 0.10147820196702767, 0.33519086584586993, 0.17380267117933998, 0.31036191282024994, 0.17380267117933998, 0.18802767188094666, 0.5640830156428399, 0.12535178125396443, 0.12535178125396443, 0.5172602583309129, 0.2361405527162863, 0.13493745869502075, 0.11244788224585063, 0.11973094737588592, 0.32926010528368627, 0.4489910526595722, 0.10476457895390018, 0.1659249544011055, 0.30419574973536007, 0.29036867020193463, 0.2350603520682328, 0.1509654110102641, 0.7548270550513204, 0.03774135275256602, 0.07548270550513204, 0.5378183897784222, 0.09490912760795686, 0.22145463108523267, 0.1265455034772758, 0.19417069772699455, 0.2118225793385395, 0.1765188161154496, 0.423645158677079, 0.10258066544028605, 0.08206453235222884, 0.14361293161640046, 0.6565162588178307, 0.10939566147786767, 0.03125590327939076, 0.5626062590290337, 0.28130312951451686, 0.19868198205009927, 0.5518943945836091, 0.13245465470006618, 0.13245465470006618, 0.09047355824554018, 0.1292479403507717, 0.7496380540344758, 0.01292479403507717, 0.024326747930706223, 0.8514361775747178, 0.024326747930706223, 0.09730699172282489, 0.03125189432826069, 0.5312822035804318, 0.3437708376108676, 0.09375568298478207, 0.5423814938874227, 0.3371560637678574, 0.07329479647127335, 0.043976877882764005, 0.8631546689780176, 0.05952790820538053, 0.029763954102690265, 0.029763954102690265, 0.10010858872988908, 0.2602823306977116, 0.27029318957070053, 0.3704017783005896, 0.14032568583025437, 0.6080779719311022, 0.04677522861008479, 0.18710091444033916, 0.05937285380002129, 0.3562371228001277, 0.5343556842001916, 0.05937285380002129, 0.20731975035058803, 0.45233400076491936, 0.20731975035058803, 0.15077800025497312, 0.17207221013053992, 0.5926931682274152, 0.13383394121264217, 0.0955956722947444, 0.2858633789491779, 0.555845459067846, 0.09528779298305931, 0.047643896491529655, 0.5656836523848866, 0.1305423813195892, 0.043514127106529736, 0.2610847626391784, 0.18018320633178184, 0.7207328253271273, 0.06006106877726061, 0.06006106877726061, 0.28855058847967613, 0.5771011769593523, 0.08244302527990748, 0.04122151263995374, 0.0990269158802612, 0.5941614952815673, 0.1980538317605224, 0.0990269158802612, 0.09850115509798174, 0.7633839520093585, 0.0738758663234863, 0.0738758663234863, 0.18199889964937485, 0.3457979093338122, 0.4003975792286247, 0.07279955985974994, 0.06050260538942512, 0.09075390808413768, 0.2117591188629879, 0.6655286592836762, 0.17726382279494424, 0.20258722605136484, 0.5824382748976739, 0.025323403256420605, 0.6056173587323032, 0.1352349441829415, 0.1940327460016117, 0.07055736218240426, 0.19765106576878996, 0.1317673771791933, 0.30306496751214457, 0.3689486561017412, 0.7119258448397301, 0.05695406758717841, 0.17086220276153521, 0.08543110138076761, 0.05126594479353658, 0.10253188958707316, 0.30759566876121947, 0.5639253927289024, 0.04456347011051545, 0.04456347011051545, 0.4010712309946391, 0.5347616413261854, 0.01758625902170689, 0.28138014434731023, 0.12310381315194822, 0.5803465477163273, 0.12730015824406976, 0.5410256725372964, 0.1909502373661046, 0.12730015824406976, 0.28965844152269804, 0.0762259056638679, 0.4116198905848866, 0.2286777169916037, 0.3468550588831431, 0.09711941648728006, 0.22198723768521159, 0.33298085652781734, 0.03664470319053752, 0.6962493606202128, 0.14657881276215007, 0.10993410957161255, 0.0989438070681873, 0.2968314212045619, 0.04947190353409365, 0.5441909388750301, 0.4561715133156373, 0.19550207713527315, 0.15205717110521244, 0.20636330364278832, 0.27878058427082625, 0.1967862947794068, 0.319777729016536, 0.20498572372854873, 0.46674141833181365, 0.3640583062988147, 0.16802691059945293, 0.009334828366636273, 0.48042133125782366, 0.24670284578104457, 0.19476540456398256, 0.07790616182559303, 0.6961512325448428, 0.20884536976345286, 0.06961512325448428, 0.03480756162724214, 0.12330644557679668, 0.42746234466622846, 0.17262902380751535, 0.27127418026895267, 0.6363490946613061, 0.16746028806876473, 0.0669841152275059, 0.1339682304550118, 0.1485926919045401, 0.1485926919045401, 0.22964325112519834, 0.47279492878717305, 0.18362296408138043, 0.18362296408138043, 0.3147822241395093, 0.3278981501453222, 0.21323964604746057, 0.5330991151186514, 0.10661982302373028, 0.10661982302373028, 0.8083164559587258, 0.05987529303397969, 0.08981293955096953, 0.029937646516989845, 0.10571018765943042, 0.1107440061194033, 0.7349374951560401, 0.0453043661397559, 0.1463851082830406, 0.1463851082830406, 0.6221367102029225, 0.10978883121228045, 0.16445927503285632, 0.05481975834428544, 0.7674766168199961, 0.05481975834428544, 0.37129699450989995, 0.2091212957584494, 0.24753132967326663, 0.17071126184363217, 0.23771116240856455, 0.15847410827237637, 0.36449044902646566, 0.23771116240856455, 0.6040811975213193, 0.0697016766370753, 0.04646778442471687, 0.25557281433594276, 0.09906594767264752, 0.7429946075448565, 0.04953297383632376, 0.14859892150897128, 0.038312201661451224, 0.12451465539971647, 0.24902931079943294, 0.5842610753371311, 0.09153575314402135, 0.045767876572010674, 0.8238217782961921, 0.045767876572010674, 0.07973384069081724, 0.27906844241786033, 0.03986692034540862, 0.5980038051811293, 0.08699934088705288, 0.13671324996536882, 0.04971390907831593, 0.720851681635581, 0.0548750760190494, 0.44585999265477644, 0.1989221505690541, 0.30181291810477173, 0.052477129434449626, 0.10495425886889925, 0.6822026826478451, 0.15743138830334888, 0.0566220288021339, 0.5095982592192051, 0.1132440576042678, 0.31142115841173645, 0.09851610719783473, 0.0820967559981956, 0.7881288575826778, 0.03283870239927824, 0.2530778486860025, 0.506155697372005, 0.101231139474401, 0.101231139474401, 0.162254417291181, 0.703102474928451, 0.054084805763727005, 0.10816961152745401, 0.469148178548777, 0.01876592714195108, 0.22519112570341296, 0.2814889071292662, 0.3280966704364113, 0.08948091011902126, 0.5368854607141276, 0.05965394007934751, 0.5915401727247749, 0.04550309020959807, 0.3185216314671865, 0.04550309020959807, 0.07954544802076927, 0.2585227060675001, 0.2187499820571155, 0.437499964114231], \"Term\": [\"acc\", \"acc\", \"acc\", \"acc\", \"access\", \"access\", \"access\", \"access\", \"accounts\", \"accounts\", \"accounts\", \"accounts\", \"already\", \"already\", \"already\", \"already\", \"always\", \"always\", \"always\", \"always\", \"always_says\", \"always_says\", \"always_says\", \"always_says\", \"amount\", \"amount\", \"amount\", \"amount\", \"annoying\", \"annoying\", \"annoying\", \"annoying\", \"answer\", \"answer\", \"answer\", \"answer\", \"asking\", \"asking\", \"asking\", \"asking\", \"automatically\", \"automatically\", \"automatically\", \"automatically\", \"available\", \"available\", \"available\", \"available\", \"back\", \"back\", \"back\", \"back\", \"balance\", \"balance\", \"balance\", \"balance\", \"bank\", \"bank\", \"bank\", \"bank\", \"bug\", \"bug\", \"bug\", \"bug\", \"bulok\", \"bulok\", \"bulok\", \"bulok\", \"button\", \"button\", \"button\", \"button\", \"card\", \"card\", \"card\", \"card\", \"cash\", \"cash\", \"cash\", \"cash\", \"charge\", \"charge\", \"charge\", \"charge\", \"code\", \"code\", \"code\", \"code\", \"convenient\", \"convenient\", \"convenient\", \"convenient\", \"could\", \"could\", \"could\", \"could\", \"crashes\", \"crashes\", \"crashes\", \"crashes\", \"crashing\", \"crashing\", \"crashing\", \"crashing\", \"credited\", \"credited\", \"credited\", \"credited\", \"customer_service\", \"customer_service\", \"customer_service\", \"customer_service\", \"customer_support\", \"customer_support\", \"customer_support\", \"customer_support\", \"days\", \"days\", \"days\", \"days\", \"deducted\", \"deducted\", \"deducted\", \"deducted\", \"disappointed\", \"disappointed\", \"disappointed\", \"disappointed\", \"disappointing\", \"disappointing\", \"disappointing\", \"disappointing\", \"email\", \"email\", \"email\", \"email\", \"error\", \"error\", \"error\", \"error\", \"errors\", \"errors\", \"errors\", \"errors\", \"ever\", \"ever\", \"ever\", \"ever\", \"every\", \"every\", \"every\", \"every\", \"every_time\", \"every_time\", \"every_time\", \"every_time\", \"everything\", \"everything\", \"everything\", \"everything\", \"everytime\", \"everytime\", \"everytime\", \"everytime\", \"experience\", \"experience\", \"experience\", \"experience\", \"failed\", \"failed\", \"failed\", \"failed\", \"feature\", \"feature\", \"feature\", \"feature\", \"fee\", \"fee\", \"fee\", \"fee\", \"fix\", \"fix\", \"fix\", \"fix\", \"fully_verified\", \"fully_verified\", \"fully_verified\", \"fully_verified\", \"fully_verify\", \"fully_verify\", \"fully_verify\", \"fully_verify\", \"gcredit\", \"gcredit\", \"gcredit\", \"gcredit\", \"get\", \"get\", \"get\", \"get\", \"get_fully\", \"get_fully\", \"get_fully\", \"get_fully\", \"get_verified\", \"get_verified\", \"get_verified\", \"get_verified\", \"going\", \"going\", \"going\", \"going\", \"got\", \"got\", \"got\", \"got\", \"happened\", \"happened\", \"happened\", \"happened\", \"hard\", \"hard\", \"hard\", \"hard\", \"hope\", \"hope\", \"hope\", \"hope\", \"id\", \"id\", \"id\", \"id\", \"ids\", \"ids\", \"ids\", \"ids\", \"info\", \"info\", \"info\", \"info\", \"information\", \"information\", \"information\", \"information\", \"input\", \"input\", \"input\", \"input\", \"issue\", \"issue\", \"issue\", \"issue\", \"issues\", \"issues\", \"issues\", \"issues\", \"keeps\", \"keeps\", \"keeps\", \"keeps\", \"keeps_crashing\", \"keeps_crashing\", \"keeps_crashing\", \"keeps_crashing\", \"last\", \"last\", \"last\", \"last\", \"limit\", \"limit\", \"limit\", \"limit\", \"link\", \"link\", \"link\", \"link\", \"load\", \"load\", \"load\", \"load\", \"loading\", \"loading\", \"loading\", \"loading\", \"log\", \"log\", \"log\", \"log\", \"login\", \"login\", \"login\", \"login\", \"lot\", \"lot\", \"lot\", \"lot\", \"maintenance\", \"maintenance\", \"maintenance\", \"maintenance\", \"makapag\", \"makapag\", \"makapag\", \"makapag\", \"many_times\", \"many_times\", \"many_times\", \"many_times\", \"message\", \"message\", \"message\", \"message\", \"money\", \"money\", \"money\", \"money\", \"mpin\", \"mpin\", \"mpin\", \"mpin\", \"nalang\", \"nalang\", \"nalang\", \"nalang\", \"need\", \"need\", \"need\", \"need\", \"needs\", \"needs\", \"needs\", \"needs\", \"never\", \"never\", \"never\", \"never\", \"number\", \"number\", \"number\", \"number\", \"ok\", \"ok\", \"ok\", \"ok\", \"one\", \"one\", \"one\", \"one\", \"open\", \"open\", \"open\", \"open\", \"option\", \"option\", \"option\", \"option\", \"paid\", \"paid\", \"paid\", \"paid\", \"pandemic\", \"pandemic\", \"pandemic\", \"pandemic\", \"pay\", \"pay\", \"pay\", \"pay\", \"pay_bills\", \"pay_bills\", \"pay_bills\", \"pay_bills\", \"paypal\", \"paypal\", \"paypal\", \"paypal\", \"people\", \"people\", \"people\", \"people\", \"pera\", \"pera\", \"pera\", \"pera\", \"pesos\", \"pesos\", \"pesos\", \"pesos\", \"php\", \"php\", \"php\", \"php\", \"poor\", \"poor\", \"poor\", \"poor\", \"poor_customer\", \"poor_customer\", \"poor_customer\", \"poor_customer\", \"problem\", \"problem\", \"problem\", \"problem\", \"purchase\", \"purchase\", \"purchase\", \"purchase\", \"pwede\", \"pwede\", \"pwede\", \"pwede\", \"really\", \"really\", \"really\", \"really\", \"receive\", \"receive\", \"receive\", \"receive\", \"received\", \"received\", \"received\", \"received\", \"recommend\", \"recommend\", \"recommend\", \"recommend\", \"reflect\", \"reflect\", \"reflect\", \"reflect\", \"refund\", \"refund\", \"refund\", \"refund\", \"said\", \"said\", \"said\", \"said\", \"scam\", \"scam\", \"scam\", \"scam\", \"send\", \"send\", \"send\", \"send\", \"send_money\", \"send_money\", \"send_money\", \"send_money\", \"sending\", \"sending\", \"sending\", \"sending\", \"service\", \"service\", \"service\", \"service\", \"since\", \"since\", \"since\", \"since\", \"slow\", \"slow\", \"slow\", \"slow\", \"stop\", \"stop\", \"stop\", \"stop\", \"student\", \"student\", \"student\", \"student\", \"student_id\", \"student_id\", \"student_id\", \"student_id\", \"stupid\", \"stupid\", \"stupid\", \"stupid\", \"support\", \"support\", \"support\", \"support\", \"system\", \"system\", \"system\", \"system\", \"text\", \"text\", \"text\", \"text\", \"though\", \"though\", \"though\", \"though\", \"ticket\", \"ticket\", \"ticket\", \"ticket\", \"time\", \"time\", \"time\", \"time\", \"transaction\", \"transaction\", \"transaction\", \"transaction\", \"transfer\", \"transfer\", \"transfer\", \"transfer\", \"transferred\", \"transferred\", \"transferred\", \"transferred\", \"tried\", \"tried\", \"tried\", \"tried\", \"trust\", \"trust\", \"trust\", \"trust\", \"try\", \"try\", \"try\", \"try\", \"trying\", \"trying\", \"trying\", \"trying\", \"two\", \"two\", \"two\", \"two\", \"unreliable\", \"unreliable\", \"unreliable\", \"unreliable\", \"update\", \"update\", \"update\", \"update\", \"updated\", \"updated\", \"updated\", \"updated\", \"updating\", \"updating\", \"updating\", \"updating\", \"use\", \"use\", \"use\", \"use\", \"useless\", \"useless\", \"useless\", \"useless\", \"user\", \"user\", \"user\", \"user\", \"valid_id\", \"valid_id\", \"valid_id\", \"valid_id\", \"verification\", \"verification\", \"verification\", \"verification\", \"verification_code\", \"verification_code\", \"verification_code\", \"verification_code\", \"verification_process\", \"verification_process\", \"verification_process\", \"verification_process\", \"verified\", \"verified\", \"verified\", \"verified\", \"verify\", \"verify\", \"verify\", \"verify\", \"verifying\", \"verifying\", \"verifying\", \"verifying\", \"wait\", \"wait\", \"wait\", \"wait\", \"wala\", \"wala\", \"wala\", \"wala\", \"way\", \"way\", \"way\", \"way\", \"went\", \"went\", \"went\", \"went\", \"working\", \"working\", \"working\", \"working\", \"worst\", \"worst\", \"worst\", \"worst\", \"worst_customer\", \"worst_customer\", \"worst_customer\", \"worst_customer\", \"wrong\", \"wrong\", \"wrong\", \"wrong\"]}, \"R\": 30, \"lambda.step\": 0.01, \"plot.opts\": {\"xlab\": \"PC1\", \"ylab\": \"PC2\"}, \"topic.order\": [2, 1, 4, 3]};\n",
       "\n",
       "function LDAvis_load_lib(url, callback){\n",
       "  var s = document.createElement('script');\n",
       "  s.src = url;\n",
       "  s.async = true;\n",
       "  s.onreadystatechange = s.onload = callback;\n",
       "  s.onerror = function(){console.warn(\"failed to load library \" + url);};\n",
       "  document.getElementsByTagName(\"head\")[0].appendChild(s);\n",
       "}\n",
       "\n",
       "if(typeof(LDAvis) !== \"undefined\"){\n",
       "   // already loaded: just create the visualization\n",
       "   !function(LDAvis){\n",
       "       new LDAvis(\"#\" + \"ldavis_el101358460477607869399685\", ldavis_el101358460477607869399685_data);\n",
       "   }(LDAvis);\n",
       "}else if(typeof define === \"function\" && define.amd){\n",
       "   // require.js is available: use it to load d3/LDAvis\n",
       "   require.config({paths: {d3: \"https://d3js.org/d3.v5\"}});\n",
       "   require([\"d3\"], function(d3){\n",
       "      window.d3 = d3;\n",
       "      LDAvis_load_lib(\"https://cdn.jsdelivr.net/gh/bmabey/pyLDAvis@3.3.1/pyLDAvis/js/ldavis.v3.0.0.js\", function(){\n",
       "        new LDAvis(\"#\" + \"ldavis_el101358460477607869399685\", ldavis_el101358460477607869399685_data);\n",
       "      });\n",
       "    });\n",
       "}else{\n",
       "    // require.js not available: dynamically load d3 & LDAvis\n",
       "    LDAvis_load_lib(\"https://d3js.org/d3.v5.js\", function(){\n",
       "         LDAvis_load_lib(\"https://cdn.jsdelivr.net/gh/bmabey/pyLDAvis@3.3.1/pyLDAvis/js/ldavis.v3.0.0.js\", function(){\n",
       "                 new LDAvis(\"#\" + \"ldavis_el101358460477607869399685\", ldavis_el101358460477607869399685_data);\n",
       "            })\n",
       "         });\n",
       "}\n",
       "</script>"
      ],
      "text/plain": [
       "PreparedData(topic_coordinates=              x         y  topics  cluster       Freq\n",
       "topic                                                \n",
       "1      0.072212 -0.013443       1        1  28.229678\n",
       "0      0.037543  0.042062       2        1  25.996841\n",
       "3     -0.037192 -0.075909       3        1  23.581636\n",
       "2     -0.072563  0.047291       4        1  22.191845, topic_info=       Term        Freq       Total Category  logprob  loglift\n",
       "83   update  198.000000  198.000000  Default  30.0000  30.0000\n",
       "28     cash  218.000000  218.000000  Default  29.0000  29.0000\n",
       "12    money  325.000000  325.000000  Default  28.0000  28.0000\n",
       "174    load  118.000000  118.000000  Default  27.0000  27.0000\n",
       "198    pera   77.000000   77.000000  Default  26.0000  26.0000\n",
       "..      ...         ...         ...      ...      ...      ...\n",
       "22      use   40.488221  234.313774   Topic4  -4.2649  -0.2502\n",
       "16   system   23.687692   72.076216   Topic4  -4.8010   0.3927\n",
       "138     get   25.138375  110.165369   Topic4  -4.7416   0.0279\n",
       "54     time   25.133859  121.959713   Topic4  -4.7417  -0.0740\n",
       "28     cash   19.866057  218.598195   Topic4  -4.9769  -0.8928\n",
       "\n",
       "[227 rows x 6 columns], token_table=      Topic      Freq            Term\n",
       "term                                 \n",
       "180       1  0.029245             acc\n",
       "180       2  0.526417             acc\n",
       "180       3  0.116982             acc\n",
       "180       4  0.321699             acc\n",
       "134       1  0.279556          access\n",
       "...     ...       ...             ...\n",
       "157       4  0.045503  worst_customer\n",
       "91        1  0.079545           wrong\n",
       "91        2  0.258523           wrong\n",
       "91        3  0.218750           wrong\n",
       "91        4  0.437500           wrong\n",
       "\n",
       "[628 rows x 3 columns], R=30, lambda_step=0.01, plot_opts={'xlab': 'PC1', 'ylab': 'PC2'}, topic_order=[2, 1, 4, 3])"
      ]
     },
     "execution_count": 19,
     "metadata": {},
     "output_type": "execute_result"
    }
   ],
   "source": [
    "gcash_bad_as_visual = gensimvis.prepare(gcash_bad_as_final, gcash_bad_corpus_as, gcash_bad_dict_as)\n",
    "print(gcash_bad_as_final.print_topics())\n",
    "gcash_bad_as_visual"
   ]
  },
  {
   "cell_type": "code",
   "execution_count": 20,
   "id": "exclusive-albuquerque",
   "metadata": {},
   "outputs": [
    {
     "name": "stdout",
     "output_type": "stream",
     "text": [
      "[(0, '0.258*\"good\" + 0.166*\"nice\" + 0.080*\"great\" + 0.064*\"apps\" + 0.049*\"ok\" + 0.048*\"useful\" + 0.042*\"excellent\" + 0.030*\"helpful\" + 0.026*\"awesome\" + 0.023*\"amazing\"'), (1, '0.098*\"easy\" + 0.078*\"use\" + 0.063*\"convenient\" + 0.052*\"money\" + 0.028*\"fast\" + 0.025*\"transaction\" + 0.017*\"send\" + 0.015*\"cash\" + 0.014*\"pay_bills\" + 0.014*\"payment\"'), (2, '0.097*\"love\" + 0.018*\"update\" + 0.017*\"load\" + 0.016*\"much\" + 0.013*\"maganda\" + 0.013*\"give\" + 0.012*\"cash\" + 0.011*\"really\" + 0.011*\"hope\" + 0.009*\"need\"')]\n"
     ]
    },
    {
     "data": {
      "text/html": [
       "\n",
       "<link rel=\"stylesheet\" type=\"text/css\" href=\"https://cdn.jsdelivr.net/gh/bmabey/pyLDAvis@3.3.1/pyLDAvis/js/ldavis.v1.0.0.css\">\n",
       "\n",
       "\n",
       "<div id=\"ldavis_el101358449259046869473349\"></div>\n",
       "<script type=\"text/javascript\">\n",
       "\n",
       "var ldavis_el101358449259046869473349_data = {\"mdsDat\": {\"x\": [-0.38974406394151345, 0.18767498506441144, 0.20206907887710204], \"y\": [0.006615969655936818, -0.2720155812393376, 0.26539961158340075], \"topics\": [1, 2, 3], \"cluster\": [1, 1, 1], \"Freq\": [40.93594993962979, 35.03625432344608, 24.027795736924134]}, \"tinfo\": {\"Term\": [\"good\", \"nice\", \"easy\", \"love\", \"great\", \"use\", \"apps\", \"convenient\", \"money\", \"ok\", \"useful\", \"excellent\", \"helpful\", \"fast\", \"awesome\", \"transaction\", \"amazing\", \"update\", \"send\", \"pay_bills\", \"payment\", \"pay\", \"load\", \"happy\", \"online\", \"transactions\", \"maganda\", \"cash\", \"usefull\", \"much\", \"good\", \"nice\", \"ok\", \"apps\", \"excellent\", \"great\", \"awesome\", \"amazing\", \"verry\", \"wow\", \"usefull\", \"happy\", \"satisfied\", \"cool\", \"helpful\", \"helpfull\", \"excelent\", \"legit\", \"awsome\", \"useful\", \"ilove\", \"nc\", \"superb\", \"fantastic\", \"tnx\", \"super\", \"gud\", \"beautiful\", \"excellence\", \"goood\", \"thankyou\", \"service\", \"okay\", \"quality\", \"far\", \"best\", \"experience\", \"convinient\", \"thanks\", \"really\", \"reliable\", \"easy\", \"use\", \"money\", \"convenient\", \"fast\", \"transaction\", \"pay_bills\", \"pay\", \"online\", \"transactions\", \"transfer\", \"paying_bills\", \"payment\", \"perfect\", \"way\", \"save\", \"helps\", \"ever\", \"safe\", \"easier\", \"pandemic\", \"hassle_free\", \"payments\", \"go\", \"used\", \"faster\", \"keep\", \"hassle\", \"transact\", \"sending_money\", \"send\", \"buy_load\", \"one\", \"make\", \"job\", \"bank\", \"big\", \"lot\", \"free\", \"cash\", \"time\", \"need\", \"load\", \"best\", \"bills\", \"thanks\", \"love\", \"update\", \"maganda\", \"problem\", \"verygood\", \"open\", \"gamitin\", \"stars\", \"give\", \"wala\", \"pera\", \"fix\", \"know\", \"salamat\", \"convenience\", \"verified\", \"rate\", \"got\", \"verify\", \"mabilis\", \"id\", \"download\", \"since\", \"sometimes\", \"pwede\", \"balance\", \"already\", \"number\", \"madali\", \"rebate\", \"people\", \"new\", \"add\", \"hope\", \"try\", \"much\", \"always\", \"load\", \"really\", \"cash\", \"need\", \"thanks\", \"want\"], \"Freq\": [14520.0, 9332.0, 4701.0, 3195.0, 4508.0, 3731.0, 3609.0, 3040.0, 2523.0, 2734.0, 2737.0, 2333.0, 1708.0, 1354.0, 1472.0, 1206.0, 1300.0, 585.0, 837.0, 667.0, 668.0, 645.0, 949.0, 713.0, 599.0, 587.0, 427.0, 1140.0, 689.0, 744.0, 14518.49376334212, 9331.292882741578, 2732.7855938402754, 3607.3833201786288, 2332.494190139612, 4505.220607922045, 1470.6785260691397, 1299.3914403516528, 672.0953327385075, 632.8898361984081, 688.0478199011732, 711.7966774738729, 632.1147725145455, 442.8055200578456, 1699.192856452013, 196.59690229324542, 156.09489301610955, 241.0176742661949, 133.94886892074683, 2709.327515965876, 142.68489677764578, 106.59454193073778, 103.24434197729316, 86.52670050729276, 118.11262561263828, 632.9831871038909, 74.20645443066817, 71.26189791229399, 61.33983214974896, 57.6840244078464, 96.69766495301717, 528.8347633225944, 345.10445714689786, 90.78842574361113, 344.2250539419968, 823.0813698307498, 336.3999299879253, 291.2455109464101, 331.14271467237086, 250.18628728880353, 173.77366551920662, 4699.838184766246, 3730.4534890365817, 2521.495552358367, 3037.5018536814123, 1352.8281760825168, 1205.3778811697155, 666.5585227867944, 643.6955300030826, 598.1955763622948, 586.2491598046984, 572.4207710614312, 421.3785077230541, 666.0262482775682, 377.13706867913305, 379.3307472665046, 334.72511332910216, 366.1428569577091, 302.6308190169762, 283.2097859530217, 251.6863487744128, 287.9879405503569, 245.74943906437588, 246.41806273164474, 242.92742127932306, 460.3465104029146, 193.354795094762, 292.5802805125403, 247.16716576728376, 198.0699366307189, 187.73982525090696, 828.7840594234315, 480.1990732130742, 388.99230215715147, 279.0323603526999, 472.80549589261807, 312.0579447180107, 260.99875666683283, 429.2395998606588, 273.24680291055773, 730.1357906663313, 418.541710755162, 423.1346329275785, 376.46842261916294, 391.4668300038715, 307.0444428303109, 315.37522187708754, 3193.8972980724493, 584.7172400903988, 426.0238766268167, 300.3221099946311, 263.67345852063096, 265.2121556079094, 256.59435543853203, 260.3994963920924, 425.5518985410606, 203.30763949213926, 202.08649179176996, 183.82820060181066, 184.33907764283515, 167.85502723376155, 237.28883311686315, 163.1261704652007, 172.86763291526944, 173.4941471979723, 139.47357855496642, 133.45554314571288, 126.14981871229288, 213.74459929126138, 153.25895059519777, 159.560796344884, 112.84556977473916, 115.40131406298097, 123.12285650342956, 117.34438828809135, 108.7108626823955, 110.19037438727968, 129.6031030282257, 162.6206683291679, 131.4845961990027, 361.8467738962027, 183.81978503628082, 525.8192154739094, 261.25874406093544, 571.9513800289914, 361.95694409166094, 409.49991370896186, 306.3928041159318, 226.49206182072587, 175.0875454611947], \"Total\": [14520.0, 9332.0, 4701.0, 3195.0, 4508.0, 3731.0, 3609.0, 3040.0, 2523.0, 2734.0, 2737.0, 2333.0, 1708.0, 1354.0, 1472.0, 1206.0, 1300.0, 585.0, 837.0, 667.0, 668.0, 645.0, 949.0, 713.0, 599.0, 587.0, 427.0, 1140.0, 689.0, 744.0, 14520.003522560983, 9332.740198377676, 2734.2939520148093, 3609.4751483540617, 2333.8867975947214, 4508.433249602766, 1472.0808691071368, 1300.9224212479032, 673.5416166260811, 634.3096887316908, 689.6760041742768, 713.5560449998815, 633.7707127245479, 444.3131111429515, 1708.8041824331112, 198.1677295833967, 157.43535553512626, 243.31259934177612, 135.27991220602144, 2737.324377187128, 144.1806462921096, 107.97420576559078, 104.83035299386627, 87.96506265661272, 120.44096754021372, 645.4917759729861, 75.7416751696319, 72.76167482766931, 62.672439589743064, 59.0424452961514, 99.46211566561828, 573.8478686649817, 371.9042707992548, 94.65370015647312, 438.8354491302076, 1215.3705232858904, 428.35355729943456, 435.5140428233362, 873.0099983701843, 867.0492475291112, 377.75536734221157, 4701.1259710588665, 3731.8760529724073, 2523.1878089751435, 3040.2026295058117, 1354.155169825257, 1206.9321722843836, 667.9076088935568, 645.1981348400313, 599.6413592433619, 587.6734115574159, 573.9091971518246, 422.72066684217094, 668.2924170885765, 378.4912955994583, 380.7576579826949, 336.15364219988925, 367.7843828332676, 304.1716241980374, 284.667088149356, 252.98155825471838, 289.5054210786993, 247.07643707779732, 247.81135878056844, 244.360627550714, 463.1855364560435, 194.652679025547, 294.5916003303098, 248.9166770639967, 199.5016591820476, 189.14338472515303, 837.7309375664487, 484.3553817731957, 391.97646004011017, 281.12287229272755, 479.9313166997417, 316.09559258813505, 263.57078186971296, 450.2729441220376, 277.7022618442887, 1140.2518010048934, 570.539853790007, 730.1306107566592, 949.0262709530568, 1215.3705232858904, 398.8081924315064, 873.0099983701843, 3195.332345845246, 585.9945419005293, 427.2725105458736, 301.70246162850793, 264.91708643171654, 266.49554475535615, 257.89625656402495, 261.75634166003016, 427.9628670580218, 204.56512628598125, 203.3560547822241, 185.0905076277326, 185.6747885909599, 169.13055351797033, 239.12297275520692, 164.4084425915719, 174.248787554641, 174.88960950390825, 140.720544307021, 134.7370932882724, 127.39652066638797, 215.90491061529164, 154.8195093973829, 161.32363611318084, 114.10215519092391, 116.70399625660257, 124.53314137670111, 118.69495660273876, 109.97978291237237, 111.50270590811812, 131.56051604063907, 165.9640774094437, 133.69942530485542, 434.980401248902, 201.71352595031203, 744.0973505255059, 324.99008282621537, 949.0262709530568, 867.0492475291112, 1140.2518010048934, 730.1306107566592, 873.0099983701843, 285.3147782448318], \"Category\": [\"Default\", \"Default\", \"Default\", \"Default\", \"Default\", \"Default\", \"Default\", \"Default\", \"Default\", \"Default\", \"Default\", \"Default\", \"Default\", \"Default\", \"Default\", \"Default\", \"Default\", \"Default\", \"Default\", \"Default\", \"Default\", \"Default\", \"Default\", \"Default\", \"Default\", \"Default\", \"Default\", \"Default\", \"Default\", \"Default\", \"Topic1\", \"Topic1\", \"Topic1\", \"Topic1\", \"Topic1\", \"Topic1\", \"Topic1\", \"Topic1\", \"Topic1\", \"Topic1\", \"Topic1\", \"Topic1\", \"Topic1\", \"Topic1\", \"Topic1\", \"Topic1\", \"Topic1\", \"Topic1\", \"Topic1\", \"Topic1\", \"Topic1\", \"Topic1\", \"Topic1\", \"Topic1\", \"Topic1\", \"Topic1\", \"Topic1\", \"Topic1\", \"Topic1\", \"Topic1\", \"Topic1\", \"Topic1\", \"Topic1\", \"Topic1\", \"Topic1\", \"Topic1\", \"Topic1\", \"Topic1\", \"Topic1\", \"Topic1\", \"Topic1\", \"Topic2\", \"Topic2\", \"Topic2\", \"Topic2\", \"Topic2\", \"Topic2\", \"Topic2\", \"Topic2\", \"Topic2\", \"Topic2\", \"Topic2\", \"Topic2\", \"Topic2\", \"Topic2\", \"Topic2\", \"Topic2\", \"Topic2\", \"Topic2\", \"Topic2\", \"Topic2\", \"Topic2\", \"Topic2\", \"Topic2\", \"Topic2\", \"Topic2\", \"Topic2\", \"Topic2\", \"Topic2\", \"Topic2\", \"Topic2\", \"Topic2\", \"Topic2\", \"Topic2\", \"Topic2\", \"Topic2\", \"Topic2\", \"Topic2\", \"Topic2\", \"Topic2\", \"Topic2\", \"Topic2\", \"Topic2\", \"Topic2\", \"Topic2\", \"Topic2\", \"Topic2\", \"Topic3\", \"Topic3\", \"Topic3\", \"Topic3\", \"Topic3\", \"Topic3\", \"Topic3\", \"Topic3\", \"Topic3\", \"Topic3\", \"Topic3\", \"Topic3\", \"Topic3\", \"Topic3\", \"Topic3\", \"Topic3\", \"Topic3\", \"Topic3\", \"Topic3\", \"Topic3\", \"Topic3\", \"Topic3\", \"Topic3\", \"Topic3\", \"Topic3\", \"Topic3\", \"Topic3\", \"Topic3\", \"Topic3\", \"Topic3\", \"Topic3\", \"Topic3\", \"Topic3\", \"Topic3\", \"Topic3\", \"Topic3\", \"Topic3\", \"Topic3\", \"Topic3\", \"Topic3\", \"Topic3\", \"Topic3\", \"Topic3\"], \"logprob\": [30.0, 29.0, 28.0, 27.0, 26.0, 25.0, 24.0, 23.0, 22.0, 21.0, 20.0, 19.0, 18.0, 17.0, 16.0, 15.0, 14.0, 13.0, 12.0, 11.0, 10.0, 9.0, 8.0, 7.0, 6.0, 5.0, 4.0, 3.0, 2.0, 1.0, -1.3532, -1.7953, -3.0233, -2.7457, -3.1817, -2.5234, -3.6429, -3.7668, -4.426, -4.4861, -4.4026, -4.3686, -4.4873, -4.8433, -3.4985, -5.6553, -5.8859, -5.4515, -6.039, -3.032, -5.9758, -6.2674, -6.2993, -6.476, -6.1648, -4.486, -6.6296, -6.6701, -6.82, -6.8814, -6.3648, -4.6657, -5.0926, -6.4279, -5.0951, -4.2234, -5.1181, -5.2622, -5.1339, -5.4142, -5.7787, -2.3255, -2.5565, -2.9482, -2.762, -3.5708, -3.6862, -4.2787, -4.3136, -4.3869, -4.407, -4.4309, -4.7373, -4.2795, -4.8482, -4.8424, -4.9675, -4.8778, -5.0683, -5.1346, -5.2526, -5.1179, -5.2765, -5.2738, -5.288, -4.6488, -5.5163, -5.102, -5.2707, -5.4922, -5.5457, -4.0608, -4.6066, -4.8172, -5.1495, -4.6221, -5.0376, -5.2163, -4.7188, -5.1704, -4.1876, -4.744, -4.7331, -4.85, -4.8109, -5.0538, -5.027, -2.3346, -4.0325, -4.3491, -4.6988, -4.8289, -4.8231, -4.8561, -4.8414, -4.3502, -5.0889, -5.0949, -5.1896, -5.1868, -5.2805, -4.9343, -5.3091, -5.2511, -5.2475, -5.4657, -5.5098, -5.5661, -5.0388, -5.3715, -5.3312, -5.6776, -5.6552, -5.5904, -5.6385, -5.7149, -5.7014, -5.5391, -5.3122, -5.5247, -4.5124, -5.1897, -4.1387, -4.8381, -4.0546, -4.5121, -4.3887, -4.6787, -4.9809, -5.2383], \"loglift\": [30.0, 29.0, 28.0, 27.0, 26.0, 25.0, 24.0, 23.0, 22.0, 21.0, 20.0, 19.0, 18.0, 17.0, 16.0, 15.0, 14.0, 13.0, 12.0, 11.0, 10.0, 9.0, 8.0, 7.0, 6.0, 5.0, 4.0, 3.0, 2.0, 1.0, 0.8931, 0.893, 0.8926, 0.8926, 0.8926, 0.8924, 0.8922, 0.892, 0.891, 0.8909, 0.8908, 0.8907, 0.8905, 0.8898, 0.8875, 0.8852, 0.8846, 0.8837, 0.8833, 0.8829, 0.8827, 0.8803, 0.8779, 0.8767, 0.8736, 0.8736, 0.8727, 0.8723, 0.8717, 0.8699, 0.865, 0.8115, 0.8184, 0.8515, 0.6503, 0.5034, 0.6515, 0.4908, -0.0762, -0.3497, 0.1167, 1.0485, 1.0484, 1.0481, 1.0479, 1.0478, 1.0475, 1.0468, 1.0465, 1.0464, 1.0464, 1.0462, 1.0456, 1.0454, 1.0452, 1.045, 1.0445, 1.0443, 1.0437, 1.0437, 1.0437, 1.0435, 1.0434, 1.0431, 1.0429, 1.0426, 1.0421, 1.0419, 1.0417, 1.0416, 1.0413, 1.038, 1.0402, 1.0411, 1.0413, 1.0338, 1.0359, 1.039, 1.0009, 1.0326, 0.603, 0.739, 0.5033, 0.1242, -0.0841, 0.7873, 0.0306, 1.4255, 1.4238, 1.423, 1.4214, 1.4213, 1.4211, 1.4209, 1.4208, 1.4203, 1.4198, 1.4197, 1.4191, 1.4187, 1.4184, 1.4183, 1.4181, 1.418, 1.4179, 1.4171, 1.4164, 1.4161, 1.4159, 1.4158, 1.415, 1.4149, 1.4147, 1.4146, 1.4145, 1.4144, 1.4141, 1.411, 1.4056, 1.4093, 1.2419, 1.3331, 1.0787, 1.2077, 0.9196, 0.5524, 0.4019, 0.5576, 0.0767, 0.9377]}, \"token.table\": {\"Topic\": [1, 2, 3, 1, 2, 3, 1, 2, 3, 1, 2, 3, 1, 2, 3, 1, 2, 3, 1, 2, 3, 1, 2, 3, 1, 2, 3, 1, 2, 3, 1, 2, 3, 1, 2, 3, 1, 2, 3, 1, 2, 3, 1, 2, 3, 1, 2, 3, 1, 2, 3, 1, 2, 3, 1, 2, 3, 1, 2, 3, 1, 2, 3, 1, 2, 3, 1, 2, 3, 1, 2, 3, 1, 2, 3, 1, 2, 3, 1, 2, 3, 1, 2, 3, 1, 2, 3, 1, 2, 3, 1, 2, 3, 1, 2, 3, 1, 2, 3, 1, 2, 3, 1, 2, 3, 1, 2, 3, 1, 2, 3, 1, 2, 3, 1, 2, 3, 1, 2, 3, 1, 2, 3, 1, 2, 3, 1, 2, 3, 1, 2, 3, 1, 2, 3, 1, 2, 3, 1, 2, 3, 1, 2, 3, 1, 2, 3, 1, 2, 3, 1, 2, 3, 1, 2, 3, 1, 2, 3, 1, 2, 3, 1, 2, 3, 1, 2, 3, 1, 2, 3, 1, 2, 3, 1, 2, 3, 1, 2, 3, 1, 2, 3, 1, 2, 3, 1, 2, 3, 1, 2, 3, 1, 2, 3, 1, 2, 3, 1, 2, 3, 1, 2, 3, 1, 2, 3, 1, 2, 3, 1, 2, 3, 1, 2, 3, 1, 2, 3, 1, 2, 3, 1, 2, 3, 1, 2, 3, 1, 2, 3, 1, 2, 3, 1, 2, 3, 1, 2, 3, 1, 2, 3, 1, 2, 3, 1, 2, 3, 1, 2, 3, 1, 2, 3, 1, 2, 3, 1, 2, 3, 1, 2, 3, 1, 2, 3, 1, 2, 3, 1, 2, 3, 1, 2, 3, 1, 2, 3, 1, 2, 3, 1, 2, 3, 1, 2, 3, 1, 2, 3, 1, 2, 3, 1, 2, 3, 1, 2, 3, 1, 2, 3, 1, 2, 3, 1, 2, 3, 1, 2, 3, 1, 2, 3, 1, 2, 3, 1, 2, 3, 1, 2, 3, 1, 2, 3, 1, 2, 3, 1, 2, 3, 1, 2, 3, 1, 2, 3, 1, 2, 3, 1, 2, 3, 1, 2, 3, 1, 2, 3, 1, 2, 3, 1, 2, 3, 1, 2, 3, 1, 2, 3, 1, 2, 3, 1, 2, 3], \"Freq\": [0.00747946371287569, 0.01495892742575138, 0.9798097463867155, 0.008029990964213241, 0.008029990964213241, 0.9876888885982287, 0.0030770169701908666, 0.1938520691220246, 0.8031014292198162, 0.9985222629601086, 0.0007686853448499681, 0.0007686853448499681, 0.9993142636388035, 0.0002770485898638213, 0.0002770485898638213, 0.9992657542599597, 0.0006793105059551051, 0.0006793105059551051, 0.9905387859501844, 0.007392080492165555, 0.007392080492165555, 0.008568686866568417, 0.008568686866568417, 0.9853989896553679, 0.0031635999471304743, 0.987043183504708, 0.009490799841391423, 0.9757884238942863, 0.01374349892808854, 0.01374349892808854, 0.6771597502421955, 0.3217125909413104, 0.0008227943502335304, 0.0037940472494948823, 0.9902463321181643, 0.0075880944989897645, 0.002507471057460149, 0.7697936146402657, 0.22817986622887357, 0.0020645997497520533, 0.9910078798809855, 0.008258398999008213, 0.0008769992725455107, 0.6402094689582228, 0.3586927024711139, 0.004181948678865381, 0.004181948678865381, 0.9911218368910952, 0.0006578508881577746, 0.9992754991116596, 0.0003289254440788873, 0.6681759286417372, 0.3306437585031277, 0.002296137211827276, 0.9970446266157358, 0.0022506650713673493, 0.0022506650713673493, 0.0046316686227755215, 0.009263337245551043, 0.9911770852739616, 0.003952857302717436, 0.9961200402847938, 0.003952857302717436, 0.00021271499767421957, 0.999760489068832, 0.00021271499767421957, 0.0032876176488735474, 0.9961481476086849, 0.0032876176488735474, 0.9908828894866248, 0.00635181339414503, 0.00635181339414503, 0.9733145924956658, 0.015955976926158456, 0.015955976926158456, 0.9991915642195389, 0.0004284697959775038, 0.0004284697959775038, 0.7843987618973453, 0.1377366873569743, 0.07703916411491783, 0.9890290232568809, 0.011368149692607826, 0.011368149692607826, 0.783892916312536, 0.0865928221508034, 0.1298892332262051, 0.0007384678080349109, 0.9991469442712344, 0.0007384678080349109, 0.005137355442556, 0.9915096004133079, 0.005137355442556, 0.005402762209779403, 0.005402762209779403, 0.9941082465994102, 0.003600978952633497, 0.9830672540689447, 0.014403915810533989, 0.0038775281709129477, 0.0038775281709129477, 0.9965247399246276, 0.002336651324154306, 0.004673302648308612, 0.9954134640897345, 0.004092312292791368, 0.9944318871483024, 0.004092312292791368, 0.9998620163860243, 6.887050670795043e-05, 6.887050670795043e-05, 0.9823441374942621, 0.016936967887832107, 0.016936967887832107, 0.005717892577132509, 0.005717892577132509, 0.989195415843924, 0.9992384827693592, 0.0004436130889098154, 0.0002218065444549077, 0.977005061404686, 0.013202771100063324, 0.013202771100063324, 0.9978193093439749, 0.0014014316142471558, 0.0014014316142471558, 0.0040174086035340215, 0.9922999250729033, 0.0040174086035340215, 0.004047330501552961, 0.9956433033820283, 0.004047330501552961, 0.9942625477313899, 0.004681636481372054, 0.0005852045601715067, 0.9941073676029312, 0.005046230292400666, 0.005046230292400666, 0.002718984401394071, 0.99514829091023, 0.002718984401394071, 0.002298954153172951, 0.16782365318162543, 0.8322214034486083, 0.007849507936081631, 0.007849507936081631, 0.9890379999462856, 0.9918113399927643, 0.006935743636313036, 0.006935743636313036, 0.012501788883582618, 0.9855576903224297, 0.002083631480597103, 0.003394529914901693, 0.994597265066196, 0.003394529914901693, 0.005385760811086701, 0.005385760811086701, 0.990979989239953, 0.9904953572152354, 0.004109939241556994, 0.004109939241556994, 0.0010537116101072238, 0.39619556540031614, 0.602723040981332, 0.0022208751670608254, 0.9527554466690942, 0.04441750334121651, 0.0003129564914586294, 0.0003129564914586294, 0.9995830337188624, 0.007421861163803513, 0.007421861163803513, 0.9871075347858673, 0.009092580231739148, 0.009092580231739148, 0.9910912452595672, 0.002340426719056704, 0.002340426719056704, 0.997021782318156, 0.003557163427665609, 0.992448596318705, 0.007114326855331218, 0.0003963240454963102, 0.999132918696198, 0.0003963240454963102, 0.002687820348490066, 0.2902845976369271, 0.7068967516528873, 0.9909774213324083, 0.009261471227405685, 0.009261471227405685, 0.0013696179632349148, 0.579348398448369, 0.419103096749884, 0.006025400289081461, 0.018076200867244385, 0.9821402471202781, 0.9998135383241484, 0.00010714966652278946, 0.00010714966652278946, 0.008424957796201142, 0.008424957796201142, 0.9857200621555335, 0.9995267692364035, 0.000365725125955508, 0.000365725125955508, 0.9276580751776925, 0.002688863986022297, 0.06991046363657973, 0.002551173608480652, 0.9924065336989737, 0.005102347216961304, 0.0016676634868245542, 0.9972627651210835, 0.0016676634868245542, 0.003752407947074701, 0.003752407947074701, 0.9943881059747957, 0.0034541667519523214, 0.9948000245622686, 0.0034541667519523214, 0.0015499114861017651, 0.9981429970495367, 0.0015499114861017651, 0.001497213067622603, 0.9986411161042762, 0.001497213067622603, 0.0023656283651098727, 0.9959295417112564, 0.0023656283651098727, 0.0014963509601927123, 0.9965697394883464, 0.0029927019203854245, 0.004035327536723117, 0.9926905740338869, 0.004035327536723117, 0.007601064742639804, 0.007601064742639804, 0.9881384165431745, 0.004917483283548696, 0.004917483283548696, 0.9933316232768367, 0.0026420686859289326, 0.9960598945952076, 0.0026420686859289326, 0.0033145238345165355, 0.0033145238345165355, 0.9943571503549606, 0.008764076351815864, 0.008764076351815864, 0.9903406277551927, 0.9613992886655973, 0.010564827347973597, 0.031694482043920794, 0.005738920850088668, 0.005738920850088668, 0.9928333070653395, 0.2883342563440795, 0.2941009414709611, 0.41750800318622716, 0.00896839221842771, 0.00896839221842771, 0.9865231440270481, 0.4606155598111516, 0.5373848197796769, 0.00264721586098363, 0.0035128753608331814, 0.9941437271157904, 0.0035128753608331814, 0.005912592250185883, 0.005912592250185883, 0.9933154980312282, 0.9972060672905888, 0.0015778577014091595, 0.0015778577014091595, 0.002974830180198861, 0.9965681103666184, 0.002974830180198861, 0.001193700692139808, 0.9895778737839007, 0.009549605537118463, 0.005286994316259669, 0.9939549314568178, 0.005286994316259669, 0.9218471112050705, 0.00871311069191938, 0.06970488553535505, 0.006459134277665553, 0.006459134277665553, 0.9882475444828296, 0.006198719692249087, 0.006198719692249087, 0.9917951507598539, 0.0038203467914401197, 0.0038203467914401197, 0.9932901657744312, 0.9806476605311406, 0.013942857732670245, 0.0061968256589645535, 0.9825398566198345, 0.009539221908930431, 0.009539221908930431, 0.3791480058853179, 0.36082060983043845, 0.2588744692751717, 0.9752456938087294, 0.010054079317615768, 0.010054079317615768, 0.0017527259372980808, 0.7343921677278958, 0.2646616165320102, 0.9797330792830212, 0.008302822705788316, 0.008302822705788316, 0.005012489640938215, 0.9924729489057666, 0.005012489640938215, 0.0008285469746881309, 0.9983991044991978, 0.0008285469746881309, 0.0017016253931752018, 0.9971524804006683, 0.0017016253931752018, 0.001742435920112037, 0.9966733463040852, 0.001742435920112037, 0.004957525754848633, 0.08427793783242676, 0.9121847388921485, 0.001706500536262242, 0.001706500536262242, 0.9983028137134116, 0.00026796173983418035, 0.9994972895814926, 0.00026796173983418035, 0.0021589620601093627, 0.9931225476503068, 0.0043179241202187255, 0.9896525317119215, 0.009863646495467657, 0.00036532024057287616, 0.9975698673520134, 0.001449956202546531, 0.001449956202546531, 0.006082412704828232, 0.006082412704828232, 0.9914332708870018, 0.007106282916432031, 0.007106282916432031, 0.9877733253840524, 0.997711178362217, 0.0014846892535152038, 0.0014846892535152038, 0.003774765959679819, 0.003774765959679819, 0.9965382133554722, 0.004888418755218345, 0.004888418755218345, 0.9923490073093241, 0.0035049008191993785, 0.3855390901119316, 0.6133576433598912, 0.002626342449152918, 0.9953837882289558, 0.002626342449152918, 0.9979352534653703, 0.0015765169880969515, 0.0015765169880969515], \"Term\": [\"add\", \"add\", \"add\", \"already\", \"already\", \"already\", \"always\", \"always\", \"always\", \"amazing\", \"amazing\", \"amazing\", \"apps\", \"apps\", \"apps\", \"awesome\", \"awesome\", \"awesome\", \"awsome\", \"awsome\", \"awsome\", \"balance\", \"balance\", \"balance\", \"bank\", \"bank\", \"bank\", \"beautiful\", \"beautiful\", \"beautiful\", \"best\", \"best\", \"best\", \"big\", \"big\", \"big\", \"bills\", \"bills\", \"bills\", \"buy_load\", \"buy_load\", \"buy_load\", \"cash\", \"cash\", \"cash\", \"convenience\", \"convenience\", \"convenience\", \"convenient\", \"convenient\", \"convenient\", \"convinient\", \"convinient\", \"convinient\", \"cool\", \"cool\", \"cool\", \"download\", \"download\", \"download\", \"easier\", \"easier\", \"easier\", \"easy\", \"easy\", \"easy\", \"ever\", \"ever\", \"ever\", \"excelent\", \"excelent\", \"excelent\", \"excellence\", \"excellence\", \"excellence\", \"excellent\", \"excellent\", \"excellent\", \"experience\", \"experience\", \"experience\", \"fantastic\", \"fantastic\", \"fantastic\", \"far\", \"far\", \"far\", \"fast\", \"fast\", \"fast\", \"faster\", \"faster\", \"faster\", \"fix\", \"fix\", \"fix\", \"free\", \"free\", \"free\", \"gamitin\", \"gamitin\", \"gamitin\", \"give\", \"give\", \"give\", \"go\", \"go\", \"go\", \"good\", \"good\", \"good\", \"goood\", \"goood\", \"goood\", \"got\", \"got\", \"got\", \"great\", \"great\", \"great\", \"gud\", \"gud\", \"gud\", \"happy\", \"happy\", \"happy\", \"hassle\", \"hassle\", \"hassle\", \"hassle_free\", \"hassle_free\", \"hassle_free\", \"helpful\", \"helpful\", \"helpful\", \"helpfull\", \"helpfull\", \"helpfull\", \"helps\", \"helps\", \"helps\", \"hope\", \"hope\", \"hope\", \"id\", \"id\", \"id\", \"ilove\", \"ilove\", \"ilove\", \"job\", \"job\", \"job\", \"keep\", \"keep\", \"keep\", \"know\", \"know\", \"know\", \"legit\", \"legit\", \"legit\", \"load\", \"load\", \"load\", \"lot\", \"lot\", \"lot\", \"love\", \"love\", \"love\", \"mabilis\", \"mabilis\", \"mabilis\", \"madali\", \"madali\", \"madali\", \"maganda\", \"maganda\", \"maganda\", \"make\", \"make\", \"make\", \"money\", \"money\", \"money\", \"much\", \"much\", \"much\", \"nc\", \"nc\", \"nc\", \"need\", \"need\", \"need\", \"new\", \"new\", \"new\", \"nice\", \"nice\", \"nice\", \"number\", \"number\", \"number\", \"ok\", \"ok\", \"ok\", \"okay\", \"okay\", \"okay\", \"one\", \"one\", \"one\", \"online\", \"online\", \"online\", \"open\", \"open\", \"open\", \"pandemic\", \"pandemic\", \"pandemic\", \"pay\", \"pay\", \"pay\", \"pay_bills\", \"pay_bills\", \"pay_bills\", \"paying_bills\", \"paying_bills\", \"paying_bills\", \"payment\", \"payment\", \"payment\", \"payments\", \"payments\", \"payments\", \"people\", \"people\", \"people\", \"pera\", \"pera\", \"pera\", \"perfect\", \"perfect\", \"perfect\", \"problem\", \"problem\", \"problem\", \"pwede\", \"pwede\", \"pwede\", \"quality\", \"quality\", \"quality\", \"rate\", \"rate\", \"rate\", \"really\", \"really\", \"really\", \"rebate\", \"rebate\", \"rebate\", \"reliable\", \"reliable\", \"reliable\", \"safe\", \"safe\", \"safe\", \"salamat\", \"salamat\", \"salamat\", \"satisfied\", \"satisfied\", \"satisfied\", \"save\", \"save\", \"save\", \"send\", \"send\", \"send\", \"sending_money\", \"sending_money\", \"sending_money\", \"service\", \"service\", \"service\", \"since\", \"since\", \"since\", \"sometimes\", \"sometimes\", \"sometimes\", \"stars\", \"stars\", \"stars\", \"super\", \"super\", \"super\", \"superb\", \"superb\", \"superb\", \"thanks\", \"thanks\", \"thanks\", \"thankyou\", \"thankyou\", \"thankyou\", \"time\", \"time\", \"time\", \"tnx\", \"tnx\", \"tnx\", \"transact\", \"transact\", \"transact\", \"transaction\", \"transaction\", \"transaction\", \"transactions\", \"transactions\", \"transactions\", \"transfer\", \"transfer\", \"transfer\", \"try\", \"try\", \"try\", \"update\", \"update\", \"update\", \"use\", \"use\", \"use\", \"used\", \"used\", \"used\", \"useful\", \"useful\", \"useful\", \"usefull\", \"usefull\", \"usefull\", \"verified\", \"verified\", \"verified\", \"verify\", \"verify\", \"verify\", \"verry\", \"verry\", \"verry\", \"verygood\", \"verygood\", \"verygood\", \"wala\", \"wala\", \"wala\", \"want\", \"want\", \"want\", \"way\", \"way\", \"way\", \"wow\", \"wow\", \"wow\"]}, \"R\": 30, \"lambda.step\": 0.01, \"plot.opts\": {\"xlab\": \"PC1\", \"ylab\": \"PC2\"}, \"topic.order\": [1, 2, 3]};\n",
       "\n",
       "function LDAvis_load_lib(url, callback){\n",
       "  var s = document.createElement('script');\n",
       "  s.src = url;\n",
       "  s.async = true;\n",
       "  s.onreadystatechange = s.onload = callback;\n",
       "  s.onerror = function(){console.warn(\"failed to load library \" + url);};\n",
       "  document.getElementsByTagName(\"head\")[0].appendChild(s);\n",
       "}\n",
       "\n",
       "if(typeof(LDAvis) !== \"undefined\"){\n",
       "   // already loaded: just create the visualization\n",
       "   !function(LDAvis){\n",
       "       new LDAvis(\"#\" + \"ldavis_el101358449259046869473349\", ldavis_el101358449259046869473349_data);\n",
       "   }(LDAvis);\n",
       "}else if(typeof define === \"function\" && define.amd){\n",
       "   // require.js is available: use it to load d3/LDAvis\n",
       "   require.config({paths: {d3: \"https://d3js.org/d3.v5\"}});\n",
       "   require([\"d3\"], function(d3){\n",
       "      window.d3 = d3;\n",
       "      LDAvis_load_lib(\"https://cdn.jsdelivr.net/gh/bmabey/pyLDAvis@3.3.1/pyLDAvis/js/ldavis.v3.0.0.js\", function(){\n",
       "        new LDAvis(\"#\" + \"ldavis_el101358449259046869473349\", ldavis_el101358449259046869473349_data);\n",
       "      });\n",
       "    });\n",
       "}else{\n",
       "    // require.js not available: dynamically load d3 & LDAvis\n",
       "    LDAvis_load_lib(\"https://d3js.org/d3.v5.js\", function(){\n",
       "         LDAvis_load_lib(\"https://cdn.jsdelivr.net/gh/bmabey/pyLDAvis@3.3.1/pyLDAvis/js/ldavis.v3.0.0.js\", function(){\n",
       "                 new LDAvis(\"#\" + \"ldavis_el101358449259046869473349\", ldavis_el101358449259046869473349_data);\n",
       "            })\n",
       "         });\n",
       "}\n",
       "</script>"
      ],
      "text/plain": [
       "PreparedData(topic_coordinates=              x         y  topics  cluster       Freq\n",
       "topic                                                \n",
       "0     -0.389744  0.006616       1        1  40.935950\n",
       "1      0.187675 -0.272016       2        1  35.036254\n",
       "2      0.202069  0.265400       3        1  24.027796, topic_info=       Term          Freq         Total Category  logprob  loglift\n",
       "6      good  14520.000000  14520.000000  Default  30.0000  30.0000\n",
       "1      nice   9332.000000   9332.000000  Default  29.0000  29.0000\n",
       "10     easy   4701.000000   4701.000000  Default  28.0000  28.0000\n",
       "16     love   3195.000000   3195.000000  Default  27.0000  27.0000\n",
       "0     great   4508.000000   4508.000000  Default  26.0000  26.0000\n",
       "..      ...           ...           ...      ...      ...      ...\n",
       "30   really    361.956944    867.049248   Topic3  -4.5121   0.5524\n",
       "22     cash    409.499914   1140.251801   Topic3  -4.3887   0.4019\n",
       "24     need    306.392804    730.130611   Topic3  -4.6787   0.5576\n",
       "12   thanks    226.492062    873.009998   Topic3  -4.9809   0.0767\n",
       "219    want    175.087545    285.314778   Topic3  -5.2383   0.9377\n",
       "\n",
       "[160 rows x 6 columns], token_table=      Topic      Freq     Term\n",
       "term                          \n",
       "319       1  0.007479      add\n",
       "319       2  0.014959      add\n",
       "319       3  0.979810      add\n",
       "577       1  0.008030  already\n",
       "577       2  0.008030  already\n",
       "...     ...       ...      ...\n",
       "51        2  0.995384      way\n",
       "51        3  0.002626      way\n",
       "84        1  0.997935      wow\n",
       "84        2  0.001577      wow\n",
       "84        3  0.001577      wow\n",
       "\n",
       "[369 rows x 3 columns], R=30, lambda_step=0.01, plot_opts={'xlab': 'PC1', 'ylab': 'PC2'}, topic_order=[1, 2, 3])"
      ]
     },
     "execution_count": 20,
     "metadata": {},
     "output_type": "execute_result"
    }
   ],
   "source": [
    "gcash_good_ps_visual = gensimvis.prepare(gcash_good_ps_final, gcash_good_corpus_ps, gcash_good_dict_ps)\n",
    "print(gcash_good_ps_final.print_topics())\n",
    "gcash_good_ps_visual"
   ]
  },
  {
   "cell_type": "code",
   "execution_count": 21,
   "id": "minus-morgan",
   "metadata": {},
   "outputs": [
    {
     "name": "stdout",
     "output_type": "stream",
     "text": [
      "[(0, '0.053*\"update\" + 0.044*\"always\" + 0.025*\"use\" + 0.025*\"need\" + 0.022*\"open\" + 0.019*\"fix\" + 0.017*\"good\" + 0.014*\"error\" + 0.014*\"time\" + 0.013*\"log\"'), (1, '0.023*\"email\" + 0.023*\"code\" + 0.018*\"number\" + 0.016*\"send\" + 0.013*\"register\" + 0.013*\"already\" + 0.012*\"worst\" + 0.012*\"customer_service\" + 0.011*\"get\" + 0.011*\"mpin\"'), (2, '0.066*\"money\" + 0.030*\"cash\" + 0.017*\"load\" + 0.015*\"transaction\" + 0.015*\"service\" + 0.013*\"back\" + 0.013*\"send\" + 0.011*\"bank\" + 0.009*\"pesos\" + 0.009*\"give\"'), (3, '0.028*\"pera\" + 0.028*\"update\" + 0.027*\"wala\" + 0.025*\"load\" + 0.013*\"cash\" + 0.012*\"ayaw\" + 0.009*\"ok\" + 0.008*\"bulok\" + 0.008*\"tagal\" + 0.008*\"laging\"'), (4, '0.077*\"verify\" + 0.052*\"verified\" + 0.051*\"id\" + 0.031*\"student_id\" + 0.030*\"verification\" + 0.022*\"fully_verified\" + 0.019*\"get\" + 0.015*\"option\" + 0.014*\"student\" + 0.013*\"picture\"')]\n"
     ]
    },
    {
     "data": {
      "text/html": [
       "\n",
       "<link rel=\"stylesheet\" type=\"text/css\" href=\"https://cdn.jsdelivr.net/gh/bmabey/pyLDAvis@3.3.1/pyLDAvis/js/ldavis.v1.0.0.css\">\n",
       "\n",
       "\n",
       "<div id=\"ldavis_el101358452793447853860302\"></div>\n",
       "<script type=\"text/javascript\">\n",
       "\n",
       "var ldavis_el101358452793447853860302_data = {\"mdsDat\": {\"x\": [-0.03360684782108755, -0.04828263211254593, -0.1291819093230474, 0.3753920414696541, -0.16432065221297368], \"y\": [0.006300393974110675, -0.16851305769207747, -0.13180792193564372, 0.04328587795569605, 0.2507347076979146], \"topics\": [1, 2, 3, 4, 5], \"cluster\": [1, 1, 1, 1, 1], \"Freq\": [30.957899154404068, 23.53136556439878, 19.62743267810864, 14.36051121874323, 11.522791384345279]}, \"tinfo\": {\"Term\": [\"money\", \"verify\", \"update\", \"always\", \"verified\", \"id\", \"student_id\", \"pera\", \"open\", \"wala\", \"verification\", \"email\", \"code\", \"cash\", \"load\", \"good\", \"fully_verified\", \"send\", \"get\", \"number\", \"back\", \"need\", \"option\", \"hard\", \"register\", \"use\", \"student\", \"transaction\", \"worst\", \"customer_service\", \"updating\", \"good\", \"open\", \"updated\", \"nice\", \"version\", \"later\", \"everytime\", \"soon\", \"device\", \"internet_connection\", \"possible\", \"slow\", \"loading\", \"sometimes\", \"new_version\", \"connection\", \"force\", \"buying_load\", \"bugs\", \"always\", \"compatible\", \"working\", \"downloading\", \"updates\", \"often\", \"latest\", \"temporarily_unavailable\", \"keeps_crashing\", \"crashes\", \"download\", \"vouchers\", \"something_went\", \"install\", \"buy_load\", \"need\", \"hate\", \"inconvenient\", \"update\", \"error\", \"log\", \"poor\", \"unavailable\", \"use\", \"apps\", \"fix\", \"time\", \"maintenance\", \"annoying\", \"try\", \"says\", \"phone\", \"problem\", \"system\", \"really\", \"load\", \"service\", \"hard\", \"deducted\", \"poor_customer\", \"paypal\", \"back\", \"money\", \"transaction_history\", \"transferred\", \"reflect\", \"cashed\", \"amount\", \"return\", \"loaded\", \"credited\", \"call\", \"cashing\", \"peso\", \"refund\", \"purchased\", \"refunded\", \"bought\", \"stole\", \"debited\", \"reflected\", \"concerns\", \"cimb\", \"transfer_funds\", \"transfered\", \"stealing\", \"successful\", \"small_amount\", \"bank\", \"name\", \"fees\", \"purchase\", \"fee\", \"transfer\", \"pesos\", \"bank_transfer\", \"lost\", \"bad\", \"limit\", \"transaction\", \"cash\", \"charge\", \"balance\", \"payment\", \"received\", \"wallet\", \"service\", \"give\", \"send\", \"load\", \"php\", \"pay\", \"receive\", \"transactions\", \"issue\", \"already\", \"get\", \"customer_service\", \"one\", \"use\", \"days\", \"code\", \"email\", \"authentication_code\", \"verification_code\", \"registered\", \"reply\", \"create\", \"authentication\", \"freebies\", \"referral\", \"registration\", \"weeks\", \"costumer_service\", \"otp\", \"gmail\", \"tickets\", \"resend\", \"invalid\", \"digit_code\", \"helping\", \"phone_number\", \"anyone\", \"referred\", \"correct\", \"fake\", \"game\", \"invite\", \"master_card\", \"reset\", \"scammers\", \"register\", \"worst\", \"gcredit\", \"number\", \"ever\", \"request\", \"information\", \"support\", \"details\", \"mpin\", \"ticket\", \"center\", \"scam\", \"sent\", \"customer_service\", \"nothing\", \"response\", \"send\", \"receive\", \"link\", \"mastercard\", \"already\", \"useless\", \"tried\", \"change\", \"new\", \"get\", \"days\", \"trying\", \"sucks\", \"fix\", \"pera\", \"wala\", \"ayaw\", \"bulok\", \"laging\", \"tagal\", \"lagi\", \"hirap\", \"ayusin\", \"laman\", \"magamit\", \"sayang\", \"maka\", \"nalang\", \"nung\", \"problema\", \"makapag\", \"nman\", \"gamitin\", \"ganun\", \"nakakainis\", \"pwede\", \"pang\", \"bagal\", \"tong\", \"nio\", \"wag\", \"tas\", \"pumasok\", \"dumating\", \"inyo\", \"un\", \"ok\", \"load\", \"update\", \"cash\", \"apps\", \"system\", \"rebate\", \"student_id\", \"id\", \"verified\", \"student\", \"verify\", \"ids\", \"picture\", \"clear\", \"valid_id\", \"fully\", \"students\", \"get_fully\", \"photo\", \"school_id\", \"camera\", \"passport\", \"students_id\", \"tin_id\", \"accept\", \"blurry\", \"valid_ids\", \"list\", \"readable\", \"unclear\", \"choices\", \"postal_id\", \"blurred\", \"prc_id\", \"valid\", \"selfie\", \"fully_verified\", \"school\", \"verification\", \"options\", \"option\", \"verifying\", \"take\", \"see\", \"hard\", \"get\", \"tried\", \"use\", \"fix\", \"says\"], \"Freq\": [3097.0, 1761.0, 3962.0, 2776.0, 1176.0, 1148.0, 712.0, 780.0, 1345.0, 765.0, 848.0, 903.0, 892.0, 2043.0, 1978.0, 1016.0, 530.0, 1249.0, 1342.0, 780.0, 625.0, 1815.0, 540.0, 623.0, 552.0, 2300.0, 327.0, 907.0, 528.0, 753.0, 579.17949051942, 1009.0191609082519, 1335.1381521788037, 451.4542732083957, 240.9223704163415, 210.10632742213096, 195.2577735824176, 380.82963509185424, 306.9861098890385, 93.21927719436248, 135.64641958577334, 279.3853857766751, 560.5515453232919, 284.42016453417057, 154.99425355098165, 62.67606080308419, 137.12955151290276, 56.38193859177353, 148.78483035819872, 96.67786158633787, 2648.801637207319, 54.246160214369326, 508.65952913512615, 58.859880271774784, 276.5820182114838, 55.971810162162065, 68.23444887901451, 53.704396069258976, 41.727626236145284, 43.42790385285296, 496.09736222233045, 55.90318216713152, 138.63575688842306, 320.2167298335785, 553.1885202288396, 1537.618888254225, 251.7364556456075, 180.86009692583852, 3181.7558714833513, 876.810614614844, 760.1607935671847, 480.89071861816467, 282.98261536083044, 1544.1281957582153, 620.5954841665405, 1150.317235510181, 855.741791933318, 381.60645999244656, 273.1745099156866, 439.79984057758844, 533.4452079223548, 361.01462021103015, 487.67938973201205, 406.7601010464953, 370.5919065508164, 476.88180568527497, 405.55523265038784, 341.01594857901654, 392.40861039879303, 242.62028007525183, 339.8280852163929, 614.9652591489527, 3040.3753618400087, 150.11524430417919, 105.6369543602901, 87.56554723184672, 91.25962161181265, 317.44765808833006, 104.66262312703084, 80.48209473735783, 54.88507310136102, 101.4419602847584, 88.5745155882882, 55.339118509983415, 264.7966579917238, 51.87472545597809, 43.06999500767163, 138.5581087917859, 38.484132628498486, 39.599461931288516, 37.55683380584927, 62.69306967692508, 44.438871589837404, 43.48096109735014, 34.35338500274421, 44.96079225238369, 85.68979853608762, 30.288832231947936, 521.1341393480085, 139.3265254902003, 107.0360432830341, 105.11285212715651, 294.8421057399558, 406.02877198962307, 422.2373590421024, 156.7130641775863, 209.04482599154233, 337.23232710471063, 168.3240689391255, 698.7242337121693, 1374.7493273058062, 276.77308386682284, 391.7215711073969, 270.36020972202584, 338.1933759499715, 157.8456584407245, 679.6087440530401, 406.0788998720124, 598.6976678482546, 790.4340307228647, 184.57506529501205, 272.7866951085311, 313.1591727248776, 232.67879322729354, 279.9728207838549, 380.0805389295676, 378.7498987940468, 286.45805660660915, 249.65649379434538, 303.929403180561, 245.04717283120334, 888.6268064424488, 898.9006317990888, 263.76112687279317, 205.79862376939462, 141.2915929796449, 230.94371511682942, 104.13764218908636, 98.97855403722778, 69.22262288342145, 65.8399913507754, 67.20962191864857, 180.8780412080916, 87.53399780359858, 164.38034730081293, 61.667385398486935, 100.13661449244108, 45.41467235260883, 73.73946282464203, 42.12533875984245, 56.936386715739815, 91.04820232228636, 44.53029569027141, 33.906956257149076, 143.21051360375802, 43.3044390897478, 43.484717642065604, 47.747071670122935, 64.66938565791104, 106.18340115680628, 49.66381945549822, 497.4104643626866, 469.91756263780064, 376.83179196624656, 681.5357102346828, 264.63822050158336, 143.18137252784584, 117.39853959826635, 361.48046274023426, 77.07883430044144, 421.16278111722835, 375.50745122638665, 249.36940549727026, 276.3393594824664, 347.8420815443991, 461.3190943070006, 208.45928715820375, 222.9076990588213, 627.535427749237, 397.9429500756562, 237.0881275151036, 203.16864837461145, 494.3521446596807, 320.34706957283777, 419.65474161592624, 234.7326093722532, 259.5473040474095, 432.74581781807206, 274.6989288274497, 228.87833800840642, 232.82585843341667, 227.17447476900153, 777.9951467152915, 762.852019072627, 338.50678608997555, 236.27354687216084, 231.28907947930617, 232.78466568604017, 218.38691051151085, 210.9578893940346, 188.8808586726228, 178.188716586791, 170.68797924388468, 178.13424575182194, 201.96424816992123, 172.31526109173413, 158.76756758797947, 152.47294773164847, 156.69148688367105, 152.30274436357797, 143.24037018340107, 144.62099584340476, 136.36992700126694, 147.59289476662306, 138.2955488702861, 134.56760051488374, 131.55858082327552, 131.28800614243835, 131.48924597953277, 126.9724322289143, 124.26663308248338, 117.69214853983163, 118.87860000071431, 125.82212019781413, 258.0562021803769, 707.4741132019578, 774.3231608295415, 355.7554738487155, 180.6968872222028, 151.83775996235397, 136.25346173533862, 710.1180098014104, 1143.4463543818251, 1169.231077097985, 325.2341643973346, 1745.268898338023, 275.1797368878707, 285.27732262958654, 276.5259948622022, 222.6389715975381, 272.3960271534118, 201.91137790995217, 202.15062773619186, 188.0182156726167, 172.63697579038427, 184.79976586421824, 159.39652210349186, 152.903694637635, 149.93103549459104, 152.65479628628054, 101.41181536804368, 101.27094060200521, 112.2797502738157, 73.79366290130268, 76.98355559510695, 74.18058030723616, 69.04667253637274, 49.2729652182761, 44.20073346567867, 93.31537993045372, 41.06510716380772, 495.051944038801, 71.08476335803523, 681.1821354770536, 143.54405833363802, 342.363855616352, 112.57192525250733, 206.84758015694686, 144.62680343326392, 275.12176174566883, 431.6678323582771, 203.73498065345228, 263.0684546096981, 241.4488080549767, 161.31042622295686], \"Total\": [3097.0, 1761.0, 3962.0, 2776.0, 1176.0, 1148.0, 712.0, 780.0, 1345.0, 765.0, 848.0, 903.0, 892.0, 2043.0, 1978.0, 1016.0, 530.0, 1249.0, 1342.0, 780.0, 625.0, 1815.0, 540.0, 623.0, 552.0, 2300.0, 327.0, 907.0, 528.0, 753.0, 581.7877224517963, 1016.6381967972602, 1345.9774799869426, 455.6163439791307, 243.5985379908011, 213.22319235697609, 199.2550121424471, 390.75240011972323, 314.990793738315, 96.28594817363378, 140.22323115620048, 289.04253398840973, 579.9838757089594, 295.15743304344863, 161.64225784441186, 65.40531561354658, 143.32633388025917, 58.9657958465834, 155.8123750478967, 101.34269713758707, 2776.633462612367, 57.08816775254792, 536.0435369899286, 62.057039300057035, 292.7285835269374, 59.4172239105306, 72.4408528901739, 57.02995349802102, 44.32487471372081, 46.14125100389247, 533.6276527711807, 59.46255100165761, 150.54721250147918, 357.31478236122643, 628.7949920463717, 1815.9980204829892, 280.9014564849652, 199.06098866427877, 3962.1918804947863, 1062.863859459514, 929.5702958557753, 579.5964607027624, 327.01410339440895, 2300.363910934085, 812.9134383333402, 1778.1083786447673, 1321.9755181025268, 497.8954070317579, 328.3431181315817, 678.1837960273759, 924.0788597913325, 519.4892568246607, 898.876484712653, 743.0469673214209, 685.859793026141, 1978.590273484597, 1276.1196946782316, 623.4148902221125, 394.95937481954076, 245.67226879072513, 345.36280350258966, 625.4886233072134, 3097.2033881447633, 153.94224983309752, 108.34615638130985, 90.10842158676512, 93.95622768328857, 327.0511243841143, 107.92541882215869, 83.09421665194141, 57.35234785627777, 106.4200501990839, 93.29741915506308, 58.3365806519056, 279.45065831868413, 54.92332430123717, 45.685989262633726, 147.38290335821588, 40.959491539107, 42.218314475798216, 40.100533256892824, 67.08744394511722, 47.56417203476042, 46.700154066065345, 36.90644091982388, 48.52278788868428, 92.57792784914258, 32.792371829080864, 566.7998040720438, 151.05081436484596, 116.12658448248109, 114.33773791782704, 331.5961264967531, 463.3023663462198, 501.5483636550222, 177.90061105806936, 241.6937355132839, 405.39803714448874, 192.3080382511737, 907.0732689963966, 2043.913561646606, 358.22900978264596, 549.0279903783006, 364.257614629347, 499.26553352762227, 190.39391554783447, 1276.1196946782316, 701.7622989642961, 1249.2792308642388, 1978.590273484597, 244.0736606364904, 496.45513670034524, 714.6369325785288, 411.7845703696688, 600.1472627521412, 1137.2165057091215, 1342.9923694054864, 753.143109148264, 651.2078788154301, 2300.363910934085, 704.608032208219, 892.8543357870824, 903.3723837503303, 266.9504426162562, 208.29951724625923, 144.51842842431, 237.04387932597646, 107.24807944256524, 102.19661903586541, 71.7287908449929, 68.7029386590742, 70.1863523115167, 189.05291656888934, 91.56010822370578, 172.22169740730607, 64.72623332808897, 105.64337873110108, 47.95811224658835, 78.2789423532438, 44.91209662606091, 61.02115185633062, 97.6725838694898, 47.83309649611101, 36.534591878691586, 154.43080227120075, 46.73557030863367, 47.004772450703456, 51.843300703491416, 70.26497910721537, 115.466548059744, 54.008386710631065, 552.743139771986, 528.1600597832607, 421.6416485769505, 780.9268887125367, 299.24359601609956, 159.40364952252875, 130.89138313558857, 433.4389798624143, 84.73907112586444, 539.1710975883169, 486.9929448190025, 340.262252498179, 390.05644913239274, 527.1362272702883, 753.143109148264, 284.57950274448035, 311.11746871708004, 1249.2792308642388, 714.6369325785288, 348.95978553812824, 282.4281538095882, 1137.2165057091215, 601.2601006884796, 923.7937954301112, 381.1902615509975, 482.1081372277848, 1342.9923694054864, 704.608032208219, 472.3516932232897, 571.2784143160914, 1778.1083786447673, 780.5824255280617, 765.611729908915, 341.3193487877194, 238.84778546924184, 233.85111995517525, 235.38535561578593, 220.94541124926423, 213.58490790154684, 191.51034053545254, 180.70687936373648, 173.20642022683325, 180.81516921394032, 205.00459742634928, 174.95932483114638, 161.30110946904756, 154.95861813737503, 159.27042837491956, 154.81493979998305, 145.72205505218164, 147.15961230772922, 138.8489901864506, 150.29442270723848, 140.83103403729638, 137.0675504335027, 134.0116573491767, 133.79858293486242, 134.032864662107, 129.46423675550514, 126.75077626495606, 120.17821050938842, 121.40345330771567, 128.96454824179636, 280.1184747493201, 1978.590273484597, 3962.1918804947863, 2043.913561646606, 812.9134383333402, 743.0469673214209, 345.19346230696, 712.7040163612002, 1148.4917622546961, 1176.3405936653244, 327.8063227976396, 1761.5436382219539, 277.78905682734893, 288.1270275860269, 279.3403994818663, 225.19040992136286, 275.5956134050924, 204.40512469297312, 204.70944275488574, 190.54134432914623, 175.12881616107916, 187.487247504392, 161.8883069781524, 155.39192865059454, 152.65278351694556, 155.55672101286657, 103.8873759363923, 103.80184710815688, 115.10275484058585, 76.23326106963161, 79.53056925336872, 76.81932247697698, 71.64060811730481, 51.82644860053678, 46.665604397800664, 98.61151842499362, 43.691924962480975, 530.4077471410125, 75.68247690869582, 848.0353966840282, 172.78261385944774, 540.4956772631838, 141.5035080066752, 349.4583260269112, 211.52556947962245, 623.4148902221125, 1342.9923694054864, 923.7937954301112, 2300.363910934085, 1778.1083786447673, 924.0788597913325], \"Category\": [\"Default\", \"Default\", \"Default\", \"Default\", \"Default\", \"Default\", \"Default\", \"Default\", \"Default\", \"Default\", \"Default\", \"Default\", \"Default\", \"Default\", \"Default\", \"Default\", \"Default\", \"Default\", \"Default\", \"Default\", \"Default\", \"Default\", \"Default\", \"Default\", \"Default\", \"Default\", \"Default\", \"Default\", \"Default\", \"Default\", \"Topic1\", \"Topic1\", \"Topic1\", \"Topic1\", \"Topic1\", \"Topic1\", \"Topic1\", \"Topic1\", \"Topic1\", \"Topic1\", \"Topic1\", \"Topic1\", \"Topic1\", \"Topic1\", \"Topic1\", \"Topic1\", \"Topic1\", \"Topic1\", \"Topic1\", \"Topic1\", \"Topic1\", \"Topic1\", \"Topic1\", \"Topic1\", \"Topic1\", \"Topic1\", \"Topic1\", \"Topic1\", \"Topic1\", \"Topic1\", \"Topic1\", \"Topic1\", \"Topic1\", \"Topic1\", \"Topic1\", \"Topic1\", \"Topic1\", \"Topic1\", \"Topic1\", \"Topic1\", \"Topic1\", \"Topic1\", \"Topic1\", \"Topic1\", \"Topic1\", \"Topic1\", \"Topic1\", \"Topic1\", \"Topic1\", \"Topic1\", \"Topic1\", \"Topic1\", \"Topic1\", \"Topic1\", \"Topic1\", \"Topic1\", \"Topic1\", \"Topic1\", \"Topic2\", \"Topic2\", \"Topic2\", \"Topic2\", \"Topic2\", \"Topic2\", \"Topic2\", \"Topic2\", \"Topic2\", \"Topic2\", \"Topic2\", \"Topic2\", \"Topic2\", \"Topic2\", \"Topic2\", \"Topic2\", \"Topic2\", \"Topic2\", \"Topic2\", \"Topic2\", \"Topic2\", \"Topic2\", \"Topic2\", \"Topic2\", \"Topic2\", \"Topic2\", \"Topic2\", \"Topic2\", \"Topic2\", \"Topic2\", \"Topic2\", \"Topic2\", \"Topic2\", \"Topic2\", \"Topic2\", \"Topic2\", \"Topic2\", \"Topic2\", \"Topic2\", \"Topic2\", \"Topic2\", \"Topic2\", \"Topic2\", \"Topic2\", \"Topic2\", \"Topic2\", \"Topic2\", \"Topic2\", \"Topic2\", \"Topic2\", \"Topic2\", \"Topic2\", \"Topic2\", \"Topic2\", \"Topic2\", \"Topic2\", \"Topic2\", \"Topic2\", \"Topic2\", \"Topic2\", \"Topic2\", \"Topic2\", \"Topic2\", \"Topic3\", \"Topic3\", \"Topic3\", \"Topic3\", \"Topic3\", \"Topic3\", \"Topic3\", \"Topic3\", \"Topic3\", \"Topic3\", \"Topic3\", \"Topic3\", \"Topic3\", \"Topic3\", \"Topic3\", \"Topic3\", \"Topic3\", \"Topic3\", \"Topic3\", \"Topic3\", \"Topic3\", \"Topic3\", \"Topic3\", \"Topic3\", \"Topic3\", \"Topic3\", \"Topic3\", \"Topic3\", \"Topic3\", \"Topic3\", \"Topic3\", \"Topic3\", \"Topic3\", \"Topic3\", \"Topic3\", \"Topic3\", \"Topic3\", \"Topic3\", \"Topic3\", \"Topic3\", \"Topic3\", \"Topic3\", \"Topic3\", \"Topic3\", \"Topic3\", \"Topic3\", \"Topic3\", \"Topic3\", \"Topic3\", \"Topic3\", \"Topic3\", \"Topic3\", \"Topic3\", \"Topic3\", \"Topic3\", \"Topic3\", \"Topic3\", \"Topic3\", \"Topic3\", \"Topic3\", \"Topic3\", \"Topic4\", \"Topic4\", \"Topic4\", \"Topic4\", \"Topic4\", \"Topic4\", \"Topic4\", \"Topic4\", \"Topic4\", \"Topic4\", \"Topic4\", \"Topic4\", \"Topic4\", \"Topic4\", \"Topic4\", \"Topic4\", \"Topic4\", \"Topic4\", \"Topic4\", \"Topic4\", \"Topic4\", \"Topic4\", \"Topic4\", \"Topic4\", \"Topic4\", \"Topic4\", \"Topic4\", \"Topic4\", \"Topic4\", \"Topic4\", \"Topic4\", \"Topic4\", \"Topic4\", \"Topic4\", \"Topic4\", \"Topic4\", \"Topic4\", \"Topic4\", \"Topic4\", \"Topic5\", \"Topic5\", \"Topic5\", \"Topic5\", \"Topic5\", \"Topic5\", \"Topic5\", \"Topic5\", \"Topic5\", \"Topic5\", \"Topic5\", \"Topic5\", \"Topic5\", \"Topic5\", \"Topic5\", \"Topic5\", \"Topic5\", \"Topic5\", \"Topic5\", \"Topic5\", \"Topic5\", \"Topic5\", \"Topic5\", \"Topic5\", \"Topic5\", \"Topic5\", \"Topic5\", \"Topic5\", \"Topic5\", \"Topic5\", \"Topic5\", \"Topic5\", \"Topic5\", \"Topic5\", \"Topic5\", \"Topic5\", \"Topic5\", \"Topic5\", \"Topic5\", \"Topic5\", \"Topic5\", \"Topic5\", \"Topic5\", \"Topic5\"], \"logprob\": [30.0, 29.0, 28.0, 27.0, 26.0, 25.0, 24.0, 23.0, 22.0, 21.0, 20.0, 19.0, 18.0, 17.0, 16.0, 15.0, 14.0, 13.0, 12.0, 11.0, 10.0, 9.0, 8.0, 7.0, 6.0, 5.0, 4.0, 3.0, 2.0, 1.0, -4.65, -4.0949, -3.8148, -4.8992, -5.5272, -5.664, -5.7373, -5.0693, -5.2848, -6.4767, -6.1016, -5.379, -4.6827, -5.3612, -5.9682, -6.8736, -6.0907, -6.9795, -6.0091, -6.4402, -3.1298, -7.0181, -4.7798, -6.9365, -5.3891, -6.9868, -6.7887, -7.0281, -7.2805, -7.2405, -4.8049, -6.988, -6.0798, -5.2426, -4.6959, -3.6736, -5.4832, -5.8139, -2.9464, -4.2353, -4.3781, -4.836, -5.3662, -3.6694, -4.5809, -3.9638, -4.2597, -5.0672, -5.4015, -4.9253, -4.7323, -5.1227, -4.822, -5.0034, -5.0965, -4.8444, -5.0064, -5.1797, -4.765, -5.2458, -4.9089, -4.3158, -2.7176, -5.7259, -6.0773, -6.2649, -6.2236, -4.977, -6.0866, -6.3493, -6.7321, -6.1178, -6.2535, -6.7239, -5.1584, -6.7885, -6.9745, -5.806, -7.0871, -7.0585, -7.1115, -6.5991, -6.9432, -6.965, -7.2006, -6.9315, -6.2866, -7.3266, -4.4813, -5.8005, -6.0642, -6.0823, -5.0509, -4.7309, -4.6918, -5.6829, -5.3948, -4.9166, -5.6114, -4.1881, -3.5113, -5.1141, -4.7668, -5.1376, -4.9137, -5.6757, -4.2158, -4.7308, -4.3426, -4.0648, -5.5193, -5.1286, -4.9906, -5.2877, -5.1026, -4.797, -4.8005, -5.0797, -5.2172, -5.0205, -5.2359, -3.7663, -3.7548, -4.9809, -5.229, -5.6051, -5.1138, -5.9102, -5.961, -6.3186, -6.3687, -6.3481, -5.3581, -6.0839, -5.4537, -6.4342, -5.9494, -6.7401, -6.2554, -6.8153, -6.514, -6.0445, -6.7598, -7.0323, -5.5916, -6.7877, -6.7835, -6.69, -6.3866, -5.8908, -6.6507, -4.3465, -4.4034, -4.6241, -4.0316, -4.9776, -5.5918, -5.7904, -4.6657, -6.2111, -4.5129, -4.6276, -5.037, -4.9343, -4.7042, -4.4218, -5.2162, -5.1492, -4.1141, -4.5696, -5.0875, -5.2419, -4.3527, -4.7865, -4.5165, -5.0975, -4.997, -4.4858, -4.9403, -5.1227, -5.1056, -5.1302, -3.5868, -3.6064, -4.4189, -4.7785, -4.7998, -4.7934, -4.8572, -4.8918, -5.0024, -5.0606, -5.1036, -5.0609, -4.9354, -5.0942, -5.176, -5.2165, -5.1892, -5.2176, -5.279, -5.2694, -5.3281, -5.249, -5.3141, -5.3414, -5.364, -5.3661, -5.3646, -5.3995, -5.4211, -5.4754, -5.4654, -5.4086, -4.6903, -3.6818, -3.5915, -4.3692, -5.0467, -5.2207, -5.329, -3.4579, -2.9815, -2.9592, -4.2388, -2.5587, -4.4059, -4.3699, -4.401, -4.6178, -4.4161, -4.7155, -4.7143, -4.7868, -4.8721, -4.8041, -4.9519, -4.9935, -5.0132, -4.9951, -5.4041, -5.4055, -5.3023, -5.7221, -5.6797, -5.7168, -5.7885, -6.126, -6.2346, -5.4873, -6.3082, -3.8187, -5.7595, -3.4995, -5.0567, -4.1875, -5.2997, -4.6913, -5.0492, -4.4061, -3.9557, -4.7065, -4.4509, -4.5367, -4.94], \"loglift\": [30.0, 29.0, 28.0, 27.0, 26.0, 25.0, 24.0, 23.0, 22.0, 21.0, 20.0, 19.0, 18.0, 17.0, 16.0, 15.0, 14.0, 13.0, 12.0, 11.0, 10.0, 9.0, 8.0, 7.0, 6.0, 5.0, 4.0, 3.0, 2.0, 1.0, 1.168, 1.165, 1.1645, 1.1634, 1.1615, 1.1578, 1.1523, 1.1468, 1.1468, 1.1402, 1.1394, 1.1386, 1.1385, 1.1355, 1.1305, 1.1299, 1.1283, 1.1277, 1.1264, 1.1254, 1.1254, 1.1215, 1.1201, 1.1196, 1.1158, 1.1128, 1.1127, 1.1125, 1.1122, 1.1119, 1.0996, 1.1108, 1.0901, 1.0629, 1.0444, 1.0061, 1.0629, 1.0767, 0.9532, 0.9801, 0.9713, 0.9858, 1.0279, 0.7739, 0.9026, 0.737, 0.7376, 0.9065, 0.9886, 0.7394, 0.6231, 0.8086, 0.5611, 0.57, 0.557, -0.2503, 0.0262, 0.5693, 1.4404, 1.4343, 1.4307, 1.4299, 1.4283, 1.4217, 1.4215, 1.4182, 1.4177, 1.417, 1.4161, 1.4149, 1.4029, 1.3989, 1.3949, 1.3941, 1.393, 1.3897, 1.3879, 1.3851, 1.3845, 1.3828, 1.3813, 1.3791, 1.3789, 1.3754, 1.3752, 1.3706, 1.3695, 1.3674, 1.3628, 1.366, 1.3653, 1.3627, 1.3294, 1.3149, 1.2747, 1.32, 1.3017, 1.2627, 1.3136, 1.1859, 1.0502, 1.1889, 1.1092, 1.1487, 1.0573, 1.2594, 0.8168, 0.8998, 0.7113, 0.5293, 1.1674, 0.848, 0.6218, 0.876, 0.6844, 0.3509, 0.1811, 0.4802, 0.4881, -0.5772, 0.3906, 1.6235, 1.6233, 1.6162, 1.6162, 1.6057, 1.6022, 1.5988, 1.5962, 1.5927, 1.5857, 1.5849, 1.584, 1.5833, 1.5816, 1.5798, 1.5747, 1.5737, 1.5685, 1.5642, 1.559, 1.558, 1.5567, 1.5536, 1.5528, 1.552, 1.5504, 1.5459, 1.5453, 1.5444, 1.5444, 1.5228, 1.5114, 1.5159, 1.4921, 1.5053, 1.5209, 1.5194, 1.4467, 1.5335, 1.3812, 1.3683, 1.3175, 1.2836, 1.2125, 1.1381, 1.317, 1.2948, 0.9397, 1.0428, 1.2417, 1.2989, 0.7952, 0.9986, 0.8392, 1.1434, 1.009, 0.4957, 0.6863, 0.9037, 0.7307, -0.4293, 1.9374, 1.9371, 1.9324, 1.9299, 1.9297, 1.9296, 1.929, 1.9283, 1.9269, 1.9267, 1.926, 1.9258, 1.9257, 1.9255, 1.9249, 1.9245, 1.9244, 1.9243, 1.9235, 1.9233, 1.9227, 1.9225, 1.9225, 1.9223, 1.9222, 1.9217, 1.9215, 1.9213, 1.9209, 1.9198, 1.9197, 1.916, 1.8587, 0.9122, 0.3081, 0.1923, 0.4369, 0.3527, 1.0111, 2.1572, 2.1564, 2.1548, 2.153, 2.1516, 2.1514, 2.1509, 2.1507, 2.1494, 2.1492, 2.1486, 2.1483, 2.1475, 2.1465, 2.1464, 2.1453, 2.1447, 2.1429, 2.142, 2.1367, 2.1362, 2.136, 2.1283, 2.1283, 2.1259, 2.124, 2.1103, 2.1066, 2.1056, 2.0988, 2.0919, 2.0982, 1.9418, 1.9755, 1.7042, 1.9321, 1.6364, 1.7807, 1.3428, 1.0258, 0.6492, -0.0076, 0.1642, 0.4154]}, \"token.table\": {\"Topic\": [1, 2, 3, 4, 5, 1, 2, 3, 4, 5, 1, 2, 3, 4, 5, 1, 2, 3, 4, 5, 1, 2, 3, 4, 5, 1, 2, 3, 4, 5, 1, 2, 3, 4, 5, 1, 2, 3, 4, 5, 1, 2, 3, 4, 5, 1, 2, 3, 4, 5, 1, 2, 3, 4, 5, 1, 2, 3, 4, 5, 1, 2, 3, 4, 5, 1, 2, 3, 4, 5, 1, 2, 3, 4, 5, 1, 2, 3, 4, 5, 1, 2, 3, 4, 5, 1, 2, 3, 4, 5, 1, 2, 3, 4, 5, 1, 2, 3, 4, 5, 1, 2, 3, 4, 5, 1, 2, 3, 4, 5, 1, 2, 3, 4, 5, 1, 2, 3, 4, 5, 1, 2, 3, 4, 5, 1, 2, 3, 4, 5, 1, 2, 3, 4, 5, 1, 2, 3, 4, 5, 1, 2, 3, 4, 5, 1, 2, 3, 4, 5, 1, 2, 3, 4, 5, 1, 2, 3, 4, 5, 1, 2, 3, 4, 5, 1, 2, 3, 4, 5, 1, 2, 3, 4, 5, 1, 2, 3, 4, 5, 1, 2, 3, 4, 5, 1, 2, 3, 4, 5, 1, 2, 3, 4, 5, 1, 2, 3, 4, 5, 1, 2, 3, 4, 5, 1, 2, 3, 4, 5, 1, 2, 3, 4, 5, 1, 2, 3, 4, 5, 1, 2, 3, 4, 5, 1, 2, 3, 4, 5, 1, 2, 3, 4, 5, 1, 2, 3, 4, 5, 1, 2, 3, 4, 5, 1, 2, 3, 4, 5, 1, 2, 3, 4, 5, 1, 2, 3, 4, 5, 1, 2, 3, 4, 5, 1, 2, 3, 4, 5, 1, 2, 3, 4, 5, 1, 2, 3, 4, 5, 1, 2, 3, 4, 5, 1, 2, 3, 4, 5, 1, 2, 3, 4, 5, 1, 2, 3, 4, 5, 1, 2, 3, 4, 5, 1, 2, 3, 4, 5, 1, 2, 3, 4, 5, 1, 2, 3, 4, 5, 1, 2, 3, 4, 5, 1, 2, 3, 4, 5, 1, 2, 3, 4, 5, 1, 2, 3, 4, 5, 1, 2, 3, 4, 5, 1, 2, 3, 4, 5, 1, 2, 3, 4, 5, 1, 2, 3, 4, 5, 1, 2, 3, 4, 5, 1, 2, 3, 4, 5, 1, 2, 3, 4, 5, 1, 2, 3, 4, 5, 1, 2, 3, 4, 5, 1, 2, 3, 4, 5, 1, 2, 3, 4, 5, 1, 2, 3, 4, 5, 1, 2, 3, 4, 5, 1, 2, 3, 4, 5, 1, 2, 3, 4, 5, 1, 2, 3, 4, 5, 1, 2, 3, 4, 5, 1, 2, 3, 4, 5, 1, 2, 3, 4, 5, 1, 2, 3, 4, 5, 1, 2, 3, 4, 5, 1, 2, 3, 4, 5, 1, 2, 3, 4, 5, 1, 2, 3, 4, 5, 1, 2, 3, 4, 5, 1, 2, 3, 4, 5, 1, 2, 3, 4, 5, 1, 2, 3, 4, 5, 1, 2, 3, 4, 5, 1, 2, 3, 4, 5, 1, 2, 3, 4, 5, 1, 2, 3, 4, 5, 1, 2, 3, 4, 5, 1, 2, 3, 4, 5, 1, 2, 3, 4, 5, 1, 2, 3, 4, 5, 1, 2, 3, 4, 5, 1, 2, 3, 4, 5, 1, 2, 3, 4, 5, 1, 2, 3, 4, 5, 1, 2, 3, 4, 5, 1, 2, 3, 4, 5, 1, 2, 3, 4, 5, 1, 2, 3, 4, 5, 1, 2, 3, 4, 5, 1, 2, 3, 4, 5, 1, 2, 3, 4, 5, 1, 2, 3, 4, 5, 1, 2, 3, 4, 5, 1, 2, 3, 4, 5, 1, 2, 3, 4, 5, 1, 2, 3, 4, 5, 1, 2, 3, 4, 5, 1, 2, 3, 4, 5, 1, 2, 3, 4, 5, 1, 2, 3, 4, 5, 1, 2, 3, 4, 5, 1, 2, 3, 4, 5, 1, 2, 3, 4, 5, 1, 2, 3, 4, 5, 1, 2, 3, 4, 5, 1, 2, 3, 4, 5, 1, 2, 3, 4, 5, 1, 2, 3, 4, 5, 1, 2, 3, 4, 5, 1, 2, 3, 4, 5, 1, 2, 3, 4, 5, 1, 2, 3, 4, 5, 1, 2, 3, 4, 5, 1, 2, 3, 4, 5, 1, 2, 3, 4, 5, 1, 2, 3, 4, 5, 1, 2, 3, 4, 5, 1, 2, 3, 4, 5, 1, 2, 3, 4, 5, 1, 2, 3, 4, 5, 1, 2, 3, 4, 5, 1, 2, 3, 4, 5, 1, 2, 3, 4, 5, 1, 2, 3, 4, 5, 1, 2, 3, 4, 5, 1, 2, 3, 4, 5, 1, 2, 3, 4, 5, 1, 2, 3, 4, 5, 1, 2, 3, 4, 5, 1, 2, 3, 4, 5, 1, 2, 3, 4, 5, 1, 2, 3, 4, 5, 1, 2, 3, 4, 5, 1, 2, 3, 4, 5, 1, 2, 3, 4, 5, 1, 2, 3, 4, 5, 1, 2, 3, 4, 5, 1, 2, 3, 4, 5, 1, 2, 3, 4, 5, 1, 2, 3, 4, 5, 1, 2, 3, 4, 5, 1, 2, 3, 4, 5, 1, 2, 3, 4, 5, 1, 2, 3, 4, 5, 1, 2, 3, 4, 5, 1, 2, 3, 4, 5, 1, 2, 3, 4, 5, 1, 2, 3, 4, 5, 1, 2, 3, 4, 5, 1, 2, 3, 4, 5, 1, 2, 3, 4, 5, 1, 2, 3, 4, 5, 1, 2, 3, 4, 5, 1, 2, 3, 4, 5, 1, 2, 3, 4, 5, 1, 2, 3, 4, 5, 1, 2, 3, 4, 5, 1, 2, 3, 4, 5, 1, 2, 3, 4, 5, 1, 2, 3, 4, 5, 1, 2, 3, 4, 5, 1, 2, 3, 4, 5, 1, 2, 3, 4, 5, 1, 2, 3, 4, 5, 1, 2, 3, 4, 5, 1, 2, 3, 4, 5, 1, 2, 3, 4, 5, 1, 2, 3, 4, 5, 1, 2, 3, 4, 5, 1, 2, 3, 4, 5, 1, 2, 3, 4, 5, 1, 2, 3, 4, 5, 1, 2, 3, 4, 5, 1, 2, 3, 4, 5, 1, 2, 3, 4, 5, 1, 2, 3, 4, 5, 1, 2, 3, 4, 5, 1, 2, 3, 4, 5, 1, 2, 3, 4, 5, 1, 2, 3, 4, 5, 1, 2, 3, 4, 5, 1, 2, 3, 4, 5, 1, 2, 3, 4, 5, 1, 2, 3, 4, 5, 1, 2, 3, 4, 5, 1, 2, 3, 4, 5, 1, 2, 3, 4, 5, 1, 2, 3, 4, 5, 1, 2, 3, 4, 5, 1, 2, 3, 4, 5, 1, 2, 3, 4, 5, 1, 2, 3, 4, 5, 1, 2, 3, 4, 5, 1, 2, 3, 4, 5, 1, 2, 3, 4, 5, 1, 2, 3, 4, 5, 1, 2, 3, 4, 5, 1, 2, 3, 4, 5, 1, 2, 3, 4, 5, 1, 2, 3, 4, 5, 1, 2, 3, 4, 5, 1, 2, 3, 4, 5, 1, 2, 3, 4, 5, 1, 2, 3, 4, 5, 1, 2, 3, 4, 5, 1, 2, 3, 4, 5, 1, 2, 3, 4, 5, 1, 2, 3, 4, 5, 1, 2, 3, 4, 5, 1, 2, 3, 4, 5, 1, 2, 3, 4, 5, 1, 2, 3, 4, 5, 1, 2, 3, 4, 5, 1, 2, 3, 4, 5, 1, 2, 3, 4, 5, 1, 2, 3, 4, 5, 1, 2, 3, 4, 5, 1, 2, 3, 4, 5, 1, 2, 3, 4, 5, 1, 2, 3, 4, 5], \"Freq\": [0.006428523264625043, 0.006428523264625043, 0.006428523264625043, 0.006428523264625043, 0.9835640594876315, 0.1195902445288516, 0.33414921265414416, 0.4343939764503874, 0.0008793400333003794, 0.1107968441958478, 0.9540330172019592, 0.0010804450930939516, 0.000720296728729301, 0.0003601483643646505, 0.04393810045248736, 0.006115251870074736, 0.9692674214068456, 0.006115251870074736, 0.01528812967518684, 0.003057625935037368, 0.8314473029113305, 0.00609118903231744, 0.00609118903231744, 0.00304559451615872, 0.152279725807936, 0.020906026856975554, 0.020906026856975554, 0.9407712085638998, 0.020906026856975554, 0.020906026856975554, 0.7639189742922605, 0.00492057310333179, 0.008611002930830634, 0.22265593292576352, 0.0012301432758329476, 0.00978505951991479, 0.00978505951991479, 0.9687208924715643, 0.00978505951991479, 0.00978505951991479, 0.003746013642829989, 0.003746013642829989, 0.9889476017071172, 0.003746013642829989, 0.003746013642829989, 0.0029298075352356934, 0.0029298075352356934, 0.0029298075352356934, 0.9932047544449, 0.0029298075352356934, 0.005221650158440814, 0.005221650158440814, 0.005221650158440814, 0.9868918799453138, 0.005221650158440814, 0.00959250060900477, 0.983231312422989, 0.004796250304502385, 0.001598750101500795, 0.001598750101500795, 0.16033624745162053, 0.8312817752491711, 0.0024667114992557005, 0.004933422998511401, 0.0024667114992557005, 0.007295672803937227, 0.007295672803937227, 0.007295672803937227, 0.9849158285315257, 0.007295672803937227, 0.07649883200137109, 0.7139890986794635, 0.0018214007619374068, 0.20763968686086437, 0.0018214007619374068, 0.005292874094957664, 0.9191958011576477, 0.010585748189915327, 0.06351448913949197, 0.001764291364985888, 0.01124223232345824, 0.882515237391472, 0.00562111616172912, 0.10118009091112418, 0.00562111616172912, 0.019295167371156562, 0.019295167371156562, 0.019295167371156562, 0.019295167371156562, 0.9454632011866716, 0.009625808631573056, 0.009625808631573056, 0.009625808631573056, 0.009625808631573056, 0.9722066717888787, 0.006785047500180453, 0.943121602525083, 0.04749533250126317, 0.006785047500180453, 0.006785047500180453, 0.9571483958859784, 0.019735018471875844, 0.009867509235937922, 0.009867509235937922, 0.009867509235937922, 0.0041867668901991026, 0.0041867668901991026, 0.0041867668901991026, 0.9880769860869881, 0.0041867668901991026, 0.879459930493877, 0.06679442510080079, 0.001590343454780971, 0.050890990552991074, 0.001590343454780971, 0.9562783440929992, 0.032089877318557024, 0.006417975463711404, 0.006417975463711404, 0.006417975463711404, 0.00939672550547818, 0.9490692760532962, 0.028190176516434542, 0.00939672550547818, 0.00939672550547818, 0.0053336960956588495, 0.0053336960956588495, 0.0053336960956588495, 0.0053336960956588495, 0.9867337776968872, 0.1497127891032153, 0.67272903600301, 0.0014677724421883855, 0.1741756631396884, 0.0024462874036473093, 0.010643254041348277, 0.9685361177626932, 0.010643254041348277, 0.010643254041348277, 0.010643254041348277, 0.03215523030721687, 0.9539384991141004, 0.010718410102405623, 0.010718410102405623, 0.010718410102405623, 0.026450186389829315, 0.1498843895423661, 0.731788490118611, 0.08228946876835787, 0.005877819197739847, 0.2282324832906591, 0.10755783695306922, 0.61649004107247, 0.0026233618769041273, 0.04722051378427429, 0.04187265573243549, 0.7732483758589754, 0.002791510382162366, 0.18144817484055378, 0.002791510382162366, 0.01301755818400642, 0.01301755818400642, 0.01301755818400642, 0.01301755818400642, 0.963299305616475, 0.021024228052770245, 0.9250660343218908, 0.021024228052770245, 0.021024228052770245, 0.021024228052770245, 0.0035798617094227937, 0.0035798617094227937, 0.0035798617094227937, 0.0035798617094227937, 0.9916216935101139, 0.0011200035211997542, 0.0011200035211997542, 0.9956831303465815, 0.0011200035211997542, 0.0011200035211997542, 0.9459052922151265, 0.01751676467065049, 0.01751676467065049, 0.01751676467065049, 0.01751676467065049, 0.014905918920060188, 0.9390728919637918, 0.029811837840120377, 0.014905918920060188, 0.014905918920060188, 0.9558606314067556, 0.006977084900779238, 0.006977084900779238, 0.027908339603116953, 0.006977084900779238, 0.05827852907346048, 0.006475392119273387, 0.9259810730560943, 0.006475392119273387, 0.006475392119273387, 0.010921787003098916, 0.010921787003098916, 0.9611172562727046, 0.02184357400619783, 0.010921787003098916, 0.9319209831647721, 0.02167258100383191, 0.02167258100383191, 0.02167258100383191, 0.02167258100383191, 0.009324176294788867, 0.009324176294788867, 0.9697143346580421, 0.009324176294788867, 0.009324176294788867, 0.01743607781334344, 0.9589842797338892, 0.01743607781334344, 0.01743607781334344, 0.01743607781334344, 0.00265553780643604, 0.3797419063203537, 0.6121014643835072, 0.00398330670965406, 0.00132776890321802, 0.1660497676038772, 0.34771105182008477, 0.3902879153082584, 0.08373449819340817, 0.012773059046452094, 0.02368640274763345, 0.947456109905338, 0.02368640274763345, 0.02368640274763345, 0.02368640274763345, 0.002531905972498832, 0.9925071412195421, 0.002531905972498832, 0.002531905972498832, 0.002531905972498832, 0.011800931810011019, 0.0590046590500551, 0.9086717493708485, 0.011800931810011019, 0.011800931810011019, 0.9658730247147986, 0.010385731448546221, 0.010385731448546221, 0.010385731448546221, 0.010385731448546221, 0.022265716257382096, 0.022265716257382096, 0.935160082810048, 0.022265716257382096, 0.022265716257382096, 0.9294870635436965, 0.0018739658539187428, 0.005621897561756228, 0.06184087317931851, 0.0018739658539187428, 0.9507382347830727, 0.016114207369204624, 0.016114207369204624, 0.016114207369204624, 0.016114207369204624, 0.008320975955303305, 0.008320975955303305, 0.008320975955303305, 0.98187516272579, 0.008320975955303305, 0.0011069632169277992, 0.0022139264338555983, 0.9951599320180915, 0.0011069632169277992, 0.0011069632169277992, 0.8251291942939623, 0.00752683415547514, 0.08091346717135776, 0.08373602997966094, 0.0028225628083031777, 0.006683518132472911, 0.10359453105333012, 0.8855661525526607, 0.0033417590662364557, 0.0033417590662364557, 0.9750419956045435, 0.0025591653427940774, 0.0025591653427940774, 0.0025591653427940774, 0.02047332274235262, 0.02139697864808693, 0.02139697864808693, 0.9200700818677379, 0.02139697864808693, 0.02139697864808693, 0.003015716771377279, 0.8896364475562973, 0.018094300628263674, 0.0874557863699411, 0.003015716771377279, 0.01722258524103687, 0.9214083103954726, 0.05166775572311061, 0.008611292620518435, 0.008611292620518435, 0.646754727558566, 0.08885847561239428, 0.12766375926590826, 0.0005623954152683183, 0.1355372950796647, 0.9497031151025287, 0.01695898419825944, 0.01695898419825944, 0.01695898419825944, 0.01695898419825944, 0.013941403280602017, 0.013941403280602017, 0.9619568263615392, 0.013941403280602017, 0.013941403280602017, 0.00362850477786858, 0.00362850477786858, 0.00362850477786858, 0.00362850477786858, 0.9869532995802538, 0.0018853419947015655, 0.04524820787283757, 0.011312051968209393, 0.009426709973507827, 0.9332442873772749, 0.021274435506495774, 0.021274435506495774, 0.9148007267793183, 0.021274435506495774, 0.021274435506495774, 0.006862379202941585, 0.006862379202941585, 0.006862379202941585, 0.9813202260206466, 0.006862379202941585, 0.006795342718822026, 0.006795342718822026, 0.006795342718822026, 0.9853246942291938, 0.006795342718822026, 0.06403541986690729, 0.007115046651878588, 0.8941241959194093, 0.03320355104210008, 0.002371682217292863, 0.07371598101024592, 0.2822056242715475, 0.3224143411862271, 0.0007446058687903627, 0.3216697353174367, 0.0048849725080702625, 0.0048849725080702625, 0.0048849725080702625, 0.0048849725080702625, 0.986764446630193, 0.18097295934454502, 0.5785434763298053, 0.1524732807076088, 0.0014249839318468112, 0.08692401984265548, 0.01544968629537159, 0.01544968629537159, 0.9578805503130386, 0.01544968629537159, 0.01544968629537159, 0.9924868091506663, 0.0039345364089223645, 0.0019672682044611822, 0.0009836341022305911, 0.0009836341022305911, 0.5469872557559659, 0.003208136397395694, 0.008020340993489234, 0.001604068198697847, 0.4411187546419079, 0.8971117599509061, 0.017799836506962423, 0.010679901904177454, 0.0035599673013924846, 0.07475931332924218, 0.01638776013855686, 0.03277552027711372, 0.9341023278977412, 0.01638776013855686, 0.01638776013855686, 0.004681978749458064, 0.004681978749458064, 0.004681978749458064, 0.9878975161356515, 0.004681978749458064, 0.0008707071594809004, 0.0008707071594809004, 0.0008707071594809004, 0.002612121478442701, 0.9952182832866691, 0.0035998538294527514, 0.0035998538294527514, 0.0035998538294527514, 0.0035998538294527514, 0.9899598030995066, 0.9092690698189032, 0.06028303225318696, 0.020094344084395654, 0.0050235860210989134, 0.0050235860210989134, 0.007639922323718696, 0.045839533942312174, 0.8938709118750875, 0.007639922323718696, 0.045839533942312174, 0.8955688815485301, 0.011194611019356626, 0.008395958264517469, 0.08116092989033553, 0.0027986527548391565, 0.9698820864319119, 0.007131485929646411, 0.007131485929646411, 0.014262971859292822, 0.007131485929646411, 0.01277482768593591, 0.01277482768593591, 0.9453372487592573, 0.01277482768593591, 0.02554965537187182, 0.01928889531396396, 0.01928889531396396, 0.92586697507027, 0.03857779062792792, 0.01928889531396396, 0.008236997982794992, 0.008236997982794992, 0.008236997982794992, 0.9802027599526041, 0.008236997982794992, 0.2616024595030778, 0.46655215707555275, 0.24160736705698269, 0.008331288519206299, 0.02332760785377764, 0.9475492095863467, 0.02256069546634159, 0.02256069546634159, 0.02256069546634159, 0.02256069546634159, 0.004526004836877236, 0.004526004836877236, 0.004526004836877236, 0.9866690544392375, 0.004526004836877236, 0.004276224976778733, 0.004276224976778733, 0.004276224976778733, 0.9878079696358874, 0.004276224976778733, 0.0055338236348332175, 0.0055338236348332175, 0.0055338236348332175, 0.9850206070003128, 0.0055338236348332175, 0.9786453946794312, 0.005018694331689391, 0.005018694331689391, 0.005018694331689391, 0.005018694331689391, 0.9386968442115585, 0.01380436535605233, 0.01380436535605233, 0.01380436535605233, 0.01380436535605233, 0.01039998129141018, 0.8735984284784551, 0.04159992516564072, 0.06759987839416617, 0.00519999064570509, 0.002865659716227495, 0.31235690906879693, 0.6791613527459163, 0.002865659716227495, 0.002865659716227495, 0.00868788936793887, 0.00868788936793887, 0.00868788936793887, 0.00868788936793887, 0.9730436092091533, 0.24108073631633234, 0.39927417545052946, 0.0015162310460146687, 0.35732511651079024, 0.0005054103486715562, 0.012034531887925753, 0.9627625510340603, 0.012034531887925753, 0.012034531887925753, 0.012034531887925753, 0.9621983667211044, 0.003388022418032058, 0.010164067254096174, 0.020328134508192347, 0.003388022418032058, 0.8175820627963736, 0.0010757658721004914, 0.17965290064078207, 0.0010757658721004914, 0.0010757658721004914, 0.008274935201579011, 0.8647307285650065, 0.11998656042289566, 0.0041374676007895055, 0.0041374676007895055, 0.0057734580432433616, 0.0057734580432433616, 0.0057734580432433616, 0.9872613253946148, 0.0057734580432433616, 0.7672294112478817, 0.002008453956146287, 0.002008453956146287, 0.22896375100067673, 0.002008453956146287, 0.00487793938552653, 0.00487793938552653, 0.00487793938552653, 0.9853437558763593, 0.00487793938552653, 0.006278629436759089, 0.006278629436759089, 0.006278629436759089, 0.9857448215711769, 0.006278629436759089, 0.014231840850249566, 0.014231840850249566, 0.9250696552662219, 0.056927363400998264, 0.014231840850249566, 0.003540723495555601, 0.23368775070666967, 0.718766869597787, 0.04248868194666721, 0.003540723495555601, 0.012592004822570321, 0.9815306323234302, 0.004843078777911662, 0.0003228719185274442, 0.0006457438370548883, 0.1428118093577657, 0.001854698822828126, 0.780828204410641, 0.07233325409029691, 0.001854698822828126, 0.00720206894308104, 0.00720206894308104, 0.00720206894308104, 0.9794813762590214, 0.00720206894308104, 0.005715614191842031, 0.005715614191842031, 0.005715614191842031, 0.9830856409968293, 0.005715614191842031, 0.0066202887035392895, 0.9202201297919613, 0.05958259833185361, 0.0066202887035392895, 0.0066202887035392895, 0.8469172227351592, 0.0715859811154556, 0.01762116458226599, 0.03524232916453198, 0.02918505383937805, 0.42521580568788925, 0.012445340654279685, 0.5392980950187863, 0.0020742234423799474, 0.020742234423799476, 0.9632244628592788, 0.01528927718824252, 0.01528927718824252, 0.01528927718824252, 0.01528927718824252, 0.9893327028469308, 0.004105114949572327, 0.004105114949572327, 0.004105114949572327, 0.004105114949572327, 0.007473920710257694, 0.007473920710257694, 0.007473920710257694, 0.979083613043758, 0.007473920710257694, 0.0064593249287954665, 0.0064593249287954665, 0.0064593249287954665, 0.981817389176911, 0.0064593249287954665, 0.01054186956919963, 0.2494909131377246, 0.730902956797841, 0.003513956523066543, 0.007027913046133086, 0.014085825650253873, 0.044818536159898684, 0.8733211903157401, 0.0678680690421323, 0.0012805296045685338, 0.006199585379739079, 0.006199585379739079, 0.006199585379739079, 0.9857340753785135, 0.006199585379739079, 0.9424876544943231, 0.03366027337479725, 0.016830136687398627, 0.016830136687398627, 0.016830136687398627, 0.06782844300792094, 0.0035699180530484706, 0.0035699180530484706, 0.9210388576865054, 0.0035699180530484706, 0.15970322746889923, 0.38390198910793083, 0.32554888676352534, 0.0015356079564317233, 0.13052667629669648, 0.991844232054277, 0.0007429544809395333, 0.004457726885637199, 0.0022288634428185997, 0.0007429544809395333, 0.327477179644146, 0.005550460671934678, 0.02960245691698495, 0.0037003071146231186, 0.6327525166005533, 0.14469048384889335, 0.0057876193539557344, 0.011575238707911469, 0.0057876193539557344, 0.8334171869696257, 0.0058064693070292404, 0.03483881584217544, 0.9522609663527954, 0.0058064693070292404, 0.0058064693070292404, 0.0071007076447025825, 0.0071007076447025825, 0.0071007076447025825, 0.9798976549689564, 0.0071007076447025825, 0.006177098387562696, 0.006177098387562696, 0.006177098387562696, 0.006177098387562696, 0.9821586436224687, 0.20344235064479244, 0.5498986309507756, 0.24372796463386026, 0.0020142806994533904, 0.0020142806994533904, 0.01921716861601617, 0.7412336466177666, 0.17844513714872157, 0.060396815650336534, 0.0027453098022880242, 0.0028955057981294783, 0.9844719713640225, 0.0028955057981294783, 0.005791011596258957, 0.0028955057981294783, 0.001281094689421816, 0.001281094689421816, 0.001281094689421816, 0.9966916683701729, 0.001281094689421816, 0.017141902881949844, 0.9428046585072414, 0.017141902881949844, 0.017141902881949844, 0.017141902881949844, 0.003987651331219678, 0.8413944308873519, 0.001993825665609839, 0.1495369249207379, 0.001993825665609839, 0.6949133119837464, 0.02694954672513144, 0.21752134142427518, 0.03657438484124981, 0.02502457910190776, 0.040953150224271775, 0.010238287556067944, 0.9316841676021829, 0.010238287556067944, 0.010238287556067944, 0.005248204810986183, 0.005248204810986183, 0.005248204810986183, 0.005248204810986183, 0.9866625044654023, 0.004097123783829111, 0.7579679000083857, 0.23353605567825936, 0.004097123783829111, 0.004097123783829111, 0.0034706914112784064, 0.0034706914112784064, 0.0034706914112784064, 0.0034706914112784064, 0.9891470522143458, 0.8298877453750944, 0.07418954896284627, 0.09144293244257796, 0.0017253383479731692, 0.0017253383479731692, 0.004070463487483993, 0.9891226274586103, 0.004070463487483993, 0.004070463487483993, 0.004070463487483993, 0.9652558609633127, 0.006919396852783604, 0.003459698426391802, 0.003459698426391802, 0.01729849213195901, 0.013958563812894962, 0.013958563812894962, 0.013958563812894962, 0.013958563812894962, 0.9631409030897524, 0.021429059216194996, 0.021429059216194996, 0.021429059216194996, 0.021429059216194996, 0.9428786055125797, 0.5428999515500739, 0.2002499821291256, 0.19134998292338667, 0.002224999801434729, 0.06341249434088977, 0.006453335813265145, 0.006453335813265145, 0.006453335813265145, 0.9809070436163019, 0.006453335813265145, 0.007889498032813856, 0.007889498032813856, 0.007889498032813856, 0.9782977560689181, 0.007889498032813856, 0.008746018752957017, 0.9183319690604869, 0.06122213127069912, 0.008746018752957017, 0.008746018752957017, 0.018207200906400243, 0.9467744471328127, 0.018207200906400243, 0.018207200906400243, 0.018207200906400243, 0.006653606847061251, 0.006653606847061251, 0.006653606847061251, 0.9847338133650653, 0.006653606847061251, 0.013117633772568093, 0.013117633772568093, 0.013117633772568093, 0.013117633772568093, 0.9707048991700389, 0.5409268829757158, 0.23765790276291554, 0.05540490984656927, 0.0014580239433307702, 0.16475670559637703, 0.5851791011626212, 0.017381557460275875, 0.002896926243379313, 0.39398196909958655, 0.002896926243379313, 0.0027986239009278008, 0.4379846404952008, 0.5569261562846324, 0.0013993119504639004, 0.0013993119504639004, 0.0020029421877660503, 0.676994459464925, 0.318467807854802, 0.0020029421877660503, 0.0020029421877660503, 0.014555418145391385, 0.014555418145391385, 0.9606575975958315, 0.014555418145391385, 0.014555418145391385, 0.02737131985271305, 0.02737131985271305, 0.9306248749922438, 0.02737131985271305, 0.02737131985271305, 0.01109774183578505, 0.9766012815490844, 0.01109774183578505, 0.01109774183578505, 0.01109774183578505, 0.024937324239400517, 0.9476183210972197, 0.024937324239400517, 0.024937324239400517, 0.024937324239400517, 0.003578449254750386, 0.9482890525088523, 0.003578449254750386, 0.04294139105700463, 0.003578449254750386, 0.021888548680676013, 0.9412075932690687, 0.021888548680676013, 0.021888548680676013, 0.021888548680676013, 0.0850304537825438, 0.0018091585911179531, 0.8991518197856228, 0.012664110137825672, 0.0018091585911179531, 0.006919532760652316, 0.006919532760652316, 0.9756541192519766, 0.006919532760652316, 0.006919532760652316, 0.014247784178348197, 0.014247784178348197, 0.9546015399493292, 0.014247784178348197, 0.014247784178348197, 0.00421862822547224, 0.01687451290188896, 0.9745031200840876, 0.00421862822547224, 0.00421862822547224, 0.01254676418005936, 0.04391367463020776, 0.8970936388742442, 0.00627338209002968, 0.04391367463020776, 0.020851529661097913, 0.020851529661097913, 0.938318834749406, 0.020851529661097913, 0.020851529661097913, 0.06062361885433782, 0.008660516979191117, 0.9180147997942584, 0.008660516979191117, 0.008660516979191117, 0.006428440062357071, 0.2732087026501755, 0.7167710669528133, 0.0032142200311785353, 0.0032142200311785353, 0.009265657811787757, 0.9728940702377143, 0.009265657811787757, 0.009265657811787757, 0.009265657811787757, 0.005530509438711976, 0.005530509438711976, 0.005530509438711976, 0.9844306800907316, 0.005530509438711976, 0.5767906000147622, 0.025971809381527752, 0.22184253846721622, 0.001082158724230323, 0.17422755460108202, 0.007691194458322471, 0.14356896322201945, 0.7075898901656673, 0.14100523173591198, 0.0025637314861074903, 0.018515642864095384, 0.03703128572819077, 0.9257821432047691, 0.018515642864095384, 0.018515642864095384, 0.013213098207745117, 0.013213098207745117, 0.026426196415490235, 0.013213098207745117, 0.9381299727499034, 0.005710082566196443, 0.005710082566196443, 0.005710082566196443, 0.005710082566196443, 0.9878442839519846, 0.16073706873189827, 0.08036853436594914, 0.07091341267583748, 0.004727560845055832, 0.6854963225330957, 0.022887524430629174, 0.022887524430629174, 0.022887524430629174, 0.022887524430629174, 0.9383885016557961, 0.0064036924671081585, 0.4794764734747234, 0.5026898586679904, 0.0016009231167770396, 0.010406000259050757, 0.0018970428292860463, 0.3357765807836302, 0.6601709045915441, 0.0018970428292860463, 0.0018970428292860463, 0.31815197406100004, 0.5328653752745813, 0.0501520353199606, 0.09795319398429804, 0.0015672511037487687, 0.9672682698536162, 0.022414416235467045, 0.008620929321333478, 0.0017241858642666956, 0.0017241858642666956, 0.030494896959944267, 0.914846908798328, 0.030494896959944267, 0.030494896959944267, 0.030494896959944267, 0.9232983971631775, 0.006642434511965305, 0.006642434511965305, 0.05978191060768775, 0.006642434511965305, 0.9589076647840112, 0.030932505315613267, 0.0061865010631226534, 0.0061865010631226534, 0.0061865010631226534, 0.9746316594098509, 0.009524087876969227, 0.003174695958989742, 0.003174695958989742, 0.006349391917979484, 0.04121774710447766, 0.9273993098507474, 0.02060887355223883, 0.02060887355223883, 0.02060887355223883, 0.024414365570071286, 0.9277458916627088, 0.024414365570071286, 0.024414365570071286, 0.024414365570071286, 0.0030505817931319066, 0.0030505817931319066, 0.0030505817931319066, 0.0030505817931319066, 0.9914390827678696, 0.0014031070080194378, 0.0014031070080194378, 0.0014031070080194378, 0.0014031070080194378, 0.9962059756938009, 0.0048922452482639605, 0.0048922452482639605, 0.0048922452482639605, 0.0048922452482639605, 0.98823354014932, 0.00643534068135896, 0.00643534068135896, 0.00643534068135896, 0.00643534068135896, 0.984607124247921, 0.01080171076662591, 0.9289471259298282, 0.01080171076662591, 0.04320684306650364, 0.01080171076662591, 0.3448406154743996, 0.17329553772571352, 0.40785717464738636, 0.001750459977027409, 0.07351931903515119, 0.004614259660344476, 0.15919195828188443, 0.8328738686921778, 0.002307129830172238, 0.002307129830172238, 0.5477446485882008, 0.15342233400259186, 0.009420669631738097, 0.20456311200345584, 0.08613183663303403, 0.0042483526529674045, 0.0042483526529674045, 0.0042483526529674045, 0.9898661681414052, 0.0042483526529674045, 0.008584714618500676, 0.2546798670155201, 0.14307857697501128, 0.0028615715395002256, 0.5923453086765467, 0.007724140852029373, 0.007724140852029373, 0.007724140852029373, 0.9809658882077305, 0.007724140852029373, 0.9468708404588447, 0.01753464519368231, 0.01753464519368231, 0.01753464519368231, 0.01753464519368231, 0.002053417838263886, 0.21355545517944413, 0.7720851071872211, 0.010267089191319429, 0.002053417838263886, 0.009465808572303861, 0.009465808572303861, 0.9465808572303861, 0.009465808572303861, 0.028397425716911583, 0.6475157733848534, 0.17322559825365821, 0.14145496451281261, 0.0007564436604963242, 0.03706573936431988, 0.006550814056325365, 0.006550814056325365, 0.006550814056325365, 0.006550814056325365, 0.9826221084488048, 0.007462037406152142, 0.007462037406152142, 0.007462037406152142, 0.9849889376120827, 0.007462037406152142, 0.14442052751145554, 0.7706102956527284, 0.0033073403246898217, 0.08158106134234892, 0.0011024467748966071, 0.006495942478976297, 0.9743913718464446, 0.006495942478976297, 0.012991884957952594, 0.006495942478976297, 0.37641041251461366, 0.5658298459090644, 0.04371217693718094, 0.009713817097151321, 0.004856908548575661, 0.010792088198106817, 0.8763175616862736, 0.0021584176396213634, 0.11007929962068955, 0.0021584176396213634, 0.021413205587830164, 0.9207678402766971, 0.021413205587830164, 0.021413205587830164, 0.021413205587830164, 0.027095541457720494, 0.9212484095624968, 0.027095541457720494, 0.027095541457720494, 0.027095541457720494, 0.009229676745344185, 0.9783457350064836, 0.009229676745344185, 0.009229676745344185, 0.009229676745344185, 0.20242612683162073, 0.12232167022445531, 0.4546469158785065, 0.001082492656853587, 0.22082850199813173, 0.6487916735513373, 0.013270738777186444, 0.1887393959422072, 0.03096505714676837, 0.119436648994678, 0.2942722594079747, 0.01905359953001275, 0.48480825470810224, 0.0021170666144458613, 0.20112132837235683, 0.007754068956416568, 0.007754068956416568, 0.007754068956416568, 0.9770126885084874, 0.007754068956416568, 0.8654061004172535, 0.0030579720862800477, 0.0030579720862800477, 0.12843482762376202, 0.0030579720862800477, 0.0125737814954423, 0.0125737814954423, 0.0125737814954423, 0.0125737814954423, 0.9681811751490571, 0.8030908385998312, 0.00025238555581390043, 0.0010095422232556017, 0.19534642019995893, 0.00025238555581390043, 0.9898679140023516, 0.0043896581552210715, 0.0021948290776105358, 0.0021948290776105358, 0.0021948290776105358, 0.9462690546395172, 0.040993605255141535, 0.010248401313785384, 0.0034161337712617945, 0.0034161337712617945, 0.9952083511834039, 0.0017188399847727182, 0.0017188399847727182, 0.0017188399847727182, 0.0017188399847727182, 0.6711981494149957, 0.13215300351176082, 0.08216091336750919, 0.0004347138273413185, 0.11432973659076676, 0.3342979182717142, 0.06985329635528356, 0.5322155912783509, 0.006652694890979386, 0.05821108029606963, 0.010140803183764226, 0.010140803183764226, 0.020281606367528453, 0.020281606367528453, 0.9430946960900731, 0.004440686441084249, 0.004440686441084249, 0.004440686441084249, 0.004440686441084249, 0.9902730763617875, 0.009633739936805217, 0.009633739936805217, 0.009633739936805217, 0.009633739936805217, 0.9730077336173268, 0.0011791960617565974, 0.0011791960617565974, 0.1922089580663254, 0.002358392123513195, 0.8030325180562429, 0.0048007792491317385, 0.0048007792491317385, 0.9889605253211381, 0.0048007792491317385, 0.0048007792491317385, 0.0008500939314557954, 0.0008500939314557954, 0.0034003757258231817, 0.0008500939314557954, 0.9937598058718249, 0.0005676839212506641, 0.0005676839212506641, 0.005109155291255977, 0.0034061035275039847, 0.9906084425824089, 0.007066962608113056, 0.007066962608113056, 0.18374102781093946, 0.007066962608113056, 0.7985667747167753, 0.9848834813823637, 0.004689921339916018, 0.004689921339916018, 0.004689921339916018, 0.004689921339916018, 0.9417692153577285, 0.016817307417102294, 0.016817307417102294, 0.016817307417102294, 0.016817307417102294, 0.007460856727347963, 0.007460856727347963, 0.007460856727347963, 0.9773722312825832, 0.007460856727347963, 0.0013061450875615115, 0.0013061450875615115, 0.0013061450875615115, 0.9965887018094333, 0.0013061450875615115, 0.010504537365310505, 0.82985845185953, 0.010504537365310505, 0.1470635231143471, 0.005252268682655253, 0.01586857296066535, 0.010579048640443567, 0.9574039019601428, 0.010579048640443567, 0.005289524320221783, 0.9495497378034115, 0.022386241362752333, 0.026117281589877722, 0.0018655201135626945, 0.0018655201135626945, 0.01136019259476417, 0.09466827162303475, 0.8898817532565266, 0.001893365432460695, 0.001893365432460695], \"Term\": [\"accept\", \"accept\", \"accept\", \"accept\", \"accept\", \"already\", \"already\", \"already\", \"already\", \"already\", \"always\", \"always\", \"always\", \"always\", \"always\", \"amount\", \"amount\", \"amount\", \"amount\", \"amount\", \"annoying\", \"annoying\", \"annoying\", \"annoying\", \"annoying\", \"anyone\", \"anyone\", \"anyone\", \"anyone\", \"anyone\", \"apps\", \"apps\", \"apps\", \"apps\", \"apps\", \"authentication\", \"authentication\", \"authentication\", \"authentication\", \"authentication\", \"authentication_code\", \"authentication_code\", \"authentication_code\", \"authentication_code\", \"authentication_code\", \"ayaw\", \"ayaw\", \"ayaw\", \"ayaw\", \"ayaw\", \"ayusin\", \"ayusin\", \"ayusin\", \"ayusin\", \"ayusin\", \"back\", \"back\", \"back\", \"back\", \"back\", \"bad\", \"bad\", \"bad\", \"bad\", \"bad\", \"bagal\", \"bagal\", \"bagal\", \"bagal\", \"bagal\", \"balance\", \"balance\", \"balance\", \"balance\", \"balance\", \"bank\", \"bank\", \"bank\", \"bank\", \"bank\", \"bank_transfer\", \"bank_transfer\", \"bank_transfer\", \"bank_transfer\", \"bank_transfer\", \"blurred\", \"blurred\", \"blurred\", \"blurred\", \"blurred\", \"blurry\", \"blurry\", \"blurry\", \"blurry\", \"blurry\", \"bought\", \"bought\", \"bought\", \"bought\", \"bought\", \"bugs\", \"bugs\", \"bugs\", \"bugs\", \"bugs\", \"bulok\", \"bulok\", \"bulok\", \"bulok\", \"bulok\", \"buy_load\", \"buy_load\", \"buy_load\", \"buy_load\", \"buy_load\", \"buying_load\", \"buying_load\", \"buying_load\", \"buying_load\", \"buying_load\", \"call\", \"call\", \"call\", \"call\", \"call\", \"camera\", \"camera\", \"camera\", \"camera\", \"camera\", \"cash\", \"cash\", \"cash\", \"cash\", \"cash\", \"cashed\", \"cashed\", \"cashed\", \"cashed\", \"cashed\", \"cashing\", \"cashing\", \"cashing\", \"cashing\", \"cashing\", \"center\", \"center\", \"center\", \"center\", \"center\", \"change\", \"change\", \"change\", \"change\", \"change\", \"charge\", \"charge\", \"charge\", \"charge\", \"charge\", \"choices\", \"choices\", \"choices\", \"choices\", \"choices\", \"cimb\", \"cimb\", \"cimb\", \"cimb\", \"cimb\", \"clear\", \"clear\", \"clear\", \"clear\", \"clear\", \"code\", \"code\", \"code\", \"code\", \"code\", \"compatible\", \"compatible\", \"compatible\", \"compatible\", \"compatible\", \"concerns\", \"concerns\", \"concerns\", \"concerns\", \"concerns\", \"connection\", \"connection\", \"connection\", \"connection\", \"connection\", \"correct\", \"correct\", \"correct\", \"correct\", \"correct\", \"costumer_service\", \"costumer_service\", \"costumer_service\", \"costumer_service\", \"costumer_service\", \"crashes\", \"crashes\", \"crashes\", \"crashes\", \"crashes\", \"create\", \"create\", \"create\", \"create\", \"create\", \"credited\", \"credited\", \"credited\", \"credited\", \"credited\", \"customer_service\", \"customer_service\", \"customer_service\", \"customer_service\", \"customer_service\", \"days\", \"days\", \"days\", \"days\", \"days\", \"debited\", \"debited\", \"debited\", \"debited\", \"debited\", \"deducted\", \"deducted\", \"deducted\", \"deducted\", \"deducted\", \"details\", \"details\", \"details\", \"details\", \"details\", \"device\", \"device\", \"device\", \"device\", \"device\", \"digit_code\", \"digit_code\", \"digit_code\", \"digit_code\", \"digit_code\", \"download\", \"download\", \"download\", \"download\", \"download\", \"downloading\", \"downloading\", \"downloading\", \"downloading\", \"downloading\", \"dumating\", \"dumating\", \"dumating\", \"dumating\", \"dumating\", \"email\", \"email\", \"email\", \"email\", \"email\", \"error\", \"error\", \"error\", \"error\", \"error\", \"ever\", \"ever\", \"ever\", \"ever\", \"ever\", \"everytime\", \"everytime\", \"everytime\", \"everytime\", \"everytime\", \"fake\", \"fake\", \"fake\", \"fake\", \"fake\", \"fee\", \"fee\", \"fee\", \"fee\", \"fee\", \"fees\", \"fees\", \"fees\", \"fees\", \"fees\", \"fix\", \"fix\", \"fix\", \"fix\", \"fix\", \"force\", \"force\", \"force\", \"force\", \"force\", \"freebies\", \"freebies\", \"freebies\", \"freebies\", \"freebies\", \"fully\", \"fully\", \"fully\", \"fully\", \"fully\", \"fully_verified\", \"fully_verified\", \"fully_verified\", \"fully_verified\", \"fully_verified\", \"game\", \"game\", \"game\", \"game\", \"game\", \"gamitin\", \"gamitin\", \"gamitin\", \"gamitin\", \"gamitin\", \"ganun\", \"ganun\", \"ganun\", \"ganun\", \"ganun\", \"gcredit\", \"gcredit\", \"gcredit\", \"gcredit\", \"gcredit\", \"get\", \"get\", \"get\", \"get\", \"get\", \"get_fully\", \"get_fully\", \"get_fully\", \"get_fully\", \"get_fully\", \"give\", \"give\", \"give\", \"give\", \"give\", \"gmail\", \"gmail\", \"gmail\", \"gmail\", \"gmail\", \"good\", \"good\", \"good\", \"good\", \"good\", \"hard\", \"hard\", \"hard\", \"hard\", \"hard\", \"hate\", \"hate\", \"hate\", \"hate\", \"hate\", \"helping\", \"helping\", \"helping\", \"helping\", \"helping\", \"hirap\", \"hirap\", \"hirap\", \"hirap\", \"hirap\", \"id\", \"id\", \"id\", \"id\", \"id\", \"ids\", \"ids\", \"ids\", \"ids\", \"ids\", \"inconvenient\", \"inconvenient\", \"inconvenient\", \"inconvenient\", \"inconvenient\", \"information\", \"information\", \"information\", \"information\", \"information\", \"install\", \"install\", \"install\", \"install\", \"install\", \"internet_connection\", \"internet_connection\", \"internet_connection\", \"internet_connection\", \"internet_connection\", \"invalid\", \"invalid\", \"invalid\", \"invalid\", \"invalid\", \"invite\", \"invite\", \"invite\", \"invite\", \"invite\", \"inyo\", \"inyo\", \"inyo\", \"inyo\", \"inyo\", \"issue\", \"issue\", \"issue\", \"issue\", \"issue\", \"keeps_crashing\", \"keeps_crashing\", \"keeps_crashing\", \"keeps_crashing\", \"keeps_crashing\", \"lagi\", \"lagi\", \"lagi\", \"lagi\", \"lagi\", \"laging\", \"laging\", \"laging\", \"laging\", \"laging\", \"laman\", \"laman\", \"laman\", \"laman\", \"laman\", \"later\", \"later\", \"later\", \"later\", \"later\", \"latest\", \"latest\", \"latest\", \"latest\", \"latest\", \"limit\", \"limit\", \"limit\", \"limit\", \"limit\", \"link\", \"link\", \"link\", \"link\", \"link\", \"list\", \"list\", \"list\", \"list\", \"list\", \"load\", \"load\", \"load\", \"load\", \"load\", \"loaded\", \"loaded\", \"loaded\", \"loaded\", \"loaded\", \"loading\", \"loading\", \"loading\", \"loading\", \"loading\", \"log\", \"log\", \"log\", \"log\", \"log\", \"lost\", \"lost\", \"lost\", \"lost\", \"lost\", \"magamit\", \"magamit\", \"magamit\", \"magamit\", \"magamit\", \"maintenance\", \"maintenance\", \"maintenance\", \"maintenance\", \"maintenance\", \"maka\", \"maka\", \"maka\", \"maka\", \"maka\", \"makapag\", \"makapag\", \"makapag\", \"makapag\", \"makapag\", \"master_card\", \"master_card\", \"master_card\", \"master_card\", \"master_card\", \"mastercard\", \"mastercard\", \"mastercard\", \"mastercard\", \"mastercard\", \"money\", \"money\", \"money\", \"money\", \"money\", \"mpin\", \"mpin\", \"mpin\", \"mpin\", \"mpin\", \"nakakainis\", \"nakakainis\", \"nakakainis\", \"nakakainis\", \"nakakainis\", \"nalang\", \"nalang\", \"nalang\", \"nalang\", \"nalang\", \"name\", \"name\", \"name\", \"name\", \"name\", \"need\", \"need\", \"need\", \"need\", \"need\", \"new\", \"new\", \"new\", \"new\", \"new\", \"new_version\", \"new_version\", \"new_version\", \"new_version\", \"new_version\", \"nice\", \"nice\", \"nice\", \"nice\", \"nice\", \"nio\", \"nio\", \"nio\", \"nio\", \"nio\", \"nman\", \"nman\", \"nman\", \"nman\", \"nman\", \"nothing\", \"nothing\", \"nothing\", \"nothing\", \"nothing\", \"number\", \"number\", \"number\", \"number\", \"number\", \"nung\", \"nung\", \"nung\", \"nung\", \"nung\", \"often\", \"often\", \"often\", \"often\", \"often\", \"ok\", \"ok\", \"ok\", \"ok\", \"ok\", \"one\", \"one\", \"one\", \"one\", \"one\", \"open\", \"open\", \"open\", \"open\", \"open\", \"option\", \"option\", \"option\", \"option\", \"option\", \"options\", \"options\", \"options\", \"options\", \"options\", \"otp\", \"otp\", \"otp\", \"otp\", \"otp\", \"pang\", \"pang\", \"pang\", \"pang\", \"pang\", \"passport\", \"passport\", \"passport\", \"passport\", \"passport\", \"pay\", \"pay\", \"pay\", \"pay\", \"pay\", \"payment\", \"payment\", \"payment\", \"payment\", \"payment\", \"paypal\", \"paypal\", \"paypal\", \"paypal\", \"paypal\", \"pera\", \"pera\", \"pera\", \"pera\", \"pera\", \"peso\", \"peso\", \"peso\", \"peso\", \"peso\", \"pesos\", \"pesos\", \"pesos\", \"pesos\", \"pesos\", \"phone\", \"phone\", \"phone\", \"phone\", \"phone\", \"phone_number\", \"phone_number\", \"phone_number\", \"phone_number\", \"phone_number\", \"photo\", \"photo\", \"photo\", \"photo\", \"photo\", \"php\", \"php\", \"php\", \"php\", \"php\", \"picture\", \"picture\", \"picture\", \"picture\", \"picture\", \"poor\", \"poor\", \"poor\", \"poor\", \"poor\", \"poor_customer\", \"poor_customer\", \"poor_customer\", \"poor_customer\", \"poor_customer\", \"possible\", \"possible\", \"possible\", \"possible\", \"possible\", \"postal_id\", \"postal_id\", \"postal_id\", \"postal_id\", \"postal_id\", \"prc_id\", \"prc_id\", \"prc_id\", \"prc_id\", \"prc_id\", \"problem\", \"problem\", \"problem\", \"problem\", \"problem\", \"problema\", \"problema\", \"problema\", \"problema\", \"problema\", \"pumasok\", \"pumasok\", \"pumasok\", \"pumasok\", \"pumasok\", \"purchase\", \"purchase\", \"purchase\", \"purchase\", \"purchase\", \"purchased\", \"purchased\", \"purchased\", \"purchased\", \"purchased\", \"pwede\", \"pwede\", \"pwede\", \"pwede\", \"pwede\", \"readable\", \"readable\", \"readable\", \"readable\", \"readable\", \"really\", \"really\", \"really\", \"really\", \"really\", \"rebate\", \"rebate\", \"rebate\", \"rebate\", \"rebate\", \"receive\", \"receive\", \"receive\", \"receive\", \"receive\", \"received\", \"received\", \"received\", \"received\", \"received\", \"referral\", \"referral\", \"referral\", \"referral\", \"referral\", \"referred\", \"referred\", \"referred\", \"referred\", \"referred\", \"reflect\", \"reflect\", \"reflect\", \"reflect\", \"reflect\", \"reflected\", \"reflected\", \"reflected\", \"reflected\", \"reflected\", \"refund\", \"refund\", \"refund\", \"refund\", \"refund\", \"refunded\", \"refunded\", \"refunded\", \"refunded\", \"refunded\", \"register\", \"register\", \"register\", \"register\", \"register\", \"registered\", \"registered\", \"registered\", \"registered\", \"registered\", \"registration\", \"registration\", \"registration\", \"registration\", \"registration\", \"reply\", \"reply\", \"reply\", \"reply\", \"reply\", \"request\", \"request\", \"request\", \"request\", \"request\", \"resend\", \"resend\", \"resend\", \"resend\", \"resend\", \"reset\", \"reset\", \"reset\", \"reset\", \"reset\", \"response\", \"response\", \"response\", \"response\", \"response\", \"return\", \"return\", \"return\", \"return\", \"return\", \"sayang\", \"sayang\", \"sayang\", \"sayang\", \"sayang\", \"says\", \"says\", \"says\", \"says\", \"says\", \"scam\", \"scam\", \"scam\", \"scam\", \"scam\", \"scammers\", \"scammers\", \"scammers\", \"scammers\", \"scammers\", \"school\", \"school\", \"school\", \"school\", \"school\", \"school_id\", \"school_id\", \"school_id\", \"school_id\", \"school_id\", \"see\", \"see\", \"see\", \"see\", \"see\", \"selfie\", \"selfie\", \"selfie\", \"selfie\", \"selfie\", \"send\", \"send\", \"send\", \"send\", \"send\", \"sent\", \"sent\", \"sent\", \"sent\", \"sent\", \"service\", \"service\", \"service\", \"service\", \"service\", \"slow\", \"slow\", \"slow\", \"slow\", \"slow\", \"small_amount\", \"small_amount\", \"small_amount\", \"small_amount\", \"small_amount\", \"something_went\", \"something_went\", \"something_went\", \"something_went\", \"something_went\", \"sometimes\", \"sometimes\", \"sometimes\", \"sometimes\", \"sometimes\", \"soon\", \"soon\", \"soon\", \"soon\", \"soon\", \"stealing\", \"stealing\", \"stealing\", \"stealing\", \"stealing\", \"stole\", \"stole\", \"stole\", \"stole\", \"stole\", \"student\", \"student\", \"student\", \"student\", \"student\", \"student_id\", \"student_id\", \"student_id\", \"student_id\", \"student_id\", \"students\", \"students\", \"students\", \"students\", \"students\", \"students_id\", \"students_id\", \"students_id\", \"students_id\", \"students_id\", \"successful\", \"successful\", \"successful\", \"successful\", \"successful\", \"sucks\", \"sucks\", \"sucks\", \"sucks\", \"sucks\", \"support\", \"support\", \"support\", \"support\", \"support\", \"system\", \"system\", \"system\", \"system\", \"system\", \"tagal\", \"tagal\", \"tagal\", \"tagal\", \"tagal\", \"take\", \"take\", \"take\", \"take\", \"take\", \"tas\", \"tas\", \"tas\", \"tas\", \"tas\", \"temporarily_unavailable\", \"temporarily_unavailable\", \"temporarily_unavailable\", \"temporarily_unavailable\", \"temporarily_unavailable\", \"ticket\", \"ticket\", \"ticket\", \"ticket\", \"ticket\", \"tickets\", \"tickets\", \"tickets\", \"tickets\", \"tickets\", \"time\", \"time\", \"time\", \"time\", \"time\", \"tin_id\", \"tin_id\", \"tin_id\", \"tin_id\", \"tin_id\", \"tong\", \"tong\", \"tong\", \"tong\", \"tong\", \"transaction\", \"transaction\", \"transaction\", \"transaction\", \"transaction\", \"transaction_history\", \"transaction_history\", \"transaction_history\", \"transaction_history\", \"transaction_history\", \"transactions\", \"transactions\", \"transactions\", \"transactions\", \"transactions\", \"transfer\", \"transfer\", \"transfer\", \"transfer\", \"transfer\", \"transfer_funds\", \"transfer_funds\", \"transfer_funds\", \"transfer_funds\", \"transfer_funds\", \"transfered\", \"transfered\", \"transfered\", \"transfered\", \"transfered\", \"transferred\", \"transferred\", \"transferred\", \"transferred\", \"transferred\", \"tried\", \"tried\", \"tried\", \"tried\", \"tried\", \"try\", \"try\", \"try\", \"try\", \"try\", \"trying\", \"trying\", \"trying\", \"trying\", \"trying\", \"un\", \"un\", \"un\", \"un\", \"un\", \"unavailable\", \"unavailable\", \"unavailable\", \"unavailable\", \"unavailable\", \"unclear\", \"unclear\", \"unclear\", \"unclear\", \"unclear\", \"update\", \"update\", \"update\", \"update\", \"update\", \"updated\", \"updated\", \"updated\", \"updated\", \"updated\", \"updates\", \"updates\", \"updates\", \"updates\", \"updates\", \"updating\", \"updating\", \"updating\", \"updating\", \"updating\", \"use\", \"use\", \"use\", \"use\", \"use\", \"useless\", \"useless\", \"useless\", \"useless\", \"useless\", \"valid\", \"valid\", \"valid\", \"valid\", \"valid\", \"valid_id\", \"valid_id\", \"valid_id\", \"valid_id\", \"valid_id\", \"valid_ids\", \"valid_ids\", \"valid_ids\", \"valid_ids\", \"valid_ids\", \"verification\", \"verification\", \"verification\", \"verification\", \"verification\", \"verification_code\", \"verification_code\", \"verification_code\", \"verification_code\", \"verification_code\", \"verified\", \"verified\", \"verified\", \"verified\", \"verified\", \"verify\", \"verify\", \"verify\", \"verify\", \"verify\", \"verifying\", \"verifying\", \"verifying\", \"verifying\", \"verifying\", \"version\", \"version\", \"version\", \"version\", \"version\", \"vouchers\", \"vouchers\", \"vouchers\", \"vouchers\", \"vouchers\", \"wag\", \"wag\", \"wag\", \"wag\", \"wag\", \"wala\", \"wala\", \"wala\", \"wala\", \"wala\", \"wallet\", \"wallet\", \"wallet\", \"wallet\", \"wallet\", \"weeks\", \"weeks\", \"weeks\", \"weeks\", \"weeks\", \"working\", \"working\", \"working\", \"working\", \"working\", \"worst\", \"worst\", \"worst\", \"worst\", \"worst\"]}, \"R\": 30, \"lambda.step\": 0.01, \"plot.opts\": {\"xlab\": \"PC1\", \"ylab\": \"PC2\"}, \"topic.order\": [1, 3, 2, 4, 5]};\n",
       "\n",
       "function LDAvis_load_lib(url, callback){\n",
       "  var s = document.createElement('script');\n",
       "  s.src = url;\n",
       "  s.async = true;\n",
       "  s.onreadystatechange = s.onload = callback;\n",
       "  s.onerror = function(){console.warn(\"failed to load library \" + url);};\n",
       "  document.getElementsByTagName(\"head\")[0].appendChild(s);\n",
       "}\n",
       "\n",
       "if(typeof(LDAvis) !== \"undefined\"){\n",
       "   // already loaded: just create the visualization\n",
       "   !function(LDAvis){\n",
       "       new LDAvis(\"#\" + \"ldavis_el101358452793447853860302\", ldavis_el101358452793447853860302_data);\n",
       "   }(LDAvis);\n",
       "}else if(typeof define === \"function\" && define.amd){\n",
       "   // require.js is available: use it to load d3/LDAvis\n",
       "   require.config({paths: {d3: \"https://d3js.org/d3.v5\"}});\n",
       "   require([\"d3\"], function(d3){\n",
       "      window.d3 = d3;\n",
       "      LDAvis_load_lib(\"https://cdn.jsdelivr.net/gh/bmabey/pyLDAvis@3.3.1/pyLDAvis/js/ldavis.v3.0.0.js\", function(){\n",
       "        new LDAvis(\"#\" + \"ldavis_el101358452793447853860302\", ldavis_el101358452793447853860302_data);\n",
       "      });\n",
       "    });\n",
       "}else{\n",
       "    // require.js not available: dynamically load d3 & LDAvis\n",
       "    LDAvis_load_lib(\"https://d3js.org/d3.v5.js\", function(){\n",
       "         LDAvis_load_lib(\"https://cdn.jsdelivr.net/gh/bmabey/pyLDAvis@3.3.1/pyLDAvis/js/ldavis.v3.0.0.js\", function(){\n",
       "                 new LDAvis(\"#\" + \"ldavis_el101358452793447853860302\", ldavis_el101358452793447853860302_data);\n",
       "            })\n",
       "         });\n",
       "}\n",
       "</script>"
      ],
      "text/plain": [
       "PreparedData(topic_coordinates=              x         y  topics  cluster       Freq\n",
       "topic                                                \n",
       "0     -0.033607  0.006300       1        1  30.957899\n",
       "2     -0.048283 -0.168513       2        1  23.531366\n",
       "1     -0.129182 -0.131808       3        1  19.627433\n",
       "3      0.375392  0.043286       4        1  14.360511\n",
       "4     -0.164321  0.250735       5        1  11.522791, topic_info=         Term         Freq        Total Category  logprob  loglift\n",
       "72      money  3097.000000  3097.000000  Default  30.0000  30.0000\n",
       "162    verify  1761.000000  1761.000000  Default  29.0000  29.0000\n",
       "161    update  3962.000000  3962.000000  Default  28.0000  28.0000\n",
       "9      always  2776.000000  2776.000000  Default  27.0000  27.0000\n",
       "53   verified  1176.000000  1176.000000  Default  26.0000  26.0000\n",
       "..        ...          ...          ...      ...      ...      ...\n",
       "58        get   431.667832  1342.992369   Topic5  -3.9557   1.0258\n",
       "246     tried   203.734981   923.793795   Topic5  -4.7065   0.6492\n",
       "19        use   263.068455  2300.363911   Topic5  -4.4509  -0.0076\n",
       "25        fix   241.448808  1778.108379   Topic5  -4.5367   0.1642\n",
       "36       says   161.310426   924.078860   Topic5  -4.9400   0.4154\n",
       "\n",
       "[295 rows x 6 columns], token_table=      Topic      Freq    Term\n",
       "term                         \n",
       "809       1  0.006429  accept\n",
       "809       2  0.006429  accept\n",
       "809       3  0.006429  accept\n",
       "809       4  0.006429  accept\n",
       "809       5  0.983564  accept\n",
       "...     ...       ...     ...\n",
       "98        1  0.011360   worst\n",
       "98        2  0.094668   worst\n",
       "98        3  0.889882   worst\n",
       "98        4  0.001893   worst\n",
       "98        5  0.001893   worst\n",
       "\n",
       "[1220 rows x 3 columns], R=30, lambda_step=0.01, plot_opts={'xlab': 'PC1', 'ylab': 'PC2'}, topic_order=[1, 3, 2, 4, 5])"
      ]
     },
     "execution_count": 21,
     "metadata": {},
     "output_type": "execute_result"
    }
   ],
   "source": [
    "gcash_bad_ps_visual = gensimvis.prepare(gcash_bad_ps_final, gcash_bad_corpus_ps, gcash_bad_dict_ps)\n",
    "print(gcash_bad_ps_final.print_topics())\n",
    "gcash_bad_ps_visual"
   ]
  },
  {
   "cell_type": "code",
   "execution_count": 583,
   "id": "turned-secondary",
   "metadata": {},
   "outputs": [
    {
     "name": "stdout",
     "output_type": "stream",
     "text": [
      "[(0, '0.014*\"use\" + 0.012*\"convenient\" + 0.010*\"easy\" + 0.009*\"pay\" + 0.007*\"great\" + 0.007*\"good\" + 0.007*\"money\" + 0.007*\"need\" + 0.007*\"really\" + 0.006*\"love\"'), (1, '0.003*\"applications\" + 0.003*\"one\" + 0.002*\"money\" + 0.002*\"wallet\" + 0.002*\"service\" + 0.002*\"cash\" + 0.002*\"pay\" + 0.002*\"never\" + 0.002*\"email\" + 0.002*\"tumawag\"'), (2, '0.003*\"email\" + 0.003*\"password\" + 0.003*\"face\" + 0.002*\"new\" + 0.002*\"started\" + 0.002*\"frustrating\" + 0.002*\"recovery\" + 0.002*\"since\" + 0.002*\"sales\" + 0.002*\"chat\"')]\n"
     ]
    },
    {
     "data": {
      "text/html": [
       "\n",
       "<link rel=\"stylesheet\" type=\"text/css\" href=\"https://cdn.jsdelivr.net/gh/bmabey/pyLDAvis@3.3.1/pyLDAvis/js/ldavis.v1.0.0.css\">\n",
       "\n",
       "\n",
       "<div id=\"ldavis_el579558017819527486649430\"></div>\n",
       "<script type=\"text/javascript\">\n",
       "\n",
       "var ldavis_el579558017819527486649430_data = {\"mdsDat\": {\"x\": [0.06708098710868923, -0.03510211735785093, -0.03197886975083831], \"y\": [-0.0005200275229515295, -0.01649368172761224, 0.017013709250563752], \"topics\": [1, 2, 3], \"cluster\": [1, 1, 1], \"Freq\": [82.5390423404549, 12.009477526654743, 5.451480132890353]}, \"tinfo\": {\"Term\": [\"email\", \"never\", \"new\", \"deals\", \"since\", \"applications\", \"wallet\", \"started\", \"due\", \"pandemic\", \"one\", \"id\", \"security\", \"years\", \"ever\", \"pera\", \"system\", \"different\", \"barcode\", \"wala\", \"service\", \"face\", \"cash\", \"password\", \"response\", \"soon\", \"phone\", \"log\", \"got\", \"helpful\", \"convenient\", \"love\", \"really\", \"load\", \"easy\", \"need\", \"fast\", \"use\", \"bills\", \"users\", \"sobrang\", \"useful\", \"time\", \"super\", \"user\", \"much\", \"services\", \"good\", \"cashback\", \"plus\", \"card\", \"get\", \"go\", \"pay\", \"great\", \"transaction\", \"life\", \"online\", \"us\", \"easily\", \"payment\", \"every\", \"ewallet\", \"money\", \"transactions\", \"best\", \"feature\", \"thanks\", \"one\", \"since\", \"bank\", \"apps\", \"tumawag\", \"fix\", \"meralco\", \"reference\", \"applications\", \"ngaun\", \"tatawag\", \"nangako\", \"envisioned\", \"edge\", \"gatherings\", \"trades\", \"validity\", \"generated\", \"mins\", \"nalaman\", \"march\", \"cares\", \"alam\", \"inyo\", \"begin\", \"details\", \"incredibly\", \"supervisor\", \"messenger\", \"ok\", \"jen\", \"mahigit\", \"paulit\", \"nakausap\", \"left\", \"response\", \"bpi\", \"billers\", \"wallet\", \"soon\", \"barcode\", \"security\", \"email\", \"log\", \"nya\", \"place\", \"one\", \"never\", \"pera\", \"system\", \"slow\", \"service\", \"cash\", \"sometimes\", \"wala\", \"internet\", \"money\", \"virtual\", \"helpful\", \"pay\", \"review\", \"use\", \"payment\", \"password\", \"face\", \"frustrating\", \"recovery\", \"sales\", \"chat\", \"required\", \"pin\", \"mask\", \"forgot\", \"starting\", \"comfortable\", \"maintains\", \"throughout\", \"bird\", \"cute\", \"complexity\", \"suggesting\", \"consequently\", \"strict\", \"however\", \"typeconvenient\", \"limited\", \"wear\", \"digits\", \"state\", \"delays\", \"automated\", \"measures\", \"wonder\", \"new\", \"address\", \"started\", \"design\", \"email\", \"due\", \"downloading\", \"id\", \"high\", \"improved\", \"several\", \"response\", \"received\", \"deals\", \"thought\", \"never\", \"soon\", \"since\", \"pandemic\", \"years\", \"ever\", \"different\"], \"Freq\": [5.0, 9.0, 3.0, 5.0, 19.0, 3.0, 5.0, 3.0, 3.0, 10.0, 22.0, 3.0, 5.0, 8.0, 9.0, 9.0, 9.0, 8.0, 4.0, 4.0, 16.0, 1.0, 16.0, 1.0, 2.0, 3.0, 8.0, 3.0, 5.0, 10.0, 62.68892340405207, 31.473362495193197, 33.38643826392909, 22.63750713784834, 50.50389409232359, 34.4537076674181, 19.182890596217458, 70.31946752352732, 28.360813025429113, 16.300911957123045, 16.234531943499736, 20.129456219724084, 20.856151184342576, 15.492676719960498, 16.00666020177241, 14.746490842055785, 13.968045329616729, 36.9248453084365, 13.937175019350988, 12.014179237845935, 12.66523321450706, 13.208472065554538, 11.963377467880596, 44.63558312462624, 37.24165873994397, 22.309469866181168, 11.277823126005762, 31.45277912179833, 11.25705688428836, 10.622008635675547, 27.72078814603876, 14.818489900498784, 20.576505145661883, 34.700283038679444, 18.62515646196754, 23.921480253367054, 15.211207935337661, 17.514926064705996, 20.450580118834143, 18.136699735542116, 16.39919418083211, 15.32362326797402, 1.3928474686864887, 1.3787720440193867, 1.3167882736892895, 1.0952562435783255, 2.167278831835026, 0.8260999109159857, 0.8260026382445492, 0.8257923703206804, 0.8239775352571482, 0.8236341437216599, 0.8232126576080377, 0.8216057579975674, 0.8214488777388387, 0.8212501857811976, 0.8210011297316848, 0.8206540235204667, 0.8180623029025579, 0.8174042869715352, 0.8190120504600823, 0.8193868871575626, 0.817876655503875, 0.8160561188450366, 0.800818950940388, 1.119701055963485, 1.1013825213470538, 0.7231866339655176, 0.542602381496247, 0.5425389296515133, 0.5425200539155374, 0.5425058863150796, 0.7125029242092528, 1.1177201835336112, 1.114991883791776, 1.0088335352339908, 1.6934472355845682, 1.0979841113811224, 1.370262326637042, 1.3683059019567387, 1.3964811990405133, 1.1124933756183433, 1.0917663489240714, 1.0870658155331294, 1.9069211837716866, 1.415088614485793, 1.3840608783805615, 1.3804291349461133, 1.0813220629767641, 1.5908062530038762, 1.559201619119024, 1.0086015839703968, 1.0989884560330943, 1.1027253334294769, 1.7044779219703399, 1.094746382737457, 1.2653598840271636, 1.462045052896072, 1.1945961752523302, 1.2159570292914772, 1.1138991644125578, 0.8823952458694883, 0.854358228753834, 0.584828573253178, 0.5838597093230151, 0.5796376397569466, 0.5743858851187035, 0.4361729966359798, 0.43581610868404663, 0.435863244088752, 0.4357033680113944, 0.42432977524106197, 0.42141334069967373, 0.28812108259784536, 0.2881142201221187, 0.28799765607013306, 0.2879643044381015, 0.28745926543876654, 0.28737662162394406, 0.2873331919561311, 0.2872409210682178, 0.28729386016668057, 0.28726711611842015, 0.28728007639400677, 0.2872124515974889, 0.28725272452646766, 0.28715327744965163, 0.2871615516346706, 0.2871117300608951, 0.2870980835377358, 0.2871071223986215, 0.8343154860758243, 0.43787104762978385, 0.6764961123005713, 0.43625691491058005, 0.8895321421969176, 0.5664932929642545, 0.4049830444583233, 0.5246612487145803, 0.3940518264804047, 0.43672179862337734, 0.43275536608166354, 0.4396906624793172, 0.4357092501334458, 0.5413005563594913, 0.39388308800582295, 0.5413182027256455, 0.3795193380977245, 0.5808668071949584, 0.45187563516542256, 0.42795390749353013, 0.4308569307966411, 0.4106110196229753], \"Total\": [5.0, 9.0, 3.0, 5.0, 19.0, 3.0, 5.0, 3.0, 3.0, 10.0, 22.0, 3.0, 5.0, 8.0, 9.0, 9.0, 9.0, 8.0, 4.0, 4.0, 16.0, 1.0, 16.0, 1.0, 2.0, 3.0, 8.0, 3.0, 5.0, 10.0, 63.39289186073602, 32.0438211090772, 34.02400814950339, 23.087295467179935, 51.50796932428118, 35.16132502675924, 19.59226510469841, 71.84263600371331, 29.078220314683733, 16.72087354558914, 16.66643479310932, 20.665720598419394, 21.448552382408458, 15.946998166210676, 16.498215631352476, 15.209937986342581, 14.424574030734384, 38.158536864066726, 14.415834467625055, 12.434374287591131, 13.109015644103929, 13.676322906347114, 12.39509200621831, 46.266341829549, 38.602580949461455, 23.133258071990742, 11.701496410948334, 32.63503768442123, 11.68298914873425, 11.029892217365822, 28.988429344273577, 15.403048886307628, 21.4624629465663, 36.58206680482064, 19.415944798265052, 25.173291066232117, 15.906337091537749, 18.590417240473474, 22.57080302795524, 19.720294533276178, 17.62497185548611, 16.11532852744476, 2.1933233212015244, 2.2144283062281014, 2.307768228488542, 1.9237800574209727, 3.8687908261574835, 1.620128554006842, 1.6202739971967817, 1.6205895079440344, 1.6232316297050813, 1.6237490560016412, 1.6243826461737807, 1.6267870682132628, 1.62708744711988, 1.6273851414482994, 1.6277592047247356, 1.6282887805004145, 1.6240799372115546, 1.6240901323658306, 1.6289439029720407, 1.6302092408320994, 1.632351301279788, 1.6307206982191211, 1.6576428115132935, 2.6015784085721516, 2.6210050018280233, 1.7737239267875906, 1.3337398081694347, 1.3338356939503047, 1.333863801179896, 1.3338847083557432, 1.7850432323956944, 2.924072949942662, 2.956518767460823, 2.7679437344892506, 5.309901303469273, 3.1760923392995233, 4.369632729297747, 5.542894834748582, 5.841748643625775, 3.496498117043735, 3.35964748910759, 3.362425737042751, 22.57080302795524, 9.957413065453489, 9.34460740812766, 9.353788184259358, 4.077160357957853, 16.870565710530194, 16.900966645272018, 3.4753706720068074, 4.9624360053041805, 5.418055993481576, 36.58206680482064, 5.4981393285611615, 10.939301335476543, 46.266341829549, 11.76579503014973, 71.84263600371331, 28.988429344273577, 1.8591080293929396, 1.9628773134721524, 1.5341329323790118, 1.5374851707563617, 1.5582817465240733, 1.57118699129152, 1.3722419415758338, 1.373350454030337, 1.3735121802114199, 1.3733123770592757, 1.4155072917869773, 1.430184289275207, 1.2056553219811612, 1.2056880555992069, 1.2060835339960745, 1.2059903138844108, 1.2094275958617193, 1.209597777722708, 1.2097982769262634, 1.209471237495362, 1.21000037281035, 1.2099613162326026, 1.210084632274239, 1.2101032451110008, 1.2102808074459706, 1.209896085650787, 1.2099966760126803, 1.2099681139501681, 1.2099933485347805, 1.210066617092991, 3.782852733265537, 2.0784416564979824, 3.6485049696353578, 2.0798659646893434, 5.841748643625775, 3.737874620115068, 2.2018099801954034, 3.7770885815807915, 2.2449898395216357, 2.794663801276629, 2.81339836310127, 2.924072949942662, 3.126144579860569, 5.981096233578574, 2.9408238323617897, 9.957413065453489, 3.1760923392995233, 19.720294533276178, 10.573475716705897, 8.523414666931771, 9.948681857738576, 8.603316286897712], \"Category\": [\"Default\", \"Default\", \"Default\", \"Default\", \"Default\", \"Default\", \"Default\", \"Default\", \"Default\", \"Default\", \"Default\", \"Default\", \"Default\", \"Default\", \"Default\", \"Default\", \"Default\", \"Default\", \"Default\", \"Default\", \"Default\", \"Default\", \"Default\", \"Default\", \"Default\", \"Default\", \"Default\", \"Default\", \"Default\", \"Default\", \"Topic1\", \"Topic1\", \"Topic1\", \"Topic1\", \"Topic1\", \"Topic1\", \"Topic1\", \"Topic1\", \"Topic1\", \"Topic1\", \"Topic1\", \"Topic1\", \"Topic1\", \"Topic1\", \"Topic1\", \"Topic1\", \"Topic1\", \"Topic1\", \"Topic1\", \"Topic1\", \"Topic1\", \"Topic1\", \"Topic1\", \"Topic1\", \"Topic1\", \"Topic1\", \"Topic1\", \"Topic1\", \"Topic1\", \"Topic1\", \"Topic1\", \"Topic1\", \"Topic1\", \"Topic1\", \"Topic1\", \"Topic1\", \"Topic1\", \"Topic1\", \"Topic1\", \"Topic1\", \"Topic1\", \"Topic1\", \"Topic2\", \"Topic2\", \"Topic2\", \"Topic2\", \"Topic2\", \"Topic2\", \"Topic2\", \"Topic2\", \"Topic2\", \"Topic2\", \"Topic2\", \"Topic2\", \"Topic2\", \"Topic2\", \"Topic2\", \"Topic2\", \"Topic2\", \"Topic2\", \"Topic2\", \"Topic2\", \"Topic2\", \"Topic2\", \"Topic2\", \"Topic2\", \"Topic2\", \"Topic2\", \"Topic2\", \"Topic2\", \"Topic2\", \"Topic2\", \"Topic2\", \"Topic2\", \"Topic2\", \"Topic2\", \"Topic2\", \"Topic2\", \"Topic2\", \"Topic2\", \"Topic2\", \"Topic2\", \"Topic2\", \"Topic2\", \"Topic2\", \"Topic2\", \"Topic2\", \"Topic2\", \"Topic2\", \"Topic2\", \"Topic2\", \"Topic2\", \"Topic2\", \"Topic2\", \"Topic2\", \"Topic2\", \"Topic2\", \"Topic2\", \"Topic2\", \"Topic2\", \"Topic2\", \"Topic3\", \"Topic3\", \"Topic3\", \"Topic3\", \"Topic3\", \"Topic3\", \"Topic3\", \"Topic3\", \"Topic3\", \"Topic3\", \"Topic3\", \"Topic3\", \"Topic3\", \"Topic3\", \"Topic3\", \"Topic3\", \"Topic3\", \"Topic3\", \"Topic3\", \"Topic3\", \"Topic3\", \"Topic3\", \"Topic3\", \"Topic3\", \"Topic3\", \"Topic3\", \"Topic3\", \"Topic3\", \"Topic3\", \"Topic3\", \"Topic3\", \"Topic3\", \"Topic3\", \"Topic3\", \"Topic3\", \"Topic3\", \"Topic3\", \"Topic3\", \"Topic3\", \"Topic3\", \"Topic3\", \"Topic3\", \"Topic3\", \"Topic3\", \"Topic3\", \"Topic3\", \"Topic3\", \"Topic3\", \"Topic3\", \"Topic3\", \"Topic3\", \"Topic3\"], \"logprob\": [30.0, 29.0, 28.0, 27.0, 26.0, 25.0, 24.0, 23.0, 22.0, 21.0, 20.0, 19.0, 18.0, 17.0, 16.0, 15.0, 14.0, 13.0, 12.0, 11.0, 10.0, 9.0, 8.0, 7.0, 6.0, 5.0, 4.0, 3.0, 2.0, 1.0, -4.3988, -5.0879, -5.0289, -5.4174, -4.615, -4.9974, -5.583, -4.284, -5.192, -5.7458, -5.7499, -5.5348, -5.4994, -5.7966, -5.764, -5.846, -5.9002, -4.9281, -5.9025, -6.0509, -5.9982, -5.9562, -6.0552, -4.7385, -4.9196, -5.432, -6.1142, -5.0885, -6.116, -6.1741, -5.2148, -5.8411, -5.5129, -4.9903, -5.6125, -5.3622, -5.815, -5.674, -5.519, -5.6391, -5.7398, -5.8076, -6.2781, -6.2882, -6.3342, -6.5184, -5.836, -6.8005, -6.8006, -6.8008, -6.803, -6.8035, -6.804, -6.8059, -6.8061, -6.8064, -6.8067, -6.8071, -6.8103, -6.8111, -6.8091, -6.8086, -6.8105, -6.8127, -6.8316, -6.4964, -6.5129, -6.9335, -7.2208, -7.2209, -7.221, -7.221, -6.9484, -6.4981, -6.5006, -6.6006, -6.0827, -6.516, -6.2944, -6.2959, -6.2755, -6.5028, -6.5216, -6.526, -5.9639, -6.2622, -6.2844, -6.287, -6.5313, -6.1452, -6.1653, -6.6009, -6.515, -6.5117, -6.0762, -6.5189, -6.3741, -6.2296, -6.4316, -6.4139, -6.5016, -5.9447, -5.977, -6.3561, -6.3577, -6.365, -6.3741, -6.6493, -6.6502, -6.6501, -6.6504, -6.6769, -6.6838, -7.064, -7.064, -7.0644, -7.0645, -7.0663, -7.0666, -7.0667, -7.0671, -7.0669, -7.067, -7.0669, -7.0672, -7.067, -7.0674, -7.0673, -7.0675, -7.0676, -7.0675, -6.0008, -6.6455, -6.2105, -6.6492, -5.9367, -6.3879, -6.7235, -6.4646, -6.7509, -6.6481, -6.6572, -6.6413, -6.6504, -6.4334, -6.7513, -6.4334, -6.7885, -6.3629, -6.614, -6.6684, -6.6616, -6.7097], \"loglift\": [30.0, 29.0, 28.0, 27.0, 26.0, 25.0, 24.0, 23.0, 22.0, 21.0, 20.0, 19.0, 18.0, 17.0, 16.0, 15.0, 14.0, 13.0, 12.0, 11.0, 10.0, 9.0, 8.0, 7.0, 6.0, 5.0, 4.0, 3.0, 2.0, 1.0, 0.1807, 0.1739, 0.173, 0.1722, 0.1722, 0.1716, 0.1708, 0.1705, 0.1669, 0.1665, 0.1656, 0.1656, 0.1639, 0.163, 0.1617, 0.161, 0.1597, 0.159, 0.1581, 0.1575, 0.1575, 0.1571, 0.1564, 0.156, 0.156, 0.1556, 0.155, 0.155, 0.1548, 0.1542, 0.1472, 0.1532, 0.1497, 0.1391, 0.1503, 0.1409, 0.1472, 0.1323, 0.0933, 0.1082, 0.1198, 0.1415, 1.6654, 1.6457, 1.5584, 1.5562, 1.54, 1.4459, 1.4457, 1.4453, 1.4414, 1.4407, 1.4398, 1.4364, 1.436, 1.4356, 1.435, 1.4343, 1.4337, 1.4329, 1.4319, 1.4316, 1.4284, 1.4272, 1.392, 1.2764, 1.2525, 1.2223, 1.2201, 1.2199, 1.2199, 1.2198, 1.2011, 1.1578, 1.1443, 1.1102, 0.9767, 1.0573, 0.9598, 0.7205, 0.6884, 0.9743, 0.9954, 0.9903, -0.3517, 0.1683, 0.2097, 0.2061, 0.7923, -0.2419, -0.2637, 0.8823, 0.612, 0.5275, -0.9468, 0.5056, -0.0375, -1.3351, -0.1679, -1.9595, -1.1396, 2.1641, 2.0775, 1.9449, 1.941, 1.9203, 1.903, 1.7631, 1.7615, 1.7615, 1.7613, 1.7046, 1.6873, 1.4779, 1.4778, 1.4771, 1.4771, 1.4725, 1.472, 1.4717, 1.4717, 1.4714, 1.4714, 1.4713, 1.471, 1.471, 1.471, 1.471, 1.4708, 1.4707, 1.4707, 1.3977, 1.3518, 1.2241, 1.3475, 1.0272, 1.0225, 1.2161, 0.9353, 1.1693, 1.0531, 1.0373, 1.0146, 0.9387, 0.5069, 0.8989, -0.0028, 0.7848, -0.6156, -0.2434, -0.0823, -0.2301, -0.133]}, \"token.table\": {\"Topic\": [1, 1, 2, 1, 2, 1, 2, 1, 1, 2, 1, 2, 1, 2, 1, 2, 1, 2, 1, 2, 1, 1, 2, 1, 1, 2, 1, 2, 1, 1, 3, 1, 1, 1, 1, 2, 1, 1, 3, 1, 1, 1, 2, 1, 1, 1, 1, 3, 1, 1, 2, 1, 2, 1, 2, 3, 1, 2, 1, 1, 1, 2, 1, 3, 1, 1, 1, 2, 1, 1, 3, 1, 2, 1, 2, 1, 1, 1, 2, 1, 2, 1, 2, 1, 2, 1, 1, 1, 2, 3, 1, 1, 2, 1, 2, 1, 2, 1, 2, 1, 2, 1, 1, 1, 1, 2, 1, 1, 2, 1, 1, 2, 1, 1, 1, 2, 1, 2, 1, 2, 1, 2, 1, 1, 2, 1, 2, 1, 2, 1, 1, 2, 3, 1, 2, 3, 1, 2, 1, 2, 1, 2, 1, 2, 1, 2, 1, 1, 3, 1, 2, 1, 2, 1, 2, 1, 2, 1, 1, 1, 2, 1, 1, 1, 2, 1, 3, 1, 2, 1, 1, 2, 1, 2, 1, 3, 1, 2, 1, 2, 1, 1, 1, 2, 3, 1, 2, 1, 1, 2, 1, 2, 1, 2, 3, 1, 1, 1, 1, 1, 1, 2, 1, 2, 1, 2, 1, 2, 1, 1, 1, 1, 2, 1, 2, 1, 2, 1, 2, 1, 1, 1, 2, 1, 1, 1, 1, 2, 1, 2, 1, 2, 1, 2, 1, 1, 1], \"Freq\": [0.4811296948719382, 0.6138946824230596, 0.6138946824230596, 0.5169573879460465, 0.5169573879460465, 0.9307908290206228, 0.062052721934708184, 0.8264680601667364, 0.9078028680664074, 0.056737679254150464, 0.686556556546604, 0.22885218551553466, 0.612613228056966, 0.612613228056966, 0.9533914312933842, 0.03972464297055767, 0.7225580401362625, 0.36127902006813123, 0.9629200032527692, 0.03439000011617033, 0.8291299663852759, 0.6764712681724934, 0.3382356340862467, 0.9916839183762084, 0.615729373679088, 0.615729373679088, 0.8875231999937823, 0.11833642666583763, 0.9711543255744971, 0.6364614813784815, 0.6364614813784815, 0.699210589501569, 0.8268374257555271, 0.8265840835388705, 0.9938022726333554, 0.0157746392481485, 0.8291940561106744, 0.8359671546378764, 0.16719343092757527, 0.8264485513260371, 0.48080021356057134, 0.613225797092096, 0.613225797092096, 0.9298739850101149, 0.8262545302278059, 0.9083435982166392, 0.8025951389208574, 0.2675317129736191, 0.9972898903473637, 0.9901380440552193, 0.019414471452063122, 0.6158587106202383, 0.6158587106202383, 0.6847264824316946, 0.17118162060792366, 0.17118162060792366, 0.6160550236331251, 0.6160550236331251, 0.9046424570305619, 0.9738331748939709, 0.9784524754816041, 0.046592975022933525, 0.5094561912436038, 0.5094561912436038, 0.9697704629080188, 0.9430203769527854, 0.4515838228708918, 0.4515838228708918, 0.7281664512056149, 0.65183399619046, 0.65183399619046, 0.6156184950359396, 0.6156184950359396, 0.6144826903790243, 0.6144826903790243, 0.9505478986582544, 0.9681251251688893, 0.9696388551743005, 0.02620645554525136, 0.7510170890928866, 0.18775427227322164, 0.958485134671188, 0.02590500363976184, 0.914135162139619, 0.0914135162139619, 0.890872628816067, 0.8264460263573287, 0.5295083651871775, 0.26475418259358874, 0.26475418259358874, 0.7156495887220428, 0.6032662724770489, 0.6032662724770489, 0.7382721782152808, 0.1845680445538202, 0.6134181888759108, 0.6134181888759108, 0.7497714275863937, 0.7497714275863937, 0.5602105214325296, 0.5602105214325296, 0.9400507092159607, 0.8263884800525028, 0.9962188959159798, 0.5720008800379353, 0.2860004400189676, 0.9674251985890188, 0.7497175285798413, 0.7497175285798413, 0.8294244480725855, 0.6157332389173765, 0.6157332389173765, 0.7280605257145033, 0.8264508240569519, 0.43331907756393, 0.43331907756393, 0.3815330376334836, 0.3815330376334836, 0.6143414806670415, 0.6143414806670415, 0.9567529409078613, 0.05467159662330636, 0.986197314773335, 0.7496899797529599, 0.7496899797529599, 0.6141416755894336, 0.6141416755894336, 0.6170594065295738, 0.6170594065295738, 0.9669715226637384, 0.8034215259940768, 0.1004276907492596, 0.1004276907492596, 0.5287015226399009, 0.26435076131995044, 0.26435076131995044, 0.6172349703527149, 0.6172349703527149, 0.5953005505739093, 0.29765027528695465, 0.5637855953215392, 0.5637855953215392, 0.886100506713423, 0.0886100506713423, 0.949899316794669, 0.030641913444989323, 0.9457628000412565, 0.5378923570818707, 0.5378923570818707, 0.7497017305030917, 0.7497017305030917, 0.9726293071923784, 0.021613984604275077, 0.9659026250599937, 0.034496522323571206, 0.8561087320845432, 0.1070135915105679, 0.917296593453872, 0.7281462623508262, 0.5948086757624563, 0.29740433788122816, 0.9650666549401995, 0.9699033651472266, 0.6397656758694134, 0.3198828379347067, 0.6504127773200262, 0.6504127773200262, 0.5198099419642618, 0.5198099419642618, 0.7287344670806634, 0.3419887318541793, 0.3419887318541793, 0.849921316356022, 0.0849921316356022, 0.6417324737523333, 0.6417324737523333, 0.7216445772926945, 0.18041114432317362, 0.8891225260239712, 0.1185496701365295, 0.9705659224438971, 0.7108840419581949, 0.9127652718181597, 0.05070918176767554, 0.05070918176767554, 0.7358062319389921, 0.24526874397966403, 0.9600133561027188, 0.5754781831214355, 0.28773909156071775, 0.6297046138277873, 0.31485230691389365, 0.5481697343555725, 0.27408486717778624, 0.27408486717778624, 0.7064605076937266, 0.8265172619862748, 0.8268075907872383, 0.826721095571691, 0.94061589796773, 0.38438203388566683, 0.38438203388566683, 0.8552684583410254, 0.10690855729262817, 0.6171795645243268, 0.6171795645243268, 0.9682407751888393, 0.05379115417715774, 0.6800815397343235, 0.8294019297578731, 0.9790870556478045, 0.6147085992626697, 0.6147085992626697, 0.9510117395282567, 0.04322780634219348, 0.9785771538502613, 0.05150406072896112, 0.45592913289783016, 0.45592913289783016, 0.826472703370097, 0.9415398627834687, 0.9743517762402528, 0.013919311089146468, 0.9677862383143653, 0.9698018475158192, 0.9568878059137466, 0.61459511704187, 0.61459511704187, 0.7275188497354399, 0.18187971243385997, 0.8060557346683231, 0.20151393366708079, 0.5649822526908217, 0.3766548351272144, 0.8263757692082477, 0.8264007831257708, 0.9385909653131791], \"Term\": [\"address\", \"alam\", \"alam\", \"applications\", \"applications\", \"apps\", \"apps\", \"automated\", \"bank\", \"bank\", \"barcode\", \"barcode\", \"begin\", \"begin\", \"best\", \"best\", \"billers\", \"billers\", \"bills\", \"bills\", \"bird\", \"bpi\", \"bpi\", \"card\", \"cares\", \"cares\", \"cash\", \"cash\", \"cashback\", \"chat\", \"chat\", \"comfortable\", \"complexity\", \"consequently\", \"convenient\", \"convenient\", \"cute\", \"deals\", \"deals\", \"delays\", \"design\", \"details\", \"details\", \"different\", \"digits\", \"downloading\", \"due\", \"due\", \"easily\", \"easy\", \"easy\", \"edge\", \"edge\", \"email\", \"email\", \"email\", \"envisioned\", \"envisioned\", \"ever\", \"every\", \"ewallet\", \"ewallet\", \"face\", \"face\", \"fast\", \"feature\", \"fix\", \"fix\", \"forgot\", \"frustrating\", \"frustrating\", \"gatherings\", \"gatherings\", \"generated\", \"generated\", \"get\", \"go\", \"good\", \"good\", \"got\", \"got\", \"great\", \"great\", \"helpful\", \"helpful\", \"high\", \"however\", \"id\", \"id\", \"id\", \"improved\", \"incredibly\", \"incredibly\", \"internet\", \"internet\", \"inyo\", \"inyo\", \"jen\", \"jen\", \"left\", \"left\", \"life\", \"limited\", \"load\", \"log\", \"log\", \"love\", \"mahigit\", \"mahigit\", \"maintains\", \"march\", \"march\", \"mask\", \"measures\", \"meralco\", \"meralco\", \"messenger\", \"messenger\", \"mins\", \"mins\", \"money\", \"money\", \"much\", \"nakausap\", \"nakausap\", \"nalaman\", \"nalaman\", \"nangako\", \"nangako\", \"need\", \"never\", \"never\", \"never\", \"new\", \"new\", \"new\", \"ngaun\", \"ngaun\", \"nya\", \"nya\", \"ok\", \"ok\", \"one\", \"one\", \"online\", \"online\", \"pandemic\", \"password\", \"password\", \"paulit\", \"paulit\", \"pay\", \"pay\", \"payment\", \"payment\", \"pera\", \"pera\", \"phone\", \"pin\", \"place\", \"place\", \"plus\", \"really\", \"received\", \"received\", \"recovery\", \"recovery\", \"reference\", \"reference\", \"required\", \"response\", \"response\", \"review\", \"review\", \"sales\", \"sales\", \"security\", \"security\", \"service\", \"service\", \"services\", \"several\", \"since\", \"since\", \"since\", \"slow\", \"slow\", \"sobrang\", \"sometimes\", \"sometimes\", \"soon\", \"soon\", \"started\", \"started\", \"started\", \"starting\", \"state\", \"strict\", \"suggesting\", \"super\", \"supervisor\", \"supervisor\", \"system\", \"system\", \"tatawag\", \"tatawag\", \"thanks\", \"thanks\", \"thought\", \"throughout\", \"time\", \"trades\", \"trades\", \"transaction\", \"transaction\", \"transactions\", \"transactions\", \"tumawag\", \"tumawag\", \"typeconvenient\", \"us\", \"use\", \"use\", \"useful\", \"user\", \"users\", \"validity\", \"validity\", \"virtual\", \"virtual\", \"wala\", \"wala\", \"wallet\", \"wallet\", \"wear\", \"wonder\", \"years\"]}, \"R\": 30, \"lambda.step\": 0.01, \"plot.opts\": {\"xlab\": \"PC1\", \"ylab\": \"PC2\"}, \"topic.order\": [1, 2, 3]};\n",
       "\n",
       "function LDAvis_load_lib(url, callback){\n",
       "  var s = document.createElement('script');\n",
       "  s.src = url;\n",
       "  s.async = true;\n",
       "  s.onreadystatechange = s.onload = callback;\n",
       "  s.onerror = function(){console.warn(\"failed to load library \" + url);};\n",
       "  document.getElementsByTagName(\"head\")[0].appendChild(s);\n",
       "}\n",
       "\n",
       "if(typeof(LDAvis) !== \"undefined\"){\n",
       "   // already loaded: just create the visualization\n",
       "   !function(LDAvis){\n",
       "       new LDAvis(\"#\" + \"ldavis_el579558017819527486649430\", ldavis_el579558017819527486649430_data);\n",
       "   }(LDAvis);\n",
       "}else if(typeof define === \"function\" && define.amd){\n",
       "   // require.js is available: use it to load d3/LDAvis\n",
       "   require.config({paths: {d3: \"https://d3js.org/d3.v5\"}});\n",
       "   require([\"d3\"], function(d3){\n",
       "      window.d3 = d3;\n",
       "      LDAvis_load_lib(\"https://cdn.jsdelivr.net/gh/bmabey/pyLDAvis@3.3.1/pyLDAvis/js/ldavis.v3.0.0.js\", function(){\n",
       "        new LDAvis(\"#\" + \"ldavis_el579558017819527486649430\", ldavis_el579558017819527486649430_data);\n",
       "      });\n",
       "    });\n",
       "}else{\n",
       "    // require.js not available: dynamically load d3 & LDAvis\n",
       "    LDAvis_load_lib(\"https://d3js.org/d3.v5.js\", function(){\n",
       "         LDAvis_load_lib(\"https://cdn.jsdelivr.net/gh/bmabey/pyLDAvis@3.3.1/pyLDAvis/js/ldavis.v3.0.0.js\", function(){\n",
       "                 new LDAvis(\"#\" + \"ldavis_el579558017819527486649430\", ldavis_el579558017819527486649430_data);\n",
       "            })\n",
       "         });\n",
       "}\n",
       "</script>"
      ],
      "text/plain": [
       "PreparedData(topic_coordinates=              x         y  topics  cluster       Freq\n",
       "topic                                                \n",
       "0      0.067081 -0.000520       1        1  82.539042\n",
       "1     -0.035102 -0.016494       2        1  12.009478\n",
       "2     -0.031979  0.017014       3        1   5.451480, topic_info=          Term       Freq      Total Category  logprob  loglift\n",
       "2        email   5.000000   5.000000  Default  30.0000  30.0000\n",
       "68       never   9.000000   9.000000  Default  29.0000  29.0000\n",
       "276        new   3.000000   3.000000  Default  28.0000  28.0000\n",
       "53       deals   5.000000   5.000000  Default  27.0000  27.0000\n",
       "38       since  19.000000  19.000000  Default  26.0000  26.0000\n",
       "..         ...        ...        ...      ...      ...      ...\n",
       "38       since   0.580867  19.720295   Topic3  -6.3629  -0.6156\n",
       "726   pandemic   0.451876  10.573476   Topic3  -6.6140  -0.2434\n",
       "587      years   0.427954   8.523415   Topic3  -6.6684  -0.0823\n",
       "56        ever   0.430857   9.948682   Topic3  -6.6616  -0.2301\n",
       "722  different   0.410611   8.603316   Topic3  -6.7097  -0.1330\n",
       "\n",
       "[183 rows x 6 columns], token_table=      Topic      Freq          Term\n",
       "term                               \n",
       "356       1  0.481130       address\n",
       "474       1  0.613895          alam\n",
       "474       2  0.613895          alam\n",
       "689       1  0.516957  applications\n",
       "689       2  0.516957  applications\n",
       "...     ...       ...           ...\n",
       "701       1  0.564982        wallet\n",
       "701       2  0.376655        wallet\n",
       "997       1  0.826376          wear\n",
       "553       1  0.826401        wonder\n",
       "587       1  0.938591         years\n",
       "\n",
       "[237 rows x 3 columns], R=30, lambda_step=0.01, plot_opts={'xlab': 'PC1', 'ylab': 'PC2'}, topic_order=[1, 2, 3])"
      ]
     },
     "execution_count": 583,
     "metadata": {},
     "output_type": "execute_result"
    }
   ],
   "source": [
    "paymaya_good_as_visual = gensimvis.prepare(paymaya_good_as_final, paymaya_good_corpus_as, paymaya_good_dict_as)\n",
    "print(paymaya_good_as_final.print_topics())\n",
    "paymaya_good_as_visual"
   ]
  },
  {
   "cell_type": "code",
   "execution_count": 584,
   "id": "least-companion",
   "metadata": {},
   "outputs": [
    {
     "name": "stdout",
     "output_type": "stream",
     "text": [
      "[(0, '0.015*\"money\" + 0.012*\"upgrade\" + 0.009*\"use\" + 0.008*\"tried\" + 0.007*\"customer_service\" + 0.007*\"error\" + 0.006*\"since\" + 0.006*\"service\" + 0.005*\"email\" + 0.005*\"card\"'), (1, '0.008*\"money\" + 0.004*\"get\" + 0.004*\"customer_service\" + 0.004*\"service\" + 0.004*\"card\" + 0.003*\"use\" + 0.003*\"balance\" + 0.003*\"fee\" + 0.003*\"online\" + 0.003*\"virtual_card\"'), (2, '0.003*\"replika\" + 0.002*\"get\" + 0.002*\"credentials\" + 0.002*\"worse\" + 0.002*\"greedy\" + 0.002*\"us\" + 0.002*\"users\" + 0.001*\"feature\" + 0.001*\"sorry\" + 0.001*\"old\"'), (3, '0.003*\"service\" + 0.002*\"number\" + 0.002*\"load\" + 0.002*\"tsk\" + 0.002*\"poor\" + 0.002*\"error\" + 0.002*\"grabe\" + 0.002*\"reply\" + 0.002*\"ayos\" + 0.002*\"wala\"'), (4, '0.002*\"name\" + 0.002*\"passport\" + 0.001*\"valid\" + 0.001*\"buffer\" + 0.001*\"match\" + 0.001*\"gateway\" + 0.001*\"needs\" + 0.001*\"screen\" + 0.001*\"attempt\" + 0.001*\"hope\"')]\n"
     ]
    },
    {
     "data": {
      "text/html": [
       "\n",
       "<link rel=\"stylesheet\" type=\"text/css\" href=\"https://cdn.jsdelivr.net/gh/bmabey/pyLDAvis@3.3.1/pyLDAvis/js/ldavis.v1.0.0.css\">\n",
       "\n",
       "\n",
       "<div id=\"ldavis_el579558333925282437289184\"></div>\n",
       "<script type=\"text/javascript\">\n",
       "\n",
       "var ldavis_el579558333925282437289184_data = {\"mdsDat\": {\"x\": [-0.09940055848890104, -0.004368875524991243, 0.0324312008889545, 0.03342198594364705, 0.037916247181290726], \"y\": [-0.007465142676856772, 0.0261901117156557, -0.008439421313265767, -0.008026218957546974, -0.0022593287679861366], \"topics\": [1, 2, 3, 4, 5], \"cluster\": [1, 1, 1, 1, 1], \"Freq\": [77.18066726798017, 12.94898887158241, 3.659001546225624, 3.444716528524769, 2.7666257856870202]}, \"tinfo\": {\"Term\": [\"money\", \"get\", \"service\", \"number\", \"load\", \"poor\", \"name\", \"hope\", \"reply\", \"wala\", \"balance\", \"online\", \"us\", \"last\", \"transactions\", \"error\", \"support\", \"card\", \"customer_service\", \"fee\", \"well\", \"received\", \"virtual_card\", \"users\", \"video\", \"best\", \"say\", \"id\", \"pera\", \"bills_payment\", \"problem\", \"log\", \"fix\", \"tried\", \"internet_connection\", \"know\", \"error\", \"slow\", \"open\", \"pay\", \"always\", \"issue\", \"since\", \"useless\", \"bills\", \"register\", \"nothing\", \"upgrade\", \"call\", \"add_money\", \"cash\", \"process\", \"email\", \"trying\", \"address\", \"working\", \"mobile\", \"asking\", \"login\", \"internet\", \"use\", \"update\", \"transfer\", \"worst\", \"bank\", \"one\", \"money\", \"time\", \"number\", \"customer_service\", \"really\", \"already\", \"load\", \"card\", \"service\", \"need\", \"days\", \"back\", \"transaction\", \"february\", \"disregard\", \"pending\", \"fee\", \"razer\", \"pin\", \"probably\", \"unauthorized\", \"planning\", \"april\", \"hirap\", \"settled\", \"deactivated\", \"broken\", \"thief\", \"exit\", \"pahirapan\", \"pano\", \"implement\", \"maaccess\", \"losing\", \"nman\", \"seen\", \"ignored\", \"mar\", \"dumating\", \"parents\", \"sms\", \"ha\", \"stole\", \"away\", \"remember\", \"hacked\", \"credited\", \"transferred\", \"get\", \"free\", \"charged\", \"charges\", \"purchase\", \"approval\", \"last\", \"fees\", \"pala\", \"refund\", \"balance\", \"pera\", \"money\", \"transactions\", \"received\", \"bpi\", \"online\", \"support\", \"card\", \"customer_service\", \"service\", \"virtual_card\", \"got\", \"php\", \"id\", \"use\", \"back\", \"upgrade\", \"payment\", \"already\", \"load\", \"could\", \"transaction\", \"replika\", \"credentials\", \"greedy\", \"fun\", \"emotions\", \"reading\", \"behavior\", \"comeon\", \"implemented\", \"filipinos\", \"diko\", \"nakapag\", \"nareceive\", \"common\", \"cheaper\", \"sorry\", \"tracker\", \"per\", \"replikas\", \"philosophical\", \"revert\", \"distract\", \"affected\", \"companion\", \"advancements\", \"hundreds\", \"companions\", \"ripped\", \"hardships\", \"exploding\", \"mean\", \"worse\", \"trustworthy\", \"past\", \"unauthorized\", \"feature\", \"users\", \"peso\", \"us\", \"get\", \"old\", \"move\", \"love\", \"hope\", \"look\", \"update\", \"best\", \"transaction\", \"new\", \"ayos\", \"paki\", \"blah\", \"ilang\", \"beses\", \"ninyo\", \"brand\", \"reader\", \"barcode\", \"informations\", \"ichachange\", \"globetm\", \"tsk\", \"grabe\", \"ganyan\", \"inyo\", \"eee\", \"binibigay\", \"grrrrrr\", \"ughhhh\", \"pinagiintay\", \"smartglobetm\", \"maddetect\", \"maghahanap\", \"illist\", \"kapa\", \"pron\", \"amazing\", \"minute\", \"promised\", \"makabwesit\", \"pang\", \"tampered\", \"per\", \"july\", \"face\", \"video\", \"ticket\", \"hirap\", \"bills_payment\", \"wala\", \"best\", \"reply\", \"number\", \"service\", \"load\", \"poor\", \"error\", \"customers\", \"upgrade\", \"already\", \"personal\", \"well\", \"buy\", \"message\", \"buffer\", \"gateway\", \"joseph\", \"mata\", \"minimum\", \"continue\", \"yadda\", \"wonder\", \"avle\", \"nunber\", \"digists\", \"postapaid\", \"digits\", \"oy\", \"vendors\", \"garbage\", \"false\", \"gwapo\", \"tool\", \"tisoy\", \"unrecognized\", \"facial\", \"attempt\", \"match\", \"cases\", \"pros\", \"surpass\", \"javascript\", \"grabapp\", \"market\", \"passport\", \"screen\", \"nyan\", \"idiot\", \"absolute\", \"name\", \"valid\", \"phones\", \"nalang\", \"subscriptions\", \"csr\", \"needs\", \"tell\", \"menu\", \"reasons\", \"main\", \"mas\", \"hope\", \"least\", \"paying\", \"think\"], \"Freq\": [146.0, 25.0, 59.0, 40.0, 45.0, 26.0, 7.0, 13.0, 18.0, 14.0, 25.0, 32.0, 10.0, 16.0, 17.0, 61.0, 31.0, 54.0, 68.0, 7.0, 13.0, 20.0, 35.0, 8.0, 7.0, 7.0, 10.0, 34.0, 11.0, 7.0, 33.51313784758232, 33.99883087534448, 44.44262895746826, 73.45651875792873, 28.221473496090006, 31.179735704911476, 59.5232644748421, 25.078692119431054, 22.20986269396093, 46.20710107454901, 36.27581394839837, 28.7127350764554, 54.59516558601951, 22.009184305128958, 16.88521014329368, 18.94934013022423, 19.341968802337856, 105.58702050189025, 15.34388411086711, 41.81426787631575, 26.600240115845683, 19.487850422292194, 49.46905670604232, 19.952234540474514, 14.541075939047879, 25.056870792448624, 14.388357480263569, 15.10103015523952, 15.002199509151902, 19.917613409493818, 84.16008056996553, 40.47744954285419, 35.50873360157663, 34.83654402761845, 43.346787133300325, 31.836133892774118, 132.65515298784467, 46.14489657857337, 37.613589077839876, 62.07880700328155, 29.250207776438454, 43.45517298190758, 41.88798794346325, 49.03780962196515, 52.51289687352265, 35.771935418377545, 31.976306630048164, 37.11912116783505, 31.294508698238133, 2.4482311937511416, 2.0823483705659798, 1.7293772268969851, 4.638545569424012, 1.4353568451112364, 1.4343664859385121, 1.4186706530668038, 1.8082925773621261, 1.3870252663106546, 1.3875245928309683, 2.034017059309524, 1.3771577038590326, 3.439805195169884, 1.0857179635303864, 1.0856598172736898, 1.080576746425624, 1.0805044203302543, 1.0769632954611532, 1.0733056997159083, 1.0754764635721248, 1.070965580427994, 1.0694499429547433, 1.0706043066766473, 1.0621351081897545, 1.063780772108195, 1.0631220784702173, 1.0634298433963834, 2.773698266188868, 1.0514105127214841, 1.7858309994531611, 2.4988569634313573, 1.686364336138016, 2.0973900580498506, 1.9669519516317104, 2.5014862087379997, 6.383983113473563, 2.7603331885606672, 2.29249108262068, 1.9994507149681209, 3.249258128347456, 1.4240218923104018, 4.0100091485928075, 1.7429527725708975, 1.4288484775231003, 2.928855666213108, 4.73152892511748, 2.8689099077256226, 12.76842283558867, 3.671876180509246, 3.7631508210519358, 2.6631904135231315, 4.522000137650356, 4.315115042872673, 5.440090647810828, 5.961975418644337, 5.449000937379963, 4.383510023218983, 3.895174215597437, 2.992582715013383, 3.7976354752535624, 4.793265980709274, 3.6706486880595945, 4.176335624059822, 2.9173958594868514, 3.151580978509113, 2.931258925914736, 2.788357543935445, 2.8135593087819273, 1.2976270951089566, 0.8502113081405526, 0.6927078511488126, 0.42650576723116007, 0.4262949438563589, 0.425905351533334, 0.42452055998515387, 0.4168273716064567, 0.41326610465368313, 0.40841033782759345, 0.40604917146986613, 0.4053718705082917, 0.40421120794594495, 0.4206303571596478, 0.41916742034667465, 0.5421146430866068, 0.37243619920015064, 0.4970175928950324, 0.28108352785638907, 0.2810296250116963, 0.28099482378284135, 0.2810219642053445, 0.2809511269466108, 0.28094011453747997, 0.28095427694922254, 0.28085667726829916, 0.2809331341316923, 0.2808656736757584, 0.28088868129483485, 0.28089122649694515, 0.35869772740909317, 0.6984063822736682, 0.39948819482992615, 0.39901456043721895, 0.4205630731038602, 0.5555182822000426, 0.6786156970645045, 0.36850116553747375, 0.6893550387688762, 1.0331118501899224, 0.5287214367818214, 0.36182346240075164, 0.42630280626287786, 0.5234839652392467, 0.42133540334422676, 0.5256645734472668, 0.4283033351215878, 0.4588558404537608, 0.43741289067464556, 0.6719870720349377, 0.5536622798545914, 0.5248289638694764, 0.5202093853033783, 0.5197948758708246, 0.514078811673215, 0.41113556491281816, 0.40884603610684106, 0.40848590256825557, 0.40691801684374707, 0.4065386192449948, 0.40774864895527246, 0.7321925742795593, 0.6838408745747432, 0.406365290151918, 0.4872846391603333, 0.2709534189489271, 0.27087985016742816, 0.270848391862279, 0.2708261385513967, 0.2708095316029771, 0.27036475007587557, 0.27029405192403205, 0.27027848884094163, 0.2701066306490106, 0.27000670426794854, 0.2690197058749464, 0.2689169088642289, 0.2688925203742641, 0.2688225339487814, 0.32937175257726514, 0.4060954509643112, 0.3786056133821316, 0.37091301390783066, 0.38672237804328163, 0.5164217199562552, 0.5940740077262904, 0.3924317994615234, 0.40983433933150476, 0.5344117424886866, 0.6706737945539141, 0.4938189039823656, 0.6794834011031308, 0.8999418275842053, 1.0313833570074573, 0.877307885444135, 0.7285482506215095, 0.6949597484743443, 0.44545633858844064, 0.5584114400667866, 0.4434779290989991, 0.4164018180503763, 0.41861495489362316, 0.4155379245935876, 0.4145695971554515, 0.43792551051286455, 0.4320569962531397, 0.335498603696156, 0.33511580657325063, 0.3339744652262107, 0.33337391770407376, 0.31364062122068215, 0.3264048760065804, 0.2235445262355736, 0.2235112768090196, 0.22350237853841748, 0.2234709201984515, 0.22345436217456874, 0.2234201600423828, 0.22340291607044505, 0.22007713503408888, 0.2197298166689162, 0.21967678907344354, 0.21967248284398727, 0.21943383008319134, 0.21933699708276302, 0.21908430144095262, 0.39550774036419606, 0.434595270814151, 0.21369177796904754, 0.21365769016153743, 0.2136258126310934, 0.21351223106565592, 0.213516442024549, 0.21343534772116, 0.6339299845054062, 0.4150419023164038, 0.21450517898346802, 0.32347462024037205, 0.3158470303018705, 0.7401887114819214, 0.47254786209891253, 0.2962793331114192, 0.2925113823371764, 0.29220280098299756, 0.293391015447128, 0.42440673192059847, 0.3812782052622925, 0.3071030599038853, 0.31609930675320286, 0.300368764874097, 0.3142357954830551, 0.39305448525377734, 0.2973256325446188, 0.2909048157759574, 0.2879860686937826], \"Total\": [146.0, 25.0, 59.0, 40.0, 45.0, 26.0, 7.0, 13.0, 18.0, 14.0, 25.0, 32.0, 10.0, 16.0, 17.0, 61.0, 31.0, 54.0, 68.0, 7.0, 13.0, 20.0, 35.0, 8.0, 7.0, 7.0, 10.0, 34.0, 11.0, 7.0, 34.48145575609713, 34.98656157277496, 45.814573564751925, 75.74234711065992, 29.178181835662038, 32.28054924981651, 61.74932704391351, 26.01691660850185, 23.06658089146839, 48.02041710013834, 37.81934889876864, 29.95683558580245, 56.99226299803583, 23.023889069460505, 17.66820316408947, 19.835022798870614, 20.271756043873047, 110.77637519640854, 16.109988598477656, 43.96939897384165, 27.975189852654044, 20.522580950219417, 52.10871278406532, 21.01950980593078, 15.319640502806934, 26.42007985733534, 15.18872929447862, 15.943598021781488, 15.846771200159331, 21.046423188950463, 89.52838071138355, 42.814451642485324, 37.71366659010485, 37.03186044991151, 46.36756419390601, 33.84393059934918, 146.09020095793875, 49.574919248247795, 40.26532798589674, 68.6109658726543, 31.307499950936197, 47.52600675553308, 45.96144742967504, 54.92523679781659, 59.336993457414046, 38.94134659276342, 34.64838024004921, 41.519888786453734, 34.81819736115429, 3.691400367269453, 3.3121899783042204, 2.9404158957103386, 7.9164955923342495, 2.5730929709691552, 2.5741687511300357, 2.5641324731955186, 3.2936971941154627, 2.5655372854644827, 2.5687692222910865, 3.780135723868078, 2.5661187308148334, 6.495423279330016, 2.1727868453577397, 2.172935910702322, 2.178427092553579, 2.1787934476667647, 2.1782830559706263, 2.1796701985027487, 2.18429476781832, 2.1792493566678584, 2.1863275808293183, 2.1893434294532277, 2.1785748799309834, 2.1885628692022325, 2.189919523175458, 2.193487269173752, 5.761816601303915, 2.1871203838988675, 3.7223764437393427, 5.436696528004752, 3.7634869984425037, 4.973101140424715, 4.963587194281608, 6.844674774811781, 25.48912614858931, 8.079230474743486, 6.320255260928475, 5.3101021324989945, 11.47353882245227, 3.322338190532639, 16.715264254835475, 4.569472155227558, 3.3618333416906845, 11.092524155373804, 25.089973433212585, 11.027446252824676, 146.09020095793875, 17.968824972237584, 20.1580394510951, 10.064820360479434, 32.41667809840028, 31.085661880885485, 54.92523679781659, 68.6109658726543, 59.336993457414046, 35.62504557220023, 31.773478745903383, 16.112700507960845, 34.94907577028976, 89.52838071138355, 41.519888786453734, 110.77637519640854, 22.709569707317367, 47.52600675553308, 45.96144742967504, 27.29248698455998, 34.81819736115429, 2.660207363195213, 2.273238179292542, 2.18004358440167, 1.733076210901612, 1.7329521480622943, 1.7352130181613852, 1.7436124727295503, 1.782980643370986, 1.7959907607126238, 1.8206669411394194, 1.8227175837915806, 1.8242456962733093, 1.8292827558245492, 1.95043432660416, 2.1552301543981955, 2.792532498848383, 1.9767039789948815, 2.7023619006701067, 1.5778506324772226, 1.5780493801461817, 1.5778641683383872, 1.5780937273076017, 1.577893163082284, 1.578153600093948, 1.578285776776535, 1.5777619535386795, 1.5784540767303612, 1.5781553842730214, 1.5783203155314247, 1.578458593956355, 2.038305805302472, 4.4742403599493885, 2.6370034224715235, 2.639952795234998, 3.2936971941154627, 5.68420108534994, 8.779193175687928, 2.7737037903221284, 10.592574148656997, 25.48912614858931, 7.515564058919493, 2.9861962471309393, 5.509756613624904, 13.509456948663791, 5.77224156973587, 42.814451642485324, 7.085283822226772, 34.81819736115429, 16.57627870121152, 2.1105012973051775, 1.8609424036219775, 1.9902683322646577, 2.000415436579393, 2.0016335896161306, 2.0279989966370366, 1.7202429685603675, 1.730462664418451, 1.7320784539454517, 1.7280370341025493, 1.7295276551852146, 1.7352784182902754, 3.4027434874912394, 3.1880781744966957, 2.1044553794600573, 2.5284791790382113, 1.5689176703314252, 1.5692462716220592, 1.5693906830631834, 1.5694894449930779, 1.5695614194372116, 1.5716248242405766, 1.571945547854473, 1.5720147387845675, 1.5727821906193438, 1.573236324814512, 1.5776085898589416, 1.5781449262328398, 1.5782540390485278, 1.5785719723295086, 2.08767361991725, 2.891840331356141, 2.647027797045113, 2.7023619006701067, 3.0666290463507844, 5.3999092614004995, 7.13426623919061, 3.349199948110356, 3.780135723868078, 7.400152977653357, 14.496190813556128, 7.085283822226772, 18.37745660626788, 40.26532798589674, 59.336993457414046, 45.96144742967504, 26.493828157648398, 61.74932704391351, 9.019721606539507, 110.77637519640854, 47.52600675553308, 6.323879132016079, 13.684332485819466, 9.670586239650373, 24.896638289866765, 1.8800239514955301, 1.8902878617614207, 1.6909777994181994, 1.6928148553090507, 1.6995657540294886, 1.7032202142381239, 1.8078509086802006, 2.113452595726722, 1.5469737814660824, 1.5471618208442948, 1.5472112634611794, 1.5473894915516697, 1.5474792549260064, 1.5476674698785722, 1.5477671513128715, 1.5639948957683603, 1.5655386927206527, 1.566175616931256, 1.5663073364612403, 1.5673742835089144, 1.5682244064718691, 1.569175139877056, 2.8539456142107937, 3.1809201292290403, 1.588178998820236, 1.5892018106158725, 1.5889652876794123, 1.5894895190747502, 1.5896250116802804, 1.5890369639390036, 4.906660039963273, 3.1583434969923228, 1.597764755815811, 2.5389346178556194, 2.575358980948797, 7.925073130677124, 5.543407938126277, 2.675088155349862, 2.6799253130438827, 2.6807884634608836, 2.7045950205089504, 5.880395498546849, 5.301145117126254, 3.45160765621827, 3.756564633515286, 3.4116480259094324, 4.544125479340369, 13.509456948663791, 5.557225273282211, 7.378237032229138, 7.344824400812205], \"Category\": [\"Default\", \"Default\", \"Default\", \"Default\", \"Default\", \"Default\", \"Default\", \"Default\", \"Default\", \"Default\", \"Default\", \"Default\", \"Default\", \"Default\", \"Default\", \"Default\", \"Default\", \"Default\", \"Default\", \"Default\", \"Default\", \"Default\", \"Default\", \"Default\", \"Default\", \"Default\", \"Default\", \"Default\", \"Default\", \"Default\", \"Topic1\", \"Topic1\", \"Topic1\", \"Topic1\", \"Topic1\", \"Topic1\", \"Topic1\", \"Topic1\", \"Topic1\", \"Topic1\", \"Topic1\", \"Topic1\", \"Topic1\", \"Topic1\", \"Topic1\", \"Topic1\", \"Topic1\", \"Topic1\", \"Topic1\", \"Topic1\", \"Topic1\", \"Topic1\", \"Topic1\", \"Topic1\", \"Topic1\", \"Topic1\", \"Topic1\", \"Topic1\", \"Topic1\", \"Topic1\", \"Topic1\", \"Topic1\", \"Topic1\", \"Topic1\", \"Topic1\", \"Topic1\", \"Topic1\", \"Topic1\", \"Topic1\", \"Topic1\", \"Topic1\", \"Topic1\", \"Topic1\", \"Topic1\", \"Topic1\", \"Topic1\", \"Topic1\", \"Topic1\", \"Topic1\", \"Topic2\", \"Topic2\", \"Topic2\", \"Topic2\", \"Topic2\", \"Topic2\", \"Topic2\", \"Topic2\", \"Topic2\", \"Topic2\", \"Topic2\", \"Topic2\", \"Topic2\", \"Topic2\", \"Topic2\", \"Topic2\", \"Topic2\", \"Topic2\", \"Topic2\", \"Topic2\", \"Topic2\", \"Topic2\", \"Topic2\", \"Topic2\", \"Topic2\", \"Topic2\", \"Topic2\", \"Topic2\", \"Topic2\", \"Topic2\", \"Topic2\", \"Topic2\", \"Topic2\", \"Topic2\", \"Topic2\", \"Topic2\", \"Topic2\", \"Topic2\", \"Topic2\", \"Topic2\", \"Topic2\", \"Topic2\", \"Topic2\", \"Topic2\", \"Topic2\", \"Topic2\", \"Topic2\", \"Topic2\", \"Topic2\", \"Topic2\", \"Topic2\", \"Topic2\", \"Topic2\", \"Topic2\", \"Topic2\", \"Topic2\", \"Topic2\", \"Topic2\", \"Topic2\", \"Topic2\", \"Topic2\", \"Topic2\", \"Topic2\", \"Topic2\", \"Topic2\", \"Topic2\", \"Topic2\", \"Topic2\", \"Topic3\", \"Topic3\", \"Topic3\", \"Topic3\", \"Topic3\", \"Topic3\", \"Topic3\", \"Topic3\", \"Topic3\", \"Topic3\", \"Topic3\", \"Topic3\", \"Topic3\", \"Topic3\", \"Topic3\", \"Topic3\", \"Topic3\", \"Topic3\", \"Topic3\", \"Topic3\", \"Topic3\", \"Topic3\", \"Topic3\", \"Topic3\", \"Topic3\", \"Topic3\", \"Topic3\", \"Topic3\", \"Topic3\", \"Topic3\", \"Topic3\", \"Topic3\", \"Topic3\", \"Topic3\", \"Topic3\", \"Topic3\", \"Topic3\", \"Topic3\", \"Topic3\", \"Topic3\", \"Topic3\", \"Topic3\", \"Topic3\", \"Topic3\", \"Topic3\", \"Topic3\", \"Topic3\", \"Topic3\", \"Topic3\", \"Topic4\", \"Topic4\", \"Topic4\", \"Topic4\", \"Topic4\", \"Topic4\", \"Topic4\", \"Topic4\", \"Topic4\", \"Topic4\", \"Topic4\", \"Topic4\", \"Topic4\", \"Topic4\", \"Topic4\", \"Topic4\", \"Topic4\", \"Topic4\", \"Topic4\", \"Topic4\", \"Topic4\", \"Topic4\", \"Topic4\", \"Topic4\", \"Topic4\", \"Topic4\", \"Topic4\", \"Topic4\", \"Topic4\", \"Topic4\", \"Topic4\", \"Topic4\", \"Topic4\", \"Topic4\", \"Topic4\", \"Topic4\", \"Topic4\", \"Topic4\", \"Topic4\", \"Topic4\", \"Topic4\", \"Topic4\", \"Topic4\", \"Topic4\", \"Topic4\", \"Topic4\", \"Topic4\", \"Topic4\", \"Topic4\", \"Topic4\", \"Topic4\", \"Topic4\", \"Topic4\", \"Topic4\", \"Topic4\", \"Topic5\", \"Topic5\", \"Topic5\", \"Topic5\", \"Topic5\", \"Topic5\", \"Topic5\", \"Topic5\", \"Topic5\", \"Topic5\", \"Topic5\", \"Topic5\", \"Topic5\", \"Topic5\", \"Topic5\", \"Topic5\", \"Topic5\", \"Topic5\", \"Topic5\", \"Topic5\", \"Topic5\", \"Topic5\", \"Topic5\", \"Topic5\", \"Topic5\", \"Topic5\", \"Topic5\", \"Topic5\", \"Topic5\", \"Topic5\", \"Topic5\", \"Topic5\", \"Topic5\", \"Topic5\", \"Topic5\", \"Topic5\", \"Topic5\", \"Topic5\", \"Topic5\", \"Topic5\", \"Topic5\", \"Topic5\", \"Topic5\", \"Topic5\", \"Topic5\", \"Topic5\", \"Topic5\", \"Topic5\", \"Topic5\", \"Topic5\", \"Topic5\"], \"logprob\": [30.0, 29.0, 28.0, 27.0, 26.0, 25.0, 24.0, 23.0, 22.0, 21.0, 20.0, 19.0, 18.0, 17.0, 16.0, 15.0, 14.0, 13.0, 12.0, 11.0, 10.0, 9.0, 8.0, 7.0, 6.0, 5.0, 4.0, 3.0, 2.0, 1.0, -5.6076, -5.5932, -5.3253, -4.8228, -5.7795, -5.6798, -5.0332, -5.8975, -6.019, -5.2864, -5.5284, -5.7622, -5.1196, -6.0281, -6.2931, -6.1778, -6.1573, -4.46, -6.3888, -5.3863, -5.8386, -6.1498, -5.2182, -6.1262, -6.4426, -5.8984, -6.4531, -6.4048, -6.4113, -6.1279, -4.6868, -5.4188, -5.5498, -5.5689, -5.3503, -5.6589, -4.2318, -5.2878, -5.4922, -4.9911, -5.7437, -5.3478, -5.3845, -5.227, -5.1585, -5.5424, -5.6545, -5.5054, -5.6761, -6.439, -6.6009, -6.7866, -5.8, -6.973, -6.9737, -6.9847, -6.742, -7.0072, -7.0069, -6.6244, -7.0144, -6.099, -7.2522, -7.2522, -7.2569, -7.257, -7.2603, -7.2637, -7.2616, -7.2658, -7.2673, -7.2662, -7.2741, -7.2726, -7.2732, -7.2729, -6.3142, -7.2843, -6.7545, -6.4186, -6.8118, -6.5937, -6.6579, -6.4175, -5.4806, -6.3191, -6.5048, -6.6415, -6.156, -6.9809, -5.9456, -6.7788, -6.9775, -6.2598, -5.7802, -6.2805, -4.7874, -6.0337, -6.0092, -6.3549, -5.8255, -5.8723, -5.6406, -5.549, -5.639, -5.8566, -5.9747, -6.2383, -6.0, -5.7672, -6.034, -5.905, -6.2637, -6.1865, -6.259, -6.309, -6.3, -5.81, -6.2329, -6.4377, -6.9227, -6.9232, -6.9241, -6.9274, -6.9457, -6.9542, -6.9661, -6.9719, -6.9735, -6.9764, -6.9366, -6.9401, -6.6829, -7.0583, -6.7697, -7.3397, -7.3399, -7.34, -7.3399, -7.3402, -7.3402, -7.3401, -7.3405, -7.3402, -7.3405, -7.3404, -7.3404, -7.0959, -6.4295, -6.9882, -6.9893, -6.9367, -6.6584, -6.4583, -7.0689, -6.4426, -6.038, -6.7079, -7.0872, -6.9232, -6.7178, -6.9349, -6.7137, -6.9185, -6.8496, -6.8975, -6.4078, -6.6014, -6.6549, -6.6638, -6.6646, -6.6756, -6.8991, -6.9047, -6.9055, -6.9094, -6.9103, -6.9073, -6.3219, -6.3903, -6.9107, -6.7291, -7.316, -7.3163, -7.3164, -7.3165, -7.3166, -7.3182, -7.3185, -7.3185, -7.3192, -7.3195, -7.3232, -7.3236, -7.3237, -7.3239, -7.1208, -6.9114, -6.9815, -7.002, -6.9603, -6.6711, -6.531, -6.9456, -6.9022, -6.6368, -6.4097, -6.7158, -6.3967, -6.1157, -5.9793, -6.1411, -6.3269, -6.3741, -6.8189, -6.5929, -6.8233, -6.8863, -6.881, -6.8884, -6.8907, -6.6167, -6.6302, -6.8832, -6.8843, -6.8877, -6.8895, -6.9505, -6.9106, -7.2892, -7.2893, -7.2894, -7.2895, -7.2896, -7.2897, -7.2898, -7.3048, -7.3064, -7.3066, -7.3066, -7.3077, -7.3082, -7.3093, -6.7186, -6.6244, -7.3342, -7.3344, -7.3346, -7.3351, -7.3351, -7.3354, -6.2468, -6.6704, -7.3304, -6.9197, -6.9435, -6.0919, -6.5406, -7.0075, -7.0203, -7.0213, -7.0173, -6.6481, -6.7552, -6.9716, -6.9427, -6.9938, -6.9486, -6.7248, -7.0039, -7.0258, -7.0359], \"loglift\": [30.0, 29.0, 28.0, 27.0, 26.0, 25.0, 24.0, 23.0, 22.0, 21.0, 20.0, 19.0, 18.0, 17.0, 16.0, 15.0, 14.0, 13.0, 12.0, 11.0, 10.0, 9.0, 8.0, 7.0, 6.0, 5.0, 4.0, 3.0, 2.0, 1.0, 0.2305, 0.2304, 0.2286, 0.2284, 0.2257, 0.2243, 0.2223, 0.2223, 0.2212, 0.2205, 0.2174, 0.2166, 0.2161, 0.2139, 0.2137, 0.2133, 0.2121, 0.211, 0.2103, 0.2088, 0.2086, 0.2073, 0.207, 0.2069, 0.2069, 0.206, 0.2049, 0.2047, 0.2043, 0.2039, 0.1972, 0.2029, 0.1988, 0.1979, 0.1917, 0.1979, 0.1625, 0.1873, 0.1909, 0.159, 0.1911, 0.1695, 0.1662, 0.1456, 0.1368, 0.1741, 0.1788, 0.147, 0.1523, 1.6335, 1.58, 1.5134, 1.5096, 1.4605, 1.4593, 1.4523, 1.4445, 1.4291, 1.4282, 1.4244, 1.4218, 1.4085, 1.3504, 1.3503, 1.343, 1.3428, 1.3398, 1.3357, 1.3356, 1.3337, 1.3291, 1.3288, 1.3258, 1.3227, 1.3215, 1.3202, 1.3131, 1.3117, 1.3097, 1.2668, 1.2414, 1.1808, 1.1185, 1.0376, 0.6597, 0.9702, 1.03, 1.0674, 0.7825, 1.197, 0.6166, 1.0803, 1.1885, 0.7125, 0.3759, 0.6977, -0.3931, 0.4562, 0.3658, 0.7146, 0.0744, 0.0695, -0.268, -0.3989, -0.3436, -0.051, -0.0547, 0.3607, -0.1754, -0.8832, -0.3817, -1.2339, -0.0079, -0.6692, -0.7082, -0.237, -0.4715, 2.5901, 2.3245, 2.1615, 1.906, 1.9055, 1.9033, 1.8952, 1.8546, 1.8388, 1.8133, 1.8064, 1.8039, 1.7982, 1.7739, 1.6706, 1.6688, 1.6389, 1.6147, 1.5828, 1.5825, 1.5825, 1.5824, 1.5823, 1.5821, 1.5821, 1.5821, 1.5819, 1.5818, 1.5818, 1.5817, 1.5706, 1.4507, 1.4208, 1.4185, 1.2498, 0.9824, 0.7479, 1.2895, 0.5758, 0.1023, 0.6537, 1.1974, 0.7489, 0.0573, 0.6906, -1.092, 0.502, -1.0212, -0.3269, 2.2239, 2.156, 2.0354, 2.0214, 2.02, 1.9959, 1.937, 1.9255, 1.9237, 1.9222, 1.9204, 1.9201, 1.832, 1.8289, 1.7238, 1.7218, 1.6121, 1.6117, 1.6114, 1.6113, 1.6112, 1.6082, 1.6078, 1.6077, 1.6065, 1.6059, 1.5994, 1.5987, 1.5986, 1.5981, 1.5217, 1.4053, 1.4236, 1.3824, 1.2977, 1.0211, 0.8827, 1.2242, 1.1466, 0.7402, 0.295, 0.7047, 0.0708, -0.4326, -0.684, -0.5904, -0.2253, -1.1187, 0.3603, -1.9218, -1.3061, 0.6479, -0.1187, 0.2211, -0.7269, 2.1306, 2.1116, 1.9701, 1.9679, 1.9605, 1.9565, 1.8359, 1.7196, 1.6531, 1.6528, 1.6528, 1.6525, 1.6524, 1.6521, 1.652, 1.6265, 1.624, 1.6233, 1.6232, 1.6214, 1.6205, 1.6187, 1.6113, 1.597, 1.5817, 1.5809, 1.5809, 1.5801, 1.58, 1.58, 1.5411, 1.5581, 1.5795, 1.5272, 1.4891, 1.2167, 1.1253, 1.3871, 1.3725, 1.3711, 1.3663, 0.9589, 0.9554, 1.1681, 1.1123, 1.1576, 0.9161, 0.0503, 0.6595, 0.3542, 0.3487]}, \"token.table\": {\"Topic\": [1, 1, 2, 1, 1, 1, 1, 2, 1, 2, 1, 1, 2, 1, 2, 1, 1, 1, 1, 2, 1, 4, 1, 2, 1, 2, 1, 2, 1, 1, 1, 4, 1, 1, 1, 4, 1, 1, 4, 1, 2, 1, 1, 2, 1, 1, 2, 1, 1, 2, 1, 1, 2, 1, 2, 1, 2, 1, 2, 1, 1, 1, 1, 1, 1, 2, 1, 3, 1, 2, 1, 1, 2, 1, 1, 2, 1, 2, 1, 1, 1, 1, 2, 1, 1, 2, 1, 1, 2, 1, 1, 2, 4, 1, 2, 1, 1, 4, 1, 1, 1, 3, 1, 2, 1, 2, 1, 2, 1, 1, 2, 1, 2, 1, 1, 2, 1, 1, 1, 2, 3, 1, 1, 2, 1, 1, 2, 4, 1, 3, 1, 1, 1, 2, 1, 2, 1, 1, 2, 1, 2, 3, 1, 1, 1, 2, 1, 1, 2, 1, 4, 1, 1, 2, 1, 1, 1, 2, 1, 2, 1, 2, 1, 2, 1, 1, 1, 2, 1, 1, 1, 2, 1, 2, 1, 2, 4, 1, 1, 1, 2, 1, 2, 1, 1, 2, 1, 1, 1, 1, 1, 2, 1, 1, 1, 1, 2, 1, 1, 2, 1, 2, 1, 1, 1, 1, 2, 1, 1, 1, 1, 5, 1, 1, 2, 1, 2, 1, 2, 1, 4, 1, 2, 1, 1, 2, 4, 1, 1, 1, 3, 1, 2, 1, 2, 1, 1, 1, 2, 1, 4, 1, 2, 1, 2, 1, 2, 1, 2, 1, 2, 5, 1, 1, 2, 1, 1, 2, 1, 2, 1, 1, 2, 1, 1, 1, 1, 1, 2, 1, 2, 1, 1, 2, 1, 2, 4, 1, 1, 2, 1, 2, 1, 2, 1, 1, 1, 1, 2, 1, 2, 1, 1, 1, 2, 1, 2, 1, 2, 1, 2, 1, 1, 2, 1, 3, 1, 1, 2, 4, 1, 1, 1, 2, 1, 2, 1, 2, 1, 2, 4, 1, 2, 1, 2, 1, 2, 1, 1, 2, 1, 2, 3, 1, 2, 1, 1, 2, 1, 1, 1, 1, 2, 1, 1, 1, 2, 1, 1, 1, 1, 2, 1, 2, 1, 2, 1, 2, 1, 2, 1, 1, 2, 1, 4, 1, 1, 2, 1, 1, 2, 3, 1, 2, 4, 1, 2, 3, 1, 2, 1, 1, 2, 3, 1, 1, 1, 4, 1, 2, 1, 2, 4, 1, 1, 2, 1, 2, 1, 3, 1, 2, 1], \"Freq\": [0.7765907645477731, 0.9552097818072681, 0.04548618008606039, 0.9791352478050404, 0.6335988163324792, 0.63375646932051, 0.9047677879015965, 0.06312333403964628, 0.951893701194103, 0.026441491699836193, 0.6336553654720934, 0.6019856755399603, 0.30099283776998015, 0.38929149077397446, 0.38929149077397446, 0.9408164944642744, 0.7007842020679372, 0.6464233666922848, 0.36787045031810756, 0.36787045031810756, 0.47382107809024504, 0.47382107809024504, 0.8911391885055243, 0.09633937173032696, 0.7971311748590859, 0.19928279371477148, 0.9273724153413992, 0.06470040107033018, 0.5773410538778592, 0.5735219354301492, 0.4995919359006051, 0.4995919359006051, 0.8468256389642147, 0.9621804686145115, 0.810794049544452, 0.135132341590742, 0.6372486065978319, 0.5024448129876711, 0.5024448129876711, 0.6954917971001479, 0.2980679130429205, 0.5813132320702799, 0.4602384270397009, 0.4602384270397009, 0.5319081170239961, 0.7238444316125633, 0.20681269474644667, 0.9310993554283119, 0.892121779654264, 0.09103283465859836, 0.6296519477608259, 0.9651409031434499, 0.03574595937568333, 0.6328858305340632, 0.3164429152670316, 0.5649608849591309, 0.3766405899727539, 0.46398756901173266, 0.46398756901173266, 0.560858584594252, 0.5127063169263785, 0.633651882770137, 0.6335312599473394, 0.5871231398268222, 0.8793628815716714, 0.10992036019645893, 0.4399011107191643, 0.4399011107191643, 0.6044015915457686, 0.4029343943638457, 0.7394822458941155, 0.9036456375657993, 0.08744957782894833, 0.8869453347872527, 0.9235640967427386, 0.057722756046421166, 0.46186366476634627, 0.46186366476634627, 0.6463241469448433, 0.6462122169436226, 0.5486313452464864, 0.30191504912166345, 0.6038300982433269, 0.633675923486565, 0.4566377848214102, 0.4566377848214102, 0.6373820748597697, 0.9403417851262686, 0.0383812973520926, 0.5770499786264457, 0.9716705083657112, 0.016194508472761854, 0.016194508472761854, 0.4590468064863202, 0.4590468064863202, 0.6335294469103131, 0.7407531879457129, 0.18518829698642822, 0.6372774934978575, 0.638757767310217, 0.703704872494627, 0.17592621812365675, 0.27089990261330144, 0.5417998052266029, 0.37895555741924225, 0.6315925956987372, 0.4376873153088293, 0.4376873153088293, 0.5492492764075645, 0.9603930927745665, 0.021827115744876512, 0.6188708213771744, 0.37132249282630464, 0.57700867031102, 0.4751823249664582, 0.4751823249664582, 0.6393882759500435, 0.529019955229556, 0.7061834876201202, 0.23539449587337338, 0.03923241597889556, 0.5762764000633823, 0.8497653094872768, 0.12589115696107805, 0.6290791807200936, 0.6273371889055831, 0.31366859445279155, 0.31366859445279155, 0.4587064254839005, 0.4587064254839005, 0.6371899685603908, 0.6384980006005884, 0.4572222029302983, 0.4572222029302983, 0.6032453222424896, 0.4021635481616598, 0.633584951140477, 0.26454076600634213, 0.5290815320126843, 0.7402222041937142, 0.14804444083874285, 0.07402222041937143, 0.6338091736571239, 0.578192546966189, 0.8870048582616061, 0.1144522397756911, 0.7877319825152478, 0.4590156662559515, 0.4590156662559515, 0.49989616242411544, 0.49989616242411544, 0.6358159483012784, 0.458785003661066, 0.458785003661066, 0.556795737414158, 0.5786913013234968, 0.9502802362398641, 0.047514011811993204, 0.9596211360153344, 0.034272183429119085, 0.39549465476729073, 0.39549465476729073, 0.9680595240755026, 0.03338136289915526, 0.6291328052179325, 0.5913738195404231, 0.6521819136813931, 0.32609095684069656, 0.6356324121348407, 0.9603306238717797, 0.7179066879860173, 0.23930222932867246, 0.719783669600552, 0.179945917400138, 0.9138093412802895, 0.06527209580573495, 0.02175736526857832, 0.9718016996119259, 0.9465650642983463, 0.6929716907504677, 0.17324292268761693, 0.45887360110502995, 0.45887360110502995, 0.7259848810941169, 0.4578136681610985, 0.4578136681610985, 0.6361543511255121, 0.6361263513172711, 0.5862269451042993, 0.47900207698157216, 0.4569208470417469, 0.4569208470417469, 0.6293119812147968, 0.8802573824569309, 0.590732056056676, 0.6287488898643739, 0.31437444493218697, 0.4906035185685036, 0.5794401331787767, 0.28972006658938837, 0.9238195025455015, 0.040166065328065284, 0.5883855906304931, 0.63361155761899, 0.9217360931627938, 0.9103964477281568, 0.08898611895087247, 0.6697483468883026, 0.5481717742532525, 0.7462894545103507, 0.8832726063944744, 0.12618180091349634, 0.5466623444713171, 0.9244672603769172, 0.0770389383647431, 0.6802263556912918, 0.17005658892282294, 0.904907565224738, 0.060327171014982535, 0.4930968909049101, 0.4930968909049101, 0.4573880002102337, 0.4573880002102337, 0.9372646335561332, 0.9437399842690916, 0.02483526274392346, 0.02483526274392346, 0.6463448015116444, 0.6258743637697809, 0.7983432717706908, 0.13305721196178177, 0.9455166534532299, 0.029547395420413434, 0.8329045905950619, 0.15424159085093742, 0.953760772067312, 0.6461336297767237, 0.45896961966306815, 0.45896961966306815, 0.5373621440694168, 0.5373621440694168, 0.5949134881844527, 0.29745674409222633, 0.6916011158410297, 0.34580055792051484, 0.45907716045397395, 0.45907716045397395, 0.45589505535479236, 0.45589505535479236, 0.611413869223851, 0.203804623074617, 0.203804623074617, 0.7575893037216099, 0.9579258735732115, 0.020824475512461117, 0.8132023915457294, 0.8366516955130996, 0.13210289929154204, 0.3400879451981137, 0.6801758903962274, 0.37004666168214895, 0.7254626154220252, 0.27204848078325944, 0.7906539476199602, 0.721057528557412, 0.6336937313757353, 0.7476389127589067, 0.806816957441557, 0.1861885286403593, 0.38847492013140533, 0.38847492013140533, 0.6371206552455679, 0.3897819009163038, 0.3897819009163038, 0.9436159943078233, 0.03774463977231293, 0.03774463977231293, 0.6462497034261451, 0.389995450880025, 0.389995450880025, 0.9860372555177868, 0.029001095750523138, 0.925809480108147, 0.048726814742534055, 0.6334839446846974, 0.6338707879940061, 0.6292467031688469, 0.6972565416648094, 0.26147120312430355, 0.3886373369646842, 0.3886373369646842, 0.577880136082604, 0.5762981199043736, 0.9262956175180894, 0.03194122819027895, 0.5324013281061152, 0.2662006640530576, 0.7937279832603358, 0.19843199581508394, 0.7212064529176057, 0.2704524198441021, 0.9579015962150464, 0.5314220564140882, 0.5314220564140882, 0.37591054510836547, 0.37591054510836547, 0.6337735520820509, 0.8706319020523756, 0.10882898775654695, 0.054414493878273476, 0.6337681151940203, 0.6336511663968063, 0.8691926894991887, 0.09657696549990985, 0.6332433447801329, 0.31662167239006644, 0.4567579423798954, 0.4567579423798954, 0.893203327499866, 0.08426446485847791, 0.016852892971695583, 0.38969358198108967, 0.38969358198108967, 0.9650432726613349, 0.03509248264223036, 0.9609132541029269, 0.03843653016411708, 0.6362841720085511, 0.5206691235748622, 0.5206691235748622, 0.35809789157776734, 0.35809789157776734, 0.35809789157776734, 0.5372911714407058, 0.5372911714407058, 0.7460491669745589, 0.8363984688383731, 0.12867668751359584, 0.6293403687002121, 0.7555644116138891, 0.7545539523295293, 0.4602068542724699, 0.4602068542724699, 0.8169017627346555, 0.5971575394083041, 0.9278885512582222, 0.060514470734231884, 0.6380097022909413, 0.6384443057384261, 0.5058926428166963, 0.8903390281366448, 0.08616184143257853, 0.7791271839772747, 0.2226077668506499, 0.9545611247845502, 0.05303117359914168, 0.5843959182282689, 0.4382969386712016, 0.9637937400242781, 0.026405307945870635, 0.758436634157079, 0.9514969751747911, 0.04757484875873956, 0.5877610249941443, 0.29388051249707214, 0.6371498726481786, 0.30361018061605827, 0.6072203612321165, 0.6376638419049743, 0.9342639801628918, 0.04671319900814459, 0.023356599504072297, 0.9568827271343737, 0.0361087821560141, 0.009027195539003526, 0.8496518290732084, 0.09440575878591204, 0.09440575878591204, 0.9382499642297158, 0.055848212156530706, 0.9555292736873624, 0.6834341015089745, 0.1139056835848291, 0.1139056835848291, 0.7215777811495571, 0.6460920165877433, 0.8410115068372759, 0.1401685844728793, 0.8701743254523904, 0.11228055812288908, 0.7588200335851911, 0.1379672788336711, 0.06898363941683555, 0.9499915332714538, 0.47315941792209665, 0.47315941792209665, 0.9462499786146155, 0.03784999914458462, 0.6705048809746857, 0.22350162699156192, 0.945132099083713, 0.05400754851906931, 0.5531429584146614], \"Term\": [\"absolute\", \"add_money\", \"add_money\", \"address\", \"advancements\", \"affected\", \"already\", \"already\", \"always\", \"always\", \"amazing\", \"approval\", \"approval\", \"april\", \"april\", \"asking\", \"attempt\", \"avle\", \"away\", \"away\", \"ayos\", \"ayos\", \"back\", \"back\", \"balance\", \"balance\", \"bank\", \"bank\", \"barcode\", \"behavior\", \"beses\", \"beses\", \"best\", \"bills\", \"bills_payment\", \"bills_payment\", \"binibigay\", \"blah\", \"blah\", \"bpi\", \"bpi\", \"brand\", \"broken\", \"broken\", \"buffer\", \"buy\", \"buy\", \"call\", \"card\", \"card\", \"cases\", \"cash\", \"cash\", \"charged\", \"charged\", \"charges\", \"charges\", \"cheaper\", \"cheaper\", \"comeon\", \"common\", \"companion\", \"companions\", \"continue\", \"could\", \"could\", \"credentials\", \"credentials\", \"credited\", \"credited\", \"csr\", \"customer_service\", \"customer_service\", \"customers\", \"days\", \"days\", \"deactivated\", \"deactivated\", \"digists\", \"digits\", \"diko\", \"disregard\", \"disregard\", \"distract\", \"dumating\", \"dumating\", \"eee\", \"email\", \"email\", \"emotions\", \"error\", \"error\", \"error\", \"exit\", \"exit\", \"exploding\", \"face\", \"face\", \"facial\", \"false\", \"feature\", \"feature\", \"february\", \"february\", \"fee\", \"fee\", \"fees\", \"fees\", \"filipinos\", \"fix\", \"fix\", \"free\", \"free\", \"fun\", \"ganyan\", \"ganyan\", \"garbage\", \"gateway\", \"get\", \"get\", \"get\", \"globetm\", \"got\", \"got\", \"grabapp\", \"grabe\", \"grabe\", \"grabe\", \"greedy\", \"greedy\", \"grrrrrr\", \"gwapo\", \"ha\", \"ha\", \"hacked\", \"hacked\", \"hardships\", \"hirap\", \"hirap\", \"hope\", \"hope\", \"hope\", \"hundreds\", \"ichachange\", \"id\", \"id\", \"idiot\", \"ignored\", \"ignored\", \"ilang\", \"ilang\", \"illist\", \"implement\", \"implement\", \"implemented\", \"informations\", \"internet\", \"internet\", \"internet_connection\", \"internet_connection\", \"inyo\", \"inyo\", \"issue\", \"issue\", \"javascript\", \"joseph\", \"july\", \"july\", \"kapa\", \"know\", \"last\", \"last\", \"least\", \"least\", \"load\", \"load\", \"load\", \"log\", \"login\", \"look\", \"look\", \"losing\", \"losing\", \"love\", \"maaccess\", \"maaccess\", \"maddetect\", \"maghahanap\", \"main\", \"makabwesit\", \"mar\", \"mar\", \"market\", \"mas\", \"mata\", \"match\", \"match\", \"mean\", \"menu\", \"menu\", \"message\", \"message\", \"minimum\", \"minute\", \"mobile\", \"money\", \"money\", \"move\", \"nakapag\", \"nalang\", \"name\", \"name\", \"nareceive\", \"need\", \"need\", \"needs\", \"needs\", \"new\", \"new\", \"ninyo\", \"ninyo\", \"nman\", \"nman\", \"nothing\", \"number\", \"number\", \"number\", \"nunber\", \"nyan\", \"old\", \"old\", \"one\", \"one\", \"online\", \"online\", \"open\", \"oy\", \"pahirapan\", \"pahirapan\", \"paki\", \"paki\", \"pala\", \"pala\", \"pang\", \"pang\", \"pano\", \"pano\", \"parents\", \"parents\", \"passport\", \"passport\", \"passport\", \"past\", \"pay\", \"pay\", \"paying\", \"payment\", \"payment\", \"pending\", \"pending\", \"per\", \"pera\", \"pera\", \"personal\", \"peso\", \"philosophical\", \"phones\", \"php\", \"php\", \"pin\", \"pin\", \"pinagiintay\", \"planning\", \"planning\", \"poor\", \"poor\", \"poor\", \"postapaid\", \"probably\", \"probably\", \"problem\", \"problem\", \"process\", \"process\", \"promised\", \"pron\", \"pros\", \"purchase\", \"purchase\", \"razer\", \"razer\", \"reader\", \"reading\", \"really\", \"really\", \"reasons\", \"reasons\", \"received\", \"received\", \"refund\", \"refund\", \"register\", \"remember\", \"remember\", \"replika\", \"replika\", \"replikas\", \"reply\", \"reply\", \"reply\", \"revert\", \"ripped\", \"say\", \"say\", \"screen\", \"screen\", \"seen\", \"seen\", \"service\", \"service\", \"service\", \"settled\", \"settled\", \"since\", \"since\", \"slow\", \"slow\", \"smartglobetm\", \"sms\", \"sms\", \"sorry\", \"sorry\", \"sorry\", \"stole\", \"stole\", \"subscriptions\", \"support\", \"support\", \"surpass\", \"tampered\", \"tell\", \"thief\", \"thief\", \"think\", \"ticket\", \"time\", \"time\", \"tisoy\", \"tool\", \"tracker\", \"transaction\", \"transaction\", \"transactions\", \"transactions\", \"transfer\", \"transfer\", \"transferred\", \"transferred\", \"tried\", \"tried\", \"trustworthy\", \"trying\", \"trying\", \"tsk\", \"tsk\", \"ughhhh\", \"unauthorized\", \"unauthorized\", \"unrecognized\", \"update\", \"update\", \"update\", \"upgrade\", \"upgrade\", \"upgrade\", \"us\", \"us\", \"us\", \"use\", \"use\", \"useless\", \"users\", \"users\", \"users\", \"valid\", \"vendors\", \"video\", \"video\", \"virtual_card\", \"virtual_card\", \"wala\", \"wala\", \"wala\", \"well\", \"wonder\", \"wonder\", \"working\", \"working\", \"worse\", \"worse\", \"worst\", \"worst\", \"yadda\"]}, \"R\": 30, \"lambda.step\": 0.01, \"plot.opts\": {\"xlab\": \"PC1\", \"ylab\": \"PC2\"}, \"topic.order\": [1, 2, 3, 4, 5]};\n",
       "\n",
       "function LDAvis_load_lib(url, callback){\n",
       "  var s = document.createElement('script');\n",
       "  s.src = url;\n",
       "  s.async = true;\n",
       "  s.onreadystatechange = s.onload = callback;\n",
       "  s.onerror = function(){console.warn(\"failed to load library \" + url);};\n",
       "  document.getElementsByTagName(\"head\")[0].appendChild(s);\n",
       "}\n",
       "\n",
       "if(typeof(LDAvis) !== \"undefined\"){\n",
       "   // already loaded: just create the visualization\n",
       "   !function(LDAvis){\n",
       "       new LDAvis(\"#\" + \"ldavis_el579558333925282437289184\", ldavis_el579558333925282437289184_data);\n",
       "   }(LDAvis);\n",
       "}else if(typeof define === \"function\" && define.amd){\n",
       "   // require.js is available: use it to load d3/LDAvis\n",
       "   require.config({paths: {d3: \"https://d3js.org/d3.v5\"}});\n",
       "   require([\"d3\"], function(d3){\n",
       "      window.d3 = d3;\n",
       "      LDAvis_load_lib(\"https://cdn.jsdelivr.net/gh/bmabey/pyLDAvis@3.3.1/pyLDAvis/js/ldavis.v3.0.0.js\", function(){\n",
       "        new LDAvis(\"#\" + \"ldavis_el579558333925282437289184\", ldavis_el579558333925282437289184_data);\n",
       "      });\n",
       "    });\n",
       "}else{\n",
       "    // require.js not available: dynamically load d3 & LDAvis\n",
       "    LDAvis_load_lib(\"https://d3js.org/d3.v5.js\", function(){\n",
       "         LDAvis_load_lib(\"https://cdn.jsdelivr.net/gh/bmabey/pyLDAvis@3.3.1/pyLDAvis/js/ldavis.v3.0.0.js\", function(){\n",
       "                 new LDAvis(\"#\" + \"ldavis_el579558333925282437289184\", ldavis_el579558333925282437289184_data);\n",
       "            })\n",
       "         });\n",
       "}\n",
       "</script>"
      ],
      "text/plain": [
       "PreparedData(topic_coordinates=              x         y  topics  cluster       Freq\n",
       "topic                                                \n",
       "0     -0.099401 -0.007465       1        1  77.180667\n",
       "1     -0.004369  0.026190       2        1  12.948989\n",
       "2      0.032431 -0.008439       3        1   3.659002\n",
       "3      0.033422 -0.008026       4        1   3.444717\n",
       "4      0.037916 -0.002259       5        1   2.766626, topic_info=        Term        Freq       Total Category  logprob  loglift\n",
       "63     money  146.000000  146.000000  Default  30.0000  30.0000\n",
       "17       get   25.000000   25.000000  Default  29.0000  29.0000\n",
       "214  service   59.000000   59.000000  Default  28.0000  28.0000\n",
       "187   number   40.000000   40.000000  Default  27.0000  27.0000\n",
       "5       load   45.000000   45.000000  Default  26.0000  26.0000\n",
       "..       ...         ...         ...      ...      ...      ...\n",
       "750      mas    0.314236    4.544125   Topic5  -6.9486   0.9161\n",
       "445     hope    0.393054   13.509457   Topic5  -6.7248   0.0503\n",
       "796    least    0.297326    5.557225   Topic5  -7.0039   0.6595\n",
       "494   paying    0.290905    7.378237   Topic5  -7.0258   0.3542\n",
       "108    think    0.287986    7.344824   Topic5  -7.0359   0.3487\n",
       "\n",
       "[302 rows x 6 columns], token_table=      Topic      Freq          Term\n",
       "term                               \n",
       "691       1  0.776591      absolute\n",
       "232       1  0.955210     add_money\n",
       "232       2  0.045486     add_money\n",
       "118       1  0.979135       address\n",
       "2291      1  0.633599  advancements\n",
       "...     ...       ...           ...\n",
       "1487      1  0.670505         worse\n",
       "1487      3  0.223502         worse\n",
       "111       1  0.945132         worst\n",
       "111       2  0.054008         worst\n",
       "2502      1  0.553143         yadda\n",
       "\n",
       "[403 rows x 3 columns], R=30, lambda_step=0.01, plot_opts={'xlab': 'PC1', 'ylab': 'PC2'}, topic_order=[1, 2, 3, 4, 5])"
      ]
     },
     "execution_count": 584,
     "metadata": {},
     "output_type": "execute_result"
    }
   ],
   "source": [
    "paymaya_bad_as_visual = gensimvis.prepare(paymaya_bad_as_final, paymaya_bad_corpus_as, paymaya_bad_dict_as)\n",
    "print(paymaya_bad_as_final.print_topics())\n",
    "paymaya_bad_as_visual"
   ]
  },
  {
   "cell_type": "code",
   "execution_count": 585,
   "id": "actual-australian",
   "metadata": {},
   "outputs": [
    {
     "name": "stdout",
     "output_type": "stream",
     "text": [
      "[(0, '0.114*\"good\" + 0.082*\"nice\" + 0.059*\"great\" + 0.049*\"convenient\" + 0.048*\"useful\" + 0.044*\"apps\" + 0.031*\"love\" + 0.029*\"awesome\" + 0.023*\"use\" + 0.023*\"helpful\"'), (1, '0.043*\"easy\" + 0.041*\"use\" + 0.023*\"pay\" + 0.019*\"fast\" + 0.018*\"money\" + 0.017*\"transaction\" + 0.016*\"bills\" + 0.015*\"online\" + 0.011*\"service\" + 0.009*\"transactions\"'), (2, '0.019*\"really\" + 0.016*\"need\" + 0.011*\"one\" + 0.011*\"online\" + 0.010*\"time\" + 0.009*\"lot\" + 0.009*\"since\" + 0.009*\"ewallet\" + 0.008*\"load\" + 0.008*\"bills\"'), (3, '0.008*\"sobrang\" + 0.008*\"gamitin\" + 0.007*\"maganda\" + 0.007*\"pera\" + 0.007*\"wala\" + 0.006*\"mabilis\" + 0.006*\"bills\" + 0.006*\"madali\" + 0.006*\"pwede\" + 0.005*\"pang\"')]\n"
     ]
    },
    {
     "data": {
      "text/html": [
       "\n",
       "<link rel=\"stylesheet\" type=\"text/css\" href=\"https://cdn.jsdelivr.net/gh/bmabey/pyLDAvis@3.3.1/pyLDAvis/js/ldavis.v1.0.0.css\">\n",
       "\n",
       "\n",
       "<div id=\"ldavis_el579557566916165553699857\"></div>\n",
       "<script type=\"text/javascript\">\n",
       "\n",
       "var ldavis_el579557566916165553699857_data = {\"mdsDat\": {\"x\": [0.0772522973752925, -0.0189479184891673, -0.29483830287058255, 0.2365339239844573], \"y\": [-0.13262330752239956, -0.18591419572506665, 0.1291414077480902, 0.189396095499376], \"topics\": [1, 2, 3, 4], \"cluster\": [1, 1, 1, 1], \"Freq\": [35.57598079341201, 29.031299202855447, 19.33886821555346, 16.05385178817908]}, \"tinfo\": {\"Term\": [\"good\", \"nice\", \"great\", \"useful\", \"convenient\", \"apps\", \"easy\", \"use\", \"awesome\", \"love\", \"excellent\", \"helpful\", \"fast\", \"ok\", \"pay\", \"transaction\", \"amazing\", \"best\", \"need\", \"service\", \"money\", \"really\", \"satisfied\", \"online\", \"since\", \"usefull\", \"one\", \"pera\", \"maganda\", \"sobrang\", \"made\", \"satisfied\", \"financial\", \"spend\", \"needed\", \"mall\", \"person\", \"sulit\", \"discounted\", \"monthly\", \"functionality\", \"ayos\", \"ways\", \"possible\", \"games\", \"balik_bayad\", \"atm\", \"grocery\", \"mobile\", \"stress\", \"tipid\", \"water\", \"foods\", \"finances\", \"seamless\", \"instead\", \"additional\", \"updates\", \"call\", \"click\", \"paying\", \"shopping\", \"qr_code\", \"team\", \"transfer_funds\", \"stay\", \"helps\", \"one\", \"since\", \"need\", \"every\", \"fact\", \"card\", \"user\", \"really\", \"lot\", \"everything\", \"phone\", \"go\", \"things\", \"feel\", \"ewallet\", \"scan\", \"time\", \"well\", \"load\", \"simple\", \"pandemic\", \"online\", \"buy\", \"easily\", \"transactions\", \"payments\", \"bills\", \"pay\", \"thanks\", \"way\", \"money\", \"best\", \"features\", \"cashback\", \"say\", \"vouchers\", \"home\", \"right\", \"first_time\", \"almost\", \"provide\", \"quick\", \"buy_load\", \"tried\", \"shop\", \"options\", \"discount\", \"padala\", \"amount\", \"rate\", \"enjoy\", \"issues\", \"giving\", \"data\", \"whenever\", \"nothing\", \"sometimes\", \"banks\", \"service\", \"comfort\", \"course\", \"partner\", \"try\", \"received\", \"fast\", \"never\", \"transact\", \"transaction\", \"big\", \"transfer\", \"free\", \"lots\", \"easy\", \"send_money\", \"use\", \"smooth\", \"stars\", \"pay\", \"much\", \"money\", \"give\", \"bills\", \"hope\", \"online\", \"download\", \"users\", \"payment\", \"feature\", \"transactions\", \"make\", \"hassle\", \"want\", \"better\", \"save\", \"cash\", \"load\", \"time\", \"cashback\", \"features\", \"way\", \"nice\", \"awesome\", \"excellent\", \"ok\", \"great\", \"usefull\", \"wow\", \"good\", \"user_friendly\", \"verry\", \"useful\", \"perfect\", \"cool\", \"awsome\", \"helpfull\", \"okay\", \"helpful\", \"superb\", \"verygood\", \"excelent\", \"handy\", \"fantastic\", \"tnx\", \"life_easier\", \"hassle_free\", \"convinient\", \"fine\", \"thumbs\", \"nc\", \"highly_recommend\", \"apps\", \"amazing\", \"love\", \"convenient\", \"job\", \"best\", \"wonderful\", \"super\", \"use\", \"ever\", \"far\", \"easy\", \"paying_bills\", \"happy\", \"thanks\", \"used\", \"really\", \"bayad\", \"agad\", \"talagang\", \"buhay\", \"id\", \"bayaran\", \"oras\", \"haha\", \"hirap\", \"babayad\", \"nitong\", \"limit\", \"akala\", \"madali\", \"gawin\", \"pati\", \"layout\", \"applications\", \"trying\", \"nya\", \"mahirap\", \"inyo\", \"mas_madali\", \"mabilis\", \"buti\", \"instant\", \"basta\", \"nagamit\", \"tindahan\", \"sobrang_bilis\", \"pang\", \"malaking_tulong\", \"nagagamit\", \"tong\", \"bahay\", \"magbayad\", \"wala\", \"maganda\", \"meron\", \"pagbabayad\", \"sobrang\", \"galing\", \"pwede\", \"gamitin\", \"pera\", \"gamit\", \"lumabas\", \"ginagamit\", \"ibang\", \"mas\", \"pala\", \"bills\", \"services\", \"feature\"], \"Freq\": [5155.0, 3652.0, 2632.0, 2165.0, 2512.0, 2100.0, 3780.0, 3842.0, 1286.0, 1558.0, 1014.0, 1040.0, 1308.0, 813.0, 2195.0, 1232.0, 769.0, 1329.0, 1522.0, 767.0, 1770.0, 2000.0, 670.0, 1927.0, 861.0, 329.0, 991.0, 465.0, 302.0, 477.0, 408.1913002682685, 667.7259109101076, 174.36892829946402, 137.23986580901058, 111.15445477305151, 118.94989218953282, 100.15643661668398, 158.89308160983518, 101.46873208661269, 101.22179234299684, 96.76207515446194, 90.64561119563261, 91.38276594889251, 92.61354118180593, 150.42133703522083, 99.26172851290171, 83.12442443295575, 93.89899579233611, 163.6129575213466, 69.70828754447362, 72.16380888945271, 62.15401975833861, 58.6560936363358, 86.805574434341, 59.289784454984215, 58.56985370567359, 59.58434322149297, 56.2290343463372, 56.3843285752054, 60.73008242933908, 443.66371191716013, 222.96247200172218, 218.5845532435273, 172.42264942825227, 77.21367484488123, 86.87915177229196, 460.39563983937836, 882.7064984105486, 769.8124240350569, 1313.7504402027216, 478.2073032049353, 120.36332532230597, 303.941901193759, 293.91658120082707, 1568.168173872932, 775.3874950053676, 314.4080328990146, 340.97603261037113, 387.32956366200966, 294.70037650390674, 186.3625524006266, 724.5013697069916, 195.34464742587056, 788.2018086001912, 394.827622007242, 700.1211206727008, 254.32326305428577, 400.2747240481829, 881.1117791587927, 305.08679143232104, 320.3132713813977, 597.9982697438196, 329.88559671295803, 673.1873255179615, 647.2273988571962, 429.0824294382146, 350.46372961397793, 529.6693846142077, 426.31404132809837, 349.69507186491217, 327.4537649685095, 292.4805033380104, 279.1612763797816, 187.03605962632537, 172.08942606410557, 169.03862970580136, 147.32469884188382, 137.45639552514663, 122.30937736780551, 246.49631721590865, 115.6400335171099, 187.75436927740483, 139.5278139361257, 146.60505840788494, 117.97043011233771, 104.15806197299075, 99.76564855670263, 178.48142692626485, 133.90550660200412, 96.89156451382418, 150.5055048632779, 89.74706070769186, 84.60765535434392, 106.35267174163154, 124.2230901747017, 757.2320141554102, 71.56274189647614, 74.75562672989743, 84.02652593784943, 349.0921339791497, 58.52179338889467, 1287.722541626247, 357.9724327439902, 106.34085908618822, 1141.1853688035208, 212.76798421809238, 432.2901457839243, 256.6768378618051, 177.288638367478, 2909.101732306187, 326.7334779314603, 2769.519450207984, 340.2650039060064, 302.3426693970487, 1536.2070798362681, 509.934127246477, 1207.2895209775, 346.5746371335901, 1047.8135685487948, 351.74076773921337, 1000.2429952491586, 245.24013642134975, 292.2076458707259, 564.4429016872002, 305.79951110846423, 608.5602029048988, 291.327262516334, 264.7397227887454, 289.9151296198919, 321.8191314541862, 275.3190399349099, 318.4289541388975, 357.0805576876826, 348.9694514502513, 304.2935032192612, 296.4281064775588, 293.76209425819485, 3650.758085881659, 1285.3597394813971, 1012.9692162434962, 812.483582318767, 2626.881714797892, 328.9436263213156, 246.4808158697021, 5127.741771432889, 183.9212602242616, 188.15695211716914, 2152.4808854338125, 217.84723998006717, 192.4571176033606, 98.9473169930115, 77.23026002314207, 148.45835390399955, 1025.497910113819, 97.35223695780911, 54.384159050533555, 53.222262925690906, 55.0397413982894, 51.84837675007416, 48.76915255992836, 60.00142347270556, 154.74128575395093, 213.18186318853506, 42.15549109628867, 56.03370581833465, 32.88728691078516, 68.59719165035183, 1970.6767828258273, 716.2390876305552, 1399.8207880222683, 2188.5352029566548, 248.47476238422237, 801.4011327266498, 74.48607011760464, 345.93363837330423, 1043.018040694863, 161.17592140330507, 232.16394449092374, 865.8267514830442, 248.921363518419, 197.72774520573682, 296.7996916778397, 191.57764022153503, 245.71647735391576, 136.18602797145513, 145.03786438831014, 107.69201427533817, 99.83911723454577, 97.08035042358435, 76.18480213781719, 85.46536641432638, 74.41344268536871, 67.75284544102496, 66.18010594399362, 95.93793612647592, 68.85295835844296, 64.86730002721931, 212.61205013402363, 61.47389997118053, 93.38686683880013, 86.85332091393185, 82.15914044590589, 64.51229656354423, 132.91866628740433, 53.99218758085025, 53.53280723761153, 53.41654770482949, 225.0337991998623, 47.27851448546429, 67.80059682450482, 46.437084114867936, 45.07441434293049, 44.60631572516286, 72.82797208337733, 182.72071433845983, 63.580774470258824, 85.37414919442904, 125.85981618473885, 119.46232555701245, 151.62400566348938, 242.09140200532445, 268.8084201052806, 162.6855134340593, 129.54533471235663, 315.375018646976, 127.04878277791676, 211.06826621709354, 305.9536027236834, 268.7538594636905, 164.27594488143802, 103.05158928551482, 110.46534328864082, 116.94179187436494, 151.603071415415, 101.80487602788025, 218.2575441308594, 126.27891671442666, 96.42033288762438], \"Total\": [5155.0, 3652.0, 2632.0, 2165.0, 2512.0, 2100.0, 3780.0, 3842.0, 1286.0, 1558.0, 1014.0, 1040.0, 1308.0, 813.0, 2195.0, 1232.0, 769.0, 1329.0, 1522.0, 767.0, 1770.0, 2000.0, 670.0, 1927.0, 861.0, 329.0, 991.0, 465.0, 302.0, 477.0, 409.351356037992, 670.345103155923, 175.38423796855426, 138.11059029780228, 112.03167427012627, 119.95304959167174, 101.03311141193858, 160.29648793617991, 102.43206731544737, 102.18456000672818, 97.68393360318115, 91.53137805445823, 92.28965736322887, 93.53519080804888, 151.95831445688418, 100.27622123931067, 84.00816090122908, 94.93125780135577, 165.64503998087275, 70.59423906257057, 73.09143246646742, 63.03404771481887, 59.518829962334095, 88.10720980281386, 60.190902406562564, 59.46064119170833, 60.49921312160734, 57.09544651527847, 57.25474371871874, 61.71673456903817, 453.2196936280417, 227.46624370357486, 223.90259890311967, 177.13028848615144, 78.71816830909863, 88.80213921753194, 488.3188095494828, 991.8510502171183, 861.299692071383, 1522.5349788938354, 525.9618605468122, 124.89705714132207, 334.22489369270374, 324.1159765793773, 2000.5317551984554, 937.0607164425547, 361.3893236553841, 404.40523308876834, 477.2065834796526, 350.6948992048675, 207.83100412294095, 1008.7186845320444, 221.34114426035765, 1222.0556202625567, 527.8921806114972, 1081.7013402778625, 311.13799747306234, 601.283049708074, 1927.2584223537003, 422.14267585927837, 476.32483341693654, 1355.8178695503987, 517.3286081528896, 1973.9310528256296, 2195.3718805378426, 979.4166810796277, 660.4885796546833, 1770.228323239951, 1329.2511560793341, 694.6937352841896, 709.3799412736003, 293.484513374317, 280.3808996001954, 188.08691246898604, 173.09039117883714, 170.12035456315687, 148.30390953701354, 138.51845331139413, 123.2616489097155, 248.48801456519453, 116.60815819790061, 189.33316966431937, 140.82509982126479, 147.97976344699555, 119.08555111833286, 105.14383041948155, 100.72502022267344, 180.22157991472565, 135.2485733795139, 97.93664037186153, 152.1719569449661, 90.7719184358171, 85.64388731828463, 107.68196734620625, 125.79917005973785, 767.1171583614088, 72.57180754237747, 75.83641942202945, 85.37011839464888, 354.69866338616504, 59.462441765500024, 1308.6479620072769, 365.8834761803141, 108.22540028726696, 1232.2336056267015, 222.09057928033025, 468.10346359726697, 272.07283978402086, 186.05105487597913, 3780.8097910725023, 366.0073073672086, 3842.9256760270105, 387.24133928240184, 340.0070646615287, 2195.3718805378426, 647.0937408724033, 1770.228323239951, 433.65002466562635, 1973.9310528256296, 470.9799541118264, 1927.2584223537003, 301.72167611421713, 386.92770222638256, 1026.4872719629295, 427.66791047991126, 1355.8178695503987, 413.6914394037716, 353.9129355049697, 428.0326010513817, 549.6296510997375, 388.6660067744707, 623.2592016173998, 1081.7013402778625, 1222.0556202625567, 709.3799412736003, 694.6937352841896, 660.4885796546833, 3652.0978645363766, 1286.8013737754532, 1014.2985327885241, 813.5574640657994, 2632.4789426393427, 329.9867102883921, 247.75719667402288, 5155.373929645333, 184.96103481264495, 189.2505595791915, 2165.5060584661833, 219.4778124886976, 194.08747012717188, 99.97118102399855, 78.25858536604004, 150.50694758385714, 1040.455059291559, 98.81172453742955, 55.40982237254739, 54.24186525870142, 56.14112705580667, 52.92791721032091, 49.82138269620208, 61.354553406316725, 158.49321590361743, 218.35966274328356, 43.334362340978146, 57.63284609728212, 33.904304117476876, 70.736956364969, 2100.357022793815, 769.838892960329, 1558.7880605758944, 2512.3622334862107, 318.47609200937967, 1329.2511560793341, 81.26355724024859, 650.2415795075317, 3842.9256760270105, 258.5462513130563, 465.14019488434184, 3780.8097910725023, 592.9441596638071, 419.6364331376797, 979.4166810796277, 443.94611459837, 2000.5317551984554, 137.16485201429464, 146.14394006589552, 108.64005322233643, 100.7694152031814, 98.01611336209027, 77.11095876359114, 86.52212903224242, 75.41104027754477, 68.6782077457198, 67.10365209323413, 97.29681178497992, 69.84851325697213, 65.81274023595728, 215.76496288082646, 62.40872466597282, 94.84365477755205, 88.21913050057447, 83.5028614671563, 65.5805968431553, 135.1412478132992, 54.91126779924593, 54.45412408758615, 54.34177925845944, 229.1488718047249, 48.19487480841109, 69.1267648198894, 47.35776083039146, 46.00042853047828, 45.528424952427955, 74.33882766106099, 188.42871699892467, 65.01134229292964, 87.59061106852367, 130.41684629909807, 123.73017573921106, 158.38308696550138, 257.9860545437006, 302.4687255477842, 192.85941153882123, 148.25335686786957, 477.17407352827286, 159.0817788091983, 320.84174139644256, 540.0477494562175, 465.07564472415913, 252.07475337119163, 126.7200372364272, 145.22977217435013, 178.10458735197008, 356.217011531104, 141.6062439065053, 1973.9310528256296, 331.4061187465095, 427.66791047991126], \"Category\": [\"Default\", \"Default\", \"Default\", \"Default\", \"Default\", \"Default\", \"Default\", \"Default\", \"Default\", \"Default\", \"Default\", \"Default\", \"Default\", \"Default\", \"Default\", \"Default\", \"Default\", \"Default\", \"Default\", \"Default\", \"Default\", \"Default\", \"Default\", \"Default\", \"Default\", \"Default\", \"Default\", \"Default\", \"Default\", \"Default\", \"Topic1\", \"Topic1\", \"Topic1\", \"Topic1\", \"Topic1\", \"Topic1\", \"Topic1\", \"Topic1\", \"Topic1\", \"Topic1\", \"Topic1\", \"Topic1\", \"Topic1\", \"Topic1\", \"Topic1\", \"Topic1\", \"Topic1\", \"Topic1\", \"Topic1\", \"Topic1\", \"Topic1\", \"Topic1\", \"Topic1\", \"Topic1\", \"Topic1\", \"Topic1\", \"Topic1\", \"Topic1\", \"Topic1\", \"Topic1\", \"Topic1\", \"Topic1\", \"Topic1\", \"Topic1\", \"Topic1\", \"Topic1\", \"Topic1\", \"Topic1\", \"Topic1\", \"Topic1\", \"Topic1\", \"Topic1\", \"Topic1\", \"Topic1\", \"Topic1\", \"Topic1\", \"Topic1\", \"Topic1\", \"Topic1\", \"Topic1\", \"Topic1\", \"Topic1\", \"Topic1\", \"Topic1\", \"Topic1\", \"Topic1\", \"Topic1\", \"Topic1\", \"Topic1\", \"Topic1\", \"Topic1\", \"Topic1\", \"Topic1\", \"Topic1\", \"Topic1\", \"Topic1\", \"Topic1\", \"Topic1\", \"Topic1\", \"Topic1\", \"Topic1\", \"Topic2\", \"Topic2\", \"Topic2\", \"Topic2\", \"Topic2\", \"Topic2\", \"Topic2\", \"Topic2\", \"Topic2\", \"Topic2\", \"Topic2\", \"Topic2\", \"Topic2\", \"Topic2\", \"Topic2\", \"Topic2\", \"Topic2\", \"Topic2\", \"Topic2\", \"Topic2\", \"Topic2\", \"Topic2\", \"Topic2\", \"Topic2\", \"Topic2\", \"Topic2\", \"Topic2\", \"Topic2\", \"Topic2\", \"Topic2\", \"Topic2\", \"Topic2\", \"Topic2\", \"Topic2\", \"Topic2\", \"Topic2\", \"Topic2\", \"Topic2\", \"Topic2\", \"Topic2\", \"Topic2\", \"Topic2\", \"Topic2\", \"Topic2\", \"Topic2\", \"Topic2\", \"Topic2\", \"Topic2\", \"Topic2\", \"Topic2\", \"Topic2\", \"Topic2\", \"Topic2\", \"Topic2\", \"Topic2\", \"Topic2\", \"Topic2\", \"Topic2\", \"Topic2\", \"Topic2\", \"Topic2\", \"Topic2\", \"Topic2\", \"Topic2\", \"Topic2\", \"Topic2\", \"Topic3\", \"Topic3\", \"Topic3\", \"Topic3\", \"Topic3\", \"Topic3\", \"Topic3\", \"Topic3\", \"Topic3\", \"Topic3\", \"Topic3\", \"Topic3\", \"Topic3\", \"Topic3\", \"Topic3\", \"Topic3\", \"Topic3\", \"Topic3\", \"Topic3\", \"Topic3\", \"Topic3\", \"Topic3\", \"Topic3\", \"Topic3\", \"Topic3\", \"Topic3\", \"Topic3\", \"Topic3\", \"Topic3\", \"Topic3\", \"Topic3\", \"Topic3\", \"Topic3\", \"Topic3\", \"Topic3\", \"Topic3\", \"Topic3\", \"Topic3\", \"Topic3\", \"Topic3\", \"Topic3\", \"Topic3\", \"Topic3\", \"Topic3\", \"Topic3\", \"Topic3\", \"Topic3\", \"Topic4\", \"Topic4\", \"Topic4\", \"Topic4\", \"Topic4\", \"Topic4\", \"Topic4\", \"Topic4\", \"Topic4\", \"Topic4\", \"Topic4\", \"Topic4\", \"Topic4\", \"Topic4\", \"Topic4\", \"Topic4\", \"Topic4\", \"Topic4\", \"Topic4\", \"Topic4\", \"Topic4\", \"Topic4\", \"Topic4\", \"Topic4\", \"Topic4\", \"Topic4\", \"Topic4\", \"Topic4\", \"Topic4\", \"Topic4\", \"Topic4\", \"Topic4\", \"Topic4\", \"Topic4\", \"Topic4\", \"Topic4\", \"Topic4\", \"Topic4\", \"Topic4\", \"Topic4\", \"Topic4\", \"Topic4\", \"Topic4\", \"Topic4\", \"Topic4\", \"Topic4\", \"Topic4\", \"Topic4\", \"Topic4\", \"Topic4\", \"Topic4\", \"Topic4\", \"Topic4\", \"Topic4\"], \"logprob\": [30.0, 29.0, 28.0, 27.0, 26.0, 25.0, 24.0, 23.0, 22.0, 21.0, 20.0, 19.0, 18.0, 17.0, 16.0, 15.0, 14.0, 13.0, 12.0, 11.0, 10.0, 9.0, 8.0, 7.0, 6.0, 5.0, 4.0, 3.0, 2.0, 1.0, -5.3076, -4.8155, -6.1582, -6.3976, -6.6084, -6.5407, -6.7126, -6.2511, -6.6996, -6.7021, -6.7471, -6.8124, -6.8043, -6.7909, -6.3059, -6.7216, -6.899, -6.7771, -6.2219, -7.075, -7.0404, -7.1898, -7.2477, -6.8557, -7.2369, -7.2491, -7.232, -7.2899, -7.2872, -7.2129, -5.2243, -5.9124, -5.9322, -6.1694, -6.9728, -6.8548, -5.1873, -4.5364, -4.6732, -4.1387, -5.1493, -6.5289, -5.6025, -5.6361, -3.9617, -4.666, -5.5687, -5.4876, -5.3601, -5.6334, -6.0917, -4.7339, -6.0446, -4.6496, -5.3409, -4.7681, -5.7808, -5.3272, -4.5382, -5.5988, -5.5501, -4.9258, -5.5206, -4.8073, -4.8467, -5.2577, -5.4601, -5.0471, -5.2642, -5.4623, -5.528, -5.4377, -5.4843, -5.8848, -5.9681, -5.9859, -6.1234, -6.1928, -6.3095, -5.6087, -6.3656, -5.8809, -6.1778, -6.1283, -6.3456, -6.4702, -6.5132, -5.9316, -6.2189, -6.5425, -6.1021, -6.6191, -6.678, -6.4493, -6.294, -4.4864, -6.8455, -6.8018, -6.6849, -5.2607, -7.0467, -3.9554, -5.2356, -6.4494, -4.0762, -5.7559, -5.047, -5.5683, -5.9383, -3.1405, -5.3269, -3.1896, -5.2863, -5.4045, -3.779, -4.8818, -4.0199, -5.268, -4.1616, -5.2532, -4.2081, -5.6138, -5.4386, -4.7802, -5.3931, -4.705, -5.4416, -5.5373, -5.4465, -5.3421, -5.4981, -5.3527, -5.2381, -5.2611, -5.3981, -5.4243, -5.4333, -2.5071, -3.551, -3.7892, -4.0097, -2.8363, -4.9139, -5.2025, -2.1674, -5.4953, -5.4725, -3.0354, -5.326, -5.4499, -6.1152, -6.363, -5.7095, -3.7769, -6.1315, -6.7137, -6.7353, -6.7018, -6.7615, -6.8227, -6.6154, -5.6681, -5.3477, -6.9684, -6.6839, -7.2167, -6.4816, -3.1237, -4.1358, -3.4657, -3.0188, -5.1945, -4.0235, -6.3992, -4.8636, -3.7599, -5.6273, -5.2624, -3.9461, -5.1927, -5.4229, -5.0168, -5.4545, -5.2056, -5.6096, -5.5467, -5.8444, -5.9201, -5.9481, -6.1905, -6.0755, -6.214, -6.3078, -6.3313, -5.9599, -6.2917, -6.3513, -5.1642, -6.405, -5.9869, -6.0594, -6.115, -6.3568, -5.6339, -6.5348, -6.5434, -6.5455, -5.1074, -6.6676, -6.3071, -6.6855, -6.7153, -6.7258, -6.2355, -5.3157, -6.3713, -6.0766, -5.6885, -5.7406, -5.5022, -5.0343, -4.9296, -5.4318, -5.6596, -4.7699, -5.6791, -5.1715, -4.8002, -4.9298, -5.4221, -5.8884, -5.8189, -5.762, -5.5024, -5.9006, -5.138, -5.6852, -5.9549], \"loglift\": [30.0, 29.0, 28.0, 27.0, 26.0, 25.0, 24.0, 23.0, 22.0, 21.0, 20.0, 19.0, 18.0, 17.0, 16.0, 15.0, 14.0, 13.0, 12.0, 11.0, 10.0, 9.0, 8.0, 7.0, 6.0, 5.0, 4.0, 3.0, 2.0, 1.0, 1.0307, 1.0296, 1.0277, 1.0272, 1.0256, 1.0251, 1.0248, 1.0247, 1.0241, 1.024, 1.024, 1.0238, 1.0236, 1.0236, 1.0233, 1.0233, 1.0229, 1.0226, 1.0212, 1.0209, 1.0207, 1.0194, 1.0189, 1.0186, 1.0184, 1.0184, 1.0183, 1.0182, 1.0182, 1.0174, 1.0122, 1.0135, 1.0095, 1.0066, 1.0142, 1.0116, 0.9746, 0.9169, 0.9212, 0.886, 0.9383, 0.9965, 0.9385, 0.9357, 0.79, 0.8441, 0.8942, 0.8629, 0.8248, 0.8595, 0.9245, 0.7025, 0.9086, 0.595, 0.7431, 0.5985, 0.8319, 0.6266, 0.2508, 0.7088, 0.6367, 0.2149, 0.5836, -0.0423, -0.1879, 0.2082, 0.3998, -0.1731, -0.1037, 0.3471, 0.2605, 1.2334, 1.2324, 1.2312, 1.231, 1.2304, 1.2302, 1.2291, 1.229, 1.2287, 1.2285, 1.2284, 1.2275, 1.2275, 1.2274, 1.2274, 1.2272, 1.2271, 1.2268, 1.2261, 1.2258, 1.2254, 1.2246, 1.2244, 1.2242, 1.2238, 1.2228, 1.2224, 1.2209, 1.2209, 1.2208, 1.2207, 1.2149, 1.2192, 1.16, 1.1939, 1.1572, 1.1785, 1.1886, 0.9747, 1.1233, 0.9092, 1.1075, 1.1194, 0.8798, 0.9986, 0.8541, 1.0127, 0.6035, 0.9449, 0.5809, 1.0295, 0.956, 0.6387, 0.9014, 0.4357, 0.8861, 0.9465, 0.8472, 0.7015, 0.892, 0.5652, 0.1285, -0.0165, 0.3904, 0.3851, 0.4266, 1.6427, 1.6419, 1.6417, 1.6417, 1.6409, 1.6399, 1.6379, 1.6377, 1.6374, 1.6373, 1.637, 1.6356, 1.6346, 1.6328, 1.6298, 1.6293, 1.6286, 1.6282, 1.6244, 1.6241, 1.6232, 1.6224, 1.6217, 1.6208, 1.6191, 1.6191, 1.6155, 1.6149, 1.6126, 1.6123, 1.5793, 1.5709, 1.5355, 1.5051, 1.3948, 1.137, 1.556, 1.012, 0.3389, 1.1705, 0.9482, 0.169, 0.7751, 0.8906, 0.4492, 0.8026, -0.4539, 1.8221, 1.8216, 1.8205, 1.8199, 1.8196, 1.8171, 1.8169, 1.8159, 1.8157, 1.8154, 1.8152, 1.8149, 1.8148, 1.8145, 1.8141, 1.8137, 1.8136, 1.813, 1.8128, 1.8126, 1.8123, 1.8122, 1.812, 1.8111, 1.81, 1.8099, 1.8096, 1.8089, 1.8088, 1.8087, 1.7985, 1.807, 1.8036, 1.7937, 1.7941, 1.7856, 1.7656, 1.7112, 1.6591, 1.6943, 1.4151, 1.6044, 1.4105, 1.261, 1.2808, 1.401, 1.6225, 1.5556, 1.4085, 0.9749, 1.4992, -0.3729, 0.8644, 0.3396]}, \"token.table\": {\"Topic\": [1, 4, 4, 2, 1, 2, 3, 2, 1, 4, 1, 2, 3, 4, 1, 2, 3, 3, 1, 4, 2, 4, 1, 2, 3, 4, 4, 4, 1, 2, 3, 4, 1, 2, 3, 4, 1, 2, 3, 4, 1, 2, 3, 4, 4, 4, 1, 2, 3, 4, 2, 3, 1, 1, 2, 4, 1, 2, 3, 4, 1, 2, 3, 1, 2, 1, 2, 3, 1, 2, 3, 1, 3, 2, 2, 3, 2, 1, 1, 2, 3, 1, 2, 3, 1, 2, 3, 2, 3, 1, 2, 3, 1, 2, 1, 2, 3, 4, 1, 2, 3, 3, 2, 3, 1, 4, 3, 2, 3, 1, 2, 3, 1, 2, 3, 4, 1, 2, 3, 4, 1, 2, 3, 1, 3, 1, 3, 2, 1, 1, 2, 3, 1, 1, 2, 3, 4, 1, 3, 1, 4, 1, 2, 3, 4, 4, 1, 2, 4, 1, 2, 3, 2, 1, 2, 3, 4, 1, 2, 3, 1, 2, 3, 1, 4, 3, 1, 2, 3, 1, 2, 3, 4, 1, 2, 3, 1, 2, 3, 3, 1, 2, 3, 4, 1, 2, 3, 4, 4, 2, 1, 2, 3, 4, 1, 4, 4, 1, 4, 1, 4, 1, 2, 1, 2, 3, 4, 1, 4, 1, 3, 4, 1, 2, 3, 4, 1, 2, 3, 4, 2, 3, 1, 2, 3, 1, 2, 4, 3, 4, 3, 4, 1, 1, 2, 3, 4, 1, 3, 4, 4, 1, 2, 3, 1, 4, 1, 1, 2, 3, 4, 4, 1, 2, 4, 1, 2, 4, 1, 2, 3, 4, 1, 1, 2, 3, 4, 3, 4, 4, 3, 1, 2, 3, 4, 1, 1, 2, 3, 2, 3, 2, 4, 2, 1, 3, 4, 3, 2, 3, 1, 2, 3, 4, 1, 2, 3, 4, 2, 3, 1, 4, 2, 4, 1, 2, 4, 1, 4, 1, 2, 3, 4, 1, 3, 4, 2, 4, 1, 4, 1, 2, 3, 1, 3, 4, 1, 2, 3, 4, 1, 2, 3, 4, 1, 2, 3, 1, 2, 4, 1, 2, 3, 1, 1, 2, 3, 1, 1, 2, 1, 2, 3, 4, 1, 2, 2, 2, 1, 2, 3, 4, 2, 2, 1, 2, 3, 1, 2, 3, 2, 1, 2, 1, 1, 2, 3, 4, 1, 2, 3, 1, 3, 4, 1, 2, 1, 2, 3, 1, 2, 3, 1, 2, 2, 3, 4, 1, 2, 3, 4, 1, 2, 4, 2, 3, 1, 1, 2, 3, 1, 4, 1, 1, 3, 1, 2, 3, 2, 3, 4, 1, 3, 1, 2, 3, 4, 1, 2, 3, 4, 2, 3, 1, 2, 3, 4, 4, 1, 3, 2, 4, 1, 2, 1, 2, 3, 4, 1, 2, 3, 4, 1, 2, 3, 4, 1, 2, 2, 1, 2, 3, 4, 1, 1, 2, 3, 4, 1, 2, 3, 4, 1, 2, 3, 4, 3, 1, 2, 3, 3, 1, 2, 3, 4, 3, 3, 1, 2, 1, 3, 4, 1, 2, 3, 4, 1, 1, 2, 3, 4, 1, 1, 2, 3, 2, 1, 3, 4, 2, 3], \"Freq\": [0.9917484361225676, 0.9921725111189713, 0.9876507157574145, 0.9912078545934212, 0.0012989730827376264, 0.06884557338509419, 0.9300647272401404, 0.9891212787767183, 0.011975637510258548, 0.9820022758412009, 0.003808876259217447, 0.055704815291055164, 0.9384118883646986, 0.0019044381296087235, 0.9879992504250343, 0.0007771207121624506, 0.9986001151287491, 0.9902853901089214, 0.9941945804187272, 0.9835530249277534, 0.03232841120690633, 0.9617702334054632, 0.987272942443005, 0.9856980768721806, 0.00794917803929178, 0.9713297080228478, 0.9915076493927668, 0.985592725321998, 0.3204811957858285, 0.06770729488432997, 0.6025949244705368, 0.008275336041418108, 0.287466296048371, 0.585849033718832, 0.08733153297672029, 0.04002695261433013, 0.036021338797545883, 0.9590681454846591, 0.0045026673496932354, 0.0045026673496932354, 0.3409440259003061, 0.5309202661865093, 0.017731115760045636, 0.11043952101971283, 0.9923645959279408, 0.9752074299775427, 0.7225045403883118, 0.2724197447365766, 0.0023688673455354485, 0.0023688673455354485, 0.989987386033294, 0.004024338967615016, 0.9780848950283831, 0.9095671978267023, 0.023935978890176374, 0.06582394194798503, 0.38025912715764, 0.510221107325441, 0.008022344454802531, 0.1010815401305119, 0.4609659520579531, 0.42854327041473317, 0.10854549941425808, 0.9883867062306025, 0.9921208033568191, 0.08677092701616448, 0.04219136818217172, 0.8712915561393765, 0.004579600405298568, 0.01831840162119427, 0.975454886328595, 0.005152316114712455, 0.9892446940247914, 0.9889707421789684, 0.9922984696491093, 0.006571513044033836, 0.9933790714069732, 0.9860193457675983, 0.01657156378154032, 0.8120066252954757, 0.16902995057171127, 0.6718104485639901, 0.32330877837142025, 0.0041988153035249385, 0.00158696161181332, 0.7694118881274913, 0.22905145930505585, 0.9876730638152389, 0.005548725077613701, 0.35970353284060014, 0.015471119692068823, 0.6227125676057701, 0.9088111436503228, 0.08936009153047107, 0.8688690546360083, 0.016602593400688058, 0.11068395600458704, 0.002767098900114676, 0.7187335885785989, 0.2627095185839017, 0.0188357768041288, 0.9771050414144414, 0.0009859030331541402, 0.998719772585144, 0.9607912527852357, 0.03202637509284119, 0.9824682840506717, 0.4987743535208505, 0.4987743535208505, 0.006877327028573292, 0.9842219125336, 0.009169769371431056, 0.05378004623772298, 0.7155084412497057, 0.007014788639702997, 0.2244732364704959, 0.5038191396051956, 0.4260870437803941, 0.011515866048118759, 0.05901881349660864, 0.8949579047887053, 0.09623203277297906, 0.004811601638648953, 0.9874333802501314, 0.011349808968392315, 0.9921073981072207, 0.969207754103345, 0.99341434147587, 0.9912829273918451, 0.03675486317538452, 0.9445999836073821, 0.01837743158769226, 0.9929985046879923, 0.1697240262342278, 0.018858225137136423, 0.012572150091424282, 0.798331530805442, 0.9871128179864102, 0.0065807521199094015, 0.34513571405498317, 0.6506006563795085, 0.19442725223042986, 0.17035530671618618, 0.06851246030977053, 0.5666165636429671, 0.9774274402575495, 0.1583697313274596, 0.07574204541748068, 0.7574204541748069, 0.177562540344307, 0.8001844350581108, 0.023060070174585324, 0.9904362619719735, 0.8109695326877256, 0.1823109802166205, 0.0020955285082370173, 0.004191057016474035, 0.0001939723507250609, 0.005237253469576644, 0.9946902145181122, 0.0007597401702270733, 0.0011396102553406099, 0.9979187135932607, 0.9901901879009711, 0.9812886777274051, 0.9796739553398645, 0.2692807179659863, 0.2573656419497922, 0.4718370102412857, 0.13845213069165124, 0.7487717272099506, 0.002825553687584719, 0.11019659381580404, 0.01892825495965931, 0.006309418319886436, 0.9779598395823975, 0.0038444716706203352, 0.010572297094205922, 0.9851458655964609, 0.9839176064817268, 0.9420075389362752, 0.05529174685060746, 0.0020478424759484246, 0.0020478424759484246, 0.014136881926902201, 0.014136881926902201, 0.9754448529562519, 0.014136881926902201, 0.990124847925111, 0.9942212222279673, 0.17410507450287463, 0.7473778807928276, 0.048834350165440445, 0.02972525662244201, 0.342495389405394, 0.6569173862365754, 0.9896332008356978, 0.014466176778350784, 0.9837000209278534, 0.9922530066532049, 0.9916604280172476, 0.007393793331881975, 0.9907683064721847, 0.21351681242684076, 0.003139953123924129, 0.778708374733184, 0.003139953123924129, 0.011335409840538931, 0.9861806561268871, 0.016298708807764635, 0.977922528465878, 0.9878520928018832, 0.6471287165274171, 0.3300356454289827, 0.022187270280940013, 0.0009244695950391673, 0.8270541987313267, 0.12272417142464848, 0.04908966856985939, 0.0010671667080404215, 0.9513517680294126, 0.042998949967431074, 0.018604196897226647, 0.08339812402205049, 0.8981336433143899, 0.1104797655155323, 0.0710227064028422, 0.8128154177214163, 0.013091925682953077, 0.9818944262214807, 0.009269345556834735, 0.9871853018028991, 0.9966987869514555, 0.00991838079975663, 0.07934704639805304, 0.023142888532765468, 0.8893481450448444, 0.012627610929414675, 0.02525522185882935, 0.9596984306355152, 0.9834047211844116, 0.2876540065018205, 0.7034228226220989, 0.007251781676516483, 0.015381931286608056, 0.9844436023429156, 0.9920548114873612, 0.5389972791437981, 0.025265497459865536, 0.008421832486621846, 0.4267061793221735, 0.9753085144290603, 0.08814711122655282, 0.06740661446736393, 0.8451752429369477, 0.9900688847606743, 0.006037005394882161, 0.006037005394882161, 0.29939640725551736, 0.6818329501083198, 0.01355757315874041, 0.005084089934527654, 0.9884076419505042, 0.04327039226534747, 0.7881392876902575, 0.16690008445205454, 0.0030907423046676766, 0.011416748756526911, 0.9704236443047876, 0.9782517562892825, 0.9733277487618238, 0.8630343592858918, 0.13201667139761358, 0.0006567993601871323, 0.004597595521309926, 0.990791226884294, 0.0027331105805586627, 0.9784535878400012, 0.016398663483351977, 0.00027381522541070985, 0.9996993879745016, 0.010277829064018456, 0.9866715901457717, 0.992481806484429, 0.0073996652848841785, 0.0073996652848841785, 0.9841554828895958, 0.9980856127138016, 0.006644211553375869, 0.9833433098996287, 0.8902546403582569, 0.02117253391565503, 0.0766244084566563, 0.012098590808945733, 0.45712603446509387, 0.5188717757833075, 0.019198255703982373, 0.004669845982049767, 0.9941409605083753, 0.007101006860774109, 0.011557736860905846, 0.9824076331769969, 0.9908842751438908, 0.008397324365626192, 0.12141377693081483, 0.0067452098294897124, 0.8768772778336626, 0.27541158443373104, 0.7203072208266812, 0.6652440979239346, 0.18626834741870166, 0.0016631102448098364, 0.1463537015432656, 0.005307046696102626, 0.021228186784410505, 0.9711895453867807, 0.983950843451861, 0.01171370051728406, 0.010543667916904061, 0.9805611162720776, 0.29471088963820197, 0.6996536730823465, 0.005466044320955832, 0.9796573411136712, 0.015445048170711033, 0.004412870905917438, 0.36091088260543064, 0.21755842923411473, 0.4199383634053842, 0.001686499451427246, 0.26595556268120885, 0.5494466569677722, 0.17827790465443671, 0.00584517720178481, 0.6378924242721811, 0.2802860652105038, 0.08118630854373214, 0.3848836249126024, 0.03655319342745386, 0.5784005312932405, 0.004556269213096412, 0.004556269213096412, 0.9932666884550178, 0.9897745264151442, 0.8432136186653879, 0.15578433424023294, 0.0024727672101624277, 0.9942781876700589, 0.007219254735338161, 0.9890378987413281, 0.16830727749129074, 0.16830727749129074, 0.006233602870047805, 0.6576451027900434, 0.9781038767431147, 0.022331138738427275, 0.9897644650961986, 0.9928019848388153, 0.7837916073691379, 0.09197554576270496, 0.12296730574796423, 0.00099973419307288, 0.9922229603802054, 0.9937004522815449, 0.9965016479647835, 0.0014917689340790171, 0.0014917689340790171, 0.27787354210955895, 0.7075483711123028, 0.012864515838405506, 0.9949417658967797, 0.8809930058490469, 0.11294782126269833, 0.9802145779686346, 0.09835869195879698, 0.893424785292406, 0.005464371775488722, 0.002732185887744361, 0.005214327376725807, 0.9868114560453589, 0.006517909220907258, 0.11768038606985064, 0.49787855644936807, 0.3801981703795174, 0.00528169470660087, 0.9929586048409635, 0.9803652461532046, 0.008792513418414392, 0.008792513418414392, 0.8163580214017119, 0.16391440587199727, 0.01607003979137228, 0.8939977653401782, 0.1056542813583847, 0.8780054335884053, 0.005164737844637678, 0.11620660150434776, 0.06077446703164549, 0.19070608620274965, 0.08801819363203829, 0.6601364522402873, 0.01345192050323124, 0.01345192050323124, 0.9819901967358805, 0.9843802320141627, 0.009286605962397762, 0.9919586883568627, 0.10882126827815437, 0.8882168383784492, 0.002941115358869037, 0.9797061283274113, 0.011260989980774842, 0.9915823292316549, 0.9919119379789775, 0.006238439861503003, 0.24298661448205636, 0.22453193490114068, 0.5321099279164019, 0.01012025652503619, 0.9816648829285104, 0.9941084967896091, 0.9710366390186704, 0.02258224741903885, 0.43801581930083733, 0.2572960057431492, 0.3032417210544258, 0.0010210158958061477, 0.8411870280088337, 0.15397999834737974, 0.0028514814508774026, 0.0028514814508774026, 0.01735121667099412, 0.9716681335756708, 0.6448151679304903, 0.2855843827509405, 0.009001226963496693, 0.060553708663523206, 0.9883935156338024, 0.9850675731800967, 0.9835134504152432, 0.03067088427231554, 0.9661328545779395, 0.009239975064501128, 0.9794373568371196, 0.07060349563811212, 0.9259607876216774, 0.0008115344326219784, 0.0024346032978659355, 0.4410621908961136, 0.44917537500958726, 0.10915920443582745, 0.0007375621921339693, 0.03204419784619508, 0.9228728979704184, 0.008545119425652023, 0.03631675755902109, 0.978173167059071, 0.012703547624143779, 0.9947845999173704, 0.014096472629095969, 0.9839337895108986, 0.0028192945258191937, 0.9911468197743933, 0.9808137674344077, 0.00780655222846135, 0.720804989094598, 0.27140779914283963, 0.00026021840761537835, 0.5293435222709411, 0.03378788440027283, 0.43248492032349223, 0.004505051253369711, 0.001385357472573817, 0.004617858241912723, 0.993763093659618, 0.00046178582419127234, 0.9970098484041077, 0.9070827149676105, 0.08021819928284991, 0.012341261428130756, 0.9948041228596152, 0.046520318644614936, 0.7546629469015311, 0.051689242938461034, 0.14731434237461397, 0.993392042898197, 0.97455645385274, 0.003566576758352419, 0.995074915580325, 0.019380892540271175, 0.03876178508054235, 0.9380351989491249, 0.2639985826370158, 0.6775184864135804, 0.0023362706428054496, 0.058406766070136236, 0.9835954099045464, 0.5299107521026132, 0.4451250317661951, 0.016654337923224988, 0.007570153601465903, 0.9860259816747059, 0.7482588575993715, 0.24815673505194347, 0.0037886524435411214, 0.9914960656432209, 0.012305639009175879, 0.9106172866790151, 0.07383383405505528, 0.00403620969814133, 0.9929075857427672], \"Term\": [\"additional\", \"agad\", \"akala\", \"almost\", \"amazing\", \"amazing\", \"amazing\", \"amount\", \"applications\", \"applications\", \"apps\", \"apps\", \"apps\", \"apps\", \"atm\", \"awesome\", \"awesome\", \"awsome\", \"ayos\", \"babayad\", \"bahay\", \"bahay\", \"balik_bayad\", \"banks\", \"banks\", \"basta\", \"bayad\", \"bayaran\", \"best\", \"best\", \"best\", \"best\", \"better\", \"better\", \"better\", \"better\", \"big\", \"big\", \"big\", \"big\", \"bills\", \"bills\", \"bills\", \"bills\", \"buhay\", \"buti\", \"buy\", \"buy\", \"buy\", \"buy\", \"buy_load\", \"buy_load\", \"call\", \"card\", \"card\", \"card\", \"cash\", \"cash\", \"cash\", \"cash\", \"cashback\", \"cashback\", \"cashback\", \"click\", \"comfort\", \"convenient\", \"convenient\", \"convenient\", \"convinient\", \"convinient\", \"convinient\", \"cool\", \"cool\", \"course\", \"data\", \"data\", \"discount\", \"discounted\", \"download\", \"download\", \"download\", \"easily\", \"easily\", \"easily\", \"easy\", \"easy\", \"easy\", \"enjoy\", \"enjoy\", \"ever\", \"ever\", \"ever\", \"every\", \"every\", \"everything\", \"everything\", \"everything\", \"everything\", \"ewallet\", \"ewallet\", \"ewallet\", \"excelent\", \"excellent\", \"excellent\", \"fact\", \"fact\", \"fantastic\", \"far\", \"far\", \"fast\", \"fast\", \"fast\", \"feature\", \"feature\", \"feature\", \"feature\", \"features\", \"features\", \"features\", \"features\", \"feel\", \"feel\", \"feel\", \"finances\", \"finances\", \"financial\", \"fine\", \"first_time\", \"foods\", \"free\", \"free\", \"free\", \"functionality\", \"galing\", \"galing\", \"galing\", \"galing\", \"games\", \"games\", \"gamit\", \"gamit\", \"gamitin\", \"gamitin\", \"gamitin\", \"gamitin\", \"gawin\", \"ginagamit\", \"ginagamit\", \"ginagamit\", \"give\", \"give\", \"give\", \"giving\", \"go\", \"go\", \"go\", \"go\", \"good\", \"good\", \"good\", \"great\", \"great\", \"great\", \"grocery\", \"haha\", \"handy\", \"happy\", \"happy\", \"happy\", \"hassle\", \"hassle\", \"hassle\", \"hassle\", \"hassle_free\", \"hassle_free\", \"hassle_free\", \"helpful\", \"helpful\", \"helpful\", \"helpfull\", \"helps\", \"helps\", \"helps\", \"helps\", \"highly_recommend\", \"highly_recommend\", \"highly_recommend\", \"highly_recommend\", \"hirap\", \"home\", \"hope\", \"hope\", \"hope\", \"hope\", \"ibang\", \"ibang\", \"id\", \"instant\", \"instant\", \"instead\", \"inyo\", \"issues\", \"issues\", \"job\", \"job\", \"job\", \"job\", \"layout\", \"layout\", \"life_easier\", \"life_easier\", \"limit\", \"load\", \"load\", \"load\", \"load\", \"lot\", \"lot\", \"lot\", \"lot\", \"lots\", \"lots\", \"love\", \"love\", \"love\", \"lumabas\", \"lumabas\", \"lumabas\", \"mabilis\", \"mabilis\", \"madali\", \"madali\", \"made\", \"maganda\", \"maganda\", \"maganda\", \"maganda\", \"magbayad\", \"magbayad\", \"magbayad\", \"mahirap\", \"make\", \"make\", \"make\", \"malaking_tulong\", \"malaking_tulong\", \"mall\", \"mas\", \"mas\", \"mas\", \"mas\", \"mas_madali\", \"meron\", \"meron\", \"meron\", \"mobile\", \"mobile\", \"mobile\", \"money\", \"money\", \"money\", \"money\", \"monthly\", \"much\", \"much\", \"much\", \"much\", \"nagagamit\", \"nagagamit\", \"nagamit\", \"nc\", \"need\", \"need\", \"need\", \"need\", \"needed\", \"never\", \"never\", \"never\", \"nice\", \"nice\", \"nitong\", \"nitong\", \"nothing\", \"nya\", \"nya\", \"nya\", \"ok\", \"okay\", \"okay\", \"one\", \"one\", \"one\", \"one\", \"online\", \"online\", \"online\", \"online\", \"options\", \"options\", \"oras\", \"oras\", \"padala\", \"padala\", \"pagbabayad\", \"pagbabayad\", \"pagbabayad\", \"pala\", \"pala\", \"pandemic\", \"pandemic\", \"pandemic\", \"pandemic\", \"pang\", \"pang\", \"pang\", \"partner\", \"partner\", \"pati\", \"pati\", \"pay\", \"pay\", \"pay\", \"paying\", \"paying\", \"paying\", \"paying_bills\", \"paying_bills\", \"paying_bills\", \"paying_bills\", \"payment\", \"payment\", \"payment\", \"payment\", \"payments\", \"payments\", \"payments\", \"pera\", \"pera\", \"pera\", \"perfect\", \"perfect\", \"perfect\", \"person\", \"phone\", \"phone\", \"phone\", \"possible\", \"provide\", \"provide\", \"pwede\", \"pwede\", \"pwede\", \"pwede\", \"qr_code\", \"qr_code\", \"quick\", \"rate\", \"really\", \"really\", \"really\", \"really\", \"received\", \"right\", \"satisfied\", \"satisfied\", \"satisfied\", \"save\", \"save\", \"save\", \"say\", \"scan\", \"scan\", \"seamless\", \"send_money\", \"send_money\", \"send_money\", \"send_money\", \"service\", \"service\", \"service\", \"services\", \"services\", \"services\", \"shop\", \"shop\", \"shopping\", \"shopping\", \"shopping\", \"simple\", \"simple\", \"simple\", \"since\", \"since\", \"smooth\", \"smooth\", \"smooth\", \"sobrang\", \"sobrang\", \"sobrang\", \"sobrang\", \"sobrang_bilis\", \"sobrang_bilis\", \"sobrang_bilis\", \"sometimes\", \"sometimes\", \"spend\", \"stars\", \"stars\", \"stars\", \"stay\", \"stay\", \"stress\", \"sulit\", \"sulit\", \"super\", \"super\", \"super\", \"superb\", \"superb\", \"talagang\", \"team\", \"team\", \"thanks\", \"thanks\", \"thanks\", \"thanks\", \"things\", \"things\", \"things\", \"things\", \"thumbs\", \"thumbs\", \"time\", \"time\", \"time\", \"time\", \"tindahan\", \"tipid\", \"tnx\", \"tong\", \"tong\", \"transact\", \"transact\", \"transaction\", \"transaction\", \"transaction\", \"transaction\", \"transactions\", \"transactions\", \"transactions\", \"transactions\", \"transfer\", \"transfer\", \"transfer\", \"transfer\", \"transfer_funds\", \"transfer_funds\", \"tried\", \"try\", \"try\", \"try\", \"trying\", \"updates\", \"use\", \"use\", \"use\", \"use\", \"used\", \"used\", \"used\", \"used\", \"useful\", \"useful\", \"useful\", \"useful\", \"usefull\", \"user\", \"user\", \"user\", \"user_friendly\", \"users\", \"users\", \"users\", \"users\", \"verry\", \"verygood\", \"vouchers\", \"vouchers\", \"wala\", \"wala\", \"wala\", \"want\", \"want\", \"want\", \"want\", \"water\", \"way\", \"way\", \"way\", \"way\", \"ways\", \"well\", \"well\", \"well\", \"whenever\", \"wonderful\", \"wonderful\", \"wonderful\", \"wow\", \"wow\"]}, \"R\": 30, \"lambda.step\": 0.01, \"plot.opts\": {\"xlab\": \"PC1\", \"ylab\": \"PC2\"}, \"topic.order\": [3, 2, 1, 4]};\n",
       "\n",
       "function LDAvis_load_lib(url, callback){\n",
       "  var s = document.createElement('script');\n",
       "  s.src = url;\n",
       "  s.async = true;\n",
       "  s.onreadystatechange = s.onload = callback;\n",
       "  s.onerror = function(){console.warn(\"failed to load library \" + url);};\n",
       "  document.getElementsByTagName(\"head\")[0].appendChild(s);\n",
       "}\n",
       "\n",
       "if(typeof(LDAvis) !== \"undefined\"){\n",
       "   // already loaded: just create the visualization\n",
       "   !function(LDAvis){\n",
       "       new LDAvis(\"#\" + \"ldavis_el579557566916165553699857\", ldavis_el579557566916165553699857_data);\n",
       "   }(LDAvis);\n",
       "}else if(typeof define === \"function\" && define.amd){\n",
       "   // require.js is available: use it to load d3/LDAvis\n",
       "   require.config({paths: {d3: \"https://d3js.org/d3.v5\"}});\n",
       "   require([\"d3\"], function(d3){\n",
       "      window.d3 = d3;\n",
       "      LDAvis_load_lib(\"https://cdn.jsdelivr.net/gh/bmabey/pyLDAvis@3.3.1/pyLDAvis/js/ldavis.v3.0.0.js\", function(){\n",
       "        new LDAvis(\"#\" + \"ldavis_el579557566916165553699857\", ldavis_el579557566916165553699857_data);\n",
       "      });\n",
       "    });\n",
       "}else{\n",
       "    // require.js not available: dynamically load d3 & LDAvis\n",
       "    LDAvis_load_lib(\"https://d3js.org/d3.v5.js\", function(){\n",
       "         LDAvis_load_lib(\"https://cdn.jsdelivr.net/gh/bmabey/pyLDAvis@3.3.1/pyLDAvis/js/ldavis.v3.0.0.js\", function(){\n",
       "                 new LDAvis(\"#\" + \"ldavis_el579557566916165553699857\", ldavis_el579557566916165553699857_data);\n",
       "            })\n",
       "         });\n",
       "}\n",
       "</script>"
      ],
      "text/plain": [
       "PreparedData(topic_coordinates=              x         y  topics  cluster       Freq\n",
       "topic                                                \n",
       "2      0.077252 -0.132623       1        1  35.575981\n",
       "1     -0.018948 -0.185914       2        1  29.031299\n",
       "0     -0.294838  0.129141       3        1  19.338868\n",
       "3      0.236534  0.189396       4        1  16.053852, topic_info=            Term         Freq        Total Category  logprob  loglift\n",
       "0           good  5155.000000  5155.000000  Default  30.0000  30.0000\n",
       "62          nice  3652.000000  3652.000000  Default  29.0000  29.0000\n",
       "2          great  2632.000000  2632.000000  Default  28.0000  28.0000\n",
       "37        useful  2165.000000  2165.000000  Default  27.0000  27.0000\n",
       "1     convenient  2512.000000  2512.000000  Default  26.0000  26.0000\n",
       "...          ...          ...          ...      ...      ...      ...\n",
       "1116         mas   151.603071   356.217012   Topic4  -5.5024   0.9749\n",
       "2385        pala   101.804876   141.606244   Topic4  -5.9006   1.4992\n",
       "120        bills   218.257544  1973.931053   Topic4  -5.1380  -0.3729\n",
       "921     services   126.278917   331.406119   Topic4  -5.6852   0.8644\n",
       "1666     feature    96.420333   427.667910   Topic4  -5.9549   0.3396\n",
       "\n",
       "[268 rows x 6 columns], token_table=      Topic      Freq        Term\n",
       "term                             \n",
       "251       1  0.991748  additional\n",
       "1512      4  0.992173        agad\n",
       "4697      4  0.987651       akala\n",
       "496       2  0.991208      almost\n",
       "94        1  0.001299     amazing\n",
       "...     ...       ...         ...\n",
       "950       1  0.012306   wonderful\n",
       "950       3  0.910617   wonderful\n",
       "950       4  0.073834   wonderful\n",
       "676       2  0.004036         wow\n",
       "676       3  0.992908         wow\n",
       "\n",
       "[511 rows x 3 columns], R=30, lambda_step=0.01, plot_opts={'xlab': 'PC1', 'ylab': 'PC2'}, topic_order=[3, 2, 1, 4])"
      ]
     },
     "execution_count": 585,
     "metadata": {},
     "output_type": "execute_result"
    }
   ],
   "source": [
    "paymaya_good_ps_visual = gensimvis.prepare(paymaya_good_ps_final, paymaya_good_corpus_ps, paymaya_good_dict_ps)\n",
    "print(paymaya_good_ps_final.print_topics())\n",
    "paymaya_good_ps_visual"
   ]
  },
  {
   "cell_type": "code",
   "execution_count": 586,
   "id": "legislative-escape",
   "metadata": {},
   "outputs": [
    {
     "name": "stdout",
     "output_type": "stream",
     "text": [
      "[(0, '0.015*\"money\" + 0.015*\"upgrade\" + 0.012*\"use\" + 0.009*\"customer_service\" + 0.007*\"email\" + 0.007*\"error\" + 0.007*\"get\" + 0.007*\"tried\" + 0.006*\"already\" + 0.006*\"service\"'), (1, '0.007*\"upgrade\" + 0.007*\"id\" + 0.005*\"student_id\" + 0.003*\"secondary_id\" + 0.003*\"primary_id\" + 0.003*\"list\" + 0.002*\"sss\" + 0.002*\"voters_id\" + 0.002*\"philhealth\" + 0.002*\"verify\"'), (2, '0.012*\"wala\" + 0.011*\"pera\" + 0.008*\"load\" + 0.006*\"upgrade\" + 0.005*\"hirap\" + 0.005*\"ayaw\" + 0.004*\"id\" + 0.003*\"apps\" + 0.003*\"ok\" + 0.003*\"error\"')]\n"
     ]
    },
    {
     "data": {
      "text/html": [
       "\n",
       "<link rel=\"stylesheet\" type=\"text/css\" href=\"https://cdn.jsdelivr.net/gh/bmabey/pyLDAvis@3.3.1/pyLDAvis/js/ldavis.v1.0.0.css\">\n",
       "\n",
       "\n",
       "<div id=\"ldavis_el579560047325285495077241\"></div>\n",
       "<script type=\"text/javascript\">\n",
       "\n",
       "var ldavis_el579560047325285495077241_data = {\"mdsDat\": {\"x\": [0.1827420381972631, -0.12884555376318502, -0.0538964844340781], \"y\": [-0.015796602526071367, -0.04987499801965297, 0.06567160054572439], \"topics\": [1, 2, 3], \"cluster\": [1, 1, 1], \"Freq\": [76.28427952143436, 16.748016780497693, 6.96770369806794]}, \"tinfo\": {\"Term\": [\"wala\", \"pera\", \"id\", \"upgrade\", \"load\", \"hirap\", \"use\", \"ayaw\", \"money\", \"verify\", \"option\", \"student_id\", \"upgraded\", \"ok\", \"always\", \"bulok\", \"ids\", \"wag\", \"sss\", \"apps\", \"nalang\", \"tried\", \"get\", \"already\", \"company\", \"pumasok\", \"acc\", \"pwede\", \"add\", \"inyo\", \"always\", \"sucks\", \"poor_customer\", \"anymore\", \"trying\", \"response\", \"get\", \"service\", \"server\", \"used\", \"use\", \"good\", \"tried\", \"better\", \"got\", \"customer_support\", \"working\", \"register\", \"never\", \"problem\", \"receive\", \"says\", \"slow\", \"many_times\", \"access\", \"back\", \"getting\", \"sent\", \"always_says\", \"already\", \"money\", \"fix\", \"time\", \"worst\", \"support\", \"one\", \"useless\", \"issue\", \"customer_service\", \"log\", \"since\", \"email\", \"need\", \"card\", \"upgrade\", \"error\", \"reply\", \"update\", \"transaction\", \"send\", \"load\", \"try\", \"number\", \"wla\", \"kaso\", \"aq\", \"pera\", \"pumasok\", \"problema\", \"nyu\", \"dati\", \"lagi\", \"ngaun\", \"hnd\", \"nako\", \"tong\", \"alam\", \"hirap\", \"daming\", \"nakaka\", \"pala\", \"pangit\", \"nman\", \"laman\", \"kelan\", \"yong\", \"kc\", \"ganito\", \"nawala\", \"serbisyo\", \"saka\", \"laging\", \"kau\", \"wala\", \"ayaw\", \"nung\", \"wag\", \"sayang\", \"magamit\", \"nalang\", \"inyo\", \"dumating\", \"bulok\", \"tagal\", \"gamitin\", \"sobrang\", \"makapag\", \"pwede\", \"ok\", \"load\", \"parin\", \"id\", \"upgrade\", \"apps\", \"error\", \"number\", \"primary_id\", \"secondary_id\", \"student_id\", \"ads\", \"secondary\", \"verifying\", \"tin_id\", \"yrs\", \"choices\", \"philhealth\", \"school_id\", \"list\", \"legal_age\", \"bullsht\", \"qr\", \"buggy\", \"tin\", \"maupgrade\", \"encash\", \"disregard\", \"consent\", \"primary\", \"standard\", \"gagawan\", \"ffs\", \"kahet\", \"secondary_ids\", \"senior\", \"emoney\", \"scanner\", \"voters_id\", \"fake\", \"sss_contribution\", \"philhealth_id\", \"wow\", \"police_clearance\", \"sss\", \"minor\", \"id\", \"tinatanggap\", \"student\", \"verify\", \"upgrade\", \"option\", \"pwede\", \"company\", \"upgraded\", \"acc\", \"valid_ids\", \"ids\", \"add\", \"available\", \"need\", \"money\", \"pay\"], \"Freq\": [212.0, 199.0, 334.0, 1263.0, 569.0, 88.0, 945.0, 84.0, 1190.0, 111.0, 112.0, 41.0, 182.0, 88.0, 457.0, 57.0, 154.0, 52.0, 54.0, 275.0, 51.0, 505.0, 512.0, 488.0, 71.0, 43.0, 87.0, 50.0, 90.0, 46.0, 456.29190432764284, 271.75294754540533, 211.914331718537, 191.03977077601854, 194.56027442615266, 470.16483581961074, 508.5788573595215, 470.8280119025871, 270.2102738256999, 254.67860572034175, 936.613181333908, 301.7543560632622, 500.8349244704495, 164.2224109415616, 243.4523081771543, 184.2252790256546, 175.16148910359448, 396.9380342552771, 192.53853598104996, 326.05737382608027, 209.79856427768135, 260.9057038382872, 117.46095778207346, 118.2728847984779, 150.76281413730487, 270.482166816807, 91.51257417685919, 223.54329210971437, 85.12533652041002, 482.0411952944753, 1174.1059660941876, 463.57671803587124, 453.1391632470072, 335.32976901313936, 436.03912405664465, 290.3392926121695, 263.442079807858, 250.31561076325823, 658.4682973369523, 354.6029699664405, 281.4262180915459, 525.2003096680564, 454.1912332040048, 354.1580445094052, 1117.033108848212, 524.7955584666881, 278.1584052001846, 335.36470468745074, 319.36717449754445, 327.6869973775444, 437.1559329683692, 291.97735806669675, 305.51714410109776, 39.5534452855951, 27.097730383087374, 28.517899545505355, 188.36156552980142, 40.95124544902528, 30.452895668560046, 18.51655962564929, 29.514514801086, 26.777051724070187, 23.291756137207813, 29.85026543284484, 23.272029298948112, 30.303178408008012, 19.54185009619085, 81.57578772402024, 22.47501374425395, 18.296329700665922, 35.99584969027944, 22.151574415828943, 30.685258162475044, 30.420212528906422, 13.898515337221081, 17.04209794579921, 16.445107557579366, 17.108942669455054, 23.044824846748643, 16.828251947398606, 14.367828165168302, 32.80062255329304, 27.16274113635547, 192.5214610907413, 77.03523451276995, 35.09751115719289, 47.18614639566131, 30.9256714755498, 35.615631104913525, 45.09190763407671, 40.6969763342499, 28.46568190135092, 47.53383143429718, 38.0530204910609, 35.16715929109186, 30.81762652942268, 37.169225498570384, 37.45497906684554, 50.20894534642541, 130.41155162815264, 32.458915403304516, 63.05570975051904, 95.45459176510356, 52.57224932286278, 48.815547489031914, 41.501098524196564, 21.1358765815787, 21.345907244413024, 34.05294581901925, 6.862055073933126, 8.213187570266696, 6.416734671154792, 13.890933292849303, 4.80666864873289, 10.869119535869139, 16.107311327223226, 13.915879172436302, 18.859345224810305, 3.5948795488054377, 2.9810910068297773, 4.529288798873356, 3.062619757052707, 5.568888770971138, 4.820836088155541, 2.839796895014665, 3.1384836733735053, 3.8413280113251997, 12.350297301380701, 2.467462830543922, 2.3380469873550553, 2.7642619371241386, 2.166323412488129, 12.640062799853219, 2.6807869168764067, 2.638843706702162, 2.443171028622026, 16.16118776713737, 8.460919940566523, 5.522866920799943, 10.313555625737, 5.123234156126668, 3.914002364487619, 16.291389028887952, 4.805159238736495, 46.52588561251932, 4.078353875859436, 11.031995987940597, 15.774316488104299, 51.0504946342151, 14.918549317414799, 9.221185710263256, 10.634943970854197, 15.155312096029986, 11.15733157462917, 7.7704984308047, 11.651208100694467, 9.278251511272865, 8.079068712664698, 8.965335260175591, 9.054925916695193, 7.903189915954953], \"Total\": [212.0, 199.0, 334.0, 1263.0, 569.0, 88.0, 945.0, 84.0, 1190.0, 111.0, 112.0, 41.0, 182.0, 88.0, 457.0, 57.0, 154.0, 52.0, 54.0, 275.0, 51.0, 505.0, 512.0, 488.0, 71.0, 43.0, 87.0, 50.0, 90.0, 46.0, 457.8514967665882, 273.0847255622044, 213.20562087556956, 192.39140627850406, 196.10137884545193, 474.23972970733723, 512.9943714892516, 474.9586597984877, 272.5852508802782, 256.9440917777587, 945.1270869110965, 304.53523260611615, 505.51253800431783, 165.81001995354623, 245.84591982875983, 186.10009451267476, 176.94644614105206, 401.03983329143955, 194.58992073661477, 329.57884699248245, 212.1062989636151, 263.9402118243798, 118.8407833672284, 119.66714402514917, 152.61956373441316, 273.85577699757334, 92.66964878760542, 226.38024667736735, 86.2126486154243, 488.2445589759664, 1190.6524274272974, 470.6364785188459, 460.06373813188924, 339.66803395455827, 443.55357588795755, 294.53943470970256, 266.9938559544808, 253.71244148843562, 674.4478059317191, 361.1319041839947, 286.43607983645336, 554.9844459208758, 477.142351844656, 367.5093557902056, 1263.5381952475304, 574.9746362244417, 285.59370552205877, 358.6754240962074, 338.6001115836997, 354.5975331675892, 569.0339799652645, 310.71858259854446, 354.5192925798912, 41.61119576995724, 28.627431963486735, 30.146508123171998, 199.5823317273355, 43.44144076403692, 32.69112967738267, 19.881677784364726, 31.73343221487992, 28.841739275265414, 25.091481035266042, 32.2806119807334, 25.17079322140253, 32.86833376938452, 21.24180196750103, 88.73853959622346, 24.46207202619646, 19.91554685319881, 39.19952834653501, 24.16751393540455, 33.52850927965755, 33.239262414375425, 15.197342133576665, 18.66322126127024, 18.033844439343017, 18.768160728559415, 25.292331107946687, 18.471560371500107, 15.777412867420114, 36.110732430987824, 29.906086474857887, 212.07810102300192, 84.94895937563048, 38.69123903488285, 52.1747799858427, 34.164099844831675, 40.115755284448845, 51.329036095711004, 46.4572920282472, 31.782681480169416, 57.765356103221244, 44.813357372598, 41.28718600788091, 35.663239776404765, 46.322121331768095, 50.307491633452706, 88.248277847266, 569.0339799652645, 41.43136310565478, 334.8254619453487, 1263.5381952475304, 275.03433760991277, 574.9746362244417, 354.5192925798912, 24.256305665667337, 24.968695765484814, 41.66158449041641, 8.50202767216282, 10.303704290067872, 8.1347331400109, 18.865687255986092, 6.931137262821715, 16.13494012606474, 24.00686599515486, 20.743305311464724, 28.241292709478312, 5.451863114778801, 4.545043576433697, 6.913374488530455, 4.7203654781351805, 8.634940429257083, 7.490899961664437, 4.428781515165072, 4.911999160532651, 6.157281379879712, 19.847412663073108, 3.966557334804581, 3.8140250117486136, 4.511151683475337, 3.540507726943529, 20.704850870953493, 4.409287650639849, 4.411662609763034, 4.132635740176434, 28.096843187725415, 18.618337678925997, 11.170408877326668, 25.69242622619189, 10.461020081733814, 7.317164026269962, 54.81867828174251, 9.83689896789453, 334.8254619453487, 7.9797229510289505, 52.39752426296773, 111.12184628331208, 1263.5381952475304, 112.41039409656561, 50.307491633452706, 71.49926333736515, 182.31794061156606, 87.7857455163843, 34.35161151602739, 154.55818445164897, 90.82627945599471, 67.51372298293047, 477.142351844656, 1190.6524274272974, 217.0875118585915], \"Category\": [\"Default\", \"Default\", \"Default\", \"Default\", \"Default\", \"Default\", \"Default\", \"Default\", \"Default\", \"Default\", \"Default\", \"Default\", \"Default\", \"Default\", \"Default\", \"Default\", \"Default\", \"Default\", \"Default\", \"Default\", \"Default\", \"Default\", \"Default\", \"Default\", \"Default\", \"Default\", \"Default\", \"Default\", \"Default\", \"Default\", \"Topic1\", \"Topic1\", \"Topic1\", \"Topic1\", \"Topic1\", \"Topic1\", \"Topic1\", \"Topic1\", \"Topic1\", \"Topic1\", \"Topic1\", \"Topic1\", \"Topic1\", \"Topic1\", \"Topic1\", \"Topic1\", \"Topic1\", \"Topic1\", \"Topic1\", \"Topic1\", \"Topic1\", \"Topic1\", \"Topic1\", \"Topic1\", \"Topic1\", \"Topic1\", \"Topic1\", \"Topic1\", \"Topic1\", \"Topic1\", \"Topic1\", \"Topic1\", \"Topic1\", \"Topic1\", \"Topic1\", \"Topic1\", \"Topic1\", \"Topic1\", \"Topic1\", \"Topic1\", \"Topic1\", \"Topic1\", \"Topic1\", \"Topic1\", \"Topic1\", \"Topic1\", \"Topic1\", \"Topic1\", \"Topic1\", \"Topic1\", \"Topic1\", \"Topic1\", \"Topic1\", \"Topic2\", \"Topic2\", \"Topic2\", \"Topic2\", \"Topic2\", \"Topic2\", \"Topic2\", \"Topic2\", \"Topic2\", \"Topic2\", \"Topic2\", \"Topic2\", \"Topic2\", \"Topic2\", \"Topic2\", \"Topic2\", \"Topic2\", \"Topic2\", \"Topic2\", \"Topic2\", \"Topic2\", \"Topic2\", \"Topic2\", \"Topic2\", \"Topic2\", \"Topic2\", \"Topic2\", \"Topic2\", \"Topic2\", \"Topic2\", \"Topic2\", \"Topic2\", \"Topic2\", \"Topic2\", \"Topic2\", \"Topic2\", \"Topic2\", \"Topic2\", \"Topic2\", \"Topic2\", \"Topic2\", \"Topic2\", \"Topic2\", \"Topic2\", \"Topic2\", \"Topic2\", \"Topic2\", \"Topic2\", \"Topic2\", \"Topic2\", \"Topic2\", \"Topic2\", \"Topic2\", \"Topic3\", \"Topic3\", \"Topic3\", \"Topic3\", \"Topic3\", \"Topic3\", \"Topic3\", \"Topic3\", \"Topic3\", \"Topic3\", \"Topic3\", \"Topic3\", \"Topic3\", \"Topic3\", \"Topic3\", \"Topic3\", \"Topic3\", \"Topic3\", \"Topic3\", \"Topic3\", \"Topic3\", \"Topic3\", \"Topic3\", \"Topic3\", \"Topic3\", \"Topic3\", \"Topic3\", \"Topic3\", \"Topic3\", \"Topic3\", \"Topic3\", \"Topic3\", \"Topic3\", \"Topic3\", \"Topic3\", \"Topic3\", \"Topic3\", \"Topic3\", \"Topic3\", \"Topic3\", \"Topic3\", \"Topic3\", \"Topic3\", \"Topic3\", \"Topic3\", \"Topic3\", \"Topic3\", \"Topic3\", \"Topic3\", \"Topic3\", \"Topic3\", \"Topic3\", \"Topic3\", \"Topic3\", \"Topic3\"], \"logprob\": [30.0, 29.0, 28.0, 27.0, 26.0, 25.0, 24.0, 23.0, 22.0, 21.0, 20.0, 19.0, 18.0, 17.0, 16.0, 15.0, 14.0, 13.0, 12.0, 11.0, 10.0, 9.0, 8.0, 7.0, 6.0, 5.0, 4.0, 3.0, 2.0, 1.0, -5.1155, -5.6338, -5.8825, -5.9862, -5.9679, -5.0856, -5.007, -5.0842, -5.6394, -5.6986, -4.3964, -5.529, -5.0224, -6.1374, -5.7437, -6.0225, -6.0729, -5.2549, -5.9783, -5.4516, -5.8925, -5.6745, -6.4725, -6.4657, -6.2229, -5.6384, -6.7222, -5.829, -6.7945, -5.0606, -4.1704, -5.0997, -5.1224, -5.4235, -5.1609, -5.5676, -5.6648, -5.7159, -4.7487, -5.3676, -5.5988, -4.9749, -5.1201, -5.3689, -4.2202, -4.9756, -5.6105, -5.4234, -5.4723, -5.4466, -5.1584, -5.562, -5.5166, -6.0448, -6.423, -6.3719, -4.4841, -6.0101, -6.3063, -6.8038, -6.3376, -6.4349, -6.5744, -6.3263, -6.5752, -6.3112, -6.7499, -5.3209, -6.6101, -6.8158, -6.1391, -6.6246, -6.2987, -6.3074, -7.0907, -6.8868, -6.9224, -6.8829, -6.585, -6.8994, -7.0575, -6.232, -6.4206, -4.4623, -5.3782, -6.1643, -5.8684, -6.2909, -6.1497, -5.9138, -6.0163, -6.3738, -5.861, -6.0835, -6.1623, -6.2944, -6.107, -6.0993, -5.8063, -4.8518, -6.2425, -5.5784, -5.1638, -5.7603, -5.8344, -5.9967, -5.7945, -5.7846, -5.3175, -6.9195, -6.7397, -6.9866, -6.2142, -7.2755, -6.4595, -6.0662, -6.2124, -5.9085, -7.566, -7.7532, -7.3349, -7.7262, -7.1283, -7.2725, -7.8017, -7.7017, -7.4996, -6.3318, -7.9423, -7.9961, -7.8287, -8.0724, -6.3086, -7.8594, -7.8751, -7.9522, -6.0629, -6.71, -7.1366, -6.512, -7.2117, -7.4809, -6.0548, -7.2758, -5.0055, -7.4398, -6.4447, -6.0871, -4.9126, -6.1429, -6.624, -6.4813, -6.1271, -6.4334, -6.7951, -6.3901, -6.6178, -6.7562, -6.6521, -6.6422, -6.7782], \"loglift\": [30.0, 29.0, 28.0, 27.0, 26.0, 25.0, 24.0, 23.0, 22.0, 21.0, 20.0, 19.0, 18.0, 17.0, 16.0, 15.0, 14.0, 13.0, 12.0, 11.0, 10.0, 9.0, 8.0, 7.0, 6.0, 5.0, 4.0, 3.0, 2.0, 1.0, 0.2673, 0.2658, 0.2646, 0.2637, 0.2628, 0.2621, 0.2621, 0.262, 0.262, 0.2618, 0.2617, 0.2615, 0.2614, 0.2611, 0.2609, 0.2606, 0.2606, 0.2604, 0.2601, 0.26, 0.2598, 0.2591, 0.259, 0.259, 0.2585, 0.2583, 0.2581, 0.2581, 0.258, 0.2579, 0.2567, 0.2556, 0.2555, 0.2578, 0.2536, 0.2563, 0.2573, 0.2572, 0.2467, 0.2525, 0.2531, 0.2155, 0.2214, 0.2337, 0.1475, 0.1794, 0.2443, 0.2035, 0.2122, 0.1918, 0.0071, 0.2085, 0.1219, 1.7362, 1.732, 1.7314, 1.729, 1.7279, 1.716, 1.7158, 1.7144, 1.7126, 1.7125, 1.7086, 1.7085, 1.7056, 1.7035, 1.7027, 1.7022, 1.7021, 1.7016, 1.6998, 1.6983, 1.6983, 1.6976, 1.696, 1.6947, 1.6943, 1.6938, 1.6937, 1.6933, 1.6907, 1.6907, 1.6901, 1.6891, 1.6894, 1.6864, 1.6873, 1.6679, 1.6573, 1.6545, 1.6767, 1.5919, 1.6234, 1.6265, 1.6409, 1.5668, 1.4919, 1.2229, 0.3136, 1.5428, 0.1173, -0.7961, 0.1322, -0.6794, -0.3582, 2.5262, 2.5071, 2.4622, 2.4496, 2.4371, 2.4267, 2.3578, 2.2979, 2.2688, 2.2648, 2.2647, 2.2601, 2.2474, 2.2421, 2.241, 2.2313, 2.2253, 2.2231, 2.2195, 2.2159, 2.1921, 2.1895, 2.1892, 2.1745, 2.1741, 2.1726, 2.1704, 2.1663, 2.15, 2.1383, 2.1108, 1.8752, 1.9595, 1.7511, 1.95, 2.0382, 1.4505, 1.9474, 0.6903, 1.9927, 1.1058, 0.7116, -0.545, 0.6443, 0.9672, 0.7583, 0.1765, 0.6011, 1.1776, 0.0787, 0.3826, 0.5408, -1.3106, -2.2151, -0.6491]}, \"token.table\": {\"Topic\": [1, 2, 3, 1, 2, 3, 1, 2, 3, 1, 2, 3, 1, 2, 3, 1, 2, 3, 1, 2, 3, 1, 2, 1, 2, 3, 1, 2, 3, 1, 2, 1, 2, 3, 1, 2, 3, 1, 2, 3, 1, 2, 3, 1, 2, 3, 1, 2, 3, 1, 2, 3, 1, 2, 3, 1, 2, 3, 1, 2, 3, 1, 2, 3, 1, 2, 3, 1, 2, 3, 1, 2, 1, 2, 1, 2, 3, 1, 2, 3, 1, 2, 3, 1, 2, 3, 1, 2, 3, 1, 2, 3, 1, 2, 3, 1, 2, 3, 1, 2, 3, 1, 2, 3, 1, 2, 3, 1, 2, 1, 2, 3, 1, 2, 3, 1, 2, 3, 1, 2, 3, 1, 2, 3, 1, 2, 3, 1, 2, 3, 1, 2, 3, 1, 2, 3, 1, 2, 3, 1, 2, 3, 1, 2, 1, 2, 3, 1, 2, 3, 1, 2, 1, 2, 3, 1, 2, 3, 1, 2, 3, 1, 2, 3, 1, 2, 3, 1, 2, 3, 1, 2, 3, 1, 2, 3, 1, 2, 3, 1, 2, 3, 1, 2, 3, 1, 2, 3, 1, 2, 3, 1, 2, 1, 2, 1, 2, 3, 1, 2, 3, 1, 2, 3, 1, 2, 3, 1, 2, 1, 2, 3, 1, 2, 3, 1, 2, 3, 1, 2, 1, 2, 3, 1, 2, 3, 1, 2, 3, 1, 2, 3, 1, 2, 1, 2, 3, 1, 2, 3, 1, 2, 3, 1, 2, 3, 1, 2, 3, 1, 2, 3, 1, 2, 3, 1, 2, 3, 1, 2, 3, 1, 2, 3, 1, 2, 3, 1, 2, 3, 1, 2, 3, 1, 2, 3, 1, 2, 3, 1, 2, 3, 1, 2, 3, 1, 2, 3, 1, 2, 1, 2, 3, 1, 2, 3, 1, 2, 3, 1, 2, 3, 1, 2, 3, 1, 2, 3, 1, 2, 3, 1, 2, 3, 1, 2, 3, 1, 2, 3, 1, 2, 1, 2, 1, 2, 3, 1, 2, 3, 1, 2, 1, 2, 3, 1, 2, 3, 1, 2, 3, 1, 2, 3, 1, 2, 3, 1, 2, 3, 1, 2, 3, 1, 2, 3, 1, 2, 3, 1, 2, 3, 1, 2, 3, 1, 2, 3, 1, 2, 3, 1, 2, 3, 1, 2, 3, 1, 2, 3, 1, 2, 3, 1, 2, 3, 1, 2, 3, 1, 2, 3, 1, 2, 3, 1, 2, 3, 1, 2, 3, 1, 2, 3, 1, 2, 3, 1, 2, 3, 1, 2, 3, 1, 2, 3, 1, 2, 3, 1, 2, 3, 1, 2, 3, 1, 2, 3, 1, 2, 3, 1, 2, 3, 1, 2, 1, 2, 3], \"Freq\": [0.6948736339957947, 0.17087056573667084, 0.1253050815402253, 0.9893882298259513, 0.006552239932622194, 0.006552239932622194, 0.8697923164217628, 0.0330300879653834, 0.0990902638961502, 0.11761900085013618, 0.11761900085013618, 0.8233330059509533, 0.047076985348510146, 0.941539706970203, 0.047076985348510146, 0.9872101821491598, 0.0020481539048737753, 0.010240769524368878, 0.9959561194412081, 0.002184114297020193, 0.002184114297020193, 0.985934214585685, 0.011599226053949235, 0.9927678356044143, 0.005197737359185415, 0.005197737359185415, 0.7926283019584056, 0.19270321102658483, 0.018179548210055175, 0.033171337652580526, 0.9619687919248353, 0.859084604394638, 0.02962360704809096, 0.11849442819236385, 0.08240242201257744, 0.9064266421383519, 0.01177177457322535, 0.9859204102252423, 0.003651557074908305, 0.00730311414981661, 0.9890837721746049, 0.006030998610820761, 0.006030998610820761, 0.21184800300570333, 0.21184800300570333, 0.6355440090171101, 0.22001989269917135, 0.22001989269917135, 0.6600596780975141, 0.1731141409763136, 0.8309478766863053, 0.017311414097631362, 0.9632407840035576, 0.02448917247466672, 0.010884076655407431, 0.30988649235350363, 0.06197729847070072, 0.6817502831777079, 0.7972110108470459, 0.055944632340143574, 0.15384773893539483, 0.324818678343245, 0.1624093391716225, 0.64963735668649, 0.9756129298856607, 0.014826944223186334, 0.0088961665339118, 0.9887152420949914, 0.00537345240269017, 0.00537345240269017, 0.08175922292511435, 0.8993514521762579, 0.06302501369713777, 0.9453752054570667, 0.20358309668187347, 0.20358309668187347, 0.6107492900456204, 0.09439102870762586, 0.880982934604508, 0.03146367623587529, 0.9459724571719786, 0.04865001208313033, 0.005405556898125592, 0.22667191225978942, 0.22667191225978942, 0.6800157367793683, 0.2257957401095067, 0.2257957401095067, 0.6773872203285202, 0.913083755219884, 0.08522115048718917, 0.0017392071527997791, 0.4833943907992954, 0.05371048786658838, 0.42968390293270703, 0.22167288314934516, 0.22167288314934516, 0.6650186494480355, 0.9858989287448952, 0.008499128696076682, 0.006374346522057511, 0.26219020507721597, 0.26219020507721597, 0.5243804101544319, 0.12110294944890646, 0.8477206461423452, 0.02422058988978129, 0.053281726135172375, 0.9057893442979303, 0.992213615370368, 0.0019493391264643772, 0.005848017379393131, 0.9927738067817627, 0.010791019638932203, 0.010791019638932203, 0.9916750761991628, 0.003283692305295241, 0.003283692305295241, 0.9884239696524469, 0.004067588352479205, 0.00813517670495841, 0.056345304111955326, 0.9240629874360673, 0.022538121644782128, 0.06195669404265616, 0.9293504106398425, 0.03097834702132808, 0.671991904954723, 0.18815773338732245, 0.14037164236831992, 0.8928676309805584, 0.03235027648480284, 0.07764066356352682, 0.08610058454478792, 0.8825309915840761, 0.02152514613619698, 0.9853675229064207, 0.007882940183251365, 0.003941470091625683, 0.28244536578466556, 0.28244536578466556, 0.5648907315693311, 0.034931530053951894, 0.9431513114567012, 0.06687601875562703, 0.902826253200965, 0.033438009377813514, 0.055451293447911686, 0.887220695166587, 0.055451293447911686, 0.06580097961936532, 0.9212137146711145, 0.06934394562380618, 0.9361432659213834, 0.03467197281190309, 0.08307779427441356, 0.913855737018549, 0.027692598091471184, 0.06016980687077561, 0.9025471030616342, 0.030084903435387805, 0.1834235341106089, 0.1834235341106089, 0.7336941364424356, 0.17704571994758247, 0.17704571994758247, 0.6727737358008135, 0.7679681976578547, 0.22845735857098654, 0.0017573642966998964, 0.9830203199635595, 0.016614427943046076, 0.0027690713238410127, 0.09971144682774122, 0.897403021449671, 0.024927861706935305, 0.1511157045219201, 0.798754438187292, 0.04317591557769146, 0.9860684899039722, 0.00835651262630485, 0.00835651262630485, 0.13349530832311443, 0.26699061664622886, 0.6674765416155721, 0.4066322133687779, 0.10165805334219448, 0.5082902667109724, 0.9860140314304157, 0.005879129659295494, 0.007558880990522778, 0.05021202818939322, 0.9038165074090779, 0.03972858507890438, 0.9137574568148007, 0.09741075189249061, 0.8766967670324156, 0.03896430075699625, 0.07907535258272864, 0.9093665547013794, 0.03953767629136432, 0.9514980136322284, 0.02934134843799823, 0.018862295424427435, 0.9918293777468218, 0.005139012319931719, 0.005139012319931719, 0.03985416399273129, 0.9166457718328197, 0.05965072837918989, 0.9245862898774433, 0.029825364189594944, 0.8631406143603388, 0.11847028040239944, 0.02256576769569513, 0.07753693277424616, 0.9045975490328718, 0.02584564425808205, 0.050297565972345464, 0.9556537534745638, 0.41927163795804645, 0.5665832945379006, 0.011331665890758012, 0.9845880239629827, 0.0067902622342274664, 0.0067902622342274664, 0.8184296544763275, 0.044479872525887365, 0.1334396175776621, 0.0510210220469856, 0.9183783968457409, 0.0255105110234928, 0.08275571932411596, 0.9103129125652756, 0.16895413221498862, 0.7723617472685195, 0.04827260920428247, 0.8429780157930238, 0.11976736836403618, 0.036851497958164975, 0.05010463558298214, 0.9419671489600643, 0.005010463558298215, 0.1666189997814497, 0.1666189997814497, 0.6664759991257988, 0.46706371342098935, 0.15568790447366312, 0.3892197611841578, 0.4099949091245528, 0.13666496970818426, 0.546659878832737, 0.9943452669276802, 0.004690307862866416, 0.004690307862866416, 0.35269080755416427, 0.05038440107916632, 0.6046128129499958, 0.08245278681620605, 0.041226393408103024, 0.8657542615701636, 0.9891411508197792, 0.006068350618526252, 0.006068350618526252, 0.030589337531882515, 0.9176801259564754, 0.030589337531882515, 0.04603898868970534, 0.9437992681389593, 0.02301949434485267, 0.07951102052840459, 0.7354769398877424, 0.1788997961889103, 0.28929432411307593, 0.14464716205653796, 0.7232358102826898, 0.9900696067306496, 0.0047146171749078555, 0.0047146171749078555, 0.9899266034042464, 0.007480553678117731, 0.0024935178927059107, 0.9734108092187198, 0.021008866386015537, 0.007002955462005179, 0.9910599440710004, 0.004217276357748938, 0.004217276357748938, 0.06338174759088482, 0.8873444662723875, 0.08781147501692009, 0.9073852418415076, 0.029270491672306696, 0.9888603111892017, 0.0037887368244797, 0.0075774736489594, 0.2419763228290977, 0.2419763228290977, 0.4839526456581954, 0.2892499488345201, 0.04820832480575335, 0.6749165472805468, 0.0970524747069787, 0.0970524747069787, 0.7764197976558296, 0.1201504487129446, 0.04005014957098153, 0.8410531409906121, 0.28978716327859694, 0.09659572109286566, 0.6278721871036267, 0.9249923344643836, 0.0705024645171024, 0.005640197161368193, 0.226794003755887, 0.226794003755887, 0.680382011267661, 0.9894856255689144, 0.0044173465427183685, 0.0044173465427183685, 0.054137278058160515, 0.9203337269887287, 0.9905158079098945, 0.007337154132665885, 0.9916652539819628, 0.004210892798224895, 0.004210892798224895, 0.9810216651493163, 0.010473540909067434, 0.006982360606044956, 0.9845105079664427, 0.008414619726208912, 0.11216030918891583, 0.8692423962140977, 0.028040077297228957, 0.2918713201687834, 0.41956502274262614, 0.2918713201687834, 0.35808895125755597, 0.17904447562877798, 0.537133426886334, 0.2521077890959735, 0.2521077890959735, 0.504215578191947, 0.7252251043253342, 0.05725461349936849, 0.2099335828310178, 0.1200146384530855, 0.048005855381234204, 0.8160995414809814, 0.996027879040209, 0.0036618672023537094, 0.0036618672023537094, 0.9829703190356748, 0.009018076321428209, 0.009018076321428209, 0.13388865177213474, 0.84796146122352, 0.022314775295355787, 0.9846461749831189, 0.006520835595914694, 0.006520835595914694, 0.11580855805464266, 0.23161711610928531, 0.694851348327856, 0.106012570486421, 0.1590188557296315, 0.742087993404947, 0.12531763397513124, 0.37595290192539366, 0.501270535900525, 0.0608488405293887, 0.9127326079408304, 0.03042442026469435, 0.9421142790177295, 0.047253380765779535, 0.008860008893583663, 0.9910733410844118, 0.0019781903015656925, 0.00791276120626277, 0.9397571189917234, 0.057930233362503504, 0.0032183462979168613, 0.9943836251844005, 0.005099403206073849, 0.005099403206073849, 0.9339920649543668, 0.05854875631057225, 0.005576072029578309, 0.8840255120116703, 0.07518569708246077, 0.04036284790742631, 0.855648102851067, 0.06581908483469746, 0.08227385604337183, 0.9914010644455681, 0.003174176300252619, 0.006348352600505238, 0.9924337945881231, 0.003891897233678914, 0.003891897233678914, 0.9850413937796317, 0.007490809078172104, 0.007490809078172104, 0.6695464633229483, 0.1164428631865997, 0.2328857263731994, 0.8009226176200218, 0.05399478321033855, 0.14398608856090278, 0.12292966257017991, 0.12292966257017991, 0.7375779754210795, 0.17795593499928616, 0.2491383089990006, 0.5694589919977157, 0.07666539276419326, 0.9008183649792708, 0.019166348191048316, 0.08487439256185968, 0.9100420980243843, 0.009430488062428853, 0.02403199382993909, 0.9612797531975636, 0.02403199382993909, 0.9889998008804287, 0.00565142743360245, 0.00565142743360245, 0.9862570701746318, 0.0029440509557451698, 0.008832152867235508, 0.28677891606750255, 0.1911859440450017, 0.4779648601125042, 0.05358131835875469, 0.9108824120988297, 0.14427646749458442, 0.14427646749458442, 0.7213823374729221], \"Term\": [\"acc\", \"acc\", \"acc\", \"access\", \"access\", \"access\", \"add\", \"add\", \"add\", \"ads\", \"ads\", \"ads\", \"alam\", \"alam\", \"alam\", \"already\", \"already\", \"already\", \"always\", \"always\", \"always\", \"always_says\", \"always_says\", \"anymore\", \"anymore\", \"anymore\", \"apps\", \"apps\", \"apps\", \"aq\", \"aq\", \"available\", \"available\", \"available\", \"ayaw\", \"ayaw\", \"ayaw\", \"back\", \"back\", \"back\", \"better\", \"better\", \"better\", \"buggy\", \"buggy\", \"buggy\", \"bullsht\", \"bullsht\", \"bullsht\", \"bulok\", \"bulok\", \"bulok\", \"card\", \"card\", \"card\", \"choices\", \"choices\", \"choices\", \"company\", \"company\", \"company\", \"consent\", \"consent\", \"consent\", \"customer_service\", \"customer_service\", \"customer_service\", \"customer_support\", \"customer_support\", \"customer_support\", \"daming\", \"daming\", \"dati\", \"dati\", \"disregard\", \"disregard\", \"disregard\", \"dumating\", \"dumating\", \"dumating\", \"email\", \"email\", \"email\", \"emoney\", \"emoney\", \"emoney\", \"encash\", \"encash\", \"encash\", \"error\", \"error\", \"error\", \"fake\", \"fake\", \"fake\", \"ffs\", \"ffs\", \"ffs\", \"fix\", \"fix\", \"fix\", \"gagawan\", \"gagawan\", \"gagawan\", \"gamitin\", \"gamitin\", \"gamitin\", \"ganito\", \"ganito\", \"get\", \"get\", \"get\", \"getting\", \"getting\", \"getting\", \"good\", \"good\", \"good\", \"got\", \"got\", \"got\", \"hirap\", \"hirap\", \"hirap\", \"hnd\", \"hnd\", \"hnd\", \"id\", \"id\", \"id\", \"ids\", \"ids\", \"ids\", \"inyo\", \"inyo\", \"inyo\", \"issue\", \"issue\", \"issue\", \"kahet\", \"kahet\", \"kahet\", \"kaso\", \"kaso\", \"kau\", \"kau\", \"kau\", \"kc\", \"kc\", \"kc\", \"kelan\", \"kelan\", \"lagi\", \"lagi\", \"lagi\", \"laging\", \"laging\", \"laging\", \"laman\", \"laman\", \"laman\", \"legal_age\", \"legal_age\", \"legal_age\", \"list\", \"list\", \"list\", \"load\", \"load\", \"load\", \"log\", \"log\", \"log\", \"magamit\", \"magamit\", \"magamit\", \"makapag\", \"makapag\", \"makapag\", \"many_times\", \"many_times\", \"many_times\", \"maupgrade\", \"maupgrade\", \"maupgrade\", \"minor\", \"minor\", \"minor\", \"money\", \"money\", \"money\", \"nakaka\", \"nakaka\", \"nako\", \"nako\", \"nalang\", \"nalang\", \"nalang\", \"nawala\", \"nawala\", \"nawala\", \"need\", \"need\", \"need\", \"never\", \"never\", \"never\", \"ngaun\", \"ngaun\", \"nman\", \"nman\", \"nman\", \"number\", \"number\", \"number\", \"nung\", \"nung\", \"nung\", \"nyu\", \"nyu\", \"ok\", \"ok\", \"ok\", \"one\", \"one\", \"one\", \"option\", \"option\", \"option\", \"pala\", \"pala\", \"pala\", \"pangit\", \"pangit\", \"parin\", \"parin\", \"parin\", \"pay\", \"pay\", \"pay\", \"pera\", \"pera\", \"pera\", \"philhealth\", \"philhealth\", \"philhealth\", \"philhealth_id\", \"philhealth_id\", \"philhealth_id\", \"police_clearance\", \"police_clearance\", \"police_clearance\", \"poor_customer\", \"poor_customer\", \"poor_customer\", \"primary\", \"primary\", \"primary\", \"primary_id\", \"primary_id\", \"primary_id\", \"problem\", \"problem\", \"problem\", \"problema\", \"problema\", \"problema\", \"pumasok\", \"pumasok\", \"pumasok\", \"pwede\", \"pwede\", \"pwede\", \"qr\", \"qr\", \"qr\", \"receive\", \"receive\", \"receive\", \"register\", \"register\", \"register\", \"reply\", \"reply\", \"reply\", \"response\", \"response\", \"response\", \"saka\", \"saka\", \"sayang\", \"sayang\", \"sayang\", \"says\", \"says\", \"says\", \"scanner\", \"scanner\", \"scanner\", \"school_id\", \"school_id\", \"school_id\", \"secondary\", \"secondary\", \"secondary\", \"secondary_id\", \"secondary_id\", \"secondary_id\", \"secondary_ids\", \"secondary_ids\", \"secondary_ids\", \"send\", \"send\", \"send\", \"senior\", \"senior\", \"senior\", \"sent\", \"sent\", \"sent\", \"serbisyo\", \"serbisyo\", \"server\", \"server\", \"service\", \"service\", \"service\", \"since\", \"since\", \"since\", \"slow\", \"slow\", \"sobrang\", \"sobrang\", \"sobrang\", \"sss\", \"sss\", \"sss\", \"sss_contribution\", \"sss_contribution\", \"sss_contribution\", \"standard\", \"standard\", \"standard\", \"student\", \"student\", \"student\", \"student_id\", \"student_id\", \"student_id\", \"sucks\", \"sucks\", \"sucks\", \"support\", \"support\", \"support\", \"tagal\", \"tagal\", \"tagal\", \"time\", \"time\", \"time\", \"tin\", \"tin\", \"tin\", \"tin_id\", \"tin_id\", \"tin_id\", \"tinatanggap\", \"tinatanggap\", \"tinatanggap\", \"tong\", \"tong\", \"tong\", \"transaction\", \"transaction\", \"transaction\", \"tried\", \"tried\", \"tried\", \"try\", \"try\", \"try\", \"trying\", \"trying\", \"trying\", \"update\", \"update\", \"update\", \"upgrade\", \"upgrade\", \"upgrade\", \"upgraded\", \"upgraded\", \"upgraded\", \"use\", \"use\", \"use\", \"used\", \"used\", \"used\", \"useless\", \"useless\", \"useless\", \"valid_ids\", \"valid_ids\", \"valid_ids\", \"verify\", \"verify\", \"verify\", \"verifying\", \"verifying\", \"verifying\", \"voters_id\", \"voters_id\", \"voters_id\", \"wag\", \"wag\", \"wag\", \"wala\", \"wala\", \"wala\", \"wla\", \"wla\", \"wla\", \"working\", \"working\", \"working\", \"worst\", \"worst\", \"worst\", \"wow\", \"wow\", \"wow\", \"yong\", \"yong\", \"yrs\", \"yrs\", \"yrs\"]}, \"R\": 30, \"lambda.step\": 0.01, \"plot.opts\": {\"xlab\": \"PC1\", \"ylab\": \"PC2\"}, \"topic.order\": [1, 3, 2]};\n",
       "\n",
       "function LDAvis_load_lib(url, callback){\n",
       "  var s = document.createElement('script');\n",
       "  s.src = url;\n",
       "  s.async = true;\n",
       "  s.onreadystatechange = s.onload = callback;\n",
       "  s.onerror = function(){console.warn(\"failed to load library \" + url);};\n",
       "  document.getElementsByTagName(\"head\")[0].appendChild(s);\n",
       "}\n",
       "\n",
       "if(typeof(LDAvis) !== \"undefined\"){\n",
       "   // already loaded: just create the visualization\n",
       "   !function(LDAvis){\n",
       "       new LDAvis(\"#\" + \"ldavis_el579560047325285495077241\", ldavis_el579560047325285495077241_data);\n",
       "   }(LDAvis);\n",
       "}else if(typeof define === \"function\" && define.amd){\n",
       "   // require.js is available: use it to load d3/LDAvis\n",
       "   require.config({paths: {d3: \"https://d3js.org/d3.v5\"}});\n",
       "   require([\"d3\"], function(d3){\n",
       "      window.d3 = d3;\n",
       "      LDAvis_load_lib(\"https://cdn.jsdelivr.net/gh/bmabey/pyLDAvis@3.3.1/pyLDAvis/js/ldavis.v3.0.0.js\", function(){\n",
       "        new LDAvis(\"#\" + \"ldavis_el579560047325285495077241\", ldavis_el579560047325285495077241_data);\n",
       "      });\n",
       "    });\n",
       "}else{\n",
       "    // require.js not available: dynamically load d3 & LDAvis\n",
       "    LDAvis_load_lib(\"https://d3js.org/d3.v5.js\", function(){\n",
       "         LDAvis_load_lib(\"https://cdn.jsdelivr.net/gh/bmabey/pyLDAvis@3.3.1/pyLDAvis/js/ldavis.v3.0.0.js\", function(){\n",
       "                 new LDAvis(\"#\" + \"ldavis_el579560047325285495077241\", ldavis_el579560047325285495077241_data);\n",
       "            })\n",
       "         });\n",
       "}\n",
       "</script>"
      ],
      "text/plain": [
       "PreparedData(topic_coordinates=              x         y  topics  cluster       Freq\n",
       "topic                                                \n",
       "0      0.182742 -0.015797       1        1  76.284280\n",
       "2     -0.128846 -0.049875       2        1  16.748017\n",
       "1     -0.053896  0.065672       3        1   6.967704, topic_info=           Term         Freq        Total Category  logprob  loglift\n",
       "397        wala   212.000000   212.000000  Default  30.0000  30.0000\n",
       "83         pera   199.000000   199.000000  Default  29.0000  29.0000\n",
       "492          id   334.000000   334.000000  Default  28.0000  28.0000\n",
       "18      upgrade  1263.000000  1263.000000  Default  27.0000  27.0000\n",
       "9          load   569.000000   569.000000  Default  26.0000  26.0000\n",
       "...         ...          ...          ...      ...      ...      ...\n",
       "959         add     9.278252    90.826279   Topic3  -6.6178   0.3826\n",
       "1200  available     8.079069    67.513723   Topic3  -6.7562   0.5408\n",
       "136        need     8.965335   477.142352   Topic3  -6.6521  -1.3106\n",
       "121       money     9.054926  1190.652427   Topic3  -6.6422  -2.2151\n",
       "284         pay     7.903190   217.087512   Topic3  -6.7782  -0.6491\n",
       "\n",
       "[191 rows x 6 columns], token_table=      Topic      Freq    Term\n",
       "term                         \n",
       "818       1  0.694874     acc\n",
       "818       2  0.170871     acc\n",
       "818       3  0.125305     acc\n",
       "337       1  0.989388  access\n",
       "337       2  0.006552  access\n",
       "...     ...       ...     ...\n",
       "3160      1  0.053581    yong\n",
       "3160      2  0.910882    yong\n",
       "1003      1  0.144276     yrs\n",
       "1003      2  0.144276     yrs\n",
       "1003      3  0.721382     yrs\n",
       "\n",
       "[439 rows x 3 columns], R=30, lambda_step=0.01, plot_opts={'xlab': 'PC1', 'ylab': 'PC2'}, topic_order=[1, 3, 2])"
      ]
     },
     "execution_count": 586,
     "metadata": {},
     "output_type": "execute_result"
    }
   ],
   "source": [
    "paymaya_bad_ps_visual = gensimvis.prepare(paymaya_bad_ps_final, paymaya_bad_corpus_ps, paymaya_bad_dict_ps)\n",
    "print(paymaya_bad_ps_final.print_topics())\n",
    "paymaya_bad_ps_visual"
   ]
  },
  {
   "cell_type": "code",
   "execution_count": 587,
   "id": "settled-longitude",
   "metadata": {},
   "outputs": [],
   "source": [
    "collated = []\n",
    "collated.append(str(gcash_good_as_final.print_topics()))\n",
    "collated.append(str(gcash_bad_as_final.print_topics()))\n",
    "collated.append(str(gcash_good_ps_final.print_topics()))\n",
    "collated.append(str(gcash_bad_ps_final.print_topics()))\n",
    "collated.append(str(paymaya_good_as_final.print_topics()))\n",
    "collated.append(str(paymaya_bad_as_final.print_topics()))\n",
    "collated.append(str(paymaya_good_ps_final.print_topics()))\n",
    "collated.append(str(paymaya_bad_ps_final.print_topics()))"
   ]
  },
  {
   "cell_type": "code",
   "execution_count": 589,
   "id": "bottom-lemon",
   "metadata": {},
   "outputs": [],
   "source": [
    "app_store = ['GCash Good AS', 'GCash Bad AS',\n",
    "             'GCash Good PS', 'GCash Bad PS',\n",
    "             'PayMaya Good AS', 'PayMaya Bad AS',\n",
    "             'PayMaya Good PS', 'PayMaya Bad PS']\n",
    "\n",
    "df_topics = pd.DataFrame(list(zip(app_store,collated)), columns = ['App Store','Topics'])"
   ]
  },
  {
   "cell_type": "code",
   "execution_count": 590,
   "id": "hidden-documentary",
   "metadata": {},
   "outputs": [
    {
     "data": {
      "text/html": [
       "<div>\n",
       "<style scoped>\n",
       "    .dataframe tbody tr th:only-of-type {\n",
       "        vertical-align: middle;\n",
       "    }\n",
       "\n",
       "    .dataframe tbody tr th {\n",
       "        vertical-align: top;\n",
       "    }\n",
       "\n",
       "    .dataframe thead th {\n",
       "        text-align: right;\n",
       "    }\n",
       "</style>\n",
       "<table border=\"1\" class=\"dataframe\">\n",
       "  <thead>\n",
       "    <tr style=\"text-align: right;\">\n",
       "      <th></th>\n",
       "      <th>App Store</th>\n",
       "      <th>Topics</th>\n",
       "    </tr>\n",
       "  </thead>\n",
       "  <tbody>\n",
       "    <tr>\n",
       "      <th>0</th>\n",
       "      <td>GCash Good AS</td>\n",
       "      <td>[(0, '0.014*\"money\" + 0.014*\"convenient\" + 0.0...</td>\n",
       "    </tr>\n",
       "    <tr>\n",
       "      <th>1</th>\n",
       "      <td>GCash Bad AS</td>\n",
       "      <td>[(0, '0.014*\"money\" + 0.010*\"use\" + 0.009*\"fix...</td>\n",
       "    </tr>\n",
       "    <tr>\n",
       "      <th>2</th>\n",
       "      <td>GCash Good PS</td>\n",
       "      <td>[(0, '0.201*\"good\" + 0.128*\"nice\" + 0.067*\"gre...</td>\n",
       "    </tr>\n",
       "    <tr>\n",
       "      <th>3</th>\n",
       "      <td>GCash Bad PS</td>\n",
       "      <td>[(0, '0.023*\"update\" + 0.020*\"always\" + 0.015*...</td>\n",
       "    </tr>\n",
       "    <tr>\n",
       "      <th>4</th>\n",
       "      <td>PayMaya Good AS</td>\n",
       "      <td>[(0, '0.014*\"use\" + 0.012*\"convenient\" + 0.010...</td>\n",
       "    </tr>\n",
       "    <tr>\n",
       "      <th>5</th>\n",
       "      <td>PayMaya Bad AS</td>\n",
       "      <td>[(0, '0.015*\"money\" + 0.012*\"upgrade\" + 0.009*...</td>\n",
       "    </tr>\n",
       "    <tr>\n",
       "      <th>6</th>\n",
       "      <td>PayMaya Good PS</td>\n",
       "      <td>[(0, '0.114*\"good\" + 0.082*\"nice\" + 0.059*\"gre...</td>\n",
       "    </tr>\n",
       "    <tr>\n",
       "      <th>7</th>\n",
       "      <td>PayMaya Bad PS</td>\n",
       "      <td>[(0, '0.015*\"money\" + 0.015*\"upgrade\" + 0.012*...</td>\n",
       "    </tr>\n",
       "  </tbody>\n",
       "</table>\n",
       "</div>"
      ],
      "text/plain": [
       "         App Store                                             Topics\n",
       "0    GCash Good AS  [(0, '0.014*\"money\" + 0.014*\"convenient\" + 0.0...\n",
       "1     GCash Bad AS  [(0, '0.014*\"money\" + 0.010*\"use\" + 0.009*\"fix...\n",
       "2    GCash Good PS  [(0, '0.201*\"good\" + 0.128*\"nice\" + 0.067*\"gre...\n",
       "3     GCash Bad PS  [(0, '0.023*\"update\" + 0.020*\"always\" + 0.015*...\n",
       "4  PayMaya Good AS  [(0, '0.014*\"use\" + 0.012*\"convenient\" + 0.010...\n",
       "5   PayMaya Bad AS  [(0, '0.015*\"money\" + 0.012*\"upgrade\" + 0.009*...\n",
       "6  PayMaya Good PS  [(0, '0.114*\"good\" + 0.082*\"nice\" + 0.059*\"gre...\n",
       "7   PayMaya Bad PS  [(0, '0.015*\"money\" + 0.015*\"upgrade\" + 0.012*..."
      ]
     },
     "execution_count": 590,
     "metadata": {},
     "output_type": "execute_result"
    }
   ],
   "source": [
    "df_topics"
   ]
  },
  {
   "cell_type": "code",
   "execution_count": 591,
   "id": "accessible-colonial",
   "metadata": {},
   "outputs": [],
   "source": [
    "date = datetime.now().strftime(\"%Y_%m_%d-%I-%M-%S_%p\")"
   ]
  },
  {
   "cell_type": "code",
   "execution_count": 592,
   "id": "talented-newton",
   "metadata": {},
   "outputs": [],
   "source": [
    "df_topics.to_csv(f\"Results/Topics/Topics_{date}.csv\", index= True)"
   ]
  },
  {
   "cell_type": "code",
   "execution_count": null,
   "id": "unlike-tissue",
   "metadata": {},
   "outputs": [],
   "source": [
    "models = [gcash_good_as_final, gcash_bad_as_final,\n",
    "          gcash_good_ps_final, gcash_bad_ps_final,\n",
    "          paymaya_good_as_final, paymaya_bad_as_final,\n",
    "          paymaya_good_ps_final, paymaya_bad_ps_final,]"
   ]
  },
  {
   "cell_type": "code",
   "execution_count": null,
   "id": "foreign-monroe",
   "metadata": {},
   "outputs": [],
   "source": [
    "joblib.dump(models, f\"Models/Model_{date}\")"
   ]
  },
  {
   "cell_type": "markdown",
   "id": "nasty-traffic",
   "metadata": {},
   "source": [
    "### IV. Topic Labeling\n",
    "---"
   ]
  },
  {
   "cell_type": "code",
   "execution_count": null,
   "id": "settled-salad",
   "metadata": {},
   "outputs": [],
   "source": []
  }
 ],
 "metadata": {
  "kernelspec": {
   "display_name": "Python 3",
   "language": "python",
   "name": "python3"
  },
  "language_info": {
   "codemirror_mode": {
    "name": "ipython",
    "version": 3
   },
   "file_extension": ".py",
   "mimetype": "text/x-python",
   "name": "python",
   "nbconvert_exporter": "python",
   "pygments_lexer": "ipython3",
   "version": "3.9.1"
  }
 },
 "nbformat": 4,
 "nbformat_minor": 5
}
