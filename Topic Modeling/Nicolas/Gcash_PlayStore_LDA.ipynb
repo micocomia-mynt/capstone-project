{
 "cells": [
  {
   "cell_type": "markdown",
   "id": "35292bc8-d4dc-4041-8a5e-2a266c21ea11",
   "metadata": {
    "id": "35292bc8-d4dc-4041-8a5e-2a266c21ea11"
   },
   "source": [
    "# Forming Topic Models from Gcash Google Play Store Reviews Using Latent Dirichlet Allocation <br>\n",
    "This notebook aims to generate topic models for 5-star and 1-star Gcash app reviews taken from the Google Play Store using Latent Dirichlet Allocation (LDA)"
   ]
  },
  {
   "cell_type": "code",
   "execution_count": null,
   "id": "pbbCDIgixD4p",
   "metadata": {
    "id": "pbbCDIgixD4p"
   },
   "outputs": [],
   "source": [
    "# !pip install emot\n",
    "# !pip install contractions\n",
    "# !pip install pyLDAvis"
   ]
  },
  {
   "cell_type": "code",
   "execution_count": 1,
   "id": "ccb6911c-47ea-488f-83f4-1943c8f38b3a",
   "metadata": {
    "id": "ccb6911c-47ea-488f-83f4-1943c8f38b3a"
   },
   "outputs": [
    {
     "name": "stderr",
     "output_type": "stream",
     "text": [
      "D:\\Anaconda3\\envs\\project-env-2\\lib\\site-packages\\gensim\\similarities\\__init__.py:15: UserWarning: The gensim.similarities.levenshtein submodule is disabled, because the optional Levenshtein package <https://pypi.org/project/python-Levenshtein/> is unavailable. Install Levenhstein (e.g. `pip install python-Levenshtein`) to suppress this warning.\n",
      "  warnings.warn(msg)\n"
     ]
    }
   ],
   "source": [
    "# importing libraries\n",
    "import pandas as pd\n",
    "import regex as re\n",
    "import numpy as np\n",
    "import tqdm\n",
    "\n",
    "from emot.emo_unicode import UNICODE_EMO, EMOTICONS\n",
    "\n",
    "import contractions\n",
    "from textblob import TextBlob\n",
    "from nltk.tokenize import word_tokenize\n",
    "\n",
    "import gensim\n",
    "import gensim.corpora as corpora\n",
    "from gensim.utils import simple_preprocess\n",
    "from gensim.models import CoherenceModel\n",
    "from gensim import models\n",
    "\n",
    "import spacy\n",
    "\n",
    "from pprint import pprint\n",
    "\n",
    "import seaborn as sns\n",
    "\n",
    "import pyLDAvis.gensim_models as gensimvis\n",
    "import pickle \n",
    "import pyLDAvis"
   ]
  },
  {
   "cell_type": "code",
   "execution_count": 2,
   "id": "34fb6b8b-cc14-4146-ae3c-d76a7b426899",
   "metadata": {
    "id": "34fb6b8b-cc14-4146-ae3c-d76a7b426899"
   },
   "outputs": [
    {
     "name": "stderr",
     "output_type": "stream",
     "text": [
      "D:\\Anaconda3\\envs\\project-env-2\\lib\\site-packages\\ipykernel\\ipkernel.py:287: DeprecationWarning: `should_run_async` will not call `transform_cell` automatically in the future. Please pass the result to `transformed_cell` argument and any exception that happen during thetransform in `preprocessing_exc_tuple` in IPython 7.17 and above.\n",
      "  and should_run_async(code)\n"
     ]
    }
   ],
   "source": [
    "def import_csv(path):\n",
    "    reviews = pd.read_csv(path)\n",
    "    reviews = reviews[['at', 'score', 'content']]\n",
    "    return reviews"
   ]
  },
  {
   "cell_type": "code",
   "execution_count": 4,
   "id": "122a23e0-742f-4209-a51a-5b12507f5219",
   "metadata": {
    "id": "122a23e0-742f-4209-a51a-5b12507f5219"
   },
   "outputs": [
    {
     "name": "stderr",
     "output_type": "stream",
     "text": [
      "D:\\Anaconda3\\envs\\project-env-2\\lib\\site-packages\\ipykernel\\ipkernel.py:287: DeprecationWarning: `should_run_async` will not call `transform_cell` automatically in the future. Please pass the result to `transformed_cell` argument and any exception that happen during thetransform in `preprocessing_exc_tuple` in IPython 7.17 and above.\n",
      "  and should_run_async(code)\n"
     ]
    }
   ],
   "source": [
    "gcash_reviews = pd.read_csv('/Mynt Capstone/data/gcash_reviews_playstore.csv')"
   ]
  },
  {
   "cell_type": "code",
   "execution_count": 5,
   "id": "18f0f486-cf0b-4175-9d47-235544079ecc",
   "metadata": {
    "colab": {
     "base_uri": "https://localhost:8080/",
     "height": 505
    },
    "id": "18f0f486-cf0b-4175-9d47-235544079ecc",
    "outputId": "7a94db7d-1db3-4cbd-869f-18de93fdc4fd"
   },
   "outputs": [
    {
     "name": "stderr",
     "output_type": "stream",
     "text": [
      "D:\\Anaconda3\\envs\\project-env-2\\lib\\site-packages\\ipykernel\\ipkernel.py:287: DeprecationWarning: `should_run_async` will not call `transform_cell` automatically in the future. Please pass the result to `transformed_cell` argument and any exception that happen during thetransform in `preprocessing_exc_tuple` in IPython 7.17 and above.\n",
      "  and should_run_async(code)\n"
     ]
    },
    {
     "data": {
      "text/html": [
       "<div>\n",
       "<style scoped>\n",
       "    .dataframe tbody tr th:only-of-type {\n",
       "        vertical-align: middle;\n",
       "    }\n",
       "\n",
       "    .dataframe tbody tr th {\n",
       "        vertical-align: top;\n",
       "    }\n",
       "\n",
       "    .dataframe thead th {\n",
       "        text-align: right;\n",
       "    }\n",
       "</style>\n",
       "<table border=\"1\" class=\"dataframe\">\n",
       "  <thead>\n",
       "    <tr style=\"text-align: right;\">\n",
       "      <th></th>\n",
       "      <th>Unnamed: 0</th>\n",
       "      <th>_id</th>\n",
       "      <th>reviewId</th>\n",
       "      <th>userName</th>\n",
       "      <th>userImage</th>\n",
       "      <th>content</th>\n",
       "      <th>score</th>\n",
       "      <th>thumbsUpCount</th>\n",
       "      <th>reviewCreatedVersion</th>\n",
       "      <th>at</th>\n",
       "      <th>replyContent</th>\n",
       "      <th>repliedAt</th>\n",
       "      <th>app_name</th>\n",
       "      <th>app_id</th>\n",
       "    </tr>\n",
       "  </thead>\n",
       "  <tbody>\n",
       "    <tr>\n",
       "      <th>0</th>\n",
       "      <td>0</td>\n",
       "      <td>60b76108c5eccca0e375ce55</td>\n",
       "      <td>gp:AOqpTOHa4x04QC93zb0pxQZ-1Q1GwFeysD-XpcDTW78...</td>\n",
       "      <td>Emmanuel Jim Roldan</td>\n",
       "      <td>https://play-lh.googleusercontent.com/a/AATXAJ...</td>\n",
       "      <td>Good for mobile online deals.</td>\n",
       "      <td>1</td>\n",
       "      <td>0</td>\n",
       "      <td>5.40.0</td>\n",
       "      <td>2021-06-02 18:32:37</td>\n",
       "      <td>NaN</td>\n",
       "      <td>NaN</td>\n",
       "      <td>GCash</td>\n",
       "      <td>com.globe.gcash.android</td>\n",
       "    </tr>\n",
       "    <tr>\n",
       "      <th>1</th>\n",
       "      <td>1</td>\n",
       "      <td>60b76108c5eccca0e375ce56</td>\n",
       "      <td>gp:AOqpTOFOvZwSS0iVvmGbcBKkwFyprROh5KqfcJuI5jg...</td>\n",
       "      <td>Harem Tuazon</td>\n",
       "      <td>https://play-lh.googleusercontent.com/a-/AOh14...</td>\n",
       "      <td>Ilang beses nang naulit na nag load ako nag ba...</td>\n",
       "      <td>1</td>\n",
       "      <td>0</td>\n",
       "      <td>5.41.0</td>\n",
       "      <td>2021-06-02 18:32:14</td>\n",
       "      <td>NaN</td>\n",
       "      <td>NaN</td>\n",
       "      <td>GCash</td>\n",
       "      <td>com.globe.gcash.android</td>\n",
       "    </tr>\n",
       "    <tr>\n",
       "      <th>2</th>\n",
       "      <td>2</td>\n",
       "      <td>60b76108c5eccca0e375ce57</td>\n",
       "      <td>gp:AOqpTOFb35bOoUsvlsEEPVO0UrtxJ2fut8jq5sdiexC...</td>\n",
       "      <td>Fraxilyn Nael</td>\n",
       "      <td>https://play-lh.googleusercontent.com/a-/AOh14...</td>\n",
       "      <td>Its a great experience and convenient</td>\n",
       "      <td>4</td>\n",
       "      <td>0</td>\n",
       "      <td>5.40.0</td>\n",
       "      <td>2021-06-02 18:32:07</td>\n",
       "      <td>NaN</td>\n",
       "      <td>NaN</td>\n",
       "      <td>GCash</td>\n",
       "      <td>com.globe.gcash.android</td>\n",
       "    </tr>\n",
       "    <tr>\n",
       "      <th>3</th>\n",
       "      <td>3</td>\n",
       "      <td>60b76108c5eccca0e375ce58</td>\n",
       "      <td>gp:AOqpTOFRgY4C4LVX_-Cr5D1zxW881WGrlPf01jMWwr4...</td>\n",
       "      <td>Mary rose Manipolo</td>\n",
       "      <td>https://play-lh.googleusercontent.com/a-/AOh14...</td>\n",
       "      <td>Ok na ok sya para sa mga easy transaction lalo...</td>\n",
       "      <td>5</td>\n",
       "      <td>0</td>\n",
       "      <td>5.41.0</td>\n",
       "      <td>2021-06-02 18:31:31</td>\n",
       "      <td>NaN</td>\n",
       "      <td>NaN</td>\n",
       "      <td>GCash</td>\n",
       "      <td>com.globe.gcash.android</td>\n",
       "    </tr>\n",
       "    <tr>\n",
       "      <th>4</th>\n",
       "      <td>4</td>\n",
       "      <td>60b76108c5eccca0e375ce59</td>\n",
       "      <td>gp:AOqpTOH8Znzr1cV9K-1A9ci8IBaQOr-fUkvUhC4P7ZU...</td>\n",
       "      <td>Ferritch Vlog</td>\n",
       "      <td>https://play-lh.googleusercontent.com/a-/AOh14...</td>\n",
       "      <td>very helpful and contented</td>\n",
       "      <td>5</td>\n",
       "      <td>0</td>\n",
       "      <td>5.40.0</td>\n",
       "      <td>2021-06-02 18:31:25</td>\n",
       "      <td>NaN</td>\n",
       "      <td>NaN</td>\n",
       "      <td>GCash</td>\n",
       "      <td>com.globe.gcash.android</td>\n",
       "    </tr>\n",
       "  </tbody>\n",
       "</table>\n",
       "</div>"
      ],
      "text/plain": [
       "   Unnamed: 0                       _id  \\\n",
       "0           0  60b76108c5eccca0e375ce55   \n",
       "1           1  60b76108c5eccca0e375ce56   \n",
       "2           2  60b76108c5eccca0e375ce57   \n",
       "3           3  60b76108c5eccca0e375ce58   \n",
       "4           4  60b76108c5eccca0e375ce59   \n",
       "\n",
       "                                            reviewId             userName  \\\n",
       "0  gp:AOqpTOHa4x04QC93zb0pxQZ-1Q1GwFeysD-XpcDTW78...  Emmanuel Jim Roldan   \n",
       "1  gp:AOqpTOFOvZwSS0iVvmGbcBKkwFyprROh5KqfcJuI5jg...         Harem Tuazon   \n",
       "2  gp:AOqpTOFb35bOoUsvlsEEPVO0UrtxJ2fut8jq5sdiexC...        Fraxilyn Nael   \n",
       "3  gp:AOqpTOFRgY4C4LVX_-Cr5D1zxW881WGrlPf01jMWwr4...   Mary rose Manipolo   \n",
       "4  gp:AOqpTOH8Znzr1cV9K-1A9ci8IBaQOr-fUkvUhC4P7ZU...        Ferritch Vlog   \n",
       "\n",
       "                                           userImage  \\\n",
       "0  https://play-lh.googleusercontent.com/a/AATXAJ...   \n",
       "1  https://play-lh.googleusercontent.com/a-/AOh14...   \n",
       "2  https://play-lh.googleusercontent.com/a-/AOh14...   \n",
       "3  https://play-lh.googleusercontent.com/a-/AOh14...   \n",
       "4  https://play-lh.googleusercontent.com/a-/AOh14...   \n",
       "\n",
       "                                             content  score  thumbsUpCount  \\\n",
       "0                      Good for mobile online deals.      1              0   \n",
       "1  Ilang beses nang naulit na nag load ako nag ba...      1              0   \n",
       "2              Its a great experience and convenient      4              0   \n",
       "3  Ok na ok sya para sa mga easy transaction lalo...      5              0   \n",
       "4                         very helpful and contented      5              0   \n",
       "\n",
       "  reviewCreatedVersion                   at replyContent repliedAt app_name  \\\n",
       "0               5.40.0  2021-06-02 18:32:37          NaN       NaN    GCash   \n",
       "1               5.41.0  2021-06-02 18:32:14          NaN       NaN    GCash   \n",
       "2               5.40.0  2021-06-02 18:32:07          NaN       NaN    GCash   \n",
       "3               5.41.0  2021-06-02 18:31:31          NaN       NaN    GCash   \n",
       "4               5.40.0  2021-06-02 18:31:25          NaN       NaN    GCash   \n",
       "\n",
       "                    app_id  \n",
       "0  com.globe.gcash.android  \n",
       "1  com.globe.gcash.android  \n",
       "2  com.globe.gcash.android  \n",
       "3  com.globe.gcash.android  \n",
       "4  com.globe.gcash.android  "
      ]
     },
     "execution_count": 5,
     "metadata": {},
     "output_type": "execute_result"
    }
   ],
   "source": [
    "gcash_reviews.head()"
   ]
  },
  {
   "cell_type": "code",
   "execution_count": 6,
   "id": "ee69ddd2-e66a-4840-81dd-0562fc4468b2",
   "metadata": {
    "colab": {
     "base_uri": "https://localhost:8080/",
     "height": 35
    },
    "id": "ee69ddd2-e66a-4840-81dd-0562fc4468b2",
    "outputId": "415c126d-1808-403f-edc7-19a26d1f3f6e"
   },
   "outputs": [
    {
     "name": "stderr",
     "output_type": "stream",
     "text": [
      "D:\\Anaconda3\\envs\\project-env-2\\lib\\site-packages\\ipykernel\\ipkernel.py:287: DeprecationWarning: `should_run_async` will not call `transform_cell` automatically in the future. Please pass the result to `transformed_cell` argument and any exception that happen during thetransform in `preprocessing_exc_tuple` in IPython 7.17 and above.\n",
      "  and should_run_async(code)\n"
     ]
    },
    {
     "data": {
      "text/plain": [
       "'Have fun with NLP! '"
      ]
     },
     "execution_count": 6,
     "metadata": {},
     "output_type": "execute_result"
    }
   ],
   "source": [
    "# Remove emojis and emoticons\n",
    "\n",
    "# Code block 1: remove emojis\n",
    "def remove_emoji(text):\n",
    "    emoji_pattern = re.compile(\"[\"\n",
    "                           u\"\\U0001F600-\\U0001F64F\"  # emoticons\n",
    "                           u\"\\U0001F300-\\U0001F5FF\"  # symbols & pictographs\n",
    "                           u\"\\U0001F680-\\U0001F6FF\"  # transport & map symbols\n",
    "                           u\"\\U0001F1E0-\\U0001F1FF\"  # flags \n",
    "                           u\"\\U00002702-\\U000027B0\"\n",
    "                           u\"\\U000024C2-\\U0001F251\"\n",
    "                           \"]+\", flags=re.UNICODE)\n",
    "    return emoji_pattern.sub(r'', text)\n",
    "\n",
    "#Example\n",
    "remove_emoji(\"Have fun with NLP! 😃😃\")"
   ]
  },
  {
   "cell_type": "code",
   "execution_count": 7,
   "id": "0c87d906-f485-46f3-84e6-0ec7e7ede0ef",
   "metadata": {
    "id": "0c87d906-f485-46f3-84e6-0ec7e7ede0ef"
   },
   "outputs": [
    {
     "name": "stderr",
     "output_type": "stream",
     "text": [
      "D:\\Anaconda3\\envs\\project-env-2\\lib\\site-packages\\ipykernel\\ipkernel.py:287: DeprecationWarning: `should_run_async` will not call `transform_cell` automatically in the future. Please pass the result to `transformed_cell` argument and any exception that happen during thetransform in `preprocessing_exc_tuple` in IPython 7.17 and above.\n",
      "  and should_run_async(code)\n"
     ]
    }
   ],
   "source": [
    "# Function for removing emoticons\n",
    "def remove_emoticons(text):\n",
    "    emoticon_pattern = re.compile(u'(' + u'|'.join(k for k in EMOTICONS) + u')')\n",
    "    return emoticon_pattern.sub(r'', text)"
   ]
  },
  {
   "cell_type": "code",
   "execution_count": 8,
   "id": "f219fd07-9dbb-45ca-ad3c-33355665e4aa",
   "metadata": {
    "id": "f219fd07-9dbb-45ca-ad3c-33355665e4aa"
   },
   "outputs": [
    {
     "name": "stderr",
     "output_type": "stream",
     "text": [
      "D:\\Anaconda3\\envs\\project-env-2\\lib\\site-packages\\ipykernel\\ipkernel.py:287: DeprecationWarning: `should_run_async` will not call `transform_cell` automatically in the future. Please pass the result to `transformed_cell` argument and any exception that happen during thetransform in `preprocessing_exc_tuple` in IPython 7.17 and above.\n",
      "  and should_run_async(code)\n"
     ]
    }
   ],
   "source": [
    "# Function for removing URL's\n",
    "def remove_urls (vTEXT):\n",
    "    vTEXT = re.sub(r'(https|http)?:\\/\\/(\\w|\\.|\\/|\\?|\\=|\\&|\\%)*\\b', '', vTEXT, flags=re.MULTILINE)\n",
    "    return(vTEXT)"
   ]
  },
  {
   "cell_type": "markdown",
   "id": "2fffe03c-983c-4842-9cd5-e7474d420775",
   "metadata": {
    "id": "2fffe03c-983c-4842-9cd5-e7474d420775"
   },
   "source": [
    "### Preprocessing Function"
   ]
  },
  {
   "cell_type": "code",
   "execution_count": 9,
   "id": "be34c3bb-6b11-4524-a6db-350be13c3339",
   "metadata": {
    "colab": {
     "base_uri": "https://localhost:8080/"
    },
    "id": "be34c3bb-6b11-4524-a6db-350be13c3339",
    "outputId": "aa034904-aa96-463a-a415-320b6f37cb4d"
   },
   "outputs": [
    {
     "name": "stderr",
     "output_type": "stream",
     "text": [
      "D:\\Anaconda3\\envs\\project-env-2\\lib\\site-packages\\ipykernel\\ipkernel.py:287: DeprecationWarning: `should_run_async` will not call `transform_cell` automatically in the future. Please pass the result to `transformed_cell` argument and any exception that happen during thetransform in `preprocessing_exc_tuple` in IPython 7.17 and above.\n",
      "  and should_run_async(code)\n",
      "<>:11: DeprecationWarning: invalid escape sequence \\w\n",
      "<>:11: DeprecationWarning: invalid escape sequence \\w\n",
      "<ipython-input-9-00d38686d63d>:11: DeprecationWarning: invalid escape sequence \\w\n",
      "  corpus[column] = corpus[column].str.replace('[^\\w\\s]','') # Remove punctuation\n"
     ]
    }
   ],
   "source": [
    "def preprocess(corpus, column):\n",
    "    corpus[column].dropna(inplace=True) # Drop blank rows\n",
    "    corpus[column] = corpus[column].astype(str)\n",
    "    corpus[column] = [entry.lower() for entry in corpus[column]] # Lowercase text\n",
    "    corpus[column] = corpus[column].apply(lambda x: remove_emoji(x)) #Remove emoji's\n",
    "    corpus[column] = corpus[column].apply(lambda x: remove_emoticons(x)) #Remove emoticons\n",
    "    corpus[column] = corpus[column].apply(lambda x: remove_urls(x)) #Remove URL's\n",
    "    corpus[column] = corpus[column].apply(lambda x: contractions.fix(x)) # Expand contractions\n",
    "    corpus[column] = corpus[column].str.replace(\"[^a-zA-Z#]\", \" \") # Remove unwanted characters, numbers and symbols\n",
    "    corpus[column] = corpus[column].str.replace(r'\\r+|\\n+|\\t+','', regex=True) #Remove \\n \\t \\r\n",
    "    corpus[column] = corpus[column].str.replace('[^\\w\\s]','') # Remove punctuation"
   ]
  },
  {
   "cell_type": "code",
   "execution_count": 10,
   "id": "48191009-13e3-4a0c-ab73-992fc6805058",
   "metadata": {
    "id": "48191009-13e3-4a0c-ab73-992fc6805058"
   },
   "outputs": [
    {
     "name": "stderr",
     "output_type": "stream",
     "text": [
      "D:\\Anaconda3\\envs\\project-env-2\\lib\\site-packages\\ipykernel\\ipkernel.py:287: DeprecationWarning: `should_run_async` will not call `transform_cell` automatically in the future. Please pass the result to `transformed_cell` argument and any exception that happen during thetransform in `preprocessing_exc_tuple` in IPython 7.17 and above.\n",
      "  and should_run_async(code)\n",
      "<ipython-input-9-00d38686d63d>:9: FutureWarning: The default value of regex will change from True to False in a future version.\n",
      "  corpus[column] = corpus[column].str.replace(\"[^a-zA-Z#]\", \" \") # Remove unwanted characters, numbers and symbols\n",
      "<ipython-input-9-00d38686d63d>:11: FutureWarning: The default value of regex will change from True to False in a future version.\n",
      "  corpus[column] = corpus[column].str.replace('[^\\w\\s]','') # Remove punctuation\n"
     ]
    }
   ],
   "source": [
    "preprocess(gcash_reviews, 'content')"
   ]
  },
  {
   "cell_type": "code",
   "execution_count": 11,
   "id": "cc1b6188-49c7-48eb-8723-91291882a4f4",
   "metadata": {
    "id": "cc1b6188-49c7-48eb-8723-91291882a4f4"
   },
   "outputs": [
    {
     "name": "stderr",
     "output_type": "stream",
     "text": [
      "D:\\Anaconda3\\envs\\project-env-2\\lib\\site-packages\\ipykernel\\ipkernel.py:287: DeprecationWarning: `should_run_async` will not call `transform_cell` automatically in the future. Please pass the result to `transformed_cell` argument and any exception that happen during thetransform in `preprocessing_exc_tuple` in IPython 7.17 and above.\n",
      "  and should_run_async(code)\n"
     ]
    }
   ],
   "source": [
    "gcash_reviews = gcash_reviews[['at', 'score', 'content']]"
   ]
  },
  {
   "cell_type": "code",
   "execution_count": 12,
   "id": "dB9Xv05rKop9",
   "metadata": {
    "colab": {
     "base_uri": "https://localhost:8080/",
     "height": 589
    },
    "id": "dB9Xv05rKop9",
    "outputId": "50d89018-5059-4aea-d1d5-dce2a2f2f515"
   },
   "outputs": [
    {
     "name": "stderr",
     "output_type": "stream",
     "text": [
      "D:\\Anaconda3\\envs\\project-env-2\\lib\\site-packages\\ipykernel\\ipkernel.py:287: DeprecationWarning: `should_run_async` will not call `transform_cell` automatically in the future. Please pass the result to `transformed_cell` argument and any exception that happen during thetransform in `preprocessing_exc_tuple` in IPython 7.17 and above.\n",
      "  and should_run_async(code)\n"
     ]
    },
    {
     "data": {
      "text/html": [
       "<div>\n",
       "<style scoped>\n",
       "    .dataframe tbody tr th:only-of-type {\n",
       "        vertical-align: middle;\n",
       "    }\n",
       "\n",
       "    .dataframe tbody tr th {\n",
       "        vertical-align: top;\n",
       "    }\n",
       "\n",
       "    .dataframe thead th {\n",
       "        text-align: right;\n",
       "    }\n",
       "</style>\n",
       "<table border=\"1\" class=\"dataframe\">\n",
       "  <thead>\n",
       "    <tr style=\"text-align: right;\">\n",
       "      <th></th>\n",
       "      <th>at</th>\n",
       "      <th>score</th>\n",
       "      <th>content</th>\n",
       "    </tr>\n",
       "  </thead>\n",
       "  <tbody>\n",
       "    <tr>\n",
       "      <th>0</th>\n",
       "      <td>2021-06-02 18:32:37</td>\n",
       "      <td>1</td>\n",
       "      <td>good for mobile online deals</td>\n",
       "    </tr>\n",
       "    <tr>\n",
       "      <th>1</th>\n",
       "      <td>2021-06-02 18:32:14</td>\n",
       "      <td>1</td>\n",
       "      <td>ilang beses nang naulit na nag load ako nag ba...</td>\n",
       "    </tr>\n",
       "    <tr>\n",
       "      <th>2</th>\n",
       "      <td>2021-06-02 18:32:07</td>\n",
       "      <td>4</td>\n",
       "      <td>its a great experience and convenient</td>\n",
       "    </tr>\n",
       "    <tr>\n",
       "      <th>3</th>\n",
       "      <td>2021-06-02 18:31:31</td>\n",
       "      <td>5</td>\n",
       "      <td>ok na ok sya para sa mga easy transaction lalo...</td>\n",
       "    </tr>\n",
       "    <tr>\n",
       "      <th>4</th>\n",
       "      <td>2021-06-02 18:31:25</td>\n",
       "      <td>5</td>\n",
       "      <td>very helpful and contented</td>\n",
       "    </tr>\n",
       "    <tr>\n",
       "      <th>5</th>\n",
       "      <td>2021-06-02 18:31:14</td>\n",
       "      <td>3</td>\n",
       "      <td>do not know</td>\n",
       "    </tr>\n",
       "    <tr>\n",
       "      <th>6</th>\n",
       "      <td>2021-06-02 18:31:07</td>\n",
       "      <td>1</td>\n",
       "      <td>disappointed with the new features in buying a...</td>\n",
       "    </tr>\n",
       "    <tr>\n",
       "      <th>7</th>\n",
       "      <td>2021-06-02 18:30:58</td>\n",
       "      <td>5</td>\n",
       "      <td>satisfied</td>\n",
       "    </tr>\n",
       "    <tr>\n",
       "      <th>8</th>\n",
       "      <td>2021-06-02 18:30:51</td>\n",
       "      <td>5</td>\n",
       "      <td>ok cya</td>\n",
       "    </tr>\n",
       "    <tr>\n",
       "      <th>9</th>\n",
       "      <td>2021-06-02 18:29:56</td>\n",
       "      <td>5</td>\n",
       "      <td>this app is already good</td>\n",
       "    </tr>\n",
       "  </tbody>\n",
       "</table>\n",
       "</div>"
      ],
      "text/plain": [
       "                    at  score  \\\n",
       "0  2021-06-02 18:32:37      1   \n",
       "1  2021-06-02 18:32:14      1   \n",
       "2  2021-06-02 18:32:07      4   \n",
       "3  2021-06-02 18:31:31      5   \n",
       "4  2021-06-02 18:31:25      5   \n",
       "5  2021-06-02 18:31:14      3   \n",
       "6  2021-06-02 18:31:07      1   \n",
       "7  2021-06-02 18:30:58      5   \n",
       "8  2021-06-02 18:30:51      5   \n",
       "9  2021-06-02 18:29:56      5   \n",
       "\n",
       "                                             content  \n",
       "0                      good for mobile online deals   \n",
       "1  ilang beses nang naulit na nag load ako nag ba...  \n",
       "2              its a great experience and convenient  \n",
       "3  ok na ok sya para sa mga easy transaction lalo...  \n",
       "4                         very helpful and contented  \n",
       "5                                        do not know  \n",
       "6  disappointed with the new features in buying a...  \n",
       "7                                          satisfied  \n",
       "8                                             ok cya  \n",
       "9                           this app is already good  "
      ]
     },
     "execution_count": 12,
     "metadata": {},
     "output_type": "execute_result"
    }
   ],
   "source": [
    "gcash_reviews.head(10)"
   ]
  },
  {
   "cell_type": "markdown",
   "id": "c0f2c7a6-bbfc-42ac-b1cd-6d2b3d881b0b",
   "metadata": {
    "id": "c0f2c7a6-bbfc-42ac-b1cd-6d2b3d881b0b"
   },
   "source": [
    "### Splitting 5-Star and 1-Star Reviews"
   ]
  },
  {
   "cell_type": "code",
   "execution_count": 13,
   "id": "687bbb8e-9d30-43e7-88d4-757b08880dba",
   "metadata": {
    "colab": {
     "base_uri": "https://localhost:8080/",
     "height": 505
    },
    "id": "687bbb8e-9d30-43e7-88d4-757b08880dba",
    "outputId": "e2fa1a7a-1de5-4553-a1ad-7b82384a043a"
   },
   "outputs": [
    {
     "name": "stderr",
     "output_type": "stream",
     "text": [
      "D:\\Anaconda3\\envs\\project-env-2\\lib\\site-packages\\ipykernel\\ipkernel.py:287: DeprecationWarning: `should_run_async` will not call `transform_cell` automatically in the future. Please pass the result to `transformed_cell` argument and any exception that happen during thetransform in `preprocessing_exc_tuple` in IPython 7.17 and above.\n",
      "  and should_run_async(code)\n"
     ]
    },
    {
     "data": {
      "text/html": [
       "<div>\n",
       "<style scoped>\n",
       "    .dataframe tbody tr th:only-of-type {\n",
       "        vertical-align: middle;\n",
       "    }\n",
       "\n",
       "    .dataframe tbody tr th {\n",
       "        vertical-align: top;\n",
       "    }\n",
       "\n",
       "    .dataframe thead th {\n",
       "        text-align: right;\n",
       "    }\n",
       "</style>\n",
       "<table border=\"1\" class=\"dataframe\">\n",
       "  <thead>\n",
       "    <tr style=\"text-align: right;\">\n",
       "      <th></th>\n",
       "      <th>at</th>\n",
       "      <th>score</th>\n",
       "      <th>content</th>\n",
       "    </tr>\n",
       "  </thead>\n",
       "  <tbody>\n",
       "    <tr>\n",
       "      <th>3</th>\n",
       "      <td>2021-06-02 18:31:31</td>\n",
       "      <td>5</td>\n",
       "      <td>ok na ok sya para sa mga easy transaction lalo...</td>\n",
       "    </tr>\n",
       "    <tr>\n",
       "      <th>4</th>\n",
       "      <td>2021-06-02 18:31:25</td>\n",
       "      <td>5</td>\n",
       "      <td>very helpful and contented</td>\n",
       "    </tr>\n",
       "    <tr>\n",
       "      <th>7</th>\n",
       "      <td>2021-06-02 18:30:58</td>\n",
       "      <td>5</td>\n",
       "      <td>satisfied</td>\n",
       "    </tr>\n",
       "    <tr>\n",
       "      <th>8</th>\n",
       "      <td>2021-06-02 18:30:51</td>\n",
       "      <td>5</td>\n",
       "      <td>ok cya</td>\n",
       "    </tr>\n",
       "    <tr>\n",
       "      <th>9</th>\n",
       "      <td>2021-06-02 18:29:56</td>\n",
       "      <td>5</td>\n",
       "      <td>this app is already good</td>\n",
       "    </tr>\n",
       "  </tbody>\n",
       "</table>\n",
       "</div>"
      ],
      "text/plain": [
       "                    at  score  \\\n",
       "3  2021-06-02 18:31:31      5   \n",
       "4  2021-06-02 18:31:25      5   \n",
       "7  2021-06-02 18:30:58      5   \n",
       "8  2021-06-02 18:30:51      5   \n",
       "9  2021-06-02 18:29:56      5   \n",
       "\n",
       "                                             content  \n",
       "3  ok na ok sya para sa mga easy transaction lalo...  \n",
       "4                         very helpful and contented  \n",
       "7                                          satisfied  \n",
       "8                                             ok cya  \n",
       "9                           this app is already good  "
      ]
     },
     "execution_count": 13,
     "metadata": {},
     "output_type": "execute_result"
    }
   ],
   "source": [
    "gcash_rating5 = gcash_reviews[gcash_reviews['score'] == 5]\n",
    "gcash_rating5.head()"
   ]
  },
  {
   "cell_type": "code",
   "execution_count": 14,
   "id": "9f2f100d-6030-42f5-a1be-59c3590659ac",
   "metadata": {
    "colab": {
     "base_uri": "https://localhost:8080/",
     "height": 505
    },
    "id": "9f2f100d-6030-42f5-a1be-59c3590659ac",
    "outputId": "17178f73-da01-414c-d0d0-a0546e944896"
   },
   "outputs": [
    {
     "name": "stderr",
     "output_type": "stream",
     "text": [
      "D:\\Anaconda3\\envs\\project-env-2\\lib\\site-packages\\ipykernel\\ipkernel.py:287: DeprecationWarning: `should_run_async` will not call `transform_cell` automatically in the future. Please pass the result to `transformed_cell` argument and any exception that happen during thetransform in `preprocessing_exc_tuple` in IPython 7.17 and above.\n",
      "  and should_run_async(code)\n"
     ]
    },
    {
     "data": {
      "text/html": [
       "<div>\n",
       "<style scoped>\n",
       "    .dataframe tbody tr th:only-of-type {\n",
       "        vertical-align: middle;\n",
       "    }\n",
       "\n",
       "    .dataframe tbody tr th {\n",
       "        vertical-align: top;\n",
       "    }\n",
       "\n",
       "    .dataframe thead th {\n",
       "        text-align: right;\n",
       "    }\n",
       "</style>\n",
       "<table border=\"1\" class=\"dataframe\">\n",
       "  <thead>\n",
       "    <tr style=\"text-align: right;\">\n",
       "      <th></th>\n",
       "      <th>at</th>\n",
       "      <th>score</th>\n",
       "      <th>content</th>\n",
       "    </tr>\n",
       "  </thead>\n",
       "  <tbody>\n",
       "    <tr>\n",
       "      <th>0</th>\n",
       "      <td>2021-06-02 18:32:37</td>\n",
       "      <td>1</td>\n",
       "      <td>good for mobile online deals</td>\n",
       "    </tr>\n",
       "    <tr>\n",
       "      <th>1</th>\n",
       "      <td>2021-06-02 18:32:14</td>\n",
       "      <td>1</td>\n",
       "      <td>ilang beses nang naulit na nag load ako nag ba...</td>\n",
       "    </tr>\n",
       "    <tr>\n",
       "      <th>6</th>\n",
       "      <td>2021-06-02 18:31:07</td>\n",
       "      <td>1</td>\n",
       "      <td>disappointed with the new features in buying a...</td>\n",
       "    </tr>\n",
       "    <tr>\n",
       "      <th>10</th>\n",
       "      <td>2021-06-02 18:29:06</td>\n",
       "      <td>1</td>\n",
       "      <td>the new update has many bugs</td>\n",
       "    </tr>\n",
       "    <tr>\n",
       "      <th>11</th>\n",
       "      <td>2021-06-02 18:28:30</td>\n",
       "      <td>1</td>\n",
       "      <td>regular prepaid loading options are gone</td>\n",
       "    </tr>\n",
       "  </tbody>\n",
       "</table>\n",
       "</div>"
      ],
      "text/plain": [
       "                     at  score  \\\n",
       "0   2021-06-02 18:32:37      1   \n",
       "1   2021-06-02 18:32:14      1   \n",
       "6   2021-06-02 18:31:07      1   \n",
       "10  2021-06-02 18:29:06      1   \n",
       "11  2021-06-02 18:28:30      1   \n",
       "\n",
       "                                              content  \n",
       "0                       good for mobile online deals   \n",
       "1   ilang beses nang naulit na nag load ako nag ba...  \n",
       "6   disappointed with the new features in buying a...  \n",
       "10                       the new update has many bugs  \n",
       "11          regular prepaid loading options are gone   "
      ]
     },
     "execution_count": 14,
     "metadata": {},
     "output_type": "execute_result"
    }
   ],
   "source": [
    "gcash_rating1 = gcash_reviews[gcash_reviews['score'] == 1]\n",
    "gcash_rating1.head()"
   ]
  },
  {
   "cell_type": "markdown",
   "id": "17b312ca-1bd9-4427-874d-a9d472fef37b",
   "metadata": {
    "id": "17b312ca-1bd9-4427-874d-a9d472fef37b"
   },
   "source": [
    "### Loading Stopword List"
   ]
  },
  {
   "cell_type": "code",
   "execution_count": 15,
   "id": "2c9960d7-3ba0-4d80-b11b-f0bc9536fa09",
   "metadata": {
    "id": "2c9960d7-3ba0-4d80-b11b-f0bc9536fa09"
   },
   "outputs": [
    {
     "name": "stderr",
     "output_type": "stream",
     "text": [
      "D:\\Anaconda3\\envs\\project-env-2\\lib\\site-packages\\ipykernel\\ipkernel.py:287: DeprecationWarning: `should_run_async` will not call `transform_cell` automatically in the future. Please pass the result to `transformed_cell` argument and any exception that happen during thetransform in `preprocessing_exc_tuple` in IPython 7.17 and above.\n",
      "  and should_run_async(code)\n"
     ]
    }
   ],
   "source": [
    "from spacy.lang.tl.stop_words import STOP_WORDS as tl_stop\n",
    "from spacy.lang.en.stop_words import STOP_WORDS as en_stop"
   ]
  },
  {
   "cell_type": "code",
   "execution_count": 16,
   "id": "a409809b-989a-42e6-9475-bafe4359013c",
   "metadata": {
    "id": "a409809b-989a-42e6-9475-bafe4359013c"
   },
   "outputs": [
    {
     "name": "stderr",
     "output_type": "stream",
     "text": [
      "D:\\Anaconda3\\envs\\project-env-2\\lib\\site-packages\\ipykernel\\ipkernel.py:287: DeprecationWarning: `should_run_async` will not call `transform_cell` automatically in the future. Please pass the result to `transformed_cell` argument and any exception that happen during thetransform in `preprocessing_exc_tuple` in IPython 7.17 and above.\n",
      "  and should_run_async(code)\n"
     ]
    }
   ],
   "source": [
    "final_stopwords_list = list(tl_stop) + list(en_stop) + \\\n",
    "['gcash', 'g-cash', 'app','po', 'please', 'i', 'thank', 'nyo', 'lang', 'pag', 'mag', 'nag', 'rin', 'nyu', 'kau', 'naman', 'mo']"
   ]
  },
  {
   "cell_type": "code",
   "execution_count": 17,
   "id": "81b156db-fd78-4289-b942-13c92e083b44",
   "metadata": {
    "colab": {
     "base_uri": "https://localhost:8080/"
    },
    "id": "81b156db-fd78-4289-b942-13c92e083b44",
    "outputId": "2935a43b-a02d-4dd8-e18a-f0db40977ab0"
   },
   "outputs": [
    {
     "name": "stderr",
     "output_type": "stream",
     "text": [
      "D:\\Anaconda3\\envs\\project-env-2\\lib\\site-packages\\ipykernel\\ipkernel.py:287: DeprecationWarning: `should_run_async` will not call `transform_cell` automatically in the future. Please pass the result to `transformed_cell` argument and any exception that happen during thetransform in `preprocessing_exc_tuple` in IPython 7.17 and above.\n",
      "  and should_run_async(code)\n"
     ]
    }
   ],
   "source": [
    "# Initialize spacy 'en' model, keeping only tagger component (for efficiency)\n",
    "nlp = spacy.load(\"en_core_web_sm\", disable=['parser', 'ner'])\n",
    "nlp.Defaults.stop_words.update(final_stopwords_list)"
   ]
  },
  {
   "cell_type": "markdown",
   "id": "c32c3872-f82b-4837-958c-9c9d44b8de0b",
   "metadata": {
    "id": "c32c3872-f82b-4837-958c-9c9d44b8de0b"
   },
   "source": [
    "---\n",
    "### LDA Topic Modelling <br>\n",
    "### A. Gcash 1-Star Reviews"
   ]
  },
  {
   "cell_type": "code",
   "execution_count": null,
   "id": "74cc6353-e28e-4599-ae79-5dc250f2b0b9",
   "metadata": {
    "colab": {
     "base_uri": "https://localhost:8080/"
    },
    "id": "74cc6353-e28e-4599-ae79-5dc250f2b0b9",
    "outputId": "dd47cf35-c620-4d71-d79b-210557a42686"
   },
   "outputs": [
    {
     "name": "stdout",
     "output_type": "stream",
     "text": [
      "['good', 'for', 'mobile', 'online', 'deals']\n"
     ]
    }
   ],
   "source": [
    "def sent_to_words(sentences):\n",
    "    for sentence in sentences:\n",
    "        yield(gensim.utils.simple_preprocess(str(sentence)))\n",
    "\n",
    "data = gcash_rating1.content.values.tolist()\n",
    "data_words = list(sent_to_words(data))\n",
    "print(data_words[:1][0][:30])"
   ]
  },
  {
   "cell_type": "markdown",
   "id": "d562757f-024a-49ac-b70d-919e7b16ff23",
   "metadata": {
    "id": "d562757f-024a-49ac-b70d-919e7b16ff23"
   },
   "source": [
    "### Phrase Modeling: Bigram Model"
   ]
  },
  {
   "cell_type": "code",
   "execution_count": null,
   "id": "48df84c4-e1c9-43a7-8cc9-a1b95a569f30",
   "metadata": {
    "id": "48df84c4-e1c9-43a7-8cc9-a1b95a569f30"
   },
   "outputs": [],
   "source": [
    "# Build the bigram model\n",
    "bigram = gensim.models.Phrases(data_words, min_count=5, threshold=100) # higher threshold fewer phrases.\n",
    "\n",
    "# Faster way to get a sentence clubbed as a bigram\n",
    "bigram_mod = gensim.models.phrases.Phraser(bigram)"
   ]
  },
  {
   "cell_type": "code",
   "execution_count": null,
   "id": "35114576-a32b-46d5-9934-f8204f7048fb",
   "metadata": {
    "id": "35114576-a32b-46d5-9934-f8204f7048fb"
   },
   "outputs": [],
   "source": [
    "# Define functions for stopwords, bigrams, and lemmatization\n",
    "def remove_stopwords(texts):\n",
    "    return [[word for word in simple_preprocess(str(doc)) if word not in final_stopwords_list] for doc in texts]\n",
    "\n",
    "\n",
    "def make_bigrams(texts):\n",
    "    return [bigram_mod[doc] for doc in texts]"
   ]
  },
  {
   "cell_type": "code",
   "execution_count": null,
   "id": "7ba20e86-b584-4a00-b51e-07a78ddc1bd9",
   "metadata": {
    "colab": {
     "base_uri": "https://localhost:8080/"
    },
    "id": "7ba20e86-b584-4a00-b51e-07a78ddc1bd9",
    "outputId": "a4a3958f-6eba-4f12-9fcc-8eea8b7ee8ae"
   },
   "outputs": [
    {
     "name": "stdout",
     "output_type": "stream",
     "text": [
      "[['ok', 'ok', 'sya', 'easy', 'transaction', 'lalo', 'malalayong', 'lugar', 'thumb']]\n"
     ]
    }
   ],
   "source": [
    "# Remove Stop Words\n",
    "data_words_nostops1 = remove_stopwords(data_words)\n",
    "\n",
    "# Form Bigrams\n",
    "data_words_bigrams1 = make_bigrams(data_words_nostops1)\n",
    "\n",
    "print(data_words_bigrams1[:1])"
   ]
  },
  {
   "cell_type": "code",
   "execution_count": null,
   "id": "358c3d8a-b7fc-4b4a-9b34-09e76561346f",
   "metadata": {
    "colab": {
     "base_uri": "https://localhost:8080/"
    },
    "id": "358c3d8a-b7fc-4b4a-9b34-09e76561346f",
    "outputId": "8cce6162-9b4d-4877-afa5-d03588c29c7b"
   },
   "outputs": [
    {
     "name": "stdout",
     "output_type": "stream",
     "text": [
      "[[(0, 1), (1, 1), (2, 1), (3, 1)]]\n"
     ]
    }
   ],
   "source": [
    "# Create Dictionary\n",
    "id2word1 = corpora.Dictionary(data_words_bigrams1)\n",
    "\n",
    "# Create Corpus\n",
    "texts1 = data_words_bigrams1\n",
    "\n",
    "# Term Document Frequency\n",
    "corpus1 = [id2word1.doc2bow(text) for text in texts1]\n",
    "\n",
    "# View\n",
    "print(corpus1[:1])"
   ]
  },
  {
   "cell_type": "markdown",
   "id": "e2f384de-5d56-4e7c-91c8-b12171cffe73",
   "metadata": {
    "id": "e2f384de-5d56-4e7c-91c8-b12171cffe73"
   },
   "source": [
    "### Base Model Creation"
   ]
  },
  {
   "cell_type": "code",
   "execution_count": null,
   "id": "17dc9e23-1b22-4236-9ded-5dd19a1de7f3",
   "metadata": {
    "id": "17dc9e23-1b22-4236-9ded-5dd19a1de7f3"
   },
   "outputs": [],
   "source": [
    "# Build LDA model\n",
    "lda_model_rating1 = gensim.models.LdaMulticore(corpus=corpus1,\n",
    "                                       id2word=id2word1,\n",
    "                                       num_topics=10, \n",
    "                                       random_state=1,\n",
    "                                       chunksize=100,\n",
    "                                       passes=10,\n",
    "                                       per_word_topics=True)"
   ]
  },
  {
   "cell_type": "code",
   "execution_count": null,
   "id": "ae2ffce7-64ec-41fa-99c7-cd907eaabcb8",
   "metadata": {
    "colab": {
     "base_uri": "https://localhost:8080/"
    },
    "id": "ae2ffce7-64ec-41fa-99c7-cd907eaabcb8",
    "outputId": "0c9185df-a71f-4a5b-9b52-b68a67707c0a",
    "scrolled": true
   },
   "outputs": [
    {
     "name": "stdout",
     "output_type": "stream",
     "text": [
      "[(0,\n",
      "  '0.043*\"account\" + 0.041*\"error\" + 0.038*\"fix\" + 0.033*\"problem\" + '\n",
      "  '0.026*\"register\" + 0.025*\"log\" + 0.024*\"time\" + 0.017*\"wrong\" + '\n",
      "  '0.016*\"bank\" + 0.016*\"saying\"'),\n",
      " (1,\n",
      "  '0.051*\"like\" + 0.050*\"good\" + 0.043*\"time\" + 0.043*\"use\" + 0.033*\"star\" + '\n",
      "  '0.023*\"pay\" + 0.023*\"working\" + 0.022*\"bank\" + 0.015*\"said\" + 0.014*\"link\"'),\n",
      " (2,\n",
      "  '0.033*\"payment\" + 0.029*\"money\" + 0.027*\"number\" + 0.024*\"received\" + '\n",
      "  '0.022*\"got\" + 0.022*\"account\" + 0.021*\"hard\" + 0.020*\"use\" + 0.019*\"email\" '\n",
      "  '+ 0.017*\"pesos\"'),\n",
      " (3,\n",
      "  '0.089*\"id\" + 0.072*\"verified\" + 0.065*\"account\" + 0.062*\"verify\" + '\n",
      "  '0.039*\"fully\" + 0.038*\"student\" + 0.038*\"verification\" + 0.026*\"updating\" + '\n",
      "  '0.015*\"need\" + 0.013*\"picture\"'),\n",
      " (4,\n",
      "  '0.087*\"money\" + 0.065*\"send\" + 0.049*\"code\" + 0.035*\"transfer\" + '\n",
      "  '0.027*\"receive\" + 0.024*\"help\" + 0.022*\"want\" + 0.021*\"process\" + '\n",
      "  '0.018*\"work\" + 0.018*\"valid\"'),\n",
      " (5,\n",
      "  '0.056*\"di\" + 0.037*\"wala\" + 0.029*\"pera\" + 0.028*\"kayo\" + 0.022*\"tapos\" + '\n",
      "  '0.019*\"ma\" + 0.018*\"hope\" + 0.016*\"ung\" + 0.016*\"sana\" + 0.013*\"yan\"'),\n",
      " (6,\n",
      "  '0.075*\"cash\" + 0.033*\"transaction\" + 0.031*\"pls\" + 0.023*\"change\" + '\n",
      "  '0.023*\"balance\" + 0.021*\"download\" + 0.021*\"available\" + '\n",
      "  '0.019*\"transactions\" + 0.018*\"ba\" + 0.017*\"paypal\"'),\n",
      " (7,\n",
      "  '0.219*\"update\" + 0.069*\"need\" + 0.037*\"open\" + 0.030*\"says\" + 0.026*\"phone\" '\n",
      "  '+ 0.024*\"use\" + 0.023*\"apps\" + 0.021*\"updated\" + 0.021*\"everytime\" + '\n",
      "  '0.018*\"new\"'),\n",
      " (8,\n",
      "  '0.069*\"service\" + 0.045*\"customer\" + 0.033*\"times\" + 0.031*\"poor\" + '\n",
      "  '0.031*\"useless\" + 0.028*\"slow\" + 0.023*\"worst\" + 0.020*\"support\" + '\n",
      "  '0.019*\"tried\" + 0.017*\"updates\"'),\n",
      " (9,\n",
      "  '0.132*\"load\" + 0.053*\"yung\" + 0.040*\"buy\" + 0.021*\"niyo\" + 0.020*\"puro\" + '\n",
      "  '0.017*\"fee\" + 0.016*\"trying\" + 0.015*\"rebates\" + 0.015*\"rebate\" + '\n",
      "  '0.013*\"ok\"')]\n"
     ]
    }
   ],
   "source": [
    "# Print the keywords in the 10 topics\n",
    "pprint(lda_model_rating1.print_topics())\n",
    "doc_lda= lda_model_rating1[corpus1]"
   ]
  },
  {
   "cell_type": "code",
   "execution_count": null,
   "id": "183ecab6-7f49-4042-9bef-e5814e5f54f6",
   "metadata": {
    "colab": {
     "base_uri": "https://localhost:8080/"
    },
    "id": "183ecab6-7f49-4042-9bef-e5814e5f54f6",
    "outputId": "937533be-328e-48f6-88b7-5aba1cb1b7c5"
   },
   "outputs": [
    {
     "name": "stdout",
     "output_type": "stream",
     "text": [
      "\n",
      "Coherence Score:  0.4128627617734912\n"
     ]
    }
   ],
   "source": [
    "# Compute Coherence Score\n",
    "coherence_model_lda1 = CoherenceModel(model=lda_model_rating1, texts=data_words_bigrams1, dictionary=id2word1, coherence='c_v')\n",
    "coherence_lda1 = coherence_model_lda1.get_coherence()\n",
    "\n",
    "print('\\nCoherence Score: ', coherence_lda1)"
   ]
  },
  {
   "cell_type": "markdown",
   "id": "dbfa61d3-4f00-4204-bfc3-fcd9bcfb01c2",
   "metadata": {
    "id": "dbfa61d3-4f00-4204-bfc3-fcd9bcfb01c2"
   },
   "source": [
    "### Hyperparameter Tuning <br>\n",
    "This part aims the optimum number of topics and values for eta and alpha."
   ]
  },
  {
   "cell_type": "code",
   "execution_count": 21,
   "id": "9ab1a154-adee-4f0b-bc27-536c9de67825",
   "metadata": {
    "id": "9ab1a154-adee-4f0b-bc27-536c9de67825"
   },
   "outputs": [
    {
     "name": "stderr",
     "output_type": "stream",
     "text": [
      "D:\\Anaconda3\\envs\\project-env-2\\lib\\site-packages\\ipykernel\\ipkernel.py:287: DeprecationWarning: `should_run_async` will not call `transform_cell` automatically in the future. Please pass the result to `transformed_cell` argument and any exception that happen during thetransform in `preprocessing_exc_tuple` in IPython 7.17 and above.\n",
      "  and should_run_async(code)\n"
     ]
    }
   ],
   "source": [
    "# supporting function\n",
    "def compute_coherence_values(data, corpus, dictionary, k, a, eta):\n",
    "    \n",
    "    lda_model = gensim.models.LdaMulticore(corpus=corpus,\n",
    "                                           id2word=dictionary,\n",
    "                                           num_topics=k,\n",
    "                                           alpha=a,\n",
    "                                           eta=eta,\n",
    "                                           random_state=100,\n",
    "                                           chunksize=100,\n",
    "                                           passes=10)\n",
    "    \n",
    "    coherence_model_lda = CoherenceModel(model=lda_model, texts=data, dictionary=dictionary, coherence='c_v')\n",
    "    \n",
    "    return coherence_model_lda.get_coherence()"
   ]
  },
  {
   "cell_type": "code",
   "execution_count": null,
   "id": "e72b3af5-0ca6-4882-a129-5f04debe21bc",
   "metadata": {
    "id": "e72b3af5-0ca6-4882-a129-5f04debe21bc"
   },
   "outputs": [],
   "source": [
    "grid = {}\n",
    "grid['Validation_Set'] = {}\n",
    "\n",
    "# Topics range\n",
    "min_topics = 2\n",
    "max_topics = 11\n",
    "step_size = 1\n",
    "topics_range = range(min_topics, max_topics, step_size)\n",
    "\n",
    "# Alpha parameter\n",
    "alpha = list(np.arange(0.01, 1, 0.3))\n",
    "alpha.append('symmetric')\n",
    "alpha.append('asymmetric')\n",
    "\n",
    "# Eta parameter\n",
    "eta = list(np.arange(0.01, 1, 0.3))\n",
    "eta.append('symmetric')"
   ]
  },
  {
   "cell_type": "code",
   "execution_count": null,
   "id": "c68b465e-c4e0-49cd-8a96-881f81b4e70b",
   "metadata": {
    "id": "c68b465e-c4e0-49cd-8a96-881f81b4e70b",
    "scrolled": true
   },
   "outputs": [],
   "source": [
    "model_results = {'Topics': [],\n",
    "                 'Alpha': [],\n",
    "                 'Eta': [],\n",
    "                 'Coherence': []\n",
    "                }\n",
    "# Loop to determine optimal number of topics\n",
    "if 1 == 1:\n",
    "    pbar = tqdm.tqdm(total=54)\n",
    "    \n",
    "    # iterate through the number of topics\n",
    "    for k in topics_range:\n",
    "        # iterate through alpha values\n",
    "        for a in alpha:\n",
    "            # iterare through eta values\n",
    "            for e in eta:\n",
    "                cv = compute_coherence_values(data_words_bigrams1, \n",
    "                                              corpus=corpus1, \n",
    "                                              dictionary=id2word1, \n",
    "                                              k=k,\n",
    "                                              a=a,\n",
    "                                              eta=e)\n",
    "                model_results['Topics'].append(k)\n",
    "                model_results['Alpha'].append(a)\n",
    "                model_results['Eta'].append(e)\n",
    "                model_results['Coherence'].append(cv)\n",
    "        \n",
    "            pbar.update(1)\n",
    "    \n",
    "    pd.DataFrame(model_results).to_csv('gcash_playstore_lda_tuning_results_rating1.csv', index=False)\n",
    "    pbar.close()"
   ]
  },
  {
   "cell_type": "code",
   "execution_count": null,
   "id": "e0ebb0f9-6d7f-484f-b37e-547e9109caac",
   "metadata": {
    "id": "e0ebb0f9-6d7f-484f-b37e-547e9109caac"
   },
   "outputs": [],
   "source": [
    "gcash_playstore_lda_tuning_results_rating1= pd.read_csv('gcash_playstore_lda_tuning_results_rating1.csv')"
   ]
  },
  {
   "cell_type": "code",
   "execution_count": null,
   "id": "8ef77a66-9934-453d-9891-c1f0c0267b6e",
   "metadata": {
    "colab": {
     "base_uri": "https://localhost:8080/",
     "height": 417
    },
    "id": "8ef77a66-9934-453d-9891-c1f0c0267b6e",
    "outputId": "1d65c72d-d901-4dab-bb1f-4c2c07c522b2"
   },
   "outputs": [
    {
     "data": {
      "text/html": [
       "<div>\n",
       "<style scoped>\n",
       "    .dataframe tbody tr th:only-of-type {\n",
       "        vertical-align: middle;\n",
       "    }\n",
       "\n",
       "    .dataframe tbody tr th {\n",
       "        vertical-align: top;\n",
       "    }\n",
       "\n",
       "    .dataframe thead th {\n",
       "        text-align: right;\n",
       "    }\n",
       "</style>\n",
       "<table border=\"1\" class=\"dataframe\">\n",
       "  <thead>\n",
       "    <tr style=\"text-align: right;\">\n",
       "      <th></th>\n",
       "      <th>Topics</th>\n",
       "      <th>Alpha</th>\n",
       "      <th>Eta</th>\n",
       "      <th>Coherence</th>\n",
       "    </tr>\n",
       "  </thead>\n",
       "  <tbody>\n",
       "    <tr>\n",
       "      <th>123</th>\n",
       "      <td>6</td>\n",
       "      <td>0.01</td>\n",
       "      <td>0.9099999999999999</td>\n",
       "      <td>0.570397</td>\n",
       "    </tr>\n",
       "    <tr>\n",
       "      <th>183</th>\n",
       "      <td>8</td>\n",
       "      <td>0.01</td>\n",
       "      <td>0.9099999999999999</td>\n",
       "      <td>0.566391</td>\n",
       "    </tr>\n",
       "    <tr>\n",
       "      <th>203</th>\n",
       "      <td>8</td>\n",
       "      <td>symmetric</td>\n",
       "      <td>0.9099999999999999</td>\n",
       "      <td>0.565049</td>\n",
       "    </tr>\n",
       "    <tr>\n",
       "      <th>233</th>\n",
       "      <td>9</td>\n",
       "      <td>symmetric</td>\n",
       "      <td>0.9099999999999999</td>\n",
       "      <td>0.561167</td>\n",
       "    </tr>\n",
       "    <tr>\n",
       "      <th>173</th>\n",
       "      <td>7</td>\n",
       "      <td>symmetric</td>\n",
       "      <td>0.9099999999999999</td>\n",
       "      <td>0.561051</td>\n",
       "    </tr>\n",
       "    <tr>\n",
       "      <th>...</th>\n",
       "      <td>...</td>\n",
       "      <td>...</td>\n",
       "      <td>...</td>\n",
       "      <td>...</td>\n",
       "    </tr>\n",
       "    <tr>\n",
       "      <th>5</th>\n",
       "      <td>2</td>\n",
       "      <td>0.31</td>\n",
       "      <td>0.01</td>\n",
       "      <td>0.307047</td>\n",
       "    </tr>\n",
       "    <tr>\n",
       "      <th>15</th>\n",
       "      <td>2</td>\n",
       "      <td>0.9099999999999999</td>\n",
       "      <td>0.01</td>\n",
       "      <td>0.290869</td>\n",
       "    </tr>\n",
       "    <tr>\n",
       "      <th>10</th>\n",
       "      <td>2</td>\n",
       "      <td>0.61</td>\n",
       "      <td>0.01</td>\n",
       "      <td>0.289438</td>\n",
       "    </tr>\n",
       "    <tr>\n",
       "      <th>20</th>\n",
       "      <td>2</td>\n",
       "      <td>symmetric</td>\n",
       "      <td>0.01</td>\n",
       "      <td>0.284998</td>\n",
       "    </tr>\n",
       "    <tr>\n",
       "      <th>0</th>\n",
       "      <td>2</td>\n",
       "      <td>0.01</td>\n",
       "      <td>0.01</td>\n",
       "      <td>0.279230</td>\n",
       "    </tr>\n",
       "  </tbody>\n",
       "</table>\n",
       "<p>270 rows × 4 columns</p>\n",
       "</div>"
      ],
      "text/plain": [
       "     Topics               Alpha                 Eta  Coherence\n",
       "123       6                0.01  0.9099999999999999   0.570397\n",
       "183       8                0.01  0.9099999999999999   0.566391\n",
       "203       8           symmetric  0.9099999999999999   0.565049\n",
       "233       9           symmetric  0.9099999999999999   0.561167\n",
       "173       7           symmetric  0.9099999999999999   0.561051\n",
       "..      ...                 ...                 ...        ...\n",
       "5         2                0.31                0.01   0.307047\n",
       "15        2  0.9099999999999999                0.01   0.290869\n",
       "10        2                0.61                0.01   0.289438\n",
       "20        2           symmetric                0.01   0.284998\n",
       "0         2                0.01                0.01   0.279230\n",
       "\n",
       "[270 rows x 4 columns]"
      ]
     },
     "execution_count": 30,
     "metadata": {
      "tags": []
     },
     "output_type": "execute_result"
    }
   ],
   "source": [
    "gcash_playstore_lda_tuning_results_rating1.sort_values(by='Coherence', ascending=False)"
   ]
  },
  {
   "cell_type": "markdown",
   "id": "d3a59f75-e951-4614-bca9-e1195779c4f2",
   "metadata": {
    "id": "d3a59f75-e951-4614-bca9-e1195779c4f2"
   },
   "source": [
    "### Final Model"
   ]
  },
  {
   "cell_type": "code",
   "execution_count": null,
   "id": "acfb1180-a891-47c2-83a0-db5ebd83c65a",
   "metadata": {
    "id": "acfb1180-a891-47c2-83a0-db5ebd83c65a"
   },
   "outputs": [],
   "source": [
    "final_lda1 = gensim.models.LdaMulticore(corpus=corpus1,\n",
    "                                           id2word=id2word1,\n",
    "                                           num_topics=6, \n",
    "                                           random_state=100,\n",
    "                                           chunksize=100,\n",
    "                                           passes=10,\n",
    "                                           alpha=0.01,\n",
    "                                           eta=0.9099999999999999\t)"
   ]
  },
  {
   "cell_type": "code",
   "execution_count": null,
   "id": "84134366-36cf-4e50-bc9d-36d700069b4e",
   "metadata": {
    "colab": {
     "base_uri": "https://localhost:8080/",
     "height": 881
    },
    "id": "84134366-36cf-4e50-bc9d-36d700069b4e",
    "outputId": "f9714462-6f52-4bbe-fb6a-de173ad8933a"
   },
   "outputs": [
    {
     "data": {
      "text/html": [
       "\n",
       "<link rel=\"stylesheet\" type=\"text/css\" href=\"https://cdn.jsdelivr.net/gh/bmabey/pyLDAvis@3.3.1/pyLDAvis/js/ldavis.v1.0.0.css\">\n",
       "\n",
       "\n",
       "<div id=\"ldavis_el197140515018747984705440068\"></div>\n",
       "<script type=\"text/javascript\">\n",
       "\n",
       "var ldavis_el197140515018747984705440068_data = {\"mdsDat\": {\"x\": [-0.21868600187307224, 0.1489425027747781, -0.06142985637923098, -0.013358884324015621, 0.07742471995141346, 0.06710751985012743], \"y\": [0.07044963508712596, 0.1500988626744547, 0.026028620170002698, -0.14615356582794503, -0.05467470812358291, -0.04574884398005543], \"topics\": [1, 2, 3, 4, 5, 6], \"cluster\": [1, 1, 1, 1, 1, 1], \"Freq\": [47.84563030122017, 22.386053453776952, 12.881892741770361, 9.131565791214435, 5.691818273610268, 2.0630394384078077]}, \"tinfo\": {\"Term\": [\"update\", \"load\", \"id\", \"verified\", \"verify\", \"money\", \"account\", \"good\", \"di\", \"yung\", \"need\", \"fully\", \"student\", \"buy\", \"open\", \"verification\", \"wala\", \"updating\", \"use\", \"pera\", \"phone\", \"kayo\", \"service\", \"register\", \"log\", \"updated\", \"time\", \"tapos\", \"send\", \"niyo\", \"money\", \"poor\", \"customer\", \"pay\", \"receive\", \"worst\", \"sent\", \"bad\", \"fee\", \"long\", \"support\", \"said\", \"got\", \"lost\", \"deducted\", \"rate\", \"transactions\", \"paypal\", \"sending\", \"experience\", \"takes\", \"service\", \"bank\", \"wait\", \"waiting\", \"soon\", \"response\", \"issues\", \"days\", \"better\", \"message\", \"waste\", \"send\", \"getting\", \"problem\", \"transaction\", \"received\", \"cash\", \"time\", \"transfer\", \"code\", \"like\", \"useless\", \"email\", \"use\", \"fix\", \"star\", \"account\", \"payment\", \"error\", \"need\", \"number\", \"pesos\", \"help\", \"verification\", \"di\", \"yung\", \"wala\", \"pera\", \"kayo\", \"tapos\", \"niyo\", \"puro\", \"ma\", \"sana\", \"ung\", \"ba\", \"yan\", \"ayaw\", \"magamit\", \"bulok\", \"tagal\", \"talaga\", \"ayusin\", \"pang\", \"kasi\", \"nmn\", \"maka\", \"kwenta\", \"laman\", \"dumating\", \"lng\", \"nalang\", \"kaso\", \"nga\", \"nakakainis\", \"update\", \"load\", \"apps\", \"open\", \"updating\", \"log\", \"phone\", \"updated\", \"install\", \"register\", \"version\", \"mpin\", \"space\", \"login\", \"storage\", \"android\", \"compatible\", \"oops\", \"internet_connection\", \"android_ver\", \"device\", \"nakka\", \"pisty\", \"installing\", \"ram\", \"memory\", \"forgot\", \"pop\", \"bangladesh\", \"crashing\", \"sign\", \"frequent\", \"requiring\", \"update\", \"went_wrong\", \"ok\", \"hate\", \"everytime\", \"annoying\", \"download\", \"need\", \"needs\", \"slow\", \"says\", \"qr\", \"new\", \"keeps\", \"try\", \"use\", \"week\", \"fix\", \"apps\", \"account\", \"time\", \"working\", \"id\", \"verified\", \"verify\", \"student\", \"fully\", \"valid\", \"picture\", \"clear\", \"students\", \"school\", \"ids\", \"photo\", \"blurry\", \"accept\", \"camera\", \"tin\", \"passport\", \"semi\", \"list\", \"postal\", \"readable\", \"unclear\", \"prc\", \"choices\", \"selfie\", \"include\", \"face\", \"sss\", \"blur\", \"blurred\", \"option\", \"verification\", \"options\", \"account\", \"scan\", \"recommended\", \"hard\", \"taking\", \"basic_user\", \"says\", \"times\", \"use\", \"tried\", \"need\", \"like\", \"buy\", \"rebates\", \"rebate\", \"regular\", \"loading\", \"voucher\", \"buying\", \"load\", \"lag\", \"prepaid\", \"insted\", \"points\", \"win\", \"scratch\", \"promos\", \"games\", \"vouchers\", \"fake\", \"promo\", \"cashback\", \"decreasing\", \"increasing\", \"loads\", \"buggy\", \"play\", \"tm\", \"reff\", \"reward\", \"prepaid_wifi\", \"win_promo\", \"home\", \"smart\", \"increase\", \"scam\", \"option\", \"globe\", \"bring\", \"feature\", \"data\", \"remove\", \"happened\", \"nice\", \"hatdog\", \"hahahatdog\", \"hahatdog\", \"idiot\", \"becouse\", \"rommeltorres\", \"learn\", \"trap\", \"pakyu\", \"eror\", \"demadownload\", \"fun\", \"regester\", \"ah\", \"shi\", \"cool\", \"haha\", \"ulol\", \"ggash\", \"makapagverify\", \"amazing\", \"microcharges\", \"pinoys\", \"kapanget\", \"gtrash\", \"agree\", \"eeror\", \"stoped\", \"cij\", \"good\", \"happy\", \"accout\", \"exchange\", \"somthing\", \"wow\", \"san\", \"unreliable\", \"apps\", \"disable\", \"housing\"], \"Freq\": [1712.0, 694.0, 588.0, 477.0, 412.0, 1202.0, 1346.0, 236.0, 508.0, 490.0, 854.0, 262.0, 252.0, 201.0, 270.0, 351.0, 341.0, 209.0, 852.0, 268.0, 192.0, 253.0, 630.0, 159.0, 152.0, 153.0, 605.0, 203.0, 650.0, 190.0, 1200.2081533582964, 288.9529662597587, 415.8391398869421, 283.1815159640642, 271.65564839481334, 208.42476464869216, 167.39577469276972, 164.38912691622954, 185.072716038618, 146.03420031835918, 184.2637776004217, 179.1650607082567, 196.28619325046103, 125.56864570782604, 131.78849031130605, 128.32987602372637, 165.9222999929479, 149.6160911036634, 109.58634812286778, 117.7589222580929, 124.21514735768947, 616.0182658325293, 360.0595645879106, 112.4516336441493, 91.56011153831243, 112.1593280586793, 84.93459120999945, 93.79137829596587, 255.41385744897613, 117.23451808901606, 124.02573778581625, 110.86443986458045, 619.4701497106669, 124.29955544517385, 290.1873162543417, 321.2653899359204, 192.32647691436844, 565.3930486313138, 535.7570095295271, 314.5597493468765, 419.04574824629105, 395.704380760516, 258.72940617908336, 246.35359080514118, 666.3810798649172, 479.35627303288425, 303.42415089736494, 948.9834730762858, 254.21409395212353, 282.4279230193291, 467.83447446336635, 260.67784196983115, 198.13996565497877, 202.64065787127004, 211.07004030068984, 506.1561330709091, 488.086436786748, 339.1390860600764, 266.0137930677961, 250.75595329962735, 200.9222777989212, 188.28403217779692, 186.2514747031486, 173.73360059971625, 142.76547911789152, 148.75117005728572, 130.16528749932584, 114.6392876613528, 114.30359778654267, 113.40792300846182, 98.70023918653297, 106.5689059279237, 89.2770365552811, 87.71383945046878, 85.85705759758658, 84.69047219134313, 87.57286918386427, 83.15548352909062, 81.36166013070326, 81.8355254391784, 81.38096384811519, 75.80674426361179, 76.07253564332083, 73.18113430784408, 68.7158988994169, 76.65138705251393, 467.85999282761645, 84.34172131507309, 80.2340972334826, 267.03321965617016, 206.23333484216522, 148.78808360143606, 187.82202819619877, 149.58136340408205, 96.50092813268836, 152.15889537954152, 58.632827015809475, 66.56502632130338, 46.09655583660184, 44.726822392259805, 56.62867864475159, 26.69908410396999, 23.27968038702758, 28.829108781129577, 28.201623731128183, 18.054445065002792, 37.60892181694658, 15.47607074009895, 15.47607074009895, 17.230511067359082, 16.47979300062777, 20.016437747609725, 16.08556549894227, 15.430940554933242, 11.465433253780454, 13.960117215550456, 35.68147023858827, 21.307587472803046, 19.7033799300969, 1241.665450080692, 48.70599518099611, 69.62110195237923, 80.03717161836374, 113.07803399077262, 72.6719929146632, 83.30273589386837, 332.2005318820225, 50.5523869468484, 94.33599770473428, 105.82449763914103, 23.72030239421686, 71.36759011872208, 58.9321811295069, 73.72665900463265, 151.99832351192066, 52.88998467981373, 93.77540379926896, 67.87767108458688, 78.62127296590921, 67.23603329004547, 55.77755857515339, 585.8535602178154, 474.3724130532547, 409.30590343816976, 249.67534772049265, 259.07688368480774, 92.22814186428184, 88.74155104301408, 81.7107935329068, 63.65617176234104, 56.15421952860938, 57.16205456874184, 51.25971543434099, 41.55056035071909, 35.3183158295762, 32.18824884919646, 25.790451133554335, 24.899162977803172, 34.725634761162475, 25.05144419435956, 24.151694842260415, 19.446800107988633, 17.260483861249813, 14.528240976984394, 14.554528704005236, 12.345546925960717, 10.250982059310745, 21.08243650244346, 11.451608438162454, 16.905172310233432, 11.429281535312514, 58.66063448201136, 138.12172503630669, 21.24483593725803, 244.21559146272728, 19.497510848000584, 23.450151497888164, 38.99403741595641, 21.233114877642574, 26.422833002121656, 31.728526857653314, 30.661973643291642, 32.11542341350018, 25.144169695639484, 27.934274024141036, 25.707448784000874, 198.57450065791542, 72.22916245466422, 72.16006051923743, 67.50839762844595, 68.92545166159611, 28.279779923512034, 26.14525507844647, 607.4687033974094, 20.194573457294716, 14.681518665284326, 11.35503398050988, 17.55911868035412, 10.980592757734833, 10.997175224095447, 14.07143953313265, 15.701750176605703, 8.223014226562988, 9.813862272738723, 11.55263050613446, 7.79223455099715, 12.838847761021388, 11.881930609570672, 6.634729289766171, 11.718006291403032, 6.217558789252874, 5.893464759890036, 4.388683506373912, 4.854099281751649, 7.871926638049381, 3.767759178086819, 8.336213885443648, 7.493921124274169, 12.825247732392652, 21.583905383459392, 17.287029457825597, 17.103759046165752, 9.38857889430934, 11.1347536202749, 10.11656809360186, 9.251268558704515, 9.401718787463519, 20.621650945267223, 5.531540924923401, 5.531347114082656, 5.531347114082656, 3.4050715865599366, 3.329239779932759, 1.9718376140887948, 2.4995513815849186, 1.819888002337208, 1.819888257351472, 1.819888002337208, 1.6808079404396616, 1.9647164682698441, 2.1422269247588797, 2.8332712080937195, 1.5535076249383581, 1.5061204918546454, 2.4136934341488505, 1.819972922087166, 1.4369894400319854, 1.4254035044764883, 1.3766076725976715, 1.5772897451834367, 1.5772897451834367, 1.330339797119265, 1.330339797119265, 1.330339797119265, 1.2327231419637459, 1.2327231419637459, 1.2327231419637459, 72.32092732729794, 2.7774174739334585, 1.774534480502872, 1.7316543420164205, 1.9834181943447449, 3.5395439232258865, 2.5034485095694916, 3.1620919555741454, 5.416281617931951, 1.890264288811659, 1.6453306110269024], \"Total\": [1712.0, 694.0, 588.0, 477.0, 412.0, 1202.0, 1346.0, 236.0, 508.0, 490.0, 854.0, 262.0, 252.0, 201.0, 270.0, 351.0, 341.0, 209.0, 852.0, 268.0, 192.0, 253.0, 630.0, 159.0, 152.0, 153.0, 605.0, 203.0, 650.0, 190.0, 1202.8407541726133, 291.51944117498533, 419.60221350679785, 285.8467333013861, 274.23783629535444, 211.23482197595771, 169.74848302245792, 166.96708824154962, 188.06402216645856, 148.4577395891822, 187.3873113064994, 182.2426013855199, 199.8437358167752, 127.92582837868561, 134.26473309090304, 131.00179989586684, 169.38300767120893, 152.82920580213838, 111.94297178681697, 120.2953963752219, 127.02943457167328, 630.4665570422912, 368.60796369392057, 115.18331588576308, 94.10010605466955, 115.27335302211408, 87.29399747730213, 96.4271843928088, 262.7424106751024, 120.60645639133246, 127.64507681038253, 114.13065781607453, 650.4143571423092, 128.36610678637672, 307.6435597857794, 347.75279259377305, 202.7898089251472, 638.5633433769963, 605.2148773987967, 345.73999225747156, 481.170743815382, 451.93990055103524, 285.0253433542488, 270.77138648205647, 852.3048677308967, 587.3850323034784, 349.2700892646133, 1346.1629207565366, 292.5137940963148, 354.9938466976939, 854.6346310759827, 338.060864298921, 216.88521532623008, 231.91293995779614, 351.8476582975396, 508.5567337041763, 490.47555058452673, 341.5403055387898, 268.37672006347094, 253.29618156532084, 203.3142199526118, 190.62563270547525, 188.78660647177261, 176.33541331046717, 145.13842889841925, 151.23908533732995, 132.48840517716295, 116.96201032696716, 116.73722379905756, 115.89738399331645, 101.00131659741851, 109.10266312103984, 91.62638835029094, 90.06560456122286, 88.25452042236586, 87.0599738412358, 90.04973134688566, 85.53849931077777, 83.75031240964834, 84.25148408810303, 83.80862456016169, 78.17007672614912, 78.58065953023652, 75.63721174694959, 71.08116087076355, 79.56710729236566, 1712.1379936390238, 694.1948528414414, 304.5153415247298, 270.1383770003456, 209.5535604375056, 152.08024845588236, 192.2071847128784, 153.14288247433166, 99.749591475886, 159.19349683353852, 61.843491808457465, 70.25117435376825, 48.81911944704153, 47.66542034903105, 60.90381466047054, 29.317676689938693, 25.78472612117233, 32.114098815903525, 31.726788239248734, 20.647338376646246, 43.21207428488883, 17.890299459519294, 17.890299459519294, 20.041917787001747, 19.295738782758917, 23.657280935147377, 19.31776091422105, 18.54489221667913, 13.879661973200797, 16.941668045117556, 43.356058259175185, 25.923445730528993, 24.382723898430477, 1712.1379936390238, 61.62222310568979, 95.60691917708792, 115.32904142504249, 172.9145878356275, 115.19136545231491, 136.59781701464897, 854.6346310759827, 80.32278130423687, 205.1801850104376, 255.4630196541196, 30.425014133780312, 163.0295564666716, 131.09286744593467, 201.20768364508044, 852.3048677308967, 127.89058018665595, 587.3850323034784, 304.5153415247298, 1346.1629207565366, 605.2148773987967, 183.00484365446277, 588.5746931481773, 477.6399927115141, 412.5785821752314, 252.40952066005224, 262.23720260298165, 94.93577057759363, 91.52027833404044, 84.5238839925679, 66.2809087503952, 58.74381167882486, 60.08898064646535, 53.89683880710856, 44.29599658386578, 37.90317930105759, 34.81901860515299, 28.41695885312392, 27.51466914871573, 38.55182930305566, 27.949678206215843, 26.966084067895217, 22.133239360859175, 19.989410916977498, 17.439641841223306, 17.700652157255323, 15.29131835920802, 12.811853048637484, 26.451847579753736, 14.385988502817662, 21.47798049514928, 14.54473956428888, 116.42486704803933, 351.8476582975396, 33.674134591127554, 1346.1629207565366, 31.053609174405445, 45.89044611211003, 139.84040501263252, 37.6502479285133, 69.89289387739845, 255.4630196541196, 255.19809522336564, 852.3048677308967, 227.92765529373347, 854.6346310759827, 451.93990055103524, 201.90501822903954, 75.06994000385708, 75.07679662123144, 70.44165241174203, 74.10932569095168, 31.172833506096744, 29.146907403500812, 694.1948528414414, 24.02634870883651, 17.874443926543883, 13.901730731397205, 21.720992246704704, 13.608323777326996, 13.63712324154971, 17.559395524399736, 20.564563221423324, 10.870436007517295, 12.996484544185709, 15.364379065358886, 10.391012581654074, 17.21032326093216, 16.21726399290488, 9.4164108937958, 17.336738301074984, 9.454460665935134, 9.294796634203077, 6.935380257261236, 7.787042695344101, 13.110545485827988, 6.547285747383174, 15.040299836035016, 13.583576276797743, 37.68039022120572, 139.99024250264497, 116.42486704803933, 160.96235660567015, 31.906452381312157, 83.93835849299751, 107.52311851563773, 67.99474796063916, 91.10806988355151, 23.52274584272886, 8.265451558882017, 8.265242500381481, 8.265242500381481, 7.394290544443734, 7.932865956307333, 4.70573300038762, 6.0242492098605345, 4.561172547731411, 4.565376803748669, 4.634975374428842, 4.414703326738487, 5.1648193306052335, 5.670383579507492, 7.499679567880625, 4.287403011237183, 4.2400158781534705, 6.914198983235901, 5.269180754775547, 4.170884826330811, 4.206827802166473, 4.159018567991668, 4.769990818603688, 4.769990818603688, 4.0642351834180905, 4.0642351834180905, 4.071956774889231, 3.966618528262571, 3.966618528262571, 3.966618528262571, 236.73956753711326, 11.291140967706852, 6.3781397782975064, 6.272978095791988, 7.87634767047172, 25.53505902982094, 15.01593968561621, 28.94632457249806, 304.5153415247298, 12.19340928906906, 23.6019729023069], \"Category\": [\"Default\", \"Default\", \"Default\", \"Default\", \"Default\", \"Default\", \"Default\", \"Default\", \"Default\", \"Default\", \"Default\", \"Default\", \"Default\", \"Default\", \"Default\", \"Default\", \"Default\", \"Default\", \"Default\", \"Default\", \"Default\", \"Default\", \"Default\", \"Default\", \"Default\", \"Default\", \"Default\", \"Default\", \"Default\", \"Default\", \"Topic1\", \"Topic1\", \"Topic1\", \"Topic1\", \"Topic1\", \"Topic1\", \"Topic1\", \"Topic1\", \"Topic1\", \"Topic1\", \"Topic1\", \"Topic1\", \"Topic1\", \"Topic1\", \"Topic1\", \"Topic1\", \"Topic1\", \"Topic1\", \"Topic1\", \"Topic1\", \"Topic1\", \"Topic1\", \"Topic1\", \"Topic1\", \"Topic1\", \"Topic1\", \"Topic1\", \"Topic1\", \"Topic1\", \"Topic1\", \"Topic1\", \"Topic1\", \"Topic1\", \"Topic1\", \"Topic1\", \"Topic1\", \"Topic1\", \"Topic1\", \"Topic1\", \"Topic1\", \"Topic1\", \"Topic1\", \"Topic1\", \"Topic1\", \"Topic1\", \"Topic1\", \"Topic1\", \"Topic1\", \"Topic1\", \"Topic1\", \"Topic1\", \"Topic1\", \"Topic1\", \"Topic1\", \"Topic1\", \"Topic2\", \"Topic2\", \"Topic2\", \"Topic2\", \"Topic2\", \"Topic2\", \"Topic2\", \"Topic2\", \"Topic2\", \"Topic2\", \"Topic2\", \"Topic2\", \"Topic2\", \"Topic2\", \"Topic2\", \"Topic2\", \"Topic2\", \"Topic2\", \"Topic2\", \"Topic2\", \"Topic2\", \"Topic2\", \"Topic2\", \"Topic2\", \"Topic2\", \"Topic2\", \"Topic2\", \"Topic2\", \"Topic2\", \"Topic2\", \"Topic2\", \"Topic2\", \"Topic2\", \"Topic2\", \"Topic3\", \"Topic3\", \"Topic3\", \"Topic3\", \"Topic3\", \"Topic3\", \"Topic3\", \"Topic3\", \"Topic3\", \"Topic3\", \"Topic3\", \"Topic3\", \"Topic3\", \"Topic3\", \"Topic3\", \"Topic3\", \"Topic3\", \"Topic3\", \"Topic3\", \"Topic3\", \"Topic3\", \"Topic3\", \"Topic3\", \"Topic3\", \"Topic3\", \"Topic3\", \"Topic3\", \"Topic3\", \"Topic3\", \"Topic3\", \"Topic3\", \"Topic3\", \"Topic3\", \"Topic3\", \"Topic3\", \"Topic3\", \"Topic3\", \"Topic3\", \"Topic3\", \"Topic3\", \"Topic3\", \"Topic3\", \"Topic3\", \"Topic3\", \"Topic3\", \"Topic3\", \"Topic3\", \"Topic3\", \"Topic3\", \"Topic3\", \"Topic3\", \"Topic3\", \"Topic4\", \"Topic4\", \"Topic4\", \"Topic4\", \"Topic4\", \"Topic4\", \"Topic4\", \"Topic4\", \"Topic4\", \"Topic4\", \"Topic4\", \"Topic4\", \"Topic4\", \"Topic4\", \"Topic4\", \"Topic4\", \"Topic4\", \"Topic4\", \"Topic4\", \"Topic4\", \"Topic4\", \"Topic4\", \"Topic4\", \"Topic4\", \"Topic4\", \"Topic4\", \"Topic4\", \"Topic4\", \"Topic4\", \"Topic4\", \"Topic4\", \"Topic4\", \"Topic4\", \"Topic4\", \"Topic4\", \"Topic4\", \"Topic4\", \"Topic4\", \"Topic4\", \"Topic4\", \"Topic4\", \"Topic4\", \"Topic4\", \"Topic4\", \"Topic4\", \"Topic5\", \"Topic5\", \"Topic5\", \"Topic5\", \"Topic5\", \"Topic5\", \"Topic5\", \"Topic5\", \"Topic5\", \"Topic5\", \"Topic5\", \"Topic5\", \"Topic5\", \"Topic5\", \"Topic5\", \"Topic5\", \"Topic5\", \"Topic5\", \"Topic5\", \"Topic5\", \"Topic5\", \"Topic5\", \"Topic5\", \"Topic5\", \"Topic5\", \"Topic5\", \"Topic5\", \"Topic5\", \"Topic5\", \"Topic5\", \"Topic5\", \"Topic5\", \"Topic5\", \"Topic5\", \"Topic5\", \"Topic5\", \"Topic5\", \"Topic5\", \"Topic5\", \"Topic5\", \"Topic5\", \"Topic6\", \"Topic6\", \"Topic6\", \"Topic6\", \"Topic6\", \"Topic6\", \"Topic6\", \"Topic6\", \"Topic6\", \"Topic6\", \"Topic6\", \"Topic6\", \"Topic6\", \"Topic6\", \"Topic6\", \"Topic6\", \"Topic6\", \"Topic6\", \"Topic6\", \"Topic6\", \"Topic6\", \"Topic6\", \"Topic6\", \"Topic6\", \"Topic6\", \"Topic6\", \"Topic6\", \"Topic6\", \"Topic6\", \"Topic6\", \"Topic6\", \"Topic6\", \"Topic6\", \"Topic6\", \"Topic6\", \"Topic6\", \"Topic6\", \"Topic6\", \"Topic6\", \"Topic6\", \"Topic6\"], \"logprob\": [30.0, 29.0, 28.0, 27.0, 26.0, 25.0, 24.0, 23.0, 22.0, 21.0, 20.0, 19.0, 18.0, 17.0, 16.0, 15.0, 14.0, 13.0, 12.0, 11.0, 10.0, 9.0, 8.0, 7.0, 6.0, 5.0, 4.0, 3.0, 2.0, 1.0, -3.7455, -5.1694, -4.8054, -5.1896, -5.2312, -5.4961, -5.7153, -5.7335, -5.615, -5.8519, -5.6193, -5.6474, -5.5561, -6.0029, -5.9545, -5.9811, -5.7242, -5.8276, -6.139, -6.0671, -6.0137, -4.4124, -4.9494, -6.1132, -6.3187, -6.1158, -6.3938, -6.2946, -5.2928, -6.0715, -6.0152, -6.1274, -4.4068, -6.013, -5.1652, -5.0634, -5.5765, -4.4982, -4.552, -5.0845, -4.7977, -4.855, -5.2799, -5.3289, -4.3338, -4.6633, -5.1206, -3.9803, -5.2975, -5.1923, -4.6876, -5.2724, -5.5467, -5.5243, -5.4835, -3.8493, -3.8857, -4.2498, -4.4926, -4.5517, -4.7733, -4.8382, -4.8491, -4.9186, -5.115, -5.0739, -5.2074, -5.3344, -5.3373, -5.3452, -5.4841, -5.4074, -5.5844, -5.6021, -5.6235, -5.6372, -5.6037, -5.6555, -5.6773, -5.6715, -5.677, -5.748, -5.7445, -5.7832, -5.8462, -5.7369, -3.928, -5.6413, -5.6912, -3.9362, -4.1945, -4.521, -4.2881, -4.5157, -4.954, -4.4986, -5.4523, -5.3254, -5.6928, -5.723, -5.487, -6.2389, -6.376, -6.1622, -6.1842, -6.6302, -5.8963, -6.7843, -6.7843, -6.6769, -6.7214, -6.527, -6.7456, -6.7872, -7.0842, -6.8873, -5.9489, -6.4645, -6.5428, -2.3993, -5.6378, -5.2805, -5.1411, -4.7955, -5.2376, -5.1011, -3.7178, -5.6005, -4.9767, -4.8618, -6.3572, -5.2557, -5.4472, -5.2232, -4.4997, -5.5553, -4.9827, -5.3058, -5.1589, -5.3153, -5.5022, -2.8064, -3.0175, -3.165, -3.6593, -3.6223, -4.6552, -4.6937, -4.7763, -5.026, -5.1514, -5.1336, -5.2426, -5.4526, -5.6151, -5.7079, -5.9295, -5.9646, -5.632, -5.9585, -5.9951, -6.2118, -6.331, -6.5034, -6.5016, -6.6662, -6.8521, -6.131, -6.7413, -6.3518, -6.7433, -5.1077, -4.2513, -6.1234, -3.6814, -6.2092, -6.0246, -5.5161, -6.1239, -5.9052, -5.7223, -5.7564, -5.7101, -5.9548, -5.8496, -5.9327, -3.4156, -4.4269, -4.4279, -4.4945, -4.4737, -5.3646, -5.4431, -2.2975, -5.7013, -6.0202, -6.2771, -5.8412, -6.3106, -6.3091, -6.0626, -5.953, -6.5998, -6.423, -6.2598, -6.6536, -6.1543, -6.2317, -6.8144, -6.2456, -6.8794, -6.9329, -7.2277, -7.1269, -6.6435, -7.3803, -6.5862, -6.6927, -6.1553, -5.6348, -5.8568, -5.8675, -6.4673, -6.2967, -6.3926, -6.482, -6.4659, -4.6656, -5.9814, -5.9815, -5.9815, -6.4666, -6.4892, -7.0129, -6.7758, -7.0931, -7.0931, -7.0931, -7.1726, -7.0166, -6.9301, -6.6505, -7.2514, -7.2824, -6.8108, -7.0931, -7.3294, -7.3375, -7.3723, -7.2362, -7.2362, -7.4065, -7.4065, -7.4065, -7.4827, -7.4827, -7.4827, -3.4108, -6.6704, -7.1184, -7.1428, -7.0071, -6.4279, -6.7742, -6.5407, -6.0025, -7.0552, -7.194], \"loglift\": [30.0, 29.0, 28.0, 27.0, 26.0, 25.0, 24.0, 23.0, 22.0, 21.0, 20.0, 19.0, 18.0, 17.0, 16.0, 15.0, 14.0, 13.0, 12.0, 11.0, 10.0, 9.0, 8.0, 7.0, 6.0, 5.0, 4.0, 3.0, 2.0, 1.0, 0.735, 0.7283, 0.7282, 0.7278, 0.7277, 0.7238, 0.7232, 0.7216, 0.7212, 0.7207, 0.7204, 0.7202, 0.7192, 0.7186, 0.7186, 0.7166, 0.7165, 0.7159, 0.7159, 0.7159, 0.7148, 0.714, 0.7137, 0.7132, 0.7098, 0.7098, 0.7098, 0.7095, 0.7089, 0.7088, 0.7084, 0.7082, 0.6884, 0.705, 0.6788, 0.658, 0.6842, 0.6155, 0.6153, 0.6427, 0.5989, 0.6043, 0.6404, 0.6427, 0.4911, 0.534, 0.5965, 0.3876, 0.5969, 0.5085, 0.1346, 0.4772, 0.6468, 0.6023, 0.2262, 1.492, 1.4918, 1.4897, 1.4879, 1.4867, 1.4849, 1.4844, 1.4832, 1.4819, 1.4802, 1.4801, 1.479, 1.4767, 1.4757, 1.475, 1.4737, 1.4732, 1.4708, 1.4703, 1.4692, 1.4691, 1.4688, 1.4685, 1.4678, 1.4676, 1.4673, 1.466, 1.4643, 1.4637, 1.4629, 1.4594, 0.1994, -0.6111, 0.163, 2.0378, 2.0334, 2.0275, 2.0263, 2.0258, 2.0162, 2.0042, 1.996, 1.9954, 1.992, 1.9857, 1.9766, 1.9558, 1.9471, 1.9414, 1.9316, 1.9152, 1.9105, 1.9044, 1.9044, 1.8982, 1.8916, 1.8822, 1.8662, 1.8655, 1.8583, 1.8558, 1.8545, 1.8533, 1.8363, 1.7281, 1.8141, 1.7322, 1.684, 1.6246, 1.5887, 1.5548, 1.1044, 1.5863, 1.2723, 1.1681, 1.8004, 1.2233, 1.2498, 1.0454, 0.3253, 1.1664, 0.2146, 0.5483, -0.791, -0.148, 0.8612, 2.3888, 2.3866, 2.3855, 2.3825, 2.3813, 2.3645, 2.3626, 2.3596, 2.353, 2.3483, 2.3435, 2.3433, 2.3294, 2.3228, 2.3149, 2.2965, 2.2935, 2.2889, 2.284, 2.2832, 2.264, 2.2467, 2.2108, 2.1977, 2.1794, 2.1704, 2.1665, 2.1653, 2.154, 2.1524, 1.708, 1.4584, 1.9328, 0.6865, 1.928, 1.7221, 1.1163, 1.8207, 1.4207, 0.3076, 0.2744, -0.8852, 0.189, -1.0274, -0.4733, 2.8495, 2.8276, 2.8265, 2.8236, 2.7936, 2.7687, 2.7575, 2.7327, 2.6924, 2.6694, 2.6638, 2.6534, 2.6516, 2.651, 2.6447, 2.5963, 2.587, 2.5853, 2.581, 2.5783, 2.5731, 2.5551, 2.516, 2.4744, 2.447, 2.4105, 2.4085, 2.3935, 2.356, 2.3136, 2.276, 2.2714, 1.7884, 0.9965, 0.9589, 0.6243, 1.6428, 0.8461, 0.5026, 0.8715, 0.595, 3.7494, 3.4794, 3.4794, 3.4794, 3.1055, 3.0127, 3.0112, 3.0013, 2.9622, 2.9613, 2.9461, 2.9153, 2.9145, 2.9076, 2.9076, 2.8658, 2.846, 2.8286, 2.8179, 2.8154, 2.7987, 2.7753, 2.7744, 2.7744, 2.7642, 2.7642, 2.7623, 2.7123, 2.7123, 2.7123, 2.6951, 2.4785, 2.6017, 2.5938, 2.5019, 1.9049, 2.0895, 1.6668, -0.1483, 2.0168, 1.2176]}, \"token.table\": {\"Topic\": [1, 2, 3, 4, 1, 2, 3, 4, 1, 2, 3, 4, 6, 1, 2, 6, 1, 2, 3, 6, 1, 2, 6, 1, 2, 3, 1, 2, 3, 1, 2, 3, 4, 1, 2, 3, 6, 1, 2, 3, 1, 2, 3, 1, 2, 3, 1, 2, 3, 1, 2, 3, 1, 2, 3, 1, 2, 3, 4, 5, 1, 2, 6, 1, 2, 3, 4, 5, 1, 2, 3, 4, 1, 2, 4, 1, 2, 3, 4, 1, 2, 3, 4, 5, 1, 2, 3, 5, 1, 2, 3, 1, 2, 3, 5, 1, 2, 3, 5, 1, 2, 3, 4, 1, 2, 3, 4, 1, 2, 5, 1, 2, 3, 4, 5, 1, 2, 6, 1, 2, 3, 4, 1, 2, 3, 1, 2, 3, 1, 2, 6, 1, 2, 3, 5, 1, 2, 3, 1, 2, 3, 4, 5, 1, 2, 3, 4, 1, 2, 5, 1, 2, 3, 5, 1, 2, 6, 1, 2, 3, 1, 2, 3, 1, 2, 3, 4, 6, 1, 2, 3, 1, 2, 3, 5, 1, 2, 6, 1, 2, 3, 4, 1, 2, 6, 1, 2, 3, 4, 1, 2, 3, 4, 5, 1, 2, 6, 1, 2, 3, 5, 1, 2, 3, 4, 1, 2, 3, 4, 5, 1, 2, 3, 4, 5, 1, 2, 3, 1, 2, 3, 4, 1, 2, 3, 4, 1, 2, 3, 1, 2, 3, 4, 1, 2, 6, 1, 2, 3, 5, 1, 2, 3, 4, 5, 1, 2, 6, 1, 2, 3, 5, 1, 2, 3, 4, 5, 6, 1, 2, 3, 4, 5, 1, 2, 6, 1, 2, 3, 6, 1, 2, 6, 1, 2, 6, 1, 2, 3, 4, 5, 1, 2, 3, 5, 6, 1, 2, 3, 4, 1, 2, 6, 1, 2, 3, 4, 1, 2, 3, 4, 1, 2, 3, 5, 1, 2, 3, 4, 6, 1, 2, 3, 4, 1, 2, 6, 1, 2, 3, 4, 1, 2, 4, 1, 2, 3, 4, 5, 1, 2, 3, 5, 1, 2, 3, 1, 2, 3, 1, 2, 5, 1, 2, 3, 1, 2, 3, 1, 2, 6, 1, 2, 3, 1, 2, 3, 4, 1, 2, 3, 1, 2, 3, 4, 1, 2, 3, 1, 2, 3, 5, 1, 2, 3, 1, 2, 3, 4, 6, 1, 2, 3, 4, 5, 1, 2, 3, 4, 1, 2, 3, 1, 2, 3, 5, 1, 2, 3, 5, 1, 2, 3, 5, 1, 2, 3, 1, 2, 3, 1, 2, 3, 1, 2, 3, 1, 2, 3, 4, 1, 2, 3, 1, 2, 3, 1, 2, 6, 1, 2, 3, 1, 2, 3, 4, 1, 2, 6, 1, 2, 3, 4, 1, 2, 3, 1, 2, 3, 1, 2, 3, 1, 2, 3, 1, 2, 3, 4, 5, 1, 2, 3, 4, 1, 2, 3, 4, 5, 1, 2, 3, 1, 2, 3, 6, 1, 2, 3, 1, 2, 3, 4, 1, 2, 3, 5, 1, 2, 3, 1, 2, 3, 4, 1, 2, 3, 1, 2, 3, 4, 5, 1, 2, 3, 4, 5, 1, 2, 6, 1, 2, 3, 1, 2, 4, 1, 2, 3, 5, 1, 2, 3, 4, 1, 2, 3, 1, 2, 3, 1, 2, 3, 5, 1, 2, 3, 4, 1, 2, 3, 4, 1, 2, 3, 4, 1, 2, 6, 1, 2, 3, 1, 2, 3, 5, 1, 2, 3, 5, 1, 2, 3, 4, 1, 2, 3, 1, 2, 4, 1, 2, 3, 4, 1, 2, 3, 5, 1, 2, 3, 5, 1, 2, 3, 4, 1, 2, 3, 5, 1, 2, 3, 5, 1, 2, 3, 1, 2, 3, 5, 1, 2, 3, 1, 2, 3, 4, 1, 2, 3, 4, 1, 2, 3, 5, 1, 2, 3, 5, 1, 2, 3, 5, 1, 2, 3, 5, 1, 2, 3, 4, 1, 2, 5, 1, 2, 3, 6, 1, 2, 3, 4, 1, 2, 3, 5, 1, 2, 3, 4, 5, 1, 2, 3, 1, 2, 3, 4, 1, 2, 3, 5, 1, 2, 6, 1, 2, 3, 4, 1, 2, 3, 6, 1, 2, 3, 1, 2, 3, 4, 1, 2, 3, 5, 1, 2, 3, 4, 1, 2, 3, 4, 1, 2, 3, 5, 1, 2, 3, 4, 1, 2, 3, 4, 1, 2, 3, 4, 1, 2, 3, 4, 1, 2, 3, 1, 2, 3, 1, 2, 6, 1, 2, 3, 5, 1, 2, 3, 1, 2, 3, 5, 1, 2, 6, 1, 2, 3, 4, 1, 2, 3, 1, 2, 3, 4, 1, 2, 3, 4, 1, 2, 6, 1, 2, 3, 1, 2, 3, 4, 1, 2, 3, 4, 1, 2, 3, 1, 2, 3, 4, 1, 2, 3, 4, 1, 2, 3, 4, 1, 2, 3, 1, 2, 3, 1, 2, 3, 4, 5, 1, 2, 3, 4, 5, 1, 2, 3, 4, 1, 2, 3, 5, 1, 2, 3, 5, 1, 2, 3, 4, 1, 2, 3, 4, 1, 2, 3, 6, 1, 2, 3, 4, 1, 2, 3, 4, 1, 2, 6, 1, 2, 3, 4, 1, 2, 3, 1, 2, 3, 6, 1, 2, 3, 4, 1, 2, 3, 5, 1, 2, 3, 1, 2, 3, 4, 5, 1, 2, 3, 4, 5, 1, 2, 3, 4, 1, 2, 3, 4, 1, 2, 3, 4, 1, 2, 3, 4, 1, 2, 3, 5, 1, 2, 3, 5, 1, 2, 3, 5, 1, 2, 3, 4, 1, 2, 3, 1, 2, 3, 1, 2, 3, 4, 1, 2, 3, 4, 5, 1, 2, 3, 4, 1, 2, 5, 1, 2, 5, 1, 2, 3, 4, 5, 1, 2, 3, 4, 1, 2, 3, 6, 1, 2, 3, 1, 2, 3], \"Freq\": [0.026383011094061378, 0.026383011094061378, 0.026383011094061378, 0.9234053882921482, 0.7049666762970019, 0.054971058004191935, 0.058685318680150846, 0.18125592098679502, 0.313571051986862, 0.156785525993431, 0.156785525993431, 0.156785525993431, 0.313571051986862, 0.24558217468484864, 0.24558217468484864, 0.24558217468484864, 0.26667806029547353, 0.13333903014773676, 0.13333903014773676, 0.40001709044321027, 0.24044134058359978, 0.24044134058359978, 0.24044134058359978, 0.0341091148038747, 0.0341091148038747, 0.9209460997046168, 0.0484323926773573, 0.0484323926773573, 0.8717830681924313, 0.2864798057599275, 0.008681206235149319, 0.6337280551659003, 0.06944964988119455, 0.4925860196367756, 0.26271254380628034, 0.2233056622353383, 0.01641953398789252, 0.00856624791524358, 0.976552262337768, 0.00856624791524358, 0.011103017682185674, 0.9770655560323392, 0.011103017682185674, 0.007547830307586571, 0.9812179399862542, 0.007547830307586571, 0.9822295023959623, 0.005989204282902209, 0.005989204282902209, 0.07204786412888335, 0.07204786412888335, 0.7925265054177169, 0.9766473746045586, 0.018990365617310864, 0.002712909373901552, 0.500766216110535, 0.057230424698346855, 0.04292281852376014, 0.37199776053925454, 0.014307606174586714, 0.3781735398686188, 0.12605784662287292, 0.3781735398686188, 0.9700973190056214, 0.008291430076971123, 0.008291430076971123, 0.008291430076971123, 0.008291430076971123, 0.04655931223263036, 0.04655931223263036, 0.04655931223263036, 0.791508307954716, 0.06875337956928841, 0.06875337956928841, 0.7562871752621726, 0.02257540358318152, 0.02257540358318152, 0.02257540358318152, 0.948166950493624, 0.34475785237856094, 0.03134162294350554, 0.03134162294350554, 0.31341622943505537, 0.28207460649154986, 0.2307239072618392, 0.0576809768154598, 0.0576809768154598, 0.6921717217855176, 0.009900861035167526, 0.980185242481585, 0.009900861035167526, 0.0049528239009176455, 0.0049528239009176455, 0.0049528239009176455, 0.9856119562826116, 0.03430895724737818, 0.03430895724737818, 0.03430895724737818, 0.8920328884318327, 0.0287199364042962, 0.0287199364042962, 0.0287199364042962, 0.9190379649374784, 0.8847986748065402, 0.11118709010843249, 0.001566015353639894, 0.001566015353639894, 0.0962370117581762, 0.0962370117581762, 0.7698960940654096, 0.05649509357710924, 0.05649509357710924, 0.05649509357710924, 0.8474264036566386, 0.05649509357710924, 0.2521038998015301, 0.2521038998015301, 0.2521038998015301, 0.011830975491944135, 0.011830975491944135, 0.011830975491944135, 0.970139990339419, 0.8707927599205075, 0.110148010204742, 0.016626114747885584, 0.03878264967022011, 0.03878264967022011, 0.8920009424150626, 0.23584817338832717, 0.23584817338832717, 0.47169634677665434, 0.059026065044887444, 0.059026065044887444, 0.8263649106284242, 0.059026065044887444, 0.9914151703903261, 0.00476641908841503, 0.002383209544207515, 0.2697094392382449, 0.2697094392382449, 0.35341236865701053, 0.009300325490973961, 0.09300325490973962, 0.9705323146909983, 0.019030045386098007, 0.0038060090772196013, 0.0038060090772196013, 0.17431398321320732, 0.058104661071069104, 0.7553605939238984, 0.983132330890125, 0.007447972203713068, 0.007447972203713068, 0.007447972203713068, 0.22651578735615382, 0.22651578735615382, 0.45303157471230765, 0.09256672044088361, 0.023141680110220903, 0.8793838441883943, 0.0019663489513083365, 0.9949725693620183, 0.0019663489513083365, 0.6560921404624467, 0.08201151755780584, 0.08201151755780584, 0.08201151755780584, 0.16402303511561167, 0.2928304483497737, 0.0878491345049321, 0.6076231803257803, 0.011931946207781444, 0.9664876428302969, 0.011931946207781444, 0.011931946207781444, 0.2521038998015301, 0.2521038998015301, 0.2521038998015301, 0.9085154941816644, 0.08124935313819763, 0.00369315241537262, 0.00369315241537262, 0.21575087658868689, 0.21575087658868689, 0.43150175317737377, 0.7943799663664196, 0.05915595494218018, 0.14084751176709567, 0.0028169502353419134, 0.32964251723043847, 0.005783202056674359, 0.6535018324042026, 0.005783202056674359, 0.005783202056674359, 0.47824174645411993, 0.15941391548470665, 0.3188278309694133, 0.9809186681752794, 0.00831287006928203, 0.00831287006928203, 0.00831287006928203, 0.11341362794998873, 0.03780454264999624, 0.03780454264999624, 0.7938953956499211, 0.07694388406343115, 0.07694388406343115, 0.07694388406343115, 0.07694388406343115, 0.7694388406343114, 0.7028967573260565, 0.011913504361458584, 0.13104854797604443, 0.011913504361458584, 0.13104854797604443, 0.9837075580370894, 0.005317338151551835, 0.005317338151551835, 0.8154787297210526, 0.0017024608136138885, 0.1600313164797055, 0.020429529763366663, 0.05176583375477204, 0.05176583375477204, 0.8282533400763527, 0.05176583375477204, 0.11572535654344057, 0.038575118847813526, 0.8100774958040841, 0.0038133414712860805, 0.0038133414712860805, 0.0038133414712860805, 0.9876554410630948, 0.19361761486491652, 0.19361761486491652, 0.38723522972983304, 0.09725467924922818, 0.09725467924922818, 0.04862733962461409, 0.7780374339938254, 0.9659870748152963, 0.007790218345284648, 0.007790218345284648, 0.015580436690569296, 0.007790218345284648, 0.23975727972323677, 0.23975727972323677, 0.23975727972323677, 0.6212632699270343, 0.2609305733693544, 0.006212632699270342, 0.10561475588759582, 0.6800722062430916, 0.004224050970453985, 0.004224050970453985, 0.004224050970453985, 0.004224050970453985, 0.3041316698726869, 0.9807662932187212, 0.00500390965927919, 0.00500390965927919, 0.00500390965927919, 0.00500390965927919, 0.24604875330048767, 0.24604875330048767, 0.24604875330048767, 0.2892598267491549, 0.14462991337457745, 0.14462991337457745, 0.2892598267491549, 0.12098858562877558, 0.12098858562877558, 0.7259315137726535, 0.12098858562877558, 0.12098858562877558, 0.7259315137726535, 0.8341741856362266, 0.010975976126792455, 0.04390390450716982, 0.010975976126792455, 0.09878378514113209, 0.4428250443688742, 0.08856500887377484, 0.08856500887377484, 0.1771300177475497, 0.26569502662132455, 0.493419623561351, 0.007151009037121029, 0.22168128015075192, 0.2788893524477201, 0.12098552545812268, 0.12098552545812268, 0.725913152748736, 0.2687961298988884, 0.008670842899964141, 0.6936674319971313, 0.026012528699892425, 0.8753284747153058, 0.004311962929632048, 0.1164229991000653, 0.004311962929632048, 0.265952144811396, 0.066488036202849, 0.132976072405698, 0.531904289622792, 0.25421603629642114, 0.29658537567915805, 0.2118466969136843, 0.16947735753094745, 0.08473867876547372, 0.0016990197024122542, 0.0016990197024122542, 0.0016990197024122542, 0.995625545613581, 0.27047895778221115, 0.13523947889110557, 0.40571843667331675, 0.016641986421495794, 0.016641986421495794, 0.016641986421495794, 0.9485932260252603, 0.07805272166358075, 0.07805272166358075, 0.7805272166358075, 0.5838580723513546, 0.026539003288697932, 0.026539003288697932, 0.026539003288697932, 0.34500704275307315, 0.1849880473865698, 0.061662682462189936, 0.061662682462189936, 0.7399521895462792, 0.010025103714251755, 0.010025103714251755, 0.9724350602824202, 0.0498954247107307, 0.0498954247107307, 0.8482222200824218, 0.0719334893849936, 0.0719334893849936, 0.7912683832349295, 0.06303821190213732, 0.03151910595106866, 0.8825349666299226, 0.974828836825502, 0.01037051954069683, 0.01037051954069683, 0.24604875330048767, 0.24604875330048767, 0.24604875330048767, 0.01148633471707238, 0.9763384509511522, 0.01148633471707238, 0.013221005599010986, 0.965133408727802, 0.013221005599010986, 0.013221005599010986, 0.0039479473943120486, 0.9909347959723243, 0.0039479473943120486, 0.4119217242865687, 0.007628180079380902, 0.4500626246834732, 0.12967906134947532, 0.011940253967157696, 0.9671605713397733, 0.011940253967157696, 0.08324194509274027, 0.041620972546370136, 0.041620972546370136, 0.8324194509274027, 0.011869227121913784, 0.9732766239969303, 0.011869227121913784, 0.16599578887991434, 0.16599578887991434, 0.16599578887991434, 0.16599578887991434, 0.3319915777598287, 0.8762227002244556, 0.0022126835864253926, 0.06416782400633639, 0.05752977324706021, 0.0022126835864253926, 0.03577858723889014, 0.03577858723889014, 0.03577858723889014, 0.8944646809722535, 0.012792618887957217, 0.9722390354847484, 0.012792618887957217, 0.0014405177392296316, 0.12100349009528906, 0.0014405177392296316, 0.8743942677123864, 0.04048073534645968, 0.013493578448819894, 0.013493578448819894, 0.9310569129685726, 0.10619757477436237, 0.10619757477436237, 0.10619757477436237, 0.7433830234205366, 0.006575475843532005, 0.006575475843532005, 0.9797459006862688, 0.0209795695218353, 0.0209795695218353, 0.9440806284825886, 0.9834448537611892, 0.0067359236558985555, 0.0067359236558985555, 0.9849457423642021, 0.00781702970130319, 0.00781702970130319, 0.005671010611120623, 0.9867558463349884, 0.005671010611120623, 0.005671010611120623, 0.008628322448224266, 0.975000436649342, 0.008628322448224266, 0.011690642319627426, 0.9703233125290764, 0.011690642319627426, 0.23770880269570582, 0.23770880269570582, 0.23770880269570582, 0.04227028468492803, 0.08454056936985606, 0.8454056936985606, 0.9714436553178051, 0.015668446053512985, 0.007834223026756492, 0.007834223026756492, 0.20964400939721903, 0.20964400939721903, 0.41928801879443806, 0.997638295707259, 0.0008313652464227158, 0.0008313652464227158, 0.0008313652464227158, 0.028469274975084037, 0.014234637487542019, 0.9537207116653152, 0.01256800748487118, 0.9677365763350809, 0.01256800748487118, 0.055896213602389284, 0.055896213602389284, 0.8384432040358393, 0.012725777640173875, 0.9671591006532145, 0.012725777640173875, 0.5476024291348799, 0.03042235717415999, 0.38847009930081217, 0.03276253849524922, 0.001170090660544615, 0.2987944342850345, 0.01244976809520977, 0.6349381728556983, 0.04979907238083908, 0.5459132805663641, 0.006133857085015328, 0.43550385303608824, 0.006133857085015328, 0.006133857085015328, 0.014068425272600053, 0.9707213438094037, 0.014068425272600053, 0.042512043733581, 0.042512043733581, 0.042512043733581, 0.8927529184052011, 0.005245884227673844, 0.9862262348026828, 0.005245884227673844, 0.011104974829384481, 0.9772377849858344, 0.011104974829384481, 0.011104974829384481, 0.7720503245510784, 0.10057360549707534, 0.12719603048159528, 0.002958047220502216, 0.010459494026240402, 0.2510278566297697, 0.7321645818368281, 0.031138971257844563, 0.031138971257844563, 0.9030301664774923, 0.031138971257844563, 0.0037018065004466977, 0.0037018065004466977, 0.9883823356192682, 0.25767691010221533, 0.01717846067348102, 0.06871384269392408, 0.5067645898676901, 0.14601691572458866, 0.2672674475314153, 0.029696383059046143, 0.029696383059046143, 0.623624044239969, 0.029696383059046143, 0.21903997040920953, 0.21903997040920953, 0.43807994081841906, 0.011330864359289811, 0.9744543348989237, 0.011330864359289811, 0.036344249483613214, 0.036344249483613214, 0.9086062370903303, 0.9900410500812524, 0.0034983782688383478, 0.0034983782688383478, 0.0034983782688383478, 0.868335118296563, 0.12307111912864672, 0.0034186421980179644, 0.0034186421980179644, 0.9814877935975063, 0.013086503914633417, 0.0065432519573167085, 0.003726105601720971, 0.9911440900577783, 0.003726105601720971, 0.9129252987677205, 0.07838247514672349, 0.004610733832160205, 0.004610733832160205, 0.01040543829299423, 0.005202719146497115, 0.9781111995414576, 0.005202719146497115, 0.01855396387121888, 0.01855396387121888, 0.01855396387121888, 0.946252157432163, 0.010926540196371494, 0.010926540196371494, 0.010926540196371494, 0.9724620774770629, 0.20964400939721903, 0.20964400939721903, 0.41928801879443806, 0.055896213602389284, 0.055896213602389284, 0.8384432040358393, 0.10577017931895862, 0.10577017931895862, 0.10577017931895862, 0.6346210759137517, 0.09207682491132146, 0.04603841245566073, 0.04603841245566073, 0.8286914242018931, 0.991357553496842, 0.0034303029532762696, 0.0034303029532762696, 0.0034303029532762696, 0.05392320366794086, 0.05392320366794086, 0.8088480550191129, 0.03708361946370113, 0.03708361946370113, 0.8900068671288272, 0.05734062712436157, 0.05734062712436157, 0.05734062712436157, 0.8601094068654235, 0.05594579636208886, 0.05594579636208886, 0.05594579636208886, 0.8391869454313329, 0.15254895398226762, 0.15254895398226762, 0.07627447699113381, 0.6101958159290705, 0.9426493445919522, 0.003250514981351559, 0.048757724720273385, 0.003250514981351559, 0.06508561105828468, 0.13017122211656937, 0.06508561105828468, 0.7810273326994162, 0.11389913720098685, 0.056949568600493425, 0.056949568600493425, 0.7972939604069079, 0.0052969859392515755, 0.985239384700793, 0.0052969859392515755, 0.09860307662664837, 0.03286769220888279, 0.788824613013187, 0.06573538441776558, 0.051824913845409104, 0.051824913845409104, 0.8291986215265457, 0.9770858118113418, 0.007633482904776108, 0.007633482904776108, 0.007633482904776108, 0.04518091471817805, 0.04518091471817805, 0.04518091471817805, 0.8584373796453829, 0.01331969456615313, 0.01331969456615313, 0.01331969456615313, 0.9590180087630253, 0.013320911138980797, 0.013320911138980797, 0.013320911138980797, 0.9591056020066174, 0.9918397974342815, 0.003646469843508388, 0.003646469843508388, 0.003646469843508388, 0.9467931402355141, 0.004931214272059969, 0.004931214272059969, 0.03944971417647975, 0.4358205616729056, 0.021791028083645282, 0.021791028083645282, 0.5011936459238414, 0.1441882006329812, 0.1441882006329812, 0.5767528025319248, 0.35270982499806697, 0.17635491249903348, 0.17635491249903348, 0.35270982499806697, 0.03140831817538549, 0.0062816636350770975, 0.9548128725317189, 0.0062816636350770975, 0.014196146253850633, 0.014196146253850633, 0.014196146253850633, 0.965337945261843, 0.5735737122310732, 0.014707018262335211, 0.20589825567269296, 0.07353509131167606, 0.13236316436101692, 0.12303793507636408, 0.041012645025454694, 0.8202529005090939, 0.9737210169817392, 0.011455541376255755, 0.011455541376255755, 0.011455541376255755, 0.12841845603311042, 0.12841845603311042, 0.12841845603311042, 0.6420922801655521, 0.21250674441529685, 0.21250674441529685, 0.4250134888305937, 0.9822072261871393, 0.005487191207749382, 0.005487191207749382, 0.005487191207749382, 0.06659589882063134, 0.5993630893856821, 0.13319179764126268, 0.19978769646189404, 0.006889973989589544, 0.9852662805113047, 0.006889973989589544, 0.45799192446096676, 0.003914460892828775, 0.4149328546398502, 0.1252627485705208, 0.7714823409778682, 0.06429019508148902, 0.007143355009054335, 0.15715381019919536, 0.128809504155698, 0.0322023760389245, 0.19321425623354702, 0.6118451447395655, 0.01702306968889569, 0.01702306968889569, 0.01702306968889569, 0.9532919025781585, 0.07332924857298283, 0.07332924857298283, 0.07332924857298283, 0.806621734302811, 0.06539658494506635, 0.06539658494506635, 0.06539658494506635, 0.7847590193407963, 0.05187821268552561, 0.025939106342762804, 0.025939106342762804, 0.9078687219966981, 0.9517010090608504, 0.0430494802159997, 0.0015374814362857034, 0.0030749628725714067, 0.9826431998739756, 0.008933119998854324, 0.008933119998854324, 0.008933119998854324, 0.983808497292466, 0.005891068846062671, 0.005891068846062671, 0.9770542039372268, 0.020619650407766147, 0.0015861269544435498, 0.233241427824495, 0.233241427824495, 0.46648285564899, 0.13838896433188216, 0.023064827388647027, 0.830333785991293, 0.023064827388647027, 0.5312403826639259, 0.004873764978568128, 0.45813390798540404, 0.1472366304164112, 0.22085494562461677, 0.0736183152082056, 0.5153282064574392, 0.5078495982339537, 0.12696239955848843, 0.25392479911697685, 0.9716035585302518, 0.008675031772591534, 0.008675031772591534, 0.008675031772591534, 0.02048377789945166, 0.02048377789945166, 0.9422537833747763, 0.06951208113395464, 0.06951208113395464, 0.06951208113395464, 0.7646328924735011, 0.8675234705553092, 0.12025077809677553, 0.0028631137642089414, 0.005726227528417883, 0.2521038998015301, 0.2521038998015301, 0.2521038998015301, 0.016419332772090667, 0.032838665544181335, 0.9359019680091681, 0.003961815692946109, 0.003961815692946109, 0.003961815692946109, 0.9904539232365271, 0.015087300685116775, 0.015087300685116775, 0.015087300685116775, 0.9655872438474736, 0.9819234755924376, 0.00533654062821977, 0.00533654062821977, 0.009165679108039624, 0.9807276645602397, 0.009165679108039624, 0.009165679108039624, 0.9761517117517831, 0.007872191223804703, 0.007872191223804703, 0.007872191223804703, 0.37184350091350965, 0.026560250065250687, 0.026560250065250687, 0.5577652513702644, 0.010913886468786311, 0.9713358957219818, 0.010913886468786311, 0.004918495126573432, 0.9886175204412598, 0.004918495126573432, 0.8856358625943217, 0.0016523057137953763, 0.11070448282429021, 0.0016523057137953763, 0.0016523057137953763, 0.7210085163016263, 0.007837049090235068, 0.14498540816934877, 0.12147426089864356, 0.003918524545117534, 0.03519025400179543, 0.03519025400179543, 0.03519025400179543, 0.9149466040466812, 0.10758707687268712, 0.10758707687268712, 0.10758707687268712, 0.6455224612361227, 0.9230695104006705, 0.07189014878509895, 0.002875605951403958, 0.002875605951403958, 0.9800274672310949, 0.005903779923078885, 0.01180755984615777, 0.005903779923078885, 0.9110892782268024, 0.08677040745017166, 0.002892346915005722, 0.002892346915005722, 0.21924187027245212, 0.21924187027245212, 0.21924187027245212, 0.43848374054490424, 0.7677874796477642, 0.0043873570265586526, 0.11845863971708362, 0.10968392566396631, 0.6013686843760774, 0.019879956508300076, 0.3677791954035514, 0.009939978254150038, 0.18978282327735352, 0.18978282327735352, 0.37956564655470704, 0.05002648673106597, 0.05002648673106597, 0.05002648673106597, 0.8504502744281215, 0.00661204739349989, 0.9851950616314836, 0.00661204739349989, 0.7945741070647818, 0.03454670030716443, 0.03454670030716443, 0.10364010092149328, 0.0005840650716911978, 0.27334245355148057, 0.7254088190404677, 0.0005840650716911978, 0.00652984966616134, 0.00652984966616134, 0.979477449924201, 0.00652984966616134, 0.009544099350182373, 0.0047720496750911865, 0.9830422330687845, 0.7814105318594521, 0.0011732890868760542, 0.17833994120516025, 0.037545250780033734, 0.0011732890868760542, 0.9086911253295019, 0.08069457869721446, 0.0035084599433571504, 0.007016919886714301, 0.0035084599433571504, 0.010533437437922014, 0.010533437437922014, 0.010533437437922014, 0.9690762442888253, 0.5996913579614279, 0.002842139137257952, 0.002842139137257952, 0.3922152009415974, 0.002093627031361216, 0.002093627031361216, 0.002093627031361216, 0.9923792128652164, 0.0024237806885847443, 0.0024237806885847443, 0.0024237806885847443, 0.9913263016311605, 0.016169850226070905, 0.016169850226070905, 0.9540211633381833, 0.016169850226070905, 0.03207921409532506, 0.03207921409532506, 0.03207921409532506, 0.8982179946691017, 0.09199263022278631, 0.09199263022278631, 0.09199263022278631, 0.7359410417822905, 0.9723630470152445, 0.008681812919778969, 0.008681812919778969, 0.008681812919778969, 0.9776822137325812, 0.010626980584049796, 0.010626980584049796, 0.002927912119837425, 0.9925622086248871, 0.002927912119837425, 0.9725695279780154, 0.00876188763944158, 0.00876188763944158, 0.00876188763944158, 0.5238853393440993, 0.04691510501588949, 0.4144167609736905, 0.007819184169314916, 0.007819184169314916, 0.01622791177599801, 0.1785070295359781, 0.7951676770239025, 0.01622791177599801, 0.07348443617031752, 0.07348443617031752, 0.8083287978734929, 0.15273504755763578, 0.15273504755763578, 0.6109401902305431, 0.6447916767864327, 0.005464336243952819, 0.3060028296613579, 0.005464336243952819, 0.038250353707669736, 0.9846861329694689, 0.0047340679469686005, 0.0047340679469686005, 0.0047340679469686005, 0.6265895050923718, 0.15664737627309294, 0.039161844068273235, 0.15664737627309294, 0.008549784645497296, 0.983225234232189, 0.008549784645497296, 0.0020388376113921374, 0.9949527543593631, 0.0020388376113921374], \"Term\": [\"accept\", \"accept\", \"accept\", \"accept\", \"account\", \"account\", \"account\", \"account\", \"accout\", \"accout\", \"accout\", \"accout\", \"accout\", \"agree\", \"agree\", \"agree\", \"ah\", \"ah\", \"ah\", \"ah\", \"amazing\", \"amazing\", \"amazing\", \"android\", \"android\", \"android\", \"android_ver\", \"android_ver\", \"android_ver\", \"annoying\", \"annoying\", \"annoying\", \"annoying\", \"apps\", \"apps\", \"apps\", \"apps\", \"ayaw\", \"ayaw\", \"ayaw\", \"ayusin\", \"ayusin\", \"ayusin\", \"ba\", \"ba\", \"ba\", \"bad\", \"bad\", \"bad\", \"bangladesh\", \"bangladesh\", \"bangladesh\", \"bank\", \"bank\", \"bank\", \"basic_user\", \"basic_user\", \"basic_user\", \"basic_user\", \"basic_user\", \"becouse\", \"becouse\", \"becouse\", \"better\", \"better\", \"better\", \"better\", \"better\", \"blur\", \"blur\", \"blur\", \"blur\", \"blurred\", \"blurred\", \"blurred\", \"blurry\", \"blurry\", \"blurry\", \"blurry\", \"bring\", \"bring\", \"bring\", \"bring\", \"bring\", \"buggy\", \"buggy\", \"buggy\", \"buggy\", \"bulok\", \"bulok\", \"bulok\", \"buy\", \"buy\", \"buy\", \"buy\", \"buying\", \"buying\", \"buying\", \"buying\", \"camera\", \"camera\", \"camera\", \"camera\", \"cash\", \"cash\", \"cash\", \"cash\", \"cashback\", \"cashback\", \"cashback\", \"choices\", \"choices\", \"choices\", \"choices\", \"choices\", \"cij\", \"cij\", \"cij\", \"clear\", \"clear\", \"clear\", \"clear\", \"code\", \"code\", \"code\", \"compatible\", \"compatible\", \"compatible\", \"cool\", \"cool\", \"cool\", \"crashing\", \"crashing\", \"crashing\", \"crashing\", \"customer\", \"customer\", \"customer\", \"data\", \"data\", \"data\", \"data\", \"data\", \"days\", \"days\", \"days\", \"days\", \"decreasing\", \"decreasing\", \"decreasing\", \"deducted\", \"deducted\", \"deducted\", \"deducted\", \"demadownload\", \"demadownload\", \"demadownload\", \"device\", \"device\", \"device\", \"di\", \"di\", \"di\", \"disable\", \"disable\", \"disable\", \"disable\", \"disable\", \"download\", \"download\", \"download\", \"dumating\", \"dumating\", \"dumating\", \"dumating\", \"eeror\", \"eeror\", \"eeror\", \"email\", \"email\", \"email\", \"email\", \"eror\", \"eror\", \"eror\", \"error\", \"error\", \"error\", \"error\", \"everytime\", \"everytime\", \"everytime\", \"everytime\", \"everytime\", \"exchange\", \"exchange\", \"exchange\", \"experience\", \"experience\", \"experience\", \"experience\", \"face\", \"face\", \"face\", \"face\", \"fake\", \"fake\", \"fake\", \"fake\", \"fake\", \"feature\", \"feature\", \"feature\", \"feature\", \"feature\", \"fee\", \"fee\", \"fee\", \"fix\", \"fix\", \"fix\", \"fix\", \"forgot\", \"forgot\", \"forgot\", \"forgot\", \"frequent\", \"frequent\", \"frequent\", \"fully\", \"fully\", \"fully\", \"fully\", \"fun\", \"fun\", \"fun\", \"games\", \"games\", \"games\", \"games\", \"getting\", \"getting\", \"getting\", \"getting\", \"getting\", \"ggash\", \"ggash\", \"ggash\", \"globe\", \"globe\", \"globe\", \"globe\", \"good\", \"good\", \"good\", \"good\", \"good\", \"good\", \"got\", \"got\", \"got\", \"got\", \"got\", \"gtrash\", \"gtrash\", \"gtrash\", \"haha\", \"haha\", \"haha\", \"haha\", \"hahahatdog\", \"hahahatdog\", \"hahahatdog\", \"hahatdog\", \"hahatdog\", \"hahatdog\", \"happened\", \"happened\", \"happened\", \"happened\", \"happened\", \"happy\", \"happy\", \"happy\", \"happy\", \"happy\", \"hard\", \"hard\", \"hard\", \"hard\", \"hatdog\", \"hatdog\", \"hatdog\", \"hate\", \"hate\", \"hate\", \"hate\", \"help\", \"help\", \"help\", \"help\", \"home\", \"home\", \"home\", \"home\", \"housing\", \"housing\", \"housing\", \"housing\", \"housing\", \"id\", \"id\", \"id\", \"id\", \"idiot\", \"idiot\", \"idiot\", \"ids\", \"ids\", \"ids\", \"ids\", \"include\", \"include\", \"include\", \"increase\", \"increase\", \"increase\", \"increase\", \"increase\", \"increasing\", \"increasing\", \"increasing\", \"increasing\", \"install\", \"install\", \"install\", \"installing\", \"installing\", \"installing\", \"insted\", \"insted\", \"insted\", \"internet_connection\", \"internet_connection\", \"internet_connection\", \"issues\", \"issues\", \"issues\", \"kapanget\", \"kapanget\", \"kapanget\", \"kasi\", \"kasi\", \"kasi\", \"kaso\", \"kaso\", \"kaso\", \"kaso\", \"kayo\", \"kayo\", \"kayo\", \"keeps\", \"keeps\", \"keeps\", \"keeps\", \"kwenta\", \"kwenta\", \"kwenta\", \"lag\", \"lag\", \"lag\", \"lag\", \"laman\", \"laman\", \"laman\", \"learn\", \"learn\", \"learn\", \"learn\", \"learn\", \"like\", \"like\", \"like\", \"like\", \"like\", \"list\", \"list\", \"list\", \"list\", \"lng\", \"lng\", \"lng\", \"load\", \"load\", \"load\", \"load\", \"loading\", \"loading\", \"loading\", \"loading\", \"loads\", \"loads\", \"loads\", \"loads\", \"log\", \"log\", \"log\", \"login\", \"login\", \"login\", \"long\", \"long\", \"long\", \"lost\", \"lost\", \"lost\", \"ma\", \"ma\", \"ma\", \"ma\", \"magamit\", \"magamit\", \"magamit\", \"maka\", \"maka\", \"maka\", \"makapagverify\", \"makapagverify\", \"makapagverify\", \"memory\", \"memory\", \"memory\", \"message\", \"message\", \"message\", \"message\", \"microcharges\", \"microcharges\", \"microcharges\", \"money\", \"money\", \"money\", \"money\", \"mpin\", \"mpin\", \"mpin\", \"nakakainis\", \"nakakainis\", \"nakakainis\", \"nakka\", \"nakka\", \"nakka\", \"nalang\", \"nalang\", \"nalang\", \"need\", \"need\", \"need\", \"need\", \"need\", \"needs\", \"needs\", \"needs\", \"needs\", \"new\", \"new\", \"new\", \"new\", \"new\", \"nga\", \"nga\", \"nga\", \"nice\", \"nice\", \"nice\", \"nice\", \"niyo\", \"niyo\", \"niyo\", \"nmn\", \"nmn\", \"nmn\", \"nmn\", \"number\", \"number\", \"number\", \"number\", \"ok\", \"ok\", \"ok\", \"oops\", \"oops\", \"oops\", \"oops\", \"open\", \"open\", \"open\", \"option\", \"option\", \"option\", \"option\", \"option\", \"options\", \"options\", \"options\", \"options\", \"options\", \"pakyu\", \"pakyu\", \"pakyu\", \"pang\", \"pang\", \"pang\", \"passport\", \"passport\", \"passport\", \"pay\", \"pay\", \"pay\", \"pay\", \"payment\", \"payment\", \"payment\", \"payment\", \"paypal\", \"paypal\", \"paypal\", \"pera\", \"pera\", \"pera\", \"pesos\", \"pesos\", \"pesos\", \"pesos\", \"phone\", \"phone\", \"phone\", \"phone\", \"photo\", \"photo\", \"photo\", \"photo\", \"picture\", \"picture\", \"picture\", \"picture\", \"pinoys\", \"pinoys\", \"pinoys\", \"pisty\", \"pisty\", \"pisty\", \"play\", \"play\", \"play\", \"play\", \"points\", \"points\", \"points\", \"points\", \"poor\", \"poor\", \"poor\", \"poor\", \"pop\", \"pop\", \"pop\", \"postal\", \"postal\", \"postal\", \"prc\", \"prc\", \"prc\", \"prc\", \"prepaid\", \"prepaid\", \"prepaid\", \"prepaid\", \"prepaid_wifi\", \"prepaid_wifi\", \"prepaid_wifi\", \"prepaid_wifi\", \"problem\", \"problem\", \"problem\", \"problem\", \"promo\", \"promo\", \"promo\", \"promo\", \"promos\", \"promos\", \"promos\", \"promos\", \"puro\", \"puro\", \"puro\", \"qr\", \"qr\", \"qr\", \"qr\", \"ram\", \"ram\", \"ram\", \"rate\", \"rate\", \"rate\", \"rate\", \"readable\", \"readable\", \"readable\", \"readable\", \"rebate\", \"rebate\", \"rebate\", \"rebate\", \"rebates\", \"rebates\", \"rebates\", \"rebates\", \"receive\", \"receive\", \"receive\", \"receive\", \"received\", \"received\", \"received\", \"received\", \"recommended\", \"recommended\", \"recommended\", \"recommended\", \"reff\", \"reff\", \"reff\", \"regester\", \"regester\", \"regester\", \"regester\", \"register\", \"register\", \"register\", \"register\", \"regular\", \"regular\", \"regular\", \"regular\", \"remove\", \"remove\", \"remove\", \"remove\", \"remove\", \"requiring\", \"requiring\", \"requiring\", \"response\", \"response\", \"response\", \"response\", \"reward\", \"reward\", \"reward\", \"reward\", \"rommeltorres\", \"rommeltorres\", \"rommeltorres\", \"said\", \"said\", \"said\", \"said\", \"san\", \"san\", \"san\", \"san\", \"sana\", \"sana\", \"sana\", \"says\", \"says\", \"says\", \"says\", \"scam\", \"scam\", \"scam\", \"scam\", \"scan\", \"scan\", \"scan\", \"scan\", \"school\", \"school\", \"school\", \"school\", \"scratch\", \"scratch\", \"scratch\", \"scratch\", \"selfie\", \"selfie\", \"selfie\", \"selfie\", \"semi\", \"semi\", \"semi\", \"semi\", \"send\", \"send\", \"send\", \"send\", \"sending\", \"sending\", \"sending\", \"sending\", \"sent\", \"sent\", \"sent\", \"service\", \"service\", \"service\", \"shi\", \"shi\", \"shi\", \"sign\", \"sign\", \"sign\", \"sign\", \"slow\", \"slow\", \"slow\", \"smart\", \"smart\", \"smart\", \"smart\", \"somthing\", \"somthing\", \"somthing\", \"soon\", \"soon\", \"soon\", \"soon\", \"space\", \"space\", \"space\", \"sss\", \"sss\", \"sss\", \"sss\", \"star\", \"star\", \"star\", \"star\", \"stoped\", \"stoped\", \"stoped\", \"storage\", \"storage\", \"storage\", \"student\", \"student\", \"student\", \"student\", \"students\", \"students\", \"students\", \"students\", \"support\", \"support\", \"support\", \"tagal\", \"tagal\", \"tagal\", \"tagal\", \"takes\", \"takes\", \"takes\", \"takes\", \"taking\", \"taking\", \"taking\", \"taking\", \"talaga\", \"talaga\", \"talaga\", \"tapos\", \"tapos\", \"tapos\", \"time\", \"time\", \"time\", \"time\", \"time\", \"times\", \"times\", \"times\", \"times\", \"times\", \"tin\", \"tin\", \"tin\", \"tin\", \"tm\", \"tm\", \"tm\", \"tm\", \"transaction\", \"transaction\", \"transaction\", \"transaction\", \"transactions\", \"transactions\", \"transactions\", \"transactions\", \"transfer\", \"transfer\", \"transfer\", \"transfer\", \"trap\", \"trap\", \"trap\", \"trap\", \"tried\", \"tried\", \"tried\", \"tried\", \"try\", \"try\", \"try\", \"try\", \"ulol\", \"ulol\", \"ulol\", \"unclear\", \"unclear\", \"unclear\", \"unclear\", \"ung\", \"ung\", \"ung\", \"unreliable\", \"unreliable\", \"unreliable\", \"unreliable\", \"update\", \"update\", \"update\", \"update\", \"updated\", \"updated\", \"updated\", \"updated\", \"updating\", \"updating\", \"updating\", \"use\", \"use\", \"use\", \"use\", \"use\", \"useless\", \"useless\", \"useless\", \"useless\", \"useless\", \"valid\", \"valid\", \"valid\", \"valid\", \"verification\", \"verification\", \"verification\", \"verification\", \"verified\", \"verified\", \"verified\", \"verified\", \"verify\", \"verify\", \"verify\", \"verify\", \"version\", \"version\", \"version\", \"version\", \"voucher\", \"voucher\", \"voucher\", \"voucher\", \"vouchers\", \"vouchers\", \"vouchers\", \"vouchers\", \"wait\", \"wait\", \"wait\", \"wait\", \"waiting\", \"waiting\", \"waiting\", \"wala\", \"wala\", \"wala\", \"waste\", \"waste\", \"waste\", \"waste\", \"week\", \"week\", \"week\", \"week\", \"week\", \"went_wrong\", \"went_wrong\", \"went_wrong\", \"went_wrong\", \"win\", \"win\", \"win\", \"win_promo\", \"win_promo\", \"win_promo\", \"working\", \"working\", \"working\", \"working\", \"working\", \"worst\", \"worst\", \"worst\", \"worst\", \"wow\", \"wow\", \"wow\", \"wow\", \"yan\", \"yan\", \"yan\", \"yung\", \"yung\", \"yung\"]}, \"R\": 30, \"lambda.step\": 0.01, \"plot.opts\": {\"xlab\": \"PC1\", \"ylab\": \"PC2\"}, \"topic.order\": [5, 4, 1, 6, 3, 2]};\n",
       "\n",
       "function LDAvis_load_lib(url, callback){\n",
       "  var s = document.createElement('script');\n",
       "  s.src = url;\n",
       "  s.async = true;\n",
       "  s.onreadystatechange = s.onload = callback;\n",
       "  s.onerror = function(){console.warn(\"failed to load library \" + url);};\n",
       "  document.getElementsByTagName(\"head\")[0].appendChild(s);\n",
       "}\n",
       "\n",
       "if(typeof(LDAvis) !== \"undefined\"){\n",
       "   // already loaded: just create the visualization\n",
       "   !function(LDAvis){\n",
       "       new LDAvis(\"#\" + \"ldavis_el197140515018747984705440068\", ldavis_el197140515018747984705440068_data);\n",
       "   }(LDAvis);\n",
       "}else if(typeof define === \"function\" && define.amd){\n",
       "   // require.js is available: use it to load d3/LDAvis\n",
       "   require.config({paths: {d3: \"https://d3js.org/d3.v5\"}});\n",
       "   require([\"d3\"], function(d3){\n",
       "      window.d3 = d3;\n",
       "      LDAvis_load_lib(\"https://cdn.jsdelivr.net/gh/bmabey/pyLDAvis@3.3.1/pyLDAvis/js/ldavis.v3.0.0.js\", function(){\n",
       "        new LDAvis(\"#\" + \"ldavis_el197140515018747984705440068\", ldavis_el197140515018747984705440068_data);\n",
       "      });\n",
       "    });\n",
       "}else{\n",
       "    // require.js not available: dynamically load d3 & LDAvis\n",
       "    LDAvis_load_lib(\"https://d3js.org/d3.v5.js\", function(){\n",
       "         LDAvis_load_lib(\"https://cdn.jsdelivr.net/gh/bmabey/pyLDAvis@3.3.1/pyLDAvis/js/ldavis.v3.0.0.js\", function(){\n",
       "                 new LDAvis(\"#\" + \"ldavis_el197140515018747984705440068\", ldavis_el197140515018747984705440068_data);\n",
       "            })\n",
       "         });\n",
       "}\n",
       "</script>"
      ],
      "text/plain": [
       "PreparedData(topic_coordinates=              x         y  topics  cluster       Freq\n",
       "topic                                                \n",
       "4     -0.218686  0.070450       1        1  47.845630\n",
       "3      0.148943  0.150099       2        1  22.386053\n",
       "0     -0.061430  0.026029       3        1  12.881893\n",
       "5     -0.013359 -0.146154       4        1   9.131566\n",
       "2      0.077425 -0.054675       5        1   5.691818\n",
       "1      0.067108 -0.045749       6        1   2.063039, topic_info=             Term         Freq        Total Category  logprob  loglift\n",
       "20         update  1712.000000  1712.000000  Default  30.0000  30.0000\n",
       "9            load   694.000000   694.000000  Default  29.0000  29.0000\n",
       "43             id   588.000000   588.000000  Default  28.0000  28.0000\n",
       "45       verified   477.000000   477.000000  Default  27.0000  27.0000\n",
       "165        verify   412.000000   412.000000  Default  26.0000  26.0000\n",
       "...           ...          ...          ...      ...      ...      ...\n",
       "3148          san     2.503449    15.015940   Topic6  -6.7742   2.0895\n",
       "876    unreliable     3.162092    28.946325   Topic6  -6.5407   1.6668\n",
       "89           apps     5.416282   304.515342   Topic6  -6.0025  -0.1483\n",
       "7954      disable     1.890264    12.193409   Topic6  -7.0552   2.0168\n",
       "10350     housing     1.645331    23.601973   Topic6  -7.1940   1.2176\n",
       "\n",
       "[298 rows x 6 columns], token_table=      Topic      Freq     Term\n",
       "term                          \n",
       "241       1  0.026383   accept\n",
       "241       2  0.026383   accept\n",
       "241       3  0.026383   accept\n",
       "241       4  0.923405   accept\n",
       "138       1  0.704967  account\n",
       "...     ...       ...      ...\n",
       "319       2  0.983225      yan\n",
       "319       3  0.008550      yan\n",
       "14        1  0.002039     yung\n",
       "14        2  0.994953     yung\n",
       "14        3  0.002039     yung\n",
       "\n",
       "[939 rows x 3 columns], R=30, lambda_step=0.01, plot_opts={'xlab': 'PC1', 'ylab': 'PC2'}, topic_order=[5, 4, 1, 6, 3, 2])"
      ]
     },
     "execution_count": 32,
     "metadata": {
      "tags": []
     },
     "output_type": "execute_result"
    }
   ],
   "source": [
    "# Visualize the topics\n",
    "pyLDAvis.enable_notebook()\n",
    "LDAvis_prepared = gensimvis.prepare(final_lda1, corpus1, id2word1)\n",
    "LDAvis_prepared"
   ]
  },
  {
   "cell_type": "markdown",
   "id": "njCvXnu-HIbb",
   "metadata": {
    "id": "njCvXnu-HIbb"
   },
   "source": [
    "### B. Gcash 5-Star Reviews"
   ]
  },
  {
   "cell_type": "code",
   "execution_count": 18,
   "id": "MBpqA9AWEg3u",
   "metadata": {
    "colab": {
     "base_uri": "https://localhost:8080/"
    },
    "id": "MBpqA9AWEg3u",
    "outputId": "88bf1e45-3092-4453-f468-5572ac85fe04"
   },
   "outputs": [
    {
     "name": "stderr",
     "output_type": "stream",
     "text": [
      "D:\\Anaconda3\\envs\\project-env-2\\lib\\site-packages\\ipykernel\\ipkernel.py:287: DeprecationWarning: `should_run_async` will not call `transform_cell` automatically in the future. Please pass the result to `transformed_cell` argument and any exception that happen during thetransform in `preprocessing_exc_tuple` in IPython 7.17 and above.\n",
      "  and should_run_async(code)\n"
     ]
    },
    {
     "name": "stdout",
     "output_type": "stream",
     "text": [
      "['ok', 'na', 'ok', 'sya', 'para', 'sa', 'mga', 'easy', 'transaction', 'lalo', 'na', 'mga', 'malalayong', 'lugar', 'thumb', 'up', 'ako']\n"
     ]
    }
   ],
   "source": [
    "def sent_to_words(sentences):\n",
    "    for sentence in sentences:\n",
    "        yield(gensim.utils.simple_preprocess(str(sentence)))\n",
    "\n",
    "data = gcash_rating5.content.values.tolist()\n",
    "data_words = list(sent_to_words(data))\n",
    "print(data_words[:1][0][:30])"
   ]
  },
  {
   "cell_type": "code",
   "execution_count": 19,
   "id": "-5dmjdJ6EhEn",
   "metadata": {
    "id": "-5dmjdJ6EhEn"
   },
   "outputs": [
    {
     "name": "stderr",
     "output_type": "stream",
     "text": [
      "D:\\Anaconda3\\envs\\project-env-2\\lib\\site-packages\\ipykernel\\ipkernel.py:287: DeprecationWarning: `should_run_async` will not call `transform_cell` automatically in the future. Please pass the result to `transformed_cell` argument and any exception that happen during thetransform in `preprocessing_exc_tuple` in IPython 7.17 and above.\n",
      "  and should_run_async(code)\n"
     ]
    }
   ],
   "source": [
    "# Build the bigram model\n",
    "bigram = gensim.models.Phrases(data_words, min_count=5, threshold=100) # higher threshold fewer phrases.\n",
    "\n",
    "# Faster way to get a sentence clubbed as a bigram\n",
    "bigram_mod = gensim.models.phrases.Phraser(bigram)"
   ]
  },
  {
   "cell_type": "code",
   "execution_count": 20,
   "id": "BGqYvsboK_7G",
   "metadata": {
    "id": "BGqYvsboK_7G"
   },
   "outputs": [
    {
     "name": "stderr",
     "output_type": "stream",
     "text": [
      "D:\\Anaconda3\\envs\\project-env-2\\lib\\site-packages\\ipykernel\\ipkernel.py:287: DeprecationWarning: `should_run_async` will not call `transform_cell` automatically in the future. Please pass the result to `transformed_cell` argument and any exception that happen during thetransform in `preprocessing_exc_tuple` in IPython 7.17 and above.\n",
      "  and should_run_async(code)\n"
     ]
    }
   ],
   "source": [
    "# Define functions for stopwords, bigrams, and lemmatization\n",
    "def remove_stopwords(texts):\n",
    "    return [[word for word in simple_preprocess(str(doc)) if word not in final_stopwords_list] for doc in texts]\n",
    "\n",
    "\n",
    "def make_bigrams(texts):\n",
    "    return [bigram_mod[doc] for doc in texts]"
   ]
  },
  {
   "cell_type": "code",
   "execution_count": 22,
   "id": "oPqxUDGNLCj7",
   "metadata": {
    "colab": {
     "base_uri": "https://localhost:8080/"
    },
    "id": "oPqxUDGNLCj7",
    "outputId": "6ab8caed-81df-4c1d-9e11-f5a926a60c71"
   },
   "outputs": [
    {
     "name": "stderr",
     "output_type": "stream",
     "text": [
      "D:\\Anaconda3\\envs\\project-env-2\\lib\\site-packages\\ipykernel\\ipkernel.py:287: DeprecationWarning: `should_run_async` will not call `transform_cell` automatically in the future. Please pass the result to `transformed_cell` argument and any exception that happen during thetransform in `preprocessing_exc_tuple` in IPython 7.17 and above.\n",
      "  and should_run_async(code)\n"
     ]
    },
    {
     "name": "stdout",
     "output_type": "stream",
     "text": [
      "[['ok', 'ok', 'sya', 'easy', 'transaction', 'lalo', 'malalayong', 'lugar', 'thumb']]\n"
     ]
    }
   ],
   "source": [
    "# Remove Stop Words\n",
    "data_words_nostops5 = remove_stopwords(data_words)\n",
    "\n",
    "# Form Bigrams\n",
    "data_words_bigrams5 = make_bigrams(data_words_nostops5)\n",
    "\n",
    "print(data_words_bigrams5[:1])"
   ]
  },
  {
   "cell_type": "code",
   "execution_count": 23,
   "id": "sss0fCKeLEpK",
   "metadata": {
    "colab": {
     "base_uri": "https://localhost:8080/"
    },
    "id": "sss0fCKeLEpK",
    "outputId": "1b76a3ee-ee91-463d-882e-2899ad4698e4"
   },
   "outputs": [
    {
     "name": "stderr",
     "output_type": "stream",
     "text": [
      "D:\\Anaconda3\\envs\\project-env-2\\lib\\site-packages\\ipykernel\\ipkernel.py:287: DeprecationWarning: `should_run_async` will not call `transform_cell` automatically in the future. Please pass the result to `transformed_cell` argument and any exception that happen during thetransform in `preprocessing_exc_tuple` in IPython 7.17 and above.\n",
      "  and should_run_async(code)\n"
     ]
    },
    {
     "name": "stdout",
     "output_type": "stream",
     "text": [
      "[[(0, 1), (1, 1), (2, 1), (3, 1), (4, 2), (5, 1), (6, 1), (7, 1)]]\n"
     ]
    }
   ],
   "source": [
    "# Create Dictionary\n",
    "id2word5 = corpora.Dictionary(data_words_bigrams5)\n",
    "\n",
    "# Create Corpus\n",
    "texts5 = data_words_bigrams5\n",
    "\n",
    "# Term Document Frequency\n",
    "corpus5 = [id2word5.doc2bow(text) for text in texts5]\n",
    "\n",
    "# View\n",
    "print(corpus5[:1])"
   ]
  },
  {
   "cell_type": "markdown",
   "id": "Dk8yiXA0Lc5s",
   "metadata": {
    "id": "Dk8yiXA0Lc5s"
   },
   "source": [
    "### Base Model Creation"
   ]
  },
  {
   "cell_type": "code",
   "execution_count": null,
   "id": "QCfi-qT1LYoI",
   "metadata": {
    "id": "QCfi-qT1LYoI"
   },
   "outputs": [],
   "source": [
    "# Build LDA model\n",
    "lda_model_rating5 = gensim.models.LdaMulticore(corpus=corpus5,\n",
    "                                       id2word=id2word5,\n",
    "                                       num_topics=10, \n",
    "                                       random_state=1,\n",
    "                                       chunksize=100,\n",
    "                                       passes=10,\n",
    "                                       per_word_topics=True)"
   ]
  },
  {
   "cell_type": "code",
   "execution_count": null,
   "id": "2nq3LwHHLvbi",
   "metadata": {
    "colab": {
     "base_uri": "https://localhost:8080/"
    },
    "id": "2nq3LwHHLvbi",
    "outputId": "0e217441-7712-4e3e-cdf4-3f21abf3b20e",
    "scrolled": true,
    "tags": []
   },
   "outputs": [
    {
     "name": "stdout",
     "output_type": "stream",
     "text": [
      "[(0,\n",
      "  '0.283*\"love\" + 0.234*\"great\" + 0.136*\"convenient\" + 0.034*\"fast\" + '\n",
      "  '0.033*\"transactions\" + 0.016*\"reliable\" + 0.015*\"credit\" + '\n",
      "  '0.013*\"especially\" + 0.012*\"helpfull\" + 0.010*\"di\"'),\n",
      " (1,\n",
      "  '0.084*\"excellent\" + 0.061*\"transaction\" + 0.048*\"think\" + '\n",
      "  '0.035*\"application\" + 0.033*\"try\" + 0.029*\"want\" + 0.026*\"new\" + '\n",
      "  '0.025*\"wallet\" + 0.023*\"buying\" + 0.022*\"perfect\"'),\n",
      " (2,\n",
      "  '0.097*\"thanks\" + 0.061*\"globe\" + 0.035*\"update\" + 0.031*\"paying\" + '\n",
      "  '0.027*\"need\" + 0.020*\"card\" + 0.019*\"bills\" + 0.019*\"way\" + 0.018*\"loading\" '\n",
      "  '+ 0.015*\"makes\"'),\n",
      " (3,\n",
      "  '0.095*\"ok\" + 0.041*\"usefull\" + 0.041*\"paypal\" + 0.036*\"cool\" + 0.024*\"work\" '\n",
      "  '+ 0.022*\"yung\" + 0.021*\"helps\" + 0.017*\"add\" + 0.015*\"thumbs\" + '\n",
      "  '0.015*\"user\"'),\n",
      " (4,\n",
      "  '0.279*\"useful\" + 0.067*\"amazing\" + 0.058*\"service\" + 0.037*\"wow\" + '\n",
      "  '0.036*\"super\" + 0.036*\"easier\" + 0.026*\"bank\" + 0.019*\"code\" + 0.017*\"tnx\" '\n",
      "  '+ 0.014*\"yes\"'),\n",
      " (5,\n",
      "  '0.244*\"apps\" + 0.123*\"helpful\" + 0.034*\"life\" + 0.032*\"satisfied\" + '\n",
      "  '0.029*\"loved\" + 0.028*\"star\" + 0.015*\"issue\" + 0.014*\"features\" + '\n",
      "  '0.010*\"awsome\" + 0.009*\"login\"'),\n",
      " (6,\n",
      "  '0.140*\"use\" + 0.116*\"easy\" + 0.101*\"load\" + 0.071*\"like\" + 0.033*\"account\" '\n",
      "  '+ 0.026*\"online\" + 0.024*\"hope\" + 0.023*\"time\" + 0.019*\"lot\" + '\n",
      "  '0.017*\"sana\"'),\n",
      " (7,\n",
      "  '0.112*\"money\" + 0.078*\"pay\" + 0.072*\"bills\" + 0.071*\"cash\" + 0.047*\"easy\" + '\n",
      "  '0.043*\"payment\" + 0.035*\"send\" + 0.026*\"transfer\" + 0.017*\"prepaid\" + '\n",
      "  '0.013*\"funds\"'),\n",
      " (8,\n",
      "  '0.537*\"good\" + 0.058*\"buy\" + 0.056*\"free\" + 0.040*\"job\" + 0.040*\"hassle\" + '\n",
      "  '0.026*\"happy\" + 0.017*\"works\" + 0.016*\"convinient\" + 0.015*\"far\" + '\n",
      "  '0.014*\"payments\"'),\n",
      " (9,\n",
      "  '0.428*\"nice\" + 0.097*\"awesome\" + 0.075*\"best\" + 0.056*\"help\" + 0.024*\"know\" '\n",
      "  '+ 0.023*\"verry\" + 0.021*\"better\" + 0.017*\"big\" + 0.013*\"pwede\" + '\n",
      "  '0.010*\"okay\"')]\n"
     ]
    }
   ],
   "source": [
    "# Print the keywords in the 10 topics\n",
    "pprint(lda_model_rating5.print_topics())\n",
    "doc_lda= lda_model_rating5[corpus5]"
   ]
  },
  {
   "cell_type": "code",
   "execution_count": null,
   "id": "-3hGAugAMGl0",
   "metadata": {
    "colab": {
     "base_uri": "https://localhost:8080/"
    },
    "id": "-3hGAugAMGl0",
    "outputId": "41ce69f2-1388-4860-f595-d551e8d24165"
   },
   "outputs": [
    {
     "name": "stdout",
     "output_type": "stream",
     "text": [
      "\n",
      "Coherence Score:  0.4221780106989336\n"
     ]
    }
   ],
   "source": [
    "# Compute Coherence Score\n",
    "coherence_model_lda5 = CoherenceModel(model=lda_model_rating5, texts=data_words_bigrams5, dictionary=id2word5, coherence='c_v')\n",
    "coherence_lda5 = coherence_model_lda5.get_coherence()\n",
    "\n",
    "print('\\nCoherence Score: ', coherence_lda5)"
   ]
  },
  {
   "cell_type": "markdown",
   "id": "CMEXC3m7MHKx",
   "metadata": {
    "id": "CMEXC3m7MHKx"
   },
   "source": [
    "### Hyperparameter Tuning"
   ]
  },
  {
   "cell_type": "code",
   "execution_count": 24,
   "id": "ok12QY4lMImd",
   "metadata": {
    "id": "ok12QY4lMImd"
   },
   "outputs": [
    {
     "name": "stderr",
     "output_type": "stream",
     "text": [
      "D:\\Anaconda3\\envs\\project-env-2\\lib\\site-packages\\ipykernel\\ipkernel.py:287: DeprecationWarning: `should_run_async` will not call `transform_cell` automatically in the future. Please pass the result to `transformed_cell` argument and any exception that happen during thetransform in `preprocessing_exc_tuple` in IPython 7.17 and above.\n",
      "  and should_run_async(code)\n"
     ]
    }
   ],
   "source": [
    "grid = {}\n",
    "grid['Validation_Set'] = {}\n",
    "\n",
    "# Topics range\n",
    "min_topics = 2\n",
    "max_topics = 11\n",
    "step_size = 1\n",
    "topics_range = range(min_topics, max_topics, step_size)\n",
    "\n",
    "# Alpha parameter\n",
    "alpha = list(np.arange(0.01, 1, 0.3))\n",
    "alpha.append('symmetric')\n",
    "alpha.append('asymmetric')\n",
    "\n",
    "# Eta parameter\n",
    "eta = list(np.arange(0.01, 1, 0.3))\n",
    "eta.append('symmetric')"
   ]
  },
  {
   "cell_type": "code",
   "execution_count": 25,
   "id": "fMV6r-ioSfsz",
   "metadata": {
    "colab": {
     "background_save": true
    },
    "id": "fMV6r-ioSfsz"
   },
   "outputs": [
    {
     "name": "stderr",
     "output_type": "stream",
     "text": [
      "D:\\Anaconda3\\envs\\project-env-2\\lib\\site-packages\\ipykernel\\ipkernel.py:287: DeprecationWarning: `should_run_async` will not call `transform_cell` automatically in the future. Please pass the result to `transformed_cell` argument and any exception that happen during thetransform in `preprocessing_exc_tuple` in IPython 7.17 and above.\n",
      "  and should_run_async(code)\n",
      "100%|██████████| 54/54 [4:12:08<00:00, 280.16s/it]  \n"
     ]
    }
   ],
   "source": [
    "model_results = {'Topics': [],\n",
    "                 'Alpha': [],\n",
    "                 'Eta': [],\n",
    "                 'Coherence': []\n",
    "                }\n",
    "# Loop to determine optimal number of topics\n",
    "if 1 == 1:\n",
    "    pbar = tqdm.tqdm(total=54)\n",
    "    \n",
    "    # iterate through the number of topics\n",
    "    for k in topics_range:\n",
    "        # iterate through alpha values\n",
    "        for a in alpha:\n",
    "            # iterare through eta values\n",
    "            for e in eta:\n",
    "                cv = compute_coherence_values(data_words_bigrams5, \n",
    "                                              corpus=corpus5, \n",
    "                                              dictionary=id2word5, \n",
    "                                              k=k,\n",
    "                                              a=a,\n",
    "                                              eta=e)\n",
    "                model_results['Topics'].append(k)\n",
    "                model_results['Alpha'].append(a)\n",
    "                model_results['Eta'].append(e)\n",
    "                model_results['Coherence'].append(cv)\n",
    "        \n",
    "            pbar.update(1)\n",
    "    \n",
    "    pd.DataFrame(model_results).to_csv('gcash_playstore_lda_tuning_results_rating5.csv', index=False)\n",
    "    pbar.close()"
   ]
  },
  {
   "cell_type": "code",
   "execution_count": 26,
   "id": "7Xlq2AD-Sweh",
   "metadata": {
    "colab": {
     "base_uri": "https://localhost:8080/",
     "height": 370
    },
    "id": "7Xlq2AD-Sweh",
    "outputId": "75fbd7fb-bda1-4d9a-df52-307e4fca6b78"
   },
   "outputs": [
    {
     "name": "stderr",
     "output_type": "stream",
     "text": [
      "D:\\Anaconda3\\envs\\project-env-2\\lib\\site-packages\\ipykernel\\ipkernel.py:287: DeprecationWarning: `should_run_async` will not call `transform_cell` automatically in the future. Please pass the result to `transformed_cell` argument and any exception that happen during thetransform in `preprocessing_exc_tuple` in IPython 7.17 and above.\n",
      "  and should_run_async(code)\n"
     ]
    }
   ],
   "source": [
    "gcash_playstore_lda_tuning_results_rating5= pd.read_csv('gcash_playstore_lda_tuning_results_rating5.csv')"
   ]
  },
  {
   "cell_type": "code",
   "execution_count": 27,
   "id": "peYFJwO_Swie",
   "metadata": {
    "colab": {
     "base_uri": "https://localhost:8080/",
     "height": 162
    },
    "id": "peYFJwO_Swie",
    "outputId": "20158ddd-3aa0-436e-e88b-ff491d1c8563"
   },
   "outputs": [
    {
     "name": "stderr",
     "output_type": "stream",
     "text": [
      "D:\\Anaconda3\\envs\\project-env-2\\lib\\site-packages\\ipykernel\\ipkernel.py:287: DeprecationWarning: `should_run_async` will not call `transform_cell` automatically in the future. Please pass the result to `transformed_cell` argument and any exception that happen during thetransform in `preprocessing_exc_tuple` in IPython 7.17 and above.\n",
      "  and should_run_async(code)\n"
     ]
    },
    {
     "data": {
      "text/html": [
       "<div>\n",
       "<style scoped>\n",
       "    .dataframe tbody tr th:only-of-type {\n",
       "        vertical-align: middle;\n",
       "    }\n",
       "\n",
       "    .dataframe tbody tr th {\n",
       "        vertical-align: top;\n",
       "    }\n",
       "\n",
       "    .dataframe thead th {\n",
       "        text-align: right;\n",
       "    }\n",
       "</style>\n",
       "<table border=\"1\" class=\"dataframe\">\n",
       "  <thead>\n",
       "    <tr style=\"text-align: right;\">\n",
       "      <th></th>\n",
       "      <th>Topics</th>\n",
       "      <th>Alpha</th>\n",
       "      <th>Eta</th>\n",
       "      <th>Coherence</th>\n",
       "    </tr>\n",
       "  </thead>\n",
       "  <tbody>\n",
       "    <tr>\n",
       "      <th>88</th>\n",
       "      <td>4</td>\n",
       "      <td>asymmetric</td>\n",
       "      <td>0.9099999999999999</td>\n",
       "      <td>0.685420</td>\n",
       "    </tr>\n",
       "    <tr>\n",
       "      <th>117</th>\n",
       "      <td>5</td>\n",
       "      <td>asymmetric</td>\n",
       "      <td>0.61</td>\n",
       "      <td>0.667871</td>\n",
       "    </tr>\n",
       "    <tr>\n",
       "      <th>148</th>\n",
       "      <td>6</td>\n",
       "      <td>asymmetric</td>\n",
       "      <td>0.9099999999999999</td>\n",
       "      <td>0.657207</td>\n",
       "    </tr>\n",
       "    <tr>\n",
       "      <th>118</th>\n",
       "      <td>5</td>\n",
       "      <td>asymmetric</td>\n",
       "      <td>0.9099999999999999</td>\n",
       "      <td>0.656828</td>\n",
       "    </tr>\n",
       "    <tr>\n",
       "      <th>208</th>\n",
       "      <td>8</td>\n",
       "      <td>asymmetric</td>\n",
       "      <td>0.9099999999999999</td>\n",
       "      <td>0.633532</td>\n",
       "    </tr>\n",
       "    <tr>\n",
       "      <th>...</th>\n",
       "      <td>...</td>\n",
       "      <td>...</td>\n",
       "      <td>...</td>\n",
       "      <td>...</td>\n",
       "    </tr>\n",
       "    <tr>\n",
       "      <th>21</th>\n",
       "      <td>2</td>\n",
       "      <td>symmetric</td>\n",
       "      <td>0.31</td>\n",
       "      <td>0.369160</td>\n",
       "    </tr>\n",
       "    <tr>\n",
       "      <th>22</th>\n",
       "      <td>2</td>\n",
       "      <td>symmetric</td>\n",
       "      <td>0.61</td>\n",
       "      <td>0.369160</td>\n",
       "    </tr>\n",
       "    <tr>\n",
       "      <th>23</th>\n",
       "      <td>2</td>\n",
       "      <td>symmetric</td>\n",
       "      <td>0.9099999999999999</td>\n",
       "      <td>0.369160</td>\n",
       "    </tr>\n",
       "    <tr>\n",
       "      <th>24</th>\n",
       "      <td>2</td>\n",
       "      <td>symmetric</td>\n",
       "      <td>symmetric</td>\n",
       "      <td>0.369160</td>\n",
       "    </tr>\n",
       "    <tr>\n",
       "      <th>20</th>\n",
       "      <td>2</td>\n",
       "      <td>symmetric</td>\n",
       "      <td>0.01</td>\n",
       "      <td>0.368679</td>\n",
       "    </tr>\n",
       "  </tbody>\n",
       "</table>\n",
       "<p>270 rows × 4 columns</p>\n",
       "</div>"
      ],
      "text/plain": [
       "     Topics       Alpha                 Eta  Coherence\n",
       "88        4  asymmetric  0.9099999999999999   0.685420\n",
       "117       5  asymmetric                0.61   0.667871\n",
       "148       6  asymmetric  0.9099999999999999   0.657207\n",
       "118       5  asymmetric  0.9099999999999999   0.656828\n",
       "208       8  asymmetric  0.9099999999999999   0.633532\n",
       "..      ...         ...                 ...        ...\n",
       "21        2   symmetric                0.31   0.369160\n",
       "22        2   symmetric                0.61   0.369160\n",
       "23        2   symmetric  0.9099999999999999   0.369160\n",
       "24        2   symmetric           symmetric   0.369160\n",
       "20        2   symmetric                0.01   0.368679\n",
       "\n",
       "[270 rows x 4 columns]"
      ]
     },
     "execution_count": 27,
     "metadata": {},
     "output_type": "execute_result"
    }
   ],
   "source": [
    "gcash_playstore_lda_tuning_results_rating5.sort_values(by='Coherence', ascending=False)"
   ]
  },
  {
   "cell_type": "markdown",
   "id": "ca0ca126-7512-4868-bb31-e3fb38cfc4f2",
   "metadata": {
    "id": "d3a59f75-e951-4614-bca9-e1195779c4f2"
   },
   "source": [
    "### Final Model"
   ]
  },
  {
   "cell_type": "code",
   "execution_count": 28,
   "id": "c12f32a6-b0dd-48d9-81de-1f1aff0c3122",
   "metadata": {
    "id": "acfb1180-a891-47c2-83a0-db5ebd83c65a"
   },
   "outputs": [
    {
     "name": "stderr",
     "output_type": "stream",
     "text": [
      "D:\\Anaconda3\\envs\\project-env-2\\lib\\site-packages\\ipykernel\\ipkernel.py:287: DeprecationWarning: `should_run_async` will not call `transform_cell` automatically in the future. Please pass the result to `transformed_cell` argument and any exception that happen during thetransform in `preprocessing_exc_tuple` in IPython 7.17 and above.\n",
      "  and should_run_async(code)\n"
     ]
    }
   ],
   "source": [
    "final_lda5 = gensim.models.LdaMulticore(corpus=corpus5,\n",
    "                                           id2word=id2word5,\n",
    "                                           num_topics=4, \n",
    "                                           random_state=100,\n",
    "                                           chunksize=100,\n",
    "                                           passes=10,\n",
    "                                           alpha='asymmetric',\n",
    "                                           eta=0.9099999999999999\t)"
   ]
  },
  {
   "cell_type": "code",
   "execution_count": 29,
   "id": "4adba2fe-7475-4c3f-91c2-b23ac7e67b3b",
   "metadata": {
    "colab": {
     "base_uri": "https://localhost:8080/",
     "height": 881
    },
    "id": "84134366-36cf-4e50-bc9d-36d700069b4e",
    "outputId": "f9714462-6f52-4bbe-fb6a-de173ad8933a"
   },
   "outputs": [
    {
     "name": "stderr",
     "output_type": "stream",
     "text": [
      "D:\\Anaconda3\\envs\\project-env-2\\lib\\site-packages\\ipykernel\\ipkernel.py:287: DeprecationWarning: `should_run_async` will not call `transform_cell` automatically in the future. Please pass the result to `transformed_cell` argument and any exception that happen during thetransform in `preprocessing_exc_tuple` in IPython 7.17 and above.\n",
      "  and should_run_async(code)\n"
     ]
    },
    {
     "data": {
      "text/html": [
       "\n",
       "<link rel=\"stylesheet\" type=\"text/css\" href=\"https://cdn.jsdelivr.net/gh/bmabey/pyLDAvis@3.3.1/pyLDAvis/js/ldavis.v1.0.0.css\">\n",
       "\n",
       "\n",
       "<div id=\"ldavis_el2179229233888869282050736419\"></div>\n",
       "<script type=\"text/javascript\">\n",
       "\n",
       "var ldavis_el2179229233888869282050736419_data = {\"mdsDat\": {\"x\": [0.014386174300031298, 0.32618907571890554, -0.178851308852782, -0.16172394116615485], \"y\": [-0.27231413600875004, 0.10054053666238791, 0.06409406551539583, 0.1076795338309663], \"topics\": [1, 2, 3, 4], \"cluster\": [1, 1, 1, 1], \"Freq\": [42.40784560571601, 36.998542338627274, 13.844290801752773, 6.749321253903942]}, \"tinfo\": {\"Term\": [\"good\", \"nice\", \"great\", \"useful\", \"apps\", \"love\", \"money\", \"excellent\", \"awesome\", \"bills\", \"ok\", \"helpful\", \"amazing\", \"load\", \"pay\", \"convenient\", \"use\", \"easy\", \"reliable\", \"usefull\", \"sana\", \"free\", \"buy\", \"help\", \"cash\", \"paying\", \"yung\", \"hassle\", \"time\", \"wow\", \"money\", \"pay\", \"bills\", \"help\", \"buy\", \"paying\", \"free\", \"bank\", \"lot\", \"transactions\", \"time\", \"hassle\", \"send\", \"hope\", \"transfer\", \"easier\", \"online\", \"payment\", \"life\", \"need\", \"helps\", \"way\", \"convinient\", \"makes\", \"want\", \"save\", \"buying\", \"sending\", \"wallet\", \"loading\", \"think\", \"load\", \"account\", \"cash\", \"thanks\", \"globe\", \"easy\", \"use\", \"convenient\", \"update\", \"like\", \"love\", \"best\", \"good\", \"nice\", \"great\", \"apps\", \"excellent\", \"awesome\", \"useful\", \"amazing\", \"usefull\", \"wow\", \"verry\", \"cool\", \"satisfied\", \"happy\", \"job\", \"helpfull\", \"verygood\", \"ilove\", \"awsome\", \"excelent\", \"fantastic\", \"yeah\", \"superb\", \"beautiful\", \"aps\", \"perfect\", \"exellent\", \"quality\", \"excellence\", \"gud\", \"helpful\", \"ok\", \"wonderful\", \"love\", \"super\", \"application\", \"convenient\", \"okay\", \"best\", \"use\", \"like\", \"easy\", \"service\", \"fast\", \"transaction\", \"thanks\", \"sana\", \"yung\", \"maganda\", \"wala\", \"sya\", \"gamitin\", \"pwede\", \"di\", \"ung\", \"kasi\", \"ganda\", \"salamat\", \"pera\", \"ma\", \"lng\", \"lalo\", \"sobrang\", \"talaga\", \"ba\", \"pang\", \"mabilis\", \"mas\", \"ayos\", \"galing\", \"akong\", \"kayo\", \"gamit\", \"nmn\", \"sakin\", \"nman\", \"nang\", \"try\", \"load\", \"update\", \"open\", \"cash\", \"ok\", \"super\", \"reliable\", \"loved\", \"nc\", \"accessible\", \"highly_recommended\", \"trusted\", \"satisfying\", \"bad\", \"iloveit\", \"ilike\", \"goood\", \"gg\", \"incredible\", \"dis\", \"goog\", \"affordable\", \"liked\", \"satisfy\", \"helpul\", \"performance\", \"exelent\", \"wew\", \"oks\", \"useable\", \"vgood\", \"astig\", \"ml\", \"join\", \"cute\", \"satisfactory\", \"covenient\", \"oh\", \"hahaha\", \"working\", \"haha\"], \"Freq\": [15995.0, 11171.0, 6948.0, 5663.0, 4769.0, 5493.0, 2839.0, 2385.0, 2296.0, 2527.0, 2823.0, 2493.0, 1861.0, 3072.0, 1863.0, 4291.0, 5113.0, 5423.0, 446.0, 1213.0, 589.0, 1366.0, 1216.0, 1196.0, 1513.0, 1047.0, 434.0, 960.0, 960.0, 803.0, 2837.5487741782526, 1861.1769947531805, 2522.9804649393313, 1193.8941831313095, 1214.3468470317216, 1045.4078367443112, 1362.5427979198043, 926.0132316419126, 813.8870328554822, 823.885135294565, 957.7849578260845, 957.5956022761046, 812.3931620629734, 748.1167656893832, 786.3538624374163, 668.9914866601428, 858.3113437657973, 905.5345798784339, 645.096778821601, 949.6488156839844, 568.3198428958262, 503.0901448482061, 539.442528439891, 465.79772309766633, 418.37453679792833, 433.40724853890214, 376.0797749074176, 374.4223207610822, 480.82178120373925, 401.1706253644965, 396.33930908686494, 2719.9995230205036, 980.9150186231075, 1317.453208498327, 1753.0882962528233, 673.0296339469563, 2704.433547877743, 2157.581405210324, 1366.8320893272917, 609.5689437566363, 856.4769349170036, 760.7157571875425, 681.5248614998951, 15992.702019894483, 11169.68957558045, 6945.059917168449, 4765.835467811042, 2383.6690474826023, 2294.0045794863736, 5655.003890905869, 1858.3403586098118, 1210.8375076424702, 801.3798870704262, 681.5737833340926, 711.0267149618726, 669.9308689390385, 727.4603588371349, 686.427921949156, 295.22771051014024, 236.15309334412558, 236.04160992453606, 207.1262447604982, 140.56943200055883, 117.68616654582931, 117.58974749970965, 233.8995524479296, 88.46327530964211, 103.74381254290657, 389.59581450498655, 59.69858915986589, 77.5234590886828, 53.26571949297306, 87.66398152666113, 2363.1043549188294, 2661.7340972243164, 139.39130626835248, 4731.064682990007, 892.1987964521257, 590.3232402569697, 2923.183507584274, 294.8523359581047, 1478.8537147710076, 2954.632556895717, 1517.3789036642436, 2717.2829454071234, 772.4230331401108, 679.7891078323095, 431.1488131072639, 444.3563996482276, 587.0603588976398, 431.91336982127893, 317.9084286100379, 312.74793478247585, 311.7180045135477, 289.6315851798296, 271.17016343567093, 266.452240047353, 245.8631922470796, 217.93332587178773, 205.9035206648193, 210.70959203117314, 201.27047138794086, 189.37489471142405, 164.2705864260087, 166.23849707623327, 163.5678668023855, 163.33605592564174, 144.85786881625162, 140.18383460190182, 132.65183805894466, 124.33927075281704, 120.39603044822606, 120.58826450216355, 114.01458679669703, 108.52742796826276, 100.5057507497969, 92.91443737657198, 91.34233015727652, 90.77021316884229, 95.8199851801434, 213.1678258092224, 350.8064931539377, 176.22164282033086, 140.9639917313894, 194.30695713743862, 159.83815828604182, 131.88971359788715, 443.74618786054754, 197.6438262929107, 135.53217999225348, 158.93702038553747, 130.54615255243095, 64.70040242216525, 59.03593183928671, 84.78656189833039, 56.43926404452998, 47.333348603825065, 43.99161056521033, 38.11940278311543, 36.57515056925385, 37.04569776476909, 34.31049631399811, 36.0050810458229, 37.38979548415345, 35.14582999701332, 32.03311644981851, 34.186799190572785, 28.904431534040047, 28.34814093611786, 29.99446617732376, 27.17892520291846, 24.058857746858, 34.977507432449386, 30.805492059476475, 33.34073283367927, 22.33809241299227, 20.003114795273074, 31.2287129470906, 37.06176566949595, 44.90361539841754, 63.58755092511987, 34.07493525305846], \"Total\": [15995.0, 11171.0, 6948.0, 5663.0, 4769.0, 5493.0, 2839.0, 2385.0, 2296.0, 2527.0, 2823.0, 2493.0, 1861.0, 3072.0, 1863.0, 4291.0, 5113.0, 5423.0, 446.0, 1213.0, 589.0, 1366.0, 1216.0, 1196.0, 1513.0, 1047.0, 434.0, 960.0, 960.0, 803.0, 2839.8938167971623, 1863.5579429927125, 2527.413459328553, 1196.2893541203657, 1216.7898302148337, 1047.6304590115535, 1366.1445858786772, 928.540487853109, 816.1293209588054, 826.2468346320122, 960.5985842247328, 960.4184132773191, 814.9377544169109, 750.5756006640755, 788.9568323833836, 671.2226039885319, 861.1768491214742, 908.6212601446858, 647.3843263434586, 953.0392916707406, 570.5431258929714, 505.37853559896837, 541.9167437768126, 468.10419237970694, 420.7467370540667, 435.96608852535724, 378.309450677519, 376.6840446561921, 483.8949848470007, 403.8274168251011, 399.53998781841983, 3072.3011796665155, 1076.3245728862005, 1513.2515198117815, 2199.6301720488623, 743.3949286359727, 5423.323122462778, 5113.847437328684, 4291.702201256124, 787.2524030741677, 2375.7262646999843, 5493.660586804454, 2162.121786816024, 15995.116797350793, 11171.962111976018, 6948.126174077081, 4769.290700196694, 2385.9483349678953, 2296.4825621496125, 5663.559976237432, 1861.1922507588379, 1213.570597227403, 803.807270279867, 683.7962316494778, 713.6387436600509, 672.7569983865045, 731.3226205573085, 690.2027442074408, 297.5511332663551, 238.27414572015758, 238.52117800466306, 209.3207849285887, 142.7438083612541, 120.2650788261597, 120.5524841815067, 240.08075013499746, 91.206903117523, 107.13457050336791, 403.0834310884846, 61.81278563012419, 80.27378526584032, 55.40157230986162, 91.19761447536659, 2493.0301050378307, 2823.038243933468, 146.03256269191021, 5493.660586804454, 1029.8180898794099, 686.7636027875274, 4291.702201256124, 338.844894319853, 2162.121786816024, 5113.847437328684, 2375.7262646999843, 5423.323122462778, 1105.7077791619884, 1072.503763733778, 1026.2146290621126, 2199.6301720488623, 589.2101696495571, 434.075348914077, 319.9840649598737, 314.8579831736438, 313.8868870988228, 291.72332553288055, 273.3151452248947, 268.59761598780756, 247.9889377054772, 220.0561173651419, 207.9957313625115, 212.85304551615639, 203.34799530370128, 191.5063699559052, 166.35968138918184, 168.4168464132869, 165.72829198974878, 165.5519109328441, 146.97860987153388, 142.32478685207002, 134.83929077871574, 126.4538787126238, 122.4887595311736, 122.70550324514741, 116.16033003613865, 110.64398782049612, 102.65818171901873, 95.01712212293806, 93.43946440340542, 92.86988991994923, 98.09866001439993, 445.67410975742456, 3072.3011796665155, 787.2524030741677, 366.56367010192446, 1513.2515198117815, 2823.038243933468, 1029.8180898794099, 446.42646402868746, 200.2567304718866, 137.70661069327707, 161.53172073686903, 133.59054303889246, 67.08662012087335, 61.324238419349385, 88.24676825008966, 58.83066797815578, 49.621536867598245, 46.151998074436456, 40.283618096813484, 38.836748154371, 39.399946337496104, 36.50260252929567, 38.33789227657504, 39.94607561019731, 37.60554632168305, 34.333069108529, 36.691175110400636, 31.052065606595484, 30.513357623111848, 32.34356055125464, 29.51632184307508, 26.20001136263046, 38.1901019472797, 33.781908588770094, 36.56235891714071, 24.58725411684213, 22.151781079256065, 34.85076781555959, 50.146159110169044, 75.18784819731856, 237.37446985004192, 81.36647147208274], \"Category\": [\"Default\", \"Default\", \"Default\", \"Default\", \"Default\", \"Default\", \"Default\", \"Default\", \"Default\", \"Default\", \"Default\", \"Default\", \"Default\", \"Default\", \"Default\", \"Default\", \"Default\", \"Default\", \"Default\", \"Default\", \"Default\", \"Default\", \"Default\", \"Default\", \"Default\", \"Default\", \"Default\", \"Default\", \"Default\", \"Default\", \"Topic1\", \"Topic1\", \"Topic1\", \"Topic1\", \"Topic1\", \"Topic1\", \"Topic1\", \"Topic1\", \"Topic1\", \"Topic1\", \"Topic1\", \"Topic1\", \"Topic1\", \"Topic1\", \"Topic1\", \"Topic1\", \"Topic1\", \"Topic1\", \"Topic1\", \"Topic1\", \"Topic1\", \"Topic1\", \"Topic1\", \"Topic1\", \"Topic1\", \"Topic1\", \"Topic1\", \"Topic1\", \"Topic1\", \"Topic1\", \"Topic1\", \"Topic1\", \"Topic1\", \"Topic1\", \"Topic1\", \"Topic1\", \"Topic1\", \"Topic1\", \"Topic1\", \"Topic1\", \"Topic1\", \"Topic1\", \"Topic1\", \"Topic2\", \"Topic2\", \"Topic2\", \"Topic2\", \"Topic2\", \"Topic2\", \"Topic2\", \"Topic2\", \"Topic2\", \"Topic2\", \"Topic2\", \"Topic2\", \"Topic2\", \"Topic2\", \"Topic2\", \"Topic2\", \"Topic2\", \"Topic2\", \"Topic2\", \"Topic2\", \"Topic2\", \"Topic2\", \"Topic2\", \"Topic2\", \"Topic2\", \"Topic2\", \"Topic2\", \"Topic2\", \"Topic2\", \"Topic2\", \"Topic2\", \"Topic2\", \"Topic2\", \"Topic2\", \"Topic2\", \"Topic2\", \"Topic2\", \"Topic2\", \"Topic2\", \"Topic2\", \"Topic2\", \"Topic2\", \"Topic2\", \"Topic2\", \"Topic2\", \"Topic2\", \"Topic3\", \"Topic3\", \"Topic3\", \"Topic3\", \"Topic3\", \"Topic3\", \"Topic3\", \"Topic3\", \"Topic3\", \"Topic3\", \"Topic3\", \"Topic3\", \"Topic3\", \"Topic3\", \"Topic3\", \"Topic3\", \"Topic3\", \"Topic3\", \"Topic3\", \"Topic3\", \"Topic3\", \"Topic3\", \"Topic3\", \"Topic3\", \"Topic3\", \"Topic3\", \"Topic3\", \"Topic3\", \"Topic3\", \"Topic3\", \"Topic3\", \"Topic3\", \"Topic3\", \"Topic3\", \"Topic3\", \"Topic3\", \"Topic3\", \"Topic3\", \"Topic4\", \"Topic4\", \"Topic4\", \"Topic4\", \"Topic4\", \"Topic4\", \"Topic4\", \"Topic4\", \"Topic4\", \"Topic4\", \"Topic4\", \"Topic4\", \"Topic4\", \"Topic4\", \"Topic4\", \"Topic4\", \"Topic4\", \"Topic4\", \"Topic4\", \"Topic4\", \"Topic4\", \"Topic4\", \"Topic4\", \"Topic4\", \"Topic4\", \"Topic4\", \"Topic4\", \"Topic4\", \"Topic4\", \"Topic4\", \"Topic4\", \"Topic4\", \"Topic4\", \"Topic4\", \"Topic4\"], \"logprob\": [30.0, 29.0, 28.0, 27.0, 26.0, 25.0, 24.0, 23.0, 22.0, 21.0, 20.0, 19.0, 18.0, 17.0, 16.0, 15.0, 14.0, 13.0, 12.0, 11.0, 10.0, 9.0, 8.0, 7.0, 6.0, 5.0, 4.0, 3.0, 2.0, 1.0, -3.7088, -4.1305, -3.8263, -4.5745, -4.5575, -4.7073, -4.4424, -4.8286, -4.9577, -4.9455, -4.7949, -4.7951, -4.9595, -5.0419, -4.9921, -5.1537, -4.9045, -4.851, -5.1901, -4.8034, -5.3168, -5.4387, -5.369, -5.5157, -5.6231, -5.5878, -5.7297, -5.7341, -5.484, -5.6651, -5.6772, -3.7511, -4.771, -4.476, -4.1904, -5.1477, -3.7568, -3.9827, -4.4392, -5.2467, -4.9067, -5.0252, -5.1352, -1.8432, -2.2021, -2.6773, -3.0538, -3.7466, -3.785, -2.8827, -3.9956, -4.424, -4.8367, -4.9986, -4.9563, -5.0159, -4.9335, -4.9915, -5.8353, -6.0586, -6.059, -6.1897, -6.5773, -6.755, -6.7558, -6.0681, -7.0405, -6.8811, -5.5579, -7.4337, -7.1725, -7.5477, -7.0495, -3.7553, -3.6363, -6.5858, -3.0611, -4.7293, -5.1424, -3.5426, -5.8366, -4.224, -3.5319, -4.1983, -3.6157, -4.8735, -5.0013, -5.4566, -5.4264, -4.1649, -4.4718, -4.7783, -4.7946, -4.7979, -4.8714, -4.9373, -4.9548, -5.0353, -5.1558, -5.2126, -5.1896, -5.2354, -5.2963, -5.4385, -5.4266, -5.4428, -5.4442, -5.5643, -5.5971, -5.6523, -5.717, -5.7492, -5.7477, -5.8037, -5.853, -5.9298, -6.0084, -6.0254, -6.0317, -5.9776, -5.178, -4.6798, -5.3683, -5.5915, -5.2706, -5.4659, -5.6581, -3.7263, -4.5351, -4.9124, -4.7531, -4.9499, -5.6518, -5.7435, -5.3815, -5.7884, -5.9644, -6.0376, -6.1809, -6.2222, -6.2094, -6.2862, -6.2379, -6.2002, -6.2621, -6.3548, -6.2898, -6.4576, -6.477, -6.4206, -6.5192, -6.6411, -6.2669, -6.3939, -6.3148, -6.7153, -6.8257, -6.3803, -6.209, -6.0171, -5.6692, -6.293], \"loglift\": [30.0, 29.0, 28.0, 27.0, 26.0, 25.0, 24.0, 23.0, 22.0, 21.0, 20.0, 19.0, 18.0, 17.0, 16.0, 15.0, 14.0, 13.0, 12.0, 11.0, 10.0, 9.0, 8.0, 7.0, 6.0, 5.0, 4.0, 3.0, 2.0, 1.0, 0.857, 0.8566, 0.8561, 0.8558, 0.8558, 0.8557, 0.8552, 0.8551, 0.8551, 0.855, 0.8549, 0.8549, 0.8547, 0.8546, 0.8545, 0.8545, 0.8545, 0.8544, 0.8543, 0.8543, 0.8539, 0.8533, 0.8533, 0.8529, 0.8522, 0.852, 0.8519, 0.8518, 0.8515, 0.8512, 0.8498, 0.736, 0.765, 0.7193, 0.6309, 0.7584, 0.162, -0.0051, -0.2864, 0.602, -0.1624, -1.1193, -0.2967, 0.9941, 0.9941, 0.9939, 0.9936, 0.9933, 0.9932, 0.9928, 0.9928, 0.992, 0.9913, 0.991, 0.9906, 0.9901, 0.989, 0.9888, 0.9865, 0.9854, 0.9838, 0.9838, 0.9789, 0.9726, 0.9694, 0.9682, 0.9637, 0.9621, 0.9603, 0.9595, 0.9594, 0.955, 0.9548, 0.9408, 0.9355, 0.9477, 0.8448, 0.8508, 0.843, 0.6103, 0.8552, 0.6145, 0.4457, 0.546, 0.3032, 0.6356, 0.5383, 0.1271, -0.6051, 1.9736, 1.9723, 1.9708, 1.9706, 1.9704, 1.9701, 1.9694, 1.9693, 1.9687, 1.9676, 1.9672, 1.9672, 1.967, 1.9661, 1.9647, 1.9643, 1.9642, 1.9638, 1.9628, 1.9621, 1.9609, 1.9604, 1.9601, 1.9599, 1.9587, 1.958, 1.9561, 1.9549, 1.9546, 1.9544, 1.9538, 1.2398, -0.1927, 0.4805, 1.0216, -0.0753, -0.8941, -0.0779, 2.6897, 2.6826, 2.6798, 2.6795, 2.6727, 2.6595, 2.6577, 2.6557, 2.6542, 2.6485, 2.6478, 2.6405, 2.6357, 2.6341, 2.6338, 2.6329, 2.6296, 2.6281, 2.6264, 2.625, 2.6241, 2.6221, 2.6203, 2.6132, 2.6105, 2.6079, 2.6035, 2.6035, 2.5998, 2.5937, 2.586, 2.3934, 2.1803, 1.3785, 1.8253]}, \"token.table\": {\"Topic\": [1, 2, 3, 4, 1, 2, 3, 4, 1, 2, 3, 4, 1, 2, 3, 4, 1, 2, 3, 4, 1, 2, 3, 4, 1, 2, 3, 4, 1, 2, 3, 4, 1, 2, 3, 4, 1, 2, 3, 4, 1, 2, 3, 4, 1, 2, 3, 4, 1, 2, 3, 4, 1, 2, 3, 4, 1, 2, 3, 4, 1, 2, 3, 4, 1, 2, 3, 4, 1, 2, 3, 4, 1, 2, 3, 4, 1, 2, 3, 4, 1, 2, 3, 4, 1, 2, 3, 4, 1, 2, 3, 4, 1, 2, 3, 4, 1, 2, 3, 4, 1, 2, 3, 4, 1, 2, 3, 4, 1, 2, 3, 4, 1, 2, 3, 4, 1, 2, 3, 4, 1, 2, 3, 4, 1, 2, 3, 4, 1, 2, 3, 4, 1, 2, 3, 4, 1, 2, 3, 4, 1, 2, 3, 4, 1, 2, 3, 4, 1, 2, 3, 4, 1, 2, 3, 4, 1, 2, 3, 4, 1, 2, 3, 4, 1, 2, 3, 4, 1, 2, 3, 4, 1, 2, 3, 4, 1, 2, 3, 4, 1, 2, 3, 4, 1, 2, 3, 4, 1, 2, 3, 4, 1, 2, 3, 4, 1, 2, 3, 4, 1, 2, 3, 4, 1, 2, 3, 4, 1, 2, 3, 4, 1, 2, 3, 4, 1, 2, 3, 4, 1, 2, 3, 4, 1, 2, 3, 4, 1, 2, 3, 4, 1, 2, 3, 4, 1, 2, 3, 4, 1, 2, 3, 4, 1, 2, 3, 4, 1, 2, 3, 4, 1, 2, 3, 4, 1, 2, 3, 4, 1, 2, 3, 4, 1, 2, 3, 4, 1, 2, 3, 4, 1, 2, 3, 4, 1, 2, 3, 4, 1, 2, 3, 4, 1, 2, 3, 4, 1, 2, 3, 4, 1, 2, 3, 4, 1, 2, 3, 4, 1, 2, 3, 4, 1, 2, 3, 4, 1, 2, 3, 4, 1, 2, 3, 4, 1, 2, 3, 4, 1, 2, 3, 4, 1, 2, 3, 4, 1, 2, 3, 4, 1, 2, 3, 4, 1, 2, 3, 4, 1, 2, 3, 4, 1, 2, 3, 4, 1, 2, 3, 4, 1, 2, 3, 4, 1, 2, 3, 4, 1, 2, 3, 4, 1, 2, 3, 4, 1, 2, 3, 4, 1, 2, 3, 4, 1, 2, 3, 4, 1, 2, 3, 4, 1, 2, 3, 4, 1, 2, 3, 4, 1, 2, 3, 4, 1, 2, 3, 4, 1, 2, 3, 4, 1, 2, 3, 4, 1, 2, 3, 4, 1, 2, 3, 4, 1, 2, 3, 4, 1, 2, 3, 4, 1, 2, 3, 4, 1, 2, 3, 4, 1, 2, 3, 4, 1, 2, 3, 4, 1, 2, 3, 4, 1, 2, 3, 4, 1, 2, 3, 4, 1, 2, 3, 4, 1, 2, 3, 4, 1, 2, 3, 4, 1, 2, 3, 4, 1, 2, 3, 4, 1, 2, 3, 4, 1, 2, 3, 4, 1, 2, 3, 4, 1, 2, 3, 4, 1, 2, 3, 4, 1, 2, 3, 4, 1, 2, 3, 4, 1, 2, 3, 4, 1, 2, 3, 4, 1, 2, 3, 4, 1, 2, 3, 4, 1, 2, 3, 4, 1, 2, 3, 4, 1, 2, 3, 4, 1, 2, 3, 4, 1, 2, 3, 4, 1, 2, 3, 4, 1, 2, 3, 4, 1, 2, 3, 4, 1, 2, 3, 4, 1, 2, 3, 4, 1, 2, 3, 4, 1, 2, 3, 4, 1, 2, 3, 4, 1, 2, 3, 4, 1, 2, 3, 4, 1, 2, 3, 4, 1, 2, 3, 4, 1, 2, 3, 4, 1, 2, 3, 4, 1, 2, 3, 4, 1, 2, 3, 4], \"Freq\": [0.0061907345222241145, 0.0061907345222241145, 0.0061907345222241145, 0.9843267890336342, 0.9114351049046623, 0.0009290877725837536, 0.08733425062287284, 0.0009290877725837536, 0.02608385439621607, 0.02608385439621607, 0.02608385439621607, 0.9390187582637786, 0.008608790967526436, 0.008608790967526436, 0.9814021702980136, 0.008608790967526436, 0.0005372900083762352, 0.9982848355630449, 0.0005372900083762352, 0.0005372900083762352, 0.138329986642276, 0.8591020223046615, 0.0014561051225502736, 0.0014561051225502736, 0.0002096747845457938, 0.9993100231452533, 0.0004193495690915876, 0.0002096747845457938, 0.009334055247540883, 0.9707417457442519, 0.009334055247540883, 0.009334055247540883, 0.026184795248268, 0.026184795248268, 0.052369590496536, 0.91646783368938, 0.0004354485492212727, 0.9989189719135996, 0.0004354485492212727, 0.0004354485492212727, 0.0047773564404564855, 0.9889127831744925, 0.0047773564404564855, 0.0047773564404564855, 0.008164014427344235, 0.008164014427344235, 0.9796817312813083, 0.008164014427344235, 0.00680371110377249, 0.00680371110377249, 0.9865381100470111, 0.00680371110377249, 0.011331859736393056, 0.011331859736393056, 0.011331859736393056, 0.9632080775934097, 0.997263998838669, 0.0010769589620288002, 0.0010769589620288002, 0.0010769589620288002, 0.010964082386521426, 0.9648392500138855, 0.010964082386521426, 0.010964082386521426, 0.31543089022951126, 0.6840502736795413, 0.00046250863670016317, 0.00046250863670016317, 0.998253764411888, 0.000395661420694367, 0.001186984262083101, 0.000395661420694367, 0.997707220963261, 0.0008218346136435429, 0.0008218346136435429, 0.0008218346136435429, 0.9938953397188915, 0.0026433386694651373, 0.0026433386694651373, 0.0026433386694651373, 0.8703113677783114, 0.0006608286771285584, 0.12820076336294034, 0.0006608286771285584, 0.31852163451599635, 0.6810817393491275, 0.0002330077794557398, 0.0002330077794557398, 0.9946177271503279, 0.0018453019056592355, 0.0018453019056592355, 0.0018453019056592355, 0.0014012692120263586, 0.996302409750741, 0.0014012692120263586, 0.0014012692120263586, 0.05738754481922987, 0.028693772409614935, 0.028693772409614935, 0.889506944698063, 0.04067147942783109, 0.04067147942783109, 0.04067147942783109, 0.8947725474122841, 0.00372304123520364, 0.00372304123520364, 0.9903289685641682, 0.00372304123520364, 0.025380745228282733, 0.025380745228282733, 0.025380745228282733, 0.9390875734464611, 0.9966887229730871, 0.001489818718943329, 0.001489818718943329, 0.001489818718943329, 0.4985872939785469, 0.5009843482765207, 0.00018438879215182947, 0.00018438879215182947, 0.007005557799531405, 0.9877836497339282, 0.007005557799531405, 0.007005557799531405, 0.01805002923756367, 0.9566515495908744, 0.01805002923756367, 0.01805002923756367, 0.0004191205590432266, 0.9991834127590522, 0.0004191205590432266, 0.0004191205590432266, 0.03220397678754096, 0.03220397678754096, 0.03220397678754096, 0.9339153268386878, 0.01617788277628851, 0.9706729665773106, 0.01617788277628851, 0.01617788277628851, 0.008314965655537267, 0.9811659473533975, 0.008314965655537267, 0.008314965655537267, 0.36456748518885, 0.634030409024087, 0.0009323976603295397, 0.0009323976603295397, 0.9976982041936252, 0.0007319869436490281, 0.0014639738872980561, 0.0007319869436490281, 0.008149593730952297, 0.008149593730952297, 0.9861008414452278, 0.008149593730952297, 0.009741064796345768, 0.009741064796345768, 0.9838475444309226, 0.009741064796345768, 0.003427905527174887, 0.003427905527174887, 0.9940926028807171, 0.003427905527174887, 0.004807790974599957, 0.004807790974599957, 0.9904049407675912, 0.004807790974599957, 0.024823986703396486, 0.024823986703396486, 0.024823986703396486, 0.9433114947290665, 0.9053061489602334, 0.0013451800133138683, 0.09147224090534305, 0.0013451800133138683, 6.251908083382211e-05, 0.999867659775317, 6.251908083382211e-05, 6.251908083382211e-05, 0.027395306929072688, 0.027395306929072688, 0.027395306929072688, 0.9314404355884714, 0.021667534272018854, 0.021667534272018854, 0.021667534272018854, 0.9533715079688295, 0.00028784739221660147, 0.9995500694721486, 0.00014392369610830073, 0.00014392369610830073, 0.010965199098164022, 0.964937520638434, 0.010965199098164022, 0.010965199098164022, 0.01229007454677576, 0.01229007454677576, 0.5653434291516849, 0.4178625345903758, 0.01330002153241118, 0.01330002153241118, 0.37240060290751303, 0.5985009689585031, 0.002734771144472311, 0.994089311015685, 0.0013673855722361554, 0.0013673855722361554, 0.9974819170021256, 0.0010412128569959557, 0.0010412128569959557, 0.0010412128569959557, 0.9980862873079323, 0.0008359181635744826, 0.0008359181635744826, 0.0008359181635744826, 0.05134314252416846, 0.9478425451922661, 0.0004011183009700661, 0.0004011183009700661, 0.003360766900876975, 0.9914262357587076, 0.003360766900876975, 0.003360766900876975, 0.9955426228490772, 0.0017527158852976713, 0.0017527158852976713, 0.0017527158852976713, 0.02912643774545575, 0.02912643774545575, 0.02912643774545575, 0.932046007854584, 0.007485559810239473, 0.007485559810239473, 0.007485559810239473, 0.9806083351413709, 0.996568499346639, 0.0013323108280035281, 0.0013323108280035281, 0.0013323108280035281, 0.020152539867280446, 0.020152539867280446, 0.020152539867280446, 0.9471693737621809, 0.004192499837395781, 0.9894299616254043, 0.004192499837395781, 0.004192499837395781, 0.016997937204644806, 0.016997937204644806, 0.016997937204644806, 0.9518844834601091, 0.025748808732006363, 0.025748808732006363, 0.025748808732006363, 0.9527059230842354, 0.002897699287325492, 0.9939108555526437, 0.001448849643662746, 0.001448849643662746, 0.054701065774571365, 0.027350532887285683, 0.027350532887285683, 0.9025675852804275, 0.0045442953914373, 0.0045442953914373, 0.9906563953333315, 0.0045442953914373, 0.009037996728953366, 0.009037996728953366, 0.9851416434559169, 0.009037996728953366, 0.005937648289328776, 0.005937648289328776, 0.9856496160285767, 0.005937648289328776, 0.9963169847547504, 0.001544677495743799, 0.001544677495743799, 0.001544677495743799, 0.3603108711298012, 0.6385415788597061, 0.0004209239148712631, 0.0004209239148712631, 0.025033748239957847, 0.025033748239957847, 0.025033748239957847, 0.9262486848784403, 0.006011071863383772, 0.006011071863383772, 0.9858157855949387, 0.006011071863383772, 0.8853298686996708, 0.0003254889223160555, 0.11424661173293546, 0.0003254889223160555, 0.9929984525386356, 0.002476305367926772, 0.002476305367926772, 0.002476305367926772, 0.9973909515267706, 0.001225296009246647, 0.001225296009246647, 0.001225296009246647, 0.13852330117151587, 0.8611744255485434, 0.0001820279910269591, 0.0001820279910269591, 0.004993589966457515, 0.004993589966457515, 0.004993589966457515, 0.988730813358588, 0.005221758421039741, 0.005221758421039741, 0.986912341576511, 0.005221758421039741, 0.0074162359815515225, 0.0074162359815515225, 0.9863593855463525, 0.0074162359815515225, 0.0031251556233758107, 0.0031251556233758107, 0.9937994882335078, 0.0031251556233758107, 0.9955048632036175, 0.0021362765304798657, 0.0021362765304798657, 0.0021362765304798657, 0.00790802156628645, 0.00790802156628645, 0.9805946742195197, 0.00790802156628645, 0.029601643062062623, 0.029601643062062623, 0.029601643062062623, 0.9176509349239413, 0.9993331381666593, 0.00035212584149635633, 0.00035212584149635633, 0.00035212584149635633, 0.010193819159743973, 0.010193819159743973, 0.9786066393354215, 0.010193819159743973, 0.007261815500109616, 0.007261815500109616, 0.007261815500109616, 0.9876069080149078, 0.996810948197726, 0.0010492746823133957, 0.0020985493646267913, 0.0010492746823133957, 8.950979156365283e-05, 0.9998243717660021, 8.950979156365283e-05, 8.950979156365283e-05, 0.010767752614566108, 0.010767752614566108, 0.9798654879255159, 0.010767752614566108, 0.010524418943210554, 0.010524418943210554, 0.9787709617185816, 0.010524418943210554, 0.0398834135154017, 0.01994170675770085, 0.19941706757700847, 0.7378431500349314, 0.0003542282865451565, 0.9429556987832066, 0.056676525847225045, 0.0003542282865451565, 0.005902405594791397, 0.8706048252317311, 0.12099931469322364, 0.0029512027973956985, 0.030918055494085328, 0.030918055494085328, 0.030918055494085328, 0.9275416648225598, 0.9963110374777084, 0.0011612016753819445, 0.0011612016753819445, 0.0011612016753819445, 0.6110807433200238, 0.0027280390326786777, 0.38465350360769357, 0.0027280390326786777, 0.007026183015045602, 0.007026183015045602, 0.9836656221063843, 0.007026183015045602, 0.9986273874647522, 0.0005366079459778357, 0.0005366079459778357, 0.0005366079459778357, 0.9974891346572384, 0.0009545350570882665, 0.0009545350570882665, 0.0009545350570882665, 0.997115123473703, 0.0011005685689555221, 0.0022011371379110443, 0.0011005685689555221, 0.004917678182696096, 0.004917678182696096, 0.9884533147219153, 0.004917678182696096, 0.029770511696785098, 0.9675416301455156, 0.0024808759747320915, 0.0024808759747320915, 0.027254510028394695, 0.027254510028394695, 0.027254510028394695, 0.9266533409654196, 0.0036587800473960553, 0.0036587800473960553, 0.991529392844331, 0.0036587800473960553, 0.012457366955953673, 0.9716746225643865, 0.012457366955953673, 0.012457366955953673, 0.0022400105741395737, 0.0022400105741395737, 0.0022400105741395737, 0.9945646949179707, 0.010702116138880124, 0.010702116138880124, 0.9738925686380913, 0.010702116138880124, 0.004698077011654015, 0.004698077011654015, 0.9912942494589971, 0.004698077011654015, 0.0016971872712155788, 0.0016971872712155788, 0.9962489282035447, 0.0016971872712155788, 0.04514309691045319, 0.04514309691045319, 0.04514309691045319, 0.9028619382090639, 0.0014864208063213513, 0.9959019402353053, 0.0014864208063213513, 0.0014864208063213513, 0.026591822159578844, 0.026591822159578844, 0.026591822159578844, 0.9307137755852595, 0.01630676590162878, 0.01630676590162878, 0.01630676590162878, 0.9620991881960979, 0.9931965155010337, 0.002293756386838415, 0.002293756386838415, 0.002293756386838415, 0.9963951180308085, 0.001227087583781784, 0.001227087583781784, 0.001227087583781784, 0.9928745464686675, 0.002654744776654191, 0.002654744776654191, 0.002654744776654191, 0.29935576672062814, 0.6981953229858759, 0.0018087961735385387, 0.0009043980867692693, 0.006033972763454628, 0.006033972763454628, 0.989571533206559, 0.006033972763454628, 0.004855226422159172, 0.8661723937131963, 0.12817797754500215, 0.0009710452844318344, 0.020826326130639373, 0.9746720629139227, 0.004165265226127875, 0.004165265226127875, 0.003185861025424628, 0.003185861025424628, 0.9939886399324839, 0.003185861025424628, 0.0060404014327907615, 0.0060404014327907615, 0.9845854335448941, 0.0060404014327907615, 0.7969521523553001, 0.20185211388805094, 0.0004546218781262408, 0.0004546218781262408, 0.9911398410012751, 0.005005756772733712, 0.002502878386366856, 0.002502878386366856, 0.9972948281754651, 0.001041017565945162, 0.001041017565945162, 0.001041017565945162, 0.5525159980599749, 0.41999011492742355, 0.02728474064493703, 0.0009744550230334653, 0.997280673840024, 0.0012102920799029417, 0.0012102920799029417, 0.0012102920799029417, 0.9962522253917857, 0.001267496469964104, 0.001267496469964104, 0.001267496469964104, 0.014906101964866459, 0.014906101964866459, 0.014906101964866459, 0.9688966277163199, 0.518315950921472, 0.002243791995331048, 0.47792769500551313, 0.002243791995331048, 0.004032437935548742, 0.004032437935548742, 0.9919797321449905, 0.004032437935548742, 0.7748467932495233, 0.0012702406446713497, 0.22356235346215755, 0.0012702406446713497, 0.42199147050176233, 0.5778428152607542, 0.00019554748401379163, 0.00019554748401379163, 0.03387956010632176, 0.03387956010632176, 0.03387956010632176, 0.9147481228706875, 0.0012359717261527842, 0.9984885873419992, 0.00017656738945039772, 0.00017656738945039772, 0.0008240146904388263, 0.9978817901214186, 0.0008240146904388263, 0.0008240146904388263, 0.0014624239703511733, 0.9973731477795003, 0.0014624239703511733, 0.0014624239703511733, 0.004196846439119986, 0.9904557596323167, 0.004196846439119986, 0.004196846439119986, 0.03816792237832071, 0.03816792237832071, 0.03816792237832071, 0.916030137079697, 0.0031760350807065333, 0.0031760350807065333, 0.9940989802611448, 0.0031760350807065333, 0.9940173282682067, 0.0020665640920336935, 0.004133128184067387, 0.0020665640920336935, 0.9934717567311431, 0.0023767266907443615, 0.0023767266907443615, 0.0023767266907443615, 0.9952935563514794, 0.0019787148237603966, 0.0019787148237603966, 0.0019787148237603966, 0.03277253235620869, 0.03277253235620869, 0.03277253235620869, 0.9176309059738432, 0.03423893895876269, 0.9518425030536029, 0.006847787791752539, 0.006847787791752539, 0.7245935087655326, 0.004212752957939143, 0.004212752957939143, 0.26961618930810516, 0.0012440793172371074, 0.9965075331069231, 0.0012440793172371074, 0.0012440793172371074, 0.008295142209548963, 0.9788267807267778, 0.008295142209548963, 0.008295142209548963, 0.0023037475002938832, 0.0023037475002938832, 0.9952189201269576, 0.0023037475002938832], \"Term\": [\"accessible\", \"accessible\", \"accessible\", \"accessible\", \"account\", \"account\", \"account\", \"account\", \"affordable\", \"affordable\", \"affordable\", \"affordable\", \"akong\", \"akong\", \"akong\", \"akong\", \"amazing\", \"amazing\", \"amazing\", \"amazing\", \"application\", \"application\", \"application\", \"application\", \"apps\", \"apps\", \"apps\", \"apps\", \"aps\", \"aps\", \"aps\", \"aps\", \"astig\", \"astig\", \"astig\", \"astig\", \"awesome\", \"awesome\", \"awesome\", \"awesome\", \"awsome\", \"awsome\", \"awsome\", \"awsome\", \"ayos\", \"ayos\", \"ayos\", \"ayos\", \"ba\", \"ba\", \"ba\", \"ba\", \"bad\", \"bad\", \"bad\", \"bad\", \"bank\", \"bank\", \"bank\", \"bank\", \"beautiful\", \"beautiful\", \"beautiful\", \"beautiful\", \"best\", \"best\", \"best\", \"best\", \"bills\", \"bills\", \"bills\", \"bills\", \"buy\", \"buy\", \"buy\", \"buy\", \"buying\", \"buying\", \"buying\", \"buying\", \"cash\", \"cash\", \"cash\", \"cash\", \"convenient\", \"convenient\", \"convenient\", \"convenient\", \"convinient\", \"convinient\", \"convinient\", \"convinient\", \"cool\", \"cool\", \"cool\", \"cool\", \"covenient\", \"covenient\", \"covenient\", \"covenient\", \"cute\", \"cute\", \"cute\", \"cute\", \"di\", \"di\", \"di\", \"di\", \"dis\", \"dis\", \"dis\", \"dis\", \"easier\", \"easier\", \"easier\", \"easier\", \"easy\", \"easy\", \"easy\", \"easy\", \"excelent\", \"excelent\", \"excelent\", \"excelent\", \"excellence\", \"excellence\", \"excellence\", \"excellence\", \"excellent\", \"excellent\", \"excellent\", \"excellent\", \"exelent\", \"exelent\", \"exelent\", \"exelent\", \"exellent\", \"exellent\", \"exellent\", \"exellent\", \"fantastic\", \"fantastic\", \"fantastic\", \"fantastic\", \"fast\", \"fast\", \"fast\", \"fast\", \"free\", \"free\", \"free\", \"free\", \"galing\", \"galing\", \"galing\", \"galing\", \"gamit\", \"gamit\", \"gamit\", \"gamit\", \"gamitin\", \"gamitin\", \"gamitin\", \"gamitin\", \"ganda\", \"ganda\", \"ganda\", \"ganda\", \"gg\", \"gg\", \"gg\", \"gg\", \"globe\", \"globe\", \"globe\", \"globe\", \"good\", \"good\", \"good\", \"good\", \"goog\", \"goog\", \"goog\", \"goog\", \"goood\", \"goood\", \"goood\", \"goood\", \"great\", \"great\", \"great\", \"great\", \"gud\", \"gud\", \"gud\", \"gud\", \"haha\", \"haha\", \"haha\", \"haha\", \"hahaha\", \"hahaha\", \"hahaha\", \"hahaha\", \"happy\", \"happy\", \"happy\", \"happy\", \"hassle\", \"hassle\", \"hassle\", \"hassle\", \"help\", \"help\", \"help\", \"help\", \"helpful\", \"helpful\", \"helpful\", \"helpful\", \"helpfull\", \"helpfull\", \"helpfull\", \"helpfull\", \"helps\", \"helps\", \"helps\", \"helps\", \"helpul\", \"helpul\", \"helpul\", \"helpul\", \"highly_recommended\", \"highly_recommended\", \"highly_recommended\", \"highly_recommended\", \"hope\", \"hope\", \"hope\", \"hope\", \"ilike\", \"ilike\", \"ilike\", \"ilike\", \"ilove\", \"ilove\", \"ilove\", \"ilove\", \"iloveit\", \"iloveit\", \"iloveit\", \"iloveit\", \"incredible\", \"incredible\", \"incredible\", \"incredible\", \"job\", \"job\", \"job\", \"job\", \"join\", \"join\", \"join\", \"join\", \"kasi\", \"kasi\", \"kasi\", \"kasi\", \"kayo\", \"kayo\", \"kayo\", \"kayo\", \"lalo\", \"lalo\", \"lalo\", \"lalo\", \"life\", \"life\", \"life\", \"life\", \"like\", \"like\", \"like\", \"like\", \"liked\", \"liked\", \"liked\", \"liked\", \"lng\", \"lng\", \"lng\", \"lng\", \"load\", \"load\", \"load\", \"load\", \"loading\", \"loading\", \"loading\", \"loading\", \"lot\", \"lot\", \"lot\", \"lot\", \"love\", \"love\", \"love\", \"love\", \"loved\", \"loved\", \"loved\", \"loved\", \"ma\", \"ma\", \"ma\", \"ma\", \"mabilis\", \"mabilis\", \"mabilis\", \"mabilis\", \"maganda\", \"maganda\", \"maganda\", \"maganda\", \"makes\", \"makes\", \"makes\", \"makes\", \"mas\", \"mas\", \"mas\", \"mas\", \"ml\", \"ml\", \"ml\", \"ml\", \"money\", \"money\", \"money\", \"money\", \"nang\", \"nang\", \"nang\", \"nang\", \"nc\", \"nc\", \"nc\", \"nc\", \"need\", \"need\", \"need\", \"need\", \"nice\", \"nice\", \"nice\", \"nice\", \"nman\", \"nman\", \"nman\", \"nman\", \"nmn\", \"nmn\", \"nmn\", \"nmn\", \"oh\", \"oh\", \"oh\", \"oh\", \"ok\", \"ok\", \"ok\", \"ok\", \"okay\", \"okay\", \"okay\", \"okay\", \"oks\", \"oks\", \"oks\", \"oks\", \"online\", \"online\", \"online\", \"online\", \"open\", \"open\", \"open\", \"open\", \"pang\", \"pang\", \"pang\", \"pang\", \"pay\", \"pay\", \"pay\", \"pay\", \"paying\", \"paying\", \"paying\", \"paying\", \"payment\", \"payment\", \"payment\", \"payment\", \"pera\", \"pera\", \"pera\", \"pera\", \"perfect\", \"perfect\", \"perfect\", \"perfect\", \"performance\", \"performance\", \"performance\", \"performance\", \"pwede\", \"pwede\", \"pwede\", \"pwede\", \"quality\", \"quality\", \"quality\", \"quality\", \"reliable\", \"reliable\", \"reliable\", \"reliable\", \"sakin\", \"sakin\", \"sakin\", \"sakin\", \"salamat\", \"salamat\", \"salamat\", \"salamat\", \"sana\", \"sana\", \"sana\", \"sana\", \"satisfactory\", \"satisfactory\", \"satisfactory\", \"satisfactory\", \"satisfied\", \"satisfied\", \"satisfied\", \"satisfied\", \"satisfy\", \"satisfy\", \"satisfy\", \"satisfy\", \"satisfying\", \"satisfying\", \"satisfying\", \"satisfying\", \"save\", \"save\", \"save\", \"save\", \"send\", \"send\", \"send\", \"send\", \"sending\", \"sending\", \"sending\", \"sending\", \"service\", \"service\", \"service\", \"service\", \"sobrang\", \"sobrang\", \"sobrang\", \"sobrang\", \"super\", \"super\", \"super\", \"super\", \"superb\", \"superb\", \"superb\", \"superb\", \"sya\", \"sya\", \"sya\", \"sya\", \"talaga\", \"talaga\", \"talaga\", \"talaga\", \"thanks\", \"thanks\", \"thanks\", \"thanks\", \"think\", \"think\", \"think\", \"think\", \"time\", \"time\", \"time\", \"time\", \"transaction\", \"transaction\", \"transaction\", \"transaction\", \"transactions\", \"transactions\", \"transactions\", \"transactions\", \"transfer\", \"transfer\", \"transfer\", \"transfer\", \"trusted\", \"trusted\", \"trusted\", \"trusted\", \"try\", \"try\", \"try\", \"try\", \"ung\", \"ung\", \"ung\", \"ung\", \"update\", \"update\", \"update\", \"update\", \"use\", \"use\", \"use\", \"use\", \"useable\", \"useable\", \"useable\", \"useable\", \"useful\", \"useful\", \"useful\", \"useful\", \"usefull\", \"usefull\", \"usefull\", \"usefull\", \"verry\", \"verry\", \"verry\", \"verry\", \"verygood\", \"verygood\", \"verygood\", \"verygood\", \"vgood\", \"vgood\", \"vgood\", \"vgood\", \"wala\", \"wala\", \"wala\", \"wala\", \"wallet\", \"wallet\", \"wallet\", \"wallet\", \"want\", \"want\", \"want\", \"want\", \"way\", \"way\", \"way\", \"way\", \"wew\", \"wew\", \"wew\", \"wew\", \"wonderful\", \"wonderful\", \"wonderful\", \"wonderful\", \"working\", \"working\", \"working\", \"working\", \"wow\", \"wow\", \"wow\", \"wow\", \"yeah\", \"yeah\", \"yeah\", \"yeah\", \"yung\", \"yung\", \"yung\", \"yung\"]}, \"R\": 30, \"lambda.step\": 0.01, \"plot.opts\": {\"xlab\": \"PC1\", \"ylab\": \"PC2\"}, \"topic.order\": [2, 1, 3, 4]};\n",
       "\n",
       "function LDAvis_load_lib(url, callback){\n",
       "  var s = document.createElement('script');\n",
       "  s.src = url;\n",
       "  s.async = true;\n",
       "  s.onreadystatechange = s.onload = callback;\n",
       "  s.onerror = function(){console.warn(\"failed to load library \" + url);};\n",
       "  document.getElementsByTagName(\"head\")[0].appendChild(s);\n",
       "}\n",
       "\n",
       "if(typeof(LDAvis) !== \"undefined\"){\n",
       "   // already loaded: just create the visualization\n",
       "   !function(LDAvis){\n",
       "       new LDAvis(\"#\" + \"ldavis_el2179229233888869282050736419\", ldavis_el2179229233888869282050736419_data);\n",
       "   }(LDAvis);\n",
       "}else if(typeof define === \"function\" && define.amd){\n",
       "   // require.js is available: use it to load d3/LDAvis\n",
       "   require.config({paths: {d3: \"https://d3js.org/d3.v5\"}});\n",
       "   require([\"d3\"], function(d3){\n",
       "      window.d3 = d3;\n",
       "      LDAvis_load_lib(\"https://cdn.jsdelivr.net/gh/bmabey/pyLDAvis@3.3.1/pyLDAvis/js/ldavis.v3.0.0.js\", function(){\n",
       "        new LDAvis(\"#\" + \"ldavis_el2179229233888869282050736419\", ldavis_el2179229233888869282050736419_data);\n",
       "      });\n",
       "    });\n",
       "}else{\n",
       "    // require.js not available: dynamically load d3 & LDAvis\n",
       "    LDAvis_load_lib(\"https://d3js.org/d3.v5.js\", function(){\n",
       "         LDAvis_load_lib(\"https://cdn.jsdelivr.net/gh/bmabey/pyLDAvis@3.3.1/pyLDAvis/js/ldavis.v3.0.0.js\", function(){\n",
       "                 new LDAvis(\"#\" + \"ldavis_el2179229233888869282050736419\", ldavis_el2179229233888869282050736419_data);\n",
       "            })\n",
       "         });\n",
       "}\n",
       "</script>"
      ],
      "text/plain": [
       "PreparedData(topic_coordinates=              x         y  topics  cluster       Freq\n",
       "topic                                                \n",
       "1      0.014386 -0.272314       1        1  42.407846\n",
       "0      0.326189  0.100541       2        1  36.998542\n",
       "2     -0.178851  0.064094       3        1  13.844291\n",
       "3     -0.161724  0.107680       4        1   6.749321, topic_info=           Term          Freq         Total Category  logprob  loglift\n",
       "12         good  15995.000000  15995.000000  Default  30.0000  30.0000\n",
       "16         nice  11171.000000  11171.000000  Default  29.0000  29.0000\n",
       "14        great   6948.000000   6948.000000  Default  28.0000  28.0000\n",
       "40       useful   5663.000000   5663.000000  Default  27.0000  27.0000\n",
       "32         apps   4769.000000   4769.000000  Default  26.0000  26.0000\n",
       "...         ...           ...           ...      ...      ...      ...\n",
       "611   covenient     31.228713     34.850768   Topic4  -6.3803   2.5860\n",
       "793          oh     37.061766     50.146159   Topic4  -6.2090   2.3934\n",
       "549      hahaha     44.903615     75.187848   Topic4  -6.0171   2.1803\n",
       "768     working     63.587551    237.374470   Topic4  -5.6692   1.3785\n",
       "1084       haha     34.074935     81.366471   Topic4  -6.2930   1.8253\n",
       "\n",
       "[192 rows x 6 columns], token_table=      Topic      Freq        Term\n",
       "term                             \n",
       "901       1  0.006191  accessible\n",
       "901       2  0.006191  accessible\n",
       "901       3  0.006191  accessible\n",
       "901       4  0.984327  accessible\n",
       "144       1  0.911435     account\n",
       "...     ...       ...         ...\n",
       "332       4  0.008295        yeah\n",
       "369       1  0.002304        yung\n",
       "369       2  0.002304        yung\n",
       "369       3  0.995219        yung\n",
       "369       4  0.002304        yung\n",
       "\n",
       "[600 rows x 3 columns], R=30, lambda_step=0.01, plot_opts={'xlab': 'PC1', 'ylab': 'PC2'}, topic_order=[2, 1, 3, 4])"
      ]
     },
     "execution_count": 29,
     "metadata": {},
     "output_type": "execute_result"
    }
   ],
   "source": [
    "# Visualize the topics\n",
    "pyLDAvis.enable_notebook()\n",
    "LDAvis_prepared = gensimvis.prepare(final_lda5, corpus5, id2word5)\n",
    "LDAvis_prepared"
   ]
  },
  {
   "cell_type": "code",
   "execution_count": null,
   "id": "IQ0nQ5RbwXkS",
   "metadata": {
    "id": "IQ0nQ5RbwXkS"
   },
   "outputs": [],
   "source": []
  }
 ],
 "metadata": {
  "colab": {
   "collapsed_sections": [
    "c32c3872-f82b-4837-958c-9c9d44b8de0b",
    "d562757f-024a-49ac-b70d-919e7b16ff23",
    "e2f384de-5d56-4e7c-91c8-b12171cffe73",
    "dbfa61d3-4f00-4204-bfc3-fcd9bcfb01c2",
    "d3a59f75-e951-4614-bca9-e1195779c4f2",
    "Dk8yiXA0Lc5s"
   ],
   "name": "Gcash_PlayStore_LDA.ipynb",
   "provenance": []
  },
  "kernelspec": {
   "display_name": "Python 3",
   "language": "python",
   "name": "python3"
  },
  "language_info": {
   "codemirror_mode": {
    "name": "ipython",
    "version": 3
   },
   "file_extension": ".py",
   "mimetype": "text/x-python",
   "name": "python",
   "nbconvert_exporter": "python",
   "pygments_lexer": "ipython3",
   "version": "3.9.5"
  }
 },
 "nbformat": 4,
 "nbformat_minor": 5
}
