{
 "cells": [
  {
   "cell_type": "markdown",
   "id": "81b6dbd5-34c9-4b09-bb07-eefcc6150839",
   "metadata": {},
   "source": [
    "# Forming Topic Models from PayMaya App Store Reviews Using Latent Dirichlet Allocation <br>\n",
    "This notebook aims to generate topic models for 5-star and 1-star PayMaya app reviews taken from the App Store using Latent Dirichlet Allocation (LDA)"
   ]
  },
  {
   "cell_type": "code",
   "execution_count": 1,
   "id": "1efae60a-f19a-4ace-81e6-ce84d97058bd",
   "metadata": {},
   "outputs": [
    {
     "name": "stderr",
     "output_type": "stream",
     "text": [
      "D:\\Anaconda3\\envs\\project-env-2\\lib\\site-packages\\gensim\\similarities\\__init__.py:15: UserWarning: The gensim.similarities.levenshtein submodule is disabled, because the optional Levenshtein package <https://pypi.org/project/python-Levenshtein/> is unavailable. Install Levenhstein (e.g. `pip install python-Levenshtein`) to suppress this warning.\n",
      "  warnings.warn(msg)\n"
     ]
    }
   ],
   "source": [
    "# importing libraries\n",
    "import pandas as pd\n",
    "import regex as re\n",
    "import numpy as np\n",
    "import tqdm\n",
    "from emot.emo_unicode import UNICODE_EMO, EMOTICONS\n",
    "import contractions\n",
    "from textblob import TextBlob\n",
    "from nltk.tokenize import word_tokenize\n",
    "\n",
    "import gensim\n",
    "import gensim.corpora as corpora\n",
    "from gensim.utils import simple_preprocess\n",
    "from gensim.models import CoherenceModel\n",
    "from gensim import models\n",
    "\n",
    "import spacy\n",
    "\n",
    "from pprint import pprint\n",
    "\n",
    "import seaborn as sns\n",
    "\n",
    "import pyLDAvis.gensim_models as gensimvis\n",
    "import pickle \n",
    "import pyLDAvis"
   ]
  },
  {
   "cell_type": "code",
   "execution_count": 2,
   "id": "69581c55-936a-4193-ad2d-c43e12cc9084",
   "metadata": {},
   "outputs": [
    {
     "name": "stderr",
     "output_type": "stream",
     "text": [
      "D:\\Anaconda3\\envs\\project-env-2\\lib\\site-packages\\ipykernel\\ipkernel.py:287: DeprecationWarning: `should_run_async` will not call `transform_cell` automatically in the future. Please pass the result to `transformed_cell` argument and any exception that happen during thetransform in `preprocessing_exc_tuple` in IPython 7.17 and above.\n",
      "  and should_run_async(code)\n"
     ]
    }
   ],
   "source": [
    "def import_csv(path):\n",
    "    reviews = pd.read_csv(path)\n",
    "    reviews['title_review'] = reviews['title'] + ' ' + reviews['review']\n",
    "    reviews = reviews.drop(['userName','title','review','isEdited','app_id','developerResponse','app_name'],axis=1)\n",
    "    return reviews"
   ]
  },
  {
   "cell_type": "code",
   "execution_count": 26,
   "id": "ddf4730e-26e4-4e52-828c-afd99e71a1cc",
   "metadata": {},
   "outputs": [
    {
     "name": "stderr",
     "output_type": "stream",
     "text": [
      "D:\\Anaconda3\\envs\\project-env-2\\lib\\site-packages\\ipykernel\\ipkernel.py:287: DeprecationWarning: `should_run_async` will not call `transform_cell` automatically in the future. Please pass the result to `transformed_cell` argument and any exception that happen during thetransform in `preprocessing_exc_tuple` in IPython 7.17 and above.\n",
      "  and should_run_async(code)\n"
     ]
    }
   ],
   "source": [
    "paymaya_reviews = import_csv('/Mynt Capstone/data/paymaya_0613-1402.csv')"
   ]
  },
  {
   "cell_type": "code",
   "execution_count": 27,
   "id": "e64c25d6-2684-467a-a097-694cf4e3cae1",
   "metadata": {},
   "outputs": [
    {
     "name": "stderr",
     "output_type": "stream",
     "text": [
      "D:\\Anaconda3\\envs\\project-env-2\\lib\\site-packages\\ipykernel\\ipkernel.py:287: DeprecationWarning: `should_run_async` will not call `transform_cell` automatically in the future. Please pass the result to `transformed_cell` argument and any exception that happen during thetransform in `preprocessing_exc_tuple` in IPython 7.17 and above.\n",
      "  and should_run_async(code)\n"
     ]
    },
    {
     "data": {
      "text/html": [
       "<div>\n",
       "<style scoped>\n",
       "    .dataframe tbody tr th:only-of-type {\n",
       "        vertical-align: middle;\n",
       "    }\n",
       "\n",
       "    .dataframe tbody tr th {\n",
       "        vertical-align: top;\n",
       "    }\n",
       "\n",
       "    .dataframe thead th {\n",
       "        text-align: right;\n",
       "    }\n",
       "</style>\n",
       "<table border=\"1\" class=\"dataframe\">\n",
       "  <thead>\n",
       "    <tr style=\"text-align: right;\">\n",
       "      <th></th>\n",
       "      <th>date</th>\n",
       "      <th>rating</th>\n",
       "      <th>title_review</th>\n",
       "    </tr>\n",
       "  </thead>\n",
       "  <tbody>\n",
       "    <tr>\n",
       "      <th>0</th>\n",
       "      <td>2020-03-30 01:10:54</td>\n",
       "      <td>5</td>\n",
       "      <td>VERY BAD SERVICE I have been contacting them a...</td>\n",
       "    </tr>\n",
       "    <tr>\n",
       "      <th>1</th>\n",
       "      <td>2020-08-06 03:55:14</td>\n",
       "      <td>1</td>\n",
       "      <td>Very poor customer service There should be a z...</td>\n",
       "    </tr>\n",
       "    <tr>\n",
       "      <th>2</th>\n",
       "      <td>2020-05-02 01:58:12</td>\n",
       "      <td>1</td>\n",
       "      <td>App is great but service is not I really loved...</td>\n",
       "    </tr>\n",
       "    <tr>\n",
       "      <th>3</th>\n",
       "      <td>2020-04-09 01:32:02</td>\n",
       "      <td>1</td>\n",
       "      <td>Make your app trustworthy really Comeon this i...</td>\n",
       "    </tr>\n",
       "    <tr>\n",
       "      <th>4</th>\n",
       "      <td>2020-12-01 07:59:56</td>\n",
       "      <td>1</td>\n",
       "      <td>The new update... Ok so lets be honest I love ...</td>\n",
       "    </tr>\n",
       "  </tbody>\n",
       "</table>\n",
       "</div>"
      ],
      "text/plain": [
       "                  date  rating  \\\n",
       "0  2020-03-30 01:10:54       5   \n",
       "1  2020-08-06 03:55:14       1   \n",
       "2  2020-05-02 01:58:12       1   \n",
       "3  2020-04-09 01:32:02       1   \n",
       "4  2020-12-01 07:59:56       1   \n",
       "\n",
       "                                        title_review  \n",
       "0  VERY BAD SERVICE I have been contacting them a...  \n",
       "1  Very poor customer service There should be a z...  \n",
       "2  App is great but service is not I really loved...  \n",
       "3  Make your app trustworthy really Comeon this i...  \n",
       "4  The new update... Ok so lets be honest I love ...  "
      ]
     },
     "execution_count": 27,
     "metadata": {},
     "output_type": "execute_result"
    }
   ],
   "source": [
    "paymaya_reviews.head()"
   ]
  },
  {
   "cell_type": "code",
   "execution_count": 5,
   "id": "c496c155-5cdd-4cca-a3a6-d3639b09e624",
   "metadata": {},
   "outputs": [
    {
     "name": "stderr",
     "output_type": "stream",
     "text": [
      "D:\\Anaconda3\\envs\\project-env-2\\lib\\site-packages\\ipykernel\\ipkernel.py:287: DeprecationWarning: `should_run_async` will not call `transform_cell` automatically in the future. Please pass the result to `transformed_cell` argument and any exception that happen during thetransform in `preprocessing_exc_tuple` in IPython 7.17 and above.\n",
      "  and should_run_async(code)\n"
     ]
    },
    {
     "data": {
      "text/plain": [
       "'Have fun with NLP! '"
      ]
     },
     "execution_count": 5,
     "metadata": {},
     "output_type": "execute_result"
    }
   ],
   "source": [
    "# Remove emojis and emoticons\n",
    "\n",
    "# Code block 1: remove emojis\n",
    "def remove_emoji(text):\n",
    "    emoji_pattern = re.compile(\"[\"\n",
    "                           u\"\\U0001F600-\\U0001F64F\"  # emoticons\n",
    "                           u\"\\U0001F300-\\U0001F5FF\"  # symbols & pictographs\n",
    "                           u\"\\U0001F680-\\U0001F6FF\"  # transport & map symbols\n",
    "                           u\"\\U0001F1E0-\\U0001F1FF\"  # flags \n",
    "                           u\"\\U00002702-\\U000027B0\"\n",
    "                           u\"\\U000024C2-\\U0001F251\"\n",
    "                           \"]+\", flags=re.UNICODE)\n",
    "    return emoji_pattern.sub(r'', text)\n",
    "\n",
    "#Example\n",
    "remove_emoji(\"Have fun with NLP! 😃😃\")"
   ]
  },
  {
   "cell_type": "code",
   "execution_count": 6,
   "id": "1fc53bc6-9575-41ea-bd49-bbc70aeac5d1",
   "metadata": {},
   "outputs": [
    {
     "name": "stderr",
     "output_type": "stream",
     "text": [
      "D:\\Anaconda3\\envs\\project-env-2\\lib\\site-packages\\ipykernel\\ipkernel.py:287: DeprecationWarning: `should_run_async` will not call `transform_cell` automatically in the future. Please pass the result to `transformed_cell` argument and any exception that happen during thetransform in `preprocessing_exc_tuple` in IPython 7.17 and above.\n",
      "  and should_run_async(code)\n"
     ]
    }
   ],
   "source": [
    "# Function for removing emoticons\n",
    "def remove_emoticons(text):\n",
    "    emoticon_pattern = re.compile(u'(' + u'|'.join(k for k in EMOTICONS) + u')')\n",
    "    return emoticon_pattern.sub(r'', text)"
   ]
  },
  {
   "cell_type": "code",
   "execution_count": 7,
   "id": "6cbc2994-456e-4f6e-9b90-d4caa9133154",
   "metadata": {},
   "outputs": [
    {
     "name": "stderr",
     "output_type": "stream",
     "text": [
      "D:\\Anaconda3\\envs\\project-env-2\\lib\\site-packages\\ipykernel\\ipkernel.py:287: DeprecationWarning: `should_run_async` will not call `transform_cell` automatically in the future. Please pass the result to `transformed_cell` argument and any exception that happen during thetransform in `preprocessing_exc_tuple` in IPython 7.17 and above.\n",
      "  and should_run_async(code)\n"
     ]
    }
   ],
   "source": [
    "# Function for removing URL's\n",
    "def remove_urls (vTEXT):\n",
    "    vTEXT = re.sub(r'(https|http)?:\\/\\/(\\w|\\.|\\/|\\?|\\=|\\&|\\%)*\\b', '', vTEXT, flags=re.MULTILINE)\n",
    "    return(vTEXT)"
   ]
  },
  {
   "cell_type": "markdown",
   "id": "7a9d7d81-3b90-49ba-a0ab-0b6f2ee7494b",
   "metadata": {},
   "source": [
    "### Preprocessing Function"
   ]
  },
  {
   "cell_type": "code",
   "execution_count": 8,
   "id": "274256d3-ef0b-46ff-ab1e-2a0582565e68",
   "metadata": {},
   "outputs": [
    {
     "name": "stderr",
     "output_type": "stream",
     "text": [
      "D:\\Anaconda3\\envs\\project-env-2\\lib\\site-packages\\ipykernel\\ipkernel.py:287: DeprecationWarning: `should_run_async` will not call `transform_cell` automatically in the future. Please pass the result to `transformed_cell` argument and any exception that happen during thetransform in `preprocessing_exc_tuple` in IPython 7.17 and above.\n",
      "  and should_run_async(code)\n",
      "<>:11: DeprecationWarning: invalid escape sequence \\w\n",
      "<>:11: DeprecationWarning: invalid escape sequence \\w\n",
      "<ipython-input-8-b0c6925ec756>:11: DeprecationWarning: invalid escape sequence \\w\n",
      "  corpus[column] = corpus[column].str.replace('[^\\w\\s]','') # Remove punctuation\n"
     ]
    }
   ],
   "source": [
    "def preprocess(corpus, column):\n",
    "    corpus[column].dropna(inplace=True) # Drop blank rows\n",
    "    corpus[column] = [entry.lower() for entry in corpus[column]] # Lowercase text\n",
    "    corpus[column] = corpus[column].apply(lambda x: remove_emoji(x)) #Remove emoji's\n",
    "    corpus[column] = corpus[column].apply(lambda x: remove_emoticons(x)) #Remove emoticons\n",
    "    corpus[column] = corpus[column].apply(lambda x: remove_urls(x)) #Remove URL's\n",
    "    corpus[column] = corpus[column].apply(lambda x: contractions.fix(x)) # Expand contractions\n",
    "    corpus[column] = corpus[column].apply(lambda x: str(TextBlob(x))) # Correct spelling\n",
    "    corpus[column] = corpus[column].str.replace(\"[^a-zA-Z#]\", \" \") # Remove unwanted characters, numbers and symbols\n",
    "    corpus[column] = corpus[column].str.replace(r'\\r+|\\n+|\\t+','', regex=True) #Remove \\n \\t \\r\n",
    "    corpus[column] = corpus[column].str.replace('[^\\w\\s]','') # Remove punctuation"
   ]
  },
  {
   "cell_type": "code",
   "execution_count": 28,
   "id": "2d0a7bb5-68fb-470d-9cfa-bc8f86851360",
   "metadata": {},
   "outputs": [
    {
     "name": "stderr",
     "output_type": "stream",
     "text": [
      "D:\\Anaconda3\\envs\\project-env-2\\lib\\site-packages\\ipykernel\\ipkernel.py:287: DeprecationWarning: `should_run_async` will not call `transform_cell` automatically in the future. Please pass the result to `transformed_cell` argument and any exception that happen during thetransform in `preprocessing_exc_tuple` in IPython 7.17 and above.\n",
      "  and should_run_async(code)\n",
      "<ipython-input-8-b0c6925ec756>:9: FutureWarning: The default value of regex will change from True to False in a future version.\n",
      "  corpus[column] = corpus[column].str.replace(\"[^a-zA-Z#]\", \" \") # Remove unwanted characters, numbers and symbols\n",
      "<ipython-input-8-b0c6925ec756>:11: FutureWarning: The default value of regex will change from True to False in a future version.\n",
      "  corpus[column] = corpus[column].str.replace('[^\\w\\s]','') # Remove punctuation\n"
     ]
    }
   ],
   "source": [
    "preprocess(paymaya_reviews, 'title_review')"
   ]
  },
  {
   "cell_type": "code",
   "execution_count": 29,
   "id": "96296643-9bd9-4d88-b67a-f33f11676a8d",
   "metadata": {},
   "outputs": [
    {
     "name": "stderr",
     "output_type": "stream",
     "text": [
      "D:\\Anaconda3\\envs\\project-env-2\\lib\\site-packages\\ipykernel\\ipkernel.py:287: DeprecationWarning: `should_run_async` will not call `transform_cell` automatically in the future. Please pass the result to `transformed_cell` argument and any exception that happen during thetransform in `preprocessing_exc_tuple` in IPython 7.17 and above.\n",
      "  and should_run_async(code)\n"
     ]
    },
    {
     "data": {
      "text/html": [
       "<div>\n",
       "<style scoped>\n",
       "    .dataframe tbody tr th:only-of-type {\n",
       "        vertical-align: middle;\n",
       "    }\n",
       "\n",
       "    .dataframe tbody tr th {\n",
       "        vertical-align: top;\n",
       "    }\n",
       "\n",
       "    .dataframe thead th {\n",
       "        text-align: right;\n",
       "    }\n",
       "</style>\n",
       "<table border=\"1\" class=\"dataframe\">\n",
       "  <thead>\n",
       "    <tr style=\"text-align: right;\">\n",
       "      <th></th>\n",
       "      <th>date</th>\n",
       "      <th>rating</th>\n",
       "      <th>title_review</th>\n",
       "    </tr>\n",
       "  </thead>\n",
       "  <tbody>\n",
       "    <tr>\n",
       "      <th>0</th>\n",
       "      <td>2020-03-30 01:10:54</td>\n",
       "      <td>5</td>\n",
       "      <td>very bad service i have been contacting them a...</td>\n",
       "    </tr>\n",
       "    <tr>\n",
       "      <th>1</th>\n",
       "      <td>2020-08-06 03:55:14</td>\n",
       "      <td>1</td>\n",
       "      <td>very poor customer service there should be a z...</td>\n",
       "    </tr>\n",
       "    <tr>\n",
       "      <th>2</th>\n",
       "      <td>2020-05-02 01:58:12</td>\n",
       "      <td>1</td>\n",
       "      <td>app is great but service is not i really loved...</td>\n",
       "    </tr>\n",
       "    <tr>\n",
       "      <th>3</th>\n",
       "      <td>2020-04-09 01:32:02</td>\n",
       "      <td>1</td>\n",
       "      <td>make your app trustworthy really comeon this i...</td>\n",
       "    </tr>\n",
       "    <tr>\n",
       "      <th>4</th>\n",
       "      <td>2020-12-01 07:59:56</td>\n",
       "      <td>1</td>\n",
       "      <td>the new update    ok so let us be honest i lov...</td>\n",
       "    </tr>\n",
       "    <tr>\n",
       "      <th>5</th>\n",
       "      <td>2020-08-03 05:16:08</td>\n",
       "      <td>1</td>\n",
       "      <td>cannot pay bills and cannot upgrade account i ...</td>\n",
       "    </tr>\n",
       "    <tr>\n",
       "      <th>6</th>\n",
       "      <td>2019-10-31 01:28:38</td>\n",
       "      <td>4</td>\n",
       "      <td>bills payment this payment processor digital w...</td>\n",
       "    </tr>\n",
       "    <tr>\n",
       "      <th>7</th>\n",
       "      <td>2018-01-06 11:12:59</td>\n",
       "      <td>2</td>\n",
       "      <td>great at first but    paymaya is one of the be...</td>\n",
       "    </tr>\n",
       "    <tr>\n",
       "      <th>8</th>\n",
       "      <td>2020-05-23 05:39:05</td>\n",
       "      <td>5</td>\n",
       "      <td>frustrating password recovery help forgot my p...</td>\n",
       "    </tr>\n",
       "    <tr>\n",
       "      <th>9</th>\n",
       "      <td>2020-05-11 12:37:46</td>\n",
       "      <td>1</td>\n",
       "      <td>not useful i was given this app when i paid my...</td>\n",
       "    </tr>\n",
       "  </tbody>\n",
       "</table>\n",
       "</div>"
      ],
      "text/plain": [
       "                  date  rating  \\\n",
       "0  2020-03-30 01:10:54       5   \n",
       "1  2020-08-06 03:55:14       1   \n",
       "2  2020-05-02 01:58:12       1   \n",
       "3  2020-04-09 01:32:02       1   \n",
       "4  2020-12-01 07:59:56       1   \n",
       "5  2020-08-03 05:16:08       1   \n",
       "6  2019-10-31 01:28:38       4   \n",
       "7  2018-01-06 11:12:59       2   \n",
       "8  2020-05-23 05:39:05       5   \n",
       "9  2020-05-11 12:37:46       1   \n",
       "\n",
       "                                        title_review  \n",
       "0  very bad service i have been contacting them a...  \n",
       "1  very poor customer service there should be a z...  \n",
       "2  app is great but service is not i really loved...  \n",
       "3  make your app trustworthy really comeon this i...  \n",
       "4  the new update    ok so let us be honest i lov...  \n",
       "5  cannot pay bills and cannot upgrade account i ...  \n",
       "6  bills payment this payment processor digital w...  \n",
       "7  great at first but    paymaya is one of the be...  \n",
       "8  frustrating password recovery help forgot my p...  \n",
       "9  not useful i was given this app when i paid my...  "
      ]
     },
     "execution_count": 29,
     "metadata": {},
     "output_type": "execute_result"
    }
   ],
   "source": [
    "paymaya_reviews.head(10)"
   ]
  },
  {
   "cell_type": "markdown",
   "id": "28d0f4c7-7383-41e8-821e-f356ded4d3a4",
   "metadata": {},
   "source": [
    "### Splitting 5-Star and 1-Star Reviews"
   ]
  },
  {
   "cell_type": "code",
   "execution_count": 30,
   "id": "a63c7fcc-583d-4965-832c-832040dbccde",
   "metadata": {},
   "outputs": [
    {
     "name": "stderr",
     "output_type": "stream",
     "text": [
      "D:\\Anaconda3\\envs\\project-env-2\\lib\\site-packages\\ipykernel\\ipkernel.py:287: DeprecationWarning: `should_run_async` will not call `transform_cell` automatically in the future. Please pass the result to `transformed_cell` argument and any exception that happen during thetransform in `preprocessing_exc_tuple` in IPython 7.17 and above.\n",
      "  and should_run_async(code)\n"
     ]
    },
    {
     "data": {
      "text/html": [
       "<div>\n",
       "<style scoped>\n",
       "    .dataframe tbody tr th:only-of-type {\n",
       "        vertical-align: middle;\n",
       "    }\n",
       "\n",
       "    .dataframe tbody tr th {\n",
       "        vertical-align: top;\n",
       "    }\n",
       "\n",
       "    .dataframe thead th {\n",
       "        text-align: right;\n",
       "    }\n",
       "</style>\n",
       "<table border=\"1\" class=\"dataframe\">\n",
       "  <thead>\n",
       "    <tr style=\"text-align: right;\">\n",
       "      <th></th>\n",
       "      <th>date</th>\n",
       "      <th>rating</th>\n",
       "      <th>title_review</th>\n",
       "    </tr>\n",
       "  </thead>\n",
       "  <tbody>\n",
       "    <tr>\n",
       "      <th>0</th>\n",
       "      <td>2020-03-30 01:10:54</td>\n",
       "      <td>5</td>\n",
       "      <td>very bad service i have been contacting them a...</td>\n",
       "    </tr>\n",
       "    <tr>\n",
       "      <th>8</th>\n",
       "      <td>2020-05-23 05:39:05</td>\n",
       "      <td>5</td>\n",
       "      <td>frustrating password recovery help forgot my p...</td>\n",
       "    </tr>\n",
       "    <tr>\n",
       "      <th>10</th>\n",
       "      <td>2017-10-15 08:10:23</td>\n",
       "      <td>5</td>\n",
       "      <td>best apps for online shopping  this paymaya ap...</td>\n",
       "    </tr>\n",
       "    <tr>\n",
       "      <th>12</th>\n",
       "      <td>2019-12-06 10:45:22</td>\n",
       "      <td>5</td>\n",
       "      <td>convenient  sleek  and secure  love the new ap...</td>\n",
       "    </tr>\n",
       "    <tr>\n",
       "      <th>17</th>\n",
       "      <td>2019-04-10 05:46:32</td>\n",
       "      <td>5</td>\n",
       "      <td>upgrading account original complaint   i want ...</td>\n",
       "    </tr>\n",
       "  </tbody>\n",
       "</table>\n",
       "</div>"
      ],
      "text/plain": [
       "                   date  rating  \\\n",
       "0   2020-03-30 01:10:54       5   \n",
       "8   2020-05-23 05:39:05       5   \n",
       "10  2017-10-15 08:10:23       5   \n",
       "12  2019-12-06 10:45:22       5   \n",
       "17  2019-04-10 05:46:32       5   \n",
       "\n",
       "                                         title_review  \n",
       "0   very bad service i have been contacting them a...  \n",
       "8   frustrating password recovery help forgot my p...  \n",
       "10  best apps for online shopping  this paymaya ap...  \n",
       "12  convenient  sleek  and secure  love the new ap...  \n",
       "17  upgrading account original complaint   i want ...  "
      ]
     },
     "execution_count": 30,
     "metadata": {},
     "output_type": "execute_result"
    }
   ],
   "source": [
    "paymaya_rating5 = paymaya_reviews[paymaya_reviews['rating'] == 5]\n",
    "paymaya_rating5.head()"
   ]
  },
  {
   "cell_type": "code",
   "execution_count": 31,
   "id": "ccb91869-79b4-4bf6-a488-92512f021960",
   "metadata": {},
   "outputs": [
    {
     "name": "stderr",
     "output_type": "stream",
     "text": [
      "D:\\Anaconda3\\envs\\project-env-2\\lib\\site-packages\\ipykernel\\ipkernel.py:287: DeprecationWarning: `should_run_async` will not call `transform_cell` automatically in the future. Please pass the result to `transformed_cell` argument and any exception that happen during thetransform in `preprocessing_exc_tuple` in IPython 7.17 and above.\n",
      "  and should_run_async(code)\n"
     ]
    },
    {
     "data": {
      "text/html": [
       "<div>\n",
       "<style scoped>\n",
       "    .dataframe tbody tr th:only-of-type {\n",
       "        vertical-align: middle;\n",
       "    }\n",
       "\n",
       "    .dataframe tbody tr th {\n",
       "        vertical-align: top;\n",
       "    }\n",
       "\n",
       "    .dataframe thead th {\n",
       "        text-align: right;\n",
       "    }\n",
       "</style>\n",
       "<table border=\"1\" class=\"dataframe\">\n",
       "  <thead>\n",
       "    <tr style=\"text-align: right;\">\n",
       "      <th></th>\n",
       "      <th>date</th>\n",
       "      <th>rating</th>\n",
       "      <th>title_review</th>\n",
       "    </tr>\n",
       "  </thead>\n",
       "  <tbody>\n",
       "    <tr>\n",
       "      <th>1</th>\n",
       "      <td>2020-08-06 03:55:14</td>\n",
       "      <td>1</td>\n",
       "      <td>very poor customer service there should be a z...</td>\n",
       "    </tr>\n",
       "    <tr>\n",
       "      <th>2</th>\n",
       "      <td>2020-05-02 01:58:12</td>\n",
       "      <td>1</td>\n",
       "      <td>app is great but service is not i really loved...</td>\n",
       "    </tr>\n",
       "    <tr>\n",
       "      <th>3</th>\n",
       "      <td>2020-04-09 01:32:02</td>\n",
       "      <td>1</td>\n",
       "      <td>make your app trustworthy really comeon this i...</td>\n",
       "    </tr>\n",
       "    <tr>\n",
       "      <th>4</th>\n",
       "      <td>2020-12-01 07:59:56</td>\n",
       "      <td>1</td>\n",
       "      <td>the new update    ok so let us be honest i lov...</td>\n",
       "    </tr>\n",
       "    <tr>\n",
       "      <th>5</th>\n",
       "      <td>2020-08-03 05:16:08</td>\n",
       "      <td>1</td>\n",
       "      <td>cannot pay bills and cannot upgrade account i ...</td>\n",
       "    </tr>\n",
       "  </tbody>\n",
       "</table>\n",
       "</div>"
      ],
      "text/plain": [
       "                  date  rating  \\\n",
       "1  2020-08-06 03:55:14       1   \n",
       "2  2020-05-02 01:58:12       1   \n",
       "3  2020-04-09 01:32:02       1   \n",
       "4  2020-12-01 07:59:56       1   \n",
       "5  2020-08-03 05:16:08       1   \n",
       "\n",
       "                                        title_review  \n",
       "1  very poor customer service there should be a z...  \n",
       "2  app is great but service is not i really loved...  \n",
       "3  make your app trustworthy really comeon this i...  \n",
       "4  the new update    ok so let us be honest i lov...  \n",
       "5  cannot pay bills and cannot upgrade account i ...  "
      ]
     },
     "execution_count": 31,
     "metadata": {},
     "output_type": "execute_result"
    }
   ],
   "source": [
    "paymaya_rating1 = paymaya_reviews[paymaya_reviews['rating'] == 1]\n",
    "paymaya_rating1.head()"
   ]
  },
  {
   "cell_type": "markdown",
   "id": "aa3392b6-b615-4852-93e0-db9ce4c82308",
   "metadata": {},
   "source": [
    "### Loading Stopword List"
   ]
  },
  {
   "cell_type": "code",
   "execution_count": 14,
   "id": "53088e50-2996-492e-9340-563cf417c987",
   "metadata": {},
   "outputs": [
    {
     "name": "stderr",
     "output_type": "stream",
     "text": [
      "D:\\Anaconda3\\envs\\project-env-2\\lib\\site-packages\\ipykernel\\ipkernel.py:287: DeprecationWarning: `should_run_async` will not call `transform_cell` automatically in the future. Please pass the result to `transformed_cell` argument and any exception that happen during thetransform in `preprocessing_exc_tuple` in IPython 7.17 and above.\n",
      "  and should_run_async(code)\n"
     ]
    }
   ],
   "source": [
    "from spacy.lang.tl.stop_words import STOP_WORDS as tl_stop\n",
    "from spacy.lang.en.stop_words import STOP_WORDS as en_stop"
   ]
  },
  {
   "cell_type": "code",
   "execution_count": 32,
   "id": "0e76f91e-0c9f-404e-a870-34f3b4f843b6",
   "metadata": {},
   "outputs": [
    {
     "name": "stderr",
     "output_type": "stream",
     "text": [
      "D:\\Anaconda3\\envs\\project-env-2\\lib\\site-packages\\ipykernel\\ipkernel.py:287: DeprecationWarning: `should_run_async` will not call `transform_cell` automatically in the future. Please pass the result to `transformed_cell` argument and any exception that happen during thetransform in `preprocessing_exc_tuple` in IPython 7.17 and above.\n",
      "  and should_run_async(code)\n"
     ]
    }
   ],
   "source": [
    "final_stopwords_list = list(tl_stop) + list(en_stop) + \\\n",
    "['paymaya', 'app','po', 'please', 'i', 'thank', 'nyo', 'lang', 'pag', 'mag', 'nag', 'rin', 'nyu', 'kau', 'naman', 'mo']"
   ]
  },
  {
   "cell_type": "code",
   "execution_count": 33,
   "id": "e6f07f80-16b3-4537-8153-df4ac26d67dd",
   "metadata": {},
   "outputs": [
    {
     "name": "stderr",
     "output_type": "stream",
     "text": [
      "D:\\Anaconda3\\envs\\project-env-2\\lib\\site-packages\\ipykernel\\ipkernel.py:287: DeprecationWarning: `should_run_async` will not call `transform_cell` automatically in the future. Please pass the result to `transformed_cell` argument and any exception that happen during thetransform in `preprocessing_exc_tuple` in IPython 7.17 and above.\n",
      "  and should_run_async(code)\n"
     ]
    }
   ],
   "source": [
    "# Initialize spacy 'en' model, keeping only tagger component (for efficiency)\n",
    "nlp = spacy.load(\"en_core_web_sm\", disable=['parser', 'ner'])\n",
    "nlp.Defaults.stop_words.update(final_stopwords_list)"
   ]
  },
  {
   "cell_type": "markdown",
   "id": "94cc3d84-1352-4945-813d-678f74024d99",
   "metadata": {},
   "source": [
    "---\n",
    "### LDA Topic Modelling <br>\n",
    "### A. PayMaya 1-Star Reviews"
   ]
  },
  {
   "cell_type": "code",
   "execution_count": 34,
   "id": "9de11ac4-05c8-4a31-b3a9-b994a64f0db9",
   "metadata": {},
   "outputs": [
    {
     "name": "stdout",
     "output_type": "stream",
     "text": [
      "['very', 'poor', 'customer', 'service', 'there', 'should', 'be', 'zero', 'rating', 'for', 'this', 'app', 'called', 'today', 'to', 'quickly', 'ask', 'only', 'about', 'the', 'recent', 'updates', 'made', 'in', 'the', 'app', 'and', 'the', 'customer', 'service']\n"
     ]
    },
    {
     "name": "stderr",
     "output_type": "stream",
     "text": [
      "D:\\Anaconda3\\envs\\project-env-2\\lib\\site-packages\\ipykernel\\ipkernel.py:287: DeprecationWarning: `should_run_async` will not call `transform_cell` automatically in the future. Please pass the result to `transformed_cell` argument and any exception that happen during thetransform in `preprocessing_exc_tuple` in IPython 7.17 and above.\n",
      "  and should_run_async(code)\n"
     ]
    }
   ],
   "source": [
    "def sent_to_words(sentences):\n",
    "    for sentence in sentences:\n",
    "        yield(gensim.utils.simple_preprocess(str(sentence)))\n",
    "\n",
    "data = paymaya_rating1.title_review.values.tolist()\n",
    "data_words = list(sent_to_words(data))\n",
    "print(data_words[:1][0][:30])"
   ]
  },
  {
   "cell_type": "markdown",
   "id": "5caf7751-aca7-4dac-a906-aa9e94a87275",
   "metadata": {},
   "source": [
    "### Phrase Modeling: Bigram Model"
   ]
  },
  {
   "cell_type": "code",
   "execution_count": 35,
   "id": "44b5ac3d-fd91-424b-a595-f4f1ef33dd8f",
   "metadata": {},
   "outputs": [
    {
     "name": "stderr",
     "output_type": "stream",
     "text": [
      "D:\\Anaconda3\\envs\\project-env-2\\lib\\site-packages\\ipykernel\\ipkernel.py:287: DeprecationWarning: `should_run_async` will not call `transform_cell` automatically in the future. Please pass the result to `transformed_cell` argument and any exception that happen during thetransform in `preprocessing_exc_tuple` in IPython 7.17 and above.\n",
      "  and should_run_async(code)\n"
     ]
    }
   ],
   "source": [
    "# Build the bigram model\n",
    "bigram = gensim.models.Phrases(data_words, min_count=5, threshold=100) # higher threshold fewer phrases.\n",
    "\n",
    "# Faster way to get a sentence clubbed as a bigram\n",
    "bigram_mod = gensim.models.phrases.Phraser(bigram)"
   ]
  },
  {
   "cell_type": "code",
   "execution_count": 36,
   "id": "dfd02fe6-daae-4510-9893-3defb71bcb33",
   "metadata": {},
   "outputs": [
    {
     "name": "stderr",
     "output_type": "stream",
     "text": [
      "D:\\Anaconda3\\envs\\project-env-2\\lib\\site-packages\\ipykernel\\ipkernel.py:287: DeprecationWarning: `should_run_async` will not call `transform_cell` automatically in the future. Please pass the result to `transformed_cell` argument and any exception that happen during thetransform in `preprocessing_exc_tuple` in IPython 7.17 and above.\n",
      "  and should_run_async(code)\n"
     ]
    }
   ],
   "source": [
    "# Define functions for stopwords, bigrams, and lemmatization\n",
    "def remove_stopwords(texts):\n",
    "    return [[word for word in simple_preprocess(str(doc)) if word not in final_stopwords_list] for doc in texts]\n",
    "\n",
    "\n",
    "def make_bigrams(texts):\n",
    "    return [bigram_mod[doc] for doc in texts]\n",
    "\n",
    "def lemmatization(texts, allowed_postags=['NOUN', 'ADJ', 'VERB', 'ADV']):\n",
    "    \"\"\"https://spacy.io/api/annotation\"\"\"\n",
    "    texts_out = []\n",
    "    for sent in texts:\n",
    "        doc = nlp(\" \".join(sent)) \n",
    "        texts_out.append([token.lemma_ for token in doc if token.pos_ in allowed_postags])\n",
    "    return texts_out"
   ]
  },
  {
   "cell_type": "code",
   "execution_count": 37,
   "id": "721faa6b-8b5c-49ab-b5bb-a7fb976f189d",
   "metadata": {},
   "outputs": [
    {
     "name": "stderr",
     "output_type": "stream",
     "text": [
      "D:\\Anaconda3\\envs\\project-env-2\\lib\\site-packages\\ipykernel\\ipkernel.py:287: DeprecationWarning: `should_run_async` will not call `transform_cell` automatically in the future. Please pass the result to `transformed_cell` argument and any exception that happen during thetransform in `preprocessing_exc_tuple` in IPython 7.17 and above.\n",
      "  and should_run_async(code)\n"
     ]
    },
    {
     "name": "stdout",
     "output_type": "stream",
     "text": [
      "[['poor', 'customer', 'service', 'rating', 'call', 'today', 'quickly', 'ask', 'recent', 'update', 'customer', 'service', 'cs', 'say', 'proceed', 'query', 'place', 'birth', 'provide', 'match', 'record', 'weird', 'place', 'birth', 'sure', 'change', 'submit', 'information', 'account', 'upgrade', 'tell', 'cs', 'information', 'previous', 'call', 'get', 'verify', 'point', 'maybe', 'look', 'correct', 'information', 'place', 'birth', 'glitch', 'database', 'system', 'insist', 'wrong', 'anymore', 'personal', 'information', 'mobile', 'number', 'ask', 'remember', 'correct', 'place', 'birth', 'come', 'able', 'verify', 'account', 'previous', 'call', 'information', 'today', 'tell', 'provide', 'place', 'birth', 'incorrect', 'making', 'sense', 'hope', 'look', 'soon', 'possible', 'poor', 'customer', 'service']]\n"
     ]
    }
   ],
   "source": [
    "# Remove Stop Words\n",
    "data_words_nostops1 = remove_stopwords(data_words)\n",
    "\n",
    "# Form Bigrams\n",
    "data_words_bigrams1 = make_bigrams(data_words_nostops1)\n",
    "\n",
    "# Do lemmatization keeping only noun, adj, vb, adv\n",
    "data_lemmatized1 = lemmatization(data_words_bigrams1, allowed_postags=['NOUN', 'ADJ', 'VERB', 'ADV'])\n",
    "print(data_lemmatized1[:1])"
   ]
  },
  {
   "cell_type": "code",
   "execution_count": 38,
   "id": "5462d95b-fe5c-4ffe-a217-34d44e79d737",
   "metadata": {},
   "outputs": [
    {
     "name": "stdout",
     "output_type": "stream",
     "text": [
      "[[(0, 1), (1, 2), (2, 1), (3, 2), (4, 5), (5, 3), (6, 1), (7, 1), (8, 2), (9, 2), (10, 3), (11, 1), (12, 1), (13, 1), (14, 1), (15, 1), (16, 5), (17, 1), (18, 2), (19, 1), (20, 1), (21, 1), (22, 1), (23, 1), (24, 1), (25, 5), (26, 1), (27, 2), (28, 1), (29, 2), (30, 1), (31, 2), (32, 1), (33, 1), (34, 1), (35, 1), (36, 1), (37, 1), (38, 1), (39, 1), (40, 3), (41, 1), (42, 1), (43, 1), (44, 1), (45, 2), (46, 2), (47, 1), (48, 1), (49, 2), (50, 1), (51, 1)]]\n"
     ]
    },
    {
     "name": "stderr",
     "output_type": "stream",
     "text": [
      "D:\\Anaconda3\\envs\\project-env-2\\lib\\site-packages\\ipykernel\\ipkernel.py:287: DeprecationWarning: `should_run_async` will not call `transform_cell` automatically in the future. Please pass the result to `transformed_cell` argument and any exception that happen during thetransform in `preprocessing_exc_tuple` in IPython 7.17 and above.\n",
      "  and should_run_async(code)\n"
     ]
    }
   ],
   "source": [
    "# Create Dictionary\n",
    "id2word1 = corpora.Dictionary(data_lemmatized1)\n",
    "\n",
    "# Create Corpus\n",
    "texts1 = data_lemmatized1\n",
    "\n",
    "# Term Document Frequency\n",
    "corpus1 = [id2word1.doc2bow(text) for text in texts1]\n",
    "\n",
    "# View\n",
    "print(corpus1[:1])"
   ]
  },
  {
   "cell_type": "markdown",
   "id": "931d2d86-45f8-4141-a3bc-4629baf7f15b",
   "metadata": {},
   "source": [
    "### Base Model Creation"
   ]
  },
  {
   "cell_type": "code",
   "execution_count": 54,
   "id": "30cb8eb4-945c-4d61-940d-ab3c267df52d",
   "metadata": {},
   "outputs": [
    {
     "name": "stderr",
     "output_type": "stream",
     "text": [
      "D:\\Anaconda3\\envs\\project-env-2\\lib\\site-packages\\ipykernel\\ipkernel.py:287: DeprecationWarning: `should_run_async` will not call `transform_cell` automatically in the future. Please pass the result to `transformed_cell` argument and any exception that happen during thetransform in `preprocessing_exc_tuple` in IPython 7.17 and above.\n",
      "  and should_run_async(code)\n"
     ]
    }
   ],
   "source": [
    "# Build LDA model\n",
    "lda_model_rating1 = gensim.models.LdaMulticore(corpus=corpus1,\n",
    "                                       id2word=id2word1,\n",
    "                                       num_topics=10, \n",
    "                                       random_state=1,\n",
    "                                       chunksize=100,\n",
    "                                       passes=10,\n",
    "                                       per_word_topics=True)"
   ]
  },
  {
   "cell_type": "code",
   "execution_count": 55,
   "id": "4453f2de-5124-4cb3-861a-3cf941a60f1e",
   "metadata": {
    "scrolled": true,
    "tags": []
   },
   "outputs": [
    {
     "name": "stdout",
     "output_type": "stream",
     "text": [
      "[(0,\n",
      "  '0.039*\"register\" + 0.025*\"slow\" + 0.024*\"say\" + 0.023*\"money\" + 0.022*\"try\" '\n",
      "  '+ 0.020*\"internet\" + 0.019*\"error\" + 0.018*\"internet_connection\" + '\n",
      "  '0.017*\"connection\" + 0.017*\"use\"'),\n",
      " (1,\n",
      "  '0.065*\"account\" + 0.019*\"email\" + 0.017*\"need\" + 0.015*\"number\" + '\n",
      "  '0.014*\"upgrade\" + 0.013*\"receive\" + 0.013*\"say\" + 0.012*\"send\" + '\n",
      "  '0.010*\"fix\" + 0.010*\"try\"'),\n",
      " (2,\n",
      "  '0.024*\"account\" + 0.019*\"upgrade\" + 0.016*\"yung\" + 0.013*\"use\" + '\n",
      "  '0.012*\"wala\" + 0.010*\"load\" + 0.008*\"pera\" + 0.007*\"scam\" + 0.007*\"money\" + '\n",
      "  '0.006*\"update\"'),\n",
      " (3,\n",
      "  '0.063*\"service\" + 0.057*\"customer\" + 0.028*\"support\" + 0.026*\"bad\" + '\n",
      "  '0.026*\"account\" + 0.023*\"poor\" + 0.019*\"email\" + 0.017*\"reply\" + '\n",
      "  '0.012*\"response\" + 0.011*\"day\"'),\n",
      " (4,\n",
      "  '0.081*\"update\" + 0.080*\"crash\" + 0.058*\"open\" + 0.043*\"fix\" + 0.025*\"work\" '\n",
      "  '+ 0.024*\"keep\" + 0.022*\"iphone\" + 0.018*\"io\" + 0.017*\"password\" + '\n",
      "  '0.015*\"anymore\"'),\n",
      " (5,\n",
      "  '0.027*\"try\" + 0.019*\"upgrade\" + 0.019*\"account\" + 0.016*\"use\" + '\n",
      "  '0.014*\"send\" + 0.014*\"service\" + 0.013*\"problem\" + 0.012*\"customer\" + '\n",
      "  '0.011*\"load\" + 0.011*\"number\"'),\n",
      " (6,\n",
      "  '0.057*\"money\" + 0.033*\"load\" + 0.028*\"add\" + 0.020*\"account\" + 0.018*\"try\" '\n",
      "  '+ 0.010*\"use\" + 0.009*\"buy\" + 0.009*\"get\" + 0.009*\"fix\" + 0.008*\"code\"'),\n",
      " (7,\n",
      "  '0.058*\"card\" + 0.029*\"account\" + 0.028*\"upgrade\" + 0.026*\"money\" + '\n",
      "  '0.016*\"add\" + 0.015*\"pay\" + 0.013*\"bill\" + 0.013*\"virtual\" + '\n",
      "  '0.012*\"payment\" + 0.011*\"try\"'),\n",
      " (8,\n",
      "  '0.041*\"card\" + 0.033*\"error\" + 0.022*\"say\" + 0.021*\"virtual\" + '\n",
      "  '0.019*\"account\" + 0.016*\"number\" + 0.013*\"register\" + 0.013*\"purchase\" + '\n",
      "  '0.013*\"credit\" + 0.013*\"fix\"'),\n",
      " (9,\n",
      "  '0.028*\"money\" + 0.027*\"transfer\" + 0.022*\"account\" + 0.022*\"bank\" + '\n",
      "  '0.018*\"pay\" + 0.015*\"bill\" + 0.014*\"log\" + 0.011*\"day\" + 0.010*\"say\" + '\n",
      "  '0.010*\"time\"')]\n"
     ]
    },
    {
     "name": "stderr",
     "output_type": "stream",
     "text": [
      "D:\\Anaconda3\\envs\\project-env-2\\lib\\site-packages\\ipykernel\\ipkernel.py:287: DeprecationWarning: `should_run_async` will not call `transform_cell` automatically in the future. Please pass the result to `transformed_cell` argument and any exception that happen during thetransform in `preprocessing_exc_tuple` in IPython 7.17 and above.\n",
      "  and should_run_async(code)\n"
     ]
    }
   ],
   "source": [
    "# Print the keywords in the 10 topics\n",
    "pprint(lda_model_rating1.print_topics())\n",
    "doc_lda= lda_model_rating1[corpus_tfidf1]"
   ]
  },
  {
   "cell_type": "code",
   "execution_count": 56,
   "id": "cc9626ae-9617-40c9-881b-ae5f4d4333d7",
   "metadata": {},
   "outputs": [
    {
     "name": "stderr",
     "output_type": "stream",
     "text": [
      "D:\\Anaconda3\\envs\\project-env-2\\lib\\site-packages\\ipykernel\\ipkernel.py:287: DeprecationWarning: `should_run_async` will not call `transform_cell` automatically in the future. Please pass the result to `transformed_cell` argument and any exception that happen during thetransform in `preprocessing_exc_tuple` in IPython 7.17 and above.\n",
      "  and should_run_async(code)\n"
     ]
    },
    {
     "name": "stdout",
     "output_type": "stream",
     "text": [
      "\n",
      "Coherence Score:  0.4508473190043252\n"
     ]
    }
   ],
   "source": [
    "# Compute Coherence Score\n",
    "coherence_model_lda1 = CoherenceModel(model=lda_model_rating1, texts=data_lemmatized1, dictionary=id2word1, coherence='c_v')\n",
    "coherence_lda1 = coherence_model_lda1.get_coherence()\n",
    "\n",
    "print('\\nCoherence Score: ', coherence_lda1)"
   ]
  },
  {
   "cell_type": "markdown",
   "id": "ba5bfb7b-b89b-410a-a682-7781912bb322",
   "metadata": {},
   "source": [
    "### Hyperparameter Tuning <br>\n",
    "This part aims the optimum number of topics and values for eta and alpha."
   ]
  },
  {
   "cell_type": "code",
   "execution_count": 43,
   "id": "cac3cdb1-6bad-4cb7-942b-18b0881fd96b",
   "metadata": {},
   "outputs": [
    {
     "name": "stderr",
     "output_type": "stream",
     "text": [
      "D:\\Anaconda3\\envs\\project-env-2\\lib\\site-packages\\ipykernel\\ipkernel.py:287: DeprecationWarning: `should_run_async` will not call `transform_cell` automatically in the future. Please pass the result to `transformed_cell` argument and any exception that happen during thetransform in `preprocessing_exc_tuple` in IPython 7.17 and above.\n",
      "  and should_run_async(code)\n"
     ]
    }
   ],
   "source": [
    "# supporting function\n",
    "def compute_coherence_values(data_lemmatized, corpus, dictionary, k, a, eta):\n",
    "    \n",
    "    lda_model = gensim.models.LdaMulticore(corpus=corpus,\n",
    "                                           id2word=dictionary,\n",
    "                                           num_topics=k,\n",
    "                                           alpha=a,\n",
    "                                           eta=eta,\n",
    "                                           random_state=100,\n",
    "                                           chunksize=100,\n",
    "                                           passes=10)\n",
    "    \n",
    "    coherence_model_lda = CoherenceModel(model=lda_model, texts=data_lemmatized, dictionary=dictionary, coherence='c_v')\n",
    "    \n",
    "    return coherence_model_lda.get_coherence()"
   ]
  },
  {
   "cell_type": "code",
   "execution_count": 57,
   "id": "5043c05a-70f0-4454-859d-036dd915065a",
   "metadata": {},
   "outputs": [
    {
     "name": "stderr",
     "output_type": "stream",
     "text": [
      "D:\\Anaconda3\\envs\\project-env-2\\lib\\site-packages\\ipykernel\\ipkernel.py:287: DeprecationWarning: `should_run_async` will not call `transform_cell` automatically in the future. Please pass the result to `transformed_cell` argument and any exception that happen during thetransform in `preprocessing_exc_tuple` in IPython 7.17 and above.\n",
      "  and should_run_async(code)\n"
     ]
    }
   ],
   "source": [
    "grid = {}\n",
    "grid['Validation_Set'] = {}\n",
    "\n",
    "# Topics range\n",
    "min_topics = 2\n",
    "max_topics = 11\n",
    "step_size = 1\n",
    "topics_range = range(min_topics, max_topics, step_size)\n",
    "\n",
    "# Alpha parameter\n",
    "alpha = list(np.arange(0.01, 1, 0.3))\n",
    "alpha.append('symmetric')\n",
    "alpha.append('asymmetric')\n",
    "\n",
    "# Eta parameter\n",
    "eta = list(np.arange(0.01, 1, 0.3))\n",
    "eta.append('symmetric')"
   ]
  },
  {
   "cell_type": "code",
   "execution_count": 58,
   "id": "8a4aa70c-3869-4f27-b0f5-a1173ac4f4f1",
   "metadata": {
    "scrolled": true,
    "tags": []
   },
   "outputs": [
    {
     "name": "stderr",
     "output_type": "stream",
     "text": [
      "D:\\Anaconda3\\envs\\project-env-2\\lib\\site-packages\\ipykernel\\ipkernel.py:287: DeprecationWarning: `should_run_async` will not call `transform_cell` automatically in the future. Please pass the result to `transformed_cell` argument and any exception that happen during thetransform in `preprocessing_exc_tuple` in IPython 7.17 and above.\n",
      "  and should_run_async(code)\n",
      "100%|██████████| 54/54 [45:23<00:00, 50.44s/it]\n"
     ]
    }
   ],
   "source": [
    "model_results = {'Topics': [],\n",
    "                 'Alpha': [],\n",
    "                 'Eta': [],\n",
    "                 'Coherence': []\n",
    "                }\n",
    "# Loop to determine optimal number of topics\n",
    "if 1 == 1:\n",
    "    pbar = tqdm.tqdm(total=54)\n",
    "    \n",
    "    # iterate through the number of topics\n",
    "    for k in topics_range:\n",
    "        # iterate through alpha values\n",
    "        for a in alpha:\n",
    "            # iterare through eta values\n",
    "            for e in eta:\n",
    "                cv = compute_coherence_values(data_lemmatized1, \n",
    "                                              corpus=corpus1, \n",
    "                                              dictionary=id2word1, \n",
    "                                              k=k,\n",
    "                                              a=a,\n",
    "                                              eta=e)\n",
    "                model_results['Topics'].append(k)\n",
    "                model_results['Alpha'].append(a)\n",
    "                model_results['Eta'].append(e)\n",
    "                model_results['Coherence'].append(cv)\n",
    "        \n",
    "            pbar.update(1)\n",
    "    \n",
    "    pd.DataFrame(model_results).to_csv('paymaya_lda_tuning_results_rating1.csv', index=False)\n",
    "    pbar.close()"
   ]
  },
  {
   "cell_type": "code",
   "execution_count": 59,
   "id": "910b55e0-09d2-464f-908f-8b7d108fe3bd",
   "metadata": {},
   "outputs": [
    {
     "name": "stderr",
     "output_type": "stream",
     "text": [
      "D:\\Anaconda3\\envs\\project-env-2\\lib\\site-packages\\ipykernel\\ipkernel.py:287: DeprecationWarning: `should_run_async` will not call `transform_cell` automatically in the future. Please pass the result to `transformed_cell` argument and any exception that happen during thetransform in `preprocessing_exc_tuple` in IPython 7.17 and above.\n",
      "  and should_run_async(code)\n"
     ]
    }
   ],
   "source": [
    "paymaya_lda_tuning_results_rating1= pd.read_csv('paymaya_lda_tuning_results_rating1.csv')"
   ]
  },
  {
   "cell_type": "code",
   "execution_count": 60,
   "id": "b1b6d322-f562-48f4-92b6-f874b5cd5dc4",
   "metadata": {},
   "outputs": [
    {
     "name": "stderr",
     "output_type": "stream",
     "text": [
      "D:\\Anaconda3\\envs\\project-env-2\\lib\\site-packages\\ipykernel\\ipkernel.py:287: DeprecationWarning: `should_run_async` will not call `transform_cell` automatically in the future. Please pass the result to `transformed_cell` argument and any exception that happen during thetransform in `preprocessing_exc_tuple` in IPython 7.17 and above.\n",
      "  and should_run_async(code)\n"
     ]
    },
    {
     "data": {
      "text/html": [
       "<div>\n",
       "<style scoped>\n",
       "    .dataframe tbody tr th:only-of-type {\n",
       "        vertical-align: middle;\n",
       "    }\n",
       "\n",
       "    .dataframe tbody tr th {\n",
       "        vertical-align: top;\n",
       "    }\n",
       "\n",
       "    .dataframe thead th {\n",
       "        text-align: right;\n",
       "    }\n",
       "</style>\n",
       "<table border=\"1\" class=\"dataframe\">\n",
       "  <thead>\n",
       "    <tr style=\"text-align: right;\">\n",
       "      <th></th>\n",
       "      <th>Topics</th>\n",
       "      <th>Alpha</th>\n",
       "      <th>Eta</th>\n",
       "      <th>Coherence</th>\n",
       "    </tr>\n",
       "  </thead>\n",
       "  <tbody>\n",
       "    <tr>\n",
       "      <th>268</th>\n",
       "      <td>10</td>\n",
       "      <td>asymmetric</td>\n",
       "      <td>0.9099999999999999</td>\n",
       "      <td>0.499126</td>\n",
       "    </tr>\n",
       "    <tr>\n",
       "      <th>267</th>\n",
       "      <td>10</td>\n",
       "      <td>asymmetric</td>\n",
       "      <td>0.61</td>\n",
       "      <td>0.466680</td>\n",
       "    </tr>\n",
       "    <tr>\n",
       "      <th>28</th>\n",
       "      <td>2</td>\n",
       "      <td>asymmetric</td>\n",
       "      <td>0.9099999999999999</td>\n",
       "      <td>0.459466</td>\n",
       "    </tr>\n",
       "    <tr>\n",
       "      <th>229</th>\n",
       "      <td>9</td>\n",
       "      <td>0.9099999999999999</td>\n",
       "      <td>symmetric</td>\n",
       "      <td>0.459188</td>\n",
       "    </tr>\n",
       "    <tr>\n",
       "      <th>225</th>\n",
       "      <td>9</td>\n",
       "      <td>0.9099999999999999</td>\n",
       "      <td>0.01</td>\n",
       "      <td>0.458338</td>\n",
       "    </tr>\n",
       "    <tr>\n",
       "      <th>...</th>\n",
       "      <td>...</td>\n",
       "      <td>...</td>\n",
       "      <td>...</td>\n",
       "      <td>...</td>\n",
       "    </tr>\n",
       "    <tr>\n",
       "      <th>56</th>\n",
       "      <td>3</td>\n",
       "      <td>asymmetric</td>\n",
       "      <td>0.31</td>\n",
       "      <td>0.331566</td>\n",
       "    </tr>\n",
       "    <tr>\n",
       "      <th>55</th>\n",
       "      <td>3</td>\n",
       "      <td>asymmetric</td>\n",
       "      <td>0.01</td>\n",
       "      <td>0.331491</td>\n",
       "    </tr>\n",
       "    <tr>\n",
       "      <th>49</th>\n",
       "      <td>3</td>\n",
       "      <td>0.9099999999999999</td>\n",
       "      <td>symmetric</td>\n",
       "      <td>0.330912</td>\n",
       "    </tr>\n",
       "    <tr>\n",
       "      <th>46</th>\n",
       "      <td>3</td>\n",
       "      <td>0.9099999999999999</td>\n",
       "      <td>0.31</td>\n",
       "      <td>0.330912</td>\n",
       "    </tr>\n",
       "    <tr>\n",
       "      <th>59</th>\n",
       "      <td>3</td>\n",
       "      <td>asymmetric</td>\n",
       "      <td>symmetric</td>\n",
       "      <td>0.320089</td>\n",
       "    </tr>\n",
       "  </tbody>\n",
       "</table>\n",
       "<p>270 rows × 4 columns</p>\n",
       "</div>"
      ],
      "text/plain": [
       "     Topics               Alpha                 Eta  Coherence\n",
       "268      10          asymmetric  0.9099999999999999   0.499126\n",
       "267      10          asymmetric                0.61   0.466680\n",
       "28        2          asymmetric  0.9099999999999999   0.459466\n",
       "229       9  0.9099999999999999           symmetric   0.459188\n",
       "225       9  0.9099999999999999                0.01   0.458338\n",
       "..      ...                 ...                 ...        ...\n",
       "56        3          asymmetric                0.31   0.331566\n",
       "55        3          asymmetric                0.01   0.331491\n",
       "49        3  0.9099999999999999           symmetric   0.330912\n",
       "46        3  0.9099999999999999                0.31   0.330912\n",
       "59        3          asymmetric           symmetric   0.320089\n",
       "\n",
       "[270 rows x 4 columns]"
      ]
     },
     "execution_count": 60,
     "metadata": {},
     "output_type": "execute_result"
    }
   ],
   "source": [
    "paymaya_lda_tuning_results_rating1.sort_values(by='Coherence', ascending=False)"
   ]
  },
  {
   "cell_type": "markdown",
   "id": "5f680c8b-33e7-4784-b3d0-6214f08ad7b2",
   "metadata": {},
   "source": [
    "### Final Model"
   ]
  },
  {
   "cell_type": "code",
   "execution_count": 61,
   "id": "f5d49808-0343-41be-85c4-311fcf9be48e",
   "metadata": {},
   "outputs": [
    {
     "name": "stderr",
     "output_type": "stream",
     "text": [
      "D:\\Anaconda3\\envs\\project-env-2\\lib\\site-packages\\ipykernel\\ipkernel.py:287: DeprecationWarning: `should_run_async` will not call `transform_cell` automatically in the future. Please pass the result to `transformed_cell` argument and any exception that happen during thetransform in `preprocessing_exc_tuple` in IPython 7.17 and above.\n",
      "  and should_run_async(code)\n"
     ]
    }
   ],
   "source": [
    "final_lda1 = gensim.models.LdaMulticore(corpus=corpus1,\n",
    "                                           id2word=id2word1,\n",
    "                                           num_topics=10, \n",
    "                                           random_state=100,\n",
    "                                           chunksize=100,\n",
    "                                           passes=10,\n",
    "                                           alpha='asymmetric',\n",
    "                                           eta=0.9099999999999999)"
   ]
  },
  {
   "cell_type": "code",
   "execution_count": 62,
   "id": "35e95d7f-c690-4500-abfb-bb29847875b4",
   "metadata": {},
   "outputs": [
    {
     "name": "stderr",
     "output_type": "stream",
     "text": [
      "D:\\Anaconda3\\envs\\project-env-2\\lib\\site-packages\\ipykernel\\ipkernel.py:287: DeprecationWarning: `should_run_async` will not call `transform_cell` automatically in the future. Please pass the result to `transformed_cell` argument and any exception that happen during thetransform in `preprocessing_exc_tuple` in IPython 7.17 and above.\n",
      "  and should_run_async(code)\n"
     ]
    },
    {
     "data": {
      "text/html": [
       "\n",
       "<link rel=\"stylesheet\" type=\"text/css\" href=\"https://cdn.jsdelivr.net/gh/bmabey/pyLDAvis@3.3.1/pyLDAvis/js/ldavis.v1.0.0.css\">\n",
       "\n",
       "\n",
       "<div id=\"ldavis_el2175224880413240968646513207\"></div>\n",
       "<script type=\"text/javascript\">\n",
       "\n",
       "var ldavis_el2175224880413240968646513207_data = {\"mdsDat\": {\"x\": [0.21178343651232565, 0.007178014368502768, -0.0013135263164582639, -0.03825328043446292, -0.025286473477158816, -0.02615561932380678, -0.0336225930733553, -0.03016927109092447, -0.03260385885482982, -0.031556828309832086], \"y\": [0.0056461796266079655, -0.05978412238450809, 0.03049481243384624, 0.0066518065951111215, 0.005183843810456081, 0.00665945001313148, 0.0025305381685083736, 0.0010972211231703138, 0.0006715844743768437, 0.0008486861392996902], \"topics\": [1, 2, 3, 4, 5, 6, 7, 8, 9, 10], \"cluster\": [1, 1, 1, 1, 1, 1, 1, 1, 1, 1], \"Freq\": [80.59640502297111, 6.7379041926174486, 5.5227375166015396, 1.9054256843735893, 1.8478789781136078, 1.2036273210542534, 0.7673145799382289, 0.6463099049550852, 0.4602819702524962, 0.31211482912264943]}, \"tinfo\": {\"Term\": [\"update\", \"crash\", \"load\", \"fix\", \"open\", \"keep\", \"upgrade\", \"work\", \"code\", \"password\", \"new\", \"iphone\", \"need\", \"cash\", \"add\", \"user\", \"error\", \"credit\", \"buy\", \"online\", \"email\", \"soon\", \"scam\", \"option\", \"reply\", \"transaction\", \"issue\", \"app\", \"php\", \"review\", \"money\", \"say\", \"support\", \"bad\", \"customer\", \"number\", \"service\", \"receive\", \"month\", \"account\", \"send\", \"poor\", \"ask\", \"response\", \"get\", \"pay\", \"card\", \"problem\", \"try\", \"message\", \"payment\", \"virtual\", \"email\", \"add\", \"wait\", \"contact\", \"reply\", \"want\", \"transfer\", \"week\", \"use\", \"upgrade\", \"time\", \"day\", \"error\", \"need\", \"register\", \"fix\", \"log\", \"issue\", \"load\", \"update\", \"crash\", \"replika\", \"mahal\", \"iphone\", \"ipad\", \"buffer\", \"launch\", \"ilang\", \"tawag\", \"kailangang\", \"upper\", \"kelan\", \"ulit\", \"gawin\", \"buwan\", \"ngayong\", \"logo\", \"io\", \"throw\", \"employee\", \"faceid\", \"sana\", \"hustle\", \"open\", \"ip\", \"mas\", \"negosyo\", \"maayos\", \"nasa\", \"compatible\", \"version\", \"late\", \"update\", \"screen\", \"keep\", \"recent\", \"max\", \"kayo\", \"fix\", \"everytime\", \"work\", \"new\", \"soon\", \"pls\", \"reinstall\", \"fine\", \"face\", \"possible\", \"d\", \"upgrade\", \"need\", \"user\", \"account\", \"anymore\", \"try\", \"use\", \"gaming\", \"garena\", \"niyo\", \"debit_adjustment\", \"disbursement_faile\", \"paki\", \"daw\", \"pin\", \"razer\", \"piece\", \"ayos\", \"yung\", \"tapos\", \"sya\", \"greedy\", \"kelangan\", \"araw\", \"exit\", \"pala\", \"strategy\", \"dev\", \"ung\", \"paste\", \"promo\", \"nung\", \"yun\", \"autofill\", \"pako\", \"bwesit\", \"brand\", \"kayong\", \"nako\", \"implement\", \"wala\", \"tsk\", \"pera\", \"fee\", \"load\", \"auto\", \"password\", \"buy\", \"cash\", \"review\", \"remove\", \"bring\", \"sad\", \"credit\", \"error\", \"transaction\", \"code\", \"account\", \"globe\", \"hassle\", \"time\", \"service\", \"pumasok\", \"akong\", \"inyo\", \"banko\", \"kos\", \"nagbayad\", \"mawala\", \"makabwesit\", \"samantalang\", \"kona\", \"laki\", \"mahigit\", \"lalo\", \"nmn\", \"bat\", \"ninyo\", \"magreply\", \"problema\", \"nabawasan\", \"grabe\", \"senior\", \"gamitin\", \"ref\", \"wag\", \"ichachange\", \"nawala\", \"kayo\", \"kanina\", \"hirap\", \"gumamit\", \"agad\", \"pera\", \"wala\", \"man\", \"daw\", \"sana\", \"acct\", \"march\", \"sss\", \"guy\", \"yong\", \"ma\", \"nalang\", \"ganito\", \"kaagad\", \"talaga\", \"alam\", \"kakaini\", \"lagi\", \"master\", \"mas\", \"silang\", \"recognition\", \"minimum\", \"unbelievable\", \"maganda\", \"detect\", \"veverify\", \"magsara\", \"tanginaa\", \"hapon\", \"final\", \"yare\", \"rereply\", \"balak\", \"abot\", \"sanang\", \"dinasana\", \"hangang\", \"messnger\", \"ayaw\", \"tapos\", \"light\", \"kasi\", \"atm\", \"yan\", \"cheap\", \"secondary\", \"yung\", \"primary\", \"pera\", \"maintain\", \"ung\", \"promo\", \"kayo\", \"wala\", \"upgrade\", \"delay\", \"app\", \"add\", \"id\", \"need\", \"php\", \"online\", \"face\", \"nanakaw\", \"pos\", \"fvckng\", \"nio\", \"smartpadala\", \"owe\", \"nerve\", \"regardless\", \"qr\", \"num\", \"incosistent\", \"ayoko\", \"nakakadala\", \"nangyari\", \"inaaply\", \"umasa\", \"mageemail\", \"nababawasan\", \"papa\", \"dumadate\", \"knila\", \"accommodate\", \"hide\", \"clicking\", \"confidence\", \"deteriorate\", \"putang\", \"waiit\", \"ina\", \"ninakaw\", \"kayo\", \"automatic\", \"code\", \"promos\", \"reload\", \"resend\", \"put\", \"delay\", \"generate\", \"pera\", \"trash\", \"user\", \"otp\", \"load\", \"wala\", \"scam\", \"grab\", \"star\", \"person\", \"stupid\", \"issue\", \"pugad\", \"pangalan\", \"comeon\", \"suspend\", \"tangina\", \"nyong\", \"makapagupgrade\", \"dto\", \"mkikita\", \"basta\", \"nascam\", \"kilala\", \"magpadala\", \"papadalhan\", \"madali\", \"pagssendan\", \"petsa\", \"common\", \"kase\", \"mababawi\", \"makakuha\", \"putangina\", \"tutulungan\", \"hoax\", \"donation\", \"phish\", \"wire\", \"revalidation\", \"guysss\", \"tthe\", \"anong\", \"sainyo\", \"wag\", \"tong\", \"location\", \"credential\", \"pera\", \"pwede\", \"scammer\", \"yung\", \"trustworthy\", \"yun\", \"nakapag\", \"nareceive\", \"diko\", \"nationality\", \"kiosk\", \"test\", \"hopefully\", \"payama\", \"tester\", \"overlook\", \"temporary\", \"nagamit\", \"bagong\", \"sinusubukan\", \"wla\", \"sayo\", \"nagkamali\", \"inaayos\", \"nagsasabe\", \"naduplicate\", \"ahold\", \"inconsistent\", \"gamit\", \"loss\", \"thumb\", \"ginamit\", \"alam\", \"selection\", \"dati\", \"loyal\", \"kasi\", \"dropdown\", \"sorry\", \"yung\", \"offline\", \"developer\", \"hack\", \"account\", \"gamitin\", \"dali\", \"matutuwa\", \"maaksyunan\", \"tulong\", \"laking\", \"bir\", \"gana\", \"nakakawalang\", \"magamit\", \"yan\", \"dati\", \"pano\", \"field\", \"taxis\", \"tong\", \"ngayong\", \"ginagamit\", \"ruin\", \"evaluation\", \"tagal\", \"puro\", \"dropdown\", \"tester\", \"overlook\", \"temporary\", \"bagong\", \"nagamit\", \"sinusubukan\", \"wla\", \"sana\", \"kasi\", \"kayo\", \"giving\", \"couple\", \"wala\", \"yung\", \"upgrade\", \"error\", \"argue\", \"daughter\", \"travel\", \"pangilinan\", \"air\", \"citizen\", \"fear\", \"ecq\", \"eversince\", \"introduce\", \"honor\", \"senior\", \"matutuwa\", \"maaksyunan\", \"tulong\", \"laking\", \"tester\", \"overlook\", \"temporary\", \"bagong\", \"nagamit\", \"sinusubukan\", \"wla\", \"inaayos\", \"nagsasabe\", \"sayo\", \"nagkamali\", \"naduplicate\", \"tangina\", \"nyong\", \"fault\", \"abroad\", \"believe\", \"suggest\", \"hacker\", \"useful\", \"coz\", \"claim\", \"pldt\", \"uninstalled\", \"online_banke\", \"point\", \"advise\", \"write\", \"study\", \"othen\", \"thay\", \"billing\", \"credit\", \"system\", \"give\", \"card\", \"time\"], \"Freq\": [154.0, 63.0, 126.0, 175.0, 71.0, 60.0, 267.0, 99.0, 48.0, 71.0, 63.0, 28.0, 131.0, 56.0, 129.0, 41.0, 142.0, 52.0, 37.0, 72.0, 176.0, 35.0, 34.0, 42.0, 98.0, 92.0, 89.0, 36.0, 40.0, 31.0, 362.8186979680184, 179.02632231410405, 141.87092760282263, 133.90343024522966, 280.63731056986194, 165.32343557745216, 315.87155482849226, 91.07955001920459, 83.24477384410822, 610.6640462131254, 158.63588956573597, 113.00580289478937, 77.82763981654101, 71.47689743992723, 99.0318271754399, 109.54559834296363, 265.0187659995986, 100.78518752745778, 255.65754650486735, 79.00018564929573, 83.5893800782203, 80.21867441700869, 173.3369956467425, 127.05580262159484, 67.37137431704737, 59.544268130999434, 96.73540764344575, 71.42537633111561, 98.10023791999673, 71.47513928850564, 199.11149548718183, 258.6886679995312, 158.79938481472135, 109.30936439136843, 137.95681198689857, 124.83198490450859, 94.89611603654514, 155.42772093959624, 89.00750654162648, 86.6695501475798, 110.42819891208077, 114.08584686296902, 54.07218701922605, 2.996976312893914, 1.8277564363357588, 14.537240837782381, 2.2881023818940074, 1.4958170814969771, 2.2868660843840223, 1.6936288851472103, 1.2409096650076266, 1.23621311131244, 1.2332953669359303, 1.2387663499796486, 1.6545660680031697, 1.2364371611793783, 1.2421018856682902, 1.2342656834586287, 1.662995385463138, 8.909457934113894, 1.0769759714648732, 1.0756407916113788, 1.8812507113096952, 1.9684009240370244, 1.1470749700969327, 27.4840501948915, 1.150287573396492, 1.5471088550854282, 1.2449911097305324, 1.2408553959456827, 1.0399162817225698, 1.0355838761151883, 5.7591905645729184, 6.60886526386763, 38.3071901032571, 4.120009909738923, 14.764639472404696, 3.7026999561398544, 1.3845483386800674, 2.1380925024682704, 17.20662209235962, 3.6472511008821966, 9.01870915526387, 7.019633605070791, 4.91677987309505, 3.1441659892060425, 2.3291526804993565, 2.46970812044824, 2.4459928085948497, 3.5289516982742666, 3.761899188020948, 5.995038364648203, 4.8245246135192845, 3.2808564348421787, 5.058598968598325, 2.8581978941562305, 3.5011180172785585, 3.068711072246446, 5.697539978423608, 2.5543494486845484, 4.7410767818569095, 2.218048788886788, 3.020594130776496, 1.8253256279575978, 3.941573053814391, 3.5434987454282183, 1.4448407380961132, 1.622932629681289, 1.8255586625076403, 8.339852201930876, 2.1884849119925556, 1.442492658519867, 1.5023964613287557, 1.434487701881991, 1.7323046843354637, 1.7733684498677695, 1.5370460607930985, 1.266309891493719, 1.4356002586551815, 2.5974942567175168, 1.3040267532620176, 2.7142448594140447, 2.2712875104392403, 1.3057835992691622, 1.0584901194536207, 1.0584606603689928, 1.0584399950409702, 1.0570037547433968, 1.5008166629545996, 1.3001532500399584, 1.2808637052382303, 5.877427408544992, 2.448249990551065, 3.7829559621700968, 4.172842696906222, 13.95522859488779, 2.4659381922749537, 6.1551705896701465, 4.234635252071336, 3.943616429724261, 3.1453215500897627, 2.3378578601306663, 2.079624800535424, 1.7811400788303828, 2.775127847020942, 3.1728627164021477, 2.7452847683544896, 2.481924655533091, 3.338732312244118, 2.2254104822289804, 2.238386109788047, 2.4801330741873557, 2.374287462494548, 1.2178081899233084, 0.8787861166825729, 0.6863950626035632, 0.4848367507581478, 0.4839292381534345, 0.4830047352865502, 0.4817540294992332, 0.4816023307298489, 0.4791381359199705, 0.4781120960101116, 0.4756746507499013, 0.4719118639078369, 0.47869522607962484, 0.6408581765760434, 0.6447397435545357, 0.5327467112014025, 0.41971166000136867, 0.5904173749968942, 0.4106211112460151, 0.5700716877458425, 0.4694742669488572, 0.48335435038372454, 0.4602516896978828, 0.48338640939032107, 0.3564227058660887, 0.42210480922091875, 1.1539769885368643, 0.4122875222277015, 0.8411999654235096, 0.30784539725318427, 0.4738686769003813, 1.4896992090134398, 1.7983173092316111, 0.7002236695893528, 0.6176389606690581, 0.5304996984630259, 0.6532016526095608, 0.47647349646947895, 0.48053078118917475, 0.477472483432131, 0.9674794526952049, 0.6362321885324728, 0.9522696878399188, 0.4696097039528321, 0.46959180468868056, 0.9806246722880825, 0.46885322710680094, 0.4576208749023026, 0.4674015232254927, 0.6116665518638063, 0.6597216625934541, 0.46572379822507665, 0.3443842942292718, 0.3406054898519463, 0.33680047408643177, 0.44157376775828444, 0.3310752841096378, 0.2988754886826475, 0.29887534156540796, 0.29887529252632805, 0.2988752434872482, 0.2983996379711563, 0.2981844544886991, 0.29820134845171337, 0.2981913199598805, 0.2982026234677899, 0.29819252141733726, 0.2981890886817466, 0.29819315892537557, 0.2981823212887249, 0.4689991674084857, 0.636633083010387, 0.42869772367479786, 0.6403491664045624, 0.6374143245917512, 0.44585958718235674, 0.3462086951175706, 0.46655849240349595, 0.9995793555165057, 0.46522217747711525, 0.6734215632187094, 0.4118309773498796, 0.4647957826776701, 0.46834091583942844, 0.46822175087535123, 0.5570719817557098, 1.0748312947450938, 0.4664885136365255, 0.5949014145123728, 0.7112438362697118, 0.5147615540371031, 0.6230420981815168, 0.5217221119943711, 0.48404092437614665, 0.4681253400443323, 0.437332571902631, 0.3202972372437546, 0.31781848146655384, 0.31740687806786555, 0.3793315010163858, 0.30095031235201875, 0.3009067116505435, 0.2748489839927036, 0.35000167646593144, 0.22317630737581443, 0.2037944220681338, 0.20378827325125912, 0.2037875226164718, 0.20378704348788415, 0.20378629285309685, 0.20378209249247856, 0.20377921772095273, 0.20350980371612296, 0.20348487305861276, 0.203487460352986, 0.20348111988467626, 0.20322401948454882, 0.20322290151784433, 0.20324441439142935, 0.20321660896239332, 0.20321039626170695, 0.20297531980565803, 0.20297531980565803, 0.2029753038347051, 0.2029753038347051, 0.43606252978442167, 0.26724974905749227, 0.8763773577260509, 0.3209307410623317, 0.43837093937776356, 0.3043229623642258, 0.2683124243229711, 0.32109437944596353, 0.3099004982529388, 0.3169632369376171, 0.33046722064499345, 0.38949381836022245, 0.2856854991431609, 0.43594463220995644, 0.2894813474658771, 0.31941720579588395, 0.253312968496901, 0.28248814631021824, 0.23680769137464416, 0.2375325171020254, 0.25838933588294294, 0.2126463387543678, 0.21248893259144577, 0.15241624501625795, 0.14870734448476272, 0.13572292435943903, 0.13572292435943903, 0.13572290399641665, 0.13534868255280735, 0.1353486520082738, 0.13534864182676262, 0.13534856037467313, 0.13534856037467313, 0.1353484585595613, 0.1353483771074718, 0.1353483669259606, 0.1353483669259606, 0.13534832619991588, 0.15000994666276532, 0.1352279807377077, 0.13527464260346914, 0.13534117877906393, 0.13572045025222104, 0.1353483058368935, 0.10353303823352325, 0.10352549373373507, 0.1035151391368598, 0.10351354063960373, 0.10350422455686935, 0.10348123470461333, 0.10347975838549149, 0.13548162254435156, 0.1351867761619415, 0.1351386481585694, 0.13508538867356001, 0.10792168699627101, 0.2421186166407946, 0.36275901686499107, 0.13498959083481915, 0.21087029630625687, 0.210834885010355, 0.13754588321109104, 0.13521358408089193, 0.1338001048434144, 0.13376653877887248, 0.13374753458903474, 0.17578517127371815, 0.1721813388336766, 0.22382723147784228, 0.11473299364248374, 0.1146564794810522, 0.09160496321714262, 0.0916049374894488, 0.09089933833453931, 0.09089977570533432, 0.0908962767389743, 0.09088372162438836, 0.09087941652362187, 0.0908757203116092, 0.09087452826179537, 0.09087017170564124, 0.09086855086093035, 0.09084698247760818, 0.09842940552182454, 0.09842877948127483, 0.09061971260626801, 0.11277139420279751, 0.09074922581697625, 0.08999151950617595, 0.09068407472031684, 0.09103241054289317, 0.08953556474033529, 0.08856564783497957, 0.17031208466302136, 0.1324641514621317, 0.11424113159196321, 0.13634760963044457, 0.11379678859193496, 0.10304514246354202, 0.10122779820312498, 0.1261978628990559, 0.17817396093806723, 0.13054588599558115, 0.08282916083754949, 0.08282296173532566, 0.08282120277824147, 0.08281554113512671, 0.0899562900404891, 0.08281610913168515, 0.08280915880820662, 0.08258192353989192, 0.12988823148576747, 0.08247449279297864, 0.08282391450374628, 0.13007184706139005, 0.061316767570897227, 0.08259543330749694, 0.08277981231935395, 0.08251279286198905, 0.08230891874244885, 0.08188654917260604, 0.12824381426669906, 0.08109196473977955, 0.08465863499985114, 0.03544029795102431, 0.03544029795102431, 0.03544029795102431, 0.03544029795102431, 0.03544029795102431, 0.03544029795102431, 0.03544029795102431, 0.08240343214827506, 0.08149905336995339, 0.08192067171854149, 0.05199288419449183, 0.049327798536123776, 0.07403157207871153, 0.07519521380225598, 0.06504448623150073, 0.05607830632213439, 0.03801475196867831, 0.03796773400313359, 0.03796706722849669, 0.037939986238740946, 0.03793454022229672, 0.037934204764249586, 0.03792685367741422, 0.03792139523659788, 0.03791753539832714, 0.0379108925007024, 0.036826994418750515, 0.03668842953799694, 0.024356857127952967, 0.024356857127952967, 0.024356857127952967, 0.024356857127952967, 0.024356857127952967, 0.024356857127952967, 0.024356857127952967, 0.024356857127952967, 0.024356857127952967, 0.024356857127952967, 0.024356857127952967, 0.024356857127952967, 0.024356857127952967, 0.024356857127952967, 0.024356857127952967, 0.024356857127952967, 0.024356857127952967, 0.024356857127952967, 0.032469123121010135, 0.03146556102916101, 0.03188421060125669, 0.030166982221414906, 0.02936820277224084, 0.02765336194257403, 0.02770568718574102, 0.027506195254858732, 0.028188603893335957, 0.02707986327933792, 0.026866029481576275, 0.026844897695335462, 0.026798842618629734, 0.026219469298111392, 0.024687270880008737, 0.024682002946231508, 0.02467666667840764, 0.026058579891393853, 0.02656906420998575, 0.02624225766730102, 0.026289116186736922, 0.027152866819163485, 0.0267413260586469], \"Total\": [154.0, 63.0, 126.0, 175.0, 71.0, 60.0, 267.0, 99.0, 48.0, 71.0, 63.0, 28.0, 131.0, 56.0, 129.0, 41.0, 142.0, 52.0, 37.0, 72.0, 176.0, 35.0, 34.0, 42.0, 98.0, 92.0, 89.0, 36.0, 40.0, 31.0, 365.15942461057665, 180.6181686453343, 143.2135009336478, 135.50911474112812, 284.1037112178322, 167.37359429402844, 319.82640296939536, 92.33398222449017, 84.49230212478292, 620.0948368881498, 161.1110237504007, 114.77584857978533, 79.08996411042007, 72.68895767524299, 100.73087571883578, 111.44156193525733, 269.79410339409344, 102.64039722690094, 260.40094856320746, 80.46719656697371, 85.17113895031949, 81.74081861206753, 176.64310081021824, 129.4911972797082, 68.68644311315244, 60.817484136036114, 98.81397955725032, 72.96725922099643, 100.26924587313047, 73.19854926190173, 204.12517746919926, 267.01409961328994, 163.18093399850613, 112.10031487286379, 142.35647975791596, 131.91552280159786, 98.15044408920814, 175.35289874637186, 92.62528028203262, 89.46060388665481, 126.79185543968492, 154.9878896078549, 63.825555307059226, 4.637245273095459, 3.4709666169596245, 28.57243379046056, 4.63858885089147, 3.171943805362744, 4.905733655153117, 3.764429977778565, 2.863864155240912, 2.868934887739114, 2.8745671926178544, 2.9419752431953627, 3.9737055333959703, 2.986287689528995, 3.0065067190590153, 3.0108705833718097, 4.0796862214999745, 22.248292844454205, 2.7147746291899963, 2.7167230051039377, 4.79693108177437, 5.06013128506033, 2.956481779225551, 71.16881997736064, 2.982401621500697, 4.023133217492785, 3.2466958133213395, 3.298087203681747, 2.7673439890958287, 2.7764624556436566, 17.086671300716375, 20.921327576304733, 154.9878896078549, 12.939763793891723, 60.78442593795556, 13.50149096903991, 3.793232452706116, 7.304561111778833, 175.35289874637186, 19.207589199373828, 99.25932978467416, 63.50681166982772, 35.401015779401035, 16.58081802889721, 9.941388142414132, 12.287679994708789, 12.08238385626416, 31.906547825319453, 43.23246215111104, 267.01409961328994, 131.91552280159786, 41.22667040168342, 620.0948368881498, 49.41748038874719, 260.40094856320746, 204.12517746919926, 7.657746218271773, 4.2867682834275005, 8.080848077467099, 3.8812838507424887, 5.305822754050075, 3.5020699318206248, 7.798573140579692, 7.244007648369361, 3.108520775705575, 3.500685343577774, 3.9591326892015624, 18.236590702920413, 4.815777731484428, 3.1861428859902676, 3.344271579855069, 3.2190896164308618, 4.011105424459048, 4.163157179031114, 3.6600530920059544, 3.0158070890328803, 3.4353517422273887, 6.225551479563335, 3.2023757620714544, 6.693476023905029, 5.633637012271585, 3.2524162520334916, 2.7216584675877344, 2.7217071704066047, 2.721759531661906, 2.7204556917576403, 3.895093836839022, 3.376403323880516, 3.3259641428223174, 16.968830767804082, 6.648013430401767, 12.496621273836942, 17.67573464848219, 126.79185543968492, 8.884546188291239, 71.2017268539794, 37.55105973361252, 56.23831543237367, 31.348936610224563, 14.063105877430608, 13.041066373427507, 6.8733654058992455, 52.1818706082956, 142.35647975791596, 92.59321517626236, 48.4092905520392, 620.0948368881498, 23.97680333146023, 31.506979245632383, 163.18093399850613, 319.82640296939536, 4.531217174666554, 3.771279445075382, 3.1781363186425753, 2.3039290373938637, 2.308655525506506, 2.3134904746132623, 2.318914164308563, 2.3207948862891894, 2.3335888159700415, 2.329266645598287, 2.346725812370049, 2.3714408726100067, 2.4394420822331733, 3.3347227288965837, 3.376132386918414, 2.851303308862607, 2.2623549725863743, 3.245367353097723, 2.311800043796336, 3.213657936645113, 2.6554654896163368, 2.7493996604643973, 2.6341191213000847, 2.861970280703839, 2.2111140865092227, 2.6313813841893174, 7.304561111778833, 2.688283403249971, 5.5231093801670115, 2.126209246149972, 3.349443953297645, 12.496621273836942, 16.968830767804082, 9.541388619152471, 7.798573140579692, 5.06013128506033, 15.557807263215201, 5.230512180110309, 10.736865555998024, 26.795065290935042, 4.255050159078769, 2.890675671910133, 4.364281827596109, 2.2980430521418813, 2.2980279302785784, 4.818231447958403, 2.3827508204303296, 2.3664612761234745, 2.5042875345122892, 3.344102180526969, 4.023133217492785, 2.9169054275157076, 2.2132744482431996, 2.2255544467888413, 2.2352452031919072, 2.93924714054262, 2.2912245699404226, 2.1226025218946405, 2.1226028792959406, 2.1226030976156536, 2.1226030224085455, 2.1251444223520366, 2.1241866795996986, 2.124311439571925, 2.1242481223241594, 2.1243678416842147, 2.1243122133244223, 2.124310195631386, 2.124349903407446, 2.1242827312341372, 3.341828836775683, 4.815777731484428, 3.2023864061635785, 5.479391580071475, 5.937088053429202, 3.781866936297152, 2.643297294309456, 4.1440668984042, 18.236590702920413, 5.216323663798476, 12.496621273836942, 4.440223345996529, 6.225551479563335, 6.693476023905029, 7.304561111778833, 16.968830767804082, 267.01409961328994, 8.978245052970573, 36.47877892048878, 129.4911972797082, 18.700019894524, 131.91552280159786, 40.95148151410237, 72.71050445189586, 12.08238385626416, 2.3062837026585625, 2.189435712285102, 2.2112584931379407, 2.2113755162435202, 2.7882694349464314, 2.347703765407264, 2.347941761825853, 2.1922507118225476, 3.0411339957120993, 2.246204808795362, 2.0660215601697947, 2.0660249701804965, 2.0660250932586113, 2.066025459750682, 2.066025559592553, 2.066028158405719, 2.0660297301338373, 2.068135703696506, 2.0682243969961256, 2.068275678452184, 2.0683465806729306, 2.0711171077952346, 2.071121103033334, 2.071358295227375, 2.071138145388897, 2.071152972283501, 2.0736569640774016, 2.073657026886082, 2.073657197144915, 2.0736575089920626, 7.304561111778833, 3.432339632928491, 48.4092905520392, 5.516916941662148, 11.576896295686426, 5.254106433458059, 4.067887726597975, 8.978245052970573, 9.564381447655332, 12.496621273836942, 15.651007643059033, 41.22667040168342, 10.72182154033969, 126.79185543968492, 16.968830767804082, 34.610585580935286, 8.16658087172344, 28.810969944097934, 8.630954908231534, 11.47560848402868, 89.46060388665481, 2.1291898188434595, 2.4825911398899456, 2.148867309784416, 2.2052208095179084, 2.0326485835539376, 2.032648936072755, 2.03264935479467, 2.037598726470526, 2.0376001341913184, 2.037600863679106, 2.037603559709937, 2.03760381519001, 2.037607686526285, 2.0376105528771644, 2.037611185326208, 2.0376114710053272, 2.0376131769766728, 2.463728536497511, 2.236909454356668, 2.4271888238453223, 2.442469026400721, 2.500768432248099, 2.502365831437926, 2.0698058860588886, 2.0698914525618934, 2.0699358492871895, 2.0699743751629653, 2.0700034420070623, 2.070162414284376, 2.070267936711433, 2.746268940818116, 2.7679008915359677, 2.861970280703839, 2.8915792107267153, 2.1900663781516494, 6.769956395410046, 12.496621273836942, 3.185785392062531, 11.276911179563417, 18.236590702920413, 3.700132494913566, 3.2524162520334916, 2.0734502340548855, 2.0735689045433197, 2.073714608693013, 2.786977863140285, 2.9032330756365394, 3.9345381524796252, 2.0357473985493777, 2.4288779140665993, 2.0148645412353825, 2.0148649833855763, 2.021423397094989, 2.0214483452855707, 2.0214330236052067, 2.021479668930074, 2.0215126412323237, 2.021530708397133, 2.021536787415756, 2.021522767223635, 2.0215303504337006, 2.021600262641303, 2.2880740804141557, 2.2880833164498946, 2.211187347378534, 2.785710100065166, 2.2914076191131945, 2.329050303606129, 2.3827508204303296, 2.428711320082204, 2.5997353312909834, 2.7758480583707676, 5.479391580071475, 4.314515626751618, 7.321601403405792, 18.236590702920413, 7.682647192767534, 8.958227925997432, 8.068196400724215, 620.0948368881498, 2.7493996604643973, 2.0626334292645154, 2.009157972678613, 2.0092939599347974, 2.0093327543541974, 2.0094573147635124, 2.1902594702350933, 2.275656951692915, 2.2755445365108704, 2.3199429513145953, 3.781866936297152, 2.5997353312909834, 2.618812027528586, 4.263882251847342, 2.099517514172699, 2.8915792107267153, 3.0108705833718097, 3.0886184859490657, 3.141781785262206, 3.1273696991887996, 5.030879035681528, 3.9495195106592127, 4.314515626751618, 2.0148645412353825, 2.0148649833855763, 2.021423397094989, 2.0214330236052067, 2.0214483452855707, 2.021479668930074, 2.0215126412323237, 5.06013128506033, 5.479391580071475, 7.304561111778833, 3.829118732924453, 4.187864721885819, 16.968830767804082, 18.236590702920413, 267.01409961328994, 142.35647975791596, 2.2267304735660085, 2.2282351221516263, 2.228264225061588, 2.2290044161115863, 2.2291995855276543, 2.229180881667949, 2.2294444670526796, 2.229792124705244, 2.2296813020955835, 2.2300011483588538, 2.4414326177569157, 2.6554654896163368, 2.009157972678613, 2.0092939599347974, 2.0093327543541974, 2.0094573147635124, 2.0148645412353825, 2.0148649833855763, 2.021423397094989, 2.0214330236052067, 2.0214483452855707, 2.021479668930074, 2.0215126412323237, 2.021522767223635, 2.0215303504337006, 2.021530708397133, 2.021536787415756, 2.021600262641303, 2.0326485835539376, 2.032648936072755, 3.129566899177739, 3.5378033809903897, 3.8436418493262723, 3.922033235564091, 4.33264528146976, 6.279121771310351, 6.4969735266583815, 6.670320952626703, 11.148038473409827, 7.915510900177347, 7.846710961298402, 8.046729923882102, 8.712038207050245, 11.174346498302544, 2.6583695496174644, 2.6583889634799545, 2.658407877147298, 11.27994192852611, 52.1818706082956, 31.644425345577865, 36.198568066579824, 269.79410339409344, 163.18093399850613], \"Category\": [\"Default\", \"Default\", \"Default\", \"Default\", \"Default\", \"Default\", \"Default\", \"Default\", \"Default\", \"Default\", \"Default\", \"Default\", \"Default\", \"Default\", \"Default\", \"Default\", \"Default\", \"Default\", \"Default\", \"Default\", \"Default\", \"Default\", \"Default\", \"Default\", \"Default\", \"Default\", \"Default\", \"Default\", \"Default\", \"Default\", \"Topic1\", \"Topic1\", \"Topic1\", \"Topic1\", \"Topic1\", \"Topic1\", \"Topic1\", \"Topic1\", \"Topic1\", \"Topic1\", \"Topic1\", \"Topic1\", \"Topic1\", \"Topic1\", \"Topic1\", \"Topic1\", \"Topic1\", \"Topic1\", \"Topic1\", \"Topic1\", \"Topic1\", \"Topic1\", \"Topic1\", \"Topic1\", \"Topic1\", \"Topic1\", \"Topic1\", \"Topic1\", \"Topic1\", \"Topic1\", \"Topic1\", \"Topic1\", \"Topic1\", \"Topic1\", \"Topic1\", \"Topic1\", \"Topic1\", \"Topic1\", \"Topic1\", \"Topic1\", \"Topic1\", \"Topic1\", \"Topic2\", \"Topic2\", \"Topic2\", \"Topic2\", \"Topic2\", \"Topic2\", \"Topic2\", \"Topic2\", \"Topic2\", \"Topic2\", \"Topic2\", \"Topic2\", \"Topic2\", \"Topic2\", \"Topic2\", \"Topic2\", \"Topic2\", \"Topic2\", \"Topic2\", \"Topic2\", \"Topic2\", \"Topic2\", \"Topic2\", \"Topic2\", \"Topic2\", \"Topic2\", \"Topic2\", \"Topic2\", \"Topic2\", \"Topic2\", \"Topic2\", \"Topic2\", \"Topic2\", \"Topic2\", \"Topic2\", \"Topic2\", \"Topic2\", \"Topic2\", \"Topic2\", \"Topic2\", \"Topic2\", \"Topic2\", \"Topic2\", \"Topic2\", \"Topic2\", \"Topic2\", \"Topic2\", \"Topic2\", \"Topic2\", \"Topic2\", \"Topic2\", \"Topic2\", \"Topic2\", \"Topic2\", \"Topic2\", \"Topic2\", \"Topic3\", \"Topic3\", \"Topic3\", \"Topic3\", \"Topic3\", \"Topic3\", \"Topic3\", \"Topic3\", \"Topic3\", \"Topic3\", \"Topic3\", \"Topic3\", \"Topic3\", \"Topic3\", \"Topic3\", \"Topic3\", \"Topic3\", \"Topic3\", \"Topic3\", \"Topic3\", \"Topic3\", \"Topic3\", \"Topic3\", \"Topic3\", \"Topic3\", \"Topic3\", \"Topic3\", \"Topic3\", \"Topic3\", \"Topic3\", \"Topic3\", \"Topic3\", \"Topic3\", \"Topic3\", \"Topic3\", \"Topic3\", \"Topic3\", \"Topic3\", \"Topic3\", \"Topic3\", \"Topic3\", \"Topic3\", \"Topic3\", \"Topic3\", \"Topic3\", \"Topic3\", \"Topic3\", \"Topic3\", \"Topic3\", \"Topic3\", \"Topic3\", \"Topic3\", \"Topic3\", \"Topic3\", \"Topic3\", \"Topic4\", \"Topic4\", \"Topic4\", \"Topic4\", \"Topic4\", \"Topic4\", \"Topic4\", \"Topic4\", \"Topic4\", \"Topic4\", \"Topic4\", \"Topic4\", \"Topic4\", \"Topic4\", \"Topic4\", \"Topic4\", \"Topic4\", \"Topic4\", \"Topic4\", \"Topic4\", \"Topic4\", \"Topic4\", \"Topic4\", \"Topic4\", \"Topic4\", \"Topic4\", \"Topic4\", \"Topic4\", \"Topic4\", \"Topic4\", \"Topic4\", \"Topic4\", \"Topic4\", \"Topic4\", \"Topic4\", \"Topic4\", \"Topic4\", \"Topic4\", \"Topic4\", \"Topic4\", \"Topic5\", \"Topic5\", \"Topic5\", \"Topic5\", \"Topic5\", \"Topic5\", \"Topic5\", \"Topic5\", \"Topic5\", \"Topic5\", \"Topic5\", \"Topic5\", \"Topic5\", \"Topic5\", \"Topic5\", \"Topic5\", \"Topic5\", \"Topic5\", \"Topic5\", \"Topic5\", \"Topic5\", \"Topic5\", \"Topic5\", \"Topic5\", \"Topic5\", \"Topic5\", \"Topic5\", \"Topic5\", \"Topic5\", \"Topic5\", \"Topic5\", \"Topic5\", \"Topic5\", \"Topic5\", \"Topic5\", \"Topic5\", \"Topic5\", \"Topic5\", \"Topic5\", \"Topic5\", \"Topic5\", \"Topic5\", \"Topic5\", \"Topic5\", \"Topic5\", \"Topic5\", \"Topic5\", \"Topic5\", \"Topic5\", \"Topic5\", \"Topic5\", \"Topic5\", \"Topic5\", \"Topic5\", \"Topic5\", \"Topic6\", \"Topic6\", \"Topic6\", \"Topic6\", \"Topic6\", \"Topic6\", \"Topic6\", \"Topic6\", \"Topic6\", \"Topic6\", \"Topic6\", \"Topic6\", \"Topic6\", \"Topic6\", \"Topic6\", \"Topic6\", \"Topic6\", \"Topic6\", \"Topic6\", \"Topic6\", \"Topic6\", \"Topic6\", \"Topic6\", \"Topic6\", \"Topic6\", \"Topic6\", \"Topic6\", \"Topic6\", \"Topic6\", \"Topic6\", \"Topic6\", \"Topic6\", \"Topic6\", \"Topic6\", \"Topic6\", \"Topic6\", \"Topic6\", \"Topic6\", \"Topic6\", \"Topic6\", \"Topic6\", \"Topic6\", \"Topic6\", \"Topic6\", \"Topic6\", \"Topic6\", \"Topic6\", \"Topic6\", \"Topic6\", \"Topic6\", \"Topic6\", \"Topic7\", \"Topic7\", \"Topic7\", \"Topic7\", \"Topic7\", \"Topic7\", \"Topic7\", \"Topic7\", \"Topic7\", \"Topic7\", \"Topic7\", \"Topic7\", \"Topic7\", \"Topic7\", \"Topic7\", \"Topic7\", \"Topic7\", \"Topic7\", \"Topic7\", \"Topic7\", \"Topic7\", \"Topic7\", \"Topic7\", \"Topic7\", \"Topic7\", \"Topic7\", \"Topic7\", \"Topic7\", \"Topic7\", \"Topic7\", \"Topic7\", \"Topic7\", \"Topic7\", \"Topic7\", \"Topic7\", \"Topic7\", \"Topic7\", \"Topic7\", \"Topic7\", \"Topic7\", \"Topic7\", \"Topic7\", \"Topic8\", \"Topic8\", \"Topic8\", \"Topic8\", \"Topic8\", \"Topic8\", \"Topic8\", \"Topic8\", \"Topic8\", \"Topic8\", \"Topic8\", \"Topic8\", \"Topic8\", \"Topic8\", \"Topic8\", \"Topic8\", \"Topic8\", \"Topic8\", \"Topic8\", \"Topic8\", \"Topic8\", \"Topic8\", \"Topic8\", \"Topic8\", \"Topic8\", \"Topic8\", \"Topic8\", \"Topic8\", \"Topic8\", \"Topic8\", \"Topic8\", \"Topic8\", \"Topic8\", \"Topic8\", \"Topic8\", \"Topic8\", \"Topic8\", \"Topic8\", \"Topic9\", \"Topic9\", \"Topic9\", \"Topic9\", \"Topic9\", \"Topic9\", \"Topic9\", \"Topic9\", \"Topic9\", \"Topic9\", \"Topic9\", \"Topic9\", \"Topic9\", \"Topic9\", \"Topic9\", \"Topic9\", \"Topic9\", \"Topic9\", \"Topic9\", \"Topic9\", \"Topic9\", \"Topic9\", \"Topic9\", \"Topic9\", \"Topic9\", \"Topic9\", \"Topic9\", \"Topic9\", \"Topic9\", \"Topic9\", \"Topic9\", \"Topic9\", \"Topic9\", \"Topic9\", \"Topic9\", \"Topic9\", \"Topic9\", \"Topic9\", \"Topic9\", \"Topic10\", \"Topic10\", \"Topic10\", \"Topic10\", \"Topic10\", \"Topic10\", \"Topic10\", \"Topic10\", \"Topic10\", \"Topic10\", \"Topic10\", \"Topic10\", \"Topic10\", \"Topic10\", \"Topic10\", \"Topic10\", \"Topic10\", \"Topic10\", \"Topic10\", \"Topic10\", \"Topic10\", \"Topic10\", \"Topic10\", \"Topic10\", \"Topic10\", \"Topic10\", \"Topic10\", \"Topic10\", \"Topic10\", \"Topic10\", \"Topic10\", \"Topic10\", \"Topic10\", \"Topic10\", \"Topic10\", \"Topic10\", \"Topic10\", \"Topic10\", \"Topic10\", \"Topic10\", \"Topic10\", \"Topic10\", \"Topic10\", \"Topic10\", \"Topic10\", \"Topic10\", \"Topic10\", \"Topic10\", \"Topic10\", \"Topic10\", \"Topic10\", \"Topic10\", \"Topic10\"], \"logprob\": [30.0, 29.0, 28.0, 27.0, 26.0, 25.0, 24.0, 23.0, 22.0, 21.0, 20.0, 19.0, 18.0, 17.0, 16.0, 15.0, 14.0, 13.0, 12.0, 11.0, 10.0, 9.0, 8.0, 7.0, 6.0, 5.0, 4.0, 3.0, 2.0, 1.0, -3.9247, -4.6311, -4.8637, -4.9215, -4.1816, -4.7107, -4.0633, -5.3069, -5.3968, -3.4041, -4.752, -5.0912, -5.4641, -5.5492, -5.2232, -5.1223, -4.2388, -5.2056, -4.2748, -5.4492, -5.3927, -5.4339, -4.6634, -4.974, -5.6084, -5.7319, -5.2466, -5.55, -5.2326, -5.5493, -4.5248, -4.263, -4.751, -5.1244, -4.8917, -4.9917, -5.2658, -4.7724, -5.3299, -5.3565, -5.1143, -5.0817, -3.3466, -6.2393, -6.7338, -4.6602, -6.5092, -6.9342, -6.5097, -6.81, -7.1211, -7.1249, -7.1272, -7.1228, -6.8334, -7.1247, -7.1201, -7.1264, -6.8283, -5.1498, -7.2628, -7.264, -6.705, -6.6597, -7.1997, -4.0233, -7.1969, -6.9005, -7.1178, -7.1211, -7.2978, -7.302, -5.5861, -5.4485, -3.6913, -5.9211, -4.6447, -6.0279, -7.0115, -6.577, -4.4916, -6.0429, -5.1376, -5.3882, -5.7443, -6.1914, -6.4914, -6.4328, -6.4425, -6.0759, -6.012, -5.546, -5.7632, -6.1488, -5.7158, -6.2867, -6.0838, -6.2157, -5.398, -6.2002, -5.5818, -6.3414, -6.0326, -6.5363, -5.7665, -5.8729, -6.77, -6.6538, -6.5362, -5.017, -6.3548, -6.7717, -6.731, -6.7772, -6.5886, -6.5652, -6.7082, -6.9019, -6.7765, -6.1835, -6.8726, -6.1395, -6.3177, -6.8712, -7.0812, -7.0812, -7.0812, -7.0826, -6.732, -6.8756, -6.8905, -5.3669, -6.2427, -5.8075, -5.7094, -4.5022, -6.2355, -5.3208, -5.6947, -5.7659, -5.9921, -6.2888, -6.4059, -6.5608, -6.1173, -5.9834, -6.1282, -6.229, -5.9325, -6.3381, -6.3323, -6.2297, -6.2733, -5.8768, -6.2031, -6.4502, -6.7978, -6.7997, -6.8016, -6.8042, -6.8045, -6.8096, -6.8118, -6.8169, -6.8248, -6.8106, -6.5188, -6.5128, -6.7036, -6.9421, -6.6008, -6.964, -6.6359, -6.83, -6.8009, -6.8499, -6.8008, -7.1055, -6.9364, -5.9307, -6.9599, -6.2468, -7.252, -6.8207, -5.6753, -5.487, -6.4302, -6.5557, -6.7078, -6.4997, -6.8152, -6.8067, -6.8131, -6.0763, -6.4954, -6.0921, -6.7991, -6.7991, -6.0628, -6.8007, -6.8249, -6.8038, -6.5348, -6.4591, -6.8074, -7.1092, -7.1202, -7.1315, -6.8606, -7.1486, -7.2509, -7.2509, -7.2509, -7.2509, -7.2525, -7.2533, -7.2532, -7.2532, -7.2532, -7.2532, -7.2532, -7.2532, -7.2533, -6.8004, -6.4948, -6.8902, -6.489, -6.4935, -6.851, -7.1039, -6.8056, -6.0436, -6.8084, -6.4386, -6.9304, -6.8094, -6.8018, -6.802, -6.6283, -5.971, -6.8057, -6.5626, -6.3839, -6.7073, -6.5163, -6.6938, -6.7688, -6.8022, -6.4416, -6.753, -6.7608, -6.7621, -6.5839, -6.8153, -6.8155, -6.906, -6.6643, -7.1143, -7.2052, -7.2052, -7.2052, -7.2052, -7.2052, -7.2052, -7.2052, -7.2066, -7.2067, -7.2067, -7.2067, -7.208, -7.208, -7.2079, -7.208, -7.208, -7.2092, -7.2092, -7.2092, -7.2092, -6.4445, -6.9341, -5.7465, -6.751, -6.4392, -6.8042, -6.9301, -6.7505, -6.786, -6.7635, -6.7218, -6.5574, -6.8674, -6.4447, -6.8542, -6.7558, -6.9876, -6.8786, -7.055, -7.052, -6.9678, -6.7124, -6.7132, -7.0455, -7.0701, -7.1615, -7.1615, -7.1615, -7.1642, -7.1642, -7.1642, -7.1642, -7.1642, -7.1642, -7.1642, -7.1642, -7.1642, -7.1642, -7.0614, -7.1651, -7.1648, -7.1643, -7.1615, -7.1642, -7.4322, -7.4322, -7.4323, -7.4324, -7.4325, -7.4327, -7.4327, -7.1632, -7.1654, -7.1658, -7.1662, -7.3907, -6.5826, -6.1783, -7.1669, -6.7208, -6.721, -7.1481, -7.1652, -7.0041, -7.0044, -7.0045, -6.7312, -6.7519, -6.4896, -7.1578, -7.1585, -7.383, -7.383, -7.3907, -7.3907, -7.3907, -7.3909, -7.3909, -7.391, -7.391, -7.391, -7.391, -7.3913, -7.3111, -7.3111, -7.3938, -7.1751, -7.3923, -7.4007, -7.3931, -7.3892, -7.4058, -7.4167, -6.7628, -7.0141, -7.1621, -6.9852, -7.166, -7.2653, -7.2831, -7.0626, -6.3782, -6.6893, -7.1442, -7.1443, -7.1443, -7.1444, -7.0617, -7.1444, -7.1445, -7.1472, -6.6943, -7.1485, -7.1443, -6.6929, -7.445, -7.1471, -7.1448, -7.1481, -7.1505, -7.1557, -6.7071, -7.1654, -7.1224, -7.9932, -7.9932, -7.9932, -7.9932, -7.9932, -7.9932, -7.9932, -7.1494, -7.1604, -7.1553, -7.6099, -7.6625, -7.2565, -7.2409, -7.3859, -7.5343, -7.5346, -7.5358, -7.5358, -7.5365, -7.5367, -7.5367, -7.5369, -7.537, -7.5371, -7.5373, -7.5663, -7.5701, -7.9797, -7.9797, -7.9797, -7.9797, -7.9797, -7.9797, -7.9797, -7.9797, -7.9797, -7.9797, -7.9797, -7.9797, -7.9797, -7.9797, -7.9797, -7.9797, -7.9797, -7.9797, -7.6923, -7.7236, -7.7104, -7.7658, -7.7926, -7.8528, -7.8509, -7.8581, -7.8336, -7.8738, -7.8817, -7.8825, -7.8842, -7.906, -7.9663, -7.9665, -7.9667, -7.9122, -7.8928, -7.9052, -7.9034, -7.8711, -7.8863], \"loglift\": [30.0, 29.0, 28.0, 27.0, 26.0, 25.0, 24.0, 23.0, 22.0, 21.0, 20.0, 19.0, 18.0, 17.0, 16.0, 15.0, 14.0, 13.0, 12.0, 11.0, 10.0, 9.0, 8.0, 7.0, 6.0, 5.0, 4.0, 3.0, 2.0, 1.0, 0.2093, 0.2069, 0.2063, 0.2038, 0.2034, 0.2034, 0.2033, 0.202, 0.2008, 0.2004, 0.2002, 0.2002, 0.1996, 0.1989, 0.1987, 0.1986, 0.1979, 0.1975, 0.1973, 0.1973, 0.197, 0.1969, 0.1968, 0.1967, 0.1964, 0.1946, 0.1945, 0.1944, 0.1938, 0.1919, 0.1908, 0.184, 0.1885, 0.1905, 0.1843, 0.1605, 0.182, 0.0951, 0.1759, 0.184, 0.0775, -0.0907, 2.5316, 2.2609, 2.0561, 2.0217, 1.9907, 1.9457, 1.9342, 1.8987, 1.8611, 1.8555, 1.8512, 1.8325, 1.8213, 1.8156, 1.8134, 1.8057, 1.8, 1.7823, 1.7729, 1.7709, 1.7614, 1.7533, 1.7506, 1.746, 1.7447, 1.7417, 1.7389, 1.7199, 1.7187, 1.7112, 1.6099, 1.5451, 1.2997, 1.553, 1.2823, 1.4037, 1.6896, 1.4688, 0.3759, 1.0361, 0.299, 0.495, 0.7233, 1.0347, 1.2462, 1.0929, 1.1001, 0.4956, 0.2558, -1.0989, -0.611, 0.1664, -2.1114, -0.1527, -1.6117, -1.5001, 2.6006, 2.3786, 2.3631, 2.3368, 2.3329, 2.2447, 2.2139, 2.1812, 2.1301, 2.1276, 2.1222, 2.1139, 2.1076, 2.1039, 2.0961, 2.088, 2.0567, 2.0429, 2.0287, 2.0285, 2.0238, 2.0222, 1.9979, 1.9937, 1.9879, 1.9837, 1.9519, 1.9519, 1.9518, 1.9509, 1.9426, 1.942, 1.9421, 1.836, 1.8974, 1.7013, 1.4527, 0.6896, 1.6146, 0.4481, 0.7139, 0.2388, 0.597, 1.102, 1.0604, 1.5459, -0.0377, -0.9074, -0.622, -0.0744, -2.328, 0.5192, 0.2518, -1.2903, -2.0068, 2.6465, 2.5038, 2.4279, 2.4019, 2.398, 2.394, 2.389, 2.3879, 2.3773, 2.377, 2.3644, 2.346, 2.332, 2.3111, 2.3048, 2.283, 2.2759, 2.2563, 2.2324, 2.2311, 2.2277, 2.2221, 2.2159, 2.182, 2.1353, 2.1305, 2.1152, 2.0855, 2.0786, 2.028, 2.0048, 1.8336, 1.7159, 1.3485, 1.4247, 1.7051, 0.79, 1.5646, 0.8539, -0.067, 2.51, 2.4774, 2.4688, 2.4032, 2.4032, 2.3992, 2.3654, 2.348, 2.3126, 2.2924, 2.1831, 2.1564, 2.1307, 2.1141, 2.0985, 2.0956, 2.0566, 2.0308, 2.0308, 2.0308, 2.0308, 2.028, 2.0277, 2.0277, 2.0277, 2.0277, 2.0277, 2.0277, 2.0277, 2.0276, 2.0275, 1.9677, 1.9802, 1.8444, 1.7596, 1.8532, 1.9584, 1.8071, 1.0873, 1.5741, 1.0703, 1.6133, 1.3963, 1.3314, 1.2438, 0.5747, -1.524, 1.0338, -0.125, -1.2132, 0.3986, -1.3642, -0.3719, -1.0209, 0.7404, 2.7571, 2.4977, 2.48, 2.4786, 2.4251, 2.3656, 2.3653, 2.3434, 2.2578, 2.1108, 2.1036, 2.1035, 2.1035, 2.1035, 2.1035, 2.1035, 2.1035, 2.1011, 2.101, 2.101, 2.1009, 2.0983, 2.0983, 2.0983, 2.0982, 2.0982, 2.0958, 2.0958, 2.0958, 2.0958, 1.6014, 1.867, 0.4082, 1.5755, 1.1461, 1.5712, 1.7011, 1.089, 0.9903, 0.7454, 0.562, -0.2422, 0.7947, -1.253, 0.3488, -0.2656, 0.9467, -0.205, 0.824, 0.5422, -1.4273, 2.5662, 2.4119, 2.2239, 2.1734, 2.1635, 2.1635, 2.1635, 2.1584, 2.1584, 2.1584, 2.1584, 2.1584, 2.1583, 2.1583, 2.1583, 2.1583, 2.1583, 2.0713, 2.0641, 1.9828, 1.9771, 1.9563, 1.9529, 1.8747, 1.8746, 1.8745, 1.8744, 1.8743, 1.874, 1.874, 1.8609, 1.8508, 1.8171, 1.8064, 1.8597, 1.5392, 1.3306, 1.7088, 0.8908, 0.4099, 1.5779, 1.6897, 2.301, 2.3007, 2.3005, 2.2782, 2.2166, 2.175, 2.1656, 1.9884, 1.9508, 1.9508, 1.9398, 1.9398, 1.9398, 1.9396, 1.9396, 1.9395, 1.9395, 1.9395, 1.9395, 1.9392, 1.8955, 1.8955, 1.847, 1.8348, 1.8128, 1.7881, 1.773, 1.7577, 1.6731, 1.5967, 1.5705, 1.5582, 0.8814, 0.1457, 0.8293, 0.5765, 0.6633, -3.4581, 2.6447, 2.6211, 2.1924, 2.1923, 2.1922, 2.1921, 2.1886, 2.0677, 2.0677, 2.0456, 2.0098, 1.9304, 1.9273, 1.8912, 1.8477, 1.8255, 1.7873, 1.7586, 1.739, 1.7385, 1.7117, 1.4953, 1.45, 1.3406, 1.3406, 1.3374, 1.3374, 1.3374, 1.3374, 1.3373, 1.2636, 1.1729, 0.8906, 1.0818, 0.9396, -0.0536, -0.11, -2.9389, -2.4583, 1.6992, 1.6973, 1.6973, 1.6962, 1.696, 1.696, 1.6957, 1.6954, 1.6954, 1.695, 1.5754, 1.4876, 1.3569, 1.3568, 1.3568, 1.3567, 1.3541, 1.3541, 1.3508, 1.3508, 1.3508, 1.3508, 1.3508, 1.3508, 1.3508, 1.3508, 1.3508, 1.3507, 1.3453, 1.3453, 1.2012, 1.0472, 0.9775, 0.9019, 0.7755, 0.3443, 0.3121, 0.2785, -0.2105, 0.0918, 0.0926, 0.0666, -0.0145, -0.2853, 1.0904, 1.0902, 1.0899, -0.3009, -1.8132, -1.3254, -1.4581, -3.4344, -2.9469]}, \"token.table\": {\"Topic\": [1, 1, 1, 1, 2, 3, 1, 4, 1, 2, 5, 1, 1, 3, 1, 1, 1, 3, 4, 1, 1, 3, 1, 2, 3, 1, 2, 3, 5, 1, 3, 1, 1, 1, 5, 1, 3, 1, 3, 1, 3, 1, 2, 3, 1, 1, 2, 3, 1, 1, 1, 1, 1, 1, 2, 3, 4, 1, 3, 1, 1, 1, 3, 1, 2, 3, 1, 2, 1, 2, 1, 2, 3, 1, 3, 1, 2, 3, 1, 3, 1, 3, 1, 1, 3, 1, 1, 3, 6, 1, 1, 3, 1, 2, 1, 1, 1, 1, 2, 3, 1, 2, 3, 1, 1, 3, 1, 2, 3, 1, 2, 3, 1, 1, 2, 1, 1, 2, 3, 4, 1, 2, 3, 1, 3, 1, 1, 1, 1, 2, 3, 1, 3, 1, 1, 1, 3, 1, 1, 2, 1, 1, 1, 1, 3, 1, 2, 1, 2, 3, 1, 1, 1, 2, 1, 3, 1, 2, 1, 2, 1, 1, 1, 2, 3, 1, 1, 1, 2, 1, 2, 3, 1, 1, 3, 1, 1, 3, 1, 3, 1, 1, 3, 1, 2, 1, 1, 3, 1, 2, 3, 1, 1, 2, 1, 1, 3, 1, 1, 3, 4, 1, 3, 1, 1, 1, 1, 2, 1, 1, 1, 1, 2, 3, 1, 1, 3, 4, 1, 1, 1, 1, 2, 1, 1, 5, 1, 2, 1, 2, 3, 1, 1, 1, 1, 1, 1, 1, 4, 1, 2, 3, 1, 2, 1, 2, 1, 2, 3, 1, 2, 1, 1, 2, 1, 1, 3, 1, 1, 2, 3, 5, 1, 2, 3, 4, 1, 2, 3, 1, 2, 1, 2, 1, 3, 1, 1, 2, 1, 1, 1, 1, 1, 1, 1, 1, 2, 1, 2, 1, 1, 2, 3, 1, 1, 2, 3, 1, 2, 1, 1, 1, 3, 5, 1, 1, 2, 3, 1, 3, 1, 1, 1, 2, 1, 1, 1, 1, 1, 2, 1, 1, 1, 1, 3, 1, 1, 2, 3, 4, 1, 1, 2, 5, 1, 5, 1, 1, 1, 2, 1, 1, 1, 1, 1, 2, 3, 1, 1, 1, 1, 1, 1, 1, 1, 1, 1, 3, 1, 1, 3, 1, 2, 3, 5, 1, 1, 1, 1, 2, 1, 1, 2, 1, 1, 2, 3, 5, 1, 2, 3, 1, 1, 2, 3, 1, 2, 1, 1, 2, 4, 1, 1, 2, 3, 1, 4, 1, 1, 2, 3, 1, 2, 3, 1, 1, 3, 1, 2, 1, 1, 2, 3, 1, 3, 1, 1, 1, 1, 1, 1, 3, 1, 3, 1, 3, 1, 1, 1, 3, 1, 1, 1, 2, 3, 1, 3, 1, 3, 1, 3, 1, 3, 1, 3, 4, 5, 1, 1, 1, 1, 2, 5, 1, 3, 1, 3, 1, 1, 2, 1, 1, 2, 1, 1, 2, 1, 1, 3, 1, 2, 4, 1, 3, 1, 2, 1, 1, 3, 4, 1, 2, 3, 1, 1, 1, 2, 1, 2, 1, 1, 3, 1, 1, 2, 1, 1, 1, 1, 2, 3, 1, 2, 1, 1, 3, 1, 2, 1, 3, 1, 1, 1, 1, 1, 3, 1, 3, 1, 2, 3, 1, 3, 1, 1, 2, 3, 4, 1, 1, 1, 1, 3, 1, 1, 2, 1, 1, 2, 1, 2, 3, 1, 1, 2, 3, 1, 3, 1, 1, 3, 1, 2, 1, 2, 1, 1, 2, 3, 1, 3, 1, 1, 1, 1, 1, 1, 3, 1, 3, 1, 2, 3, 1, 2, 3, 5, 1, 1, 1, 3, 5, 1, 2, 1, 1, 1, 1, 1, 1, 2, 1, 3, 1, 2, 3, 1, 3, 1, 2, 3, 1, 2, 3, 1, 2, 1, 1, 3, 1, 2, 3, 1, 2, 3, 1, 1, 1, 2, 1, 2, 3, 1, 1, 1, 2, 3, 1, 2, 3, 1, 2, 3, 1, 2, 3, 5, 1, 2, 1, 2, 3, 1, 2, 1, 2, 3, 1, 2, 3, 1, 1, 3, 1, 2, 1, 1, 1, 2, 3, 4, 5, 1, 2, 1, 2, 1, 1, 1, 2, 3, 1, 3, 1, 2, 3, 1, 1, 5, 1, 3, 1, 2, 3, 5], \"Freq\": [0.4707282704897249, 0.5653225418762844, 0.4828312200387981, 0.9853331517259669, 0.00806328274734834, 0.004837969648409003, 0.8998697414835269, 0.0642764101059662, 0.980761647648318, 0.007722532658648173, 0.007722532658648173, 0.8034859161126299, 0.2985570184016559, 0.2985570184016559, 0.43704878638325984, 0.4485915063380468, 0.26516199994296935, 0.26516199994296935, 0.26516199994296935, 0.4196829947243069, 0.36413039711329187, 0.36413039711329187, 0.9106089514480166, 0.06070726342986777, 0.02023575447662259, 0.932048741930434, 0.027413198292071585, 0.027413198292071585, 0.027413198292071585, 0.24930783267429665, 0.4986156653485933, 0.44908892740779044, 0.9862186799212813, 0.6737309543000024, 0.1684327385750006, 0.5627749458480387, 0.22510997833921545, 0.3674230297111165, 0.3674230297111165, 0.2913464595421737, 0.2913464595421737, 0.29923734842291805, 0.29923734842291805, 0.29923734842291805, 0.4840212555188217, 0.25258057218629615, 0.25258057218629615, 0.5051611443725923, 0.9888633709694652, 0.49469855707438154, 0.47075480001172876, 0.4340411461332031, 0.49077325094689705, 0.2961969156999665, 0.2961969156999665, 0.2961969156999665, 0.2961969156999665, 0.520339843929675, 0.2601699219648375, 0.8865293867081678, 0.45656691071978983, 0.3675854758560383, 0.3675854758560383, 0.6901276124426766, 0.07668084582696406, 0.15336169165392813, 0.3152640971474083, 0.3152640971474083, 0.332611929206991, 0.332611929206991, 0.8255426137082207, 0.02663040689381357, 0.10652162757525428, 0.367409386599778, 0.367409386599778, 0.9822305108459298, 0.007413060459214565, 0.007413060459214565, 0.9068550437170773, 0.07112588578173154, 0.3783153723014132, 0.3783153723014132, 0.44859527022848233, 0.7495891180515163, 0.14991782361030326, 0.4827749995276549, 0.9089164393496061, 0.04131438360680028, 0.02065719180340014, 0.4653614466778428, 0.40588887338278806, 0.40588887338278806, 0.3601705465050756, 0.3601705465050756, 0.4828263156788271, 0.9865584026098881, 0.7163555174841185, 0.7695890985986014, 0.15391781971972027, 0.15391781971972027, 0.1253416435080383, 0.8460560936792586, 0.01566770543850479, 0.7385571941630147, 0.9198597030051509, 0.05749123143782193, 0.9890754288124999, 0.0035198413836743767, 0.007039682767348753, 0.8789691382178989, 0.09252306718083146, 0.023130766795207865, 0.4848171205857822, 0.38465454077720185, 0.38465454077720185, 0.448785673494986, 0.12822858514931706, 0.12822858514931706, 0.5129143405972683, 0.12822858514931706, 0.9723433883626469, 0.00892058154461144, 0.01784116308922288, 0.25764670620745767, 0.5152934124149153, 0.7796623904449964, 0.4364478336691381, 0.4828228592393509, 0.29109100756932305, 0.29109100756932305, 0.29109100756932305, 0.6697753227050142, 0.11162922045083569, 0.4822264335738386, 0.47074104434299935, 0.1884721835528097, 0.5654165506584291, 0.4831171213168234, 0.46355145583417257, 0.23177572791708628, 0.49077376571204145, 0.4834945410895904, 0.4484722987943057, 0.9793759235797592, 0.011322265012482765, 0.3680905260202416, 0.3680905260202416, 0.9693973905134183, 0.0070246187718363655, 0.021073856315509096, 0.6395150533429977, 0.4484945893658175, 0.7809413167004323, 0.20825101778678196, 0.2402023168946815, 0.480404633789363, 0.6621209932717349, 0.16553024831793373, 0.416933236251584, 0.416933236251584, 0.639066063909827, 0.4485422331788321, 0.678896817509672, 0.056574734792472665, 0.22629893916989066, 0.7035841570672453, 0.4705562546630287, 0.7324409492984436, 0.16276465539965412, 0.8839317804731017, 0.0969473565680176, 0.011405571360943247, 0.4522311629794694, 0.1305867250619966, 0.7835203503719794, 0.45224571368208427, 0.3637157647102827, 0.3637157647102827, 0.43943354434686493, 0.43943354434686493, 0.435152857152939, 0.23327596312260818, 0.6998278893678246, 0.33486391934252074, 0.33486391934252074, 0.8364367360067144, 0.9828168304257865, 0.009927442731573602, 0.32376935013154323, 0.32376935013154323, 0.32376935013154323, 0.4293595541717901, 0.9392636730122581, 0.027625402147419355, 0.7834700904426587, 0.875846530068738, 0.08341395524464172, 0.8571518619545306, 0.3111718856562396, 0.3111718856562396, 0.3111718856562396, 0.29901877766856994, 0.5980375553371399, 0.47032059606115784, 0.9330076164605456, 0.48305388654526654, 0.8676040656833376, 0.12394343795476252, 0.6924176352102179, 0.4707322453782239, 0.4711196532949844, 0.8886919873120324, 0.0317389995468583, 0.0634779990937166, 0.48283028864676936, 0.3621148636276913, 0.18105743181384565, 0.18105743181384565, 0.48313709354846657, 0.4095955762722452, 0.4912200800121738, 0.33823986571699743, 0.33823986571699743, 0.4522606979446915, 0.9090899419298573, 0.05347587893705043, 0.26564446832667926, 0.5312889366533585, 0.30066469662881834, 0.30066469662881834, 0.30066469662881834, 0.48223978455881505, 0.48402111743342274, 0.4946765953931861, 0.43704702220003205, 0.4840220544057709, 0.44843026235028605, 0.31464981351936266, 0.31464981351936266, 0.49441995738302014, 0.4045254196770165, 0.08989453770600365, 0.3353002468851985, 0.3353002468851985, 0.4311656118467212, 0.4311656118467212, 0.45498399245010385, 0.5249815297501198, 0.03499876865000799, 0.9724951120409118, 0.02235620947220487, 0.43515572061771024, 0.34856141360114923, 0.34856141360114923, 0.4225718840572412, 0.37198459016302404, 0.37198459016302404, 0.44704536343765355, 0.36500402841694907, 0.18250201420847453, 0.18250201420847453, 0.18250201420847453, 0.1369007644261431, 0.2738015288522862, 0.2738015288522862, 0.1369007644261431, 0.25673322438145113, 0.25673322438145113, 0.5134664487629023, 0.740321213955904, 0.24677373798530133, 0.3399076869572402, 0.3399076869572402, 0.3106468347124618, 0.3106468347124618, 0.49077254005178056, 0.3444435820161453, 0.3444435820161453, 0.4834779670603622, 0.42931967531057125, 0.4331525378956679, 0.3993151689726996, 0.42612562350863703, 0.49764679879138773, 0.40992979799895707, 0.6213754816746743, 0.33458679782482464, 0.4076862179215835, 0.4076862179215835, 0.624534252378362, 0.8675636113892754, 0.007886941921720686, 0.1104171869040896, 0.45660716495906856, 0.9608607901536806, 0.010796188653412142, 0.021592377306824284, 0.4902337805932197, 0.4902337805932197, 0.717949796697515, 0.7205005309886676, 0.3459398817091122, 0.3459398817091122, 0.3459398817091122, 0.4976872572853653, 0.303206051945404, 0.303206051945404, 0.303206051945404, 0.4119992602865277, 0.4119992602865277, 0.49077076490425064, 0.43104508213589915, 0.34022317695115223, 0.34022317695115223, 0.48402014037582125, 0.4907716076124549, 0.4420172838114692, 0.4711196850593627, 0.28810418259681936, 0.5762083651936387, 0.421684559606751, 0.6756416887688571, 0.4308868508405495, 0.409421773292095, 0.409421773292095, 0.49196876856363453, 0.7336458328454277, 0.10480654754934682, 0.10480654754934682, 0.10480654754934682, 0.7647434634050775, 0.24856248747914927, 0.49712497495829855, 0.24856248747914927, 0.5980678496148215, 0.29903392480741076, 0.497720942603034, 0.4312363154235908, 0.26362739760032206, 0.26362739760032206, 0.9817665256207534, 0.4707471304533147, 0.4493262348368326, 0.4907734266502095, 0.9940863511522958, 0.002738529892981531, 0.002738529892981531, 0.982338010833472, 0.4835272647789208, 0.43256336233900405, 0.49465763260905954, 0.4946948074791046, 0.4322472951470294, 0.4946731646067921, 0.4946747397512282, 0.4840212266845041, 0.4394552529977358, 0.4394552529977358, 0.4822879197078088, 0.29617314759976465, 0.29617314759976465, 0.22913277361622866, 0.22913277361622866, 0.22913277361622866, 0.22913277361622866, 0.43359799960744316, 0.48402114082402214, 0.48226031833759525, 0.3613573173195317, 0.3613573173195317, 0.4907726015861275, 0.3588116049379845, 0.3588116049379845, 0.3800285302649439, 0.9475761255784971, 0.03790304502313989, 0.007580609004627977, 0.007580609004627977, 0.308005448461465, 0.308005448461465, 0.308005448461465, 0.42590494204692714, 0.8660488308867609, 0.11022439665831503, 0.01574634237975929, 0.33212985158602243, 0.33212985158602243, 0.4822397120371471, 0.350716809710049, 0.350716809710049, 0.350716809710049, 0.45220723149666925, 0.12374938749169567, 0.24749877498339135, 0.6187469374584783, 0.29987500649893223, 0.29987500649893223, 0.44519537848211593, 0.9858185856374769, 0.005974658094772588, 0.005974658094772588, 0.3550104480717269, 0.17750522403586344, 0.3550104480717269, 0.4919688699082894, 0.7809808064137602, 0.1301634677356267, 0.9764751398055902, 0.013753170983177328, 0.892093519759482, 0.5901460782033555, 0.3793796217021571, 0.014051097100079893, 0.9414056802039482, 0.023535142005098705, 0.7523353532817513, 0.8394096064869646, 0.4963111713419629, 0.42594811778841557, 0.49077069609674645, 0.2855454115618214, 0.5710908231236428, 0.3674164549636715, 0.3674164549636715, 0.27322008038193046, 0.5464401607638609, 0.40280495001054845, 0.4486307845654528, 0.38185253064677405, 0.38185253064677405, 0.48350652929749444, 0.4907709172334092, 0.8988546040639055, 0.014044603188498523, 0.08426761913099115, 0.3122681641061231, 0.3122681641061231, 0.9870644137588918, 0.008973312852353562, 0.4117127477707306, 0.4117127477707306, 0.9862495797901374, 0.011741066426073064, 0.40010814846954296, 0.3200865187756344, 0.0800216296939086, 0.0800216296939086, 0.8110342452749862, 0.4907702852038674, 0.48310675924781127, 0.9279273568384584, 0.024419140969433116, 0.024419140969433116, 0.28565835025263336, 0.5713167005052667, 0.41413539930142196, 0.552180532401896, 0.8970187915884831, 0.7840385183254213, 0.18093196576740492, 0.8699185962765464, 0.984527680677082, 0.008712634342275061, 0.45673869042553683, 0.8775628173029922, 0.1253661167575703, 0.7668235826239431, 0.9840180156037918, 0.009742752629740512, 0.3081315275589661, 0.3081315275589661, 0.3081315275589661, 0.44819761649788886, 0.44819761649788886, 0.7250426356418684, 0.1812606589104671, 0.46966221195965674, 0.22069125390653752, 0.22069125390653752, 0.22069125390653752, 0.5063907127442399, 0.25319535637211993, 0.25319535637211993, 0.7374834807717117, 0.4822398387598856, 0.39987708861993143, 0.39987708861993143, 0.31389433905106306, 0.31389433905106306, 0.657649417230525, 0.32169641837861584, 0.32169641837861584, 0.9855526406166812, 0.6665930466966782, 0.29626357630963474, 0.4518192494354942, 0.37963355260351483, 0.4561522067741243, 0.9679018865534147, 0.02037688182217715, 0.010188440911088574, 0.7041270192575083, 0.20117914835928807, 0.8637893736446459, 0.782188521929108, 0.14221609489620146, 0.21564526806503787, 0.6469358041951135, 0.9816424804933663, 0.01012002557209656, 0.47074076868950643, 0.7613092826837441, 0.9767645908091178, 0.4830909841533434, 0.8612732334657202, 0.09569702594063557, 0.6365814485849419, 0.31829072429247096, 0.581956547307509, 0.14548913682687725, 0.2909782736537545, 0.3612846121253563, 0.3612846121253563, 0.4285245083265937, 0.19762333102945912, 0.39524666205891823, 0.19762333102945912, 0.19762333102945912, 0.4707405972284363, 0.9910409420188965, 0.4946746521564828, 0.8956797314945135, 0.057785789128678294, 0.8867676476979353, 0.618249307130045, 0.3091246535650225, 0.7239265372755546, 0.41174098861866926, 0.41174098861866926, 0.986897086858121, 0.006206899917346673, 0.006206899917346673, 0.3765818098221569, 0.988036000361854, 0.0031266962036767534, 0.006253392407353507, 0.3428290785730711, 0.3428290785730711, 0.4946871419831191, 0.35864539755972763, 0.35864539755972763, 0.8474333105847276, 0.1412388850974546, 0.8194928499124492, 0.13658214165207486, 0.8382334633008658, 0.902434039896884, 0.034709001534495534, 0.034709001534495534, 0.3315861958268304, 0.3315861958268304, 0.7523408475273113, 0.8714134866066252, 0.7649093773088645, 0.9915266303404592, 0.4534693286422477, 0.3138591192495108, 0.3138591192495108, 0.948034280047128, 0.031601142668237596, 0.5963172596125824, 0.19877241987086083, 0.19877241987086083, 0.20754503198963664, 0.20754503198963664, 0.20754503198963664, 0.20754503198963664, 0.49196895522962114, 0.471119636602487, 0.20765077953291614, 0.41530155906583227, 0.20765077953291614, 0.34917857335166747, 0.34917857335166747, 0.4762999085502001, 0.4947009129493166, 0.5083188731413265, 0.49631128025453547, 0.7523300006717455, 0.3683547021722273, 0.3683547021722273, 0.4364129680196374, 0.4364129680196374, 0.9743785386193193, 0.006128166909555467, 0.012256333819110935, 0.3458317850295648, 0.3458317850295648, 0.9503936096449549, 0.010799927382329032, 0.0323997821469871, 0.9773684757138622, 0.009973147711365942, 0.009973147711365942, 0.8945110959810164, 0.06389364971292974, 0.4487798119957523, 0.540521184781714, 0.270260592390857, 0.9830993374352505, 0.015360927147425789, 0.003840231786856447, 0.3008417508385105, 0.3008417508385105, 0.3008417508385105, 0.48302926508559757, 0.4976776483800472, 0.399621824849396, 0.399621824849396, 0.25165427875713514, 0.5033085575142703, 0.25165427875713514, 0.48402050859348633, 0.447378210932747, 0.3212566800813414, 0.1606283400406707, 0.4818850201220121, 0.7580053992302088, 0.1263342332050348, 0.1263342332050348, 0.7355413399617153, 0.2451804466539051, 0.012904234034416057, 0.9699862305964495, 0.02247072348872084, 0.003745120581453473, 0.003745120581453473, 0.34787845717020965, 0.34787845717020965, 0.9748919876874443, 0.014696864135991623, 0.004898954711997208, 0.7962897013472923, 0.15925794026945844, 0.8489649942375854, 0.07276842807750733, 0.048512285385004884, 0.5852514994878342, 0.35115089969270047, 0.05852514994878341, 0.4711197643859376, 0.9787031908705337, 0.012233789885881672, 0.34940963808823056, 0.34940963808823056, 0.4822398241533969, 0.9754472201978165, 0.35358947720688794, 0.11786315906896264, 0.35358947720688794, 0.11786315906896264, 0.05893157953448132, 0.9730391515044005, 0.013704776781752118, 0.9699645787509339, 0.013661472940153999, 0.4830977677785368, 0.49467907328563393, 0.8966411539657784, 0.09067157736732591, 0.010074619707480656, 0.8949069193011927, 0.08949069193011927, 0.2644196680751295, 0.2644196680751295, 0.2644196680751295, 0.47076841673277475, 0.47002971180791114, 0.23501485590395557, 0.3074637200496016, 0.3074637200496016, 0.32900886452636996, 0.10966962150878999, 0.43867848603515996, 0.054834810754394996], \"Term\": [\"abot\", \"abroad\", \"accommodate\", \"account\", \"account\", \"account\", \"acct\", \"acct\", \"add\", \"add\", \"add\", \"advise\", \"agad\", \"agad\", \"ahold\", \"air\", \"akong\", \"akong\", \"akong\", \"alam\", \"anong\", \"anong\", \"anymore\", \"anymore\", \"anymore\", \"app\", \"app\", \"app\", \"app\", \"araw\", \"araw\", \"argue\", \"ask\", \"atm\", \"atm\", \"auto\", \"auto\", \"autofill\", \"autofill\", \"automatic\", \"automatic\", \"ayaw\", \"ayaw\", \"ayaw\", \"ayoko\", \"ayos\", \"ayos\", \"ayos\", \"bad\", \"bagong\", \"balak\", \"banko\", \"basta\", \"bat\", \"bat\", \"bat\", \"bat\", \"believe\", \"believe\", \"billing\", \"bir\", \"brand\", \"brand\", \"bring\", \"bring\", \"bring\", \"buffer\", \"buffer\", \"buwan\", \"buwan\", \"buy\", \"buy\", \"buy\", \"bwesit\", \"bwesit\", \"card\", \"card\", \"card\", \"cash\", \"cash\", \"cheap\", \"cheap\", \"citizen\", \"claim\", \"claim\", \"clicking\", \"code\", \"code\", \"code\", \"comeon\", \"common\", \"common\", \"compatible\", \"compatible\", \"confidence\", \"contact\", \"couple\", \"coz\", \"coz\", \"coz\", \"crash\", \"crash\", \"crash\", \"credential\", \"credit\", \"credit\", \"customer\", \"customer\", \"customer\", \"d\", \"d\", \"d\", \"dali\", \"dati\", \"dati\", \"daughter\", \"daw\", \"daw\", \"daw\", \"daw\", \"day\", \"day\", \"day\", \"debit_adjustment\", \"debit_adjustment\", \"delay\", \"detect\", \"deteriorate\", \"dev\", \"dev\", \"dev\", \"developer\", \"developer\", \"diko\", \"dinasana\", \"disbursement_faile\", \"disbursement_faile\", \"donation\", \"dropdown\", \"dropdown\", \"dto\", \"dumadate\", \"ecq\", \"email\", \"email\", \"employee\", \"employee\", \"error\", \"error\", \"error\", \"evaluation\", \"eversince\", \"everytime\", \"everytime\", \"exit\", \"exit\", \"face\", \"face\", \"faceid\", \"faceid\", \"fault\", \"fear\", \"fee\", \"fee\", \"fee\", \"field\", \"final\", \"fine\", \"fine\", \"fix\", \"fix\", \"fix\", \"fvckng\", \"gaming\", \"gaming\", \"gamit\", \"gamitin\", \"gamitin\", \"gana\", \"gana\", \"ganito\", \"garena\", \"garena\", \"gawin\", \"gawin\", \"generate\", \"get\", \"get\", \"ginagamit\", \"ginagamit\", \"ginagamit\", \"ginamit\", \"give\", \"give\", \"giving\", \"globe\", \"globe\", \"grab\", \"grabe\", \"grabe\", \"grabe\", \"greedy\", \"greedy\", \"gumamit\", \"guy\", \"guysss\", \"hack\", \"hack\", \"hacker\", \"hangang\", \"hapon\", \"hassle\", \"hassle\", \"hassle\", \"hide\", \"hirap\", \"hirap\", \"hirap\", \"hoax\", \"honor\", \"hopefully\", \"hustle\", \"hustle\", \"ichachange\", \"id\", \"id\", \"ilang\", \"ilang\", \"implement\", \"implement\", \"implement\", \"ina\", \"inaaply\", \"inaayos\", \"inconsistent\", \"incosistent\", \"introduce\", \"inyo\", \"inyo\", \"io\", \"io\", \"io\", \"ip\", \"ip\", \"ipad\", \"ipad\", \"iphone\", \"iphone\", \"iphone\", \"issue\", \"issue\", \"kaagad\", \"kailangang\", \"kailangang\", \"kakaini\", \"kanina\", \"kanina\", \"kase\", \"kasi\", \"kasi\", \"kasi\", \"kasi\", \"kayo\", \"kayo\", \"kayo\", \"kayo\", \"kayong\", \"kayong\", \"kayong\", \"keep\", \"keep\", \"kelan\", \"kelan\", \"kelangan\", \"kelangan\", \"kilala\", \"kiosk\", \"kiosk\", \"knila\", \"kona\", \"kos\", \"lagi\", \"laki\", \"laking\", \"lalo\", \"late\", \"late\", \"launch\", \"launch\", \"light\", \"load\", \"load\", \"load\", \"location\", \"log\", \"log\", \"log\", \"logo\", \"logo\", \"loss\", \"loyal\", \"ma\", \"ma\", \"ma\", \"maaksyunan\", \"maayos\", \"maayos\", \"maayos\", \"mababawi\", \"mababawi\", \"madali\", \"magamit\", \"maganda\", \"maganda\", \"mageemail\", \"magpadala\", \"magreply\", \"magsara\", \"mahal\", \"mahal\", \"mahigit\", \"maintain\", \"makabwesit\", \"makakuha\", \"makakuha\", \"makapagupgrade\", \"man\", \"man\", \"man\", \"man\", \"march\", \"mas\", \"mas\", \"mas\", \"master\", \"master\", \"matutuwa\", \"mawala\", \"max\", \"max\", \"message\", \"messnger\", \"minimum\", \"mkikita\", \"money\", \"money\", \"money\", \"month\", \"nababawasan\", \"nabawasan\", \"naduplicate\", \"nagamit\", \"nagbayad\", \"nagkamali\", \"nagsasabe\", \"nakakadala\", \"nakakawalang\", \"nakakawalang\", \"nakapag\", \"nako\", \"nako\", \"nalang\", \"nalang\", \"nalang\", \"nalang\", \"nanakaw\", \"nangyari\", \"nareceive\", \"nasa\", \"nasa\", \"nascam\", \"nationality\", \"nationality\", \"nawala\", \"need\", \"need\", \"need\", \"need\", \"negosyo\", \"negosyo\", \"negosyo\", \"nerve\", \"new\", \"new\", \"new\", \"ngayong\", \"ngayong\", \"ninakaw\", \"ninyo\", \"ninyo\", \"ninyo\", \"nio\", \"niyo\", \"niyo\", \"niyo\", \"nmn\", \"nmn\", \"num\", \"number\", \"number\", \"number\", \"nung\", \"nung\", \"nung\", \"nyong\", \"offline\", \"offline\", \"online\", \"online\", \"online_banke\", \"open\", \"open\", \"open\", \"option\", \"option\", \"othen\", \"otp\", \"overlook\", \"owe\", \"pagssendan\", \"paki\", \"paki\", \"pako\", \"pako\", \"pala\", \"pala\", \"pangalan\", \"pangilinan\", \"pano\", \"pano\", \"papa\", \"papadalhan\", \"password\", \"password\", \"password\", \"paste\", \"paste\", \"pay\", \"pay\", \"payama\", \"payama\", \"payment\", \"payment\", \"pera\", \"pera\", \"pera\", \"pera\", \"person\", \"petsa\", \"phish\", \"php\", \"php\", \"php\", \"piece\", \"piece\", \"pin\", \"pin\", \"pldt\", \"pls\", \"pls\", \"point\", \"poor\", \"poor\", \"pos\", \"possible\", \"possible\", \"primary\", \"problem\", \"problem\", \"problema\", \"problema\", \"problema\", \"promo\", \"promo\", \"promos\", \"promos\", \"pugad\", \"pumasok\", \"pumasok\", \"pumasok\", \"puro\", \"puro\", \"puro\", \"put\", \"putang\", \"putangina\", \"putangina\", \"pwede\", \"pwede\", \"qr\", \"razer\", \"razer\", \"receive\", \"recent\", \"recent\", \"recognition\", \"ref\", \"regardless\", \"register\", \"register\", \"register\", \"reinstall\", \"reinstall\", \"reload\", \"remove\", \"remove\", \"replika\", \"replika\", \"reply\", \"reply\", \"rereply\", \"resend\", \"response\", \"revalidation\", \"review\", \"review\", \"ruin\", \"ruin\", \"sad\", \"sad\", \"sad\", \"sainyo\", \"sainyo\", \"samantalang\", \"sana\", \"sana\", \"sana\", \"sana\", \"sanang\", \"say\", \"sayo\", \"scam\", \"scam\", \"scammer\", \"screen\", \"screen\", \"secondary\", \"selection\", \"selection\", \"send\", \"send\", \"send\", \"senior\", \"service\", \"service\", \"service\", \"silang\", \"silang\", \"sinusubukan\", \"smartpadala\", \"smartpadala\", \"soon\", \"soon\", \"sorry\", \"sorry\", \"sss\", \"star\", \"star\", \"star\", \"strategy\", \"strategy\", \"study\", \"stupid\", \"suggest\", \"support\", \"suspend\", \"sya\", \"sya\", \"system\", \"system\", \"tagal\", \"tagal\", \"tagal\", \"talaga\", \"talaga\", \"talaga\", \"talaga\", \"tangina\", \"tanginaa\", \"tapos\", \"tapos\", \"tapos\", \"tawag\", \"tawag\", \"taxis\", \"temporary\", \"test\", \"tester\", \"thay\", \"throw\", \"throw\", \"thumb\", \"thumb\", \"time\", \"time\", \"time\", \"tong\", \"tong\", \"transaction\", \"transaction\", \"transaction\", \"transfer\", \"transfer\", \"transfer\", \"trash\", \"trash\", \"travel\", \"trustworthy\", \"trustworthy\", \"try\", \"try\", \"try\", \"tsk\", \"tsk\", \"tsk\", \"tthe\", \"tulong\", \"tutulungan\", \"tutulungan\", \"ulit\", \"ulit\", \"ulit\", \"umasa\", \"unbelievable\", \"ung\", \"ung\", \"ung\", \"uninstalled\", \"uninstalled\", \"uninstalled\", \"update\", \"update\", \"update\", \"upgrade\", \"upgrade\", \"upgrade\", \"upgrade\", \"upper\", \"upper\", \"use\", \"use\", \"use\", \"useful\", \"useful\", \"user\", \"user\", \"user\", \"version\", \"version\", \"version\", \"veverify\", \"virtual\", \"virtual\", \"wag\", \"wag\", \"waiit\", \"wait\", \"wala\", \"wala\", \"wala\", \"wala\", \"wala\", \"want\", \"want\", \"week\", \"week\", \"wire\", \"wla\", \"work\", \"work\", \"work\", \"write\", \"write\", \"yan\", \"yan\", \"yan\", \"yare\", \"yong\", \"yong\", \"yun\", \"yun\", \"yung\", \"yung\", \"yung\", \"yung\"]}, \"R\": 30, \"lambda.step\": 0.01, \"plot.opts\": {\"xlab\": \"PC1\", \"ylab\": \"PC2\"}, \"topic.order\": [1, 3, 2, 6, 4, 5, 8, 7, 9, 10]};\n",
       "\n",
       "function LDAvis_load_lib(url, callback){\n",
       "  var s = document.createElement('script');\n",
       "  s.src = url;\n",
       "  s.async = true;\n",
       "  s.onreadystatechange = s.onload = callback;\n",
       "  s.onerror = function(){console.warn(\"failed to load library \" + url);};\n",
       "  document.getElementsByTagName(\"head\")[0].appendChild(s);\n",
       "}\n",
       "\n",
       "if(typeof(LDAvis) !== \"undefined\"){\n",
       "   // already loaded: just create the visualization\n",
       "   !function(LDAvis){\n",
       "       new LDAvis(\"#\" + \"ldavis_el2175224880413240968646513207\", ldavis_el2175224880413240968646513207_data);\n",
       "   }(LDAvis);\n",
       "}else if(typeof define === \"function\" && define.amd){\n",
       "   // require.js is available: use it to load d3/LDAvis\n",
       "   require.config({paths: {d3: \"https://d3js.org/d3.v5\"}});\n",
       "   require([\"d3\"], function(d3){\n",
       "      window.d3 = d3;\n",
       "      LDAvis_load_lib(\"https://cdn.jsdelivr.net/gh/bmabey/pyLDAvis@3.3.1/pyLDAvis/js/ldavis.v3.0.0.js\", function(){\n",
       "        new LDAvis(\"#\" + \"ldavis_el2175224880413240968646513207\", ldavis_el2175224880413240968646513207_data);\n",
       "      });\n",
       "    });\n",
       "}else{\n",
       "    // require.js not available: dynamically load d3 & LDAvis\n",
       "    LDAvis_load_lib(\"https://d3js.org/d3.v5.js\", function(){\n",
       "         LDAvis_load_lib(\"https://cdn.jsdelivr.net/gh/bmabey/pyLDAvis@3.3.1/pyLDAvis/js/ldavis.v3.0.0.js\", function(){\n",
       "                 new LDAvis(\"#\" + \"ldavis_el2175224880413240968646513207\", ldavis_el2175224880413240968646513207_data);\n",
       "            })\n",
       "         });\n",
       "}\n",
       "</script>"
      ],
      "text/plain": [
       "PreparedData(topic_coordinates=              x         y  topics  cluster       Freq\n",
       "topic                                                \n",
       "0      0.211783  0.005646       1        1  80.596405\n",
       "2      0.007178 -0.059784       2        1   6.737904\n",
       "1     -0.001314  0.030495       3        1   5.522738\n",
       "5     -0.038253  0.006652       4        1   1.905426\n",
       "3     -0.025286  0.005184       5        1   1.847879\n",
       "4     -0.026156  0.006659       6        1   1.203627\n",
       "7     -0.033623  0.002531       7        1   0.767315\n",
       "6     -0.030169  0.001097       8        1   0.646310\n",
       "8     -0.032604  0.000672       9        1   0.460282\n",
       "9     -0.031557  0.000849      10        1   0.312115, topic_info=       Term        Freq       Total Category  logprob  loglift\n",
       "47   update  154.000000  154.000000  Default  30.0000  30.0000\n",
       "323   crash   63.000000   63.000000  Default  29.0000  29.0000\n",
       "328    load  126.000000  126.000000  Default  28.0000  28.0000\n",
       "179     fix  175.000000  175.000000  Default  27.0000  27.0000\n",
       "80     open   71.000000   71.000000  Default  26.0000  26.0000\n",
       "..      ...         ...         ...      ...      ...      ...\n",
       "253  credit    0.026569   52.181871  Topic10  -7.8928  -1.8132\n",
       "44   system    0.026242   31.644425  Topic10  -7.9052  -1.3254\n",
       "181    give    0.026289   36.198568  Topic10  -7.9034  -1.4581\n",
       "53     card    0.027153  269.794103  Topic10  -7.8711  -3.4344\n",
       "93     time    0.026741  163.180934  Topic10  -7.8863  -2.9469\n",
       "\n",
       "[501 rows x 6 columns], token_table=      Topic      Freq         Term\n",
       "term                              \n",
       "2618      1  0.470728         abot\n",
       "240       1  0.565323       abroad\n",
       "2663      1  0.482831  accommodate\n",
       "1         1  0.985333      account\n",
       "1         2  0.008063      account\n",
       "...     ...       ...          ...\n",
       "752       3  0.307464          yun\n",
       "612       1  0.329009         yung\n",
       "612       2  0.109670         yung\n",
       "612       3  0.438678         yung\n",
       "612       5  0.054835         yung\n",
       "\n",
       "[685 rows x 3 columns], R=30, lambda_step=0.01, plot_opts={'xlab': 'PC1', 'ylab': 'PC2'}, topic_order=[1, 3, 2, 6, 4, 5, 8, 7, 9, 10])"
      ]
     },
     "execution_count": 62,
     "metadata": {},
     "output_type": "execute_result"
    }
   ],
   "source": [
    "# Visualize the topics\n",
    "pyLDAvis.enable_notebook()\n",
    "LDAvis_prepared = gensimvis.prepare(final_lda1, corpus1, id2word1)\n",
    "LDAvis_prepared"
   ]
  },
  {
   "cell_type": "markdown",
   "id": "c32c85c6-04fb-43a2-8019-07302ea8514a",
   "metadata": {},
   "source": [
    "NOTE: Can be reduced to only 4 topics"
   ]
  },
  {
   "cell_type": "markdown",
   "id": "99e49800-941a-4449-8d52-f49affe39ea0",
   "metadata": {},
   "source": [
    "---\n",
    "### B. PayMaya 5-Star Reviews\n",
    "This part will aim to create a topic model for the PayMaya reviews having 5-star ratings. <br>"
   ]
  },
  {
   "cell_type": "code",
   "execution_count": 63,
   "id": "1395bcc9-71f4-4320-9879-1f8f4b7b1e93",
   "metadata": {},
   "outputs": [
    {
     "name": "stdout",
     "output_type": "stream",
     "text": [
      "['very', 'bad', 'service', 'have', 'been', 'contacting', 'them', 'about', 'payment', 'made', 'via', 'this', 'app', 'because', 'such', 'payment', 'did', 'not', 'reach', 'the', 'biller', 'it', 'has', 'been', 'two', 'weeks', 'since', 'the', 'payment', 'was']\n"
     ]
    },
    {
     "name": "stderr",
     "output_type": "stream",
     "text": [
      "D:\\Anaconda3\\envs\\project-env-2\\lib\\site-packages\\ipykernel\\ipkernel.py:287: DeprecationWarning: `should_run_async` will not call `transform_cell` automatically in the future. Please pass the result to `transformed_cell` argument and any exception that happen during thetransform in `preprocessing_exc_tuple` in IPython 7.17 and above.\n",
      "  and should_run_async(code)\n"
     ]
    }
   ],
   "source": [
    "def sent_to_words(sentences):\n",
    "    for sentence in sentences:\n",
    "        yield(gensim.utils.simple_preprocess(str(sentence)))\n",
    "\n",
    "data = paymaya_rating5.title_review.values.tolist()\n",
    "data_words = list(sent_to_words(data))\n",
    "print(data_words[:1][0][:30])"
   ]
  },
  {
   "cell_type": "markdown",
   "id": "6665f7dd-6224-4a0c-9735-007159fc9dbf",
   "metadata": {},
   "source": [
    "### Phrase Modeling: Bigram Model"
   ]
  },
  {
   "cell_type": "code",
   "execution_count": 64,
   "id": "4d3bce5e-bd6e-4002-b060-80ed49e601a0",
   "metadata": {
    "tags": []
   },
   "outputs": [
    {
     "name": "stderr",
     "output_type": "stream",
     "text": [
      "D:\\Anaconda3\\envs\\project-env-2\\lib\\site-packages\\ipykernel\\ipkernel.py:287: DeprecationWarning: `should_run_async` will not call `transform_cell` automatically in the future. Please pass the result to `transformed_cell` argument and any exception that happen during thetransform in `preprocessing_exc_tuple` in IPython 7.17 and above.\n",
      "  and should_run_async(code)\n"
     ]
    }
   ],
   "source": [
    "# Build the bigram model\n",
    "bigram = gensim.models.Phrases(data_words, min_count=5, threshold=100) # higher threshold fewer phrases.\n",
    "\n",
    "# Faster way to get a sentence clubbed as a bigram\n",
    "bigram_mod = gensim.models.phrases.Phraser(bigram)"
   ]
  },
  {
   "cell_type": "code",
   "execution_count": 65,
   "id": "f587b520-4645-4f4c-9dd2-767e7165ce16",
   "metadata": {
    "tags": []
   },
   "outputs": [
    {
     "name": "stderr",
     "output_type": "stream",
     "text": [
      "D:\\Anaconda3\\envs\\project-env-2\\lib\\site-packages\\ipykernel\\ipkernel.py:287: DeprecationWarning: `should_run_async` will not call `transform_cell` automatically in the future. Please pass the result to `transformed_cell` argument and any exception that happen during thetransform in `preprocessing_exc_tuple` in IPython 7.17 and above.\n",
      "  and should_run_async(code)\n"
     ]
    },
    {
     "name": "stdout",
     "output_type": "stream",
     "text": [
      "[['bad', 'service', 'contact', 'payment', 'payment', 'reach', 'bill', 'week', 'payment', 'writing', 'contact', 'email', 'messenger', 'avail', 'respond', 'resolution', 'offer', 'help', 'line', 'cut', 'extra', 'pay', 'bill', 'twice', 'disappointing', 'update', 'ticket', 'provide', 'check', 'email', 'miyuki', 'reply', 'ask', 'detail', 'march', 'reference', 'isent', 'screenshot', 'email', 'care', 'messenger', 'provide', 'day', 'get', 'response', 'communicate', 'care', 'get', 'response', 'follow', 'march', 'email', 'messenger', 'response']]\n"
     ]
    }
   ],
   "source": [
    "# Remove Stop Words\n",
    "data_words_nostops5 = remove_stopwords(data_words)\n",
    "\n",
    "# Form Bigrams\n",
    "data_words_bigrams5 = make_bigrams(data_words_nostops5)\n",
    "\n",
    "# Do lemmatization keeping only noun, adj, vb, adv\n",
    "data_lemmatized5 = lemmatization(data_words_bigrams5, allowed_postags=['NOUN', 'ADJ', 'VERB', 'ADV'])\n",
    "print(data_lemmatized5[:1])"
   ]
  },
  {
   "cell_type": "markdown",
   "id": "fd0c25da-654e-476e-8c0c-48350fbf9694",
   "metadata": {
    "tags": []
   },
   "source": [
    "### Data Transformation: Corpus and Dictionary"
   ]
  },
  {
   "cell_type": "code",
   "execution_count": 66,
   "id": "53c1070b-eeb3-4e6f-91f9-724a5a77bb3c",
   "metadata": {},
   "outputs": [
    {
     "name": "stdout",
     "output_type": "stream",
     "text": [
      "[[(0, 1), (1, 1), (2, 1), (3, 2), (4, 2), (5, 1), (6, 1), (7, 2), (8, 1), (9, 1), (10, 1), (11, 1), (12, 4), (13, 1), (14, 1), (15, 2), (16, 1), (17, 1), (18, 1), (19, 2), (20, 3), (21, 1), (22, 1), (23, 1), (24, 3), (25, 2), (26, 1), (27, 1), (28, 1), (29, 1), (30, 1), (31, 3), (32, 1), (33, 1), (34, 1), (35, 1), (36, 1), (37, 1), (38, 1)]]\n"
     ]
    },
    {
     "name": "stderr",
     "output_type": "stream",
     "text": [
      "D:\\Anaconda3\\envs\\project-env-2\\lib\\site-packages\\ipykernel\\ipkernel.py:287: DeprecationWarning: `should_run_async` will not call `transform_cell` automatically in the future. Please pass the result to `transformed_cell` argument and any exception that happen during thetransform in `preprocessing_exc_tuple` in IPython 7.17 and above.\n",
      "  and should_run_async(code)\n"
     ]
    }
   ],
   "source": [
    "# Create Dictionary\n",
    "id2word5 = corpora.Dictionary(data_lemmatized5)\n",
    "\n",
    "# Create Corpus\n",
    "texts5 = data_lemmatized5\n",
    "\n",
    "# Term Document Frequency\n",
    "corpus5 = [id2word5.doc2bow(text) for text in texts5]\n",
    "\n",
    "# View\n",
    "print(corpus5[:1])"
   ]
  },
  {
   "cell_type": "markdown",
   "id": "46731bdf-82f8-4683-99bb-a8706c6566ac",
   "metadata": {},
   "source": [
    "### Base Model Creation"
   ]
  },
  {
   "cell_type": "code",
   "execution_count": 67,
   "id": "cb3bef27-b6ff-4695-8a8b-d736fe583f36",
   "metadata": {},
   "outputs": [
    {
     "name": "stderr",
     "output_type": "stream",
     "text": [
      "D:\\Anaconda3\\envs\\project-env-2\\lib\\site-packages\\ipykernel\\ipkernel.py:287: DeprecationWarning: `should_run_async` will not call `transform_cell` automatically in the future. Please pass the result to `transformed_cell` argument and any exception that happen during thetransform in `preprocessing_exc_tuple` in IPython 7.17 and above.\n",
      "  and should_run_async(code)\n"
     ]
    }
   ],
   "source": [
    "# Build LDA model\n",
    "lda_model_rating5 = gensim.models.LdaMulticore(corpus=corpus5,\n",
    "                                       id2word=id2word5,\n",
    "                                       num_topics=10, \n",
    "                                       random_state=1,\n",
    "                                       chunksize=100,\n",
    "                                       passes=10,\n",
    "                                       per_word_topics=True)"
   ]
  },
  {
   "cell_type": "code",
   "execution_count": 69,
   "id": "0b516835-d6c2-4cd3-81a3-9089ab475450",
   "metadata": {
    "scrolled": true,
    "tags": []
   },
   "outputs": [
    {
     "name": "stdout",
     "output_type": "stream",
     "text": [
      "[(0,\n",
      "  '0.035*\"good\" + 0.020*\"use\" + 0.017*\"card\" + 0.016*\"great\" + 0.012*\"easy\" + '\n",
      "  '0.012*\"well\" + 0.011*\"application\" + 0.010*\"payment\" + 0.010*\"load\" + '\n",
      "  '0.009*\"pay\"'),\n",
      " (1,\n",
      "  '0.030*\"pay\" + 0.022*\"bill\" + 0.018*\"money\" + 0.017*\"easy\" + 0.015*\"good\" + '\n",
      "  '0.013*\"card\" + 0.012*\"send\" + 0.012*\"convenient\" + 0.012*\"online\" + '\n",
      "  '0.012*\"load\"'),\n",
      " (2,\n",
      "  '0.019*\"fee\" + 0.016*\"easy\" + 0.012*\"feature\" + 0.011*\"charge\" + '\n",
      "  '0.010*\"need\" + 0.009*\"face_id\" + 0.009*\"convenient\" + 0.009*\"thank\" + '\n",
      "  '0.009*\"love\" + 0.009*\"cash\"'),\n",
      " (3,\n",
      "  '0.017*\"payment\" + 0.015*\"need\" + 0.013*\"account\" + 0.013*\"pay\" + '\n",
      "  '0.012*\"card\" + 0.012*\"online\" + 0.010*\"bill\" + 0.010*\"convenient\" + '\n",
      "  '0.009*\"purchase\" + 0.009*\"email\"'),\n",
      " (4,\n",
      "  '0.024*\"money\" + 0.019*\"bill\" + 0.011*\"pay\" + 0.010*\"cashback\" + '\n",
      "  '0.009*\"application\" + 0.009*\"customer\" + 0.009*\"life\" + 0.009*\"feature\" + '\n",
      "  '0.008*\"love\" + 0.008*\"service\"'),\n",
      " (5,\n",
      "  '0.016*\"pay\" + 0.014*\"convenient\" + 0.012*\"online\" + 0.011*\"feature\" + '\n",
      "  '0.010*\"talaga\" + 0.009*\"money\" + 0.009*\"account\" + 0.008*\"transaction\" + '\n",
      "  '0.008*\"love\" + 0.007*\"review\"'),\n",
      " (6,\n",
      "  '0.018*\"account\" + 0.015*\"online\" + 0.015*\"money\" + 0.013*\"good\" + '\n",
      "  '0.013*\"transfer\" + 0.012*\"useful\" + 0.011*\"need\" + 0.011*\"load\" + '\n",
      "  '0.010*\"transaction\" + 0.010*\"great\"'),\n",
      " (7,\n",
      "  '0.053*\"use\" + 0.044*\"easy\" + 0.031*\"convenient\" + 0.023*\"great\" + '\n",
      "  '0.020*\"love\" + 0.020*\"payment\" + 0.018*\"pay\" + 0.018*\"transaction\" + '\n",
      "  '0.015*\"bill\" + 0.015*\"thank\"'),\n",
      " (8,\n",
      "  '0.023*\"transaction\" + 0.019*\"shop\" + 0.016*\"card\" + 0.016*\"account\" + '\n",
      "  '0.016*\"use\" + 0.013*\"online\" + 0.012*\"easy\" + 0.010*\"convenient\" + '\n",
      "  '0.009*\"super\" + 0.009*\"add\"'),\n",
      " (9,\n",
      "  '0.018*\"load\" + 0.015*\"bill\" + 0.015*\"buy\" + 0.014*\"use\" + 0.013*\"payment\" + '\n",
      "  '0.012*\"app\" + 0.012*\"pay\" + 0.012*\"card\" + 0.010*\"convenient\" + '\n",
      "  '0.010*\"money\"')]\n"
     ]
    },
    {
     "name": "stderr",
     "output_type": "stream",
     "text": [
      "D:\\Anaconda3\\envs\\project-env-2\\lib\\site-packages\\ipykernel\\ipkernel.py:287: DeprecationWarning: `should_run_async` will not call `transform_cell` automatically in the future. Please pass the result to `transformed_cell` argument and any exception that happen during thetransform in `preprocessing_exc_tuple` in IPython 7.17 and above.\n",
      "  and should_run_async(code)\n"
     ]
    }
   ],
   "source": [
    "# Print the keywords in the 10 topics\n",
    "pprint(lda_model_rating5.print_topics())"
   ]
  },
  {
   "cell_type": "markdown",
   "id": "b5e5e64e-07dd-4135-8875-741a47948617",
   "metadata": {},
   "source": [
    "### Compute Model Coherence Score"
   ]
  },
  {
   "cell_type": "code",
   "execution_count": 70,
   "id": "aeebd5dd-2aa8-47aa-a295-4f5fa53a5932",
   "metadata": {},
   "outputs": [
    {
     "name": "stderr",
     "output_type": "stream",
     "text": [
      "D:\\Anaconda3\\envs\\project-env-2\\lib\\site-packages\\ipykernel\\ipkernel.py:287: DeprecationWarning: `should_run_async` will not call `transform_cell` automatically in the future. Please pass the result to `transformed_cell` argument and any exception that happen during thetransform in `preprocessing_exc_tuple` in IPython 7.17 and above.\n",
      "  and should_run_async(code)\n"
     ]
    },
    {
     "name": "stdout",
     "output_type": "stream",
     "text": [
      "\n",
      "Coherence Score:  0.37909678899669147\n"
     ]
    }
   ],
   "source": [
    "# Compute Coherence Score\n",
    "coherence_model_lda5 = CoherenceModel(model=lda_model_rating5, texts=data_lemmatized5, dictionary=id2word5, coherence='c_v')\n",
    "coherence_lda5 = coherence_model_lda5.get_coherence()\n",
    "\n",
    "print('\\nCoherence Score: ', coherence_lda5)"
   ]
  },
  {
   "cell_type": "markdown",
   "id": "9bfb86f4-44ef-4b10-8acc-873abba52bfd",
   "metadata": {},
   "source": [
    "### Hyperparameter Tuning <br>\n",
    "This part aims the optimum number of topics and values for eta and alpha."
   ]
  },
  {
   "cell_type": "code",
   "execution_count": 71,
   "id": "de986e8f-f93d-4137-a97f-f8c6231e406b",
   "metadata": {},
   "outputs": [
    {
     "name": "stderr",
     "output_type": "stream",
     "text": [
      "D:\\Anaconda3\\envs\\project-env-2\\lib\\site-packages\\ipykernel\\ipkernel.py:287: DeprecationWarning: `should_run_async` will not call `transform_cell` automatically in the future. Please pass the result to `transformed_cell` argument and any exception that happen during thetransform in `preprocessing_exc_tuple` in IPython 7.17 and above.\n",
      "  and should_run_async(code)\n"
     ]
    }
   ],
   "source": [
    "grid = {}\n",
    "grid['Validation_Set'] = {}\n",
    "\n",
    "# Topics range\n",
    "min_topics = 2\n",
    "max_topics = 11\n",
    "step_size = 1\n",
    "topics_range = range(min_topics, max_topics, step_size)\n",
    "\n",
    "# Alpha parameter\n",
    "alpha = list(np.arange(0.01, 1, 0.3))\n",
    "alpha.append('symmetric')\n",
    "alpha.append('asymmetric')\n",
    "\n",
    "# Eta parameter\n",
    "eta = list(np.arange(0.01, 1, 0.3))\n",
    "eta.append('symmetric')"
   ]
  },
  {
   "cell_type": "code",
   "execution_count": 72,
   "id": "ecfc7835-4735-4a60-a861-6590b01222e0",
   "metadata": {
    "scrolled": true,
    "tags": []
   },
   "outputs": [
    {
     "name": "stderr",
     "output_type": "stream",
     "text": [
      "D:\\Anaconda3\\envs\\project-env-2\\lib\\site-packages\\ipykernel\\ipkernel.py:287: DeprecationWarning: `should_run_async` will not call `transform_cell` automatically in the future. Please pass the result to `transformed_cell` argument and any exception that happen during thetransform in `preprocessing_exc_tuple` in IPython 7.17 and above.\n",
      "  and should_run_async(code)\n",
      "100%|██████████| 54/54 [40:56<00:00, 45.50s/it]\n"
     ]
    }
   ],
   "source": [
    "model_results = {'Topics': [],\n",
    "                 'Alpha': [],\n",
    "                 'Eta': [],\n",
    "                 'Coherence': []\n",
    "                }\n",
    "# Loop to determine optimal number of topics\n",
    "if 1 == 1:\n",
    "    pbar = tqdm.tqdm(total=54)\n",
    "    \n",
    "    # iterate through the number of topics\n",
    "    for k in topics_range:\n",
    "        # iterate through alpha values\n",
    "        for a in alpha:\n",
    "            # iterare through eta values\n",
    "            for e in eta:\n",
    "                cv = compute_coherence_values(data_lemmatized5, \n",
    "                                              corpus=corpus5, \n",
    "                                              dictionary=id2word5, \n",
    "                                              k=k,\n",
    "                                              a=a,\n",
    "                                              eta=e)\n",
    "                model_results['Topics'].append(k)\n",
    "                model_results['Alpha'].append(a)\n",
    "                model_results['Eta'].append(e)\n",
    "                model_results['Coherence'].append(cv)\n",
    "        \n",
    "            pbar.update(1)\n",
    "    \n",
    "    pd.DataFrame(model_results).to_csv('paymaya_lda_tuning_results_rating5.csv', index=False)\n",
    "    pbar.close()"
   ]
  },
  {
   "cell_type": "code",
   "execution_count": 73,
   "id": "028a9ff0-0036-42a4-9353-d518cd86f5f3",
   "metadata": {},
   "outputs": [
    {
     "name": "stderr",
     "output_type": "stream",
     "text": [
      "D:\\Anaconda3\\envs\\project-env-2\\lib\\site-packages\\ipykernel\\ipkernel.py:287: DeprecationWarning: `should_run_async` will not call `transform_cell` automatically in the future. Please pass the result to `transformed_cell` argument and any exception that happen during thetransform in `preprocessing_exc_tuple` in IPython 7.17 and above.\n",
      "  and should_run_async(code)\n"
     ]
    }
   ],
   "source": [
    "paymaya_lda_tuning_results_rating5 = pd.read_csv('paymaya_lda_tuning_results_rating5.csv')"
   ]
  },
  {
   "cell_type": "code",
   "execution_count": 74,
   "id": "3cb8c134-1dbd-4936-9486-3b4148da348f",
   "metadata": {
    "scrolled": true,
    "tags": []
   },
   "outputs": [
    {
     "name": "stderr",
     "output_type": "stream",
     "text": [
      "D:\\Anaconda3\\envs\\project-env-2\\lib\\site-packages\\ipykernel\\ipkernel.py:287: DeprecationWarning: `should_run_async` will not call `transform_cell` automatically in the future. Please pass the result to `transformed_cell` argument and any exception that happen during thetransform in `preprocessing_exc_tuple` in IPython 7.17 and above.\n",
      "  and should_run_async(code)\n"
     ]
    },
    {
     "data": {
      "text/html": [
       "<div>\n",
       "<style scoped>\n",
       "    .dataframe tbody tr th:only-of-type {\n",
       "        vertical-align: middle;\n",
       "    }\n",
       "\n",
       "    .dataframe tbody tr th {\n",
       "        vertical-align: top;\n",
       "    }\n",
       "\n",
       "    .dataframe thead th {\n",
       "        text-align: right;\n",
       "    }\n",
       "</style>\n",
       "<table border=\"1\" class=\"dataframe\">\n",
       "  <thead>\n",
       "    <tr style=\"text-align: right;\">\n",
       "      <th></th>\n",
       "      <th>Topics</th>\n",
       "      <th>Alpha</th>\n",
       "      <th>Eta</th>\n",
       "      <th>Coherence</th>\n",
       "    </tr>\n",
       "  </thead>\n",
       "  <tbody>\n",
       "    <tr>\n",
       "      <th>148</th>\n",
       "      <td>6</td>\n",
       "      <td>asymmetric</td>\n",
       "      <td>0.9099999999999999</td>\n",
       "      <td>0.482399</td>\n",
       "    </tr>\n",
       "    <tr>\n",
       "      <th>16</th>\n",
       "      <td>2</td>\n",
       "      <td>0.9099999999999999</td>\n",
       "      <td>0.31</td>\n",
       "      <td>0.461113</td>\n",
       "    </tr>\n",
       "    <tr>\n",
       "      <th>11</th>\n",
       "      <td>2</td>\n",
       "      <td>0.61</td>\n",
       "      <td>0.31</td>\n",
       "      <td>0.461113</td>\n",
       "    </tr>\n",
       "    <tr>\n",
       "      <th>15</th>\n",
       "      <td>2</td>\n",
       "      <td>0.9099999999999999</td>\n",
       "      <td>0.01</td>\n",
       "      <td>0.461113</td>\n",
       "    </tr>\n",
       "    <tr>\n",
       "      <th>10</th>\n",
       "      <td>2</td>\n",
       "      <td>0.61</td>\n",
       "      <td>0.01</td>\n",
       "      <td>0.461113</td>\n",
       "    </tr>\n",
       "    <tr>\n",
       "      <th>...</th>\n",
       "      <td>...</td>\n",
       "      <td>...</td>\n",
       "      <td>...</td>\n",
       "      <td>...</td>\n",
       "    </tr>\n",
       "    <tr>\n",
       "      <th>186</th>\n",
       "      <td>8</td>\n",
       "      <td>0.31</td>\n",
       "      <td>0.31</td>\n",
       "      <td>0.347111</td>\n",
       "    </tr>\n",
       "    <tr>\n",
       "      <th>267</th>\n",
       "      <td>10</td>\n",
       "      <td>asymmetric</td>\n",
       "      <td>0.61</td>\n",
       "      <td>0.341789</td>\n",
       "    </tr>\n",
       "    <tr>\n",
       "      <th>192</th>\n",
       "      <td>8</td>\n",
       "      <td>0.61</td>\n",
       "      <td>0.61</td>\n",
       "      <td>0.339654</td>\n",
       "    </tr>\n",
       "    <tr>\n",
       "      <th>205</th>\n",
       "      <td>8</td>\n",
       "      <td>asymmetric</td>\n",
       "      <td>0.01</td>\n",
       "      <td>0.334416</td>\n",
       "    </tr>\n",
       "    <tr>\n",
       "      <th>238</th>\n",
       "      <td>9</td>\n",
       "      <td>asymmetric</td>\n",
       "      <td>0.9099999999999999</td>\n",
       "      <td>0.310859</td>\n",
       "    </tr>\n",
       "  </tbody>\n",
       "</table>\n",
       "<p>270 rows × 4 columns</p>\n",
       "</div>"
      ],
      "text/plain": [
       "     Topics               Alpha                 Eta  Coherence\n",
       "148       6          asymmetric  0.9099999999999999   0.482399\n",
       "16        2  0.9099999999999999                0.31   0.461113\n",
       "11        2                0.61                0.31   0.461113\n",
       "15        2  0.9099999999999999                0.01   0.461113\n",
       "10        2                0.61                0.01   0.461113\n",
       "..      ...                 ...                 ...        ...\n",
       "186       8                0.31                0.31   0.347111\n",
       "267      10          asymmetric                0.61   0.341789\n",
       "192       8                0.61                0.61   0.339654\n",
       "205       8          asymmetric                0.01   0.334416\n",
       "238       9          asymmetric  0.9099999999999999   0.310859\n",
       "\n",
       "[270 rows x 4 columns]"
      ]
     },
     "execution_count": 74,
     "metadata": {},
     "output_type": "execute_result"
    }
   ],
   "source": [
    "paymaya_lda_tuning_results_rating5.sort_values(by='Coherence', ascending=False)"
   ]
  },
  {
   "cell_type": "markdown",
   "id": "bf0e90fd-3ead-4949-a351-c3ef7fd66122",
   "metadata": {},
   "source": [
    "### Final Model"
   ]
  },
  {
   "cell_type": "code",
   "execution_count": 75,
   "id": "dfe129a0-bd34-40a3-bbe9-a684f6416623",
   "metadata": {},
   "outputs": [
    {
     "name": "stderr",
     "output_type": "stream",
     "text": [
      "D:\\Anaconda3\\envs\\project-env-2\\lib\\site-packages\\ipykernel\\ipkernel.py:287: DeprecationWarning: `should_run_async` will not call `transform_cell` automatically in the future. Please pass the result to `transformed_cell` argument and any exception that happen during thetransform in `preprocessing_exc_tuple` in IPython 7.17 and above.\n",
      "  and should_run_async(code)\n"
     ]
    }
   ],
   "source": [
    "final_lda5 = gensim.models.LdaMulticore(corpus=corpus5,\n",
    "                                           id2word=id2word5,\n",
    "                                           num_topics=6, \n",
    "                                           random_state=100,\n",
    "                                           chunksize=100,\n",
    "                                           passes=10,\n",
    "                                           alpha='asymmetric',\n",
    "                                           eta=0.9099999999999999)"
   ]
  },
  {
   "cell_type": "code",
   "execution_count": 76,
   "id": "7e0e4909-2781-45cd-a1eb-22ed744b5cc7",
   "metadata": {
    "tags": []
   },
   "outputs": [
    {
     "name": "stderr",
     "output_type": "stream",
     "text": [
      "D:\\Anaconda3\\envs\\project-env-2\\lib\\site-packages\\ipykernel\\ipkernel.py:287: DeprecationWarning: `should_run_async` will not call `transform_cell` automatically in the future. Please pass the result to `transformed_cell` argument and any exception that happen during thetransform in `preprocessing_exc_tuple` in IPython 7.17 and above.\n",
      "  and should_run_async(code)\n"
     ]
    },
    {
     "data": {
      "text/html": [
       "\n",
       "<link rel=\"stylesheet\" type=\"text/css\" href=\"https://cdn.jsdelivr.net/gh/bmabey/pyLDAvis@3.3.1/pyLDAvis/js/ldavis.v1.0.0.css\">\n",
       "\n",
       "\n",
       "<div id=\"ldavis_el2175224880505847044240196862\"></div>\n",
       "<script type=\"text/javascript\">\n",
       "\n",
       "var ldavis_el2175224880505847044240196862_data = {\"mdsDat\": {\"x\": [0.12137598662436334, 0.004039041804172296, -0.0215919997985791, -0.031208539589255454, -0.034535378598030075, -0.03807911044267109], \"y\": [-0.0027360942085735925, 0.019156587057694765, -0.023424877382358423, 0.0004625952345483005, 0.003520122239902398, 0.0030216670587865815], \"topics\": [1, 2, 3, 4, 5, 6], \"cluster\": [1, 1, 1, 1, 1, 1], \"Freq\": [77.58090252060114, 9.558055532763822, 5.60273856590259, 4.168959487811383, 2.064543387919611, 1.0248005050014504]}, \"tinfo\": {\"Term\": [\"account\", \"try\", \"upgrade\", \"wallet\", \"add\", \"cashback\", \"service\", \"user\", \"good\", \"yung\", \"bill\", \"email\", \"password\", \"feature\", \"shop\", \"support\", \"number\", \"simple\", \"work\", \"application\", \"help\", \"customer\", \"day\", \"kasi\", \"issue\", \"card\", \"qr\", \"review\", \"lot\", \"charge\", \"easy\", \"load\", \"use\", \"convenient\", \"great\", \"love\", \"useful\", \"pay\", \"transaction\", \"need\", \"purchase\", \"awesome\", \"buy\", \"online\", \"bank\", \"fast\", \"nice\", \"transfer\", \"problem\", \"store\", \"discount\", \"review\", \"send\", \"money\", \"update\", \"well\", \"payment\", \"app\", \"life\", \"thing\", \"bill\", \"card\", \"good\", \"time\", \"thank\", \"application\", \"account\", \"cash\", \"feature\", \"help\", \"cashback\", \"user\", \"hinanakit\", \"nalang\", \"large\", \"gaming\", \"makapag\", \"satisfaction\", \"march\", \"bumalik\", \"pinagbayad\", \"baik\", \"thorugh\", \"naisisingit\", \"excited\", \"minimal\", \"disappointing\", \"completely\", \"lag\", \"earn\", \"borrow\", \"reverse\", \"condition\", \"care\", \"research\", \"reason\", \"steam\", \"nagagawa\", \"sm\", \"alam\", \"unresponsive\", \"electric\", \"messenger\", \"ganda\", \"response\", \"software\", \"bayad\", \"email\", \"start\", \"lose\", \"add\", \"shop\", \"day\", \"wallet\", \"cashback\", \"wait\", \"issue\", \"feel\", \"gamitin\", \"user\", \"call\", \"feature\", \"good\", \"bill\", \"service\", \"virtual\", \"card\", \"pera\", \"charge\", \"get\", \"payment\", \"account\", \"money\", \"cash\", \"online\", \"time\", \"thank\", \"password\", \"reset\", \"forgot\", \"vpn\", \"tin\", \"frustrating\", \"recovery\", \"d\", \"letter\", \"optional\", \"upload\", \"gsis\", \"photo\", \"drop\", \"i\", \"paggamit\", \"hygienic\", \"example\", \"okay\", \"smartmoney\", \"complaint\", \"license\", \"invalid\", \"min\", \"share\", \"validity\", \"hahaha\", \"capital\", \"appear\", \"incorrect\", \"capability\", \"email\", \"support\", \"subscription\", \"say\", \"upgrade\", \"account\", \"try\", \"message\", \"number\", \"customer\", \"refund\", \"help\", \"reach\", \"balance\", \"money\", \"able\", \"receive\", \"team\", \"phone\", \"error\", \"pay\", \"transaction\", \"tumawag\", \"event\", \"concert\", \"provider\", \"supervisor\", \"nangako\", \"tatawag\", \"ngaun\", \"upcoming\", \"ticketnet\", \"variety\", \"nalaman\", \"kapatid\", \"joyful\", \"nakukuha\", \"sakanila\", \"nangailangan\", \"consume\", \"operational\", \"sector\", \"blind\", \"similar\", \"disallow\", \"joining\", \"minded\", \"ugrade\", \"oof\", \"maximize\", \"competitive\", \"discussion\", \"gamit\", \"salamat\", \"risk\", \"fun\", \"ticket\", \"ecosystem\", \"kailangang\", \"friendly\", \"apple\", \"bagay\", \"pera\", \"akong\", \"pwede\", \"service\", \"password\", \"smooth\", \"upgrade\", \"padala\", \"qr\", \"user\", \"lot\", \"good\", \"secure\", \"wait\", \"financial\", \"stupid\", \"organize\", \"masyadong\", \"player\", \"league\", \"fortnite\", \"epic\", \"rocket\", \"faq\", \"carefully\", \"dumb\", \"maa\", \"nangyayare\", \"combinient\", \"essentially\", \"lay\", \"matutunan\", \"majestic\", \"part\", \"section\", \"newbie\", \"maibubuga\", \"exceptional\", \"crime\", \"zero\", \"judiciously\", \"affirmation\", \"modify\", \"terrorize\", \"madale\", \"safer\", \"nya\", \"performance\", \"miss\", \"yung\", \"design\", \"wala\", \"simple\", \"read\", \"gamitin\", \"application\", \"charge\", \"add\", \"sobrang\", \"review\", \"work\", \"good\", \"base\", \"online\", \"kasi\", \"game\", \"negative\", \"time\", \"follow\", \"link\", \"customer\", \"hirap\", \"trip\", \"out\", \"bilihan\", \"maghanap\", \"plano\", \"outing\", \"madami\", \"dadalhin\", \"important\", \"distraction\", \"half\", \"responsibility\", \"potential\", \"vfds\", \"cdcd\", \"success\", \"kaso\", \"malake\", \"ata\", \"binayaran\", \"pabalik\", \"nakapagbayad\", \"jowa\", \"matamis\", \"charot\", \"focus\", \"divide\", \"command\", \"pati\", \"literally\", \"akong\", \"limitless\", \"tap\", \"ticket\", \"item\", \"simple\", \"thank\", \"kasi\", \"work\"], \"Freq\": [65.0, 28.0, 18.0, 36.0, 26.0, 40.0, 36.0, 38.0, 91.0, 13.0, 91.0, 10.0, 7.0, 42.0, 22.0, 9.0, 15.0, 11.0, 32.0, 32.0, 35.0, 14.0, 19.0, 19.0, 18.0, 78.0, 21.0, 24.0, 25.0, 11.0, 110.98430669143202, 73.57148216415698, 132.38769419691747, 99.48687122302282, 77.82323405007591, 66.66241283795317, 37.54449580600011, 118.38925282698408, 72.47632245058803, 69.33714551888508, 40.245592536571415, 23.74759417057297, 49.425804322219435, 89.90958130994575, 38.011532834961166, 28.79691619508172, 20.705117934059533, 33.90069188191912, 26.722521618796684, 24.465180116859113, 16.0043082156846, 23.343746799401586, 38.09220689779556, 87.2435101397389, 31.274289153951887, 33.494179021267854, 74.21456209312505, 27.979151825814935, 16.302671013160882, 23.414613705333934, 86.43986949516794, 73.17262704374134, 85.0382086399955, 44.74655261456806, 39.31360050436412, 31.039463609699784, 58.47221669382912, 33.37361660887814, 37.90852753890604, 32.427621446309445, 35.65636095267194, 33.76321079378881, 1.1972847800657234, 1.1971263743964755, 1.1957320767712263, 1.4203500048213233, 0.9014762307648654, 0.8962986049088854, 0.890736544880434, 0.8909119928147872, 0.89051373911324, 0.8904381413731576, 0.8905366260013141, 0.8902276803236361, 0.8902487100417948, 0.8884676840930025, 0.8831108959628385, 0.8777682004749732, 0.8614457525797989, 1.0398559821932505, 0.8354612689548803, 0.83048356197802, 0.8371291167841273, 2.3822008084954116, 0.8280177865569199, 1.6351499494914337, 2.8477801968315837, 0.8917568412583243, 0.8235859782898748, 0.8930279648200721, 0.8605779080028986, 0.7975996374950407, 1.193394992300729, 1.1201416561231372, 1.511186698021303, 1.213749137591486, 1.7440873854031516, 2.2341284326563238, 2.175872726752548, 1.5066709347495564, 3.6045690716639003, 3.2654852406000434, 2.988476549238753, 4.209949438017479, 4.198194207925234, 1.9583642636288763, 2.689032371338077, 1.8738095022901133, 1.819690150768913, 3.549205962525881, 1.3677589948951427, 3.476092023337227, 4.869589536088798, 4.827053790310608, 3.052569230941092, 1.952380025180557, 3.9833498004224457, 1.732019058312242, 1.8262672634013761, 2.1954604070947235, 3.252175668533965, 2.44694393664927, 2.417202999134748, 2.0281287422526044, 2.2606510039528844, 2.0500201872520907, 1.7861060732278577, 3.359497561831089, 1.2358208153087151, 0.9621487006989464, 0.8210506678627641, 0.8065462022317557, 0.8178924085230038, 0.8175381537597777, 1.0855546794462185, 0.6306389887781735, 0.6038485043278784, 0.603235794715704, 0.6034532656441054, 0.6028558609647602, 0.6022174083274925, 0.8684444095456836, 0.6113860236528137, 0.5839068172252052, 0.5712870996403416, 0.5654359405711545, 0.5643197050726375, 0.6146149802555172, 0.5981063368723953, 0.5548879601699307, 0.552849650496487, 0.6100945818939593, 0.5528053366323958, 0.7571068506145451, 0.4139306174485005, 0.6111357015505992, 0.409332189544464, 0.5716722204187297, 2.3475874015143847, 2.1328976163463924, 0.8170918132500729, 1.4281335079329178, 2.465591891645719, 4.419029244776627, 2.58104692576954, 1.0281988353137665, 1.606490407162432, 1.459587642354557, 0.8400778372008615, 1.4920939108614832, 0.7454524964706858, 0.9170748410311022, 1.6383960050838444, 0.9770850343927165, 0.933913661124129, 0.8396681260701454, 0.9124453229810884, 0.7159044985787268, 0.8177795746667486, 0.7886967442729955, 0.8091298504097074, 0.6460394459287091, 0.6295043549534339, 0.48823325841907816, 0.6476453862569956, 0.4837180134982075, 0.48339866471382104, 0.48318243004006006, 0.4826853475991888, 0.4709001766810277, 0.4670470730176673, 0.48694952586160944, 0.32876414145162824, 0.3287629502072818, 0.32876130629008377, 0.3287611633407622, 0.32875506416970857, 0.3287404833389085, 0.3287393397443359, 0.3287354801126535, 0.3287350750895758, 0.328734002969664, 0.32868694881798066, 0.3286827556378813, 0.3286792295546159, 0.3283898524779852, 0.3283894951046813, 0.32691437723051786, 0.32597291299866055, 0.3258723719758233, 0.8504144721749323, 0.58997696154849, 0.4909475324872675, 0.6425932713340835, 0.889992088441521, 0.4603991671683, 0.4952015136980829, 0.48417049575074905, 0.473974825988894, 0.4537307719161744, 0.7997765809998619, 0.4817074312903313, 0.47390030174258235, 0.9250326838405865, 0.5430768615840472, 0.5979272786666778, 0.6250751655241481, 0.4259398037107364, 0.6476146521528582, 0.6376421262819733, 0.5744979325111971, 0.6065428342776765, 0.5084050277848574, 0.49026366293287865, 0.48818065306874053, 0.2684763361179852, 0.2517838740891714, 0.242507601878417, 0.17706637224514768, 0.17706258492323987, 0.1770621601768577, 0.1770605791764351, 0.17706059097494573, 0.17607521476380797, 0.17605359989235897, 0.1760521604740638, 0.17574197762996246, 0.17574073878634774, 0.17573819030805463, 0.17564252798397803, 0.17530270728120867, 0.17528826590421437, 0.17518545368270433, 0.17518088765909584, 0.269848738872868, 0.1751208332400591, 0.17512624875643196, 0.17507662422078, 0.17541788434184455, 0.17540665215973786, 0.17540393850229613, 0.17538549743020293, 0.1753391646790129, 0.17532139612202483, 0.17498407670350608, 0.17532048763670735, 0.331093957989083, 0.24982173457964574, 0.23427224146827103, 0.4836439808530128, 0.24277490893493886, 0.2874774835101453, 0.3252552290404169, 0.2595051026007034, 0.28323985964614745, 0.30122867123041164, 0.23838869462823992, 0.25232547292049995, 0.21769561721668765, 0.2418087760946162, 0.2351663797968133, 0.22227822953110477, 0.17703207397478624, 0.1984522935956183, 0.1834501687872635, 0.18011541414966398, 0.17731907274552663, 0.17970118024043788, 0.17881645712336738, 0.17784670214028556, 0.17760956387540944, 0.14056033821576008, 0.09234318463077475, 0.0923155592431635, 0.09230320776076534, 0.09230251668683315, 0.09229866892773614, 0.09228644628963042, 0.09227880348046513, 0.09227300548730526, 0.0895219162985316, 0.08952177574112166, 0.08952168789274045, 0.08952106124095448, 0.08952022960961235, 0.0869043800754325, 0.086904368362315, 0.09228956197888401, 0.09228238183785976, 0.09231285351302222, 0.0780268326294378, 0.07800776367415643, 0.07766961768520197, 0.0776134298605799, 0.07759173131042096, 0.0774242864392755, 0.0774221722215677, 0.08938610270118057, 0.08890293660452424, 0.08909988681863884, 0.09228458390394877, 0.08463772785656333, 0.0922764608569662, 0.08459772756031894, 0.09225092626082775, 0.09225236111772085, 0.09224385739441969, 0.09275770600235339, 0.09742844630421575, 0.09199437384834136, 0.0927529094807393], \"Total\": [65.0, 28.0, 18.0, 36.0, 26.0, 40.0, 36.0, 38.0, 91.0, 13.0, 91.0, 10.0, 7.0, 42.0, 22.0, 9.0, 15.0, 11.0, 32.0, 32.0, 35.0, 14.0, 19.0, 19.0, 18.0, 78.0, 21.0, 24.0, 25.0, 11.0, 112.04580849415917, 74.62191376799063, 134.41985565690828, 101.06108696809503, 79.08861795087556, 68.15423915705645, 38.42680210082345, 121.21090630196639, 74.4237784932075, 71.34142770811414, 41.54838807857967, 24.587045195531353, 51.176329213173425, 93.1373772943312, 39.4049802866953, 29.91574705669004, 21.515360074732115, 35.329310264621334, 27.89269457035154, 25.55058707624664, 16.823880226261856, 24.540655681815895, 40.05401333408768, 91.7817764008067, 32.91938909769062, 35.33971125731507, 78.34498585037079, 29.608379951250736, 17.252530821839645, 24.811638515992577, 91.97989073815383, 78.13448892405168, 91.1615946068889, 47.73370921315588, 41.9563824764211, 32.9214624018178, 65.8025902202361, 35.97209093274682, 42.21215945203312, 35.1771931666882, 40.43030767828485, 38.310164421399165, 2.4454629016568217, 2.4457468900917743, 2.6763685264600445, 3.258247384938474, 2.1090673633085544, 2.116897325685612, 2.110823363163197, 2.116327650470465, 2.1169298012175055, 2.116821866192325, 2.117326888678353, 2.1166378057903668, 2.1177769917615428, 2.1284305452925842, 2.1291638124057917, 2.129978528980553, 2.163062163273091, 2.6723854731185503, 2.19370356640592, 2.186431093513891, 2.204992069543566, 6.296230327949862, 2.1913322116002476, 4.334017515632264, 7.613258113581168, 2.3872395992371773, 2.2088340675487297, 2.4142456482196457, 2.3857413979212767, 2.2636320679347492, 3.433374843642305, 3.241284172665089, 4.7652513390522815, 3.9601484915862426, 7.069401922662624, 10.688316698946874, 10.646017575937217, 5.854897114582819, 26.30835123766168, 22.357113774541133, 19.280222251151894, 36.595548518668714, 40.43030767828485, 9.60520499441009, 18.51903542783714, 9.38115203467018, 8.88089655531084, 38.310164421399165, 5.274943616740748, 42.21215945203312, 91.1615946068889, 91.97989073815383, 36.55925659238465, 12.430759711761963, 78.13448892405168, 10.057977736651356, 11.922170282262933, 20.885789233269698, 78.34498585037079, 65.8025902202361, 91.7817764008067, 35.97209093274682, 93.1373772943312, 47.73370921315588, 41.9563824764211, 7.440236736757191, 2.7793832424389016, 2.451016965261696, 2.147655596821333, 2.1688396911577246, 2.2024008878746093, 2.203283794675221, 3.236536831480191, 1.9095069181162512, 1.9366440114310157, 1.9380906982663686, 1.9392283778147408, 1.9400455708997684, 1.938776943184738, 2.8121681010849535, 2.048420994978397, 2.0303864947665207, 2.057006386821111, 2.063847269282779, 2.067341393511551, 2.3100096756523874, 2.2586078059059562, 2.0983823785409474, 2.1108278060948638, 2.3295925301370835, 2.1109464076499855, 3.0374885618922884, 1.6924424812027856, 2.514311660969421, 1.69264007073068, 2.405473836176941, 10.688316698946874, 9.925656171147756, 3.724517554093487, 8.11048719899805, 18.77427208030901, 65.8025902202361, 28.530815774275766, 6.411175729675561, 15.189767797943153, 14.231498166173978, 4.901371114070405, 35.1771931666882, 4.4028523173387715, 9.41000108562573, 91.7817764008067, 13.04579429699738, 10.972069619482774, 9.392180310536693, 18.095201306831925, 9.614064286750056, 121.21090630196639, 74.4237784932075, 2.254013565126584, 2.083550793635518, 2.140573444236788, 1.8586359136080142, 2.468566501476048, 1.861135450063966, 1.8629346650945453, 1.862504334571466, 1.8823724737540277, 1.9219805052750047, 1.933232298684937, 2.1527870698271663, 1.6476920571602671, 1.6476972537299843, 1.647704214434468, 1.647703673039381, 1.6477227386809472, 1.647757435282231, 1.6477617222830225, 1.6477730431004365, 1.6477732691699472, 1.647780254589299, 1.647915828717955, 1.6479275585285107, 1.6479383982961866, 1.6487537048327248, 1.6487550987865665, 1.6541542550431796, 1.6575036918705284, 1.6578547577545768, 4.331336412357308, 3.0629145955030097, 2.6200735390666328, 3.5640654615664, 5.274510706795, 2.7264413358160047, 3.39422068684422, 3.435305246928486, 3.3565947275798984, 3.131932677118307, 10.057977736651356, 3.593313337406705, 4.724022891928457, 36.55925659238465, 7.440236736757191, 12.854051292373256, 18.77427208030901, 4.3244786028212285, 21.95325979094204, 38.310164421399165, 25.37092645491351, 91.1615946068889, 13.523843875789568, 9.60520499441009, 10.694883557872272, 1.6757118212719406, 1.7934194028005257, 1.8648954711100427, 1.5714756234914475, 1.5714978942834759, 1.571501667727729, 1.5715123475177275, 1.5715138582590602, 1.5787861867175885, 1.5789443081440409, 1.5789566375810107, 1.581155175240247, 1.5811624314080666, 1.581177706977833, 1.582022317482024, 1.5790134786075865, 1.5791634875320484, 1.5798437606756794, 1.5799232169094504, 2.433800463828226, 1.579861772369343, 1.580292769169545, 1.5800920905868685, 1.583678782433898, 1.5837607338217332, 1.5837808594580816, 1.5839163771102345, 1.5842578705406682, 1.584389463977176, 1.5813520711701359, 1.5843959829363032, 3.276360927892165, 2.9184665152094196, 2.6972304590441794, 13.543330813939257, 4.1947988953653885, 7.373789647479001, 11.299577360041832, 5.877590098942289, 8.88089655531084, 32.9214624018178, 11.922170282262933, 26.30835123766168, 8.722822066932657, 24.540655681815895, 32.624725675766825, 91.1615946068889, 1.8842681228492344, 93.1373772943312, 19.222586928436673, 8.205417718829667, 2.530950528861675, 47.73370921315588, 8.031084352959995, 6.783523594706048, 14.231498166173978, 1.5789316793146704, 1.526856860592703, 1.5272728681704357, 1.527459386264916, 1.527469437573366, 1.5275279014059542, 1.5277128384306178, 1.5278254076106597, 1.5279132339379855, 1.569258209264123, 1.569257819387815, 1.5692608168078506, 1.56926657296721, 1.5692786918868782, 1.6076866367986562, 1.6077013405936995, 1.844168564432108, 1.8499392003501973, 1.8854994582231361, 1.6030074427188357, 1.603115491760555, 1.604971362553231, 1.6052764871840486, 1.6053806787999991, 1.6062884622384304, 1.6063041639499147, 1.8836378940832592, 1.9187137517326913, 1.941276927607154, 2.4936668352979168, 2.4071434033845374, 3.593313337406705, 2.4089647816227635, 4.234578411171425, 5.274510706795, 6.47216662623543, 11.299577360041832, 41.9563824764211, 19.222586928436673, 32.624725675766825], \"Category\": [\"Default\", \"Default\", \"Default\", \"Default\", \"Default\", \"Default\", \"Default\", \"Default\", \"Default\", \"Default\", \"Default\", \"Default\", \"Default\", \"Default\", \"Default\", \"Default\", \"Default\", \"Default\", \"Default\", \"Default\", \"Default\", \"Default\", \"Default\", \"Default\", \"Default\", \"Default\", \"Default\", \"Default\", \"Default\", \"Default\", \"Topic1\", \"Topic1\", \"Topic1\", \"Topic1\", \"Topic1\", \"Topic1\", \"Topic1\", \"Topic1\", \"Topic1\", \"Topic1\", \"Topic1\", \"Topic1\", \"Topic1\", \"Topic1\", \"Topic1\", \"Topic1\", \"Topic1\", \"Topic1\", \"Topic1\", \"Topic1\", \"Topic1\", \"Topic1\", \"Topic1\", \"Topic1\", \"Topic1\", \"Topic1\", \"Topic1\", \"Topic1\", \"Topic1\", \"Topic1\", \"Topic1\", \"Topic1\", \"Topic1\", \"Topic1\", \"Topic1\", \"Topic1\", \"Topic1\", \"Topic1\", \"Topic1\", \"Topic1\", \"Topic1\", \"Topic1\", \"Topic2\", \"Topic2\", \"Topic2\", \"Topic2\", \"Topic2\", \"Topic2\", \"Topic2\", \"Topic2\", \"Topic2\", \"Topic2\", \"Topic2\", \"Topic2\", \"Topic2\", \"Topic2\", \"Topic2\", \"Topic2\", \"Topic2\", \"Topic2\", \"Topic2\", \"Topic2\", \"Topic2\", \"Topic2\", \"Topic2\", \"Topic2\", \"Topic2\", \"Topic2\", \"Topic2\", \"Topic2\", \"Topic2\", \"Topic2\", \"Topic2\", \"Topic2\", \"Topic2\", \"Topic2\", \"Topic2\", \"Topic2\", \"Topic2\", \"Topic2\", \"Topic2\", \"Topic2\", \"Topic2\", \"Topic2\", \"Topic2\", \"Topic2\", \"Topic2\", \"Topic2\", \"Topic2\", \"Topic2\", \"Topic2\", \"Topic2\", \"Topic2\", \"Topic2\", \"Topic2\", \"Topic2\", \"Topic2\", \"Topic2\", \"Topic2\", \"Topic2\", \"Topic2\", \"Topic2\", \"Topic2\", \"Topic2\", \"Topic2\", \"Topic2\", \"Topic2\", \"Topic3\", \"Topic3\", \"Topic3\", \"Topic3\", \"Topic3\", \"Topic3\", \"Topic3\", \"Topic3\", \"Topic3\", \"Topic3\", \"Topic3\", \"Topic3\", \"Topic3\", \"Topic3\", \"Topic3\", \"Topic3\", \"Topic3\", \"Topic3\", \"Topic3\", \"Topic3\", \"Topic3\", \"Topic3\", \"Topic3\", \"Topic3\", \"Topic3\", \"Topic3\", \"Topic3\", \"Topic3\", \"Topic3\", \"Topic3\", \"Topic3\", \"Topic3\", \"Topic3\", \"Topic3\", \"Topic3\", \"Topic3\", \"Topic3\", \"Topic3\", \"Topic3\", \"Topic3\", \"Topic3\", \"Topic3\", \"Topic3\", \"Topic3\", \"Topic3\", \"Topic3\", \"Topic3\", \"Topic3\", \"Topic3\", \"Topic3\", \"Topic3\", \"Topic3\", \"Topic3\", \"Topic4\", \"Topic4\", \"Topic4\", \"Topic4\", \"Topic4\", \"Topic4\", \"Topic4\", \"Topic4\", \"Topic4\", \"Topic4\", \"Topic4\", \"Topic4\", \"Topic4\", \"Topic4\", \"Topic4\", \"Topic4\", \"Topic4\", \"Topic4\", \"Topic4\", \"Topic4\", \"Topic4\", \"Topic4\", \"Topic4\", \"Topic4\", \"Topic4\", \"Topic4\", \"Topic4\", \"Topic4\", \"Topic4\", \"Topic4\", \"Topic4\", \"Topic4\", \"Topic4\", \"Topic4\", \"Topic4\", \"Topic4\", \"Topic4\", \"Topic4\", \"Topic4\", \"Topic4\", \"Topic4\", \"Topic4\", \"Topic4\", \"Topic4\", \"Topic4\", \"Topic4\", \"Topic4\", \"Topic4\", \"Topic4\", \"Topic4\", \"Topic4\", \"Topic4\", \"Topic4\", \"Topic4\", \"Topic4\", \"Topic5\", \"Topic5\", \"Topic5\", \"Topic5\", \"Topic5\", \"Topic5\", \"Topic5\", \"Topic5\", \"Topic5\", \"Topic5\", \"Topic5\", \"Topic5\", \"Topic5\", \"Topic5\", \"Topic5\", \"Topic5\", \"Topic5\", \"Topic5\", \"Topic5\", \"Topic5\", \"Topic5\", \"Topic5\", \"Topic5\", \"Topic5\", \"Topic5\", \"Topic5\", \"Topic5\", \"Topic5\", \"Topic5\", \"Topic5\", \"Topic5\", \"Topic5\", \"Topic5\", \"Topic5\", \"Topic5\", \"Topic5\", \"Topic5\", \"Topic5\", \"Topic5\", \"Topic5\", \"Topic5\", \"Topic5\", \"Topic5\", \"Topic5\", \"Topic5\", \"Topic5\", \"Topic5\", \"Topic5\", \"Topic5\", \"Topic5\", \"Topic5\", \"Topic5\", \"Topic5\", \"Topic5\", \"Topic5\", \"Topic5\", \"Topic6\", \"Topic6\", \"Topic6\", \"Topic6\", \"Topic6\", \"Topic6\", \"Topic6\", \"Topic6\", \"Topic6\", \"Topic6\", \"Topic6\", \"Topic6\", \"Topic6\", \"Topic6\", \"Topic6\", \"Topic6\", \"Topic6\", \"Topic6\", \"Topic6\", \"Topic6\", \"Topic6\", \"Topic6\", \"Topic6\", \"Topic6\", \"Topic6\", \"Topic6\", \"Topic6\", \"Topic6\", \"Topic6\", \"Topic6\", \"Topic6\", \"Topic6\", \"Topic6\", \"Topic6\", \"Topic6\", \"Topic6\", \"Topic6\", \"Topic6\", \"Topic6\", \"Topic6\"], \"logprob\": [30.0, 29.0, 28.0, 27.0, 26.0, 25.0, 24.0, 23.0, 22.0, 21.0, 20.0, 19.0, 18.0, 17.0, 16.0, 15.0, 14.0, 13.0, 12.0, 11.0, 10.0, 9.0, 8.0, 7.0, 6.0, 5.0, 4.0, 3.0, 2.0, 1.0, -4.2287, -4.6399, -4.0524, -4.3381, -4.5837, -4.7385, -5.3126, -4.1641, -4.6549, -4.6991, -5.2431, -5.7706, -5.0377, -4.4393, -5.3002, -5.5779, -5.9077, -5.4147, -5.6526, -5.7409, -6.1653, -5.7878, -5.2981, -4.4694, -5.4953, -5.4268, -4.6312, -5.6067, -6.1468, -5.7848, -4.4787, -4.6453, -4.495, -5.1371, -5.2666, -5.5029, -4.8696, -5.4304, -5.3029, -5.4591, -5.3642, -5.4188, -6.6641, -6.6643, -6.6654, -6.4933, -6.9479, -6.9537, -6.9599, -6.9597, -6.9601, -6.9602, -6.9601, -6.9605, -6.9604, -6.9624, -6.9685, -6.9746, -6.9933, -6.8051, -7.024, -7.0299, -7.022, -5.9762, -7.0329, -6.3525, -5.7976, -6.9587, -7.0383, -6.9573, -6.9943, -7.0703, -6.6674, -6.7307, -6.4313, -6.6505, -6.288, -6.0403, -6.0668, -6.4343, -5.562, -5.6608, -5.7494, -5.4067, -5.4095, -6.1721, -5.855, -6.2162, -6.2455, -5.5775, -6.531, -5.5983, -5.2612, -5.27, -5.7282, -6.1751, -5.4621, -6.2949, -6.2419, -6.0578, -5.6649, -5.9493, -5.9616, -6.1371, -6.0285, -6.1263, -6.2641, -5.0983, -6.0983, -6.3486, -6.5072, -6.5251, -6.5111, -6.5115, -6.228, -6.7711, -6.8145, -6.8155, -6.8151, -6.8161, -6.8172, -6.4511, -6.8021, -6.8481, -6.8699, -6.8802, -6.8822, -6.7968, -6.824, -6.899, -6.9027, -6.8042, -6.9028, -6.5883, -7.1921, -6.8025, -7.2033, -6.8692, -5.4567, -5.5526, -6.5121, -5.9537, -5.4076, -4.8241, -5.3619, -6.2822, -5.836, -5.9319, -6.4843, -5.9099, -6.6038, -6.3966, -5.8163, -6.3332, -6.3784, -6.4848, -6.4017, -6.6443, -6.5112, -6.5474, -6.2263, -6.4514, -6.4773, -6.7314, -6.4489, -6.7407, -6.7414, -6.7418, -6.7429, -6.7676, -6.7758, -6.7341, -7.1269, -7.1269, -7.1269, -7.1269, -7.1269, -7.127, -7.127, -7.127, -7.127, -7.127, -7.1271, -7.1271, -7.1271, -7.128, -7.128, -7.1325, -7.1354, -7.1357, -6.1765, -6.5421, -6.7259, -6.4567, -6.131, -6.7901, -6.7173, -6.7398, -6.7611, -6.8047, -6.2379, -6.7449, -6.7612, -6.0924, -6.625, -6.5288, -6.4844, -6.8679, -6.4489, -6.4644, -6.5687, -6.5144, -6.6909, -6.7273, -6.7315, -6.6267, -6.6909, -6.7284, -7.0429, -7.043, -7.043, -7.043, -7.043, -7.0486, -7.0487, -7.0487, -7.0505, -7.0505, -7.0505, -7.051, -7.053, -7.053, -7.0536, -7.0536, -6.6216, -7.054, -7.054, -7.0542, -7.0523, -7.0524, -7.0524, -7.0525, -7.0527, -7.0528, -7.0548, -7.0529, -6.4171, -6.6987, -6.763, -6.0381, -6.7273, -6.5583, -6.4349, -6.6607, -6.5732, -6.5116, -6.7456, -6.6887, -6.8364, -6.7313, -6.7592, -6.8155, -7.0431, -6.9289, -7.0075, -7.0259, -7.0415, -7.0282, -7.0331, -7.0385, -7.0399, -6.5734, -6.9935, -6.9938, -6.994, -6.994, -6.994, -6.9942, -6.9942, -6.9943, -7.0246, -7.0246, -7.0246, -7.0246, -7.0246, -7.0542, -7.0542, -6.9941, -6.9942, -6.9939, -7.162, -7.1622, -7.1666, -7.1673, -7.1676, -7.1698, -7.1698, -7.0261, -7.0315, -7.0293, -6.9942, -7.0807, -6.9943, -7.0811, -6.9945, -6.9945, -6.9946, -6.9891, -6.9399, -6.9973, -6.9891], \"loglift\": [30.0, 29.0, 28.0, 27.0, 26.0, 25.0, 24.0, 23.0, 22.0, 21.0, 20.0, 19.0, 18.0, 17.0, 16.0, 15.0, 14.0, 13.0, 12.0, 11.0, 10.0, 9.0, 8.0, 7.0, 6.0, 5.0, 4.0, 3.0, 2.0, 1.0, 0.2443, 0.2397, 0.2386, 0.2381, 0.2377, 0.2317, 0.2306, 0.2303, 0.2273, 0.2254, 0.222, 0.2191, 0.219, 0.2186, 0.2178, 0.2157, 0.2155, 0.2126, 0.211, 0.2104, 0.2039, 0.2038, 0.2036, 0.2031, 0.2026, 0.2002, 0.1997, 0.1973, 0.1972, 0.1959, 0.1917, 0.1882, 0.1843, 0.1892, 0.1888, 0.195, 0.1357, 0.1789, 0.1463, 0.1725, 0.1282, 0.1275, 1.6336, 1.6334, 1.5421, 1.5175, 1.4978, 1.4884, 1.485, 1.4826, 1.4819, 1.4818, 1.4817, 1.4817, 1.4812, 1.4741, 1.4678, 1.4613, 1.4271, 1.4039, 1.3824, 1.3798, 1.3793, 1.3759, 1.3746, 1.373, 1.3644, 1.3631, 1.3612, 1.3533, 1.3281, 1.3047, 1.291, 1.2853, 1.1993, 1.1652, 0.9482, 0.7825, 0.76, 0.9904, 0.3601, 0.424, 0.4835, 0.1853, 0.0829, 0.7576, 0.4182, 0.7371, 0.7625, -0.0312, 0.998, -0.149, -0.5818, -0.5995, -0.1352, 0.4967, -0.6285, 0.5887, 0.4717, 0.0951, -0.834, -0.944, -1.289, -0.5278, -1.3706, -0.8, -0.8088, 2.0868, 2.0714, 1.9468, 1.9204, 1.8927, 1.8913, 1.8905, 1.7895, 1.774, 1.7165, 1.7148, 1.7145, 1.7131, 1.7127, 1.7069, 1.6728, 1.6357, 1.6008, 1.5872, 1.5835, 1.5579, 1.5532, 1.5518, 1.5422, 1.5421, 1.542, 1.4926, 1.4737, 1.4675, 1.4624, 1.445, 1.3662, 1.3443, 1.365, 1.1451, 0.8519, 0.1812, 0.4791, 1.0517, 0.6353, 0.6046, 1.1181, -0.2783, 1.1059, 0.5536, -1.1438, 0.2903, 0.4182, 0.4673, -0.1054, 0.2845, -2.1168, -1.6652, 2.153, 2.0065, 1.9536, 1.8407, 1.8395, 1.8301, 1.8284, 1.8282, 1.8166, 1.771, 1.757, 1.6911, 1.5657, 1.5657, 1.5657, 1.5657, 1.5657, 1.5656, 1.5656, 1.5656, 1.5656, 1.5656, 1.5653, 1.5653, 1.5653, 1.5639, 1.5639, 1.5562, 1.5513, 1.5507, 1.5496, 1.5305, 1.5029, 1.4644, 1.3981, 1.3988, 1.2526, 1.2181, 1.22, 1.2456, 0.6457, 1.168, 0.8781, -0.4994, 0.5601, 0.1096, -0.2249, 0.8598, -0.3459, -0.9182, -0.6104, -1.8351, -0.1034, 0.2024, 0.0907, 2.049, 1.917, 1.8403, 1.697, 1.697, 1.697, 1.697, 1.697, 1.6868, 1.6865, 1.6865, 1.6834, 1.6834, 1.6833, 1.6823, 1.6822, 1.682, 1.681, 1.6809, 1.6809, 1.6806, 1.6804, 1.6802, 1.6799, 1.6798, 1.6798, 1.6796, 1.6791, 1.6789, 1.6789, 1.6789, 1.5882, 1.4222, 1.4368, 0.548, 1.0308, 0.6357, 0.3324, 0.7601, 0.4349, -0.8137, -0.032, -0.7667, 0.1897, -0.7397, -1.0523, -2.1362, 1.5153, -2.271, -0.7716, 0.0613, 1.2219, -1.7018, 0.0755, 0.2389, -0.5034, 2.1618, 1.7752, 1.7746, 1.7744, 1.7744, 1.7743, 1.774, 1.7739, 1.7738, 1.7168, 1.7168, 1.7168, 1.7168, 1.7168, 1.6629, 1.6629, 1.5858, 1.5826, 1.5639, 1.5581, 1.5578, 1.5523, 1.5514, 1.551, 1.5483, 1.5483, 1.5327, 1.5088, 1.4993, 1.284, 1.2329, 0.9186, 1.2316, 0.7541, 0.5346, 0.3298, -0.2219, -1.4846, -0.7614, -1.2822]}, \"token.table\": {\"Topic\": [1, 2, 3, 1, 2, 3, 1, 2, 1, 1, 2, 1, 2, 1, 2, 1, 3, 1, 1, 2, 1, 1, 1, 2, 1, 2, 1, 3, 1, 1, 2, 1, 2, 1, 1, 2, 1, 1, 1, 2, 1, 2, 1, 2, 1, 2, 3, 1, 2, 3, 1, 1, 2, 1, 2, 1, 1, 2, 1, 2, 1, 1, 2, 1, 1, 1, 2, 1, 1, 2, 3, 1, 2, 1, 4, 1, 2, 1, 1, 2, 1, 1, 2, 3, 1, 2, 3, 1, 1, 2, 1, 1, 1, 2, 1, 1, 1, 1, 2, 1, 3, 1, 1, 2, 1, 1, 1, 2, 1, 2, 3, 1, 1, 2, 3, 1, 1, 4, 1, 3, 1, 1, 2, 1, 1, 1, 2, 1, 2, 1, 2, 1, 2, 1, 2, 1, 3, 1, 1, 1, 3, 1, 2, 4, 1, 2, 1, 2, 1, 2, 4, 1, 2, 1, 2, 1, 2, 3, 1, 2, 4, 1, 2, 1, 3, 1, 3, 1, 1, 2, 3, 1, 2, 1, 1, 3, 1, 2, 3, 1, 1, 1, 3, 1, 2, 1, 1, 1, 1, 1, 1, 1, 1, 1, 2, 1, 2, 1, 2, 1, 1, 1, 3, 1, 2, 3, 1, 1, 1, 2, 1, 1, 1, 2, 1, 2, 3, 4, 1, 3, 1, 1, 1, 1, 1, 1, 1, 2, 1, 1, 2, 1, 1, 1, 1, 1, 2, 3, 1, 2, 1, 3, 1, 1, 2, 1, 1, 1, 2, 3, 1, 2, 1, 2, 1, 1, 1, 2, 1, 2, 1, 1, 1, 1, 2, 3, 1, 2, 1, 1, 1, 1, 2, 3, 1, 2, 1, 3, 1, 2, 1, 1, 1, 3, 1, 1, 1, 1, 1, 1, 3, 1, 1, 3, 4, 1, 1, 2, 3, 1, 2, 1, 2, 3, 4, 1, 2, 1, 3, 1, 3, 1, 2, 1, 1, 1, 1, 2, 1, 1, 2, 1, 1, 4, 1, 2, 3, 1, 2, 1, 2, 1, 3, 1, 3, 1, 2, 3, 1, 2, 1, 3, 1, 2, 3, 1, 1, 2, 1, 1, 1, 1, 1, 1, 4, 1, 2, 1, 3, 1, 1, 1, 2, 4, 1, 2, 3, 1, 2, 4, 1, 2, 3, 1, 2, 1, 1, 1, 2, 1, 3, 1, 4, 1, 1, 2, 1, 2, 3, 1, 2, 1, 1, 1, 3, 1, 2, 1, 2, 4, 1, 3, 1, 1, 1, 2, 3, 1, 1, 2, 3, 1, 2, 1, 2, 1, 2, 4, 1, 1, 2, 3, 1, 3, 1, 2, 3, 1, 3, 1, 1, 3, 1, 4, 1, 1, 2, 1, 1, 2, 1, 2, 3, 4, 1, 3, 1, 2, 3, 1, 1, 2, 4, 1, 3, 1, 1, 1, 2, 1, 3, 1, 2, 1, 2, 1, 2, 1, 2, 1, 2, 1, 2, 1], \"Freq\": [0.8431836153151487, 0.07665305593774079, 0.07665305593774079, 0.8814242692556411, 0.03039394031916004, 0.06078788063832008, 0.8362363646911455, 0.1520429753983901, 0.6313464614997183, 0.5565893681410484, 0.2782946840705242, 0.41420805738531086, 0.41420805738531086, 0.945678218332145, 0.033774222083290895, 0.3977231683420021, 0.3977231683420021, 0.5958419655392827, 0.9416349620692518, 0.030375321357072636, 0.6238274217266988, 0.9761238005273587, 0.6385833305459813, 0.31929166527299063, 0.4724063068182349, 0.4724063068182349, 0.8501593068060768, 0.1062699133507596, 0.9643451087534315, 0.5307100342428352, 0.5307100342428352, 0.7072734093631498, 0.28290936374525993, 0.6546818913760397, 0.9349869771515903, 0.054359707973929666, 0.6237853761252045, 0.6068796106297696, 0.45585010450539665, 0.45585010450539665, 0.4725166255696264, 0.4725166255696264, 0.9574739093906484, 0.019540283865115273, 0.5687264581329541, 0.189575486044318, 0.189575486044318, 0.41571851040762775, 0.41571851040762775, 0.41571851040762775, 0.5908620299399007, 0.9342865232145755, 0.05119378209394934, 0.47647558042509547, 0.31765038695006365, 0.6333345608468249, 0.9173778655707442, 0.05559865851943904, 0.8904211238376409, 0.09893568042640455, 0.6220060746050726, 0.7548961126137951, 0.16775469169195448, 0.6225471006319202, 0.6324399816585697, 0.5151248571385508, 0.5151248571385508, 0.6033169065653655, 0.4328986196638256, 0.4328986196638256, 0.4328986196638256, 0.4694883006537246, 0.4694883006537246, 0.4671645360697005, 0.4671645360697005, 0.453516370336425, 0.453516370336425, 0.6068854423519674, 0.9796055333469181, 0.009895005387342606, 0.6314411805550217, 0.7729333814021957, 0.14053334207312648, 0.07026667103656324, 0.3089722292894971, 0.3089722292894971, 0.3089722292894971, 0.6544874262412388, 0.8298659523514612, 0.15559986606589898, 0.7151713526277842, 0.6068271100824244, 0.4696679485971898, 0.4696679485971898, 0.9510291196096493, 0.6031891487010689, 0.6372439172487993, 0.5211824844101689, 0.5211824844101689, 0.5157890924560651, 0.5157890924560651, 0.6333296153921095, 0.3741975138163905, 0.3741975138163905, 0.9906662417076165, 0.733556953427503, 0.44176790661583154, 0.44176790661583154, 0.5613606116846429, 0.18712020389488096, 0.18712020389488096, 0.6363297123179107, 0.8321142610857583, 0.10401428263571978, 0.10401428263571978, 0.6321023344295285, 0.479949902375614, 0.479949902375614, 0.48614336173520384, 0.48614336173520384, 0.6328745051996215, 0.47219324975677035, 0.47219324975677035, 0.6333979917059401, 0.9693891295793245, 0.9002145470236007, 0.07106956950186322, 0.7461770126024937, 0.21319343217214104, 0.8415238886238546, 0.09350265429153941, 0.5308875995440123, 0.5308875995440123, 0.7470971211737548, 0.12451618686229247, 0.4079939119855213, 0.4079939119855213, 0.6363340367598358, 0.5821898947082517, 0.45404994408853216, 0.45404994408853216, 0.5611569208162085, 0.28057846040810425, 0.28057846040810425, 0.8530948989880804, 0.12187069985544007, 0.30691346661477736, 0.30691346661477736, 0.46175124940514845, 0.23087562470257422, 0.23087562470257422, 0.6756074640247843, 0.22520248800826145, 0.6170393873103496, 0.3085196936551748, 0.8618300126924184, 0.0957588902991576, 0.0478794451495788, 0.9324101927630907, 0.05484765839782886, 0.010969531679565773, 0.9862354662518982, 0.0126440444391269, 0.5156690214727935, 0.5156690214727935, 0.6584386934296944, 0.3292193467148472, 0.6372427000593655, 0.9096803104320185, 0.028427509701000577, 0.028427509701000577, 0.40892053578996906, 0.40892053578996906, 0.633339626470758, 0.4925170663701605, 0.4925170663701605, 0.35559751908649884, 0.35559751908649884, 0.35559751908649884, 0.6372437589279415, 0.5907930559438542, 0.47655756654577064, 0.47655756654577064, 0.8099773910174904, 0.16199547820349808, 0.9270465898820549, 0.6068227907378, 0.6229052169404996, 0.6069076086254585, 0.6314004832348886, 0.589236877776354, 0.6069095227195918, 0.9363984185381388, 0.5405583058138872, 0.5405583058138872, 0.46230756423884983, 0.46230756423884983, 0.3736406216533532, 0.3736406216533532, 0.6333068169131938, 0.636335564710349, 0.523695405611052, 0.523695405611052, 0.44275061716564257, 0.44275061716564257, 0.44275061716564257, 0.9274001690085902, 0.8302321458816553, 0.7370800632140598, 0.14741601264281196, 0.8308603455813733, 0.9916658024890082, 0.6831887771413065, 0.3415943885706533, 0.9065494727152804, 0.03941519446588176, 0.03941519446588176, 0.03941519446588176, 0.9830643086720315, 0.01467260162197062, 0.63244899403884, 0.6323702471012929, 0.6545250491441186, 0.6546775833293679, 0.6327941375859785, 0.6329739844478751, 0.4741432243450353, 0.4741432243450353, 0.5303634512535917, 0.4737487832716799, 0.4737487832716799, 0.5362230835408536, 0.6225531861235298, 0.633246657420393, 0.6045385410406579, 0.6239105226027584, 0.1559776306506896, 0.1559776306506896, 0.5825172289892747, 0.29125861449463736, 0.47374778611148277, 0.47374778611148277, 0.6068187991941362, 0.4698297542344917, 0.4698297542344917, 0.7415013401223203, 0.6312103721212536, 0.9479005899828642, 0.021790818160525614, 0.021790818160525614, 0.41889385561446857, 0.41889385561446857, 0.4724473867301984, 0.4724473867301984, 0.6229456470481198, 0.6069050447523582, 0.46451412404677983, 0.46451412404677983, 0.4088730538925375, 0.4088730538925375, 0.6068982217242027, 0.5373064061326813, 0.6324460916450397, 0.9671799712546567, 0.014017101032676184, 0.014017101032676184, 0.39510847351479517, 0.39510847351479517, 0.6329667680358418, 0.536911502130858, 0.9760468766061992, 0.855839284242405, 0.06583379109556961, 0.13166758219113922, 0.6104333570131704, 0.3052166785065852, 0.48453197815723853, 0.48453197815723853, 0.9663145196324724, 0.02147365599183272, 0.60651821531043, 0.6068838634110704, 0.5163571591358624, 0.5163571591358624, 0.5575940566040735, 0.6547618443572096, 0.6545732776765009, 0.6230640766132883, 0.6937252500319558, 0.48818089760427696, 0.48818089760427696, 0.632942151426915, 0.403212976433804, 0.403212976433804, 0.13440432547793466, 0.8020317596921729, 0.9735097574968442, 0.016500165381302445, 0.008250082690651223, 0.9445403454578551, 0.03829217616721035, 0.6959649527252323, 0.19884712935006638, 0.09942356467503319, 0.09942356467503319, 0.3426456993042606, 0.3426456993042606, 0.9394755942052755, 0.05526327024736915, 0.515451809483121, 0.515451809483121, 0.47238222043304035, 0.47238222043304035, 0.654652526529688, 0.6363445827929779, 0.6372354414610794, 0.9679953986482027, 0.035851681431414914, 0.5380289881834812, 0.962732896504884, 0.024068322412622103, 0.6350519607188715, 0.9565777565600824, 0.0455513217409563, 0.454250984554682, 0.227125492277341, 0.227125492277341, 0.8506887884032238, 0.17013775768064476, 0.4614656015547348, 0.4614656015547348, 0.820264572876841, 0.09114050809742677, 0.45386799576919995, 0.45386799576919995, 0.6120736280074521, 0.2040245426691507, 0.2040245426691507, 0.4563434036639007, 0.4563434036639007, 0.3597920519670769, 0.3597920519670769, 0.4197050391885021, 0.4197050391885021, 0.20985251959425105, 0.6372403626167694, 0.4573663459902889, 0.4573663459902889, 0.9372202722783203, 0.7633373530089823, 0.6363291005959124, 0.6311553492749562, 0.6069052441664973, 0.6529728262539257, 0.32648641312696286, 0.47238946729554965, 0.47238946729554965, 0.7397829319971341, 0.12329715533285568, 0.41088002688069936, 0.6068796938918287, 0.8133782156190251, 0.07394347414718411, 0.07394347414718411, 0.9487189132096377, 0.024966287189727307, 0.024966287189727307, 0.8752913210676623, 0.08205856135009333, 0.027352853783364446, 0.42925961817930264, 0.42925961817930264, 0.42925961817930264, 0.8498413610810532, 0.13418547806542946, 0.6068770378907381, 0.8849888523585433, 0.4527275338114273, 0.4527275338114273, 0.48371304475329874, 0.48371304475329874, 0.9335578120121557, 0.07779648433434631, 0.9171343790591805, 0.5050315674397596, 0.2525157837198798, 0.7514547052864249, 0.18786367632160622, 0.09393183816080311, 0.5253992364799067, 0.39404942735993, 0.9393130548578214, 0.5967613209537157, 0.5369822993052804, 0.2684911496526402, 0.5422497808967583, 0.5422497808967583, 0.4050934011306006, 0.4050934011306006, 0.4050934011306006, 0.705243046837331, 0.20149801338209458, 0.7084530521587628, 0.5367874777021497, 0.8517724037969262, 0.10647155047461578, 0.10647155047461578, 0.6311579461591305, 0.9295367640886928, 0.047668552004548344, 0.023834276002274172, 0.9269843257298438, 0.040303666336080166, 0.4722936289843301, 0.4722936289843301, 0.5687731368400081, 0.18959104561333603, 0.18959104561333603, 0.5202966404994394, 0.9427300065672993, 0.04189911140299108, 0.02094955570149554, 0.46107603253341467, 0.46107603253341467, 0.9674327406874578, 0.013436565842881358, 0.013436565842881358, 0.9623737272348478, 0.028305109624554348, 0.654940240836862, 0.8762455373792973, 0.10514946448551567, 0.4436530531455966, 0.4436530531455966, 0.6065187280967812, 0.4191569131806621, 0.4191569131806621, 0.5312444874449813, 0.9416942674119895, 0.030377234432644822, 0.7989657301138415, 0.053264382007589435, 0.10652876401517887, 0.053264382007589435, 0.5159717245918908, 0.5159717245918908, 0.9819977811679497, 0.007439377130060224, 0.007439377130060224, 0.9888931142460511, 0.8874929281433309, 0.1044109327227448, 0.0261027331806862, 0.473721169033965, 0.473721169033965, 0.5172684113958993, 0.6220117634312576, 0.8044560615662144, 0.16089121231324288, 0.4656240048358143, 0.4656240048358143, 0.728771536273694, 0.20822043893534115, 0.813692861722916, 0.13561547695381934, 0.8744232917748355, 0.10930291147185443, 0.9337937075863696, 0.028296779017768777, 0.9195479618173025, 0.061303197454486834, 0.8122078793702968, 0.14767415988550853, 0.6314085067552629], \"Term\": [\"able\", \"able\", \"able\", \"account\", \"account\", \"account\", \"add\", \"add\", \"affirmation\", \"akong\", \"akong\", \"alam\", \"alam\", \"app\", \"app\", \"appear\", \"appear\", \"apple\", \"application\", \"application\", \"ata\", \"awesome\", \"bagay\", \"bagay\", \"baik\", \"baik\", \"balance\", \"balance\", \"bank\", \"base\", \"base\", \"bayad\", \"bayad\", \"bilihan\", \"bill\", \"bill\", \"binayaran\", \"blind\", \"borrow\", \"borrow\", \"bumalik\", \"bumalik\", \"buy\", \"buy\", \"call\", \"call\", \"call\", \"capability\", \"capability\", \"capability\", \"capital\", \"card\", \"card\", \"care\", \"care\", \"carefully\", \"cash\", \"cash\", \"cashback\", \"cashback\", \"cdcd\", \"charge\", \"charge\", \"charot\", \"combinient\", \"command\", \"command\", \"competitive\", \"complaint\", \"complaint\", \"complaint\", \"completely\", \"completely\", \"concert\", \"concert\", \"condition\", \"condition\", \"consume\", \"convenient\", \"convenient\", \"crime\", \"customer\", \"customer\", \"customer\", \"d\", \"d\", \"d\", \"dadalhin\", \"day\", \"day\", \"design\", \"disallow\", \"disappointing\", \"disappointing\", \"discount\", \"discussion\", \"distraction\", \"divide\", \"divide\", \"drop\", \"drop\", \"dumb\", \"earn\", \"earn\", \"easy\", \"ecosystem\", \"electric\", \"electric\", \"email\", \"email\", \"email\", \"epic\", \"error\", \"error\", \"error\", \"essentially\", \"event\", \"event\", \"example\", \"example\", \"exceptional\", \"excited\", \"excited\", \"faq\", \"fast\", \"feature\", \"feature\", \"feel\", \"feel\", \"financial\", \"financial\", \"focus\", \"focus\", \"follow\", \"follow\", \"forgot\", \"forgot\", \"fortnite\", \"friendly\", \"frustrating\", \"frustrating\", \"fun\", \"fun\", \"fun\", \"game\", \"game\", \"gaming\", \"gaming\", \"gamit\", \"gamit\", \"gamit\", \"gamitin\", \"gamitin\", \"ganda\", \"ganda\", \"get\", \"get\", \"get\", \"good\", \"good\", \"good\", \"great\", \"great\", \"gsis\", \"gsis\", \"hahaha\", \"hahaha\", \"half\", \"help\", \"help\", \"help\", \"hinanakit\", \"hinanakit\", \"hirap\", \"hygienic\", \"hygienic\", \"i\", \"i\", \"i\", \"important\", \"incorrect\", \"invalid\", \"invalid\", \"issue\", \"issue\", \"item\", \"joining\", \"jowa\", \"joyful\", \"judiciously\", \"kailangang\", \"kapatid\", \"kasi\", \"kaso\", \"kaso\", \"lag\", \"lag\", \"large\", \"large\", \"lay\", \"league\", \"letter\", \"letter\", \"license\", \"license\", \"license\", \"life\", \"limitless\", \"link\", \"link\", \"literally\", \"load\", \"lose\", \"lose\", \"lot\", \"lot\", \"lot\", \"lot\", \"love\", \"love\", \"maa\", \"madale\", \"madami\", \"maghanap\", \"maibubuga\", \"majestic\", \"makapag\", \"makapag\", \"malake\", \"march\", \"march\", \"masyadong\", \"matamis\", \"matutunan\", \"maximize\", \"message\", \"message\", \"message\", \"messenger\", \"messenger\", \"min\", \"min\", \"minded\", \"minimal\", \"minimal\", \"miss\", \"modify\", \"money\", \"money\", \"money\", \"nagagawa\", \"nagagawa\", \"naisisingit\", \"naisisingit\", \"nakapagbayad\", \"nakukuha\", \"nalaman\", \"nalaman\", \"nalang\", \"nalang\", \"nangailangan\", \"nangako\", \"nangyayare\", \"need\", \"need\", \"need\", \"negative\", \"negative\", \"newbie\", \"ngaun\", \"nice\", \"number\", \"number\", \"number\", \"nya\", \"nya\", \"okay\", \"okay\", \"online\", \"online\", \"oof\", \"operational\", \"optional\", \"optional\", \"organize\", \"out\", \"outing\", \"pabalik\", \"padala\", \"paggamit\", \"paggamit\", \"part\", \"password\", \"password\", \"password\", \"pati\", \"pay\", \"pay\", \"pay\", \"payment\", \"payment\", \"pera\", \"pera\", \"pera\", \"pera\", \"performance\", \"performance\", \"phone\", \"phone\", \"photo\", \"photo\", \"pinagbayad\", \"pinagbayad\", \"plano\", \"player\", \"potential\", \"problem\", \"problem\", \"provider\", \"purchase\", \"purchase\", \"pwede\", \"qr\", \"qr\", \"reach\", \"reach\", \"reach\", \"read\", \"read\", \"reason\", \"reason\", \"receive\", \"receive\", \"recovery\", \"recovery\", \"refund\", \"refund\", \"refund\", \"research\", \"research\", \"reset\", \"reset\", \"response\", \"response\", \"response\", \"responsibility\", \"reverse\", \"reverse\", \"review\", \"risk\", \"rocket\", \"safer\", \"sakanila\", \"salamat\", \"salamat\", \"satisfaction\", \"satisfaction\", \"say\", \"say\", \"section\", \"sector\", \"secure\", \"secure\", \"secure\", \"send\", \"send\", \"send\", \"service\", \"service\", \"service\", \"share\", \"share\", \"share\", \"shop\", \"shop\", \"similar\", \"simple\", \"sm\", \"sm\", \"smartmoney\", \"smartmoney\", \"smooth\", \"smooth\", \"sobrang\", \"software\", \"software\", \"start\", \"start\", \"start\", \"steam\", \"steam\", \"store\", \"stupid\", \"subscription\", \"subscription\", \"success\", \"success\", \"supervisor\", \"supervisor\", \"supervisor\", \"support\", \"support\", \"tap\", \"tatawag\", \"team\", \"team\", \"team\", \"terrorize\", \"thank\", \"thank\", \"thank\", \"thing\", \"thing\", \"thorugh\", \"thorugh\", \"ticket\", \"ticket\", \"ticket\", \"ticketnet\", \"time\", \"time\", \"time\", \"tin\", \"tin\", \"transaction\", \"transaction\", \"transaction\", \"transfer\", \"transfer\", \"trip\", \"try\", \"try\", \"tumawag\", \"tumawag\", \"ugrade\", \"unresponsive\", \"unresponsive\", \"upcoming\", \"update\", \"update\", \"upgrade\", \"upgrade\", \"upgrade\", \"upgrade\", \"upload\", \"upload\", \"use\", \"use\", \"use\", \"useful\", \"user\", \"user\", \"user\", \"validity\", \"validity\", \"variety\", \"vfds\", \"virtual\", \"virtual\", \"vpn\", \"vpn\", \"wait\", \"wait\", \"wala\", \"wala\", \"wallet\", \"wallet\", \"well\", \"well\", \"work\", \"work\", \"yung\", \"yung\", \"zero\"]}, \"R\": 30, \"lambda.step\": 0.01, \"plot.opts\": {\"xlab\": \"PC1\", \"ylab\": \"PC2\"}, \"topic.order\": [1, 2, 4, 3, 5, 6]};\n",
       "\n",
       "function LDAvis_load_lib(url, callback){\n",
       "  var s = document.createElement('script');\n",
       "  s.src = url;\n",
       "  s.async = true;\n",
       "  s.onreadystatechange = s.onload = callback;\n",
       "  s.onerror = function(){console.warn(\"failed to load library \" + url);};\n",
       "  document.getElementsByTagName(\"head\")[0].appendChild(s);\n",
       "}\n",
       "\n",
       "if(typeof(LDAvis) !== \"undefined\"){\n",
       "   // already loaded: just create the visualization\n",
       "   !function(LDAvis){\n",
       "       new LDAvis(\"#\" + \"ldavis_el2175224880505847044240196862\", ldavis_el2175224880505847044240196862_data);\n",
       "   }(LDAvis);\n",
       "}else if(typeof define === \"function\" && define.amd){\n",
       "   // require.js is available: use it to load d3/LDAvis\n",
       "   require.config({paths: {d3: \"https://d3js.org/d3.v5\"}});\n",
       "   require([\"d3\"], function(d3){\n",
       "      window.d3 = d3;\n",
       "      LDAvis_load_lib(\"https://cdn.jsdelivr.net/gh/bmabey/pyLDAvis@3.3.1/pyLDAvis/js/ldavis.v3.0.0.js\", function(){\n",
       "        new LDAvis(\"#\" + \"ldavis_el2175224880505847044240196862\", ldavis_el2175224880505847044240196862_data);\n",
       "      });\n",
       "    });\n",
       "}else{\n",
       "    // require.js not available: dynamically load d3 & LDAvis\n",
       "    LDAvis_load_lib(\"https://d3js.org/d3.v5.js\", function(){\n",
       "         LDAvis_load_lib(\"https://cdn.jsdelivr.net/gh/bmabey/pyLDAvis@3.3.1/pyLDAvis/js/ldavis.v3.0.0.js\", function(){\n",
       "                 new LDAvis(\"#\" + \"ldavis_el2175224880505847044240196862\", ldavis_el2175224880505847044240196862_data);\n",
       "            })\n",
       "         });\n",
       "}\n",
       "</script>"
      ],
      "text/plain": [
       "PreparedData(topic_coordinates=              x         y  topics  cluster       Freq\n",
       "topic                                                \n",
       "0      0.121376 -0.002736       1        1  77.580903\n",
       "1      0.004039  0.019157       2        1   9.558056\n",
       "3     -0.021592 -0.023425       3        1   5.602739\n",
       "2     -0.031209  0.000463       4        1   4.168959\n",
       "4     -0.034535  0.003520       5        1   2.064543\n",
       "5     -0.038079  0.003022       6        1   1.024801, topic_info=        Term       Freq      Total Category  logprob  loglift\n",
       "39   account  65.000000  65.000000  Default  30.0000  30.0000\n",
       "230      try  28.000000  28.000000  Default  29.0000  29.0000\n",
       "181  upgrade  18.000000  18.000000  Default  28.0000  28.0000\n",
       "268   wallet  36.000000  36.000000  Default  27.0000  27.0000\n",
       "107      add  26.000000  26.000000  Default  26.0000  26.0000\n",
       "..       ...        ...        ...      ...      ...      ...\n",
       "436     item   0.092244   6.472167   Topic6  -6.9946   0.3298\n",
       "263   simple   0.092758  11.299577   Topic6  -6.9891  -0.2219\n",
       "105    thank   0.097428  41.956382   Topic6  -6.9399  -1.4846\n",
       "623     kasi   0.091994  19.222587   Topic6  -6.9973  -0.7614\n",
       "232     work   0.092753  32.624726   Topic6  -6.9891  -1.2822\n",
       "\n",
       "[341 rows x 6 columns], token_table=      Topic      Freq     Term\n",
       "term                          \n",
       "140       1  0.843184     able\n",
       "140       2  0.076653     able\n",
       "140       3  0.076653     able\n",
       "39        1  0.881424  account\n",
       "39        2  0.030394  account\n",
       "...     ...       ...      ...\n",
       "232       1  0.919548     work\n",
       "232       2  0.061303     work\n",
       "1048      1  0.812208     yung\n",
       "1048      2  0.147674     yung\n",
       "1124      1  0.631409     zero\n",
       "\n",
       "[474 rows x 3 columns], R=30, lambda_step=0.01, plot_opts={'xlab': 'PC1', 'ylab': 'PC2'}, topic_order=[1, 2, 4, 3, 5, 6])"
      ]
     },
     "execution_count": 76,
     "metadata": {},
     "output_type": "execute_result"
    }
   ],
   "source": [
    "# Visualize the topics\n",
    "pyLDAvis.enable_notebook()\n",
    "LDAvis_prepared = gensimvis.prepare(final_lda5, corpus5, id2word5)\n",
    "LDAvis_prepared"
   ]
  },
  {
   "cell_type": "code",
   "execution_count": null,
   "id": "f2aa6a72-7473-4fde-af3f-f2dc2e457422",
   "metadata": {},
   "outputs": [],
   "source": []
  }
 ],
 "metadata": {
  "kernelspec": {
   "display_name": "Python 3",
   "language": "python",
   "name": "python3"
  },
  "language_info": {
   "codemirror_mode": {
    "name": "ipython",
    "version": 3
   },
   "file_extension": ".py",
   "mimetype": "text/x-python",
   "name": "python",
   "nbconvert_exporter": "python",
   "pygments_lexer": "ipython3",
   "version": "3.9.5"
  }
 },
 "nbformat": 4,
 "nbformat_minor": 5
}
