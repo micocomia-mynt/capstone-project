{
 "cells": [
  {
   "cell_type": "markdown",
   "id": "a3383fc5-57ef-4958-97ad-1f8deba55866",
   "metadata": {},
   "source": [
    "## Preprocessing and LDA Topic Modelling Notebook <br>\n",
    "This notebook aims to preprocess string data from Gcash App Store reviews to then fit into a topic model which will semantically create overarching topics."
   ]
  },
  {
   "cell_type": "code",
   "execution_count": 3,
   "id": "452bee43-78e9-4d71-8039-936855cad006",
   "metadata": {},
   "outputs": [
    {
     "name": "stderr",
     "output_type": "stream",
     "text": [
      "D:\\Anaconda3\\envs\\project-env-2\\lib\\site-packages\\gensim\\similarities\\__init__.py:15: UserWarning: The gensim.similarities.levenshtein submodule is disabled, because the optional Levenshtein package <https://pypi.org/project/python-Levenshtein/> is unavailable. Install Levenhstein (e.g. `pip install python-Levenshtein`) to suppress this warning.\n",
      "  warnings.warn(msg)\n"
     ]
    }
   ],
   "source": [
    "# importing libraries\n",
    "import pandas as pd\n",
    "import regex as re\n",
    "import numpy as np\n",
    "import tqdm\n",
    "from emot.emo_unicode import UNICODE_EMO, EMOTICONS\n",
    "import contractions\n",
    "from textblob import TextBlob\n",
    "from nltk.tokenize import word_tokenize\n",
    "import json\n",
    "\n",
    "import gensim\n",
    "import gensim.corpora as corpora\n",
    "from gensim.utils import simple_preprocess\n",
    "from gensim.models import CoherenceModel\n",
    "from gensim import models\n",
    "\n",
    "import spacy\n",
    "import umap.umap_ as umap\n",
    "\n",
    "from pprint import pprint\n",
    "\n",
    "import seaborn as sns\n",
    "\n",
    "import pyLDAvis.gensim_models as gensimvis\n",
    "import pickle \n",
    "import pyLDAvis\n",
    "\n",
    "from sklearn.decomposition import LatentDirichletAllocation, TruncatedSVD\n",
    "from sklearn.feature_extraction.text import CountVectorizer, TfidfVectorizer\n",
    "from sklearn.model_selection import GridSearchCV"
   ]
  },
  {
   "cell_type": "markdown",
   "id": "8100ee63-c1e5-4c69-b495-d9bfbd18e440",
   "metadata": {},
   "source": [
    "References: <br>\n",
    "https://towardsdatascience.com/evaluate-topic-model-in-python-latent-dirichlet-allocation-lda-7d57484bb5d0 <br>\n",
    "https://www.programmersought.com/article/86852802169/ <br>\n",
    "Patrick and Mico's notebooks "
   ]
  },
  {
   "cell_type": "code",
   "execution_count": 4,
   "id": "660b8137-932c-4f5d-913c-e2872e8f458b",
   "metadata": {},
   "outputs": [
    {
     "name": "stderr",
     "output_type": "stream",
     "text": [
      "D:\\Anaconda3\\envs\\project-env-2\\lib\\site-packages\\ipykernel\\ipkernel.py:287: DeprecationWarning: `should_run_async` will not call `transform_cell` automatically in the future. Please pass the result to `transformed_cell` argument and any exception that happen during thetransform in `preprocessing_exc_tuple` in IPython 7.17 and above.\n",
      "  and should_run_async(code)\n"
     ]
    }
   ],
   "source": [
    "def import_csv(path):\n",
    "    reviews = pd.read_csv(path)\n",
    "    reviews['title_review'] = reviews['title'] + ' ' + reviews['review']\n",
    "    reviews = reviews.drop(['userName','title','review','isEdited','app_id','developerResponse','app_name'],axis=1)\n",
    "    return reviews"
   ]
  },
  {
   "cell_type": "code",
   "execution_count": 5,
   "id": "b74a9e15-5724-49f0-b1fa-b76280793b27",
   "metadata": {},
   "outputs": [
    {
     "name": "stderr",
     "output_type": "stream",
     "text": [
      "D:\\Anaconda3\\envs\\project-env-2\\lib\\site-packages\\ipykernel\\ipkernel.py:287: DeprecationWarning: `should_run_async` will not call `transform_cell` automatically in the future. Please pass the result to `transformed_cell` argument and any exception that happen during thetransform in `preprocessing_exc_tuple` in IPython 7.17 and above.\n",
      "  and should_run_async(code)\n"
     ]
    }
   ],
   "source": [
    "gcash_reviews = import_csv('/Mynt Capstone/data/gcash_appstore_612020_622021.csv')"
   ]
  },
  {
   "cell_type": "code",
   "execution_count": 6,
   "id": "425a5ebd-d0d1-403c-a4de-4c8ac63c2209",
   "metadata": {},
   "outputs": [
    {
     "name": "stderr",
     "output_type": "stream",
     "text": [
      "D:\\Anaconda3\\envs\\project-env-2\\lib\\site-packages\\ipykernel\\ipkernel.py:287: DeprecationWarning: `should_run_async` will not call `transform_cell` automatically in the future. Please pass the result to `transformed_cell` argument and any exception that happen during thetransform in `preprocessing_exc_tuple` in IPython 7.17 and above.\n",
      "  and should_run_async(code)\n"
     ]
    },
    {
     "data": {
      "text/html": [
       "<div>\n",
       "<style scoped>\n",
       "    .dataframe tbody tr th:only-of-type {\n",
       "        vertical-align: middle;\n",
       "    }\n",
       "\n",
       "    .dataframe tbody tr th {\n",
       "        vertical-align: top;\n",
       "    }\n",
       "\n",
       "    .dataframe thead th {\n",
       "        text-align: right;\n",
       "    }\n",
       "</style>\n",
       "<table border=\"1\" class=\"dataframe\">\n",
       "  <thead>\n",
       "    <tr style=\"text-align: right;\">\n",
       "      <th></th>\n",
       "      <th>date</th>\n",
       "      <th>rating</th>\n",
       "      <th>title_review</th>\n",
       "    </tr>\n",
       "  </thead>\n",
       "  <tbody>\n",
       "    <tr>\n",
       "      <th>0</th>\n",
       "      <td>2020-06-07 04:57:17</td>\n",
       "      <td>5</td>\n",
       "      <td>Gcash user since 2018 I've been using gcash fo...</td>\n",
       "    </tr>\n",
       "    <tr>\n",
       "      <th>1</th>\n",
       "      <td>2021-01-12 09:46:26</td>\n",
       "      <td>5</td>\n",
       "      <td>Read please!! Those others who doesn’t like gc...</td>\n",
       "    </tr>\n",
       "    <tr>\n",
       "      <th>2</th>\n",
       "      <td>2020-07-16 05:22:48</td>\n",
       "      <td>2</td>\n",
       "      <td>Delayed Payment Reflection GCash serves as a r...</td>\n",
       "    </tr>\n",
       "    <tr>\n",
       "      <th>3</th>\n",
       "      <td>2021-02-17 09:15:31</td>\n",
       "      <td>5</td>\n",
       "      <td>7 years and counting Been using gcash for 7 ye...</td>\n",
       "    </tr>\n",
       "    <tr>\n",
       "      <th>4</th>\n",
       "      <td>2020-07-06 06:55:09</td>\n",
       "      <td>1</td>\n",
       "      <td>Worst Customer Service Ever!!!!!!! My old acco...</td>\n",
       "    </tr>\n",
       "  </tbody>\n",
       "</table>\n",
       "</div>"
      ],
      "text/plain": [
       "                  date  rating  \\\n",
       "0  2020-06-07 04:57:17       5   \n",
       "1  2021-01-12 09:46:26       5   \n",
       "2  2020-07-16 05:22:48       2   \n",
       "3  2021-02-17 09:15:31       5   \n",
       "4  2020-07-06 06:55:09       1   \n",
       "\n",
       "                                        title_review  \n",
       "0  Gcash user since 2018 I've been using gcash fo...  \n",
       "1  Read please!! Those others who doesn’t like gc...  \n",
       "2  Delayed Payment Reflection GCash serves as a r...  \n",
       "3  7 years and counting Been using gcash for 7 ye...  \n",
       "4  Worst Customer Service Ever!!!!!!! My old acco...  "
      ]
     },
     "execution_count": 6,
     "metadata": {},
     "output_type": "execute_result"
    }
   ],
   "source": [
    "gcash_reviews.head()"
   ]
  },
  {
   "cell_type": "code",
   "execution_count": 7,
   "id": "8c723629-8db9-4ba4-bc34-447f00a3da6d",
   "metadata": {},
   "outputs": [
    {
     "name": "stderr",
     "output_type": "stream",
     "text": [
      "D:\\Anaconda3\\envs\\project-env-2\\lib\\site-packages\\ipykernel\\ipkernel.py:287: DeprecationWarning: `should_run_async` will not call `transform_cell` automatically in the future. Please pass the result to `transformed_cell` argument and any exception that happen during thetransform in `preprocessing_exc_tuple` in IPython 7.17 and above.\n",
      "  and should_run_async(code)\n"
     ]
    },
    {
     "data": {
      "text/plain": [
       "'Have fun with NLP! '"
      ]
     },
     "execution_count": 7,
     "metadata": {},
     "output_type": "execute_result"
    }
   ],
   "source": [
    "# Remove emojis and emoticons\n",
    "\n",
    "# Code block 1: remove emojis\n",
    "def remove_emoji(text):\n",
    "    emoji_pattern = re.compile(\"[\"\n",
    "                           u\"\\U0001F600-\\U0001F64F\"  # emoticons\n",
    "                           u\"\\U0001F300-\\U0001F5FF\"  # symbols & pictographs\n",
    "                           u\"\\U0001F680-\\U0001F6FF\"  # transport & map symbols\n",
    "                           u\"\\U0001F1E0-\\U0001F1FF\"  # flags \n",
    "                           u\"\\U00002702-\\U000027B0\"\n",
    "                           u\"\\U000024C2-\\U0001F251\"\n",
    "                           \"]+\", flags=re.UNICODE)\n",
    "    return emoji_pattern.sub(r'', text)\n",
    "\n",
    "#Example\n",
    "remove_emoji(\"Have fun with NLP! 😃😃\")"
   ]
  },
  {
   "cell_type": "code",
   "execution_count": 8,
   "id": "a302534e-c55d-41d1-9aef-848299ab5f2b",
   "metadata": {},
   "outputs": [
    {
     "name": "stderr",
     "output_type": "stream",
     "text": [
      "D:\\Anaconda3\\envs\\project-env-2\\lib\\site-packages\\ipykernel\\ipkernel.py:287: DeprecationWarning: `should_run_async` will not call `transform_cell` automatically in the future. Please pass the result to `transformed_cell` argument and any exception that happen during thetransform in `preprocessing_exc_tuple` in IPython 7.17 and above.\n",
      "  and should_run_async(code)\n"
     ]
    }
   ],
   "source": [
    "# Function for removing emoticons\n",
    "def remove_emoticons(text):\n",
    "    emoticon_pattern = re.compile(u'(' + u'|'.join(k for k in EMOTICONS) + u')')\n",
    "    return emoticon_pattern.sub(r'', text)"
   ]
  },
  {
   "cell_type": "code",
   "execution_count": 9,
   "id": "a20e4c7e-6325-4ba8-99be-1ba8ef81af53",
   "metadata": {},
   "outputs": [
    {
     "name": "stderr",
     "output_type": "stream",
     "text": [
      "D:\\Anaconda3\\envs\\project-env-2\\lib\\site-packages\\ipykernel\\ipkernel.py:287: DeprecationWarning: `should_run_async` will not call `transform_cell` automatically in the future. Please pass the result to `transformed_cell` argument and any exception that happen during thetransform in `preprocessing_exc_tuple` in IPython 7.17 and above.\n",
      "  and should_run_async(code)\n"
     ]
    }
   ],
   "source": [
    "# Function for removing URL's\n",
    "def remove_urls (vTEXT):\n",
    "    vTEXT = re.sub(r'(https|http)?:\\/\\/(\\w|\\.|\\/|\\?|\\=|\\&|\\%)*\\b', '', vTEXT, flags=re.MULTILINE)\n",
    "    return(vTEXT)"
   ]
  },
  {
   "cell_type": "markdown",
   "id": "e5bc85c5-62b8-4d03-8d36-52c2b9e402ed",
   "metadata": {},
   "source": [
    "### Preprocessing Function"
   ]
  },
  {
   "cell_type": "code",
   "execution_count": 10,
   "id": "f2b7459c-47d5-4889-92b9-8eb36d8deb56",
   "metadata": {},
   "outputs": [
    {
     "name": "stderr",
     "output_type": "stream",
     "text": [
      "D:\\Anaconda3\\envs\\project-env-2\\lib\\site-packages\\ipykernel\\ipkernel.py:287: DeprecationWarning: `should_run_async` will not call `transform_cell` automatically in the future. Please pass the result to `transformed_cell` argument and any exception that happen during thetransform in `preprocessing_exc_tuple` in IPython 7.17 and above.\n",
      "  and should_run_async(code)\n",
      "<>:11: DeprecationWarning: invalid escape sequence \\w\n",
      "<>:11: DeprecationWarning: invalid escape sequence \\w\n",
      "<ipython-input-10-7433b03a1d38>:11: DeprecationWarning: invalid escape sequence \\w\n",
      "  corpus[column] = corpus[column].str.replace('[^\\w\\s]','') # Remove punctuation\n"
     ]
    }
   ],
   "source": [
    "def preprocess(corpus, column):\n",
    "    corpus[column].dropna(inplace=True) # Drop blank rows\n",
    "    corpus[column] = [entry.lower() for entry in corpus[column]] # Lowercase text\n",
    "    corpus[column] = corpus[column].apply(lambda x: remove_emoji(x)) #Remove emoji's\n",
    "    corpus[column] = corpus[column].apply(lambda x: remove_emoticons(x)) #Remove emoticons\n",
    "    corpus[column] = corpus[column].apply(lambda x: remove_urls(x)) #Remove URL's\n",
    "    corpus[column] = corpus[column].apply(lambda x: contractions.fix(x)) # Expand contractions\n",
    "    corpus[column] = corpus[column].apply(lambda x: str(TextBlob(x))) # Correct spelling\n",
    "    corpus[column] = corpus[column].str.replace(\"[^a-zA-Z#]\", \" \") # Remove unwanted characters, numbers and symbols\n",
    "    corpus[column] = corpus[column].str.replace(r'\\r+|\\n+|\\t+','', regex=True) #Remove \\n \\t \\r\n",
    "    corpus[column] = corpus[column].str.replace('[^\\w\\s]','') # Remove punctuation"
   ]
  },
  {
   "cell_type": "code",
   "execution_count": 11,
   "id": "57a3bfd6-0722-43e8-b999-30f61ee5d6d0",
   "metadata": {},
   "outputs": [
    {
     "name": "stderr",
     "output_type": "stream",
     "text": [
      "D:\\Anaconda3\\envs\\project-env-2\\lib\\site-packages\\ipykernel\\ipkernel.py:287: DeprecationWarning: `should_run_async` will not call `transform_cell` automatically in the future. Please pass the result to `transformed_cell` argument and any exception that happen during thetransform in `preprocessing_exc_tuple` in IPython 7.17 and above.\n",
      "  and should_run_async(code)\n",
      "<ipython-input-10-7433b03a1d38>:9: FutureWarning: The default value of regex will change from True to False in a future version.\n",
      "  corpus[column] = corpus[column].str.replace(\"[^a-zA-Z#]\", \" \") # Remove unwanted characters, numbers and symbols\n",
      "<ipython-input-10-7433b03a1d38>:11: FutureWarning: The default value of regex will change from True to False in a future version.\n",
      "  corpus[column] = corpus[column].str.replace('[^\\w\\s]','') # Remove punctuation\n"
     ]
    }
   ],
   "source": [
    "preprocess(gcash_reviews, 'title_review')"
   ]
  },
  {
   "cell_type": "code",
   "execution_count": 12,
   "id": "b1ab4d58-d273-440a-a2a3-cf4028402223",
   "metadata": {},
   "outputs": [
    {
     "name": "stderr",
     "output_type": "stream",
     "text": [
      "D:\\Anaconda3\\envs\\project-env-2\\lib\\site-packages\\ipykernel\\ipkernel.py:287: DeprecationWarning: `should_run_async` will not call `transform_cell` automatically in the future. Please pass the result to `transformed_cell` argument and any exception that happen during thetransform in `preprocessing_exc_tuple` in IPython 7.17 and above.\n",
      "  and should_run_async(code)\n"
     ]
    },
    {
     "data": {
      "text/html": [
       "<div>\n",
       "<style scoped>\n",
       "    .dataframe tbody tr th:only-of-type {\n",
       "        vertical-align: middle;\n",
       "    }\n",
       "\n",
       "    .dataframe tbody tr th {\n",
       "        vertical-align: top;\n",
       "    }\n",
       "\n",
       "    .dataframe thead th {\n",
       "        text-align: right;\n",
       "    }\n",
       "</style>\n",
       "<table border=\"1\" class=\"dataframe\">\n",
       "  <thead>\n",
       "    <tr style=\"text-align: right;\">\n",
       "      <th></th>\n",
       "      <th>date</th>\n",
       "      <th>rating</th>\n",
       "      <th>title_review</th>\n",
       "    </tr>\n",
       "  </thead>\n",
       "  <tbody>\n",
       "    <tr>\n",
       "      <th>0</th>\n",
       "      <td>2020-06-07 04:57:17</td>\n",
       "      <td>5</td>\n",
       "      <td>gcash user since      I have been using gcash ...</td>\n",
       "    </tr>\n",
       "    <tr>\n",
       "      <th>1</th>\n",
       "      <td>2021-01-12 09:46:26</td>\n",
       "      <td>5</td>\n",
       "      <td>read please   those others who does not like g...</td>\n",
       "    </tr>\n",
       "    <tr>\n",
       "      <th>2</th>\n",
       "      <td>2020-07-16 05:22:48</td>\n",
       "      <td>2</td>\n",
       "      <td>delayed payment reflection gcash serves as a r...</td>\n",
       "    </tr>\n",
       "    <tr>\n",
       "      <th>3</th>\n",
       "      <td>2021-02-17 09:15:31</td>\n",
       "      <td>5</td>\n",
       "      <td>years and counting been using gcash for   ye...</td>\n",
       "    </tr>\n",
       "    <tr>\n",
       "      <th>4</th>\n",
       "      <td>2020-07-06 06:55:09</td>\n",
       "      <td>1</td>\n",
       "      <td>worst customer service ever        my old acco...</td>\n",
       "    </tr>\n",
       "    <tr>\n",
       "      <th>5</th>\n",
       "      <td>2021-03-02 02:36:53</td>\n",
       "      <td>2</td>\n",
       "      <td>hard to use and not user friendly i only use t...</td>\n",
       "    </tr>\n",
       "    <tr>\n",
       "      <th>6</th>\n",
       "      <td>2020-07-13 11:01:25</td>\n",
       "      <td>1</td>\n",
       "      <td>was good  but    i use gcash to pay my bills  ...</td>\n",
       "    </tr>\n",
       "    <tr>\n",
       "      <th>7</th>\n",
       "      <td>2020-06-07 09:31:21</td>\n",
       "      <td>1</td>\n",
       "      <td>customer care inconvenient to use gcash has be...</td>\n",
       "    </tr>\n",
       "    <tr>\n",
       "      <th>8</th>\n",
       "      <td>2020-06-28 02:58:24</td>\n",
       "      <td>4</td>\n",
       "      <td>improvement suggestions    when a biller is sa...</td>\n",
       "    </tr>\n",
       "    <tr>\n",
       "      <th>9</th>\n",
       "      <td>2021-05-05 06:44:10</td>\n",
       "      <td>1</td>\n",
       "      <td>gcash balance a few days ago i was going to pa...</td>\n",
       "    </tr>\n",
       "  </tbody>\n",
       "</table>\n",
       "</div>"
      ],
      "text/plain": [
       "                  date  rating  \\\n",
       "0  2020-06-07 04:57:17       5   \n",
       "1  2021-01-12 09:46:26       5   \n",
       "2  2020-07-16 05:22:48       2   \n",
       "3  2021-02-17 09:15:31       5   \n",
       "4  2020-07-06 06:55:09       1   \n",
       "5  2021-03-02 02:36:53       2   \n",
       "6  2020-07-13 11:01:25       1   \n",
       "7  2020-06-07 09:31:21       1   \n",
       "8  2020-06-28 02:58:24       4   \n",
       "9  2021-05-05 06:44:10       1   \n",
       "\n",
       "                                        title_review  \n",
       "0  gcash user since      I have been using gcash ...  \n",
       "1  read please   those others who does not like g...  \n",
       "2  delayed payment reflection gcash serves as a r...  \n",
       "3    years and counting been using gcash for   ye...  \n",
       "4  worst customer service ever        my old acco...  \n",
       "5  hard to use and not user friendly i only use t...  \n",
       "6  was good  but    i use gcash to pay my bills  ...  \n",
       "7  customer care inconvenient to use gcash has be...  \n",
       "8  improvement suggestions    when a biller is sa...  \n",
       "9  gcash balance a few days ago i was going to pa...  "
      ]
     },
     "execution_count": 12,
     "metadata": {},
     "output_type": "execute_result"
    }
   ],
   "source": [
    "gcash_reviews.head(10)"
   ]
  },
  {
   "cell_type": "markdown",
   "id": "80fcd87d-8a8d-4f60-aeca-4d5eef64fc96",
   "metadata": {},
   "source": [
    "### Splitting Between 5-Star and 1-Star Reviews"
   ]
  },
  {
   "cell_type": "code",
   "execution_count": 13,
   "id": "ba2a7d23-4891-4e75-9056-2b66c5a36a81",
   "metadata": {},
   "outputs": [
    {
     "name": "stderr",
     "output_type": "stream",
     "text": [
      "D:\\Anaconda3\\envs\\project-env-2\\lib\\site-packages\\ipykernel\\ipkernel.py:287: DeprecationWarning: `should_run_async` will not call `transform_cell` automatically in the future. Please pass the result to `transformed_cell` argument and any exception that happen during thetransform in `preprocessing_exc_tuple` in IPython 7.17 and above.\n",
      "  and should_run_async(code)\n"
     ]
    },
    {
     "data": {
      "text/html": [
       "<div>\n",
       "<style scoped>\n",
       "    .dataframe tbody tr th:only-of-type {\n",
       "        vertical-align: middle;\n",
       "    }\n",
       "\n",
       "    .dataframe tbody tr th {\n",
       "        vertical-align: top;\n",
       "    }\n",
       "\n",
       "    .dataframe thead th {\n",
       "        text-align: right;\n",
       "    }\n",
       "</style>\n",
       "<table border=\"1\" class=\"dataframe\">\n",
       "  <thead>\n",
       "    <tr style=\"text-align: right;\">\n",
       "      <th></th>\n",
       "      <th>date</th>\n",
       "      <th>rating</th>\n",
       "      <th>title_review</th>\n",
       "    </tr>\n",
       "  </thead>\n",
       "  <tbody>\n",
       "    <tr>\n",
       "      <th>0</th>\n",
       "      <td>2020-06-07 04:57:17</td>\n",
       "      <td>5</td>\n",
       "      <td>gcash user since      I have been using gcash ...</td>\n",
       "    </tr>\n",
       "    <tr>\n",
       "      <th>1</th>\n",
       "      <td>2021-01-12 09:46:26</td>\n",
       "      <td>5</td>\n",
       "      <td>read please   those others who does not like g...</td>\n",
       "    </tr>\n",
       "    <tr>\n",
       "      <th>3</th>\n",
       "      <td>2021-02-17 09:15:31</td>\n",
       "      <td>5</td>\n",
       "      <td>years and counting been using gcash for   ye...</td>\n",
       "    </tr>\n",
       "    <tr>\n",
       "      <th>21</th>\n",
       "      <td>2020-07-10 07:27:55</td>\n",
       "      <td>5</td>\n",
       "      <td>verification failing all was good until when i...</td>\n",
       "    </tr>\n",
       "    <tr>\n",
       "      <th>22</th>\n",
       "      <td>2020-06-03 11:33:39</td>\n",
       "      <td>5</td>\n",
       "      <td>i wish they support apple pay i definitely lov...</td>\n",
       "    </tr>\n",
       "  </tbody>\n",
       "</table>\n",
       "</div>"
      ],
      "text/plain": [
       "                   date  rating  \\\n",
       "0   2020-06-07 04:57:17       5   \n",
       "1   2021-01-12 09:46:26       5   \n",
       "3   2021-02-17 09:15:31       5   \n",
       "21  2020-07-10 07:27:55       5   \n",
       "22  2020-06-03 11:33:39       5   \n",
       "\n",
       "                                         title_review  \n",
       "0   gcash user since      I have been using gcash ...  \n",
       "1   read please   those others who does not like g...  \n",
       "3     years and counting been using gcash for   ye...  \n",
       "21  verification failing all was good until when i...  \n",
       "22  i wish they support apple pay i definitely lov...  "
      ]
     },
     "execution_count": 13,
     "metadata": {},
     "output_type": "execute_result"
    }
   ],
   "source": [
    "gcash_rating5 = gcash_reviews[gcash_reviews['rating'] == 5]\n",
    "gcash_rating5.head()"
   ]
  },
  {
   "cell_type": "code",
   "execution_count": 14,
   "id": "5c9a1fb2-f6af-4287-8b93-980ccffcca53",
   "metadata": {},
   "outputs": [
    {
     "name": "stderr",
     "output_type": "stream",
     "text": [
      "D:\\Anaconda3\\envs\\project-env-2\\lib\\site-packages\\ipykernel\\ipkernel.py:287: DeprecationWarning: `should_run_async` will not call `transform_cell` automatically in the future. Please pass the result to `transformed_cell` argument and any exception that happen during thetransform in `preprocessing_exc_tuple` in IPython 7.17 and above.\n",
      "  and should_run_async(code)\n"
     ]
    },
    {
     "data": {
      "text/html": [
       "<div>\n",
       "<style scoped>\n",
       "    .dataframe tbody tr th:only-of-type {\n",
       "        vertical-align: middle;\n",
       "    }\n",
       "\n",
       "    .dataframe tbody tr th {\n",
       "        vertical-align: top;\n",
       "    }\n",
       "\n",
       "    .dataframe thead th {\n",
       "        text-align: right;\n",
       "    }\n",
       "</style>\n",
       "<table border=\"1\" class=\"dataframe\">\n",
       "  <thead>\n",
       "    <tr style=\"text-align: right;\">\n",
       "      <th></th>\n",
       "      <th>date</th>\n",
       "      <th>rating</th>\n",
       "      <th>title_review</th>\n",
       "    </tr>\n",
       "  </thead>\n",
       "  <tbody>\n",
       "    <tr>\n",
       "      <th>4</th>\n",
       "      <td>2020-07-06 06:55:09</td>\n",
       "      <td>1</td>\n",
       "      <td>worst customer service ever        my old acco...</td>\n",
       "    </tr>\n",
       "    <tr>\n",
       "      <th>6</th>\n",
       "      <td>2020-07-13 11:01:25</td>\n",
       "      <td>1</td>\n",
       "      <td>was good  but    i use gcash to pay my bills  ...</td>\n",
       "    </tr>\n",
       "    <tr>\n",
       "      <th>7</th>\n",
       "      <td>2020-06-07 09:31:21</td>\n",
       "      <td>1</td>\n",
       "      <td>customer care inconvenient to use gcash has be...</td>\n",
       "    </tr>\n",
       "    <tr>\n",
       "      <th>9</th>\n",
       "      <td>2021-05-05 06:44:10</td>\n",
       "      <td>1</td>\n",
       "      <td>gcash balance a few days ago i was going to pa...</td>\n",
       "    </tr>\n",
       "    <tr>\n",
       "      <th>11</th>\n",
       "      <td>2020-07-16 13:19:30</td>\n",
       "      <td>1</td>\n",
       "      <td>i did not agree to terms but my details were a...</td>\n",
       "    </tr>\n",
       "  </tbody>\n",
       "</table>\n",
       "</div>"
      ],
      "text/plain": [
       "                   date  rating  \\\n",
       "4   2020-07-06 06:55:09       1   \n",
       "6   2020-07-13 11:01:25       1   \n",
       "7   2020-06-07 09:31:21       1   \n",
       "9   2021-05-05 06:44:10       1   \n",
       "11  2020-07-16 13:19:30       1   \n",
       "\n",
       "                                         title_review  \n",
       "4   worst customer service ever        my old acco...  \n",
       "6   was good  but    i use gcash to pay my bills  ...  \n",
       "7   customer care inconvenient to use gcash has be...  \n",
       "9   gcash balance a few days ago i was going to pa...  \n",
       "11  i did not agree to terms but my details were a...  "
      ]
     },
     "execution_count": 14,
     "metadata": {},
     "output_type": "execute_result"
    }
   ],
   "source": [
    "gcash_rating1 = gcash_reviews[gcash_reviews['rating'] == 1]\n",
    "gcash_rating1.head()"
   ]
  },
  {
   "cell_type": "markdown",
   "id": "2fed7813-b7ec-4fa4-b4b9-075c85de6896",
   "metadata": {},
   "source": [
    "### Loading Additional Stopwords"
   ]
  },
  {
   "cell_type": "code",
   "execution_count": 15,
   "id": "5d1bcae0-2b0d-4f11-a5e0-5eefa87824bc",
   "metadata": {},
   "outputs": [
    {
     "name": "stderr",
     "output_type": "stream",
     "text": [
      "D:\\Anaconda3\\envs\\project-env-2\\lib\\site-packages\\ipykernel\\ipkernel.py:287: DeprecationWarning: `should_run_async` will not call `transform_cell` automatically in the future. Please pass the result to `transformed_cell` argument and any exception that happen during thetransform in `preprocessing_exc_tuple` in IPython 7.17 and above.\n",
      "  and should_run_async(code)\n"
     ]
    }
   ],
   "source": [
    "with open('/Mynt Capstone/repo/capstone-project/Data/Stopwords/stopwords-tl.json') as file:\n",
    "    tl_stopwords = json.load(file)"
   ]
  },
  {
   "cell_type": "code",
   "execution_count": 16,
   "id": "723daef7-a8c1-4fba-837b-cf3bc42af9d6",
   "metadata": {
    "scrolled": true,
    "tags": []
   },
   "outputs": [
    {
     "name": "stderr",
     "output_type": "stream",
     "text": [
      "D:\\Anaconda3\\envs\\project-env-2\\lib\\site-packages\\ipykernel\\ipkernel.py:287: DeprecationWarning: `should_run_async` will not call `transform_cell` automatically in the future. Please pass the result to `transformed_cell` argument and any exception that happen during thetransform in `preprocessing_exc_tuple` in IPython 7.17 and above.\n",
      "  and should_run_async(code)\n"
     ]
    },
    {
     "data": {
      "text/plain": [
       "147"
      ]
     },
     "execution_count": 16,
     "metadata": {},
     "output_type": "execute_result"
    }
   ],
   "source": [
    "len(tl_stopwords)"
   ]
  },
  {
   "cell_type": "code",
   "execution_count": 17,
   "id": "59df6731-a991-4d26-b804-2107695719f6",
   "metadata": {},
   "outputs": [
    {
     "name": "stderr",
     "output_type": "stream",
     "text": [
      "D:\\Anaconda3\\envs\\project-env-2\\lib\\site-packages\\ipykernel\\ipkernel.py:287: DeprecationWarning: `should_run_async` will not call `transform_cell` automatically in the future. Please pass the result to `transformed_cell` argument and any exception that happen during thetransform in `preprocessing_exc_tuple` in IPython 7.17 and above.\n",
      "  and should_run_async(code)\n"
     ]
    }
   ],
   "source": [
    "from spacy.lang.tl.stop_words import STOP_WORDS as tl_stop\n",
    "from spacy.lang.en.stop_words import STOP_WORDS as en_stop"
   ]
  },
  {
   "cell_type": "code",
   "execution_count": 18,
   "id": "9004e72c-c16c-412c-ae78-8ebefb3bf3c8",
   "metadata": {},
   "outputs": [
    {
     "name": "stderr",
     "output_type": "stream",
     "text": [
      "D:\\Anaconda3\\envs\\project-env-2\\lib\\site-packages\\ipykernel\\ipkernel.py:287: DeprecationWarning: `should_run_async` will not call `transform_cell` automatically in the future. Please pass the result to `transformed_cell` argument and any exception that happen during thetransform in `preprocessing_exc_tuple` in IPython 7.17 and above.\n",
      "  and should_run_async(code)\n"
     ]
    },
    {
     "data": {
      "text/plain": [
       "147"
      ]
     },
     "execution_count": 18,
     "metadata": {},
     "output_type": "execute_result"
    }
   ],
   "source": [
    "len(tl_stop)"
   ]
  },
  {
   "cell_type": "markdown",
   "id": "6e2d264c-7946-4e9d-8fb2-091a8d605d09",
   "metadata": {},
   "source": [
    "### Stopword List Generation"
   ]
  },
  {
   "cell_type": "code",
   "execution_count": 19,
   "id": "cf49b238-1311-4b65-ba1a-e475f8e9e7f7",
   "metadata": {},
   "outputs": [
    {
     "name": "stderr",
     "output_type": "stream",
     "text": [
      "D:\\Anaconda3\\envs\\project-env-2\\lib\\site-packages\\ipykernel\\ipkernel.py:287: DeprecationWarning: `should_run_async` will not call `transform_cell` automatically in the future. Please pass the result to `transformed_cell` argument and any exception that happen during thetransform in `preprocessing_exc_tuple` in IPython 7.17 and above.\n",
      "  and should_run_async(code)\n"
     ]
    }
   ],
   "source": [
    "final_stopwords_list = list(tl_stop) + list(en_stop) + \\\n",
    "['gcash', 'g-cash', 'app','po', 'please', 'i', 'thank', 'nyo', 'lang', 'pag', 'mag', 'nag', 'rin', 'nyu', 'kau', 'naman', 'mo']"
   ]
  },
  {
   "cell_type": "code",
   "execution_count": 20,
   "id": "de3bcc74-bac1-4d2c-ace7-cc990d32e99f",
   "metadata": {},
   "outputs": [
    {
     "name": "stderr",
     "output_type": "stream",
     "text": [
      "D:\\Anaconda3\\envs\\project-env-2\\lib\\site-packages\\ipykernel\\ipkernel.py:287: DeprecationWarning: `should_run_async` will not call `transform_cell` automatically in the future. Please pass the result to `transformed_cell` argument and any exception that happen during thetransform in `preprocessing_exc_tuple` in IPython 7.17 and above.\n",
      "  and should_run_async(code)\n"
     ]
    }
   ],
   "source": [
    "# Initialize spacy 'en' model, keeping only tagger component (for efficiency)\n",
    "nlp = spacy.load(\"en_core_web_sm\", disable=['parser', 'ner'])\n",
    "nlp.Defaults.stop_words.update(final_stopwords_list)\n",
    "\n",
    "# Function for tokenizing and lemmatization\n",
    "def tokenizer(text):\n",
    "    return [token.lemma_.lower() for token in nlp(text) if not token.is_stop and not token.is_punct]"
   ]
  },
  {
   "cell_type": "markdown",
   "id": "52ee694d-80e0-4a6a-840e-d37f3dfa5f63",
   "metadata": {},
   "source": [
    "### Visualizing the Data <br>\n",
    "The datasets were visualized in a 2-dimensional space to get an overall view if clusters of similar reviews were formed so that it can <br>\n",
    "guide us get an optimal number of topics. <br>\n",
    "### Gcash Rating 1"
   ]
  },
  {
   "cell_type": "code",
   "execution_count": 159,
   "id": "7a5e2b06-bc26-416e-90b3-3b6fa47fcf2e",
   "metadata": {},
   "outputs": [
    {
     "name": "stderr",
     "output_type": "stream",
     "text": [
      "D:\\Anaconda3\\envs\\project-env-2\\lib\\site-packages\\ipykernel\\ipkernel.py:287: DeprecationWarning: `should_run_async` will not call `transform_cell` automatically in the future. Please pass the result to `transformed_cell` argument and any exception that happen during thetransform in `preprocessing_exc_tuple` in IPython 7.17 and above.\n",
      "  and should_run_async(code)\n"
     ]
    }
   ],
   "source": [
    "vectorizer = TfidfVectorizer(min_df=10, max_features=10000, tokenizer=tokenizer, ngram_range=(1, 2))\n",
    "vz = vectorizer.fit_transform(gcash_rating1['title_review'])"
   ]
  },
  {
   "cell_type": "code",
   "execution_count": 165,
   "id": "ad566d60-841f-437e-997a-bfc085e74e15",
   "metadata": {},
   "outputs": [
    {
     "name": "stderr",
     "output_type": "stream",
     "text": [
      "D:\\Anaconda3\\envs\\project-env-2\\lib\\site-packages\\ipykernel\\ipkernel.py:287: DeprecationWarning: `should_run_async` will not call `transform_cell` automatically in the future. Please pass the result to `transformed_cell` argument and any exception that happen during thetransform in `preprocessing_exc_tuple` in IPython 7.17 and above.\n",
      "  and should_run_async(code)\n"
     ]
    }
   ],
   "source": [
    "svd_model = TruncatedSVD(n_components=50)\n",
    "svd_tfidf = svd_model.fit_transform(vz)\n",
    "\n",
    "umap_model = umap.UMAP(n_components=2)\n",
    "umap_tfidf = umap_model.fit_transform(svd_tfidf)"
   ]
  },
  {
   "cell_type": "code",
   "execution_count": 166,
   "id": "e35da2d2-1aee-4877-83ce-9146700c0561",
   "metadata": {},
   "outputs": [
    {
     "name": "stderr",
     "output_type": "stream",
     "text": [
      "D:\\Anaconda3\\envs\\project-env-2\\lib\\site-packages\\ipykernel\\ipkernel.py:287: DeprecationWarning: `should_run_async` will not call `transform_cell` automatically in the future. Please pass the result to `transformed_cell` argument and any exception that happen during thetransform in `preprocessing_exc_tuple` in IPython 7.17 and above.\n",
      "  and should_run_async(code)\n"
     ]
    }
   ],
   "source": [
    "from sklearn.cluster import DBSCAN\n",
    "eps = 2.5 # how close points should be to each other to be considered a part of a cluster, e.g 2.5\n",
    "min_samples = 15 # the minimum number of points to form a dense region, e.g 15\n",
    "dbscan = DBSCAN(\n",
    "eps=eps,\n",
    "min_samples=min_samples\n",
    ")\n",
    "dbscan_model = dbscan.fit(umap_tfidf)"
   ]
  },
  {
   "cell_type": "code",
   "execution_count": 168,
   "id": "8b4dc939-fe24-4db5-9ba5-5260134cc02e",
   "metadata": {},
   "outputs": [
    {
     "name": "stderr",
     "output_type": "stream",
     "text": [
      "D:\\Anaconda3\\envs\\project-env-2\\lib\\site-packages\\ipykernel\\ipkernel.py:287: DeprecationWarning: `should_run_async` will not call `transform_cell` automatically in the future. Please pass the result to `transformed_cell` argument and any exception that happen during thetransform in `preprocessing_exc_tuple` in IPython 7.17 and above.\n",
      "  and should_run_async(code)\n"
     ]
    }
   ],
   "source": [
    "y_dbscan = dbscan_model.labels_"
   ]
  },
  {
   "cell_type": "code",
   "execution_count": 170,
   "id": "d5071914-1c0f-490a-ad48-ccddd5e3e552",
   "metadata": {},
   "outputs": [
    {
     "name": "stderr",
     "output_type": "stream",
     "text": [
      "D:\\Anaconda3\\envs\\project-env-2\\lib\\site-packages\\ipykernel\\ipkernel.py:287: DeprecationWarning: `should_run_async` will not call `transform_cell` automatically in the future. Please pass the result to `transformed_cell` argument and any exception that happen during thetransform in `preprocessing_exc_tuple` in IPython 7.17 and above.\n",
      "  and should_run_async(code)\n"
     ]
    },
    {
     "data": {
      "text/plain": [
       "<matplotlib.collections.PathCollection at 0x293085333a0>"
      ]
     },
     "execution_count": 170,
     "metadata": {},
     "output_type": "execute_result"
    },
    {
     "data": {
      "image/png": "[encoded data removed]",
      "text/plain": [
       "<Figure size 432x288 with 1 Axes>"
      ]
     },
     "metadata": {
      "needs_background": "light"
     },
     "output_type": "display_data"
    }
   ],
   "source": [
    "import matplotlib.pyplot as plt\n",
    "\n",
    "plt.scatter(umap_tfidf[:, 0], umap_tfidf[:, 1], c=y_dbscan, s=50, cmap='viridis')"
   ]
  },
  {
   "cell_type": "markdown",
   "id": "18c5931b-cc44-4ab9-8e71-8ec93c781705",
   "metadata": {},
   "source": [
    "### Gcash Rating 5"
   ]
  },
  {
   "cell_type": "code",
   "execution_count": 171,
   "id": "e5fdd8fb-e24c-4732-8d0f-98a504c8f297",
   "metadata": {},
   "outputs": [
    {
     "name": "stderr",
     "output_type": "stream",
     "text": [
      "D:\\Anaconda3\\envs\\project-env-2\\lib\\site-packages\\ipykernel\\ipkernel.py:287: DeprecationWarning: `should_run_async` will not call `transform_cell` automatically in the future. Please pass the result to `transformed_cell` argument and any exception that happen during thetransform in `preprocessing_exc_tuple` in IPython 7.17 and above.\n",
      "  and should_run_async(code)\n"
     ]
    }
   ],
   "source": [
    "vz = vectorizer.fit_transform(gcash_rating5['title_review'])"
   ]
  },
  {
   "cell_type": "code",
   "execution_count": 174,
   "id": "6f5ad7eb-53e7-4fe3-9c67-91a591b8267b",
   "metadata": {},
   "outputs": [
    {
     "name": "stderr",
     "output_type": "stream",
     "text": [
      "D:\\Anaconda3\\envs\\project-env-2\\lib\\site-packages\\ipykernel\\ipkernel.py:287: DeprecationWarning: `should_run_async` will not call `transform_cell` automatically in the future. Please pass the result to `transformed_cell` argument and any exception that happen during thetransform in `preprocessing_exc_tuple` in IPython 7.17 and above.\n",
      "  and should_run_async(code)\n"
     ]
    }
   ],
   "source": [
    "svd_model = TruncatedSVD(n_components=30)\n",
    "svd_tfidf = svd_model.fit_transform(vz)\n",
    "\n",
    "umap_model = umap.UMAP(n_components=2)\n",
    "umap_tfidf = umap_model.fit_transform(svd_tfidf)"
   ]
  },
  {
   "cell_type": "code",
   "execution_count": 175,
   "id": "423ffc54-522c-4356-a9cb-b8e54c2ccecb",
   "metadata": {},
   "outputs": [
    {
     "name": "stderr",
     "output_type": "stream",
     "text": [
      "D:\\Anaconda3\\envs\\project-env-2\\lib\\site-packages\\ipykernel\\ipkernel.py:287: DeprecationWarning: `should_run_async` will not call `transform_cell` automatically in the future. Please pass the result to `transformed_cell` argument and any exception that happen during thetransform in `preprocessing_exc_tuple` in IPython 7.17 and above.\n",
      "  and should_run_async(code)\n"
     ]
    }
   ],
   "source": [
    "eps = 2.5 # how close points should be to each other to be considered a part of a cluster, e.g 2.5\n",
    "min_samples = 15 # the minimum number of points to form a dense region, e.g 15\n",
    "dbscan = DBSCAN(\n",
    "eps=eps,\n",
    "min_samples=min_samples\n",
    ")\n",
    "dbscan_model = dbscan.fit(umap_tfidf)"
   ]
  },
  {
   "cell_type": "code",
   "execution_count": 176,
   "id": "3e1d1744-74d4-4079-8f02-2d89121c8b73",
   "metadata": {},
   "outputs": [
    {
     "name": "stderr",
     "output_type": "stream",
     "text": [
      "D:\\Anaconda3\\envs\\project-env-2\\lib\\site-packages\\ipykernel\\ipkernel.py:287: DeprecationWarning: `should_run_async` will not call `transform_cell` automatically in the future. Please pass the result to `transformed_cell` argument and any exception that happen during thetransform in `preprocessing_exc_tuple` in IPython 7.17 and above.\n",
      "  and should_run_async(code)\n"
     ]
    },
    {
     "data": {
      "text/plain": [
       "<matplotlib.collections.PathCollection at 0x29305c6c250>"
      ]
     },
     "execution_count": 176,
     "metadata": {},
     "output_type": "execute_result"
    },
    {
     "data": {
      "image/png": "[encoded data removed]",
      "text/plain": [
       "<Figure size 432x288 with 1 Axes>"
      ]
     },
     "metadata": {
      "needs_background": "light"
     },
     "output_type": "display_data"
    }
   ],
   "source": [
    "y_dbscan = dbscan_model.labels_\n",
    "\n",
    "plt.scatter(umap_tfidf[:, 0], umap_tfidf[:, 1], c=y_dbscan, s=50, cmap='viridis')"
   ]
  },
  {
   "cell_type": "markdown",
   "id": "bb158e87-e3b1-41ab-88ec-07ce0dce94bd",
   "metadata": {},
   "source": [
    "---\n",
    "### LDA Topic Modelling <br>\n",
    "The first part will aim to create a topic model for the Gcash reviews having 1-star ratings. <br>\n",
    "### A. Gcash Rating 1"
   ]
  },
  {
   "cell_type": "code",
   "execution_count": 21,
   "id": "c9e4b823-2b73-4362-abc9-4be8e7d0c998",
   "metadata": {},
   "outputs": [
    {
     "name": "stdout",
     "output_type": "stream",
     "text": [
      "['worst', 'customer', 'service', 'ever', 'my', 'old', 'account', 'number', 'was', 'blocked', 'and', 'cannot', 'receive', 'any', 'messages', 'anymore', 'so', 'immediately', 'called', 'the', 'customer', 'service', 'on', 'june', 'about', 'the', 'issue', 'and', 'asked', 'me']\n"
     ]
    },
    {
     "name": "stderr",
     "output_type": "stream",
     "text": [
      "D:\\Anaconda3\\envs\\project-env-2\\lib\\site-packages\\ipykernel\\ipkernel.py:287: DeprecationWarning: `should_run_async` will not call `transform_cell` automatically in the future. Please pass the result to `transformed_cell` argument and any exception that happen during thetransform in `preprocessing_exc_tuple` in IPython 7.17 and above.\n",
      "  and should_run_async(code)\n"
     ]
    }
   ],
   "source": [
    "def sent_to_words(sentences):\n",
    "    for sentence in sentences:\n",
    "        yield(gensim.utils.simple_preprocess(str(sentence)))\n",
    "\n",
    "data = gcash_rating1.title_review.values.tolist()\n",
    "data_words = list(sent_to_words(data))\n",
    "print(data_words[:1][0][:30])"
   ]
  },
  {
   "cell_type": "markdown",
   "id": "603643df-2a56-4647-adaf-ccfc7cc6bbc7",
   "metadata": {},
   "source": [
    "### Phrase Modeling: Bigram and Trigram Models"
   ]
  },
  {
   "cell_type": "code",
   "execution_count": 22,
   "id": "19ae7cd6-cb06-49c7-b015-c7b32ee7b6ec",
   "metadata": {
    "tags": []
   },
   "outputs": [
    {
     "name": "stderr",
     "output_type": "stream",
     "text": [
      "D:\\Anaconda3\\envs\\project-env-2\\lib\\site-packages\\ipykernel\\ipkernel.py:287: DeprecationWarning: `should_run_async` will not call `transform_cell` automatically in the future. Please pass the result to `transformed_cell` argument and any exception that happen during thetransform in `preprocessing_exc_tuple` in IPython 7.17 and above.\n",
      "  and should_run_async(code)\n"
     ]
    }
   ],
   "source": [
    "# Build the bigram and trigram models\n",
    "bigram = gensim.models.Phrases(data_words, min_count=5, threshold=100) # higher threshold fewer phrases.\n",
    "trigram = gensim.models.Phrases(bigram[data_words], threshold=100)\n",
    "\n",
    "# Faster way to get a sentence clubbed as a trigram/bigram\n",
    "bigram_mod = gensim.models.phrases.Phraser(bigram)\n",
    "trigram_mod = gensim.models.phrases.Phraser(trigram)"
   ]
  },
  {
   "cell_type": "code",
   "execution_count": 23,
   "id": "405872c5-ee8d-438f-bcfc-833b320ccbf4",
   "metadata": {
    "tags": []
   },
   "outputs": [
    {
     "name": "stderr",
     "output_type": "stream",
     "text": [
      "D:\\Anaconda3\\envs\\project-env-2\\lib\\site-packages\\ipykernel\\ipkernel.py:287: DeprecationWarning: `should_run_async` will not call `transform_cell` automatically in the future. Please pass the result to `transformed_cell` argument and any exception that happen during thetransform in `preprocessing_exc_tuple` in IPython 7.17 and above.\n",
      "  and should_run_async(code)\n"
     ]
    }
   ],
   "source": [
    "#final_stopwords_list\n",
    "\n",
    "# Define functions for stopwords, bigrams, trigrams and lemmatization\n",
    "def remove_stopwords(texts):\n",
    "    return [[word for word in simple_preprocess(str(doc)) if word not in final_stopwords_list] for doc in texts]\n",
    "\n",
    "\n",
    "def make_bigrams(texts):\n",
    "    return [bigram_mod[doc] for doc in texts]\n",
    "\n",
    "\n",
    "def make_trigrams(texts):\n",
    "    return [trigram_mod[bigram_mod[doc]] for doc in texts]\n",
    "\n",
    "\n",
    "def lemmatization(texts, allowed_postags=['NOUN', 'ADJ', 'VERB', 'ADV']):\n",
    "    \"\"\"https://spacy.io/api/annotation\"\"\"\n",
    "    texts_out = []\n",
    "    for sent in texts:\n",
    "        doc = nlp(\" \".join(sent)) \n",
    "        texts_out.append([token.lemma_ for token in doc if token.pos_ in allowed_postags])\n",
    "    return texts_out"
   ]
  },
  {
   "cell_type": "code",
   "execution_count": 24,
   "id": "ce0df6af-294f-4323-9401-bbe053bb8755",
   "metadata": {
    "tags": []
   },
   "outputs": [
    {
     "name": "stderr",
     "output_type": "stream",
     "text": [
      "D:\\Anaconda3\\envs\\project-env-2\\lib\\site-packages\\ipykernel\\ipkernel.py:287: DeprecationWarning: `should_run_async` will not call `transform_cell` automatically in the future. Please pass the result to `transformed_cell` argument and any exception that happen during thetransform in `preprocessing_exc_tuple` in IPython 7.17 and above.\n",
      "  and should_run_async(code)\n"
     ]
    },
    {
     "name": "stdout",
     "output_type": "stream",
     "text": [
      "[['bad', 'customer', 'service', 'old', 'account', 'number', 'block', 'receive', 'message', 'anymore', 'immediately', 'call', 'customer', 'service', 'june', 'issue', 'ask', 'create', 'new', 'account', 'send', 'balance', 'previous', 'account', 'ask', 'detail', 'need', 'email', 'send', 'immediately', 'day', 'july', 'receive', 'email', 'send', 'new', 'account', 'send', 'reference', 'number', 'date', 'tell', 'receive', 'money', 'reference', 'number', 'immediately', 'call', 'customer', 'service', 'calling', 'july', 'answer', 'get', 'heck', 'agent', 'know', 'issue', 'agent', 'manner', 'customer', 'customer', 'service', 'representative', 'etiquette', 'manner']]\n"
     ]
    }
   ],
   "source": [
    "# Remove Stop Words\n",
    "data_words_nostops1 = remove_stopwords(data_words)\n",
    "\n",
    "# Form Bigrams\n",
    "data_words_bigrams1 = make_bigrams(data_words_nostops1)\n",
    "\n",
    "# Do lemmatization keeping only noun, adj, vb, adv\n",
    "data_lemmatized1 = lemmatization(data_words_bigrams1, allowed_postags=['NOUN', 'ADJ', 'VERB', 'ADV'])\n",
    "print(data_lemmatized1[:1])"
   ]
  },
  {
   "cell_type": "markdown",
   "id": "dbed36a0-f5a6-4e63-b03a-821b6d93103d",
   "metadata": {},
   "source": [
    "### Data Transformation: Corpus and Dictionary"
   ]
  },
  {
   "cell_type": "code",
   "execution_count": 25,
   "id": "1451d161-1549-4160-8fe7-81209e6dc3b3",
   "metadata": {},
   "outputs": [
    {
     "name": "stdout",
     "output_type": "stream",
     "text": [
      "[[(0, 4), (1, 2), (2, 1), (3, 1), (4, 2), (5, 1), (6, 1), (7, 1), (8, 2), (9, 1), (10, 1), (11, 5), (12, 1), (13, 1), (14, 1), (15, 2), (16, 1), (17, 1), (18, 1), (19, 3), (20, 2), (21, 2), (22, 1), (23, 1), (24, 2), (25, 1), (26, 1), (27, 1), (28, 2), (29, 3), (30, 1), (31, 1), (32, 3), (33, 2), (34, 1), (35, 4), (36, 4), (37, 1)]]\n"
     ]
    },
    {
     "name": "stderr",
     "output_type": "stream",
     "text": [
      "D:\\Anaconda3\\envs\\project-env-2\\lib\\site-packages\\ipykernel\\ipkernel.py:287: DeprecationWarning: `should_run_async` will not call `transform_cell` automatically in the future. Please pass the result to `transformed_cell` argument and any exception that happen during thetransform in `preprocessing_exc_tuple` in IPython 7.17 and above.\n",
      "  and should_run_async(code)\n"
     ]
    }
   ],
   "source": [
    "# Create Dictionary\n",
    "id2word1 = corpora.Dictionary(data_lemmatized1)\n",
    "\n",
    "# Create Corpus\n",
    "texts1 = data_lemmatized1\n",
    "\n",
    "# Term Document Frequency\n",
    "corpus1 = [id2word1.doc2bow(text) for text in texts1]\n",
    "\n",
    "# View\n",
    "print(corpus1[:1])"
   ]
  },
  {
   "cell_type": "markdown",
   "id": "4bd83145-7602-4d81-97b9-16cdb7dec1fb",
   "metadata": {},
   "source": [
    "### Base Model Creation Using TFIDF"
   ]
  },
  {
   "cell_type": "code",
   "execution_count": 26,
   "id": "b2785459-1cb2-4c4e-aa7d-9a382e9d4c26",
   "metadata": {},
   "outputs": [
    {
     "name": "stderr",
     "output_type": "stream",
     "text": [
      "D:\\Anaconda3\\envs\\project-env-2\\lib\\site-packages\\ipykernel\\ipkernel.py:287: DeprecationWarning: `should_run_async` will not call `transform_cell` automatically in the future. Please pass the result to `transformed_cell` argument and any exception that happen during thetransform in `preprocessing_exc_tuple` in IPython 7.17 and above.\n",
      "  and should_run_async(code)\n"
     ]
    }
   ],
   "source": [
    "tfidf1 = models.TfidfModel(corpus1)\n",
    "corpus_tfidf1 = tfidf1[corpus1]\n",
    "\n",
    "# Build LDA model\n",
    "lda_model_rating1 = gensim.models.LdaMulticore(corpus=corpus_tfidf1,\n",
    "                                       id2word=id2word1,\n",
    "                                       num_topics=10, \n",
    "                                       random_state=1,\n",
    "                                       chunksize=100,\n",
    "                                       passes=10,\n",
    "                                       per_word_topics=True)"
   ]
  },
  {
   "cell_type": "code",
   "execution_count": 27,
   "id": "6ec600cc-f489-42f8-80f9-58119252645b",
   "metadata": {
    "scrolled": true,
    "tags": []
   },
   "outputs": [
    {
     "name": "stdout",
     "output_type": "stream",
     "text": [
      "[(0,\n",
      "  '0.027*\"code\" + 0.016*\"send\" + 0.013*\"receive\" + 0.012*\"try\" + 0.010*\"log\" + '\n",
      "  '0.009*\"number\" + 0.009*\"time\" + 0.009*\"poor\" + 0.008*\"money\" + 0.008*\"get\"'),\n",
      " (1,\n",
      "  '0.009*\"trash\" + 0.008*\"error\" + 0.008*\"update\" + 0.007*\"bulok\" + '\n",
      "  '0.006*\"log\" + 0.006*\"ot\" + 0.005*\"wrong\" + 0.005*\"stupid\" + 0.004*\"account\" '\n",
      "  '+ 0.004*\"open\"'),\n",
      " (2,\n",
      "  '0.006*\"cash\" + 0.005*\"yung\" + 0.005*\"scammer\" + 0.005*\"niyo\" + '\n",
      "  '0.005*\"update\" + 0.004*\"bank\" + 0.004*\"handle\" + 0.004*\"pera\" + '\n",
      "  '0.004*\"account\" + 0.004*\"kayo\"'),\n",
      " (3,\n",
      "  '0.006*\"magsend\" + 0.004*\"order\" + 0.004*\"payment\" + 0.004*\"bulok\" + '\n",
      "  '0.004*\"naman\" + 0.004*\"blah\" + 0.004*\"sept\" + 0.004*\"apple\" + 0.004*\"lag\" + '\n",
      "  '0.004*\"kayo\"'),\n",
      " (4,\n",
      "  '0.007*\"code\" + 0.005*\"verification\" + 0.005*\"yung\" + 0.005*\"save\" + '\n",
      "  '0.005*\"gcredit\" + 0.005*\"pin\" + 0.005*\"gscore\" + 0.004*\"inconvenience\" + '\n",
      "  '0.004*\"withdraw\" + 0.004*\"authentication\"'),\n",
      " (5,\n",
      "  '0.011*\"open\" + 0.011*\"update\" + 0.006*\"rebate\" + 0.006*\"stupid\" + '\n",
      "  '0.005*\"yung\" + 0.005*\"crash\" + 0.005*\"load\" + 0.005*\"bulok\" + 0.004*\"give\" '\n",
      "  '+ 0.004*\"bpi\"'),\n",
      " (6,\n",
      "  '0.016*\"verify\" + 0.015*\"student\" + 0.012*\"d\" + 0.010*\"account\" + '\n",
      "  '0.009*\"fix\" + 0.008*\"paypal\" + 0.008*\"fully_verifie\" + 0.007*\"crash\" + '\n",
      "  '0.007*\"cash\" + 0.006*\"issue\"'),\n",
      " (7,\n",
      "  '0.007*\"verify\" + 0.006*\"card\" + 0.006*\"charge\" + 0.006*\"hirap\" + '\n",
      "  '0.005*\"cash\" + 0.005*\"form\" + 0.005*\"need\" + 0.005*\"service\" + '\n",
      "  '0.005*\"disappoint\" + 0.005*\"garbage\"'),\n",
      " (8,\n",
      "  '0.008*\"d\" + 0.006*\"student\" + 0.005*\"option\" + 0.005*\"naman\" + 0.005*\"lmao\" '\n",
      "  '+ 0.004*\"kwenta\" + 0.004*\"fucking\" + 0.004*\"delete\" + 0.004*\"load\" + '\n",
      "  '0.004*\"pangit\"'),\n",
      " (9,\n",
      "  '0.007*\"verify\" + 0.007*\"keeps_crashe\" + 0.007*\"pera\" + 0.006*\"acc\" + '\n",
      "  '0.005*\"service\" + 0.005*\"freak\" + 0.005*\"keeps_crashing\" + 0.005*\"yung\" + '\n",
      "  '0.005*\"try\" + 0.005*\"scam\"')]\n"
     ]
    },
    {
     "name": "stderr",
     "output_type": "stream",
     "text": [
      "D:\\Anaconda3\\envs\\project-env-2\\lib\\site-packages\\ipykernel\\ipkernel.py:287: DeprecationWarning: `should_run_async` will not call `transform_cell` automatically in the future. Please pass the result to `transformed_cell` argument and any exception that happen during thetransform in `preprocessing_exc_tuple` in IPython 7.17 and above.\n",
      "  and should_run_async(code)\n"
     ]
    }
   ],
   "source": [
    "# Print the keywords in the 10 topics\n",
    "pprint(lda_model_rating1.print_topics())\n",
    "doc_lda= lda_model_rating1[corpus_tfidf1]"
   ]
  },
  {
   "cell_type": "markdown",
   "id": "70379005-0984-4a58-94b4-ec21bcbcd34b",
   "metadata": {},
   "source": [
    "### Compute Model Coherence Score"
   ]
  },
  {
   "cell_type": "code",
   "execution_count": 28,
   "id": "38b01f2f-24bf-47ee-a220-fc620e6f14e8",
   "metadata": {},
   "outputs": [
    {
     "name": "stderr",
     "output_type": "stream",
     "text": [
      "D:\\Anaconda3\\envs\\project-env-2\\lib\\site-packages\\ipykernel\\ipkernel.py:287: DeprecationWarning: `should_run_async` will not call `transform_cell` automatically in the future. Please pass the result to `transformed_cell` argument and any exception that happen during thetransform in `preprocessing_exc_tuple` in IPython 7.17 and above.\n",
      "  and should_run_async(code)\n"
     ]
    },
    {
     "name": "stdout",
     "output_type": "stream",
     "text": [
      "\n",
      "Coherence Score:  0.4833182124565855\n"
     ]
    }
   ],
   "source": [
    "# Compute Coherence Score\n",
    "coherence_model_lda1 = CoherenceModel(model=lda_model_rating1, texts=data_lemmatized1, dictionary=id2word1, coherence='c_v')\n",
    "coherence_lda1 = coherence_model_lda1.get_coherence()\n",
    "\n",
    "print('\\nCoherence Score: ', coherence_lda1)"
   ]
  },
  {
   "cell_type": "markdown",
   "id": "ec5f3fa0-a9bc-46ff-9706-f8fc50da987b",
   "metadata": {},
   "source": [
    "### Hyperparameter Tuning <br>\n",
    "This part aims the optimum number of topics and values for eta and alpha."
   ]
  },
  {
   "cell_type": "code",
   "execution_count": 45,
   "id": "08b73ec4-036a-4cee-8db1-91a4fd68ce41",
   "metadata": {},
   "outputs": [
    {
     "name": "stderr",
     "output_type": "stream",
     "text": [
      "D:\\Anaconda3\\envs\\project-env-2\\lib\\site-packages\\ipykernel\\ipkernel.py:287: DeprecationWarning: `should_run_async` will not call `transform_cell` automatically in the future. Please pass the result to `transformed_cell` argument and any exception that happen during thetransform in `preprocessing_exc_tuple` in IPython 7.17 and above.\n",
      "  and should_run_async(code)\n"
     ]
    }
   ],
   "source": [
    "# supporting function\n",
    "def compute_coherence_values(data_lemmatized, corpus, dictionary, k, a, eta):\n",
    "    \n",
    "    lda_model = gensim.models.LdaMulticore(corpus=corpus,\n",
    "                                           id2word=dictionary,\n",
    "                                           num_topics=k,\n",
    "                                           alpha=a,\n",
    "                                           eta=eta,\n",
    "                                           random_state=100,\n",
    "                                           chunksize=100,\n",
    "                                           passes=10)\n",
    "    \n",
    "    coherence_model_lda = CoherenceModel(model=lda_model, texts=data_lemmatized, dictionary=dictionary, coherence='c_v')\n",
    "    \n",
    "    return coherence_model_lda.get_coherence()"
   ]
  },
  {
   "cell_type": "code",
   "execution_count": 42,
   "id": "34779bf1-2edd-4dec-976b-91374a661733",
   "metadata": {},
   "outputs": [
    {
     "name": "stderr",
     "output_type": "stream",
     "text": [
      "D:\\Anaconda3\\envs\\project-env-2\\lib\\site-packages\\ipykernel\\ipkernel.py:287: DeprecationWarning: `should_run_async` will not call `transform_cell` automatically in the future. Please pass the result to `transformed_cell` argument and any exception that happen during thetransform in `preprocessing_exc_tuple` in IPython 7.17 and above.\n",
      "  and should_run_async(code)\n"
     ]
    }
   ],
   "source": [
    "grid = {}\n",
    "grid['Validation_Set'] = {}\n",
    "\n",
    "# Topics range\n",
    "min_topics = 2\n",
    "max_topics = 11\n",
    "step_size = 1\n",
    "topics_range = range(min_topics, max_topics, step_size)\n",
    "\n",
    "# Alpha parameter\n",
    "alpha = list(np.arange(0.01, 1, 0.3))\n",
    "alpha.append('symmetric')\n",
    "alpha.append('asymmetric')\n",
    "\n",
    "# Eta parameter\n",
    "eta = list(np.arange(0.01, 1, 0.3))\n",
    "eta.append('symmetric')"
   ]
  },
  {
   "cell_type": "code",
   "execution_count": 48,
   "id": "9465d764-d12a-455e-a1b3-738721b4080e",
   "metadata": {
    "scrolled": true,
    "tags": []
   },
   "outputs": [
    {
     "name": "stderr",
     "output_type": "stream",
     "text": [
      "D:\\Anaconda3\\envs\\project-env-2\\lib\\site-packages\\ipykernel\\ipkernel.py:287: DeprecationWarning: `should_run_async` will not call `transform_cell` automatically in the future. Please pass the result to `transformed_cell` argument and any exception that happen during thetransform in `preprocessing_exc_tuple` in IPython 7.17 and above.\n",
      "  and should_run_async(code)\n",
      "\n",
      "\n",
      "  0%|          | 0/200 [00:00<?, ?it/s]\u001b[A\u001b[A\n",
      "\n",
      "  0%|          | 1/200 [00:46<2:34:58, 46.73s/it]\u001b[A\u001b[A\n",
      "\n",
      "  1%|          | 2/200 [01:35<2:37:24, 47.70s/it]\u001b[A\u001b[A\n",
      "\n",
      "  2%|▏         | 3/200 [02:23<2:36:54, 47.79s/it]\u001b[A\u001b[A\n",
      "\n",
      "  2%|▏         | 4/200 [03:10<2:35:33, 47.62s/it]\u001b[A\u001b[A\n",
      "\n",
      "  2%|▎         | 5/200 [03:58<2:35:49, 47.95s/it]\u001b[A\u001b[A\n",
      "\n",
      "  3%|▎         | 6/200 [04:46<2:35:07, 47.98s/it]\u001b[A\u001b[A\n",
      "\n",
      "  4%|▎         | 7/200 [05:34<2:33:23, 47.69s/it]\u001b[A\u001b[A\n",
      "\n",
      "  4%|▍         | 8/200 [06:22<2:33:15, 47.90s/it]\u001b[A\u001b[A\n",
      "\n",
      "  1%|          | 2/200 [18:37<30:44:07, 558.82s/it]A\u001b[A\n",
      "  0%|          | 0/200 [08:11<?, ?it/s]\n",
      "\n",
      "\n",
      "  5%|▌         | 10/200 [07:58<2:31:39, 47.89s/it]\u001b[A\u001b[A\n",
      "\n",
      "  6%|▌         | 11/200 [08:46<2:31:13, 48.01s/it]\u001b[A\u001b[A\n",
      "\n",
      "  6%|▌         | 12/200 [09:33<2:29:37, 47.75s/it]\u001b[A\u001b[A\n",
      "\n",
      "  6%|▋         | 13/200 [10:21<2:28:42, 47.71s/it]\u001b[A\u001b[A\n",
      "\n",
      "  7%|▋         | 14/200 [11:09<2:28:35, 47.93s/it]\u001b[A\u001b[A\n",
      "\n",
      "  8%|▊         | 15/200 [11:57<2:28:00, 48.00s/it]\u001b[A\u001b[A\n",
      "\n",
      "  8%|▊         | 16/200 [12:45<2:26:37, 47.81s/it]\u001b[A\u001b[A\n",
      "\n",
      "  8%|▊         | 17/200 [13:32<2:25:43, 47.78s/it]\u001b[A\u001b[A\n",
      "\n",
      "  9%|▉         | 18/200 [14:19<2:24:01, 47.48s/it]\u001b[A\u001b[A\n",
      "\n",
      " 10%|▉         | 19/200 [15:07<2:23:08, 47.45s/it]\u001b[A\u001b[A\n",
      "\n",
      " 10%|█         | 20/200 [15:55<2:23:01, 47.68s/it]\u001b[A\u001b[A\n",
      "\n",
      " 10%|█         | 21/200 [16:43<2:22:46, 47.86s/it]\u001b[A\u001b[A\n",
      "\n",
      " 11%|█         | 22/200 [17:31<2:21:42, 47.77s/it]\u001b[A\u001b[A\n",
      "\n",
      " 12%|█▏        | 23/200 [18:19<2:21:02, 47.81s/it]\u001b[A\u001b[A\n",
      "\n",
      " 12%|█▏        | 24/200 [19:07<2:20:28, 47.89s/it]\u001b[A\u001b[A\n",
      "\n",
      " 12%|█▎        | 25/200 [19:55<2:19:42, 47.90s/it]\u001b[A\u001b[A\n",
      "\n",
      " 13%|█▎        | 26/200 [20:43<2:19:11, 47.99s/it]\u001b[A\u001b[A\n",
      "\n",
      " 14%|█▎        | 27/200 [21:31<2:18:16, 47.96s/it]\u001b[A\u001b[A\n",
      "\n",
      " 14%|█▍        | 28/200 [22:18<2:16:49, 47.73s/it]\u001b[A\u001b[A\n",
      "\n",
      " 14%|█▍        | 29/200 [23:05<2:15:33, 47.56s/it]\u001b[A\u001b[A\n",
      "\n",
      " 15%|█▌        | 30/200 [23:52<2:14:21, 47.42s/it]\u001b[A\u001b[A\n",
      "\n",
      " 16%|█▌        | 31/200 [24:40<2:13:56, 47.56s/it]\u001b[A\u001b[A\n",
      "\n",
      " 16%|█▌        | 32/200 [25:29<2:14:21, 47.99s/it]\u001b[A\u001b[A\n",
      "\n",
      " 16%|█▋        | 33/200 [26:17<2:13:41, 48.03s/it]\u001b[A\u001b[A\n",
      "\n",
      " 17%|█▋        | 34/200 [27:04<2:12:13, 47.79s/it]\u001b[A\u001b[A\n",
      "\n",
      " 18%|█▊        | 35/200 [27:52<2:11:37, 47.86s/it]\u001b[A\u001b[A\n",
      "\n",
      " 18%|█▊        | 36/200 [28:40<2:10:14, 47.65s/it]\u001b[A\u001b[A\n",
      "\n",
      " 18%|█▊        | 37/200 [29:27<2:09:28, 47.66s/it]\u001b[A\u001b[A\n",
      "\n",
      " 19%|█▉        | 38/200 [30:16<2:09:53, 48.11s/it]\u001b[A\u001b[A\n",
      "\n",
      " 20%|█▉        | 39/200 [31:05<2:09:17, 48.18s/it]\u001b[A\u001b[A\n",
      "\n",
      " 20%|██        | 40/200 [31:53<2:08:18, 48.12s/it]\u001b[A\u001b[A\n",
      "\n",
      " 20%|██        | 41/200 [32:41<2:07:31, 48.12s/it]\u001b[A\u001b[A\n",
      "\n",
      " 21%|██        | 42/200 [33:28<2:06:17, 47.96s/it]\u001b[A\u001b[A\n",
      "\n",
      " 22%|██▏       | 43/200 [34:16<2:05:33, 47.99s/it]\u001b[A\u001b[A\n",
      "\n",
      " 22%|██▏       | 44/200 [35:05<2:05:26, 48.25s/it]\u001b[A\u001b[A\n",
      "\n",
      " 22%|██▎       | 45/200 [35:54<2:04:36, 48.23s/it]\u001b[A\u001b[A\n",
      "\n",
      " 23%|██▎       | 46/200 [36:41<2:03:20, 48.06s/it]\u001b[A\u001b[A\n",
      "\n",
      " 24%|██▎       | 47/200 [37:29<2:02:42, 48.12s/it]\u001b[A\u001b[A\n",
      "\n",
      " 24%|██▍       | 48/200 [38:18<2:02:00, 48.16s/it]\u001b[A\u001b[A\n",
      "\n",
      " 24%|██▍       | 49/200 [39:06<2:01:26, 48.26s/it]\u001b[A\u001b[A\n",
      "\n",
      " 25%|██▌       | 50/200 [39:56<2:01:31, 48.61s/it]\u001b[A\u001b[A\n",
      "\n",
      " 26%|██▌       | 51/200 [40:44<2:00:24, 48.48s/it]\u001b[A\u001b[A\n",
      "\n",
      " 26%|██▌       | 52/200 [41:32<1:59:18, 48.37s/it]\u001b[A\u001b[A\n",
      "\n",
      " 26%|██▋       | 53/200 [42:20<1:58:36, 48.41s/it]\u001b[A\u001b[A\n",
      "\n",
      " 27%|██▋       | 54/200 [43:09<1:56:40, 47.95s/it]\u001b[A\u001b[A\n"
     ]
    }
   ],
   "source": [
    "model_results = {'Topics': [],\n",
    "                 'Alpha': [],\n",
    "                 'Eta': [],\n",
    "                 'Coherence': []\n",
    "                }\n",
    "# Loop to determine optimal number of topics\n",
    "if 1 == 1:\n",
    "    pbar = tqdm.tqdm(total=54)\n",
    "    \n",
    "    # iterate through the number of topics\n",
    "    for k in topics_range:\n",
    "        # iterate through alpha values\n",
    "        for a in alpha:\n",
    "            # iterare through eta values\n",
    "            for e in eta:\n",
    "                cv = compute_coherence_values(data_lemmatized1, \n",
    "                                              corpus=corpus_tfidf1, \n",
    "                                              dictionary=id2word1, \n",
    "                                              k=k,\n",
    "                                              a=a,\n",
    "                                              eta=e)\n",
    "                model_results['Topics'].append(k)\n",
    "                model_results['Alpha'].append(a)\n",
    "                model_results['Eta'].append(e)\n",
    "                model_results['Coherence'].append(cv)\n",
    "        \n",
    "            pbar.update(1)\n",
    "    \n",
    "    pd.DataFrame(model_results).to_csv('lda_tuning_results_rating1.csv', index=False)\n",
    "    pbar.close()"
   ]
  },
  {
   "cell_type": "code",
   "execution_count": 50,
   "id": "e40e118c-14bf-4c29-b393-fbdd7bfc849b",
   "metadata": {},
   "outputs": [
    {
     "name": "stderr",
     "output_type": "stream",
     "text": [
      "D:\\Anaconda3\\envs\\project-env-2\\lib\\site-packages\\ipykernel\\ipkernel.py:287: DeprecationWarning: `should_run_async` will not call `transform_cell` automatically in the future. Please pass the result to `transformed_cell` argument and any exception that happen during thetransform in `preprocessing_exc_tuple` in IPython 7.17 and above.\n",
      "  and should_run_async(code)\n"
     ]
    }
   ],
   "source": [
    "lda_tuning_results_rating1= pd.read_csv('lda_tuning_results_rating1.csv')"
   ]
  },
  {
   "cell_type": "code",
   "execution_count": 51,
   "id": "00a71fdf-f4f5-4eca-9b2d-92c7f5b3d31d",
   "metadata": {
    "scrolled": true,
    "tags": []
   },
   "outputs": [
    {
     "name": "stderr",
     "output_type": "stream",
     "text": [
      "D:\\Anaconda3\\envs\\project-env-2\\lib\\site-packages\\ipykernel\\ipkernel.py:287: DeprecationWarning: `should_run_async` will not call `transform_cell` automatically in the future. Please pass the result to `transformed_cell` argument and any exception that happen during thetransform in `preprocessing_exc_tuple` in IPython 7.17 and above.\n",
      "  and should_run_async(code)\n"
     ]
    },
    {
     "data": {
      "text/html": [
       "<div>\n",
       "<style scoped>\n",
       "    .dataframe tbody tr th:only-of-type {\n",
       "        vertical-align: middle;\n",
       "    }\n",
       "\n",
       "    .dataframe tbody tr th {\n",
       "        vertical-align: top;\n",
       "    }\n",
       "\n",
       "    .dataframe thead th {\n",
       "        text-align: right;\n",
       "    }\n",
       "</style>\n",
       "<table border=\"1\" class=\"dataframe\">\n",
       "  <thead>\n",
       "    <tr style=\"text-align: right;\">\n",
       "      <th></th>\n",
       "      <th>Topics</th>\n",
       "      <th>Alpha</th>\n",
       "      <th>Eta</th>\n",
       "      <th>Coherence</th>\n",
       "    </tr>\n",
       "  </thead>\n",
       "  <tbody>\n",
       "    <tr>\n",
       "      <th>118</th>\n",
       "      <td>5</td>\n",
       "      <td>asymmetric</td>\n",
       "      <td>0.9099999999999999</td>\n",
       "      <td>0.733527</td>\n",
       "    </tr>\n",
       "    <tr>\n",
       "      <th>207</th>\n",
       "      <td>8</td>\n",
       "      <td>asymmetric</td>\n",
       "      <td>0.61</td>\n",
       "      <td>0.710479</td>\n",
       "    </tr>\n",
       "    <tr>\n",
       "      <th>208</th>\n",
       "      <td>8</td>\n",
       "      <td>asymmetric</td>\n",
       "      <td>0.9099999999999999</td>\n",
       "      <td>0.697759</td>\n",
       "    </tr>\n",
       "    <tr>\n",
       "      <th>117</th>\n",
       "      <td>5</td>\n",
       "      <td>asymmetric</td>\n",
       "      <td>0.61</td>\n",
       "      <td>0.679988</td>\n",
       "    </tr>\n",
       "    <tr>\n",
       "      <th>237</th>\n",
       "      <td>9</td>\n",
       "      <td>asymmetric</td>\n",
       "      <td>0.61</td>\n",
       "      <td>0.611178</td>\n",
       "    </tr>\n",
       "    <tr>\n",
       "      <th>...</th>\n",
       "      <td>...</td>\n",
       "      <td>...</td>\n",
       "      <td>...</td>\n",
       "      <td>...</td>\n",
       "    </tr>\n",
       "    <tr>\n",
       "      <th>168</th>\n",
       "      <td>7</td>\n",
       "      <td>0.9099999999999999</td>\n",
       "      <td>0.9099999999999999</td>\n",
       "      <td>0.213413</td>\n",
       "    </tr>\n",
       "    <tr>\n",
       "      <th>27</th>\n",
       "      <td>2</td>\n",
       "      <td>asymmetric</td>\n",
       "      <td>0.61</td>\n",
       "      <td>0.211423</td>\n",
       "    </tr>\n",
       "    <tr>\n",
       "      <th>253</th>\n",
       "      <td>10</td>\n",
       "      <td>0.61</td>\n",
       "      <td>0.9099999999999999</td>\n",
       "      <td>0.208435</td>\n",
       "    </tr>\n",
       "    <tr>\n",
       "      <th>223</th>\n",
       "      <td>9</td>\n",
       "      <td>0.61</td>\n",
       "      <td>0.9099999999999999</td>\n",
       "      <td>0.207025</td>\n",
       "    </tr>\n",
       "    <tr>\n",
       "      <th>138</th>\n",
       "      <td>6</td>\n",
       "      <td>0.9099999999999999</td>\n",
       "      <td>0.9099999999999999</td>\n",
       "      <td>0.202291</td>\n",
       "    </tr>\n",
       "  </tbody>\n",
       "</table>\n",
       "<p>270 rows × 4 columns</p>\n",
       "</div>"
      ],
      "text/plain": [
       "     Topics               Alpha                 Eta  Coherence\n",
       "118       5          asymmetric  0.9099999999999999   0.733527\n",
       "207       8          asymmetric                0.61   0.710479\n",
       "208       8          asymmetric  0.9099999999999999   0.697759\n",
       "117       5          asymmetric                0.61   0.679988\n",
       "237       9          asymmetric                0.61   0.611178\n",
       "..      ...                 ...                 ...        ...\n",
       "168       7  0.9099999999999999  0.9099999999999999   0.213413\n",
       "27        2          asymmetric                0.61   0.211423\n",
       "253      10                0.61  0.9099999999999999   0.208435\n",
       "223       9                0.61  0.9099999999999999   0.207025\n",
       "138       6  0.9099999999999999  0.9099999999999999   0.202291\n",
       "\n",
       "[270 rows x 4 columns]"
      ]
     },
     "execution_count": 51,
     "metadata": {},
     "output_type": "execute_result"
    }
   ],
   "source": [
    "lda_tuning_results_rating1.sort_values(by='Coherence', ascending=False)"
   ]
  },
  {
   "cell_type": "markdown",
   "id": "fcc26f30-d723-4f24-869c-25142c50d609",
   "metadata": {},
   "source": [
    "### Final Model"
   ]
  },
  {
   "cell_type": "code",
   "execution_count": 55,
   "id": "88bd5dd6-e2e1-4262-b9d6-530cae4cc0e0",
   "metadata": {},
   "outputs": [
    {
     "name": "stderr",
     "output_type": "stream",
     "text": [
      "D:\\Anaconda3\\envs\\project-env-2\\lib\\site-packages\\ipykernel\\ipkernel.py:287: DeprecationWarning: `should_run_async` will not call `transform_cell` automatically in the future. Please pass the result to `transformed_cell` argument and any exception that happen during thetransform in `preprocessing_exc_tuple` in IPython 7.17 and above.\n",
      "  and should_run_async(code)\n"
     ]
    }
   ],
   "source": [
    "final_lda1 = gensim.models.LdaMulticore(corpus=corpus1,\n",
    "                                           id2word=id2word1,\n",
    "                                           num_topics=5, \n",
    "                                           random_state=100,\n",
    "                                           chunksize=100,\n",
    "                                           passes=10,\n",
    "                                           alpha='asymmetric',\n",
    "                                           eta=0.9099999999999999)"
   ]
  },
  {
   "cell_type": "code",
   "execution_count": 56,
   "id": "b03bb349-7c45-4cbd-9d3e-3a3c02ddd97e",
   "metadata": {
    "tags": []
   },
   "outputs": [
    {
     "name": "stderr",
     "output_type": "stream",
     "text": [
      "D:\\Anaconda3\\envs\\project-env-2\\lib\\site-packages\\ipykernel\\ipkernel.py:287: DeprecationWarning: `should_run_async` will not call `transform_cell` automatically in the future. Please pass the result to `transformed_cell` argument and any exception that happen during thetransform in `preprocessing_exc_tuple` in IPython 7.17 and above.\n",
      "  and should_run_async(code)\n"
     ]
    },
    {
     "data": {
      "text/html": [
       "\n",
       "<link rel=\"stylesheet\" type=\"text/css\" href=\"https://cdn.jsdelivr.net/gh/bmabey/pyLDAvis@3.3.1/pyLDAvis/js/ldavis.v1.0.0.css\">\n",
       "\n",
       "\n",
       "<div id=\"ldavis_el120562138735291968771004808\"></div>\n",
       "<script type=\"text/javascript\">\n",
       "\n",
       "var ldavis_el120562138735291968771004808_data = {\"mdsDat\": {\"x\": [0.12292180819274434, 0.025378288581794115, -0.05908761307362534, -0.03689021711435679, -0.05232226658655636], \"y\": [-0.023378764542210672, 0.05472957107224398, -0.03128726145174595, -0.02379445839454416, 0.023730913316256777], \"topics\": [1, 2, 3, 4, 5], \"cluster\": [1, 1, 1, 1, 1], \"Freq\": [66.822950367245, 14.836064719169215, 10.008224817291488, 6.525184789641021, 1.807575306653277]}, \"tinfo\": {\"Term\": [\"d\", \"money\", \"student\", \"yung\", \"i\", \"pera\", \"naman\", \"bank\", \"transfer\", \"verify\", \"kayo\", \"verification\", \"transaction\", \"wala\", \"account\", \"service\", \"option\", \"load\", \"tapos\", \"update\", \"fix\", \"niyo\", \"star\", \"rebate\", \"bulok\", \"try\", \"sana\", \"cash\", \"message\", \"stupid\", \"fix\", \"code\", \"try\", \"update\", \"log\", \"open\", \"need\", \"link\", \"submit\", \"work\", \"new\", \"load\", \"keep\", \"paypal\", \"access\", \"iphone\", \"bug\", \"verify\", \"register\", \"poor\", \"io\", \"fully_verifie\", \"receive\", \"late\", \"annoying\", \"process\", \"php\", \"soon\", \"working\", \"tell\", \"send\", \"time\", \"email\", \"cash\", \"account\", \"error\", \"use\", \"verification\", \"customer\", \"service\", \"day\", \"say\", \"number\", \"bad\", \"issue\", \"money\", \"pay\", \"problem\", \"transaction\", \"d\", \"steal\", \"spending\", \"apple\", \"fund\", \"validation\", \"energy\", \"representative\", \"dispute\", \"glitchy\", \"october\", \"hold\", \"deputa\", \"stole\", \"gahaman\", \"ongoing\", \"acknowledge\", \"revert\", \"different\", \"st\", \"company\", \"papanget\", \"owner\", \"screw\", \"receipt\", \"november\", \"grab\", \"basura\", \"ddnt\", \"investigate\", \"unwilling\", \"spend\", \"gumamit\", \"transfer\", \"bank\", \"reflect\", \"debit\", \"delete\", \"money\", \"pesos\", \"miss\", \"return\", \"input\", \"application\", \"transaction\", \"balance\", \"service\", \"well\", \"account\", \"want\", \"bill\", \"payment\", \"customer\", \"star\", \"pay\", \"go\", \"limit\", \"credit\", \"niyo\", \"use\", \"month\", \"day\", \"help\", \"issue\", \"bad\", \"time\", \"number\", \"say\", \"cash\", \"ibalik\", \"sana\", \"sakin\", \"serbisyo\", \"anong\", \"pera\", \"ganon\", \"mahirap\", \"interest\", \"magnanakaw\", \"tinanggal\", \"hndi\", \"arte\", \"yan\", \"bumaba\", \"mo\", \"tama\", \"bayad\", \"kase\", \"putangina\", \"alam\", \"pala\", \"tong\", \"ayaw\", \"pangit\", \"gamit\", \"papaload\", \"paasa\", \"escalation\", \"malala\", \"naman\", \"akala\", \"stupid\", \"tas\", \"kayo\", \"yung\", \"wala\", \"ayusin\", \"niyo\", \"ma\", \"mas\", \"sayang\", \"lagi\", \"yun\", \"cash\", \"gcredit\", \"fee\", \"tapos\", \"bulok\", \"bank\", \"card\", \"gscore\", \"nalang\", \"account\", \"rebate\", \"tin\", \"student\", \"unlock\", \"naka\", \"private\", \"postal\", \"natatanggap\", \"twitter\", \"inbox\", \"macontact\", \"nakaka\", \"akong\", \"tweet\", \"i\", \"choice\", \"panget\", \"meron\", \"lagyan\", \"bulbol\", \"inang\", \"loloko\", \"trip\", \"badi\", \"mangyayari\", \"magvverify\", \"mangyari\", \"prop\", \"paghingi\", \"namamansin\", \"d\", \"friendly\", \"wala\", \"bring\", \"basura\", \"prc\", \"kwenta\", \"option\", \"niyo\", \"thank\", \"valid\", \"naman\", \"yung\", \"verification\", \"message\", \"verify\", \"tapos\", \"bulok\", \"crash\", \"load\", \"gcredit\", \"support\", \"service\", \"freebie\", \"swapang\", \"tingin\", \"ausin\", \"sumisho\", \"hihiram\", \"nakaw\", \"naibalik\", \"saglit\", \"aupport\", \"sumagot\", \"magige\", \"simpleng\", \"corrupt\", \"tangkilikin\", \"pumatok\", \"porket\", \"temp\", \"bwakanangina\", \"pahiya\", \"metikoloso\", \"natural\", \"pelase\", \"pllease\", \"kwarta\", \"logo\", \"corrupting\", \"mandarambong\", \"bawas\", \"magkano\", \"mo\", \"tlga\", \"nung\", \"tapos\", \"tong\", \"star\", \"free\", \"transaction\", \"scam\", \"phone\", \"magreply\", \"user\", \"matagal\", \"man\", \"parang\", \"available\", \"paymaya\", \"pera\", \"ok\"], \"Freq\": [72.0, 157.0, 39.0, 61.0, 35.0, 41.0, 46.0, 66.0, 60.0, 155.0, 33.0, 83.0, 63.0, 26.0, 226.0, 144.0, 38.0, 92.0, 24.0, 159.0, 114.0, 22.0, 27.0, 11.0, 25.0, 136.0, 12.0, 135.0, 23.0, 13.0, 113.28401607297438, 88.47651217040314, 133.61744248148278, 156.07389370800448, 56.31690964914185, 40.032450736970176, 88.79824861490732, 31.07391531708242, 29.76458711990009, 71.3153734357644, 28.101215148259897, 88.27836054668727, 24.87407928319301, 30.832469395571156, 25.463553131515585, 25.186529536535794, 24.7405646003017, 146.7782653403403, 28.340059153772593, 54.266005684478024, 19.822680943316634, 35.52035704683314, 70.55168757143875, 17.054076451789964, 17.456298996227012, 23.33369797454888, 18.067424944762216, 19.61246667858932, 14.411078155373993, 18.458665472672486, 91.99319350592152, 100.28429909948584, 48.950576000012425, 119.85449021332774, 195.92584921031855, 53.069961097360846, 84.12576202875199, 73.54487133014915, 93.88734874235952, 116.74993652777474, 62.504553070002764, 53.6944407422769, 57.070286875771934, 56.383044362734374, 51.67164539250151, 109.30082184423988, 52.60784992312231, 41.56967063102804, 45.55414229901588, 46.41429463222849, 8.754669915613473, 4.0918786903754025, 5.056264337741061, 10.16717784866301, 2.975835348942693, 2.772543293865587, 3.0249069821958647, 2.9692453597864135, 3.3182072577384014, 2.4914916202958692, 2.403126293828363, 2.2647146730900136, 2.1899873180510823, 2.1630531180320762, 2.0634890147961795, 2.018419496605701, 2.320865893300954, 2.933541684018531, 1.9355198569616692, 4.681946138045257, 1.9489747960378487, 2.326570126793916, 1.7463162087869752, 2.397878541922981, 2.366781455180394, 1.7258884516252573, 3.1958891550782518, 1.7231998547731833, 1.719207495939484, 1.6982234963134304, 4.272999096711026, 2.3523452593260963, 29.814248711685533, 31.692376108767206, 4.360517692431191, 2.9911270698915944, 6.170385015003567, 45.414321461468674, 6.990219900183462, 3.695926121591168, 4.442294678682529, 5.101299640424223, 6.208826755826873, 14.871775477022245, 7.956493309153628, 23.04426345140321, 4.883033835016415, 26.13040657287937, 8.240892056326679, 9.434793403011998, 7.735124748102367, 14.819206166968875, 6.978637195192405, 10.412331271531668, 6.975403623633425, 6.50363361298477, 5.402008603888482, 5.837105636806945, 9.799272926708186, 6.440451724372707, 8.411720053308626, 6.551158815236549, 7.434306404944033, 6.837949624864927, 6.741641079056166, 6.333596007963017, 6.275586844481255, 6.461109646091679, 4.373376703527657, 8.5717785611173, 4.182109942802588, 3.2593410654200614, 3.4638081369927596, 25.60289740738554, 2.6591740883618358, 2.506713297497218, 4.569710609783574, 3.959526324278536, 2.3049815056392173, 2.301146663501592, 2.9702290074098556, 6.098272197106426, 2.1435603284948943, 4.817295508042292, 2.152128980598298, 3.357783326286689, 1.967149803682634, 2.803592741586229, 2.1537654394597348, 3.5562996720709656, 2.162995015528361, 6.1252493892173465, 2.9384069552756054, 5.674350931002092, 1.6441038885205475, 1.6425399180940061, 1.6423712109948891, 1.6409970824029587, 22.94388961602141, 2.2136560888615024, 6.741677320529053, 4.479365177320071, 15.025789884485723, 23.712381227641348, 9.604937128262616, 3.7308785198070966, 6.852868276316442, 3.424339203850502, 3.2008438254215514, 2.9923007161772155, 4.075805931117099, 3.934780886078794, 8.58840900245709, 4.9509534292292585, 5.287437699101904, 4.551796511351161, 4.485865035446499, 5.103219558056433, 4.652654435406247, 3.817690372809969, 3.787631958734951, 4.096407478020724, 6.144013741175974, 3.8674783889077218, 20.630459298026302, 2.3938685241265163, 1.8570412023096383, 1.320188497254693, 3.0372937211876145, 1.1628255963465743, 1.3218796252727878, 1.1247091590841847, 1.0744474467693923, 1.1551688030198475, 2.945672077275677, 1.3220970750122312, 12.66529975847219, 2.1311938320362556, 1.2185115857637916, 1.6475754582189108, 0.795658387300935, 0.7956561511585338, 0.7956547611240682, 0.7956563929036583, 0.7956553050505982, 0.7956507723295148, 0.7937618363633382, 0.7937448537683455, 0.7937258767760762, 0.7936946312187408, 0.793687681046413, 0.7901406757079101, 22.564853500894863, 1.2525147297336527, 5.73382883334227, 2.817914613905975, 1.485242277552086, 1.7673845836417987, 2.4739531237191685, 4.857812674458053, 3.2760777096089106, 2.3923037079359473, 2.4254370529480345, 4.442241201761338, 4.842920691301641, 5.6057425966033145, 2.9958523214835298, 5.965354907892183, 2.5591588520281845, 2.3699570303768493, 2.2918554660400665, 2.96955021019817, 2.1238863604143603, 2.2206997226190004, 2.499019192183212, 0.623813072318913, 0.4481026262770761, 0.4474738054741048, 0.41478289189991374, 0.43134167229381065, 0.2851887505427756, 0.2851835271111854, 0.2851782701960594, 0.28516989931210074, 0.28517291283032586, 0.285176328150981, 0.2851677563658074, 0.2851475323101633, 0.31531847497745263, 0.2706084787978013, 0.27059371255849834, 0.2705933107560683, 0.27032567685414344, 0.27031507931505183, 0.27031720551957733, 0.2703056034744107, 0.27029760090934624, 0.26985704128660426, 0.26985704128660426, 0.269723391753321, 0.26972334152801725, 0.26949551955019957, 0.26948997802501895, 0.2541538656838854, 0.2541515888034487, 0.8177643776608271, 0.31400545160323995, 0.5035213603708416, 0.6146466865159417, 0.3316619227523981, 0.572841219652251, 0.4466445857091643, 0.611744601498097, 0.4627767188894585, 0.4847888623141071, 0.2850952979942616, 0.4163988408228208, 0.28498590728269035, 0.2850118570229621, 0.28515998818549376, 0.3359951610588795, 0.3156181191396353, 0.28783287840055155, 0.2851253662094409], \"Total\": [72.0, 157.0, 39.0, 61.0, 35.0, 41.0, 46.0, 66.0, 60.0, 155.0, 33.0, 83.0, 63.0, 26.0, 226.0, 144.0, 38.0, 92.0, 24.0, 159.0, 114.0, 22.0, 27.0, 11.0, 25.0, 136.0, 12.0, 135.0, 23.0, 13.0, 114.64231552791036, 89.87292436737468, 136.20761844013327, 159.7417383619228, 57.643327828278224, 41.214635037812734, 92.17804482572949, 32.30347549592775, 31.092356030642403, 74.52249517600976, 29.453319686187164, 92.58524760831146, 26.109010078933025, 32.47777330266019, 26.86842893514626, 26.58679472147977, 26.182190870126664, 155.3375363872323, 30.06152591977816, 57.5878168790135, 21.09518335243563, 37.85740261461123, 75.29107141556038, 18.21457713845325, 18.658620223208136, 25.04956099112946, 19.412761257857294, 21.174198145083906, 15.575531030745033, 19.993783354281007, 100.57487791482461, 110.21476360118238, 53.58310182927225, 135.27173451188528, 226.72598938531502, 59.012348851414856, 96.35361810512329, 83.69064964167653, 112.56536609418994, 144.48133315373445, 72.34682274856632, 61.210140101134556, 65.83380496578854, 65.23543203496718, 60.26780823649212, 157.83736035476903, 66.70240427357555, 48.651929972913834, 63.838832084934374, 72.92766123856886, 11.117419547951952, 5.675459462399559, 7.377165827722941, 15.403767589301824, 4.528898295062187, 4.2493922859776125, 4.704585709899492, 4.696186007987328, 5.375484449896246, 4.089932364404854, 3.9575858759590896, 3.7525421507383854, 3.693674749663054, 3.671429831277854, 3.5455081102665247, 3.525548001789803, 4.061067836931245, 5.135622678687295, 3.4045536771351954, 8.319678780074556, 3.4911171380815835, 4.168763625258639, 3.219043477491113, 4.428598525823372, 4.373098886490902, 3.197440838104197, 5.936024256726756, 3.2033338359706325, 3.247625426373005, 3.221412883084989, 8.164226720516718, 4.467700437218397, 60.898912682862054, 66.94656393470714, 8.50531738361876, 5.837971778845137, 13.287121661157277, 157.83736035476903, 17.30133809990286, 7.758939055835248, 10.236787663691283, 12.432396541447504, 17.022767409748578, 63.838832084934374, 26.74736855347988, 144.48133315373445, 12.800228585390473, 226.72598938531502, 32.219048491210394, 41.869037632243064, 31.359440307713143, 112.56536609418994, 27.464807961671692, 66.70240427357555, 29.386546511362308, 26.23489272602427, 18.380512272583587, 22.370937378919177, 96.35361810512329, 30.518343745051112, 72.34682274856632, 34.61463519347168, 60.26780823649212, 65.23543203496718, 110.21476360118238, 65.83380496578854, 61.210140101134556, 135.27173451188528, 6.106241088748161, 12.10071397954342, 6.256109807921532, 5.21175904417034, 5.611454838253046, 41.850438049304515, 4.374293890842459, 4.132905433243519, 7.549956120765906, 6.546609040373471, 3.916534782489092, 3.9158721762955424, 5.120993308860676, 10.54720221053666, 3.763276185884416, 8.517869450966007, 3.8227438805088805, 6.045067478142055, 3.631220963923828, 5.230296648733311, 4.034761862168303, 6.729431893022188, 4.130891684992323, 11.829534515207527, 5.730908096907745, 11.159295755190612, 3.2525774284200075, 3.255158296946634, 3.2553100542748328, 3.2530160107231514, 46.14874597649495, 4.388609612404056, 13.680419246278394, 9.224208720130733, 33.05350418337569, 61.02089690346303, 26.04379982142648, 8.485533958886835, 22.370937378919177, 7.756043427851742, 7.172289821798179, 6.428904035098644, 13.496623700321315, 13.46362998752479, 135.27173451188528, 26.986341407702206, 39.81087733085083, 24.884133180322696, 25.184324845418633, 66.94656393470714, 45.36545922025559, 14.045990805955025, 15.495644745722869, 226.72598938531502, 11.069719327557031, 7.128755338846341, 39.153356388914304, 4.7099057903051715, 4.169779954902717, 3.011450449895948, 7.2608509921415045, 2.8773649729489295, 3.350729684235267, 2.8554973738363087, 2.785418781156895, 3.0048172774279487, 7.8871474063447975, 3.5521167105827383, 35.1446734747801, 6.092772360123433, 3.5891839212911583, 5.050194596836132, 2.4640367146124507, 2.4640401263181406, 2.464042862004905, 2.4640760434209943, 2.46407817133176, 2.464087988159652, 2.465164511442137, 2.465178423281571, 2.4652282525258653, 2.4652381752282064, 2.465269947810048, 2.468899860550778, 72.92766123856886, 4.031050333096256, 26.04379982142648, 13.77720066089876, 5.936024256726756, 7.890014862865536, 13.164102109982805, 38.89766712980904, 22.370937378919177, 13.694281160440276, 14.806156640354162, 46.14874597649495, 61.02089690346303, 83.69064964167653, 23.658717357652414, 155.3375363872323, 24.884133180322696, 25.184324845418633, 29.72437024611799, 92.58524760831146, 26.986341407702206, 42.885077992196784, 144.48133315373445, 3.134999247701617, 2.2833476030373925, 2.286067855839685, 2.2524574265637374, 2.408326837747868, 2.124521491700605, 2.1245848267266028, 2.1245802432252194, 2.1246149511812282, 2.124642821342511, 2.124675269277999, 2.1246244726508623, 2.1248754987283087, 2.355598985503945, 2.105307462468372, 2.105418084731661, 2.1054206046575072, 2.106624928196106, 2.1066095599102432, 2.1066566606404935, 2.106681866234769, 2.1067167434163334, 2.110674321501878, 2.1106752088020198, 2.1113766332334802, 2.1113803010340133, 2.112672012494258, 2.1126835187440434, 2.0892978050903226, 2.089314888304859, 8.517869450966007, 3.1158094457834604, 8.529442091028189, 24.884133180322696, 4.130891684992323, 27.464807961671692, 13.922995429929795, 63.838832084934374, 23.675651000634343, 29.48500209609559, 2.66661098127656, 29.713265646037286, 3.0587293691387965, 3.3133537056020916, 3.3478250799213614, 17.296310622105004, 23.605478621436127, 41.850438049304515, 3.4970694803986273], \"Category\": [\"Default\", \"Default\", \"Default\", \"Default\", \"Default\", \"Default\", \"Default\", \"Default\", \"Default\", \"Default\", \"Default\", \"Default\", \"Default\", \"Default\", \"Default\", \"Default\", \"Default\", \"Default\", \"Default\", \"Default\", \"Default\", \"Default\", \"Default\", \"Default\", \"Default\", \"Default\", \"Default\", \"Default\", \"Default\", \"Default\", \"Topic1\", \"Topic1\", \"Topic1\", \"Topic1\", \"Topic1\", \"Topic1\", \"Topic1\", \"Topic1\", \"Topic1\", \"Topic1\", \"Topic1\", \"Topic1\", \"Topic1\", \"Topic1\", \"Topic1\", \"Topic1\", \"Topic1\", \"Topic1\", \"Topic1\", \"Topic1\", \"Topic1\", \"Topic1\", \"Topic1\", \"Topic1\", \"Topic1\", \"Topic1\", \"Topic1\", \"Topic1\", \"Topic1\", \"Topic1\", \"Topic1\", \"Topic1\", \"Topic1\", \"Topic1\", \"Topic1\", \"Topic1\", \"Topic1\", \"Topic1\", \"Topic1\", \"Topic1\", \"Topic1\", \"Topic1\", \"Topic1\", \"Topic1\", \"Topic1\", \"Topic1\", \"Topic1\", \"Topic1\", \"Topic1\", \"Topic1\", \"Topic2\", \"Topic2\", \"Topic2\", \"Topic2\", \"Topic2\", \"Topic2\", \"Topic2\", \"Topic2\", \"Topic2\", \"Topic2\", \"Topic2\", \"Topic2\", \"Topic2\", \"Topic2\", \"Topic2\", \"Topic2\", \"Topic2\", \"Topic2\", \"Topic2\", \"Topic2\", \"Topic2\", \"Topic2\", \"Topic2\", \"Topic2\", \"Topic2\", \"Topic2\", \"Topic2\", \"Topic2\", \"Topic2\", \"Topic2\", \"Topic2\", \"Topic2\", \"Topic2\", \"Topic2\", \"Topic2\", \"Topic2\", \"Topic2\", \"Topic2\", \"Topic2\", \"Topic2\", \"Topic2\", \"Topic2\", \"Topic2\", \"Topic2\", \"Topic2\", \"Topic2\", \"Topic2\", \"Topic2\", \"Topic2\", \"Topic2\", \"Topic2\", \"Topic2\", \"Topic2\", \"Topic2\", \"Topic2\", \"Topic2\", \"Topic2\", \"Topic2\", \"Topic2\", \"Topic2\", \"Topic2\", \"Topic2\", \"Topic2\", \"Topic2\", \"Topic2\", \"Topic2\", \"Topic2\", \"Topic2\", \"Topic3\", \"Topic3\", \"Topic3\", \"Topic3\", \"Topic3\", \"Topic3\", \"Topic3\", \"Topic3\", \"Topic3\", \"Topic3\", \"Topic3\", \"Topic3\", \"Topic3\", \"Topic3\", \"Topic3\", \"Topic3\", \"Topic3\", \"Topic3\", \"Topic3\", \"Topic3\", \"Topic3\", \"Topic3\", \"Topic3\", \"Topic3\", \"Topic3\", \"Topic3\", \"Topic3\", \"Topic3\", \"Topic3\", \"Topic3\", \"Topic3\", \"Topic3\", \"Topic3\", \"Topic3\", \"Topic3\", \"Topic3\", \"Topic3\", \"Topic3\", \"Topic3\", \"Topic3\", \"Topic3\", \"Topic3\", \"Topic3\", \"Topic3\", \"Topic3\", \"Topic3\", \"Topic3\", \"Topic3\", \"Topic3\", \"Topic3\", \"Topic3\", \"Topic3\", \"Topic3\", \"Topic3\", \"Topic4\", \"Topic4\", \"Topic4\", \"Topic4\", \"Topic4\", \"Topic4\", \"Topic4\", \"Topic4\", \"Topic4\", \"Topic4\", \"Topic4\", \"Topic4\", \"Topic4\", \"Topic4\", \"Topic4\", \"Topic4\", \"Topic4\", \"Topic4\", \"Topic4\", \"Topic4\", \"Topic4\", \"Topic4\", \"Topic4\", \"Topic4\", \"Topic4\", \"Topic4\", \"Topic4\", \"Topic4\", \"Topic4\", \"Topic4\", \"Topic4\", \"Topic4\", \"Topic4\", \"Topic4\", \"Topic4\", \"Topic4\", \"Topic4\", \"Topic4\", \"Topic4\", \"Topic4\", \"Topic4\", \"Topic4\", \"Topic4\", \"Topic4\", \"Topic4\", \"Topic4\", \"Topic4\", \"Topic4\", \"Topic4\", \"Topic4\", \"Topic4\", \"Topic4\", \"Topic4\", \"Topic5\", \"Topic5\", \"Topic5\", \"Topic5\", \"Topic5\", \"Topic5\", \"Topic5\", \"Topic5\", \"Topic5\", \"Topic5\", \"Topic5\", \"Topic5\", \"Topic5\", \"Topic5\", \"Topic5\", \"Topic5\", \"Topic5\", \"Topic5\", \"Topic5\", \"Topic5\", \"Topic5\", \"Topic5\", \"Topic5\", \"Topic5\", \"Topic5\", \"Topic5\", \"Topic5\", \"Topic5\", \"Topic5\", \"Topic5\", \"Topic5\", \"Topic5\", \"Topic5\", \"Topic5\", \"Topic5\", \"Topic5\", \"Topic5\", \"Topic5\", \"Topic5\", \"Topic5\", \"Topic5\", \"Topic5\", \"Topic5\", \"Topic5\", \"Topic5\", \"Topic5\", \"Topic5\", \"Topic5\", \"Topic5\"], \"logprob\": [30.0, 29.0, 28.0, 27.0, 26.0, 25.0, 24.0, 23.0, 22.0, 21.0, 20.0, 19.0, 18.0, 17.0, 16.0, 15.0, 14.0, 13.0, 12.0, 11.0, 10.0, 9.0, 8.0, 7.0, 6.0, 5.0, 4.0, 3.0, 2.0, 1.0, -4.5418, -4.789, -4.3767, -4.2214, -5.2407, -5.582, -4.7853, -5.8353, -5.8784, -5.0046, -5.9359, -4.7912, -6.0579, -5.8431, -6.0345, -6.0454, -6.0633, -4.2828, -5.9274, -5.2778, -6.2849, -5.7016, -5.0154, -6.4353, -6.412, -6.1218, -6.3776, -6.2955, -6.6037, -6.3562, -4.75, -4.6637, -5.3809, -4.4854, -3.994, -5.3001, -4.8394, -4.9738, -4.7296, -4.5117, -5.1365, -5.2884, -5.2274, -5.2395, -5.3268, -4.5776, -5.3088, -5.5443, -5.4528, -5.4341, -5.5971, -6.3577, -6.1461, -5.4476, -6.6762, -6.747, -6.6598, -6.6784, -6.5673, -6.8538, -6.8899, -6.9493, -6.9828, -6.9952, -7.0423, -7.0644, -6.9248, -6.6905, -7.1063, -6.223, -7.0994, -6.9223, -7.2092, -6.8921, -6.9052, -7.221, -6.6049, -7.2225, -7.2249, -7.2371, -6.3144, -6.9113, -4.3717, -4.3106, -6.2941, -6.6711, -5.947, -3.9509, -5.8222, -6.4595, -6.2755, -6.1372, -5.9407, -5.0673, -5.6927, -4.6293, -6.181, -4.5036, -5.6576, -5.5223, -5.7209, -5.0708, -5.8239, -5.4237, -5.8243, -5.8944, -6.0799, -6.0025, -5.4844, -5.9041, -5.6371, -5.8871, -5.7606, -5.8442, -5.8584, -5.9209, -5.9301, -5.9009, -5.8975, -5.2246, -5.9422, -6.1915, -6.1307, -4.1304, -6.3951, -6.4541, -5.8536, -5.9969, -6.538, -6.5397, -6.2844, -5.5651, -6.6106, -5.8009, -6.6066, -6.1618, -6.6965, -6.3422, -6.6058, -6.1043, -6.6016, -5.5606, -6.2952, -5.6371, -6.8759, -6.8768, -6.8769, -6.8778, -4.24, -6.5784, -5.4648, -5.8736, -4.6633, -4.2071, -5.1108, -6.0564, -5.4484, -6.1422, -6.2097, -6.277, -5.968, -6.0032, -5.2227, -5.7735, -5.7077, -5.8575, -5.8721, -5.7432, -5.8356, -6.0334, -6.0413, -5.963, -5.1298, -5.5927, -3.9186, -6.0724, -6.3263, -6.6676, -5.8344, -6.7945, -6.6663, -6.8278, -6.8735, -6.8011, -5.865, -6.6661, -4.4065, -6.1886, -6.7477, -6.446, -7.1739, -7.1739, -7.1739, -7.1739, -7.1739, -7.1739, -7.1763, -7.1763, -7.1763, -7.1764, -7.1764, -7.1809, -3.8289, -6.7202, -5.1989, -5.9093, -6.5497, -6.3758, -6.0395, -5.3647, -5.7587, -6.0731, -6.0593, -5.4542, -5.3678, -5.2215, -5.8481, -5.1594, -6.0056, -6.0825, -6.116, -5.8569, -6.1921, -6.1475, -6.0294, -6.1335, -6.4644, -6.4658, -6.5416, -6.5025, -6.9162, -6.9163, -6.9163, -6.9163, -6.9163, -6.9163, -6.9163, -6.9164, -6.8158, -6.9687, -6.9688, -6.9688, -6.9698, -6.9698, -6.9698, -6.9698, -6.9699, -6.9715, -6.9715, -6.972, -6.972, -6.9728, -6.9729, -7.0315, -7.0315, -5.8628, -6.82, -6.3478, -6.1484, -6.7653, -6.2188, -6.4676, -6.1531, -6.4322, -6.3857, -6.9166, -6.5378, -6.917, -6.9169, -6.9163, -6.7523, -6.8149, -6.907, -6.9165], \"loglift\": [30.0, 29.0, 28.0, 27.0, 26.0, 25.0, 24.0, 23.0, 22.0, 21.0, 20.0, 19.0, 18.0, 17.0, 16.0, 15.0, 14.0, 13.0, 12.0, 11.0, 10.0, 9.0, 8.0, 7.0, 6.0, 5.0, 4.0, 3.0, 2.0, 1.0, 0.3912, 0.3875, 0.3839, 0.3799, 0.3798, 0.374, 0.3658, 0.3643, 0.3595, 0.3591, 0.3561, 0.3555, 0.3547, 0.3511, 0.3494, 0.349, 0.3465, 0.3464, 0.3442, 0.3437, 0.3409, 0.3394, 0.3381, 0.3373, 0.3365, 0.3322, 0.3313, 0.3265, 0.3254, 0.3232, 0.3139, 0.3087, 0.3127, 0.2821, 0.2571, 0.297, 0.2674, 0.2739, 0.2217, 0.19, 0.2569, 0.2721, 0.2603, 0.2573, 0.2492, 0.0357, 0.1657, 0.2458, 0.0657, -0.0487, 1.6692, 1.581, 1.5303, 1.4927, 1.4882, 1.4811, 1.4665, 1.4497, 1.4257, 1.4125, 1.4092, 1.4031, 1.3854, 1.379, 1.3668, 1.3504, 1.3486, 1.3481, 1.3434, 1.3332, 1.3252, 1.3249, 1.2965, 1.2946, 1.2942, 1.2915, 1.2889, 1.2881, 1.272, 1.2679, 1.2607, 1.2666, 1.1939, 1.1603, 1.24, 1.2394, 1.1411, 0.6624, 1.0018, 1.1665, 1.0733, 1.0173, 0.8995, 0.4512, 0.6957, 0.0724, 0.9444, -0.2525, 0.5447, 0.418, 0.5084, -0.1195, 0.5381, 0.0509, 0.47, 0.5134, 0.6836, 0.5646, -0.3776, 0.3524, -0.2437, 0.2435, -0.1846, -0.3474, -0.886, -0.4332, -0.3695, -1.1334, 1.968, 1.957, 1.899, 1.8324, 1.8193, 1.8104, 1.804, 1.8018, 1.7997, 1.7989, 1.7716, 1.7701, 1.7571, 1.7539, 1.7389, 1.7318, 1.7273, 1.7138, 1.6888, 1.6782, 1.674, 1.664, 1.6548, 1.6436, 1.6338, 1.6254, 1.6195, 1.6178, 1.6176, 1.6175, 1.6029, 1.6174, 1.5941, 1.5794, 1.5134, 1.3565, 1.3043, 1.48, 1.1187, 1.4842, 1.495, 1.537, 1.1044, 1.0716, -0.4551, 0.606, 0.283, 0.6031, 0.5765, -0.2723, 0.0244, 0.9991, 0.8929, -1.7119, 2.1408, 2.118, 2.0888, 2.0527, 1.9206, 1.9049, 1.858, 1.8235, 1.7994, 1.7978, 1.7769, 1.7735, 1.7446, 1.7412, 1.7089, 1.6791, 1.6492, 1.6094, 1.5991, 1.5991, 1.5991, 1.5991, 1.5991, 1.5991, 1.5963, 1.5962, 1.5962, 1.5962, 1.5961, 1.5902, 1.5564, 1.5606, 1.2161, 1.1425, 1.344, 1.2334, 1.0578, 0.6492, 0.8084, 0.9848, 0.9205, 0.3888, 0.1958, 0.0262, 0.663, -0.5301, 0.4549, 0.3662, 0.1669, -0.7102, 0.1874, -0.2312, -1.3278, 2.3987, 2.3848, 2.3822, 2.3212, 2.2934, 2.005, 2.005, 2.005, 2.0049, 2.0049, 2.0049, 2.0049, 2.0047, 2.0022, 1.9616, 1.9615, 1.9615, 1.96, 1.9599, 1.9599, 1.9599, 1.9598, 1.9563, 1.9563, 1.9555, 1.9555, 1.954, 1.954, 1.9065, 1.9065, 1.6698, 1.7183, 1.1835, 0.3122, 1.4911, 0.1431, 0.5736, -0.6346, 0.0782, -0.0947, 1.7774, -0.2545, 1.6399, 1.56, 1.5502, 0.072, -0.3015, -0.9663, 1.5064]}, \"token.table\": {\"Topic\": [1, 2, 1, 2, 3, 1, 2, 1, 2, 3, 1, 3, 4, 1, 3, 1, 1, 3, 1, 2, 1, 2, 3, 1, 3, 4, 1, 1, 1, 4, 1, 3, 1, 2, 3, 1, 2, 3, 4, 1, 4, 1, 2, 3, 1, 2, 3, 4, 1, 2, 4, 1, 1, 2, 3, 4, 1, 2, 3, 1, 2, 3, 4, 1, 2, 1, 4, 1, 3, 4, 1, 3, 1, 1, 2, 3, 1, 2, 3, 1, 2, 4, 1, 1, 2, 1, 1, 1, 4, 1, 2, 3, 4, 1, 2, 3, 4, 1, 2, 3, 4, 1, 2, 3, 1, 2, 1, 2, 3, 1, 2, 1, 2, 1, 2, 1, 2, 1, 2, 1, 2, 1, 2, 3, 1, 3, 1, 2, 3, 1, 2, 1, 2, 3, 1, 5, 1, 2, 4, 1, 2, 4, 1, 2, 1, 2, 1, 3, 4, 1, 3, 1, 2, 3, 4, 1, 2, 1, 2, 1, 2, 1, 2, 3, 4, 1, 2, 3, 1, 2, 4, 1, 1, 3, 1, 2, 1, 2, 4, 1, 3, 1, 4, 1, 4, 1, 2, 1, 2, 3, 1, 2, 1, 2, 1, 2, 1, 2, 4, 1, 2, 3, 1, 2, 3, 4, 1, 2, 1, 1, 2, 3, 4, 1, 2, 3, 1, 4, 1, 1, 2, 3, 4, 1, 2, 1, 2, 4, 1, 2, 1, 1, 4, 1, 2, 3, 4, 1, 4, 1, 1, 1, 2, 3, 1, 1, 4, 1, 3, 1, 3, 1, 2, 3, 1, 1, 4, 1, 4, 1, 2, 3, 1, 3, 1, 3, 4, 1, 2, 3, 4, 1, 1, 2, 1, 3, 4, 5, 1, 2, 3, 1, 2, 3, 4, 1, 1, 3, 4, 1, 4, 1, 1, 2, 3, 1, 4, 1, 2, 3, 4, 1, 4, 1, 1, 2, 3, 4, 1, 2, 1, 2, 3, 4, 1, 2, 1, 2, 3, 1, 2, 3, 5, 1, 2, 1, 1, 2, 1, 1, 2, 3, 4, 1, 2, 1, 3, 1, 4, 1, 1, 3, 1, 3, 4, 1, 3, 1, 3, 1, 2, 1, 3, 4, 1, 2, 3, 1, 2, 3, 4, 1, 2, 1, 2, 1, 1, 2, 3, 4, 1, 2, 1, 2, 4, 1, 2, 1, 1, 2, 1, 1, 4, 1, 4, 1, 4, 1, 2, 3, 1, 2, 1, 4, 1, 1, 3, 1, 3, 4, 1, 2, 1, 2, 4, 1, 2, 3, 1, 2, 4, 1, 2, 1, 2, 4, 1, 2, 1, 1, 3, 1, 2, 3, 4, 1, 2, 4, 1, 3, 4, 1, 2, 1, 2, 1, 2, 3, 1, 3, 1, 2, 3, 4, 1, 1, 2, 1, 2, 1, 2, 1, 2, 1, 2, 3, 4, 5, 1, 2, 1, 2, 1, 2, 3, 4, 1, 2, 3, 1, 2, 1, 1, 1, 2, 4, 1, 1, 3, 1, 1, 2, 3, 4, 5, 1, 2, 3, 1, 2, 1, 1, 2, 4, 1, 2, 3, 4, 1, 3, 4, 1, 3, 1, 1, 3, 1, 3, 1, 2, 3, 5, 1, 2, 3, 4, 1, 4, 1, 2, 4, 1, 4, 1, 4, 1, 3, 4, 1, 2, 1, 2, 3, 1, 2, 3, 4, 1, 2, 3, 1, 2, 3, 4, 1, 2, 1, 2, 3, 4, 1, 2, 3, 4, 1, 2, 3, 4, 1, 2, 4, 1, 2, 4, 1, 2, 1, 1, 2, 3, 1, 3, 4, 1, 2, 3, 4], \"Freq\": [0.930460060033425, 0.037218402401336996, 0.8644796325793203, 0.11467586962786902, 0.017642441481210618, 0.2836438475642179, 0.5672876951284358, 0.22786260075937936, 0.22786260075937936, 0.4557252015187587, 0.12678855211905288, 0.3803656563571586, 0.3803656563571586, 0.24784610199091023, 0.49569220398182046, 0.9111070270273739, 0.1782069051296721, 0.5346207153890162, 0.27110682431512134, 0.6777670607878034, 0.5874485481293255, 0.35246912887759524, 0.05874485481293254, 0.1952746156238351, 0.5858238468715053, 0.1952746156238351, 0.47066734697934964, 0.4439595564412339, 0.8672369690695612, 0.057815797937970745, 0.4226708999895322, 0.5072050799874387, 0.4713904887282704, 0.1178476221820676, 0.4713904887282704, 0.8584292040862572, 0.10730365051078215, 0.015329092930111737, 0.015329092930111737, 0.40582966387773667, 0.40582966387773667, 0.6355765415206899, 0.29909484306855993, 0.03738685538356999, 0.43318130603810595, 0.4779931652834272, 0.0746864320755355, 0.0149372864151071, 0.16846292345702446, 0.5053887703710733, 0.16846292345702446, 0.47862970877757127, 0.16542412530808487, 0.16542412530808487, 0.49627237592425466, 0.16542412530808487, 0.7642879275390131, 0.21495597962034743, 0.02388399773559416, 0.653253169603823, 0.07258368551153589, 0.07258368551153589, 0.21775105653460766, 0.9548475192167544, 0.03819390076867017, 0.4058375467668365, 0.4058375467668365, 0.7147302979327016, 0.1588289550961559, 0.07941447754807796, 0.26572591290293185, 0.5314518258058637, 0.4746964122020823, 0.815598489158015, 0.06612960722902825, 0.11021601204838041, 0.8871032846071514, 0.04435516423035757, 0.06653274634553635, 0.32825779165651975, 0.16412889582825987, 0.32825779165651975, 0.9791603046127808, 0.36059084482743886, 0.6009847413790648, 0.42452047489996053, 0.47333423933579843, 0.9083455688527567, 0.06728485695205605, 0.4896490297185253, 0.27202723873251405, 0.16321634323950843, 0.054405447746502814, 0.8350703530013377, 0.13325590739383048, 0.026651181478766096, 0.0088837271595887, 0.6307620348542348, 0.013712218149005105, 0.041136654447015315, 0.3153810174271174, 0.8708053457848424, 0.11057845660759903, 0.013822307075949879, 0.3121747689144591, 0.6243495378289182, 0.34258473246604804, 0.513877098699072, 0.17129236623302402, 0.4515650682675704, 0.4515650682675704, 0.266486013968752, 0.532972027937504, 0.38943671004101404, 0.584155065061521, 0.2129387546190011, 0.6388162638570033, 0.9144674034759123, 0.07465040028374793, 0.23532776752569, 0.70598330257707, 0.8981171065304799, 0.03389121156718792, 0.06778242313437584, 0.3071904007075493, 0.6143808014150987, 0.7284441324664527, 0.12559381594249183, 0.12559381594249183, 0.9856744386193899, 0.008722782642649468, 0.790059872917409, 0.07182362481067354, 0.07182362481067354, 0.3189793428923904, 0.3189793428923904, 0.49614860513631864, 0.24807430256815932, 0.24807430256815932, 0.9509368713559245, 0.026414913093220124, 0.026414913093220124, 0.3245959127215464, 0.6491918254430928, 0.27237344739118885, 0.5447468947823777, 0.3584455585505428, 0.5376683378258141, 0.0896113896376357, 0.22860832512728285, 0.6858249753818485, 0.629948303964909, 0.11116734775851336, 0.1852789129308556, 0.07411156517234224, 0.18602974472734293, 0.5580892341820288, 0.7486418994996129, 0.2382042407498768, 0.31275011818292553, 0.6255002363658511, 0.5695575421143142, 0.07119469276428927, 0.2847787710571571, 0.07119469276428927, 0.22382879381738557, 0.44765758763477115, 0.22382879381738557, 0.7800168873393819, 0.20222660042132123, 0.028889514345903033, 0.4706942263970863, 0.2553709505773528, 0.5107419011547056, 0.252679292715956, 0.505358585431912, 0.5975300927200149, 0.028453813939048327, 0.3698995812076283, 0.16376687154437425, 0.655067486177497, 0.405837096188471, 0.405837096188471, 0.35020168786095507, 0.35020168786095507, 0.5630451037065288, 0.402175074076092, 0.26490220181532786, 0.13245110090766393, 0.6622555045383197, 0.3079172837727208, 0.6158345675454416, 0.9480837244152618, 0.04740418622076309, 0.9403164338498547, 0.03761265735399419, 0.8628155149752739, 0.11614824240051763, 0.016592606057216804, 0.275389465398828, 0.275389465398828, 0.550778930797656, 0.48406365362154924, 0.060507956702693655, 0.4538096752702024, 0.030253978351346827, 0.9575238557271895, 0.03830095422908757, 0.4736246410326821, 0.4557849787149545, 0.07596416311915907, 0.22789248935747725, 0.15192832623831815, 0.5186482305077047, 0.14818520871648705, 0.2963704174329741, 0.40583810868957865, 0.40583810868957865, 0.9333184004645858, 0.6861091519594631, 0.2668202257620134, 0.038117175108859064, 0.038117175108859064, 0.959649063268995, 0.030956421395774033, 0.950475397250006, 0.010800856786931885, 0.032402570360795656, 0.9714914476628802, 0.017348061565408576, 0.4736238182719933, 0.4058316311584493, 0.4058316311584493, 0.2578634349593833, 0.12893171747969165, 0.386795152439075, 0.12893171747969165, 0.35901244249694486, 0.35901244249694486, 0.47067141175885774, 0.47862579527748367, 0.1527508354069899, 0.1527508354069899, 0.6110033416279596, 0.37500783092150924, 0.40565015114355507, 0.40565015114355507, 0.24196053264523798, 0.7258815979357139, 0.3074070329514604, 0.6148140659029208, 0.3018090094967037, 0.3018090094967037, 0.3018090094967037, 0.4733316614286289, 0.4056419518052347, 0.4056419518052347, 0.4056524403781042, 0.4056524403781042, 0.4182764604523279, 0.13942548681744263, 0.4182764604523279, 0.3269331409602792, 0.3269331409602792, 0.3960243435476662, 0.1980121717738331, 0.3960243435476662, 0.8030866472080511, 0.042267718274107954, 0.042267718274107954, 0.12680315482232388, 0.47468011949392264, 0.38665080089059295, 0.5155344011874573, 0.11740024964653462, 0.5870012482326731, 0.11740024964653462, 0.11740024964653462, 0.6905842809015691, 0.2851036022070698, 0.019006906813804653, 0.7208779147317765, 0.19660306765412086, 0.032767177942353475, 0.032767177942353475, 0.47068121017728654, 0.23982080848756215, 0.23982080848756215, 0.4796416169751243, 0.33279893839534097, 0.33279893839534097, 0.47068019474690653, 0.5808083592316605, 0.12906852427370233, 0.25813704854740466, 0.4050387040715833, 0.4050387040715833, 0.3900431012614727, 0.021669061181192925, 0.4983884071674373, 0.0866762447247717, 0.34754020063541974, 0.34754020063541974, 0.47467226105506777, 0.9655227572711284, 0.010848570306417173, 0.010848570306417173, 0.021697140612834346, 0.9506568460984474, 0.03395203021780169, 0.26820512249316764, 0.26820512249316764, 0.31290597624202887, 0.13410256124658382, 0.22867079523153164, 0.4573415904630633, 0.8658165820678426, 0.0911385875860887, 0.0303795291953629, 0.7034457747607177, 0.11724096246011961, 0.11724096246011961, 0.11724096246011961, 0.2445028208053301, 0.4890056416106602, 0.5719074245479452, 0.2820470208781521, 0.5640940417563042, 0.9705290357005866, 0.7455459964532422, 0.07712544790895608, 0.05141696527263739, 0.12854241318159346, 0.2398792759419066, 0.4797585518838132, 0.30720472209846394, 0.6144094441969279, 0.4056350911543466, 0.4056350911543466, 0.4746857989170228, 0.2972019082433718, 0.5944038164867436, 0.2786148667578629, 0.2786148667578629, 0.2786148667578629, 0.3489848321035108, 0.5234772481552662, 0.30744848416591464, 0.6148969683318293, 0.2864412623374516, 0.5728825246749032, 0.2987013885514859, 0.2987013885514859, 0.2987013885514859, 0.7945740573701656, 0.14991963346606899, 0.04497589003982069, 0.7201717987858254, 0.12708914096220447, 0.12708914096220447, 0.04236304698740149, 0.7334314571406091, 0.2551065937880379, 0.9544989341206114, 0.030790288197439078, 0.47378223623265425, 0.2867353499588858, 0.04778922499314763, 0.6212599249109192, 0.023894612496573816, 0.5779899763970363, 0.40459298347792544, 0.8139731488497362, 0.10174664360621702, 0.03391554786873901, 0.9272251258287391, 0.0515125069904855, 0.47378203706082356, 0.9376983349351277, 0.03472956796056028, 0.47496447873068665, 0.41317470958251745, 0.41317470958251745, 0.633712367708275, 0.25348494708331004, 0.33206589868830555, 0.33206589868830555, 0.8632751059080865, 0.10277084594143887, 0.04110833837657555, 0.9181797640343776, 0.03992085930584251, 0.40564031907684955, 0.40564031907684955, 0.47496504720460386, 0.3823874885728262, 0.5735812328592393, 0.18067305419579943, 0.18067305419579943, 0.5420191625873984, 0.22580506997167424, 0.4516101399433485, 0.943006901948887, 0.039845362054178324, 0.013281787351392776, 0.3527205234901639, 0.4702940313202185, 0.11757350783005463, 0.9314231112126669, 0.0332651111147381, 0.0332651111147381, 0.21255856767489179, 0.6376757030246754, 0.4884344741988182, 0.3907475793590545, 0.09768689483976363, 0.24624065397431338, 0.49248130794862677, 0.47067352107450205, 0.15984374167054943, 0.6393749666821977, 0.16527950362111304, 0.08263975181055652, 0.7437577662950088, 0.08263975181055652, 0.8822067701655054, 0.09802297446283394, 0.01633716241047232, 0.31109501543046636, 0.4666425231456995, 0.15554750771523318, 0.8025122519119298, 0.12671246082819945, 0.3106512872511399, 0.6213025745022798, 0.9147413539782117, 0.04971420402055498, 0.029828522412332987, 0.19187379760362464, 0.5756213928108739, 0.8097931922839257, 0.1591901147224811, 0.013842618671520096, 0.013842618671520096, 0.47061580812545395, 0.9445458034803305, 0.04722729017401652, 0.36745672342256175, 0.48994229789674903, 0.17619718837304574, 0.704788753492183, 0.29372425722524154, 0.5874485144504831, 0.5461534637683664, 0.25487161642523765, 0.14564092367156437, 0.03641023091789109, 0.03641023091789109, 0.1798978613133692, 0.8095403759101614, 0.2707330958393731, 0.5414661916787462, 0.3831089179431633, 0.02554059452954422, 0.07662178358863267, 0.5363524851204287, 0.43858305012342613, 0.07309717502057102, 0.5116802251439971, 0.964867376741542, 0.032162245891384736, 0.4706601589709364, 0.4152260334129498, 0.8161346938990871, 0.13990880466841493, 0.04663626822280498, 0.4379534673869907, 0.26159220477697315, 0.5231844095539463, 0.4749900039909363, 0.6027937517976859, 0.08037250023969146, 0.20093125059922864, 0.12055875035953718, 0.04018625011984573, 0.32523114892802224, 0.10841038297600743, 0.4336415319040297, 0.9002798360394305, 0.05001554644663503, 0.4746929491887746, 0.7302318305606117, 0.07302318305606116, 0.14604636611212232, 0.9073194618631583, 0.06351236233042108, 0.018146389237263166, 0.009073194618631583, 0.28055388422457256, 0.14027694211228628, 0.5611077684491451, 0.2553277464740057, 0.5106554929480114, 0.43743233493508643, 0.32094388870708146, 0.32094388870708146, 0.24207848480584365, 0.4841569696116873, 0.7205645607488449, 0.23496670459201463, 0.03132889394560195, 0.015664446972800974, 0.44335766946456895, 0.4926196327384099, 0.04926196327384099, 0.016420654424613663, 0.405831280693311, 0.405831280693311, 0.9837922543142946, 0.014683466482302905, 0.0073417332411514526, 0.2815222813543044, 0.2815222813543044, 0.2984424570877399, 0.2984424570877399, 0.21231847185954147, 0.21231847185954147, 0.42463694371908295, 0.31042279778876064, 0.6208455955775213, 0.9765763262607969, 0.006260104655517929, 0.018780313966553788, 0.8717887470333984, 0.10378437464683314, 0.010378437464683313, 0.010378437464683313, 0.8077200360910435, 0.10096500451138044, 0.03365500150379348, 0.6753947187580748, 0.06753947187580747, 0.13507894375161494, 0.13507894375161494, 0.22080425190609604, 0.6624127557182881, 0.8842086937648678, 0.023897532263915344, 0.035846298395873014, 0.07169259679174603, 0.9463263253612565, 0.0064375940500765744, 0.012875188100153149, 0.03862556430045945, 0.3455716931365605, 0.07679370958590233, 0.3839685479295116, 0.230381128757707, 0.7138634154970336, 0.24830031843375083, 0.031037539804218854, 0.5468652339528876, 0.39061802425206255, 0.0781236048504125, 0.9527324579284389, 0.026837534026153208, 0.8988457582836153, 0.2844356199981639, 0.0948118733327213, 0.5688712399963278, 0.5941933941598727, 0.29709669707993636, 0.07427417426998409, 0.5080226868681227, 0.01638782860864912, 0.39330788660757887, 0.08193914304324561], \"Term\": [\"access\", \"access\", \"account\", \"account\", \"account\", \"acknowledge\", \"acknowledge\", \"akala\", \"akala\", \"akala\", \"akong\", \"akong\", \"akong\", \"alam\", \"alam\", \"annoying\", \"anong\", \"anong\", \"apple\", \"apple\", \"application\", \"application\", \"application\", \"arte\", \"arte\", \"arte\", \"aupport\", \"ausin\", \"available\", \"available\", \"ayaw\", \"ayaw\", \"ayusin\", \"ayusin\", \"ayusin\", \"bad\", \"bad\", \"bad\", \"bad\", \"badi\", \"badi\", \"balance\", \"balance\", \"balance\", \"bank\", \"bank\", \"bank\", \"bank\", \"basura\", \"basura\", \"basura\", \"bawas\", \"bayad\", \"bayad\", \"bayad\", \"bayad\", \"bill\", \"bill\", \"bill\", \"bring\", \"bring\", \"bring\", \"bring\", \"bug\", \"bug\", \"bulbol\", \"bulbol\", \"bulok\", \"bulok\", \"bulok\", \"bumaba\", \"bumaba\", \"bwakanangina\", \"card\", \"card\", \"card\", \"cash\", \"cash\", \"cash\", \"choice\", \"choice\", \"choice\", \"code\", \"company\", \"company\", \"corrupt\", \"corrupting\", \"crash\", \"crash\", \"credit\", \"credit\", \"credit\", \"credit\", \"customer\", \"customer\", \"customer\", \"customer\", \"d\", \"d\", \"d\", \"d\", \"day\", \"day\", \"day\", \"ddnt\", \"ddnt\", \"debit\", \"debit\", \"debit\", \"delete\", \"delete\", \"deputa\", \"deputa\", \"different\", \"different\", \"dispute\", \"dispute\", \"email\", \"email\", \"energy\", \"energy\", \"error\", \"error\", \"error\", \"escalation\", \"escalation\", \"fee\", \"fee\", \"fee\", \"fix\", \"fix\", \"free\", \"free\", \"free\", \"freebie\", \"freebie\", \"friendly\", \"friendly\", \"friendly\", \"fully_verifie\", \"fully_verifie\", \"fully_verifie\", \"fund\", \"fund\", \"gahaman\", \"gahaman\", \"gamit\", \"gamit\", \"gamit\", \"ganon\", \"ganon\", \"gcredit\", \"gcredit\", \"gcredit\", \"gcredit\", \"glitchy\", \"glitchy\", \"go\", \"go\", \"grab\", \"grab\", \"gscore\", \"gscore\", \"gscore\", \"gscore\", \"gumamit\", \"gumamit\", \"gumamit\", \"help\", \"help\", \"help\", \"hihiram\", \"hndi\", \"hndi\", \"hold\", \"hold\", \"i\", \"i\", \"i\", \"ibalik\", \"ibalik\", \"inang\", \"inang\", \"inbox\", \"inbox\", \"input\", \"input\", \"interest\", \"interest\", \"interest\", \"investigate\", \"investigate\", \"io\", \"io\", \"iphone\", \"iphone\", \"issue\", \"issue\", \"issue\", \"kase\", \"kase\", \"kase\", \"kayo\", \"kayo\", \"kayo\", \"kayo\", \"keep\", \"keep\", \"kwarta\", \"kwenta\", \"kwenta\", \"kwenta\", \"kwenta\", \"lagi\", \"lagi\", \"lagi\", \"lagyan\", \"lagyan\", \"late\", \"limit\", \"limit\", \"limit\", \"limit\", \"link\", \"link\", \"load\", \"load\", \"load\", \"log\", \"log\", \"logo\", \"loloko\", \"loloko\", \"ma\", \"ma\", \"ma\", \"ma\", \"macontact\", \"macontact\", \"magige\", \"magkano\", \"magnanakaw\", \"magnanakaw\", \"magnanakaw\", \"magreply\", \"magvverify\", \"magvverify\", \"mahirap\", \"mahirap\", \"malala\", \"malala\", \"man\", \"man\", \"man\", \"mandarambong\", \"mangyari\", \"mangyari\", \"mangyayari\", \"mangyayari\", \"mas\", \"mas\", \"mas\", \"matagal\", \"matagal\", \"meron\", \"meron\", \"meron\", \"message\", \"message\", \"message\", \"message\", \"metikoloso\", \"miss\", \"miss\", \"mo\", \"mo\", \"mo\", \"mo\", \"money\", \"money\", \"money\", \"month\", \"month\", \"month\", \"month\", \"naibalik\", \"naka\", \"naka\", \"naka\", \"nakaka\", \"nakaka\", \"nakaw\", \"nalang\", \"nalang\", \"nalang\", \"namamansin\", \"namamansin\", \"naman\", \"naman\", \"naman\", \"naman\", \"natatanggap\", \"natatanggap\", \"natural\", \"need\", \"need\", \"need\", \"need\", \"new\", \"new\", \"niyo\", \"niyo\", \"niyo\", \"niyo\", \"november\", \"november\", \"number\", \"number\", \"number\", \"nung\", \"nung\", \"nung\", \"nung\", \"october\", \"october\", \"ok\", \"ongoing\", \"ongoing\", \"open\", \"option\", \"option\", \"option\", \"option\", \"owner\", \"owner\", \"paasa\", \"paasa\", \"paghingi\", \"paghingi\", \"pahiya\", \"pala\", \"pala\", \"panget\", \"panget\", \"panget\", \"pangit\", \"pangit\", \"papaload\", \"papaload\", \"papanget\", \"papanget\", \"parang\", \"parang\", \"parang\", \"pay\", \"pay\", \"pay\", \"paymaya\", \"paymaya\", \"paymaya\", \"paymaya\", \"payment\", \"payment\", \"paypal\", \"paypal\", \"pelase\", \"pera\", \"pera\", \"pera\", \"pera\", \"pesos\", \"pesos\", \"phone\", \"phone\", \"phone\", \"php\", \"php\", \"pllease\", \"poor\", \"poor\", \"porket\", \"postal\", \"postal\", \"prc\", \"prc\", \"private\", \"private\", \"problem\", \"problem\", \"problem\", \"process\", \"process\", \"prop\", \"prop\", \"pumatok\", \"putangina\", \"putangina\", \"rebate\", \"rebate\", \"rebate\", \"receipt\", \"receipt\", \"receive\", \"receive\", \"receive\", \"reflect\", \"reflect\", \"reflect\", \"register\", \"register\", \"register\", \"representative\", \"representative\", \"return\", \"return\", \"return\", \"revert\", \"revert\", \"saglit\", \"sakin\", \"sakin\", \"sana\", \"sana\", \"sana\", \"sana\", \"say\", \"say\", \"say\", \"sayang\", \"sayang\", \"sayang\", \"scam\", \"scam\", \"screw\", \"screw\", \"send\", \"send\", \"send\", \"serbisyo\", \"serbisyo\", \"service\", \"service\", \"service\", \"service\", \"simpleng\", \"soon\", \"soon\", \"spend\", \"spend\", \"spending\", \"spending\", \"st\", \"st\", \"star\", \"star\", \"star\", \"star\", \"star\", \"steal\", \"steal\", \"stole\", \"stole\", \"student\", \"student\", \"student\", \"student\", \"stupid\", \"stupid\", \"stupid\", \"submit\", \"submit\", \"sumagot\", \"sumisho\", \"support\", \"support\", \"support\", \"swapang\", \"tama\", \"tama\", \"tangkilikin\", \"tapos\", \"tapos\", \"tapos\", \"tapos\", \"tapos\", \"tas\", \"tas\", \"tas\", \"tell\", \"tell\", \"temp\", \"thank\", \"thank\", \"thank\", \"time\", \"time\", \"time\", \"time\", \"tin\", \"tin\", \"tin\", \"tinanggal\", \"tinanggal\", \"tingin\", \"tlga\", \"tlga\", \"tong\", \"tong\", \"transaction\", \"transaction\", \"transaction\", \"transaction\", \"transfer\", \"transfer\", \"transfer\", \"transfer\", \"trip\", \"trip\", \"try\", \"try\", \"try\", \"tweet\", \"tweet\", \"twitter\", \"twitter\", \"unlock\", \"unlock\", \"unlock\", \"unwilling\", \"unwilling\", \"update\", \"update\", \"update\", \"use\", \"use\", \"use\", \"use\", \"user\", \"user\", \"user\", \"valid\", \"valid\", \"valid\", \"valid\", \"validation\", \"validation\", \"verification\", \"verification\", \"verification\", \"verification\", \"verify\", \"verify\", \"verify\", \"verify\", \"wala\", \"wala\", \"wala\", \"wala\", \"want\", \"want\", \"want\", \"well\", \"well\", \"well\", \"work\", \"work\", \"working\", \"yan\", \"yan\", \"yan\", \"yun\", \"yun\", \"yun\", \"yung\", \"yung\", \"yung\", \"yung\"]}, \"R\": 30, \"lambda.step\": 0.01, \"plot.opts\": {\"xlab\": \"PC1\", \"ylab\": \"PC2\"}, \"topic.order\": [1, 2, 3, 4, 5]};\n",
       "\n",
       "function LDAvis_load_lib(url, callback){\n",
       "  var s = document.createElement('script');\n",
       "  s.src = url;\n",
       "  s.async = true;\n",
       "  s.onreadystatechange = s.onload = callback;\n",
       "  s.onerror = function(){console.warn(\"failed to load library \" + url);};\n",
       "  document.getElementsByTagName(\"head\")[0].appendChild(s);\n",
       "}\n",
       "\n",
       "if(typeof(LDAvis) !== \"undefined\"){\n",
       "   // already loaded: just create the visualization\n",
       "   !function(LDAvis){\n",
       "       new LDAvis(\"#\" + \"ldavis_el120562138735291968771004808\", ldavis_el120562138735291968771004808_data);\n",
       "   }(LDAvis);\n",
       "}else if(typeof define === \"function\" && define.amd){\n",
       "   // require.js is available: use it to load d3/LDAvis\n",
       "   require.config({paths: {d3: \"https://d3js.org/d3.v5\"}});\n",
       "   require([\"d3\"], function(d3){\n",
       "      window.d3 = d3;\n",
       "      LDAvis_load_lib(\"https://cdn.jsdelivr.net/gh/bmabey/pyLDAvis@3.3.1/pyLDAvis/js/ldavis.v3.0.0.js\", function(){\n",
       "        new LDAvis(\"#\" + \"ldavis_el120562138735291968771004808\", ldavis_el120562138735291968771004808_data);\n",
       "      });\n",
       "    });\n",
       "}else{\n",
       "    // require.js not available: dynamically load d3 & LDAvis\n",
       "    LDAvis_load_lib(\"https://d3js.org/d3.v5.js\", function(){\n",
       "         LDAvis_load_lib(\"https://cdn.jsdelivr.net/gh/bmabey/pyLDAvis@3.3.1/pyLDAvis/js/ldavis.v3.0.0.js\", function(){\n",
       "                 new LDAvis(\"#\" + \"ldavis_el120562138735291968771004808\", ldavis_el120562138735291968771004808_data);\n",
       "            })\n",
       "         });\n",
       "}\n",
       "</script>"
      ],
      "text/plain": [
       "PreparedData(topic_coordinates=              x         y  topics  cluster       Freq\n",
       "topic                                                \n",
       "0      0.122922 -0.023379       1        1  66.822950\n",
       "1      0.025378  0.054730       2        1  14.836065\n",
       "2     -0.059088 -0.031287       3        1  10.008225\n",
       "3     -0.036890 -0.023794       4        1   6.525185\n",
       "4     -0.052322  0.023731       5        1   1.807575, topic_info=           Term        Freq       Total Category  logprob  loglift\n",
       "268           d   72.000000   72.000000  Default  30.0000  30.0000\n",
       "26        money  157.000000  157.000000  Default  29.0000  29.0000\n",
       "276     student   39.000000   39.000000  Default  28.0000  28.0000\n",
       "649        yung   61.000000   61.000000  Default  27.0000  27.0000\n",
       "329           i   35.000000   35.000000  Default  26.0000  26.0000\n",
       "...         ...         ...         ...      ...      ...      ...\n",
       "2428     parang    0.285160    3.347825   Topic5  -6.9163   1.5502\n",
       "912   available    0.335995   17.296311   Topic5  -6.7523   0.0720\n",
       "365     paymaya    0.315618   23.605479   Topic5  -6.8149  -0.3015\n",
       "569        pera    0.287833   41.850438   Topic5  -6.9070  -0.9663\n",
       "1551         ok    0.285125    3.497069   Topic5  -6.9165   1.5064\n",
       "\n",
       "[304 rows x 6 columns], token_table=      Topic      Freq     Term\n",
       "term                          \n",
       "129       1  0.930460   access\n",
       "129       2  0.037218   access\n",
       "0         1  0.864480  account\n",
       "0         2  0.114676  account\n",
       "0         3  0.017642  account\n",
       "...     ...       ...      ...\n",
       "1021      4  0.074274      yun\n",
       "649       1  0.508023     yung\n",
       "649       2  0.016388     yung\n",
       "649       3  0.393308     yung\n",
       "649       4  0.081939     yung\n",
       "\n",
       "[577 rows x 3 columns], R=30, lambda_step=0.01, plot_opts={'xlab': 'PC1', 'ylab': 'PC2'}, topic_order=[1, 2, 3, 4, 5])"
      ]
     },
     "execution_count": 56,
     "metadata": {},
     "output_type": "execute_result"
    }
   ],
   "source": [
    "# Visualize the topics\n",
    "pyLDAvis.enable_notebook()\n",
    "LDAvis_prepared = gensimvis.prepare(final_lda1, corpus1, id2word1)\n",
    "LDAvis_prepared"
   ]
  },
  {
   "cell_type": "markdown",
   "id": "9094739c-89a9-4360-8bc4-35195db51c25",
   "metadata": {},
   "source": [
    "---\n",
    "### B. Gcash Rating 5\n",
    "This part will aim to create a topic model for the Gcash reviews having 5-star ratings. <br>"
   ]
  },
  {
   "cell_type": "code",
   "execution_count": 57,
   "id": "7915290e-94a6-409b-aca3-fd7408a895b3",
   "metadata": {},
   "outputs": [
    {
     "name": "stdout",
     "output_type": "stream",
     "text": [
      "['gcash', 'user', 'since', 'have', 'been', 'using', 'gcash', 'for', 'years', 'now', 'and', 'yes', 'it', 'is', 'not', 'perfect', 'but', 'it', 'has', 'helped', 'me', 'lot', 'in', 'managing', 'my', 'finances', 'especially', 'now', 'that', 'there']\n"
     ]
    },
    {
     "name": "stderr",
     "output_type": "stream",
     "text": [
      "D:\\Anaconda3\\envs\\project-env-2\\lib\\site-packages\\ipykernel\\ipkernel.py:287: DeprecationWarning: `should_run_async` will not call `transform_cell` automatically in the future. Please pass the result to `transformed_cell` argument and any exception that happen during thetransform in `preprocessing_exc_tuple` in IPython 7.17 and above.\n",
      "  and should_run_async(code)\n"
     ]
    }
   ],
   "source": [
    "def sent_to_words(sentences):\n",
    "    for sentence in sentences:\n",
    "        yield(gensim.utils.simple_preprocess(str(sentence)))\n",
    "\n",
    "data = gcash_rating5.title_review.values.tolist()\n",
    "data_words = list(sent_to_words(data))\n",
    "print(data_words[:1][0][:30])"
   ]
  },
  {
   "cell_type": "markdown",
   "id": "9c1de577-1a0f-4da6-9b79-809ca0b06f7f",
   "metadata": {},
   "source": [
    "### Phrase Modeling: Bigram and Trigram Models"
   ]
  },
  {
   "cell_type": "code",
   "execution_count": 58,
   "id": "09642e4a-a648-451a-bd51-026962e3e2ca",
   "metadata": {
    "jupyter": {
     "source_hidden": true
    },
    "tags": []
   },
   "outputs": [
    {
     "name": "stderr",
     "output_type": "stream",
     "text": [
      "D:\\Anaconda3\\envs\\project-env-2\\lib\\site-packages\\ipykernel\\ipkernel.py:287: DeprecationWarning: `should_run_async` will not call `transform_cell` automatically in the future. Please pass the result to `transformed_cell` argument and any exception that happen during thetransform in `preprocessing_exc_tuple` in IPython 7.17 and above.\n",
      "  and should_run_async(code)\n"
     ]
    }
   ],
   "source": [
    "# Build the bigram and trigram models\n",
    "bigram = gensim.models.Phrases(data_words, min_count=5, threshold=100) # higher threshold fewer phrases.\n",
    "trigram = gensim.models.Phrases(bigram[data_words], threshold=100)\n",
    "\n",
    "# Faster way to get a sentence clubbed as a trigram/bigram\n",
    "bigram_mod = gensim.models.phrases.Phraser(bigram)\n",
    "trigram_mod = gensim.models.phrases.Phraser(trigram)"
   ]
  },
  {
   "cell_type": "code",
   "execution_count": 59,
   "id": "3d075032-e248-4a43-a67c-3d9fb1a3df73",
   "metadata": {
    "jupyter": {
     "source_hidden": true
    },
    "tags": []
   },
   "outputs": [
    {
     "name": "stderr",
     "output_type": "stream",
     "text": [
      "D:\\Anaconda3\\envs\\project-env-2\\lib\\site-packages\\ipykernel\\ipkernel.py:287: DeprecationWarning: `should_run_async` will not call `transform_cell` automatically in the future. Please pass the result to `transformed_cell` argument and any exception that happen during thetransform in `preprocessing_exc_tuple` in IPython 7.17 and above.\n",
      "  and should_run_async(code)\n"
     ]
    }
   ],
   "source": [
    "#final_stopwords_list\n",
    "\n",
    "# Define functions for stopwords, bigrams, trigrams and lemmatization\n",
    "def remove_stopwords(texts):\n",
    "    return [[word for word in simple_preprocess(str(doc)) if word not in final_stopwords_list] for doc in texts]\n",
    "\n",
    "\n",
    "def make_bigrams(texts):\n",
    "    return [bigram_mod[doc] for doc in texts]\n",
    "\n",
    "\n",
    "def make_trigrams(texts):\n",
    "    return [trigram_mod[bigram_mod[doc]] for doc in texts]\n",
    "\n",
    "\n",
    "def lemmatization(texts, allowed_postags=['NOUN', 'ADJ', 'VERB', 'ADV']):\n",
    "    \"\"\"https://spacy.io/api/annotation\"\"\"\n",
    "    texts_out = []\n",
    "    for sent in texts:\n",
    "        doc = nlp(\" \".join(sent)) \n",
    "        texts_out.append([token.lemma_ for token in doc if token.pos_ in allowed_postags])\n",
    "    return texts_out"
   ]
  },
  {
   "cell_type": "code",
   "execution_count": 60,
   "id": "11896d08-615f-47b6-95fe-bdaa9113670d",
   "metadata": {
    "tags": []
   },
   "outputs": [
    {
     "name": "stderr",
     "output_type": "stream",
     "text": [
      "D:\\Anaconda3\\envs\\project-env-2\\lib\\site-packages\\ipykernel\\ipkernel.py:287: DeprecationWarning: `should_run_async` will not call `transform_cell` automatically in the future. Please pass the result to `transformed_cell` argument and any exception that happen during thetransform in `preprocessing_exc_tuple` in IPython 7.17 and above.\n",
      "  and should_run_async(code)\n"
     ]
    },
    {
     "name": "stdout",
     "output_type": "stream",
     "text": [
      "[['user', 'year', 'perfect', 'help', 'lot', 'manage', 'finance', 'especially', 'pandemic', 'want', 'transfer', 'different', 'bank', 'easy', 'able', 'pay', 'bill', 'home', 'connect', 'bank', 'account', 'cash', 'happen', 'real', 'time', 'encounter', 'issue', 'unsuccessful', 'transaction', 'money', 'deduct', 'account', 'error', 'pay', 'bill', 'usually', 'pay', 'month', 'believe', 'minor', 'lapse', 'able', 'address', 'case', 'money', 'deduct', 'return', 'able', 'pay', 'bill', 'retrying', 'time', 'mention', 'gsave', 'partner', 'cimb', 'annum', 'interest', 'rate', 'waaaay', 'bank', 'offer', 'summary', 'believe', 'great', 'use', 'ahead', 'download']]\n"
     ]
    }
   ],
   "source": [
    "# Remove Stop Words\n",
    "data_words_nostops5 = remove_stopwords(data_words)\n",
    "\n",
    "# Form Bigrams\n",
    "data_words_bigrams5 = make_bigrams(data_words_nostops5)\n",
    "\n",
    "# Do lemmatization keeping only noun, adj, vb, adv\n",
    "data_lemmatized5 = lemmatization(data_words_bigrams5, allowed_postags=['NOUN', 'ADJ', 'VERB', 'ADV'])\n",
    "print(data_lemmatized5[:1])"
   ]
  },
  {
   "cell_type": "markdown",
   "id": "a65f6e88-c8d3-4be7-9a3b-2f0b26185d8e",
   "metadata": {
    "tags": []
   },
   "source": [
    "### Data Transformation: Corpus and Dictionary"
   ]
  },
  {
   "cell_type": "code",
   "execution_count": 61,
   "id": "281be7f5-1053-4e6d-933a-4ab26a68c84c",
   "metadata": {},
   "outputs": [
    {
     "name": "stdout",
     "output_type": "stream",
     "text": [
      "[[(0, 3), (1, 2), (2, 1), (3, 1), (4, 1), (5, 3), (6, 2), (7, 3), (8, 1), (9, 1), (10, 1), (11, 1), (12, 2), (13, 1), (14, 1), (15, 1), (16, 1), (17, 1), (18, 1), (19, 1), (20, 1), (21, 1), (22, 1), (23, 1), (24, 1), (25, 1), (26, 1), (27, 1), (28, 1), (29, 1), (30, 1), (31, 1), (32, 2), (33, 1), (34, 1), (35, 1), (36, 1), (37, 4), (38, 1), (39, 1), (40, 1), (41, 1), (42, 1), (43, 1), (44, 2), (45, 1), (46, 1), (47, 1), (48, 1), (49, 1), (50, 1), (51, 1), (52, 1), (53, 1)]]\n"
     ]
    },
    {
     "name": "stderr",
     "output_type": "stream",
     "text": [
      "D:\\Anaconda3\\envs\\project-env-2\\lib\\site-packages\\ipykernel\\ipkernel.py:287: DeprecationWarning: `should_run_async` will not call `transform_cell` automatically in the future. Please pass the result to `transformed_cell` argument and any exception that happen during thetransform in `preprocessing_exc_tuple` in IPython 7.17 and above.\n",
      "  and should_run_async(code)\n"
     ]
    }
   ],
   "source": [
    "# Create Dictionary\n",
    "id2word5 = corpora.Dictionary(data_lemmatized5)\n",
    "\n",
    "# Create Corpus\n",
    "texts5 = data_lemmatized5\n",
    "\n",
    "# Term Document Frequency\n",
    "corpus5 = [id2word5.doc2bow(text) for text in texts5]\n",
    "\n",
    "# View\n",
    "print(corpus5[:1])"
   ]
  },
  {
   "cell_type": "markdown",
   "id": "fa211f2e-2826-43bc-a860-e2e47a0b5b7e",
   "metadata": {},
   "source": [
    "### Base Model Creation Using TFIDF"
   ]
  },
  {
   "cell_type": "code",
   "execution_count": 62,
   "id": "9bd751d1-5be8-4f06-9ad7-539a85ef3959",
   "metadata": {},
   "outputs": [
    {
     "name": "stderr",
     "output_type": "stream",
     "text": [
      "D:\\Anaconda3\\envs\\project-env-2\\lib\\site-packages\\ipykernel\\ipkernel.py:287: DeprecationWarning: `should_run_async` will not call `transform_cell` automatically in the future. Please pass the result to `transformed_cell` argument and any exception that happen during thetransform in `preprocessing_exc_tuple` in IPython 7.17 and above.\n",
      "  and should_run_async(code)\n"
     ]
    }
   ],
   "source": [
    "tfidf5 = models.TfidfModel(corpus5)\n",
    "corpus_tfidf5 = tfidf5[corpus5]\n",
    "\n",
    "# Build LDA model\n",
    "lda_model_rating5 = gensim.models.LdaMulticore(corpus=corpus_tfidf5,\n",
    "                                       id2word=id2word5,\n",
    "                                       num_topics=10, \n",
    "                                       random_state=1,\n",
    "                                       chunksize=100,\n",
    "                                       passes=10,\n",
    "                                       per_word_topics=True)"
   ]
  },
  {
   "cell_type": "code",
   "execution_count": 63,
   "id": "28793084-0bcd-416c-bb7a-51f688d20601",
   "metadata": {
    "scrolled": true,
    "tags": []
   },
   "outputs": [
    {
     "name": "stdout",
     "output_type": "stream",
     "text": [
      "[(0,\n",
      "  '0.018*\"well\" + 0.008*\"life\" + 0.008*\"bank\" + 0.008*\"request\" + '\n",
      "  '0.007*\"money\" + 0.007*\"love\" + 0.007*\"bill\" + 0.007*\"get\" + 0.007*\"invest\" '\n",
      "  '+ 0.007*\"limit\"'),\n",
      " (1,\n",
      "  '0.022*\"good\" + 0.011*\"year\" + 0.011*\"like\" + 0.009*\"io\" + 0.008*\"nice\" + '\n",
      "  '0.008*\"fully\" + 0.007*\"account\" + 0.007*\"pay\" + 0.007*\"nickname\" + '\n",
      "  '0.007*\"allow\"'),\n",
      " (2,\n",
      "  '0.010*\"amazing\" + 0.008*\"limit\" + 0.008*\"basta\" + 0.007*\"create\" + '\n",
      "  '0.007*\"gamitin\" + 0.007*\"receive\" + 0.006*\"great\" + 0.006*\"problem\" + '\n",
      "  '0.006*\"exceed\" + 0.006*\"nice\"'),\n",
      " (3,\n",
      "  '0.018*\"helpful\" + 0.011*\"verify\" + 0.010*\"convenience\" + 0.010*\"good\" + '\n",
      "  '0.009*\"omsim\" + 0.008*\"smart\" + 0.008*\"app\" + 0.007*\"everyday\" + '\n",
      "  '0.007*\"superb\" + 0.006*\"continuously\"'),\n",
      " (4,\n",
      "  '0.012*\"update\" + 0.009*\"number\" + 0.009*\"fix\" + 0.008*\"gcredit\" + '\n",
      "  '0.008*\"maasahan\" + 0.008*\"good\" + 0.008*\"awesome\" + 0.008*\"love\" + '\n",
      "  '0.007*\"convenient\" + 0.007*\"send\"'),\n",
      " (5,\n",
      "  '0.009*\"payment\" + 0.009*\"user\" + 0.009*\"bank\" + 0.009*\"bill\" + 0.008*\"use\" '\n",
      "  '+ 0.008*\"helpful\" + 0.007*\"friendly\" + 0.007*\"issue\" + 0.007*\"abroad\" + '\n",
      "  '0.007*\"rebate\"'),\n",
      " (6,\n",
      "  '0.013*\"great\" + 0.011*\"nice\" + 0.009*\"personal\" + 0.008*\"useful\" + '\n",
      "  '0.007*\"inlove\" + 0.007*\"suggestion\" + 0.006*\"card\" + 0.005*\"fair\" + '\n",
      "  '0.005*\"semi\" + 0.005*\"department\"'),\n",
      " (7,\n",
      "  '0.011*\"kaksnsksksk\" + 0.009*\"love\" + 0.009*\"come\" + 0.008*\"faceid\" + '\n",
      "  '0.008*\"time\" + 0.008*\"great\" + 0.007*\"fast\" + 0.007*\"student\" + '\n",
      "  '0.007*\"reliable\" + 0.007*\"clearance\"'),\n",
      " (8,\n",
      "  '0.010*\"make\" + 0.010*\"transaction\" + 0.008*\"time\" + 0.008*\"feature\" + '\n",
      "  '0.007*\"payment\" + 0.007*\"easy\" + 0.007*\"cash\" + 0.007*\"hassle\" + '\n",
      "  '0.006*\"face\" + 0.006*\"phone\"'),\n",
      " (9,\n",
      "  '0.011*\"update\" + 0.008*\"useful\" + 0.008*\"grocery\" + 0.008*\"mae\" + '\n",
      "  '0.008*\"specially\" + 0.007*\"upgradng\" + 0.007*\"invest\" + 0.007*\"money\" + '\n",
      "  '0.007*\"star\" + 0.007*\"amazing\"')]\n"
     ]
    },
    {
     "name": "stderr",
     "output_type": "stream",
     "text": [
      "D:\\Anaconda3\\envs\\project-env-2\\lib\\site-packages\\ipykernel\\ipkernel.py:287: DeprecationWarning: `should_run_async` will not call `transform_cell` automatically in the future. Please pass the result to `transformed_cell` argument and any exception that happen during thetransform in `preprocessing_exc_tuple` in IPython 7.17 and above.\n",
      "  and should_run_async(code)\n"
     ]
    }
   ],
   "source": [
    "# Print the keywords in the 10 topics\n",
    "pprint(lda_model_rating5.print_topics())\n",
    "doc_lda= lda_model_rating5[corpus_tfidf5]"
   ]
  },
  {
   "cell_type": "markdown",
   "id": "d6ce74c6-c516-42ce-b544-7ff1d7b617b9",
   "metadata": {},
   "source": [
    "### Compute Model Coherence Score"
   ]
  },
  {
   "cell_type": "code",
   "execution_count": 64,
   "id": "b14e7780-5b75-4087-ad7c-1482b6cb9db7",
   "metadata": {},
   "outputs": [
    {
     "name": "stderr",
     "output_type": "stream",
     "text": [
      "D:\\Anaconda3\\envs\\project-env-2\\lib\\site-packages\\ipykernel\\ipkernel.py:287: DeprecationWarning: `should_run_async` will not call `transform_cell` automatically in the future. Please pass the result to `transformed_cell` argument and any exception that happen during thetransform in `preprocessing_exc_tuple` in IPython 7.17 and above.\n",
      "  and should_run_async(code)\n"
     ]
    },
    {
     "name": "stdout",
     "output_type": "stream",
     "text": [
      "\n",
      "Coherence Score:  0.5131580130068361\n"
     ]
    }
   ],
   "source": [
    "# Compute Coherence Score\n",
    "coherence_model_lda5 = CoherenceModel(model=lda_model_rating5, texts=data_lemmatized5, dictionary=id2word5, coherence='c_v')\n",
    "coherence_lda5 = coherence_model_lda5.get_coherence()\n",
    "\n",
    "print('\\nCoherence Score: ', coherence_lda5)"
   ]
  },
  {
   "cell_type": "markdown",
   "id": "8e8a29c9-9ec5-42ee-9b52-c0b973531d1c",
   "metadata": {},
   "source": [
    "### Hyperparameter Tuning <br>\n",
    "This part aims the optimum number of topics and values for eta and alpha."
   ]
  },
  {
   "cell_type": "code",
   "execution_count": 65,
   "id": "9917f93e-22a7-4c93-a47d-febf7f8c3e6e",
   "metadata": {},
   "outputs": [
    {
     "name": "stderr",
     "output_type": "stream",
     "text": [
      "D:\\Anaconda3\\envs\\project-env-2\\lib\\site-packages\\ipykernel\\ipkernel.py:287: DeprecationWarning: `should_run_async` will not call `transform_cell` automatically in the future. Please pass the result to `transformed_cell` argument and any exception that happen during thetransform in `preprocessing_exc_tuple` in IPython 7.17 and above.\n",
      "  and should_run_async(code)\n"
     ]
    }
   ],
   "source": [
    "grid = {}\n",
    "grid['Validation_Set'] = {}\n",
    "\n",
    "# Topics range\n",
    "min_topics = 2\n",
    "max_topics = 11\n",
    "step_size = 1\n",
    "topics_range = range(min_topics, max_topics, step_size)\n",
    "\n",
    "# Alpha parameter\n",
    "alpha = list(np.arange(0.01, 1, 0.3))\n",
    "alpha.append('symmetric')\n",
    "alpha.append('asymmetric')\n",
    "\n",
    "# Eta parameter\n",
    "eta = list(np.arange(0.01, 1, 0.3))\n",
    "eta.append('symmetric')"
   ]
  },
  {
   "cell_type": "code",
   "execution_count": 66,
   "id": "431895f1-495f-4e68-8fc5-57199b08d7c7",
   "metadata": {
    "scrolled": true,
    "tags": []
   },
   "outputs": [
    {
     "name": "stderr",
     "output_type": "stream",
     "text": [
      "D:\\Anaconda3\\envs\\project-env-2\\lib\\site-packages\\ipykernel\\ipkernel.py:287: DeprecationWarning: `should_run_async` will not call `transform_cell` automatically in the future. Please pass the result to `transformed_cell` argument and any exception that happen during thetransform in `preprocessing_exc_tuple` in IPython 7.17 and above.\n",
      "  and should_run_async(code)\n",
      "100%|██████████| 54/54 [14:02<00:00, 15.60s/it]\n"
     ]
    }
   ],
   "source": [
    "model_results = {'Topics': [],\n",
    "                 'Alpha': [],\n",
    "                 'Eta': [],\n",
    "                 'Coherence': []\n",
    "                }\n",
    "# Loop to determine optimal number of topics\n",
    "if 1 == 1:\n",
    "    pbar = tqdm.tqdm(total=54)\n",
    "    \n",
    "    # iterate through the number of topics\n",
    "    for k in topics_range:\n",
    "        # iterate through alpha values\n",
    "        for a in alpha:\n",
    "            # iterare through eta values\n",
    "            for e in eta:\n",
    "                cv = compute_coherence_values(data_lemmatized5, \n",
    "                                              corpus=corpus_tfidf5, \n",
    "                                              dictionary=id2word5, \n",
    "                                              k=k,\n",
    "                                              a=a,\n",
    "                                              eta=e)\n",
    "                model_results['Topics'].append(k)\n",
    "                model_results['Alpha'].append(a)\n",
    "                model_results['Eta'].append(e)\n",
    "                model_results['Coherence'].append(cv)\n",
    "        \n",
    "            pbar.update(1)\n",
    "    \n",
    "    pd.DataFrame(model_results).to_csv('lda_tuning_results_rating5.csv', index=False)\n",
    "    pbar.close()"
   ]
  },
  {
   "cell_type": "code",
   "execution_count": 67,
   "id": "c7cb8709-d08e-49ae-9d6a-734b499cc22f",
   "metadata": {},
   "outputs": [
    {
     "name": "stderr",
     "output_type": "stream",
     "text": [
      "D:\\Anaconda3\\envs\\project-env-2\\lib\\site-packages\\ipykernel\\ipkernel.py:287: DeprecationWarning: `should_run_async` will not call `transform_cell` automatically in the future. Please pass the result to `transformed_cell` argument and any exception that happen during thetransform in `preprocessing_exc_tuple` in IPython 7.17 and above.\n",
      "  and should_run_async(code)\n"
     ]
    }
   ],
   "source": [
    "lda_tuning_results_rating5= pd.read_csv('lda_tuning_results_rating5.csv')"
   ]
  },
  {
   "cell_type": "code",
   "execution_count": 68,
   "id": "00b18279-0f8c-4fcc-ae11-3f13fe87303a",
   "metadata": {
    "scrolled": true,
    "tags": []
   },
   "outputs": [
    {
     "name": "stderr",
     "output_type": "stream",
     "text": [
      "D:\\Anaconda3\\envs\\project-env-2\\lib\\site-packages\\ipykernel\\ipkernel.py:287: DeprecationWarning: `should_run_async` will not call `transform_cell` automatically in the future. Please pass the result to `transformed_cell` argument and any exception that happen during thetransform in `preprocessing_exc_tuple` in IPython 7.17 and above.\n",
      "  and should_run_async(code)\n"
     ]
    },
    {
     "data": {
      "text/html": [
       "<div>\n",
       "<style scoped>\n",
       "    .dataframe tbody tr th:only-of-type {\n",
       "        vertical-align: middle;\n",
       "    }\n",
       "\n",
       "    .dataframe tbody tr th {\n",
       "        vertical-align: top;\n",
       "    }\n",
       "\n",
       "    .dataframe thead th {\n",
       "        text-align: right;\n",
       "    }\n",
       "</style>\n",
       "<table border=\"1\" class=\"dataframe\">\n",
       "  <thead>\n",
       "    <tr style=\"text-align: right;\">\n",
       "      <th></th>\n",
       "      <th>Topics</th>\n",
       "      <th>Alpha</th>\n",
       "      <th>Eta</th>\n",
       "      <th>Coherence</th>\n",
       "    </tr>\n",
       "  </thead>\n",
       "  <tbody>\n",
       "    <tr>\n",
       "      <th>207</th>\n",
       "      <td>8</td>\n",
       "      <td>asymmetric</td>\n",
       "      <td>0.61</td>\n",
       "      <td>0.696336</td>\n",
       "    </tr>\n",
       "    <tr>\n",
       "      <th>177</th>\n",
       "      <td>7</td>\n",
       "      <td>asymmetric</td>\n",
       "      <td>0.61</td>\n",
       "      <td>0.689220</td>\n",
       "    </tr>\n",
       "    <tr>\n",
       "      <th>206</th>\n",
       "      <td>8</td>\n",
       "      <td>asymmetric</td>\n",
       "      <td>0.31</td>\n",
       "      <td>0.687147</td>\n",
       "    </tr>\n",
       "    <tr>\n",
       "      <th>118</th>\n",
       "      <td>5</td>\n",
       "      <td>asymmetric</td>\n",
       "      <td>0.9099999999999999</td>\n",
       "      <td>0.679545</td>\n",
       "    </tr>\n",
       "    <tr>\n",
       "      <th>87</th>\n",
       "      <td>4</td>\n",
       "      <td>asymmetric</td>\n",
       "      <td>0.61</td>\n",
       "      <td>0.678953</td>\n",
       "    </tr>\n",
       "    <tr>\n",
       "      <th>...</th>\n",
       "      <td>...</td>\n",
       "      <td>...</td>\n",
       "      <td>...</td>\n",
       "      <td>...</td>\n",
       "    </tr>\n",
       "    <tr>\n",
       "      <th>192</th>\n",
       "      <td>8</td>\n",
       "      <td>0.61</td>\n",
       "      <td>0.61</td>\n",
       "      <td>0.328861</td>\n",
       "    </tr>\n",
       "    <tr>\n",
       "      <th>137</th>\n",
       "      <td>6</td>\n",
       "      <td>0.9099999999999999</td>\n",
       "      <td>0.61</td>\n",
       "      <td>0.324410</td>\n",
       "    </tr>\n",
       "    <tr>\n",
       "      <th>107</th>\n",
       "      <td>5</td>\n",
       "      <td>0.9099999999999999</td>\n",
       "      <td>0.61</td>\n",
       "      <td>0.319405</td>\n",
       "    </tr>\n",
       "    <tr>\n",
       "      <th>103</th>\n",
       "      <td>5</td>\n",
       "      <td>0.61</td>\n",
       "      <td>0.9099999999999999</td>\n",
       "      <td>0.319405</td>\n",
       "    </tr>\n",
       "    <tr>\n",
       "      <th>8</th>\n",
       "      <td>2</td>\n",
       "      <td>0.31</td>\n",
       "      <td>0.9099999999999999</td>\n",
       "      <td>0.313479</td>\n",
       "    </tr>\n",
       "  </tbody>\n",
       "</table>\n",
       "<p>270 rows × 4 columns</p>\n",
       "</div>"
      ],
      "text/plain": [
       "     Topics               Alpha                 Eta  Coherence\n",
       "207       8          asymmetric                0.61   0.696336\n",
       "177       7          asymmetric                0.61   0.689220\n",
       "206       8          asymmetric                0.31   0.687147\n",
       "118       5          asymmetric  0.9099999999999999   0.679545\n",
       "87        4          asymmetric                0.61   0.678953\n",
       "..      ...                 ...                 ...        ...\n",
       "192       8                0.61                0.61   0.328861\n",
       "137       6  0.9099999999999999                0.61   0.324410\n",
       "107       5  0.9099999999999999                0.61   0.319405\n",
       "103       5                0.61  0.9099999999999999   0.319405\n",
       "8         2                0.31  0.9099999999999999   0.313479\n",
       "\n",
       "[270 rows x 4 columns]"
      ]
     },
     "execution_count": 68,
     "metadata": {},
     "output_type": "execute_result"
    }
   ],
   "source": [
    "lda_tuning_results_rating5.sort_values(by='Coherence', ascending=False)"
   ]
  },
  {
   "cell_type": "markdown",
   "id": "bb60d1d9-c9d8-40f3-b273-5ffe058a964a",
   "metadata": {},
   "source": [
    "### Final Model"
   ]
  },
  {
   "cell_type": "code",
   "execution_count": 69,
   "id": "4bde5c31-bdfb-40a6-88f4-6176484644f5",
   "metadata": {},
   "outputs": [
    {
     "name": "stderr",
     "output_type": "stream",
     "text": [
      "D:\\Anaconda3\\envs\\project-env-2\\lib\\site-packages\\ipykernel\\ipkernel.py:287: DeprecationWarning: `should_run_async` will not call `transform_cell` automatically in the future. Please pass the result to `transformed_cell` argument and any exception that happen during thetransform in `preprocessing_exc_tuple` in IPython 7.17 and above.\n",
      "  and should_run_async(code)\n"
     ]
    }
   ],
   "source": [
    "final_lda5 = gensim.models.LdaMulticore(corpus=corpus5,\n",
    "                                           id2word=id2word5,\n",
    "                                           num_topics=8, \n",
    "                                           random_state=100,\n",
    "                                           chunksize=100,\n",
    "                                           passes=10,\n",
    "                                           alpha='asymmetric',\n",
    "                                           eta=0.61)"
   ]
  },
  {
   "cell_type": "code",
   "execution_count": 70,
   "id": "b3565e0e-ac00-45a9-8279-3273ce313744",
   "metadata": {
    "tags": []
   },
   "outputs": [
    {
     "name": "stderr",
     "output_type": "stream",
     "text": [
      "D:\\Anaconda3\\envs\\project-env-2\\lib\\site-packages\\ipykernel\\ipkernel.py:287: DeprecationWarning: `should_run_async` will not call `transform_cell` automatically in the future. Please pass the result to `transformed_cell` argument and any exception that happen during thetransform in `preprocessing_exc_tuple` in IPython 7.17 and above.\n",
      "  and should_run_async(code)\n"
     ]
    },
    {
     "data": {
      "text/html": [
       "\n",
       "<link rel=\"stylesheet\" type=\"text/css\" href=\"https://cdn.jsdelivr.net/gh/bmabey/pyLDAvis@3.3.1/pyLDAvis/js/ldavis.v1.0.0.css\">\n",
       "\n",
       "\n",
       "<div id=\"ldavis_el1205621387361664965435443107\"></div>\n",
       "<script type=\"text/javascript\">\n",
       "\n",
       "var ldavis_el1205621387361664965435443107_data = {\"mdsDat\": {\"x\": [0.0755350724707037, 0.03018762328135391, -0.01728034612927172, -0.015427227227469772, -0.023519370867546442, -0.017684518494134268, -0.015612427781155833, -0.016198805252479596], \"y\": [0.02829078531817413, -0.05476278701893586, 0.01184387180593187, 0.006694778469878676, 0.005847367089858865, 0.0032283312482628435, 0.00046584631773305423, -0.0016081932309036234], \"topics\": [1, 2, 3, 4, 5, 6, 7, 8], \"cluster\": [1, 1, 1, 1, 1, 1, 1, 1], \"Freq\": [45.7595744247904, 25.716873517729894, 10.960204294275643, 4.996362482178109, 4.473425482490309, 3.9905761817495438, 2.85033271770414, 1.2526508990819638]}, \"tinfo\": {\"Term\": [\"good\", \"love\", \"number\", \"send\", \"money\", \"wallet\", \"user\", \"phone\", \"bank\", \"helpful\", \"team\", \"credit\", \"need\", \"pay\", \"cash\", \"lot\", \"day\", \"buy\", \"issue\", \"d\", \"invest\", \"pandemic\", \"able\", \"investment\", \"save\", \"help\", \"saving\", \"super\", \"card\", \"useful\", \"verify\", \"amazing\", \"help\", \"useful\", \"great\", \"convenient\", \"send\", \"save\", \"add\", \"fund\", \"mobile\", \"high\", \"small\", \"student\", \"wrong\", \"update\", \"way\", \"make\", \"buy\", \"phone\", \"load\", \"screen\", \"fully\", \"cashless\", \"today\", \"grocery\", \"request\", \"force\", \"date\", \"wait\", \"issue\", \"money\", \"bill\", \"transaction\", \"fee\", \"invest\", \"payment\", \"hope\", \"transfer\", \"well\", \"pay\", \"good\", \"use\", \"account\", \"feature\", \"love\", \"option\", \"easy\", \"number\", \"bank\", \"cash\", \"come\", \"version\", \"encounter\", \"apple\", \"hassle\", \"wish\", \"detail\", \"allow\", \"nickname\", \"shopee\", \"challenge\", \"believe\", \"right\", \"mall\", \"girl\", \"scan\", \"solve\", \"support\", \"true\", \"maybe\", \"free\", \"card\", \"credit\", \"pwede\", \"user\", \"problem\", \"patience\", \"helpful\", \"time\", \"keyboard\", \"want\", \"pay\", \"easy\", \"online\", \"bill\", \"bank\", \"account\", \"use\", \"try\", \"return\", \"experience\", \"money\", \"transaction\", \"wallet\", \"service\", \"cash\", \"feature\", \"transfer\", \"number\", \"update\", \"lot\", \"option\", \"love\", \"improvement\", \"clearance\", \"nbi\", \"developer\", \"problema\", \"maintenance\", \"technical\", \"easily\", \"validity\", \"un\", \"barrangay\", \"pala\", \"nga\", \"nba\", \"effort\", \"tech\", \"basically\", \"streamline\", \"complaint\", \"like\", \"tbh\", \"goin\", \"worried\", \"kind\", \"prompt\", \"purpose\", \"radically\", \"nya\", \"usefull\", \"nirmal\", \"gsave\", \"day\", \"good\", \"need\", \"user\", \"globe\", \"lot\", \"super\", \"hope\", \"payment\", \"love\", \"app\", \"use\", \"get\", \"transaction\", \"year\", \"well\", \"time\", \"useful\", \"issue\", \"add\", \"easy\", \"convenience\", \"althea\", \"smart\", \"gamitin\", \"hehehe\", \"pli\", \"lovee\", \"hi\", \"center\", \"lockdown\", \"workforce\", \"registering\", \"pwde\", \"halimbawa\", \"answer\", \"accept\", \"forest\", \"establishment\", \"nadedecline\", \"decline\", \"nakakahiya\", \"appreciate\", \"coz\", \"laman\", \"interface\", \"button\", \"po\", \"prefer\", \"unlinked\", \"eventhough\", \"counting\", \"email\", \"love\", \"send\", \"number\", \"money\", \"wallet\", \"able\", \"pls\", \"buy\", \"mastercard\", \"go\", \"card\", \"mistake\", \"gcredit\", \"year\", \"time\", \"contact\", \"true\", \"wrong\", \"know\", \"think\", \"face\", \"hand\", \"cimb\", \"partner\", \"ginvest\", \"intoduce\", \"product\", \"excuse\", \"atram\", \"learn\", \"grow\", \"long\", \"lsi\", \"nmin\", \"putang\", \"gingamot\", \"biliaan\", \"lng\", \"hu\", \"ayoa\", \"bigla\", \"kyung\", \"putng\", \"shop\", \"digital\", \"csa\", \"tandem\", \"wahhla\", \"shoppe\", \"safe\", \"d\", \"invest\", \"money\", \"good\", \"save\", \"new\", \"pls\", \"bring\", \"term\", \"happy\", \"filipino\", \"security\", \"i\", \"thank\", \"piggy\", \"literacy\", \"secure\", \"possible\", \"satisfy\", \"resolve\", \"matter\", \"coordinate\", \"bug\", \"practical\", \"decent\", \"mop\", \"experienced\", \"relatively\", \"message\", \"fingerprint\", \"touch\", \"portion\", \"suggestion\", \"responsive\", \"compare\", \"concern\", \"text\", \"team\", \"mistake\", \"actually\", \"connect\", \"perfect\", \"finance\", \"power\", \"bit\", \"user\", \"issue\", \"lot\", \"transaction\", \"help\", \"love\", \"convenient\", \"personal\", \"technical\", \"need\", \"able\", \"manage\", \"patience\", \"year\", \"friendly\", \"replace\", \"heavily\", \"rely\", \"bot\", \"worry\", \"registration\", \"whatcantyoudo\", \"whatyoucantdo\", \"cap\", \"datum\", \"connection\", \"joke\", \"gtrash\", \"notice\", \"new\", \"case\", \"july\", \"internet\", \"big\", \"unavailable\", \"bring\", \"phone\", \"give\", \"thing\", \"fast\", \"napakconvenient\", \"nitong\", \"people\", \"literacy\", \"possible\", \"number\", \"cash\", \"bank\", \"lot\", \"transfer\", \"love\", \"need\", \"great\", \"easy\", \"make\", \"napakconvenient\", \"nitong\", \"line\", \"specially\", \"wallet\", \"navigate\", \"investment\", \"super\", \"replace\", \"heavily\", \"rely\", \"worry\", \"bot\", \"registration\", \"whatcantyoudo\", \"whatyoucantdo\", \"cap\", \"datum\", \"connection\", \"joke\", \"gtrash\", \"notice\", \"saving\", \"literacy\", \"possible\", \"secure\", \"satisfy\", \"resolve\", \"matter\", \"coordinate\", \"credit\", \"friendly\", \"pandemic\", \"helpful\", \"user\", \"easy\", \"use\", \"convenient\", \"girl\", \"anyways\", \"realize\", \"care\", \"expect\", \"date\", \"read\", \"dramatically\", \"base\", \"feeling\", \"boy\", \"crazy\", \"close\", \"globeone\", \"maybe\", \"hurt\", \"solve\", \"patience\", \"show\", \"family\", \"problem\", \"transaction\", \"time\", \"people\", \"thing\", \"try\"], \"Freq\": [14.0, 10.0, 9.0, 10.0, 16.0, 4.0, 5.0, 4.0, 9.0, 6.0, 4.0, 4.0, 5.0, 24.0, 7.0, 5.0, 4.0, 5.0, 7.0, 3.0, 4.0, 4.0, 5.0, 3.0, 6.0, 8.0, 3.0, 3.0, 7.0, 8.0, 8.593949301770227, 4.232826265899437, 7.138113804503914, 6.854472144328092, 7.328756503278978, 10.933801086219505, 7.885515968356324, 5.0360361286122135, 4.898889629334925, 2.952943741184739, 2.9524140873940508, 2.950046783832515, 2.9490985013298774, 2.9501045324286364, 3.559513412033697, 10.677302432858976, 3.593411643517153, 4.240267473891222, 3.7460102671505213, 2.953565170522124, 6.172500889838516, 2.3123566473054478, 2.3122957876738455, 2.310289364228138, 2.3099646498997792, 2.311258257340839, 2.309458717754636, 2.3107124650535917, 2.305725475177101, 2.3096399355714206, 5.615457153894069, 10.636594533586434, 10.830717703306181, 10.782382322792412, 2.9551819367738017, 2.953946272368581, 5.3711020386552795, 5.365963774678511, 5.524888300083626, 5.678106408657205, 13.394577264308376, 8.220779818031886, 7.445722882027512, 6.1589869405872735, 4.889645576281739, 5.8432545605426185, 4.231912788106246, 5.589834665670251, 4.87478065987275, 4.995105401423325, 4.243928773773253, 1.8788700004364056, 1.878806402333896, 1.8767286457683992, 1.8718033989018759, 2.9161093753816547, 2.389250018280958, 1.3584633374133672, 1.357236178150165, 1.356993915275141, 1.356661937551044, 1.3557402021650145, 1.355039748836686, 1.3549467557349064, 1.3550145062908445, 1.3530519256704427, 1.3547507162230468, 1.3532993244747071, 1.353161856411207, 1.3545145727530752, 1.871522561920003, 1.8704182278582113, 3.9516119320429017, 2.3955916888669497, 1.356992494698968, 2.8522905371897194, 4.4780027175567225, 1.3536160036861729, 3.3558032712643087, 4.471269186497192, 0.8379423726459558, 2.3918350298152693, 10.186507641875883, 4.40369041100087, 2.9081246445390727, 4.995381367829687, 3.435819737529793, 3.43624984428491, 3.8805542747742456, 2.3962139012306785, 1.8772654050115736, 1.8700879985355578, 3.949250715893367, 3.9482226558445506, 1.8744738635567413, 1.8799448302238373, 2.3969842906167496, 2.3879133653773525, 2.3885502206031712, 2.404893840197258, 2.4139999520157067, 1.881280608926721, 1.879283060277448, 1.8791274525489705, 1.1525993285045568, 0.8363279720666931, 0.8363274132068554, 0.8344552327509329, 0.8346406810737061, 0.8355861787756002, 0.8289458061853697, 0.5158701965854515, 0.5158699637271859, 0.515860882254825, 0.5158608356831719, 0.5158606493965594, 0.5158603699666405, 0.5158602302516812, 0.5158508227777484, 0.51584891333997, 0.5157948436506833, 0.5157756561295928, 0.5157736069768549, 0.5155894160887162, 0.5155813126210712, 0.5154832792912275, 0.5154444851041682, 0.5154414113750615, 0.51541700782882, 0.5153892511235532, 0.5152045013755769, 0.5151955130465223, 0.5151786075364353, 0.5151705040687903, 0.8355996845550085, 1.4397562297000865, 3.617807846769609, 1.5359284631413164, 1.4722574687015149, 0.836206978911855, 1.1539896786371715, 0.8360650285131075, 1.1545071828467788, 1.1533098256447447, 1.1532640922813686, 0.8341982503689483, 1.1554870504286845, 0.8341273683128808, 1.1518331316672223, 0.8341438546780896, 0.8326203096175162, 0.8355714621332103, 0.8071097551811802, 0.7797170073834981, 0.7362345917183274, 0.833806303336186, 0.5654172194931768, 0.46037622250310706, 0.45918609211971917, 0.45931058683177073, 0.28397800053861605, 0.28397795807793663, 0.28397778823521896, 0.2839771937857071, 0.2838259276152829, 0.2837649116189603, 0.2837460378469593, 0.2834618485196192, 0.28341047109752426, 0.28335210889366513, 0.28333151546414775, 0.2753499055596592, 0.2753380802604415, 0.27529024830507787, 0.2752329476182042, 0.275219338970451, 0.2752198697289437, 0.27514851455718287, 0.27514448079263826, 0.2751269657623786, 0.2751115313054104, 0.275103400085302, 0.27511074578284117, 0.27507724430678093, 0.2750597929675404, 0.27507242501966706, 0.27491026768497234, 0.45989972875868596, 1.1656738812570826, 0.7483659929544296, 0.6352371555692943, 0.7547882556376571, 0.41283924147941603, 0.46000859794071197, 0.28340431429900875, 0.39874611737401566, 0.34590562764838456, 0.3452288893398314, 0.36139974187115914, 0.28407704007335693, 0.31584883789687324, 0.31090866522870714, 0.3087800264481584, 0.2837755904798337, 0.28372026421455293, 0.2837174405793717, 0.28364026829453076, 0.2836155561791099, 0.41923213711776725, 0.4153525056559512, 0.41561649288655994, 0.41537778669114056, 0.2585852626459667, 0.258585015538104, 0.2585847494219441, 0.2585838180153845, 0.2585834568577389, 0.2585825824760707, 0.25858123288697415, 0.2585766518873646, 0.2581364007174245, 0.25812822714965655, 0.2581207758971797, 0.2581106444748068, 0.25810452380312937, 0.2581033262804099, 0.25809676841789836, 0.25808317748544696, 0.2580728369718056, 0.2580696625861841, 0.258029060863504, 0.40342362068941406, 0.25550635570095603, 0.2554598614061642, 0.25544421757762226, 0.25544524402566754, 0.2554280605250576, 0.25536873562969975, 0.41892906882824926, 0.4189963962167009, 0.4722062463530821, 0.43719767708838825, 0.3366815737397658, 0.25858379900708733, 0.2585947858028313, 0.2585632510378846, 0.2585335220611657, 0.2585167377347956, 0.25849307240486274, 0.25846450293426904, 0.25840711688521895, 0.2583445225627539, 0.37235211053275635, 0.23435518068412198, 0.23433181449817336, 0.234330067969035, 0.23432972883716344, 0.2343210470612522, 0.2342834034235121, 0.23428075819491415, 0.23352332411643967, 0.23351867800979967, 0.23350869057618304, 0.23347389564616378, 0.23344500161070922, 0.23342745153635738, 0.2276720784577648, 0.22765642752189358, 0.2276204286737304, 0.2276178173583196, 0.34313176239139026, 0.23434895761427935, 0.23397070688136545, 0.23380515965827683, 0.22648523560355574, 0.5052604683886056, 0.23457612509842546, 0.23350607926077221, 0.23430453133910858, 0.23351818626858595, 0.23349451486395298, 0.2276325526381377, 0.23428577734661282, 0.38108651971045276, 0.3795397053312054, 0.31619590827622923, 0.3506608968976598, 0.29920702934542937, 0.3069565656550079, 0.28014132378995743, 0.23432443837996755, 0.2343328149371944, 0.23507709069905341, 0.23457237769124503, 0.2343436332438963, 0.2343108222353255, 0.2342630894244073, 0.23406076334985096, 0.17742996539767347, 0.17742988061705062, 0.1774297231673225, 0.1774296989442874, 0.17742967472125232, 0.17742966260973475, 0.17742033674122273, 0.17742000973024893, 0.17741984016900325, 0.17741968271927513, 0.17741935570830134, 0.1769782300161645, 0.17697773344394505, 0.17694253737395027, 0.17743071631176144, 0.1774240065310398, 0.17694357896445942, 0.17737470054310148, 0.17694350629535413, 0.17690508856169154, 0.17695555725531448, 0.2875379636121056, 0.17736038472935964, 0.17739662238986353, 0.17780796586034958, 0.06723066450820497, 0.06723066450820497, 0.17729654492036362, 0.06723056761606458, 0.06723056761606458, 0.39764054797819376, 0.2867383612235802, 0.2867713529973812, 0.1775946335902574, 0.1779206029735469, 0.17768140050197198, 0.1775742862407766, 0.17755734222772682, 0.1773944180936698, 0.1772769000389006, 0.08292410189035467, 0.08292405930864973, 0.08290810181472334, 0.08290457817863953, 0.1343952487174063, 0.04451224500396527, 0.08287271641791795, 0.0828955242436266, 0.03142186243462692, 0.03142186243462692, 0.03142186243462692, 0.03142186243462692, 0.03142186243462692, 0.03142186243462692, 0.03142188106412283, 0.03142188106412283, 0.03142188106412283, 0.03142188106412283, 0.03142188106412283, 0.03142187574140971, 0.03142187574140971, 0.03142187574140971, 0.08286852744269445, 0.03142185977327036, 0.03142185977327036, 0.03142185977327036, 0.03142185977327036, 0.03142185977327036, 0.03142185977327036, 0.03142185977327036, 0.08288263795516904, 0.044291485477415383, 0.08288847697145897, 0.08834426856236165, 0.037092228559436904, 0.03352655102606788, 0.033561300358655725, 0.033442510708655074, 0.03176436305560114, 0.03160474819598896, 0.03160243281578284, 0.031600468734642465, 0.03159952927577722, 0.03195707720673472, 0.03159111672769495, 0.031584529870212, 0.03158388316056822, 0.03158379799715834, 0.031583766060879634, 0.031583326937047435, 0.03158325774177691, 0.031788911408499224, 0.03186913534060675, 0.0317947025203711, 0.0317075830134198, 0.03174299236243422, 0.0316199472032961, 0.031616772204921484, 0.03209584566042205, 0.032008430742892724, 0.03186685721939245, 0.031781361139941997, 0.03176180815330472, 0.03175760853265498], \"Total\": [14.0, 10.0, 9.0, 10.0, 16.0, 4.0, 5.0, 4.0, 9.0, 6.0, 4.0, 4.0, 5.0, 24.0, 7.0, 5.0, 4.0, 5.0, 7.0, 3.0, 4.0, 4.0, 5.0, 3.0, 6.0, 8.0, 3.0, 3.0, 7.0, 8.0, 10.054209679995681, 5.139277940462016, 8.785305756230501, 8.549680583385214, 9.216308487006655, 13.87065522651916, 10.06561617705913, 6.546970179558995, 6.39475444946686, 3.859125820807132, 3.858651804751826, 3.856893624765108, 3.856876139977517, 3.8585780687983293, 4.670101096236146, 14.099863265344897, 4.8194211383767565, 5.772724593991461, 5.116916338310609, 4.08008366718646, 8.590388896547246, 3.2185410316502, 3.218518860002619, 3.21665202791831, 3.2163788130965076, 3.218332442687052, 3.2162443268521437, 3.2182310097362503, 3.2124281665105614, 3.218027361267331, 7.928366712273734, 16.199479636520913, 16.57243980859806, 16.539321982674508, 4.1808108636763475, 4.181188932034303, 8.314400779345492, 8.308743044728088, 8.613013385083029, 8.905685753337576, 24.32579278670398, 14.439718882928329, 13.045583288888356, 10.184348898756225, 8.02650309520923, 10.655491271617086, 6.700275495569913, 11.332942206662992, 9.046098469963761, 9.658273869109925, 7.943814740248551, 2.85848310152121, 2.858504824475569, 2.857960942686311, 2.860128006166108, 4.860559091378389, 4.021854038156151, 2.337933567398483, 2.3370815243540513, 2.3369057034298764, 2.337046354591139, 2.336592090911704, 2.3366834297682684, 2.3366827005622577, 2.3382163070060042, 2.3350566914630786, 2.3380878832074434, 2.335669661269401, 2.3369631415472396, 2.514045938385096, 3.494372479933975, 3.499827087002647, 7.412397079042324, 4.54951478122442, 2.6576626324569204, 5.629282528865102, 8.979694451436213, 2.806550502097112, 6.989423092147768, 9.408292331688367, 1.8174008000684587, 5.298280985655425, 24.32579278670398, 11.332942206662992, 7.099530662855108, 16.57243980859806, 9.658273869109925, 10.184348898756225, 13.045583288888356, 6.027095997224699, 4.138232495851177, 4.137337232982404, 16.199479636520913, 16.539321982674508, 4.394332379917674, 4.459952707103729, 7.943814740248551, 8.02650309520923, 8.613013385083029, 9.046098469963761, 14.099863265344897, 5.720805876633694, 6.700275495569913, 10.655491271617086, 2.2568746185736708, 1.9378920087946991, 1.9378928049852686, 1.9387657980542352, 1.939584495935033, 2.10081321050651, 2.090870844104896, 1.6174120344735305, 1.6174121846053005, 1.6174192029689494, 1.6174192956159632, 1.6174194985977897, 1.617419686795314, 1.6174197903526462, 1.6174309948447638, 1.6174328403704943, 1.6173126797753086, 1.6173002998283057, 1.617298558018889, 1.6176430249895553, 1.617707178130374, 1.6178050853983057, 1.6178436599414943, 1.617846756493254, 1.617871029763686, 1.6178988585126823, 1.6180833103862435, 1.618092231636004, 1.6181090553611586, 1.6181172302203883, 2.62886598425297, 4.682016605585142, 14.439718882928329, 5.734923881879988, 5.629282528865102, 3.2190735983688215, 5.720805876633694, 3.6703138151118155, 8.308743044728088, 8.314400779345492, 10.655491271617086, 5.023786174589962, 13.045583288888356, 5.598365127718413, 16.539321982674508, 6.429950146081292, 8.905685753337576, 9.408292331688367, 8.549680583385214, 7.928366712273734, 6.39475444946686, 11.332942206662992, 2.848933501552, 1.6497658387082559, 1.9734202389313364, 2.1730817185278393, 1.473350711904546, 1.4733510627452513, 1.4733512753217428, 1.4733523870337355, 1.4737547025391817, 1.4739152182737911, 1.4739646149148473, 1.4747074474545865, 1.474842486756191, 1.4749960658391637, 1.475049970334754, 1.4940511177722693, 1.4940997448765017, 1.494258050655491, 1.49416831611242, 1.494175786260937, 1.4943674741185629, 1.4943975040990782, 1.4944051697811795, 1.4944005285480488, 1.4943471235907988, 1.4944438599232275, 1.4945038878707624, 1.4944377259555852, 1.4946020746562998, 1.494690426282266, 1.4948497846442013, 2.929286552918057, 10.655491271617086, 10.06561617705913, 9.046098469963761, 16.199479636520913, 4.394332379917674, 5.916729152626531, 1.6355777233893467, 5.116916338310609, 3.8653321235804188, 4.191201971064738, 7.412397079042324, 1.9404281815919346, 5.6242751053450455, 6.429950146081292, 9.408292331688367, 2.444449395847669, 2.514045938385096, 4.670101096236146, 3.076803883901, 3.5949192553772957, 1.6182805023113123, 1.6295241225736916, 2.149341782805401, 2.149999611446691, 1.4576585406097875, 1.4576591988132344, 1.457660053386807, 1.457662682560325, 1.4576638662367778, 1.4576664385801974, 1.457670238435307, 1.45768392306637, 1.4589971107009065, 1.4590215373320536, 1.4590436589994962, 1.4590738048929661, 1.4590922941144342, 1.4590956454149508, 1.4591154313584718, 1.4591559918873664, 1.4591869029264326, 1.4591961969440943, 1.459317515720865, 2.3057159341791915, 1.4666816187386122, 1.466834933435096, 1.4668433181227167, 1.4668687264807083, 1.4669274294212755, 1.46707037403897, 3.9153153501667552, 4.181188932034303, 16.199479636520913, 14.439718882928329, 6.546970179558995, 1.5679061149594062, 1.6355777233893467, 2.411353532636132, 2.0982794501806312, 3.1372194430546183, 2.7389737985791207, 3.4551910907486465, 3.0615268068919517, 6.001637317010513, 1.6147238168402773, 1.4426827001007534, 1.442688170642225, 1.4426880136466775, 1.4426883224417861, 1.4426904705281611, 1.442699024085017, 1.4426994721990398, 1.4449170611929745, 1.4450028965829145, 1.4449551995885626, 1.444885561710134, 1.44505228173121, 1.445175313821629, 1.465822024092771, 1.4658644585564764, 1.4659619702045221, 1.4659686565358487, 2.3544372066292607, 1.6127238012496128, 1.6448752471647559, 1.645892885183717, 1.7946791089480383, 4.12556276012866, 1.9404281815919346, 1.9432828542392837, 1.9624925467772698, 1.9647329601068617, 1.9648993346216543, 1.9864279955845772, 2.0811691805175583, 5.629282528865102, 7.928366712273734, 5.720805876633694, 16.539321982674508, 8.785305756230501, 10.655491271617086, 13.87065522651916, 2.0832282197577836, 2.090870844104896, 5.734923881879988, 5.916729152626531, 2.283072459193278, 2.806550502097112, 6.429950146081292, 2.1690479168344785, 1.4071513102372792, 1.4071514835753425, 1.4071521737855708, 1.40715244423592, 1.4071524382902338, 1.4071525051212261, 1.407191227902064, 1.4071928390661483, 1.4071934014731495, 1.4071942134027031, 1.407195757679509, 1.4093195573580548, 1.4093219753869293, 1.4094912762378151, 1.5679061149594062, 1.9270167765838944, 1.9303684987686158, 2.047296896029509, 2.049723847101764, 2.0496705942148656, 2.411353532636132, 4.08008366718646, 2.567191584665973, 3.0854256949110135, 3.5287308805931126, 1.3484799335979898, 1.3484804247063702, 3.726831384755397, 1.4426827001007534, 1.4426880136466775, 9.046098469963761, 7.943814740248551, 9.658273869109925, 5.720805876633694, 8.613013385083029, 10.655491271617086, 5.734923881879988, 9.216308487006655, 11.332942206662992, 5.772724593991461, 1.3484799335979898, 1.3484804247063702, 1.9890533604740228, 2.5097464880121114, 4.394332379917674, 1.6994125773555517, 3.2707054955396235, 3.6703138151118155, 1.4071513102372792, 1.4071514835753425, 1.4071521737855708, 1.4071524382902338, 1.40715244423592, 1.4071525051212261, 1.407191227902064, 1.4071928390661483, 1.4071934014731495, 1.4071942134027031, 1.407195757679509, 1.4093195573580548, 1.4093219753869293, 1.4094912762378151, 3.7909534249901466, 1.4426827001007534, 1.4426880136466775, 1.442688170642225, 1.4426883224417861, 1.4426904705281611, 1.442699024085017, 1.4426994721990398, 4.54951478122442, 2.1690479168344785, 4.740425006992425, 6.989423092147768, 5.629282528865102, 11.332942206662992, 13.045583288888356, 13.87065522651916, 2.3350566914630786, 1.815870619859551, 1.815920218080902, 1.8159494838257582, 1.8159176394261864, 3.2124281665105614, 1.8159774869756877, 1.816053154872099, 1.8160795786041763, 1.8160940467944489, 1.816079912675089, 1.816083122414246, 1.8161042796067066, 2.573770073381622, 3.494372479933975, 2.9749039213598842, 2.335669661269401, 2.806550502097112, 1.9351261051064805, 1.9351624013707749, 8.979694451436213, 16.539321982674508, 9.408292331688367, 3.726831384755397, 3.0854256949110135, 6.027095997224699], \"Category\": [\"Default\", \"Default\", \"Default\", \"Default\", \"Default\", \"Default\", \"Default\", \"Default\", \"Default\", \"Default\", \"Default\", \"Default\", \"Default\", \"Default\", \"Default\", \"Default\", \"Default\", \"Default\", \"Default\", \"Default\", \"Default\", \"Default\", \"Default\", \"Default\", \"Default\", \"Default\", \"Default\", \"Default\", \"Default\", \"Default\", \"Topic1\", \"Topic1\", \"Topic1\", \"Topic1\", \"Topic1\", \"Topic1\", \"Topic1\", \"Topic1\", \"Topic1\", \"Topic1\", \"Topic1\", \"Topic1\", \"Topic1\", \"Topic1\", \"Topic1\", \"Topic1\", \"Topic1\", \"Topic1\", \"Topic1\", \"Topic1\", \"Topic1\", \"Topic1\", \"Topic1\", \"Topic1\", \"Topic1\", \"Topic1\", \"Topic1\", \"Topic1\", \"Topic1\", \"Topic1\", \"Topic1\", \"Topic1\", \"Topic1\", \"Topic1\", \"Topic1\", \"Topic1\", \"Topic1\", \"Topic1\", \"Topic1\", \"Topic1\", \"Topic1\", \"Topic1\", \"Topic1\", \"Topic1\", \"Topic1\", \"Topic1\", \"Topic1\", \"Topic1\", \"Topic1\", \"Topic1\", \"Topic1\", \"Topic2\", \"Topic2\", \"Topic2\", \"Topic2\", \"Topic2\", \"Topic2\", \"Topic2\", \"Topic2\", \"Topic2\", \"Topic2\", \"Topic2\", \"Topic2\", \"Topic2\", \"Topic2\", \"Topic2\", \"Topic2\", \"Topic2\", \"Topic2\", \"Topic2\", \"Topic2\", \"Topic2\", \"Topic2\", \"Topic2\", \"Topic2\", \"Topic2\", \"Topic2\", \"Topic2\", \"Topic2\", \"Topic2\", \"Topic2\", \"Topic2\", \"Topic2\", \"Topic2\", \"Topic2\", \"Topic2\", \"Topic2\", \"Topic2\", \"Topic2\", \"Topic2\", \"Topic2\", \"Topic2\", \"Topic2\", \"Topic2\", \"Topic2\", \"Topic2\", \"Topic2\", \"Topic2\", \"Topic2\", \"Topic2\", \"Topic2\", \"Topic2\", \"Topic2\", \"Topic2\", \"Topic3\", \"Topic3\", \"Topic3\", \"Topic3\", \"Topic3\", \"Topic3\", \"Topic3\", \"Topic3\", \"Topic3\", \"Topic3\", \"Topic3\", \"Topic3\", \"Topic3\", \"Topic3\", \"Topic3\", \"Topic3\", \"Topic3\", \"Topic3\", \"Topic3\", \"Topic3\", \"Topic3\", \"Topic3\", \"Topic3\", \"Topic3\", \"Topic3\", \"Topic3\", \"Topic3\", \"Topic3\", \"Topic3\", \"Topic3\", \"Topic3\", \"Topic3\", \"Topic3\", \"Topic3\", \"Topic3\", \"Topic3\", \"Topic3\", \"Topic3\", \"Topic3\", \"Topic3\", \"Topic3\", \"Topic3\", \"Topic3\", \"Topic3\", \"Topic3\", \"Topic3\", \"Topic3\", \"Topic3\", \"Topic3\", \"Topic3\", \"Topic3\", \"Topic3\", \"Topic3\", \"Topic4\", \"Topic4\", \"Topic4\", \"Topic4\", \"Topic4\", \"Topic4\", \"Topic4\", \"Topic4\", \"Topic4\", \"Topic4\", \"Topic4\", \"Topic4\", \"Topic4\", \"Topic4\", \"Topic4\", \"Topic4\", \"Topic4\", \"Topic4\", \"Topic4\", \"Topic4\", \"Topic4\", \"Topic4\", \"Topic4\", \"Topic4\", \"Topic4\", \"Topic4\", \"Topic4\", \"Topic4\", \"Topic4\", \"Topic4\", \"Topic4\", \"Topic4\", \"Topic4\", \"Topic4\", \"Topic4\", \"Topic4\", \"Topic4\", \"Topic4\", \"Topic4\", \"Topic4\", \"Topic4\", \"Topic4\", \"Topic4\", \"Topic4\", \"Topic4\", \"Topic4\", \"Topic4\", \"Topic4\", \"Topic4\", \"Topic4\", \"Topic4\", \"Topic5\", \"Topic5\", \"Topic5\", \"Topic5\", \"Topic5\", \"Topic5\", \"Topic5\", \"Topic5\", \"Topic5\", \"Topic5\", \"Topic5\", \"Topic5\", \"Topic5\", \"Topic5\", \"Topic5\", \"Topic5\", \"Topic5\", \"Topic5\", \"Topic5\", \"Topic5\", \"Topic5\", \"Topic5\", \"Topic5\", \"Topic5\", \"Topic5\", \"Topic5\", \"Topic5\", \"Topic5\", \"Topic5\", \"Topic5\", \"Topic5\", \"Topic5\", \"Topic5\", \"Topic5\", \"Topic5\", \"Topic5\", \"Topic5\", \"Topic5\", \"Topic5\", \"Topic5\", \"Topic5\", \"Topic5\", \"Topic5\", \"Topic5\", \"Topic6\", \"Topic6\", \"Topic6\", \"Topic6\", \"Topic6\", \"Topic6\", \"Topic6\", \"Topic6\", \"Topic6\", \"Topic6\", \"Topic6\", \"Topic6\", \"Topic6\", \"Topic6\", \"Topic6\", \"Topic6\", \"Topic6\", \"Topic6\", \"Topic6\", \"Topic6\", \"Topic6\", \"Topic6\", \"Topic6\", \"Topic6\", \"Topic6\", \"Topic6\", \"Topic6\", \"Topic6\", \"Topic6\", \"Topic6\", \"Topic6\", \"Topic6\", \"Topic6\", \"Topic6\", \"Topic6\", \"Topic6\", \"Topic6\", \"Topic6\", \"Topic6\", \"Topic6\", \"Topic6\", \"Topic6\", \"Topic6\", \"Topic6\", \"Topic6\", \"Topic6\", \"Topic7\", \"Topic7\", \"Topic7\", \"Topic7\", \"Topic7\", \"Topic7\", \"Topic7\", \"Topic7\", \"Topic7\", \"Topic7\", \"Topic7\", \"Topic7\", \"Topic7\", \"Topic7\", \"Topic7\", \"Topic7\", \"Topic7\", \"Topic7\", \"Topic7\", \"Topic7\", \"Topic7\", \"Topic7\", \"Topic7\", \"Topic7\", \"Topic7\", \"Topic7\", \"Topic7\", \"Topic7\", \"Topic7\", \"Topic7\", \"Topic7\", \"Topic7\", \"Topic7\", \"Topic7\", \"Topic7\", \"Topic7\", \"Topic7\", \"Topic7\", \"Topic7\", \"Topic7\", \"Topic8\", \"Topic8\", \"Topic8\", \"Topic8\", \"Topic8\", \"Topic8\", \"Topic8\", \"Topic8\", \"Topic8\", \"Topic8\", \"Topic8\", \"Topic8\", \"Topic8\", \"Topic8\", \"Topic8\", \"Topic8\", \"Topic8\", \"Topic8\", \"Topic8\", \"Topic8\", \"Topic8\", \"Topic8\", \"Topic8\", \"Topic8\", \"Topic8\", \"Topic8\", \"Topic8\", \"Topic8\", \"Topic8\", \"Topic8\", \"Topic8\", \"Topic8\", \"Topic8\", \"Topic8\", \"Topic8\", \"Topic8\", \"Topic8\", \"Topic8\", \"Topic8\", \"Topic8\", \"Topic8\", \"Topic8\", \"Topic8\", \"Topic8\", \"Topic8\", \"Topic8\", \"Topic8\", \"Topic8\", \"Topic8\", \"Topic8\", \"Topic8\", \"Topic8\", \"Topic8\", \"Topic8\", \"Topic8\", \"Topic8\", \"Topic8\", \"Topic8\", \"Topic8\", \"Topic8\", \"Topic8\", \"Topic8\", \"Topic8\", \"Topic8\"], \"logprob\": [30.0, 29.0, 28.0, 27.0, 26.0, 25.0, 24.0, 23.0, 22.0, 21.0, 20.0, 19.0, 18.0, 17.0, 16.0, 15.0, 14.0, 13.0, 12.0, 11.0, 10.0, 9.0, 8.0, 7.0, 6.0, 5.0, 4.0, 3.0, 2.0, 1.0, -4.5765, -5.2847, -4.7621, -4.8027, -4.7358, -4.3357, -4.6625, -5.1109, -5.1386, -5.6448, -5.6449, -5.6457, -5.6461, -5.6457, -5.4579, -4.3594, -5.4485, -5.2829, -5.4069, -5.6446, -4.9075, -5.8893, -5.8893, -5.8902, -5.8903, -5.8898, -5.8906, -5.89, -5.8922, -5.8905, -5.002, -4.3633, -4.3452, -4.3497, -5.644, -5.6444, -5.0465, -5.0475, -5.0183, -4.9909, -4.1327, -4.6209, -4.7199, -4.9097, -5.1404, -4.9623, -5.2849, -5.0066, -5.1435, -5.1191, -5.2821, -5.5206, -5.5207, -5.5218, -5.5244, -5.0811, -5.2803, -5.845, -5.8459, -5.846, -5.8463, -5.847, -5.8475, -5.8476, -5.8475, -5.8489, -5.8477, -5.8488, -5.8489, -5.8479, -5.5246, -5.5252, -4.7772, -5.2777, -5.846, -5.1032, -4.6521, -5.8485, -4.9406, -4.6536, -6.3281, -5.2793, -3.8302, -4.6689, -5.0838, -4.5428, -4.9171, -4.9169, -4.7953, -5.2774, -5.5215, -5.5253, -4.7778, -4.778, -5.523, -5.5201, -5.2771, -5.2809, -5.2806, -5.2738, -5.27, -5.5194, -5.5204, -5.5205, -5.1564, -5.4772, -5.4772, -5.4794, -5.4792, -5.4781, -5.486, -5.9603, -5.9603, -5.9604, -5.9604, -5.9604, -5.9604, -5.9604, -5.9604, -5.9604, -5.9605, -5.9605, -5.9605, -5.9609, -5.9609, -5.9611, -5.9612, -5.9612, -5.9612, -5.9613, -5.9616, -5.9616, -5.9617, -5.9617, -5.478, -4.934, -4.0126, -4.8693, -4.9116, -5.4773, -5.1552, -5.4775, -5.1548, -5.1558, -5.1558, -5.4797, -5.1539, -5.4798, -5.1571, -5.4798, -5.4816, -5.4781, -5.5127, -5.5473, -5.6046, -5.4802, -5.8686, -5.2886, -5.2912, -5.2909, -5.7717, -5.7717, -5.7717, -5.7717, -5.7723, -5.7725, -5.7726, -5.7736, -5.7737, -5.7739, -5.774, -5.8026, -5.8026, -5.8028, -5.803, -5.8031, -5.8031, -5.8033, -5.8033, -5.8034, -5.8035, -5.8035, -5.8035, -5.8036, -5.8036, -5.8036, -5.8042, -5.2896, -4.3596, -4.8027, -4.9666, -4.7942, -5.3976, -5.2894, -5.7738, -5.4323, -5.5745, -5.5764, -5.5306, -5.7714, -5.6654, -5.6811, -5.688, -5.7724, -5.7726, -5.7727, -5.7729, -5.773, -5.2717, -5.2809, -5.2803, -5.2809, -5.7548, -5.7549, -5.7549, -5.7549, -5.7549, -5.7549, -5.7549, -5.7549, -5.7566, -5.7566, -5.7566, -5.7567, -5.7567, -5.7567, -5.7567, -5.7568, -5.7568, -5.7568, -5.757, -5.3101, -5.7668, -5.767, -5.7671, -5.7671, -5.7671, -5.7674, -5.2724, -5.2722, -5.1527, -5.2297, -5.4909, -5.7549, -5.7548, -5.7549, -5.755, -5.7551, -5.7552, -5.7553, -5.7555, -5.7558, -5.276, -5.739, -5.7391, -5.7391, -5.7391, -5.7392, -5.7393, -5.7393, -5.7426, -5.7426, -5.7426, -5.7428, -5.7429, -5.743, -5.7679, -5.768, -5.7682, -5.7682, -5.3577, -5.739, -5.7407, -5.7414, -5.7732, -4.9708, -5.7381, -5.7426, -5.7392, -5.7426, -5.7427, -5.7681, -5.7393, -5.2528, -5.2569, -5.4395, -5.336, -5.4947, -5.4691, -5.5606, -5.7391, -5.7391, -5.7359, -5.7381, -5.7391, -5.7392, -5.7394, -5.7403, -5.6808, -5.6808, -5.6808, -5.6808, -5.6808, -5.6808, -5.6808, -5.6808, -5.6808, -5.6808, -5.6808, -5.6833, -5.6833, -5.6835, -5.6808, -5.6808, -5.6835, -5.6811, -5.6835, -5.6837, -5.6835, -5.198, -5.6812, -5.681, -5.6787, -6.6512, -6.6512, -5.6815, -6.6512, -6.6512, -4.8738, -5.2008, -5.2007, -5.6799, -5.678, -5.6794, -5.68, -5.6801, -5.681, -5.6816, -5.6193, -5.6193, -5.6194, -5.6195, -5.1364, -6.2414, -5.6199, -5.6196, -6.5897, -6.5897, -6.5897, -6.5897, -6.5897, -6.5897, -6.5897, -6.5897, -6.5897, -6.5897, -6.5897, -6.5897, -6.5897, -6.5897, -5.6199, -6.5897, -6.5897, -6.5897, -6.5897, -6.5897, -6.5897, -6.5897, -5.6198, -6.2464, -5.6197, -5.5559, -6.4238, -6.5248, -6.5238, -6.5274, -6.5788, -6.5839, -6.5839, -6.584, -6.584, -6.5728, -6.5843, -6.5845, -6.5845, -6.5845, -6.5845, -6.5846, -6.5846, -6.5781, -6.5755, -6.5779, -6.5806, -6.5795, -6.5834, -6.5835, -6.5685, -6.5712, -6.5756, -6.5783, -6.5789, -6.5791], \"loglift\": [30.0, 29.0, 28.0, 27.0, 26.0, 25.0, 24.0, 23.0, 22.0, 21.0, 20.0, 19.0, 18.0, 17.0, 16.0, 15.0, 14.0, 13.0, 12.0, 11.0, 10.0, 9.0, 8.0, 7.0, 6.0, 5.0, 4.0, 3.0, 2.0, 1.0, 0.6248, 0.5877, 0.5741, 0.5608, 0.5526, 0.5439, 0.5377, 0.5194, 0.5153, 0.5141, 0.5141, 0.5137, 0.5134, 0.5133, 0.5102, 0.5037, 0.4882, 0.4733, 0.4699, 0.4587, 0.4512, 0.4511, 0.4511, 0.4508, 0.4507, 0.4507, 0.4506, 0.4505, 0.4501, 0.4501, 0.4368, 0.3611, 0.3564, 0.3539, 0.4348, 0.4343, 0.3448, 0.3445, 0.3378, 0.3317, 0.1851, 0.2185, 0.221, 0.2788, 0.2861, 0.181, 0.3223, 0.075, 0.1635, 0.1224, 0.1549, 0.9384, 0.9384, 0.9374, 0.9341, 0.8471, 0.8373, 0.8151, 0.8146, 0.8145, 0.8142, 0.8137, 0.8131, 0.8131, 0.8124, 0.8123, 0.8123, 0.8123, 0.8116, 0.7396, 0.7336, 0.7315, 0.729, 0.7166, 0.6858, 0.6782, 0.6622, 0.6288, 0.6243, 0.6141, 0.5838, 0.5627, 0.4875, 0.4128, 0.4655, 0.1588, 0.3245, 0.2716, 0.1456, 0.4356, 0.5676, 0.564, -0.0534, -0.0745, 0.506, 0.4941, 0.1598, 0.1457, 0.0754, 0.0332, -0.4069, 0.2459, 0.0868, -0.3772, 1.5389, 1.3706, 1.3706, 1.3679, 1.3677, 1.289, 1.2857, 1.0682, 1.0682, 1.0681, 1.0681, 1.0681, 1.0681, 1.0681, 1.0681, 1.0681, 1.0681, 1.0681, 1.0681, 1.0675, 1.0674, 1.0672, 1.0671, 1.0671, 1.067, 1.0669, 1.0665, 1.0664, 1.0664, 1.0664, 1.0647, 1.0316, 0.8268, 0.8935, 0.8697, 0.8629, 0.61, 0.7316, 0.2373, 0.2355, -0.0126, 0.4154, -0.213, 0.3071, -0.4535, 0.1686, -0.159, -0.2103, -0.1493, -0.1084, 0.0492, -0.3986, 0.5938, 1.7201, 1.5384, 1.4423, 1.3501, 1.3501, 1.3501, 1.3501, 1.3493, 1.3489, 1.3488, 1.3473, 1.347, 1.3467, 1.3466, 1.3053, 1.3052, 1.3049, 1.3048, 1.3047, 1.3046, 1.3043, 1.3043, 1.3042, 1.3042, 1.3041, 1.3041, 1.304, 1.3038, 1.3038, 1.3031, 1.145, 0.7837, 0.3975, 0.3404, -0.0698, 0.6314, 0.4422, 1.2436, 0.4445, 0.5828, 0.4999, -0.0245, 1.075, 0.1169, -0.0328, -0.4203, 0.8431, 0.8148, 0.1955, 0.6125, 0.4568, 1.7563, 1.7401, 1.4639, 1.463, 1.3777, 1.3777, 1.3777, 1.3776, 1.3776, 1.3776, 1.3776, 1.3776, 1.375, 1.375, 1.3749, 1.3748, 1.3748, 1.3748, 1.3748, 1.3747, 1.3746, 1.3746, 1.3744, 1.3639, 1.3595, 1.3592, 1.3592, 1.3591, 1.359, 1.3587, 0.8721, 0.8065, -0.4283, -0.3903, 0.1394, 1.3047, 1.2625, 0.8742, 1.0132, 0.6109, 0.7465, 0.5141, 0.6349, -0.0385, 1.7542, 1.4038, 1.4037, 1.4037, 1.4037, 1.4037, 1.4035, 1.4035, 1.3987, 1.3986, 1.3986, 1.3985, 1.3983, 1.3981, 1.359, 1.3589, 1.3586, 1.3586, 1.2953, 1.2924, 1.271, 1.2697, 1.1513, 1.1214, 1.1084, 1.1023, 1.0959, 1.0914, 1.0912, 1.0549, 1.0371, 0.5285, 0.182, 0.3257, -0.6324, -0.1585, -0.3259, -0.681, 1.0363, 1.0326, 0.0268, -0.0065, 0.9447, 0.7382, -0.091, 0.9948, 1.487, 1.487, 1.487, 1.487, 1.487, 1.487, 1.4869, 1.4869, 1.4869, 1.4869, 1.4869, 1.4829, 1.4829, 1.4826, 1.3788, 1.1725, 1.1681, 1.1117, 1.1081, 1.1079, 0.9457, 0.9052, 0.8854, 0.7017, 0.5697, 0.5591, 0.5591, 0.5122, 0.4916, 0.4916, 0.4332, 0.2362, 0.0408, 0.0854, -0.322, -0.5361, 0.0828, -0.3917, -0.5994, 0.0745, 1.5911, 1.5911, 1.2022, 0.9697, 0.8926, 0.7376, 0.7045, 0.5895, 0.5781, 0.5781, 0.5781, 0.5781, 0.5781, 0.5781, 0.5781, 0.5781, 0.5781, 0.5781, 0.5781, 0.5766, 0.5765, 0.5764, 0.5568, 0.5532, 0.5531, 0.5531, 0.5531, 0.5531, 0.5531, 0.5531, 0.3746, 0.4887, 0.3335, 0.009, -0.6424, -1.4432, -1.5829, -1.6478, 0.0825, 0.3289, 0.3288, 0.3287, 0.3287, -0.2305, 0.3284, 0.3282, 0.3281, 0.3281, 0.3281, 0.3281, 0.3281, -0.0141, -0.3174, -0.1588, 0.0804, -0.1021, 0.2658, 0.2656, -1.2541, -1.8676, -1.3079, -0.3845, -0.1963, -0.866]}, \"token.table\": {\"Topic\": [1, 2, 1, 2, 3, 1, 3, 2, 1, 2, 1, 2, 3, 2, 1, 2, 3, 2, 3, 2, 1, 1, 2, 1, 2, 2, 3, 1, 1, 2, 3, 2, 2, 1, 2, 3, 1, 2, 2, 3, 2, 2, 3, 2, 1, 3, 1, 3, 1, 2, 3, 2, 1, 2, 1, 1, 1, 3, 2, 3, 2, 3, 1, 2, 3, 3, 1, 2, 2, 1, 2, 1, 1, 2, 3, 1, 2, 1, 3, 2, 1, 2, 1, 1, 2, 2, 3, 1, 1, 2, 1, 2, 1, 2, 3, 2, 1, 2, 1, 3, 1, 1, 3, 3, 1, 2, 3, 1, 2, 3, 1, 2, 3, 1, 2, 1, 2, 3, 1, 2, 1, 2, 1, 1, 2, 3, 1, 2, 1, 3, 1, 1, 1, 1, 2, 3, 2, 2, 3, 1, 3, 3, 1, 1, 2, 3, 1, 2, 3, 1, 2, 3, 4, 3, 1, 2, 2, 2, 3, 1, 1, 2, 3, 1, 1, 2, 4, 2, 3, 3, 1, 2, 3, 3, 2, 3, 1, 2, 3, 4, 3, 1, 2, 1, 2, 3, 1, 2, 2, 2, 3, 1, 2, 1, 2, 3, 1, 2, 2, 1, 1, 2, 1, 2, 3, 3, 3, 3, 2, 3, 3, 2, 2, 1, 1, 2, 2, 1, 3, 1, 2, 2, 1, 1, 2, 3, 1, 2, 4, 1, 2, 3, 1, 2, 1, 1, 3, 2, 1, 2, 3, 1, 1, 1, 2, 3, 2, 3, 1, 2, 6, 3, 3, 1, 3, 1, 2, 1, 2, 1, 2, 3, 1, 2, 3, 1, 1, 2, 3, 1, 2, 2, 1, 2, 3, 3, 1, 1, 2, 1, 2, 3, 1, 3, 3, 2, 3, 3, 1, 2, 2, 1, 1, 2, 3, 1, 2, 1, 3, 1, 2, 3, 1, 2, 3, 1, 1, 2, 3], \"Freq\": [0.5070368987007376, 0.33802459913382515, 0.5891392822110363, 0.29456964110551814, 0.5145931266868813, 0.7818908512455638, 0.15637817024911277, 0.42788408944201944, 0.7783194538881865, 0.5507000273385916, 0.5971591735280927, 0.19905305784269756, 0.19905305784269756, 0.6992694018198589, 0.5176908490855192, 0.3106145094513115, 0.618268869866035, 0.5506366636029197, 0.6183096271395887, 0.4279569869244852, 0.4878705984779189, 0.663752599318117, 0.3017057269627805, 0.48049913931135274, 0.550636562312392, 0.4147048479062227, 0.4147048479062227, 0.7817208129927393, 0.26981824889748063, 0.5396364977949613, 0.13490912444874031, 0.5506761112612265, 0.5189368417293923, 0.5035364155376622, 0.2517682077688311, 0.12588410388441554, 0.6217644876229652, 0.42797371603265794, 0.465258716877854, 0.5160246264816195, 0.5506291743426532, 0.6996717940839504, 0.6183150260301664, 0.509556075329897, 0.4090900804486595, 0.4090900804486595, 0.7020170877665166, 0.3510085438832583, 0.7930411231741393, 0.14418929512257078, 0.07209464756128539, 0.5506355891191975, 0.21980365996983706, 0.4396073199396741, 0.7662218063411491, 0.6225820147046157, 0.4271663619505781, 0.21358318097528906, 0.4277281501684165, 0.5157920575056616, 0.5506446754144858, 0.6182716454966289, 0.5294300359594538, 0.35295335730630256, 0.08823833932657564, 0.618264397793352, 0.6827601068962226, 0.6997996264148104, 0.5506857680593878, 0.48340270260210283, 0.48340270260210283, 0.516752495445162, 0.5667760074873825, 0.2833880037436913, 0.2833880037436913, 0.622936282549289, 0.2491745130197156, 0.7175641515057644, 0.23918805050192143, 0.5506322768719384, 0.7302004864148488, 0.5089319245927437, 0.6214594272285971, 0.2857284017583934, 0.5714568035167868, 0.46103176985569133, 0.46103176985569133, 0.6214038466123428, 0.7773781263686689, 0.46017597565426716, 0.5334020729442878, 0.17780069098142928, 0.3572471524048469, 0.3572471524048469, 0.17862357620242345, 0.42825512701939117, 0.38953072531597355, 0.38953072531597355, 0.6212967609729227, 0.3106483804864614, 0.777070190023712, 0.7157851186154782, 0.23859503953849276, 0.6181214344210068, 0.554027406271612, 0.138506851567903, 0.277013703135806, 0.7595231876047495, 0.1085033125149642, 0.1085033125149642, 0.621439840543682, 0.380392156157844, 0.380392156157844, 0.31875360272099085, 0.31875360272099085, 0.2057376489412072, 0.6172129468236216, 0.2057376489412072, 0.7967850174179345, 0.11382643105970493, 0.4292199743023619, 0.4292199743023619, 0.7778280377599747, 0.6017757406967241, 0.12035514813934484, 0.12035514813934484, 0.3361453097089876, 0.3361453097089876, 0.6532688185181664, 0.44309063151766626, 0.48844894061988864, 0.7174992684533844, 0.6114888676854185, 0.7567762967764254, 0.12612938279607092, 0.12612938279607092, 0.5180358054111954, 0.5502363595098734, 0.6181055133846787, 0.6500251805013493, 0.32501259025067464, 0.6181833597103148, 0.502751720930043, 0.6984549910670044, 0.11640916517783406, 0.11640916517783406, 0.3496010952178759, 0.3496010952178759, 0.17480054760893796, 0.5630899455553151, 0.18769664851843837, 0.09384832425921918, 0.09384832425921918, 0.47600614609563413, 0.6929137073615809, 0.17322842684039522, 0.4276764288246973, 0.4380062472276282, 0.4380062472276282, 0.7761299428058279, 0.28617441493211815, 0.5723488298642363, 0.5153501734754214, 0.7774736233794354, 0.6790341570726168, 0.24692151166276977, 0.06173037791569244, 0.5884386248076942, 0.6182686807498318, 0.516024414470955, 0.3487404612847925, 0.17437023064239626, 0.3487404612847925, 0.6182687203352626, 0.42791628200158016, 0.6180021949731044, 0.5527244719479635, 0.2210897887791854, 0.1105448943895927, 0.1105448943895927, 0.6180117427477729, 0.5634175257426639, 0.422563144306998, 0.5969903778799424, 0.2984951889399712, 0.6182687922749435, 0.6328546481749655, 0.2109515493916552, 0.46511636312674515, 0.35630928403133294, 0.35630928403133294, 0.5344121819168647, 0.41108629378220357, 0.601366247874522, 0.1202732495749044, 0.1202732495749044, 0.5366489098972923, 0.26832445494864615, 0.5089750211884316, 0.48002421938978423, 0.7352790395273283, 0.5034161833314851, 0.44544945506027095, 0.44544945506027095, 0.11136236376506774, 0.5155743418736295, 0.61809623981342, 0.6180856082186063, 0.37627048210988817, 0.37627048210988817, 0.6180151501354375, 0.5506676195999494, 0.5506849860710392, 0.6218433044101078, 0.48329812353586177, 0.48329812353586177, 0.42795712047655327, 0.76371204738507, 0.152742409477014, 0.5275717677816626, 0.2637858838908313, 0.42769991974304095, 0.6213995659314514, 0.28941959322525546, 0.28941959322525546, 0.28941959322525546, 0.79478492516266, 0.0993481156453325, 0.0993481156453325, 0.44843524838602833, 0.44843524838602833, 0.22421762419301416, 0.43370477046904243, 0.4278905285877172, 0.516762187932437, 0.777831563970703, 0.5067344401725243, 0.4281427363561829, 0.3984466179259673, 0.3984466179259673, 0.618314360113679, 0.7774884806035, 0.4247299512530444, 0.2724562667864233, 0.2724562667864233, 0.2724562667864233, 0.42790576463175506, 0.6181588445170441, 0.4847823475936233, 0.24239117379681166, 0.24239117379681166, 0.618263692340349, 0.4782696180490771, 0.4765809434553222, 0.5572026748481826, 0.49986359413906334, 0.3332423960927089, 0.3241043858710851, 0.3241043858710851, 0.5563407292134285, 0.27817036460671424, 0.27817036460671424, 0.4251568572680797, 0.4251568572680797, 0.10628921431701993, 0.6218173033152579, 0.6650816769588782, 0.24184788253050116, 0.06046197063262529, 0.6966203036897011, 0.23220676789656702, 0.39776520577120106, 0.4977521515139981, 0.33183476767599873, 0.16591738383799937, 0.6182689052809506, 0.4878832739380027, 0.7801494094652789, 0.14184534717550526, 0.5365800704336683, 0.30661718310495334, 0.07665429577623833, 0.8187440374793951, 0.11696343392562786, 0.6180053171859928, 0.5329275950562067, 0.17764253168540223, 0.6182715881072898, 0.8951474344032048, 0.09946082604480053, 0.699666476990091, 0.6214987554401512, 0.22756585381889902, 0.45513170763779803, 0.22756585381889902, 0.37748092360801616, 0.37748092360801616, 0.8299751951843851, 0.20749379879609628, 0.6737268938275063, 0.22457563127583544, 0.11228781563791772, 0.24864154454955242, 0.49728308909910485, 0.6181066964382472, 0.8565125074538082, 0.46656660344844797, 0.15552220114948265, 0.15552220114948265], \"Term\": [\"able\", \"able\", \"account\", \"account\", \"actually\", \"add\", \"add\", \"allow\", \"amazing\", \"anyways\", \"app\", \"app\", \"app\", \"apple\", \"bank\", \"bank\", \"barrangay\", \"base\", \"basically\", \"believe\", \"big\", \"bill\", \"bill\", \"bit\", \"boy\", \"bring\", \"bring\", \"buy\", \"card\", \"card\", \"card\", \"care\", \"case\", \"cash\", \"cash\", \"cash\", \"cashless\", \"challenge\", \"cimb\", \"clearance\", \"close\", \"come\", \"complaint\", \"connect\", \"contact\", \"contact\", \"convenience\", \"convenience\", \"convenient\", \"convenient\", \"convenient\", \"crazy\", \"credit\", \"credit\", \"d\", \"date\", \"day\", \"day\", \"detail\", \"developer\", \"dramatically\", \"easily\", \"easy\", \"easy\", \"easy\", \"effort\", \"email\", \"encounter\", \"expect\", \"experience\", \"experience\", \"family\", \"fast\", \"fast\", \"fast\", \"feature\", \"feature\", \"fee\", \"fee\", \"feeling\", \"filipino\", \"finance\", \"force\", \"free\", \"free\", \"friendly\", \"friendly\", \"fully\", \"fund\", \"gamitin\", \"gcredit\", \"gcredit\", \"get\", \"get\", \"get\", \"girl\", \"give\", \"give\", \"globe\", \"globe\", \"globeone\", \"go\", \"go\", \"goin\", \"good\", \"good\", \"good\", \"great\", \"great\", \"great\", \"grocery\", \"gsave\", \"gsave\", \"happy\", \"happy\", \"hassle\", \"hassle\", \"hassle\", \"help\", \"help\", \"helpful\", \"helpful\", \"high\", \"hope\", \"hope\", \"hope\", \"hurt\", \"hurt\", \"i\", \"improvement\", \"internet\", \"invest\", \"investment\", \"issue\", \"issue\", \"issue\", \"july\", \"keyboard\", \"kind\", \"know\", \"know\", \"like\", \"line\", \"load\", \"load\", \"load\", \"lot\", \"lot\", \"lot\", \"love\", \"love\", \"love\", \"love\", \"maintenance\", \"make\", \"make\", \"mall\", \"manage\", \"manage\", \"mastercard\", \"maybe\", \"maybe\", \"mistake\", \"mobile\", \"money\", \"money\", \"money\", \"navigate\", \"nba\", \"nbi\", \"need\", \"need\", \"need\", \"nga\", \"nickname\", \"nirmal\", \"number\", \"number\", \"number\", \"number\", \"nya\", \"online\", \"online\", \"option\", \"option\", \"pala\", \"pandemic\", \"pandemic\", \"partner\", \"patience\", \"patience\", \"pay\", \"pay\", \"payment\", \"payment\", \"payment\", \"people\", \"people\", \"perfect\", \"personal\", \"phone\", \"power\", \"problem\", \"problem\", \"problem\", \"problema\", \"prompt\", \"purpose\", \"pwede\", \"pwede\", \"radically\", \"read\", \"realize\", \"request\", \"return\", \"return\", \"right\", \"save\", \"save\", \"saving\", \"saving\", \"scan\", \"screen\", \"security\", \"security\", \"security\", \"send\", \"send\", \"send\", \"service\", \"service\", \"service\", \"shop\", \"shopee\", \"show\", \"small\", \"smart\", \"solve\", \"specially\", \"specially\", \"streamline\", \"student\", \"suggestion\", \"super\", \"super\", \"super\", \"support\", \"tbh\", \"team\", \"team\", \"team\", \"tech\", \"technical\", \"term\", \"text\", \"thank\", \"thank\", \"thing\", \"thing\", \"think\", \"think\", \"think\", \"time\", \"time\", \"time\", \"today\", \"transaction\", \"transaction\", \"transaction\", \"transfer\", \"transfer\", \"true\", \"try\", \"try\", \"try\", \"un\", \"unavailable\", \"update\", \"update\", \"use\", \"use\", \"use\", \"useful\", \"useful\", \"usefull\", \"user\", \"user\", \"validity\", \"verify\", \"verify\", \"version\", \"wait\", \"wallet\", \"wallet\", \"wallet\", \"want\", \"want\", \"way\", \"way\", \"well\", \"well\", \"well\", \"wish\", \"wish\", \"worried\", \"wrong\", \"year\", \"year\", \"year\"]}, \"R\": 30, \"lambda.step\": 0.01, \"plot.opts\": {\"xlab\": \"PC1\", \"ylab\": \"PC2\"}, \"topic.order\": [1, 2, 3, 8, 6, 7, 4, 5]};\n",
       "\n",
       "function LDAvis_load_lib(url, callback){\n",
       "  var s = document.createElement('script');\n",
       "  s.src = url;\n",
       "  s.async = true;\n",
       "  s.onreadystatechange = s.onload = callback;\n",
       "  s.onerror = function(){console.warn(\"failed to load library \" + url);};\n",
       "  document.getElementsByTagName(\"head\")[0].appendChild(s);\n",
       "}\n",
       "\n",
       "if(typeof(LDAvis) !== \"undefined\"){\n",
       "   // already loaded: just create the visualization\n",
       "   !function(LDAvis){\n",
       "       new LDAvis(\"#\" + \"ldavis_el1205621387361664965435443107\", ldavis_el1205621387361664965435443107_data);\n",
       "   }(LDAvis);\n",
       "}else if(typeof define === \"function\" && define.amd){\n",
       "   // require.js is available: use it to load d3/LDAvis\n",
       "   require.config({paths: {d3: \"https://d3js.org/d3.v5\"}});\n",
       "   require([\"d3\"], function(d3){\n",
       "      window.d3 = d3;\n",
       "      LDAvis_load_lib(\"https://cdn.jsdelivr.net/gh/bmabey/pyLDAvis@3.3.1/pyLDAvis/js/ldavis.v3.0.0.js\", function(){\n",
       "        new LDAvis(\"#\" + \"ldavis_el1205621387361664965435443107\", ldavis_el1205621387361664965435443107_data);\n",
       "      });\n",
       "    });\n",
       "}else{\n",
       "    // require.js not available: dynamically load d3 & LDAvis\n",
       "    LDAvis_load_lib(\"https://d3js.org/d3.v5.js\", function(){\n",
       "         LDAvis_load_lib(\"https://cdn.jsdelivr.net/gh/bmabey/pyLDAvis@3.3.1/pyLDAvis/js/ldavis.v3.0.0.js\", function(){\n",
       "                 new LDAvis(\"#\" + \"ldavis_el1205621387361664965435443107\", ldavis_el1205621387361664965435443107_data);\n",
       "            })\n",
       "         });\n",
       "}\n",
       "</script>"
      ],
      "text/plain": [
       "PreparedData(topic_coordinates=              x         y  topics  cluster       Freq\n",
       "topic                                                \n",
       "0      0.075535  0.028291       1        1  45.759574\n",
       "1      0.030188 -0.054763       2        1  25.716874\n",
       "2     -0.017280  0.011844       3        1  10.960204\n",
       "7     -0.015427  0.006695       4        1   4.996362\n",
       "5     -0.023519  0.005847       5        1   4.473425\n",
       "6     -0.017685  0.003228       6        1   3.990576\n",
       "3     -0.015612  0.000466       7        1   2.850333\n",
       "4     -0.016199 -0.001608       8        1   1.252651, topic_info=            Term       Freq      Total Category  logprob  loglift\n",
       "131         good  14.000000  14.000000  Default  30.0000  30.0000\n",
       "152         love  10.000000  10.000000  Default  29.0000  29.0000\n",
       "238       number   9.000000   9.000000  Default  28.0000  28.0000\n",
       "118         send  10.000000  10.000000  Default  27.0000  27.0000\n",
       "32         money  16.000000  16.000000  Default  26.0000  26.0000\n",
       "..           ...        ...        ...      ...      ...      ...\n",
       "45   transaction   0.032008  16.539322   Topic8  -6.5712  -1.8676\n",
       "44          time   0.031867   9.408292   Topic8  -6.5756  -1.3079\n",
       "74        people   0.031781   3.726831   Topic8  -6.5783  -0.3845\n",
       "83         thing   0.031762   3.085426   Topic8  -6.5789  -0.1963\n",
       "86           try   0.031758   6.027096   Topic8  -6.5791  -0.8660\n",
       "\n",
       "[432 rows x 6 columns], token_table=      Topic      Freq      Term\n",
       "term                           \n",
       "0         1  0.507037      able\n",
       "0         2  0.338025      able\n",
       "1         1  0.589139   account\n",
       "1         2  0.294570   account\n",
       "192       3  0.514593  actually\n",
       "...     ...       ...       ...\n",
       "461       3  0.618107   worried\n",
       "143       1  0.856513     wrong\n",
       "53        1  0.466567      year\n",
       "53        2  0.155522      year\n",
       "53        3  0.155522      year\n",
       "\n",
       "[309 rows x 3 columns], R=30, lambda_step=0.01, plot_opts={'xlab': 'PC1', 'ylab': 'PC2'}, topic_order=[1, 2, 3, 8, 6, 7, 4, 5])"
      ]
     },
     "execution_count": 70,
     "metadata": {},
     "output_type": "execute_result"
    }
   ],
   "source": [
    "# Visualize the topics\n",
    "pyLDAvis.enable_notebook()\n",
    "LDAvis_prepared = gensimvis.prepare(final_lda5, corpus5, id2word5)\n",
    "LDAvis_prepared"
   ]
  },
  {
   "cell_type": "code",
   "execution_count": null,
   "id": "f93a75d0-71ee-412b-9af5-1f32ecdc5b60",
   "metadata": {},
   "outputs": [],
   "source": []
  }
 ],
 "metadata": {
  "kernelspec": {
   "display_name": "Python 3",
   "language": "python",
   "name": "python3"
  },
  "language_info": {
   "codemirror_mode": {
    "name": "ipython",
    "version": 3
   },
   "file_extension": ".py",
   "mimetype": "text/x-python",
   "name": "python",
   "nbconvert_exporter": "python",
   "pygments_lexer": "ipython3",
   "version": "3.9.5"
  }
 },
 "nbformat": 4,
 "nbformat_minor": 5
}
