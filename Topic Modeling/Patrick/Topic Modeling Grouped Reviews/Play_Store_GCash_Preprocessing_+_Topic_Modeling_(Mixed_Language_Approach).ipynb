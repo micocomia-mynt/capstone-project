{
  "nbformat": 4,
  "nbformat_minor": 0,
  "metadata": {
    "colab": {
      "name": "Play Store GCash - Preprocessing + Topic Modeling (Mixed Language Approach).ipynb",
      "provenance": [],
      "collapsed_sections": [],
      "toc_visible": true
    },
    "kernelspec": {
      "name": "python3",
      "display_name": "Python 3"
    },
    "language_info": {
      "name": "python"
    }
  },
  "cells": [
    {
      "cell_type": "markdown",
      "metadata": {
        "id": "rwT6404Ajmd4"
      },
      "source": [
        "# Preprocessing + Topic Modeling (Mixed Language Approach)\n",
        "This notebook serves as a demo for topic modeling GCash App Store Reviews using LDA. The approach of this notebook is to ignore the multi-lingual nature of reviews and move directly to LDA after data cleaning. This notebook will be divided into four parts:\n",
        "\n",
        "1. Data Cleaning\n",
        "2. Text Cleaning\n",
        "3. Modeling (LDA)\n",
        "4. Exploration of Results"
      ]
    },
    {
      "cell_type": "code",
      "metadata": {
        "colab": {
          "base_uri": "https://localhost:8080/"
        },
        "id": "C3rT1zxJUizq",
        "outputId": "946f6d76-89f4-4c6a-ba3d-ce81f1a6b35c"
      },
      "source": [
        "from google.colab import drive\n",
        "drive.mount('/content/drive/')"
      ],
      "execution_count": 1,
      "outputs": [
        {
          "output_type": "stream",
          "text": [
            "Mounted at /content/drive/\n"
          ],
          "name": "stdout"
        }
      ]
    },
    {
      "cell_type": "code",
      "metadata": {
        "colab": {
          "base_uri": "https://localhost:8080/"
        },
        "id": "Ast1TCbWU66i",
        "outputId": "50869282-ff31-4d50-8522-51268dfbf83e"
      },
      "source": [
        "!ls \"/content/drive/My Drive/Data/Reviews/Play Store\""
      ],
      "execution_count": 3,
      "outputs": [
        {
          "output_type": "stream",
          "text": [
            "gcash_reviews_playstore.csv  paymaya_reviews_playstore.csv\n"
          ],
          "name": "stdout"
        }
      ]
    },
    {
      "cell_type": "code",
      "metadata": {
        "id": "tImUi3ghxOIM",
        "colab": {
          "base_uri": "https://localhost:8080/",
          "height": 1000
        },
        "outputId": "7056f87c-658e-4fa1-b708-19f5dc02a7d4"
      },
      "source": [
        "!pip install emot contractions pyLDAvis lda\n",
        "!python3 -m spacy download en"
      ],
      "execution_count": 4,
      "outputs": [
        {
          "output_type": "stream",
          "text": [
            "Collecting emot\n",
            "  Downloading https://files.pythonhosted.org/packages/49/07/20001ade19873de611b7b66a4d5e5aabbf190d65abea337d5deeaa2bc3de/emot-2.1-py3-none-any.whl\n",
            "Collecting contractions\n",
            "  Downloading https://files.pythonhosted.org/packages/93/f4/0ec4a458e4368cc3be2c799411ecf0bc961930e566dadb9624563821b3a6/contractions-0.0.52-py2.py3-none-any.whl\n",
            "Collecting pyLDAvis\n",
            "\u001b[?25l  Downloading https://files.pythonhosted.org/packages/03/a5/15a0da6b0150b8b68610cc78af80364a80a9a4c8b6dd5ee549b8989d4b60/pyLDAvis-3.3.1.tar.gz (1.7MB)\n",
            "\u001b[K     |████████████████████████████████| 1.7MB 11.9MB/s \n",
            "\u001b[?25h  Installing build dependencies ... \u001b[?25l\u001b[?25hdone\n",
            "  Getting requirements to build wheel ... \u001b[?25l\u001b[?25hdone\n",
            "  Installing backend dependencies ... \u001b[?25l\u001b[?25hdone\n",
            "    Preparing wheel metadata ... \u001b[?25l\u001b[?25hdone\n",
            "Collecting lda\n",
            "\u001b[?25l  Downloading https://files.pythonhosted.org/packages/d1/45/8bf6862a599649350280bf0020b0b23c4948304158702632f677dc967737/lda-2.0.0-cp37-cp37m-manylinux1_x86_64.whl (351kB)\n",
            "\u001b[K     |████████████████████████████████| 358kB 43.9MB/s \n",
            "\u001b[?25hCollecting textsearch>=0.0.21\n",
            "  Downloading https://files.pythonhosted.org/packages/d3/fe/021d7d76961b5ceb9f8d022c4138461d83beff36c3938dc424586085e559/textsearch-0.0.21-py2.py3-none-any.whl\n",
            "Collecting numpy>=1.20.0\n",
            "\u001b[?25l  Downloading https://files.pythonhosted.org/packages/a5/42/560d269f604d3e186a57c21a363e77e199358d054884e61b73e405dd217c/numpy-1.20.3-cp37-cp37m-manylinux_2_12_x86_64.manylinux2010_x86_64.whl (15.3MB)\n",
            "\u001b[K     |████████████████████████████████| 15.3MB 189kB/s \n",
            "\u001b[?25hRequirement already satisfied: setuptools in /usr/local/lib/python3.7/dist-packages (from pyLDAvis) (57.0.0)\n",
            "Requirement already satisfied: joblib in /usr/local/lib/python3.7/dist-packages (from pyLDAvis) (1.0.1)\n",
            "Collecting pandas>=1.2.0\n",
            "\u001b[?25l  Downloading https://files.pythonhosted.org/packages/51/51/48f3fc47c4e2144da2806dfb6629c4dd1fa3d5a143f9652b141e979a8ca9/pandas-1.2.4-cp37-cp37m-manylinux1_x86_64.whl (9.9MB)\n",
            "\u001b[K     |████████████████████████████████| 9.9MB 36.8MB/s \n",
            "\u001b[?25hRequirement already satisfied: future in /usr/local/lib/python3.7/dist-packages (from pyLDAvis) (0.16.0)\n",
            "Requirement already satisfied: scipy in /usr/local/lib/python3.7/dist-packages (from pyLDAvis) (1.4.1)\n",
            "Requirement already satisfied: sklearn in /usr/local/lib/python3.7/dist-packages (from pyLDAvis) (0.0)\n",
            "Requirement already satisfied: numexpr in /usr/local/lib/python3.7/dist-packages (from pyLDAvis) (2.7.3)\n",
            "Requirement already satisfied: gensim in /usr/local/lib/python3.7/dist-packages (from pyLDAvis) (3.6.0)\n",
            "Requirement already satisfied: jinja2 in /usr/local/lib/python3.7/dist-packages (from pyLDAvis) (2.11.3)\n",
            "Collecting funcy\n",
            "  Downloading https://files.pythonhosted.org/packages/44/52/5cf7401456a461e4b481650dfb8279bc000f31a011d0918904f86e755947/funcy-1.16-py2.py3-none-any.whl\n",
            "Requirement already satisfied: scikit-learn in /usr/local/lib/python3.7/dist-packages (from pyLDAvis) (0.22.2.post1)\n",
            "Collecting pbr<4,>=0.6\n",
            "\u001b[?25l  Downloading https://files.pythonhosted.org/packages/0c/5d/b077dbf309993d52c1d71e6bf6fe443a8029ea215135ebbe0b1b10e7aefc/pbr-3.1.1-py2.py3-none-any.whl (99kB)\n",
            "\u001b[K     |████████████████████████████████| 102kB 13.2MB/s \n",
            "\u001b[?25hCollecting pyahocorasick\n",
            "\u001b[?25l  Downloading https://files.pythonhosted.org/packages/7f/c2/eae730037ae1cbbfaa229d27030d1d5e34a1e41114b21447d1202ae9c220/pyahocorasick-1.4.2.tar.gz (321kB)\n",
            "\u001b[K     |████████████████████████████████| 327kB 40.2MB/s \n",
            "\u001b[?25hCollecting anyascii\n",
            "\u001b[?25l  Downloading https://files.pythonhosted.org/packages/a3/14/666cd44bf53f36a961544af592cb5c5c800013f9c51a4745af8d7c17362a/anyascii-0.2.0-py3-none-any.whl (283kB)\n",
            "\u001b[K     |████████████████████████████████| 286kB 37.3MB/s \n",
            "\u001b[?25hRequirement already satisfied: python-dateutil>=2.7.3 in /usr/local/lib/python3.7/dist-packages (from pandas>=1.2.0->pyLDAvis) (2.8.1)\n",
            "Requirement already satisfied: pytz>=2017.3 in /usr/local/lib/python3.7/dist-packages (from pandas>=1.2.0->pyLDAvis) (2018.9)\n",
            "Requirement already satisfied: smart-open>=1.2.1 in /usr/local/lib/python3.7/dist-packages (from gensim->pyLDAvis) (5.1.0)\n",
            "Requirement already satisfied: six>=1.5.0 in /usr/local/lib/python3.7/dist-packages (from gensim->pyLDAvis) (1.15.0)\n",
            "Requirement already satisfied: MarkupSafe>=0.23 in /usr/local/lib/python3.7/dist-packages (from jinja2->pyLDAvis) (2.0.1)\n",
            "Building wheels for collected packages: pyLDAvis\n",
            "  Building wheel for pyLDAvis (PEP 517) ... \u001b[?25l\u001b[?25hdone\n",
            "  Created wheel for pyLDAvis: filename=pyLDAvis-3.3.1-cp37-none-any.whl size=136897 sha256=8ff4211c7819e68ea5b92a16643ff8dafb0ab68bbe1b42bef52f38fa8e802d35\n",
            "  Stored in directory: /root/.cache/pip/wheels/a0/9c/fc/c6e00689d35c82cf96a8adc70edfe7ba7904374fdac3240ac2\n",
            "Successfully built pyLDAvis\n",
            "Building wheels for collected packages: pyahocorasick\n",
            "  Building wheel for pyahocorasick (setup.py) ... \u001b[?25l\u001b[?25hdone\n",
            "  Created wheel for pyahocorasick: filename=pyahocorasick-1.4.2-cp37-cp37m-linux_x86_64.whl size=85403 sha256=94cc067d23457e9a9cf0883b41b32a629cb8205005a9863b361465fd0cc94b08\n",
            "  Stored in directory: /root/.cache/pip/wheels/3a/03/34/77e3ece0bba8b86bfac88a79f923b36d805cad63caeba38842\n",
            "Successfully built pyahocorasick\n",
            "\u001b[31mERROR: tensorflow 2.5.0 has requirement numpy~=1.19.2, but you'll have numpy 1.20.3 which is incompatible.\u001b[0m\n",
            "\u001b[31mERROR: google-colab 1.0.0 has requirement pandas~=1.1.0; python_version >= \"3.0\", but you'll have pandas 1.2.4 which is incompatible.\u001b[0m\n",
            "\u001b[31mERROR: datascience 0.10.6 has requirement folium==0.2.1, but you'll have folium 0.8.3 which is incompatible.\u001b[0m\n",
            "\u001b[31mERROR: albumentations 0.1.12 has requirement imgaug<0.2.7,>=0.2.5, but you'll have imgaug 0.2.9 which is incompatible.\u001b[0m\n",
            "Installing collected packages: emot, pyahocorasick, anyascii, textsearch, contractions, numpy, pandas, funcy, pyLDAvis, pbr, lda\n",
            "  Found existing installation: numpy 1.19.5\n",
            "    Uninstalling numpy-1.19.5:\n",
            "      Successfully uninstalled numpy-1.19.5\n",
            "  Found existing installation: pandas 1.1.5\n",
            "    Uninstalling pandas-1.1.5:\n",
            "      Successfully uninstalled pandas-1.1.5\n",
            "Successfully installed anyascii-0.2.0 contractions-0.0.52 emot-2.1 funcy-1.16 lda-2.0.0 numpy-1.20.3 pandas-1.2.4 pbr-3.1.1 pyLDAvis-3.3.1 pyahocorasick-1.4.2 textsearch-0.0.21\n"
          ],
          "name": "stdout"
        },
        {
          "output_type": "display_data",
          "data": {
            "application/vnd.colab-display-data+json": {
              "pip_warning": {
                "packages": [
                  "numpy",
                  "pandas"
                ]
              }
            }
          },
          "metadata": {
            "tags": []
          }
        },
        {
          "output_type": "stream",
          "text": [
            "Requirement already satisfied: en_core_web_sm==2.2.5 from https://github.com/explosion/spacy-models/releases/download/en_core_web_sm-2.2.5/en_core_web_sm-2.2.5.tar.gz#egg=en_core_web_sm==2.2.5 in /usr/local/lib/python3.7/dist-packages (2.2.5)\n",
            "Requirement already satisfied: spacy>=2.2.2 in /usr/local/lib/python3.7/dist-packages (from en_core_web_sm==2.2.5) (2.2.4)\n",
            "Requirement already satisfied: srsly<1.1.0,>=1.0.2 in /usr/local/lib/python3.7/dist-packages (from spacy>=2.2.2->en_core_web_sm==2.2.5) (1.0.5)\n",
            "Requirement already satisfied: numpy>=1.15.0 in /usr/local/lib/python3.7/dist-packages (from spacy>=2.2.2->en_core_web_sm==2.2.5) (1.20.3)\n",
            "Requirement already satisfied: cymem<2.1.0,>=2.0.2 in /usr/local/lib/python3.7/dist-packages (from spacy>=2.2.2->en_core_web_sm==2.2.5) (2.0.5)\n",
            "Requirement already satisfied: blis<0.5.0,>=0.4.0 in /usr/local/lib/python3.7/dist-packages (from spacy>=2.2.2->en_core_web_sm==2.2.5) (0.4.1)\n",
            "Requirement already satisfied: preshed<3.1.0,>=3.0.2 in /usr/local/lib/python3.7/dist-packages (from spacy>=2.2.2->en_core_web_sm==2.2.5) (3.0.5)\n",
            "Requirement already satisfied: requests<3.0.0,>=2.13.0 in /usr/local/lib/python3.7/dist-packages (from spacy>=2.2.2->en_core_web_sm==2.2.5) (2.23.0)\n",
            "Requirement already satisfied: murmurhash<1.1.0,>=0.28.0 in /usr/local/lib/python3.7/dist-packages (from spacy>=2.2.2->en_core_web_sm==2.2.5) (1.0.5)\n",
            "Requirement already satisfied: wasabi<1.1.0,>=0.4.0 in /usr/local/lib/python3.7/dist-packages (from spacy>=2.2.2->en_core_web_sm==2.2.5) (0.8.2)\n",
            "Requirement already satisfied: thinc==7.4.0 in /usr/local/lib/python3.7/dist-packages (from spacy>=2.2.2->en_core_web_sm==2.2.5) (7.4.0)\n",
            "Requirement already satisfied: tqdm<5.0.0,>=4.38.0 in /usr/local/lib/python3.7/dist-packages (from spacy>=2.2.2->en_core_web_sm==2.2.5) (4.41.1)\n",
            "Requirement already satisfied: plac<1.2.0,>=0.9.6 in /usr/local/lib/python3.7/dist-packages (from spacy>=2.2.2->en_core_web_sm==2.2.5) (1.1.3)\n",
            "Requirement already satisfied: setuptools in /usr/local/lib/python3.7/dist-packages (from spacy>=2.2.2->en_core_web_sm==2.2.5) (57.0.0)\n",
            "Requirement already satisfied: catalogue<1.1.0,>=0.0.7 in /usr/local/lib/python3.7/dist-packages (from spacy>=2.2.2->en_core_web_sm==2.2.5) (1.0.0)\n",
            "Requirement already satisfied: idna<3,>=2.5 in /usr/local/lib/python3.7/dist-packages (from requests<3.0.0,>=2.13.0->spacy>=2.2.2->en_core_web_sm==2.2.5) (2.10)\n",
            "Requirement already satisfied: certifi>=2017.4.17 in /usr/local/lib/python3.7/dist-packages (from requests<3.0.0,>=2.13.0->spacy>=2.2.2->en_core_web_sm==2.2.5) (2021.5.30)\n",
            "Requirement already satisfied: chardet<4,>=3.0.2 in /usr/local/lib/python3.7/dist-packages (from requests<3.0.0,>=2.13.0->spacy>=2.2.2->en_core_web_sm==2.2.5) (3.0.4)\n",
            "Requirement already satisfied: urllib3!=1.25.0,!=1.25.1,<1.26,>=1.21.1 in /usr/local/lib/python3.7/dist-packages (from requests<3.0.0,>=2.13.0->spacy>=2.2.2->en_core_web_sm==2.2.5) (1.24.3)\n",
            "Requirement already satisfied: importlib-metadata>=0.20; python_version < \"3.8\" in /usr/local/lib/python3.7/dist-packages (from catalogue<1.1.0,>=0.0.7->spacy>=2.2.2->en_core_web_sm==2.2.5) (4.5.0)\n",
            "Requirement already satisfied: zipp>=0.5 in /usr/local/lib/python3.7/dist-packages (from importlib-metadata>=0.20; python_version < \"3.8\"->catalogue<1.1.0,>=0.0.7->spacy>=2.2.2->en_core_web_sm==2.2.5) (3.4.1)\n",
            "Requirement already satisfied: typing-extensions>=3.6.4; python_version < \"3.8\" in /usr/local/lib/python3.7/dist-packages (from importlib-metadata>=0.20; python_version < \"3.8\"->catalogue<1.1.0,>=0.0.7->spacy>=2.2.2->en_core_web_sm==2.2.5) (3.7.4.3)\n",
            "\u001b[38;5;2m✔ Download and installation successful\u001b[0m\n",
            "You can now load the model via spacy.load('en_core_web_sm')\n",
            "\u001b[38;5;2m✔ Linking successful\u001b[0m\n",
            "/usr/local/lib/python3.7/dist-packages/en_core_web_sm -->\n",
            "/usr/local/lib/python3.7/dist-packages/spacy/data/en\n",
            "You can now load the model via spacy.load('en')\n"
          ],
          "name": "stdout"
        }
      ]
    },
    {
      "cell_type": "code",
      "metadata": {
        "id": "JzIQhx5ukPfe",
        "colab": {
          "base_uri": "https://localhost:8080/"
        },
        "outputId": "c66e17b7-c0db-4d56-8207-e15a20970269"
      },
      "source": [
        "# importing libraries\n",
        "import pandas as pd\n",
        "import numpy as np \n",
        "import regex as re\n",
        "import datetime\n",
        "import json\n",
        "\n",
        "from emot.emo_unicode import UNICODE_EMO, EMOTICONS\n",
        "import contractions\n",
        "\n",
        "\n",
        "from spacy.lang.tl.stop_words import STOP_WORDS as tl_stop\n",
        "from spacy.lang.en.stop_words import STOP_WORDS as en_stop\n",
        "\n",
        "#nltk\n",
        "import nltk\n",
        "from nltk.corpus import stopwords\n",
        "\n",
        "# Gensim\n",
        "import gensim\n",
        "import gensim.corpora as corpora\n",
        "from gensim.utils import simple_preprocess\n",
        "from gensim.models import CoherenceModel\n",
        "import nltk\n",
        "import tqdm\n",
        "\n",
        "# spacy for lemmatization\n",
        "import spacy\n",
        "\n",
        "# Plotting tools\n",
        "import pyLDAvis\n",
        "import pyLDAvis.gensim_models  # don't skip this\n",
        "import matplotlib.pyplot as plt\n",
        "%matplotlib inline\n",
        "\n",
        "# Enable logging for gensim - optional\n",
        "import logging\n",
        "logging.basicConfig(format='%(asctime)s : %(levelname)s : %(message)s', level=logging.ERROR)"
      ],
      "execution_count": 1,
      "outputs": [
        {
          "output_type": "stream",
          "text": [
            "/usr/local/lib/python3.7/dist-packages/past/types/oldstr.py:5: DeprecationWarning: Using or importing the ABCs from 'collections' instead of from 'collections.abc' is deprecated since Python 3.3,and in 3.9 it will stop working\n",
            "  from collections import Iterable\n",
            "/usr/local/lib/python3.7/dist-packages/sklearn/decomposition/_lda.py:29: DeprecationWarning: `np.float` is a deprecated alias for the builtin `float`. To silence this warning, use `float` by itself. Doing this will not modify any behavior and is safe. If you specifically wanted the numpy scalar type, use `np.float64` here.\n",
            "Deprecated in NumPy 1.20; for more details and guidance: https://numpy.org/devdocs/release/1.20.0-notes.html#deprecations\n",
            "  EPS = np.finfo(np.float).eps\n"
          ],
          "name": "stderr"
        }
      ]
    },
    {
      "cell_type": "code",
      "metadata": {
        "id": "Z49bQJ0NkPnM"
      },
      "source": [
        "# importing the dataset\n",
        "df = pd.read_csv('/content/drive/My Drive/Data/Reviews/Play Store/gcash_playstore_reviews_final.csv')"
      ],
      "execution_count": 332,
      "outputs": []
    },
    {
      "cell_type": "code",
      "metadata": {
        "id": "ZEoG0tP1lNoc",
        "colab": {
          "base_uri": "https://localhost:8080/"
        },
        "outputId": "4ae0211c-f63a-4560-ca3d-d28fa3eb93e9"
      },
      "source": [
        "df.shape"
      ],
      "execution_count": 333,
      "outputs": [
        {
          "output_type": "execute_result",
          "data": {
            "text/plain": [
              "(199298, 13)"
            ]
          },
          "metadata": {
            "tags": []
          },
          "execution_count": 333
        }
      ]
    },
    {
      "cell_type": "code",
      "metadata": {
        "id": "GwH3Ps-dlPs6",
        "colab": {
          "base_uri": "https://localhost:8080/"
        },
        "outputId": "2f8c418c-f9ad-4944-9c2b-cebeddbae670"
      },
      "source": [
        "df.dtypes"
      ],
      "execution_count": 334,
      "outputs": [
        {
          "output_type": "execute_result",
          "data": {
            "text/plain": [
              "_id                     object\n",
              "app_id                  object\n",
              "app_name                object\n",
              "at                      object\n",
              "content                 object\n",
              "repliedAt               object\n",
              "replyContent            object\n",
              "reviewCreatedVersion    object\n",
              "reviewId                object\n",
              "score                    int64\n",
              "thumbsUpCount            int64\n",
              "userImage               object\n",
              "userName                object\n",
              "dtype: object"
            ]
          },
          "metadata": {
            "tags": []
          },
          "execution_count": 334
        }
      ]
    },
    {
      "cell_type": "code",
      "metadata": {
        "id": "fjjTCM1TkxQ2",
        "colab": {
          "base_uri": "https://localhost:8080/",
          "height": 301
        },
        "outputId": "aacc9ba8-bb12-4e11-9906-e0c514882c93"
      },
      "source": [
        "df.head(2)"
      ],
      "execution_count": 335,
      "outputs": [
        {
          "output_type": "execute_result",
          "data": {
            "text/html": [
              "<div>\n",
              "<style scoped>\n",
              "    .dataframe tbody tr th:only-of-type {\n",
              "        vertical-align: middle;\n",
              "    }\n",
              "\n",
              "    .dataframe tbody tr th {\n",
              "        vertical-align: top;\n",
              "    }\n",
              "\n",
              "    .dataframe thead th {\n",
              "        text-align: right;\n",
              "    }\n",
              "</style>\n",
              "<table border=\"1\" class=\"dataframe\">\n",
              "  <thead>\n",
              "    <tr style=\"text-align: right;\">\n",
              "      <th></th>\n",
              "      <th>_id</th>\n",
              "      <th>app_id</th>\n",
              "      <th>app_name</th>\n",
              "      <th>at</th>\n",
              "      <th>content</th>\n",
              "      <th>repliedAt</th>\n",
              "      <th>replyContent</th>\n",
              "      <th>reviewCreatedVersion</th>\n",
              "      <th>reviewId</th>\n",
              "      <th>score</th>\n",
              "      <th>thumbsUpCount</th>\n",
              "      <th>userImage</th>\n",
              "      <th>userName</th>\n",
              "    </tr>\n",
              "  </thead>\n",
              "  <tbody>\n",
              "    <tr>\n",
              "      <th>0</th>\n",
              "      <td>60b76108c5eccca0e375ce55</td>\n",
              "      <td>com.globe.gcash.android</td>\n",
              "      <td>GCash</td>\n",
              "      <td>2021-06-02T18:32:37.000Z</td>\n",
              "      <td>Good for mobile online deals.</td>\n",
              "      <td>NaN</td>\n",
              "      <td>NaN</td>\n",
              "      <td>5.40.0</td>\n",
              "      <td>gp:AOqpTOHa4x04QC93zb0pxQZ-1Q1GwFeysD-XpcDTW78...</td>\n",
              "      <td>1</td>\n",
              "      <td>0</td>\n",
              "      <td>https://play-lh.googleusercontent.com/a/AATXAJ...</td>\n",
              "      <td>Emmanuel Jim Roldan</td>\n",
              "    </tr>\n",
              "    <tr>\n",
              "      <th>1</th>\n",
              "      <td>60b76108c5eccca0e375ce56</td>\n",
              "      <td>com.globe.gcash.android</td>\n",
              "      <td>GCash</td>\n",
              "      <td>2021-06-02T18:32:14.000Z</td>\n",
              "      <td>Ilang beses nang naulit na nag load ako nag ba...</td>\n",
              "      <td>NaN</td>\n",
              "      <td>NaN</td>\n",
              "      <td>5.41.0</td>\n",
              "      <td>gp:AOqpTOFOvZwSS0iVvmGbcBKkwFyprROh5KqfcJuI5jg...</td>\n",
              "      <td>1</td>\n",
              "      <td>0</td>\n",
              "      <td>https://play-lh.googleusercontent.com/a-/AOh14...</td>\n",
              "      <td>Harem Tuazon</td>\n",
              "    </tr>\n",
              "  </tbody>\n",
              "</table>\n",
              "</div>"
            ],
            "text/plain": [
              "                        _id  ...             userName\n",
              "0  60b76108c5eccca0e375ce55  ...  Emmanuel Jim Roldan\n",
              "1  60b76108c5eccca0e375ce56  ...         Harem Tuazon\n",
              "\n",
              "[2 rows x 13 columns]"
            ]
          },
          "metadata": {
            "tags": []
          },
          "execution_count": 335
        }
      ]
    },
    {
      "cell_type": "code",
      "metadata": {
        "colab": {
          "base_uri": "https://localhost:8080/"
        },
        "id": "KW6sQ6TUdlX5",
        "outputId": "004d1e95-f477-44a8-f85c-ce7096f92cee"
      },
      "source": [
        "df['score'].value_counts()"
      ],
      "execution_count": 336,
      "outputs": [
        {
          "output_type": "execute_result",
          "data": {
            "text/plain": [
              "5    118576\n",
              "1     42537\n",
              "4     16187\n",
              "3     12885\n",
              "2      9113\n",
              "Name: score, dtype: int64"
            ]
          },
          "metadata": {
            "tags": []
          },
          "execution_count": 336
        }
      ]
    },
    {
      "cell_type": "markdown",
      "metadata": {
        "id": "9NZMpbSEj_oC"
      },
      "source": [
        "## Part 1: Data Exploration + Cleaning"
      ]
    },
    {
      "cell_type": "code",
      "metadata": {
        "id": "foPJjLZVmoFW",
        "colab": {
          "base_uri": "https://localhost:8080/"
        },
        "outputId": "df757720-6f45-4348-e6f2-0e25097614d9"
      },
      "source": [
        "# Checking for null values\n",
        "df.isnull().sum() "
      ],
      "execution_count": 337,
      "outputs": [
        {
          "output_type": "execute_result",
          "data": {
            "text/plain": [
              "_id                          0\n",
              "app_id                       0\n",
              "app_name                     0\n",
              "at                           0\n",
              "content                     14\n",
              "repliedAt               178901\n",
              "replyContent            178901\n",
              "reviewCreatedVersion     48259\n",
              "reviewId                     0\n",
              "score                        0\n",
              "thumbsUpCount                0\n",
              "userImage                    0\n",
              "userName                     0\n",
              "dtype: int64"
            ]
          },
          "metadata": {
            "tags": []
          },
          "execution_count": 337
        }
      ]
    },
    {
      "cell_type": "code",
      "metadata": {
        "id": "StJdPT_cm2TI"
      },
      "source": [
        "# Dropping unwanted columns [userName, app_name, app_id, developerResponse]\n",
        "df = df.drop(['_id', 'app_id', 'app_name', 'replyContent', 'reviewCreatedVersion', 'reviewId', 'thumbsUpCount', 'userImage', 'userName', 'repliedAt'], axis=1)"
      ],
      "execution_count": 338,
      "outputs": []
    },
    {
      "cell_type": "code",
      "metadata": {
        "id": "Dc4F9FJSjhz6"
      },
      "source": [
        "# Splitting datetime column + Checking date range\n",
        "\n",
        "# Code block below separated the timestamp [[date]] column into Date and Time column respectively\n",
        "df['Dates'] = pd.to_datetime(df['at']).dt.date\n",
        "df['Time'] = pd.to_datetime(df['at']).dt.time\n",
        "df = df.drop('at', axis=1)"
      ],
      "execution_count": 339,
      "outputs": []
    },
    {
      "cell_type": "code",
      "metadata": {
        "id": "-9uJxaZClsWs",
        "colab": {
          "base_uri": "https://localhost:8080/",
          "height": 80
        },
        "outputId": "f1dbf25e-d3cd-4947-f935-da2864a16eff"
      },
      "source": [
        "df.sort_values(by='Dates', ascending=False).head(1)"
      ],
      "execution_count": 340,
      "outputs": [
        {
          "output_type": "execute_result",
          "data": {
            "text/html": [
              "<div>\n",
              "<style scoped>\n",
              "    .dataframe tbody tr th:only-of-type {\n",
              "        vertical-align: middle;\n",
              "    }\n",
              "\n",
              "    .dataframe tbody tr th {\n",
              "        vertical-align: top;\n",
              "    }\n",
              "\n",
              "    .dataframe thead th {\n",
              "        text-align: right;\n",
              "    }\n",
              "</style>\n",
              "<table border=\"1\" class=\"dataframe\">\n",
              "  <thead>\n",
              "    <tr style=\"text-align: right;\">\n",
              "      <th></th>\n",
              "      <th>content</th>\n",
              "      <th>score</th>\n",
              "      <th>Dates</th>\n",
              "      <th>Time</th>\n",
              "    </tr>\n",
              "  </thead>\n",
              "  <tbody>\n",
              "    <tr>\n",
              "      <th>0</th>\n",
              "      <td>Good for mobile online deals.</td>\n",
              "      <td>1</td>\n",
              "      <td>2021-06-02</td>\n",
              "      <td>18:32:37</td>\n",
              "    </tr>\n",
              "  </tbody>\n",
              "</table>\n",
              "</div>"
            ],
            "text/plain": [
              "                         content  score       Dates      Time\n",
              "0  Good for mobile online deals.      1  2021-06-02  18:32:37"
            ]
          },
          "metadata": {
            "tags": []
          },
          "execution_count": 340
        }
      ]
    },
    {
      "cell_type": "code",
      "metadata": {
        "id": "0J-wd6N7ltlQ",
        "colab": {
          "base_uri": "https://localhost:8080/",
          "height": 80
        },
        "outputId": "03df4846-8471-4d4e-873c-e9ef6ba9b6de"
      },
      "source": [
        "df.sort_values(by='Dates', ascending=True).head(1)"
      ],
      "execution_count": 341,
      "outputs": [
        {
          "output_type": "execute_result",
          "data": {
            "text/html": [
              "<div>\n",
              "<style scoped>\n",
              "    .dataframe tbody tr th:only-of-type {\n",
              "        vertical-align: middle;\n",
              "    }\n",
              "\n",
              "    .dataframe tbody tr th {\n",
              "        vertical-align: top;\n",
              "    }\n",
              "\n",
              "    .dataframe thead th {\n",
              "        text-align: right;\n",
              "    }\n",
              "</style>\n",
              "<table border=\"1\" class=\"dataframe\">\n",
              "  <thead>\n",
              "    <tr style=\"text-align: right;\">\n",
              "      <th></th>\n",
              "      <th>content</th>\n",
              "      <th>score</th>\n",
              "      <th>Dates</th>\n",
              "      <th>Time</th>\n",
              "    </tr>\n",
              "  </thead>\n",
              "  <tbody>\n",
              "    <tr>\n",
              "      <th>198696</th>\n",
              "      <td>\"Unknown error occurred\" always popping up! Ne...</td>\n",
              "      <td>1</td>\n",
              "      <td>2012-03-26</td>\n",
              "      <td>18:49:57</td>\n",
              "    </tr>\n",
              "  </tbody>\n",
              "</table>\n",
              "</div>"
            ],
            "text/plain": [
              "                                                  content  ...      Time\n",
              "198696  \"Unknown error occurred\" always popping up! Ne...  ...  18:49:57\n",
              "\n",
              "[1 rows x 4 columns]"
            ]
          },
          "metadata": {
            "tags": []
          },
          "execution_count": 341
        }
      ]
    },
    {
      "cell_type": "markdown",
      "metadata": {
        "id": "CEot_wyzmLFP"
      },
      "source": [
        "In the section above, we can see that the dataset ranges from 2012-05-23 to 2021-06-11."
      ]
    },
    {
      "cell_type": "code",
      "metadata": {
        "id": "1MEu6XTPmIzC",
        "colab": {
          "base_uri": "https://localhost:8080/"
        },
        "outputId": "db976938-6f3e-4edb-f87f-561dfc482ac8"
      },
      "source": [
        "df.dtypes"
      ],
      "execution_count": 342,
      "outputs": [
        {
          "output_type": "execute_result",
          "data": {
            "text/plain": [
              "content    object\n",
              "score       int64\n",
              "Dates      object\n",
              "Time       object\n",
              "dtype: object"
            ]
          },
          "metadata": {
            "tags": []
          },
          "execution_count": 342
        }
      ]
    },
    {
      "cell_type": "code",
      "metadata": {
        "id": "Xlv7Ip8Y0IQn"
      },
      "source": [
        "df['word_count'] = df['content'].str.split().str.len()"
      ],
      "execution_count": 343,
      "outputs": []
    },
    {
      "cell_type": "code",
      "metadata": {
        "id": "QyVRwixP21u8",
        "colab": {
          "base_uri": "https://localhost:8080/",
          "height": 204
        },
        "outputId": "a768eb30-7b1f-4365-89bf-92cf124094cc"
      },
      "source": [
        "df.head(5)"
      ],
      "execution_count": 344,
      "outputs": [
        {
          "output_type": "execute_result",
          "data": {
            "text/html": [
              "<div>\n",
              "<style scoped>\n",
              "    .dataframe tbody tr th:only-of-type {\n",
              "        vertical-align: middle;\n",
              "    }\n",
              "\n",
              "    .dataframe tbody tr th {\n",
              "        vertical-align: top;\n",
              "    }\n",
              "\n",
              "    .dataframe thead th {\n",
              "        text-align: right;\n",
              "    }\n",
              "</style>\n",
              "<table border=\"1\" class=\"dataframe\">\n",
              "  <thead>\n",
              "    <tr style=\"text-align: right;\">\n",
              "      <th></th>\n",
              "      <th>content</th>\n",
              "      <th>score</th>\n",
              "      <th>Dates</th>\n",
              "      <th>Time</th>\n",
              "      <th>word_count</th>\n",
              "    </tr>\n",
              "  </thead>\n",
              "  <tbody>\n",
              "    <tr>\n",
              "      <th>0</th>\n",
              "      <td>Good for mobile online deals.</td>\n",
              "      <td>1</td>\n",
              "      <td>2021-06-02</td>\n",
              "      <td>18:32:37</td>\n",
              "      <td>5.0</td>\n",
              "    </tr>\n",
              "    <tr>\n",
              "      <th>1</th>\n",
              "      <td>Ilang beses nang naulit na nag load ako nag ba...</td>\n",
              "      <td>1</td>\n",
              "      <td>2021-06-02</td>\n",
              "      <td>18:32:14</td>\n",
              "      <td>19.0</td>\n",
              "    </tr>\n",
              "    <tr>\n",
              "      <th>2</th>\n",
              "      <td>Its a great experience and convenient</td>\n",
              "      <td>4</td>\n",
              "      <td>2021-06-02</td>\n",
              "      <td>18:32:07</td>\n",
              "      <td>6.0</td>\n",
              "    </tr>\n",
              "    <tr>\n",
              "      <th>3</th>\n",
              "      <td>Ok na ok sya para sa mga easy transaction lalo...</td>\n",
              "      <td>5</td>\n",
              "      <td>2021-06-02</td>\n",
              "      <td>18:31:31</td>\n",
              "      <td>16.0</td>\n",
              "    </tr>\n",
              "    <tr>\n",
              "      <th>4</th>\n",
              "      <td>very helpful and contented</td>\n",
              "      <td>5</td>\n",
              "      <td>2021-06-02</td>\n",
              "      <td>18:31:25</td>\n",
              "      <td>4.0</td>\n",
              "    </tr>\n",
              "  </tbody>\n",
              "</table>\n",
              "</div>"
            ],
            "text/plain": [
              "                                             content  ...  word_count\n",
              "0                      Good for mobile online deals.  ...         5.0\n",
              "1  Ilang beses nang naulit na nag load ako nag ba...  ...        19.0\n",
              "2              Its a great experience and convenient  ...         6.0\n",
              "3  Ok na ok sya para sa mga easy transaction lalo...  ...        16.0\n",
              "4                         very helpful and contented  ...         4.0\n",
              "\n",
              "[5 rows x 5 columns]"
            ]
          },
          "metadata": {
            "tags": []
          },
          "execution_count": 344
        }
      ]
    },
    {
      "cell_type": "code",
      "metadata": {
        "id": "qFYy4MW48fFh"
      },
      "source": [
        "df2 = df.copy()"
      ],
      "execution_count": 345,
      "outputs": []
    },
    {
      "cell_type": "code",
      "metadata": {
        "id": "Skdtu7qLaDUV"
      },
      "source": [
        "df2 = df2.dropna(subset=['content'])"
      ],
      "execution_count": 346,
      "outputs": []
    },
    {
      "cell_type": "code",
      "metadata": {
        "id": "dcdR0ZXn1PA8"
      },
      "source": [
        "# Filter pandas df for reviews from january 2020 to may 2021\n",
        "# import datetime\n",
        "df2 = df2[(df2['Dates']>datetime.date(2020,1,1)) & (df2['Dates']<datetime.date(2021,5,31))] "
      ],
      "execution_count": 347,
      "outputs": []
    },
    {
      "cell_type": "code",
      "metadata": {
        "id": "UeGLx8fX1xZ1",
        "colab": {
          "base_uri": "https://localhost:8080/"
        },
        "outputId": "5a38ab76-be6e-4d35-d65a-63aa45ba7d52"
      },
      "source": [
        "df2.shape"
      ],
      "execution_count": 348,
      "outputs": [
        {
          "output_type": "execute_result",
          "data": {
            "text/plain": [
              "(130233, 5)"
            ]
          },
          "metadata": {
            "tags": []
          },
          "execution_count": 348
        }
      ]
    },
    {
      "cell_type": "code",
      "metadata": {
        "id": "jSBfysmr0jhI",
        "colab": {
          "base_uri": "https://localhost:8080/",
          "height": 419
        },
        "outputId": "6fdeb52d-ecf4-4543-d219-295d95b1d93c"
      },
      "source": [
        "df2.sort_values(by='word_count')"
      ],
      "execution_count": 349,
      "outputs": [
        {
          "output_type": "execute_result",
          "data": {
            "text/html": [
              "<div>\n",
              "<style scoped>\n",
              "    .dataframe tbody tr th:only-of-type {\n",
              "        vertical-align: middle;\n",
              "    }\n",
              "\n",
              "    .dataframe tbody tr th {\n",
              "        vertical-align: top;\n",
              "    }\n",
              "\n",
              "    .dataframe thead th {\n",
              "        text-align: right;\n",
              "    }\n",
              "</style>\n",
              "<table border=\"1\" class=\"dataframe\">\n",
              "  <thead>\n",
              "    <tr style=\"text-align: right;\">\n",
              "      <th></th>\n",
              "      <th>content</th>\n",
              "      <th>score</th>\n",
              "      <th>Dates</th>\n",
              "      <th>Time</th>\n",
              "      <th>word_count</th>\n",
              "    </tr>\n",
              "  </thead>\n",
              "  <tbody>\n",
              "    <tr>\n",
              "      <th>102908</th>\n",
              "      <td>😊</td>\n",
              "      <td>5</td>\n",
              "      <td>2020-07-04</td>\n",
              "      <td>17:15:27</td>\n",
              "      <td>1.0</td>\n",
              "    </tr>\n",
              "    <tr>\n",
              "      <th>93166</th>\n",
              "      <td>Ok</td>\n",
              "      <td>5</td>\n",
              "      <td>2020-07-27</td>\n",
              "      <td>11:19:36</td>\n",
              "      <td>1.0</td>\n",
              "    </tr>\n",
              "    <tr>\n",
              "      <th>93164</th>\n",
              "      <td>good</td>\n",
              "      <td>5</td>\n",
              "      <td>2020-07-27</td>\n",
              "      <td>11:20:27</td>\n",
              "      <td>1.0</td>\n",
              "    </tr>\n",
              "    <tr>\n",
              "      <th>93163</th>\n",
              "      <td>good</td>\n",
              "      <td>5</td>\n",
              "      <td>2020-07-27</td>\n",
              "      <td>11:20:38</td>\n",
              "      <td>1.0</td>\n",
              "    </tr>\n",
              "    <tr>\n",
              "      <th>29655</th>\n",
              "      <td>good</td>\n",
              "      <td>5</td>\n",
              "      <td>2021-03-15</td>\n",
              "      <td>18:51:20</td>\n",
              "      <td>1.0</td>\n",
              "    </tr>\n",
              "    <tr>\n",
              "      <th>...</th>\n",
              "      <td>...</td>\n",
              "      <td>...</td>\n",
              "      <td>...</td>\n",
              "      <td>...</td>\n",
              "      <td>...</td>\n",
              "    </tr>\n",
              "    <tr>\n",
              "      <th>26452</th>\n",
              "      <td>You so much and I hope you have a great day an...</td>\n",
              "      <td>5</td>\n",
              "      <td>2021-04-02</td>\n",
              "      <td>16:02:29</td>\n",
              "      <td>114.0</td>\n",
              "    </tr>\n",
              "    <tr>\n",
              "      <th>38037</th>\n",
              "      <td>They stole my money. They said they're going t...</td>\n",
              "      <td>1</td>\n",
              "      <td>2021-02-17</td>\n",
              "      <td>15:58:22</td>\n",
              "      <td>117.0</td>\n",
              "    </tr>\n",
              "    <tr>\n",
              "      <th>102007</th>\n",
              "      <td>Just got home at the end of the day I love you...</td>\n",
              "      <td>5</td>\n",
              "      <td>2020-07-11</td>\n",
              "      <td>09:43:09</td>\n",
              "      <td>119.0</td>\n",
              "    </tr>\n",
              "    <tr>\n",
              "      <th>134248</th>\n",
              "      <td>Mop is a great day and I will be there to help...</td>\n",
              "      <td>5</td>\n",
              "      <td>2020-01-09</td>\n",
              "      <td>06:14:33</td>\n",
              "      <td>122.0</td>\n",
              "    </tr>\n",
              "    <tr>\n",
              "      <th>45730</th>\n",
              "      <td>It's been almost 3-4 months since I last had G...</td>\n",
              "      <td>1</td>\n",
              "      <td>2021-01-10</td>\n",
              "      <td>01:29:34</td>\n",
              "      <td>135.0</td>\n",
              "    </tr>\n",
              "  </tbody>\n",
              "</table>\n",
              "<p>130233 rows × 5 columns</p>\n",
              "</div>"
            ],
            "text/plain": [
              "                                                  content  ...  word_count\n",
              "102908                                                  😊  ...         1.0\n",
              "93166                                                  Ok  ...         1.0\n",
              "93164                                                good  ...         1.0\n",
              "93163                                                good  ...         1.0\n",
              "29655                                                good  ...         1.0\n",
              "...                                                   ...  ...         ...\n",
              "26452   You so much and I hope you have a great day an...  ...       114.0\n",
              "38037   They stole my money. They said they're going t...  ...       117.0\n",
              "102007  Just got home at the end of the day I love you...  ...       119.0\n",
              "134248  Mop is a great day and I will be there to help...  ...       122.0\n",
              "45730   It's been almost 3-4 months since I last had G...  ...       135.0\n",
              "\n",
              "[130233 rows x 5 columns]"
            ]
          },
          "metadata": {
            "tags": []
          },
          "execution_count": 349
        }
      ]
    },
    {
      "cell_type": "code",
      "metadata": {
        "id": "xgSNNgoV07m0",
        "colab": {
          "base_uri": "https://localhost:8080/"
        },
        "outputId": "d1477998-0203-4ebf-f3b6-0da704394f0c"
      },
      "source": [
        "df2['word_count'].value_counts().sort_index().head(10)"
      ],
      "execution_count": 350,
      "outputs": [
        {
          "output_type": "execute_result",
          "data": {
            "text/plain": [
              "1.0     35495\n",
              "2.0     21638\n",
              "3.0     10440\n",
              "4.0      7608\n",
              "5.0      5841\n",
              "6.0      4527\n",
              "7.0      3706\n",
              "8.0      2985\n",
              "9.0      2622\n",
              "10.0     2374\n",
              "Name: word_count, dtype: int64"
            ]
          },
          "metadata": {
            "tags": []
          },
          "execution_count": 350
        }
      ]
    },
    {
      "cell_type": "code",
      "metadata": {
        "id": "tsK0Kf723tdl",
        "colab": {
          "base_uri": "https://localhost:8080/",
          "height": 419
        },
        "outputId": "b01cfc39-043e-4699-8f80-64e878ab2f50"
      },
      "source": [
        "df2.loc[df2['word_count'].isin([1])]"
      ],
      "execution_count": 351,
      "outputs": [
        {
          "output_type": "execute_result",
          "data": {
            "text/html": [
              "<div>\n",
              "<style scoped>\n",
              "    .dataframe tbody tr th:only-of-type {\n",
              "        vertical-align: middle;\n",
              "    }\n",
              "\n",
              "    .dataframe tbody tr th {\n",
              "        vertical-align: top;\n",
              "    }\n",
              "\n",
              "    .dataframe thead th {\n",
              "        text-align: right;\n",
              "    }\n",
              "</style>\n",
              "<table border=\"1\" class=\"dataframe\">\n",
              "  <thead>\n",
              "    <tr style=\"text-align: right;\">\n",
              "      <th></th>\n",
              "      <th>content</th>\n",
              "      <th>score</th>\n",
              "      <th>Dates</th>\n",
              "      <th>Time</th>\n",
              "      <th>word_count</th>\n",
              "    </tr>\n",
              "  </thead>\n",
              "  <tbody>\n",
              "    <tr>\n",
              "      <th>4549</th>\n",
              "      <td>Excellent!</td>\n",
              "      <td>5</td>\n",
              "      <td>2021-05-30</td>\n",
              "      <td>23:45:41</td>\n",
              "      <td>1.0</td>\n",
              "    </tr>\n",
              "    <tr>\n",
              "      <th>4555</th>\n",
              "      <td>Good</td>\n",
              "      <td>4</td>\n",
              "      <td>2021-05-30</td>\n",
              "      <td>22:17:59</td>\n",
              "      <td>1.0</td>\n",
              "    </tr>\n",
              "    <tr>\n",
              "      <th>4558</th>\n",
              "      <td>Good</td>\n",
              "      <td>5</td>\n",
              "      <td>2021-05-30</td>\n",
              "      <td>22:01:46</td>\n",
              "      <td>1.0</td>\n",
              "    </tr>\n",
              "    <tr>\n",
              "      <th>4591</th>\n",
              "      <td>Good</td>\n",
              "      <td>5</td>\n",
              "      <td>2021-05-30</td>\n",
              "      <td>17:33:12</td>\n",
              "      <td>1.0</td>\n",
              "    </tr>\n",
              "    <tr>\n",
              "      <th>4593</th>\n",
              "      <td>Good</td>\n",
              "      <td>5</td>\n",
              "      <td>2021-05-30</td>\n",
              "      <td>17:28:39</td>\n",
              "      <td>1.0</td>\n",
              "    </tr>\n",
              "    <tr>\n",
              "      <th>...</th>\n",
              "      <td>...</td>\n",
              "      <td>...</td>\n",
              "      <td>...</td>\n",
              "      <td>...</td>\n",
              "      <td>...</td>\n",
              "    </tr>\n",
              "    <tr>\n",
              "      <th>134754</th>\n",
              "      <td>Good</td>\n",
              "      <td>5</td>\n",
              "      <td>2020-01-02</td>\n",
              "      <td>12:21:38</td>\n",
              "      <td>1.0</td>\n",
              "    </tr>\n",
              "    <tr>\n",
              "      <th>134758</th>\n",
              "      <td>Nice</td>\n",
              "      <td>5</td>\n",
              "      <td>2020-01-02</td>\n",
              "      <td>12:12:53</td>\n",
              "      <td>1.0</td>\n",
              "    </tr>\n",
              "    <tr>\n",
              "      <th>134759</th>\n",
              "      <td>Good</td>\n",
              "      <td>5</td>\n",
              "      <td>2020-01-02</td>\n",
              "      <td>12:12:27</td>\n",
              "      <td>1.0</td>\n",
              "    </tr>\n",
              "    <tr>\n",
              "      <th>134781</th>\n",
              "      <td>nice</td>\n",
              "      <td>5</td>\n",
              "      <td>2020-01-02</td>\n",
              "      <td>05:42:03</td>\n",
              "      <td>1.0</td>\n",
              "    </tr>\n",
              "    <tr>\n",
              "      <th>134787</th>\n",
              "      <td>Convenient....</td>\n",
              "      <td>5</td>\n",
              "      <td>2020-01-02</td>\n",
              "      <td>00:52:00</td>\n",
              "      <td>1.0</td>\n",
              "    </tr>\n",
              "  </tbody>\n",
              "</table>\n",
              "<p>35495 rows × 5 columns</p>\n",
              "</div>"
            ],
            "text/plain": [
              "               content  score       Dates      Time  word_count\n",
              "4549        Excellent!      5  2021-05-30  23:45:41         1.0\n",
              "4555              Good      4  2021-05-30  22:17:59         1.0\n",
              "4558              Good      5  2021-05-30  22:01:46         1.0\n",
              "4591              Good      5  2021-05-30  17:33:12         1.0\n",
              "4593              Good      5  2021-05-30  17:28:39         1.0\n",
              "...                ...    ...         ...       ...         ...\n",
              "134754            Good      5  2020-01-02  12:21:38         1.0\n",
              "134758            Nice      5  2020-01-02  12:12:53         1.0\n",
              "134759            Good      5  2020-01-02  12:12:27         1.0\n",
              "134781            nice      5  2020-01-02  05:42:03         1.0\n",
              "134787  Convenient....      5  2020-01-02  00:52:00         1.0\n",
              "\n",
              "[35495 rows x 5 columns]"
            ]
          },
          "metadata": {
            "tags": []
          },
          "execution_count": 351
        }
      ]
    },
    {
      "cell_type": "markdown",
      "metadata": {
        "id": "Lq7vd0-ZoaUI"
      },
      "source": [
        "## Part 2: Text Cleaning\n",
        "\n",
        "Now that we have done the initial cleaning of the df, let us now proceed to text cleaning for topic modeling purposes.\n",
        "\n",
        "My approach in this notebook would be as follows:\n",
        "1. Do the necessary text cleaning steps (remove encodings, lowercase, strip punctutation, expand contractions etc)\n",
        "2. Remove Filipino stop words and possibly lemmatize Filipino words\n",
        "3. Remove English stop words and lemmatize\n",
        "4. Tokenization and other methods"
      ]
    },
    {
      "cell_type": "code",
      "metadata": {
        "id": "nPooN-xVpA40",
        "colab": {
          "base_uri": "https://localhost:8080/",
          "height": 173
        },
        "outputId": "65568eb8-7c60-47b6-8ae1-9c35c8cbca8c"
      },
      "source": [
        "df2.head(4)"
      ],
      "execution_count": 352,
      "outputs": [
        {
          "output_type": "execute_result",
          "data": {
            "text/html": [
              "<div>\n",
              "<style scoped>\n",
              "    .dataframe tbody tr th:only-of-type {\n",
              "        vertical-align: middle;\n",
              "    }\n",
              "\n",
              "    .dataframe tbody tr th {\n",
              "        vertical-align: top;\n",
              "    }\n",
              "\n",
              "    .dataframe thead th {\n",
              "        text-align: right;\n",
              "    }\n",
              "</style>\n",
              "<table border=\"1\" class=\"dataframe\">\n",
              "  <thead>\n",
              "    <tr style=\"text-align: right;\">\n",
              "      <th></th>\n",
              "      <th>content</th>\n",
              "      <th>score</th>\n",
              "      <th>Dates</th>\n",
              "      <th>Time</th>\n",
              "      <th>word_count</th>\n",
              "    </tr>\n",
              "  </thead>\n",
              "  <tbody>\n",
              "    <tr>\n",
              "      <th>4547</th>\n",
              "      <td>Very good</td>\n",
              "      <td>5</td>\n",
              "      <td>2021-05-30</td>\n",
              "      <td>23:59:34</td>\n",
              "      <td>2.0</td>\n",
              "    </tr>\n",
              "    <tr>\n",
              "      <th>4548</th>\n",
              "      <td>So good app to me</td>\n",
              "      <td>5</td>\n",
              "      <td>2021-05-30</td>\n",
              "      <td>23:57:27</td>\n",
              "      <td>5.0</td>\n",
              "    </tr>\n",
              "    <tr>\n",
              "      <th>4549</th>\n",
              "      <td>Excellent!</td>\n",
              "      <td>5</td>\n",
              "      <td>2021-05-30</td>\n",
              "      <td>23:45:41</td>\n",
              "      <td>1.0</td>\n",
              "    </tr>\n",
              "    <tr>\n",
              "      <th>4550</th>\n",
              "      <td>It is easy to sending money and load by Gcash.</td>\n",
              "      <td>5</td>\n",
              "      <td>2021-05-30</td>\n",
              "      <td>23:45:05</td>\n",
              "      <td>10.0</td>\n",
              "    </tr>\n",
              "  </tbody>\n",
              "</table>\n",
              "</div>"
            ],
            "text/plain": [
              "                                             content  ...  word_count\n",
              "4547                                       Very good  ...         2.0\n",
              "4548                               So good app to me  ...         5.0\n",
              "4549                                      Excellent!  ...         1.0\n",
              "4550  It is easy to sending money and load by Gcash.  ...        10.0\n",
              "\n",
              "[4 rows x 5 columns]"
            ]
          },
          "metadata": {
            "tags": []
          },
          "execution_count": 352
        }
      ]
    },
    {
      "cell_type": "code",
      "metadata": {
        "id": "egB5ED-Wa3C-"
      },
      "source": [
        "# Rename content column to final_review + reset index\n",
        "df2.rename(columns={'content':'final_review'}, inplace=True)"
      ],
      "execution_count": 353,
      "outputs": []
    },
    {
      "cell_type": "code",
      "metadata": {
        "id": "pIRwKJVqb61s"
      },
      "source": [
        "df2 = df2.reset_index(drop=True)"
      ],
      "execution_count": 354,
      "outputs": []
    },
    {
      "cell_type": "markdown",
      "metadata": {
        "id": "nqoUPaB6qqH8"
      },
      "source": [
        "#### Remove emojis and emoticons"
      ]
    },
    {
      "cell_type": "code",
      "metadata": {
        "id": "1-kVVzdSoOJi",
        "colab": {
          "base_uri": "https://localhost:8080/",
          "height": 35
        },
        "outputId": "35247f4b-ba8e-424b-b045-31e0755d999e"
      },
      "source": [
        "# Remove emojis and emoticons\n",
        "\n",
        "# Code block 1: remove emojis\n",
        "def remove_emoji(text):\n",
        "    emoji_pattern = re.compile(\"[\"\n",
        "                               u\"\\U0001F600-\\U0001F64F\"  # emoticons\n",
        "                               u\"\\U0001F300-\\U0001F5FF\"  # symbols & pictographs\n",
        "                               u\"\\U0001F680-\\U0001F6FF\"  # transport & map symbols\n",
        "                               u\"\\U0001F1E0-\\U0001F1FF\"  # flags (iOS)\n",
        "                               u\"\\U00002500-\\U00002BEF\"  # chinese char\n",
        "                               u\"\\U00002702-\\U000027B0\"\n",
        "                               u\"\\U00002702-\\U000027B0\"\n",
        "                               u\"\\U000024C2-\\U0001F251\"\n",
        "                               u\"\\U0001f926-\\U0001f937\"\n",
        "                               u\"\\U00010000-\\U0010ffff\"\n",
        "                               u\"\\u2640-\\u2642\"\n",
        "                               u\"\\u2600-\\u2B55\"\n",
        "                               u\"\\u200d\"\n",
        "                               u\"\\u23cf\"\n",
        "                               u\"\\u23e9\"\n",
        "                               u\"\\u231a\"\n",
        "                               u\"\\ufe0f\"  # dingbats\n",
        "                               u\"\\u3030\"\n",
        "                               \"]+\", flags=re.UNICODE)\n",
        "    return emoji_pattern.sub(r'', text)\n",
        "\n",
        "#Example\n",
        "remove_emoji(\"Have fun with NLP! 😃😃\")"
      ],
      "execution_count": 355,
      "outputs": [
        {
          "output_type": "execute_result",
          "data": {
            "application/vnd.google.colaboratory.intrinsic+json": {
              "type": "string"
            },
            "text/plain": [
              "'Have fun with NLP! '"
            ]
          },
          "metadata": {
            "tags": []
          },
          "execution_count": 355
        }
      ]
    },
    {
      "cell_type": "code",
      "metadata": {
        "id": "YGgq_VLMpBZI"
      },
      "source": [
        "# apply the remove emoji function to the review column\n",
        "df2['final_review'] = df2['final_review'].apply(lambda x: remove_emoji(x))"
      ],
      "execution_count": 356,
      "outputs": []
    },
    {
      "cell_type": "code",
      "metadata": {
        "id": "gnWhX4oF4rTm",
        "colab": {
          "base_uri": "https://localhost:8080/",
          "height": 419
        },
        "outputId": "a1af0418-2583-46c7-fb07-f6239f6c75cf"
      },
      "source": [
        "df2.loc[df2['word_count'].isin([1])]"
      ],
      "execution_count": 357,
      "outputs": [
        {
          "output_type": "execute_result",
          "data": {
            "text/html": [
              "<div>\n",
              "<style scoped>\n",
              "    .dataframe tbody tr th:only-of-type {\n",
              "        vertical-align: middle;\n",
              "    }\n",
              "\n",
              "    .dataframe tbody tr th {\n",
              "        vertical-align: top;\n",
              "    }\n",
              "\n",
              "    .dataframe thead th {\n",
              "        text-align: right;\n",
              "    }\n",
              "</style>\n",
              "<table border=\"1\" class=\"dataframe\">\n",
              "  <thead>\n",
              "    <tr style=\"text-align: right;\">\n",
              "      <th></th>\n",
              "      <th>final_review</th>\n",
              "      <th>score</th>\n",
              "      <th>Dates</th>\n",
              "      <th>Time</th>\n",
              "      <th>word_count</th>\n",
              "    </tr>\n",
              "  </thead>\n",
              "  <tbody>\n",
              "    <tr>\n",
              "      <th>2</th>\n",
              "      <td>Excellent!</td>\n",
              "      <td>5</td>\n",
              "      <td>2021-05-30</td>\n",
              "      <td>23:45:41</td>\n",
              "      <td>1.0</td>\n",
              "    </tr>\n",
              "    <tr>\n",
              "      <th>8</th>\n",
              "      <td>Good</td>\n",
              "      <td>4</td>\n",
              "      <td>2021-05-30</td>\n",
              "      <td>22:17:59</td>\n",
              "      <td>1.0</td>\n",
              "    </tr>\n",
              "    <tr>\n",
              "      <th>11</th>\n",
              "      <td>Good</td>\n",
              "      <td>5</td>\n",
              "      <td>2021-05-30</td>\n",
              "      <td>22:01:46</td>\n",
              "      <td>1.0</td>\n",
              "    </tr>\n",
              "    <tr>\n",
              "      <th>44</th>\n",
              "      <td>Good</td>\n",
              "      <td>5</td>\n",
              "      <td>2021-05-30</td>\n",
              "      <td>17:33:12</td>\n",
              "      <td>1.0</td>\n",
              "    </tr>\n",
              "    <tr>\n",
              "      <th>46</th>\n",
              "      <td>Good</td>\n",
              "      <td>5</td>\n",
              "      <td>2021-05-30</td>\n",
              "      <td>17:28:39</td>\n",
              "      <td>1.0</td>\n",
              "    </tr>\n",
              "    <tr>\n",
              "      <th>...</th>\n",
              "      <td>...</td>\n",
              "      <td>...</td>\n",
              "      <td>...</td>\n",
              "      <td>...</td>\n",
              "      <td>...</td>\n",
              "    </tr>\n",
              "    <tr>\n",
              "      <th>130198</th>\n",
              "      <td>Good</td>\n",
              "      <td>5</td>\n",
              "      <td>2020-01-02</td>\n",
              "      <td>12:21:38</td>\n",
              "      <td>1.0</td>\n",
              "    </tr>\n",
              "    <tr>\n",
              "      <th>130202</th>\n",
              "      <td>Nice</td>\n",
              "      <td>5</td>\n",
              "      <td>2020-01-02</td>\n",
              "      <td>12:12:53</td>\n",
              "      <td>1.0</td>\n",
              "    </tr>\n",
              "    <tr>\n",
              "      <th>130203</th>\n",
              "      <td>Good</td>\n",
              "      <td>5</td>\n",
              "      <td>2020-01-02</td>\n",
              "      <td>12:12:27</td>\n",
              "      <td>1.0</td>\n",
              "    </tr>\n",
              "    <tr>\n",
              "      <th>130225</th>\n",
              "      <td>nice</td>\n",
              "      <td>5</td>\n",
              "      <td>2020-01-02</td>\n",
              "      <td>05:42:03</td>\n",
              "      <td>1.0</td>\n",
              "    </tr>\n",
              "    <tr>\n",
              "      <th>130231</th>\n",
              "      <td>Convenient....</td>\n",
              "      <td>5</td>\n",
              "      <td>2020-01-02</td>\n",
              "      <td>00:52:00</td>\n",
              "      <td>1.0</td>\n",
              "    </tr>\n",
              "  </tbody>\n",
              "</table>\n",
              "<p>35495 rows × 5 columns</p>\n",
              "</div>"
            ],
            "text/plain": [
              "          final_review  score       Dates      Time  word_count\n",
              "2           Excellent!      5  2021-05-30  23:45:41         1.0\n",
              "8                 Good      4  2021-05-30  22:17:59         1.0\n",
              "11                Good      5  2021-05-30  22:01:46         1.0\n",
              "44                Good      5  2021-05-30  17:33:12         1.0\n",
              "46                Good      5  2021-05-30  17:28:39         1.0\n",
              "...                ...    ...         ...       ...         ...\n",
              "130198            Good      5  2020-01-02  12:21:38         1.0\n",
              "130202            Nice      5  2020-01-02  12:12:53         1.0\n",
              "130203            Good      5  2020-01-02  12:12:27         1.0\n",
              "130225            nice      5  2020-01-02  05:42:03         1.0\n",
              "130231  Convenient....      5  2020-01-02  00:52:00         1.0\n",
              "\n",
              "[35495 rows x 5 columns]"
            ]
          },
          "metadata": {
            "tags": []
          },
          "execution_count": 357
        }
      ]
    },
    {
      "cell_type": "code",
      "metadata": {
        "id": "ScKSA3NdpBWc"
      },
      "source": [
        "# Code block 2: remove emoticons\n",
        "\n",
        "# from emot.emo_unicode import UNICODE_EMO, EMOTICONS\n",
        "\n",
        "# Function for removing emoticons\n",
        "def remove_emoticons(text):\n",
        "    emoticon_pattern = re.compile(u'(' + u'|'.join(k for k in EMOTICONS) + u')')\n",
        "    return emoticon_pattern.sub(r'', text)\n"
      ],
      "execution_count": 358,
      "outputs": []
    },
    {
      "cell_type": "code",
      "metadata": {
        "id": "cEEFqPvjpBUJ",
        "colab": {
          "base_uri": "https://localhost:8080/",
          "height": 35
        },
        "outputId": "f49acc14-df6c-4c88-d4f3-2e0607893d0e"
      },
      "source": [
        "#Example\n",
        "remove_emoticons(\"I used to play Super Mario games :)\")"
      ],
      "execution_count": 359,
      "outputs": [
        {
          "output_type": "execute_result",
          "data": {
            "application/vnd.google.colaboratory.intrinsic+json": {
              "type": "string"
            },
            "text/plain": [
              "'I used to play Super Mario games '"
            ]
          },
          "metadata": {
            "tags": []
          },
          "execution_count": 359
        }
      ]
    },
    {
      "cell_type": "code",
      "metadata": {
        "id": "f6M_EzAIpBR0"
      },
      "source": [
        "# Applying remove emoticons code\n",
        "df2['final_review'] = df2['final_review'].apply(lambda x: remove_emoticons(x))"
      ],
      "execution_count": 360,
      "outputs": []
    },
    {
      "cell_type": "code",
      "metadata": {
        "id": "2m7Dz2O46e-u"
      },
      "source": [
        "df2['word_count'] = df2['final_review'].str.split().str.len()"
      ],
      "execution_count": 361,
      "outputs": []
    },
    {
      "cell_type": "code",
      "metadata": {
        "id": "TbCMWEv-6iUq",
        "colab": {
          "base_uri": "https://localhost:8080/"
        },
        "outputId": "6db9a6fb-f82a-4cda-8f63-52d8c45ed799"
      },
      "source": [
        "df2['word_count'].value_counts().sort_index().head(6)"
      ],
      "execution_count": 362,
      "outputs": [
        {
          "output_type": "execute_result",
          "data": {
            "text/plain": [
              "0     2810\n",
              "1    33170\n",
              "2    21874\n",
              "3    10145\n",
              "4     7572\n",
              "5     5751\n",
              "Name: word_count, dtype: int64"
            ]
          },
          "metadata": {
            "tags": []
          },
          "execution_count": 362
        }
      ]
    },
    {
      "cell_type": "code",
      "metadata": {
        "id": "Wb68E15s6rHy",
        "colab": {
          "base_uri": "https://localhost:8080/",
          "height": 419
        },
        "outputId": "90843855-b4d3-454e-a2a4-4147658a4bd2"
      },
      "source": [
        "df2.loc[df2['word_count'].isin([2])]"
      ],
      "execution_count": 363,
      "outputs": [
        {
          "output_type": "execute_result",
          "data": {
            "text/html": [
              "<div>\n",
              "<style scoped>\n",
              "    .dataframe tbody tr th:only-of-type {\n",
              "        vertical-align: middle;\n",
              "    }\n",
              "\n",
              "    .dataframe tbody tr th {\n",
              "        vertical-align: top;\n",
              "    }\n",
              "\n",
              "    .dataframe thead th {\n",
              "        text-align: right;\n",
              "    }\n",
              "</style>\n",
              "<table border=\"1\" class=\"dataframe\">\n",
              "  <thead>\n",
              "    <tr style=\"text-align: right;\">\n",
              "      <th></th>\n",
              "      <th>final_review</th>\n",
              "      <th>score</th>\n",
              "      <th>Dates</th>\n",
              "      <th>Time</th>\n",
              "      <th>word_count</th>\n",
              "    </tr>\n",
              "  </thead>\n",
              "  <tbody>\n",
              "    <tr>\n",
              "      <th>0</th>\n",
              "      <td>Very good</td>\n",
              "      <td>5</td>\n",
              "      <td>2021-05-30</td>\n",
              "      <td>23:59:34</td>\n",
              "      <td>2</td>\n",
              "    </tr>\n",
              "    <tr>\n",
              "      <th>4</th>\n",
              "      <td>Love it</td>\n",
              "      <td>5</td>\n",
              "      <td>2021-05-30</td>\n",
              "      <td>23:33:04</td>\n",
              "      <td>2</td>\n",
              "    </tr>\n",
              "    <tr>\n",
              "      <th>9</th>\n",
              "      <td>Nice app</td>\n",
              "      <td>5</td>\n",
              "      <td>2021-05-30</td>\n",
              "      <td>22:11:04</td>\n",
              "      <td>2</td>\n",
              "    </tr>\n",
              "    <tr>\n",
              "      <th>13</th>\n",
              "      <td>Verified now</td>\n",
              "      <td>5</td>\n",
              "      <td>2021-05-30</td>\n",
              "      <td>21:13:50</td>\n",
              "      <td>2</td>\n",
              "    </tr>\n",
              "    <tr>\n",
              "      <th>14</th>\n",
              "      <td>Can't online</td>\n",
              "      <td>1</td>\n",
              "      <td>2021-05-30</td>\n",
              "      <td>21:13:42</td>\n",
              "      <td>2</td>\n",
              "    </tr>\n",
              "    <tr>\n",
              "      <th>...</th>\n",
              "      <td>...</td>\n",
              "      <td>...</td>\n",
              "      <td>...</td>\n",
              "      <td>...</td>\n",
              "      <td>...</td>\n",
              "    </tr>\n",
              "    <tr>\n",
              "      <th>130223</th>\n",
              "      <td>Faster transaction</td>\n",
              "      <td>3</td>\n",
              "      <td>2020-01-02</td>\n",
              "      <td>07:39:58</td>\n",
              "      <td>2</td>\n",
              "    </tr>\n",
              "    <tr>\n",
              "      <th>130227</th>\n",
              "      <td>Great app</td>\n",
              "      <td>5</td>\n",
              "      <td>2020-01-02</td>\n",
              "      <td>02:25:38</td>\n",
              "      <td>2</td>\n",
              "    </tr>\n",
              "    <tr>\n",
              "      <th>130228</th>\n",
              "      <td>nice app</td>\n",
              "      <td>5</td>\n",
              "      <td>2020-01-02</td>\n",
              "      <td>02:08:09</td>\n",
              "      <td>2</td>\n",
              "    </tr>\n",
              "    <tr>\n",
              "      <th>130229</th>\n",
              "      <td>Love it!!!</td>\n",
              "      <td>5</td>\n",
              "      <td>2020-01-02</td>\n",
              "      <td>01:22:27</td>\n",
              "      <td>2</td>\n",
              "    </tr>\n",
              "    <tr>\n",
              "      <th>130232</th>\n",
              "      <td>Ok nman</td>\n",
              "      <td>4</td>\n",
              "      <td>2020-01-02</td>\n",
              "      <td>00:14:19</td>\n",
              "      <td>2</td>\n",
              "    </tr>\n",
              "  </tbody>\n",
              "</table>\n",
              "<p>21874 rows × 5 columns</p>\n",
              "</div>"
            ],
            "text/plain": [
              "              final_review  score       Dates      Time  word_count\n",
              "0                Very good      5  2021-05-30  23:59:34           2\n",
              "4                  Love it      5  2021-05-30  23:33:04           2\n",
              "9                 Nice app      5  2021-05-30  22:11:04           2\n",
              "13            Verified now      5  2021-05-30  21:13:50           2\n",
              "14            Can't online      1  2021-05-30  21:13:42           2\n",
              "...                    ...    ...         ...       ...         ...\n",
              "130223  Faster transaction      3  2020-01-02  07:39:58           2\n",
              "130227           Great app      5  2020-01-02  02:25:38           2\n",
              "130228            nice app      5  2020-01-02  02:08:09           2\n",
              "130229          Love it!!!      5  2020-01-02  01:22:27           2\n",
              "130232             Ok nman      4  2020-01-02  00:14:19           2\n",
              "\n",
              "[21874 rows x 5 columns]"
            ]
          },
          "metadata": {
            "tags": []
          },
          "execution_count": 363
        }
      ]
    },
    {
      "cell_type": "markdown",
      "metadata": {
        "id": "1ZTZZsvPs7qH"
      },
      "source": [
        "#### Remove \\n, \\t, \\r"
      ]
    },
    {
      "cell_type": "code",
      "metadata": {
        "id": "EyJMBkgJpBPZ",
        "colab": {
          "base_uri": "https://localhost:8080/",
          "height": 52
        },
        "outputId": "1369772f-7e2c-497e-f9dc-cd9077ce9e5b"
      },
      "source": [
        "df2['final_review'][12]"
      ],
      "execution_count": 364,
      "outputs": [
        {
          "output_type": "execute_result",
          "data": {
            "application/vnd.google.colaboratory.intrinsic+json": {
              "type": "string"
            },
            "text/plain": [
              "\"How dare you charged us for over the counter cash ins that's insane! You guys are such a ripped off! Just because the app is booming doesn't mean you can ripped us off anytime you want now! Bastards \""
            ]
          },
          "metadata": {
            "tags": []
          },
          "execution_count": 364
        }
      ]
    },
    {
      "cell_type": "code",
      "metadata": {
        "id": "ivmQynWXq0Tf"
      },
      "source": [
        "# Remove \\r \\n \\t\n",
        "df2['final_review'] = df2['final_review'].replace(r'\\r+|\\n+|\\t+',' ', regex=True)"
      ],
      "execution_count": 365,
      "outputs": []
    },
    {
      "cell_type": "code",
      "metadata": {
        "id": "9FmRYWRPrzrk",
        "colab": {
          "base_uri": "https://localhost:8080/",
          "height": 52
        },
        "outputId": "1d43a80b-dfef-4418-edb5-bdfcb60ae106"
      },
      "source": [
        "df2['final_review'][12]"
      ],
      "execution_count": 366,
      "outputs": [
        {
          "output_type": "execute_result",
          "data": {
            "application/vnd.google.colaboratory.intrinsic+json": {
              "type": "string"
            },
            "text/plain": [
              "\"How dare you charged us for over the counter cash ins that's insane! You guys are such a ripped off! Just because the app is booming doesn't mean you can ripped us off anytime you want now! Bastards \""
            ]
          },
          "metadata": {
            "tags": []
          },
          "execution_count": 366
        }
      ]
    },
    {
      "cell_type": "markdown",
      "metadata": {
        "id": "b5flG9ahs_Uf"
      },
      "source": [
        "#### Convert reviews to lowercase"
      ]
    },
    {
      "cell_type": "code",
      "metadata": {
        "id": "4bzVVHrhr05N",
        "colab": {
          "base_uri": "https://localhost:8080/"
        },
        "outputId": "345a9d4b-7eb6-4fb3-87da-7960239c75b3"
      },
      "source": [
        "df2['final_review'] = df2['final_review'].apply(lambda x: \" \".join(x.lower() for x in x.split()))\n",
        "df2['final_review'].head()"
      ],
      "execution_count": 367,
      "outputs": [
        {
          "output_type": "execute_result",
          "data": {
            "text/plain": [
              "0                                         very good\n",
              "1                                 so good app to me\n",
              "2                                        excellent!\n",
              "3    it is easy to sending money and load by gcash.\n",
              "4                                           love it\n",
              "Name: final_review, dtype: object"
            ]
          },
          "metadata": {
            "tags": []
          },
          "execution_count": 367
        }
      ]
    },
    {
      "cell_type": "markdown",
      "metadata": {
        "id": "IK-5OOm1tA_8"
      },
      "source": [
        "#### Removing URLS"
      ]
    },
    {
      "cell_type": "code",
      "metadata": {
        "id": "fB1_dc9DtAx1",
        "colab": {
          "base_uri": "https://localhost:8080/"
        },
        "outputId": "a8bb8717-5752-4467-c8ac-d007faa1bb2d"
      },
      "source": [
        "# import re\n",
        "\n",
        "def remove_urls (vTEXT):\n",
        "    vTEXT = re.sub(r'(https|http)?:\\/\\/(\\w|\\.|\\/|\\?|\\=|\\&|\\%)*\\b', '', vTEXT, flags=re.MULTILINE)\n",
        "    return(vTEXT)\n",
        "\n",
        "df2['final_review'] = df2.final_review.apply(remove_urls)\n",
        "df2.final_review.head()"
      ],
      "execution_count": 368,
      "outputs": [
        {
          "output_type": "execute_result",
          "data": {
            "text/plain": [
              "0                                         very good\n",
              "1                                 so good app to me\n",
              "2                                        excellent!\n",
              "3    it is easy to sending money and load by gcash.\n",
              "4                                           love it\n",
              "Name: final_review, dtype: object"
            ]
          },
          "metadata": {
            "tags": []
          },
          "execution_count": 368
        }
      ]
    },
    {
      "cell_type": "markdown",
      "metadata": {
        "id": "KqalMpi-tAPy"
      },
      "source": [
        "#### Expand Contractions\n",
        "\n",
        "Contractions are words or combinations of words which are shortened by dropping letters and replacing them by an apostrophe. \n",
        "\n",
        "Let’s have a look at some examples:\n",
        "* we’re = we are\n",
        "* we’ve = we have\n",
        "* I’d = I would\n",
        "\n",
        "Note: This step needs to be done before word tokenizer because NLTK word tokenizer has in-built methods for dealing with contractions. However, NLTK word tokenizer's approach separates contractions without expanding. Expanding is a better method than simply separating."
      ]
    },
    {
      "cell_type": "code",
      "metadata": {
        "id": "lJEvu_uqt2-B",
        "colab": {
          "base_uri": "https://localhost:8080/"
        },
        "outputId": "379bcb8d-0a89-4a9f-fac3-a199f8495a9e"
      },
      "source": [
        "# import contractions\n",
        "\n",
        "# Example text \n",
        "text = ''' She'll be airport in 30 mins. We are supposed to catch the arrival, aren't we?  \n",
        "          I'd love to welcome her personally. It'll be an awesome vacation.'''\n",
        "  \n",
        "# creating an empty list \n",
        "expanded_words = []     \n",
        "for word in text.split(): \n",
        "  # using contractions.fix to expand the shotened words \n",
        "  expanded_words.append(contractions.fix(word))    \n",
        "    \n",
        "expanded_text = ' '.join(expanded_words) \n",
        "print('Original text: ' + text) \n",
        "print('\\n') \n",
        "print('Expanded_text: ' + expanded_text)"
      ],
      "execution_count": 369,
      "outputs": [
        {
          "output_type": "stream",
          "text": [
            "Original text:  She'll be airport in 30 mins. We are supposed to catch the arrival, aren't we?  \n",
            "          I'd love to welcome her personally. It'll be an awesome vacation.\n",
            "\n",
            "\n",
            "Expanded_text: she will be airport in 30 mins. We are supposed to catch the arrival, are not we? I would love to welcome her personally. it will be an awesome vacation.\n"
          ],
          "name": "stdout"
        }
      ]
    },
    {
      "cell_type": "code",
      "metadata": {
        "id": "N0IDX825uCsp",
        "colab": {
          "base_uri": "https://localhost:8080/"
        },
        "outputId": "5d64d28a-2bb4-4385-fd4a-785916acd60a"
      },
      "source": [
        "df2['final_review'] = df2['final_review'].apply(lambda x: contractions.fix(x))\n",
        "df2.final_review.sample(5)"
      ],
      "execution_count": 370,
      "outputs": [
        {
          "output_type": "execute_result",
          "data": {
            "text/plain": [
              "114401    not working on cash-in always recieve this err...\n",
              "36225                                                better\n",
              "90672     why cannot update mg gcash in my phone. i true...\n",
              "127008                                                   ok\n",
              "5344                           its good and easy save money\n",
              "Name: final_review, dtype: object"
            ]
          },
          "metadata": {
            "tags": []
          },
          "execution_count": 370
        }
      ]
    },
    {
      "cell_type": "markdown",
      "metadata": {
        "id": "p4bv6vQhrNSX"
      },
      "source": [
        "#### Separating good and bad reviews into separate dataframes"
      ]
    },
    {
      "cell_type": "code",
      "metadata": {
        "id": "Zl_8q8fZrOf6"
      },
      "source": [
        "df2 = df2.reset_index()"
      ],
      "execution_count": 371,
      "outputs": []
    },
    {
      "cell_type": "code",
      "metadata": {
        "id": "99VN8PK0up3w"
      },
      "source": [
        "df_goodreviews = df2.loc[df2['score'].isin([4,5])].copy()\n",
        "df_badreviews = df2.loc[df2['score'].isin([1,2,3])].copy()"
      ],
      "execution_count": 372,
      "outputs": []
    },
    {
      "cell_type": "code",
      "metadata": {
        "id": "jN7p7nXJu3Oo",
        "colab": {
          "base_uri": "https://localhost:8080/"
        },
        "outputId": "014aeba5-8369-4ede-e524-920e9446b620"
      },
      "source": [
        "print(f'df_good_reviews: {df_goodreviews.shape}')\n",
        "print(f'df_bad_reviews: {df_badreviews.shape}')"
      ],
      "execution_count": 373,
      "outputs": [
        {
          "output_type": "stream",
          "text": [
            "df_good_reviews: (87282, 6)\n",
            "df_bad_reviews: (42951, 6)\n"
          ],
          "name": "stdout"
        }
      ]
    },
    {
      "cell_type": "code",
      "metadata": {
        "colab": {
          "base_uri": "https://localhost:8080/"
        },
        "id": "S9lbfpjNdaLI",
        "outputId": "b8ef8c2a-33cd-47dc-cc51-1e3428f764c8"
      },
      "source": [
        "df2['score'].value_counts()"
      ],
      "execution_count": 374,
      "outputs": [
        {
          "output_type": "execute_result",
          "data": {
            "text/plain": [
              "5    76657\n",
              "1    28226\n",
              "4    10625\n",
              "3     8576\n",
              "2     6149\n",
              "Name: score, dtype: int64"
            ]
          },
          "metadata": {
            "tags": []
          },
          "execution_count": 374
        }
      ]
    },
    {
      "cell_type": "markdown",
      "metadata": {
        "id": "d_pLdqoI5EDQ"
      },
      "source": [
        "## Part 3: Modeling"
      ]
    },
    {
      "cell_type": "markdown",
      "metadata": {
        "id": "b8n-F4EhvhOi"
      },
      "source": [
        "#### Download nltk English stopwords and spacy model (EN for lemmatization)"
      ]
    },
    {
      "cell_type": "code",
      "metadata": {
        "id": "eQKmjCz9AKZZ",
        "colab": {
          "base_uri": "https://localhost:8080/"
        },
        "outputId": "845a2743-37a3-418f-8d34-ee7755061b7f"
      },
      "source": [
        "# Run in python console\n",
        "# import nltk\n",
        "nltk.download('stopwords')\n",
        "\n",
        "# Run in terminal or command prompt\n",
        "#!python3 -m spacy download |en"
      ],
      "execution_count": 375,
      "outputs": [
        {
          "output_type": "stream",
          "text": [
            "[nltk_data] Downloading package stopwords to /root/nltk_data...\n",
            "[nltk_data]   Package stopwords is already up-to-date!\n"
          ],
          "name": "stdout"
        },
        {
          "output_type": "execute_result",
          "data": {
            "text/plain": [
              "True"
            ]
          },
          "metadata": {
            "tags": []
          },
          "execution_count": 375
        }
      ]
    },
    {
      "cell_type": "markdown",
      "metadata": {
        "id": "SPNjyX4XwFIN"
      },
      "source": [
        "#### Prepare Stop Words (English + Tagalog)"
      ]
    },
    {
      "cell_type": "markdown",
      "metadata": {
        "id": "T0wNs4p4xds6"
      },
      "source": [
        "Sources for English stopwords: \n",
        "1. nltk library\n",
        "\n",
        "Sources for Tagalog stopwords:\n",
        "1. Typical Stop Words: https://github.com/stopwords-iso/stopwords-tl/blob/master/stopwords-tl.json\n",
        "2. Profanity : https://github.com/jromest/filipino-badwords-list/blob/master/src/filipino-badwords-list.js"
      ]
    },
    {
      "cell_type": "code",
      "metadata": {
        "id": "LYiereaOAKW9"
      },
      "source": [
        "# from nltk.corpus import stopwords\n",
        "stop_words = stopwords.words('english')"
      ],
      "execution_count": 376,
      "outputs": []
    },
    {
      "cell_type": "code",
      "metadata": {
        "id": "l2cm8VtAyuLd"
      },
      "source": [
        "# import json\n",
        "with open('/content/drive/My Drive/Data/stopwords/tagalog-sw') as file:\n",
        "    tl_stopwords = json.load(file)"
      ],
      "execution_count": 377,
      "outputs": []
    },
    {
      "cell_type": "code",
      "metadata": {
        "id": "YDQe2AUVAKUL"
      },
      "source": [
        "# Extend stopwords to include tagalog + common gcash related words \n",
        "stop_words.extend(tl_stopwords)\n",
        "stop_words.extend(['gcash','g-cash','po', 'app', 'would','can'])\n",
        "stop_words.extend(['nyo','naman','yung', 'di', 'wala ','mag', 'nag', 'pag', 'kayo', 'lang', 'ung', 'niyo', 'tapos', 'ba', 'mo', 'please', 'pls'])\n",
        "stop_words.extend(['nga','yan','yun', 'akong', 'inyo', 'ur', 'star', 'nalang', 'kasi', 'talaga'])\n",
        "stop_words.extend(['nmn', 'nlng','un','blah', 'tru', 'pwede','like','one','globe', 'guys', 'even', 'seems', 'hi', 'guess'])"
      ],
      "execution_count": 378,
      "outputs": []
    },
    {
      "cell_type": "markdown",
      "metadata": {
        "id": "EawABx5ezfTs"
      },
      "source": [
        "#### Tokenize and Clean Up Text some more"
      ]
    },
    {
      "cell_type": "code",
      "metadata": {
        "id": "GWCgWkfwzw8_",
        "colab": {
          "base_uri": "https://localhost:8080/"
        },
        "outputId": "6f6963f9-5f47-4c0a-f394-47dec750c18e"
      },
      "source": [
        "# Check columns\n",
        "df_badreviews.columns"
      ],
      "execution_count": 379,
      "outputs": [
        {
          "output_type": "execute_result",
          "data": {
            "text/plain": [
              "Index(['index', 'final_review', 'score', 'Dates', 'Time', 'word_count'], dtype='object')"
            ]
          },
          "metadata": {
            "tags": []
          },
          "execution_count": 379
        }
      ]
    },
    {
      "cell_type": "code",
      "metadata": {
        "id": "CiyZWUgoAKPP"
      },
      "source": [
        "# Convert the review columns into a list\n",
        "bad_reviews = df_badreviews.final_review.values.tolist()\n",
        "good_reviews = df_goodreviews.final_review.values.tolist()"
      ],
      "execution_count": 380,
      "outputs": []
    },
    {
      "cell_type": "code",
      "metadata": {
        "id": "a7oTzNi0AKJ8"
      },
      "source": [
        "# Define a function to tokenize and remove punctuations\n",
        "def sent_to_words(sentences):\n",
        "    for sentence in sentences:\n",
        "        yield(gensim.utils.simple_preprocess(str(sentence), deacc=True))  # deacc=True removes punctuations\n",
        "\n",
        "br_words = list(sent_to_words(bad_reviews))\n",
        "gr_words = list(sent_to_words(good_reviews))"
      ],
      "execution_count": 381,
      "outputs": []
    },
    {
      "cell_type": "markdown",
      "metadata": {
        "id": "r8mtTpdl0quz"
      },
      "source": [
        "#### Create Bigram and Trigram Models\n",
        "\n",
        "Bigrams are two words frequently occurring together in the document. Trigrams are 3 words frequently occurring.\n",
        "\n",
        "Gensim’s Phrases model can build and implement the bigrams, trigrams, quadgrams and more. The two important arguments to Phrases are *min_count* and *threshold*. The higher the values of these param, the harder it is for words to be combined to bigrams."
      ]
    },
    {
      "cell_type": "markdown",
      "metadata": {
        "id": "7JD9fxfz1pFz"
      },
      "source": [
        "###### Bigram and Trigram for good reviews"
      ]
    },
    {
      "cell_type": "code",
      "metadata": {
        "id": "lBDYjEis0pzt",
        "colab": {
          "base_uri": "https://localhost:8080/"
        },
        "outputId": "7d9a0e26-5bac-4576-bd4e-c30e9d67187c"
      },
      "source": [
        "# Build the bigram and trigram models\n",
        "g_bigram = gensim.models.Phrases(gr_words, min_count=5, threshold=80) # higher threshold fewer phrases.\n",
        "g_trigram = gensim.models.Phrases(g_bigram[gr_words], threshold=80)  \n",
        "\n",
        "# Faster way to get a sentence clubbed as a trigram/bigram\n",
        "g_bigram_mod = gensim.models.phrases.Phraser(g_bigram)\n",
        "g_trigram_mod = gensim.models.phrases.Phraser(g_trigram)\n",
        "\n",
        "# See trigram example\n",
        "print(g_trigram_mod[g_bigram_mod[gr_words[0]]])"
      ],
      "execution_count": 382,
      "outputs": [
        {
          "output_type": "stream",
          "text": [
            "/usr/local/lib/python3.7/dist-packages/gensim/models/phrases.py:598: UserWarning: For a faster implementation, use the gensim.models.phrases.Phraser class\n",
            "  warnings.warn(\"For a faster implementation, use the gensim.models.phrases.Phraser class\")\n"
          ],
          "name": "stderr"
        },
        {
          "output_type": "stream",
          "text": [
            "['very', 'good']\n"
          ],
          "name": "stdout"
        }
      ]
    },
    {
      "cell_type": "markdown",
      "metadata": {
        "id": "bmhI-H_G1t4J"
      },
      "source": [
        "##### Bigram and Trigam for bad reviews"
      ]
    },
    {
      "cell_type": "code",
      "metadata": {
        "id": "P4k8Vxck1tSD",
        "colab": {
          "base_uri": "https://localhost:8080/"
        },
        "outputId": "cdb5701b-a115-4ff4-e446-707bb6e7a30a"
      },
      "source": [
        "# Build the bigram and trigram models\n",
        "b_bigram = gensim.models.Phrases(br_words, min_count=5, threshold=80) # higher threshold fewer phrases.\n",
        "b_trigram = gensim.models.Phrases(b_bigram[br_words], threshold=80)  \n",
        "\n",
        "# Faster way to get a sentence clubbed as a trigram/bigram\n",
        "b_bigram_mod = gensim.models.phrases.Phraser(b_bigram)\n",
        "b_trigram_mod = gensim.models.phrases.Phraser(b_trigram)\n",
        "\n",
        "# See trigram example\n",
        "print(b_trigram_mod[b_bigram_mod[br_words[3]]])"
      ],
      "execution_count": 383,
      "outputs": [
        {
          "output_type": "stream",
          "text": [
            "/usr/local/lib/python3.7/dist-packages/gensim/models/phrases.py:598: UserWarning: For a faster implementation, use the gensim.models.phrases.Phraser class\n",
            "  warnings.warn(\"For a faster implementation, use the gensim.models.phrases.Phraser class\")\n"
          ],
          "name": "stderr"
        },
        {
          "output_type": "stream",
          "text": [
            "['super', 'hustle', 'everytime', 'tried', 'to', 'load', 'my', 'phone', 'its', 'always', 'error', 'what', 'happened', 'to', 'you', 'gcash', 'poor', 'service']\n"
          ],
          "name": "stdout"
        }
      ]
    },
    {
      "cell_type": "markdown",
      "metadata": {
        "id": "grbjonTM1tAF"
      },
      "source": [
        "#### Remove Stopwords, Make Bigrams and Lemmatize (Eng. words only)"
      ]
    },
    {
      "cell_type": "markdown",
      "metadata": {
        "id": "Vc5ag-703kef"
      },
      "source": [
        "##### Functionalizing the steps"
      ]
    },
    {
      "cell_type": "markdown",
      "metadata": {
        "id": "QdIF5ctGfCi5"
      },
      "source": [
        "I have excluded lemmatization as it brought out errant results when added to tagalog corpus."
      ]
    },
    {
      "cell_type": "code",
      "metadata": {
        "id": "EV5GtCL62rV_"
      },
      "source": [
        "# Define functions for stopwords, bigrams, trigrams and lemmatization\n",
        "def remove_stopwords(texts):\n",
        "    return [[word for word in simple_preprocess(str(doc)) if word not in stop_words] for doc in texts]\n",
        "\n",
        "def g_make_bigrams(texts):\n",
        "    return [g_bigram_mod[doc] for doc in texts]\n",
        "\n",
        "def g_make_trigrams(texts):\n",
        "    return [g_trigram_mod[g_bigram_mod[doc]] for doc in texts]\n",
        "\n",
        "def b_make_bigrams(texts):\n",
        "    return [b_bigram_mod[doc] for doc in texts]\n",
        "\n",
        "def b_make_trigrams(texts):\n",
        "    return [b_trigram_mod[b_bigram_mod[doc]] for doc in texts]\n",
        "\n",
        "def lemmatization(texts, allowed_postags=['NOUN', 'ADJ', 'VERB', 'ADV']):\n",
        "    \"\"\"https://spacy.io/api/annotation\"\"\"\n",
        "    texts_out = []\n",
        "    for sent in texts:\n",
        "        doc = nlp(\" \".join(sent)) \n",
        "        texts_out.append([token.lemma_ for token in doc if token.pos_ in allowed_postags])\n",
        "    return texts_out"
      ],
      "execution_count": 384,
      "outputs": []
    },
    {
      "cell_type": "markdown",
      "metadata": {
        "id": "ypqJB4cf3rc5"
      },
      "source": [
        "##### Applying the functions to tokenized bad and good reviews\n"
      ]
    },
    {
      "cell_type": "code",
      "metadata": {
        "id": "Yt_vQgw93e5e"
      },
      "source": [
        "# APPLYING TO TOKENIZED GOOD REVIEWS\n",
        "\n",
        "# Remove Stop Words\n",
        "gr_words_nostops = remove_stopwords(gr_words)\n",
        "\n",
        "# ### REMOVED LEMMATIZATION COS IT AFFECTS THE TAGALOG WORDS / TAGALOG WORDS ARE RENDERED INEFFECTIVE\n",
        "# # Initialize spacy 'en' model, keeping only tagger component (for efficiency)\n",
        "# # python3 -m spacy download en\n",
        "# nlp = spacy.load('en', disable=['parser', 'ner'])\n",
        "\n",
        "# # Do lemmatization keeping only noun, adj, vb, adv\n",
        "# gr_lemmatized = lemmatization(gr_words_nostops, allowed_postags=['NOUN', 'ADJ', 'VERB', 'ADV'])\n",
        "\n",
        "\n",
        "# Form Bigrams\n",
        "gr_words_bigrams = g_make_bigrams(gr_words_nostops)\n",
        "\n",
        "# Form Trigrams\n",
        "gr_words_trigrams = g_make_trigrams(gr_words_bigrams)\n"
      ],
      "execution_count": 385,
      "outputs": []
    },
    {
      "cell_type": "code",
      "metadata": {
        "id": "cw_CtXO073vr",
        "colab": {
          "base_uri": "https://localhost:8080/"
        },
        "outputId": "f56ac6b2-22be-4105-eb58-bd039ff98af2"
      },
      "source": [
        "gr_words_trigrams[13]"
      ],
      "execution_count": 386,
      "outputs": [
        {
          "output_type": "execute_result",
          "data": {
            "text/plain": [
              "['nice', 'love']"
            ]
          },
          "metadata": {
            "tags": []
          },
          "execution_count": 386
        }
      ]
    },
    {
      "cell_type": "code",
      "metadata": {
        "id": "egBnFj1l47Mh"
      },
      "source": [
        "# APPLYING TO TOKENIZED BAD REVIEWS\n",
        "\n",
        "# Remove Stop Words\n",
        "br_words_nostops = remove_stopwords(br_words)\n",
        "\n",
        "# ## REMOVED LEMMATIZATION COS IT AFFECTS THE TAGALOG WORDS / TAGALOG WORDS ARE RENDERED INEFFECTIVE\n",
        "# # Initialize spacy 'en' model, keeping only tagger component (for efficiency)\n",
        "# # python3 -m spacy download en\n",
        "# nlp = spacy.load('en', disable=['parser', 'ner'])\n",
        "\n",
        "# # Do lemmatization keeping only noun, adj, vb, adv\n",
        "# br_lemmatized = lemmatization(br_words_nostops, allowed_postags=['NOUN', 'ADJ', 'VERB', 'ADV'])\n",
        "\n",
        "# Form Bigrams\n",
        "br_words_bigrams = b_make_bigrams(br_words_nostops)\n",
        "\n",
        "br_words_trigrams = b_make_trigrams(br_words_bigrams)\n",
        "\n",
        "\n"
      ],
      "execution_count": 387,
      "outputs": []
    },
    {
      "cell_type": "code",
      "metadata": {
        "id": "0H5-OosG8ffy",
        "colab": {
          "base_uri": "https://localhost:8080/"
        },
        "outputId": "0a2fa8ad-2c4d-4401-89bf-3ca0da15a844"
      },
      "source": [
        "br_words_trigrams[3]\n"
      ],
      "execution_count": 388,
      "outputs": [
        {
          "output_type": "execute_result",
          "data": {
            "text/plain": [
              "['super',\n",
              " 'hustle',\n",
              " 'everytime',\n",
              " 'tried',\n",
              " 'load',\n",
              " 'phone',\n",
              " 'always',\n",
              " 'error',\n",
              " 'happened',\n",
              " 'poor',\n",
              " 'service']"
            ]
          },
          "metadata": {
            "tags": []
          },
          "execution_count": 388
        }
      ]
    },
    {
      "cell_type": "markdown",
      "metadata": {
        "id": "DxkCG6bj5gtI"
      },
      "source": [
        "#### Create the Dictionary and Corpus needed for Topic Modeling\n",
        "\n",
        "The two main inputs to the LDA topic model are the dictionary(id2word) and the corpus. Let’s create them."
      ]
    },
    {
      "cell_type": "markdown",
      "metadata": {
        "id": "FbBHHqt-5vdE"
      },
      "source": [
        "##### Good Reviews -  Dictionary and Corpus"
      ]
    },
    {
      "cell_type": "code",
      "metadata": {
        "id": "QYNUGf6w6jIa",
        "colab": {
          "base_uri": "https://localhost:8080/"
        },
        "outputId": "4d514f6d-c9c6-4a52-bd3f-18550aab12d9"
      },
      "source": [
        "# Create Dictionary\n",
        "g_id2word = corpora.Dictionary(gr_words_trigrams)\n",
        "g_id2word.filter_extremes(no_below=10, no_above=0.35)\n",
        "g_id2word.compactify()\n",
        "\n",
        "# Create Corpus\n",
        "g_texts = gr_words_trigrams\n",
        "\n",
        "# Term Document Frequency\n",
        "g_corpus = [g_id2word.doc2bow(text) for text in g_texts]\n",
        "\n",
        "# View\n",
        "print(g_corpus[:1])"
      ],
      "execution_count": 389,
      "outputs": [
        {
          "output_type": "stream",
          "text": [
            "[[(0, 1)]]\n"
          ],
          "name": "stdout"
        }
      ]
    },
    {
      "cell_type": "markdown",
      "metadata": {
        "id": "sGYpY3DG5zQq"
      },
      "source": [
        "##### Bad Reviews -  Dictionary and Corpus"
      ]
    },
    {
      "cell_type": "code",
      "metadata": {
        "id": "_9ZYxwth51Q3",
        "colab": {
          "base_uri": "https://localhost:8080/"
        },
        "outputId": "c5b0070f-423d-4f39-bc7f-1a1db557eef1"
      },
      "source": [
        "# Create Dictionary\n",
        "b_id2word = corpora.Dictionary(br_words_trigrams)\n",
        "b_id2word.filter_extremes(no_below=10, no_above=0.35)\n",
        "b_id2word.compactify()\n",
        "\n",
        "# Create Corpus\n",
        "b_texts = br_words_trigrams\n",
        "\n",
        "# Term Document Frequency\n",
        "b_corpus = [b_id2word.doc2bow(text) for text in b_texts]\n",
        "\n",
        "# View\n",
        "print(b_corpus[:1])"
      ],
      "execution_count": 390,
      "outputs": [
        {
          "output_type": "stream",
          "text": [
            "[[(0, 1), (1, 1), (2, 1), (3, 1), (4, 1), (5, 1), (6, 1), (7, 1), (8, 1), (9, 1), (10, 1), (11, 1), (12, 1), (13, 1), (14, 1), (15, 1), (16, 1), (17, 1), (18, 1), (19, 1), (20, 1), (21, 1), (22, 1), (23, 1), (24, 1), (25, 1)]]\n"
          ],
          "name": "stdout"
        }
      ]
    },
    {
      "cell_type": "markdown",
      "metadata": {
        "id": "NkjOukTZ6RNP"
      },
      "source": [
        "#### Building the Topic Model"
      ]
    },
    {
      "cell_type": "markdown",
      "metadata": {
        "id": "jpte7nuy6Vfh"
      },
      "source": [
        "##### Optizing Number of Topics for Good Reviews"
      ]
    },
    {
      "cell_type": "code",
      "metadata": {
        "id": "YVCfa-Gz6U7R"
      },
      "source": [
        "# Build initial LDA model\n",
        "lda_model = gensim.models.ldamodel.LdaModel(corpus=g_corpus,\n",
        "                                           id2word=g_id2word,\n",
        "                                           num_topics=6, \n",
        "                                           random_state=100,\n",
        "                                           update_every=1,\n",
        "                                           chunksize=100,\n",
        "                                           passes=10,\n",
        "                                           alpha='auto',\n",
        "                                           per_word_topics=True)"
      ],
      "execution_count": null,
      "outputs": []
    },
    {
      "cell_type": "code",
      "metadata": {
        "id": "2vV8hMAt6l22",
        "colab": {
          "base_uri": "https://localhost:8080/"
        },
        "outputId": "c580618d-8d97-4a3d-c4aa-2e20edab1ab2"
      },
      "source": [
        "print(json.dumps(lda_model.print_topics(), indent=1))"
      ],
      "execution_count": 392,
      "outputs": [
        {
          "output_type": "stream",
          "text": [
            "[\n",
            " [\n",
            "  0,\n",
            "  \"0.286*\\\"nice\\\" + 0.178*\\\"great\\\" + 0.074*\\\"excellent\\\" + 0.049*\\\"amazing\\\" + 0.027*\\\"hassle\\\" + 0.024*\\\"far\\\" + 0.022*\\\"satisfied\\\" + 0.020*\\\"much\\\" + 0.018*\\\"application\\\" + 0.017*\\\"wow\\\"\"\n",
            " ],\n",
            " [\n",
            "  1,\n",
            "  \"0.090*\\\"awesome\\\" + 0.071*\\\"thank\\\" + 0.043*\\\"transaction\\\" + 0.038*\\\"account\\\" + 0.038*\\\"paying\\\" + 0.033*\\\"verry\\\" + 0.027*\\\"hope\\\" + 0.017*\\\"payments\\\" + 0.017*\\\"wallet\\\" + 0.015*\\\"savings\\\"\"\n",
            " ],\n",
            " [\n",
            "  2,\n",
            "  \"0.309*\\\"good\\\" + 0.084*\\\"easy\\\" + 0.083*\\\"use\\\" + 0.078*\\\"convenient\\\" + 0.066*\\\"ok\\\" + 0.066*\\\"love\\\" + 0.043*\\\"helpful\\\" + 0.042*\\\"bills\\\" + 0.037*\\\"pay\\\" + 0.021*\\\"usefull\\\"\"\n",
            " ],\n",
            " [\n",
            "  3,\n",
            "  \"0.090*\\\"money\\\" + 0.041*\\\"fast\\\" + 0.040*\\\"bank\\\" + 0.040*\\\"service\\\" + 0.036*\\\"transfer\\\" + 0.031*\\\"payment\\\" + 0.029*\\\"update\\\" + 0.025*\\\"happy\\\" + 0.023*\\\"problem\\\" + 0.021*\\\"send\\\"\"\n",
            " ],\n",
            " [\n",
            "  4,\n",
            "  \"0.147*\\\"useful\\\" + 0.142*\\\"apps\\\" + 0.059*\\\"best\\\" + 0.044*\\\"thanks\\\" + 0.039*\\\"really\\\" + 0.034*\\\"transactions\\\" + 0.033*\\\"cannot\\\" + 0.033*\\\"help\\\" + 0.030*\\\"need\\\" + 0.027*\\\"time\\\"\"\n",
            " ],\n",
            " [\n",
            "  5,\n",
            "  \"0.088*\\\"load\\\" + 0.052*\\\"cash\\\" + 0.037*\\\"free\\\" + 0.037*\\\"using\\\" + 0.036*\\\"buy\\\" + 0.029*\\\"online\\\" + 0.026*\\\"experience\\\" + 0.019*\\\"gcredit\\\" + 0.017*\\\"always\\\" + 0.016*\\\"access\\\"\"\n",
            " ]\n",
            "]\n"
          ],
          "name": "stdout"
        }
      ]
    },
    {
      "cell_type": "code",
      "metadata": {
        "id": "y7UkXohwiGLc"
      },
      "source": [
        "# supporting function\n",
        "def compute_coherence_values(corpus, dictionary, k, a, b):\n",
        "    \n",
        "    lda_model = gensim.models.LdaMulticore(corpus=corpus,\n",
        "                                           id2word=dictionary,\n",
        "                                           num_topics=k, \n",
        "                                           random_state=100,\n",
        "                                           chunksize=100,\n",
        "                                           passes=10,\n",
        "                                           alpha=a,\n",
        "                                           eta=b)\n",
        "    \n",
        "    coherence_model_lda = CoherenceModel(model=lda_model, texts=gr_words_trigrams, dictionary=g_id2word, coherence='c_v')\n",
        "    \n",
        "    return coherence_model_lda.get_coherence()"
      ],
      "execution_count": 393,
      "outputs": []
    },
    {
      "cell_type": "code",
      "metadata": {
        "id": "QGpLrN7hn2lB"
      },
      "source": [
        "# #Optimizing topic models\n",
        "\n",
        "# import numpy as np\n",
        "# import tqdm\n",
        "# grid = {}\n",
        "# grid['Validation_Set'] = {}\n",
        "# # Topics range\n",
        "# min_topics = 2\n",
        "# max_topics = 8\n",
        "# step_size = 1\n",
        "# topics_range = range(min_topics, max_topics, step_size)\n",
        "# # Alpha parameter\n",
        "# alpha = list(np.arange(0.01, 1, 0.3))\n",
        "# alpha.append('symmetric')\n",
        "# alpha.append('asymmetric')\n",
        "# # Beta parameter\n",
        "# beta = list(np.arange(0.01, 1, 0.3))\n",
        "# beta.append('symmetric')\n",
        "# # Validation sets\n",
        "# num_of_docs = len(g_corpus)\n",
        "# corpus_sets = [# gensim.utils.ClippedCorpus(corpus, num_of_docs*0.25), \n",
        "#                # gensim.utils.ClippedCorpus(corpus, num_of_docs*0.5), \n",
        "#                #gensim.utils.ClippedCorpus(g_corpus, num_of_docs*0.75), \n",
        "#                g_corpus]\n",
        "# corpus_title = ['75% Corpus', '100% Corpus']\n",
        "# model_results = {'Validation_Set': [],\n",
        "#                  'Topics': [],\n",
        "#                  'Alpha': [],\n",
        "#                  'Beta': [],\n",
        "#                  'Coherence': []\n",
        "#                 }\n",
        "# # Can take a long time to run\n",
        "# if 1 == 1:\n",
        "#     pbar = tqdm.tqdm(total=540)\n",
        "    \n",
        "#     # iterate through validation corpuses\n",
        "#     for i in range(len(corpus_sets)):\n",
        "#         # iterate through number of topics\n",
        "#         for k in topics_range:\n",
        "#             # iterate through alpha values\n",
        "#             for a in alpha:\n",
        "#                 # iterare through beta values\n",
        "#                 for b in beta:\n",
        "#                     # get the coherence score for the given parameters\n",
        "#                     cv = compute_coherence_values(corpus=corpus_sets[i], dictionary=g_id2word, \n",
        "#                                                   k=k, a=a, b=b)\n",
        "#                     # Save the model results\n",
        "#                     model_results['Validation_Set'].append(corpus_title[i])\n",
        "#                     model_results['Topics'].append(k)\n",
        "#                     model_results['Alpha'].append(a)\n",
        "#                     model_results['Beta'].append(b)\n",
        "#                     model_results['Coherence'].append(cv)\n",
        "                    \n",
        "#                     pbar.update(1)\n",
        "#     pd.DataFrame(model_results).to_csv('gcash_gr_lda_tuning_results.csv', index=False)\n",
        "#     pbar.close()"
      ],
      "execution_count": 394,
      "outputs": []
    },
    {
      "cell_type": "code",
      "metadata": {
        "id": "etQrRfJX3CN0"
      },
      "source": [
        "# model_cv_df_gr = pd.DataFrame(model_results) \n",
        "# model_cv_df_gr.sort_values(by='Coherence',ascending=False)"
      ],
      "execution_count": 395,
      "outputs": []
    },
    {
      "cell_type": "code",
      "metadata": {
        "id": "2EJ7gBBq3VG2"
      },
      "source": [
        "# Build optimized LDA model\n",
        "\n",
        "lda_model_experimental = gensim.models.LdaMulticore(corpus=g_corpus,\n",
        "                                           id2word=g_id2word,\n",
        "                                           num_topics=6, \n",
        "                                           random_state=100,\n",
        "                                           chunksize=100,\n",
        "                                           passes=10,\n",
        "                                           alpha=0.61,\n",
        "                                           eta=0.91)"
      ],
      "execution_count": null,
      "outputs": []
    },
    {
      "cell_type": "code",
      "metadata": {
        "colab": {
          "base_uri": "https://localhost:8080/"
        },
        "id": "XMnyUmXX3feL",
        "outputId": "047c5ef9-d708-4d82-b93c-0e571d9a363f"
      },
      "source": [
        "print(json.dumps(lda_model_experimental.print_topics(), indent=1))"
      ],
      "execution_count": 397,
      "outputs": [
        {
          "output_type": "stream",
          "text": [
            "[\n",
            " [\n",
            "  0,\n",
            "  \"0.181*\\\"great\\\" + 0.128*\\\"useful\\\" + 0.126*\\\"easy\\\" + 0.125*\\\"use\\\" + 0.117*\\\"convenient\\\" + 0.076*\\\"excellent\\\" + 0.034*\\\"fast\\\" + 0.026*\\\"hassle\\\" + 0.024*\\\"verry\\\" + 0.018*\\\"application\\\"\"\n",
            " ],\n",
            " [\n",
            "  1,\n",
            "  \"0.108*\\\"awesome\\\" + 0.062*\\\"cash\\\" + 0.052*\\\"transaction\\\" + 0.020*\\\"wallet\\\" + 0.019*\\\"okay\\\" + 0.018*\\\"sana\\\" + 0.016*\\\"well\\\" + 0.014*\\\"thumbs\\\" + 0.013*\\\"maganda\\\" + 0.012*\\\"gamitin\\\"\"\n",
            " ],\n",
            " [\n",
            "  2,\n",
            "  \"0.511*\\\"good\\\" + 0.109*\\\"ok\\\" + 0.109*\\\"love\\\" + 0.071*\\\"helpful\\\" + 0.034*\\\"usefull\\\" + 0.026*\\\"far\\\" + 0.026*\\\"super\\\" + 0.024*\\\"satisfied\\\" + 0.018*\\\"job\\\" + 0.004*\\\"fun\\\"\"\n",
            " ],\n",
            " [\n",
            "  3,\n",
            "  \"0.024*\\\"service\\\" + 0.021*\\\"cannot\\\" + 0.021*\\\"account\\\" + 0.020*\\\"using\\\" + 0.018*\\\"update\\\" + 0.017*\\\"time\\\" + 0.015*\\\"happy\\\" + 0.014*\\\"hope\\\" + 0.014*\\\"problem\\\" + 0.012*\\\"stars\\\"\"\n",
            " ],\n",
            " [\n",
            "  4,\n",
            "  \"0.055*\\\"money\\\" + 0.048*\\\"load\\\" + 0.047*\\\"bills\\\" + 0.042*\\\"pay\\\" + 0.039*\\\"thank\\\" + 0.038*\\\"best\\\" + 0.028*\\\"thanks\\\" + 0.025*\\\"really\\\" + 0.025*\\\"bank\\\" + 0.022*\\\"transfer\\\"\"\n",
            " ],\n",
            " [\n",
            "  5,\n",
            "  \"0.449*\\\"nice\\\" + 0.190*\\\"apps\\\" + 0.076*\\\"amazing\\\" + 0.042*\\\"free\\\" + 0.029*\\\"experience\\\" + 0.018*\\\"cool\\\" + 0.009*\\\"faster\\\" + 0.008*\\\"legit\\\" + 0.008*\\\"nc\\\" + 0.008*\\\"ilove\\\"\"\n",
            " ]\n",
            "]\n"
          ],
          "name": "stdout"
        }
      ]
    },
    {
      "cell_type": "markdown",
      "metadata": {
        "id": "ZprhmOHENioL"
      },
      "source": [
        "##### Optimizing Number of Topics for Bad Reviews"
      ]
    },
    {
      "cell_type": "code",
      "metadata": {
        "id": "-Q_acL3u7AWG"
      },
      "source": [
        "# Build LDA model\n",
        "lda_model2 = gensim.models.ldamodel.LdaModel(corpus=b_corpus,\n",
        "                                           id2word=b_id2word,\n",
        "                                           num_topics=6, \n",
        "                                           random_state=100,\n",
        "                                           update_every=1,\n",
        "                                           chunksize=100,\n",
        "                                           passes=10,\n",
        "                                           alpha='auto',\n",
        "                                           per_word_topics=True)\n",
        "\n"
      ],
      "execution_count": null,
      "outputs": []
    },
    {
      "cell_type": "code",
      "metadata": {
        "id": "h1SlJVB0_pA0",
        "colab": {
          "base_uri": "https://localhost:8080/"
        },
        "outputId": "618b783d-a658-4b10-c0a7-9270ec702ac0"
      },
      "source": [
        "print(json.dumps(lda_model2.print_topics(), indent=1))"
      ],
      "execution_count": 399,
      "outputs": [
        {
          "output_type": "stream",
          "text": [
            "[\n",
            " [\n",
            "  0,\n",
            "  \"0.053*\\\"update\\\" + 0.051*\\\"use\\\" + 0.049*\\\"money\\\" + 0.039*\\\"cash\\\" + 0.038*\\\"load\\\" + 0.028*\\\"time\\\" + 0.026*\\\"need\\\" + 0.023*\\\"using\\\" + 0.022*\\\"already\\\" + 0.022*\\\"get\\\"\"\n",
            " ],\n",
            " [\n",
            "  1,\n",
            "  \"0.060*\\\"fix\\\" + 0.040*\\\"problem\\\" + 0.038*\\\"mpin\\\" + 0.032*\\\"says\\\" + 0.030*\\\"tried\\\" + 0.028*\\\"code\\\" + 0.026*\\\"id\\\" + 0.024*\\\"log\\\" + 0.021*\\\"card\\\" + 0.019*\\\"register\\\"\"\n",
            " ],\n",
            " [\n",
            "  2,\n",
            "  \"0.044*\\\"good\\\" + 0.042*\\\"gcredit\\\" + 0.028*\\\"issue\\\" + 0.024*\\\"support\\\" + 0.022*\\\"working\\\" + 0.017*\\\"really\\\" + 0.015*\\\"transactions\\\" + 0.013*\\\"want\\\" + 0.012*\\\"make\\\" + 0.012*\\\"available\\\"\"\n",
            " ],\n",
            " [\n",
            "  3,\n",
            "  \"0.157*\\\"cannot\\\" + 0.095*\\\"account\\\" + 0.067*\\\"always\\\" + 0.046*\\\"still\\\" + 0.036*\\\"error\\\" + 0.029*\\\"open\\\" + 0.017*\\\"balance\\\" + 0.017*\\\"verify\\\" + 0.015*\\\"days\\\" + 0.014*\\\"work\\\"\"\n",
            " ],\n",
            " [\n",
            "  4,\n",
            "  \"0.041*\\\"verified\\\" + 0.032*\\\"apps\\\" + 0.032*\\\"wala\\\" + 0.031*\\\"try\\\" + 0.029*\\\"fully\\\" + 0.025*\\\"pera\\\" + 0.020*\\\"link\\\" + 0.016*\\\"nice\\\" + 0.015*\\\"almost\\\" + 0.015*\\\"hard\\\"\"\n",
            " ],\n",
            " [\n",
            "  5,\n",
            "  \"0.055*\\\"service\\\" + 0.040*\\\"customer\\\" + 0.038*\\\"pay\\\" + 0.030*\\\"help\\\" + 0.029*\\\"email\\\" + 0.022*\\\"bills\\\" + 0.019*\\\"poor\\\" + 0.018*\\\"got\\\" + 0.017*\\\"anymore\\\" + 0.016*\\\"receive\\\"\"\n",
            " ]\n",
            "]\n"
          ],
          "name": "stdout"
        }
      ]
    },
    {
      "cell_type": "code",
      "metadata": {
        "id": "rb4eTaOppm8q"
      },
      "source": [
        "# supporting function\n",
        "def compute_coherence_values(corpus, dictionary, k, a, b):\n",
        "    \n",
        "    lda_model = gensim.models.LdaMulticore(corpus=corpus,\n",
        "                                           id2word=dictionary,\n",
        "                                           num_topics=k, \n",
        "                                           random_state=100,\n",
        "                                           chunksize=100,\n",
        "                                           passes=10,\n",
        "                                           alpha=a,\n",
        "                                           eta=b)\n",
        "    \n",
        "    coherence_model_lda = CoherenceModel(model=lda_model, texts=gr_words_trigrams, dictionary=g_id2word, coherence='c_v')\n",
        "    \n",
        "    return coherence_model_lda.get_coherence()"
      ],
      "execution_count": 400,
      "outputs": []
    },
    {
      "cell_type": "markdown",
      "metadata": {
        "id": "TAyJ5MNlpnj7"
      },
      "source": [
        "#### Visualizing LDA model results"
      ]
    },
    {
      "cell_type": "code",
      "metadata": {
        "id": "IEPh3tij_tHr",
        "colab": {
          "base_uri": "https://localhost:8080/",
          "height": 861
        },
        "outputId": "330edaad-58ca-40d6-a25c-a277ad6fef4d"
      },
      "source": [
        "# Visualize the topics\n",
        "pyLDAvis.enable_notebook()\n",
        "vis = pyLDAvis.gensim_models.prepare(lda_model, g_corpus, g_id2word)\n",
        "vis"
      ],
      "execution_count": 401,
      "outputs": [
        {
          "output_type": "execute_result",
          "data": {
            "text/html": [
              "\n",
              "<link rel=\"stylesheet\" type=\"text/css\" href=\"https://cdn.jsdelivr.net/gh/bmabey/pyLDAvis@3.3.1/pyLDAvis/js/ldavis.v1.0.0.css\">\n",
              "\n",
              "\n",
              "<div id=\"ldavis_el3431404505989006888874877688\"></div>\n",
              "<script type=\"text/javascript\">\n",
              "\n",
              "var ldavis_el3431404505989006888874877688_data = {\"mdsDat\": {\"x\": [0.4256386129266152, 0.031781985365243806, -0.09368308054958165, -0.1254359313850448, -0.1314424612006192, -0.10685912515661361], \"y\": [-0.1190502341697102, 0.4374348139329202, -0.0693909206032683, -0.09530269292844597, -0.07693871292708566, -0.07675225330441018], \"topics\": [1, 2, 3, 4, 5, 6], \"cluster\": [1, 1, 1, 1, 1, 1], \"Freq\": [26.355610214200247, 17.937680786908096, 15.300858104724178, 14.13392476686706, 13.373613671165868, 12.89831245613455]}, \"tinfo\": {\"Term\": [\"good\", \"nice\", \"great\", \"useful\", \"apps\", \"easy\", \"use\", \"convenient\", \"money\", \"awesome\", \"ok\", \"love\", \"load\", \"excellent\", \"thank\", \"best\", \"helpful\", \"amazing\", \"bills\", \"cash\", \"pay\", \"thanks\", \"transaction\", \"fast\", \"bank\", \"really\", \"service\", \"account\", \"paying\", \"transfer\", \"good\", \"easy\", \"use\", \"convenient\", \"ok\", \"love\", \"helpful\", \"bills\", \"pay\", \"usefull\", \"super\", \"lot\", \"reliable\", \"way\", \"well\", \"make\", \"every\", \"keep\", \"month\", \"download\", \"secure\", \"life_easier\", \"work\", \"day\", \"limit\", \"loads\", \"fun\", \"thankyou\", \"charges\", \"think\", \"nice\", \"great\", \"excellent\", \"amazing\", \"hassle\", \"far\", \"satisfied\", \"much\", \"application\", \"wow\", \"job\", \"convinient\", \"used\", \"okay\", \"helps\", \"etc\", \"thumbs\", \"buying\", \"sending\", \"fix\", \"perfect\", \"gamitin\", \"awsome\", \"excelent\", \"especially\", \"hopefully\", \"accessible\", \"superb\", \"receive\", \"aps\", \"useful\", \"apps\", \"best\", \"thanks\", \"really\", \"transactions\", \"cannot\", \"help\", \"need\", \"time\", \"stars\", \"get\", \"open\", \"without\", \"working\", \"fine\", \"issue\", \"easily\", \"tnx\", \"services\", \"safe\", \"faster\", \"user_friendly\", \"data\", \"credit\", \"legit\", \"done\", \"offline\", \"okey\", \"enjoy\", \"money\", \"fast\", \"bank\", \"service\", \"transfer\", \"payment\", \"update\", \"happy\", \"problem\", \"send\", \"save\", \"also\", \"give\", \"still\", \"makes\", \"big\", \"better\", \"convenience\", \"error\", \"though\", \"made\", \"rebate\", \"since\", \"feature\", \"banks\", \"life\", \"less\", \"paypal\", \"needs\", \"rate\", \"awesome\", \"thank\", \"transaction\", \"account\", \"paying\", \"verry\", \"hope\", \"payments\", \"wallet\", \"savings\", \"want\", \"add\", \"business\", \"go\", \"easier\", \"maganda\", \"ever\", \"recommend\", \"helpfull\", \"sya\", \"option\", \"able\", \"specially\", \"gsave\", \"know\", \"sure\", \"thing\", \"god_bless\", \"card\", \"mas\", \"lng\", \"load\", \"cash\", \"free\", \"using\", \"buy\", \"online\", \"experience\", \"gcredit\", \"always\", \"cool\", \"access\", \"sometimes\", \"sana\", \"customer\", \"everything\", \"features\", \"loading\", \"bill\", \"try\", \"wala\", \"rebates\", \"yet\", \"many\", \"system\", \"anytime\", \"nman\", \"nc\", \"efficient\", \"saving\", \"however\"], \"Freq\": [16246.0, 10226.0, 6362.0, 4483.0, 4332.0, 4428.0, 4366.0, 4090.0, 2528.0, 2402.0, 3485.0, 3471.0, 2248.0, 2659.0, 1894.0, 1797.0, 2245.0, 1735.0, 2186.0, 1330.0, 1945.0, 1336.0, 1150.0, 1153.0, 1131.0, 1174.0, 1117.0, 1016.0, 1009.0, 1027.0, 16246.193525795095, 4427.661505718752, 4366.111006589404, 4089.826998059089, 3485.185009868502, 3470.6084436886717, 2245.095864220139, 2185.7648985780606, 1944.6318472169257, 1080.019030520233, 831.4319643836799, 640.1742749016327, 549.2207747858964, 412.0192856138688, 415.3248749694136, 357.9306722927906, 310.8152563055603, 304.43861970691955, 235.70873640490083, 224.58063593780793, 196.80602209409247, 169.30265333123043, 162.6202075509544, 158.3925462522374, 151.5205112458902, 138.16630180135064, 138.28516173066615, 135.94764830533154, 127.6434764272646, 123.90889133712093, 10225.334952530086, 6362.150287555089, 2658.3892884155134, 1734.2452110983086, 949.0656957996482, 843.1245275619348, 772.8438811310455, 714.8005122708594, 631.0549941263506, 605.1639176575677, 567.903004917638, 551.1904356403631, 508.3241950827941, 418.60833833982, 396.63116233840236, 312.3236540308899, 307.931546185035, 302.5691485142334, 290.98416550572836, 289.7530443671175, 268.5047919003904, 262.4417199339978, 245.2221117521088, 206.52176884956094, 186.18462920926652, 179.49503304072599, 159.14839380353766, 152.4707095638518, 118.2000985673611, 116.05574341386925, 4482.224614464119, 4331.426618553623, 1796.4729489067943, 1335.2485266559313, 1173.4099048011244, 1021.8964462668364, 1001.8162645475188, 993.6228437987108, 927.7936409368479, 811.0928544049771, 564.8435503010531, 470.21266271232713, 365.23342341195126, 355.2628409609589, 330.98905147761405, 307.3257098724228, 261.79392734152833, 225.60007018388856, 217.23460973759936, 214.98600278341243, 209.79401699437463, 211.0738487288752, 206.33976980436174, 202.92364012877886, 191.46712740938173, 187.4264154385298, 175.40314948987336, 168.0656273003735, 164.2393866607131, 161.71006393849208, 2527.253848690695, 1152.9508617756603, 1130.4541378419622, 1116.9441272099468, 1026.5400545118769, 884.8080090311719, 824.0731571591793, 689.7241896020903, 658.264348348795, 601.4495756339904, 536.4061498686461, 500.61503014368105, 492.42009312976626, 399.63476635511296, 339.30390391418723, 338.3370978748583, 334.1358594822391, 286.59399311406025, 264.6200774901098, 250.84330117173548, 247.02560235904207, 240.58979824513952, 228.70720249758193, 228.85132151261044, 220.09710728774635, 219.58242648293927, 219.33449825561215, 190.30725855769478, 188.41933092213083, 181.19712516082424, 2401.997001790755, 1893.9424914533965, 1149.4374754785256, 1016.2059680602364, 1008.9193350883703, 865.771707729026, 712.357382012002, 461.54854189138786, 451.27693166514774, 405.21896036224496, 400.6433563391493, 319.4443889120674, 303.81561699108084, 293.1269692781522, 288.8818744713525, 286.86599896092514, 266.0366993759429, 264.9605784351862, 259.03617034399576, 253.3801288895906, 238.95084519395425, 219.64980653143027, 218.5898104117043, 213.05100880990096, 209.274600531922, 203.1828664132666, 193.40628819266976, 188.91571159123998, 188.13445160859283, 181.98959240649543, 182.4908138626728, 2248.1608696123676, 1329.657132439618, 961.7499236546081, 951.4272998546091, 933.8060763859689, 751.8607520866495, 666.8768980282604, 478.72494555655857, 445.7850655092206, 410.79565736563956, 411.0898484593731, 398.49303371585086, 385.6590190289914, 347.7297814888322, 337.32961431417567, 296.0392865944709, 287.6746270231388, 247.04776051270795, 246.4539950301782, 245.84003620972462, 229.75384138387548, 228.37155476632805, 214.92181075308326, 191.1207679214727, 188.13914022945272, 182.09428605514128, 172.93725330210225, 170.32407028704634, 169.7173250819767, 170.3556044332354], \"Total\": [16246.0, 10226.0, 6362.0, 4483.0, 4332.0, 4428.0, 4366.0, 4090.0, 2528.0, 2402.0, 3485.0, 3471.0, 2248.0, 2659.0, 1894.0, 1797.0, 2245.0, 1735.0, 2186.0, 1330.0, 1945.0, 1336.0, 1150.0, 1153.0, 1131.0, 1174.0, 1117.0, 1016.0, 1009.0, 1027.0, 16246.981143516545, 4428.449827001776, 4366.9001637901, 4090.6153179365356, 3485.973197851334, 3471.3973451617035, 2245.883937301031, 2186.5557069015713, 1945.423446005364, 1080.807552732373, 832.2209275613233, 640.965942481074, 550.0081969040461, 412.8088789930031, 416.12130399360365, 358.7216806099981, 311.61051391167297, 305.2294217942117, 236.5089290489787, 225.37130306684955, 197.6014127472062, 170.094398308235, 163.40894568009068, 159.18899940175197, 152.31798323414802, 138.95478252570197, 139.08140153150396, 136.73932213764942, 128.4453712423609, 124.6988278085888, 10226.122260174536, 6362.938227112206, 2659.1765524215148, 1735.0325830289246, 949.8575848446775, 843.915624226814, 773.6319626936738, 715.5906375826222, 631.8432458693198, 605.9502855994748, 568.6917108860763, 551.9784729496407, 509.1145927943448, 419.3969087880228, 397.4216909528174, 313.11768116283906, 308.72700307875704, 303.3620155643252, 291.77773376517814, 290.54447741169525, 269.2940494216772, 263.23165909806147, 246.0098585327694, 207.30941114663077, 186.97092102655859, 180.29506141223277, 159.9381272452655, 153.25762786646644, 118.99309656343311, 116.84455777080858, 4483.012958054103, 4332.214841483829, 1797.261503196946, 1336.0369514996528, 1174.200170677825, 1022.6862388426837, 1002.6047870296981, 994.412203829927, 928.5830922508866, 811.8813646776958, 565.6353357962143, 471.0040369459675, 366.0212585163177, 356.0537185891708, 331.7785083870477, 308.1164780362107, 262.5852564281208, 226.3944084850364, 218.02430365942521, 215.77560878673353, 210.58336660215787, 211.86823101819425, 207.12617039966423, 203.71307430402538, 192.25838222395137, 188.21571792297897, 176.1949467788154, 168.86688001170856, 165.02773203423314, 162.49951841558652, 2528.0458121765564, 1153.7438999991896, 1131.2460609352902, 1117.736306395741, 1027.3317968536878, 885.6011071098914, 824.8665319669497, 690.5160645208138, 659.0585176394915, 602.2408238886294, 537.1998393989229, 501.40654466710674, 493.212738333496, 400.42956431397266, 340.09749981974477, 339.13240100995785, 334.92788006557026, 287.3857981854209, 265.411430852763, 251.63838033397835, 247.82081017216956, 241.38554721515922, 229.49968046069066, 229.64489768999758, 220.88947382368315, 220.37458061152432, 220.12760856436873, 191.10422516846026, 189.21328312046163, 181.996264111752, 2402.779573367315, 1894.7265790913088, 1150.221561308713, 1016.9890933161522, 1009.7045890709073, 866.5552977388018, 713.1420449030607, 462.3354928973996, 452.06097998849236, 406.0048952207954, 401.42713348979606, 320.2277403056722, 304.6014175842976, 293.91131470324433, 289.66785506853387, 287.64788916531865, 266.81879166569286, 265.7490584678742, 259.81938056564195, 254.16303358790753, 239.73486685517966, 220.43407508108766, 219.37788979166618, 213.84034036619263, 210.05946414446555, 203.98047174774103, 194.19499367057094, 189.70016697863036, 188.92062360851023, 182.77272364303604, 183.2776933578747, 2248.949307558921, 1330.445409780762, 962.539242821534, 952.2158581205732, 934.5936347101606, 752.6490791648832, 667.6661541374569, 479.5142474503301, 446.57288951272704, 411.5832072248871, 411.8788728522801, 399.2814496481493, 386.44759245477127, 348.51987268997726, 338.1207756783603, 296.8315605722026, 288.46225411174305, 247.83642062703916, 247.24113639095006, 246.62801978782764, 230.5416537949343, 229.15924995065382, 215.70898941498888, 191.9080106255335, 188.933931530039, 182.8856766769538, 173.72539478777819, 171.11343146341866, 170.508020585884, 171.15068965098058], \"Category\": [\"Default\", \"Default\", \"Default\", \"Default\", \"Default\", \"Default\", \"Default\", \"Default\", \"Default\", \"Default\", \"Default\", \"Default\", \"Default\", \"Default\", \"Default\", \"Default\", \"Default\", \"Default\", \"Default\", \"Default\", \"Default\", \"Default\", \"Default\", \"Default\", \"Default\", \"Default\", \"Default\", \"Default\", \"Default\", \"Default\", \"Topic1\", \"Topic1\", \"Topic1\", \"Topic1\", \"Topic1\", \"Topic1\", \"Topic1\", \"Topic1\", \"Topic1\", \"Topic1\", \"Topic1\", \"Topic1\", \"Topic1\", \"Topic1\", \"Topic1\", \"Topic1\", \"Topic1\", \"Topic1\", \"Topic1\", \"Topic1\", \"Topic1\", \"Topic1\", \"Topic1\", \"Topic1\", \"Topic1\", \"Topic1\", \"Topic1\", \"Topic1\", \"Topic1\", \"Topic1\", \"Topic2\", \"Topic2\", \"Topic2\", \"Topic2\", \"Topic2\", \"Topic2\", \"Topic2\", \"Topic2\", \"Topic2\", \"Topic2\", \"Topic2\", \"Topic2\", \"Topic2\", \"Topic2\", \"Topic2\", \"Topic2\", \"Topic2\", \"Topic2\", \"Topic2\", \"Topic2\", \"Topic2\", \"Topic2\", \"Topic2\", \"Topic2\", \"Topic2\", \"Topic2\", \"Topic2\", \"Topic2\", \"Topic2\", \"Topic2\", \"Topic3\", \"Topic3\", \"Topic3\", \"Topic3\", \"Topic3\", \"Topic3\", \"Topic3\", \"Topic3\", \"Topic3\", \"Topic3\", \"Topic3\", \"Topic3\", \"Topic3\", \"Topic3\", \"Topic3\", \"Topic3\", \"Topic3\", \"Topic3\", \"Topic3\", \"Topic3\", \"Topic3\", \"Topic3\", \"Topic3\", \"Topic3\", \"Topic3\", \"Topic3\", \"Topic3\", \"Topic3\", \"Topic3\", \"Topic3\", \"Topic4\", \"Topic4\", \"Topic4\", \"Topic4\", \"Topic4\", \"Topic4\", \"Topic4\", \"Topic4\", \"Topic4\", \"Topic4\", \"Topic4\", \"Topic4\", \"Topic4\", \"Topic4\", \"Topic4\", \"Topic4\", \"Topic4\", \"Topic4\", \"Topic4\", \"Topic4\", \"Topic4\", \"Topic4\", \"Topic4\", \"Topic4\", \"Topic4\", \"Topic4\", \"Topic4\", \"Topic4\", \"Topic4\", \"Topic4\", \"Topic5\", \"Topic5\", \"Topic5\", \"Topic5\", \"Topic5\", \"Topic5\", \"Topic5\", \"Topic5\", \"Topic5\", \"Topic5\", \"Topic5\", \"Topic5\", \"Topic5\", \"Topic5\", \"Topic5\", \"Topic5\", \"Topic5\", \"Topic5\", \"Topic5\", \"Topic5\", \"Topic5\", \"Topic5\", \"Topic5\", \"Topic5\", \"Topic5\", \"Topic5\", \"Topic5\", \"Topic5\", \"Topic5\", \"Topic5\", \"Topic5\", \"Topic6\", \"Topic6\", \"Topic6\", \"Topic6\", \"Topic6\", \"Topic6\", \"Topic6\", \"Topic6\", \"Topic6\", \"Topic6\", \"Topic6\", \"Topic6\", \"Topic6\", \"Topic6\", \"Topic6\", \"Topic6\", \"Topic6\", \"Topic6\", \"Topic6\", \"Topic6\", \"Topic6\", \"Topic6\", \"Topic6\", \"Topic6\", \"Topic6\", \"Topic6\", \"Topic6\", \"Topic6\", \"Topic6\", \"Topic6\"], \"logprob\": [30.0, 29.0, 28.0, 27.0, 26.0, 25.0, 24.0, 23.0, 22.0, 21.0, 20.0, 19.0, 18.0, 17.0, 16.0, 15.0, 14.0, 13.0, 12.0, 11.0, 10.0, 9.0, 8.0, 7.0, 6.0, 5.0, 4.0, 3.0, 2.0, 1.0, -1.1728, -2.4728, -2.4868, -2.5522, -2.7122, -2.7164, -3.1519, -3.1787, -3.2956, -3.8837, -4.1453, -4.4067, -4.5599, -4.8474, -4.8394, -4.9881, -5.1292, -5.15, -5.4058, -5.4542, -5.5862, -5.7368, -5.777, -5.8034, -5.8477, -5.94, -5.9391, -5.9562, -6.0192, -6.0489, -1.251, -1.7255, -2.5982, -3.0253, -3.6282, -3.7466, -3.8336, -3.9117, -4.0363, -4.0782, -4.1417, -4.1716, -4.2525, -4.4467, -4.5007, -4.7396, -4.7538, -4.7714, -4.8104, -4.8146, -4.8908, -4.9136, -4.9815, -5.1533, -5.2569, -5.2935, -5.4138, -5.4567, -5.7113, -5.7296, -1.9168, -1.951, -2.8311, -3.1278, -3.257, -3.3953, -3.4151, -3.4233, -3.4919, -3.6263, -3.9881, -4.1715, -4.4241, -4.4518, -4.5226, -4.5968, -4.7571, -4.9059, -4.9437, -4.9541, -4.9785, -4.9725, -4.9951, -5.0118, -5.07, -5.0913, -5.1576, -5.2003, -5.2233, -5.2389, -2.4105, -3.1953, -3.215, -3.227, -3.3114, -3.46, -3.5311, -3.7091, -3.7557, -3.846, -3.9605, -4.0295, -4.046, -4.2548, -4.4184, -4.4213, -4.4338, -4.5873, -4.667, -4.7205, -4.7358, -4.7622, -4.8129, -4.8123, -4.8513, -4.8536, -4.8547, -4.9967, -5.0067, -5.0458, -2.406, -2.6436, -3.143, -3.2662, -3.2734, -3.4264, -3.6215, -4.0555, -4.078, -4.1856, -4.197, -4.4235, -4.4736, -4.5094, -4.524, -4.531, -4.6064, -4.6105, -4.6331, -4.6552, -4.7138, -4.798, -4.8029, -4.8285, -4.8464, -4.8759, -4.9253, -4.9487, -4.9529, -4.9861, -4.9833, -2.436, -2.9612, -3.2851, -3.2959, -3.3146, -3.5313, -3.6513, -3.9827, -4.054, -4.1358, -4.135, -4.1662, -4.1989, -4.3024, -4.3328, -4.4634, -4.492, -4.6443, -4.6467, -4.6492, -4.7169, -4.7229, -4.7836, -4.901, -4.9167, -4.9493, -5.0009, -5.0162, -5.0197, -5.016], \"loglift\": [30.0, 29.0, 28.0, 27.0, 26.0, 25.0, 24.0, 23.0, 22.0, 21.0, 20.0, 19.0, 18.0, 17.0, 16.0, 15.0, 14.0, 13.0, 12.0, 11.0, 10.0, 9.0, 8.0, 7.0, 6.0, 5.0, 4.0, 3.0, 2.0, 1.0, 1.3334, 1.3333, 1.3333, 1.3333, 1.3333, 1.3333, 1.3331, 1.3331, 1.3331, 1.3328, 1.3325, 1.3323, 1.3321, 1.3316, 1.3316, 1.3313, 1.3309, 1.3309, 1.3301, 1.33, 1.3295, 1.3288, 1.3287, 1.3285, 1.3282, 1.3278, 1.3277, 1.3277, 1.3272, 1.3271, 1.7182, 1.7181, 1.718, 1.7178, 1.7174, 1.7173, 1.7172, 1.7172, 1.717, 1.717, 1.7169, 1.7168, 1.7167, 1.7164, 1.7163, 1.7157, 1.7157, 1.7156, 1.7155, 1.7155, 1.7153, 1.7153, 1.7151, 1.7145, 1.7141, 1.7138, 1.7133, 1.7131, 1.7116, 1.7115, 1.8771, 1.8771, 1.8768, 1.8767, 1.8766, 1.8765, 1.8765, 1.8765, 1.8764, 1.8763, 1.8759, 1.8756, 1.8751, 1.875, 1.8749, 1.8747, 1.8742, 1.8737, 1.8736, 1.8736, 1.8735, 1.8735, 1.8735, 1.8734, 1.8731, 1.8731, 1.8728, 1.8725, 1.8725, 1.8724, 1.9563, 1.9559, 1.9559, 1.9559, 1.9558, 1.9557, 1.9556, 1.9554, 1.9554, 1.9553, 1.9551, 1.955, 1.955, 1.9546, 1.9543, 1.9542, 1.9542, 1.9538, 1.9536, 1.9534, 1.9534, 1.9533, 1.9531, 1.9531, 1.953, 1.953, 1.953, 1.9524, 1.9524, 1.9522, 2.0116, 2.0115, 2.0112, 2.0111, 2.0111, 2.011, 2.0108, 2.0102, 2.0102, 2.0099, 2.0099, 2.0094, 2.0093, 2.0092, 2.0092, 2.0092, 2.009, 2.0089, 2.0089, 2.0088, 2.0086, 2.0083, 2.0083, 2.0082, 2.0081, 2.008, 2.0078, 2.0077, 2.0077, 2.0076, 2.0076, 2.0477, 2.0475, 2.0473, 2.0472, 2.0472, 2.047, 2.0469, 2.0464, 2.0463, 2.0462, 2.0462, 2.0461, 2.046, 2.0458, 2.0457, 2.0454, 2.0453, 2.0449, 2.0449, 2.0449, 2.0447, 2.0446, 2.0444, 2.044, 2.0439, 2.0437, 2.0435, 2.0434, 2.0434, 2.0434]}, \"token.table\": {\"Topic\": [5, 6, 2, 5, 5, 4, 6, 2, 6, 2, 3, 2, 5, 2, 4, 4, 3, 4, 4, 6, 1, 5, 6, 2, 3, 5, 6, 1, 4, 1, 2, 6, 3, 6, 3, 1, 3, 1, 5, 3, 1, 6, 3, 4, 2, 2, 5, 1, 6, 2, 2, 6, 2, 4, 3, 4, 6, 3, 2, 6, 1, 2, 6, 3, 4, 5, 5, 1, 2, 5, 4, 2, 3, 1, 5, 2, 5, 2, 6, 3, 2, 1, 5, 3, 4, 4, 1, 1, 5, 6, 6, 1, 1, 1, 4, 5, 1, 4, 6, 5, 4, 1, 2, 6, 3, 4, 2, 6, 3, 1, 2, 3, 6, 3, 5, 1, 5, 4, 5, 4, 2, 4, 4, 3, 4, 6, 2, 5, 1, 3, 6, 2, 4, 6, 5, 1, 4, 2, 4, 3, 4, 6, 5, 3, 4, 1, 2, 5, 5, 6, 5, 3, 1, 5, 1, 4, 2, 3, 3, 5, 3, 4, 6, 4, 1, 2, 3, 1, 3, 6, 5, 6, 5, 5, 1, 1, 3, 1, 3, 2, 6], \"Freq\": [0.9980308167830768, 0.9978661861284754, 0.9941344364760075, 0.9990274297702377, 0.9961660401297517, 0.9991891915424106, 0.9987171422041491, 0.9994048624567489, 0.9950568353578643, 0.998665419192446, 0.9997195795849743, 0.992771954578619, 0.999675553523113, 0.9958950485204442, 0.9988985058350082, 0.9959732176989423, 0.999298097024444, 0.997229612341055, 0.99666088817646, 0.9966251101233509, 0.9997458528498417, 0.9980255588136546, 0.9993648205079583, 0.9988066549345285, 0.9993967842189445, 0.995126929019576, 0.9996652175448255, 0.9965326018520315, 0.998657560019121, 0.9998495781468775, 0.9982273349458504, 0.9985830150145839, 0.9934547341478951, 0.9985083413293918, 0.9964996144382899, 0.99253089468355, 0.9932180417165115, 0.9983524829390572, 0.9976944108334842, 0.998257870025697, 0.9998984233717557, 0.9934930212438835, 0.9969260314094653, 0.9984498374789622, 0.9948071014400113, 0.9964304757282045, 0.9969312818614412, 0.9980407788427639, 0.9966852800567734, 0.9985074910737558, 0.9995575500917969, 0.9990022646298171, 0.9989150287060358, 0.9993552295278093, 0.995902023564261, 0.9971917612954408, 0.9971985439466087, 0.9963764416517851, 0.9981260101154023, 0.9994397705594286, 0.9922246862657693, 0.9953210069705078, 0.9989275658584401, 0.9978683050097027, 0.9975411455559852, 0.9968993548133237, 0.9963090861237395, 0.9999396107185773, 0.9998525481344125, 0.9960702439738284, 0.9992526393702775, 0.9990971437630645, 0.9995854799163372, 0.9996064189754644, 0.9968463454733126, 0.998938933222778, 0.9983985730315257, 0.9928169889841203, 0.9932767454613994, 0.9977711755942361, 0.9987836803793069, 0.9959721386392411, 0.9949563608153503, 0.9935408267896284, 0.9948774777878941, 0.9983002549092328, 0.9935659356268054, 0.9979123723450356, 0.9930286477614063, 0.999577888414056, 0.998397523054909, 0.9931288257349086, 0.9984929893820333, 0.9998855374011687, 0.996687888431971, 0.9977476310804899, 0.9979881879211457, 0.9967729847460612, 0.9967132134042643, 0.9957722157462335, 0.9995863159712063, 0.9978481613737581, 0.9991746152735906, 0.9958244746620705, 0.9993720623864978, 0.9935877487010825, 0.9998902555488793, 0.995157211362603, 0.9948664888482072, 0.9997208246317172, 0.9990536201395241, 0.9937723677010847, 0.9991376071759718, 0.9972098382469439, 0.9969346684325915, 0.999782337358875, 0.9993021829567441, 0.9993212439493746, 0.9992743518450269, 0.9942218694145204, 0.9989080730810478, 0.9983938943035245, 0.9945259089981086, 0.9989778823851369, 0.9984027742356274, 0.9976505165725232, 0.991654166568363, 0.997181331620918, 0.9981669420388256, 0.9972297593510319, 0.9988417770908389, 0.9991831223060208, 0.9977664933774637, 0.9970205472790172, 0.997524918461269, 0.9969564349827013, 0.9979396549695561, 0.9973344992603032, 0.9993412521437053, 0.9964054844238669, 0.9978227400592122, 0.9967906106099381, 0.9982774481419935, 0.9988767749183844, 0.9989272412622464, 0.9985329285519159, 0.9917940275862667, 0.9951933058133449, 0.9954240647371512, 0.9952685110820867, 0.9996165256246855, 0.9992238601645794, 0.9945932002141624, 0.9938464239062821, 0.9943958750786215, 0.9974631042644168, 0.9976451587599819, 0.9989144169135528, 0.9953018831284732, 0.998937977386441, 0.9993289839868578, 0.9996770304835264, 0.9949800570848877, 0.9989494882706862, 0.9997938666430792, 0.997810723145398, 0.9997740452540331, 0.999252824676945, 0.9945628773153522, 0.9987231276288834, 0.9993591894940221, 0.9974535748680627, 0.9976530157756165, 0.9989359625840865, 0.9980405484616119, 0.9973053434591254, 0.997040562886561, 0.9974974094692999, 0.997653529787591, 0.9984317432930415, 0.9949412910414769], \"Term\": [\"able\", \"access\", \"accessible\", \"account\", \"add\", \"also\", \"always\", \"amazing\", \"anytime\", \"application\", \"apps\", \"aps\", \"awesome\", \"awsome\", \"bank\", \"banks\", \"best\", \"better\", \"big\", \"bill\", \"bills\", \"business\", \"buy\", \"buying\", \"cannot\", \"card\", \"cash\", \"charges\", \"convenience\", \"convenient\", \"convinient\", \"cool\", \"credit\", \"customer\", \"data\", \"day\", \"done\", \"download\", \"easier\", \"easily\", \"easy\", \"efficient\", \"enjoy\", \"error\", \"especially\", \"etc\", \"ever\", \"every\", \"everything\", \"excelent\", \"excellent\", \"experience\", \"far\", \"fast\", \"faster\", \"feature\", \"features\", \"fine\", \"fix\", \"free\", \"fun\", \"gamitin\", \"gcredit\", \"get\", \"give\", \"go\", \"god_bless\", \"good\", \"great\", \"gsave\", \"happy\", \"hassle\", \"help\", \"helpful\", \"helpfull\", \"helps\", \"hope\", \"hopefully\", \"however\", \"issue\", \"job\", \"keep\", \"know\", \"legit\", \"less\", \"life\", \"life_easier\", \"limit\", \"lng\", \"load\", \"loading\", \"loads\", \"lot\", \"love\", \"made\", \"maganda\", \"make\", \"makes\", \"many\", \"mas\", \"money\", \"month\", \"much\", \"nc\", \"need\", \"needs\", \"nice\", \"nman\", \"offline\", \"ok\", \"okay\", \"okey\", \"online\", \"open\", \"option\", \"pay\", \"paying\", \"payment\", \"payments\", \"paypal\", \"perfect\", \"problem\", \"rate\", \"really\", \"rebate\", \"rebates\", \"receive\", \"recommend\", \"reliable\", \"safe\", \"sana\", \"satisfied\", \"save\", \"saving\", \"savings\", \"secure\", \"send\", \"sending\", \"service\", \"services\", \"since\", \"sometimes\", \"specially\", \"stars\", \"still\", \"super\", \"superb\", \"sure\", \"sya\", \"system\", \"thank\", \"thanks\", \"thankyou\", \"thing\", \"think\", \"though\", \"thumbs\", \"time\", \"tnx\", \"transaction\", \"transactions\", \"transfer\", \"try\", \"update\", \"use\", \"used\", \"useful\", \"usefull\", \"user_friendly\", \"using\", \"verry\", \"wala\", \"wallet\", \"want\", \"way\", \"well\", \"without\", \"work\", \"working\", \"wow\", \"yet\"]}, \"R\": 30, \"lambda.step\": 0.01, \"plot.opts\": {\"xlab\": \"PC1\", \"ylab\": \"PC2\"}, \"topic.order\": [3, 1, 5, 4, 2, 6]};\n",
              "\n",
              "function LDAvis_load_lib(url, callback){\n",
              "  var s = document.createElement('script');\n",
              "  s.src = url;\n",
              "  s.async = true;\n",
              "  s.onreadystatechange = s.onload = callback;\n",
              "  s.onerror = function(){console.warn(\"failed to load library \" + url);};\n",
              "  document.getElementsByTagName(\"head\")[0].appendChild(s);\n",
              "}\n",
              "\n",
              "if(typeof(LDAvis) !== \"undefined\"){\n",
              "   // already loaded: just create the visualization\n",
              "   !function(LDAvis){\n",
              "       new LDAvis(\"#\" + \"ldavis_el3431404505989006888874877688\", ldavis_el3431404505989006888874877688_data);\n",
              "   }(LDAvis);\n",
              "}else if(typeof define === \"function\" && define.amd){\n",
              "   // require.js is available: use it to load d3/LDAvis\n",
              "   require.config({paths: {d3: \"https://d3js.org/d3.v5\"}});\n",
              "   require([\"d3\"], function(d3){\n",
              "      window.d3 = d3;\n",
              "      LDAvis_load_lib(\"https://cdn.jsdelivr.net/gh/bmabey/pyLDAvis@3.3.1/pyLDAvis/js/ldavis.v3.0.0.js\", function(){\n",
              "        new LDAvis(\"#\" + \"ldavis_el3431404505989006888874877688\", ldavis_el3431404505989006888874877688_data);\n",
              "      });\n",
              "    });\n",
              "}else{\n",
              "    // require.js not available: dynamically load d3 & LDAvis\n",
              "    LDAvis_load_lib(\"https://d3js.org/d3.v5.js\", function(){\n",
              "         LDAvis_load_lib(\"https://cdn.jsdelivr.net/gh/bmabey/pyLDAvis@3.3.1/pyLDAvis/js/ldavis.v3.0.0.js\", function(){\n",
              "                 new LDAvis(\"#\" + \"ldavis_el3431404505989006888874877688\", ldavis_el3431404505989006888874877688_data);\n",
              "            })\n",
              "         });\n",
              "}\n",
              "</script>"
            ],
            "text/plain": [
              "PreparedData(topic_coordinates=              x         y  topics  cluster       Freq\n",
              "topic                                                \n",
              "2      0.425639 -0.119050       1        1  26.355610\n",
              "0      0.031782  0.437435       2        1  17.937681\n",
              "4     -0.093683 -0.069391       3        1  15.300858\n",
              "3     -0.125436 -0.095303       4        1  14.133925\n",
              "1     -0.131442 -0.076939       5        1  13.373614\n",
              "5     -0.106859 -0.076752       6        1  12.898312, topic_info=          Term          Freq         Total Category  logprob  loglift\n",
              "0         good  16246.000000  16246.000000  Default  30.0000  30.0000\n",
              "12        nice  10226.000000  10226.000000  Default  29.0000  29.0000\n",
              "73       great   6362.000000   6362.000000  Default  28.0000  28.0000\n",
              "64      useful   4483.000000   4483.000000  Default  27.0000  27.0000\n",
              "63        apps   4332.000000   4332.000000  Default  26.0000  26.0000\n",
              "..         ...           ...           ...      ...      ...      ...\n",
              "593       nman    182.094286    182.885677   Topic6  -4.9493   2.0437\n",
              "355         nc    172.937253    173.725395   Topic6  -5.0009   2.0435\n",
              "173  efficient    170.324070    171.113431   Topic6  -5.0162   2.0434\n",
              "911     saving    169.717325    170.508021   Topic6  -5.0197   2.0434\n",
              "350    however    170.355604    171.150690   Topic6  -5.0160   2.0434\n",
              "\n",
              "[211 rows x 6 columns], token_table=      Topic      Freq        Term\n",
              "term                             \n",
              "546       5  0.998031        able\n",
              "131       6  0.997866      access\n",
              "689       2  0.994134  accessible\n",
              "13        5  0.999027     account\n",
              "137       5  0.996166         add\n",
              "...     ...       ...         ...\n",
              "441       3  0.997041     without\n",
              "278       1  0.997497        work\n",
              "67        3  0.997654     working\n",
              "265       2  0.998432         wow\n",
              "167       6  0.994941         yet\n",
              "\n",
              "[181 rows x 3 columns], R=30, lambda_step=0.01, plot_opts={'xlab': 'PC1', 'ylab': 'PC2'}, topic_order=[3, 1, 5, 4, 2, 6])"
            ]
          },
          "metadata": {
            "tags": []
          },
          "execution_count": 401
        }
      ]
    },
    {
      "cell_type": "code",
      "metadata": {
        "id": "9CUevpbMaJ8H",
        "colab": {
          "base_uri": "https://localhost:8080/",
          "height": 861
        },
        "outputId": "ad990640-6b91-4d1c-df72-021587898a6f"
      },
      "source": [
        "# Visualize the topics\n",
        "pyLDAvis.enable_notebook()\n",
        "vis = pyLDAvis.gensim_models.prepare(lda_model2, b_corpus, b_id2word)\n",
        "vis"
      ],
      "execution_count": 402,
      "outputs": [
        {
          "output_type": "execute_result",
          "data": {
            "text/html": [
              "\n",
              "<link rel=\"stylesheet\" type=\"text/css\" href=\"https://cdn.jsdelivr.net/gh/bmabey/pyLDAvis@3.3.1/pyLDAvis/js/ldavis.v1.0.0.css\">\n",
              "\n",
              "\n",
              "<div id=\"ldavis_el3431404506977818404875425668\"></div>\n",
              "<script type=\"text/javascript\">\n",
              "\n",
              "var ldavis_el3431404506977818404875425668_data = {\"mdsDat\": {\"x\": [-0.32493969922569893, 0.35219122585971013, 0.029882122495543895, -0.017357010946782925, -0.0412513846170844, 0.001474746434312224], \"y\": [0.29544117436117645, 0.2595224460046137, -0.1325781271988501, -0.13160194777749235, -0.15693836909727765, -0.13384517629216974], \"topics\": [1, 2, 3, 4, 5, 6], \"cluster\": [1, 1, 1, 1, 1, 1], \"Freq\": [26.691584153436963, 18.56814299483383, 14.751510345632068, 14.424930614055336, 13.580853805352694, 11.982978086689105]}, \"tinfo\": {\"Term\": [\"cannot\", \"account\", \"always\", \"update\", \"use\", \"money\", \"fix\", \"service\", \"still\", \"cash\", \"load\", \"good\", \"gcredit\", \"problem\", \"error\", \"customer\", \"mpin\", \"verified\", \"pay\", \"time\", \"open\", \"need\", \"says\", \"tried\", \"using\", \"apps\", \"help\", \"wala\", \"email\", \"code\", \"update\", \"use\", \"money\", \"cash\", \"load\", \"time\", \"need\", \"using\", \"already\", \"get\", \"buy\", \"bank\", \"number\", \"since\", \"transaction\", \"system\", \"send\", \"payment\", \"month\", \"give\", \"transfer\", \"used\", \"also\", \"back\", \"yet\", \"phone\", \"new\", \"hope\", \"first\", \"last\", \"cannot\", \"account\", \"always\", \"still\", \"error\", \"open\", \"balance\", \"verify\", \"days\", \"work\", \"slow\", \"access\", \"updating\", \"trying\", \"maintenance\", \"updated\", \"disappointed\", \"everytime\", \"months\", \"pin\", \"though\", \"happened\", \"loading\", \"lagi\", \"soon\", \"say\", \"response\", \"ask\", \"laging\", \"wrong\", \"fix\", \"problem\", \"mpin\", \"says\", \"tried\", \"code\", \"id\", \"log\", \"card\", \"register\", \"know\", \"verification\", \"sent\", \"many\", \"said\", \"asking\", \"paypal\", \"sana\", \"option\", \"many_times\", \"process\", \"change\", \"unable\", \"forgot\", \"take\", \"internet\", \"sending\", \"waiting\", \"frustrating\", \"put\", \"good\", \"gcredit\", \"issue\", \"support\", \"working\", \"really\", \"transactions\", \"want\", \"make\", \"available\", \"could\", \"limit\", \"bad\", \"convenient\", \"able\", \"great\", \"mastercard\", \"issues\", \"better\", \"experience\", \"resolve\", \"message\", \"way\", \"times\", \"due\", \"check\", \"let\", \"paid\", \"go\", \"bill\", \"service\", \"customer\", \"pay\", \"help\", \"email\", \"bills\", \"poor\", \"got\", \"anymore\", \"receive\", \"download\", \"worst\", \"credit\", \"ok\", \"useless\", \"never\", \"received\", \"unavailable\", \"nothing\", \"without\", \"hassle\", \"refund\", \"magamit\", \"paymaya\", \"ticket\", \"ever\", \"resolved\", \"failed\", \"anything\", \"uninstall\", \"verified\", \"apps\", \"wala\", \"try\", \"fully\", \"pera\", \"link\", \"nice\", \"almost\", \"hard\", \"login\", \"lot\", \"weeks\", \"lng\", \"day\", \"easy\", \"rin\", \"daw\", \"ayaw\", \"features\", \"upgrade\", \"qr\", \"puro\", \"emergency\", \"problema\", \"sya\", \"makapag\", \"fast\", \"users\", \"android\"], \"Freq\": [10046.0, 6079.0, 4297.0, 4843.0, 4738.0, 4487.0, 3041.0, 2598.0, 2956.0, 3595.0, 3491.0, 2207.0, 2104.0, 2022.0, 2285.0, 1873.0, 1952.0, 1704.0, 1799.0, 2624.0, 1878.0, 2358.0, 1613.0, 1543.0, 2167.0, 1333.0, 1415.0, 1325.0, 1381.0, 1432.0, 4842.682717472413, 4737.986471706446, 4486.3237370344195, 3594.3639649132765, 3491.0311313228367, 2624.2565260097017, 2357.593337526929, 2166.327632435994, 2005.091003220114, 1984.9266558521447, 1371.194686120357, 1327.1253675415453, 1323.0962767361123, 1270.3323285977806, 1258.8803018266303, 1232.5020205468036, 1007.3875213430248, 1010.0702898584763, 1005.6055357898504, 964.7090102839076, 952.9429246612895, 949.0883396218348, 880.6161244231539, 836.5293724435087, 822.1611585191467, 785.0966319225147, 779.2944869613787, 698.9168048122336, 699.5252562649682, 686.5655838370105, 10046.27178697571, 6078.610352650005, 4296.551515861966, 2956.1645399500994, 2284.989728902969, 1877.5905739997247, 1102.275314259403, 1086.763407648973, 939.7068911060697, 907.2611570953914, 868.8865612258668, 802.2667553846934, 795.3272968248443, 754.6487483794045, 744.6277345798749, 708.4022398645938, 644.141110327056, 631.3603717695378, 612.1343609793576, 600.7971698376787, 586.068541386793, 542.6318812190073, 534.2754604603883, 526.7449736927464, 498.4517908462509, 490.7169563595394, 467.2632687636824, 447.8009482518885, 433.80846147455213, 430.5089970679935, 3040.6056492821062, 2022.0772155321129, 1952.0857917415854, 1612.438989748649, 1543.0540384396668, 1431.6843707904782, 1302.2700347457094, 1245.5847443990856, 1080.8645781937207, 970.6350484340047, 927.9352660109245, 855.856168204647, 795.7537390840506, 740.0569922376322, 734.5108873005515, 678.0927618935597, 664.3140944047144, 650.4530799323442, 629.033561617155, 605.1111696251924, 551.4575772149584, 537.4567864506683, 512.6985844414876, 505.72087600927046, 490.3139215095959, 462.1609354407021, 434.4515314513609, 429.36889527169836, 416.4320180421024, 403.93321727241124, 2206.3602064224506, 2103.4665020545494, 1389.491716155862, 1217.875319877195, 1116.1059801346396, 859.8855316839717, 741.2182345220218, 666.9670529800085, 622.5360856850074, 575.9262384236016, 558.9369896140452, 529.125964840979, 505.95790867829163, 505.70380580023624, 493.9776193416353, 464.8300931520723, 466.5604525315315, 456.39466659587123, 452.92415501370726, 446.77017780482464, 448.031224252248, 441.6363250269297, 431.4391649276958, 429.7919285171128, 413.2477194331588, 385.5939932861695, 361.7378172474112, 357.68560732330985, 352.35353109478945, 327.4507528730927, 2597.279827331084, 1873.242609420707, 1798.9702143680493, 1414.344231508522, 1380.4590822081282, 1025.7802164682182, 887.4342672841489, 826.2782757188734, 814.3598338207258, 758.6667673287391, 699.9169237381058, 677.0355777311811, 656.4569519529941, 648.8788049431843, 640.8779019377571, 558.9338947512974, 552.6847090697258, 497.8561622028851, 470.59838495533586, 451.43047517906155, 432.0537436040218, 426.7596150590091, 392.1604778549059, 366.37937528372765, 345.963472330107, 345.46123383774255, 341.62485972660966, 335.4523600163361, 329.7299042726631, 319.20349846034276, 1703.500055782042, 1332.4171796823164, 1324.579178466759, 1271.500639521231, 1200.0345513089885, 1054.103596086366, 846.7911319149812, 650.4424466948204, 637.9854470846628, 602.781488108997, 601.2270041495976, 494.1218680090409, 462.4083749748991, 423.2384173025509, 416.8097418800907, 409.2330639185031, 403.2045084030507, 369.140956705221, 368.22428192115694, 323.7209471919473, 306.89977598670464, 300.81963438187313, 287.6126894671133, 285.6344708923767, 281.72399085690955, 267.4589720678032, 248.6830235003371, 247.5478403743028, 241.91903849691266, 239.16055140434767], \"Total\": [10046.0, 6079.0, 4297.0, 4843.0, 4738.0, 4487.0, 3041.0, 2598.0, 2956.0, 3595.0, 3491.0, 2207.0, 2104.0, 2022.0, 2285.0, 1873.0, 1952.0, 1704.0, 1799.0, 2624.0, 1878.0, 2358.0, 1613.0, 1543.0, 2167.0, 1333.0, 1415.0, 1325.0, 1381.0, 1432.0, 4843.417103525246, 4738.721707330145, 4487.057715533539, 3595.098502771827, 3491.76373761544, 2624.990635958583, 2358.3273381047106, 2167.0623493143626, 2005.826615190258, 1985.662162368495, 1371.927076011541, 1327.860879109304, 1323.8303669864122, 1271.0684084617737, 1259.6148341215242, 1233.237091806008, 1008.1203813565295, 1010.8069233969492, 1006.3440282270026, 965.4441502644398, 953.6769455830579, 949.8235376780583, 881.3507579320058, 837.2637738834437, 822.8961186054568, 785.8311886793623, 780.0294181480532, 699.6509443285262, 700.2603049763628, 687.3018720223398, 10046.99950356427, 6079.339561417622, 4297.278326846717, 2956.89423209857, 2285.717369131472, 1878.3166041713732, 1103.005109366045, 1087.4885188945684, 940.4350728419464, 907.9901822397743, 869.6137155275424, 802.9941397928483, 796.0547107239494, 755.3775116768333, 745.3526372852288, 709.1293167356959, 644.8722546041448, 632.0877160299233, 612.8677872785617, 601.5242297118094, 586.7986076367131, 543.3617391952904, 535.0024777462824, 527.4744911522986, 499.1785017471035, 491.44598889230934, 467.9936650473497, 448.53413052214205, 434.5371137494171, 431.2358665437874, 3041.319106766153, 2022.7919661928677, 1952.798857870654, 1613.1532226599247, 1543.7683172747252, 1432.3967138351543, 1302.9812388259172, 1246.2967030209725, 1081.5816516979335, 971.3483589757171, 928.650663787965, 856.5682888446763, 796.4684530722294, 740.7711994385176, 735.2275980144393, 678.8082575710931, 665.028415892075, 651.1698002973941, 629.7486769178063, 605.8254862390656, 552.1713303436446, 538.1696034448423, 513.4127228947546, 506.4332230563372, 491.02789402521614, 462.8780394358005, 435.16895412313676, 430.0848359663741, 417.14848876539577, 404.6468227834988, 2207.107849544837, 2104.219747168125, 1390.2416732777585, 1218.6273086273848, 1116.8548104865704, 860.63366016732, 741.9662917879137, 667.7157554633334, 623.2832727052497, 576.6742672466883, 559.6853037153726, 529.8739028438105, 506.70475951012, 506.45265823813315, 494.72586440266866, 465.577933931115, 467.3126790444627, 457.14258958671894, 453.67240854369703, 447.5181047580807, 448.7847158080188, 442.3854090924353, 432.18746897861746, 430.5396770194748, 413.9974291169981, 386.3427522817038, 362.4884876551717, 358.4355238265499, 353.10309774767524, 328.2029466026865, 2598.0271344581156, 1873.9910836102201, 1799.7195572217124, 1415.0948285458119, 1381.207927083383, 1026.5277790454033, 888.1813945286285, 827.0286741299007, 815.1113656398835, 759.4140397270083, 700.6651276107548, 677.7837685105237, 657.2087099631772, 649.6259642390683, 641.626030605378, 559.6830981265531, 553.4323219761967, 498.6019264544229, 471.347237859506, 452.1802503506567, 432.80460892895655, 427.5089157316336, 392.91117812997334, 367.12802663996064, 346.71268144713906, 346.20975432201556, 342.3766965311329, 336.2019223934144, 330.47765450147836, 319.9523133753769, 1704.230611704779, 1333.1482454929471, 1325.3067060823812, 1272.2343998067988, 1200.7650965130108, 1054.8310596582821, 847.5254137757996, 651.1712343878372, 638.7217096639258, 603.5122846730652, 601.9601372984071, 494.85594428852346, 463.145518916213, 423.96605145006447, 417.5435350743877, 409.96454811329556, 403.934437101495, 369.86886589374586, 368.95140359325194, 324.45213019738145, 307.63117339789966, 301.5699927871066, 288.3399784046583, 286.36758345380264, 282.4516791817262, 268.1868248247775, 249.41068066815754, 248.28807317912361, 242.65683228314873, 239.89634336053405], \"Category\": [\"Default\", \"Default\", \"Default\", \"Default\", \"Default\", \"Default\", \"Default\", \"Default\", \"Default\", \"Default\", \"Default\", \"Default\", \"Default\", \"Default\", \"Default\", \"Default\", \"Default\", \"Default\", \"Default\", \"Default\", \"Default\", \"Default\", \"Default\", \"Default\", \"Default\", \"Default\", \"Default\", \"Default\", \"Default\", \"Default\", \"Topic1\", \"Topic1\", \"Topic1\", \"Topic1\", \"Topic1\", \"Topic1\", \"Topic1\", \"Topic1\", \"Topic1\", \"Topic1\", \"Topic1\", \"Topic1\", \"Topic1\", \"Topic1\", \"Topic1\", \"Topic1\", \"Topic1\", \"Topic1\", \"Topic1\", \"Topic1\", \"Topic1\", \"Topic1\", \"Topic1\", \"Topic1\", \"Topic1\", \"Topic1\", \"Topic1\", \"Topic1\", \"Topic1\", \"Topic1\", \"Topic2\", \"Topic2\", \"Topic2\", \"Topic2\", \"Topic2\", \"Topic2\", \"Topic2\", \"Topic2\", \"Topic2\", \"Topic2\", \"Topic2\", \"Topic2\", \"Topic2\", \"Topic2\", \"Topic2\", \"Topic2\", \"Topic2\", \"Topic2\", \"Topic2\", \"Topic2\", \"Topic2\", \"Topic2\", \"Topic2\", \"Topic2\", \"Topic2\", \"Topic2\", \"Topic2\", \"Topic2\", \"Topic2\", \"Topic2\", \"Topic3\", \"Topic3\", \"Topic3\", \"Topic3\", \"Topic3\", \"Topic3\", \"Topic3\", \"Topic3\", \"Topic3\", \"Topic3\", \"Topic3\", \"Topic3\", \"Topic3\", \"Topic3\", \"Topic3\", \"Topic3\", \"Topic3\", \"Topic3\", \"Topic3\", \"Topic3\", \"Topic3\", \"Topic3\", \"Topic3\", \"Topic3\", \"Topic3\", \"Topic3\", \"Topic3\", \"Topic3\", \"Topic3\", \"Topic3\", \"Topic4\", \"Topic4\", \"Topic4\", \"Topic4\", \"Topic4\", \"Topic4\", \"Topic4\", \"Topic4\", \"Topic4\", \"Topic4\", \"Topic4\", \"Topic4\", \"Topic4\", \"Topic4\", \"Topic4\", \"Topic4\", \"Topic4\", \"Topic4\", \"Topic4\", \"Topic4\", \"Topic4\", \"Topic4\", \"Topic4\", \"Topic4\", \"Topic4\", \"Topic4\", \"Topic4\", \"Topic4\", \"Topic4\", \"Topic4\", \"Topic5\", \"Topic5\", \"Topic5\", \"Topic5\", \"Topic5\", \"Topic5\", \"Topic5\", \"Topic5\", \"Topic5\", \"Topic5\", \"Topic5\", \"Topic5\", \"Topic5\", \"Topic5\", \"Topic5\", \"Topic5\", \"Topic5\", \"Topic5\", \"Topic5\", \"Topic5\", \"Topic5\", \"Topic5\", \"Topic5\", \"Topic5\", \"Topic5\", \"Topic5\", \"Topic5\", \"Topic5\", \"Topic5\", \"Topic5\", \"Topic6\", \"Topic6\", \"Topic6\", \"Topic6\", \"Topic6\", \"Topic6\", \"Topic6\", \"Topic6\", \"Topic6\", \"Topic6\", \"Topic6\", \"Topic6\", \"Topic6\", \"Topic6\", \"Topic6\", \"Topic6\", \"Topic6\", \"Topic6\", \"Topic6\", \"Topic6\", \"Topic6\", \"Topic6\", \"Topic6\", \"Topic6\", \"Topic6\", \"Topic6\", \"Topic6\", \"Topic6\", \"Topic6\", \"Topic6\"], \"logprob\": [30.0, 29.0, 28.0, 27.0, 26.0, 25.0, 24.0, 23.0, 22.0, 21.0, 20.0, 19.0, 18.0, 17.0, 16.0, 15.0, 14.0, 13.0, 12.0, 11.0, 10.0, 9.0, 8.0, 7.0, 6.0, 5.0, 4.0, 3.0, 2.0, 1.0, -2.9466, -2.9685, -3.0231, -3.2447, -3.2739, -3.5593, -3.6664, -3.7511, -3.8284, -3.8385, -4.2084, -4.2411, -4.2441, -4.2848, -4.2939, -4.315, -4.5167, -4.5141, -4.5185, -4.56, -4.5723, -4.5763, -4.6512, -4.7026, -4.7199, -4.766, -4.7735, -4.8823, -4.8814, -4.9001, -1.854, -2.3564, -2.7034, -3.0773, -3.3348, -3.5312, -4.0638, -4.078, -4.2234, -4.2585, -4.3017, -4.3815, -4.3902, -4.4427, -4.4561, -4.5059, -4.601, -4.6211, -4.652, -4.6707, -4.6955, -4.7725, -4.788, -4.8022, -4.8574, -4.8731, -4.922, -4.9646, -4.9963, -5.004, -2.819, -3.227, -3.2622, -3.4533, -3.4973, -3.5722, -3.667, -3.7115, -3.8533, -3.9609, -4.0059, -4.0867, -4.1595, -4.2321, -4.2396, -4.3196, -4.3401, -4.3612, -4.3947, -4.4334, -4.5263, -4.552, -4.5992, -4.6129, -4.6438, -4.7029, -4.7648, -4.7765, -4.8071, -4.8376, -3.1174, -3.1651, -3.5798, -3.7116, -3.7989, -4.0597, -4.2082, -4.3137, -4.3827, -4.4605, -4.4904, -4.5452, -4.59, -4.5905, -4.614, -4.6748, -4.6711, -4.6931, -4.7007, -4.7144, -4.7116, -4.726, -4.7493, -4.7532, -4.7924, -4.8617, -4.9255, -4.9368, -4.9518, -5.0251, -2.8939, -3.2207, -3.2612, -3.5017, -3.526, -3.8229, -3.9678, -4.0392, -4.0538, -4.1246, -4.2052, -4.2384, -4.2693, -4.2809, -4.2933, -4.4301, -4.4414, -4.5458, -4.6021, -4.6437, -4.6876, -4.6999, -4.7845, -4.8525, -4.9098, -4.9113, -4.9224, -4.9407, -4.9579, -4.9903, -3.1905, -3.4362, -3.4421, -3.483, -3.5409, -3.6705, -3.8895, -4.1533, -4.1727, -4.2294, -4.232, -4.4282, -4.4945, -4.583, -4.5984, -4.6167, -4.6315, -4.7198, -4.7223, -4.8511, -4.9045, -4.9245, -4.9694, -4.9763, -4.9901, -5.042, -5.1148, -5.1194, -5.1424, -5.1538], \"loglift\": [30.0, 29.0, 28.0, 27.0, 26.0, 25.0, 24.0, 23.0, 22.0, 21.0, 20.0, 19.0, 18.0, 17.0, 16.0, 15.0, 14.0, 13.0, 12.0, 11.0, 10.0, 9.0, 8.0, 7.0, 6.0, 5.0, 4.0, 3.0, 2.0, 1.0, 1.3207, 1.3207, 1.3207, 1.3206, 1.3206, 1.3205, 1.3205, 1.3205, 1.3205, 1.3205, 1.3203, 1.3203, 1.3203, 1.3202, 1.3202, 1.3202, 1.3201, 1.3201, 1.3201, 1.3201, 1.3201, 1.32, 1.32, 1.3199, 1.3199, 1.3199, 1.3199, 1.3198, 1.3198, 1.3198, 1.6837, 1.6836, 1.6836, 1.6835, 1.6834, 1.6833, 1.6831, 1.6831, 1.6829, 1.6829, 1.6829, 1.6828, 1.6828, 1.6828, 1.6827, 1.6827, 1.6826, 1.6826, 1.6825, 1.6825, 1.6825, 1.6824, 1.6824, 1.6823, 1.6823, 1.6822, 1.6822, 1.6821, 1.682, 1.682, 1.9136, 1.9135, 1.9135, 1.9134, 1.9134, 1.9133, 1.9133, 1.9133, 1.9132, 1.9131, 1.9131, 1.913, 1.9129, 1.9129, 1.9128, 1.9128, 1.9128, 1.9127, 1.9127, 1.9126, 1.9125, 1.9125, 1.9124, 1.9124, 1.9124, 1.9123, 1.9122, 1.9122, 1.9121, 1.9121, 1.9359, 1.9359, 1.9357, 1.9356, 1.9355, 1.9353, 1.9352, 1.9351, 1.935, 1.9349, 1.9349, 1.9348, 1.9347, 1.9347, 1.9347, 1.9346, 1.9346, 1.9346, 1.9346, 1.9345, 1.9345, 1.9345, 1.9345, 1.9345, 1.9344, 1.9343, 1.9341, 1.9341, 1.9341, 1.9339, 1.9962, 1.9961, 1.9961, 1.996, 1.996, 1.9958, 1.9957, 1.9956, 1.9956, 1.9955, 1.9954, 1.9954, 1.9954, 1.9954, 1.9953, 1.9952, 1.9952, 1.995, 1.9949, 1.9948, 1.9948, 1.9948, 1.9946, 1.9945, 1.9943, 1.9943, 1.9943, 1.9943, 1.9942, 1.9942, 2.1213, 2.1211, 2.1211, 2.1211, 2.1211, 2.121, 2.1208, 2.1206, 2.1205, 2.1205, 2.1205, 2.1202, 2.1201, 2.12, 2.1199, 2.1199, 2.1199, 2.1197, 2.1197, 2.1194, 2.1193, 2.1192, 2.1192, 2.1191, 2.1191, 2.119, 2.1188, 2.1187, 2.1186, 2.1186]}, \"token.table\": {\"Topic\": [4, 2, 2, 6, 1, 1, 2, 6, 5, 5, 6, 2, 3, 4, 6, 1, 4, 2, 1, 4, 4, 5, 1, 2, 3, 1, 3, 4, 3, 4, 4, 5, 5, 6, 6, 2, 2, 5, 4, 6, 5, 6, 2, 5, 2, 4, 5, 6, 6, 1, 3, 3, 3, 6, 4, 1, 1, 4, 4, 5, 4, 2, 6, 5, 5, 1, 3, 3, 4, 4, 3, 2, 2, 1, 4, 4, 6, 6, 1, 2, 3, 6, 6, 5, 2, 6, 4, 3, 3, 4, 4, 1, 1, 2, 3, 1, 5, 1, 6, 5, 1, 5, 2, 3, 4, 5, 5, 1, 3, 6, 1, 2, 5, 3, 6, 3, 6, 3, 6, 4, 5, 5, 5, 3, 4, 5, 2, 6, 3, 3, 2, 3, 1, 3, 3, 5, 1, 2, 2, 2, 4, 6, 1, 3, 2, 5, 1, 4, 1, 4, 1, 3, 6, 2, 3, 5, 5, 1, 2, 2, 6, 1, 1, 5, 6, 1, 3, 6, 2, 3, 6, 4, 4, 6, 5, 2, 4, 5, 2, 1], \"Freq\": [0.9985327947154227, 0.9987619588443015, 0.9999441450153933, 0.9988700718121738, 0.999587892999326, 0.9996020223176199, 0.999935231831511, 0.9962636222462676, 0.998636547486967, 0.9985546541650482, 0.9991386963176608, 0.9988091641509638, 0.9988092991473244, 0.9988307658500049, 0.9974213308745105, 0.9996849572480363, 0.9986091318526367, 0.9990887536625985, 0.9993516797408163, 0.998517854445115, 0.9963347477067512, 0.9994858599482869, 0.9993242527042792, 0.9999005172077579, 0.9994622211859637, 0.9996944443188469, 0.9978267010300179, 0.9991128284931463, 0.9997230419259395, 0.9991062180624979, 0.9987755552793269, 0.9981608430551006, 0.9994711374995922, 0.9976508812342278, 0.9986982553225477, 0.9995373706760727, 0.998647399391248, 0.9990507196882727, 0.9975907359639274, 0.9976472401876344, 0.9991254560159282, 0.9987163929332736, 0.9996861514283611, 0.996505718550927, 0.9982791691685529, 0.9988422708431857, 0.9964249984507586, 0.9988397623154626, 0.9986064810327909, 0.9996282739796716, 0.9998950761972188, 0.9991445603554152, 0.997246810676949, 0.9993628258222756, 0.999420332800428, 0.9996665281833718, 0.9995399523998171, 0.9968759896055528, 0.9994980537335023, 0.9987561808168467, 0.99875867413596, 0.9993342571454771, 0.9991511611510232, 0.9981409418653195, 0.99922632142827, 0.9990696155936002, 0.9992469278937574, 0.9981030868587529, 0.9991068651576016, 0.9975005838161963, 0.9992993449384822, 0.9991004472059644, 0.9987639404496832, 0.9995607868469039, 0.9986524050506222, 0.9983507343178816, 0.999380061332369, 0.9977213943268327, 0.99978127454409, 0.99812621849808, 0.9997619322748321, 0.9984049819266835, 0.9982703162437422, 0.9976809564586326, 0.9995268853055741, 0.9983533958246802, 0.9995455153095635, 0.9989589235662751, 0.9986374190954062, 0.9993308997198577, 0.999128793390302, 0.9997642741411867, 0.9996581405390672, 0.9985840546744754, 0.9995909164595042, 0.9998611990373764, 0.9987794912355945, 0.9986802829174094, 0.9982013419420496, 0.9992633077450864, 0.99937275423867, 0.9990364236136998, 0.9998314425956358, 0.9988111496772482, 0.9987849311867854, 0.9996001836959403, 0.9969274297844145, 0.9992017037296921, 0.9984535760164541, 0.9992121395642717, 0.9989422808723599, 0.9991284977629902, 0.9986698724653476, 0.9996084786739794, 0.9984008621119381, 0.9978786831563391, 0.9988209113195493, 0.9984015127585844, 0.998109915440065, 0.9992637283473239, 0.9994547905288172, 0.9992188349703665, 0.998809578670979, 0.999641365559021, 0.9982514649443754, 0.998899760015943, 0.9978767553461453, 0.9976866614587253, 0.9996904386953728, 0.9982035403102849, 0.9990924966275244, 0.9992851127569747, 0.998888643283829, 0.997313792465981, 0.9994118372542912, 0.9996046482946647, 0.9991594406291108, 0.9992942665040994, 0.9976391175842333, 0.9996975772454549, 0.9994852334073399, 0.9955746341172691, 0.9998077483984358, 0.9979066484048595, 0.9986390430612482, 0.9979444609751094, 0.9996226135266875, 0.9987465103722591, 0.9995118872016516, 0.9986976607985987, 0.9992901730652155, 0.9995023105046738, 0.9998157573739286, 0.9995002344245129, 0.9991961186851243, 0.9987927715027032, 0.9970235771533253, 0.9999138823858589, 0.9984074600936055, 0.9986750775923552, 0.9979482788076119, 0.9998476999970205, 0.9991329571805816, 0.999024306098075, 0.9972931638603841, 0.9995097744581743, 0.9993365516187357, 0.9998646828057217, 0.9995507824808441, 0.9974776233067215, 0.9997685772802827, 0.9989280536553511, 0.9972524215442345, 0.9975266544327287, 0.9973898675368031, 0.9989094791340896, 0.9992346270271263, 0.9988436304512779, 0.9994530451613921, 0.9989110185536233], \"Term\": [\"able\", \"access\", \"account\", \"almost\", \"already\", \"also\", \"always\", \"android\", \"anymore\", \"anything\", \"apps\", \"ask\", \"asking\", \"available\", \"ayaw\", \"back\", \"bad\", \"balance\", \"bank\", \"better\", \"bill\", \"bills\", \"buy\", \"cannot\", \"card\", \"cash\", \"change\", \"check\", \"code\", \"convenient\", \"could\", \"credit\", \"customer\", \"daw\", \"day\", \"days\", \"disappointed\", \"download\", \"due\", \"easy\", \"email\", \"emergency\", \"error\", \"ever\", \"everytime\", \"experience\", \"failed\", \"fast\", \"features\", \"first\", \"fix\", \"forgot\", \"frustrating\", \"fully\", \"gcredit\", \"get\", \"give\", \"go\", \"good\", \"got\", \"great\", \"happened\", \"hard\", \"hassle\", \"help\", \"hope\", \"id\", \"internet\", \"issue\", \"issues\", \"know\", \"lagi\", \"laging\", \"last\", \"let\", \"limit\", \"link\", \"lng\", \"load\", \"loading\", \"log\", \"login\", \"lot\", \"magamit\", \"maintenance\", \"makapag\", \"make\", \"many\", \"many_times\", \"mastercard\", \"message\", \"money\", \"month\", \"months\", \"mpin\", \"need\", \"never\", \"new\", \"nice\", \"nothing\", \"number\", \"ok\", \"open\", \"option\", \"paid\", \"pay\", \"paymaya\", \"payment\", \"paypal\", \"pera\", \"phone\", \"pin\", \"poor\", \"problem\", \"problema\", \"process\", \"puro\", \"put\", \"qr\", \"really\", \"receive\", \"received\", \"refund\", \"register\", \"resolve\", \"resolved\", \"response\", \"rin\", \"said\", \"sana\", \"say\", \"says\", \"send\", \"sending\", \"sent\", \"service\", \"since\", \"slow\", \"soon\", \"still\", \"support\", \"sya\", \"system\", \"take\", \"though\", \"ticket\", \"time\", \"times\", \"transaction\", \"transactions\", \"transfer\", \"tried\", \"try\", \"trying\", \"unable\", \"unavailable\", \"uninstall\", \"update\", \"updated\", \"updating\", \"upgrade\", \"use\", \"used\", \"useless\", \"users\", \"using\", \"verification\", \"verified\", \"verify\", \"waiting\", \"wala\", \"want\", \"way\", \"weeks\", \"without\", \"work\", \"working\", \"worst\", \"wrong\", \"yet\"]}, \"R\": 30, \"lambda.step\": 0.01, \"plot.opts\": {\"xlab\": \"PC1\", \"ylab\": \"PC2\"}, \"topic.order\": [1, 4, 2, 3, 6, 5]};\n",
              "\n",
              "function LDAvis_load_lib(url, callback){\n",
              "  var s = document.createElement('script');\n",
              "  s.src = url;\n",
              "  s.async = true;\n",
              "  s.onreadystatechange = s.onload = callback;\n",
              "  s.onerror = function(){console.warn(\"failed to load library \" + url);};\n",
              "  document.getElementsByTagName(\"head\")[0].appendChild(s);\n",
              "}\n",
              "\n",
              "if(typeof(LDAvis) !== \"undefined\"){\n",
              "   // already loaded: just create the visualization\n",
              "   !function(LDAvis){\n",
              "       new LDAvis(\"#\" + \"ldavis_el3431404506977818404875425668\", ldavis_el3431404506977818404875425668_data);\n",
              "   }(LDAvis);\n",
              "}else if(typeof define === \"function\" && define.amd){\n",
              "   // require.js is available: use it to load d3/LDAvis\n",
              "   require.config({paths: {d3: \"https://d3js.org/d3.v5\"}});\n",
              "   require([\"d3\"], function(d3){\n",
              "      window.d3 = d3;\n",
              "      LDAvis_load_lib(\"https://cdn.jsdelivr.net/gh/bmabey/pyLDAvis@3.3.1/pyLDAvis/js/ldavis.v3.0.0.js\", function(){\n",
              "        new LDAvis(\"#\" + \"ldavis_el3431404506977818404875425668\", ldavis_el3431404506977818404875425668_data);\n",
              "      });\n",
              "    });\n",
              "}else{\n",
              "    // require.js not available: dynamically load d3 & LDAvis\n",
              "    LDAvis_load_lib(\"https://d3js.org/d3.v5.js\", function(){\n",
              "         LDAvis_load_lib(\"https://cdn.jsdelivr.net/gh/bmabey/pyLDAvis@3.3.1/pyLDAvis/js/ldavis.v3.0.0.js\", function(){\n",
              "                 new LDAvis(\"#\" + \"ldavis_el3431404506977818404875425668\", ldavis_el3431404506977818404875425668_data);\n",
              "            })\n",
              "         });\n",
              "}\n",
              "</script>"
            ],
            "text/plain": [
              "PreparedData(topic_coordinates=              x         y  topics  cluster       Freq\n",
              "topic                                                \n",
              "0     -0.324940  0.295441       1        1  26.691584\n",
              "3      0.352191  0.259522       2        1  18.568143\n",
              "1      0.029882 -0.132578       3        1  14.751510\n",
              "2     -0.017357 -0.131602       4        1  14.424931\n",
              "5     -0.041251 -0.156938       5        1  13.580854\n",
              "4      0.001475 -0.133845       6        1  11.982978, topic_info=         Term          Freq         Total Category  logprob  loglift\n",
              "34     cannot  10046.000000  10046.000000  Default  30.0000  30.0000\n",
              "71    account   6079.000000   6079.000000  Default  29.0000  29.0000\n",
              "1      always   4297.000000   4297.000000  Default  28.0000  28.0000\n",
              "22     update   4843.000000   4843.000000  Default  27.0000  27.0000\n",
              "167       use   4738.000000   4738.000000  Default  26.0000  26.0000\n",
              "...       ...           ...           ...      ...      ...      ...\n",
              "1050      sya    267.458972    268.186825   Topic6  -5.0420   2.1190\n",
              "479   makapag    248.683024    249.410681   Topic6  -5.1148   2.1188\n",
              "517      fast    247.547840    248.288073   Topic6  -5.1194   2.1187\n",
              "295     users    241.919038    242.656832   Topic6  -5.1424   2.1186\n",
              "329   android    239.160551    239.896343   Topic6  -5.1538   2.1186\n",
              "\n",
              "[210 rows x 6 columns], token_table=      Topic      Freq     Term\n",
              "term                          \n",
              "0         4  0.998533     able\n",
              "455       2  0.998762   access\n",
              "71        2  0.999944  account\n",
              "188       6  0.998870   almost\n",
              "135       1  0.999588  already\n",
              "...     ...       ...      ...\n",
              "319       2  0.998909     work\n",
              "671       4  0.999235  working\n",
              "170       5  0.998844    worst\n",
              "485       2  0.999453    wrong\n",
              "143       1  0.998911      yet\n",
              "\n",
              "[180 rows x 3 columns], R=30, lambda_step=0.01, plot_opts={'xlab': 'PC1', 'ylab': 'PC2'}, topic_order=[1, 4, 2, 3, 6, 5])"
            ]
          },
          "metadata": {
            "tags": []
          },
          "execution_count": 402
        }
      ]
    },
    {
      "cell_type": "code",
      "metadata": {
        "id": "yUP8xcaMcvhF"
      },
      "source": [
        ""
      ],
      "execution_count": 402,
      "outputs": []
    }
  ]
}