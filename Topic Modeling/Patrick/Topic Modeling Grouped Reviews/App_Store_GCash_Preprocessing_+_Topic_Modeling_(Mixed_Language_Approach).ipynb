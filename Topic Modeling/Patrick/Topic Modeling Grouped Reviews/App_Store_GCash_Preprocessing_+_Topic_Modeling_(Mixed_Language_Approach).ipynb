{
  "nbformat": 4,
  "nbformat_minor": 0,
  "metadata": {
    "colab": {
      "name": " App Store GCash - Preprocessing + Topic Modeling (Mixed Language Approach).ipynb",
      "provenance": [],
      "collapsed_sections": [],
      "toc_visible": true
    },
    "kernelspec": {
      "name": "python3",
      "display_name": "Python 3"
    },
    "language_info": {
      "name": "python"
    }
  },
  "cells": [
    {
      "cell_type": "markdown",
      "metadata": {
        "id": "rwT6404Ajmd4"
      },
      "source": [
        "# Preprocessing + Topic Modeling (Mixed Language Approach)\n",
        "This notebook serves as a demo for topic modeling GCash App Store Reviews using LDA. The approach of this notebook is to ignore the multi-lingual nature of reviews and move directly to LDA after data cleaning. This notebook will be divided into four parts:\n",
        "\n",
        "1. Data Cleaning\n",
        "2. Text Cleaning\n",
        "3. Modeling (LDA)\n",
        "4. Exploration of Results"
      ]
    },
    {
      "cell_type": "code",
      "metadata": {
        "colab": {
          "base_uri": "https://localhost:8080/"
        },
        "id": "C3rT1zxJUizq",
        "outputId": "1051bab6-b9cb-4cd0-d667-d59d18564859"
      },
      "source": [
        "from google.colab import drive\n",
        "drive.mount('/content/drive/')"
      ],
      "execution_count": 1,
      "outputs": [
        {
          "output_type": "stream",
          "text": [
            "Mounted at /content/drive/\n"
          ],
          "name": "stdout"
        }
      ]
    },
    {
      "cell_type": "code",
      "metadata": {
        "colab": {
          "base_uri": "https://localhost:8080/"
        },
        "id": "Ast1TCbWU66i",
        "outputId": "df6736a7-3883-4eb0-8ff3-5e2977d10f6b"
      },
      "source": [
        "!ls \"/content/drive/My Drive/Data/Reviews/App Store/GCash\""
      ],
      "execution_count": 2,
      "outputs": [
        {
          "output_type": "stream",
          "text": [
            "app_info.csv\t     gcash_0613-1427.csv\t Old\n",
            "gcash_0604-2124.csv  gcash_appstore_reviews.csv\n"
          ],
          "name": "stdout"
        }
      ]
    },
    {
      "cell_type": "code",
      "metadata": {
        "id": "tImUi3ghxOIM"
      },
      "source": [
        "!pip install emot contractions pyLDAvis lda\n",
        "!python3 -m spacy download en"
      ],
      "execution_count": null,
      "outputs": []
    },
    {
      "cell_type": "code",
      "metadata": {
        "id": "JzIQhx5ukPfe"
      },
      "source": [
        "# importing libraries\n",
        "import pandas as pd\n",
        "import numpy as np \n",
        "import regex as re\n",
        "import datetime\n",
        "import json\n",
        "\n",
        "from emot.emo_unicode import UNICODE_EMO, EMOTICONS\n",
        "import contractions\n",
        "\n",
        "\n",
        "from spacy.lang.tl.stop_words import STOP_WORDS as tl_stop\n",
        "from spacy.lang.en.stop_words import STOP_WORDS as en_stop\n",
        "\n",
        "#nltk\n",
        "import nltk\n",
        "from nltk.corpus import stopwords\n",
        "\n",
        "# Gensim\n",
        "import gensim\n",
        "import gensim.corpora as corpora\n",
        "from gensim.utils import simple_preprocess\n",
        "from gensim.models import CoherenceModel\n",
        "import nltk\n",
        "import tqdm\n",
        "\n",
        "# spacy for lemmatization\n",
        "import spacy\n",
        "\n",
        "# Plotting tools\n",
        "import pyLDAvis\n",
        "import pyLDAvis.gensim_models  # don't skip this\n",
        "import matplotlib.pyplot as plt\n",
        "%matplotlib inline\n",
        "\n",
        "# Enable logging for gensim - optional\n",
        "import logging\n",
        "logging.basicConfig(format='%(asctime)s : %(levelname)s : %(message)s', level=logging.ERROR)"
      ],
      "execution_count": 5,
      "outputs": []
    },
    {
      "cell_type": "code",
      "metadata": {
        "id": "Z49bQJ0NkPnM"
      },
      "source": [
        "# importing the dataset\n",
        "df = pd.read_csv('/content/drive/My Drive/Data/Reviews/App Store/GCash/gcash_0613-1427.csv')"
      ],
      "execution_count": 297,
      "outputs": []
    },
    {
      "cell_type": "code",
      "metadata": {
        "id": "ZEoG0tP1lNoc",
        "colab": {
          "base_uri": "https://localhost:8080/"
        },
        "outputId": "12aefc61-a827-4ac0-9cbe-461116d19957"
      },
      "source": [
        "df.shape"
      ],
      "execution_count": 298,
      "outputs": [
        {
          "output_type": "execute_result",
          "data": {
            "text/plain": [
              "(4867, 9)"
            ]
          },
          "metadata": {
            "tags": []
          },
          "execution_count": 298
        }
      ]
    },
    {
      "cell_type": "code",
      "metadata": {
        "id": "GwH3Ps-dlPs6",
        "colab": {
          "base_uri": "https://localhost:8080/"
        },
        "outputId": "d38c996f-8201-4f01-de44-767b6729ab12"
      },
      "source": [
        "df.dtypes"
      ],
      "execution_count": 299,
      "outputs": [
        {
          "output_type": "execute_result",
          "data": {
            "text/plain": [
              "title                object\n",
              "date                 object\n",
              "rating                int64\n",
              "userName             object\n",
              "isEdited               bool\n",
              "review               object\n",
              "app_name             object\n",
              "app_id                int64\n",
              "developerResponse    object\n",
              "dtype: object"
            ]
          },
          "metadata": {
            "tags": []
          },
          "execution_count": 299
        }
      ]
    },
    {
      "cell_type": "code",
      "metadata": {
        "id": "fjjTCM1TkxQ2",
        "colab": {
          "base_uri": "https://localhost:8080/",
          "height": 145
        },
        "outputId": "3c0f8fe1-49bb-47c9-9ffe-75564f6016f2"
      },
      "source": [
        "df.head(2)"
      ],
      "execution_count": 300,
      "outputs": [
        {
          "output_type": "execute_result",
          "data": {
            "text/html": [
              "<div>\n",
              "<style scoped>\n",
              "    .dataframe tbody tr th:only-of-type {\n",
              "        vertical-align: middle;\n",
              "    }\n",
              "\n",
              "    .dataframe tbody tr th {\n",
              "        vertical-align: top;\n",
              "    }\n",
              "\n",
              "    .dataframe thead th {\n",
              "        text-align: right;\n",
              "    }\n",
              "</style>\n",
              "<table border=\"1\" class=\"dataframe\">\n",
              "  <thead>\n",
              "    <tr style=\"text-align: right;\">\n",
              "      <th></th>\n",
              "      <th>title</th>\n",
              "      <th>date</th>\n",
              "      <th>rating</th>\n",
              "      <th>userName</th>\n",
              "      <th>isEdited</th>\n",
              "      <th>review</th>\n",
              "      <th>app_name</th>\n",
              "      <th>app_id</th>\n",
              "      <th>developerResponse</th>\n",
              "    </tr>\n",
              "  </thead>\n",
              "  <tbody>\n",
              "    <tr>\n",
              "      <th>0</th>\n",
              "      <td>It is starting to become pretty annoying</td>\n",
              "      <td>2018-12-29 15:24:59</td>\n",
              "      <td>3</td>\n",
              "      <td>Fhayerie0406</td>\n",
              "      <td>False</td>\n",
              "      <td>Almost everything is smooth except for three t...</td>\n",
              "      <td>gcash</td>\n",
              "      <td>520020791</td>\n",
              "      <td>NaN</td>\n",
              "    </tr>\n",
              "    <tr>\n",
              "      <th>1</th>\n",
              "      <td>Actually ok.</td>\n",
              "      <td>2020-05-16 07:33:32</td>\n",
              "      <td>5</td>\n",
              "      <td>i don't usually rate/review</td>\n",
              "      <td>False</td>\n",
              "      <td>This app gets so many negative reviews but it’...</td>\n",
              "      <td>gcash</td>\n",
              "      <td>520020791</td>\n",
              "      <td>NaN</td>\n",
              "    </tr>\n",
              "  </tbody>\n",
              "</table>\n",
              "</div>"
            ],
            "text/plain": [
              "                                      title  ... developerResponse\n",
              "0  It is starting to become pretty annoying  ...               NaN\n",
              "1                              Actually ok.  ...               NaN\n",
              "\n",
              "[2 rows x 9 columns]"
            ]
          },
          "metadata": {
            "tags": []
          },
          "execution_count": 300
        }
      ]
    },
    {
      "cell_type": "markdown",
      "metadata": {
        "id": "9NZMpbSEj_oC"
      },
      "source": [
        "## Part 1: Data Exploration + Cleaning"
      ]
    },
    {
      "cell_type": "code",
      "metadata": {
        "id": "foPJjLZVmoFW",
        "colab": {
          "base_uri": "https://localhost:8080/"
        },
        "outputId": "84e58de0-c38a-42f0-cbf1-bd3a7a4e6579"
      },
      "source": [
        "# Checking for null values\n",
        "df.isnull().sum() "
      ],
      "execution_count": 301,
      "outputs": [
        {
          "output_type": "execute_result",
          "data": {
            "text/plain": [
              "title                   0\n",
              "date                    0\n",
              "rating                  0\n",
              "userName                0\n",
              "isEdited                0\n",
              "review                  0\n",
              "app_name                0\n",
              "app_id                  0\n",
              "developerResponse    4718\n",
              "dtype: int64"
            ]
          },
          "metadata": {
            "tags": []
          },
          "execution_count": 301
        }
      ]
    },
    {
      "cell_type": "code",
      "metadata": {
        "id": "StJdPT_cm2TI"
      },
      "source": [
        "# Dropping unwanted columns [userName, app_name, app_id, developerResponse]\n",
        "df = df.drop(['userName', 'app_name', 'app_id', 'developerResponse', 'isEdited'], axis=1)"
      ],
      "execution_count": 302,
      "outputs": []
    },
    {
      "cell_type": "code",
      "metadata": {
        "id": "Dc4F9FJSjhz6"
      },
      "source": [
        "# Splitting datetime column + Checking date range\n",
        "\n",
        "# Code block below separated the timestamp [[date]] column into Date and Time column respectively\n",
        "df['Dates'] = pd.to_datetime(df['date']).dt.date\n",
        "df['Time'] = pd.to_datetime(df['date']).dt.time\n",
        "df = df.drop('date', axis=1)"
      ],
      "execution_count": 303,
      "outputs": []
    },
    {
      "cell_type": "code",
      "metadata": {
        "id": "-9uJxaZClsWs",
        "colab": {
          "base_uri": "https://localhost:8080/",
          "height": 80
        },
        "outputId": "fbc036e8-8346-4b88-9c7e-7976fd8e4d3b"
      },
      "source": [
        "df.sort_values(by='Dates', ascending=False).head(1)"
      ],
      "execution_count": 304,
      "outputs": [
        {
          "output_type": "execute_result",
          "data": {
            "text/html": [
              "<div>\n",
              "<style scoped>\n",
              "    .dataframe tbody tr th:only-of-type {\n",
              "        vertical-align: middle;\n",
              "    }\n",
              "\n",
              "    .dataframe tbody tr th {\n",
              "        vertical-align: top;\n",
              "    }\n",
              "\n",
              "    .dataframe thead th {\n",
              "        text-align: right;\n",
              "    }\n",
              "</style>\n",
              "<table border=\"1\" class=\"dataframe\">\n",
              "  <thead>\n",
              "    <tr style=\"text-align: right;\">\n",
              "      <th></th>\n",
              "      <th>title</th>\n",
              "      <th>rating</th>\n",
              "      <th>review</th>\n",
              "      <th>Dates</th>\n",
              "      <th>Time</th>\n",
              "    </tr>\n",
              "  </thead>\n",
              "  <tbody>\n",
              "    <tr>\n",
              "      <th>2570</th>\n",
              "      <td>Annoying</td>\n",
              "      <td>2</td>\n",
              "      <td>I can’t open my GCash account 4days after i ac...</td>\n",
              "      <td>2021-06-11</td>\n",
              "      <td>09:05:47</td>\n",
              "    </tr>\n",
              "  </tbody>\n",
              "</table>\n",
              "</div>"
            ],
            "text/plain": [
              "         title  rating  ...       Dates      Time\n",
              "2570  Annoying       2  ...  2021-06-11  09:05:47\n",
              "\n",
              "[1 rows x 5 columns]"
            ]
          },
          "metadata": {
            "tags": []
          },
          "execution_count": 304
        }
      ]
    },
    {
      "cell_type": "code",
      "metadata": {
        "id": "0J-wd6N7ltlQ",
        "colab": {
          "base_uri": "https://localhost:8080/",
          "height": 80
        },
        "outputId": "28a6a0c7-9b19-44f6-b23e-4eedf91bf993"
      },
      "source": [
        "df.sort_values(by='Dates', ascending=True).head(1)"
      ],
      "execution_count": 305,
      "outputs": [
        {
          "output_type": "execute_result",
          "data": {
            "text/html": [
              "<div>\n",
              "<style scoped>\n",
              "    .dataframe tbody tr th:only-of-type {\n",
              "        vertical-align: middle;\n",
              "    }\n",
              "\n",
              "    .dataframe tbody tr th {\n",
              "        vertical-align: top;\n",
              "    }\n",
              "\n",
              "    .dataframe thead th {\n",
              "        text-align: right;\n",
              "    }\n",
              "</style>\n",
              "<table border=\"1\" class=\"dataframe\">\n",
              "  <thead>\n",
              "    <tr style=\"text-align: right;\">\n",
              "      <th></th>\n",
              "      <th>title</th>\n",
              "      <th>rating</th>\n",
              "      <th>review</th>\n",
              "      <th>Dates</th>\n",
              "      <th>Time</th>\n",
              "    </tr>\n",
              "  </thead>\n",
              "  <tbody>\n",
              "    <tr>\n",
              "      <th>4134</th>\n",
              "      <td>App does not work</td>\n",
              "      <td>1</td>\n",
              "      <td>App does not work. It hangs and automatically ...</td>\n",
              "      <td>2012-05-23</td>\n",
              "      <td>16:24:07</td>\n",
              "    </tr>\n",
              "  </tbody>\n",
              "</table>\n",
              "</div>"
            ],
            "text/plain": [
              "                  title  rating  ...       Dates      Time\n",
              "4134  App does not work       1  ...  2012-05-23  16:24:07\n",
              "\n",
              "[1 rows x 5 columns]"
            ]
          },
          "metadata": {
            "tags": []
          },
          "execution_count": 305
        }
      ]
    },
    {
      "cell_type": "markdown",
      "metadata": {
        "id": "CEot_wyzmLFP"
      },
      "source": [
        "In the section above, we can see that the dataset ranges from 2012-05-23 to 2021-06-11."
      ]
    },
    {
      "cell_type": "code",
      "metadata": {
        "id": "1MEu6XTPmIzC",
        "colab": {
          "base_uri": "https://localhost:8080/"
        },
        "outputId": "78a4549e-d045-436e-b2e8-12fe5e2f13f5"
      },
      "source": [
        "df.dtypes"
      ],
      "execution_count": 306,
      "outputs": [
        {
          "output_type": "execute_result",
          "data": {
            "text/plain": [
              "title     object\n",
              "rating     int64\n",
              "review    object\n",
              "Dates     object\n",
              "Time      object\n",
              "dtype: object"
            ]
          },
          "metadata": {
            "tags": []
          },
          "execution_count": 306
        }
      ]
    },
    {
      "cell_type": "code",
      "metadata": {
        "id": "BfKtZ66Qnehd"
      },
      "source": [
        "# Joining the title and review column\n",
        "\n",
        "df['final_review'] = df.title.map(str) + \" \" + df.review"
      ],
      "execution_count": 307,
      "outputs": []
    },
    {
      "cell_type": "code",
      "metadata": {
        "id": "0j7UbhqRoK1f"
      },
      "source": [
        "df = df.drop(['review','title'], axis=1)"
      ],
      "execution_count": 308,
      "outputs": []
    },
    {
      "cell_type": "code",
      "metadata": {
        "id": "Xlv7Ip8Y0IQn"
      },
      "source": [
        "df['word_count'] = df['final_review'].str.split().str.len()"
      ],
      "execution_count": 309,
      "outputs": []
    },
    {
      "cell_type": "code",
      "metadata": {
        "id": "QyVRwixP21u8",
        "colab": {
          "base_uri": "https://localhost:8080/",
          "height": 80
        },
        "outputId": "81c13197-45bc-4e12-f567-a3c604e8d9d6"
      },
      "source": [
        "df.head(1)"
      ],
      "execution_count": 310,
      "outputs": [
        {
          "output_type": "execute_result",
          "data": {
            "text/html": [
              "<div>\n",
              "<style scoped>\n",
              "    .dataframe tbody tr th:only-of-type {\n",
              "        vertical-align: middle;\n",
              "    }\n",
              "\n",
              "    .dataframe tbody tr th {\n",
              "        vertical-align: top;\n",
              "    }\n",
              "\n",
              "    .dataframe thead th {\n",
              "        text-align: right;\n",
              "    }\n",
              "</style>\n",
              "<table border=\"1\" class=\"dataframe\">\n",
              "  <thead>\n",
              "    <tr style=\"text-align: right;\">\n",
              "      <th></th>\n",
              "      <th>rating</th>\n",
              "      <th>Dates</th>\n",
              "      <th>Time</th>\n",
              "      <th>final_review</th>\n",
              "      <th>word_count</th>\n",
              "    </tr>\n",
              "  </thead>\n",
              "  <tbody>\n",
              "    <tr>\n",
              "      <th>0</th>\n",
              "      <td>3</td>\n",
              "      <td>2018-12-29</td>\n",
              "      <td>15:24:59</td>\n",
              "      <td>It is starting to become pretty annoying Almos...</td>\n",
              "      <td>234</td>\n",
              "    </tr>\n",
              "  </tbody>\n",
              "</table>\n",
              "</div>"
            ],
            "text/plain": [
              "   rating  ... word_count\n",
              "0       3  ...        234\n",
              "\n",
              "[1 rows x 5 columns]"
            ]
          },
          "metadata": {
            "tags": []
          },
          "execution_count": 310
        }
      ]
    },
    {
      "cell_type": "code",
      "metadata": {
        "id": "qFYy4MW48fFh"
      },
      "source": [
        "df2 = df.copy()"
      ],
      "execution_count": 311,
      "outputs": []
    },
    {
      "cell_type": "code",
      "metadata": {
        "id": "dcdR0ZXn1PA8"
      },
      "source": [
        "# Filter pandas df for reviews from january 2020 to may 2021\n",
        "# import datetime\n",
        "df2 = df2[(df2['Dates']>datetime.date(2020,1,1)) & (df2['Dates']<datetime.date(2021,5,31))] "
      ],
      "execution_count": 312,
      "outputs": []
    },
    {
      "cell_type": "code",
      "metadata": {
        "id": "UeGLx8fX1xZ1",
        "colab": {
          "base_uri": "https://localhost:8080/"
        },
        "outputId": "ba2c4083-af56-491a-d2af-b36c8c24d3f4"
      },
      "source": [
        "df2.shape"
      ],
      "execution_count": 313,
      "outputs": [
        {
          "output_type": "execute_result",
          "data": {
            "text/plain": [
              "(2498, 5)"
            ]
          },
          "metadata": {
            "tags": []
          },
          "execution_count": 313
        }
      ]
    },
    {
      "cell_type": "code",
      "metadata": {
        "id": "jSBfysmr0jhI",
        "colab": {
          "base_uri": "https://localhost:8080/",
          "height": 419
        },
        "outputId": "f4c041e8-b0c9-40c4-9921-9c1a31761241"
      },
      "source": [
        "df2.sort_values(by='word_count')"
      ],
      "execution_count": 314,
      "outputs": [
        {
          "output_type": "execute_result",
          "data": {
            "text/html": [
              "<div>\n",
              "<style scoped>\n",
              "    .dataframe tbody tr th:only-of-type {\n",
              "        vertical-align: middle;\n",
              "    }\n",
              "\n",
              "    .dataframe tbody tr th {\n",
              "        vertical-align: top;\n",
              "    }\n",
              "\n",
              "    .dataframe thead th {\n",
              "        text-align: right;\n",
              "    }\n",
              "</style>\n",
              "<table border=\"1\" class=\"dataframe\">\n",
              "  <thead>\n",
              "    <tr style=\"text-align: right;\">\n",
              "      <th></th>\n",
              "      <th>rating</th>\n",
              "      <th>Dates</th>\n",
              "      <th>Time</th>\n",
              "      <th>final_review</th>\n",
              "      <th>word_count</th>\n",
              "    </tr>\n",
              "  </thead>\n",
              "  <tbody>\n",
              "    <tr>\n",
              "      <th>4491</th>\n",
              "      <td>1</td>\n",
              "      <td>2021-01-21</td>\n",
              "      <td>02:28:07</td>\n",
              "      <td>Poor WTF</td>\n",
              "      <td>2</td>\n",
              "    </tr>\n",
              "    <tr>\n",
              "      <th>4308</th>\n",
              "      <td>5</td>\n",
              "      <td>2020-06-14</td>\n",
              "      <td>14:51:30</td>\n",
              "      <td>omsim 🔥🔥🔥🔥</td>\n",
              "      <td>2</td>\n",
              "    </tr>\n",
              "    <tr>\n",
              "      <th>4325</th>\n",
              "      <td>1</td>\n",
              "      <td>2020-04-17</td>\n",
              "      <td>12:20:45</td>\n",
              "      <td>Nakputaka Nakputaka</td>\n",
              "      <td>2</td>\n",
              "    </tr>\n",
              "    <tr>\n",
              "      <th>4539</th>\n",
              "      <td>1</td>\n",
              "      <td>2020-09-24</td>\n",
              "      <td>02:47:09</td>\n",
              "      <td>Habducy Hansjaknahd</td>\n",
              "      <td>2</td>\n",
              "    </tr>\n",
              "    <tr>\n",
              "      <th>4230</th>\n",
              "      <td>5</td>\n",
              "      <td>2021-05-12</td>\n",
              "      <td>16:22:47</td>\n",
              "      <td>Yes Kaksnsksksk</td>\n",
              "      <td>2</td>\n",
              "    </tr>\n",
              "    <tr>\n",
              "      <th>...</th>\n",
              "      <td>...</td>\n",
              "      <td>...</td>\n",
              "      <td>...</td>\n",
              "      <td>...</td>\n",
              "      <td>...</td>\n",
              "    </tr>\n",
              "    <tr>\n",
              "      <th>3727</th>\n",
              "      <td>1</td>\n",
              "      <td>2020-01-04</td>\n",
              "      <td>12:59:40</td>\n",
              "      <td>Don’t trust your money with them If there is a...</td>\n",
              "      <td>305</td>\n",
              "    </tr>\n",
              "    <tr>\n",
              "      <th>3751</th>\n",
              "      <td>2</td>\n",
              "      <td>2021-04-24</td>\n",
              "      <td>01:39:51</td>\n",
              "      <td>The best in PH, because it’s the only thing we...</td>\n",
              "      <td>343</td>\n",
              "    </tr>\n",
              "    <tr>\n",
              "      <th>3206</th>\n",
              "      <td>1</td>\n",
              "      <td>2020-02-15</td>\n",
              "      <td>11:35:03</td>\n",
              "      <td>Too many issues/Customer Service unhelpful Tho...</td>\n",
              "      <td>349</td>\n",
              "    </tr>\n",
              "    <tr>\n",
              "      <th>3778</th>\n",
              "      <td>1</td>\n",
              "      <td>2020-03-18</td>\n",
              "      <td>14:44:27</td>\n",
              "      <td>App is horrible Hi, this is my 2nd time of sen...</td>\n",
              "      <td>406</td>\n",
              "    </tr>\n",
              "    <tr>\n",
              "      <th>4618</th>\n",
              "      <td>1</td>\n",
              "      <td>2020-04-30</td>\n",
              "      <td>16:24:45</td>\n",
              "      <td>This is not from me. Credits to the owner of t...</td>\n",
              "      <td>447</td>\n",
              "    </tr>\n",
              "  </tbody>\n",
              "</table>\n",
              "<p>2498 rows × 5 columns</p>\n",
              "</div>"
            ],
            "text/plain": [
              "      rating  ... word_count\n",
              "4491       1  ...          2\n",
              "4308       5  ...          2\n",
              "4325       1  ...          2\n",
              "4539       1  ...          2\n",
              "4230       5  ...          2\n",
              "...      ...  ...        ...\n",
              "3727       1  ...        305\n",
              "3751       2  ...        343\n",
              "3206       1  ...        349\n",
              "3778       1  ...        406\n",
              "4618       1  ...        447\n",
              "\n",
              "[2498 rows x 5 columns]"
            ]
          },
          "metadata": {
            "tags": []
          },
          "execution_count": 314
        }
      ]
    },
    {
      "cell_type": "code",
      "metadata": {
        "id": "xgSNNgoV07m0",
        "colab": {
          "base_uri": "https://localhost:8080/"
        },
        "outputId": "a2e596e0-e253-4d90-9452-331906efc83a"
      },
      "source": [
        "df2['word_count'].value_counts().sort_index().head(10)"
      ],
      "execution_count": 315,
      "outputs": [
        {
          "output_type": "execute_result",
          "data": {
            "text/plain": [
              "2     14\n",
              "3      4\n",
              "4     22\n",
              "5     23\n",
              "6     34\n",
              "7     31\n",
              "8     53\n",
              "9     49\n",
              "10    46\n",
              "11    48\n",
              "Name: word_count, dtype: int64"
            ]
          },
          "metadata": {
            "tags": []
          },
          "execution_count": 315
        }
      ]
    },
    {
      "cell_type": "code",
      "metadata": {
        "id": "tsK0Kf723tdl",
        "colab": {
          "base_uri": "https://localhost:8080/",
          "height": 483
        },
        "outputId": "c8e0987c-d614-44d6-d8c2-bf11335db72f"
      },
      "source": [
        "df2.loc[df2['word_count'].isin([2])]"
      ],
      "execution_count": 316,
      "outputs": [
        {
          "output_type": "execute_result",
          "data": {
            "text/html": [
              "<div>\n",
              "<style scoped>\n",
              "    .dataframe tbody tr th:only-of-type {\n",
              "        vertical-align: middle;\n",
              "    }\n",
              "\n",
              "    .dataframe tbody tr th {\n",
              "        vertical-align: top;\n",
              "    }\n",
              "\n",
              "    .dataframe thead th {\n",
              "        text-align: right;\n",
              "    }\n",
              "</style>\n",
              "<table border=\"1\" class=\"dataframe\">\n",
              "  <thead>\n",
              "    <tr style=\"text-align: right;\">\n",
              "      <th></th>\n",
              "      <th>rating</th>\n",
              "      <th>Dates</th>\n",
              "      <th>Time</th>\n",
              "      <th>final_review</th>\n",
              "      <th>word_count</th>\n",
              "    </tr>\n",
              "  </thead>\n",
              "  <tbody>\n",
              "    <tr>\n",
              "      <th>3670</th>\n",
              "      <td>1</td>\n",
              "      <td>2021-02-03</td>\n",
              "      <td>01:50:17</td>\n",
              "      <td>-0 Disappointing.</td>\n",
              "      <td>2</td>\n",
              "    </tr>\n",
              "    <tr>\n",
              "      <th>3927</th>\n",
              "      <td>5</td>\n",
              "      <td>2021-04-25</td>\n",
              "      <td>03:08:11</td>\n",
              "      <td>Good Good</td>\n",
              "      <td>2</td>\n",
              "    </tr>\n",
              "    <tr>\n",
              "      <th>3943</th>\n",
              "      <td>2</td>\n",
              "      <td>2020-09-28</td>\n",
              "      <td>18:43:16</td>\n",
              "      <td>Scammers. Trash.</td>\n",
              "      <td>2</td>\n",
              "    </tr>\n",
              "    <tr>\n",
              "      <th>4006</th>\n",
              "      <td>1</td>\n",
              "      <td>2021-01-28</td>\n",
              "      <td>09:19:40</td>\n",
              "      <td>😤 😤</td>\n",
              "      <td>2</td>\n",
              "    </tr>\n",
              "    <tr>\n",
              "      <th>4007</th>\n",
              "      <td>1</td>\n",
              "      <td>2021-04-15</td>\n",
              "      <td>10:51:18</td>\n",
              "      <td>. 🤦🏻‍♀️</td>\n",
              "      <td>2</td>\n",
              "    </tr>\n",
              "    <tr>\n",
              "      <th>4230</th>\n",
              "      <td>5</td>\n",
              "      <td>2021-05-12</td>\n",
              "      <td>16:22:47</td>\n",
              "      <td>Yes Kaksnsksksk</td>\n",
              "      <td>2</td>\n",
              "    </tr>\n",
              "    <tr>\n",
              "      <th>4272</th>\n",
              "      <td>5</td>\n",
              "      <td>2020-12-11</td>\n",
              "      <td>08:23:09</td>\n",
              "      <td>Mae0210 5star</td>\n",
              "      <td>2</td>\n",
              "    </tr>\n",
              "    <tr>\n",
              "      <th>4286</th>\n",
              "      <td>1</td>\n",
              "      <td>2020-10-05</td>\n",
              "      <td>15:50:45</td>\n",
              "      <td>trashhhhh trashhhhhh</td>\n",
              "      <td>2</td>\n",
              "    </tr>\n",
              "    <tr>\n",
              "      <th>4299</th>\n",
              "      <td>1</td>\n",
              "      <td>2020-07-26</td>\n",
              "      <td>01:10:49</td>\n",
              "      <td>ULOL Kakainis</td>\n",
              "      <td>2</td>\n",
              "    </tr>\n",
              "    <tr>\n",
              "      <th>4308</th>\n",
              "      <td>5</td>\n",
              "      <td>2020-06-14</td>\n",
              "      <td>14:51:30</td>\n",
              "      <td>omsim 🔥🔥🔥🔥</td>\n",
              "      <td>2</td>\n",
              "    </tr>\n",
              "    <tr>\n",
              "      <th>4325</th>\n",
              "      <td>1</td>\n",
              "      <td>2020-04-17</td>\n",
              "      <td>12:20:45</td>\n",
              "      <td>Nakputaka Nakputaka</td>\n",
              "      <td>2</td>\n",
              "    </tr>\n",
              "    <tr>\n",
              "      <th>4463</th>\n",
              "      <td>4</td>\n",
              "      <td>2021-04-12</td>\n",
              "      <td>08:32:31</td>\n",
              "      <td>svdtstbgdvyvg tvtvyvttttt</td>\n",
              "      <td>2</td>\n",
              "    </tr>\n",
              "    <tr>\n",
              "      <th>4491</th>\n",
              "      <td>1</td>\n",
              "      <td>2021-01-21</td>\n",
              "      <td>02:28:07</td>\n",
              "      <td>Poor WTF</td>\n",
              "      <td>2</td>\n",
              "    </tr>\n",
              "    <tr>\n",
              "      <th>4539</th>\n",
              "      <td>1</td>\n",
              "      <td>2020-09-24</td>\n",
              "      <td>02:47:09</td>\n",
              "      <td>Habducy Hansjaknahd</td>\n",
              "      <td>2</td>\n",
              "    </tr>\n",
              "  </tbody>\n",
              "</table>\n",
              "</div>"
            ],
            "text/plain": [
              "      rating       Dates      Time               final_review  word_count\n",
              "3670       1  2021-02-03  01:50:17          -0 Disappointing.           2\n",
              "3927       5  2021-04-25  03:08:11                  Good Good           2\n",
              "3943       2  2020-09-28  18:43:16           Scammers. Trash.           2\n",
              "4006       1  2021-01-28  09:19:40                        😤 😤           2\n",
              "4007       1  2021-04-15  10:51:18                    . 🤦🏻‍♀️           2\n",
              "4230       5  2021-05-12  16:22:47            Yes Kaksnsksksk           2\n",
              "4272       5  2020-12-11  08:23:09              Mae0210 5star           2\n",
              "4286       1  2020-10-05  15:50:45       trashhhhh trashhhhhh           2\n",
              "4299       1  2020-07-26  01:10:49              ULOL Kakainis           2\n",
              "4308       5  2020-06-14  14:51:30                 omsim 🔥🔥🔥🔥           2\n",
              "4325       1  2020-04-17  12:20:45        Nakputaka Nakputaka           2\n",
              "4463       4  2021-04-12  08:32:31  svdtstbgdvyvg tvtvyvttttt           2\n",
              "4491       1  2021-01-21  02:28:07                   Poor WTF           2\n",
              "4539       1  2020-09-24  02:47:09        Habducy Hansjaknahd           2"
            ]
          },
          "metadata": {
            "tags": []
          },
          "execution_count": 316
        }
      ]
    },
    {
      "cell_type": "markdown",
      "metadata": {
        "id": "Lq7vd0-ZoaUI"
      },
      "source": [
        "## Part 2: Text Cleaning\n",
        "\n",
        "Now that we have done the initial cleaning of the df, let us now proceed to text cleaning for topic modeling purposes.\n",
        "\n",
        "My approach in this notebook would be as follows:\n",
        "1. Do the necessary text cleaning steps (remove encodings, lowercase, strip punctutation, expand contractions etc)\n",
        "2. Remove Filipino stop words and possibly lemmatize Filipino words\n",
        "3. Remove English stop words and lemmatize\n",
        "4. Tokenization and other methods"
      ]
    },
    {
      "cell_type": "code",
      "metadata": {
        "id": "nPooN-xVpA40",
        "colab": {
          "base_uri": "https://localhost:8080/",
          "height": 173
        },
        "outputId": "aa58a322-4931-41ae-d835-782575ba5409"
      },
      "source": [
        "df2.head(4)"
      ],
      "execution_count": 317,
      "outputs": [
        {
          "output_type": "execute_result",
          "data": {
            "text/html": [
              "<div>\n",
              "<style scoped>\n",
              "    .dataframe tbody tr th:only-of-type {\n",
              "        vertical-align: middle;\n",
              "    }\n",
              "\n",
              "    .dataframe tbody tr th {\n",
              "        vertical-align: top;\n",
              "    }\n",
              "\n",
              "    .dataframe thead th {\n",
              "        text-align: right;\n",
              "    }\n",
              "</style>\n",
              "<table border=\"1\" class=\"dataframe\">\n",
              "  <thead>\n",
              "    <tr style=\"text-align: right;\">\n",
              "      <th></th>\n",
              "      <th>rating</th>\n",
              "      <th>Dates</th>\n",
              "      <th>Time</th>\n",
              "      <th>final_review</th>\n",
              "      <th>word_count</th>\n",
              "    </tr>\n",
              "  </thead>\n",
              "  <tbody>\n",
              "    <tr>\n",
              "      <th>1</th>\n",
              "      <td>5</td>\n",
              "      <td>2020-05-16</td>\n",
              "      <td>07:33:32</td>\n",
              "      <td>Actually ok. This app gets so many negative re...</td>\n",
              "      <td>205</td>\n",
              "    </tr>\n",
              "    <tr>\n",
              "      <th>2</th>\n",
              "      <td>3</td>\n",
              "      <td>2020-02-04</td>\n",
              "      <td>00:25:57</td>\n",
              "      <td>Cash In Concern A little bit disappointed when...</td>\n",
              "      <td>186</td>\n",
              "    </tr>\n",
              "    <tr>\n",
              "      <th>6</th>\n",
              "      <td>5</td>\n",
              "      <td>2020-06-07</td>\n",
              "      <td>04:57:17</td>\n",
              "      <td>Gcash user since 2018 I've been using gcash fo...</td>\n",
              "      <td>173</td>\n",
              "    </tr>\n",
              "    <tr>\n",
              "      <th>7</th>\n",
              "      <td>1</td>\n",
              "      <td>2020-04-26</td>\n",
              "      <td>04:57:47</td>\n",
              "      <td>GCash is Losing its Prime Okay GCash dati 3-4 ...</td>\n",
              "      <td>250</td>\n",
              "    </tr>\n",
              "  </tbody>\n",
              "</table>\n",
              "</div>"
            ],
            "text/plain": [
              "   rating  ... word_count\n",
              "1       5  ...        205\n",
              "2       3  ...        186\n",
              "6       5  ...        173\n",
              "7       1  ...        250\n",
              "\n",
              "[4 rows x 5 columns]"
            ]
          },
          "metadata": {
            "tags": []
          },
          "execution_count": 317
        }
      ]
    },
    {
      "cell_type": "markdown",
      "metadata": {
        "id": "nqoUPaB6qqH8"
      },
      "source": [
        "#### Remove emojis and emoticons"
      ]
    },
    {
      "cell_type": "code",
      "metadata": {
        "id": "1-kVVzdSoOJi",
        "colab": {
          "base_uri": "https://localhost:8080/",
          "height": 35
        },
        "outputId": "44f64800-d540-445b-8925-36d00ff0e6ba"
      },
      "source": [
        "# Remove emojis and emoticons\n",
        "\n",
        "# Code block 1: remove emojis\n",
        "def remove_emoji(text):\n",
        "    emoji_pattern = re.compile(\"[\"\n",
        "                               u\"\\U0001F600-\\U0001F64F\"  # emoticons\n",
        "                               u\"\\U0001F300-\\U0001F5FF\"  # symbols & pictographs\n",
        "                               u\"\\U0001F680-\\U0001F6FF\"  # transport & map symbols\n",
        "                               u\"\\U0001F1E0-\\U0001F1FF\"  # flags (iOS)\n",
        "                               u\"\\U00002500-\\U00002BEF\"  # chinese char\n",
        "                               u\"\\U00002702-\\U000027B0\"\n",
        "                               u\"\\U00002702-\\U000027B0\"\n",
        "                               u\"\\U000024C2-\\U0001F251\"\n",
        "                               u\"\\U0001f926-\\U0001f937\"\n",
        "                               u\"\\U00010000-\\U0010ffff\"\n",
        "                               u\"\\u2640-\\u2642\"\n",
        "                               u\"\\u2600-\\u2B55\"\n",
        "                               u\"\\u200d\"\n",
        "                               u\"\\u23cf\"\n",
        "                               u\"\\u23e9\"\n",
        "                               u\"\\u231a\"\n",
        "                               u\"\\ufe0f\"  # dingbats\n",
        "                               u\"\\u3030\"\n",
        "                               \"]+\", flags=re.UNICODE)\n",
        "    return emoji_pattern.sub(r'', text)\n",
        "\n",
        "#Example\n",
        "remove_emoji(\"Have fun with NLP! 😃😃\")"
      ],
      "execution_count": 318,
      "outputs": [
        {
          "output_type": "execute_result",
          "data": {
            "application/vnd.google.colaboratory.intrinsic+json": {
              "type": "string"
            },
            "text/plain": [
              "'Have fun with NLP! '"
            ]
          },
          "metadata": {
            "tags": []
          },
          "execution_count": 318
        }
      ]
    },
    {
      "cell_type": "code",
      "metadata": {
        "id": "YGgq_VLMpBZI"
      },
      "source": [
        "# apply the remove emoji function to the review column\n",
        "df2['final_review'] = df2['final_review'].apply(lambda x: remove_emoji(x))"
      ],
      "execution_count": 319,
      "outputs": []
    },
    {
      "cell_type": "code",
      "metadata": {
        "id": "gnWhX4oF4rTm",
        "colab": {
          "base_uri": "https://localhost:8080/",
          "height": 49
        },
        "outputId": "6cc89942-9dca-4bcc-8d32-23cacc90f9be"
      },
      "source": [
        "df2.loc[df2['word_count'].isin([1])]"
      ],
      "execution_count": 320,
      "outputs": [
        {
          "output_type": "execute_result",
          "data": {
            "text/html": [
              "<div>\n",
              "<style scoped>\n",
              "    .dataframe tbody tr th:only-of-type {\n",
              "        vertical-align: middle;\n",
              "    }\n",
              "\n",
              "    .dataframe tbody tr th {\n",
              "        vertical-align: top;\n",
              "    }\n",
              "\n",
              "    .dataframe thead th {\n",
              "        text-align: right;\n",
              "    }\n",
              "</style>\n",
              "<table border=\"1\" class=\"dataframe\">\n",
              "  <thead>\n",
              "    <tr style=\"text-align: right;\">\n",
              "      <th></th>\n",
              "      <th>rating</th>\n",
              "      <th>Dates</th>\n",
              "      <th>Time</th>\n",
              "      <th>final_review</th>\n",
              "      <th>word_count</th>\n",
              "    </tr>\n",
              "  </thead>\n",
              "  <tbody>\n",
              "  </tbody>\n",
              "</table>\n",
              "</div>"
            ],
            "text/plain": [
              "Empty DataFrame\n",
              "Columns: [rating, Dates, Time, final_review, word_count]\n",
              "Index: []"
            ]
          },
          "metadata": {
            "tags": []
          },
          "execution_count": 320
        }
      ]
    },
    {
      "cell_type": "code",
      "metadata": {
        "id": "ScKSA3NdpBWc"
      },
      "source": [
        "# Code block 2: remove emoticons\n",
        "\n",
        "# from emot.emo_unicode import UNICODE_EMO, EMOTICONS\n",
        "\n",
        "# Function for removing emoticons\n",
        "def remove_emoticons(text):\n",
        "    emoticon_pattern = re.compile(u'(' + u'|'.join(k for k in EMOTICONS) + u')')\n",
        "    return emoticon_pattern.sub(r'', text)\n"
      ],
      "execution_count": 321,
      "outputs": []
    },
    {
      "cell_type": "code",
      "metadata": {
        "id": "cEEFqPvjpBUJ",
        "colab": {
          "base_uri": "https://localhost:8080/",
          "height": 35
        },
        "outputId": "48797c94-cb3f-4dc4-c92e-726e83ee20ff"
      },
      "source": [
        "#Example\n",
        "remove_emoticons(\"I used to play Super Mario games :)\")"
      ],
      "execution_count": 322,
      "outputs": [
        {
          "output_type": "execute_result",
          "data": {
            "application/vnd.google.colaboratory.intrinsic+json": {
              "type": "string"
            },
            "text/plain": [
              "'I used to play Super Mario games '"
            ]
          },
          "metadata": {
            "tags": []
          },
          "execution_count": 322
        }
      ]
    },
    {
      "cell_type": "code",
      "metadata": {
        "id": "f6M_EzAIpBR0"
      },
      "source": [
        "# Applying remove emoticons code\n",
        "df2['final_review'] = df2['final_review'].apply(lambda x: remove_emoticons(x))"
      ],
      "execution_count": 323,
      "outputs": []
    },
    {
      "cell_type": "code",
      "metadata": {
        "id": "2m7Dz2O46e-u"
      },
      "source": [
        "df2['word_count'] = df2['final_review'].str.split().str.len()"
      ],
      "execution_count": 324,
      "outputs": []
    },
    {
      "cell_type": "code",
      "metadata": {
        "id": "TbCMWEv-6iUq",
        "colab": {
          "base_uri": "https://localhost:8080/"
        },
        "outputId": "1feee8cc-e1e9-4ca3-9bd2-5398cfc7cc6b"
      },
      "source": [
        "df2['word_count'].value_counts().sort_index().head(6)"
      ],
      "execution_count": 325,
      "outputs": [
        {
          "output_type": "execute_result",
          "data": {
            "text/plain": [
              "0     1\n",
              "1     2\n",
              "2    11\n",
              "3     5\n",
              "4    22\n",
              "5    28\n",
              "Name: word_count, dtype: int64"
            ]
          },
          "metadata": {
            "tags": []
          },
          "execution_count": 325
        }
      ]
    },
    {
      "cell_type": "code",
      "metadata": {
        "id": "Wb68E15s6rHy",
        "colab": {
          "base_uri": "https://localhost:8080/",
          "height": 390
        },
        "outputId": "f4a29c9d-12eb-4d1b-bede-149466a1afb7"
      },
      "source": [
        "df2.loc[df2['word_count'].isin([2])]"
      ],
      "execution_count": 326,
      "outputs": [
        {
          "output_type": "execute_result",
          "data": {
            "text/html": [
              "<div>\n",
              "<style scoped>\n",
              "    .dataframe tbody tr th:only-of-type {\n",
              "        vertical-align: middle;\n",
              "    }\n",
              "\n",
              "    .dataframe tbody tr th {\n",
              "        vertical-align: top;\n",
              "    }\n",
              "\n",
              "    .dataframe thead th {\n",
              "        text-align: right;\n",
              "    }\n",
              "</style>\n",
              "<table border=\"1\" class=\"dataframe\">\n",
              "  <thead>\n",
              "    <tr style=\"text-align: right;\">\n",
              "      <th></th>\n",
              "      <th>rating</th>\n",
              "      <th>Dates</th>\n",
              "      <th>Time</th>\n",
              "      <th>final_review</th>\n",
              "      <th>word_count</th>\n",
              "    </tr>\n",
              "  </thead>\n",
              "  <tbody>\n",
              "    <tr>\n",
              "      <th>3670</th>\n",
              "      <td>1</td>\n",
              "      <td>2021-02-03</td>\n",
              "      <td>01:50:17</td>\n",
              "      <td>-0 Disappointing.</td>\n",
              "      <td>2</td>\n",
              "    </tr>\n",
              "    <tr>\n",
              "      <th>3927</th>\n",
              "      <td>5</td>\n",
              "      <td>2021-04-25</td>\n",
              "      <td>03:08:11</td>\n",
              "      <td>Good Good</td>\n",
              "      <td>2</td>\n",
              "    </tr>\n",
              "    <tr>\n",
              "      <th>3943</th>\n",
              "      <td>2</td>\n",
              "      <td>2020-09-28</td>\n",
              "      <td>18:43:16</td>\n",
              "      <td>Scammers. Trash.</td>\n",
              "      <td>2</td>\n",
              "    </tr>\n",
              "    <tr>\n",
              "      <th>4230</th>\n",
              "      <td>5</td>\n",
              "      <td>2021-05-12</td>\n",
              "      <td>16:22:47</td>\n",
              "      <td>Yes Kaksnsksksk</td>\n",
              "      <td>2</td>\n",
              "    </tr>\n",
              "    <tr>\n",
              "      <th>4272</th>\n",
              "      <td>5</td>\n",
              "      <td>2020-12-11</td>\n",
              "      <td>08:23:09</td>\n",
              "      <td>Mae0210 5star</td>\n",
              "      <td>2</td>\n",
              "    </tr>\n",
              "    <tr>\n",
              "      <th>4286</th>\n",
              "      <td>1</td>\n",
              "      <td>2020-10-05</td>\n",
              "      <td>15:50:45</td>\n",
              "      <td>trashhhhh trashhhhhh</td>\n",
              "      <td>2</td>\n",
              "    </tr>\n",
              "    <tr>\n",
              "      <th>4299</th>\n",
              "      <td>1</td>\n",
              "      <td>2020-07-26</td>\n",
              "      <td>01:10:49</td>\n",
              "      <td>ULOL Kakainis</td>\n",
              "      <td>2</td>\n",
              "    </tr>\n",
              "    <tr>\n",
              "      <th>4325</th>\n",
              "      <td>1</td>\n",
              "      <td>2020-04-17</td>\n",
              "      <td>12:20:45</td>\n",
              "      <td>Nakputaka Nakputaka</td>\n",
              "      <td>2</td>\n",
              "    </tr>\n",
              "    <tr>\n",
              "      <th>4463</th>\n",
              "      <td>4</td>\n",
              "      <td>2021-04-12</td>\n",
              "      <td>08:32:31</td>\n",
              "      <td>svdtstbgdvyvg tvtvyvttttt</td>\n",
              "      <td>2</td>\n",
              "    </tr>\n",
              "    <tr>\n",
              "      <th>4491</th>\n",
              "      <td>1</td>\n",
              "      <td>2021-01-21</td>\n",
              "      <td>02:28:07</td>\n",
              "      <td>Poor WTF</td>\n",
              "      <td>2</td>\n",
              "    </tr>\n",
              "    <tr>\n",
              "      <th>4539</th>\n",
              "      <td>1</td>\n",
              "      <td>2020-09-24</td>\n",
              "      <td>02:47:09</td>\n",
              "      <td>Habducy Hansjaknahd</td>\n",
              "      <td>2</td>\n",
              "    </tr>\n",
              "  </tbody>\n",
              "</table>\n",
              "</div>"
            ],
            "text/plain": [
              "      rating       Dates      Time               final_review  word_count\n",
              "3670       1  2021-02-03  01:50:17          -0 Disappointing.           2\n",
              "3927       5  2021-04-25  03:08:11                  Good Good           2\n",
              "3943       2  2020-09-28  18:43:16           Scammers. Trash.           2\n",
              "4230       5  2021-05-12  16:22:47            Yes Kaksnsksksk           2\n",
              "4272       5  2020-12-11  08:23:09              Mae0210 5star           2\n",
              "4286       1  2020-10-05  15:50:45       trashhhhh trashhhhhh           2\n",
              "4299       1  2020-07-26  01:10:49              ULOL Kakainis           2\n",
              "4325       1  2020-04-17  12:20:45        Nakputaka Nakputaka           2\n",
              "4463       4  2021-04-12  08:32:31  svdtstbgdvyvg tvtvyvttttt           2\n",
              "4491       1  2021-01-21  02:28:07                   Poor WTF           2\n",
              "4539       1  2020-09-24  02:47:09        Habducy Hansjaknahd           2"
            ]
          },
          "metadata": {
            "tags": []
          },
          "execution_count": 326
        }
      ]
    },
    {
      "cell_type": "markdown",
      "metadata": {
        "id": "1ZTZZsvPs7qH"
      },
      "source": [
        "#### Remove \\n, \\t, \\r"
      ]
    },
    {
      "cell_type": "code",
      "metadata": {
        "id": "EyJMBkgJpBPZ",
        "colab": {
          "base_uri": "https://localhost:8080/",
          "height": 137
        },
        "outputId": "100de5c3-2d67-436a-db9b-84dc6f08ad0d"
      },
      "source": [
        "df2['final_review'][12]"
      ],
      "execution_count": 327,
      "outputs": [
        {
          "output_type": "execute_result",
          "data": {
            "application/vnd.google.colaboratory.intrinsic+json": {
              "type": "string"
            },
            "text/plain": [
              "'Best Finance App! GCash is a big help, indeed. I’ve been using using this app since 2017 and it really helped me to be more financially literate for it has a lot of features that will enable youth professionals to efficiently manage their finances. \\r\\n\\r\\nSome of the best features include:\\r\\n- It allows you to buy load and earn rebates! \\r\\n- Upon registering to promo, you can earn coupons which you can use on scan to pay features\\r\\n- allows you to save with high interest, and invest too! \\r\\n- easily transfer funds to bank with real-time posting and no extra fees! \\r\\n- Scan to pay is very useful\\r\\n- Secured and convenient e-wallet\\r\\n- Wide-range of coverage, a lot of establishments are using GCash already!\\r\\n- You can help nature by just loading or walking! \\r\\n- Smooth application\\r\\n\\r\\nWhy 4 star not 5 then? \\r\\nI think there is a need for the following upgrades: \\r\\n\\r\\n1. GCredit\\r\\nAllow users to pay it in installment. Like for 5,000 they can choose of to pay it within 3 to 5 months. \\r\\n\\r\\nInclude card for GCredit\\r\\n\\r\\n2. Customer Service\\r\\nYou know what to do. Customer service is really 1/5, honestly. \\r\\n\\r\\n3. User interface and security\\r\\nAllow users to log in using only fingerprint. \\r\\n\\r\\n4. Partner Establishments\\r\\nSome cashiers don’t know how to transact using GCash pushing some establishments not to offer it to customers\\r\\n\\r\\n5. Vouchers\\r\\nVouchers must be universal.'"
            ]
          },
          "metadata": {
            "tags": []
          },
          "execution_count": 327
        }
      ]
    },
    {
      "cell_type": "code",
      "metadata": {
        "id": "ivmQynWXq0Tf"
      },
      "source": [
        "# Remove \\r \\n \\t\n",
        "df2['final_review'] = df2['final_review'].replace(r'\\r+|\\n+|\\t+',' ', regex=True)"
      ],
      "execution_count": 328,
      "outputs": []
    },
    {
      "cell_type": "code",
      "metadata": {
        "id": "9FmRYWRPrzrk",
        "colab": {
          "base_uri": "https://localhost:8080/",
          "height": 137
        },
        "outputId": "5e08624b-5d59-4d1f-c469-f7db9352dec0"
      },
      "source": [
        "df2['final_review'][12]"
      ],
      "execution_count": 329,
      "outputs": [
        {
          "output_type": "execute_result",
          "data": {
            "application/vnd.google.colaboratory.intrinsic+json": {
              "type": "string"
            },
            "text/plain": [
              "'Best Finance App! GCash is a big help, indeed. I’ve been using using this app since 2017 and it really helped me to be more financially literate for it has a lot of features that will enable youth professionals to efficiently manage their finances.     Some of the best features include:  - It allows you to buy load and earn rebates!   - Upon registering to promo, you can earn coupons which you can use on scan to pay features  - allows you to save with high interest, and invest too!   - easily transfer funds to bank with real-time posting and no extra fees!   - Scan to pay is very useful  - Secured and convenient e-wallet  - Wide-range of coverage, a lot of establishments are using GCash already!  - You can help nature by just loading or walking!   - Smooth application    Why 4 star not 5 then?   I think there is a need for the following upgrades:     1. GCredit  Allow users to pay it in installment. Like for 5,000 they can choose of to pay it within 3 to 5 months.     Include card for GCredit    2. Customer Service  You know what to do. Customer service is really 1/5, honestly.     3. User interface and security  Allow users to log in using only fingerprint.     4. Partner Establishments  Some cashiers don’t know how to transact using GCash pushing some establishments not to offer it to customers    5. Vouchers  Vouchers must be universal.'"
            ]
          },
          "metadata": {
            "tags": []
          },
          "execution_count": 329
        }
      ]
    },
    {
      "cell_type": "markdown",
      "metadata": {
        "id": "b5flG9ahs_Uf"
      },
      "source": [
        "#### Convert reviews to lowercase"
      ]
    },
    {
      "cell_type": "code",
      "metadata": {
        "id": "4bzVVHrhr05N",
        "colab": {
          "base_uri": "https://localhost:8080/"
        },
        "outputId": "19dcfa7f-cf16-4d71-e686-e36082f4b842"
      },
      "source": [
        "df2['final_review'] = df2['final_review'].apply(lambda x: \" \".join(x.lower() for x in x.split()))\n",
        "df2['final_review'].head()"
      ],
      "execution_count": 330,
      "outputs": [
        {
          "output_type": "execute_result",
          "data": {
            "text/plain": [
              "1    actually ok. this app gets so many negative re...\n",
              "2    cash in concern a little bit disappointed when...\n",
              "6    gcash user since 2018 i've been using gcash fo...\n",
              "7    gcash is losing its prime okay gcash dati 3-4 ...\n",
              "8    read please!! those others who doesn’t like gc...\n",
              "Name: final_review, dtype: object"
            ]
          },
          "metadata": {
            "tags": []
          },
          "execution_count": 330
        }
      ]
    },
    {
      "cell_type": "markdown",
      "metadata": {
        "id": "IK-5OOm1tA_8"
      },
      "source": [
        "#### Removing URLS"
      ]
    },
    {
      "cell_type": "code",
      "metadata": {
        "id": "fB1_dc9DtAx1",
        "colab": {
          "base_uri": "https://localhost:8080/"
        },
        "outputId": "2fe78adf-f30d-482e-bd7e-7e24e2da97f3"
      },
      "source": [
        "# import re\n",
        "\n",
        "def remove_urls (vTEXT):\n",
        "    vTEXT = re.sub(r'(https|http)?:\\/\\/(\\w|\\.|\\/|\\?|\\=|\\&|\\%)*\\b', '', vTEXT, flags=re.MULTILINE)\n",
        "    return(vTEXT)\n",
        "\n",
        "df2['final_review'] = df2.final_review.apply(remove_urls)\n",
        "df2.final_review.head()"
      ],
      "execution_count": 331,
      "outputs": [
        {
          "output_type": "execute_result",
          "data": {
            "text/plain": [
              "1    actually ok. this app gets so many negative re...\n",
              "2    cash in concern a little bit disappointed when...\n",
              "6    gcash user since 2018 i've been using gcash fo...\n",
              "7    gcash is losing its prime okay gcash dati 3-4 ...\n",
              "8    read please!! those others who doesn’t like gc...\n",
              "Name: final_review, dtype: object"
            ]
          },
          "metadata": {
            "tags": []
          },
          "execution_count": 331
        }
      ]
    },
    {
      "cell_type": "markdown",
      "metadata": {
        "id": "KqalMpi-tAPy"
      },
      "source": [
        "#### Expand Contractions\n",
        "\n",
        "Contractions are words or combinations of words which are shortened by dropping letters and replacing them by an apostrophe. \n",
        "\n",
        "Let’s have a look at some examples:\n",
        "* we’re = we are\n",
        "* we’ve = we have\n",
        "* I’d = I would\n",
        "\n",
        "Note: This step needs to be done before word tokenizer because NLTK word tokenizer has in-built methods for dealing with contractions. However, NLTK word tokenizer's approach separates contractions without expanding. Expanding is a better method than simply separating."
      ]
    },
    {
      "cell_type": "code",
      "metadata": {
        "id": "lJEvu_uqt2-B",
        "colab": {
          "base_uri": "https://localhost:8080/"
        },
        "outputId": "099af8b9-ea3f-4755-8774-d98138e9b1c1"
      },
      "source": [
        "# import contractions\n",
        "\n",
        "# Example text \n",
        "text = ''' She'll be airport in 30 mins. We are supposed to catch the arrival, aren't we?  \n",
        "          I'd love to welcome her personally. It'll be an awesome vacation.'''\n",
        "  \n",
        "# creating an empty list \n",
        "expanded_words = []     \n",
        "for word in text.split(): \n",
        "  # using contractions.fix to expand the shotened words \n",
        "  expanded_words.append(contractions.fix(word))    \n",
        "    \n",
        "expanded_text = ' '.join(expanded_words) \n",
        "print('Original text: ' + text) \n",
        "print('\\n') \n",
        "print('Expanded_text: ' + expanded_text)"
      ],
      "execution_count": 332,
      "outputs": [
        {
          "output_type": "stream",
          "text": [
            "Original text:  She'll be airport in 30 mins. We are supposed to catch the arrival, aren't we?  \n",
            "          I'd love to welcome her personally. It'll be an awesome vacation.\n",
            "\n",
            "\n",
            "Expanded_text: she will be airport in 30 mins. We are supposed to catch the arrival, are not we? I would love to welcome her personally. it will be an awesome vacation.\n"
          ],
          "name": "stdout"
        }
      ]
    },
    {
      "cell_type": "code",
      "metadata": {
        "id": "N0IDX825uCsp",
        "colab": {
          "base_uri": "https://localhost:8080/"
        },
        "outputId": "c75c214c-bae3-466c-c983-d95cb9522b01"
      },
      "source": [
        "df2['final_review'] = df2['final_review'].apply(lambda x: contractions.fix(x))\n",
        "df.final_review.sample(5)"
      ],
      "execution_count": 333,
      "outputs": [
        {
          "output_type": "execute_result",
          "data": {
            "text/plain": [
              "2431    Errors Fix your apps i cant verify my account ...\n",
              "1439    Buy load When you buy load IT automatically Lo...\n",
              "3268    always crashing most of the time especially wh...\n",
              "4520    Gcash rebates I use gcash as load reloader, bu...\n",
              "492     Slow Transactions I suddenly experienced slow ...\n",
              "Name: final_review, dtype: object"
            ]
          },
          "metadata": {
            "tags": []
          },
          "execution_count": 333
        }
      ]
    },
    {
      "cell_type": "markdown",
      "metadata": {
        "id": "p4bv6vQhrNSX"
      },
      "source": [
        "#### Removing 1 and 2 word reviews + Separating good and bad reviews into separate dataframes"
      ]
    },
    {
      "cell_type": "code",
      "metadata": {
        "id": "Zl_8q8fZrOf6"
      },
      "source": [
        "df2 = df2.reset_index()"
      ],
      "execution_count": 334,
      "outputs": []
    },
    {
      "cell_type": "code",
      "metadata": {
        "id": "aitS9LHUsYN9",
        "colab": {
          "base_uri": "https://localhost:8080/",
          "height": 137
        },
        "outputId": "eff772ee-73b6-4b21-852f-8900cb131ede"
      },
      "source": [
        "df2.final_review[11]"
      ],
      "execution_count": 335,
      "outputs": [
        {
          "output_type": "execute_result",
          "data": {
            "application/vnd.google.colaboratory.intrinsic+json": {
              "type": "string"
            },
            "text/plain": [
              "'was good, but... i use gcash to pay my bills. my bank (hsbc, is not one of the banks that has direct communication with gcash, but i was able to cash in via the mastercard/visa option. now they removed it. since hsbc online does not support gcash, i need to physically withdraw money, and cash in via over the counter. this is a shame because of the current pandemic, i want to stay away from people as much as possible. now it is two crowded areas i have to go to. another thing, 7-11’s cash in is a confusing robbery! i did two transactions, because they only allowed up to 10k for a transaction. the 10k cost 60php but the 9.1k transaction was 180php! what?! one more, i linked it with my app store. i bought an in game product, got deducted, but nothing was credited to my account. i contacted the ticket desk, but there has been no reply except for an automated thank you note. convenience was the only thing you had going for you, and you are messing it up just like all other globe services.'"
            ]
          },
          "metadata": {
            "tags": []
          },
          "execution_count": 335
        }
      ]
    },
    {
      "cell_type": "code",
      "metadata": {
        "id": "ozkqWlMVs6XL",
        "colab": {
          "base_uri": "https://localhost:8080/"
        },
        "outputId": "3451492e-8e80-4a9c-c712-7dc0a1d99797"
      },
      "source": [
        "df2['word_count'].value_counts().sort_index().head(6)"
      ],
      "execution_count": 336,
      "outputs": [
        {
          "output_type": "execute_result",
          "data": {
            "text/plain": [
              "0     1\n",
              "1     2\n",
              "2    11\n",
              "3     5\n",
              "4    22\n",
              "5    28\n",
              "Name: word_count, dtype: int64"
            ]
          },
          "metadata": {
            "tags": []
          },
          "execution_count": 336
        }
      ]
    },
    {
      "cell_type": "code",
      "metadata": {
        "id": "8RVYXyHwtFsW",
        "colab": {
          "base_uri": "https://localhost:8080/",
          "height": 204
        },
        "outputId": "411a5ef4-323f-44a9-8b92-d7a69cd7c633"
      },
      "source": [
        "df2.loc[df2['word_count'].isin([3])]"
      ],
      "execution_count": 337,
      "outputs": [
        {
          "output_type": "execute_result",
          "data": {
            "text/html": [
              "<div>\n",
              "<style scoped>\n",
              "    .dataframe tbody tr th:only-of-type {\n",
              "        vertical-align: middle;\n",
              "    }\n",
              "\n",
              "    .dataframe tbody tr th {\n",
              "        vertical-align: top;\n",
              "    }\n",
              "\n",
              "    .dataframe thead th {\n",
              "        text-align: right;\n",
              "    }\n",
              "</style>\n",
              "<table border=\"1\" class=\"dataframe\">\n",
              "  <thead>\n",
              "    <tr style=\"text-align: right;\">\n",
              "      <th></th>\n",
              "      <th>index</th>\n",
              "      <th>rating</th>\n",
              "      <th>Dates</th>\n",
              "      <th>Time</th>\n",
              "      <th>final_review</th>\n",
              "      <th>word_count</th>\n",
              "    </tr>\n",
              "  </thead>\n",
              "  <tbody>\n",
              "    <tr>\n",
              "      <th>1416</th>\n",
              "      <td>2715</td>\n",
              "      <td>2</td>\n",
              "      <td>2020-05-01</td>\n",
              "      <td>01:32:09</td>\n",
              "      <td>system always down!!</td>\n",
              "      <td>3</td>\n",
              "    </tr>\n",
              "    <tr>\n",
              "      <th>1907</th>\n",
              "      <td>3603</td>\n",
              "      <td>4</td>\n",
              "      <td>2021-01-18</td>\n",
              "      <td>15:06:28</td>\n",
              "      <td>gcash 5 30</td>\n",
              "      <td>3</td>\n",
              "    </tr>\n",
              "    <tr>\n",
              "      <th>2061</th>\n",
              "      <td>3872</td>\n",
              "      <td>1</td>\n",
              "      <td>2020-04-21</td>\n",
              "      <td>02:23:58</td>\n",
              "      <td>worst very unreliable</td>\n",
              "      <td>3</td>\n",
              "    </tr>\n",
              "    <tr>\n",
              "      <th>2133</th>\n",
              "      <td>3986</td>\n",
              "      <td>1</td>\n",
              "      <td>2020-07-05</td>\n",
              "      <td>04:15:02</td>\n",
              "      <td>no freebies scam</td>\n",
              "      <td>3</td>\n",
              "    </tr>\n",
              "    <tr>\n",
              "      <th>2168</th>\n",
              "      <td>4237</td>\n",
              "      <td>1</td>\n",
              "      <td>2021-04-14</td>\n",
              "      <td>16:40:57</td>\n",
              "      <td>stup1d app mandarambong</td>\n",
              "      <td>3</td>\n",
              "    </tr>\n",
              "  </tbody>\n",
              "</table>\n",
              "</div>"
            ],
            "text/plain": [
              "      index  rating       Dates      Time             final_review  word_count\n",
              "1416   2715       2  2020-05-01  01:32:09     system always down!!           3\n",
              "1907   3603       4  2021-01-18  15:06:28               gcash 5 30           3\n",
              "2061   3872       1  2020-04-21  02:23:58    worst very unreliable           3\n",
              "2133   3986       1  2020-07-05  04:15:02         no freebies scam           3\n",
              "2168   4237       1  2021-04-14  16:40:57  stup1d app mandarambong           3"
            ]
          },
          "metadata": {
            "tags": []
          },
          "execution_count": 337
        }
      ]
    },
    {
      "cell_type": "code",
      "metadata": {
        "colab": {
          "base_uri": "https://localhost:8080/"
        },
        "id": "EPop67esTwU2",
        "outputId": "a7fbcd9a-7f0d-4aa4-c553-d72a9bb89dee"
      },
      "source": [
        "df2['rating'].value_counts()"
      ],
      "execution_count": 338,
      "outputs": [
        {
          "output_type": "execute_result",
          "data": {
            "text/plain": [
              "1    1456\n",
              "2     373\n",
              "3     358\n",
              "5     182\n",
              "4     129\n",
              "Name: rating, dtype: int64"
            ]
          },
          "metadata": {
            "tags": []
          },
          "execution_count": 338
        }
      ]
    },
    {
      "cell_type": "code",
      "metadata": {
        "id": "O25Gmtg8td4b"
      },
      "source": [
        "df3 = df2.copy()\n",
        "\n",
        "df3 = df3[~df3['word_count'].isin([0,1,2,3])]"
      ],
      "execution_count": 339,
      "outputs": []
    },
    {
      "cell_type": "code",
      "metadata": {
        "id": "qHuAMy4EuOFM",
        "colab": {
          "base_uri": "https://localhost:8080/"
        },
        "outputId": "868f285a-ab98-47cf-a93c-e26a1476733e"
      },
      "source": [
        "df2.shape"
      ],
      "execution_count": 340,
      "outputs": [
        {
          "output_type": "execute_result",
          "data": {
            "text/plain": [
              "(2498, 6)"
            ]
          },
          "metadata": {
            "tags": []
          },
          "execution_count": 340
        }
      ]
    },
    {
      "cell_type": "code",
      "metadata": {
        "id": "6Fz9Xy1VtvEG",
        "colab": {
          "base_uri": "https://localhost:8080/"
        },
        "outputId": "c1495deb-5734-484d-d2bc-09b2d41b6433"
      },
      "source": [
        "df3.shape "
      ],
      "execution_count": 341,
      "outputs": [
        {
          "output_type": "execute_result",
          "data": {
            "text/plain": [
              "(2479, 6)"
            ]
          },
          "metadata": {
            "tags": []
          },
          "execution_count": 341
        }
      ]
    },
    {
      "cell_type": "code",
      "metadata": {
        "id": "99VN8PK0up3w"
      },
      "source": [
        "df_goodreviews = df3.loc[df['rating'].isin([4,5])].copy()\n",
        "df_badreviews = df3.loc[df['rating'].isin([1,2,3])].copy()"
      ],
      "execution_count": 342,
      "outputs": []
    },
    {
      "cell_type": "code",
      "metadata": {
        "id": "jN7p7nXJu3Oo",
        "colab": {
          "base_uri": "https://localhost:8080/"
        },
        "outputId": "732c2e4d-7718-4de6-e19e-756affb5bd1f"
      },
      "source": [
        "print(f'df_good_reviews: {df_goodreviews.shape}')\n",
        "print(f'df_bad_reviews: {df_badreviews.shape}')"
      ],
      "execution_count": 343,
      "outputs": [
        {
          "output_type": "stream",
          "text": [
            "df_good_reviews: (555, 6)\n",
            "df_bad_reviews: (1924, 6)\n"
          ],
          "name": "stdout"
        }
      ]
    },
    {
      "cell_type": "markdown",
      "metadata": {
        "id": "d_pLdqoI5EDQ"
      },
      "source": [
        "## Part 3: Modeling"
      ]
    },
    {
      "cell_type": "markdown",
      "metadata": {
        "id": "b8n-F4EhvhOi"
      },
      "source": [
        "#### Download nltk English stopwords and spacy model (EN for lemmatization)"
      ]
    },
    {
      "cell_type": "code",
      "metadata": {
        "id": "eQKmjCz9AKZZ",
        "colab": {
          "base_uri": "https://localhost:8080/"
        },
        "outputId": "f764802d-8c0d-4e6d-8a37-a46e7660fce7"
      },
      "source": [
        "# Run in python console\n",
        "# import nltk\n",
        "nltk.download('stopwords')\n",
        "\n",
        "# Run in terminal or command prompt\n",
        "#!python3 -m spacy download |en"
      ],
      "execution_count": 344,
      "outputs": [
        {
          "output_type": "stream",
          "text": [
            "[nltk_data] Downloading package stopwords to /root/nltk_data...\n",
            "[nltk_data]   Package stopwords is already up-to-date!\n"
          ],
          "name": "stdout"
        },
        {
          "output_type": "execute_result",
          "data": {
            "text/plain": [
              "True"
            ]
          },
          "metadata": {
            "tags": []
          },
          "execution_count": 344
        }
      ]
    },
    {
      "cell_type": "markdown",
      "metadata": {
        "id": "SPNjyX4XwFIN"
      },
      "source": [
        "#### Prepare Stop Words (English + Tagalog)"
      ]
    },
    {
      "cell_type": "markdown",
      "metadata": {
        "id": "T0wNs4p4xds6"
      },
      "source": [
        "Sources for English stopwords: \n",
        "1. nltk library\n",
        "\n",
        "Sources for Tagalog stopwords:\n",
        "1. Typical Stop Words: https://github.com/stopwords-iso/stopwords-tl/blob/master/stopwords-tl.json\n",
        "2. Profanity : https://github.com/jromest/filipino-badwords-list/blob/master/src/filipino-badwords-list.js"
      ]
    },
    {
      "cell_type": "code",
      "metadata": {
        "id": "LYiereaOAKW9"
      },
      "source": [
        "# from nltk.corpus import stopwords\n",
        "stop_words = stopwords.words('english')"
      ],
      "execution_count": 345,
      "outputs": []
    },
    {
      "cell_type": "code",
      "metadata": {
        "id": "l2cm8VtAyuLd"
      },
      "source": [
        "# import json\n",
        "with open('/content/drive/My Drive/Data/stopwords/tagalog-sw') as file:\n",
        "    tl_stopwords = json.load(file)"
      ],
      "execution_count": 346,
      "outputs": []
    },
    {
      "cell_type": "code",
      "metadata": {
        "id": "YDQe2AUVAKUL"
      },
      "source": [
        "# Extend stopwords to include tagalog + common gcash related words \n",
        "stop_words.extend(tl_stopwords)\n",
        "stop_words.extend(['gcash','g-cash','po', 'app', 'would','can'])\n",
        "stop_words.extend(['nyo','naman','yung', 'di', 'wala ','mag', 'nag', 'pag', 'kayo', 'lang', 'ung', 'niyo', 'tapos', 'ba', 'mo', 'please', 'pls'])\n",
        "stop_words.extend(['nga','yan','yun', 'akong', 'inyo', 'ur', 'star', 'nalang', 'kasi', 'talaga'])\n",
        "stop_words.extend(['nmn', 'nlng','un','blah', 'tru', 'pwede','like','one','globe', 'guys', 'even', 'seems', 'hi', 'guess'])"
      ],
      "execution_count": 347,
      "outputs": []
    },
    {
      "cell_type": "markdown",
      "metadata": {
        "id": "EawABx5ezfTs"
      },
      "source": [
        "#### Tokenize and Clean Up Text some more"
      ]
    },
    {
      "cell_type": "code",
      "metadata": {
        "id": "GWCgWkfwzw8_",
        "colab": {
          "base_uri": "https://localhost:8080/"
        },
        "outputId": "8391ff2f-4a09-4e24-f871-da64db9e8529"
      },
      "source": [
        "# Check columns\n",
        "df_badreviews.columns"
      ],
      "execution_count": 348,
      "outputs": [
        {
          "output_type": "execute_result",
          "data": {
            "text/plain": [
              "Index(['index', 'rating', 'Dates', 'Time', 'final_review', 'word_count'], dtype='object')"
            ]
          },
          "metadata": {
            "tags": []
          },
          "execution_count": 348
        }
      ]
    },
    {
      "cell_type": "code",
      "metadata": {
        "id": "CiyZWUgoAKPP"
      },
      "source": [
        "# Convert the review columns into a list\n",
        "bad_reviews = df_badreviews.final_review.values.tolist()\n",
        "good_reviews = df_goodreviews.final_review.values.tolist()"
      ],
      "execution_count": 349,
      "outputs": []
    },
    {
      "cell_type": "code",
      "metadata": {
        "id": "a7oTzNi0AKJ8"
      },
      "source": [
        "# Define a function to tokenize and remove punctuations\n",
        "def sent_to_words(sentences):\n",
        "    for sentence in sentences:\n",
        "        yield(gensim.utils.simple_preprocess(str(sentence), deacc=True))  # deacc=True removes punctuations\n",
        "\n",
        "br_words = list(sent_to_words(bad_reviews))\n",
        "gr_words = list(sent_to_words(good_reviews))"
      ],
      "execution_count": 350,
      "outputs": []
    },
    {
      "cell_type": "markdown",
      "metadata": {
        "id": "r8mtTpdl0quz"
      },
      "source": [
        "#### Create Bigram and Trigram Models\n",
        "\n",
        "Bigrams are two words frequently occurring together in the document. Trigrams are 3 words frequently occurring.\n",
        "\n",
        "Gensim’s Phrases model can build and implement the bigrams, trigrams, quadgrams and more. The two important arguments to Phrases are *min_count* and *threshold*. The higher the values of these param, the harder it is for words to be combined to bigrams."
      ]
    },
    {
      "cell_type": "markdown",
      "metadata": {
        "id": "7JD9fxfz1pFz"
      },
      "source": [
        "###### Bigram and Trigram for good reviews"
      ]
    },
    {
      "cell_type": "code",
      "metadata": {
        "id": "lBDYjEis0pzt",
        "colab": {
          "base_uri": "https://localhost:8080/"
        },
        "outputId": "16264f98-0a68-4207-b516-a4bde400ea1f"
      },
      "source": [
        "# Build the bigram and trigram models\n",
        "g_bigram = gensim.models.Phrases(gr_words, min_count=5, threshold=80) # higher threshold fewer phrases.\n",
        "g_trigram = gensim.models.Phrases(g_bigram[gr_words], threshold=80)  \n",
        "\n",
        "# Faster way to get a sentence clubbed as a trigram/bigram\n",
        "g_bigram_mod = gensim.models.phrases.Phraser(g_bigram)\n",
        "g_trigram_mod = gensim.models.phrases.Phraser(g_trigram)\n",
        "\n",
        "# See trigram example\n",
        "print(g_trigram_mod[g_bigram_mod[gr_words[0]]])"
      ],
      "execution_count": 351,
      "outputs": [
        {
          "output_type": "stream",
          "text": [
            "/usr/local/lib/python3.7/dist-packages/gensim/models/phrases.py:598: UserWarning: For a faster implementation, use the gensim.models.phrases.Phraser class\n",
            "  warnings.warn(\"For a faster implementation, use the gensim.models.phrases.Phraser class\")\n"
          ],
          "name": "stderr"
        },
        {
          "output_type": "stream",
          "text": [
            "['cash', 'in', 'concern', 'little', 'bit', 'disappointed', 'when', 'cashed', 'in', 'via', 'debit_card', 'waited', 'mins', 'to', 'receive', 'the', 'otp', 'had', 'to', 'restart', 'the', 'application', 'but', 'still', 'same', 'scenario', 'happened', 'when', 'checked', 'my', 'account', 'was', 'already', 'credited', 'by', 'my', 'bank', 'and', 'so', 'reached', 'for', 'customer', 'support', 'since', 'it', 'was', 'not', 'funded', 'in', 'my', 'gcash', 'account', 'the', 'first', 'one', 'talked', 'to', 'said', 'that', 'they', 'had', 'no', 'transactions', 'so', 'need', 'to', 'call', 'my', 'issuing', 'bank', 'called', 'them', 'and', 'said', 'that', 'if', 'it', 'was', 'already', 'deducted', 'on', 'my', 'account', 'meaning', 'it', 'was', 'successful', 'transaction', 'and', 'need', 'to', 'talk', 'to', 'gcash', 'so', 'tried', 'reaching', 'out', 'to', 'gcash', 'customer', 'support', 'but', 'still', 'no', 'update', 'on', 'my', 'concern', 'this', 'was', 'always', 'concern', 'to', 'me', 'whenever', 'cash', 'in', 'via', 'debit_card', 'the', 'otp', 'is', 'always', 'late', 'hope', 'you', 'can', 'fix', 'this', 'have', 'been', 'using', 'gcash', 'for', 'quite', 'while', 'now', 'need', 'my', 'money', 'because', 'that', 'is', 'my', 'only', 'cash', 'if', 'only', 'knew', 'this', 'would', 'happen', 'would', 'not', 'put', 'my', 'cash', 'on', 'gcash', 'and', 'paid', 'my', 'bill', 'somewhere', 'else']\n"
          ],
          "name": "stdout"
        }
      ]
    },
    {
      "cell_type": "markdown",
      "metadata": {
        "id": "bmhI-H_G1t4J"
      },
      "source": [
        "##### Bigram and Trigam for bad reviews"
      ]
    },
    {
      "cell_type": "code",
      "metadata": {
        "id": "P4k8Vxck1tSD",
        "colab": {
          "base_uri": "https://localhost:8080/"
        },
        "outputId": "92d8bc59-2e3f-4f0e-d790-a2666231cfab"
      },
      "source": [
        "# Build the bigram and trigram models\n",
        "b_bigram = gensim.models.Phrases(br_words, min_count=5, threshold=80) # higher threshold fewer phrases.\n",
        "b_trigram = gensim.models.Phrases(b_bigram[br_words], threshold=80)  \n",
        "\n",
        "# Faster way to get a sentence clubbed as a trigram/bigram\n",
        "b_bigram_mod = gensim.models.phrases.Phraser(b_bigram)\n",
        "b_trigram_mod = gensim.models.phrases.Phraser(b_trigram)\n",
        "\n",
        "# See trigram example\n",
        "print(b_trigram_mod[b_bigram_mod[br_words[3]]])"
      ],
      "execution_count": 352,
      "outputs": [
        {
          "output_type": "stream",
          "text": [
            "/usr/local/lib/python3.7/dist-packages/gensim/models/phrases.py:598: UserWarning: For a faster implementation, use the gensim.models.phrases.Phraser class\n",
            "  warnings.warn(\"For a faster implementation, use the gensim.models.phrases.Phraser class\")\n"
          ],
          "name": "stderr"
        },
        {
          "output_type": "stream",
          "text": [
            "['read', 'please', 'those', 'others', 'who', 'does', 'not', 'like', 'gcash', 'do', 'not', 'expect', 'to', 'much', 'of', 'gcash', 'because', 'not', 'everything', 'you', 'want', 'can', 'give', 'it', 'to', 'those', 'others', 'who', 'have', 'an', 'error', 'maybe', 'give', 'little', 'more', 'patience', 'think', 'of', 'it', 'as', 'the', 'time', 'is', 'giving', 'you', 'challenge', 'like', 'if', 'you', 'can', 'give', 'more', 'patience', 'or', 'not', 'you', 'just', 'really', 'need', 'time', 'and', 'maybe', 'try', 'to', 'solve', 'what', 'is', 'the', 'problem', 'first', 'before', 'you', 'dramatically', 'go', 'crazy', 'anyways', 'other', 'than', 'that', 'base', 'on', 'my', 'experience', 'just', 'do', 'not', 'get', 'why', 'people', 'do', 'not', 'realize', 'that', 'we', 'are', 'all', 'hurting', 'but', 'nobody', 'cares', 'at', 'all', 'maybe', 'at_least', 'try', 'to', 'solve', 'your', 'problems', 'with', 'those', 'people', 'close', 'to', 'you', 'and', 'do', 'not', 'make', 'up', 'things', 'that', 'is', 'not', 'even', 'true', 'from', 'the', 'start', 'the', 'girl', 'is', 'hurting', 'and', 'not', 'only', 'for', 'girls', 'but', 'for', 'boys', 'as_well', 'and', 'again', 'other', 'than', 'the', 'things', 'just', 'said', 'right', 'now', 'am', 'happy', 'of', 'using', 'the', 'gcash', 'that', 'is', 'all', 'bye', 'anyways', 'sorry', 'for', 'telling', 'my', 'feelings', 'just', 'cannot', 'take', 'it', 'anymore']\n"
          ],
          "name": "stdout"
        }
      ]
    },
    {
      "cell_type": "markdown",
      "metadata": {
        "id": "grbjonTM1tAF"
      },
      "source": [
        "#### Remove Stopwords, Make Bigrams and Lemmatize (Eng. words only)"
      ]
    },
    {
      "cell_type": "markdown",
      "metadata": {
        "id": "Vc5ag-703kef"
      },
      "source": [
        "##### Functionalizing the steps"
      ]
    },
    {
      "cell_type": "markdown",
      "metadata": {
        "id": "QdIF5ctGfCi5"
      },
      "source": [
        "I have excluded lemmatization as it brought out errant results when added to tagalog corpus."
      ]
    },
    {
      "cell_type": "code",
      "metadata": {
        "id": "EV5GtCL62rV_"
      },
      "source": [
        "# Define functions for stopwords, bigrams, trigrams and lemmatization\n",
        "def remove_stopwords(texts):\n",
        "    return [[word for word in simple_preprocess(str(doc)) if word not in stop_words] for doc in texts]\n",
        "\n",
        "def g_make_bigrams(texts):\n",
        "    return [g_bigram_mod[doc] for doc in texts]\n",
        "\n",
        "def g_make_trigrams(texts):\n",
        "    return [g_trigram_mod[g_bigram_mod[doc]] for doc in texts]\n",
        "\n",
        "def b_make_bigrams(texts):\n",
        "    return [b_bigram_mod[doc] for doc in texts]\n",
        "\n",
        "def b_make_trigrams(texts):\n",
        "    return [b_trigram_mod[b_bigram_mod[doc]] for doc in texts]\n",
        "\n",
        "def lemmatization(texts, allowed_postags=['NOUN', 'ADJ', 'VERB', 'ADV']):\n",
        "    \"\"\"https://spacy.io/api/annotation\"\"\"\n",
        "    texts_out = []\n",
        "    for sent in texts:\n",
        "        doc = nlp(\" \".join(sent)) \n",
        "        texts_out.append([token.lemma_ for token in doc if token.pos_ in allowed_postags])\n",
        "    return texts_out"
      ],
      "execution_count": 353,
      "outputs": []
    },
    {
      "cell_type": "markdown",
      "metadata": {
        "id": "ypqJB4cf3rc5"
      },
      "source": [
        "##### Applying the functions to tokenized bad and good reviews\n"
      ]
    },
    {
      "cell_type": "code",
      "metadata": {
        "id": "Yt_vQgw93e5e"
      },
      "source": [
        "# APPLYING TO TOKENIZED GOOD REVIEWS\n",
        "\n",
        "# Remove Stop Words\n",
        "gr_words_nostops = remove_stopwords(gr_words)\n",
        "\n",
        "# ### REMOVED LEMMATIZATION COS IT AFFECTS THE TAGALOG WORDS / TAGALOG WORDS ARE RENDERED INEFFECTIVE\n",
        "# # Initialize spacy 'en' model, keeping only tagger component (for efficiency)\n",
        "# # python3 -m spacy download en\n",
        "# nlp = spacy.load('en', disable=['parser', 'ner'])\n",
        "\n",
        "# # Do lemmatization keeping only noun, adj, vb, adv\n",
        "# gr_lemmatized = lemmatization(gr_words_nostops, allowed_postags=['NOUN', 'ADJ', 'VERB', 'ADV'])\n",
        "\n",
        "\n",
        "# Form Bigrams\n",
        "gr_words_bigrams = g_make_bigrams(gr_words_nostops)\n",
        "\n",
        "# Form Trigrams\n",
        "gr_words_trigrams = g_make_trigrams(gr_words_bigrams)\n"
      ],
      "execution_count": 354,
      "outputs": []
    },
    {
      "cell_type": "code",
      "metadata": {
        "id": "cw_CtXO073vr",
        "colab": {
          "base_uri": "https://localhost:8080/"
        },
        "outputId": "1bbdc035-3277-47ad-8f6a-869249cc6ab6"
      },
      "source": [
        "gr_words_trigrams[13]"
      ],
      "execution_count": 355,
      "outputs": [
        {
          "output_type": "execute_result",
          "data": {
            "text/plain": [
              "['inferior',\n",
              " 'functionality',\n",
              " 'useful',\n",
              " 'stay',\n",
              " 'away',\n",
              " 'new',\n",
              " 'review',\n",
              " 'cannot',\n",
              " 'link',\n",
              " 'bank',\n",
              " 'account',\n",
              " 'system',\n",
              " 'keeps',\n",
              " 'rejecting',\n",
              " 'mobile',\n",
              " 'banking',\n",
              " 'password',\n",
              " 'inputting',\n",
              " 'correct',\n",
              " 'got',\n",
              " 'locked',\n",
              " 'mobile',\n",
              " 'banking',\n",
              " 'account',\n",
              " 'trying',\n",
              " 'three',\n",
              " 'times',\n",
              " 'many',\n",
              " 'errors',\n",
              " 'inconvenient',\n",
              " 'making',\n",
              " 'hard',\n",
              " 'users',\n",
              " 'got',\n",
              " 'locked',\n",
              " 'forgot',\n",
              " 'mpin',\n",
              " 'security',\n",
              " 'questions',\n",
              " 'forget',\n",
              " 'mpin',\n",
              " 'totally',\n",
              " 'ridiculous',\n",
              " 'almost',\n",
              " 'impossible',\n",
              " 'recover',\n",
              " 'account',\n",
              " 'happens',\n",
              " 'locked',\n",
              " 'hours',\n",
              " 'try',\n",
              " 'making',\n",
              " 'things',\n",
              " 'inconvenient',\n",
              " 'users',\n",
              " 'cash',\n",
              " 'function',\n",
              " 'online',\n",
              " 'banking',\n",
              " 'work',\n",
              " 'careful',\n",
              " 'receive',\n",
              " 'money',\n",
              " 'wallet',\n",
              " 'credit',\n",
              " 'card',\n",
              " 'linking',\n",
              " 'working',\n",
              " 'well',\n",
              " 'useful',\n",
              " 'mail',\n",
              " 'support',\n",
              " 'equally',\n",
              " 'unhelpful',\n",
              " 'provides',\n",
              " 'totally',\n",
              " 'useless',\n",
              " 'answers',\n",
              " 'worthwhile',\n",
              " 'download',\n",
              " 'stay',\n",
              " 'away']"
            ]
          },
          "metadata": {
            "tags": []
          },
          "execution_count": 355
        }
      ]
    },
    {
      "cell_type": "code",
      "metadata": {
        "id": "egBnFj1l47Mh"
      },
      "source": [
        "# APPLYING TO TOKENIZED BAD REVIEWS\n",
        "\n",
        "# Remove Stop Words\n",
        "br_words_nostops = remove_stopwords(br_words)\n",
        "\n",
        "# ## REMOVED LEMMATIZATION COS IT AFFECTS THE TAGALOG WORDS / TAGALOG WORDS ARE RENDERED INEFFECTIVE\n",
        "# # Initialize spacy 'en' model, keeping only tagger component (for efficiency)\n",
        "# # python3 -m spacy download en\n",
        "# nlp = spacy.load('en', disable=['parser', 'ner'])\n",
        "\n",
        "# # Do lemmatization keeping only noun, adj, vb, adv\n",
        "# br_lemmatized = lemmatization(br_words_nostops, allowed_postags=['NOUN', 'ADJ', 'VERB', 'ADV'])\n",
        "\n",
        "# Form Bigrams\n",
        "br_words_bigrams = b_make_bigrams(br_words_nostops)\n",
        "\n",
        "br_words_trigrams = b_make_trigrams(br_words_bigrams)\n",
        "\n",
        "\n"
      ],
      "execution_count": 356,
      "outputs": []
    },
    {
      "cell_type": "code",
      "metadata": {
        "id": "0H5-OosG8ffy",
        "colab": {
          "base_uri": "https://localhost:8080/"
        },
        "outputId": "51a291ed-be5d-4918-f4ab-1d055a18477f"
      },
      "source": [
        "br_words_trigrams[3]\n"
      ],
      "execution_count": 357,
      "outputs": [
        {
          "output_type": "execute_result",
          "data": {
            "text/plain": [
              "['read',\n",
              " 'others',\n",
              " 'expect',\n",
              " 'much',\n",
              " 'everything',\n",
              " 'want',\n",
              " 'give',\n",
              " 'others',\n",
              " 'error',\n",
              " 'maybe',\n",
              " 'give',\n",
              " 'little',\n",
              " 'patience',\n",
              " 'think',\n",
              " 'time',\n",
              " 'giving',\n",
              " 'challenge',\n",
              " 'give',\n",
              " 'patience',\n",
              " 'really',\n",
              " 'need',\n",
              " 'time',\n",
              " 'maybe',\n",
              " 'try',\n",
              " 'solve',\n",
              " 'problem',\n",
              " 'first',\n",
              " 'dramatically',\n",
              " 'go',\n",
              " 'crazy',\n",
              " 'anyways',\n",
              " 'base',\n",
              " 'experience',\n",
              " 'get',\n",
              " 'people',\n",
              " 'realize',\n",
              " 'hurting',\n",
              " 'nobody',\n",
              " 'cares',\n",
              " 'maybe',\n",
              " 'least',\n",
              " 'try',\n",
              " 'solve',\n",
              " 'problems',\n",
              " 'people',\n",
              " 'close',\n",
              " 'make',\n",
              " 'things',\n",
              " 'true',\n",
              " 'start',\n",
              " 'girl',\n",
              " 'hurting',\n",
              " 'girls',\n",
              " 'boys',\n",
              " 'well',\n",
              " 'things',\n",
              " 'said',\n",
              " 'right',\n",
              " 'happy',\n",
              " 'using',\n",
              " 'bye',\n",
              " 'anyways',\n",
              " 'sorry',\n",
              " 'telling',\n",
              " 'feelings',\n",
              " 'cannot',\n",
              " 'take',\n",
              " 'anymore']"
            ]
          },
          "metadata": {
            "tags": []
          },
          "execution_count": 357
        }
      ]
    },
    {
      "cell_type": "markdown",
      "metadata": {
        "id": "DxkCG6bj5gtI"
      },
      "source": [
        "#### Create the Dictionary and Corpus needed for Topic Modeling\n",
        "\n",
        "The two main inputs to the LDA topic model are the dictionary(id2word) and the corpus. Let’s create them."
      ]
    },
    {
      "cell_type": "markdown",
      "metadata": {
        "id": "FbBHHqt-5vdE"
      },
      "source": [
        "##### Good Reviews -  Dictionary and Corpus"
      ]
    },
    {
      "cell_type": "code",
      "metadata": {
        "id": "QYNUGf6w6jIa",
        "colab": {
          "base_uri": "https://localhost:8080/"
        },
        "outputId": "5087ce2e-232d-4784-a23f-7dcc924fdd37"
      },
      "source": [
        "# Create Dictionary\n",
        "g_id2word = corpora.Dictionary(gr_words_trigrams)\n",
        "g_id2word.filter_extremes(no_below=10, no_above=0.35)\n",
        "g_id2word.compactify()\n",
        "# Create Corpus\n",
        "g_texts = gr_words_trigrams\n",
        "\n",
        "# Term Document Frequency\n",
        "g_corpus = [g_id2word.doc2bow(text) for text in g_texts]\n",
        "\n",
        "# View\n",
        "print(g_corpus[:1])"
      ],
      "execution_count": 358,
      "outputs": [
        {
          "output_type": "stream",
          "text": [
            "[[(0, 3), (1, 2), (2, 2), (3, 1), (4, 2), (5, 1), (6, 4), (7, 2), (8, 1), (9, 1), (10, 1), (11, 1), (12, 1), (13, 1), (14, 3), (15, 1), (16, 1), (17, 2), (18, 1), (19, 2), (20, 2), (21, 1), (22, 1), (23, 1), (24, 1), (25, 1), (26, 2), (27, 1)]]\n"
          ],
          "name": "stdout"
        }
      ]
    },
    {
      "cell_type": "markdown",
      "metadata": {
        "id": "sGYpY3DG5zQq"
      },
      "source": [
        "##### Bad Reviews -  Dictionary and Corpus"
      ]
    },
    {
      "cell_type": "code",
      "metadata": {
        "id": "_9ZYxwth51Q3",
        "colab": {
          "base_uri": "https://localhost:8080/"
        },
        "outputId": "a881a837-9bba-4fe4-da0d-75b6584b5d23"
      },
      "source": [
        "# Create Dictionary\n",
        "b_id2word = corpora.Dictionary(br_words_trigrams)\n",
        "b_id2word.filter_extremes(no_below=10, no_above=0.35)\n",
        "b_id2word.compactify()\n",
        "\n",
        "# Create Corpus\n",
        "b_texts = br_words_trigrams\n",
        "\n",
        "# Term Document Frequency\n",
        "b_corpus = [b_id2word.doc2bow(text) for text in b_texts]\n",
        "\n",
        "# View\n",
        "print(b_corpus[:1])"
      ],
      "execution_count": 359,
      "outputs": [
        {
          "output_type": "stream",
          "text": [
            "[[(0, 1), (1, 2), (2, 2), (3, 4), (4, 1), (5, 1), (6, 1), (7, 1), (8, 1), (9, 1), (10, 1), (11, 1), (12, 1), (13, 1), (14, 1), (15, 1), (16, 2), (17, 1), (18, 1), (19, 1), (20, 1), (21, 1), (22, 2), (23, 1), (24, 1), (25, 1), (26, 2), (27, 1), (28, 1), (29, 1), (30, 1), (31, 1), (32, 2), (33, 1), (34, 1), (35, 1), (36, 1), (37, 1), (38, 2), (39, 2), (40, 1), (41, 1), (42, 1), (43, 1), (44, 1), (45, 1), (46, 2), (47, 1), (48, 2)]]\n"
          ],
          "name": "stdout"
        }
      ]
    },
    {
      "cell_type": "markdown",
      "metadata": {
        "id": "NkjOukTZ6RNP"
      },
      "source": [
        "#### Building the Topic Model"
      ]
    },
    {
      "cell_type": "markdown",
      "metadata": {
        "id": "jpte7nuy6Vfh"
      },
      "source": [
        "##### Optizing Number of Topics for Good Reviews"
      ]
    },
    {
      "cell_type": "code",
      "metadata": {
        "id": "YVCfa-Gz6U7R"
      },
      "source": [
        "# Build initial LDA model\n",
        "lda_model = gensim.models.ldamodel.LdaModel(corpus=g_corpus,\n",
        "                                           id2word=g_id2word,\n",
        "                                           num_topics=6, \n",
        "                                           random_state=100,\n",
        "                                           update_every=1,\n",
        "                                           chunksize=100,\n",
        "                                           passes=10,\n",
        "                                           alpha='auto',\n",
        "                                           per_word_topics=True)"
      ],
      "execution_count": null,
      "outputs": []
    },
    {
      "cell_type": "code",
      "metadata": {
        "id": "2vV8hMAt6l22",
        "colab": {
          "base_uri": "https://localhost:8080/"
        },
        "outputId": "0787dd39-2491-4a59-f302-7e4d338f44fb"
      },
      "source": [
        "print(json.dumps(lda_model.print_topics(), indent=1))"
      ],
      "execution_count": 361,
      "outputs": [
        {
          "output_type": "stream",
          "text": [
            "[\n",
            " [\n",
            "  0,\n",
            "  \"0.067*\\\"mpin\\\" + 0.059*\\\"open\\\" + 0.043*\\\"wrong\\\" + 0.038*\\\"login\\\" + 0.037*\\\"keeps\\\" + 0.036*\\\"always\\\" + 0.030*\\\"limit\\\" + 0.026*\\\"crashing\\\" + 0.025*\\\"still\\\" + 0.024*\\\"tried\\\"\"\n",
            " ],\n",
            " [\n",
            "  1,\n",
            "  \"0.159*\\\"cash\\\" + 0.082*\\\"load\\\" + 0.063*\\\"transaction\\\" + 0.043*\\\"new\\\" + 0.037*\\\"never\\\" + 0.036*\\\"paypal\\\" + 0.031*\\\"unavailable\\\" + 0.029*\\\"days\\\" + 0.028*\\\"bank\\\" + 0.028*\\\"month\\\"\"\n",
            " ],\n",
            " [\n",
            "  2,\n",
            "  \"0.102*\\\"cannot\\\" + 0.071*\\\"account\\\" + 0.050*\\\"update\\\" + 0.046*\\\"fix\\\" + 0.036*\\\"need\\\" + 0.036*\\\"id\\\" + 0.029*\\\"verify\\\" + 0.021*\\\"verification\\\" + 0.021*\\\"use\\\" + 0.020*\\\"time\\\"\"\n",
            " ],\n",
            " [\n",
            "  3,\n",
            "  \"0.067*\\\"money\\\" + 0.052*\\\"number\\\" + 0.041*\\\"get\\\" + 0.033*\\\"email\\\" + 0.026*\\\"code\\\" + 0.025*\\\"account\\\" + 0.024*\\\"sent\\\" + 0.024*\\\"verified\\\" + 0.023*\\\"ticket\\\" + 0.021*\\\"phone\\\"\"\n",
            " ],\n",
            " [\n",
            "  4,\n",
            "  \"0.140*\\\"service\\\" + 0.101*\\\"code\\\" + 0.064*\\\"bad\\\" + 0.060*\\\"add\\\" + 0.050*\\\"support\\\" + 0.038*\\\"log\\\" + 0.037*\\\"tried\\\" + 0.035*\\\"needs\\\" + 0.035*\\\"transactions\\\" + 0.031*\\\"everything\\\"\"\n",
            " ],\n",
            " [\n",
            "  5,\n",
            "  \"0.038*\\\"using\\\" + 0.035*\\\"pay\\\" + 0.034*\\\"use\\\" + 0.032*\\\"bank\\\" + 0.032*\\\"fully_verified\\\" + 0.032*\\\"transfer\\\" + 0.031*\\\"money\\\" + 0.028*\\\"paymaya\\\" + 0.028*\\\"bills\\\" + 0.022*\\\"feature\\\"\"\n",
            " ]\n",
            "]\n"
          ],
          "name": "stdout"
        }
      ]
    },
    {
      "cell_type": "code",
      "metadata": {
        "id": "y7UkXohwiGLc"
      },
      "source": [
        "# supporting function\n",
        "def compute_coherence_values(corpus, dictionary, k, a, b):\n",
        "    \n",
        "    lda_model = gensim.models.LdaMulticore(corpus=corpus,\n",
        "                                           id2word=dictionary,\n",
        "                                           num_topics=k, \n",
        "                                           random_state=100,\n",
        "                                           chunksize=100,\n",
        "                                           passes=10,\n",
        "                                           alpha=a,\n",
        "                                           eta=b)\n",
        "    \n",
        "    coherence_model_lda = CoherenceModel(model=lda_model, texts=gr_words_trigrams, dictionary=g_id2word, coherence='c_v')\n",
        "    \n",
        "    return coherence_model_lda.get_coherence()"
      ],
      "execution_count": 362,
      "outputs": []
    },
    {
      "cell_type": "code",
      "metadata": {
        "id": "QGpLrN7hn2lB"
      },
      "source": [
        "# #Optimizing topic models\n",
        "\n",
        "# import numpy as np\n",
        "# import tqdm\n",
        "# grid = {}\n",
        "# grid['Validation_Set'] = {}\n",
        "# # Topics range\n",
        "# min_topics = 2\n",
        "# max_topics = 8\n",
        "# step_size = 1\n",
        "# topics_range = range(min_topics, max_topics, step_size)\n",
        "# # Alpha parameter\n",
        "# alpha = list(np.arange(0.01, 1, 0.3))\n",
        "# alpha.append('symmetric')\n",
        "# alpha.append('asymmetric')\n",
        "# # Beta parameter\n",
        "# beta = list(np.arange(0.01, 1, 0.3))\n",
        "# beta.append('symmetric')\n",
        "# # Validation sets\n",
        "# num_of_docs = len(g_corpus)\n",
        "# corpus_sets = [# gensim.utils.ClippedCorpus(corpus, num_of_docs*0.25), \n",
        "#                # gensim.utils.ClippedCorpus(corpus, num_of_docs*0.5), \n",
        "#                #gensim.utils.ClippedCorpus(g_corpus, num_of_docs*0.75), \n",
        "#                g_corpus]\n",
        "# corpus_title = ['75% Corpus', '100% Corpus']\n",
        "# model_results = {'Validation_Set': [],\n",
        "#                  'Topics': [],\n",
        "#                  'Alpha': [],\n",
        "#                  'Beta': [],\n",
        "#                  'Coherence': []\n",
        "#                 }\n",
        "# # Can take a long time to run\n",
        "# if 1 == 1:\n",
        "#     pbar = tqdm.tqdm(total=540)\n",
        "    \n",
        "#     # iterate through validation corpuses\n",
        "#     for i in range(len(corpus_sets)):\n",
        "#         # iterate through number of topics\n",
        "#         for k in topics_range:\n",
        "#             # iterate through alpha values\n",
        "#             for a in alpha:\n",
        "#                 # iterare through beta values\n",
        "#                 for b in beta:\n",
        "#                     # get the coherence score for the given parameters\n",
        "#                     cv = compute_coherence_values(corpus=corpus_sets[i], dictionary=g_id2word, \n",
        "#                                                   k=k, a=a, b=b)\n",
        "#                     # Save the model results\n",
        "#                     model_results['Validation_Set'].append(corpus_title[i])\n",
        "#                     model_results['Topics'].append(k)\n",
        "#                     model_results['Alpha'].append(a)\n",
        "#                     model_results['Beta'].append(b)\n",
        "#                     model_results['Coherence'].append(cv)\n",
        "                    \n",
        "#                     pbar.update(1)\n",
        "#     pd.DataFrame(model_results).to_csv('gcash_gr_lda_tuning_results.csv', index=False)\n",
        "#     pbar.close()"
      ],
      "execution_count": 363,
      "outputs": []
    },
    {
      "cell_type": "code",
      "metadata": {
        "id": "etQrRfJX3CN0"
      },
      "source": [
        "# model_cv_df_gr = pd.DataFrame(model_results) \n",
        "# model_cv_df_gr.sort_values(by='Coherence',ascending=False)"
      ],
      "execution_count": 364,
      "outputs": []
    },
    {
      "cell_type": "code",
      "metadata": {
        "id": "2EJ7gBBq3VG2"
      },
      "source": [
        "# Build optimized LDA model\n",
        "\n",
        "lda_model_experimental = gensim.models.LdaMulticore(corpus=g_corpus,\n",
        "                                           id2word=g_id2word,\n",
        "                                           num_topics=6, \n",
        "                                           random_state=100,\n",
        "                                           chunksize=100,\n",
        "                                           passes=10,\n",
        "                                           alpha=0.61,\n",
        "                                           eta=0.91)"
      ],
      "execution_count": null,
      "outputs": []
    },
    {
      "cell_type": "code",
      "metadata": {
        "colab": {
          "base_uri": "https://localhost:8080/"
        },
        "id": "XMnyUmXX3feL",
        "outputId": "bbbde00c-1797-4c84-fa4e-5563535d487b"
      },
      "source": [
        "print(json.dumps(lda_model_experimental.print_topics(), indent=1))"
      ],
      "execution_count": 366,
      "outputs": [
        {
          "output_type": "stream",
          "text": [
            "[\n",
            " [\n",
            "  0,\n",
            "  \"0.097*\\\"money\\\" + 0.050*\\\"verification\\\" + 0.028*\\\"email\\\" + 0.026*\\\"ticket\\\" + 0.024*\\\"student_id\\\" + 0.024*\\\"send\\\" + 0.022*\\\"support\\\" + 0.021*\\\"login\\\" + 0.021*\\\"get\\\" + 0.018*\\\"cannot\\\"\"\n",
            " ],\n",
            " [\n",
            "  1,\n",
            "  \"0.073*\\\"cash\\\" + 0.037*\\\"transaction\\\" + 0.035*\\\"load\\\" + 0.025*\\\"bank\\\" + 0.018*\\\"card\\\" + 0.017*\\\"way\\\" + 0.016*\\\"hope\\\" + 0.016*\\\"convenient\\\" + 0.016*\\\"already\\\" + 0.015*\\\"days\\\"\"\n",
            " ],\n",
            " [\n",
            "  2,\n",
            "  \"0.075*\\\"cannot\\\" + 0.070*\\\"update\\\" + 0.047*\\\"account\\\" + 0.046*\\\"fix\\\" + 0.036*\\\"need\\\" + 0.033*\\\"working\\\" + 0.025*\\\"updated\\\" + 0.025*\\\"verify\\\" + 0.021*\\\"gcredit\\\" + 0.019*\\\"access\\\"\"\n",
            " ],\n",
            " [\n",
            "  3,\n",
            "  \"0.061*\\\"always\\\" + 0.054*\\\"time\\\" + 0.041*\\\"cannot\\\" + 0.034*\\\"error\\\" + 0.022*\\\"every\\\" + 0.021*\\\"want\\\" + 0.018*\\\"try\\\" + 0.016*\\\"annoying\\\" + 0.015*\\\"using\\\" + 0.015*\\\"keeps\\\"\"\n",
            " ],\n",
            " [\n",
            "  4,\n",
            "  \"0.056*\\\"code\\\" + 0.053*\\\"number\\\" + 0.037*\\\"cannot\\\" + 0.035*\\\"tried\\\" + 0.034*\\\"mpin\\\" + 0.032*\\\"wrong\\\" + 0.031*\\\"account\\\" + 0.028*\\\"open\\\" + 0.026*\\\"new\\\" + 0.024*\\\"log\\\"\"\n",
            " ],\n",
            " [\n",
            "  5,\n",
            "  \"0.062*\\\"id\\\" + 0.048*\\\"account\\\" + 0.042*\\\"service\\\" + 0.031*\\\"transfer\\\" + 0.028*\\\"fully_verified\\\" + 0.027*\\\"verified\\\" + 0.025*\\\"use\\\" + 0.021*\\\"verify\\\" + 0.021*\\\"transactions\\\" + 0.021*\\\"pay\\\"\"\n",
            " ]\n",
            "]\n"
          ],
          "name": "stdout"
        }
      ]
    },
    {
      "cell_type": "markdown",
      "metadata": {
        "id": "ZprhmOHENioL"
      },
      "source": [
        "##### Optimizing Number of Topics for Bad Reviews"
      ]
    },
    {
      "cell_type": "code",
      "metadata": {
        "id": "-Q_acL3u7AWG"
      },
      "source": [
        "# Build LDA model\n",
        "lda_model2 = gensim.models.ldamodel.LdaModel(corpus=b_corpus,\n",
        "                                           id2word=b_id2word,\n",
        "                                           num_topics=6, \n",
        "                                           random_state=100,\n",
        "                                           update_every=1,\n",
        "                                           chunksize=100,\n",
        "                                           passes=10,\n",
        "                                           alpha='auto',\n",
        "                                           per_word_topics=True)\n",
        "\n"
      ],
      "execution_count": null,
      "outputs": []
    },
    {
      "cell_type": "code",
      "metadata": {
        "id": "h1SlJVB0_pA0",
        "colab": {
          "base_uri": "https://localhost:8080/"
        },
        "outputId": "3ed559c6-c8bf-4e08-89f4-8cc7dac61c3f"
      },
      "source": [
        "print(json.dumps(lda_model2.print_topics(), indent=1))"
      ],
      "execution_count": 368,
      "outputs": [
        {
          "output_type": "stream",
          "text": [
            "[\n",
            " [\n",
            "  0,\n",
            "  \"0.103*\\\"error\\\" + 0.074*\\\"log\\\" + 0.050*\\\"system\\\" + 0.048*\\\"easy\\\" + 0.043*\\\"gcredit\\\" + 0.030*\\\"anymore\\\" + 0.023*\\\"unreliable\\\" + 0.023*\\\"trash\\\" + 0.023*\\\"useful\\\" + 0.022*\\\"rebates\\\"\"\n",
            " ],\n",
            " [\n",
            "  1,\n",
            "  \"0.121*\\\"cash\\\" + 0.081*\\\"bank\\\" + 0.058*\\\"transaction\\\" + 0.043*\\\"mpin\\\" + 0.041*\\\"wala\\\" + 0.029*\\\"transfer\\\" + 0.024*\\\"linked\\\" + 0.020*\\\"link\\\" + 0.020*\\\"paymaya\\\" + 0.020*\\\"paypal\\\"\"\n",
            " ],\n",
            " [\n",
            "  2,\n",
            "  \"0.087*\\\"always\\\" + 0.072*\\\"service\\\" + 0.046*\\\"thing\\\" + 0.035*\\\"login\\\" + 0.033*\\\"everytime\\\" + 0.033*\\\"something\\\" + 0.032*\\\"convenient\\\" + 0.029*\\\"however\\\" + 0.026*\\\"user\\\" + 0.024*\\\"services\\\"\"\n",
            " ],\n",
            " [\n",
            "  3,\n",
            "  \"0.102*\\\"cannot\\\" + 0.053*\\\"fix\\\" + 0.043*\\\"update\\\" + 0.036*\\\"use\\\" + 0.027*\\\"using\\\" + 0.026*\\\"issue\\\" + 0.024*\\\"time\\\" + 0.023*\\\"try\\\" + 0.022*\\\"problem\\\" + 0.021*\\\"still\\\"\"\n",
            " ],\n",
            " [\n",
            "  4,\n",
            "  \"0.067*\\\"account\\\" + 0.059*\\\"money\\\" + 0.036*\\\"id\\\" + 0.034*\\\"verification\\\" + 0.027*\\\"get\\\" + 0.026*\\\"verify\\\" + 0.025*\\\"already\\\" + 0.024*\\\"email\\\" + 0.020*\\\"customer_service\\\" + 0.016*\\\"keep\\\"\"\n",
            " ],\n",
            " [\n",
            "  5,\n",
            "  \"0.081*\\\"code\\\" + 0.044*\\\"load\\\" + 0.029*\\\"pera\\\" + 0.022*\\\"could\\\" + 0.021*\\\"received\\\" + 0.018*\\\"make\\\" + 0.018*\\\"able\\\" + 0.018*\\\"php\\\" + 0.017*\\\"balance\\\" + 0.016*\\\"first\\\"\"\n",
            " ]\n",
            "]\n"
          ],
          "name": "stdout"
        }
      ]
    },
    {
      "cell_type": "code",
      "metadata": {
        "id": "rb4eTaOppm8q"
      },
      "source": [
        "# supporting function\n",
        "def compute_coherence_values(corpus, dictionary, k, a, b):\n",
        "    \n",
        "    lda_model = gensim.models.LdaMulticore(corpus=corpus,\n",
        "                                           id2word=dictionary,\n",
        "                                           num_topics=k, \n",
        "                                           random_state=100,\n",
        "                                           chunksize=100,\n",
        "                                           passes=10,\n",
        "                                           alpha=a,\n",
        "                                           eta=b)\n",
        "    \n",
        "    coherence_model_lda = CoherenceModel(model=lda_model, texts=gr_words_trigrams, dictionary=g_id2word, coherence='c_v')\n",
        "    \n",
        "    return coherence_model_lda.get_coherence()"
      ],
      "execution_count": 369,
      "outputs": []
    },
    {
      "cell_type": "markdown",
      "metadata": {
        "id": "TAyJ5MNlpnj7"
      },
      "source": [
        "#### Visualizing LDA model results"
      ]
    },
    {
      "cell_type": "markdown",
      "metadata": {
        "id": "TsDqD9bBki2l"
      },
      "source": [
        "##### Plotting topic models using pyLDAvis"
      ]
    },
    {
      "cell_type": "code",
      "metadata": {
        "id": "IEPh3tij_tHr",
        "colab": {
          "base_uri": "https://localhost:8080/",
          "height": 861
        },
        "outputId": "cf3ca19e-605c-43d7-a34e-1cf8729b32c0"
      },
      "source": [
        "# Visualize the topics\n",
        "pyLDAvis.enable_notebook()\n",
        "vis = pyLDAvis.gensim_models.prepare(lda_model, g_corpus, g_id2word)\n",
        "vis"
      ],
      "execution_count": 370,
      "outputs": [
        {
          "output_type": "execute_result",
          "data": {
            "text/html": [
              "\n",
              "<link rel=\"stylesheet\" type=\"text/css\" href=\"https://cdn.jsdelivr.net/gh/bmabey/pyLDAvis@3.3.1/pyLDAvis/js/ldavis.v1.0.0.css\">\n",
              "\n",
              "\n",
              "<div id=\"ldavis_el1741396770396244003729373198\"></div>\n",
              "<script type=\"text/javascript\">\n",
              "\n",
              "var ldavis_el1741396770396244003729373198_data = {\"mdsDat\": {\"x\": [0.21580578725971303, 0.034670950473977155, -0.14194165053488378, 0.18086388923769284, -0.06115896725524885, -0.2282400091812502], \"y\": [0.08795513516476117, -0.02279142916952129, -0.005518106651158193, 0.04676027519537546, -0.30953600875963827, 0.20313013422018114], \"topics\": [1, 2, 3, 4, 5, 6], \"cluster\": [1, 1, 1, 1, 1, 1], \"Freq\": [33.76482774634974, 21.48989537868679, 19.419991102828085, 10.929935497540178, 8.862453898780542, 5.532896375814665]}, \"tinfo\": {\"Term\": [\"cash\", \"code\", \"service\", \"cannot\", \"load\", \"update\", \"mpin\", \"money\", \"account\", \"number\", \"transaction\", \"open\", \"log\", \"fix\", \"tried\", \"id\", \"need\", \"using\", \"bank\", \"new\", \"wrong\", \"bad\", \"pay\", \"get\", \"add\", \"email\", \"support\", \"fully_verified\", \"verify\", \"login\", \"update\", \"id\", \"need\", \"verify\", \"updated\", \"gcredit\", \"option\", \"access\", \"problem\", \"valid_id\", \"fix\", \"received\", \"available\", \"paying_bills\", \"poor\", \"student\", \"submit_ticket\", \"thank\", \"good\", \"everytime\", \"right\", \"version\", \"longer\", \"updates\", \"application\", \"thru\", \"especially\", \"great\", \"apps\", \"works\", \"cannot\", \"wala\", \"account\", \"error\", \"says\", \"log\", \"verification\", \"working\", \"time\", \"anymore\", \"use\", \"always\", \"already\", \"since\", \"really\", \"make\", \"still\", \"email\", \"sent\", \"phone\", \"student_id\", \"could\", \"put\", \"nothing\", \"send\", \"ticket\", \"also\", \"bug\", \"bring_back\", \"receive\", \"issues\", \"see\", \"went\", \"anything\", \"acc\", \"said\", \"number\", \"takes\", \"students\", \"took\", \"wait\", \"verified\", \"got\", \"fine\", \"get\", \"customer_service\", \"back\", \"money\", \"times\", \"code\", \"want\", \"tried\", \"account\", \"us\", \"still\", \"new\", \"pay\", \"fully_verified\", \"paymaya\", \"bills\", \"feature\", \"fee\", \"useless\", \"thanks\", \"ios\", \"convenient\", \"fees\", \"ago\", \"payments\", \"charge\", \"real\", \"unreliable\", \"unable\", \"love\", \"due\", \"maintenance\", \"paying\", \"well\", \"going\", \"bill\", \"big\", \"wallet\", \"transfer\", \"way\", \"convenience\", \"user\", \"store\", \"bank\", \"using\", \"card\", \"payment\", \"use\", \"money\", \"really\", \"time\", \"mpin\", \"open\", \"login\", \"keeps\", \"limit\", \"crashing\", \"whenever\", \"let\", \"saying\", \"services\", \"worst\", \"ever\", \"find\", \"save\", \"far\", \"useful\", \"getting\", \"wrong\", \"almost\", \"credit\", \"asking\", \"something\", \"information\", \"buy_load\", \"months\", \"system\", \"work\", \"times\", \"annoying\", \"problems\", \"since\", \"always\", \"working\", \"tried\", \"still\", \"says\", \"hope\", \"error\", \"cannot\", \"use\", \"cash\", \"load\", \"never\", \"paypal\", \"unavailable\", \"via\", \"made\", \"process\", \"month\", \"mobile\", \"waiting\", \"started\", \"days\", \"transaction\", \"new\", \"possible\", \"fixed\", \"deducted\", \"much\", \"buy_load\", \"recently\", \"message\", \"give\", \"support\", \"almost\", \"soon\", \"bank\", \"users\", \"card\", \"amount\", \"already\", \"still\", \"customer_service\", \"service\", \"bad\", \"add\", \"needs\", \"asked\", \"everything\", \"experience\", \"able\", \"support\", \"message\", \"code\", \"customer\", \"transactions\", \"yet\", \"another\", \"say\", \"log\", \"thing\", \"better\", \"tried\", \"lot\", \"asking\", \"issue\", \"first\", \"using\", \"user\", \"verification\", \"us\", \"wala\", \"wait\", \"make\"], \"Freq\": [87.0, 69.0, 48.0, 240.0, 45.0, 105.0, 46.0, 131.0, 184.0, 74.0, 60.0, 40.0, 47.0, 99.0, 54.0, 75.0, 75.0, 67.0, 54.0, 40.0, 43.0, 22.0, 43.0, 66.0, 21.0, 44.0, 28.0, 39.0, 61.0, 26.0, 104.18347562765321, 74.47362770685153, 74.52177515521744, 60.793191032698786, 36.40017935689301, 29.175706600935673, 37.09111730562098, 26.602781360805075, 37.233554474785784, 24.011590826003747, 94.61495414162175, 20.04519411987081, 19.19614921013166, 18.592966740938586, 20.33930852567504, 18.12602204080113, 17.199795277126977, 17.086760258152175, 29.79349627357052, 14.865142422116863, 13.13589882675428, 12.836823739563902, 12.491515411534309, 12.299294330440597, 11.793865155725898, 13.618857837382953, 11.40361843502226, 9.233244844160433, 9.157600743390196, 8.202645382831694, 210.9983924066143, 20.30648054401665, 148.4954482434607, 30.59818150453904, 31.8519603375473, 33.496367184366136, 43.177975947818524, 33.220701945543084, 41.82030151741384, 17.000444789132807, 42.68508976792354, 37.82172909245011, 30.234921432515485, 22.90129433108285, 23.633642259622224, 20.499128402420407, 20.45026481979275, 43.08865393321154, 32.237027880662694, 27.867655829414787, 27.179290658816022, 26.504542504315683, 24.712413101006575, 24.341824295598112, 27.48334899512338, 29.914904106795124, 22.15610473672768, 20.170502590757998, 19.358277268390815, 18.72782691549164, 18.250558754725528, 17.78113263525511, 17.282154116996814, 16.834368138814703, 19.00335776321502, 15.59801969897055, 69.2546754956138, 12.577154770552974, 9.060951479709457, 9.063806938666952, 16.184013339912426, 31.88573498082377, 16.16555140574678, 12.637476648995852, 54.288039901867606, 19.678638082628922, 13.953726201394367, 88.36839834895818, 23.18585862682962, 34.09745424493876, 19.610189602485185, 25.07927428829365, 33.52088066208487, 16.849007601390575, 19.0272657647021, 16.908084066112128, 42.231177873838114, 38.12590764582191, 33.44164783499128, 32.99238510129991, 25.817148035814736, 22.59732305415396, 21.929706346499717, 21.043782419715203, 20.19739526995246, 20.121801611307337, 18.973502922448994, 17.954298779263194, 17.283291233034554, 17.231730671560367, 17.07175901179128, 16.30582245721341, 16.1831722859687, 15.251738095691566, 13.993267209843406, 13.35917705680017, 12.24087047984971, 11.226676896225095, 19.397344385725077, 8.456463083079646, 7.56762644154467, 16.01096087894895, 37.805084890146574, 16.49978933312989, 6.91807936348321, 22.206617408673512, 10.692487348731763, 38.1553810017299, 45.56384453078858, 18.208104048446117, 20.36033363517157, 41.2249248192848, 37.204919821001816, 19.233150319287347, 20.548372666239505, 45.031473042198385, 39.60601513622403, 25.740392718012764, 24.955305954634067, 20.11947949714755, 17.371416439562427, 14.357292511455688, 13.697408873444507, 13.564233708448219, 13.424221786423546, 9.835702503800407, 8.927492713416939, 8.284306877051973, 7.612488987952387, 7.367838093711378, 6.4986570886623305, 9.262296449077612, 29.103042139082106, 14.194166436178522, 7.267415079893502, 8.069617544197914, 13.00100697845418, 7.873262524111601, 8.42927720222205, 6.809925639112753, 13.1744220221991, 9.233753364405494, 15.098802467206244, 7.113021031990294, 4.469301221794033, 12.50003658999996, 24.19695472057312, 15.123267431323214, 16.081070024659834, 17.108637362782993, 11.439750307087916, 9.256906362868374, 9.504717502935188, 10.38034054755222, 8.885757920604, 86.58651070952229, 44.62906360826493, 20.293441020960923, 19.845790675224503, 16.91264769631949, 14.7921208292048, 13.36313633392137, 13.22188295994033, 15.276001243414898, 9.601289215175887, 7.8156232620807495, 6.989171690017668, 15.697164358935371, 34.58233089318595, 23.195884254537198, 8.010875268040644, 4.9125907234476935, 6.819497047586913, 8.548686747356708, 6.290630812615521, 3.035306630822181, 2.932004756508702, 7.47346156963791, 9.343908199539948, 6.850100268811524, 7.5751024673279845, 15.397884769805435, 3.4811844891938506, 6.300529613504656, 4.52535430646344, 12.120761381127167, 8.15891479456349, 4.026475062515039, 47.84083707237728, 21.679496109436002, 20.320805868722278, 12.045469942766216, 9.556914010187008, 10.6780209647681, 9.795579452012511, 9.004134800289094, 16.894804974125886, 4.5018019358084, 34.539476605133075, 7.628065367504271, 12.00008156735723, 10.370373489270799, 5.818780973769397, 4.407130439413503, 12.904709174786838, 2.570868272162904, 4.239091831794158, 12.706439983339314, 4.311131938499564, 2.929541989304974, 4.666031748669337, 3.3607398018943377, 7.1192707753668545, 2.964234720976942, 6.444504201194721, 2.186199665588406, 1.906414844727319, 1.2087459454903615, 1.4738660819111713], \"Total\": [87.0, 69.0, 48.0, 240.0, 45.0, 105.0, 46.0, 131.0, 184.0, 74.0, 60.0, 40.0, 47.0, 99.0, 54.0, 75.0, 75.0, 67.0, 54.0, 40.0, 43.0, 22.0, 43.0, 66.0, 21.0, 44.0, 28.0, 39.0, 61.0, 26.0, 105.14735910344935, 75.4350640990053, 75.51017574521912, 61.759172237199586, 37.362426651816484, 30.139618480678617, 38.37289845978764, 27.57248481336545, 38.71920769369019, 24.971671274622295, 99.07533582651834, 21.013990733964512, 20.160003877990945, 19.558977124304906, 21.3978429954192, 19.08803647171085, 18.16534257285856, 18.04838161793818, 31.634994680384434, 15.828122714019145, 14.100411322464899, 13.798904492654232, 13.456876566278249, 13.276222416876669, 12.757964883853422, 14.797608463263337, 12.40043160037269, 10.198034242812986, 10.204755697925515, 9.16917755058263, 240.69209982512422, 23.02875836104547, 184.83707689036027, 40.891194235718714, 44.082555501832765, 47.21284634874098, 66.17794448989274, 49.13354469272858, 74.5186663511002, 20.91648288030416, 93.35866871575523, 79.50446123499835, 56.71696688682411, 36.19101705316546, 43.62130375366066, 29.063913136907697, 65.12324226980019, 44.23568159895066, 33.21967993576805, 28.86400197834515, 28.15881517581897, 27.516979139678003, 25.695459989176882, 25.323753006998647, 28.73999085528052, 31.328490999786112, 23.23575722497628, 21.154286151420322, 20.339202722432113, 19.710329899857626, 19.232527785903574, 18.76622005438469, 18.26764761859447, 17.817673468449414, 20.19689797001659, 16.579844596718505, 74.00582505502341, 13.563851905531964, 10.042375514442972, 10.047622989843704, 18.253700624429886, 36.48837729994475, 18.780545776316046, 15.080091571328818, 66.63997701043266, 24.48047649782354, 19.073082309106926, 131.73725011970706, 39.0914820261202, 69.47787711312998, 32.054079189458385, 54.518146732033486, 184.83707689036027, 25.031232741822336, 65.12324226980019, 40.865700801710744, 43.175214606208975, 39.07142162782903, 34.386687347466356, 33.93384977049914, 26.760398576556994, 23.54014127127411, 22.874053412562095, 21.98998851547841, 21.14486015132237, 21.06627890448309, 19.9157148023289, 18.91810110979548, 18.22531040551, 18.175993902824647, 18.015402175558744, 17.248601219882076, 17.129418309302757, 16.193576730419775, 14.94981930593447, 14.30053411924013, 13.18480088806361, 12.17092022916515, 21.362300982890176, 9.401656757339643, 8.515347925783963, 18.538489971939935, 43.89153177784637, 21.50012367639022, 9.140275047678411, 29.553621003726363, 14.278738883681001, 54.30177381014116, 67.84546657333877, 25.229526610863786, 30.525854089173084, 93.35866871575523, 131.73725011970706, 43.62130375366066, 74.5186663511002, 46.02895495145438, 40.59686019089306, 26.739702677122672, 25.943244257023295, 21.106424852406892, 18.358076659144643, 15.351161518383899, 14.685882116364711, 14.554425505015322, 14.418431446728157, 10.823810573983744, 9.917926596702404, 9.272831579181174, 8.603807514292333, 8.359116124896085, 7.48713268432438, 12.14377292660068, 43.03027308195634, 21.81256282224142, 11.448524073995948, 12.838020907391877, 23.28283769917586, 14.21419091650181, 15.489209486506658, 14.002213893742931, 29.316652680611355, 23.05204767322783, 39.0914820261202, 19.09365368411638, 12.109077828571591, 36.19101705316546, 79.50446123499835, 49.13354469272858, 54.518146732033486, 65.12324226980019, 44.082555501832765, 30.944534308884556, 40.891194235718714, 240.69209982512422, 93.35866871575523, 87.55089619645359, 45.57215508121647, 21.237304258229003, 20.800642682722515, 17.85940331359283, 15.733932562507599, 14.310650992967544, 14.16619678271986, 16.43863962980301, 10.54450902000581, 8.758294040235283, 10.596239495446985, 24.319946635286083, 60.64135562674674, 40.865700801710744, 14.154029225234757, 11.194760174580043, 16.11188095724606, 20.32787733019561, 15.489209486506658, 8.244750981296214, 8.224200342620989, 21.349793660537415, 28.814131448254546, 21.81256282224142, 25.181535734963052, 54.30177381014116, 13.66198162019546, 25.229526610863786, 20.247237763680403, 56.71696688682411, 65.12324226980019, 24.48047649782354, 48.85463754231501, 22.693464451174787, 21.33441188482006, 13.060024276040343, 10.574552144375719, 13.596988032267703, 13.462592099402922, 14.602034565757522, 28.814131448254546, 8.224200342620989, 69.47787711312998, 17.11484748027518, 27.986070763466206, 26.91059721039864, 15.87849048231105, 13.46988690678855, 47.21284634874098, 9.87316731382726, 18.033137188482876, 54.518146732033486, 18.52772926944152, 12.838020907391877, 26.05660777627105, 25.277230844547883, 67.84546657333877, 29.553621003726363, 66.17794448989274, 25.031232741822336, 23.02875836104547, 18.253700624429886, 29.063913136907697], \"Category\": [\"Default\", \"Default\", \"Default\", \"Default\", \"Default\", \"Default\", \"Default\", \"Default\", \"Default\", \"Default\", \"Default\", \"Default\", \"Default\", \"Default\", \"Default\", \"Default\", \"Default\", \"Default\", \"Default\", \"Default\", \"Default\", \"Default\", \"Default\", \"Default\", \"Default\", \"Default\", \"Default\", \"Default\", \"Default\", \"Default\", \"Topic1\", \"Topic1\", \"Topic1\", \"Topic1\", \"Topic1\", \"Topic1\", \"Topic1\", \"Topic1\", \"Topic1\", \"Topic1\", \"Topic1\", \"Topic1\", \"Topic1\", \"Topic1\", \"Topic1\", \"Topic1\", \"Topic1\", \"Topic1\", \"Topic1\", \"Topic1\", \"Topic1\", \"Topic1\", \"Topic1\", \"Topic1\", \"Topic1\", \"Topic1\", \"Topic1\", \"Topic1\", \"Topic1\", \"Topic1\", \"Topic1\", \"Topic1\", \"Topic1\", \"Topic1\", \"Topic1\", \"Topic1\", \"Topic1\", \"Topic1\", \"Topic1\", \"Topic1\", \"Topic1\", \"Topic1\", \"Topic1\", \"Topic1\", \"Topic1\", \"Topic1\", \"Topic1\", \"Topic2\", \"Topic2\", \"Topic2\", \"Topic2\", \"Topic2\", \"Topic2\", \"Topic2\", \"Topic2\", \"Topic2\", \"Topic2\", \"Topic2\", \"Topic2\", \"Topic2\", \"Topic2\", \"Topic2\", \"Topic2\", \"Topic2\", \"Topic2\", \"Topic2\", \"Topic2\", \"Topic2\", \"Topic2\", \"Topic2\", \"Topic2\", \"Topic2\", \"Topic2\", \"Topic2\", \"Topic2\", \"Topic2\", \"Topic2\", \"Topic2\", \"Topic2\", \"Topic2\", \"Topic2\", \"Topic2\", \"Topic2\", \"Topic2\", \"Topic2\", \"Topic2\", \"Topic3\", \"Topic3\", \"Topic3\", \"Topic3\", \"Topic3\", \"Topic3\", \"Topic3\", \"Topic3\", \"Topic3\", \"Topic3\", \"Topic3\", \"Topic3\", \"Topic3\", \"Topic3\", \"Topic3\", \"Topic3\", \"Topic3\", \"Topic3\", \"Topic3\", \"Topic3\", \"Topic3\", \"Topic3\", \"Topic3\", \"Topic3\", \"Topic3\", \"Topic3\", \"Topic3\", \"Topic3\", \"Topic3\", \"Topic3\", \"Topic3\", \"Topic3\", \"Topic3\", \"Topic3\", \"Topic3\", \"Topic3\", \"Topic3\", \"Topic3\", \"Topic3\", \"Topic4\", \"Topic4\", \"Topic4\", \"Topic4\", \"Topic4\", \"Topic4\", \"Topic4\", \"Topic4\", \"Topic4\", \"Topic4\", \"Topic4\", \"Topic4\", \"Topic4\", \"Topic4\", \"Topic4\", \"Topic4\", \"Topic4\", \"Topic4\", \"Topic4\", \"Topic4\", \"Topic4\", \"Topic4\", \"Topic4\", \"Topic4\", \"Topic4\", \"Topic4\", \"Topic4\", \"Topic4\", \"Topic4\", \"Topic4\", \"Topic4\", \"Topic4\", \"Topic4\", \"Topic4\", \"Topic4\", \"Topic4\", \"Topic4\", \"Topic4\", \"Topic4\", \"Topic4\", \"Topic5\", \"Topic5\", \"Topic5\", \"Topic5\", \"Topic5\", \"Topic5\", \"Topic5\", \"Topic5\", \"Topic5\", \"Topic5\", \"Topic5\", \"Topic5\", \"Topic5\", \"Topic5\", \"Topic5\", \"Topic5\", \"Topic5\", \"Topic5\", \"Topic5\", \"Topic5\", \"Topic5\", \"Topic5\", \"Topic5\", \"Topic5\", \"Topic5\", \"Topic5\", \"Topic5\", \"Topic5\", \"Topic5\", \"Topic5\", \"Topic5\", \"Topic5\", \"Topic5\", \"Topic6\", \"Topic6\", \"Topic6\", \"Topic6\", \"Topic6\", \"Topic6\", \"Topic6\", \"Topic6\", \"Topic6\", \"Topic6\", \"Topic6\", \"Topic6\", \"Topic6\", \"Topic6\", \"Topic6\", \"Topic6\", \"Topic6\", \"Topic6\", \"Topic6\", \"Topic6\", \"Topic6\", \"Topic6\", \"Topic6\", \"Topic6\", \"Topic6\", \"Topic6\", \"Topic6\", \"Topic6\", \"Topic6\", \"Topic6\", \"Topic6\"], \"logprob\": [30.0, 29.0, 28.0, 27.0, 26.0, 25.0, 24.0, 23.0, 22.0, 21.0, 20.0, 19.0, 18.0, 17.0, 16.0, 15.0, 14.0, 13.0, 12.0, 11.0, 10.0, 9.0, 8.0, 7.0, 6.0, 5.0, 4.0, 3.0, 2.0, 1.0, -2.9931, -3.3288, -3.3282, -3.5318, -4.0447, -4.2659, -4.0259, -4.3583, -4.0221, -4.4607, -3.0895, -4.6413, -4.6846, -4.7165, -4.6267, -4.7419, -4.7944, -4.801, -4.245, -4.9403, -5.0639, -5.087, -5.1142, -5.1297, -5.1717, -5.0278, -5.2053, -5.4165, -5.4247, -5.5348, -2.2874, -4.6283, -2.6387, -4.2183, -4.1782, -4.1278, -3.8739, -4.1361, -3.9059, -4.806, -3.8854, -4.0064, -4.2303, -4.5081, -4.4766, -4.6189, -4.6213, -3.4242, -3.7143, -3.86, -3.885, -3.9101, -3.9801, -3.9952, -3.8739, -3.7891, -4.0893, -4.1832, -4.2243, -4.2574, -4.2832, -4.3093, -4.3378, -4.364, -4.2428, -4.4403, -2.9496, -4.6556, -4.9835, -4.9831, -4.4034, -3.7253, -4.4046, -4.6508, -3.1931, -4.2079, -4.5517, -2.7059, -4.0439, -3.6582, -4.2114, -3.9654, -3.6753, -4.3631, -4.2416, -4.3596, -3.343, -3.4453, -3.5764, -3.5899, -3.8351, -3.9683, -3.9983, -4.0395, -4.0806, -4.0843, -4.1431, -4.1983, -4.2364, -4.2394, -4.2487, -4.2946, -4.3022, -4.3615, -4.4476, -4.4939, -4.5814, -4.6679, -4.121, -4.9512, -5.0623, -4.3129, -3.4537, -4.2828, -5.152, -3.9858, -4.7166, -3.4445, -3.267, -4.1843, -4.0726, -3.3671, -3.4697, -4.1295, -4.0634, -2.704, -2.8324, -3.2633, -3.2943, -3.5097, -3.6565, -3.8471, -3.8941, -3.9039, -3.9143, -4.2253, -4.3222, -4.397, -4.4816, -4.5142, -4.6398, -4.2854, -3.1405, -3.8585, -4.528, -4.4232, -3.9463, -4.4479, -4.3796, -4.593, -3.9331, -4.2885, -3.7967, -4.5494, -5.0141, -3.9856, -3.3251, -3.7951, -3.7337, -3.6718, -4.0743, -4.286, -4.2596, -4.1714, -4.3269, -1.8405, -2.5033, -3.2914, -3.3137, -3.4736, -3.6076, -3.7092, -3.7198, -3.5754, -4.0398, -4.2455, -4.3573, -3.5482, -2.7583, -3.1577, -4.2209, -4.7099, -4.3819, -4.1559, -4.4626, -5.1914, -5.226, -4.2903, -4.0669, -4.3774, -4.2768, -3.5674, -5.0543, -4.461, -4.792, -3.8068, -4.2026, -4.9088, -1.9627, -2.7542, -2.8189, -3.3419, -3.5733, -3.4624, -3.5486, -3.6329, -3.0036, -4.3261, -2.2885, -3.7987, -3.3456, -3.4916, -4.0695, -4.3473, -3.273, -4.8863, -4.3862, -3.2885, -4.3694, -4.7557, -4.2903, -4.6184, -3.8678, -4.7439, -3.9673, -5.0484, -5.1853, -5.641, -5.4427], \"loglift\": [30.0, 29.0, 28.0, 27.0, 26.0, 25.0, 24.0, 23.0, 22.0, 21.0, 20.0, 19.0, 18.0, 17.0, 16.0, 15.0, 14.0, 13.0, 12.0, 11.0, 10.0, 9.0, 8.0, 7.0, 6.0, 5.0, 4.0, 3.0, 2.0, 1.0, 1.0765, 1.0729, 1.0726, 1.07, 1.0597, 1.0532, 1.0518, 1.0499, 1.0466, 1.0465, 1.0397, 1.0386, 1.0368, 1.0351, 1.035, 1.034, 1.0311, 1.031, 1.0258, 1.023, 1.0149, 1.0135, 1.0113, 1.0093, 1.0072, 1.0027, 1.0019, 0.9864, 0.9775, 0.9744, 0.9541, 0.9599, 0.8668, 0.7958, 0.7608, 0.7425, 0.6587, 0.6944, 0.5081, 0.8785, 0.3032, 0.3428, 0.4567, 0.6281, 0.4729, 0.7366, -0.0725, 1.5113, 1.5076, 1.5025, 1.5022, 1.5001, 1.4986, 1.498, 1.4929, 1.4914, 1.49, 1.49, 1.4882, 1.4865, 1.4852, 1.4837, 1.4821, 1.4808, 1.4767, 1.4765, 1.4712, 1.4621, 1.4347, 1.4345, 1.4172, 1.4028, 1.3876, 1.3609, 1.3326, 1.3192, 1.2251, 1.1383, 1.0152, 0.8258, 1.0462, 0.7611, -0.1697, 1.1418, 0.3072, 0.6551, 1.6168, 1.6144, 1.611, 1.6107, 1.603, 1.598, 1.5967, 1.5949, 1.593, 1.593, 1.5904, 1.5866, 1.5858, 1.5855, 1.5851, 1.5827, 1.582, 1.5789, 1.5727, 1.5708, 1.5646, 1.5581, 1.5424, 1.5329, 1.5209, 1.4923, 1.4896, 1.3742, 1.3603, 1.3531, 1.3496, 1.286, 1.2407, 1.3127, 1.2339, 0.8215, 0.3745, 0.82, 0.3506, 2.1918, 2.189, 2.1756, 2.1748, 2.1658, 2.1584, 2.1467, 2.144, 2.1432, 2.1422, 2.1179, 2.1085, 2.1009, 2.0913, 2.0874, 2.0721, 1.9428, 1.8226, 1.784, 1.7592, 1.7494, 1.631, 1.6229, 1.6052, 1.4928, 1.4138, 1.2988, 1.2624, 1.2262, 1.2169, 1.1506, 1.0241, 1.0354, 0.9928, 0.877, 0.8647, 1.0068, 0.7545, -0.9299, -0.1383, 2.4123, 2.4024, 2.3779, 2.3764, 2.3689, 2.3616, 2.3548, 2.3544, 2.35, 2.3296, 2.3095, 2.0072, 1.9855, 1.8617, 1.857, 1.8541, 1.5997, 1.5636, 1.5571, 1.5223, 1.4241, 1.392, 1.3737, 1.2972, 1.2651, 1.2221, 1.163, 1.0561, 1.036, 0.925, 0.8802, 0.3462, 0.6184, 2.8735, 2.8487, 2.8458, 2.8136, 2.7933, 2.6528, 2.5765, 2.411, 2.3606, 2.2919, 2.1956, 2.0863, 2.0477, 1.9409, 1.8906, 1.7772, 1.5974, 1.5489, 1.4466, 1.438, 1.4364, 1.4169, 1.1745, 0.8767, 0.64, 0.5949, 0.5653, 0.4565, 0.4029, 0.1797, -0.0871]}, \"token.table\": {\"Topic\": [2, 6, 2, 1, 1, 2, 4, 5, 6, 3, 4, 5, 1, 2, 4, 5, 2, 1, 3, 4, 5, 2, 3, 5, 2, 4, 3, 6, 1, 3, 2, 1, 1, 6, 4, 5, 6, 1, 1, 2, 3, 6, 3, 5, 3, 6, 3, 3, 3, 2, 2, 4, 5, 1, 2, 3, 4, 3, 5, 5, 3, 2, 6, 3, 5, 3, 2, 4, 3, 4, 3, 4, 6, 2, 5, 3, 4, 5, 2, 5, 3, 2, 1, 4, 1, 4, 3, 6, 1, 4, 6, 4, 3, 3, 3, 4, 2, 3, 1, 2, 3, 6, 1, 2, 6, 3, 5, 3, 1, 1, 2, 3, 3, 4, 1, 2, 5, 3, 6, 1, 6, 2, 5, 1, 1, 3, 4, 5, 1, 1, 4, 3, 1, 2, 6, 2, 4, 4, 4, 5, 1, 6, 4, 1, 2, 3, 6, 3, 5, 3, 1, 3, 6, 5, 6, 5, 2, 3, 4, 5, 3, 4, 4, 2, 3, 5, 1, 6, 5, 2, 5, 2, 2, 5, 4, 1, 2, 3, 3, 1, 3, 1, 3, 3, 5, 2, 1, 1, 5, 1, 4, 3, 4, 5, 2, 3, 1, 3, 2, 1, 2, 3, 5, 1, 2, 4, 3, 4, 6, 4, 1, 4, 2, 2, 2, 6, 4, 1, 4, 2, 3, 4, 1, 5, 4, 5, 1, 2, 4, 5, 1, 3, 4, 1, 2, 2, 1, 3, 5, 6, 2, 4, 2, 1, 3, 2, 6, 1, 2, 5, 1, 2, 3, 4, 2, 4, 2, 1, 3, 4, 5, 3, 4, 6, 1, 3, 2, 4, 6, 3, 5, 3, 1, 1, 1, 2, 4, 6, 1, 3, 4, 4, 3, 3, 4, 6, 2, 5, 1, 3, 6, 1, 1, 2, 4, 6, 1, 2, 1, 1, 5, 2, 6, 5, 1, 6, 3, 4, 1, 2, 3, 1, 3, 3, 2, 4, 1, 3, 4, 1, 4, 1, 4, 2, 4, 3, 5, 6], \"Freq\": [0.34241803616362076, 0.6163524650945175, 0.9407385247084254, 0.979237097518032, 0.8007051533702251, 0.1839457784769436, 0.005410169955204223, 0.010820339910408447, 0.9374526051140165, 0.9514697006603849, 0.6418319623462468, 0.3209159811731234, 0.5289422486195976, 0.15868267458587926, 0.0881570414365996, 0.21157689944783903, 0.9468165718460875, 0.47796060006846725, 0.17609074739364583, 0.3018698526748214, 0.03773373158435268, 0.493894531032675, 0.2469472655163375, 0.2469472655163375, 0.5761076524159792, 0.3666139606283504, 0.5668045089063205, 0.37786967260421367, 0.8127561453464013, 0.14342755506112964, 0.9541088532182775, 0.9405888877455127, 0.8819417403426497, 0.9456665269099547, 0.623149008535557, 0.07789362606694462, 0.23368087820083386, 0.9424601361680618, 0.10485982116509031, 0.7340187481556322, 0.10485982116509031, 0.9694421073227147, 0.6997929779027456, 0.276234070224768, 0.7208950868683369, 0.2218138728825652, 0.9394801092949449, 0.8509138555557877, 0.9724802880659007, 0.9341565772902639, 0.9454348805174491, 0.5164885920723815, 0.38736644405428616, 0.8766386605680156, 0.07062965511685435, 0.008309371190218158, 0.04154685595109079, 0.7134497716754319, 0.2378165905584773, 0.993707703514337, 0.9352996095227623, 0.48936440508448775, 0.5037574758222668, 0.7658412863383108, 0.21881179609666024, 0.9493845633907287, 0.9812123584840551, 0.9260229334281513, 0.2620425113848664, 0.6114325265646882, 0.3505727998403132, 0.1752863999201566, 0.4674303997870843, 0.8169775617634779, 0.1633955123526956, 0.3289480902228918, 0.04111851127786147, 0.6578961804457836, 0.5585939980491473, 0.43446199848267014, 0.9364661681524518, 0.9720659532240603, 0.7581094311234693, 0.2445514293946675, 0.8870658985506117, 0.9074477323710377, 0.14709139959921258, 0.8090026977956692, 0.9476802948156532, 0.22283970113995005, 0.7427990037998335, 0.8374091106536721, 0.9715849308304724, 0.9770544592298925, 0.9540204902802777, 0.8627353933572068, 0.8620637307479211, 0.132625189345834, 0.197806477724931, 0.5142968420848206, 0.15824518217994482, 0.1186838866349586, 0.9588662930837369, 0.030279988202644326, 0.010093329400881442, 0.5359650324286721, 0.4466375270238934, 0.9725778693686973, 0.9621886892360902, 0.12004806062204343, 0.8103244091987931, 0.045018022733266286, 0.1646934615863116, 0.7411205771384022, 0.09367772034709473, 0.5620663220825685, 0.32787202121483155, 0.8894172970981812, 0.046811436689377955, 0.9483168972556133, 0.03161056324185378, 0.8519454221707143, 0.10649317777133929, 0.8825230221542653, 0.45242238452366784, 0.12926353843533367, 0.29084296147950073, 0.09694765382650025, 0.9809761665063101, 0.4221133679184206, 0.5628178238912274, 0.945856338461015, 0.6524256781990393, 0.15351192428212687, 0.1918899053526586, 0.9359144154307708, 0.9636420083903754, 0.9532964985739316, 0.947578765226991, 0.9874450729793927, 0.6989623069162829, 0.2753487875730811, 0.9723369146600299, 0.8917373909835026, 0.26986577401293793, 0.43178523842070066, 0.21589261921035033, 0.926293199440144, 0.908414299698063, 0.9090569549083923, 0.6881385829151268, 0.20644157487453804, 0.03440692914575634, 0.36477710598230917, 0.6079618433038486, 0.948360893904806, 0.6679963330040374, 0.28086209455851574, 0.04554520452300255, 0.9124842649877927, 0.42850366702948145, 0.49992094486772837, 0.9776454852703131, 0.442741750838448, 0.09838705574187734, 0.442741750838448, 0.993243615973819, 0.9188344329508604, 0.9417391094846902, 0.41599678132250056, 0.562819174730442, 0.9477268236413139, 0.9323590399633871, 0.054049799418167364, 0.9852978730846049, 0.9642221850604704, 0.02606005905568839, 0.9727803412923866, 0.9101388865768746, 0.971420942887126, 0.9596737151952345, 0.29483204544282093, 0.6551823232062688, 0.9327687497086713, 0.9615087526412082, 0.9700664523584305, 0.9346736493150993, 0.35325630040989764, 0.5652100806558362, 0.9555980662804122, 0.025826974764335466, 0.578078702532027, 0.33033068716115827, 0.9176774966064001, 0.9729345188033288, 0.9436369965175506, 0.5501898828043612, 0.4355669905534526, 0.9639615418175849, 0.9517468744132632, 0.24257858175912625, 0.24257858175912625, 0.36386787263868936, 0.9219589203960515, 0.9650271392270307, 0.9298208946109836, 0.5196777113601556, 0.14847934610290162, 0.29695869220580323, 0.9619067406800583, 0.7259107289882406, 0.2495318130897077, 0.959170251006107, 0.9394575014292037, 0.9632844164023746, 0.9825065216874289, 0.9016237340400832, 0.6355168180604722, 0.3592051580341799, 0.3436007287154338, 0.08590018217885845, 0.5583511841625799, 0.6750978248080605, 0.31769309402732254, 0.2831193086272773, 0.6606117201303137, 0.30711001637697427, 0.2917545155581256, 0.2610435139204281, 0.12284400655078971, 0.14006839233440818, 0.7703761578392451, 0.07003419616720409, 0.9429990364214067, 0.9588471614098989, 0.8962022966633916, 0.935848026637288, 0.06941038648316268, 0.31234673917423206, 0.5899882851068827, 0.511654593156206, 0.44343398073537854, 0.958429809654439, 0.9419127077357341, 0.9549800349017203, 0.6077077202568083, 0.30385386012840415, 0.9460988263580912, 0.9575947976621286, 0.03191982658873762, 0.5636171721339442, 0.08051673887627775, 0.2818085860669721, 0.08051673887627775, 0.5883634696845679, 0.3837153063160225, 0.8957342457113828, 0.14841356871036737, 0.23086555132723813, 0.049471189570122455, 0.5771638783180953, 0.46451679872726404, 0.07146412288111754, 0.42878473728670524, 0.1139171907990616, 0.8657706500728681, 0.4585629097569935, 0.2934802622444758, 0.2384527130736366, 0.9340655771895426, 0.9518795057985653, 0.927611450693008, 0.9890880844442274, 0.9635348457284895, 0.9038715700292621, 0.6791515294249291, 0.1997504498308615, 0.07990017993234459, 0.4605892585178146, 0.4391665023076837, 0.09640240294558912, 0.8013748724611289, 0.9617884335234578, 0.7444096274099902, 0.13534720498363456, 0.10151040373772592, 0.6587624145750562, 0.21958747152501873, 0.2210906749942604, 0.678011403315732, 0.10317564833065486, 0.9610890571185051, 0.6497633060598812, 0.12088619647625695, 0.12088619647625695, 0.09066464735719272, 0.10962394866504674, 0.8769915893203739, 0.9877075386586495, 0.9421037740293423, 0.9533535205142236, 0.8765345903934877, 0.05478341189959298, 0.9134198924183513, 0.8684793025502932, 0.08684793025502931, 0.8630692156814163, 0.10788365196017703, 0.28077549652275857, 0.6239455478283523, 0.09359183217425285, 0.18604544142192503, 0.7441817656877001, 0.9037936156742465, 0.9306069590862841, 0.9119831084595257, 0.17352037687504512, 0.3904208479688515, 0.3904208479688515, 0.6716389018210561, 0.30529040991866185, 0.8724882854396971, 0.9238890436641726, 0.3021128863216818, 0.6739441310252902, 0.5202411485163992, 0.07432016407377133, 0.3716008203688566], \"Term\": [\"able\", \"able\", \"acc\", \"access\", \"account\", \"account\", \"account\", \"account\", \"add\", \"ago\", \"almost\", \"almost\", \"already\", \"already\", \"already\", \"already\", \"also\", \"always\", \"always\", \"always\", \"always\", \"amount\", \"amount\", \"amount\", \"annoying\", \"annoying\", \"another\", \"another\", \"anymore\", \"anymore\", \"anything\", \"application\", \"apps\", \"asked\", \"asking\", \"asking\", \"asking\", \"available\", \"back\", \"back\", \"back\", \"bad\", \"bank\", \"bank\", \"better\", \"better\", \"big\", \"bill\", \"bills\", \"bring_back\", \"bug\", \"buy_load\", \"buy_load\", \"cannot\", \"cannot\", \"cannot\", \"cannot\", \"card\", \"card\", \"cash\", \"charge\", \"code\", \"code\", \"convenience\", \"convenience\", \"convenient\", \"could\", \"crashing\", \"credit\", \"credit\", \"customer\", \"customer\", \"customer\", \"customer_service\", \"customer_service\", \"days\", \"days\", \"days\", \"deducted\", \"deducted\", \"due\", \"email\", \"error\", \"error\", \"especially\", \"ever\", \"everything\", \"everything\", \"everytime\", \"experience\", \"experience\", \"far\", \"feature\", \"fee\", \"fees\", \"find\", \"fine\", \"fine\", \"first\", \"first\", \"first\", \"first\", \"fix\", \"fix\", \"fix\", \"fixed\", \"fixed\", \"fully_verified\", \"gcredit\", \"get\", \"get\", \"get\", \"getting\", \"getting\", \"give\", \"give\", \"give\", \"going\", \"going\", \"good\", \"good\", \"got\", \"got\", \"great\", \"hope\", \"hope\", \"hope\", \"hope\", \"id\", \"information\", \"information\", \"ios\", \"issue\", \"issue\", \"issue\", \"issues\", \"keeps\", \"let\", \"limit\", \"load\", \"log\", \"log\", \"login\", \"longer\", \"lot\", \"lot\", \"lot\", \"love\", \"made\", \"maintenance\", \"make\", \"make\", \"make\", \"message\", \"message\", \"mobile\", \"money\", \"money\", \"money\", \"month\", \"months\", \"months\", \"mpin\", \"much\", \"much\", \"much\", \"need\", \"needs\", \"never\", \"new\", \"new\", \"nothing\", \"number\", \"number\", \"open\", \"option\", \"option\", \"pay\", \"paying\", \"paying_bills\", \"paymaya\", \"payment\", \"payment\", \"payments\", \"paypal\", \"phone\", \"poor\", \"possible\", \"possible\", \"problem\", \"problem\", \"problems\", \"problems\", \"process\", \"put\", \"real\", \"really\", \"really\", \"receive\", \"received\", \"recently\", \"recently\", \"recently\", \"right\", \"said\", \"save\", \"say\", \"say\", \"say\", \"saying\", \"says\", \"says\", \"see\", \"send\", \"sent\", \"service\", \"services\", \"since\", \"since\", \"something\", \"something\", \"something\", \"soon\", \"soon\", \"started\", \"started\", \"still\", \"still\", \"still\", \"still\", \"store\", \"store\", \"store\", \"student\", \"student_id\", \"students\", \"submit_ticket\", \"support\", \"support\", \"support\", \"system\", \"system\", \"takes\", \"thank\", \"thanks\", \"thing\", \"thing\", \"thru\", \"ticket\", \"ticket\", \"time\", \"time\", \"time\", \"time\", \"times\", \"times\", \"took\", \"transaction\", \"transaction\", \"transaction\", \"transaction\", \"transactions\", \"transactions\", \"transactions\", \"transfer\", \"transfer\", \"tried\", \"tried\", \"tried\", \"unable\", \"unavailable\", \"unreliable\", \"update\", \"updated\", \"updates\", \"us\", \"us\", \"us\", \"use\", \"use\", \"use\", \"useful\", \"useless\", \"user\", \"user\", \"user\", \"users\", \"users\", \"using\", \"using\", \"using\", \"valid_id\", \"verification\", \"verification\", \"verification\", \"verification\", \"verified\", \"verified\", \"verify\", \"version\", \"via\", \"wait\", \"wait\", \"waiting\", \"wala\", \"wala\", \"wallet\", \"wallet\", \"want\", \"want\", \"want\", \"way\", \"way\", \"well\", \"went\", \"whenever\", \"work\", \"work\", \"work\", \"working\", \"working\", \"works\", \"worst\", \"wrong\", \"wrong\", \"yet\", \"yet\", \"yet\"]}, \"R\": 30, \"lambda.step\": 0.01, \"plot.opts\": {\"xlab\": \"PC1\", \"ylab\": \"PC2\"}, \"topic.order\": [3, 4, 6, 1, 2, 5]};\n",
              "\n",
              "function LDAvis_load_lib(url, callback){\n",
              "  var s = document.createElement('script');\n",
              "  s.src = url;\n",
              "  s.async = true;\n",
              "  s.onreadystatechange = s.onload = callback;\n",
              "  s.onerror = function(){console.warn(\"failed to load library \" + url);};\n",
              "  document.getElementsByTagName(\"head\")[0].appendChild(s);\n",
              "}\n",
              "\n",
              "if(typeof(LDAvis) !== \"undefined\"){\n",
              "   // already loaded: just create the visualization\n",
              "   !function(LDAvis){\n",
              "       new LDAvis(\"#\" + \"ldavis_el1741396770396244003729373198\", ldavis_el1741396770396244003729373198_data);\n",
              "   }(LDAvis);\n",
              "}else if(typeof define === \"function\" && define.amd){\n",
              "   // require.js is available: use it to load d3/LDAvis\n",
              "   require.config({paths: {d3: \"https://d3js.org/d3.v5\"}});\n",
              "   require([\"d3\"], function(d3){\n",
              "      window.d3 = d3;\n",
              "      LDAvis_load_lib(\"https://cdn.jsdelivr.net/gh/bmabey/pyLDAvis@3.3.1/pyLDAvis/js/ldavis.v3.0.0.js\", function(){\n",
              "        new LDAvis(\"#\" + \"ldavis_el1741396770396244003729373198\", ldavis_el1741396770396244003729373198_data);\n",
              "      });\n",
              "    });\n",
              "}else{\n",
              "    // require.js not available: dynamically load d3 & LDAvis\n",
              "    LDAvis_load_lib(\"https://d3js.org/d3.v5.js\", function(){\n",
              "         LDAvis_load_lib(\"https://cdn.jsdelivr.net/gh/bmabey/pyLDAvis@3.3.1/pyLDAvis/js/ldavis.v3.0.0.js\", function(){\n",
              "                 new LDAvis(\"#\" + \"ldavis_el1741396770396244003729373198\", ldavis_el1741396770396244003729373198_data);\n",
              "            })\n",
              "         });\n",
              "}\n",
              "</script>"
            ],
            "text/plain": [
              "PreparedData(topic_coordinates=              x         y  topics  cluster       Freq\n",
              "topic                                                \n",
              "2      0.215806  0.087955       1        1  33.764828\n",
              "3      0.034671 -0.022791       2        1  21.489895\n",
              "5     -0.141942 -0.005518       3        1  19.419991\n",
              "0      0.180864  0.046760       4        1  10.929935\n",
              "1     -0.061159 -0.309536       5        1   8.862454\n",
              "4     -0.228240  0.203130       6        1   5.532896, topic_info=             Term        Freq       Total Category  logprob  loglift\n",
              "6            cash   87.000000   87.000000  Default  30.0000  30.0000\n",
              "221          code   69.000000   69.000000  Default  29.0000  29.0000\n",
              "40        service   48.000000   48.000000  Default  28.0000  28.0000\n",
              "86         cannot  240.000000  240.000000  Default  27.0000  27.0000\n",
              "74           load   45.000000   45.000000  Default  26.0000  26.0000\n",
              "..            ...         ...         ...      ...      ...      ...\n",
              "114  verification    6.444504   66.177944   Topic6  -3.9673   0.5653\n",
              "174            us    2.186200   25.031233   Topic6  -5.0484   0.4565\n",
              "208          wala    1.906415   23.028758   Topic6  -5.1853   0.4029\n",
              "44           wait    1.208746   18.253701   Topic6  -5.6410   0.1797\n",
              "120          make    1.473866   29.063913   Topic6  -5.4427  -0.0871\n",
              "\n",
              "[259 rows x 6 columns], token_table=      Topic      Freq     Term\n",
              "term                          \n",
              "67        2  0.342418     able\n",
              "67        6  0.616352     able\n",
              "220       2  0.940739      acc\n",
              "100       1  0.979237   access\n",
              "0         1  0.800705  account\n",
              "...     ...       ...      ...\n",
              "46        2  0.302113    wrong\n",
              "46        4  0.673944    wrong\n",
              "184       3  0.520241      yet\n",
              "184       5  0.074320      yet\n",
              "184       6  0.371601      yet\n",
              "\n",
              "[328 rows x 3 columns], R=30, lambda_step=0.01, plot_opts={'xlab': 'PC1', 'ylab': 'PC2'}, topic_order=[3, 4, 6, 1, 2, 5])"
            ]
          },
          "metadata": {
            "tags": []
          },
          "execution_count": 370
        }
      ]
    },
    {
      "cell_type": "code",
      "metadata": {
        "id": "9CUevpbMaJ8H",
        "colab": {
          "base_uri": "https://localhost:8080/",
          "height": 861
        },
        "outputId": "64c5bef5-e9d7-41e5-d3f5-48a759b596b3"
      },
      "source": [
        "# Visualize the topics\n",
        "pyLDAvis.enable_notebook()\n",
        "vis = pyLDAvis.gensim_models.prepare(lda_model2, b_corpus, b_id2word)\n",
        "vis"
      ],
      "execution_count": 371,
      "outputs": [
        {
          "output_type": "execute_result",
          "data": {
            "text/html": [
              "\n",
              "<link rel=\"stylesheet\" type=\"text/css\" href=\"https://cdn.jsdelivr.net/gh/bmabey/pyLDAvis@3.3.1/pyLDAvis/js/ldavis.v1.0.0.css\">\n",
              "\n",
              "\n",
              "<div id=\"ldavis_el174139677056761040753100528\"></div>\n",
              "<script type=\"text/javascript\">\n",
              "\n",
              "var ldavis_el174139677056761040753100528_data = {\"mdsDat\": {\"x\": [-0.22175145240321137, -0.23407203852642444, -0.07858745399757855, 0.2801606263007801, 0.17335284734079448, 0.0808974712856403], \"y\": [-0.1228201138790381, -0.1172880355459371, 0.2528038934335746, -0.26011852226343957, 0.19508781331798908, 0.05233496493685125], \"topics\": [1, 2, 3, 4, 5, 6], \"cluster\": [1, 1, 1, 1, 1, 1], \"Freq\": [31.944995784920394, 23.96368447304626, 17.756355338589486, 11.587268331978958, 8.098897029660499, 6.648799041804404]}, \"tinfo\": {\"Term\": [\"cannot\", \"cash\", \"code\", \"account\", \"money\", \"bank\", \"error\", \"fix\", \"always\", \"service\", \"transaction\", \"update\", \"log\", \"load\", \"id\", \"verification\", \"mpin\", \"wala\", \"use\", \"get\", \"thing\", \"system\", \"verify\", \"pera\", \"easy\", \"issue\", \"already\", \"email\", \"gcredit\", \"try\", \"account\", \"money\", \"id\", \"verification\", \"get\", \"verify\", \"email\", \"already\", \"customer_service\", \"student\", \"help\", \"days\", \"back\", \"add\", \"verified\", \"never\", \"fully_verified\", \"got\", \"poor\", \"sent\", \"worst\", \"yet\", \"put\", \"bpi\", \"said\", \"long\", \"whenever\", \"ticket\", \"slow\", \"support\", \"keep\", \"send\", \"need\", \"still\", \"since\", \"fix\", \"update\", \"issue\", \"pay\", \"wrong\", \"saying\", \"updated\", \"bills\", \"access\", \"working\", \"let\", \"getting\", \"made\", \"payment\", \"open\", \"possible\", \"phone\", \"soon\", \"paying_bills\", \"pay_bills\", \"contact\", \"keeps\", \"iphone\", \"assistance\", \"bug\", \"cannot\", \"new\", \"ios\", \"frustrating\", \"email_address\", \"try\", \"tried\", \"says\", \"number\", \"using\", \"time\", \"use\", \"thank\", \"problem\", \"last\", \"still\", \"need\", \"code\", \"load\", \"pera\", \"make\", \"php\", \"balance\", \"first\", \"good\", \"sending\", \"everything\", \"sana\", \"nothing\", \"useless\", \"withdraw\", \"pesos\", \"mobile\", \"scam\", \"almost\", \"mastercard\", \"authentication_code\", \"wtf\", \"authentication\", \"text\", \"limit\", \"bulok\", \"register\", \"okay\", \"forest\", \"went\", \"people\", \"able\", \"card\", \"receive\", \"could\", \"received\", \"amount\", \"lot\", \"deducted\", \"send\", \"cash\", \"bank\", \"transaction\", \"mpin\", \"wala\", \"transfer\", \"linked\", \"link\", \"paypal\", \"paymaya\", \"gsave\", \"accounts\", \"transactions\", \"kwenta\", \"end\", \"laging\", \"hassle\", \"page\", \"lagi\", \"tagal\", \"online\", \"waiting\", \"rin\", \"makapag\", \"parin\", \"mas\", \"ayaw\", \"cashing\", \"forgot\", \"reflect\", \"always\", \"service\", \"thing\", \"login\", \"everytime\", \"something\", \"convenient\", \"however\", \"user\", \"services\", \"codes\", \"registration\", \"experience\", \"profile\", \"line\", \"unavailable\", \"maintenance\", \"fee\", \"ayusin\", \"stupid\", \"work\", \"valid\", \"great\", \"face\", \"available\", \"crashes\", \"charge\", \"two\", \"thought\", \"overall\", \"apps\", \"much\", \"log\", \"easy\", \"gcredit\", \"anymore\", \"error\", \"trash\", \"useful\", \"rebates\", \"unreliable\", \"features\", \"buy_load\", \"trust\", \"pin\", \"etc\", \"logging\", \"system\", \"multiple_times\", \"bugs\", \"feature\", \"worse\", \"hotline\", \"oops\", \"customers\", \"loading\", \"something_went_wrong\", \"apple\", \"invest\", \"failed\", \"fees\", \"smooth\", \"use\"], \"Freq\": [600.0, 336.0, 346.0, 514.0, 455.0, 224.0, 167.0, 304.0, 169.0, 141.0, 162.0, 246.0, 118.0, 185.0, 278.0, 259.0, 119.0, 114.0, 278.0, 209.0, 90.0, 82.0, 198.0, 125.0, 76.0, 151.0, 189.0, 187.0, 69.0, 138.0, 513.3872497929167, 454.8062576890826, 278.08229378178766, 258.8341298029596, 208.43589206910247, 197.49428813138954, 186.5353212032121, 188.23257844747798, 149.30901267277278, 117.39393467380364, 115.77342213226358, 110.15191538850169, 109.95692003209555, 110.50366194266165, 106.62353210105226, 108.00205241412905, 107.08781048963783, 106.20686306080763, 96.8718485119038, 95.70369955868388, 87.09412755887584, 68.90044832989875, 67.22245560130412, 63.230043188873005, 61.59416888751673, 51.66832125742918, 50.434295494612584, 49.25961583497103, 45.72870430239654, 64.88003293202611, 118.58644736384845, 99.43064623298356, 96.45257288654433, 103.89362559863527, 65.9795916632757, 303.26452660290624, 245.9594013882837, 150.38075911640556, 103.16923611849181, 100.61367927508488, 97.84335538947235, 95.3256766139569, 93.34735160741926, 84.0054874630674, 80.36480678275738, 75.60523255226616, 75.14644313643414, 69.61984070237226, 70.52641940120292, 63.76841647313375, 63.49239808418968, 63.18826230860063, 62.36740344042142, 59.569426962509, 51.3104267928997, 51.701623357538054, 50.11782861301031, 42.649940473495626, 40.667792934154534, 37.991015588567386, 586.8519899496617, 36.046941117044156, 34.10329938508359, 33.40637766189459, 32.777540296563, 134.70207051511187, 91.96737185443736, 116.533024497851, 111.26297251487753, 156.43825819935043, 135.1056615956188, 208.83314636364986, 80.57579136063757, 123.82881051055945, 68.21832547806869, 120.72939085878116, 81.50721251584277, 345.2500260199575, 184.89868955949044, 125.05441600812836, 77.92507643171308, 75.43153732352707, 70.2766539768558, 67.03181183306019, 65.82787039184066, 63.156047734390995, 57.05247754916179, 55.84918531863746, 55.173934940808216, 54.39075328490375, 53.43761301932089, 50.628549596069284, 49.6830494319603, 47.041767387397115, 44.99945346397845, 44.774371324235965, 45.7833555854105, 43.88695176573562, 42.30416817366056, 39.96913148154392, 38.56075596757038, 38.72760311623402, 37.36861511831646, 35.46575877770769, 35.42177079450682, 35.523138710797745, 34.33400244030998, 77.37026255504504, 61.98506165315593, 62.868281135146546, 92.40566556748475, 87.82237265190963, 57.09313238964712, 42.495356764792, 45.22973720648604, 49.807444534921444, 335.44281990498666, 224.07729083085053, 161.2294465976979, 118.61695183840733, 114.11862884859374, 80.25549955615226, 66.79594715758391, 56.60583765425886, 55.588997163652614, 55.761879628208646, 55.07298470085905, 39.99794326678756, 38.03340855490701, 34.837914219677764, 36.3261593433311, 33.844162956675994, 33.6035627686445, 33.485287954830355, 32.13888477672485, 31.398190208300637, 37.87942009468071, 28.80446241950314, 27.261309986302585, 26.376319370045447, 25.56404251286313, 25.136863386259165, 23.974494630146314, 24.17526086319224, 23.561278053911803, 24.481982316581096, 168.38294547596274, 140.2603271185412, 89.48344832554109, 68.41360998868764, 64.92486968394034, 63.38308065864387, 62.43689798596688, 56.596997487558966, 51.16681649713115, 46.08067205918679, 44.41721302346926, 41.20675048184954, 37.74602176024523, 39.069950941398915, 39.10966260567935, 35.54048785424821, 35.09642644144799, 34.656965616107364, 32.433477141154974, 30.694372025293184, 30.009204079361794, 26.455315267268578, 25.347048553908234, 24.714433472419245, 42.4736453785943, 24.453998333026288, 23.652748609871434, 22.870571102311477, 22.870347211869955, 21.18021632452241, 34.81000556629419, 35.0601778567388, 117.8744476817781, 75.6138529802069, 68.38335836191504, 47.7674221877881, 163.3649968463449, 36.629599313224794, 36.40815805600334, 35.66122960415236, 37.28828447945868, 33.91619980607739, 29.170643344304857, 28.12254754909051, 27.689000454469145, 27.789739387767344, 27.376552935678337, 79.42107968497172, 25.331174014586367, 24.179803099456695, 25.513088707031482, 23.396678773261105, 23.29576641282427, 27.686563580828842, 22.049289240693934, 21.5166426180336, 21.358573416009136, 21.296756275926914, 21.055201917473543, 20.356862710105002, 19.161798532022043, 18.349923840177244, 29.13083811028011], \"Total\": [600.0, 336.0, 346.0, 514.0, 455.0, 224.0, 167.0, 304.0, 169.0, 141.0, 162.0, 246.0, 118.0, 185.0, 278.0, 259.0, 119.0, 114.0, 278.0, 209.0, 90.0, 82.0, 198.0, 125.0, 76.0, 151.0, 189.0, 187.0, 69.0, 138.0, 514.2296804998613, 455.65228594324014, 278.92060370442965, 259.6780811984626, 209.2840150813896, 198.33381584840146, 187.38586890512343, 189.14729065027657, 150.1520688248034, 118.23159572642574, 116.61771982407556, 110.99698237379017, 110.80316032517516, 111.36144123215335, 107.4619256695095, 108.8514164344173, 107.93252970337296, 107.05499892274527, 97.71310825259783, 96.55522782551236, 87.9356597871364, 69.74584091966105, 68.06656633275237, 64.0837428743357, 62.454537934251455, 52.51778976792001, 51.282239763725656, 50.10375138959728, 46.5697209864164, 66.13040227103792, 127.54868165149927, 149.93767845622858, 178.62419465032053, 225.29111893099164, 114.93294776018959, 304.11333986021, 246.80572182996977, 151.55385747405893, 104.02443665781733, 101.47002022467227, 98.70037890124625, 96.18608532787107, 94.20385166174802, 84.85723164271799, 81.21098358479023, 76.45621066566912, 76.00860355579539, 70.4845670401336, 71.41226525891557, 64.6148217956473, 64.34145742193186, 64.03716657403962, 63.21660308022832, 60.435056823323364, 52.15692727225198, 52.56818800120789, 50.96876686026737, 43.49489256829227, 41.541405322827345, 38.83809233693983, 600.0685256350258, 36.89659545177746, 34.94844908436564, 34.25709966151671, 33.69129914856623, 138.57996864992884, 96.15593820888657, 123.95432450195521, 128.48434502074164, 188.14835530599947, 165.77720383538147, 278.3908339807208, 95.67895575502187, 181.58080164395764, 80.30351962104862, 225.29111893099164, 178.62419465032053, 346.156627323543, 185.77745685602358, 125.94172402054475, 78.8161489151626, 76.32077676338498, 71.16008819696118, 67.92025640433332, 66.70708439829319, 64.04255900381284, 57.95227819063484, 56.730641754808374, 56.0573985168949, 55.272422587334866, 54.33712039720011, 51.508169894619485, 50.56642298804597, 47.920367117716005, 45.880302909892876, 45.66461382438852, 46.69503768802899, 44.793986431136325, 43.19244226649259, 40.85388229540403, 39.44021403214811, 39.61339411690735, 38.250668689837134, 36.347852622752704, 36.30625817069913, 36.41501780485179, 35.21265030192797, 79.39743776565297, 63.596047236385864, 66.0666939857472, 104.14604045341409, 102.66518008981662, 63.991119794178715, 45.934655356564654, 75.54108528825412, 149.93767845622858, 336.3101487553214, 224.94680210804623, 162.1038850270319, 119.48576119005995, 114.98670042705457, 81.12316551878989, 67.6774043858331, 57.47458315845523, 56.452474337868836, 56.63192857382066, 55.95853507798016, 40.86702177345124, 38.89877365682407, 35.70497587108469, 37.253936701713236, 34.71332809303504, 34.48089992769311, 34.38438529293908, 33.01073984510274, 32.26888887300209, 38.98906186788753, 29.691481904331376, 28.127188051960935, 27.248494519727608, 26.434718288117846, 26.002188997050535, 24.841414819887447, 25.053540486355317, 24.43111907739811, 25.401322518487675, 169.21417809608442, 141.09684351724954, 90.32998079041066, 69.24751210316357, 65.76496936608943, 64.22160258246588, 63.27406988944915, 57.4577012375271, 52.00145783566, 46.918391074594986, 45.274777195284265, 42.04724107621766, 38.579931629524864, 39.971047544156235, 40.01435446769951, 36.37012148987915, 35.92633150203665, 35.48940660031024, 33.27665361074566, 31.525086476964084, 30.84138468759908, 27.289562198954364, 26.176895276361083, 25.545590630034457, 43.90217819144719, 25.282631245088023, 24.48466150758549, 23.73003131052069, 23.750740948581978, 22.027425984508994, 36.92901246023291, 39.29896708070728, 118.73418707846093, 76.4805884354943, 69.23844144650191, 48.62583251828947, 167.1088657724233, 37.48613439616259, 37.2741546251841, 36.51680112557801, 38.200724114432006, 34.77524225966979, 30.026369011239442, 28.991230594459978, 28.547697852998283, 28.65538717427031, 28.23882724702001, 82.08971548061757, 26.19903253784675, 25.038685388163458, 26.448160453654026, 24.25585851483688, 24.166502841586222, 28.730864727185523, 22.91974467541835, 22.373436407835072, 22.217202276437753, 22.160035176743918, 21.913306089417258, 21.213870036470638, 20.01854790138455, 19.209171332597826, 278.3908339807208], \"Category\": [\"Default\", \"Default\", \"Default\", \"Default\", \"Default\", \"Default\", \"Default\", \"Default\", \"Default\", \"Default\", \"Default\", \"Default\", \"Default\", \"Default\", \"Default\", \"Default\", \"Default\", \"Default\", \"Default\", \"Default\", \"Default\", \"Default\", \"Default\", \"Default\", \"Default\", \"Default\", \"Default\", \"Default\", \"Default\", \"Default\", \"Topic1\", \"Topic1\", \"Topic1\", \"Topic1\", \"Topic1\", \"Topic1\", \"Topic1\", \"Topic1\", \"Topic1\", \"Topic1\", \"Topic1\", \"Topic1\", \"Topic1\", \"Topic1\", \"Topic1\", \"Topic1\", \"Topic1\", \"Topic1\", \"Topic1\", \"Topic1\", \"Topic1\", \"Topic1\", \"Topic1\", \"Topic1\", \"Topic1\", \"Topic1\", \"Topic1\", \"Topic1\", \"Topic1\", \"Topic1\", \"Topic1\", \"Topic1\", \"Topic1\", \"Topic1\", \"Topic1\", \"Topic2\", \"Topic2\", \"Topic2\", \"Topic2\", \"Topic2\", \"Topic2\", \"Topic2\", \"Topic2\", \"Topic2\", \"Topic2\", \"Topic2\", \"Topic2\", \"Topic2\", \"Topic2\", \"Topic2\", \"Topic2\", \"Topic2\", \"Topic2\", \"Topic2\", \"Topic2\", \"Topic2\", \"Topic2\", \"Topic2\", \"Topic2\", \"Topic2\", \"Topic2\", \"Topic2\", \"Topic2\", \"Topic2\", \"Topic2\", \"Topic2\", \"Topic2\", \"Topic2\", \"Topic2\", \"Topic2\", \"Topic2\", \"Topic2\", \"Topic2\", \"Topic2\", \"Topic2\", \"Topic2\", \"Topic2\", \"Topic3\", \"Topic3\", \"Topic3\", \"Topic3\", \"Topic3\", \"Topic3\", \"Topic3\", \"Topic3\", \"Topic3\", \"Topic3\", \"Topic3\", \"Topic3\", \"Topic3\", \"Topic3\", \"Topic3\", \"Topic3\", \"Topic3\", \"Topic3\", \"Topic3\", \"Topic3\", \"Topic3\", \"Topic3\", \"Topic3\", \"Topic3\", \"Topic3\", \"Topic3\", \"Topic3\", \"Topic3\", \"Topic3\", \"Topic3\", \"Topic3\", \"Topic3\", \"Topic3\", \"Topic3\", \"Topic3\", \"Topic3\", \"Topic3\", \"Topic3\", \"Topic3\", \"Topic4\", \"Topic4\", \"Topic4\", \"Topic4\", \"Topic4\", \"Topic4\", \"Topic4\", \"Topic4\", \"Topic4\", \"Topic4\", \"Topic4\", \"Topic4\", \"Topic4\", \"Topic4\", \"Topic4\", \"Topic4\", \"Topic4\", \"Topic4\", \"Topic4\", \"Topic4\", \"Topic4\", \"Topic4\", \"Topic4\", \"Topic4\", \"Topic4\", \"Topic4\", \"Topic4\", \"Topic4\", \"Topic4\", \"Topic4\", \"Topic5\", \"Topic5\", \"Topic5\", \"Topic5\", \"Topic5\", \"Topic5\", \"Topic5\", \"Topic5\", \"Topic5\", \"Topic5\", \"Topic5\", \"Topic5\", \"Topic5\", \"Topic5\", \"Topic5\", \"Topic5\", \"Topic5\", \"Topic5\", \"Topic5\", \"Topic5\", \"Topic5\", \"Topic5\", \"Topic5\", \"Topic5\", \"Topic5\", \"Topic5\", \"Topic5\", \"Topic5\", \"Topic5\", \"Topic5\", \"Topic5\", \"Topic5\", \"Topic6\", \"Topic6\", \"Topic6\", \"Topic6\", \"Topic6\", \"Topic6\", \"Topic6\", \"Topic6\", \"Topic6\", \"Topic6\", \"Topic6\", \"Topic6\", \"Topic6\", \"Topic6\", \"Topic6\", \"Topic6\", \"Topic6\", \"Topic6\", \"Topic6\", \"Topic6\", \"Topic6\", \"Topic6\", \"Topic6\", \"Topic6\", \"Topic6\", \"Topic6\", \"Topic6\", \"Topic6\", \"Topic6\", \"Topic6\", \"Topic6\"], \"logprob\": [30.0, 29.0, 28.0, 27.0, 26.0, 25.0, 24.0, 23.0, 22.0, 21.0, 20.0, 19.0, 18.0, 17.0, 16.0, 15.0, 14.0, 13.0, 12.0, 11.0, 10.0, 9.0, 8.0, 7.0, 6.0, 5.0, 4.0, 3.0, 2.0, 1.0, -2.701, -2.8222, -3.3142, -3.3859, -3.6024, -3.6564, -3.7134, -3.7044, -3.936, -4.1765, -4.1904, -4.2402, -4.242, -4.237, -4.2728, -4.2599, -4.2684, -4.2767, -4.3687, -4.3808, -4.4751, -4.7094, -4.7341, -4.7953, -4.8215, -4.9972, -5.0214, -5.045, -5.1193, -4.7695, -4.1664, -4.3426, -4.373, -4.2987, -4.7527, -2.94, -3.1494, -3.6414, -4.0182, -4.0433, -4.0712, -4.0973, -4.1183, -4.2237, -4.268, -4.3291, -4.3352, -4.4115, -4.3986, -4.4993, -4.5037, -4.5085, -4.5215, -4.5674, -4.7167, -4.7091, -4.7402, -4.9016, -4.9492, -5.0172, -2.2798, -5.0698, -5.1252, -5.1458, -5.1648, -3.7515, -4.1332, -3.8964, -3.9427, -3.6019, -3.7485, -3.3131, -4.2654, -3.8357, -4.4319, -3.861, -4.2539, -2.5105, -3.135, -3.526, -3.999, -4.0316, -4.1024, -4.1496, -4.1678, -4.2092, -4.3108, -4.3321, -4.3443, -4.3586, -4.3763, -4.4303, -4.4491, -4.5038, -4.5481, -4.5532, -4.5309, -4.5732, -4.6099, -4.6667, -4.7026, -4.6982, -4.734, -4.7862, -4.7875, -4.7846, -4.8187, -4.0062, -4.2279, -4.2138, -3.8286, -3.8795, -4.3101, -4.6054, -4.543, -4.4466, -2.1125, -2.516, -2.8451, -3.1521, -3.1907, -3.5427, -3.7263, -3.8918, -3.91, -3.9069, -3.9193, -4.2391, -4.2895, -4.3773, -4.3354, -4.4062, -4.4133, -4.4169, -4.4579, -4.4812, -4.2936, -4.5674, -4.6225, -4.6555, -4.6868, -4.7036, -4.751, -4.7426, -4.7684, -4.73, -2.4435, -2.6263, -3.0757, -3.3442, -3.3965, -3.4206, -3.4356, -3.5338, -3.6347, -3.7394, -3.7762, -3.8512, -3.9389, -3.9044, -3.9034, -3.9991, -4.0117, -4.0243, -4.0906, -4.1457, -4.1683, -4.2943, -4.3371, -4.3624, -3.8209, -4.373, -4.4063, -4.4399, -4.4399, -4.5167, -4.0199, -4.0127, -2.6029, -3.0468, -3.1474, -3.5061, -2.2765, -3.7716, -3.7777, -3.7984, -3.7538, -3.8486, -3.9993, -4.0359, -4.0515, -4.0478, -4.0628, -2.9977, -4.1405, -4.187, -4.1333, -4.2199, -4.2242, -4.0515, -4.2792, -4.3037, -4.311, -4.3139, -4.3253, -4.3591, -4.4196, -4.4629, -4.0007], \"loglift\": [30.0, 29.0, 28.0, 27.0, 26.0, 25.0, 24.0, 23.0, 22.0, 21.0, 20.0, 19.0, 18.0, 17.0, 16.0, 15.0, 14.0, 13.0, 12.0, 11.0, 10.0, 9.0, 8.0, 7.0, 6.0, 5.0, 4.0, 3.0, 2.0, 1.0, 1.1395, 1.1393, 1.1381, 1.1379, 1.1371, 1.1369, 1.1366, 1.1363, 1.1355, 1.134, 1.1339, 1.1335, 1.1335, 1.1334, 1.1333, 1.1333, 1.1333, 1.1332, 1.1325, 1.1323, 1.1315, 1.129, 1.1287, 1.1277, 1.1273, 1.1248, 1.1245, 1.1242, 1.1229, 1.1221, 1.0683, 0.7304, 0.5249, 0.3671, 0.5862, 1.4258, 1.4252, 1.4209, 1.4204, 1.4202, 1.4199, 1.4196, 1.4195, 1.4185, 1.4182, 1.4174, 1.4172, 1.4163, 1.4161, 1.4154, 1.4153, 1.4153, 1.4151, 1.4142, 1.4123, 1.412, 1.4118, 1.409, 1.4074, 1.4066, 1.4064, 1.4053, 1.4042, 1.4035, 1.4011, 1.4002, 1.3841, 1.3669, 1.2847, 1.2441, 1.224, 1.1411, 1.2568, 1.0458, 1.2655, 0.8048, 0.644, 1.7258, 1.7237, 1.7214, 1.7171, 1.7167, 1.7159, 1.7153, 1.7152, 1.7145, 1.7128, 1.7128, 1.7125, 1.7123, 1.7117, 1.7112, 1.7108, 1.7099, 1.709, 1.7087, 1.7087, 1.708, 1.7076, 1.7065, 1.7059, 1.7058, 1.7051, 1.7039, 1.7038, 1.7036, 1.7032, 1.7026, 1.7028, 1.6788, 1.6088, 1.5723, 1.6144, 1.6506, 1.2155, 0.6264, 2.1527, 2.1514, 2.1499, 2.148, 2.1477, 2.1445, 2.1422, 2.14, 2.1398, 2.1398, 2.1393, 2.1338, 2.1328, 2.1307, 2.13, 2.1299, 2.1295, 2.1288, 2.1285, 2.1279, 2.1264, 2.1249, 2.124, 2.1227, 2.1218, 2.1214, 2.1197, 2.1196, 2.119, 2.1184, 2.5085, 2.5075, 2.504, 2.5013, 2.5006, 2.5003, 2.5001, 2.4983, 2.4973, 2.4954, 2.4943, 2.4933, 2.4916, 2.4906, 2.4906, 2.4904, 2.4901, 2.4897, 2.4878, 2.4867, 2.4861, 2.4824, 2.4812, 2.4804, 2.4804, 2.4801, 2.4789, 2.4766, 2.4757, 2.4742, 2.4543, 2.3993, 2.7035, 2.6993, 2.6983, 2.6929, 2.6881, 2.6876, 2.6872, 2.687, 2.6866, 2.6857, 2.6818, 2.6803, 2.6802, 2.6801, 2.6797, 2.6777, 2.677, 2.6758, 2.6747, 2.6747, 2.674, 2.6737, 2.672, 2.6717, 2.6713, 2.671, 2.6708, 2.6695, 2.667, 2.665, 0.4535]}, \"token.table\": {\"Topic\": [3, 6, 2, 1, 4, 1, 3, 1, 5, 1, 2, 3, 6, 6, 3, 5, 2, 3, 3, 1, 5, 4, 5, 1, 3, 4, 2, 1, 2, 6, 3, 6, 1, 2, 3, 4, 4, 4, 5, 3, 5, 2, 5, 1, 3, 5, 1, 6, 1, 1, 3, 6, 1, 2, 4, 5, 6, 6, 3, 5, 5, 5, 6, 6, 6, 5, 6, 3, 2, 3, 4, 2, 1, 6, 1, 2, 3, 1, 5, 4, 4, 1, 6, 5, 1, 6, 2, 2, 1, 2, 1, 2, 2, 4, 4, 4, 2, 3, 2, 3, 5, 4, 4, 3, 6, 6, 6, 5, 1, 3, 6, 2, 5, 4, 3, 4, 3, 3, 1, 4, 1, 5, 6, 1, 2, 1, 2, 3, 2, 3, 3, 4, 6, 2, 5, 4, 4, 2, 2, 2, 4, 2, 4, 3, 3, 3, 2, 3, 6, 1, 2, 1, 2, 3, 5, 1, 6, 1, 3, 1, 3, 4, 3, 5, 4, 1, 3, 2, 1, 2, 3, 1, 3, 3, 1, 5, 5, 1, 2, 1, 6, 5, 6, 2, 1, 2, 1, 5, 1, 4, 1, 6, 4, 3, 1, 2, 5, 5, 1, 2, 3, 5, 4, 4, 4, 6, 1, 2, 6, 1, 2, 5, 5, 6, 2, 2, 2, 3, 6, 6, 3, 5, 1, 2, 4, 5, 1, 1, 1, 4, 4, 3, 1, 3, 5, 2, 6, 1, 2, 3, 1], \"Freq\": [0.9698045952977832, 0.012594864873997184, 0.98989795417405, 0.997608694039858, 0.9787843171382141, 0.9967543412858687, 0.9808130536622272, 0.9939344061110669, 0.9928246077855546, 0.03125433663972138, 0.06250867327944276, 0.8907485942320594, 0.9871296287204115, 0.947651925301936, 0.02707898027538246, 0.947764309638386, 0.9869670917818026, 0.9723923398650312, 0.9851153843654104, 0.022777913105796996, 0.9566723504434738, 0.9661285467841457, 0.9616351564168878, 0.9927514673514897, 0.9836974879267966, 0.9957909954746036, 0.9872207808862146, 0.9830886457980326, 0.9784208675938828, 0.9585167762579709, 0.9845154869815725, 0.9658177447011574, 0.02166419241242936, 0.9782216112381565, 0.9749033579012644, 0.015724247708084907, 0.9961043436834415, 0.9579484389869329, 0.980205505089979, 0.9966586590224028, 0.9718435456946425, 0.9891914098086311, 0.9798642652246777, 0.10562091417119643, 0.8833749185227338, 0.949268284908549, 0.992327319671182, 0.9598710767312872, 0.991017932627819, 0.3971348821045426, 0.5957023231568139, 0.9937162037410363, 0.9979407790599258, 0.9794813745377448, 0.9663408269640515, 0.017952368871233564, 0.9754120420036904, 0.9771286575091618, 0.9835678903337965, 0.9883681331647685, 0.9849680493191686, 0.9786424734532074, 0.9427794158074992, 0.9830551370693871, 0.9777070637242155, 0.9862097835046371, 0.9491197909857335, 0.9864509285881523, 0.996339062729962, 0.9640211292345917, 0.9823536909614201, 0.9633039669458971, 0.9913600681283409, 0.9821133835391311, 0.9938647245424346, 0.9867304027621688, 0.9894001603477174, 0.9901452624037986, 0.955040685156277, 0.9828706188136553, 0.9860531503324577, 0.9947030363395252, 0.9517305896830517, 0.9920341185312134, 0.996699405880373, 0.9583218485749931, 0.9728614828636292, 0.9886218234125942, 0.006598314399032485, 0.9897471598548727, 0.9329771069303814, 0.06272115004573993, 0.9809929311626613, 0.9802555287075376, 0.9693814846366526, 0.9794508872464418, 0.8467872930214169, 0.1369802974005233, 0.9940330463451288, 0.9888384471800967, 0.9746502353669526, 0.9917427298751028, 0.9899906860793423, 0.9958151173496465, 0.9833089382861053, 0.9938165485735311, 0.9561303578160902, 0.981984737569993, 0.9901406786117969, 0.9143423342131957, 0.06531016672951398, 0.9931252037079594, 0.9742158059755102, 0.954181155996574, 0.989644902391246, 0.9614575143206514, 0.9854457583514358, 0.9887984366982043, 0.9985684567742487, 0.995934568393574, 0.10178384566152344, 0.8906086495383301, 0.9542337093511126, 0.5374411914798672, 0.45906435105571997, 0.9921781777187045, 0.9756997782370117, 0.9811372174793981, 0.8639184795788227, 0.13231183921477466, 0.9629179573070848, 0.974632324541716, 0.9745616870871983, 0.9904848179015063, 0.953356965755711, 0.9597379659067697, 0.983555024745119, 0.990151961493556, 0.9778183391400154, 0.9928012506946884, 0.9888414788312051, 0.9942269684707404, 0.9919848626091964, 0.9655620837531341, 0.9925225414542433, 0.9901341885052576, 0.9838036779338066, 0.98269440092991, 0.9808146402621127, 0.9927020205850542, 0.9791509630698138, 0.18173727454241648, 0.682891577068474, 0.1376797534412246, 0.97570622728655, 0.984330540084271, 0.9858475794799008, 0.045408659326092525, 0.9535818458479429, 0.1363656108892236, 0.8571552684465484, 0.9448326945391226, 0.9673033509563344, 0.9750937029537953, 0.9599253203029532, 0.9927220991574709, 0.9871208621618237, 0.9929039897410423, 0.05647241456178146, 0.9438960719612044, 0.9807938216446646, 0.6602743287698771, 0.3334718832171097, 0.9837208409527988, 0.9942496347632701, 0.9922263071950618, 0.9804257764692986, 0.5742478661359197, 0.4176348117352143, 0.987766278724698, 0.9370523948346553, 0.9809783229732202, 0.9452135214284543, 0.9807550070559102, 0.46162494328884746, 0.5370828667110629, 0.9895831928947698, 0.9833438529233608, 0.9829064661302841, 0.01512163794046591, 0.02436358791464231, 0.9623617226283713, 0.9606776397540074, 0.9790991150062601, 0.146322667189699, 0.8465811458832584, 0.9852764189832326, 0.9683908409338783, 0.9779706836517147, 0.8143459829015842, 0.12064384931875322, 0.06032192465937661, 0.9931902617457452, 0.9768945503333009, 0.9861548114942613, 0.9870316210515332, 0.04159909491299963, 0.9567791829989915, 0.9658092956340599, 0.021648150372860834, 0.9741667667787376, 0.9692359735658237, 0.9898234739198727, 0.9685680273799213, 0.9967354005247705, 0.9876688470704672, 0.7507431082105014, 0.14368289152354094, 0.10417009635456717, 0.9658166727590053, 0.9769790697101374, 0.9807417353793253, 0.10629909555931293, 0.8291329453626408, 0.05846450255762211, 0.9527452221639607, 0.9973887622885491, 0.9957014945839505, 0.9932748944364537, 0.97671110163651, 0.9914190039074953, 0.9886031140482788, 0.9749964165053367, 0.9753921373192789, 0.9727189717283546, 0.9850884260806191, 0.9482245283518332, 0.9893597228996595, 0.9953678906968624, 0.9822747092992727, 0.9893063025719315], \"Term\": [\"able\", \"able\", \"access\", \"account\", \"accounts\", \"add\", \"almost\", \"already\", \"always\", \"amount\", \"amount\", \"amount\", \"anymore\", \"apple\", \"apps\", \"apps\", \"assistance\", \"authentication\", \"authentication_code\", \"available\", \"available\", \"ayaw\", \"ayusin\", \"back\", \"balance\", \"bank\", \"bills\", \"bpi\", \"bug\", \"bugs\", \"bulok\", \"buy_load\", \"cannot\", \"cannot\", \"card\", \"card\", \"cash\", \"cashing\", \"charge\", \"code\", \"codes\", \"contact\", \"convenient\", \"could\", \"could\", \"crashes\", \"customer_service\", \"customers\", \"days\", \"deducted\", \"deducted\", \"easy\", \"email\", \"email_address\", \"end\", \"error\", \"error\", \"etc\", \"everything\", \"everytime\", \"experience\", \"face\", \"failed\", \"feature\", \"features\", \"fee\", \"fees\", \"first\", \"fix\", \"forest\", \"forgot\", \"frustrating\", \"fully_verified\", \"gcredit\", \"get\", \"getting\", \"good\", \"got\", \"great\", \"gsave\", \"hassle\", \"help\", \"hotline\", \"however\", \"id\", \"invest\", \"ios\", \"iphone\", \"issue\", \"issue\", \"keep\", \"keep\", \"keeps\", \"kwenta\", \"lagi\", \"laging\", \"last\", \"last\", \"let\", \"limit\", \"line\", \"link\", \"linked\", \"load\", \"loading\", \"log\", \"logging\", \"login\", \"long\", \"lot\", \"lot\", \"made\", \"maintenance\", \"makapag\", \"make\", \"mas\", \"mastercard\", \"mobile\", \"money\", \"mpin\", \"much\", \"much\", \"multiple_times\", \"need\", \"need\", \"never\", \"new\", \"nothing\", \"number\", \"number\", \"okay\", \"online\", \"oops\", \"open\", \"overall\", \"page\", \"parin\", \"pay\", \"pay_bills\", \"paying_bills\", \"paymaya\", \"payment\", \"paypal\", \"people\", \"pera\", \"pesos\", \"phone\", \"php\", \"pin\", \"poor\", \"possible\", \"problem\", \"problem\", \"problem\", \"profile\", \"put\", \"rebates\", \"receive\", \"receive\", \"received\", \"received\", \"reflect\", \"register\", \"registration\", \"rin\", \"said\", \"sana\", \"saying\", \"says\", \"says\", \"scam\", \"send\", \"send\", \"sending\", \"sent\", \"service\", \"services\", \"since\", \"since\", \"slow\", \"smooth\", \"something\", \"something_went_wrong\", \"soon\", \"still\", \"still\", \"student\", \"stupid\", \"support\", \"support\", \"system\", \"system\", \"tagal\", \"text\", \"thank\", \"thank\", \"thing\", \"thought\", \"ticket\", \"time\", \"time\", \"time\", \"transaction\", \"transactions\", \"transfer\", \"trash\", \"tried\", \"tried\", \"trust\", \"try\", \"try\", \"two\", \"unavailable\", \"unreliable\", \"update\", \"updated\", \"use\", \"use\", \"use\", \"useful\", \"useless\", \"user\", \"using\", \"using\", \"using\", \"valid\", \"verification\", \"verified\", \"verify\", \"waiting\", \"wala\", \"went\", \"whenever\", \"withdraw\", \"work\", \"working\", \"worse\", \"worst\", \"wrong\", \"wtf\", \"yet\"]}, \"R\": 30, \"lambda.step\": 0.01, \"plot.opts\": {\"xlab\": \"PC1\", \"ylab\": \"PC2\"}, \"topic.order\": [5, 4, 6, 2, 3, 1]};\n",
              "\n",
              "function LDAvis_load_lib(url, callback){\n",
              "  var s = document.createElement('script');\n",
              "  s.src = url;\n",
              "  s.async = true;\n",
              "  s.onreadystatechange = s.onload = callback;\n",
              "  s.onerror = function(){console.warn(\"failed to load library \" + url);};\n",
              "  document.getElementsByTagName(\"head\")[0].appendChild(s);\n",
              "}\n",
              "\n",
              "if(typeof(LDAvis) !== \"undefined\"){\n",
              "   // already loaded: just create the visualization\n",
              "   !function(LDAvis){\n",
              "       new LDAvis(\"#\" + \"ldavis_el174139677056761040753100528\", ldavis_el174139677056761040753100528_data);\n",
              "   }(LDAvis);\n",
              "}else if(typeof define === \"function\" && define.amd){\n",
              "   // require.js is available: use it to load d3/LDAvis\n",
              "   require.config({paths: {d3: \"https://d3js.org/d3.v5\"}});\n",
              "   require([\"d3\"], function(d3){\n",
              "      window.d3 = d3;\n",
              "      LDAvis_load_lib(\"https://cdn.jsdelivr.net/gh/bmabey/pyLDAvis@3.3.1/pyLDAvis/js/ldavis.v3.0.0.js\", function(){\n",
              "        new LDAvis(\"#\" + \"ldavis_el174139677056761040753100528\", ldavis_el174139677056761040753100528_data);\n",
              "      });\n",
              "    });\n",
              "}else{\n",
              "    // require.js not available: dynamically load d3 & LDAvis\n",
              "    LDAvis_load_lib(\"https://d3js.org/d3.v5.js\", function(){\n",
              "         LDAvis_load_lib(\"https://cdn.jsdelivr.net/gh/bmabey/pyLDAvis@3.3.1/pyLDAvis/js/ldavis.v3.0.0.js\", function(){\n",
              "                 new LDAvis(\"#\" + \"ldavis_el174139677056761040753100528\", ldavis_el174139677056761040753100528_data);\n",
              "            })\n",
              "         });\n",
              "}\n",
              "</script>"
            ],
            "text/plain": [
              "PreparedData(topic_coordinates=              x         y  topics  cluster       Freq\n",
              "topic                                                \n",
              "4     -0.221751 -0.122820       1        1  31.944996\n",
              "3     -0.234072 -0.117288       2        1  23.963684\n",
              "5     -0.078587  0.252804       3        1  17.756355\n",
              "1      0.280161 -0.260119       4        1  11.587268\n",
              "2      0.173353  0.195088       5        1   8.098897\n",
              "0      0.080897  0.052335       6        1   6.648799, topic_info=        Term        Freq       Total Category  logprob  loglift\n",
              "52    cannot  600.000000  600.000000  Default  30.0000  30.0000\n",
              "9       cash  336.000000  336.000000  Default  29.0000  29.0000\n",
              "588     code  346.000000  346.000000  Default  28.0000  28.0000\n",
              "1    account  514.000000  514.000000  Default  27.0000  27.0000\n",
              "68     money  455.000000  455.000000  Default  26.0000  26.0000\n",
              "..       ...         ...         ...      ...      ...      ...\n",
              "180   invest   21.055202   21.913306   Topic6  -4.3253   2.6708\n",
              "574   failed   20.356863   21.213870   Topic6  -4.3591   2.6695\n",
              "177     fees   19.161799   20.018548   Topic6  -4.4196   2.6670\n",
              "188   smooth   18.349924   19.209171   Topic6  -4.4629   2.6650\n",
              "80       use   29.130838  278.390834   Topic6  -4.0007   0.4535\n",
              "\n",
              "[239 rows x 6 columns], token_table=      Topic      Freq      Term\n",
              "term                           \n",
              "0         3  0.969805      able\n",
              "0         6  0.012595      able\n",
              "389       2  0.989898    access\n",
              "1         1  0.997609   account\n",
              "86        4  0.978784  accounts\n",
              "...     ...       ...       ...\n",
              "537       6  0.948225     worse\n",
              "230       1  0.989360     worst\n",
              "48        2  0.995368     wrong\n",
              "589       3  0.982275       wtf\n",
              "85        1  0.989306       yet\n",
              "\n",
              "[241 rows x 3 columns], R=30, lambda_step=0.01, plot_opts={'xlab': 'PC1', 'ylab': 'PC2'}, topic_order=[5, 4, 6, 2, 3, 1])"
            ]
          },
          "metadata": {
            "tags": []
          },
          "execution_count": 371
        }
      ]
    },
    {
      "cell_type": "markdown",
      "metadata": {
        "id": "11lnnRnfkoP6"
      },
      "source": [
        "##### Checking time series distribution of reviews [ January 1 2020 to May 31 2021 ]"
      ]
    },
    {
      "cell_type": "code",
      "metadata": {
        "id": "yUP8xcaMcvhF"
      },
      "source": [
        ""
      ],
      "execution_count": 371,
      "outputs": []
    }
  ]
}