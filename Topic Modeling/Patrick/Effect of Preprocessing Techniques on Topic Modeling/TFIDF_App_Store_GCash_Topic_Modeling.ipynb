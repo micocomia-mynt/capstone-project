{
  "nbformat": 4,
  "nbformat_minor": 0,
  "metadata": {
    "colab": {
      "name": "TFIDF -  App Store GCash - Preprocessing + Topic Modeling (Mixed Language Approach).ipynb",
      "provenance": [],
      "collapsed_sections": [],
      "toc_visible": true
    },
    "kernelspec": {
      "name": "python3",
      "display_name": "Python 3"
    },
    "language_info": {
      "name": "python"
    }
  },
  "cells": [
    {
      "cell_type": "markdown",
      "metadata": {
        "id": "rwT6404Ajmd4"
      },
      "source": [
        "# Preprocessing + Topic Modeling (Mixed Language Approach)\n",
        "This notebook serves as a demo for topic modeling GCash App Store Reviews using LDA. The approach of this notebook is to ignore the multi-lingual nature of reviews and move directly to LDA after data cleaning. This notebook will be divided into four parts:\n",
        "\n",
        "1. Data Cleaning\n",
        "2. Text Cleaning\n",
        "3. Modeling (LDA)\n",
        "4. Exploration of Results"
      ]
    },
    {
      "cell_type": "code",
      "metadata": {
        "colab": {
          "base_uri": "https://localhost:8080/"
        },
        "id": "C3rT1zxJUizq",
        "outputId": "7701e47a-92cc-48e5-9c4b-390c4696bb15"
      },
      "source": [
        "from google.colab import drive\n",
        "drive.mount('/content/drive/')"
      ],
      "execution_count": 1,
      "outputs": [
        {
          "output_type": "stream",
          "text": [
            "Mounted at /content/drive/\n"
          ],
          "name": "stdout"
        }
      ]
    },
    {
      "cell_type": "code",
      "metadata": {
        "colab": {
          "base_uri": "https://localhost:8080/"
        },
        "id": "Ast1TCbWU66i",
        "outputId": "3dcdc8f6-ecdc-4c54-b239-87b996269e9d"
      },
      "source": [
        "!ls \"/content/drive/My Drive/Data/Reviews/App Store/GCash\""
      ],
      "execution_count": null,
      "outputs": [
        {
          "output_type": "stream",
          "text": [
            "app_info.csv\t     gcash_0613-1427.csv\t Old\n",
            "gcash_0604-2124.csv  gcash_appstore_reviews.csv\n"
          ],
          "name": "stdout"
        }
      ]
    },
    {
      "cell_type": "code",
      "metadata": {
        "id": "tImUi3ghxOIM"
      },
      "source": [
        "!pip install emot contractions pyLDAvis lda\n",
        "!python3 -m spacy download en"
      ],
      "execution_count": null,
      "outputs": []
    },
    {
      "cell_type": "code",
      "metadata": {
        "id": "JzIQhx5ukPfe",
        "colab": {
          "base_uri": "https://localhost:8080/"
        },
        "outputId": "52782b57-93df-4fb3-c899-94bf9691e875"
      },
      "source": [
        "# importing libraries\n",
        "import pandas as pd\n",
        "import numpy as np \n",
        "import regex as re\n",
        "import datetime\n",
        "import json\n",
        "\n",
        "from emot.emo_unicode import UNICODE_EMO, EMOTICONS\n",
        "import contractions\n",
        "\n",
        "\n",
        "from spacy.lang.tl.stop_words import STOP_WORDS as tl_stop\n",
        "from spacy.lang.en.stop_words import STOP_WORDS as en_stop\n",
        "\n",
        "\n",
        "#nltk\n",
        "import nltk\n",
        "from nltk.corpus import stopwords\n",
        "\n",
        "# Gensim\n",
        "import gensim\n",
        "import gensim.corpora as corpora\n",
        "from gensim.utils import simple_preprocess\n",
        "from gensim.models import CoherenceModel\n",
        "from gensim import models\n",
        "import nltk\n",
        "import tqdm\n",
        "\n",
        "# spacy for lemmatization\n",
        "import spacy\n",
        "\n",
        "# Plotting tools\n",
        "import pyLDAvis\n",
        "import pyLDAvis.gensim_models  # don't skip this\n",
        "import matplotlib.pyplot as plt\n",
        "%matplotlib inline\n",
        "\n",
        "# Enable logging for gensim - optional\n",
        "import logging\n",
        "logging.basicConfig(format='%(asctime)s : %(levelname)s : %(message)s', level=logging.ERROR)"
      ],
      "execution_count": 2,
      "outputs": [
        {
          "output_type": "stream",
          "text": [
            "/usr/local/lib/python3.7/dist-packages/past/types/oldstr.py:5: DeprecationWarning: Using or importing the ABCs from 'collections' instead of from 'collections.abc' is deprecated since Python 3.3,and in 3.9 it will stop working\n",
            "  from collections import Iterable\n",
            "/usr/local/lib/python3.7/dist-packages/sklearn/decomposition/_lda.py:29: DeprecationWarning: `np.float` is a deprecated alias for the builtin `float`. To silence this warning, use `float` by itself. Doing this will not modify any behavior and is safe. If you specifically wanted the numpy scalar type, use `np.float64` here.\n",
            "Deprecated in NumPy 1.20; for more details and guidance: https://numpy.org/devdocs/release/1.20.0-notes.html#deprecations\n",
            "  EPS = np.finfo(np.float).eps\n"
          ],
          "name": "stderr"
        }
      ]
    },
    {
      "cell_type": "code",
      "metadata": {
        "id": "Z49bQJ0NkPnM"
      },
      "source": [
        "# importing the dataset\n",
        "df = pd.read_csv('/content/drive/My Drive/Data/Reviews/App Store/GCash/gcash_0613-1427.csv')"
      ],
      "execution_count": 3,
      "outputs": []
    },
    {
      "cell_type": "code",
      "metadata": {
        "id": "ZEoG0tP1lNoc",
        "colab": {
          "base_uri": "https://localhost:8080/"
        },
        "outputId": "b4c1fc98-9c02-4ecf-aa74-35cc6e795584"
      },
      "source": [
        "df.shape"
      ],
      "execution_count": 4,
      "outputs": [
        {
          "output_type": "execute_result",
          "data": {
            "text/plain": [
              "(4867, 9)"
            ]
          },
          "metadata": {
            "tags": []
          },
          "execution_count": 4
        }
      ]
    },
    {
      "cell_type": "code",
      "metadata": {
        "id": "GwH3Ps-dlPs6",
        "colab": {
          "base_uri": "https://localhost:8080/"
        },
        "outputId": "de7672aa-f448-4450-e1c2-30f4ab99f764"
      },
      "source": [
        "df.dtypes"
      ],
      "execution_count": 5,
      "outputs": [
        {
          "output_type": "execute_result",
          "data": {
            "text/plain": [
              "title                object\n",
              "date                 object\n",
              "rating                int64\n",
              "userName             object\n",
              "isEdited               bool\n",
              "review               object\n",
              "app_name             object\n",
              "app_id                int64\n",
              "developerResponse    object\n",
              "dtype: object"
            ]
          },
          "metadata": {
            "tags": []
          },
          "execution_count": 5
        }
      ]
    },
    {
      "cell_type": "code",
      "metadata": {
        "id": "fjjTCM1TkxQ2",
        "colab": {
          "base_uri": "https://localhost:8080/",
          "height": 145
        },
        "outputId": "a95ce509-3089-4ef7-dbcb-c3ebc48c7004"
      },
      "source": [
        "df.head(2)"
      ],
      "execution_count": 6,
      "outputs": [
        {
          "output_type": "execute_result",
          "data": {
            "text/html": [
              "<div>\n",
              "<style scoped>\n",
              "    .dataframe tbody tr th:only-of-type {\n",
              "        vertical-align: middle;\n",
              "    }\n",
              "\n",
              "    .dataframe tbody tr th {\n",
              "        vertical-align: top;\n",
              "    }\n",
              "\n",
              "    .dataframe thead th {\n",
              "        text-align: right;\n",
              "    }\n",
              "</style>\n",
              "<table border=\"1\" class=\"dataframe\">\n",
              "  <thead>\n",
              "    <tr style=\"text-align: right;\">\n",
              "      <th></th>\n",
              "      <th>title</th>\n",
              "      <th>date</th>\n",
              "      <th>rating</th>\n",
              "      <th>userName</th>\n",
              "      <th>isEdited</th>\n",
              "      <th>review</th>\n",
              "      <th>app_name</th>\n",
              "      <th>app_id</th>\n",
              "      <th>developerResponse</th>\n",
              "    </tr>\n",
              "  </thead>\n",
              "  <tbody>\n",
              "    <tr>\n",
              "      <th>0</th>\n",
              "      <td>It is starting to become pretty annoying</td>\n",
              "      <td>2018-12-29 15:24:59</td>\n",
              "      <td>3</td>\n",
              "      <td>Fhayerie0406</td>\n",
              "      <td>False</td>\n",
              "      <td>Almost everything is smooth except for three t...</td>\n",
              "      <td>gcash</td>\n",
              "      <td>520020791</td>\n",
              "      <td>NaN</td>\n",
              "    </tr>\n",
              "    <tr>\n",
              "      <th>1</th>\n",
              "      <td>Actually ok.</td>\n",
              "      <td>2020-05-16 07:33:32</td>\n",
              "      <td>5</td>\n",
              "      <td>i don't usually rate/review</td>\n",
              "      <td>False</td>\n",
              "      <td>This app gets so many negative reviews but it’...</td>\n",
              "      <td>gcash</td>\n",
              "      <td>520020791</td>\n",
              "      <td>NaN</td>\n",
              "    </tr>\n",
              "  </tbody>\n",
              "</table>\n",
              "</div>"
            ],
            "text/plain": [
              "                                      title  ... developerResponse\n",
              "0  It is starting to become pretty annoying  ...               NaN\n",
              "1                              Actually ok.  ...               NaN\n",
              "\n",
              "[2 rows x 9 columns]"
            ]
          },
          "metadata": {
            "tags": []
          },
          "execution_count": 6
        }
      ]
    },
    {
      "cell_type": "markdown",
      "metadata": {
        "id": "9NZMpbSEj_oC"
      },
      "source": [
        "## Part 1: Data Exploration + Cleaning"
      ]
    },
    {
      "cell_type": "code",
      "metadata": {
        "id": "foPJjLZVmoFW",
        "colab": {
          "base_uri": "https://localhost:8080/"
        },
        "outputId": "01c8be57-993f-44d9-c8a1-19655e2c3aae"
      },
      "source": [
        "# Checking for null values\n",
        "df.isnull().sum() "
      ],
      "execution_count": 7,
      "outputs": [
        {
          "output_type": "execute_result",
          "data": {
            "text/plain": [
              "title                   0\n",
              "date                    0\n",
              "rating                  0\n",
              "userName                0\n",
              "isEdited                0\n",
              "review                  0\n",
              "app_name                0\n",
              "app_id                  0\n",
              "developerResponse    4718\n",
              "dtype: int64"
            ]
          },
          "metadata": {
            "tags": []
          },
          "execution_count": 7
        }
      ]
    },
    {
      "cell_type": "code",
      "metadata": {
        "id": "StJdPT_cm2TI"
      },
      "source": [
        "# Dropping unwanted columns [userName, app_name, app_id, developerResponse]\n",
        "df = df.drop(['userName', 'app_name', 'app_id', 'developerResponse', 'isEdited'], axis=1)"
      ],
      "execution_count": 8,
      "outputs": []
    },
    {
      "cell_type": "code",
      "metadata": {
        "id": "Dc4F9FJSjhz6"
      },
      "source": [
        "# Splitting datetime column + Checking date range\n",
        "\n",
        "# Code block below separated the timestamp [[date]] column into Date and Time column respectively\n",
        "df['Dates'] = pd.to_datetime(df['date']).dt.date\n",
        "df['Time'] = pd.to_datetime(df['date']).dt.time\n",
        "df = df.drop('date', axis=1)"
      ],
      "execution_count": 9,
      "outputs": []
    },
    {
      "cell_type": "code",
      "metadata": {
        "id": "-9uJxaZClsWs",
        "colab": {
          "base_uri": "https://localhost:8080/",
          "height": 80
        },
        "outputId": "56cd57da-38ab-4bb1-8f96-43d606420a2c"
      },
      "source": [
        "df.sort_values(by='Dates', ascending=False).head(1)"
      ],
      "execution_count": 10,
      "outputs": [
        {
          "output_type": "execute_result",
          "data": {
            "text/html": [
              "<div>\n",
              "<style scoped>\n",
              "    .dataframe tbody tr th:only-of-type {\n",
              "        vertical-align: middle;\n",
              "    }\n",
              "\n",
              "    .dataframe tbody tr th {\n",
              "        vertical-align: top;\n",
              "    }\n",
              "\n",
              "    .dataframe thead th {\n",
              "        text-align: right;\n",
              "    }\n",
              "</style>\n",
              "<table border=\"1\" class=\"dataframe\">\n",
              "  <thead>\n",
              "    <tr style=\"text-align: right;\">\n",
              "      <th></th>\n",
              "      <th>title</th>\n",
              "      <th>rating</th>\n",
              "      <th>review</th>\n",
              "      <th>Dates</th>\n",
              "      <th>Time</th>\n",
              "    </tr>\n",
              "  </thead>\n",
              "  <tbody>\n",
              "    <tr>\n",
              "      <th>2570</th>\n",
              "      <td>Annoying</td>\n",
              "      <td>2</td>\n",
              "      <td>I can’t open my GCash account 4days after i ac...</td>\n",
              "      <td>2021-06-11</td>\n",
              "      <td>09:05:47</td>\n",
              "    </tr>\n",
              "  </tbody>\n",
              "</table>\n",
              "</div>"
            ],
            "text/plain": [
              "         title  rating  ...       Dates      Time\n",
              "2570  Annoying       2  ...  2021-06-11  09:05:47\n",
              "\n",
              "[1 rows x 5 columns]"
            ]
          },
          "metadata": {
            "tags": []
          },
          "execution_count": 10
        }
      ]
    },
    {
      "cell_type": "code",
      "metadata": {
        "id": "0J-wd6N7ltlQ",
        "colab": {
          "base_uri": "https://localhost:8080/",
          "height": 80
        },
        "outputId": "ae8839ab-9496-4f8c-e3ff-8c8f5873a247"
      },
      "source": [
        "df.sort_values(by='Dates', ascending=True).head(1)"
      ],
      "execution_count": 11,
      "outputs": [
        {
          "output_type": "execute_result",
          "data": {
            "text/html": [
              "<div>\n",
              "<style scoped>\n",
              "    .dataframe tbody tr th:only-of-type {\n",
              "        vertical-align: middle;\n",
              "    }\n",
              "\n",
              "    .dataframe tbody tr th {\n",
              "        vertical-align: top;\n",
              "    }\n",
              "\n",
              "    .dataframe thead th {\n",
              "        text-align: right;\n",
              "    }\n",
              "</style>\n",
              "<table border=\"1\" class=\"dataframe\">\n",
              "  <thead>\n",
              "    <tr style=\"text-align: right;\">\n",
              "      <th></th>\n",
              "      <th>title</th>\n",
              "      <th>rating</th>\n",
              "      <th>review</th>\n",
              "      <th>Dates</th>\n",
              "      <th>Time</th>\n",
              "    </tr>\n",
              "  </thead>\n",
              "  <tbody>\n",
              "    <tr>\n",
              "      <th>4134</th>\n",
              "      <td>App does not work</td>\n",
              "      <td>1</td>\n",
              "      <td>App does not work. It hangs and automatically ...</td>\n",
              "      <td>2012-05-23</td>\n",
              "      <td>16:24:07</td>\n",
              "    </tr>\n",
              "  </tbody>\n",
              "</table>\n",
              "</div>"
            ],
            "text/plain": [
              "                  title  rating  ...       Dates      Time\n",
              "4134  App does not work       1  ...  2012-05-23  16:24:07\n",
              "\n",
              "[1 rows x 5 columns]"
            ]
          },
          "metadata": {
            "tags": []
          },
          "execution_count": 11
        }
      ]
    },
    {
      "cell_type": "markdown",
      "metadata": {
        "id": "CEot_wyzmLFP"
      },
      "source": [
        "In the section above, we can see that the dataset ranges from 2012-05-23 to 2021-06-11."
      ]
    },
    {
      "cell_type": "code",
      "metadata": {
        "id": "1MEu6XTPmIzC",
        "colab": {
          "base_uri": "https://localhost:8080/"
        },
        "outputId": "cff15afe-7dac-42b2-bfc2-ba65055ef5e1"
      },
      "source": [
        "df.dtypes"
      ],
      "execution_count": 12,
      "outputs": [
        {
          "output_type": "execute_result",
          "data": {
            "text/plain": [
              "title     object\n",
              "rating     int64\n",
              "review    object\n",
              "Dates     object\n",
              "Time      object\n",
              "dtype: object"
            ]
          },
          "metadata": {
            "tags": []
          },
          "execution_count": 12
        }
      ]
    },
    {
      "cell_type": "code",
      "metadata": {
        "id": "BfKtZ66Qnehd"
      },
      "source": [
        "# Joining the title and review column\n",
        "\n",
        "df['final_review'] = df.title.map(str) + \" \" + df.review"
      ],
      "execution_count": 13,
      "outputs": []
    },
    {
      "cell_type": "code",
      "metadata": {
        "id": "0j7UbhqRoK1f"
      },
      "source": [
        "df = df.drop(['review','title'], axis=1)"
      ],
      "execution_count": 14,
      "outputs": []
    },
    {
      "cell_type": "code",
      "metadata": {
        "id": "Xlv7Ip8Y0IQn"
      },
      "source": [
        "df['word_count'] = df['final_review'].str.split().str.len()"
      ],
      "execution_count": 15,
      "outputs": []
    },
    {
      "cell_type": "code",
      "metadata": {
        "id": "QyVRwixP21u8",
        "colab": {
          "base_uri": "https://localhost:8080/",
          "height": 80
        },
        "outputId": "be5f963f-7f3b-4900-a30a-e2578bcc27ce"
      },
      "source": [
        "df.head(1)"
      ],
      "execution_count": 16,
      "outputs": [
        {
          "output_type": "execute_result",
          "data": {
            "text/html": [
              "<div>\n",
              "<style scoped>\n",
              "    .dataframe tbody tr th:only-of-type {\n",
              "        vertical-align: middle;\n",
              "    }\n",
              "\n",
              "    .dataframe tbody tr th {\n",
              "        vertical-align: top;\n",
              "    }\n",
              "\n",
              "    .dataframe thead th {\n",
              "        text-align: right;\n",
              "    }\n",
              "</style>\n",
              "<table border=\"1\" class=\"dataframe\">\n",
              "  <thead>\n",
              "    <tr style=\"text-align: right;\">\n",
              "      <th></th>\n",
              "      <th>rating</th>\n",
              "      <th>Dates</th>\n",
              "      <th>Time</th>\n",
              "      <th>final_review</th>\n",
              "      <th>word_count</th>\n",
              "    </tr>\n",
              "  </thead>\n",
              "  <tbody>\n",
              "    <tr>\n",
              "      <th>0</th>\n",
              "      <td>3</td>\n",
              "      <td>2018-12-29</td>\n",
              "      <td>15:24:59</td>\n",
              "      <td>It is starting to become pretty annoying Almos...</td>\n",
              "      <td>234</td>\n",
              "    </tr>\n",
              "  </tbody>\n",
              "</table>\n",
              "</div>"
            ],
            "text/plain": [
              "   rating  ... word_count\n",
              "0       3  ...        234\n",
              "\n",
              "[1 rows x 5 columns]"
            ]
          },
          "metadata": {
            "tags": []
          },
          "execution_count": 16
        }
      ]
    },
    {
      "cell_type": "code",
      "metadata": {
        "id": "qFYy4MW48fFh"
      },
      "source": [
        "df2 = df.copy()"
      ],
      "execution_count": 17,
      "outputs": []
    },
    {
      "cell_type": "code",
      "metadata": {
        "id": "dcdR0ZXn1PA8"
      },
      "source": [
        "# Filter pandas df for reviews from january 2020 to may 2021\n",
        "# import datetime\n",
        "df2 = df2[(df2['Dates']>datetime.date(2020,1,1)) & (df2['Dates']<datetime.date(2021,5,31))] "
      ],
      "execution_count": 18,
      "outputs": []
    },
    {
      "cell_type": "code",
      "metadata": {
        "id": "UeGLx8fX1xZ1",
        "colab": {
          "base_uri": "https://localhost:8080/"
        },
        "outputId": "6009e836-0f23-413d-9994-d763876581b9"
      },
      "source": [
        "df2.shape"
      ],
      "execution_count": 19,
      "outputs": [
        {
          "output_type": "execute_result",
          "data": {
            "text/plain": [
              "(2498, 5)"
            ]
          },
          "metadata": {
            "tags": []
          },
          "execution_count": 19
        }
      ]
    },
    {
      "cell_type": "code",
      "metadata": {
        "id": "jSBfysmr0jhI",
        "colab": {
          "base_uri": "https://localhost:8080/",
          "height": 419
        },
        "outputId": "b2cd7ad4-fb43-4243-8a31-39065c6025cf"
      },
      "source": [
        "df2.sort_values(by='word_count')"
      ],
      "execution_count": 20,
      "outputs": [
        {
          "output_type": "execute_result",
          "data": {
            "text/html": [
              "<div>\n",
              "<style scoped>\n",
              "    .dataframe tbody tr th:only-of-type {\n",
              "        vertical-align: middle;\n",
              "    }\n",
              "\n",
              "    .dataframe tbody tr th {\n",
              "        vertical-align: top;\n",
              "    }\n",
              "\n",
              "    .dataframe thead th {\n",
              "        text-align: right;\n",
              "    }\n",
              "</style>\n",
              "<table border=\"1\" class=\"dataframe\">\n",
              "  <thead>\n",
              "    <tr style=\"text-align: right;\">\n",
              "      <th></th>\n",
              "      <th>rating</th>\n",
              "      <th>Dates</th>\n",
              "      <th>Time</th>\n",
              "      <th>final_review</th>\n",
              "      <th>word_count</th>\n",
              "    </tr>\n",
              "  </thead>\n",
              "  <tbody>\n",
              "    <tr>\n",
              "      <th>4491</th>\n",
              "      <td>1</td>\n",
              "      <td>2021-01-21</td>\n",
              "      <td>02:28:07</td>\n",
              "      <td>Poor WTF</td>\n",
              "      <td>2</td>\n",
              "    </tr>\n",
              "    <tr>\n",
              "      <th>4308</th>\n",
              "      <td>5</td>\n",
              "      <td>2020-06-14</td>\n",
              "      <td>14:51:30</td>\n",
              "      <td>omsim 🔥🔥🔥🔥</td>\n",
              "      <td>2</td>\n",
              "    </tr>\n",
              "    <tr>\n",
              "      <th>4325</th>\n",
              "      <td>1</td>\n",
              "      <td>2020-04-17</td>\n",
              "      <td>12:20:45</td>\n",
              "      <td>Nakputaka Nakputaka</td>\n",
              "      <td>2</td>\n",
              "    </tr>\n",
              "    <tr>\n",
              "      <th>4539</th>\n",
              "      <td>1</td>\n",
              "      <td>2020-09-24</td>\n",
              "      <td>02:47:09</td>\n",
              "      <td>Habducy Hansjaknahd</td>\n",
              "      <td>2</td>\n",
              "    </tr>\n",
              "    <tr>\n",
              "      <th>4230</th>\n",
              "      <td>5</td>\n",
              "      <td>2021-05-12</td>\n",
              "      <td>16:22:47</td>\n",
              "      <td>Yes Kaksnsksksk</td>\n",
              "      <td>2</td>\n",
              "    </tr>\n",
              "    <tr>\n",
              "      <th>...</th>\n",
              "      <td>...</td>\n",
              "      <td>...</td>\n",
              "      <td>...</td>\n",
              "      <td>...</td>\n",
              "      <td>...</td>\n",
              "    </tr>\n",
              "    <tr>\n",
              "      <th>3727</th>\n",
              "      <td>1</td>\n",
              "      <td>2020-01-04</td>\n",
              "      <td>12:59:40</td>\n",
              "      <td>Don’t trust your money with them If there is a...</td>\n",
              "      <td>305</td>\n",
              "    </tr>\n",
              "    <tr>\n",
              "      <th>3751</th>\n",
              "      <td>2</td>\n",
              "      <td>2021-04-24</td>\n",
              "      <td>01:39:51</td>\n",
              "      <td>The best in PH, because it’s the only thing we...</td>\n",
              "      <td>343</td>\n",
              "    </tr>\n",
              "    <tr>\n",
              "      <th>3206</th>\n",
              "      <td>1</td>\n",
              "      <td>2020-02-15</td>\n",
              "      <td>11:35:03</td>\n",
              "      <td>Too many issues/Customer Service unhelpful Tho...</td>\n",
              "      <td>349</td>\n",
              "    </tr>\n",
              "    <tr>\n",
              "      <th>3778</th>\n",
              "      <td>1</td>\n",
              "      <td>2020-03-18</td>\n",
              "      <td>14:44:27</td>\n",
              "      <td>App is horrible Hi, this is my 2nd time of sen...</td>\n",
              "      <td>406</td>\n",
              "    </tr>\n",
              "    <tr>\n",
              "      <th>4618</th>\n",
              "      <td>1</td>\n",
              "      <td>2020-04-30</td>\n",
              "      <td>16:24:45</td>\n",
              "      <td>This is not from me. Credits to the owner of t...</td>\n",
              "      <td>447</td>\n",
              "    </tr>\n",
              "  </tbody>\n",
              "</table>\n",
              "<p>2498 rows × 5 columns</p>\n",
              "</div>"
            ],
            "text/plain": [
              "      rating  ... word_count\n",
              "4491       1  ...          2\n",
              "4308       5  ...          2\n",
              "4325       1  ...          2\n",
              "4539       1  ...          2\n",
              "4230       5  ...          2\n",
              "...      ...  ...        ...\n",
              "3727       1  ...        305\n",
              "3751       2  ...        343\n",
              "3206       1  ...        349\n",
              "3778       1  ...        406\n",
              "4618       1  ...        447\n",
              "\n",
              "[2498 rows x 5 columns]"
            ]
          },
          "metadata": {
            "tags": []
          },
          "execution_count": 20
        }
      ]
    },
    {
      "cell_type": "code",
      "metadata": {
        "id": "xgSNNgoV07m0",
        "colab": {
          "base_uri": "https://localhost:8080/"
        },
        "outputId": "ce4754cc-28c1-4e60-9a72-3c44e5de156b"
      },
      "source": [
        "df2['word_count'].value_counts().sort_index().head(10)"
      ],
      "execution_count": 21,
      "outputs": [
        {
          "output_type": "execute_result",
          "data": {
            "text/plain": [
              "2     14\n",
              "3      4\n",
              "4     22\n",
              "5     23\n",
              "6     34\n",
              "7     31\n",
              "8     53\n",
              "9     49\n",
              "10    46\n",
              "11    48\n",
              "Name: word_count, dtype: int64"
            ]
          },
          "metadata": {
            "tags": []
          },
          "execution_count": 21
        }
      ]
    },
    {
      "cell_type": "code",
      "metadata": {
        "id": "tsK0Kf723tdl",
        "colab": {
          "base_uri": "https://localhost:8080/",
          "height": 483
        },
        "outputId": "dfd103ed-6665-4422-db51-cd182e1f9ab8"
      },
      "source": [
        "df2.loc[df2['word_count'].isin([2])]"
      ],
      "execution_count": 22,
      "outputs": [
        {
          "output_type": "execute_result",
          "data": {
            "text/html": [
              "<div>\n",
              "<style scoped>\n",
              "    .dataframe tbody tr th:only-of-type {\n",
              "        vertical-align: middle;\n",
              "    }\n",
              "\n",
              "    .dataframe tbody tr th {\n",
              "        vertical-align: top;\n",
              "    }\n",
              "\n",
              "    .dataframe thead th {\n",
              "        text-align: right;\n",
              "    }\n",
              "</style>\n",
              "<table border=\"1\" class=\"dataframe\">\n",
              "  <thead>\n",
              "    <tr style=\"text-align: right;\">\n",
              "      <th></th>\n",
              "      <th>rating</th>\n",
              "      <th>Dates</th>\n",
              "      <th>Time</th>\n",
              "      <th>final_review</th>\n",
              "      <th>word_count</th>\n",
              "    </tr>\n",
              "  </thead>\n",
              "  <tbody>\n",
              "    <tr>\n",
              "      <th>3670</th>\n",
              "      <td>1</td>\n",
              "      <td>2021-02-03</td>\n",
              "      <td>01:50:17</td>\n",
              "      <td>-0 Disappointing.</td>\n",
              "      <td>2</td>\n",
              "    </tr>\n",
              "    <tr>\n",
              "      <th>3927</th>\n",
              "      <td>5</td>\n",
              "      <td>2021-04-25</td>\n",
              "      <td>03:08:11</td>\n",
              "      <td>Good Good</td>\n",
              "      <td>2</td>\n",
              "    </tr>\n",
              "    <tr>\n",
              "      <th>3943</th>\n",
              "      <td>2</td>\n",
              "      <td>2020-09-28</td>\n",
              "      <td>18:43:16</td>\n",
              "      <td>Scammers. Trash.</td>\n",
              "      <td>2</td>\n",
              "    </tr>\n",
              "    <tr>\n",
              "      <th>4006</th>\n",
              "      <td>1</td>\n",
              "      <td>2021-01-28</td>\n",
              "      <td>09:19:40</td>\n",
              "      <td>😤 😤</td>\n",
              "      <td>2</td>\n",
              "    </tr>\n",
              "    <tr>\n",
              "      <th>4007</th>\n",
              "      <td>1</td>\n",
              "      <td>2021-04-15</td>\n",
              "      <td>10:51:18</td>\n",
              "      <td>. 🤦🏻‍♀️</td>\n",
              "      <td>2</td>\n",
              "    </tr>\n",
              "    <tr>\n",
              "      <th>4230</th>\n",
              "      <td>5</td>\n",
              "      <td>2021-05-12</td>\n",
              "      <td>16:22:47</td>\n",
              "      <td>Yes Kaksnsksksk</td>\n",
              "      <td>2</td>\n",
              "    </tr>\n",
              "    <tr>\n",
              "      <th>4272</th>\n",
              "      <td>5</td>\n",
              "      <td>2020-12-11</td>\n",
              "      <td>08:23:09</td>\n",
              "      <td>Mae0210 5star</td>\n",
              "      <td>2</td>\n",
              "    </tr>\n",
              "    <tr>\n",
              "      <th>4286</th>\n",
              "      <td>1</td>\n",
              "      <td>2020-10-05</td>\n",
              "      <td>15:50:45</td>\n",
              "      <td>trashhhhh trashhhhhh</td>\n",
              "      <td>2</td>\n",
              "    </tr>\n",
              "    <tr>\n",
              "      <th>4299</th>\n",
              "      <td>1</td>\n",
              "      <td>2020-07-26</td>\n",
              "      <td>01:10:49</td>\n",
              "      <td>ULOL Kakainis</td>\n",
              "      <td>2</td>\n",
              "    </tr>\n",
              "    <tr>\n",
              "      <th>4308</th>\n",
              "      <td>5</td>\n",
              "      <td>2020-06-14</td>\n",
              "      <td>14:51:30</td>\n",
              "      <td>omsim 🔥🔥🔥🔥</td>\n",
              "      <td>2</td>\n",
              "    </tr>\n",
              "    <tr>\n",
              "      <th>4325</th>\n",
              "      <td>1</td>\n",
              "      <td>2020-04-17</td>\n",
              "      <td>12:20:45</td>\n",
              "      <td>Nakputaka Nakputaka</td>\n",
              "      <td>2</td>\n",
              "    </tr>\n",
              "    <tr>\n",
              "      <th>4463</th>\n",
              "      <td>4</td>\n",
              "      <td>2021-04-12</td>\n",
              "      <td>08:32:31</td>\n",
              "      <td>svdtstbgdvyvg tvtvyvttttt</td>\n",
              "      <td>2</td>\n",
              "    </tr>\n",
              "    <tr>\n",
              "      <th>4491</th>\n",
              "      <td>1</td>\n",
              "      <td>2021-01-21</td>\n",
              "      <td>02:28:07</td>\n",
              "      <td>Poor WTF</td>\n",
              "      <td>2</td>\n",
              "    </tr>\n",
              "    <tr>\n",
              "      <th>4539</th>\n",
              "      <td>1</td>\n",
              "      <td>2020-09-24</td>\n",
              "      <td>02:47:09</td>\n",
              "      <td>Habducy Hansjaknahd</td>\n",
              "      <td>2</td>\n",
              "    </tr>\n",
              "  </tbody>\n",
              "</table>\n",
              "</div>"
            ],
            "text/plain": [
              "      rating       Dates      Time               final_review  word_count\n",
              "3670       1  2021-02-03  01:50:17          -0 Disappointing.           2\n",
              "3927       5  2021-04-25  03:08:11                  Good Good           2\n",
              "3943       2  2020-09-28  18:43:16           Scammers. Trash.           2\n",
              "4006       1  2021-01-28  09:19:40                        😤 😤           2\n",
              "4007       1  2021-04-15  10:51:18                    . 🤦🏻‍♀️           2\n",
              "4230       5  2021-05-12  16:22:47            Yes Kaksnsksksk           2\n",
              "4272       5  2020-12-11  08:23:09              Mae0210 5star           2\n",
              "4286       1  2020-10-05  15:50:45       trashhhhh trashhhhhh           2\n",
              "4299       1  2020-07-26  01:10:49              ULOL Kakainis           2\n",
              "4308       5  2020-06-14  14:51:30                 omsim 🔥🔥🔥🔥           2\n",
              "4325       1  2020-04-17  12:20:45        Nakputaka Nakputaka           2\n",
              "4463       4  2021-04-12  08:32:31  svdtstbgdvyvg tvtvyvttttt           2\n",
              "4491       1  2021-01-21  02:28:07                   Poor WTF           2\n",
              "4539       1  2020-09-24  02:47:09        Habducy Hansjaknahd           2"
            ]
          },
          "metadata": {
            "tags": []
          },
          "execution_count": 22
        }
      ]
    },
    {
      "cell_type": "markdown",
      "metadata": {
        "id": "Lq7vd0-ZoaUI"
      },
      "source": [
        "## Part 2: Text Cleaning\n",
        "\n",
        "Now that we have done the initial cleaning of the df, let us now proceed to text cleaning for topic modeling purposes.\n",
        "\n",
        "My approach in this notebook would be as follows:\n",
        "1. Do the necessary text cleaning steps (remove encodings, lowercase, strip punctutation, expand contractions etc)\n",
        "2. Remove Filipino stop words and possibly lemmatize Filipino words\n",
        "3. Remove English stop words and lemmatize\n",
        "4. Tokenization and other methods"
      ]
    },
    {
      "cell_type": "code",
      "metadata": {
        "id": "nPooN-xVpA40",
        "colab": {
          "base_uri": "https://localhost:8080/",
          "height": 173
        },
        "outputId": "5d8bba18-0e66-4104-b75e-79d7552d0c17"
      },
      "source": [
        "df2.head(4)"
      ],
      "execution_count": 23,
      "outputs": [
        {
          "output_type": "execute_result",
          "data": {
            "text/html": [
              "<div>\n",
              "<style scoped>\n",
              "    .dataframe tbody tr th:only-of-type {\n",
              "        vertical-align: middle;\n",
              "    }\n",
              "\n",
              "    .dataframe tbody tr th {\n",
              "        vertical-align: top;\n",
              "    }\n",
              "\n",
              "    .dataframe thead th {\n",
              "        text-align: right;\n",
              "    }\n",
              "</style>\n",
              "<table border=\"1\" class=\"dataframe\">\n",
              "  <thead>\n",
              "    <tr style=\"text-align: right;\">\n",
              "      <th></th>\n",
              "      <th>rating</th>\n",
              "      <th>Dates</th>\n",
              "      <th>Time</th>\n",
              "      <th>final_review</th>\n",
              "      <th>word_count</th>\n",
              "    </tr>\n",
              "  </thead>\n",
              "  <tbody>\n",
              "    <tr>\n",
              "      <th>1</th>\n",
              "      <td>5</td>\n",
              "      <td>2020-05-16</td>\n",
              "      <td>07:33:32</td>\n",
              "      <td>Actually ok. This app gets so many negative re...</td>\n",
              "      <td>205</td>\n",
              "    </tr>\n",
              "    <tr>\n",
              "      <th>2</th>\n",
              "      <td>3</td>\n",
              "      <td>2020-02-04</td>\n",
              "      <td>00:25:57</td>\n",
              "      <td>Cash In Concern A little bit disappointed when...</td>\n",
              "      <td>186</td>\n",
              "    </tr>\n",
              "    <tr>\n",
              "      <th>6</th>\n",
              "      <td>5</td>\n",
              "      <td>2020-06-07</td>\n",
              "      <td>04:57:17</td>\n",
              "      <td>Gcash user since 2018 I've been using gcash fo...</td>\n",
              "      <td>173</td>\n",
              "    </tr>\n",
              "    <tr>\n",
              "      <th>7</th>\n",
              "      <td>1</td>\n",
              "      <td>2020-04-26</td>\n",
              "      <td>04:57:47</td>\n",
              "      <td>GCash is Losing its Prime Okay GCash dati 3-4 ...</td>\n",
              "      <td>250</td>\n",
              "    </tr>\n",
              "  </tbody>\n",
              "</table>\n",
              "</div>"
            ],
            "text/plain": [
              "   rating  ... word_count\n",
              "1       5  ...        205\n",
              "2       3  ...        186\n",
              "6       5  ...        173\n",
              "7       1  ...        250\n",
              "\n",
              "[4 rows x 5 columns]"
            ]
          },
          "metadata": {
            "tags": []
          },
          "execution_count": 23
        }
      ]
    },
    {
      "cell_type": "markdown",
      "metadata": {
        "id": "nqoUPaB6qqH8"
      },
      "source": [
        "#### Remove emojis and emoticons"
      ]
    },
    {
      "cell_type": "code",
      "metadata": {
        "id": "1-kVVzdSoOJi",
        "colab": {
          "base_uri": "https://localhost:8080/",
          "height": 35
        },
        "outputId": "2872812b-2bd2-413c-9d54-2a60dbfb15bb"
      },
      "source": [
        "# Remove emojis and emoticons\n",
        "\n",
        "# Code block 1: remove emojis\n",
        "def remove_emoji(text):\n",
        "    emoji_pattern = re.compile(\"[\"\n",
        "                               u\"\\U0001F600-\\U0001F64F\"  # emoticons\n",
        "                               u\"\\U0001F300-\\U0001F5FF\"  # symbols & pictographs\n",
        "                               u\"\\U0001F680-\\U0001F6FF\"  # transport & map symbols\n",
        "                               u\"\\U0001F1E0-\\U0001F1FF\"  # flags (iOS)\n",
        "                               u\"\\U00002500-\\U00002BEF\"  # chinese char\n",
        "                               u\"\\U00002702-\\U000027B0\"\n",
        "                               u\"\\U00002702-\\U000027B0\"\n",
        "                               u\"\\U000024C2-\\U0001F251\"\n",
        "                               u\"\\U0001f926-\\U0001f937\"\n",
        "                               u\"\\U00010000-\\U0010ffff\"\n",
        "                               u\"\\u2640-\\u2642\"\n",
        "                               u\"\\u2600-\\u2B55\"\n",
        "                               u\"\\u200d\"\n",
        "                               u\"\\u23cf\"\n",
        "                               u\"\\u23e9\"\n",
        "                               u\"\\u231a\"\n",
        "                               u\"\\ufe0f\"  # dingbats\n",
        "                               u\"\\u3030\"\n",
        "                               \"]+\", flags=re.UNICODE)\n",
        "    return emoji_pattern.sub(r'', text)\n",
        "\n",
        "#Example\n",
        "remove_emoji(\"Have fun with NLP! 😃😃\")"
      ],
      "execution_count": 24,
      "outputs": [
        {
          "output_type": "execute_result",
          "data": {
            "application/vnd.google.colaboratory.intrinsic+json": {
              "type": "string"
            },
            "text/plain": [
              "'Have fun with NLP! '"
            ]
          },
          "metadata": {
            "tags": []
          },
          "execution_count": 24
        }
      ]
    },
    {
      "cell_type": "code",
      "metadata": {
        "id": "YGgq_VLMpBZI"
      },
      "source": [
        "# apply the remove emoji function to the review column\n",
        "df2['final_review'] = df2['final_review'].apply(lambda x: remove_emoji(x))"
      ],
      "execution_count": 25,
      "outputs": []
    },
    {
      "cell_type": "code",
      "metadata": {
        "id": "gnWhX4oF4rTm",
        "colab": {
          "base_uri": "https://localhost:8080/",
          "height": 49
        },
        "outputId": "bff2303e-2ac9-45c0-fb4b-4cc8f4003771"
      },
      "source": [
        "df2.loc[df2['word_count'].isin([1])]"
      ],
      "execution_count": 26,
      "outputs": [
        {
          "output_type": "execute_result",
          "data": {
            "text/html": [
              "<div>\n",
              "<style scoped>\n",
              "    .dataframe tbody tr th:only-of-type {\n",
              "        vertical-align: middle;\n",
              "    }\n",
              "\n",
              "    .dataframe tbody tr th {\n",
              "        vertical-align: top;\n",
              "    }\n",
              "\n",
              "    .dataframe thead th {\n",
              "        text-align: right;\n",
              "    }\n",
              "</style>\n",
              "<table border=\"1\" class=\"dataframe\">\n",
              "  <thead>\n",
              "    <tr style=\"text-align: right;\">\n",
              "      <th></th>\n",
              "      <th>rating</th>\n",
              "      <th>Dates</th>\n",
              "      <th>Time</th>\n",
              "      <th>final_review</th>\n",
              "      <th>word_count</th>\n",
              "    </tr>\n",
              "  </thead>\n",
              "  <tbody>\n",
              "  </tbody>\n",
              "</table>\n",
              "</div>"
            ],
            "text/plain": [
              "Empty DataFrame\n",
              "Columns: [rating, Dates, Time, final_review, word_count]\n",
              "Index: []"
            ]
          },
          "metadata": {
            "tags": []
          },
          "execution_count": 26
        }
      ]
    },
    {
      "cell_type": "code",
      "metadata": {
        "id": "ScKSA3NdpBWc"
      },
      "source": [
        "# Code block 2: remove emoticons\n",
        "\n",
        "# from emot.emo_unicode import UNICODE_EMO, EMOTICONS\n",
        "\n",
        "# Function for removing emoticons\n",
        "def remove_emoticons(text):\n",
        "    emoticon_pattern = re.compile(u'(' + u'|'.join(k for k in EMOTICONS) + u')')\n",
        "    return emoticon_pattern.sub(r'', text)\n"
      ],
      "execution_count": 27,
      "outputs": []
    },
    {
      "cell_type": "code",
      "metadata": {
        "id": "cEEFqPvjpBUJ",
        "colab": {
          "base_uri": "https://localhost:8080/",
          "height": 35
        },
        "outputId": "fc1a5e4b-664a-4bc6-9bec-fab59d91e2fa"
      },
      "source": [
        "#Example\n",
        "remove_emoticons(\"I used to play Super Mario games :)\")"
      ],
      "execution_count": 28,
      "outputs": [
        {
          "output_type": "execute_result",
          "data": {
            "application/vnd.google.colaboratory.intrinsic+json": {
              "type": "string"
            },
            "text/plain": [
              "'I used to play Super Mario games '"
            ]
          },
          "metadata": {
            "tags": []
          },
          "execution_count": 28
        }
      ]
    },
    {
      "cell_type": "code",
      "metadata": {
        "id": "f6M_EzAIpBR0"
      },
      "source": [
        "# Applying remove emoticons code\n",
        "df2['final_review'] = df2['final_review'].apply(lambda x: remove_emoticons(x))"
      ],
      "execution_count": 29,
      "outputs": []
    },
    {
      "cell_type": "code",
      "metadata": {
        "id": "2m7Dz2O46e-u"
      },
      "source": [
        "df2['word_count'] = df2['final_review'].str.split().str.len()"
      ],
      "execution_count": 30,
      "outputs": []
    },
    {
      "cell_type": "code",
      "metadata": {
        "id": "TbCMWEv-6iUq",
        "colab": {
          "base_uri": "https://localhost:8080/"
        },
        "outputId": "9fb5aa62-3469-4bae-8838-d5c9e370b222"
      },
      "source": [
        "df2['word_count'].value_counts().sort_index().head(6)"
      ],
      "execution_count": 31,
      "outputs": [
        {
          "output_type": "execute_result",
          "data": {
            "text/plain": [
              "0     1\n",
              "1     2\n",
              "2    11\n",
              "3     5\n",
              "4    22\n",
              "5    28\n",
              "Name: word_count, dtype: int64"
            ]
          },
          "metadata": {
            "tags": []
          },
          "execution_count": 31
        }
      ]
    },
    {
      "cell_type": "code",
      "metadata": {
        "id": "Wb68E15s6rHy",
        "colab": {
          "base_uri": "https://localhost:8080/",
          "height": 390
        },
        "outputId": "5b3f770c-4102-496f-a200-f90bf3494551"
      },
      "source": [
        "df2.loc[df2['word_count'].isin([2])]"
      ],
      "execution_count": 32,
      "outputs": [
        {
          "output_type": "execute_result",
          "data": {
            "text/html": [
              "<div>\n",
              "<style scoped>\n",
              "    .dataframe tbody tr th:only-of-type {\n",
              "        vertical-align: middle;\n",
              "    }\n",
              "\n",
              "    .dataframe tbody tr th {\n",
              "        vertical-align: top;\n",
              "    }\n",
              "\n",
              "    .dataframe thead th {\n",
              "        text-align: right;\n",
              "    }\n",
              "</style>\n",
              "<table border=\"1\" class=\"dataframe\">\n",
              "  <thead>\n",
              "    <tr style=\"text-align: right;\">\n",
              "      <th></th>\n",
              "      <th>rating</th>\n",
              "      <th>Dates</th>\n",
              "      <th>Time</th>\n",
              "      <th>final_review</th>\n",
              "      <th>word_count</th>\n",
              "    </tr>\n",
              "  </thead>\n",
              "  <tbody>\n",
              "    <tr>\n",
              "      <th>3670</th>\n",
              "      <td>1</td>\n",
              "      <td>2021-02-03</td>\n",
              "      <td>01:50:17</td>\n",
              "      <td>-0 Disappointing.</td>\n",
              "      <td>2</td>\n",
              "    </tr>\n",
              "    <tr>\n",
              "      <th>3927</th>\n",
              "      <td>5</td>\n",
              "      <td>2021-04-25</td>\n",
              "      <td>03:08:11</td>\n",
              "      <td>Good Good</td>\n",
              "      <td>2</td>\n",
              "    </tr>\n",
              "    <tr>\n",
              "      <th>3943</th>\n",
              "      <td>2</td>\n",
              "      <td>2020-09-28</td>\n",
              "      <td>18:43:16</td>\n",
              "      <td>Scammers. Trash.</td>\n",
              "      <td>2</td>\n",
              "    </tr>\n",
              "    <tr>\n",
              "      <th>4230</th>\n",
              "      <td>5</td>\n",
              "      <td>2021-05-12</td>\n",
              "      <td>16:22:47</td>\n",
              "      <td>Yes Kaksnsksksk</td>\n",
              "      <td>2</td>\n",
              "    </tr>\n",
              "    <tr>\n",
              "      <th>4272</th>\n",
              "      <td>5</td>\n",
              "      <td>2020-12-11</td>\n",
              "      <td>08:23:09</td>\n",
              "      <td>Mae0210 5star</td>\n",
              "      <td>2</td>\n",
              "    </tr>\n",
              "    <tr>\n",
              "      <th>4286</th>\n",
              "      <td>1</td>\n",
              "      <td>2020-10-05</td>\n",
              "      <td>15:50:45</td>\n",
              "      <td>trashhhhh trashhhhhh</td>\n",
              "      <td>2</td>\n",
              "    </tr>\n",
              "    <tr>\n",
              "      <th>4299</th>\n",
              "      <td>1</td>\n",
              "      <td>2020-07-26</td>\n",
              "      <td>01:10:49</td>\n",
              "      <td>ULOL Kakainis</td>\n",
              "      <td>2</td>\n",
              "    </tr>\n",
              "    <tr>\n",
              "      <th>4325</th>\n",
              "      <td>1</td>\n",
              "      <td>2020-04-17</td>\n",
              "      <td>12:20:45</td>\n",
              "      <td>Nakputaka Nakputaka</td>\n",
              "      <td>2</td>\n",
              "    </tr>\n",
              "    <tr>\n",
              "      <th>4463</th>\n",
              "      <td>4</td>\n",
              "      <td>2021-04-12</td>\n",
              "      <td>08:32:31</td>\n",
              "      <td>svdtstbgdvyvg tvtvyvttttt</td>\n",
              "      <td>2</td>\n",
              "    </tr>\n",
              "    <tr>\n",
              "      <th>4491</th>\n",
              "      <td>1</td>\n",
              "      <td>2021-01-21</td>\n",
              "      <td>02:28:07</td>\n",
              "      <td>Poor WTF</td>\n",
              "      <td>2</td>\n",
              "    </tr>\n",
              "    <tr>\n",
              "      <th>4539</th>\n",
              "      <td>1</td>\n",
              "      <td>2020-09-24</td>\n",
              "      <td>02:47:09</td>\n",
              "      <td>Habducy Hansjaknahd</td>\n",
              "      <td>2</td>\n",
              "    </tr>\n",
              "  </tbody>\n",
              "</table>\n",
              "</div>"
            ],
            "text/plain": [
              "      rating       Dates      Time               final_review  word_count\n",
              "3670       1  2021-02-03  01:50:17          -0 Disappointing.           2\n",
              "3927       5  2021-04-25  03:08:11                  Good Good           2\n",
              "3943       2  2020-09-28  18:43:16           Scammers. Trash.           2\n",
              "4230       5  2021-05-12  16:22:47            Yes Kaksnsksksk           2\n",
              "4272       5  2020-12-11  08:23:09              Mae0210 5star           2\n",
              "4286       1  2020-10-05  15:50:45       trashhhhh trashhhhhh           2\n",
              "4299       1  2020-07-26  01:10:49              ULOL Kakainis           2\n",
              "4325       1  2020-04-17  12:20:45        Nakputaka Nakputaka           2\n",
              "4463       4  2021-04-12  08:32:31  svdtstbgdvyvg tvtvyvttttt           2\n",
              "4491       1  2021-01-21  02:28:07                   Poor WTF           2\n",
              "4539       1  2020-09-24  02:47:09        Habducy Hansjaknahd           2"
            ]
          },
          "metadata": {
            "tags": []
          },
          "execution_count": 32
        }
      ]
    },
    {
      "cell_type": "markdown",
      "metadata": {
        "id": "1ZTZZsvPs7qH"
      },
      "source": [
        "#### Remove \\n, \\t, \\r"
      ]
    },
    {
      "cell_type": "code",
      "metadata": {
        "id": "EyJMBkgJpBPZ",
        "colab": {
          "base_uri": "https://localhost:8080/",
          "height": 137
        },
        "outputId": "e32b027b-0254-44a4-cc1a-dc81de03a31b"
      },
      "source": [
        "df2['final_review'][12]"
      ],
      "execution_count": 33,
      "outputs": [
        {
          "output_type": "execute_result",
          "data": {
            "application/vnd.google.colaboratory.intrinsic+json": {
              "type": "string"
            },
            "text/plain": [
              "'Best Finance App! GCash is a big help, indeed. I’ve been using using this app since 2017 and it really helped me to be more financially literate for it has a lot of features that will enable youth professionals to efficiently manage their finances. \\r\\n\\r\\nSome of the best features include:\\r\\n- It allows you to buy load and earn rebates! \\r\\n- Upon registering to promo, you can earn coupons which you can use on scan to pay features\\r\\n- allows you to save with high interest, and invest too! \\r\\n- easily transfer funds to bank with real-time posting and no extra fees! \\r\\n- Scan to pay is very useful\\r\\n- Secured and convenient e-wallet\\r\\n- Wide-range of coverage, a lot of establishments are using GCash already!\\r\\n- You can help nature by just loading or walking! \\r\\n- Smooth application\\r\\n\\r\\nWhy 4 star not 5 then? \\r\\nI think there is a need for the following upgrades: \\r\\n\\r\\n1. GCredit\\r\\nAllow users to pay it in installment. Like for 5,000 they can choose of to pay it within 3 to 5 months. \\r\\n\\r\\nInclude card for GCredit\\r\\n\\r\\n2. Customer Service\\r\\nYou know what to do. Customer service is really 1/5, honestly. \\r\\n\\r\\n3. User interface and security\\r\\nAllow users to log in using only fingerprint. \\r\\n\\r\\n4. Partner Establishments\\r\\nSome cashiers don’t know how to transact using GCash pushing some establishments not to offer it to customers\\r\\n\\r\\n5. Vouchers\\r\\nVouchers must be universal.'"
            ]
          },
          "metadata": {
            "tags": []
          },
          "execution_count": 33
        }
      ]
    },
    {
      "cell_type": "code",
      "metadata": {
        "id": "ivmQynWXq0Tf"
      },
      "source": [
        "# Remove \\r \\n \\t\n",
        "df2['final_review'] = df2['final_review'].replace(r'\\r+|\\n+|\\t+',' ', regex=True)"
      ],
      "execution_count": 34,
      "outputs": []
    },
    {
      "cell_type": "code",
      "metadata": {
        "id": "9FmRYWRPrzrk",
        "colab": {
          "base_uri": "https://localhost:8080/",
          "height": 137
        },
        "outputId": "0c89a23f-474a-4b22-801a-31d89ee97f75"
      },
      "source": [
        "df2['final_review'][12]"
      ],
      "execution_count": 35,
      "outputs": [
        {
          "output_type": "execute_result",
          "data": {
            "application/vnd.google.colaboratory.intrinsic+json": {
              "type": "string"
            },
            "text/plain": [
              "'Best Finance App! GCash is a big help, indeed. I’ve been using using this app since 2017 and it really helped me to be more financially literate for it has a lot of features that will enable youth professionals to efficiently manage their finances.     Some of the best features include:  - It allows you to buy load and earn rebates!   - Upon registering to promo, you can earn coupons which you can use on scan to pay features  - allows you to save with high interest, and invest too!   - easily transfer funds to bank with real-time posting and no extra fees!   - Scan to pay is very useful  - Secured and convenient e-wallet  - Wide-range of coverage, a lot of establishments are using GCash already!  - You can help nature by just loading or walking!   - Smooth application    Why 4 star not 5 then?   I think there is a need for the following upgrades:     1. GCredit  Allow users to pay it in installment. Like for 5,000 they can choose of to pay it within 3 to 5 months.     Include card for GCredit    2. Customer Service  You know what to do. Customer service is really 1/5, honestly.     3. User interface and security  Allow users to log in using only fingerprint.     4. Partner Establishments  Some cashiers don’t know how to transact using GCash pushing some establishments not to offer it to customers    5. Vouchers  Vouchers must be universal.'"
            ]
          },
          "metadata": {
            "tags": []
          },
          "execution_count": 35
        }
      ]
    },
    {
      "cell_type": "markdown",
      "metadata": {
        "id": "b5flG9ahs_Uf"
      },
      "source": [
        "#### Convert reviews to lowercase"
      ]
    },
    {
      "cell_type": "code",
      "metadata": {
        "id": "4bzVVHrhr05N",
        "colab": {
          "base_uri": "https://localhost:8080/"
        },
        "outputId": "a08e7e61-bc69-4504-da2d-4ba95093eae5"
      },
      "source": [
        "df2['final_review'] = df2['final_review'].apply(lambda x: \" \".join(x.lower() for x in x.split()))\n",
        "df2['final_review'].head()"
      ],
      "execution_count": 36,
      "outputs": [
        {
          "output_type": "execute_result",
          "data": {
            "text/plain": [
              "1    actually ok. this app gets so many negative re...\n",
              "2    cash in concern a little bit disappointed when...\n",
              "6    gcash user since 2018 i've been using gcash fo...\n",
              "7    gcash is losing its prime okay gcash dati 3-4 ...\n",
              "8    read please!! those others who doesn’t like gc...\n",
              "Name: final_review, dtype: object"
            ]
          },
          "metadata": {
            "tags": []
          },
          "execution_count": 36
        }
      ]
    },
    {
      "cell_type": "markdown",
      "metadata": {
        "id": "IK-5OOm1tA_8"
      },
      "source": [
        "#### Removing URLS"
      ]
    },
    {
      "cell_type": "code",
      "metadata": {
        "id": "fB1_dc9DtAx1",
        "colab": {
          "base_uri": "https://localhost:8080/"
        },
        "outputId": "554f59d7-ee74-4b6a-d439-30cf95165a27"
      },
      "source": [
        "# import re\n",
        "\n",
        "def remove_urls (vTEXT):\n",
        "    vTEXT = re.sub(r'(https|http)?:\\/\\/(\\w|\\.|\\/|\\?|\\=|\\&|\\%)*\\b', '', vTEXT, flags=re.MULTILINE)\n",
        "    return(vTEXT)\n",
        "\n",
        "df2['final_review'] = df2.final_review.apply(remove_urls)\n",
        "df2.final_review.head()"
      ],
      "execution_count": 37,
      "outputs": [
        {
          "output_type": "execute_result",
          "data": {
            "text/plain": [
              "1    actually ok. this app gets so many negative re...\n",
              "2    cash in concern a little bit disappointed when...\n",
              "6    gcash user since 2018 i've been using gcash fo...\n",
              "7    gcash is losing its prime okay gcash dati 3-4 ...\n",
              "8    read please!! those others who doesn’t like gc...\n",
              "Name: final_review, dtype: object"
            ]
          },
          "metadata": {
            "tags": []
          },
          "execution_count": 37
        }
      ]
    },
    {
      "cell_type": "markdown",
      "metadata": {
        "id": "KqalMpi-tAPy"
      },
      "source": [
        "#### Expand Contractions\n",
        "\n",
        "Contractions are words or combinations of words which are shortened by dropping letters and replacing them by an apostrophe. \n",
        "\n",
        "Let’s have a look at some examples:\n",
        "* we’re = we are\n",
        "* we’ve = we have\n",
        "* I’d = I would\n",
        "\n",
        "Note: This step needs to be done before word tokenizer because NLTK word tokenizer has in-built methods for dealing with contractions. However, NLTK word tokenizer's approach separates contractions without expanding. Expanding is a better method than simply separating."
      ]
    },
    {
      "cell_type": "code",
      "metadata": {
        "id": "lJEvu_uqt2-B",
        "colab": {
          "base_uri": "https://localhost:8080/"
        },
        "outputId": "3a9036b9-a03a-41e8-99e6-86dcef37409f"
      },
      "source": [
        "# import contractions\n",
        "\n",
        "# Example text \n",
        "text = ''' She'll be airport in 30 mins. We are supposed to catch the arrival, aren't we?  \n",
        "          I'd love to welcome her personally. It'll be an awesome vacation.'''\n",
        "  \n",
        "# creating an empty list \n",
        "expanded_words = []     \n",
        "for word in text.split(): \n",
        "  # using contractions.fix to expand the shotened words \n",
        "  expanded_words.append(contractions.fix(word))    \n",
        "    \n",
        "expanded_text = ' '.join(expanded_words) \n",
        "print('Original text: ' + text) \n",
        "print('\\n') \n",
        "print('Expanded_text: ' + expanded_text)"
      ],
      "execution_count": 38,
      "outputs": [
        {
          "output_type": "stream",
          "text": [
            "Original text:  She'll be airport in 30 mins. We are supposed to catch the arrival, aren't we?  \n",
            "          I'd love to welcome her personally. It'll be an awesome vacation.\n",
            "\n",
            "\n",
            "Expanded_text: she will be airport in 30 mins. We are supposed to catch the arrival, are not we? I would love to welcome her personally. it will be an awesome vacation.\n"
          ],
          "name": "stdout"
        }
      ]
    },
    {
      "cell_type": "code",
      "metadata": {
        "id": "N0IDX825uCsp",
        "colab": {
          "base_uri": "https://localhost:8080/"
        },
        "outputId": "248311fa-c78a-4462-a695-ee90ede7a3cc"
      },
      "source": [
        "df2['final_review'] = df2['final_review'].apply(lambda x: contractions.fix(x))\n",
        "df.final_review.sample(5)"
      ],
      "execution_count": 39,
      "outputs": [
        {
          "output_type": "execute_result",
          "data": {
            "text/plain": [
              "1759    Worse customer Service I’ve been trying to get...\n",
              "4362                              SA UNA LANG MAGALING 😒🙄\n",
              "2761    Pathetic Service,2% Service Fee? How will fili...\n",
              "2934    Very poor Nag avail ako ng gcash master card j...\n",
              "1930    Worst app! Worst app ever! Dont even try this!...\n",
              "Name: final_review, dtype: object"
            ]
          },
          "metadata": {
            "tags": []
          },
          "execution_count": 39
        }
      ]
    },
    {
      "cell_type": "markdown",
      "metadata": {
        "id": "p4bv6vQhrNSX"
      },
      "source": [
        "#### Removing 1 and 2 word reviews + Separating good and bad reviews into separate dataframes"
      ]
    },
    {
      "cell_type": "code",
      "metadata": {
        "id": "Zl_8q8fZrOf6"
      },
      "source": [
        "df2 = df2.reset_index()"
      ],
      "execution_count": 40,
      "outputs": []
    },
    {
      "cell_type": "code",
      "metadata": {
        "id": "aitS9LHUsYN9",
        "colab": {
          "base_uri": "https://localhost:8080/",
          "height": 137
        },
        "outputId": "4f9c7fd5-7c49-4409-aea8-2f72ad592e8d"
      },
      "source": [
        "df2.final_review[11]"
      ],
      "execution_count": 41,
      "outputs": [
        {
          "output_type": "execute_result",
          "data": {
            "application/vnd.google.colaboratory.intrinsic+json": {
              "type": "string"
            },
            "text/plain": [
              "'was good, but... i use gcash to pay my bills. my bank (hsbc, is not one of the banks that has direct communication with gcash, but i was able to cash in via the mastercard/visa option. now they removed it. since hsbc online does not support gcash, i need to physically withdraw money, and cash in via over the counter. this is a shame because of the current pandemic, i want to stay away from people as much as possible. now it is two crowded areas i have to go to. another thing, 7-11’s cash in is a confusing robbery! i did two transactions, because they only allowed up to 10k for a transaction. the 10k cost 60php but the 9.1k transaction was 180php! what?! one more, i linked it with my app store. i bought an in game product, got deducted, but nothing was credited to my account. i contacted the ticket desk, but there has been no reply except for an automated thank you note. convenience was the only thing you had going for you, and you are messing it up just like all other globe services.'"
            ]
          },
          "metadata": {
            "tags": []
          },
          "execution_count": 41
        }
      ]
    },
    {
      "cell_type": "code",
      "metadata": {
        "id": "ozkqWlMVs6XL",
        "colab": {
          "base_uri": "https://localhost:8080/"
        },
        "outputId": "a25429ec-181b-4d19-a039-4a115b3bc9fd"
      },
      "source": [
        "df2['word_count'].value_counts().sort_index().head(6)"
      ],
      "execution_count": 42,
      "outputs": [
        {
          "output_type": "execute_result",
          "data": {
            "text/plain": [
              "0     1\n",
              "1     2\n",
              "2    11\n",
              "3     5\n",
              "4    22\n",
              "5    28\n",
              "Name: word_count, dtype: int64"
            ]
          },
          "metadata": {
            "tags": []
          },
          "execution_count": 42
        }
      ]
    },
    {
      "cell_type": "code",
      "metadata": {
        "id": "8RVYXyHwtFsW",
        "colab": {
          "base_uri": "https://localhost:8080/",
          "height": 204
        },
        "outputId": "3e7ce36e-397c-4d5e-e290-caf0cf46f6cf"
      },
      "source": [
        "df2.loc[df2['word_count'].isin([3])]"
      ],
      "execution_count": 43,
      "outputs": [
        {
          "output_type": "execute_result",
          "data": {
            "text/html": [
              "<div>\n",
              "<style scoped>\n",
              "    .dataframe tbody tr th:only-of-type {\n",
              "        vertical-align: middle;\n",
              "    }\n",
              "\n",
              "    .dataframe tbody tr th {\n",
              "        vertical-align: top;\n",
              "    }\n",
              "\n",
              "    .dataframe thead th {\n",
              "        text-align: right;\n",
              "    }\n",
              "</style>\n",
              "<table border=\"1\" class=\"dataframe\">\n",
              "  <thead>\n",
              "    <tr style=\"text-align: right;\">\n",
              "      <th></th>\n",
              "      <th>index</th>\n",
              "      <th>rating</th>\n",
              "      <th>Dates</th>\n",
              "      <th>Time</th>\n",
              "      <th>final_review</th>\n",
              "      <th>word_count</th>\n",
              "    </tr>\n",
              "  </thead>\n",
              "  <tbody>\n",
              "    <tr>\n",
              "      <th>1416</th>\n",
              "      <td>2715</td>\n",
              "      <td>2</td>\n",
              "      <td>2020-05-01</td>\n",
              "      <td>01:32:09</td>\n",
              "      <td>system always down!!</td>\n",
              "      <td>3</td>\n",
              "    </tr>\n",
              "    <tr>\n",
              "      <th>1907</th>\n",
              "      <td>3603</td>\n",
              "      <td>4</td>\n",
              "      <td>2021-01-18</td>\n",
              "      <td>15:06:28</td>\n",
              "      <td>gcash 5 30</td>\n",
              "      <td>3</td>\n",
              "    </tr>\n",
              "    <tr>\n",
              "      <th>2061</th>\n",
              "      <td>3872</td>\n",
              "      <td>1</td>\n",
              "      <td>2020-04-21</td>\n",
              "      <td>02:23:58</td>\n",
              "      <td>worst very unreliable</td>\n",
              "      <td>3</td>\n",
              "    </tr>\n",
              "    <tr>\n",
              "      <th>2133</th>\n",
              "      <td>3986</td>\n",
              "      <td>1</td>\n",
              "      <td>2020-07-05</td>\n",
              "      <td>04:15:02</td>\n",
              "      <td>no freebies scam</td>\n",
              "      <td>3</td>\n",
              "    </tr>\n",
              "    <tr>\n",
              "      <th>2168</th>\n",
              "      <td>4237</td>\n",
              "      <td>1</td>\n",
              "      <td>2021-04-14</td>\n",
              "      <td>16:40:57</td>\n",
              "      <td>stup1d app mandarambong</td>\n",
              "      <td>3</td>\n",
              "    </tr>\n",
              "  </tbody>\n",
              "</table>\n",
              "</div>"
            ],
            "text/plain": [
              "      index  rating       Dates      Time             final_review  word_count\n",
              "1416   2715       2  2020-05-01  01:32:09     system always down!!           3\n",
              "1907   3603       4  2021-01-18  15:06:28               gcash 5 30           3\n",
              "2061   3872       1  2020-04-21  02:23:58    worst very unreliable           3\n",
              "2133   3986       1  2020-07-05  04:15:02         no freebies scam           3\n",
              "2168   4237       1  2021-04-14  16:40:57  stup1d app mandarambong           3"
            ]
          },
          "metadata": {
            "tags": []
          },
          "execution_count": 43
        }
      ]
    },
    {
      "cell_type": "code",
      "metadata": {
        "colab": {
          "base_uri": "https://localhost:8080/"
        },
        "id": "EPop67esTwU2",
        "outputId": "76114fb4-24cf-4e54-94d3-ca28de6d4bc0"
      },
      "source": [
        "df2['rating'].value_counts()"
      ],
      "execution_count": 44,
      "outputs": [
        {
          "output_type": "execute_result",
          "data": {
            "text/plain": [
              "1    1456\n",
              "2     373\n",
              "3     358\n",
              "5     182\n",
              "4     129\n",
              "Name: rating, dtype: int64"
            ]
          },
          "metadata": {
            "tags": []
          },
          "execution_count": 44
        }
      ]
    },
    {
      "cell_type": "code",
      "metadata": {
        "id": "O25Gmtg8td4b"
      },
      "source": [
        "df3 = df2.copy()\n",
        "\n",
        "df3 = df3[~df3['word_count'].isin([0,1,2])]"
      ],
      "execution_count": 45,
      "outputs": []
    },
    {
      "cell_type": "code",
      "metadata": {
        "id": "qHuAMy4EuOFM",
        "colab": {
          "base_uri": "https://localhost:8080/"
        },
        "outputId": "b33c3dfb-511e-4631-b95b-26a5c93ac666"
      },
      "source": [
        "df2.shape"
      ],
      "execution_count": 46,
      "outputs": [
        {
          "output_type": "execute_result",
          "data": {
            "text/plain": [
              "(2498, 6)"
            ]
          },
          "metadata": {
            "tags": []
          },
          "execution_count": 46
        }
      ]
    },
    {
      "cell_type": "code",
      "metadata": {
        "id": "6Fz9Xy1VtvEG",
        "colab": {
          "base_uri": "https://localhost:8080/"
        },
        "outputId": "e18245f1-b35f-4da7-9bbb-a3e2defcc10d"
      },
      "source": [
        "df3.shape "
      ],
      "execution_count": 47,
      "outputs": [
        {
          "output_type": "execute_result",
          "data": {
            "text/plain": [
              "(2484, 6)"
            ]
          },
          "metadata": {
            "tags": []
          },
          "execution_count": 47
        }
      ]
    },
    {
      "cell_type": "code",
      "metadata": {
        "id": "99VN8PK0up3w"
      },
      "source": [
        "df_goodreviews = df3.loc[df['rating'].isin([5])].copy()\n",
        "df_badreviews = df3.loc[df['rating'].isin([1])].copy()"
      ],
      "execution_count": 48,
      "outputs": []
    },
    {
      "cell_type": "code",
      "metadata": {
        "id": "jN7p7nXJu3Oo",
        "colab": {
          "base_uri": "https://localhost:8080/"
        },
        "outputId": "b8a9a16b-d7ad-411a-d0ab-11eae4c5936a"
      },
      "source": [
        "print(f'df_good_reviews: {df_goodreviews.shape}')\n",
        "print(f'df_bad_reviews: {df_badreviews.shape}')"
      ],
      "execution_count": 49,
      "outputs": [
        {
          "output_type": "stream",
          "text": [
            "df_good_reviews: (354, 6)\n",
            "df_bad_reviews: (1073, 6)\n"
          ],
          "name": "stdout"
        }
      ]
    },
    {
      "cell_type": "markdown",
      "metadata": {
        "id": "d_pLdqoI5EDQ"
      },
      "source": [
        "## Part 3: Modeling"
      ]
    },
    {
      "cell_type": "markdown",
      "metadata": {
        "id": "b8n-F4EhvhOi"
      },
      "source": [
        "#### Download nltk English stopwords and spacy model (EN for lemmatization)"
      ]
    },
    {
      "cell_type": "code",
      "metadata": {
        "id": "eQKmjCz9AKZZ",
        "colab": {
          "base_uri": "https://localhost:8080/"
        },
        "outputId": "3413eedf-057b-4afe-d42d-8455be2b4809"
      },
      "source": [
        "# Run in python console\n",
        "# import nltk\n",
        "nltk.download('stopwords')\n",
        "\n",
        "# Run in terminal or command prompt\n",
        "#!python3 -m spacy download |en"
      ],
      "execution_count": 50,
      "outputs": [
        {
          "output_type": "stream",
          "text": [
            "[nltk_data] Downloading package stopwords to /root/nltk_data...\n",
            "[nltk_data]   Unzipping corpora/stopwords.zip.\n"
          ],
          "name": "stdout"
        },
        {
          "output_type": "execute_result",
          "data": {
            "text/plain": [
              "True"
            ]
          },
          "metadata": {
            "tags": []
          },
          "execution_count": 50
        }
      ]
    },
    {
      "cell_type": "markdown",
      "metadata": {
        "id": "SPNjyX4XwFIN"
      },
      "source": [
        "#### Prepare Stop Words (English + Tagalog)"
      ]
    },
    {
      "cell_type": "markdown",
      "metadata": {
        "id": "T0wNs4p4xds6"
      },
      "source": [
        "Sources for English stopwords: \n",
        "1. nltk library\n",
        "\n",
        "Sources for Tagalog stopwords:\n",
        "1. Typical Stop Words: https://github.com/stopwords-iso/stopwords-tl/blob/master/stopwords-tl.json\n",
        "2. Profanity : https://github.com/jromest/filipino-badwords-list/blob/master/src/filipino-badwords-list.js"
      ]
    },
    {
      "cell_type": "code",
      "metadata": {
        "id": "LYiereaOAKW9"
      },
      "source": [
        "# from nltk.corpus import stopwords\n",
        "stop_words = stopwords.words('english')"
      ],
      "execution_count": 51,
      "outputs": []
    },
    {
      "cell_type": "code",
      "metadata": {
        "id": "l2cm8VtAyuLd"
      },
      "source": [
        "# import json\n",
        "with open('/content/drive/My Drive/Data/stopwords/tagalog-sw') as file:\n",
        "    tl_stopwords = json.load(file)"
      ],
      "execution_count": 52,
      "outputs": []
    },
    {
      "cell_type": "code",
      "metadata": {
        "id": "YDQe2AUVAKUL"
      },
      "source": [
        "# Extend stopwords to include tagalog + common gcash related words \n",
        "stop_words.extend(tl_stopwords)\n",
        "stop_words.extend(['gcash','g-cash','po', 'app', 'would','can'])\n",
        "stop_words.extend(['nyo','naman','yung', 'di', 'wala ','mag', 'nag', 'pag', 'kayo', 'lang', 'ung', 'niyo', 'tapos', 'ba', 'mo', 'please', 'pls'])\n",
        "stop_words.extend(['nga','yan','yun', 'akong', 'inyo', 'ur', 'star', 'nalang', 'kasi', 'talaga'])\n",
        "stop_words.extend(['nmn', 'nlng','un','blah', 'tru', 'pwede','like','one','globe', 'guys', 'even', 'seems', 'hi', 'guess'])"
      ],
      "execution_count": 53,
      "outputs": []
    },
    {
      "cell_type": "markdown",
      "metadata": {
        "id": "EawABx5ezfTs"
      },
      "source": [
        "#### Tokenize and Clean Up Text some more"
      ]
    },
    {
      "cell_type": "code",
      "metadata": {
        "id": "GWCgWkfwzw8_",
        "colab": {
          "base_uri": "https://localhost:8080/"
        },
        "outputId": "6853f3a8-8db0-4772-c187-155844fb2825"
      },
      "source": [
        "# Check columns\n",
        "df_badreviews.columns"
      ],
      "execution_count": 54,
      "outputs": [
        {
          "output_type": "execute_result",
          "data": {
            "text/plain": [
              "Index(['index', 'rating', 'Dates', 'Time', 'final_review', 'word_count'], dtype='object')"
            ]
          },
          "metadata": {
            "tags": []
          },
          "execution_count": 54
        }
      ]
    },
    {
      "cell_type": "code",
      "metadata": {
        "id": "CiyZWUgoAKPP"
      },
      "source": [
        "# Convert the review columns into a list\n",
        "bad_reviews = df_badreviews.final_review.values.tolist()\n",
        "good_reviews = df_goodreviews.final_review.values.tolist()"
      ],
      "execution_count": 55,
      "outputs": []
    },
    {
      "cell_type": "code",
      "metadata": {
        "id": "a7oTzNi0AKJ8"
      },
      "source": [
        "# Define a function to tokenize and remove punctuations\n",
        "def sent_to_words(sentences):\n",
        "    for sentence in sentences:\n",
        "        yield(gensim.utils.simple_preprocess(str(sentence), deacc=True))  # deacc=True removes punctuations\n",
        "\n",
        "br_words = list(sent_to_words(bad_reviews))\n",
        "gr_words = list(sent_to_words(good_reviews))"
      ],
      "execution_count": 56,
      "outputs": []
    },
    {
      "cell_type": "markdown",
      "metadata": {
        "id": "r8mtTpdl0quz"
      },
      "source": [
        "#### Create Bigram and Trigram Models\n",
        "\n",
        "Bigrams are two words frequently occurring together in the document. Trigrams are 3 words frequently occurring.\n",
        "\n",
        "Gensim’s Phrases model can build and implement the bigrams, trigrams, quadgrams and more. The two important arguments to Phrases are *min_count* and *threshold*. The higher the values of these param, the harder it is for words to be combined to bigrams."
      ]
    },
    {
      "cell_type": "markdown",
      "metadata": {
        "id": "7JD9fxfz1pFz"
      },
      "source": [
        "###### Bigram and Trigram for good reviews"
      ]
    },
    {
      "cell_type": "code",
      "metadata": {
        "id": "lBDYjEis0pzt",
        "colab": {
          "base_uri": "https://localhost:8080/"
        },
        "outputId": "e97efc5b-19c3-4eb6-d7a6-041463614a46"
      },
      "source": [
        "# Build the bigram and trigram models\n",
        "g_bigram = gensim.models.Phrases(gr_words, min_count=5, threshold=80) # higher threshold fewer phrases.\n",
        "g_trigram = gensim.models.Phrases(g_bigram[gr_words], threshold=80)  \n",
        "\n",
        "# Faster way to get a sentence clubbed as a trigram/bigram\n",
        "g_bigram_mod = gensim.models.phrases.Phraser(g_bigram)\n",
        "g_trigram_mod = gensim.models.phrases.Phraser(g_trigram)\n",
        "\n",
        "# See trigram example\n",
        "print(g_trigram_mod[g_bigram_mod[gr_words[0]]])"
      ],
      "execution_count": 57,
      "outputs": [
        {
          "output_type": "stream",
          "text": [
            "/usr/local/lib/python3.7/dist-packages/gensim/models/phrases.py:598: UserWarning: For a faster implementation, use the gensim.models.phrases.Phraser class\n",
            "  warnings.warn(\"For a faster implementation, use the gensim.models.phrases.Phraser class\")\n"
          ],
          "name": "stderr"
        },
        {
          "output_type": "stream",
          "text": [
            "['cash', 'in', 'concern', 'little', 'bit', 'disappointed', 'when', 'cashed', 'in', 'via', 'debit_card', 'waited', 'mins', 'to', 'receive', 'the', 'otp', 'had', 'to', 'restart', 'the', 'application', 'but', 'still', 'same', 'scenario', 'happened', 'when', 'checked', 'my', 'account', 'was', 'already', 'credited', 'by', 'my', 'bank', 'and', 'so', 'reached', 'for', 'customer', 'support', 'since', 'it', 'was', 'not', 'funded', 'in', 'my', 'gcash', 'account', 'the', 'first', 'one', 'talked', 'to', 'said', 'that', 'they', 'had', 'no', 'transactions', 'so', 'need', 'to', 'call', 'my', 'issuing', 'bank', 'called', 'them', 'and', 'said', 'that', 'if', 'it', 'was', 'already', 'deducted', 'on', 'my', 'account', 'meaning', 'it', 'was', 'successful', 'transaction', 'and', 'need', 'to', 'talk', 'to', 'gcash', 'so', 'tried', 'reaching', 'out', 'to', 'gcash', 'customer', 'support', 'but', 'still', 'no', 'update', 'on', 'my', 'concern', 'this', 'was', 'always', 'concern', 'to', 'me', 'whenever', 'cash', 'in', 'via', 'debit_card', 'the', 'otp', 'is', 'always', 'late', 'hope', 'you', 'can', 'fix', 'this', 'have', 'been', 'using', 'gcash', 'for', 'quite', 'while', 'now', 'need', 'my', 'money', 'because', 'that', 'is', 'my', 'only', 'cash', 'if', 'only', 'knew', 'this', 'would', 'happen', 'would', 'not', 'put', 'my', 'cash', 'on', 'gcash', 'and', 'paid', 'my', 'bill', 'somewhere', 'else']\n"
          ],
          "name": "stdout"
        }
      ]
    },
    {
      "cell_type": "markdown",
      "metadata": {
        "id": "bmhI-H_G1t4J"
      },
      "source": [
        "##### Bigram and Trigam for bad reviews"
      ]
    },
    {
      "cell_type": "code",
      "metadata": {
        "id": "P4k8Vxck1tSD",
        "colab": {
          "base_uri": "https://localhost:8080/"
        },
        "outputId": "117d869f-85ad-4e2f-cf88-47fbb7a00dac"
      },
      "source": [
        "# Build the bigram and trigram models\n",
        "b_bigram = gensim.models.Phrases(br_words, min_count=5, threshold=80) # higher threshold fewer phrases.\n",
        "b_trigram = gensim.models.Phrases(b_bigram[br_words], threshold=80)  \n",
        "\n",
        "# Faster way to get a sentence clubbed as a trigram/bigram\n",
        "b_bigram_mod = gensim.models.phrases.Phraser(b_bigram)\n",
        "b_trigram_mod = gensim.models.phrases.Phraser(b_trigram)\n",
        "\n",
        "# See trigram example\n",
        "print(b_trigram_mod[b_bigram_mod[br_words[3]]])"
      ],
      "execution_count": 58,
      "outputs": [
        {
          "output_type": "stream",
          "text": [
            "/usr/local/lib/python3.7/dist-packages/gensim/models/phrases.py:598: UserWarning: For a faster implementation, use the gensim.models.phrases.Phraser class\n",
            "  warnings.warn(\"For a faster implementation, use the gensim.models.phrases.Phraser class\")\n"
          ],
          "name": "stderr"
        },
        {
          "output_type": "stream",
          "text": [
            "['best', 'finance', 'app', 'gcash', 'is', 'big', 'help', 'indeed', 'have', 'been', 'using', 'using', 'this', 'app', 'since', 'and', 'it', 'really', 'helped', 'me', 'to', 'be', 'more', 'financially', 'literate', 'for', 'it', 'has', 'lot', 'of', 'features', 'that', 'will', 'enable', 'youth', 'professionals', 'to', 'efficiently', 'manage', 'their', 'finances', 'some', 'of', 'the', 'best', 'features', 'include', 'it', 'allows', 'you', 'to', 'buy_load', 'and', 'earn', 'rebates', 'upon', 'registering', 'to', 'promo', 'you', 'can', 'earn', 'coupons', 'which', 'you', 'can', 'use', 'on', 'scan', 'to', 'pay', 'features', 'allows', 'you', 'to', 'save', 'with', 'high', 'interest', 'and', 'invest', 'too', 'easily', 'transfer', 'funds', 'to', 'bank', 'with', 'real', 'time', 'posting', 'and', 'no', 'extra', 'fees', 'scan', 'to', 'pay', 'is', 'very', 'useful', 'secured', 'and', 'convenient', 'wallet', 'wide', 'range', 'of', 'coverage', 'lot', 'of', 'establishments', 'are', 'using', 'gcash', 'already', 'you', 'can', 'help', 'nature', 'by', 'just', 'loading', 'or', 'walking', 'smooth', 'application', 'why', 'star', 'not', 'then', 'think', 'there', 'is', 'need', 'for', 'the', 'following', 'upgrades', 'gcredit', 'allow', 'users', 'to', 'pay', 'it', 'in', 'installment', 'like', 'for', 'they', 'can', 'choose', 'of', 'to', 'pay', 'it', 'within', 'to', 'months', 'include', 'card', 'for', 'gcredit', 'customer_service', 'you', 'know', 'what', 'to', 'do', 'customer_service', 'is', 'really', 'honestly', 'user', 'interface', 'and', 'security', 'allow', 'users', 'to', 'log', 'in', 'using', 'only', 'fingerprint', 'partner', 'establishments', 'some', 'cashiers', 'do', 'not', 'know', 'how', 'to', 'transact', 'using', 'gcash', 'pushing', 'some', 'establishments', 'not', 'to', 'offer', 'it', 'to', 'customers', 'vouchers', 'vouchers', 'must', 'be', 'universal']\n"
          ],
          "name": "stdout"
        }
      ]
    },
    {
      "cell_type": "markdown",
      "metadata": {
        "id": "grbjonTM1tAF"
      },
      "source": [
        "#### Remove Stopwords, Make Bigrams and Lemmatize (Eng. words only)"
      ]
    },
    {
      "cell_type": "markdown",
      "metadata": {
        "id": "Vc5ag-703kef"
      },
      "source": [
        "##### Functionalizing the steps"
      ]
    },
    {
      "cell_type": "markdown",
      "metadata": {
        "id": "QdIF5ctGfCi5"
      },
      "source": [
        "I have excluded lemmatization as it brought out errant results when added to tagalog corpus."
      ]
    },
    {
      "cell_type": "code",
      "metadata": {
        "id": "EV5GtCL62rV_"
      },
      "source": [
        "# Define functions for stopwords, bigrams, trigrams and lemmatization\n",
        "def remove_stopwords(texts):\n",
        "    return [[word for word in simple_preprocess(str(doc)) if word not in stop_words] for doc in texts]\n",
        "\n",
        "def g_make_bigrams(texts):\n",
        "    return [g_bigram_mod[doc] for doc in texts]\n",
        "\n",
        "def g_make_trigrams(texts):\n",
        "    return [g_trigram_mod[g_bigram_mod[doc]] for doc in texts]\n",
        "\n",
        "def b_make_bigrams(texts):\n",
        "    return [b_bigram_mod[doc] for doc in texts]\n",
        "\n",
        "def b_make_trigrams(texts):\n",
        "    return [b_trigram_mod[b_bigram_mod[doc]] for doc in texts]\n",
        "\n",
        "def lemmatization(texts, allowed_postags=['NOUN', 'ADJ', 'VERB', 'ADV']):\n",
        "    \"\"\"https://spacy.io/api/annotation\"\"\"\n",
        "    texts_out = []\n",
        "    for sent in texts:\n",
        "        doc = nlp(\" \".join(sent)) \n",
        "        texts_out.append([token.lemma_ for token in doc if token.pos_ in allowed_postags])\n",
        "    return texts_out"
      ],
      "execution_count": 59,
      "outputs": []
    },
    {
      "cell_type": "markdown",
      "metadata": {
        "id": "ypqJB4cf3rc5"
      },
      "source": [
        "##### Applying the functions to tokenized bad and good reviews\n"
      ]
    },
    {
      "cell_type": "code",
      "metadata": {
        "id": "Yt_vQgw93e5e"
      },
      "source": [
        "# APPLYING TO TOKENIZED GOOD REVIEWS\n",
        "\n",
        "# Remove Stop Words\n",
        "gr_words_nostops = remove_stopwords(gr_words)\n",
        "\n",
        "# ### REMOVED LEMMATIZATION COS IT AFFECTS THE TAGALOG WORDS / TAGALOG WORDS ARE RENDERED INEFFECTIVE\n",
        "# # Initialize spacy 'en' model, keeping only tagger component (for efficiency)\n",
        "# # python3 -m spacy download en\n",
        "# nlp = spacy.load('en', disable=['parser', 'ner'])\n",
        "\n",
        "# # Do lemmatization keeping only noun, adj, vb, adv\n",
        "# gr_lemmatized = lemmatization(gr_words_nostops, allowed_postags=['NOUN', 'ADJ', 'VERB', 'ADV'])\n",
        "\n",
        "\n",
        "# Form Bigrams\n",
        "gr_words_bigrams = g_make_bigrams(gr_words_nostops)\n",
        "\n",
        "# Form Trigrams\n",
        "gr_words_trigrams = g_make_trigrams(gr_words_bigrams)\n"
      ],
      "execution_count": 60,
      "outputs": []
    },
    {
      "cell_type": "code",
      "metadata": {
        "id": "cw_CtXO073vr",
        "colab": {
          "base_uri": "https://localhost:8080/"
        },
        "outputId": "8b70716b-c9c4-4130-dde1-9f529e55e714"
      },
      "source": [
        "gr_words_trigrams[13]"
      ],
      "execution_count": 61,
      "outputs": [
        {
          "output_type": "execute_result",
          "data": {
            "text/plain": [
              "['worst',\n",
              " 'ever',\n",
              " 'terrible',\n",
              " 'cs',\n",
              " 'unreliable',\n",
              " 'times',\n",
              " 'emergency',\n",
              " 'always',\n",
              " 'crashes',\n",
              " 'cannot',\n",
              " 'use',\n",
              " 'money',\n",
              " 'buy_load',\n",
              " 'transfer',\n",
              " 'money',\n",
              " 'another',\n",
              " 'user',\n",
              " 'cannot',\n",
              " 'transfer',\n",
              " 'money',\n",
              " 'another',\n",
              " 'bank',\n",
              " 'decreased',\n",
              " 'money',\n",
              " 'transfer',\n",
              " 'successful',\n",
              " 'money',\n",
              " 'credited',\n",
              " 'back',\n",
              " 'days',\n",
              " 'unreliable',\n",
              " 'especially',\n",
              " 'times',\n",
              " 'badly',\n",
              " 'need',\n",
              " 'customer_service',\n",
              " 'support',\n",
              " 'know',\n",
              " 'cannot',\n",
              " 'use',\n",
              " 'gcredit',\n",
              " 'services',\n",
              " 'user',\n",
              " 'friendly',\n",
              " 'especially',\n",
              " 'trying',\n",
              " 'cash',\n",
              " 'use',\n",
              " 'going',\n",
              " 'always',\n",
              " 'uninstall',\n",
              " 'ecq',\n",
              " 'transferring',\n",
              " 'money',\n",
              " 'paypal',\n",
              " 'paymaya']"
            ]
          },
          "metadata": {
            "tags": []
          },
          "execution_count": 61
        }
      ]
    },
    {
      "cell_type": "code",
      "metadata": {
        "id": "egBnFj1l47Mh"
      },
      "source": [
        "# APPLYING TO TOKENIZED BAD REVIEWS\n",
        "\n",
        "# Remove Stop Words\n",
        "br_words_nostops = remove_stopwords(br_words)\n",
        "\n",
        "# ## REMOVED LEMMATIZATION COS IT AFFECTS THE TAGALOG WORDS / TAGALOG WORDS ARE RENDERED INEFFECTIVE\n",
        "# # Initialize spacy 'en' model, keeping only tagger component (for efficiency)\n",
        "# # python3 -m spacy download en\n",
        "# nlp = spacy.load('en', disable=['parser', 'ner'])\n",
        "\n",
        "# # Do lemmatization keeping only noun, adj, vb, adv\n",
        "# br_lemmatized = lemmatization(br_words_nostops, allowed_postags=['NOUN', 'ADJ', 'VERB', 'ADV'])\n",
        "\n",
        "# Form Bigrams\n",
        "br_words_bigrams = b_make_bigrams(br_words_nostops)\n",
        "\n",
        "br_words_trigrams = b_make_trigrams(br_words_bigrams)\n",
        "\n",
        "\n"
      ],
      "execution_count": 62,
      "outputs": []
    },
    {
      "cell_type": "code",
      "metadata": {
        "id": "0H5-OosG8ffy",
        "colab": {
          "base_uri": "https://localhost:8080/"
        },
        "outputId": "de85e4c9-d889-416b-d416-1b0584851cb7"
      },
      "source": [
        "br_words_trigrams[3]\n"
      ],
      "execution_count": 63,
      "outputs": [
        {
          "output_type": "execute_result",
          "data": {
            "text/plain": [
              "['best',\n",
              " 'finance',\n",
              " 'big',\n",
              " 'help',\n",
              " 'indeed',\n",
              " 'using',\n",
              " 'using',\n",
              " 'since',\n",
              " 'really',\n",
              " 'helped',\n",
              " 'financially',\n",
              " 'literate',\n",
              " 'lot',\n",
              " 'features',\n",
              " 'enable',\n",
              " 'youth',\n",
              " 'professionals',\n",
              " 'efficiently',\n",
              " 'manage',\n",
              " 'finances',\n",
              " 'best',\n",
              " 'features',\n",
              " 'include',\n",
              " 'allows',\n",
              " 'buy_load',\n",
              " 'earn',\n",
              " 'rebates',\n",
              " 'upon',\n",
              " 'registering',\n",
              " 'promo',\n",
              " 'earn',\n",
              " 'coupons',\n",
              " 'use',\n",
              " 'scan',\n",
              " 'pay',\n",
              " 'features',\n",
              " 'allows',\n",
              " 'save',\n",
              " 'high',\n",
              " 'interest',\n",
              " 'invest',\n",
              " 'easily',\n",
              " 'transfer',\n",
              " 'funds',\n",
              " 'bank',\n",
              " 'real',\n",
              " 'time',\n",
              " 'posting',\n",
              " 'extra',\n",
              " 'fees',\n",
              " 'scan',\n",
              " 'pay',\n",
              " 'useful',\n",
              " 'secured',\n",
              " 'convenient',\n",
              " 'wallet',\n",
              " 'wide',\n",
              " 'range',\n",
              " 'coverage',\n",
              " 'lot',\n",
              " 'establishments',\n",
              " 'using',\n",
              " 'already',\n",
              " 'help',\n",
              " 'nature',\n",
              " 'loading',\n",
              " 'walking',\n",
              " 'smooth',\n",
              " 'application',\n",
              " 'think',\n",
              " 'need',\n",
              " 'following',\n",
              " 'upgrades',\n",
              " 'gcredit',\n",
              " 'allow',\n",
              " 'users',\n",
              " 'pay',\n",
              " 'installment',\n",
              " 'choose',\n",
              " 'pay',\n",
              " 'within',\n",
              " 'months',\n",
              " 'include',\n",
              " 'card',\n",
              " 'gcredit',\n",
              " 'customer_service',\n",
              " 'know',\n",
              " 'customer_service',\n",
              " 'really',\n",
              " 'honestly',\n",
              " 'user',\n",
              " 'interface',\n",
              " 'security',\n",
              " 'allow',\n",
              " 'users',\n",
              " 'log',\n",
              " 'using',\n",
              " 'fingerprint',\n",
              " 'partner',\n",
              " 'establishments',\n",
              " 'cashiers',\n",
              " 'know',\n",
              " 'transact',\n",
              " 'using',\n",
              " 'pushing',\n",
              " 'establishments',\n",
              " 'offer',\n",
              " 'customers',\n",
              " 'vouchers',\n",
              " 'vouchers',\n",
              " 'must',\n",
              " 'universal']"
            ]
          },
          "metadata": {
            "tags": []
          },
          "execution_count": 63
        }
      ]
    },
    {
      "cell_type": "markdown",
      "metadata": {
        "id": "DxkCG6bj5gtI"
      },
      "source": [
        "#### Create the Dictionary and Corpus needed for Topic Modeling\n",
        "\n",
        "The two main inputs to the LDA topic model are the dictionary(id2word) and the corpus. Let’s create them."
      ]
    },
    {
      "cell_type": "markdown",
      "metadata": {
        "id": "FbBHHqt-5vdE"
      },
      "source": [
        "##### Good Reviews -  Dictionary and Corpus"
      ]
    },
    {
      "cell_type": "code",
      "metadata": {
        "id": "QYNUGf6w6jIa"
      },
      "source": [
        "# Create Dictionary\n",
        "g_id2word = corpora.Dictionary(gr_words_trigrams)\n",
        "g_id2word.filter_extremes(no_below=10, no_above=0.35)\n",
        "g_id2word.compactify()\n",
        "# Create Corpus\n",
        "g_texts = gr_words_trigrams\n",
        "\n",
        "# Term Document Frequency (doc2bow) and TFIDF\n",
        "\n",
        "tfidf   = gensim.models.TfidfModel(dictionary=g_id2word, normalize=True)\n",
        "g_corpus = [tfidf[g_id2word.doc2bow(text)] for text in g_texts]\n",
        "\n",
        "# View\n",
        "#print(g_corpus[:1])"
      ],
      "execution_count": 64,
      "outputs": []
    },
    {
      "cell_type": "markdown",
      "metadata": {
        "id": "sGYpY3DG5zQq"
      },
      "source": [
        "##### Bad Reviews -  Dictionary and Corpus"
      ]
    },
    {
      "cell_type": "code",
      "metadata": {
        "id": "_9ZYxwth51Q3",
        "colab": {
          "base_uri": "https://localhost:8080/"
        },
        "outputId": "d959258c-e52d-4f1b-d8eb-323e60278469"
      },
      "source": [
        "# Create Dictionary\n",
        "b_id2word = corpora.Dictionary(br_words_trigrams)\n",
        "b_id2word.filter_extremes(no_below=10, no_above=0.35)\n",
        "b_id2word.compactify()\n",
        "\n",
        "# Create Corpus\n",
        "b_texts = br_words_trigrams\n",
        "\n",
        "# Term Document Frequency (doc2bow) and TFIDF\n",
        "tfidf   = gensim.models.TfidfModel(dictionary=b_id2word, normalize=True)\n",
        "b_corpus = [tfidf[g_id2word.doc2bow(text)] for text in b_texts]\n",
        "\n",
        "# View\n",
        "print(b_corpus[:1])"
      ],
      "execution_count": 65,
      "outputs": [
        {
          "output_type": "stream",
          "text": [
            "[[(0, 0.04804945399647168), (3, 0.2661794925024251), (4, 0.3200622031593652), (15, 0.09343821285492517), (17, 0.1141026982344112), (18, 0.4769061921552072), (22, 0.23311550462790023), (26, 0.17589296191085174), (29, 0.08695698217783177), (30, 0.08949328611144712), (41, 0.20333270545912682), (43, 0.11075335917513236), (51, 0.40608831389428923), (57, 0.09529767925026487), (73, 0.0946652485562568), (74, 0.13308974625121256), (85, 0.1192265480388018), (87, 0.27072554259619286), (97, 0.20081655639430576), (137, 0.29183157597163195), (143, 0.08416671381112684)]]\n"
          ],
          "name": "stdout"
        }
      ]
    },
    {
      "cell_type": "markdown",
      "metadata": {
        "id": "NkjOukTZ6RNP"
      },
      "source": [
        "#### Building the Topic Model"
      ]
    },
    {
      "cell_type": "markdown",
      "metadata": {
        "id": "jpte7nuy6Vfh"
      },
      "source": [
        "##### Optizing Number of Topics for Good Reviews"
      ]
    },
    {
      "cell_type": "code",
      "metadata": {
        "id": "YVCfa-Gz6U7R"
      },
      "source": [
        "# Build initial LDA model\n",
        "lda_model = gensim.models.ldamodel.LdaModel(corpus=g_corpus,\n",
        "                                           id2word=g_id2word,\n",
        "                                           num_topics=6, \n",
        "                                           random_state=100,\n",
        "                                           update_every=1,\n",
        "                                           chunksize=100,\n",
        "                                           passes=10,\n",
        "                                           alpha='auto',\n",
        "                                           per_word_topics=True)"
      ],
      "execution_count": null,
      "outputs": []
    },
    {
      "cell_type": "code",
      "metadata": {
        "id": "2vV8hMAt6l22",
        "colab": {
          "base_uri": "https://localhost:8080/"
        },
        "outputId": "108af681-65b3-4364-8a9d-5fbd619362f0"
      },
      "source": [
        "print(json.dumps(lda_model.print_topics(), indent=1))"
      ],
      "execution_count": 67,
      "outputs": [
        {
          "output_type": "stream",
          "text": [
            "[\n",
            " [\n",
            "  0,\n",
            "  \"0.214*\\\"iphone\\\" + 0.120*\\\"sent\\\" + 0.005*\\\"phone\\\" + 0.005*\\\"log\\\" + 0.005*\\\"new\\\" + 0.005*\\\"takes\\\" + 0.005*\\\"anything\\\" + 0.005*\\\"fix\\\" + 0.005*\\\"services\\\" + 0.005*\\\"experience\\\"\"\n",
            " ],\n",
            " [\n",
            "  1,\n",
            "  \"0.149*\\\"load\\\" + 0.090*\\\"data\\\" + 0.088*\\\"much\\\" + 0.060*\\\"amount\\\" + 0.046*\\\"happened\\\" + 0.043*\\\"said\\\" + 0.041*\\\"transactions\\\" + 0.039*\\\"reason\\\" + 0.036*\\\"deducted\\\" + 0.009*\\\"add\\\"\"\n",
            " ],\n",
            " [\n",
            "  2,\n",
            "  \"0.146*\\\"gcredit\\\" + 0.123*\\\"ios\\\" + 0.091*\\\"student_id\\\" + 0.005*\\\"especially\\\" + 0.005*\\\"thank\\\" + 0.004*\\\"paying\\\" + 0.004*\\\"bills\\\" + 0.004*\\\"nothing\\\" + 0.004*\\\"verification\\\" + 0.004*\\\"working\\\"\"\n",
            " ],\n",
            " [\n",
            "  3,\n",
            "  \"0.103*\\\"transactions\\\" + 0.099*\\\"add\\\" + 0.085*\\\"pandemic\\\" + 0.005*\\\"poor\\\" + 0.005*\\\"without\\\" + 0.005*\\\"online\\\" + 0.005*\\\"card\\\" + 0.005*\\\"sent\\\" + 0.005*\\\"really\\\" + 0.005*\\\"ever\\\"\"\n",
            " ],\n",
            " [\n",
            "  4,\n",
            "  \"0.029*\\\"account\\\" + 0.029*\\\"cannot\\\" + 0.025*\\\"update\\\" + 0.024*\\\"id\\\" + 0.022*\\\"money\\\" + 0.020*\\\"cash\\\" + 0.020*\\\"working\\\" + 0.018*\\\"verification\\\" + 0.018*\\\"log\\\" + 0.018*\\\"fix\\\"\"\n",
            " ],\n",
            " [\n",
            "  5,\n",
            "  \"0.073*\\\"verify\\\" + 0.059*\\\"ticket\\\" + 0.052*\\\"number\\\" + 0.051*\\\"system\\\" + 0.046*\\\"poor\\\" + 0.046*\\\"email\\\" + 0.040*\\\"keeps\\\" + 0.037*\\\"wrong\\\" + 0.034*\\\"annoying\\\" + 0.033*\\\"customer_service\\\"\"\n",
            " ]\n",
            "]\n"
          ],
          "name": "stdout"
        }
      ]
    },
    {
      "cell_type": "code",
      "metadata": {
        "id": "y7UkXohwiGLc"
      },
      "source": [
        "# supporting function\n",
        "def compute_coherence_values(corpus, dictionary, k, a, b):\n",
        "    \n",
        "    lda_model = gensim.models.LdaMulticore(corpus=corpus,\n",
        "                                           id2word=dictionary,\n",
        "                                           num_topics=k, \n",
        "                                           random_state=100,\n",
        "                                           chunksize=100,\n",
        "                                           passes=10,\n",
        "                                           alpha=a,\n",
        "                                           eta=b)\n",
        "    \n",
        "    coherence_model_lda = CoherenceModel(model=lda_model, texts=gr_words_trigrams, dictionary=g_id2word, coherence='c_v')\n",
        "    \n",
        "    return coherence_model_lda.get_coherence()"
      ],
      "execution_count": 68,
      "outputs": []
    },
    {
      "cell_type": "code",
      "metadata": {
        "id": "QGpLrN7hn2lB"
      },
      "source": [
        "# #Optimizing topic models\n",
        "\n",
        "# import numpy as np\n",
        "# import tqdm\n",
        "# grid = {}\n",
        "# grid['Validation_Set'] = {}\n",
        "# # Topics range\n",
        "# min_topics = 2\n",
        "# max_topics = 8\n",
        "# step_size = 1\n",
        "# topics_range = range(min_topics, max_topics, step_size)\n",
        "# # Alpha parameter\n",
        "# alpha = list(np.arange(0.01, 1, 0.3))\n",
        "# alpha.append('symmetric')\n",
        "# alpha.append('asymmetric')\n",
        "# # Beta parameter\n",
        "# beta = list(np.arange(0.01, 1, 0.3))\n",
        "# beta.append('symmetric')\n",
        "# # Validation sets\n",
        "# num_of_docs = len(g_corpus)\n",
        "# corpus_sets = [# gensim.utils.ClippedCorpus(corpus, num_of_docs*0.25), \n",
        "#                # gensim.utils.ClippedCorpus(corpus, num_of_docs*0.5), \n",
        "#                #gensim.utils.ClippedCorpus(g_corpus, num_of_docs*0.75), \n",
        "#                g_corpus]\n",
        "# corpus_title = ['75% Corpus', '100% Corpus']\n",
        "# model_results = {'Validation_Set': [],\n",
        "#                  'Topics': [],\n",
        "#                  'Alpha': [],\n",
        "#                  'Beta': [],\n",
        "#                  'Coherence': []\n",
        "#                 }\n",
        "# # Can take a long time to run\n",
        "# if 1 == 1:\n",
        "#     pbar = tqdm.tqdm(total=540)\n",
        "    \n",
        "#     # iterate through validation corpuses\n",
        "#     for i in range(len(corpus_sets)):\n",
        "#         # iterate through number of topics\n",
        "#         for k in topics_range:\n",
        "#             # iterate through alpha values\n",
        "#             for a in alpha:\n",
        "#                 # iterare through beta values\n",
        "#                 for b in beta:\n",
        "#                     # get the coherence score for the given parameters\n",
        "#                     cv = compute_coherence_values(corpus=corpus_sets[i], dictionary=g_id2word, \n",
        "#                                                   k=k, a=a, b=b)\n",
        "#                     # Save the model results\n",
        "#                     model_results['Validation_Set'].append(corpus_title[i])\n",
        "#                     model_results['Topics'].append(k)\n",
        "#                     model_results['Alpha'].append(a)\n",
        "#                     model_results['Beta'].append(b)\n",
        "#                     model_results['Coherence'].append(cv)\n",
        "                    \n",
        "#                     pbar.update(1)\n",
        "#     pd.DataFrame(model_results).to_csv('gcash_gr_lda_tuning_results.csv', index=False)\n",
        "#     pbar.close()"
      ],
      "execution_count": 69,
      "outputs": []
    },
    {
      "cell_type": "code",
      "metadata": {
        "id": "etQrRfJX3CN0"
      },
      "source": [
        "# model_cv_df_gr = pd.DataFrame(model_results) \n",
        "# model_cv_df_gr.sort_values(by='Coherence',ascending=False)"
      ],
      "execution_count": 70,
      "outputs": []
    },
    {
      "cell_type": "code",
      "metadata": {
        "id": "2EJ7gBBq3VG2"
      },
      "source": [
        "# Build optimized LDA model\n",
        "\n",
        "lda_model_experimental = gensim.models.LdaMulticore(corpus=g_corpus,\n",
        "                                           id2word=g_id2word,\n",
        "                                           num_topics=6, \n",
        "                                           random_state=100,\n",
        "                                           chunksize=100,\n",
        "                                           passes=10,\n",
        "                                           alpha=0.61,\n",
        "                                           eta=0.91)"
      ],
      "execution_count": null,
      "outputs": []
    },
    {
      "cell_type": "code",
      "metadata": {
        "colab": {
          "base_uri": "https://localhost:8080/"
        },
        "id": "XMnyUmXX3feL",
        "outputId": "86e63c3b-edc8-4ac7-fcad-f90dd0f40680"
      },
      "source": [
        "print(json.dumps(lda_model_experimental.print_topics(), indent=1))"
      ],
      "execution_count": 72,
      "outputs": [
        {
          "output_type": "stream",
          "text": [
            "[\n",
            " [\n",
            "  0,\n",
            "  \"0.049*\\\"id\\\" + 0.021*\\\"verification\\\" + 0.020*\\\"get\\\" + 0.018*\\\"back\\\" + 0.017*\\\"verified\\\" + 0.013*\\\"sent\\\" + 0.012*\\\"us\\\" + 0.012*\\\"much\\\" + 0.011*\\\"money\\\" + 0.011*\\\"option\\\"\"\n",
            " ],\n",
            " [\n",
            "  1,\n",
            "  \"0.054*\\\"update\\\" + 0.034*\\\"open\\\" + 0.025*\\\"always\\\" + 0.024*\\\"working\\\" + 0.020*\\\"load\\\" + 0.019*\\\"updated\\\" + 0.019*\\\"need\\\" + 0.017*\\\"new\\\" + 0.016*\\\"data\\\" + 0.013*\\\"cannot\\\"\"\n",
            " ],\n",
            " [\n",
            "  2,\n",
            "  \"0.026*\\\"bills\\\" + 0.022*\\\"gcredit\\\" + 0.022*\\\"working\\\" + 0.020*\\\"paying\\\" + 0.012*\\\"yet\\\" + 0.012*\\\"cannot\\\" + 0.012*\\\"using\\\" + 0.012*\\\"use\\\" + 0.011*\\\"money\\\" + 0.010*\\\"tried\\\"\"\n",
            " ],\n",
            " [\n",
            "  3,\n",
            "  \"0.046*\\\"account\\\" + 0.037*\\\"log\\\" + 0.028*\\\"cannot\\\" + 0.022*\\\"error\\\" + 0.021*\\\"ticket\\\" + 0.020*\\\"mpin\\\" + 0.019*\\\"access\\\" + 0.017*\\\"card\\\" + 0.014*\\\"says\\\" + 0.013*\\\"wrong\\\"\"\n",
            " ],\n",
            " [\n",
            "  4,\n",
            "  \"0.030*\\\"transfer\\\" + 0.028*\\\"service\\\" + 0.027*\\\"money\\\" + 0.025*\\\"fee\\\" + 0.024*\\\"bank\\\" + 0.024*\\\"cash\\\" + 0.023*\\\"go\\\" + 0.018*\\\"poor\\\" + 0.017*\\\"fees\\\" + 0.012*\\\"send\\\"\"\n",
            " ],\n",
            " [\n",
            "  5,\n",
            "  \"0.032*\\\"verify\\\" + 0.022*\\\"iphone\\\" + 0.021*\\\"verification\\\" + 0.021*\\\"fix\\\" + 0.017*\\\"phone\\\" + 0.015*\\\"account\\\" + 0.014*\\\"cannot\\\" + 0.013*\\\"received\\\" + 0.011*\\\"number\\\" + 0.010*\\\"fully_verified\\\"\"\n",
            " ]\n",
            "]\n"
          ],
          "name": "stdout"
        }
      ]
    },
    {
      "cell_type": "markdown",
      "metadata": {
        "id": "ZprhmOHENioL"
      },
      "source": [
        "##### Optimizing Number of Topics for Bad Reviews"
      ]
    },
    {
      "cell_type": "code",
      "metadata": {
        "id": "-Q_acL3u7AWG"
      },
      "source": [
        "# Build LDA model\n",
        "lda_model2 = gensim.models.ldamodel.LdaModel(corpus=b_corpus,\n",
        "                                           id2word=b_id2word,\n",
        "                                           num_topics=6, \n",
        "                                           random_state=100,\n",
        "                                           update_every=1,\n",
        "                                           chunksize=100,\n",
        "                                           passes=10,\n",
        "                                           alpha='auto',\n",
        "                                           per_word_topics=True)\n",
        "\n"
      ],
      "execution_count": null,
      "outputs": []
    },
    {
      "cell_type": "code",
      "metadata": {
        "id": "h1SlJVB0_pA0",
        "colab": {
          "base_uri": "https://localhost:8080/"
        },
        "outputId": "fa9d9675-93db-4d72-83ff-93aef82062b1"
      },
      "source": [
        "print(json.dumps(lda_model2.print_topics(), indent=1))"
      ],
      "execution_count": 74,
      "outputs": [
        {
          "output_type": "stream",
          "text": [
            "[\n",
            " [\n",
            "  0,\n",
            "  \"0.220*\\\"thing\\\" + 0.091*\\\"made\\\" + 0.084*\\\"email\\\" + 0.082*\\\"name\\\" + 0.002*\\\"nothing\\\" + 0.002*\\\"pesos\\\" + 0.002*\\\"first\\\" + 0.002*\\\"resolve\\\" + 0.002*\\\"useful\\\" + 0.002*\\\"good\\\"\"\n",
            " ],\n",
            " [\n",
            "  1,\n",
            "  \"0.149*\\\"nothing\\\" + 0.062*\\\"linked\\\" + 0.002*\\\"experience\\\" + 0.002*\\\"thing\\\" + 0.002*\\\"reply\\\" + 0.002*\\\"time\\\" + 0.002*\\\"weeks\\\" + 0.002*\\\"email\\\" + 0.002*\\\"money\\\" + 0.002*\\\"resolve\\\"\"\n",
            " ],\n",
            " [\n",
            "  2,\n",
            "  \"0.078*\\\"bank\\\" + 0.076*\\\"okay\\\" + 0.049*\\\"asked\\\" + 0.043*\\\"years\\\" + 0.041*\\\"go\\\" + 0.039*\\\"amount\\\" + 0.038*\\\"store\\\" + 0.033*\\\"said\\\" + 0.033*\\\"since\\\" + 0.029*\\\"new\\\"\"\n",
            " ],\n",
            " [\n",
            "  3,\n",
            "  \"0.142*\\\"resolve\\\" + 0.003*\\\"support\\\" + 0.003*\\\"save\\\" + 0.003*\\\"users\\\" + 0.003*\\\"limit\\\" + 0.003*\\\"anymore\\\" + 0.003*\\\"much\\\" + 0.003*\\\"since\\\" + 0.003*\\\"really\\\" + 0.003*\\\"think\\\"\"\n",
            " ],\n",
            " [\n",
            "  4,\n",
            "  \"0.078*\\\"want\\\" + 0.037*\\\"send\\\" + 0.036*\\\"way\\\" + 0.031*\\\"error\\\" + 0.031*\\\"account\\\" + 0.029*\\\"customer_service\\\" + 0.029*\\\"via\\\" + 0.025*\\\"address\\\" + 0.024*\\\"ever\\\" + 0.023*\\\"kwenta\\\"\"\n",
            " ],\n",
            " [\n",
            "  5,\n",
            "  \"0.003*\\\"feature\\\" + 0.003*\\\"bring_back\\\" + 0.003*\\\"students\\\" + 0.003*\\\"passport\\\" + 0.003*\\\"making\\\" + 0.003*\\\"instead\\\" + 0.003*\\\"inconvenient\\\" + 0.003*\\\"happened\\\" + 0.003*\\\"friends\\\" + 0.003*\\\"concern\\\"\"\n",
            " ]\n",
            "]\n"
          ],
          "name": "stdout"
        }
      ]
    },
    {
      "cell_type": "code",
      "metadata": {
        "id": "rb4eTaOppm8q"
      },
      "source": [
        "# supporting function\n",
        "def compute_coherence_values(corpus, dictionary, k, a, b):\n",
        "    \n",
        "    lda_model = gensim.models.LdaMulticore(corpus=corpus,\n",
        "                                           id2word=dictionary,\n",
        "                                           num_topics=k, \n",
        "                                           random_state=100,\n",
        "                                           chunksize=100,\n",
        "                                           passes=10,\n",
        "                                           alpha=a,\n",
        "                                           eta=b)\n",
        "    \n",
        "    coherence_model_lda = CoherenceModel(model=lda_model, texts=gr_words_trigrams, dictionary=g_id2word, coherence='c_v')\n",
        "    \n",
        "    return coherence_model_lda.get_coherence()"
      ],
      "execution_count": 75,
      "outputs": []
    },
    {
      "cell_type": "markdown",
      "metadata": {
        "id": "TAyJ5MNlpnj7"
      },
      "source": [
        "#### Visualizing LDA model results"
      ]
    },
    {
      "cell_type": "markdown",
      "metadata": {
        "id": "TsDqD9bBki2l"
      },
      "source": [
        "##### Plotting topic models using pyLDAvis"
      ]
    },
    {
      "cell_type": "code",
      "metadata": {
        "id": "IEPh3tij_tHr",
        "colab": {
          "base_uri": "https://localhost:8080/",
          "height": 861
        },
        "outputId": "6a7cfb45-46ed-4224-beef-db01030f07ba"
      },
      "source": [
        "# Visualize the topics\n",
        "pyLDAvis.enable_notebook()\n",
        "vis = pyLDAvis.gensim_models.prepare(lda_model, g_corpus, g_id2word)\n",
        "vis"
      ],
      "execution_count": 76,
      "outputs": [
        {
          "output_type": "execute_result",
          "data": {
            "text/html": [
              "\n",
              "<link rel=\"stylesheet\" type=\"text/css\" href=\"https://cdn.jsdelivr.net/gh/bmabey/pyLDAvis@3.3.1/pyLDAvis/js/ldavis.v1.0.0.css\">\n",
              "\n",
              "\n",
              "<div id=\"ldavis_el1581406189484233768942577756\"></div>\n",
              "<script type=\"text/javascript\">\n",
              "\n",
              "var ldavis_el1581406189484233768942577756_data = {\"mdsDat\": {\"x\": [-0.17312536784615676, 0.2756350081481782, -0.03514877894835234, -0.022592769400715543, -0.022742947614376695, -0.022025144338576972], \"y\": [0.09484881767533103, 0.03962810182960108, -0.1968779801554583, 0.036309407801647924, 0.03785692893145407, -0.01176527608257561], \"topics\": [1, 2, 3, 4, 5, 6], \"cluster\": [1, 1, 1, 1, 1, 1], \"Freq\": [77.06877600124032, 13.338396410170924, 4.695066847376205, 1.925312607288192, 1.52881320301715, 1.4436349309071919]}, \"tinfo\": {\"Term\": [\"load\", \"verify\", \"iphone\", \"ticket\", \"data\", \"gcredit\", \"much\", \"transactions\", \"number\", \"system\", \"poor\", \"ios\", \"email\", \"sent\", \"keeps\", \"wrong\", \"update\", \"id\", \"cannot\", \"money\", \"amount\", \"cash\", \"working\", \"add\", \"fix\", \"always\", \"log\", \"verification\", \"need\", \"open\", \"cannot\", \"update\", \"id\", \"money\", \"cash\", \"account\", \"working\", \"verification\", \"fix\", \"always\", \"log\", \"need\", \"open\", \"use\", \"transfer\", \"service\", \"get\", \"updated\", \"transaction\", \"still\", \"error\", \"already\", \"time\", \"bank\", \"using\", \"access\", \"says\", \"fee\", \"go\", \"fully_verified\", \"verify\", \"ticket\", \"system\", \"number\", \"poor\", \"email\", \"keeps\", \"wrong\", \"annoying\", \"received\", \"longer\", \"anything\", \"customer_service\", \"us\", \"wait\", \"receive\", \"experience\", \"thank\", \"almost\", \"users\", \"saying\", \"month\", \"especially\", \"something\", \"never\", \"nothing\", \"pandemic\", \"deducted\", \"add\", \"student_id\", \"account\", \"also\", \"good\", \"whenever\", \"verification\", \"load\", \"data\", \"much\", \"amount\", \"happened\", \"said\", \"reason\", \"deducted\", \"transactions\", \"add\", \"pandemic\", \"student_id\", \"sent\", \"ever\", \"especially\", \"ios\", \"well\", \"got\", \"used\", \"day\", \"thing\", \"gcredit\", \"month\", \"saying\", \"asked\", \"going\", \"long\", \"paypal\", \"possible\", \"message\", \"everytime\", \"almost\", \"us\", \"wait\", \"also\", \"soon\", \"anything\", \"update\", \"cash\", \"hope\", \"transaction\", \"updated\", \"poor\", \"know\", \"gcredit\", \"ios\", \"student_id\", \"pandemic\", \"deducted\", \"add\", \"reason\", \"sent\", \"especially\", \"said\", \"happened\", \"ever\", \"well\", \"got\", \"used\", \"day\", \"amount\", \"thing\", \"month\", \"saying\", \"asked\", \"going\", \"long\", \"paypal\", \"thank\", \"message\", \"almost\", \"everytime\", \"users\", \"say\", \"experience\", \"whenever\", \"iphone\", \"paying\", \"bills\", \"nothing\", \"verification\", \"working\", \"information\", \"soon\", \"try\", \"annoying\", \"access\", \"id\", \"option\", \"payment\", \"takes\", \"pay\", \"good\", \"yet\", \"work\", \"using\", \"iphone\", \"sent\", \"pandemic\", \"deducted\", \"add\", \"student_id\", \"reason\", \"said\", \"happened\", \"ever\", \"especially\", \"ios\", \"well\", \"got\", \"used\", \"day\", \"amount\", \"thing\", \"gcredit\", \"month\", \"saying\", \"asked\", \"going\", \"long\", \"paypal\", \"message\", \"almost\", \"everytime\", \"users\", \"experience\", \"whenever\", \"also\", \"anything\", \"phone\", \"log\", \"new\", \"takes\", \"fix\", \"services\", \"cannot\", \"yet\", \"good\", \"wait\", \"open\", \"get\", \"work\", \"first\", \"number\", \"us\", \"working\", \"system\", \"really\", \"account\", \"pandemic\", \"add\", \"transactions\", \"deducted\", \"student_id\", \"reason\", \"sent\", \"said\", \"happened\", \"ever\", \"especially\", \"ios\", \"well\", \"got\", \"used\", \"day\", \"amount\", \"thing\", \"gcredit\", \"month\", \"saying\", \"asked\", \"going\", \"long\", \"paypal\", \"message\", \"almost\", \"everytime\", \"users\", \"say\", \"without\", \"poor\", \"online\", \"card\", \"really\", \"paying\", \"time\", \"options\", \"takes\", \"better\", \"bills\", \"payment\", \"receive\", \"try\", \"easy\", \"since\", \"people\", \"give\", \"anything\"], \"Freq\": [6.0, 9.0, 3.0, 7.0, 4.0, 3.0, 4.0, 3.0, 6.0, 6.0, 6.0, 2.0, 5.0, 2.0, 5.0, 4.0, 17.0, 16.0, 20.0, 15.0, 3.0, 14.0, 13.0, 2.0, 12.0, 12.0, 12.0, 13.0, 11.0, 11.0, 19.71388450804364, 17.027963361411302, 16.410868756355487, 15.02803781891075, 13.796747501686568, 20.087875055382266, 13.489670177822923, 12.551599218861897, 12.261699664007248, 12.201813593011968, 12.31473053986985, 11.217550270891833, 10.533750331094003, 10.375150476799153, 9.028623071796108, 9.00772062965484, 8.976299915910234, 8.64753222594211, 8.55309235267425, 8.075711167176257, 7.9957606252904805, 7.789293748598756, 7.751248185570651, 7.739892584348433, 7.577019461653766, 7.548109453502027, 7.476488576836437, 7.31331260388881, 7.282053581380955, 7.277149588831435, 8.724853139091689, 6.987191696684848, 6.048416446388221, 6.182766425748661, 5.508529051687002, 5.4872149251123865, 4.791763367758858, 4.469509800411313, 4.111291309623312, 3.9362462022981357, 3.8911526815078363, 3.8392488033350345, 3.9470733912622955, 3.786834548131676, 3.382219498242551, 3.0695378322278746, 2.974565284173209, 2.9840767753440622, 2.910072328009526, 2.945691891884048, 2.7453104960941865, 2.6328667517345856, 2.16231134485143, 1.013270308101354, 0.5863076070459278, 0.6854948743820879, 0.1563906519575847, 0.15490453698618484, 0.15646330517173648, 0.15559359039667314, 0.3769699605449135, 0.17816655814152074, 0.1674374246425443, 0.16241212369494457, 0.1630856858966072, 6.246728731058959, 3.7791487634906384, 3.711129417422345, 2.500010151564871, 1.9228454380487585, 1.823583730020999, 1.6407079187867646, 1.4925755503405318, 1.7087543141129777, 0.360565396324653, 0.11975231244448131, 0.1202642352860198, 0.11973117532566621, 0.11994385597933788, 0.12007639538871799, 0.12016325985896643, 0.11966496913982605, 0.11986731087916282, 0.11980625460622858, 0.11980366499157949, 0.12048858386380852, 0.11981169768305706, 0.12110674931087533, 0.11962000756623924, 0.11978622173818838, 0.11967988141135255, 0.1196253138332372, 0.11969045485682547, 0.12726514611035517, 0.1198776693377592, 0.12053463014390874, 0.12003365208881173, 0.12355801990492789, 0.12073600444230112, 0.12015255937579375, 0.1208783648430863, 0.12039610041837806, 0.12036633450810956, 0.12025761955350116, 0.12013921064518746, 0.12009450314700017, 0.12006294893680418, 0.12004546659489007, 0.12003312439375115, 2.5167507624898025, 2.1140733436363486, 1.5619561230424892, 0.07487455749798656, 0.07488863904926478, 0.07486532474495725, 0.07480718725322574, 0.07487013347049334, 0.0883416177690383, 0.07486159798266676, 0.07493128443022747, 0.07480831730372672, 0.07481746189678788, 0.07483453287244105, 0.07483618386820845, 0.07487198482982474, 0.07482215841872815, 0.07481195590604904, 0.07481948957605561, 0.07480577669373514, 0.07486224716061414, 0.0748074357040451, 0.07485231714238208, 0.07494500532709049, 0.07765063474997956, 0.07480525574846873, 0.07480582478099052, 0.07482600539915703, 0.07484779694037814, 0.07480550419928811, 0.07484423848348143, 0.07486095681926194, 0.07484660277353668, 0.07519453009515895, 0.07508671846863949, 0.07503951281296006, 0.07499606597774136, 0.07496467301453315, 0.07494409166923863, 0.07493570044317813, 0.07492690047544706, 0.07490808232951576, 0.07490406704369312, 0.07489922625998678, 0.07489900986733765, 0.07489503465422781, 0.07489049842313875, 0.07488485618517639, 0.07488379826555844, 0.07487944636894826, 0.07487579975208339, 0.07487294657493196, 2.9224348304183603, 1.6342707452128566, 0.06153525787388568, 0.06152461085926426, 0.06157284380834722, 0.061524878148334246, 0.0615248654202833, 0.06152487178430877, 0.061524623587315204, 0.0615244390305764, 0.06152464267939164, 0.061582313478255574, 0.061547394070468504, 0.06159869447983092, 0.06157370931581196, 0.061524477214729256, 0.06152461722328973, 0.061535073317146874, 0.06157040002256441, 0.06152452176290759, 0.06152455358303497, 0.06157014546154537, 0.0615244644866783, 0.0615244644866783, 0.0615244644866783, 0.061524445394601876, 0.061524566311085924, 0.06152452176290759, 0.0615712273458763, 0.06164168983594709, 0.061594882428570766, 0.061620885836665897, 0.061717701756233, 0.06190686604948302, 0.06178932249894043, 0.06175446036738264, 0.06173408275780834, 0.061711496831393854, 0.061644630015717024, 0.06163906785745096, 0.06162150314713707, 0.061619663943774494, 0.06161877934423332, 0.061611645271674675, 0.061607101357484775, 0.06160675133608359, 0.06159625705807359, 0.06159490152064719, 0.06158935209043208, 0.06158867750373162, 0.06158683830036904, 0.06157869871178518, 0.06157601945705976, 1.0935915077286054, 1.2831541406789355, 1.3321676153579054, 0.0625380227189138, 0.06260919265831387, 0.06253816694576052, 0.06262741331661506, 0.06255228915783433, 0.06253801670946185, 0.06262488333734566, 0.0625753354060484, 0.0625381909835683, 0.06253813088904883, 0.06256372514488814, 0.06253867774917594, 0.06253796863384628, 0.06257480657427712, 0.06257591231343525, 0.06253810084178911, 0.06256503520541243, 0.06257801562161645, 0.06254912217665863, 0.06254293845060588, 0.06254732535052668, 0.06253805877562547, 0.0625571267666511, 0.06255844283662734, 0.06253798065275018, 0.0626132850950893, 0.06259681318730448, 0.06272760289946382, 0.06296383445547298, 0.0626637584819863, 0.06265353039477368, 0.0626273291842878, 0.06260680089643923, 0.06260581534632004, 0.0626047456638736, 0.06259413898118837, 0.06259190346506435, 0.06259017875235577, 0.06258615842900368, 0.06258388685616799, 0.06258387483726409, 0.06258333999604088, 0.06258292534385658, 0.0625774266953257, 0.0625763089372637, 0.06257506498071082], \"Total\": [6.0, 9.0, 3.0, 7.0, 4.0, 3.0, 4.0, 3.0, 6.0, 6.0, 6.0, 2.0, 5.0, 2.0, 5.0, 4.0, 17.0, 16.0, 20.0, 15.0, 3.0, 14.0, 13.0, 2.0, 12.0, 12.0, 12.0, 13.0, 11.0, 11.0, 20.18692207275744, 17.5017039960378, 16.88380862097651, 15.50068497028639, 14.269919108374697, 20.783464698766597, 13.962720393105476, 13.033499889348548, 12.734962964131956, 12.674977563913428, 12.793245371516578, 11.690463054084102, 11.006796972816279, 10.84792556603088, 9.50115598081887, 9.481105002173551, 9.448984858633247, 9.12061277982279, 9.026307587233562, 8.552329034768839, 8.468670566387338, 8.262288401302621, 8.224039831969609, 8.212287984936845, 8.049845025950464, 8.020785174117336, 7.94950676555879, 7.786044319560505, 7.754608725523356, 7.749733092003777, 9.221887009454067, 7.483871474865766, 6.545778970720798, 6.691286685598641, 6.006910031211867, 5.98393620657658, 5.28896274983704, 4.967020357185669, 4.607987176725178, 4.433209575360792, 4.388566415379881, 4.337690442778205, 4.463718739913728, 4.2876546493443755, 3.880741150282072, 3.566999372966522, 3.471833629031747, 3.4841442795690263, 3.407614565846898, 3.452844271972383, 3.2424719954444106, 3.1311277066908234, 2.6747653556386495, 4.962258660166368, 4.191580114198758, 5.496207654097375, 1.688030647436872, 2.0258096008741857, 2.1234280255906697, 2.142479653930473, 20.783464698766597, 3.6787332527928958, 5.014375573383879, 3.5580754215454586, 13.033499889348548, 6.779105457733243, 4.311473878932464, 4.244010766454026, 3.0325016088902474, 2.4555492428098784, 2.3567456811064527, 2.1763013782461043, 2.0258096008741857, 3.526700189732316, 2.1234280255906697, 1.688030647436872, 2.142479653930473, 2.2303436716221428, 2.653989874743844, 2.6747653556386495, 2.6938401697622547, 2.717313827474752, 2.7678169638012724, 2.8055037968501813, 2.9481938862735, 3.0476092783602597, 3.0945828471125405, 3.1311277066908234, 3.2424719954444106, 3.2479619504842248, 3.2742444469308025, 3.32453525605148, 3.3422861431131308, 3.556443239202642, 3.3783464079742354, 3.421967250983996, 3.407614565846898, 4.2876546493443755, 3.880741150282072, 3.6787332527928958, 5.358546233244708, 4.337690442778205, 17.5017039960378, 14.269919108374697, 6.248539834696918, 9.026307587233562, 9.12061277982279, 6.006910031211867, 3.9326368733949186, 3.0945828471125405, 2.6938401697622547, 2.142479653930473, 1.688030647436872, 2.0258096008741857, 2.1234280255906697, 2.1763013782461043, 2.2303436716221428, 2.6747653556386495, 2.3567456811064527, 2.4555492428098784, 2.653989874743844, 2.717313827474752, 2.7678169638012724, 2.8055037968501813, 2.9481938862735, 3.0325016088902474, 3.0476092783602597, 3.1311277066908234, 3.2424719954444106, 3.2479619504842248, 3.2742444469308025, 3.32453525605148, 3.3422861431131308, 3.4841442795690263, 3.3783464079742354, 3.407614565846898, 3.421967250983996, 3.452844271972383, 3.469912637187485, 3.471833629031747, 3.5580754215454586, 3.5127372280093665, 5.666630867303843, 7.604955334231367, 5.496207654097375, 13.033499889348548, 13.962720393105476, 4.350110421503686, 5.358546233244708, 4.3348659942871, 4.607987176725178, 8.020785174117336, 16.88380862097651, 7.476219416771432, 5.876265651607621, 4.784913577935817, 6.442129721398552, 5.014375573383879, 6.993562267574803, 4.558105289657391, 8.049845025950464, 3.5127372280093665, 2.2303436716221428, 1.688030647436872, 2.0258096008741857, 2.1234280255906697, 2.142479653930473, 2.1763013782461043, 2.3567456811064527, 2.4555492428098784, 2.653989874743844, 2.6747653556386495, 2.6938401697622547, 2.717313827474752, 2.7678169638012724, 2.8055037968501813, 2.9481938862735, 3.0325016088902474, 3.0476092783602597, 3.0945828471125405, 3.1311277066908234, 3.2424719954444106, 3.2479619504842248, 3.2742444469308025, 3.32453525605148, 3.3422861431131308, 3.3783464079742354, 3.407614565846898, 3.421967250983996, 3.452844271972383, 3.471833629031747, 3.5580754215454586, 3.6787332527928958, 4.337690442778205, 6.148349141445123, 12.793245371516578, 6.579052398223495, 4.784913577935817, 12.734962964131956, 4.451132902415974, 20.18692207275744, 6.993562267574803, 5.014375573383879, 3.880741150282072, 11.006796972816279, 9.448984858633247, 4.558105289657391, 4.965189577365675, 6.691286685598641, 4.2876546493443755, 13.962720393105476, 6.545778970720798, 7.124687160698349, 20.783464698766597, 1.688030647436872, 2.1234280255906697, 3.526700189732316, 2.0258096008741857, 2.142479653930473, 2.1763013782461043, 2.2303436716221428, 2.3567456811064527, 2.4555492428098784, 2.653989874743844, 2.6747653556386495, 2.6938401697622547, 2.717313827474752, 2.7678169638012724, 2.8055037968501813, 2.9481938862735, 3.0325016088902474, 3.0476092783602597, 3.0945828471125405, 3.1311277066908234, 3.2424719954444106, 3.2479619504842248, 3.2742444469308025, 3.32453525605148, 3.3422861431131308, 3.3783464079742354, 3.407614565846898, 3.421967250983996, 3.452844271972383, 3.469912637187485, 3.6260050540039974, 6.006910031211867, 3.7295874434517358, 6.779483456234893, 7.124687160698349, 5.666630867303843, 8.224039831969609, 3.923742630337541, 4.784913577935817, 3.7399450405073544, 7.604955334231367, 5.876265651607621, 3.566999372966522, 4.3348659942871, 3.558608694846963, 5.1062554120610875, 5.597342215112223, 4.560892169091702, 4.337690442778205], \"Category\": [\"Default\", \"Default\", \"Default\", \"Default\", \"Default\", \"Default\", \"Default\", \"Default\", \"Default\", \"Default\", \"Default\", \"Default\", \"Default\", \"Default\", \"Default\", \"Default\", \"Default\", \"Default\", \"Default\", \"Default\", \"Default\", \"Default\", \"Default\", \"Default\", \"Default\", \"Default\", \"Default\", \"Default\", \"Default\", \"Default\", \"Topic1\", \"Topic1\", \"Topic1\", \"Topic1\", \"Topic1\", \"Topic1\", \"Topic1\", \"Topic1\", \"Topic1\", \"Topic1\", \"Topic1\", \"Topic1\", \"Topic1\", \"Topic1\", \"Topic1\", \"Topic1\", \"Topic1\", \"Topic1\", \"Topic1\", \"Topic1\", \"Topic1\", \"Topic1\", \"Topic1\", \"Topic1\", \"Topic1\", \"Topic1\", \"Topic1\", \"Topic1\", \"Topic1\", \"Topic1\", \"Topic2\", \"Topic2\", \"Topic2\", \"Topic2\", \"Topic2\", \"Topic2\", \"Topic2\", \"Topic2\", \"Topic2\", \"Topic2\", \"Topic2\", \"Topic2\", \"Topic2\", \"Topic2\", \"Topic2\", \"Topic2\", \"Topic2\", \"Topic2\", \"Topic2\", \"Topic2\", \"Topic2\", \"Topic2\", \"Topic2\", \"Topic2\", \"Topic2\", \"Topic2\", \"Topic2\", \"Topic2\", \"Topic2\", \"Topic2\", \"Topic2\", \"Topic2\", \"Topic2\", \"Topic2\", \"Topic2\", \"Topic3\", \"Topic3\", \"Topic3\", \"Topic3\", \"Topic3\", \"Topic3\", \"Topic3\", \"Topic3\", \"Topic3\", \"Topic3\", \"Topic3\", \"Topic3\", \"Topic3\", \"Topic3\", \"Topic3\", \"Topic3\", \"Topic3\", \"Topic3\", \"Topic3\", \"Topic3\", \"Topic3\", \"Topic3\", \"Topic3\", \"Topic3\", \"Topic3\", \"Topic3\", \"Topic3\", \"Topic3\", \"Topic3\", \"Topic3\", \"Topic3\", \"Topic3\", \"Topic3\", \"Topic3\", \"Topic3\", \"Topic3\", \"Topic3\", \"Topic3\", \"Topic3\", \"Topic3\", \"Topic3\", \"Topic3\", \"Topic3\", \"Topic3\", \"Topic4\", \"Topic4\", \"Topic4\", \"Topic4\", \"Topic4\", \"Topic4\", \"Topic4\", \"Topic4\", \"Topic4\", \"Topic4\", \"Topic4\", \"Topic4\", \"Topic4\", \"Topic4\", \"Topic4\", \"Topic4\", \"Topic4\", \"Topic4\", \"Topic4\", \"Topic4\", \"Topic4\", \"Topic4\", \"Topic4\", \"Topic4\", \"Topic4\", \"Topic4\", \"Topic4\", \"Topic4\", \"Topic4\", \"Topic4\", \"Topic4\", \"Topic4\", \"Topic4\", \"Topic4\", \"Topic4\", \"Topic4\", \"Topic4\", \"Topic4\", \"Topic4\", \"Topic4\", \"Topic4\", \"Topic4\", \"Topic4\", \"Topic4\", \"Topic4\", \"Topic4\", \"Topic4\", \"Topic4\", \"Topic4\", \"Topic4\", \"Topic4\", \"Topic4\", \"Topic5\", \"Topic5\", \"Topic5\", \"Topic5\", \"Topic5\", \"Topic5\", \"Topic5\", \"Topic5\", \"Topic5\", \"Topic5\", \"Topic5\", \"Topic5\", \"Topic5\", \"Topic5\", \"Topic5\", \"Topic5\", \"Topic5\", \"Topic5\", \"Topic5\", \"Topic5\", \"Topic5\", \"Topic5\", \"Topic5\", \"Topic5\", \"Topic5\", \"Topic5\", \"Topic5\", \"Topic5\", \"Topic5\", \"Topic5\", \"Topic5\", \"Topic5\", \"Topic5\", \"Topic5\", \"Topic5\", \"Topic5\", \"Topic5\", \"Topic5\", \"Topic5\", \"Topic5\", \"Topic5\", \"Topic5\", \"Topic5\", \"Topic5\", \"Topic5\", \"Topic5\", \"Topic5\", \"Topic5\", \"Topic5\", \"Topic5\", \"Topic5\", \"Topic5\", \"Topic5\", \"Topic6\", \"Topic6\", \"Topic6\", \"Topic6\", \"Topic6\", \"Topic6\", \"Topic6\", \"Topic6\", \"Topic6\", \"Topic6\", \"Topic6\", \"Topic6\", \"Topic6\", \"Topic6\", \"Topic6\", \"Topic6\", \"Topic6\", \"Topic6\", \"Topic6\", \"Topic6\", \"Topic6\", \"Topic6\", \"Topic6\", \"Topic6\", \"Topic6\", \"Topic6\", \"Topic6\", \"Topic6\", \"Topic6\", \"Topic6\", \"Topic6\", \"Topic6\", \"Topic6\", \"Topic6\", \"Topic6\", \"Topic6\", \"Topic6\", \"Topic6\", \"Topic6\", \"Topic6\", \"Topic6\", \"Topic6\", \"Topic6\", \"Topic6\", \"Topic6\", \"Topic6\", \"Topic6\", \"Topic6\", \"Topic6\"], \"logprob\": [30.0, 29.0, 28.0, 27.0, 26.0, 25.0, 24.0, 23.0, 22.0, 21.0, 20.0, 19.0, 18.0, 17.0, 16.0, 15.0, 14.0, 13.0, 12.0, 11.0, 10.0, 9.0, 8.0, 7.0, 6.0, 5.0, 4.0, 3.0, 2.0, 1.0, -3.5538, -3.7003, -3.7372, -3.8252, -3.9107, -3.535, -3.9332, -4.0053, -4.0287, -4.0336, -4.0244, -4.1177, -4.1806, -4.1958, -4.3348, -4.3371, -4.3406, -4.3779, -4.3889, -4.4463, -4.4563, -4.4824, -4.4873, -4.4888, -4.51, -4.5139, -4.5234, -4.5455, -4.5498, -4.5504, -2.6149, -2.837, -2.9813, -2.9593, -3.0748, -3.0787, -3.2142, -3.2838, -3.3674, -3.4109, -3.4224, -3.4358, -3.4081, -3.4496, -3.5626, -3.6596, -3.691, -3.6878, -3.7129, -3.7008, -3.7712, -3.813, -4.0099, -4.7679, -5.315, -5.1587, -6.6365, -6.6461, -6.636, -6.6416, -5.7567, -6.5061, -6.5683, -6.5987, -6.5946, -1.9049, -2.4075, -2.4256, -2.8207, -3.0832, -3.1362, -3.2419, -3.3365, -3.2012, -4.7571, -5.8593, -5.855, -5.8595, -5.8577, -5.8566, -5.8559, -5.86, -5.8583, -5.8589, -5.8589, -5.8532, -5.8588, -5.8481, -5.8604, -5.859, -5.8599, -5.8604, -5.8598, -5.7985, -5.8583, -5.8528, -5.857, -5.828, -5.8511, -5.856, -5.8499, -5.8539, -5.8542, -5.8551, -5.8561, -5.8565, -5.8567, -5.8569, -5.857, -1.9226, -2.0969, -2.3996, -5.4375, -5.4373, -5.4376, -5.4384, -5.4376, -5.2721, -5.4377, -5.4367, -5.4384, -5.4383, -5.438, -5.438, -5.4375, -5.4382, -5.4383, -5.4382, -5.4384, -5.4377, -5.4384, -5.4378, -5.4366, -5.4011, -5.4384, -5.4384, -5.4381, -5.4379, -5.4384, -5.4379, -5.4377, -5.4379, -5.4332, -5.4347, -5.4353, -5.4359, -5.4363, -5.4366, -5.4367, -5.4368, -5.437, -5.4371, -5.4372, -5.4372, -5.4372, -5.4373, -5.4374, -5.4374, -5.4374, -5.4375, -5.4375, -1.5425, -2.1238, -5.4031, -5.4033, -5.4025, -5.4033, -5.4033, -5.4033, -5.4033, -5.4033, -5.4033, -5.4023, -5.4029, -5.4021, -5.4025, -5.4033, -5.4033, -5.4031, -5.4025, -5.4033, -5.4033, -5.4025, -5.4033, -5.4033, -5.4033, -5.4033, -5.4033, -5.4033, -5.4025, -5.4014, -5.4021, -5.4017, -5.4001, -5.3971, -5.399, -5.3995, -5.3999, -5.4002, -5.4013, -5.4014, -5.4017, -5.4017, -5.4017, -5.4019, -5.4019, -5.4019, -5.4021, -5.4021, -5.4022, -5.4022, -5.4023, -5.4024, -5.4024, -2.4682, -2.3083, -2.2708, -5.3296, -5.3285, -5.3296, -5.3282, -5.3294, -5.3296, -5.3282, -5.329, -5.3296, -5.3296, -5.3292, -5.3296, -5.3296, -5.329, -5.329, -5.3296, -5.3292, -5.329, -5.3294, -5.3295, -5.3295, -5.3296, -5.3293, -5.3293, -5.3296, -5.3284, -5.3287, -5.3266, -5.3228, -5.3276, -5.3278, -5.3282, -5.3285, -5.3285, -5.3285, -5.3287, -5.3287, -5.3288, -5.3288, -5.3289, -5.3289, -5.3289, -5.3289, -5.329, -5.329, -5.329], \"loglift\": [30.0, 29.0, 28.0, 27.0, 26.0, 25.0, 24.0, 23.0, 22.0, 21.0, 20.0, 19.0, 18.0, 17.0, 16.0, 15.0, 14.0, 13.0, 12.0, 11.0, 10.0, 9.0, 8.0, 7.0, 6.0, 5.0, 4.0, 3.0, 2.0, 1.0, 0.2368, 0.233, 0.2321, 0.2295, 0.2268, 0.2264, 0.226, 0.2228, 0.2226, 0.2224, 0.2224, 0.2192, 0.2165, 0.2159, 0.2095, 0.2093, 0.2092, 0.2072, 0.2066, 0.2031, 0.203, 0.2015, 0.2013, 0.2012, 0.1999, 0.1997, 0.1991, 0.1978, 0.1976, 0.1976, 1.9591, 1.9459, 1.9355, 1.9355, 1.9279, 1.9279, 1.9158, 1.909, 1.9005, 1.8956, 1.8942, 1.8925, 1.8915, 1.8903, 1.877, 1.8643, 1.8599, 1.8596, 1.8567, 1.8557, 1.8481, 1.8412, 1.8018, 0.4258, 0.0475, -0.0671, -0.3644, -0.5564, -0.5934, -0.6079, -1.9952, -1.0131, -1.3849, -1.0723, -2.3665, 2.9769, 2.9269, 2.9245, 2.8656, 2.8141, 2.8022, 2.7762, 2.7532, 2.3341, 1.2855, 0.4128, 0.1786, 0.134, -0.0381, -0.0448, -0.0512, -0.064, -0.0808, -0.0948, -0.1444, -0.1719, -0.1928, -0.1938, -0.2411, -0.2414, -0.2504, -0.2661, -0.2708, -0.2716, -0.28, -0.2874, -0.2873, -0.4881, -0.4115, -0.3629, -0.733, -0.5257, -1.9209, -1.7176, -0.8928, -1.261, -1.2716, -0.8541, -0.4306, 3.7434, 3.7077, 3.6341, 0.8346, 0.6524, 0.605, 0.5796, 0.5559, 0.5397, 0.5007, 0.4605, 0.3812, 0.3577, 0.3395, 0.326, 0.2769, 0.2481, 0.2429, 0.216, 0.1809, 0.1799, 0.1712, 0.1565, 0.1524, 0.1463, 0.1398, 0.1312, 0.1273, 0.1186, 0.1131, 0.1131, 0.0887, 0.1014, -0.3722, -0.6678, -0.3437, -1.2078, -1.277, -0.1111, -0.3197, -0.1079, -0.1692, -0.7235, -1.4679, -0.6533, -0.4125, -0.2071, -0.5046, -0.254, -0.5868, -0.1587, -0.7275, 3.9967, 3.8697, 0.869, 0.6864, 0.6401, 0.6304, 0.6147, 0.5351, 0.494, 0.4163, 0.4085, 0.4023, 0.3931, 0.3755, 0.3616, 0.3112, 0.283, 0.2782, 0.2635, 0.251, 0.216, 0.2151, 0.2063, 0.191, 0.1857, 0.175, 0.1663, 0.1621, 0.1539, 0.1496, 0.1243, 0.0914, -0.0718, -0.4176, -1.1523, -0.4878, -0.1697, -1.149, -0.0988, -1.6108, -0.5511, -0.2184, 0.0379, -1.0047, -0.8522, -0.1232, -0.2089, -0.5073, -0.0623, -1.243, -0.4854, -0.5703, -1.641, 3.8039, 3.7343, 3.2645, 0.7601, 0.7052, 0.6884, 0.6653, 0.609, 0.5677, 0.4913, 0.4828, 0.4751, 0.4664, 0.4484, 0.4345, 0.3848, 0.3572, 0.3523, 0.3364, 0.3251, 0.2903, 0.2882, 0.28, 0.2648, 0.2594, 0.2489, 0.2403, 0.2358, 0.228, 0.2228, 0.1809, -0.3201, 0.1517, -0.446, -0.4961, -0.2675, -0.64, 0.1, -0.0985, 0.1478, -0.5619, -0.3041, 0.195, 0.0001, 0.1974, -0.1637, -0.2556, -0.0509, -0.0007]}, \"token.table\": {\"Topic\": [1, 1, 6, 2, 1, 1, 1, 3, 2, 2, 1, 1, 1, 1, 1, 1, 1, 2, 3, 1, 3, 1, 2, 1, 2, 1, 1, 2, 1, 1, 1, 1, 4, 1, 1, 1, 1, 1, 1, 3, 1, 1, 1, 4, 5, 2, 1, 3, 1, 1, 2, 1, 1, 2, 3, 1, 1, 2, 1, 1, 2, 2, 1, 1, 1, 1, 6, 1, 1, 1, 1, 1, 1, 2, 1, 1, 3, 2, 2, 3, 1, 2, 1, 5, 1, 1, 1, 1, 2, 1, 1, 4, 2, 1, 2, 1, 2, 1, 1, 3, 6, 1, 1, 1, 1, 2, 1, 1, 2, 1, 1, 2, 2, 1, 1, 1, 1, 1, 2, 1], \"Freq\": [0.99740858610895, 0.9623034604613786, 0.47093661190698094, 0.8803812585107925, 0.9682547511581332, 0.8154981059641655, 0.9467472379726227, 0.989282245128918, 0.8680579712122236, 0.9221497137167952, 0.9236561406000285, 0.9741499585345487, 0.802150825080848, 0.9204524803047367, 0.990740437195738, 0.8850231789387988, 0.9810847485311751, 0.896113808478289, 0.9277569834170987, 0.6783814352617047, 0.49362980586550476, 0.8430260973464558, 0.8355704050629424, 0.9446583070254828, 0.7477291403463925, 0.7535823776241929, 0.8766886939485882, 0.8640967052435241, 0.8990444586109325, 0.8056087159762055, 0.9422877815819347, 0.9032569143862056, 0.9694359945151273, 0.9524832703882445, 0.877021392241465, 0.902689000537235, 0.9162419143177069, 0.9971331279092487, 0.7225911345139074, 0.8144817318798321, 0.9602243338008626, 0.9476534802770471, 0.9195168886350557, 0.742434544725239, 0.8540348466942033, 0.9453649489503507, 0.7628469387284661, 0.8850725272543916, 0.9379949849720937, 0.9023817673580855, 0.9114593745196298, 0.8880084034363119, 0.9676991712788071, 0.9581212524769845, 0.9425046777961162, 0.9409379208599538, 0.7157205441064235, 0.23857351470214117, 0.9119854405811005, 0.7277745405084967, 0.18194363512712416, 0.8966885267243943, 0.8043785124993605, 0.9993824749531526, 0.9363021080276045, 0.7645761413617295, 0.5924063058442767, 0.9313690129632212, 0.882358515506936, 0.850880524544037, 0.8975892163456979, 0.8932810980362317, 0.9758717115713025, 0.9988496529536879, 0.8435394010878697, 0.9824992792124044, 0.9189903659445428, 0.8410430410322801, 0.9022808265667126, 0.8486278413634489, 0.8645750811846463, 0.925220018620029, 0.8805577762795894, 0.8967227900556634, 0.9492564419375951, 0.8986476224578445, 0.9791911286282097, 0.8060845421278167, 0.20152113553195417, 0.9330888980633838, 0.9354177052211874, 0.9334977797016238, 0.916621234361554, 0.8359607618504943, 0.8610435617124005, 0.9843781554616229, 0.9353447642051542, 0.972757934476595, 0.997085454159487, 0.5671023598271346, 0.2835511799135673, 0.9472531572125945, 0.9227505545203891, 0.9713339914701231, 0.9867758030370922, 0.9329109564856487, 0.9218352337624744, 0.7128844388824056, 0.8688489151832779, 0.9938079521046954, 0.9974297088554146, 0.9759390882553003, 0.7730482100775891, 0.7360209850544335, 0.8431524474815497, 0.8273568170257417, 0.8775576134838823, 0.9310506573217029, 0.805311778964887, 1.0009205226433808], \"Term\": [\"access\", \"account\", \"add\", \"almost\", \"already\", \"also\", \"always\", \"amount\", \"annoying\", \"anything\", \"asked\", \"bank\", \"better\", \"bills\", \"cannot\", \"card\", \"cash\", \"customer_service\", \"data\", \"day\", \"deducted\", \"easy\", \"email\", \"error\", \"especially\", \"ever\", \"everytime\", \"experience\", \"fee\", \"first\", \"fix\", \"fully_verified\", \"gcredit\", \"get\", \"give\", \"go\", \"going\", \"good\", \"got\", \"happened\", \"hope\", \"id\", \"information\", \"ios\", \"iphone\", \"keeps\", \"know\", \"load\", \"log\", \"long\", \"longer\", \"message\", \"money\", \"month\", \"much\", \"need\", \"never\", \"never\", \"new\", \"nothing\", \"nothing\", \"number\", \"online\", \"open\", \"option\", \"options\", \"pandemic\", \"pay\", \"paying\", \"payment\", \"paypal\", \"people\", \"phone\", \"poor\", \"possible\", \"really\", \"reason\", \"receive\", \"received\", \"said\", \"say\", \"saying\", \"says\", \"sent\", \"service\", \"services\", \"since\", \"something\", \"something\", \"soon\", \"still\", \"student_id\", \"system\", \"takes\", \"thank\", \"thing\", \"ticket\", \"time\", \"transaction\", \"transactions\", \"transactions\", \"transfer\", \"try\", \"update\", \"updated\", \"us\", \"use\", \"used\", \"users\", \"using\", \"verification\", \"verify\", \"wait\", \"well\", \"whenever\", \"without\", \"work\", \"working\", \"wrong\", \"yet\"]}, \"R\": 30, \"lambda.step\": 0.01, \"plot.opts\": {\"xlab\": \"PC1\", \"ylab\": \"PC2\"}, \"topic.order\": [5, 6, 2, 3, 1, 4]};\n",
              "\n",
              "function LDAvis_load_lib(url, callback){\n",
              "  var s = document.createElement('script');\n",
              "  s.src = url;\n",
              "  s.async = true;\n",
              "  s.onreadystatechange = s.onload = callback;\n",
              "  s.onerror = function(){console.warn(\"failed to load library \" + url);};\n",
              "  document.getElementsByTagName(\"head\")[0].appendChild(s);\n",
              "}\n",
              "\n",
              "if(typeof(LDAvis) !== \"undefined\"){\n",
              "   // already loaded: just create the visualization\n",
              "   !function(LDAvis){\n",
              "       new LDAvis(\"#\" + \"ldavis_el1581406189484233768942577756\", ldavis_el1581406189484233768942577756_data);\n",
              "   }(LDAvis);\n",
              "}else if(typeof define === \"function\" && define.amd){\n",
              "   // require.js is available: use it to load d3/LDAvis\n",
              "   require.config({paths: {d3: \"https://d3js.org/d3.v5\"}});\n",
              "   require([\"d3\"], function(d3){\n",
              "      window.d3 = d3;\n",
              "      LDAvis_load_lib(\"https://cdn.jsdelivr.net/gh/bmabey/pyLDAvis@3.3.1/pyLDAvis/js/ldavis.v3.0.0.js\", function(){\n",
              "        new LDAvis(\"#\" + \"ldavis_el1581406189484233768942577756\", ldavis_el1581406189484233768942577756_data);\n",
              "      });\n",
              "    });\n",
              "}else{\n",
              "    // require.js not available: dynamically load d3 & LDAvis\n",
              "    LDAvis_load_lib(\"https://d3js.org/d3.v5.js\", function(){\n",
              "         LDAvis_load_lib(\"https://cdn.jsdelivr.net/gh/bmabey/pyLDAvis@3.3.1/pyLDAvis/js/ldavis.v3.0.0.js\", function(){\n",
              "                 new LDAvis(\"#\" + \"ldavis_el1581406189484233768942577756\", ldavis_el1581406189484233768942577756_data);\n",
              "            })\n",
              "         });\n",
              "}\n",
              "</script>"
            ],
            "text/plain": [
              "PreparedData(topic_coordinates=              x         y  topics  cluster       Freq\n",
              "topic                                                \n",
              "4     -0.173125  0.094849       1        1  77.068776\n",
              "5      0.275635  0.039628       2        1  13.338396\n",
              "1     -0.035149 -0.196878       3        1   4.695067\n",
              "2     -0.022593  0.036309       4        1   1.925313\n",
              "0     -0.022743  0.037857       5        1   1.528813\n",
              "3     -0.022025 -0.011765       6        1   1.443635, topic_info=         Term      Freq     Total Category  logprob  loglift\n",
              "140      load  6.000000  6.000000  Default  30.0000  30.0000\n",
              "134    verify  9.000000  9.000000  Default  29.0000  29.0000\n",
              "118    iphone  3.000000  3.000000  Default  28.0000  28.0000\n",
              "54     ticket  7.000000  7.000000  Default  27.0000  27.0000\n",
              "146      data  4.000000  4.000000  Default  26.0000  26.0000\n",
              "..        ...       ...       ...      ...      ...      ...\n",
              "85       easy  0.062583  3.558609   Topic6  -5.3289   0.1974\n",
              "15      since  0.062583  5.106255   Topic6  -5.3289  -0.1637\n",
              "94     people  0.062577  5.597342   Topic6  -5.3290  -0.2556\n",
              "28       give  0.062576  4.560892   Topic6  -5.3290  -0.0509\n",
              "126  anything  0.062575  4.337690   Topic6  -5.3290  -0.0007\n",
              "\n",
              "[293 rows x 6 columns], token_table=      Topic      Freq     Term\n",
              "term                          \n",
              "70        1  0.997409   access\n",
              "0         1  0.962303  account\n",
              "127       6  0.470937      add\n",
              "105       2  0.880381   almost\n",
              "1         1  0.968255  already\n",
              "...     ...       ...      ...\n",
              "135       1  0.827357  without\n",
              "111       1  0.877558     work\n",
              "112       1  0.931051  working\n",
              "39        2  0.805312    wrong\n",
              "142       1  1.000921      yet\n",
              "\n",
              "[120 rows x 3 columns], R=30, lambda_step=0.01, plot_opts={'xlab': 'PC1', 'ylab': 'PC2'}, topic_order=[5, 6, 2, 3, 1, 4])"
            ]
          },
          "metadata": {
            "tags": []
          },
          "execution_count": 76
        }
      ]
    },
    {
      "cell_type": "code",
      "metadata": {
        "id": "9CUevpbMaJ8H",
        "colab": {
          "base_uri": "https://localhost:8080/",
          "height": 861
        },
        "outputId": "5be533a7-65ca-4899-b75a-e3920743b8b9"
      },
      "source": [
        "# Visualize the topics\n",
        "pyLDAvis.enable_notebook()\n",
        "vis = pyLDAvis.gensim_models.prepare(lda_model2, b_corpus, b_id2word)\n",
        "vis"
      ],
      "execution_count": 77,
      "outputs": [
        {
          "output_type": "execute_result",
          "data": {
            "text/html": [
              "\n",
              "<link rel=\"stylesheet\" type=\"text/css\" href=\"https://cdn.jsdelivr.net/gh/bmabey/pyLDAvis@3.3.1/pyLDAvis/js/ldavis.v1.0.0.css\">\n",
              "\n",
              "\n",
              "<div id=\"ldavis_el1581406189491647522142073680\"></div>\n",
              "<script type=\"text/javascript\">\n",
              "\n",
              "var ldavis_el1581406189491647522142073680_data = {\"mdsDat\": {\"x\": [0.26817298157799474, -0.31570920466543706, 0.011569653589548465, 0.012207545104825714, 0.01210138733717974, 0.011657637055888579], \"y\": [-0.1823314085370464, -0.14273016972732971, 0.1701403050910751, 0.06641647071003197, 0.05436791613311399, 0.03413688633015545], \"topics\": [1, 2, 3, 4, 5, 6], \"cluster\": [1, 1, 1, 1, 1, 1], \"Freq\": [66.58012019975146, 29.508046876142842, 2.049395644675921, 1.0883707740973085, 0.49434100445453, 0.27972550087790127]}, \"tinfo\": {\"Term\": [\"bank\", \"okay\", \"want\", \"thing\", \"asked\", \"years\", \"go\", \"amount\", \"store\", \"send\", \"way\", \"error\", \"account\", \"said\", \"customer_service\", \"via\", \"address\", \"ever\", \"kwenta\", \"paypal\", \"possible\", \"new\", \"think\", \"much\", \"since\", \"know\", \"anymore\", \"accounts\", \"errors\", \"two\", \"want\", \"send\", \"way\", \"error\", \"account\", \"customer_service\", \"via\", \"address\", \"ever\", \"kwenta\", \"paypal\", \"possible\", \"think\", \"know\", \"accounts\", \"errors\", \"two\", \"application\", \"make\", \"back\", \"days\", \"immediately\", \"getting\", \"people\", \"purchase\", \"month\", \"weeks\", \"well\", \"funds\", \"thru\", \"bank\", \"okay\", \"asked\", \"years\", \"go\", \"amount\", \"store\", \"said\", \"new\", \"much\", \"anymore\", \"right\", \"giving\", \"answer\", \"pandemic\", \"features\", \"banks\", \"removed\", \"though\", \"withdraw\", \"php\", \"problems\", \"everything\", \"customer\", \"pay_bills\", \"save\", \"balance\", \"wallet\", \"user\", \"hotline\", \"limit\", \"since\", \"transaction\", \"use\", \"thing\", \"made\", \"email\", \"name\", \"sent\", \"phone\", \"today\", \"tried\", \"verification\", \"verified\", \"could\", \"especially\", \"great\", \"issues\", \"load\", \"lost\", \"response\", \"sending\", \"asking\", \"automatically\", \"data\", \"hope\", \"information\", \"next\", \"submitted\", \"trying\", \"yet\", \"add\", \"contact\", \"long\", \"nothing\", \"pesos\", \"first\", \"resolve\", \"useful\", \"good\", \"puro\", \"convenient\", \"funds\", \"getting\", \"balance\", \"wala\", \"pandemic\", \"address\", \"fully_verified\", \"payment\", \"everything\", \"though\", \"time\", \"option\", \"receive\", \"credited\", \"since\", \"experience\", \"easy\", \"told\", \"nothing\", \"linked\", \"sent\", \"phone\", \"today\", \"tried\", \"verification\", \"verified\", \"could\", \"especially\", \"great\", \"issues\", \"load\", \"lost\", \"response\", \"sending\", \"asking\", \"automatically\", \"data\", \"hope\", \"information\", \"next\", \"submitted\", \"trying\", \"yet\", \"add\", \"contact\", \"long\", \"message\", \"service\", \"experience\", \"thing\", \"reply\", \"time\", \"weeks\", \"email\", \"money\", \"resolve\", \"store\", \"number\", \"everything\", \"get\", \"way\", \"payment\", \"pandemic\", \"people\", \"want\", \"always\", \"since\", \"made\", \"pesos\", \"name\", \"need\", \"option\", \"pay_bills\", \"send\", \"said\", \"wallet\", \"resolve\", \"sent\", \"phone\", \"today\", \"tried\", \"verification\", \"verified\", \"could\", \"especially\", \"great\", \"issues\", \"load\", \"lost\", \"response\", \"sending\", \"asking\", \"automatically\", \"data\", \"hope\", \"information\", \"next\", \"submitted\", \"trying\", \"yet\", \"add\", \"contact\", \"long\", \"message\", \"service\", \"showing\", \"support\", \"save\", \"users\", \"limit\", \"anymore\", \"much\", \"since\", \"really\", \"think\", \"last\", \"loading\", \"linked\", \"things\", \"pay\", \"banks\", \"back\", \"wallet\", \"ever\", \"hard\", \"problems\", \"removed\", \"system\", \"thru\", \"go\", \"make\", \"useful\", \"sana\", \"helpful\", \"getting\", \"sent\", \"phone\", \"today\", \"tried\", \"verification\", \"verified\", \"could\", \"especially\", \"great\", \"issues\", \"load\", \"lost\", \"response\", \"sending\", \"asking\", \"automatically\", \"data\", \"hope\", \"information\", \"next\", \"submitted\", \"trying\", \"yet\", \"add\", \"contact\", \"long\", \"message\", \"service\", \"showing\", \"waiting\", \"account\", \"accounts\", \"amount\", \"asked\", \"bank\", \"cash\", \"convenient\", \"customer_service\", \"day\", \"easy\", \"error\", \"errors\", \"fully_verified\", \"funds\", \"hassle\", \"issue\", \"kwenta\", \"last\", \"limit\", \"makapag\", \"month\", \"okay\", \"paypal\", \"puro\", \"resolve\", \"sana\", \"since\", \"support\", \"thru\", \"transaction\"], \"Freq\": [52.0, 51.0, 118.0, 10.0, 33.0, 29.0, 28.0, 26.0, 25.0, 55.0, 54.0, 47.0, 47.0, 22.0, 43.0, 43.0, 38.0, 37.0, 35.0, 33.0, 33.0, 19.0, 31.0, 19.0, 29.0, 30.0, 18.0, 27.0, 26.0, 24.0, 118.36992923122055, 55.384661036701765, 54.339154458017, 47.644364913359205, 46.74740742970084, 43.64431724186846, 43.55375299180625, 37.84490069484736, 36.96891434971112, 35.63192165534976, 33.02155860552929, 32.96294956910201, 31.478760665283545, 30.09046282193169, 27.410978334663163, 26.19799920935626, 23.69670867501693, 23.092936181085136, 22.50905731869281, 22.19509042496008, 21.653385440064365, 19.07370945018234, 18.987328130241515, 18.232530958399185, 17.916133672114494, 17.57659187476993, 17.61888720128425, 17.19683350619082, 15.405847437277792, 14.89917625739601, 52.2300561019215, 50.99482328513014, 32.8528147671318, 29.01673789075507, 27.66839594368221, 26.341076072018243, 25.338382909193186, 22.254319020249362, 19.228897633910982, 19.13533600449796, 18.210409749905185, 12.844914925358522, 11.675424599961415, 11.4182302599612, 11.43017581585182, 9.997182274661906, 9.753667179634203, 9.35789475274256, 9.264954622700772, 8.582610275258045, 8.513970582867373, 8.210755247130109, 8.123160136857047, 7.884096930074654, 7.794481477434677, 7.701496283994371, 7.318177627987751, 7.221177410915551, 7.171270322936817, 6.725759795810885, 17.89082513465607, 21.988988233294414, 10.7945853702526, 7.734569689104295, 10.27346535356334, 4.256923476580852, 3.9369892227608596, 3.8161677590655527, 0.07277245159642826, 0.07277245159642826, 0.07277245159642826, 0.07277245159642826, 0.07277245159642826, 0.07277245159642826, 0.07277245159642826, 0.07277245159642826, 0.07277245159642826, 0.07277245159642826, 0.07277245159642826, 0.07277245159642826, 0.07277245159642826, 0.07277245159642826, 0.07277245159642826, 0.07277245159642826, 0.07277245159642826, 0.07277245159642826, 0.07277245159642826, 0.07277245159642826, 0.07277245159642826, 0.07277245159642826, 0.07277245159642826, 0.07277245159642826, 0.07277245159642826, 0.07277245159642826, 0.07314635317119057, 0.07305323231919637, 0.07303252491069188, 0.07303021563527483, 0.07299820092761058, 0.0729915610815879, 0.07299026245376512, 0.07294598956882822, 0.07293224802169943, 0.07292288594747921, 0.07292096245689654, 0.07291932151295312, 0.07291608852736924, 0.07291519741873771, 0.07290834022914636, 0.07290133633264616, 0.07289985296279002, 0.07289761975762199, 0.07289011597091387, 0.07288727420375357, 0.07288335115233918, 0.0728811940174202, 0.0728800149285602, 0.07287879237098646, 0.0728783522502599, 0.07287757524700193, 3.6967171327260786, 1.5295781813462845, 0.0580383220165168, 0.0580383220165168, 0.0580383220165168, 0.0580383220165168, 0.0580383220165168, 0.0580383220165168, 0.0580383220165168, 0.0580383220165168, 0.0580383220165168, 0.0580383220165168, 0.0580383220165168, 0.0580383220165168, 0.0580383220165168, 0.0580383220165168, 0.0580383220165168, 0.0580383220165168, 0.0580383220165168, 0.0580383220165168, 0.0580383220165168, 0.0580383220165168, 0.0580383220165168, 0.0580383220165168, 0.0580383220165168, 0.0580383220165168, 0.0580383220165168, 0.0580383220165168, 0.0580383220165168, 0.0580383220165168, 0.05833458198107862, 0.05810383694069387, 0.0580911229362927, 0.058087844881594616, 0.05808419169739764, 0.05808285854487078, 0.05807551177791541, 0.05807084862968293, 0.05807027150737693, 0.05807010414190819, 0.05806872481959685, 0.05806812461239862, 0.058065487163460196, 0.05806328832747434, 0.058063224844020676, 0.0580626592641608, 0.05806183397926322, 0.058060795159112416, 0.05806070281954346, 0.05806010838356828, 0.05805979673752304, 0.05805872906125694, 0.05805838278787334, 0.058057297797938064, 0.05805702655045424, 0.058056807243977965, 0.05805666873462452, 0.05805654753894026, 1.6030860433040992, 0.028565473926859333, 0.028565473926859333, 0.028565473926859333, 0.028565473926859333, 0.028565473926859333, 0.028565473926859333, 0.028565473926859333, 0.028565473926859333, 0.028565473926859333, 0.028565473926859333, 0.028565473926859333, 0.028565473926859333, 0.028565473926859333, 0.028565473926859333, 0.028565473926859333, 0.028565473926859333, 0.028565473926859333, 0.028565473926859333, 0.028565473926859333, 0.028565473926859333, 0.028565473926859333, 0.028565473926859333, 0.028565473926859333, 0.028565473926859333, 0.028565473926859333, 0.028565473926859333, 0.028565473926859333, 0.028565473926859333, 0.028565473926859333, 0.02860138843235957, 0.02858894771685675, 0.02857872986834643, 0.02857871151920852, 0.028573809678081197, 0.028572189711334305, 0.028572142527836825, 0.028570928863429365, 0.028570048104809696, 0.028570029755671786, 0.02856972306293815, 0.02856917258880086, 0.028568884245205133, 0.028568816091264326, 0.028568787256904753, 0.028568567067249837, 0.02856846745764404, 0.02856838357587074, 0.028568249889294538, 0.028568053291388364, 0.02856786717870385, 0.02856786193609302, 0.02856781213129012, 0.02856749757464024, 0.028567298355428646, 0.028567245929320334, 0.028567219716266176, 0.028567038846192494, 0.028567002147916676, 0.018792444626511275, 0.018792444626511275, 0.018792444626511275, 0.018792444626511275, 0.018792444626511275, 0.018792444626511275, 0.018792444626511275, 0.018792444626511275, 0.018792444626511275, 0.018792444626511275, 0.018792444626511275, 0.018792444626511275, 0.018792444626511275, 0.018792444626511275, 0.018792444626511275, 0.018792444626511275, 0.018792444626511275, 0.018792444626511275, 0.018792444626511275, 0.018792444626511275, 0.018792444626511275, 0.018792444626511275, 0.018792444626511275, 0.018792444626511275, 0.018792444626511275, 0.018792444626511275, 0.018792444626511275, 0.018792444626511275, 0.018792444626511275, 0.018792444626511275, 0.018792444626511275, 0.018792444626511275, 0.018792444626511275, 0.018792444626511275, 0.018792444626511275, 0.018792444626511275, 0.018792444626511275, 0.018792444626511275, 0.018792444626511275, 0.018792444626511275, 0.018792444626511275, 0.018792444626511275, 0.018792444626511275, 0.018792444626511275, 0.018792444626511275, 0.018792444626511275, 0.018792444626511275, 0.018792444626511275, 0.018792444626511275, 0.018792444626511275, 0.018792444626511275, 0.018792444626511275, 0.018792444626511275, 0.018792444626511275, 0.018792444626511275, 0.018792444626511275, 0.018792444626511275, 0.018792444626511275, 0.018792444626511275, 0.018792444626511275], \"Total\": [52.0, 51.0, 118.0, 10.0, 33.0, 29.0, 28.0, 26.0, 25.0, 55.0, 54.0, 47.0, 47.0, 22.0, 43.0, 43.0, 38.0, 37.0, 35.0, 33.0, 33.0, 19.0, 31.0, 19.0, 29.0, 30.0, 18.0, 27.0, 26.0, 24.0, 118.7148669736495, 55.729431520144395, 54.68450015412016, 47.98939624085184, 47.09244645398232, 43.98940377246357, 43.898699728644615, 38.19168460706065, 37.314604600340644, 35.97706885276022, 33.36637870132558, 33.30780591283259, 31.82363841776883, 30.435361060926788, 27.756132574039906, 26.542754046755928, 24.042758486896542, 23.437479318471976, 22.853708004150928, 22.540250150926376, 21.998570376697828, 19.419080150117182, 19.33294332932739, 18.57736553559776, 18.260958670127014, 17.921500305407665, 17.96486904375993, 17.542162445464534, 15.752252046202972, 15.244212223613625, 52.58454339336231, 51.34898900618805, 33.20769308241714, 29.371411337575932, 28.02304839633767, 26.6956751901399, 25.693949513874404, 22.609091004806807, 19.583922715985125, 19.489844867178636, 18.565253821336636, 13.199171635766152, 12.030355046446976, 11.772302923191312, 11.786109792292685, 10.351825257559273, 10.108346336009232, 9.713417721231375, 9.619431173388046, 8.937501117408713, 8.868886225099184, 8.565117999279822, 8.477650932305963, 8.238851753444882, 8.149404767365565, 8.056555371055735, 7.673158569011993, 7.575025060677423, 7.525489178784122, 7.080471101972585, 21.373673253992276, 29.862039925010013, 13.401902696110861, 9.903043572214955, 10.728016726779332, 4.711537775048743, 4.389828405798011, 4.267932992379451, 0.5175706817748538, 0.5175706817748538, 0.5175706817748538, 0.5175706817748538, 0.5175706817748538, 0.5175706817748538, 0.5175706817748538, 0.5175706817748538, 0.5175706817748538, 0.5175706817748538, 0.5175706817748538, 0.5175706817748538, 0.5175706817748538, 0.5175706817748538, 0.5175706817748538, 0.5175706817748538, 0.5175706817748538, 0.5175706817748538, 0.5175706817748538, 0.5175706817748538, 0.5175706817748538, 0.5175706817748538, 0.5175706817748538, 0.5175706817748538, 0.5175706817748538, 0.5175706817748538, 4.167036857126928, 6.089799860641857, 7.598171442558641, 2.123947954116562, 5.215169543519004, 3.8899393134870284, 8.736065225923216, 9.113411043827403, 15.752252046202972, 19.33294332932739, 7.673158569011993, 8.021181568982696, 11.786109792292685, 38.19168460706065, 8.9184757010597, 5.22433445799904, 8.477650932305963, 9.619431173388046, 7.17264372567606, 8.867225304970102, 5.479243206505182, 11.687129400639872, 29.862039925010013, 3.194890617149506, 13.861660629724843, 12.452034816714761, 4.167036857126928, 1.9976725635662795, 0.5175706817748538, 0.5175706817748538, 0.5175706817748538, 0.5175706817748538, 0.5175706817748538, 0.5175706817748538, 0.5175706817748538, 0.5175706817748538, 0.5175706817748538, 0.5175706817748538, 0.5175706817748538, 0.5175706817748538, 0.5175706817748538, 0.5175706817748538, 0.5175706817748538, 0.5175706817748538, 0.5175706817748538, 0.5175706817748538, 0.5175706817748538, 0.5175706817748538, 0.5175706817748538, 0.5175706817748538, 0.5175706817748538, 0.5175706817748538, 0.5175706817748538, 0.5175706817748538, 0.5175706817748538, 0.5175706817748538, 3.194890617149506, 10.728016726779332, 4.471305141295118, 7.17264372567606, 17.96486904375993, 4.389828405798011, 4.281242428595533, 2.123947954116562, 25.693949513874404, 11.84372254141456, 8.477650932305963, 9.802550266104094, 54.68450015412016, 5.22433445799904, 11.786109792292685, 18.57736553559776, 118.7148669736495, 6.846045115312044, 29.862039925010013, 4.711537775048743, 6.089799860641857, 4.267932992379451, 5.700869059873803, 8.867225304970102, 8.149404767365565, 55.729431520144395, 22.609091004806807, 7.575025060677423, 2.123947954116562, 0.5175706817748538, 0.5175706817748538, 0.5175706817748538, 0.5175706817748538, 0.5175706817748538, 0.5175706817748538, 0.5175706817748538, 0.5175706817748538, 0.5175706817748538, 0.5175706817748538, 0.5175706817748538, 0.5175706817748538, 0.5175706817748538, 0.5175706817748538, 0.5175706817748538, 0.5175706817748538, 0.5175706817748538, 0.5175706817748538, 0.5175706817748538, 0.5175706817748538, 0.5175706817748538, 0.5175706817748538, 0.5175706817748538, 0.5175706817748538, 0.5175706817748538, 0.5175706817748538, 0.5175706817748538, 0.5175706817748538, 0.5175706817748538, 8.709582978747983, 8.056555371055735, 14.577587321759854, 21.373673253992276, 18.565253821336636, 19.489844867178636, 29.862039925010013, 8.817137765555387, 31.82363841776883, 11.470470840794357, 5.5169753330720175, 1.9976725635662795, 7.914315360668759, 7.011917026622421, 10.108346336009232, 22.540250150926376, 7.575025060677423, 37.314604600340644, 12.546214277654553, 8.565117999279822, 9.713417721231375, 7.189399366238683, 15.244212223613625, 28.02304839633767, 22.853708004150928, 5.215169543519004, 4.250415062660877, 11.642550006085724, 19.33294332932739, 0.5175706817748538, 0.5175706817748538, 0.5175706817748538, 0.5175706817748538, 0.5175706817748538, 0.5175706817748538, 0.5175706817748538, 0.5175706817748538, 0.5175706817748538, 0.5175706817748538, 0.5175706817748538, 0.5175706817748538, 0.5175706817748538, 0.5175706817748538, 0.5175706817748538, 0.5175706817748538, 0.5175706817748538, 0.5175706817748538, 0.5175706817748538, 0.5175706817748538, 0.5175706817748538, 0.5175706817748538, 0.5175706817748538, 0.5175706817748538, 0.5175706817748538, 0.5175706817748538, 0.5175706817748538, 0.5175706817748538, 0.5175706817748538, 0.5175706817748538, 47.09244645398232, 27.756132574039906, 26.6956751901399, 33.20769308241714, 52.58454339336231, 5.145605805817038, 9.113411043827403, 43.98940377246357, 5.684723387277035, 13.861660629724843, 47.98939624085184, 26.542754046755928, 8.9184757010597, 15.752252046202972, 2.4413259689426616, 13.177770583137438, 35.97706885276022, 11.470470840794357, 21.373673253992276, 13.662158885835181, 17.921500305407665, 51.34898900618805, 33.36637870132558, 8.736065225923216, 2.123947954116562, 4.250415062660877, 29.862039925010013, 8.709582978747983, 15.244212223613625, 13.401902696110861], \"Category\": [\"Default\", \"Default\", \"Default\", \"Default\", \"Default\", \"Default\", \"Default\", \"Default\", \"Default\", \"Default\", \"Default\", \"Default\", \"Default\", \"Default\", \"Default\", \"Default\", \"Default\", \"Default\", \"Default\", \"Default\", \"Default\", \"Default\", \"Default\", \"Default\", \"Default\", \"Default\", \"Default\", \"Default\", \"Default\", \"Default\", \"Topic1\", \"Topic1\", \"Topic1\", \"Topic1\", \"Topic1\", \"Topic1\", \"Topic1\", \"Topic1\", \"Topic1\", \"Topic1\", \"Topic1\", \"Topic1\", \"Topic1\", \"Topic1\", \"Topic1\", \"Topic1\", \"Topic1\", \"Topic1\", \"Topic1\", \"Topic1\", \"Topic1\", \"Topic1\", \"Topic1\", \"Topic1\", \"Topic1\", \"Topic1\", \"Topic1\", \"Topic1\", \"Topic1\", \"Topic1\", \"Topic2\", \"Topic2\", \"Topic2\", \"Topic2\", \"Topic2\", \"Topic2\", \"Topic2\", \"Topic2\", \"Topic2\", \"Topic2\", \"Topic2\", \"Topic2\", \"Topic2\", \"Topic2\", \"Topic2\", \"Topic2\", \"Topic2\", \"Topic2\", \"Topic2\", \"Topic2\", \"Topic2\", \"Topic2\", \"Topic2\", \"Topic2\", \"Topic2\", \"Topic2\", \"Topic2\", \"Topic2\", \"Topic2\", \"Topic2\", \"Topic2\", \"Topic2\", \"Topic2\", \"Topic2\", \"Topic3\", \"Topic3\", \"Topic3\", \"Topic3\", \"Topic3\", \"Topic3\", \"Topic3\", \"Topic3\", \"Topic3\", \"Topic3\", \"Topic3\", \"Topic3\", \"Topic3\", \"Topic3\", \"Topic3\", \"Topic3\", \"Topic3\", \"Topic3\", \"Topic3\", \"Topic3\", \"Topic3\", \"Topic3\", \"Topic3\", \"Topic3\", \"Topic3\", \"Topic3\", \"Topic3\", \"Topic3\", \"Topic3\", \"Topic3\", \"Topic3\", \"Topic3\", \"Topic3\", \"Topic3\", \"Topic3\", \"Topic3\", \"Topic3\", \"Topic3\", \"Topic3\", \"Topic3\", \"Topic3\", \"Topic3\", \"Topic3\", \"Topic3\", \"Topic3\", \"Topic3\", \"Topic3\", \"Topic3\", \"Topic3\", \"Topic3\", \"Topic3\", \"Topic3\", \"Topic3\", \"Topic3\", \"Topic3\", \"Topic3\", \"Topic4\", \"Topic4\", \"Topic4\", \"Topic4\", \"Topic4\", \"Topic4\", \"Topic4\", \"Topic4\", \"Topic4\", \"Topic4\", \"Topic4\", \"Topic4\", \"Topic4\", \"Topic4\", \"Topic4\", \"Topic4\", \"Topic4\", \"Topic4\", \"Topic4\", \"Topic4\", \"Topic4\", \"Topic4\", \"Topic4\", \"Topic4\", \"Topic4\", \"Topic4\", \"Topic4\", \"Topic4\", \"Topic4\", \"Topic4\", \"Topic4\", \"Topic4\", \"Topic4\", \"Topic4\", \"Topic4\", \"Topic4\", \"Topic4\", \"Topic4\", \"Topic4\", \"Topic4\", \"Topic4\", \"Topic4\", \"Topic4\", \"Topic4\", \"Topic4\", \"Topic4\", \"Topic4\", \"Topic4\", \"Topic4\", \"Topic4\", \"Topic4\", \"Topic4\", \"Topic4\", \"Topic4\", \"Topic4\", \"Topic4\", \"Topic4\", \"Topic4\", \"Topic5\", \"Topic5\", \"Topic5\", \"Topic5\", \"Topic5\", \"Topic5\", \"Topic5\", \"Topic5\", \"Topic5\", \"Topic5\", \"Topic5\", \"Topic5\", \"Topic5\", \"Topic5\", \"Topic5\", \"Topic5\", \"Topic5\", \"Topic5\", \"Topic5\", \"Topic5\", \"Topic5\", \"Topic5\", \"Topic5\", \"Topic5\", \"Topic5\", \"Topic5\", \"Topic5\", \"Topic5\", \"Topic5\", \"Topic5\", \"Topic5\", \"Topic5\", \"Topic5\", \"Topic5\", \"Topic5\", \"Topic5\", \"Topic5\", \"Topic5\", \"Topic5\", \"Topic5\", \"Topic5\", \"Topic5\", \"Topic5\", \"Topic5\", \"Topic5\", \"Topic5\", \"Topic5\", \"Topic5\", \"Topic5\", \"Topic5\", \"Topic5\", \"Topic5\", \"Topic5\", \"Topic5\", \"Topic5\", \"Topic5\", \"Topic5\", \"Topic5\", \"Topic5\", \"Topic6\", \"Topic6\", \"Topic6\", \"Topic6\", \"Topic6\", \"Topic6\", \"Topic6\", \"Topic6\", \"Topic6\", \"Topic6\", \"Topic6\", \"Topic6\", \"Topic6\", \"Topic6\", \"Topic6\", \"Topic6\", \"Topic6\", \"Topic6\", \"Topic6\", \"Topic6\", \"Topic6\", \"Topic6\", \"Topic6\", \"Topic6\", \"Topic6\", \"Topic6\", \"Topic6\", \"Topic6\", \"Topic6\", \"Topic6\", \"Topic6\", \"Topic6\", \"Topic6\", \"Topic6\", \"Topic6\", \"Topic6\", \"Topic6\", \"Topic6\", \"Topic6\", \"Topic6\", \"Topic6\", \"Topic6\", \"Topic6\", \"Topic6\", \"Topic6\", \"Topic6\", \"Topic6\", \"Topic6\", \"Topic6\", \"Topic6\", \"Topic6\", \"Topic6\", \"Topic6\", \"Topic6\", \"Topic6\", \"Topic6\", \"Topic6\", \"Topic6\", \"Topic6\", \"Topic6\"], \"logprob\": [30.0, 29.0, 28.0, 27.0, 26.0, 25.0, 24.0, 23.0, 22.0, 21.0, 20.0, 19.0, 18.0, 17.0, 16.0, 15.0, 14.0, 13.0, 12.0, 11.0, 10.0, 9.0, 8.0, 7.0, 6.0, 5.0, 4.0, 3.0, 2.0, 1.0, -2.5502, -3.3097, -3.3288, -3.4603, -3.4793, -3.548, -3.5501, -3.6906, -3.714, -3.7508, -3.8269, -3.8287, -3.8747, -3.9198, -4.0131, -4.0584, -4.1587, -4.1845, -4.2101, -4.2242, -4.2489, -4.3757, -4.3803, -4.4208, -4.4384, -4.4575, -4.4551, -4.4793, -4.5893, -4.6227, -2.5547, -2.5786, -3.0183, -3.1424, -3.19, -3.2392, -3.278, -3.4078, -3.5539, -3.5588, -3.6083, -3.9574, -4.0528, -4.0751, -4.0741, -4.208, -4.2327, -4.2741, -4.2841, -4.3606, -4.3686, -4.4049, -4.4156, -4.4455, -4.4569, -4.4689, -4.5199, -4.5333, -4.5402, -4.6044, -3.626, -3.4198, -4.1313, -4.4646, -1.5136, -2.3946, -2.4728, -2.5039, -6.4636, -6.4636, -6.4636, -6.4636, -6.4636, -6.4636, -6.4636, -6.4636, -6.4636, -6.4636, -6.4636, -6.4636, -6.4636, -6.4636, -6.4636, -6.4636, -6.4636, -6.4636, -6.4636, -6.4636, -6.4636, -6.4636, -6.4636, -6.4636, -6.4636, -6.4636, -6.4585, -6.4598, -6.46, -6.4601, -6.4605, -6.4606, -6.4606, -6.4612, -6.4614, -6.4615, -6.4616, -6.4616, -6.4616, -6.4616, -6.4617, -6.4618, -6.4619, -6.4619, -6.462, -6.462, -6.4621, -6.4621, -6.4621, -6.4621, -6.4622, -6.4622, -1.9029, -2.7853, -6.057, -6.057, -6.057, -6.057, -6.057, -6.057, -6.057, -6.057, -6.057, -6.057, -6.057, -6.057, -6.057, -6.057, -6.057, -6.057, -6.057, -6.057, -6.057, -6.057, -6.057, -6.057, -6.057, -6.057, -6.057, -6.057, -6.057, -6.057, -6.0519, -6.0559, -6.0561, -6.0561, -6.0562, -6.0562, -6.0563, -6.0564, -6.0564, -6.0564, -6.0565, -6.0565, -6.0565, -6.0565, -6.0566, -6.0566, -6.0566, -6.0566, -6.0566, -6.0566, -6.0566, -6.0566, -6.0566, -6.0567, -6.0567, -6.0567, -6.0567, -6.0567, -1.9492, -5.9767, -5.9767, -5.9767, -5.9767, -5.9767, -5.9767, -5.9767, -5.9767, -5.9767, -5.9767, -5.9767, -5.9767, -5.9767, -5.9767, -5.9767, -5.9767, -5.9767, -5.9767, -5.9767, -5.9767, -5.9767, -5.9767, -5.9767, -5.9767, -5.9767, -5.9767, -5.9767, -5.9767, -5.9767, -5.9754, -5.9759, -5.9762, -5.9762, -5.9764, -5.9764, -5.9764, -5.9765, -5.9765, -5.9765, -5.9765, -5.9765, -5.9766, -5.9766, -5.9766, -5.9766, -5.9766, -5.9766, -5.9766, -5.9766, -5.9766, -5.9766, -5.9766, -5.9766, -5.9766, -5.9766, -5.9766, -5.9766, -5.9766, -5.826, -5.826, -5.826, -5.826, -5.826, -5.826, -5.826, -5.826, -5.826, -5.826, -5.826, -5.826, -5.826, -5.826, -5.826, -5.826, -5.826, -5.826, -5.826, -5.826, -5.826, -5.826, -5.826, -5.826, -5.826, -5.826, -5.826, -5.826, -5.826, -5.826, -5.826, -5.826, -5.826, -5.826, -5.826, -5.826, -5.826, -5.826, -5.826, -5.826, -5.826, -5.826, -5.826, -5.826, -5.826, -5.826, -5.826, -5.826, -5.826, -5.826, -5.826, -5.826, -5.826, -5.826, -5.826, -5.826, -5.826, -5.826, -5.826, -5.826], \"loglift\": [30.0, 29.0, 28.0, 27.0, 26.0, 25.0, 24.0, 23.0, 22.0, 21.0, 20.0, 19.0, 18.0, 17.0, 16.0, 15.0, 14.0, 13.0, 12.0, 11.0, 10.0, 9.0, 8.0, 7.0, 6.0, 5.0, 4.0, 3.0, 2.0, 1.0, 0.4039, 0.4006, 0.4004, 0.3995, 0.3994, 0.3989, 0.3989, 0.3976, 0.3975, 0.3971, 0.3964, 0.3964, 0.3959, 0.3954, 0.3943, 0.3937, 0.3923, 0.392, 0.3916, 0.3913, 0.3909, 0.3888, 0.3887, 0.388, 0.3877, 0.3873, 0.3873, 0.3869, 0.3845, 0.3839, 1.2137, 1.2136, 1.2098, 1.2084, 1.2078, 1.2071, 1.2066, 1.2047, 1.2022, 1.2022, 1.2012, 1.1933, 1.1906, 1.19, 1.1898, 1.1856, 1.1848, 1.1832, 1.183, 1.18, 1.1797, 1.1783, 1.1778, 1.1765, 1.176, 1.1754, 1.1731, 1.1727, 1.1723, 1.1691, 1.0426, 0.9145, 1.0042, 0.9734, 3.8443, 3.7862, 3.7788, 3.7757, 1.9258, 1.9258, 1.9258, 1.9258, 1.9258, 1.9258, 1.9258, 1.9258, 1.9258, 1.9258, 1.9258, 1.9258, 1.9258, 1.9258, 1.9258, 1.9258, 1.9258, 1.9258, 1.9258, 1.9258, 1.9258, 1.9258, 1.9258, 1.9258, 1.9258, 1.9258, -0.1549, -0.5356, -0.7571, 0.5175, -0.3813, -0.0882, -0.8973, -0.9402, -1.4876, -1.6925, -0.7685, -0.8129, -1.1977, -2.3735, -0.9191, -0.3844, -0.8685, -0.9949, -0.7015, -0.9136, -0.4322, -1.1898, -2.1279, 0.1071, -1.3605, -1.2532, 4.4007, 4.2535, 2.3324, 2.3324, 2.3324, 2.3324, 2.3324, 2.3324, 2.3324, 2.3324, 2.3324, 2.3324, 2.3324, 2.3324, 2.3324, 2.3324, 2.3324, 2.3324, 2.3324, 2.3324, 2.3324, 2.3324, 2.3324, 2.3324, 2.3324, 2.3324, 2.3324, 2.3324, 2.3324, 2.3324, 0.5174, -0.6979, 0.1771, -0.2956, -1.2138, 0.1953, 0.2202, 0.9211, -1.5719, -0.7974, -0.4631, -0.6083, -2.3273, 0.0209, -0.7927, -1.2477, -3.1025, -0.2494, -1.7224, 0.1242, -0.1324, 0.2231, -0.0664, -0.5082, -0.4238, -2.3464, -1.4442, -0.3507, 5.0284, 2.4128, 2.4128, 2.4128, 2.4128, 2.4128, 2.4128, 2.4128, 2.4128, 2.4128, 2.4128, 2.4128, 2.4128, 2.4128, 2.4128, 2.4128, 2.4128, 2.4128, 2.4128, 2.4128, 2.4128, 2.4128, 2.4128, 2.4128, 2.4128, 2.4128, 2.4128, 2.4128, 2.4128, 2.4128, -0.409, -0.3315, -0.9249, -1.3076, -1.1669, -1.2155, -1.6422, -0.4224, -1.7059, -0.6855, 0.0465, 1.0623, -0.3144, -0.1934, -0.5591, -1.3611, -0.2706, -1.8651, -0.7752, -0.3935, -0.5193, -0.2184, -0.97, -1.5788, -1.3749, 0.1026, 0.3072, -0.7005, -1.2076, 2.5634, 2.5634, 2.5634, 2.5634, 2.5634, 2.5634, 2.5634, 2.5634, 2.5634, 2.5634, 2.5634, 2.5634, 2.5634, 2.5634, 2.5634, 2.5634, 2.5634, 2.5634, 2.5634, 2.5634, 2.5634, 2.5634, 2.5634, 2.5634, 2.5634, 2.5634, 2.5634, 2.5634, 2.5634, 2.5634, -1.9473, -1.4186, -1.3797, -1.598, -2.0576, 0.2667, -0.3049, -1.8791, 0.167, -0.7243, -1.9662, -1.3739, -0.2833, -0.8522, 1.0123, -0.6737, -1.6781, -0.535, -1.1573, -0.7098, -0.9812, -2.0338, -1.6027, -0.2626, 1.1515, 0.4578, -1.4918, -0.2596, -0.8194, -0.6906]}, \"token.table\": {\"Topic\": [1, 1, 1, 2, 2, 2, 2, 1, 2, 1, 2, 2, 2, 1, 1, 1, 2, 1, 1, 1, 1, 3, 1, 1, 1, 2, 1, 2, 1, 1, 1, 1, 1, 2, 2, 2, 1, 1, 1, 2, 1, 1, 1, 1, 1, 1, 2, 4, 2, 3, 1, 1, 1, 1, 2, 3, 1, 2, 4, 1, 2, 1, 2, 1, 2, 2, 1, 1, 1, 2, 1, 2, 1, 1, 1, 2, 2, 2, 5, 2, 2, 1, 2, 1, 1, 2, 2, 1, 1, 3, 1, 2, 1, 2, 1, 1, 1, 1, 2, 1, 1, 2, 1, 2, 1, 1, 1, 2, 1, 1, 1, 1, 2, 2], \"Freq\": [0.9980369154515543, 0.9727579996232216, 0.9949809858079627, 0.8764184136882538, 0.9739405283745417, 0.9343966148144317, 0.9695531326004817, 0.9813341992742717, 0.9937456335222784, 0.9760317588620829, 0.9122709946682791, 0.9888837411976825, 0.9892814974469892, 0.9717028837202352, 0.9875555877725698, 0.9412063153333229, 0.9710090968265072, 1.0002408813629582, 0.8795502717318642, 1.0000649871004204, 1.009979999797319, 0.9111973476495956, 1.0002209604616599, 0.9795517056820913, 0.9915688614763515, 0.9436576315632709, 0.938999283385987, 0.9660132151764871, 0.9212742898629291, 1.0091410574713584, 0.9522447936970193, 0.9181284212457237, 0.9827784459067685, 0.9974767954619975, 0.9991775200181047, 1.028293677007087, 0.9564638172466584, 0.8192269387386233, 0.9448102000206265, 0.9886347813847914, 0.9784191554451845, 0.9865098134759671, 0.9856955513011572, 1.0006373823096493, 0.9589841735945883, 0.14035958931110007, 0.8421575358666005, 1.0011650740347384, 0.906293702280494, 0.8489797155364244, 0.9515333636968824, 1.006401236763089, 0.9343082216701765, 1.0043801965937331, 0.9748666615605778, 0.937221837161489, 0.8770592601736905, 0.9701835671814357, 0.9599147156951005, 0.9287620477038133, 0.9932035856412676, 1.0149736462606265, 0.9333020134593735, 0.9983004609756254, 0.981666787743338, 0.9570597059199456, 0.9890195245757664, 0.9689210219559163, 0.9852540538774961, 1.0147835671326757, 0.9907587454532992, 0.9340209907992699, 0.9857094758911035, 0.9157440784966862, 0.9073239199292565, 0.9125347810923587, 0.9265533778422808, 0.8945933846155255, 0.941642659427539, 0.9849102927621267, 0.9730599074205455, 0.9410845625734937, 0.9929802045103646, 0.9869111975441427, 0.26789864390007234, 0.7367212707251989, 0.9729917148977163, 0.9185284782888667, 0.9736557455511374, 0.9321387405220899, 0.3790599519080195, 0.6317665865133659, 0.9741186596279026, 0.9356062575610823, 0.9839800036872135, 0.9759302521805114, 0.9636979157729321, 0.1492325414793816, 0.8207789781365987, 0.9982215648458206, 0.20195811372691677, 0.8078324549076671, 0.9587416014525549, 0.9301720903053609, 0.9603784008278452, 1.0023075916139101, 0.9973592956598061, 0.9240893520389225, 0.9939782860237026, 0.9874827391273396, 1.0019555364503074, 0.969093750719159, 1.0069928810939726, 0.9873546649390739], \"Term\": [\"account\", \"accounts\", \"address\", \"always\", \"amount\", \"answer\", \"anymore\", \"application\", \"asked\", \"back\", \"balance\", \"bank\", \"banks\", \"cash\", \"convenient\", \"credited\", \"customer\", \"customer_service\", \"day\", \"days\", \"easy\", \"email\", \"error\", \"errors\", \"ever\", \"everything\", \"experience\", \"features\", \"first\", \"fully_verified\", \"funds\", \"get\", \"getting\", \"giving\", \"go\", \"good\", \"hard\", \"hassle\", \"helpful\", \"hotline\", \"immediately\", \"issue\", \"know\", \"kwenta\", \"last\", \"limit\", \"limit\", \"linked\", \"loading\", \"made\", \"makapag\", \"make\", \"money\", \"month\", \"much\", \"name\", \"need\", \"new\", \"nothing\", \"number\", \"okay\", \"option\", \"pandemic\", \"pay\", \"pay_bills\", \"payment\", \"paypal\", \"people\", \"pesos\", \"php\", \"possible\", \"problems\", \"purchase\", \"puro\", \"really\", \"receive\", \"removed\", \"reply\", \"resolve\", \"right\", \"said\", \"sana\", \"save\", \"send\", \"since\", \"since\", \"store\", \"support\", \"system\", \"thing\", \"things\", \"things\", \"think\", \"though\", \"thru\", \"time\", \"told\", \"transaction\", \"transaction\", \"two\", \"use\", \"use\", \"useful\", \"user\", \"users\", \"via\", \"wala\", \"wallet\", \"want\", \"way\", \"weeks\", \"well\", \"withdraw\", \"years\"]}, \"R\": 30, \"lambda.step\": 0.01, \"plot.opts\": {\"xlab\": \"PC1\", \"ylab\": \"PC2\"}, \"topic.order\": [5, 3, 1, 2, 4, 6]};\n",
              "\n",
              "function LDAvis_load_lib(url, callback){\n",
              "  var s = document.createElement('script');\n",
              "  s.src = url;\n",
              "  s.async = true;\n",
              "  s.onreadystatechange = s.onload = callback;\n",
              "  s.onerror = function(){console.warn(\"failed to load library \" + url);};\n",
              "  document.getElementsByTagName(\"head\")[0].appendChild(s);\n",
              "}\n",
              "\n",
              "if(typeof(LDAvis) !== \"undefined\"){\n",
              "   // already loaded: just create the visualization\n",
              "   !function(LDAvis){\n",
              "       new LDAvis(\"#\" + \"ldavis_el1581406189491647522142073680\", ldavis_el1581406189491647522142073680_data);\n",
              "   }(LDAvis);\n",
              "}else if(typeof define === \"function\" && define.amd){\n",
              "   // require.js is available: use it to load d3/LDAvis\n",
              "   require.config({paths: {d3: \"https://d3js.org/d3.v5\"}});\n",
              "   require([\"d3\"], function(d3){\n",
              "      window.d3 = d3;\n",
              "      LDAvis_load_lib(\"https://cdn.jsdelivr.net/gh/bmabey/pyLDAvis@3.3.1/pyLDAvis/js/ldavis.v3.0.0.js\", function(){\n",
              "        new LDAvis(\"#\" + \"ldavis_el1581406189491647522142073680\", ldavis_el1581406189491647522142073680_data);\n",
              "      });\n",
              "    });\n",
              "}else{\n",
              "    // require.js not available: dynamically load d3 & LDAvis\n",
              "    LDAvis_load_lib(\"https://d3js.org/d3.v5.js\", function(){\n",
              "         LDAvis_load_lib(\"https://cdn.jsdelivr.net/gh/bmabey/pyLDAvis@3.3.1/pyLDAvis/js/ldavis.v3.0.0.js\", function(){\n",
              "                 new LDAvis(\"#\" + \"ldavis_el1581406189491647522142073680\", ldavis_el1581406189491647522142073680_data);\n",
              "            })\n",
              "         });\n",
              "}\n",
              "</script>"
            ],
            "text/plain": [
              "PreparedData(topic_coordinates=              x         y  topics  cluster       Freq\n",
              "topic                                                \n",
              "4      0.268173 -0.182331       1        1  66.580120\n",
              "2     -0.315709 -0.142730       2        1  29.508047\n",
              "0      0.011570  0.170140       3        1   2.049396\n",
              "1      0.012208  0.066416       4        1   1.088371\n",
              "3      0.012101  0.054368       5        1   0.494341\n",
              "5      0.011658  0.034137       6        1   0.279726, topic_info=           Term        Freq       Total Category  logprob  loglift\n",
              "4          bank   52.000000   52.000000  Default   30.000  30.0000\n",
              "21         okay   51.000000   51.000000  Default   29.000  29.0000\n",
              "58         want  118.000000  118.000000  Default   28.000  28.0000\n",
              "79        thing   10.000000   10.000000  Default   27.000  27.0000\n",
              "3         asked   33.000000   33.000000  Default   26.000  26.0000\n",
              "..          ...         ...         ...      ...      ...      ...\n",
              "25         sana    0.018792    4.250415   Topic6   -5.826   0.4578\n",
              "26        since    0.018792   29.862040   Topic6   -5.826  -1.4918\n",
              "27      support    0.018792    8.709583   Topic6   -5.826  -0.2596\n",
              "28         thru    0.018792   15.244212   Topic6   -5.826  -0.8194\n",
              "29  transaction    0.018792   13.401903   Topic6   -5.826  -0.6906\n",
              "\n",
              "[327 rows x 6 columns], token_table=      Topic      Freq      Term\n",
              "term                           \n",
              "0         1  0.998037   account\n",
              "1         1  0.972758  accounts\n",
              "60        1  0.994981   address\n",
              "143       2  0.876418    always\n",
              "2         2  0.973941    amount\n",
              "...     ...       ...       ...\n",
              "83        1  0.987483       way\n",
              "33        1  1.001956     weeks\n",
              "59        1  0.969094      well\n",
              "141       2  1.006993  withdraw\n",
              "34        2  0.987355     years\n",
              "\n",
              "[114 rows x 3 columns], R=30, lambda_step=0.01, plot_opts={'xlab': 'PC1', 'ylab': 'PC2'}, topic_order=[5, 3, 1, 2, 4, 6])"
            ]
          },
          "metadata": {
            "tags": []
          },
          "execution_count": 77
        }
      ]
    },
    {
      "cell_type": "markdown",
      "metadata": {
        "id": "xJjoZyGKhgj3"
      },
      "source": [
        ""
      ]
    },
    {
      "cell_type": "markdown",
      "metadata": {
        "id": "11lnnRnfkoP6"
      },
      "source": [
        "##### Checking time series distribution of reviews [ January 1 2020 to May 31 2021 ]"
      ]
    },
    {
      "cell_type": "code",
      "metadata": {
        "id": "yUP8xcaMcvhF"
      },
      "source": [
        ""
      ],
      "execution_count": 77,
      "outputs": []
    }
  ]
}