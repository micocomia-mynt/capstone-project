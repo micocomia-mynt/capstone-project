{
  "nbformat": 4,
  "nbformat_minor": 0,
  "metadata": {
    "colab": {
      "name": "SEPARATED -  App Store GCash - Preprocessing + Topic Modeling (Mixed Language Approach).ipynb",
      "provenance": [],
      "collapsed_sections": [],
      "toc_visible": true
    },
    "kernelspec": {
      "name": "python3",
      "display_name": "Python 3"
    },
    "language_info": {
      "name": "python"
    }
  },
  "cells": [
    {
      "cell_type": "markdown",
      "metadata": {
        "id": "rwT6404Ajmd4"
      },
      "source": [
        "# Preprocessing + Topic Modeling (Mixed Language Approach)\n",
        "This notebook serves as a demo for topic modeling GCash App Store Reviews using LDA. The approach of this notebook is to ignore the multi-lingual nature of reviews and move directly to LDA after data cleaning. This notebook will be divided into four parts:\n",
        "\n",
        "1. Data Cleaning\n",
        "2. Text Cleaning\n",
        "3. Modeling (LDA)\n",
        "4. Exploration of Results"
      ]
    },
    {
      "cell_type": "code",
      "metadata": {
        "colab": {
          "base_uri": "https://localhost:8080/"
        },
        "id": "C3rT1zxJUizq",
        "outputId": "e555b7c9-6148-47f6-d989-c48efabae820"
      },
      "source": [
        "from google.colab import drive\n",
        "drive.mount('/content/drive/')"
      ],
      "execution_count": 1,
      "outputs": [
        {
          "output_type": "stream",
          "text": [
            "Mounted at /content/drive/\n"
          ],
          "name": "stdout"
        }
      ]
    },
    {
      "cell_type": "code",
      "metadata": {
        "colab": {
          "base_uri": "https://localhost:8080/"
        },
        "id": "Ast1TCbWU66i",
        "outputId": "3dcdc8f6-ecdc-4c54-b239-87b996269e9d"
      },
      "source": [
        "!ls \"/content/drive/My Drive/Data/Reviews/App Store/GCash\""
      ],
      "execution_count": 2,
      "outputs": [
        {
          "output_type": "stream",
          "text": [
            "app_info.csv\t     gcash_0613-1427.csv\t Old\n",
            "gcash_0604-2124.csv  gcash_appstore_reviews.csv\n"
          ],
          "name": "stdout"
        }
      ]
    },
    {
      "cell_type": "code",
      "metadata": {
        "id": "tImUi3ghxOIM"
      },
      "source": [
        "!pip install emot contractions pyLDAvis lda\n",
        "!python3 -m spacy download en"
      ],
      "execution_count": null,
      "outputs": []
    },
    {
      "cell_type": "code",
      "metadata": {
        "id": "JzIQhx5ukPfe",
        "colab": {
          "base_uri": "https://localhost:8080/"
        },
        "outputId": "83d5adf1-cf27-493e-d61b-380817815369"
      },
      "source": [
        "# importing libraries\n",
        "import pandas as pd\n",
        "import numpy as np \n",
        "import regex as re\n",
        "import datetime\n",
        "import json\n",
        "\n",
        "from emot.emo_unicode import UNICODE_EMO, EMOTICONS\n",
        "import contractions\n",
        "\n",
        "\n",
        "from spacy.lang.tl.stop_words import STOP_WORDS as tl_stop\n",
        "from spacy.lang.en.stop_words import STOP_WORDS as en_stop\n",
        "\n",
        "#nltk\n",
        "import nltk\n",
        "from nltk.corpus import stopwords\n",
        "\n",
        "# Gensim\n",
        "import gensim\n",
        "import gensim.corpora as corpora\n",
        "from gensim.utils import simple_preprocess\n",
        "from gensim.models import CoherenceModel\n",
        "import nltk\n",
        "import tqdm\n",
        "\n",
        "# spacy for lemmatization\n",
        "import spacy\n",
        "\n",
        "# Plotting tools\n",
        "import pyLDAvis\n",
        "import pyLDAvis.gensim_models  # don't skip this\n",
        "import matplotlib.pyplot as plt\n",
        "%matplotlib inline\n",
        "\n",
        "# Enable logging for gensim - optional\n",
        "import logging\n",
        "logging.basicConfig(format='%(asctime)s : %(levelname)s : %(message)s', level=logging.ERROR)"
      ],
      "execution_count": 3,
      "outputs": [
        {
          "output_type": "stream",
          "text": [
            "/usr/local/lib/python3.7/dist-packages/past/types/oldstr.py:5: DeprecationWarning: Using or importing the ABCs from 'collections' instead of from 'collections.abc' is deprecated since Python 3.3,and in 3.9 it will stop working\n",
            "  from collections import Iterable\n",
            "/usr/local/lib/python3.7/dist-packages/sklearn/decomposition/_lda.py:29: DeprecationWarning: `np.float` is a deprecated alias for the builtin `float`. To silence this warning, use `float` by itself. Doing this will not modify any behavior and is safe. If you specifically wanted the numpy scalar type, use `np.float64` here.\n",
            "Deprecated in NumPy 1.20; for more details and guidance: https://numpy.org/devdocs/release/1.20.0-notes.html#deprecations\n",
            "  EPS = np.finfo(np.float).eps\n"
          ],
          "name": "stderr"
        }
      ]
    },
    {
      "cell_type": "code",
      "metadata": {
        "id": "Z49bQJ0NkPnM"
      },
      "source": [
        "# importing the dataset\n",
        "df = pd.read_csv('/content/drive/My Drive/Data/Reviews/App Store/GCash/gcash_0613-1427.csv')"
      ],
      "execution_count": 4,
      "outputs": []
    },
    {
      "cell_type": "code",
      "metadata": {
        "id": "ZEoG0tP1lNoc",
        "colab": {
          "base_uri": "https://localhost:8080/"
        },
        "outputId": "33f5264d-1e7b-401f-d615-268207e9e902"
      },
      "source": [
        "df.shape"
      ],
      "execution_count": 5,
      "outputs": [
        {
          "output_type": "execute_result",
          "data": {
            "text/plain": [
              "(4867, 9)"
            ]
          },
          "metadata": {
            "tags": []
          },
          "execution_count": 5
        }
      ]
    },
    {
      "cell_type": "code",
      "metadata": {
        "id": "GwH3Ps-dlPs6",
        "colab": {
          "base_uri": "https://localhost:8080/"
        },
        "outputId": "c9e37bd3-0133-4503-ae1f-c9c1607e2bfa"
      },
      "source": [
        "df.dtypes"
      ],
      "execution_count": 6,
      "outputs": [
        {
          "output_type": "execute_result",
          "data": {
            "text/plain": [
              "title                object\n",
              "date                 object\n",
              "rating                int64\n",
              "userName             object\n",
              "isEdited               bool\n",
              "review               object\n",
              "app_name             object\n",
              "app_id                int64\n",
              "developerResponse    object\n",
              "dtype: object"
            ]
          },
          "metadata": {
            "tags": []
          },
          "execution_count": 6
        }
      ]
    },
    {
      "cell_type": "code",
      "metadata": {
        "id": "fjjTCM1TkxQ2",
        "colab": {
          "base_uri": "https://localhost:8080/",
          "height": 145
        },
        "outputId": "3be4e3c5-d1b6-465b-d0b1-1fa6d5d446e8"
      },
      "source": [
        "df.head(2)"
      ],
      "execution_count": 7,
      "outputs": [
        {
          "output_type": "execute_result",
          "data": {
            "text/html": [
              "<div>\n",
              "<style scoped>\n",
              "    .dataframe tbody tr th:only-of-type {\n",
              "        vertical-align: middle;\n",
              "    }\n",
              "\n",
              "    .dataframe tbody tr th {\n",
              "        vertical-align: top;\n",
              "    }\n",
              "\n",
              "    .dataframe thead th {\n",
              "        text-align: right;\n",
              "    }\n",
              "</style>\n",
              "<table border=\"1\" class=\"dataframe\">\n",
              "  <thead>\n",
              "    <tr style=\"text-align: right;\">\n",
              "      <th></th>\n",
              "      <th>title</th>\n",
              "      <th>date</th>\n",
              "      <th>rating</th>\n",
              "      <th>userName</th>\n",
              "      <th>isEdited</th>\n",
              "      <th>review</th>\n",
              "      <th>app_name</th>\n",
              "      <th>app_id</th>\n",
              "      <th>developerResponse</th>\n",
              "    </tr>\n",
              "  </thead>\n",
              "  <tbody>\n",
              "    <tr>\n",
              "      <th>0</th>\n",
              "      <td>It is starting to become pretty annoying</td>\n",
              "      <td>2018-12-29 15:24:59</td>\n",
              "      <td>3</td>\n",
              "      <td>Fhayerie0406</td>\n",
              "      <td>False</td>\n",
              "      <td>Almost everything is smooth except for three t...</td>\n",
              "      <td>gcash</td>\n",
              "      <td>520020791</td>\n",
              "      <td>NaN</td>\n",
              "    </tr>\n",
              "    <tr>\n",
              "      <th>1</th>\n",
              "      <td>Actually ok.</td>\n",
              "      <td>2020-05-16 07:33:32</td>\n",
              "      <td>5</td>\n",
              "      <td>i don't usually rate/review</td>\n",
              "      <td>False</td>\n",
              "      <td>This app gets so many negative reviews but it’...</td>\n",
              "      <td>gcash</td>\n",
              "      <td>520020791</td>\n",
              "      <td>NaN</td>\n",
              "    </tr>\n",
              "  </tbody>\n",
              "</table>\n",
              "</div>"
            ],
            "text/plain": [
              "                                      title  ... developerResponse\n",
              "0  It is starting to become pretty annoying  ...               NaN\n",
              "1                              Actually ok.  ...               NaN\n",
              "\n",
              "[2 rows x 9 columns]"
            ]
          },
          "metadata": {
            "tags": []
          },
          "execution_count": 7
        }
      ]
    },
    {
      "cell_type": "markdown",
      "metadata": {
        "id": "9NZMpbSEj_oC"
      },
      "source": [
        "## Part 1: Data Exploration + Cleaning"
      ]
    },
    {
      "cell_type": "code",
      "metadata": {
        "id": "foPJjLZVmoFW",
        "colab": {
          "base_uri": "https://localhost:8080/"
        },
        "outputId": "7e460920-a8d2-46e6-b452-53339789e9ac"
      },
      "source": [
        "# Checking for null values\n",
        "df.isnull().sum() "
      ],
      "execution_count": 8,
      "outputs": [
        {
          "output_type": "execute_result",
          "data": {
            "text/plain": [
              "title                   0\n",
              "date                    0\n",
              "rating                  0\n",
              "userName                0\n",
              "isEdited                0\n",
              "review                  0\n",
              "app_name                0\n",
              "app_id                  0\n",
              "developerResponse    4718\n",
              "dtype: int64"
            ]
          },
          "metadata": {
            "tags": []
          },
          "execution_count": 8
        }
      ]
    },
    {
      "cell_type": "code",
      "metadata": {
        "id": "StJdPT_cm2TI"
      },
      "source": [
        "# Dropping unwanted columns [userName, app_name, app_id, developerResponse]\n",
        "df = df.drop(['userName', 'app_name', 'app_id', 'developerResponse', 'isEdited'], axis=1)"
      ],
      "execution_count": 9,
      "outputs": []
    },
    {
      "cell_type": "code",
      "metadata": {
        "id": "Dc4F9FJSjhz6"
      },
      "source": [
        "# Splitting datetime column + Checking date range\n",
        "\n",
        "# Code block below separated the timestamp [[date]] column into Date and Time column respectively\n",
        "df['Dates'] = pd.to_datetime(df['date']).dt.date\n",
        "df['Time'] = pd.to_datetime(df['date']).dt.time\n",
        "df = df.drop('date', axis=1)"
      ],
      "execution_count": 10,
      "outputs": []
    },
    {
      "cell_type": "code",
      "metadata": {
        "id": "-9uJxaZClsWs",
        "colab": {
          "base_uri": "https://localhost:8080/",
          "height": 80
        },
        "outputId": "a871cdde-d80f-47a0-ed4f-bb8c9b037a95"
      },
      "source": [
        "df.sort_values(by='Dates', ascending=False).head(1)"
      ],
      "execution_count": 11,
      "outputs": [
        {
          "output_type": "execute_result",
          "data": {
            "text/html": [
              "<div>\n",
              "<style scoped>\n",
              "    .dataframe tbody tr th:only-of-type {\n",
              "        vertical-align: middle;\n",
              "    }\n",
              "\n",
              "    .dataframe tbody tr th {\n",
              "        vertical-align: top;\n",
              "    }\n",
              "\n",
              "    .dataframe thead th {\n",
              "        text-align: right;\n",
              "    }\n",
              "</style>\n",
              "<table border=\"1\" class=\"dataframe\">\n",
              "  <thead>\n",
              "    <tr style=\"text-align: right;\">\n",
              "      <th></th>\n",
              "      <th>title</th>\n",
              "      <th>rating</th>\n",
              "      <th>review</th>\n",
              "      <th>Dates</th>\n",
              "      <th>Time</th>\n",
              "    </tr>\n",
              "  </thead>\n",
              "  <tbody>\n",
              "    <tr>\n",
              "      <th>2570</th>\n",
              "      <td>Annoying</td>\n",
              "      <td>2</td>\n",
              "      <td>I can’t open my GCash account 4days after i ac...</td>\n",
              "      <td>2021-06-11</td>\n",
              "      <td>09:05:47</td>\n",
              "    </tr>\n",
              "  </tbody>\n",
              "</table>\n",
              "</div>"
            ],
            "text/plain": [
              "         title  rating  ...       Dates      Time\n",
              "2570  Annoying       2  ...  2021-06-11  09:05:47\n",
              "\n",
              "[1 rows x 5 columns]"
            ]
          },
          "metadata": {
            "tags": []
          },
          "execution_count": 11
        }
      ]
    },
    {
      "cell_type": "code",
      "metadata": {
        "id": "0J-wd6N7ltlQ",
        "colab": {
          "base_uri": "https://localhost:8080/",
          "height": 80
        },
        "outputId": "5fbc61e9-6fb2-4be8-d393-dfe93aea6efd"
      },
      "source": [
        "df.sort_values(by='Dates', ascending=True).head(1)"
      ],
      "execution_count": 12,
      "outputs": [
        {
          "output_type": "execute_result",
          "data": {
            "text/html": [
              "<div>\n",
              "<style scoped>\n",
              "    .dataframe tbody tr th:only-of-type {\n",
              "        vertical-align: middle;\n",
              "    }\n",
              "\n",
              "    .dataframe tbody tr th {\n",
              "        vertical-align: top;\n",
              "    }\n",
              "\n",
              "    .dataframe thead th {\n",
              "        text-align: right;\n",
              "    }\n",
              "</style>\n",
              "<table border=\"1\" class=\"dataframe\">\n",
              "  <thead>\n",
              "    <tr style=\"text-align: right;\">\n",
              "      <th></th>\n",
              "      <th>title</th>\n",
              "      <th>rating</th>\n",
              "      <th>review</th>\n",
              "      <th>Dates</th>\n",
              "      <th>Time</th>\n",
              "    </tr>\n",
              "  </thead>\n",
              "  <tbody>\n",
              "    <tr>\n",
              "      <th>4134</th>\n",
              "      <td>App does not work</td>\n",
              "      <td>1</td>\n",
              "      <td>App does not work. It hangs and automatically ...</td>\n",
              "      <td>2012-05-23</td>\n",
              "      <td>16:24:07</td>\n",
              "    </tr>\n",
              "  </tbody>\n",
              "</table>\n",
              "</div>"
            ],
            "text/plain": [
              "                  title  rating  ...       Dates      Time\n",
              "4134  App does not work       1  ...  2012-05-23  16:24:07\n",
              "\n",
              "[1 rows x 5 columns]"
            ]
          },
          "metadata": {
            "tags": []
          },
          "execution_count": 12
        }
      ]
    },
    {
      "cell_type": "markdown",
      "metadata": {
        "id": "CEot_wyzmLFP"
      },
      "source": [
        "In the section above, we can see that the dataset ranges from 2012-05-23 to 2021-06-11."
      ]
    },
    {
      "cell_type": "code",
      "metadata": {
        "id": "1MEu6XTPmIzC",
        "colab": {
          "base_uri": "https://localhost:8080/"
        },
        "outputId": "9a304a98-5534-4f60-939f-a7bcd1b9b79f"
      },
      "source": [
        "df.dtypes"
      ],
      "execution_count": 13,
      "outputs": [
        {
          "output_type": "execute_result",
          "data": {
            "text/plain": [
              "title     object\n",
              "rating     int64\n",
              "review    object\n",
              "Dates     object\n",
              "Time      object\n",
              "dtype: object"
            ]
          },
          "metadata": {
            "tags": []
          },
          "execution_count": 13
        }
      ]
    },
    {
      "cell_type": "code",
      "metadata": {
        "id": "BfKtZ66Qnehd"
      },
      "source": [
        "# Joining the title and review column\n",
        "\n",
        "df['final_review'] = df.title.map(str) + \" \" + df.review"
      ],
      "execution_count": 14,
      "outputs": []
    },
    {
      "cell_type": "code",
      "metadata": {
        "id": "0j7UbhqRoK1f"
      },
      "source": [
        "df = df.drop(['review','title'], axis=1)"
      ],
      "execution_count": 15,
      "outputs": []
    },
    {
      "cell_type": "code",
      "metadata": {
        "id": "Xlv7Ip8Y0IQn"
      },
      "source": [
        "df['word_count'] = df['final_review'].str.split().str.len()"
      ],
      "execution_count": 16,
      "outputs": []
    },
    {
      "cell_type": "code",
      "metadata": {
        "id": "QyVRwixP21u8",
        "colab": {
          "base_uri": "https://localhost:8080/",
          "height": 80
        },
        "outputId": "7e72d4f4-f35d-4f7f-b30b-771381bcf19b"
      },
      "source": [
        "df.head(1)"
      ],
      "execution_count": 17,
      "outputs": [
        {
          "output_type": "execute_result",
          "data": {
            "text/html": [
              "<div>\n",
              "<style scoped>\n",
              "    .dataframe tbody tr th:only-of-type {\n",
              "        vertical-align: middle;\n",
              "    }\n",
              "\n",
              "    .dataframe tbody tr th {\n",
              "        vertical-align: top;\n",
              "    }\n",
              "\n",
              "    .dataframe thead th {\n",
              "        text-align: right;\n",
              "    }\n",
              "</style>\n",
              "<table border=\"1\" class=\"dataframe\">\n",
              "  <thead>\n",
              "    <tr style=\"text-align: right;\">\n",
              "      <th></th>\n",
              "      <th>rating</th>\n",
              "      <th>Dates</th>\n",
              "      <th>Time</th>\n",
              "      <th>final_review</th>\n",
              "      <th>word_count</th>\n",
              "    </tr>\n",
              "  </thead>\n",
              "  <tbody>\n",
              "    <tr>\n",
              "      <th>0</th>\n",
              "      <td>3</td>\n",
              "      <td>2018-12-29</td>\n",
              "      <td>15:24:59</td>\n",
              "      <td>It is starting to become pretty annoying Almos...</td>\n",
              "      <td>234</td>\n",
              "    </tr>\n",
              "  </tbody>\n",
              "</table>\n",
              "</div>"
            ],
            "text/plain": [
              "   rating  ... word_count\n",
              "0       3  ...        234\n",
              "\n",
              "[1 rows x 5 columns]"
            ]
          },
          "metadata": {
            "tags": []
          },
          "execution_count": 17
        }
      ]
    },
    {
      "cell_type": "code",
      "metadata": {
        "id": "qFYy4MW48fFh"
      },
      "source": [
        "df2 = df.copy()"
      ],
      "execution_count": 18,
      "outputs": []
    },
    {
      "cell_type": "code",
      "metadata": {
        "id": "dcdR0ZXn1PA8"
      },
      "source": [
        "# Filter pandas df for reviews from january 2020 to may 2021\n",
        "# import datetime\n",
        "df2 = df2[(df2['Dates']>datetime.date(2020,1,1)) & (df2['Dates']<datetime.date(2021,5,31))] "
      ],
      "execution_count": 19,
      "outputs": []
    },
    {
      "cell_type": "code",
      "metadata": {
        "id": "UeGLx8fX1xZ1",
        "colab": {
          "base_uri": "https://localhost:8080/"
        },
        "outputId": "4b1734f7-b150-4c25-bc13-4defb7a4f134"
      },
      "source": [
        "df2.shape"
      ],
      "execution_count": 20,
      "outputs": [
        {
          "output_type": "execute_result",
          "data": {
            "text/plain": [
              "(2498, 5)"
            ]
          },
          "metadata": {
            "tags": []
          },
          "execution_count": 20
        }
      ]
    },
    {
      "cell_type": "code",
      "metadata": {
        "id": "jSBfysmr0jhI",
        "colab": {
          "base_uri": "https://localhost:8080/",
          "height": 419
        },
        "outputId": "710870cf-b762-49b6-d397-3dd7422a1bbb"
      },
      "source": [
        "df2.sort_values(by='word_count')"
      ],
      "execution_count": 21,
      "outputs": [
        {
          "output_type": "execute_result",
          "data": {
            "text/html": [
              "<div>\n",
              "<style scoped>\n",
              "    .dataframe tbody tr th:only-of-type {\n",
              "        vertical-align: middle;\n",
              "    }\n",
              "\n",
              "    .dataframe tbody tr th {\n",
              "        vertical-align: top;\n",
              "    }\n",
              "\n",
              "    .dataframe thead th {\n",
              "        text-align: right;\n",
              "    }\n",
              "</style>\n",
              "<table border=\"1\" class=\"dataframe\">\n",
              "  <thead>\n",
              "    <tr style=\"text-align: right;\">\n",
              "      <th></th>\n",
              "      <th>rating</th>\n",
              "      <th>Dates</th>\n",
              "      <th>Time</th>\n",
              "      <th>final_review</th>\n",
              "      <th>word_count</th>\n",
              "    </tr>\n",
              "  </thead>\n",
              "  <tbody>\n",
              "    <tr>\n",
              "      <th>4491</th>\n",
              "      <td>1</td>\n",
              "      <td>2021-01-21</td>\n",
              "      <td>02:28:07</td>\n",
              "      <td>Poor WTF</td>\n",
              "      <td>2</td>\n",
              "    </tr>\n",
              "    <tr>\n",
              "      <th>4308</th>\n",
              "      <td>5</td>\n",
              "      <td>2020-06-14</td>\n",
              "      <td>14:51:30</td>\n",
              "      <td>omsim 🔥🔥🔥🔥</td>\n",
              "      <td>2</td>\n",
              "    </tr>\n",
              "    <tr>\n",
              "      <th>4325</th>\n",
              "      <td>1</td>\n",
              "      <td>2020-04-17</td>\n",
              "      <td>12:20:45</td>\n",
              "      <td>Nakputaka Nakputaka</td>\n",
              "      <td>2</td>\n",
              "    </tr>\n",
              "    <tr>\n",
              "      <th>4539</th>\n",
              "      <td>1</td>\n",
              "      <td>2020-09-24</td>\n",
              "      <td>02:47:09</td>\n",
              "      <td>Habducy Hansjaknahd</td>\n",
              "      <td>2</td>\n",
              "    </tr>\n",
              "    <tr>\n",
              "      <th>4230</th>\n",
              "      <td>5</td>\n",
              "      <td>2021-05-12</td>\n",
              "      <td>16:22:47</td>\n",
              "      <td>Yes Kaksnsksksk</td>\n",
              "      <td>2</td>\n",
              "    </tr>\n",
              "    <tr>\n",
              "      <th>...</th>\n",
              "      <td>...</td>\n",
              "      <td>...</td>\n",
              "      <td>...</td>\n",
              "      <td>...</td>\n",
              "      <td>...</td>\n",
              "    </tr>\n",
              "    <tr>\n",
              "      <th>3727</th>\n",
              "      <td>1</td>\n",
              "      <td>2020-01-04</td>\n",
              "      <td>12:59:40</td>\n",
              "      <td>Don’t trust your money with them If there is a...</td>\n",
              "      <td>305</td>\n",
              "    </tr>\n",
              "    <tr>\n",
              "      <th>3751</th>\n",
              "      <td>2</td>\n",
              "      <td>2021-04-24</td>\n",
              "      <td>01:39:51</td>\n",
              "      <td>The best in PH, because it’s the only thing we...</td>\n",
              "      <td>343</td>\n",
              "    </tr>\n",
              "    <tr>\n",
              "      <th>3206</th>\n",
              "      <td>1</td>\n",
              "      <td>2020-02-15</td>\n",
              "      <td>11:35:03</td>\n",
              "      <td>Too many issues/Customer Service unhelpful Tho...</td>\n",
              "      <td>349</td>\n",
              "    </tr>\n",
              "    <tr>\n",
              "      <th>3778</th>\n",
              "      <td>1</td>\n",
              "      <td>2020-03-18</td>\n",
              "      <td>14:44:27</td>\n",
              "      <td>App is horrible Hi, this is my 2nd time of sen...</td>\n",
              "      <td>406</td>\n",
              "    </tr>\n",
              "    <tr>\n",
              "      <th>4618</th>\n",
              "      <td>1</td>\n",
              "      <td>2020-04-30</td>\n",
              "      <td>16:24:45</td>\n",
              "      <td>This is not from me. Credits to the owner of t...</td>\n",
              "      <td>447</td>\n",
              "    </tr>\n",
              "  </tbody>\n",
              "</table>\n",
              "<p>2498 rows × 5 columns</p>\n",
              "</div>"
            ],
            "text/plain": [
              "      rating  ... word_count\n",
              "4491       1  ...          2\n",
              "4308       5  ...          2\n",
              "4325       1  ...          2\n",
              "4539       1  ...          2\n",
              "4230       5  ...          2\n",
              "...      ...  ...        ...\n",
              "3727       1  ...        305\n",
              "3751       2  ...        343\n",
              "3206       1  ...        349\n",
              "3778       1  ...        406\n",
              "4618       1  ...        447\n",
              "\n",
              "[2498 rows x 5 columns]"
            ]
          },
          "metadata": {
            "tags": []
          },
          "execution_count": 21
        }
      ]
    },
    {
      "cell_type": "code",
      "metadata": {
        "id": "xgSNNgoV07m0",
        "colab": {
          "base_uri": "https://localhost:8080/"
        },
        "outputId": "c5025621-279a-488d-8e12-78add0b8a78e"
      },
      "source": [
        "df2['word_count'].value_counts().sort_index().head(10)"
      ],
      "execution_count": 22,
      "outputs": [
        {
          "output_type": "execute_result",
          "data": {
            "text/plain": [
              "2     14\n",
              "3      4\n",
              "4     22\n",
              "5     23\n",
              "6     34\n",
              "7     31\n",
              "8     53\n",
              "9     49\n",
              "10    46\n",
              "11    48\n",
              "Name: word_count, dtype: int64"
            ]
          },
          "metadata": {
            "tags": []
          },
          "execution_count": 22
        }
      ]
    },
    {
      "cell_type": "code",
      "metadata": {
        "id": "tsK0Kf723tdl",
        "colab": {
          "base_uri": "https://localhost:8080/",
          "height": 483
        },
        "outputId": "9203538f-2390-43d4-ff19-39105d5a546b"
      },
      "source": [
        "df2.loc[df2['word_count'].isin([2])]"
      ],
      "execution_count": 23,
      "outputs": [
        {
          "output_type": "execute_result",
          "data": {
            "text/html": [
              "<div>\n",
              "<style scoped>\n",
              "    .dataframe tbody tr th:only-of-type {\n",
              "        vertical-align: middle;\n",
              "    }\n",
              "\n",
              "    .dataframe tbody tr th {\n",
              "        vertical-align: top;\n",
              "    }\n",
              "\n",
              "    .dataframe thead th {\n",
              "        text-align: right;\n",
              "    }\n",
              "</style>\n",
              "<table border=\"1\" class=\"dataframe\">\n",
              "  <thead>\n",
              "    <tr style=\"text-align: right;\">\n",
              "      <th></th>\n",
              "      <th>rating</th>\n",
              "      <th>Dates</th>\n",
              "      <th>Time</th>\n",
              "      <th>final_review</th>\n",
              "      <th>word_count</th>\n",
              "    </tr>\n",
              "  </thead>\n",
              "  <tbody>\n",
              "    <tr>\n",
              "      <th>3670</th>\n",
              "      <td>1</td>\n",
              "      <td>2021-02-03</td>\n",
              "      <td>01:50:17</td>\n",
              "      <td>-0 Disappointing.</td>\n",
              "      <td>2</td>\n",
              "    </tr>\n",
              "    <tr>\n",
              "      <th>3927</th>\n",
              "      <td>5</td>\n",
              "      <td>2021-04-25</td>\n",
              "      <td>03:08:11</td>\n",
              "      <td>Good Good</td>\n",
              "      <td>2</td>\n",
              "    </tr>\n",
              "    <tr>\n",
              "      <th>3943</th>\n",
              "      <td>2</td>\n",
              "      <td>2020-09-28</td>\n",
              "      <td>18:43:16</td>\n",
              "      <td>Scammers. Trash.</td>\n",
              "      <td>2</td>\n",
              "    </tr>\n",
              "    <tr>\n",
              "      <th>4006</th>\n",
              "      <td>1</td>\n",
              "      <td>2021-01-28</td>\n",
              "      <td>09:19:40</td>\n",
              "      <td>😤 😤</td>\n",
              "      <td>2</td>\n",
              "    </tr>\n",
              "    <tr>\n",
              "      <th>4007</th>\n",
              "      <td>1</td>\n",
              "      <td>2021-04-15</td>\n",
              "      <td>10:51:18</td>\n",
              "      <td>. 🤦🏻‍♀️</td>\n",
              "      <td>2</td>\n",
              "    </tr>\n",
              "    <tr>\n",
              "      <th>4230</th>\n",
              "      <td>5</td>\n",
              "      <td>2021-05-12</td>\n",
              "      <td>16:22:47</td>\n",
              "      <td>Yes Kaksnsksksk</td>\n",
              "      <td>2</td>\n",
              "    </tr>\n",
              "    <tr>\n",
              "      <th>4272</th>\n",
              "      <td>5</td>\n",
              "      <td>2020-12-11</td>\n",
              "      <td>08:23:09</td>\n",
              "      <td>Mae0210 5star</td>\n",
              "      <td>2</td>\n",
              "    </tr>\n",
              "    <tr>\n",
              "      <th>4286</th>\n",
              "      <td>1</td>\n",
              "      <td>2020-10-05</td>\n",
              "      <td>15:50:45</td>\n",
              "      <td>trashhhhh trashhhhhh</td>\n",
              "      <td>2</td>\n",
              "    </tr>\n",
              "    <tr>\n",
              "      <th>4299</th>\n",
              "      <td>1</td>\n",
              "      <td>2020-07-26</td>\n",
              "      <td>01:10:49</td>\n",
              "      <td>ULOL Kakainis</td>\n",
              "      <td>2</td>\n",
              "    </tr>\n",
              "    <tr>\n",
              "      <th>4308</th>\n",
              "      <td>5</td>\n",
              "      <td>2020-06-14</td>\n",
              "      <td>14:51:30</td>\n",
              "      <td>omsim 🔥🔥🔥🔥</td>\n",
              "      <td>2</td>\n",
              "    </tr>\n",
              "    <tr>\n",
              "      <th>4325</th>\n",
              "      <td>1</td>\n",
              "      <td>2020-04-17</td>\n",
              "      <td>12:20:45</td>\n",
              "      <td>Nakputaka Nakputaka</td>\n",
              "      <td>2</td>\n",
              "    </tr>\n",
              "    <tr>\n",
              "      <th>4463</th>\n",
              "      <td>4</td>\n",
              "      <td>2021-04-12</td>\n",
              "      <td>08:32:31</td>\n",
              "      <td>svdtstbgdvyvg tvtvyvttttt</td>\n",
              "      <td>2</td>\n",
              "    </tr>\n",
              "    <tr>\n",
              "      <th>4491</th>\n",
              "      <td>1</td>\n",
              "      <td>2021-01-21</td>\n",
              "      <td>02:28:07</td>\n",
              "      <td>Poor WTF</td>\n",
              "      <td>2</td>\n",
              "    </tr>\n",
              "    <tr>\n",
              "      <th>4539</th>\n",
              "      <td>1</td>\n",
              "      <td>2020-09-24</td>\n",
              "      <td>02:47:09</td>\n",
              "      <td>Habducy Hansjaknahd</td>\n",
              "      <td>2</td>\n",
              "    </tr>\n",
              "  </tbody>\n",
              "</table>\n",
              "</div>"
            ],
            "text/plain": [
              "      rating       Dates      Time               final_review  word_count\n",
              "3670       1  2021-02-03  01:50:17          -0 Disappointing.           2\n",
              "3927       5  2021-04-25  03:08:11                  Good Good           2\n",
              "3943       2  2020-09-28  18:43:16           Scammers. Trash.           2\n",
              "4006       1  2021-01-28  09:19:40                        😤 😤           2\n",
              "4007       1  2021-04-15  10:51:18                    . 🤦🏻‍♀️           2\n",
              "4230       5  2021-05-12  16:22:47            Yes Kaksnsksksk           2\n",
              "4272       5  2020-12-11  08:23:09              Mae0210 5star           2\n",
              "4286       1  2020-10-05  15:50:45       trashhhhh trashhhhhh           2\n",
              "4299       1  2020-07-26  01:10:49              ULOL Kakainis           2\n",
              "4308       5  2020-06-14  14:51:30                 omsim 🔥🔥🔥🔥           2\n",
              "4325       1  2020-04-17  12:20:45        Nakputaka Nakputaka           2\n",
              "4463       4  2021-04-12  08:32:31  svdtstbgdvyvg tvtvyvttttt           2\n",
              "4491       1  2021-01-21  02:28:07                   Poor WTF           2\n",
              "4539       1  2020-09-24  02:47:09        Habducy Hansjaknahd           2"
            ]
          },
          "metadata": {
            "tags": []
          },
          "execution_count": 23
        }
      ]
    },
    {
      "cell_type": "markdown",
      "metadata": {
        "id": "Lq7vd0-ZoaUI"
      },
      "source": [
        "## Part 2: Text Cleaning\n",
        "\n",
        "Now that we have done the initial cleaning of the df, let us now proceed to text cleaning for topic modeling purposes.\n",
        "\n",
        "My approach in this notebook would be as follows:\n",
        "1. Do the necessary text cleaning steps (remove encodings, lowercase, strip punctutation, expand contractions etc)\n",
        "2. Remove Filipino stop words and possibly lemmatize Filipino words\n",
        "3. Remove English stop words and lemmatize\n",
        "4. Tokenization and other methods"
      ]
    },
    {
      "cell_type": "code",
      "metadata": {
        "id": "nPooN-xVpA40",
        "colab": {
          "base_uri": "https://localhost:8080/",
          "height": 173
        },
        "outputId": "5a7f44e0-f951-4bb9-81f2-dd79568d4272"
      },
      "source": [
        "df2.head(4)"
      ],
      "execution_count": 24,
      "outputs": [
        {
          "output_type": "execute_result",
          "data": {
            "text/html": [
              "<div>\n",
              "<style scoped>\n",
              "    .dataframe tbody tr th:only-of-type {\n",
              "        vertical-align: middle;\n",
              "    }\n",
              "\n",
              "    .dataframe tbody tr th {\n",
              "        vertical-align: top;\n",
              "    }\n",
              "\n",
              "    .dataframe thead th {\n",
              "        text-align: right;\n",
              "    }\n",
              "</style>\n",
              "<table border=\"1\" class=\"dataframe\">\n",
              "  <thead>\n",
              "    <tr style=\"text-align: right;\">\n",
              "      <th></th>\n",
              "      <th>rating</th>\n",
              "      <th>Dates</th>\n",
              "      <th>Time</th>\n",
              "      <th>final_review</th>\n",
              "      <th>word_count</th>\n",
              "    </tr>\n",
              "  </thead>\n",
              "  <tbody>\n",
              "    <tr>\n",
              "      <th>1</th>\n",
              "      <td>5</td>\n",
              "      <td>2020-05-16</td>\n",
              "      <td>07:33:32</td>\n",
              "      <td>Actually ok. This app gets so many negative re...</td>\n",
              "      <td>205</td>\n",
              "    </tr>\n",
              "    <tr>\n",
              "      <th>2</th>\n",
              "      <td>3</td>\n",
              "      <td>2020-02-04</td>\n",
              "      <td>00:25:57</td>\n",
              "      <td>Cash In Concern A little bit disappointed when...</td>\n",
              "      <td>186</td>\n",
              "    </tr>\n",
              "    <tr>\n",
              "      <th>6</th>\n",
              "      <td>5</td>\n",
              "      <td>2020-06-07</td>\n",
              "      <td>04:57:17</td>\n",
              "      <td>Gcash user since 2018 I've been using gcash fo...</td>\n",
              "      <td>173</td>\n",
              "    </tr>\n",
              "    <tr>\n",
              "      <th>7</th>\n",
              "      <td>1</td>\n",
              "      <td>2020-04-26</td>\n",
              "      <td>04:57:47</td>\n",
              "      <td>GCash is Losing its Prime Okay GCash dati 3-4 ...</td>\n",
              "      <td>250</td>\n",
              "    </tr>\n",
              "  </tbody>\n",
              "</table>\n",
              "</div>"
            ],
            "text/plain": [
              "   rating  ... word_count\n",
              "1       5  ...        205\n",
              "2       3  ...        186\n",
              "6       5  ...        173\n",
              "7       1  ...        250\n",
              "\n",
              "[4 rows x 5 columns]"
            ]
          },
          "metadata": {
            "tags": []
          },
          "execution_count": 24
        }
      ]
    },
    {
      "cell_type": "markdown",
      "metadata": {
        "id": "nqoUPaB6qqH8"
      },
      "source": [
        "#### Remove emojis and emoticons"
      ]
    },
    {
      "cell_type": "code",
      "metadata": {
        "id": "1-kVVzdSoOJi",
        "colab": {
          "base_uri": "https://localhost:8080/",
          "height": 35
        },
        "outputId": "f37862fd-5d7a-49fc-d1f0-c02dfbe88dcd"
      },
      "source": [
        "# Remove emojis and emoticons\n",
        "\n",
        "# Code block 1: remove emojis\n",
        "def remove_emoji(text):\n",
        "    emoji_pattern = re.compile(\"[\"\n",
        "                               u\"\\U0001F600-\\U0001F64F\"  # emoticons\n",
        "                               u\"\\U0001F300-\\U0001F5FF\"  # symbols & pictographs\n",
        "                               u\"\\U0001F680-\\U0001F6FF\"  # transport & map symbols\n",
        "                               u\"\\U0001F1E0-\\U0001F1FF\"  # flags (iOS)\n",
        "                               u\"\\U00002500-\\U00002BEF\"  # chinese char\n",
        "                               u\"\\U00002702-\\U000027B0\"\n",
        "                               u\"\\U00002702-\\U000027B0\"\n",
        "                               u\"\\U000024C2-\\U0001F251\"\n",
        "                               u\"\\U0001f926-\\U0001f937\"\n",
        "                               u\"\\U00010000-\\U0010ffff\"\n",
        "                               u\"\\u2640-\\u2642\"\n",
        "                               u\"\\u2600-\\u2B55\"\n",
        "                               u\"\\u200d\"\n",
        "                               u\"\\u23cf\"\n",
        "                               u\"\\u23e9\"\n",
        "                               u\"\\u231a\"\n",
        "                               u\"\\ufe0f\"  # dingbats\n",
        "                               u\"\\u3030\"\n",
        "                               \"]+\", flags=re.UNICODE)\n",
        "    return emoji_pattern.sub(r'', text)\n",
        "\n",
        "#Example\n",
        "remove_emoji(\"Have fun with NLP! 😃😃\")"
      ],
      "execution_count": 25,
      "outputs": [
        {
          "output_type": "execute_result",
          "data": {
            "application/vnd.google.colaboratory.intrinsic+json": {
              "type": "string"
            },
            "text/plain": [
              "'Have fun with NLP! '"
            ]
          },
          "metadata": {
            "tags": []
          },
          "execution_count": 25
        }
      ]
    },
    {
      "cell_type": "code",
      "metadata": {
        "id": "YGgq_VLMpBZI"
      },
      "source": [
        "# apply the remove emoji function to the review column\n",
        "df2['final_review'] = df2['final_review'].apply(lambda x: remove_emoji(x))"
      ],
      "execution_count": 26,
      "outputs": []
    },
    {
      "cell_type": "code",
      "metadata": {
        "id": "gnWhX4oF4rTm",
        "colab": {
          "base_uri": "https://localhost:8080/",
          "height": 49
        },
        "outputId": "5caf5318-5594-46fc-bba8-f601bec207c6"
      },
      "source": [
        "df2.loc[df2['word_count'].isin([1])]"
      ],
      "execution_count": 27,
      "outputs": [
        {
          "output_type": "execute_result",
          "data": {
            "text/html": [
              "<div>\n",
              "<style scoped>\n",
              "    .dataframe tbody tr th:only-of-type {\n",
              "        vertical-align: middle;\n",
              "    }\n",
              "\n",
              "    .dataframe tbody tr th {\n",
              "        vertical-align: top;\n",
              "    }\n",
              "\n",
              "    .dataframe thead th {\n",
              "        text-align: right;\n",
              "    }\n",
              "</style>\n",
              "<table border=\"1\" class=\"dataframe\">\n",
              "  <thead>\n",
              "    <tr style=\"text-align: right;\">\n",
              "      <th></th>\n",
              "      <th>rating</th>\n",
              "      <th>Dates</th>\n",
              "      <th>Time</th>\n",
              "      <th>final_review</th>\n",
              "      <th>word_count</th>\n",
              "    </tr>\n",
              "  </thead>\n",
              "  <tbody>\n",
              "  </tbody>\n",
              "</table>\n",
              "</div>"
            ],
            "text/plain": [
              "Empty DataFrame\n",
              "Columns: [rating, Dates, Time, final_review, word_count]\n",
              "Index: []"
            ]
          },
          "metadata": {
            "tags": []
          },
          "execution_count": 27
        }
      ]
    },
    {
      "cell_type": "code",
      "metadata": {
        "id": "ScKSA3NdpBWc"
      },
      "source": [
        "# Code block 2: remove emoticons\n",
        "\n",
        "# from emot.emo_unicode import UNICODE_EMO, EMOTICONS\n",
        "\n",
        "# Function for removing emoticons\n",
        "def remove_emoticons(text):\n",
        "    emoticon_pattern = re.compile(u'(' + u'|'.join(k for k in EMOTICONS) + u')')\n",
        "    return emoticon_pattern.sub(r'', text)\n"
      ],
      "execution_count": 28,
      "outputs": []
    },
    {
      "cell_type": "code",
      "metadata": {
        "id": "cEEFqPvjpBUJ",
        "colab": {
          "base_uri": "https://localhost:8080/",
          "height": 35
        },
        "outputId": "ded8629a-353a-4a2d-dc21-c4f09313d19c"
      },
      "source": [
        "#Example\n",
        "remove_emoticons(\"I used to play Super Mario games :)\")"
      ],
      "execution_count": 29,
      "outputs": [
        {
          "output_type": "execute_result",
          "data": {
            "application/vnd.google.colaboratory.intrinsic+json": {
              "type": "string"
            },
            "text/plain": [
              "'I used to play Super Mario games '"
            ]
          },
          "metadata": {
            "tags": []
          },
          "execution_count": 29
        }
      ]
    },
    {
      "cell_type": "code",
      "metadata": {
        "id": "f6M_EzAIpBR0"
      },
      "source": [
        "# Applying remove emoticons code\n",
        "df2['final_review'] = df2['final_review'].apply(lambda x: remove_emoticons(x))"
      ],
      "execution_count": 30,
      "outputs": []
    },
    {
      "cell_type": "code",
      "metadata": {
        "id": "2m7Dz2O46e-u"
      },
      "source": [
        "df2['word_count'] = df2['final_review'].str.split().str.len()"
      ],
      "execution_count": 31,
      "outputs": []
    },
    {
      "cell_type": "code",
      "metadata": {
        "id": "TbCMWEv-6iUq",
        "colab": {
          "base_uri": "https://localhost:8080/"
        },
        "outputId": "c2d52e9d-6ccb-495e-963a-f31c382b0e27"
      },
      "source": [
        "df2['word_count'].value_counts().sort_index().head(6)"
      ],
      "execution_count": 32,
      "outputs": [
        {
          "output_type": "execute_result",
          "data": {
            "text/plain": [
              "0     1\n",
              "1     2\n",
              "2    11\n",
              "3     5\n",
              "4    22\n",
              "5    28\n",
              "Name: word_count, dtype: int64"
            ]
          },
          "metadata": {
            "tags": []
          },
          "execution_count": 32
        }
      ]
    },
    {
      "cell_type": "code",
      "metadata": {
        "id": "Wb68E15s6rHy",
        "colab": {
          "base_uri": "https://localhost:8080/",
          "height": 390
        },
        "outputId": "e03e8383-42a4-4248-ac65-ce05fa9116ee"
      },
      "source": [
        "df2.loc[df2['word_count'].isin([2])]"
      ],
      "execution_count": 33,
      "outputs": [
        {
          "output_type": "execute_result",
          "data": {
            "text/html": [
              "<div>\n",
              "<style scoped>\n",
              "    .dataframe tbody tr th:only-of-type {\n",
              "        vertical-align: middle;\n",
              "    }\n",
              "\n",
              "    .dataframe tbody tr th {\n",
              "        vertical-align: top;\n",
              "    }\n",
              "\n",
              "    .dataframe thead th {\n",
              "        text-align: right;\n",
              "    }\n",
              "</style>\n",
              "<table border=\"1\" class=\"dataframe\">\n",
              "  <thead>\n",
              "    <tr style=\"text-align: right;\">\n",
              "      <th></th>\n",
              "      <th>rating</th>\n",
              "      <th>Dates</th>\n",
              "      <th>Time</th>\n",
              "      <th>final_review</th>\n",
              "      <th>word_count</th>\n",
              "    </tr>\n",
              "  </thead>\n",
              "  <tbody>\n",
              "    <tr>\n",
              "      <th>3670</th>\n",
              "      <td>1</td>\n",
              "      <td>2021-02-03</td>\n",
              "      <td>01:50:17</td>\n",
              "      <td>-0 Disappointing.</td>\n",
              "      <td>2</td>\n",
              "    </tr>\n",
              "    <tr>\n",
              "      <th>3927</th>\n",
              "      <td>5</td>\n",
              "      <td>2021-04-25</td>\n",
              "      <td>03:08:11</td>\n",
              "      <td>Good Good</td>\n",
              "      <td>2</td>\n",
              "    </tr>\n",
              "    <tr>\n",
              "      <th>3943</th>\n",
              "      <td>2</td>\n",
              "      <td>2020-09-28</td>\n",
              "      <td>18:43:16</td>\n",
              "      <td>Scammers. Trash.</td>\n",
              "      <td>2</td>\n",
              "    </tr>\n",
              "    <tr>\n",
              "      <th>4230</th>\n",
              "      <td>5</td>\n",
              "      <td>2021-05-12</td>\n",
              "      <td>16:22:47</td>\n",
              "      <td>Yes Kaksnsksksk</td>\n",
              "      <td>2</td>\n",
              "    </tr>\n",
              "    <tr>\n",
              "      <th>4272</th>\n",
              "      <td>5</td>\n",
              "      <td>2020-12-11</td>\n",
              "      <td>08:23:09</td>\n",
              "      <td>Mae0210 5star</td>\n",
              "      <td>2</td>\n",
              "    </tr>\n",
              "    <tr>\n",
              "      <th>4286</th>\n",
              "      <td>1</td>\n",
              "      <td>2020-10-05</td>\n",
              "      <td>15:50:45</td>\n",
              "      <td>trashhhhh trashhhhhh</td>\n",
              "      <td>2</td>\n",
              "    </tr>\n",
              "    <tr>\n",
              "      <th>4299</th>\n",
              "      <td>1</td>\n",
              "      <td>2020-07-26</td>\n",
              "      <td>01:10:49</td>\n",
              "      <td>ULOL Kakainis</td>\n",
              "      <td>2</td>\n",
              "    </tr>\n",
              "    <tr>\n",
              "      <th>4325</th>\n",
              "      <td>1</td>\n",
              "      <td>2020-04-17</td>\n",
              "      <td>12:20:45</td>\n",
              "      <td>Nakputaka Nakputaka</td>\n",
              "      <td>2</td>\n",
              "    </tr>\n",
              "    <tr>\n",
              "      <th>4463</th>\n",
              "      <td>4</td>\n",
              "      <td>2021-04-12</td>\n",
              "      <td>08:32:31</td>\n",
              "      <td>svdtstbgdvyvg tvtvyvttttt</td>\n",
              "      <td>2</td>\n",
              "    </tr>\n",
              "    <tr>\n",
              "      <th>4491</th>\n",
              "      <td>1</td>\n",
              "      <td>2021-01-21</td>\n",
              "      <td>02:28:07</td>\n",
              "      <td>Poor WTF</td>\n",
              "      <td>2</td>\n",
              "    </tr>\n",
              "    <tr>\n",
              "      <th>4539</th>\n",
              "      <td>1</td>\n",
              "      <td>2020-09-24</td>\n",
              "      <td>02:47:09</td>\n",
              "      <td>Habducy Hansjaknahd</td>\n",
              "      <td>2</td>\n",
              "    </tr>\n",
              "  </tbody>\n",
              "</table>\n",
              "</div>"
            ],
            "text/plain": [
              "      rating       Dates      Time               final_review  word_count\n",
              "3670       1  2021-02-03  01:50:17          -0 Disappointing.           2\n",
              "3927       5  2021-04-25  03:08:11                  Good Good           2\n",
              "3943       2  2020-09-28  18:43:16           Scammers. Trash.           2\n",
              "4230       5  2021-05-12  16:22:47            Yes Kaksnsksksk           2\n",
              "4272       5  2020-12-11  08:23:09              Mae0210 5star           2\n",
              "4286       1  2020-10-05  15:50:45       trashhhhh trashhhhhh           2\n",
              "4299       1  2020-07-26  01:10:49              ULOL Kakainis           2\n",
              "4325       1  2020-04-17  12:20:45        Nakputaka Nakputaka           2\n",
              "4463       4  2021-04-12  08:32:31  svdtstbgdvyvg tvtvyvttttt           2\n",
              "4491       1  2021-01-21  02:28:07                   Poor WTF           2\n",
              "4539       1  2020-09-24  02:47:09        Habducy Hansjaknahd           2"
            ]
          },
          "metadata": {
            "tags": []
          },
          "execution_count": 33
        }
      ]
    },
    {
      "cell_type": "markdown",
      "metadata": {
        "id": "1ZTZZsvPs7qH"
      },
      "source": [
        "#### Remove \\n, \\t, \\r"
      ]
    },
    {
      "cell_type": "code",
      "metadata": {
        "id": "EyJMBkgJpBPZ",
        "colab": {
          "base_uri": "https://localhost:8080/",
          "height": 137
        },
        "outputId": "e02d7049-9a6c-40f9-ffba-92abf5b8dcef"
      },
      "source": [
        "df2['final_review'][12]"
      ],
      "execution_count": 34,
      "outputs": [
        {
          "output_type": "execute_result",
          "data": {
            "application/vnd.google.colaboratory.intrinsic+json": {
              "type": "string"
            },
            "text/plain": [
              "'Best Finance App! GCash is a big help, indeed. I’ve been using using this app since 2017 and it really helped me to be more financially literate for it has a lot of features that will enable youth professionals to efficiently manage their finances. \\r\\n\\r\\nSome of the best features include:\\r\\n- It allows you to buy load and earn rebates! \\r\\n- Upon registering to promo, you can earn coupons which you can use on scan to pay features\\r\\n- allows you to save with high interest, and invest too! \\r\\n- easily transfer funds to bank with real-time posting and no extra fees! \\r\\n- Scan to pay is very useful\\r\\n- Secured and convenient e-wallet\\r\\n- Wide-range of coverage, a lot of establishments are using GCash already!\\r\\n- You can help nature by just loading or walking! \\r\\n- Smooth application\\r\\n\\r\\nWhy 4 star not 5 then? \\r\\nI think there is a need for the following upgrades: \\r\\n\\r\\n1. GCredit\\r\\nAllow users to pay it in installment. Like for 5,000 they can choose of to pay it within 3 to 5 months. \\r\\n\\r\\nInclude card for GCredit\\r\\n\\r\\n2. Customer Service\\r\\nYou know what to do. Customer service is really 1/5, honestly. \\r\\n\\r\\n3. User interface and security\\r\\nAllow users to log in using only fingerprint. \\r\\n\\r\\n4. Partner Establishments\\r\\nSome cashiers don’t know how to transact using GCash pushing some establishments not to offer it to customers\\r\\n\\r\\n5. Vouchers\\r\\nVouchers must be universal.'"
            ]
          },
          "metadata": {
            "tags": []
          },
          "execution_count": 34
        }
      ]
    },
    {
      "cell_type": "code",
      "metadata": {
        "id": "ivmQynWXq0Tf"
      },
      "source": [
        "# Remove \\r \\n \\t\n",
        "df2['final_review'] = df2['final_review'].replace(r'\\r+|\\n+|\\t+',' ', regex=True)"
      ],
      "execution_count": 35,
      "outputs": []
    },
    {
      "cell_type": "code",
      "metadata": {
        "id": "9FmRYWRPrzrk",
        "colab": {
          "base_uri": "https://localhost:8080/",
          "height": 137
        },
        "outputId": "89a039b2-8f35-4a4e-effe-749b64b20678"
      },
      "source": [
        "df2['final_review'][12]"
      ],
      "execution_count": 36,
      "outputs": [
        {
          "output_type": "execute_result",
          "data": {
            "application/vnd.google.colaboratory.intrinsic+json": {
              "type": "string"
            },
            "text/plain": [
              "'Best Finance App! GCash is a big help, indeed. I’ve been using using this app since 2017 and it really helped me to be more financially literate for it has a lot of features that will enable youth professionals to efficiently manage their finances.     Some of the best features include:  - It allows you to buy load and earn rebates!   - Upon registering to promo, you can earn coupons which you can use on scan to pay features  - allows you to save with high interest, and invest too!   - easily transfer funds to bank with real-time posting and no extra fees!   - Scan to pay is very useful  - Secured and convenient e-wallet  - Wide-range of coverage, a lot of establishments are using GCash already!  - You can help nature by just loading or walking!   - Smooth application    Why 4 star not 5 then?   I think there is a need for the following upgrades:     1. GCredit  Allow users to pay it in installment. Like for 5,000 they can choose of to pay it within 3 to 5 months.     Include card for GCredit    2. Customer Service  You know what to do. Customer service is really 1/5, honestly.     3. User interface and security  Allow users to log in using only fingerprint.     4. Partner Establishments  Some cashiers don’t know how to transact using GCash pushing some establishments not to offer it to customers    5. Vouchers  Vouchers must be universal.'"
            ]
          },
          "metadata": {
            "tags": []
          },
          "execution_count": 36
        }
      ]
    },
    {
      "cell_type": "markdown",
      "metadata": {
        "id": "b5flG9ahs_Uf"
      },
      "source": [
        "#### Convert reviews to lowercase"
      ]
    },
    {
      "cell_type": "code",
      "metadata": {
        "id": "4bzVVHrhr05N",
        "colab": {
          "base_uri": "https://localhost:8080/"
        },
        "outputId": "bb5da008-ffea-4572-e742-66c4f6552d26"
      },
      "source": [
        "df2['final_review'] = df2['final_review'].apply(lambda x: \" \".join(x.lower() for x in x.split()))\n",
        "df2['final_review'].head()"
      ],
      "execution_count": 37,
      "outputs": [
        {
          "output_type": "execute_result",
          "data": {
            "text/plain": [
              "1    actually ok. this app gets so many negative re...\n",
              "2    cash in concern a little bit disappointed when...\n",
              "6    gcash user since 2018 i've been using gcash fo...\n",
              "7    gcash is losing its prime okay gcash dati 3-4 ...\n",
              "8    read please!! those others who doesn’t like gc...\n",
              "Name: final_review, dtype: object"
            ]
          },
          "metadata": {
            "tags": []
          },
          "execution_count": 37
        }
      ]
    },
    {
      "cell_type": "markdown",
      "metadata": {
        "id": "IK-5OOm1tA_8"
      },
      "source": [
        "#### Removing URLS"
      ]
    },
    {
      "cell_type": "code",
      "metadata": {
        "id": "fB1_dc9DtAx1",
        "colab": {
          "base_uri": "https://localhost:8080/"
        },
        "outputId": "8dd58c3c-1bee-4f93-ec50-281f07031652"
      },
      "source": [
        "# import re\n",
        "\n",
        "def remove_urls (vTEXT):\n",
        "    vTEXT = re.sub(r'(https|http)?:\\/\\/(\\w|\\.|\\/|\\?|\\=|\\&|\\%)*\\b', '', vTEXT, flags=re.MULTILINE)\n",
        "    return(vTEXT)\n",
        "\n",
        "df2['final_review'] = df2.final_review.apply(remove_urls)\n",
        "df2.final_review.head()"
      ],
      "execution_count": 38,
      "outputs": [
        {
          "output_type": "execute_result",
          "data": {
            "text/plain": [
              "1    actually ok. this app gets so many negative re...\n",
              "2    cash in concern a little bit disappointed when...\n",
              "6    gcash user since 2018 i've been using gcash fo...\n",
              "7    gcash is losing its prime okay gcash dati 3-4 ...\n",
              "8    read please!! those others who doesn’t like gc...\n",
              "Name: final_review, dtype: object"
            ]
          },
          "metadata": {
            "tags": []
          },
          "execution_count": 38
        }
      ]
    },
    {
      "cell_type": "markdown",
      "metadata": {
        "id": "KqalMpi-tAPy"
      },
      "source": [
        "#### Expand Contractions\n",
        "\n",
        "Contractions are words or combinations of words which are shortened by dropping letters and replacing them by an apostrophe. \n",
        "\n",
        "Let’s have a look at some examples:\n",
        "* we’re = we are\n",
        "* we’ve = we have\n",
        "* I’d = I would\n",
        "\n",
        "Note: This step needs to be done before word tokenizer because NLTK word tokenizer has in-built methods for dealing with contractions. However, NLTK word tokenizer's approach separates contractions without expanding. Expanding is a better method than simply separating."
      ]
    },
    {
      "cell_type": "code",
      "metadata": {
        "id": "lJEvu_uqt2-B",
        "colab": {
          "base_uri": "https://localhost:8080/"
        },
        "outputId": "a6450452-099a-47b6-df5b-5d8f32bb5439"
      },
      "source": [
        "# import contractions\n",
        "\n",
        "# Example text \n",
        "text = ''' She'll be airport in 30 mins. We are supposed to catch the arrival, aren't we?  \n",
        "          I'd love to welcome her personally. It'll be an awesome vacation.'''\n",
        "  \n",
        "# creating an empty list \n",
        "expanded_words = []     \n",
        "for word in text.split(): \n",
        "  # using contractions.fix to expand the shotened words \n",
        "  expanded_words.append(contractions.fix(word))    \n",
        "    \n",
        "expanded_text = ' '.join(expanded_words) \n",
        "print('Original text: ' + text) \n",
        "print('\\n') \n",
        "print('Expanded_text: ' + expanded_text)"
      ],
      "execution_count": 39,
      "outputs": [
        {
          "output_type": "stream",
          "text": [
            "Original text:  She'll be airport in 30 mins. We are supposed to catch the arrival, aren't we?  \n",
            "          I'd love to welcome her personally. It'll be an awesome vacation.\n",
            "\n",
            "\n",
            "Expanded_text: she will be airport in 30 mins. We are supposed to catch the arrival, are not we? I would love to welcome her personally. it will be an awesome vacation.\n"
          ],
          "name": "stdout"
        }
      ]
    },
    {
      "cell_type": "code",
      "metadata": {
        "id": "N0IDX825uCsp",
        "colab": {
          "base_uri": "https://localhost:8080/"
        },
        "outputId": "2d004da7-3d83-4c26-fe36-d9bc9a5be191"
      },
      "source": [
        "df2['final_review'] = df2['final_review'].apply(lambda x: contractions.fix(x))\n",
        "df.final_review.sample(5)"
      ],
      "execution_count": 40,
      "outputs": [
        {
          "output_type": "execute_result",
          "data": {
            "text/plain": [
              "3867                 Concern Why I cant verify my TM no.?\n",
              "1914    Automatically log out I have no other devices ...\n",
              "2780    voucher pocket expiring soon when i use my vou...\n",
              "46      This selfish app doesn’t care about the custom...\n",
              "2137    Not useful I can’t link any bank account. Befo...\n",
              "Name: final_review, dtype: object"
            ]
          },
          "metadata": {
            "tags": []
          },
          "execution_count": 40
        }
      ]
    },
    {
      "cell_type": "markdown",
      "metadata": {
        "id": "p4bv6vQhrNSX"
      },
      "source": [
        "#### Removing 1 and 2 word reviews + Separating good and bad reviews into separate dataframes"
      ]
    },
    {
      "cell_type": "code",
      "metadata": {
        "id": "Zl_8q8fZrOf6"
      },
      "source": [
        "df2 = df2.reset_index()"
      ],
      "execution_count": 41,
      "outputs": []
    },
    {
      "cell_type": "code",
      "metadata": {
        "id": "aitS9LHUsYN9",
        "colab": {
          "base_uri": "https://localhost:8080/",
          "height": 137
        },
        "outputId": "e126df3e-b462-428a-ba82-4bd68e9cc864"
      },
      "source": [
        "df2.final_review[11]"
      ],
      "execution_count": 42,
      "outputs": [
        {
          "output_type": "execute_result",
          "data": {
            "application/vnd.google.colaboratory.intrinsic+json": {
              "type": "string"
            },
            "text/plain": [
              "'was good, but... i use gcash to pay my bills. my bank (hsbc, is not one of the banks that has direct communication with gcash, but i was able to cash in via the mastercard/visa option. now they removed it. since hsbc online does not support gcash, i need to physically withdraw money, and cash in via over the counter. this is a shame because of the current pandemic, i want to stay away from people as much as possible. now it is two crowded areas i have to go to. another thing, 7-11’s cash in is a confusing robbery! i did two transactions, because they only allowed up to 10k for a transaction. the 10k cost 60php but the 9.1k transaction was 180php! what?! one more, i linked it with my app store. i bought an in game product, got deducted, but nothing was credited to my account. i contacted the ticket desk, but there has been no reply except for an automated thank you note. convenience was the only thing you had going for you, and you are messing it up just like all other globe services.'"
            ]
          },
          "metadata": {
            "tags": []
          },
          "execution_count": 42
        }
      ]
    },
    {
      "cell_type": "code",
      "metadata": {
        "id": "ozkqWlMVs6XL",
        "colab": {
          "base_uri": "https://localhost:8080/"
        },
        "outputId": "981c74b5-d742-4c17-ea28-bac1b97024d2"
      },
      "source": [
        "df2['word_count'].value_counts().sort_index().head(6)"
      ],
      "execution_count": 43,
      "outputs": [
        {
          "output_type": "execute_result",
          "data": {
            "text/plain": [
              "0     1\n",
              "1     2\n",
              "2    11\n",
              "3     5\n",
              "4    22\n",
              "5    28\n",
              "Name: word_count, dtype: int64"
            ]
          },
          "metadata": {
            "tags": []
          },
          "execution_count": 43
        }
      ]
    },
    {
      "cell_type": "code",
      "metadata": {
        "id": "8RVYXyHwtFsW",
        "colab": {
          "base_uri": "https://localhost:8080/",
          "height": 204
        },
        "outputId": "9d4ec9b7-ba5e-48e6-fbab-6817fb5decd4"
      },
      "source": [
        "df2.loc[df2['word_count'].isin([3])]"
      ],
      "execution_count": 44,
      "outputs": [
        {
          "output_type": "execute_result",
          "data": {
            "text/html": [
              "<div>\n",
              "<style scoped>\n",
              "    .dataframe tbody tr th:only-of-type {\n",
              "        vertical-align: middle;\n",
              "    }\n",
              "\n",
              "    .dataframe tbody tr th {\n",
              "        vertical-align: top;\n",
              "    }\n",
              "\n",
              "    .dataframe thead th {\n",
              "        text-align: right;\n",
              "    }\n",
              "</style>\n",
              "<table border=\"1\" class=\"dataframe\">\n",
              "  <thead>\n",
              "    <tr style=\"text-align: right;\">\n",
              "      <th></th>\n",
              "      <th>index</th>\n",
              "      <th>rating</th>\n",
              "      <th>Dates</th>\n",
              "      <th>Time</th>\n",
              "      <th>final_review</th>\n",
              "      <th>word_count</th>\n",
              "    </tr>\n",
              "  </thead>\n",
              "  <tbody>\n",
              "    <tr>\n",
              "      <th>1416</th>\n",
              "      <td>2715</td>\n",
              "      <td>2</td>\n",
              "      <td>2020-05-01</td>\n",
              "      <td>01:32:09</td>\n",
              "      <td>system always down!!</td>\n",
              "      <td>3</td>\n",
              "    </tr>\n",
              "    <tr>\n",
              "      <th>1907</th>\n",
              "      <td>3603</td>\n",
              "      <td>4</td>\n",
              "      <td>2021-01-18</td>\n",
              "      <td>15:06:28</td>\n",
              "      <td>gcash 5 30</td>\n",
              "      <td>3</td>\n",
              "    </tr>\n",
              "    <tr>\n",
              "      <th>2061</th>\n",
              "      <td>3872</td>\n",
              "      <td>1</td>\n",
              "      <td>2020-04-21</td>\n",
              "      <td>02:23:58</td>\n",
              "      <td>worst very unreliable</td>\n",
              "      <td>3</td>\n",
              "    </tr>\n",
              "    <tr>\n",
              "      <th>2133</th>\n",
              "      <td>3986</td>\n",
              "      <td>1</td>\n",
              "      <td>2020-07-05</td>\n",
              "      <td>04:15:02</td>\n",
              "      <td>no freebies scam</td>\n",
              "      <td>3</td>\n",
              "    </tr>\n",
              "    <tr>\n",
              "      <th>2168</th>\n",
              "      <td>4237</td>\n",
              "      <td>1</td>\n",
              "      <td>2021-04-14</td>\n",
              "      <td>16:40:57</td>\n",
              "      <td>stup1d app mandarambong</td>\n",
              "      <td>3</td>\n",
              "    </tr>\n",
              "  </tbody>\n",
              "</table>\n",
              "</div>"
            ],
            "text/plain": [
              "      index  rating       Dates      Time             final_review  word_count\n",
              "1416   2715       2  2020-05-01  01:32:09     system always down!!           3\n",
              "1907   3603       4  2021-01-18  15:06:28               gcash 5 30           3\n",
              "2061   3872       1  2020-04-21  02:23:58    worst very unreliable           3\n",
              "2133   3986       1  2020-07-05  04:15:02         no freebies scam           3\n",
              "2168   4237       1  2021-04-14  16:40:57  stup1d app mandarambong           3"
            ]
          },
          "metadata": {
            "tags": []
          },
          "execution_count": 44
        }
      ]
    },
    {
      "cell_type": "code",
      "metadata": {
        "colab": {
          "base_uri": "https://localhost:8080/"
        },
        "id": "EPop67esTwU2",
        "outputId": "a1b2f6ff-f284-4687-d004-815fa777a4df"
      },
      "source": [
        "df2['rating'].value_counts()"
      ],
      "execution_count": 45,
      "outputs": [
        {
          "output_type": "execute_result",
          "data": {
            "text/plain": [
              "1    1456\n",
              "2     373\n",
              "3     358\n",
              "5     182\n",
              "4     129\n",
              "Name: rating, dtype: int64"
            ]
          },
          "metadata": {
            "tags": []
          },
          "execution_count": 45
        }
      ]
    },
    {
      "cell_type": "code",
      "metadata": {
        "id": "O25Gmtg8td4b"
      },
      "source": [
        "df3 = df2.copy()\n",
        "\n",
        "df3 = df3[~df3['word_count'].isin([0,1,2])]"
      ],
      "execution_count": 46,
      "outputs": []
    },
    {
      "cell_type": "code",
      "metadata": {
        "id": "qHuAMy4EuOFM",
        "colab": {
          "base_uri": "https://localhost:8080/"
        },
        "outputId": "07614ce6-7884-4aa7-c0f4-ec0ff4dc6240"
      },
      "source": [
        "df2.shape"
      ],
      "execution_count": 47,
      "outputs": [
        {
          "output_type": "execute_result",
          "data": {
            "text/plain": [
              "(2498, 6)"
            ]
          },
          "metadata": {
            "tags": []
          },
          "execution_count": 47
        }
      ]
    },
    {
      "cell_type": "code",
      "metadata": {
        "id": "6Fz9Xy1VtvEG",
        "colab": {
          "base_uri": "https://localhost:8080/"
        },
        "outputId": "5fa72695-6f0b-4231-f638-9480ed09fbf1"
      },
      "source": [
        "df3.shape "
      ],
      "execution_count": 48,
      "outputs": [
        {
          "output_type": "execute_result",
          "data": {
            "text/plain": [
              "(2484, 6)"
            ]
          },
          "metadata": {
            "tags": []
          },
          "execution_count": 48
        }
      ]
    },
    {
      "cell_type": "code",
      "metadata": {
        "id": "99VN8PK0up3w"
      },
      "source": [
        "df_goodreviews = df3.loc[df['rating'].isin([5])].copy()\n",
        "df_badreviews = df3.loc[df['rating'].isin([1])].copy()"
      ],
      "execution_count": 49,
      "outputs": []
    },
    {
      "cell_type": "code",
      "metadata": {
        "id": "jN7p7nXJu3Oo",
        "colab": {
          "base_uri": "https://localhost:8080/"
        },
        "outputId": "ed65f7f5-bdbf-4def-d0d3-e9c7f8b52a9e"
      },
      "source": [
        "print(f'df_good_reviews: {df_goodreviews.shape}')\n",
        "print(f'df_bad_reviews: {df_badreviews.shape}')"
      ],
      "execution_count": 50,
      "outputs": [
        {
          "output_type": "stream",
          "text": [
            "df_good_reviews: (354, 6)\n",
            "df_bad_reviews: (1073, 6)\n"
          ],
          "name": "stdout"
        }
      ]
    },
    {
      "cell_type": "markdown",
      "metadata": {
        "id": "d_pLdqoI5EDQ"
      },
      "source": [
        "## Part 3: Modeling"
      ]
    },
    {
      "cell_type": "markdown",
      "metadata": {
        "id": "b8n-F4EhvhOi"
      },
      "source": [
        "#### Download nltk English stopwords and spacy model (EN for lemmatization)"
      ]
    },
    {
      "cell_type": "code",
      "metadata": {
        "id": "eQKmjCz9AKZZ",
        "colab": {
          "base_uri": "https://localhost:8080/"
        },
        "outputId": "9a29a3fc-deee-406f-a5e5-11f2091d5749"
      },
      "source": [
        "# Run in python console\n",
        "# import nltk\n",
        "nltk.download('stopwords')\n",
        "\n",
        "# Run in terminal or command prompt\n",
        "#!python3 -m spacy download |en"
      ],
      "execution_count": 51,
      "outputs": [
        {
          "output_type": "stream",
          "text": [
            "[nltk_data] Downloading package stopwords to /root/nltk_data...\n",
            "[nltk_data]   Unzipping corpora/stopwords.zip.\n"
          ],
          "name": "stdout"
        },
        {
          "output_type": "execute_result",
          "data": {
            "text/plain": [
              "True"
            ]
          },
          "metadata": {
            "tags": []
          },
          "execution_count": 51
        }
      ]
    },
    {
      "cell_type": "markdown",
      "metadata": {
        "id": "SPNjyX4XwFIN"
      },
      "source": [
        "#### Prepare Stop Words (English + Tagalog)"
      ]
    },
    {
      "cell_type": "markdown",
      "metadata": {
        "id": "T0wNs4p4xds6"
      },
      "source": [
        "Sources for English stopwords: \n",
        "1. nltk library\n",
        "\n",
        "Sources for Tagalog stopwords:\n",
        "1. Typical Stop Words: https://github.com/stopwords-iso/stopwords-tl/blob/master/stopwords-tl.json\n",
        "2. Profanity : https://github.com/jromest/filipino-badwords-list/blob/master/src/filipino-badwords-list.js"
      ]
    },
    {
      "cell_type": "code",
      "metadata": {
        "id": "LYiereaOAKW9"
      },
      "source": [
        "# from nltk.corpus import stopwords\n",
        "stop_words = stopwords.words('english')"
      ],
      "execution_count": 52,
      "outputs": []
    },
    {
      "cell_type": "code",
      "metadata": {
        "id": "l2cm8VtAyuLd"
      },
      "source": [
        "# import json\n",
        "with open('/content/drive/My Drive/Data/stopwords/tagalog-sw') as file:\n",
        "    tl_stopwords = json.load(file)"
      ],
      "execution_count": 53,
      "outputs": []
    },
    {
      "cell_type": "code",
      "metadata": {
        "id": "YDQe2AUVAKUL"
      },
      "source": [
        "# Extend stopwords to include tagalog + common gcash related words \n",
        "stop_words.extend(tl_stopwords)\n",
        "stop_words.extend(['gcash','g-cash','po', 'app', 'would','can'])\n",
        "stop_words.extend(['nyo','naman','yung', 'di', 'wala ','mag', 'nag', 'pag', 'kayo', 'lang', 'ung', 'niyo', 'tapos', 'ba', 'mo', 'please', 'pls'])\n",
        "stop_words.extend(['nga','yan','yun', 'akong', 'inyo', 'ur', 'star', 'nalang', 'kasi', 'talaga'])\n",
        "stop_words.extend(['nmn', 'nlng','un','blah', 'tru', 'pwede','like','one','globe', 'guys', 'even', 'seems', 'hi', 'guess'])"
      ],
      "execution_count": 54,
      "outputs": []
    },
    {
      "cell_type": "markdown",
      "metadata": {
        "id": "EawABx5ezfTs"
      },
      "source": [
        "#### Tokenize and Clean Up Text some more"
      ]
    },
    {
      "cell_type": "code",
      "metadata": {
        "id": "GWCgWkfwzw8_",
        "colab": {
          "base_uri": "https://localhost:8080/"
        },
        "outputId": "fbf0e1e5-7aaa-49c0-b485-b85e6164f4eb"
      },
      "source": [
        "# Check columns\n",
        "df_badreviews.columns"
      ],
      "execution_count": 55,
      "outputs": [
        {
          "output_type": "execute_result",
          "data": {
            "text/plain": [
              "Index(['index', 'rating', 'Dates', 'Time', 'final_review', 'word_count'], dtype='object')"
            ]
          },
          "metadata": {
            "tags": []
          },
          "execution_count": 55
        }
      ]
    },
    {
      "cell_type": "code",
      "metadata": {
        "id": "CiyZWUgoAKPP"
      },
      "source": [
        "# Convert the review columns into a list\n",
        "bad_reviews = df_badreviews.final_review.values.tolist()\n",
        "good_reviews = df_goodreviews.final_review.values.tolist()"
      ],
      "execution_count": 56,
      "outputs": []
    },
    {
      "cell_type": "code",
      "metadata": {
        "id": "a7oTzNi0AKJ8"
      },
      "source": [
        "# Define a function to tokenize and remove punctuations\n",
        "def sent_to_words(sentences):\n",
        "    for sentence in sentences:\n",
        "        yield(gensim.utils.simple_preprocess(str(sentence), deacc=True))  # deacc=True removes punctuations\n",
        "\n",
        "br_words = list(sent_to_words(bad_reviews))\n",
        "gr_words = list(sent_to_words(good_reviews))"
      ],
      "execution_count": 57,
      "outputs": []
    },
    {
      "cell_type": "markdown",
      "metadata": {
        "id": "r8mtTpdl0quz"
      },
      "source": [
        "#### Create Bigram and Trigram Models\n",
        "\n",
        "Bigrams are two words frequently occurring together in the document. Trigrams are 3 words frequently occurring.\n",
        "\n",
        "Gensim’s Phrases model can build and implement the bigrams, trigrams, quadgrams and more. The two important arguments to Phrases are *min_count* and *threshold*. The higher the values of these param, the harder it is for words to be combined to bigrams."
      ]
    },
    {
      "cell_type": "markdown",
      "metadata": {
        "id": "7JD9fxfz1pFz"
      },
      "source": [
        "###### Bigram and Trigram for good reviews"
      ]
    },
    {
      "cell_type": "code",
      "metadata": {
        "id": "lBDYjEis0pzt",
        "colab": {
          "base_uri": "https://localhost:8080/"
        },
        "outputId": "0c5d7634-a86c-4f46-9006-f096271304b9"
      },
      "source": [
        "# Build the bigram and trigram models\n",
        "g_bigram = gensim.models.Phrases(gr_words, min_count=5, threshold=80) # higher threshold fewer phrases.\n",
        "g_trigram = gensim.models.Phrases(g_bigram[gr_words], threshold=80)  \n",
        "\n",
        "# Faster way to get a sentence clubbed as a trigram/bigram\n",
        "g_bigram_mod = gensim.models.phrases.Phraser(g_bigram)\n",
        "g_trigram_mod = gensim.models.phrases.Phraser(g_trigram)\n",
        "\n",
        "# See trigram example\n",
        "print(g_trigram_mod[g_bigram_mod[gr_words[0]]])"
      ],
      "execution_count": 58,
      "outputs": [
        {
          "output_type": "stream",
          "text": [
            "/usr/local/lib/python3.7/dist-packages/gensim/models/phrases.py:598: UserWarning: For a faster implementation, use the gensim.models.phrases.Phraser class\n",
            "  warnings.warn(\"For a faster implementation, use the gensim.models.phrases.Phraser class\")\n"
          ],
          "name": "stderr"
        },
        {
          "output_type": "stream",
          "text": [
            "['cash', 'in', 'concern', 'little', 'bit', 'disappointed', 'when', 'cashed', 'in', 'via', 'debit_card', 'waited', 'mins', 'to', 'receive', 'the', 'otp', 'had', 'to', 'restart', 'the', 'application', 'but', 'still', 'same', 'scenario', 'happened', 'when', 'checked', 'my', 'account', 'was', 'already', 'credited', 'by', 'my', 'bank', 'and', 'so', 'reached', 'for', 'customer', 'support', 'since', 'it', 'was', 'not', 'funded', 'in', 'my', 'gcash', 'account', 'the', 'first', 'one', 'talked', 'to', 'said', 'that', 'they', 'had', 'no', 'transactions', 'so', 'need', 'to', 'call', 'my', 'issuing', 'bank', 'called', 'them', 'and', 'said', 'that', 'if', 'it', 'was', 'already', 'deducted', 'on', 'my', 'account', 'meaning', 'it', 'was', 'successful', 'transaction', 'and', 'need', 'to', 'talk', 'to', 'gcash', 'so', 'tried', 'reaching', 'out', 'to', 'gcash', 'customer', 'support', 'but', 'still', 'no', 'update', 'on', 'my', 'concern', 'this', 'was', 'always', 'concern', 'to', 'me', 'whenever', 'cash', 'in', 'via', 'debit_card', 'the', 'otp', 'is', 'always', 'late', 'hope', 'you', 'can', 'fix', 'this', 'have', 'been', 'using', 'gcash', 'for', 'quite', 'while', 'now', 'need', 'my', 'money', 'because', 'that', 'is', 'my', 'only', 'cash', 'if', 'only', 'knew', 'this', 'would', 'happen', 'would', 'not', 'put', 'my', 'cash', 'on', 'gcash', 'and', 'paid', 'my', 'bill', 'somewhere', 'else']\n"
          ],
          "name": "stdout"
        }
      ]
    },
    {
      "cell_type": "markdown",
      "metadata": {
        "id": "bmhI-H_G1t4J"
      },
      "source": [
        "##### Bigram and Trigam for bad reviews"
      ]
    },
    {
      "cell_type": "code",
      "metadata": {
        "id": "P4k8Vxck1tSD",
        "colab": {
          "base_uri": "https://localhost:8080/"
        },
        "outputId": "0332d743-bdb2-40e6-e319-92e7edd76653"
      },
      "source": [
        "# Build the bigram and trigram models\n",
        "b_bigram = gensim.models.Phrases(br_words, min_count=5, threshold=80) # higher threshold fewer phrases.\n",
        "b_trigram = gensim.models.Phrases(b_bigram[br_words], threshold=80)  \n",
        "\n",
        "# Faster way to get a sentence clubbed as a trigram/bigram\n",
        "b_bigram_mod = gensim.models.phrases.Phraser(b_bigram)\n",
        "b_trigram_mod = gensim.models.phrases.Phraser(b_trigram)\n",
        "\n",
        "# See trigram example\n",
        "print(b_trigram_mod[b_bigram_mod[br_words[3]]])"
      ],
      "execution_count": 59,
      "outputs": [
        {
          "output_type": "stream",
          "text": [
            "/usr/local/lib/python3.7/dist-packages/gensim/models/phrases.py:598: UserWarning: For a faster implementation, use the gensim.models.phrases.Phraser class\n",
            "  warnings.warn(\"For a faster implementation, use the gensim.models.phrases.Phraser class\")\n"
          ],
          "name": "stderr"
        },
        {
          "output_type": "stream",
          "text": [
            "['best', 'finance', 'app', 'gcash', 'is', 'big', 'help', 'indeed', 'have', 'been', 'using', 'using', 'this', 'app', 'since', 'and', 'it', 'really', 'helped', 'me', 'to', 'be', 'more', 'financially', 'literate', 'for', 'it', 'has', 'lot', 'of', 'features', 'that', 'will', 'enable', 'youth', 'professionals', 'to', 'efficiently', 'manage', 'their', 'finances', 'some', 'of', 'the', 'best', 'features', 'include', 'it', 'allows', 'you', 'to', 'buy_load', 'and', 'earn', 'rebates', 'upon', 'registering', 'to', 'promo', 'you', 'can', 'earn', 'coupons', 'which', 'you', 'can', 'use', 'on', 'scan', 'to', 'pay', 'features', 'allows', 'you', 'to', 'save', 'with', 'high', 'interest', 'and', 'invest', 'too', 'easily', 'transfer', 'funds', 'to', 'bank', 'with', 'real', 'time', 'posting', 'and', 'no', 'extra', 'fees', 'scan', 'to', 'pay', 'is', 'very', 'useful', 'secured', 'and', 'convenient', 'wallet', 'wide', 'range', 'of', 'coverage', 'lot', 'of', 'establishments', 'are', 'using', 'gcash', 'already', 'you', 'can', 'help', 'nature', 'by', 'just', 'loading', 'or', 'walking', 'smooth', 'application', 'why', 'star', 'not', 'then', 'think', 'there', 'is', 'need', 'for', 'the', 'following', 'upgrades', 'gcredit', 'allow', 'users', 'to', 'pay', 'it', 'in', 'installment', 'like', 'for', 'they', 'can', 'choose', 'of', 'to', 'pay', 'it', 'within', 'to', 'months', 'include', 'card', 'for', 'gcredit', 'customer_service', 'you', 'know', 'what', 'to', 'do', 'customer_service', 'is', 'really', 'honestly', 'user', 'interface', 'and', 'security', 'allow', 'users', 'to', 'log', 'in', 'using', 'only', 'fingerprint', 'partner', 'establishments', 'some', 'cashiers', 'do', 'not', 'know', 'how', 'to', 'transact', 'using', 'gcash', 'pushing', 'some', 'establishments', 'not', 'to', 'offer', 'it', 'to', 'customers', 'vouchers', 'vouchers', 'must', 'be', 'universal']\n"
          ],
          "name": "stdout"
        }
      ]
    },
    {
      "cell_type": "markdown",
      "metadata": {
        "id": "grbjonTM1tAF"
      },
      "source": [
        "#### Remove Stopwords, Make Bigrams and Lemmatize (Eng. words only)"
      ]
    },
    {
      "cell_type": "markdown",
      "metadata": {
        "id": "Vc5ag-703kef"
      },
      "source": [
        "##### Functionalizing the steps"
      ]
    },
    {
      "cell_type": "markdown",
      "metadata": {
        "id": "QdIF5ctGfCi5"
      },
      "source": [
        "I have excluded lemmatization as it brought out errant results when added to tagalog corpus."
      ]
    },
    {
      "cell_type": "code",
      "metadata": {
        "id": "EV5GtCL62rV_"
      },
      "source": [
        "# Define functions for stopwords, bigrams, trigrams and lemmatization\n",
        "def remove_stopwords(texts):\n",
        "    return [[word for word in simple_preprocess(str(doc)) if word not in stop_words] for doc in texts]\n",
        "\n",
        "def g_make_bigrams(texts):\n",
        "    return [g_bigram_mod[doc] for doc in texts]\n",
        "\n",
        "def g_make_trigrams(texts):\n",
        "    return [g_trigram_mod[g_bigram_mod[doc]] for doc in texts]\n",
        "\n",
        "def b_make_bigrams(texts):\n",
        "    return [b_bigram_mod[doc] for doc in texts]\n",
        "\n",
        "def b_make_trigrams(texts):\n",
        "    return [b_trigram_mod[b_bigram_mod[doc]] for doc in texts]\n",
        "\n",
        "def lemmatization(texts, allowed_postags=['NOUN', 'ADJ', 'VERB', 'ADV']):\n",
        "    \"\"\"https://spacy.io/api/annotation\"\"\"\n",
        "    texts_out = []\n",
        "    for sent in texts:\n",
        "        doc = nlp(\" \".join(sent)) \n",
        "        texts_out.append([token.lemma_ for token in doc if token.pos_ in allowed_postags])\n",
        "    return texts_out"
      ],
      "execution_count": 60,
      "outputs": []
    },
    {
      "cell_type": "markdown",
      "metadata": {
        "id": "ypqJB4cf3rc5"
      },
      "source": [
        "##### Applying the functions to tokenized bad and good reviews\n"
      ]
    },
    {
      "cell_type": "code",
      "metadata": {
        "id": "Yt_vQgw93e5e"
      },
      "source": [
        "# APPLYING TO TOKENIZED GOOD REVIEWS\n",
        "\n",
        "# Remove Stop Words\n",
        "gr_words_nostops = remove_stopwords(gr_words)\n",
        "\n",
        "# ### REMOVED LEMMATIZATION COS IT AFFECTS THE TAGALOG WORDS / TAGALOG WORDS ARE RENDERED INEFFECTIVE\n",
        "# # Initialize spacy 'en' model, keeping only tagger component (for efficiency)\n",
        "# # python3 -m spacy download en\n",
        "# nlp = spacy.load('en', disable=['parser', 'ner'])\n",
        "\n",
        "# # Do lemmatization keeping only noun, adj, vb, adv\n",
        "# gr_lemmatized = lemmatization(gr_words_nostops, allowed_postags=['NOUN', 'ADJ', 'VERB', 'ADV'])\n",
        "\n",
        "\n",
        "# Form Bigrams\n",
        "gr_words_bigrams = g_make_bigrams(gr_words_nostops)\n",
        "\n",
        "# Form Trigrams\n",
        "gr_words_trigrams = g_make_trigrams(gr_words_bigrams)\n"
      ],
      "execution_count": 61,
      "outputs": []
    },
    {
      "cell_type": "code",
      "metadata": {
        "id": "cw_CtXO073vr",
        "colab": {
          "base_uri": "https://localhost:8080/"
        },
        "outputId": "b9fd178b-779c-41bc-f329-f985aa21bf40"
      },
      "source": [
        "gr_words_trigrams[13]"
      ],
      "execution_count": 62,
      "outputs": [
        {
          "output_type": "execute_result",
          "data": {
            "text/plain": [
              "['worst',\n",
              " 'ever',\n",
              " 'terrible',\n",
              " 'cs',\n",
              " 'unreliable',\n",
              " 'times',\n",
              " 'emergency',\n",
              " 'always',\n",
              " 'crashes',\n",
              " 'cannot',\n",
              " 'use',\n",
              " 'money',\n",
              " 'buy_load',\n",
              " 'transfer',\n",
              " 'money',\n",
              " 'another',\n",
              " 'user',\n",
              " 'cannot',\n",
              " 'transfer',\n",
              " 'money',\n",
              " 'another',\n",
              " 'bank',\n",
              " 'decreased',\n",
              " 'money',\n",
              " 'transfer',\n",
              " 'successful',\n",
              " 'money',\n",
              " 'credited',\n",
              " 'back',\n",
              " 'days',\n",
              " 'unreliable',\n",
              " 'especially',\n",
              " 'times',\n",
              " 'badly',\n",
              " 'need',\n",
              " 'customer_service',\n",
              " 'support',\n",
              " 'know',\n",
              " 'cannot',\n",
              " 'use',\n",
              " 'gcredit',\n",
              " 'services',\n",
              " 'user',\n",
              " 'friendly',\n",
              " 'especially',\n",
              " 'trying',\n",
              " 'cash',\n",
              " 'use',\n",
              " 'going',\n",
              " 'always',\n",
              " 'uninstall',\n",
              " 'ecq',\n",
              " 'transferring',\n",
              " 'money',\n",
              " 'paypal',\n",
              " 'paymaya']"
            ]
          },
          "metadata": {
            "tags": []
          },
          "execution_count": 62
        }
      ]
    },
    {
      "cell_type": "code",
      "metadata": {
        "id": "egBnFj1l47Mh"
      },
      "source": [
        "# APPLYING TO TOKENIZED BAD REVIEWS\n",
        "\n",
        "# Remove Stop Words\n",
        "br_words_nostops = remove_stopwords(br_words)\n",
        "\n",
        "# ## REMOVED LEMMATIZATION COS IT AFFECTS THE TAGALOG WORDS / TAGALOG WORDS ARE RENDERED INEFFECTIVE\n",
        "# # Initialize spacy 'en' model, keeping only tagger component (for efficiency)\n",
        "# # python3 -m spacy download en\n",
        "# nlp = spacy.load('en', disable=['parser', 'ner'])\n",
        "\n",
        "# # Do lemmatization keeping only noun, adj, vb, adv\n",
        "# br_lemmatized = lemmatization(br_words_nostops, allowed_postags=['NOUN', 'ADJ', 'VERB', 'ADV'])\n",
        "\n",
        "# Form Bigrams\n",
        "br_words_bigrams = b_make_bigrams(br_words_nostops)\n",
        "\n",
        "br_words_trigrams = b_make_trigrams(br_words_bigrams)\n",
        "\n",
        "\n"
      ],
      "execution_count": 63,
      "outputs": []
    },
    {
      "cell_type": "code",
      "metadata": {
        "id": "0H5-OosG8ffy",
        "colab": {
          "base_uri": "https://localhost:8080/"
        },
        "outputId": "c0838cad-8f89-4b09-bc92-cde676d42de1"
      },
      "source": [
        "br_words_trigrams[3]\n"
      ],
      "execution_count": 64,
      "outputs": [
        {
          "output_type": "execute_result",
          "data": {
            "text/plain": [
              "['best',\n",
              " 'finance',\n",
              " 'big',\n",
              " 'help',\n",
              " 'indeed',\n",
              " 'using',\n",
              " 'using',\n",
              " 'since',\n",
              " 'really',\n",
              " 'helped',\n",
              " 'financially',\n",
              " 'literate',\n",
              " 'lot',\n",
              " 'features',\n",
              " 'enable',\n",
              " 'youth',\n",
              " 'professionals',\n",
              " 'efficiently',\n",
              " 'manage',\n",
              " 'finances',\n",
              " 'best',\n",
              " 'features',\n",
              " 'include',\n",
              " 'allows',\n",
              " 'buy_load',\n",
              " 'earn',\n",
              " 'rebates',\n",
              " 'upon',\n",
              " 'registering',\n",
              " 'promo',\n",
              " 'earn',\n",
              " 'coupons',\n",
              " 'use',\n",
              " 'scan',\n",
              " 'pay',\n",
              " 'features',\n",
              " 'allows',\n",
              " 'save',\n",
              " 'high',\n",
              " 'interest',\n",
              " 'invest',\n",
              " 'easily',\n",
              " 'transfer',\n",
              " 'funds',\n",
              " 'bank',\n",
              " 'real',\n",
              " 'time',\n",
              " 'posting',\n",
              " 'extra',\n",
              " 'fees',\n",
              " 'scan',\n",
              " 'pay',\n",
              " 'useful',\n",
              " 'secured',\n",
              " 'convenient',\n",
              " 'wallet',\n",
              " 'wide',\n",
              " 'range',\n",
              " 'coverage',\n",
              " 'lot',\n",
              " 'establishments',\n",
              " 'using',\n",
              " 'already',\n",
              " 'help',\n",
              " 'nature',\n",
              " 'loading',\n",
              " 'walking',\n",
              " 'smooth',\n",
              " 'application',\n",
              " 'think',\n",
              " 'need',\n",
              " 'following',\n",
              " 'upgrades',\n",
              " 'gcredit',\n",
              " 'allow',\n",
              " 'users',\n",
              " 'pay',\n",
              " 'installment',\n",
              " 'choose',\n",
              " 'pay',\n",
              " 'within',\n",
              " 'months',\n",
              " 'include',\n",
              " 'card',\n",
              " 'gcredit',\n",
              " 'customer_service',\n",
              " 'know',\n",
              " 'customer_service',\n",
              " 'really',\n",
              " 'honestly',\n",
              " 'user',\n",
              " 'interface',\n",
              " 'security',\n",
              " 'allow',\n",
              " 'users',\n",
              " 'log',\n",
              " 'using',\n",
              " 'fingerprint',\n",
              " 'partner',\n",
              " 'establishments',\n",
              " 'cashiers',\n",
              " 'know',\n",
              " 'transact',\n",
              " 'using',\n",
              " 'pushing',\n",
              " 'establishments',\n",
              " 'offer',\n",
              " 'customers',\n",
              " 'vouchers',\n",
              " 'vouchers',\n",
              " 'must',\n",
              " 'universal']"
            ]
          },
          "metadata": {
            "tags": []
          },
          "execution_count": 64
        }
      ]
    },
    {
      "cell_type": "markdown",
      "metadata": {
        "id": "DxkCG6bj5gtI"
      },
      "source": [
        "#### Create the Dictionary and Corpus needed for Topic Modeling\n",
        "\n",
        "The two main inputs to the LDA topic model are the dictionary(id2word) and the corpus. Let’s create them."
      ]
    },
    {
      "cell_type": "markdown",
      "metadata": {
        "id": "FbBHHqt-5vdE"
      },
      "source": [
        "##### Good Reviews -  Dictionary and Corpus"
      ]
    },
    {
      "cell_type": "code",
      "metadata": {
        "id": "QYNUGf6w6jIa",
        "colab": {
          "base_uri": "https://localhost:8080/"
        },
        "outputId": "5bd90a12-960d-4db1-c190-47df06067d90"
      },
      "source": [
        "# Create Dictionary\n",
        "g_id2word = corpora.Dictionary(gr_words_trigrams)\n",
        "g_id2word.filter_extremes(no_below=10, no_above=0.35)\n",
        "g_id2word.compactify()\n",
        "# Create Corpus\n",
        "g_texts = gr_words_trigrams\n",
        "\n",
        "# Term Document Frequency\n",
        "g_corpus = [g_id2word.doc2bow(text) for text in g_texts]\n",
        "\n",
        "# View\n",
        "print(g_corpus[:1])"
      ],
      "execution_count": 65,
      "outputs": [
        {
          "output_type": "stream",
          "text": [
            "[[(0, 3), (1, 2), (2, 2), (3, 2), (4, 4), (5, 1), (6, 1), (7, 1), (8, 1), (9, 1), (10, 1), (11, 3), (12, 1), (13, 1), (14, 2), (15, 1), (16, 2), (17, 2), (18, 1), (19, 1), (20, 1), (21, 1), (22, 1), (23, 1)]]\n"
          ],
          "name": "stdout"
        }
      ]
    },
    {
      "cell_type": "markdown",
      "metadata": {
        "id": "sGYpY3DG5zQq"
      },
      "source": [
        "##### Bad Reviews -  Dictionary and Corpus"
      ]
    },
    {
      "cell_type": "code",
      "metadata": {
        "id": "_9ZYxwth51Q3",
        "colab": {
          "base_uri": "https://localhost:8080/"
        },
        "outputId": "b92d7640-b5c7-47bd-9501-b5fafd35f0bf"
      },
      "source": [
        "# Create Dictionary\n",
        "b_id2word = corpora.Dictionary(br_words_trigrams)\n",
        "b_id2word.filter_extremes(no_below=10, no_above=0.35)\n",
        "b_id2word.compactify()\n",
        "\n",
        "# Create Corpus\n",
        "b_texts = br_words_trigrams\n",
        "\n",
        "# Term Document Frequency\n",
        "b_corpus = [b_id2word.doc2bow(text) for text in b_texts]\n",
        "\n",
        "# View\n",
        "print(b_corpus[:1])"
      ],
      "execution_count": 66,
      "outputs": [
        {
          "output_type": "stream",
          "text": [
            "[[(0, 1), (1, 1), (2, 2), (3, 1), (4, 2), (5, 4), (6, 1), (7, 1), (8, 1), (9, 1), (10, 2), (11, 2), (12, 1), (13, 2), (14, 2), (15, 1), (16, 1), (17, 1), (18, 3), (19, 3), (20, 1), (21, 2), (22, 3), (23, 2), (24, 1), (25, 2), (26, 1), (27, 1), (28, 1), (29, 4), (30, 3), (31, 2), (32, 3), (33, 1), (34, 1)]]\n"
          ],
          "name": "stdout"
        }
      ]
    },
    {
      "cell_type": "markdown",
      "metadata": {
        "id": "NkjOukTZ6RNP"
      },
      "source": [
        "#### Building the Topic Model"
      ]
    },
    {
      "cell_type": "markdown",
      "metadata": {
        "id": "jpte7nuy6Vfh"
      },
      "source": [
        "##### Optizing Number of Topics for Good Reviews"
      ]
    },
    {
      "cell_type": "code",
      "metadata": {
        "id": "YVCfa-Gz6U7R"
      },
      "source": [
        "# Build initial LDA model\n",
        "lda_model = gensim.models.ldamodel.LdaModel(corpus=g_corpus,\n",
        "                                           id2word=g_id2word,\n",
        "                                           num_topics=6, \n",
        "                                           random_state=100,\n",
        "                                           update_every=1,\n",
        "                                           chunksize=100,\n",
        "                                           passes=10,\n",
        "                                           alpha='auto',\n",
        "                                           per_word_topics=True)"
      ],
      "execution_count": null,
      "outputs": []
    },
    {
      "cell_type": "code",
      "metadata": {
        "id": "2vV8hMAt6l22",
        "colab": {
          "base_uri": "https://localhost:8080/"
        },
        "outputId": "703b4fd1-a75f-4196-891a-b008dc3e8706"
      },
      "source": [
        "print(json.dumps(lda_model.print_topics(), indent=1))"
      ],
      "execution_count": 68,
      "outputs": [
        {
          "output_type": "stream",
          "text": [
            "[\n",
            " [\n",
            "  0,\n",
            "  \"0.107*\\\"load\\\" + 0.068*\\\"sent\\\" + 0.062*\\\"good\\\" + 0.048*\\\"service\\\" + 0.045*\\\"fix\\\" + 0.043*\\\"problem\\\" + 0.039*\\\"since\\\" + 0.038*\\\"happened\\\" + 0.033*\\\"takes\\\" + 0.033*\\\"always\\\"\"\n",
            " ],\n",
            " [\n",
            "  1,\n",
            "  \"0.088*\\\"update\\\" + 0.056*\\\"cash\\\" + 0.045*\\\"transaction\\\" + 0.044*\\\"cannot\\\" + 0.036*\\\"open\\\" + 0.029*\\\"always\\\" + 0.027*\\\"need\\\" + 0.027*\\\"updated\\\" + 0.027*\\\"use\\\" + 0.025*\\\"bank\\\"\"\n",
            " ],\n",
            " [\n",
            "  2,\n",
            "  \"0.143*\\\"money\\\" + 0.057*\\\"use\\\" + 0.044*\\\"paying\\\" + 0.041*\\\"gcredit\\\" + 0.034*\\\"problem\\\" + 0.034*\\\"ticket\\\" + 0.032*\\\"back\\\" + 0.029*\\\"already\\\" + 0.029*\\\"customer_service\\\" + 0.026*\\\"anymore\\\"\"\n",
            " ],\n",
            " [\n",
            "  3,\n",
            "  \"0.125*\\\"account\\\" + 0.077*\\\"cannot\\\" + 0.065*\\\"id\\\" + 0.059*\\\"verification\\\" + 0.049*\\\"verify\\\" + 0.035*\\\"mpin\\\" + 0.032*\\\"keeps\\\" + 0.031*\\\"error\\\" + 0.031*\\\"nothing\\\" + 0.030*\\\"access\\\"\"\n",
            " ],\n",
            " [\n",
            "  4,\n",
            "  \"0.060*\\\"working\\\" + 0.041*\\\"get\\\" + 0.037*\\\"bills\\\" + 0.036*\\\"email\\\" + 0.034*\\\"really\\\" + 0.032*\\\"pay\\\" + 0.029*\\\"tried\\\" + 0.029*\\\"go\\\" + 0.029*\\\"could\\\" + 0.028*\\\"every\\\"\"\n",
            " ],\n",
            " [\n",
            "  5,\n",
            "  \"0.075*\\\"cannot\\\" + 0.067*\\\"fix\\\" + 0.042*\\\"log\\\" + 0.041*\\\"wrong\\\" + 0.040*\\\"number\\\" + 0.038*\\\"says\\\" + 0.035*\\\"tried\\\" + 0.035*\\\"account\\\" + 0.034*\\\"iphone\\\" + 0.029*\\\"anything\\\"\"\n",
            " ]\n",
            "]\n"
          ],
          "name": "stdout"
        }
      ]
    },
    {
      "cell_type": "code",
      "metadata": {
        "id": "y7UkXohwiGLc"
      },
      "source": [
        "# supporting function\n",
        "def compute_coherence_values(corpus, dictionary, k, a, b):\n",
        "    \n",
        "    lda_model = gensim.models.LdaMulticore(corpus=corpus,\n",
        "                                           id2word=dictionary,\n",
        "                                           num_topics=k, \n",
        "                                           random_state=100,\n",
        "                                           chunksize=100,\n",
        "                                           passes=10,\n",
        "                                           alpha=a,\n",
        "                                           eta=b)\n",
        "    \n",
        "    coherence_model_lda = CoherenceModel(model=lda_model, texts=gr_words_trigrams, dictionary=g_id2word, coherence='c_v')\n",
        "    \n",
        "    return coherence_model_lda.get_coherence()"
      ],
      "execution_count": 69,
      "outputs": []
    },
    {
      "cell_type": "code",
      "metadata": {
        "id": "QGpLrN7hn2lB"
      },
      "source": [
        "# #Optimizing topic models\n",
        "\n",
        "# import numpy as np\n",
        "# import tqdm\n",
        "# grid = {}\n",
        "# grid['Validation_Set'] = {}\n",
        "# # Topics range\n",
        "# min_topics = 2\n",
        "# max_topics = 8\n",
        "# step_size = 1\n",
        "# topics_range = range(min_topics, max_topics, step_size)\n",
        "# # Alpha parameter\n",
        "# alpha = list(np.arange(0.01, 1, 0.3))\n",
        "# alpha.append('symmetric')\n",
        "# alpha.append('asymmetric')\n",
        "# # Beta parameter\n",
        "# beta = list(np.arange(0.01, 1, 0.3))\n",
        "# beta.append('symmetric')\n",
        "# # Validation sets\n",
        "# num_of_docs = len(g_corpus)\n",
        "# corpus_sets = [# gensim.utils.ClippedCorpus(corpus, num_of_docs*0.25), \n",
        "#                # gensim.utils.ClippedCorpus(corpus, num_of_docs*0.5), \n",
        "#                #gensim.utils.ClippedCorpus(g_corpus, num_of_docs*0.75), \n",
        "#                g_corpus]\n",
        "# corpus_title = ['75% Corpus', '100% Corpus']\n",
        "# model_results = {'Validation_Set': [],\n",
        "#                  'Topics': [],\n",
        "#                  'Alpha': [],\n",
        "#                  'Beta': [],\n",
        "#                  'Coherence': []\n",
        "#                 }\n",
        "# # Can take a long time to run\n",
        "# if 1 == 1:\n",
        "#     pbar = tqdm.tqdm(total=540)\n",
        "    \n",
        "#     # iterate through validation corpuses\n",
        "#     for i in range(len(corpus_sets)):\n",
        "#         # iterate through number of topics\n",
        "#         for k in topics_range:\n",
        "#             # iterate through alpha values\n",
        "#             for a in alpha:\n",
        "#                 # iterare through beta values\n",
        "#                 for b in beta:\n",
        "#                     # get the coherence score for the given parameters\n",
        "#                     cv = compute_coherence_values(corpus=corpus_sets[i], dictionary=g_id2word, \n",
        "#                                                   k=k, a=a, b=b)\n",
        "#                     # Save the model results\n",
        "#                     model_results['Validation_Set'].append(corpus_title[i])\n",
        "#                     model_results['Topics'].append(k)\n",
        "#                     model_results['Alpha'].append(a)\n",
        "#                     model_results['Beta'].append(b)\n",
        "#                     model_results['Coherence'].append(cv)\n",
        "                    \n",
        "#                     pbar.update(1)\n",
        "#     pd.DataFrame(model_results).to_csv('gcash_gr_lda_tuning_results.csv', index=False)\n",
        "#     pbar.close()"
      ],
      "execution_count": 70,
      "outputs": []
    },
    {
      "cell_type": "code",
      "metadata": {
        "id": "etQrRfJX3CN0"
      },
      "source": [
        "# model_cv_df_gr = pd.DataFrame(model_results) \n",
        "# model_cv_df_gr.sort_values(by='Coherence',ascending=False)"
      ],
      "execution_count": 71,
      "outputs": []
    },
    {
      "cell_type": "code",
      "metadata": {
        "id": "2EJ7gBBq3VG2"
      },
      "source": [
        "# Build optimized LDA model\n",
        "\n",
        "lda_model_experimental = gensim.models.LdaMulticore(corpus=g_corpus,\n",
        "                                           id2word=g_id2word,\n",
        "                                           num_topics=6, \n",
        "                                           random_state=100,\n",
        "                                           chunksize=100,\n",
        "                                           passes=10,\n",
        "                                           alpha=0.61,\n",
        "                                           eta=0.91)"
      ],
      "execution_count": null,
      "outputs": []
    },
    {
      "cell_type": "code",
      "metadata": {
        "colab": {
          "base_uri": "https://localhost:8080/"
        },
        "id": "XMnyUmXX3feL",
        "outputId": "60e69108-be5d-460a-9383-dfc7ab3a4c30"
      },
      "source": [
        "print(json.dumps(lda_model_experimental.print_topics(), indent=1))"
      ],
      "execution_count": 73,
      "outputs": [
        {
          "output_type": "stream",
          "text": [
            "[\n",
            " [\n",
            "  0,\n",
            "  \"0.063*\\\"id\\\" + 0.056*\\\"verification\\\" + 0.036*\\\"still\\\" + 0.032*\\\"tried\\\" + 0.032*\\\"verified\\\" + 0.030*\\\"get\\\" + 0.028*\\\"email\\\" + 0.027*\\\"system\\\" + 0.026*\\\"times\\\" + 0.024*\\\"nothing\\\"\"\n",
            " ],\n",
            " [\n",
            "  1,\n",
            "  \"0.097*\\\"update\\\" + 0.056*\\\"cash\\\" + 0.049*\\\"always\\\" + 0.047*\\\"transaction\\\" + 0.029*\\\"open\\\" + 0.028*\\\"time\\\" + 0.028*\\\"need\\\" + 0.028*\\\"use\\\" + 0.023*\\\"load\\\" + 0.023*\\\"cannot\\\"\"\n",
            " ],\n",
            " [\n",
            "  2,\n",
            "  \"0.095*\\\"money\\\" + 0.051*\\\"working\\\" + 0.039*\\\"bills\\\" + 0.031*\\\"paying\\\" + 0.030*\\\"using\\\" + 0.029*\\\"gcredit\\\" + 0.026*\\\"use\\\" + 0.025*\\\"get\\\" + 0.024*\\\"yet\\\" + 0.021*\\\"really\\\"\"\n",
            " ],\n",
            " [\n",
            "  3,\n",
            "  \"0.133*\\\"cannot\\\" + 0.124*\\\"account\\\" + 0.044*\\\"log\\\" + 0.031*\\\"error\\\" + 0.029*\\\"says\\\" + 0.025*\\\"verify\\\" + 0.025*\\\"keeps\\\" + 0.024*\\\"access\\\" + 0.021*\\\"already\\\" + 0.019*\\\"need\\\"\"\n",
            " ],\n",
            " [\n",
            "  4,\n",
            "  \"0.053*\\\"bank\\\" + 0.051*\\\"transfer\\\" + 0.041*\\\"money\\\" + 0.039*\\\"service\\\" + 0.033*\\\"go\\\" + 0.030*\\\"fee\\\" + 0.025*\\\"limit\\\" + 0.024*\\\"poor\\\" + 0.021*\\\"pay\\\" + 0.021*\\\"wallet\\\"\"\n",
            " ],\n",
            " [\n",
            "  5,\n",
            "  \"0.060*\\\"fix\\\" + 0.050*\\\"number\\\" + 0.038*\\\"ticket\\\" + 0.028*\\\"new\\\" + 0.027*\\\"iphone\\\" + 0.027*\\\"phone\\\" + 0.025*\\\"received\\\" + 0.025*\\\"something\\\" + 0.022*\\\"email\\\" + 0.021*\\\"send\\\"\"\n",
            " ]\n",
            "]\n"
          ],
          "name": "stdout"
        }
      ]
    },
    {
      "cell_type": "markdown",
      "metadata": {
        "id": "ZprhmOHENioL"
      },
      "source": [
        "##### Optimizing Number of Topics for Bad Reviews"
      ]
    },
    {
      "cell_type": "code",
      "metadata": {
        "id": "-Q_acL3u7AWG"
      },
      "source": [
        "# Build LDA model\n",
        "lda_model2 = gensim.models.ldamodel.LdaModel(corpus=b_corpus,\n",
        "                                           id2word=b_id2word,\n",
        "                                           num_topics=6, \n",
        "                                           random_state=100,\n",
        "                                           update_every=1,\n",
        "                                           chunksize=100,\n",
        "                                           passes=10,\n",
        "                                           alpha='auto',\n",
        "                                           per_word_topics=True)\n",
        "\n"
      ],
      "execution_count": null,
      "outputs": []
    },
    {
      "cell_type": "code",
      "metadata": {
        "id": "h1SlJVB0_pA0",
        "colab": {
          "base_uri": "https://localhost:8080/"
        },
        "outputId": "28445a7c-675e-4884-c773-9b5b6ec0500a"
      },
      "source": [
        "print(json.dumps(lda_model2.print_topics(), indent=1))"
      ],
      "execution_count": 75,
      "outputs": [
        {
          "output_type": "stream",
          "text": [
            "[\n",
            " [\n",
            "  0,\n",
            "  \"0.056*\\\"account\\\" + 0.055*\\\"code\\\" + 0.039*\\\"money\\\" + 0.036*\\\"email\\\" + 0.029*\\\"load\\\" + 0.028*\\\"send\\\" + 0.025*\\\"fix\\\" + 0.023*\\\"number\\\" + 0.019*\\\"still\\\" + 0.019*\\\"mpin\\\"\"\n",
            " ],\n",
            " [\n",
            "  1,\n",
            "  \"0.091*\\\"money\\\" + 0.088*\\\"bank\\\" + 0.072*\\\"service\\\" + 0.059*\\\"poor\\\" + 0.038*\\\"customer_service\\\" + 0.031*\\\"got\\\" + 0.031*\\\"system\\\" + 0.030*\\\"account\\\" + 0.028*\\\"passport\\\" + 0.028*\\\"transfer\\\"\"\n",
            " ],\n",
            " [\n",
            "  2,\n",
            "  \"0.049*\\\"cash\\\" + 0.039*\\\"cannot\\\" + 0.032*\\\"update\\\" + 0.032*\\\"use\\\" + 0.027*\\\"using\\\" + 0.020*\\\"time\\\" + 0.018*\\\"need\\\" + 0.018*\\\"always\\\" + 0.016*\\\"fix\\\" + 0.016*\\\"wala\\\"\"\n",
            " ],\n",
            " [\n",
            "  3,\n",
            "  \"0.154*\\\"id\\\" + 0.124*\\\"verification\\\" + 0.091*\\\"verify\\\" + 0.072*\\\"cannot\\\" + 0.063*\\\"student\\\" + 0.055*\\\"account\\\" + 0.048*\\\"verified\\\" + 0.026*\\\"open\\\" + 0.023*\\\"valid\\\" + 0.021*\\\"iphone\\\"\"\n",
            " ],\n",
            " [\n",
            "  4,\n",
            "  \"0.147*\\\"cannot\\\" + 0.097*\\\"error\\\" + 0.097*\\\"log\\\" + 0.057*\\\"register\\\" + 0.049*\\\"login\\\" + 0.043*\\\"access\\\" + 0.038*\\\"authentication\\\" + 0.032*\\\"mobile\\\" + 0.030*\\\"pin\\\" + 0.029*\\\"well\\\"\"\n",
            " ],\n",
            " [\n",
            "  5,\n",
            "  \"0.141*\\\"pera\\\" + 0.062*\\\"sana\\\" + 0.047*\\\"acc\\\" + 0.044*\\\"transaction\\\" + 0.044*\\\"fee\\\" + 0.041*\\\"card\\\" + 0.039*\\\"fully_verified\\\" + 0.039*\\\"disappointed\\\" + 0.038*\\\"experience\\\" + 0.035*\\\"tagal\\\"\"\n",
            " ]\n",
            "]\n"
          ],
          "name": "stdout"
        }
      ]
    },
    {
      "cell_type": "code",
      "metadata": {
        "id": "rb4eTaOppm8q"
      },
      "source": [
        "# supporting function\n",
        "def compute_coherence_values(corpus, dictionary, k, a, b):\n",
        "    \n",
        "    lda_model = gensim.models.LdaMulticore(corpus=corpus,\n",
        "                                           id2word=dictionary,\n",
        "                                           num_topics=k, \n",
        "                                           random_state=100,\n",
        "                                           chunksize=100,\n",
        "                                           passes=10,\n",
        "                                           alpha=a,\n",
        "                                           eta=b)\n",
        "    \n",
        "    coherence_model_lda = CoherenceModel(model=lda_model, texts=gr_words_trigrams, dictionary=g_id2word, coherence='c_v')\n",
        "    \n",
        "    return coherence_model_lda.get_coherence()"
      ],
      "execution_count": 76,
      "outputs": []
    },
    {
      "cell_type": "markdown",
      "metadata": {
        "id": "TAyJ5MNlpnj7"
      },
      "source": [
        "#### Visualizing LDA model results"
      ]
    },
    {
      "cell_type": "markdown",
      "metadata": {
        "id": "TsDqD9bBki2l"
      },
      "source": [
        "##### Plotting topic models using pyLDAvis"
      ]
    },
    {
      "cell_type": "code",
      "metadata": {
        "id": "IEPh3tij_tHr",
        "colab": {
          "base_uri": "https://localhost:8080/",
          "height": 861
        },
        "outputId": "2c8fe65a-a532-41d3-d3fa-21202f183c5c"
      },
      "source": [
        "# Visualize the topics\n",
        "pyLDAvis.enable_notebook()\n",
        "vis = pyLDAvis.gensim_models.prepare(lda_model, g_corpus, g_id2word)\n",
        "vis"
      ],
      "execution_count": 77,
      "outputs": [
        {
          "output_type": "execute_result",
          "data": {
            "text/html": [
              "\n",
              "<link rel=\"stylesheet\" type=\"text/css\" href=\"https://cdn.jsdelivr.net/gh/bmabey/pyLDAvis@3.3.1/pyLDAvis/js/ldavis.v1.0.0.css\">\n",
              "\n",
              "\n",
              "<div id=\"ldavis_el17214008722314824016269612\"></div>\n",
              "<script type=\"text/javascript\">\n",
              "\n",
              "var ldavis_el17214008722314824016269612_data = {\"mdsDat\": {\"x\": [-0.03695398389991716, 0.23340568000954542, -0.24225891893215626, 0.16173016634357434, -0.12498320996434058, 0.009060266443293746], \"y\": [-0.13363431578696958, 0.07938797362230046, -0.09385220783644808, -0.16995855686061173, 0.16113216226876853, 0.15692494459296039], \"topics\": [1, 2, 3, 4, 5, 6], \"cluster\": [1, 1, 1, 1, 1, 1], \"Freq\": [29.130088359740398, 18.74127327474752, 18.016879233977292, 13.931591550281022, 13.441192579839809, 6.738975001413956]}, \"tinfo\": {\"Term\": [\"money\", \"update\", \"account\", \"fix\", \"load\", \"id\", \"working\", \"verification\", \"cash\", \"verify\", \"transaction\", \"use\", \"service\", \"sent\", \"problem\", \"good\", \"log\", \"paying\", \"open\", \"number\", \"cannot\", \"gcredit\", \"bills\", \"wrong\", \"tried\", \"always\", \"mpin\", \"need\", \"says\", \"get\", \"update\", \"transaction\", \"open\", \"cash\", \"updated\", \"transactions\", \"wait\", \"ios\", \"data\", \"paypal\", \"month\", \"longer\", \"day\", \"days\", \"support\", \"deducted\", \"almost\", \"bank\", \"much\", \"reason\", \"hope\", \"us\", \"thanks\", \"paymaya\", \"send\", \"way\", \"fees\", \"make\", \"everytime\", \"need\", \"always\", \"time\", \"use\", \"cannot\", \"fix\", \"transfer\", \"still\", \"already\", \"using\", \"error\", \"money\", \"working\", \"bills\", \"go\", \"could\", \"payment\", \"every\", \"fully_verified\", \"pay\", \"wallet\", \"poor\", \"many\", \"hassle\", \"really\", \"email\", \"going\", \"feature\", \"get\", \"verified\", \"without\", \"say\", \"fee\", \"got\", \"yet\", \"limit\", \"tried\", \"transfer\", \"times\", \"work\", \"want\", \"service\", \"time\", \"using\", \"first\", \"money\", \"still\", \"cannot\", \"id\", \"verification\", \"verify\", \"mpin\", \"keeps\", \"nothing\", \"access\", \"card\", \"student_id\", \"add\", \"account\", \"pandemic\", \"people\", \"error\", \"trying\", \"system\", \"thank\", \"saying\", \"option\", \"try\", \"getting\", \"log\", \"help\", \"everytime\", \"back\", \"says\", \"cannot\", \"need\", \"since\", \"message\", \"hope\", \"still\", \"always\", \"ticket\", \"use\", \"already\", \"paying\", \"gcredit\", \"long\", \"options\", \"ticket\", \"anymore\", \"customer_service\", \"money\", \"services\", \"easy\", \"back\", \"asked\", \"better\", \"bad\", \"convenient\", \"lot\", \"well\", \"problem\", \"online\", \"use\", \"ever\", \"never\", \"especially\", \"said\", \"give\", \"number\", \"send\", \"already\", \"know\", \"another\", \"using\", \"times\", \"paymaya\", \"get\", \"service\", \"still\", \"email\", \"cannot\", \"wrong\", \"iphone\", \"anything\", \"receive\", \"put\", \"something\", \"used\", \"whenever\", \"information\", \"received\", \"says\", \"number\", \"phone\", \"new\", \"possible\", \"issue\", \"experience\", \"everything\", \"also\", \"fix\", \"log\", \"users\", \"tried\", \"never\", \"know\", \"first\", \"work\", \"say\", \"soon\", \"another\", \"cannot\", \"system\", \"account\", \"always\", \"already\", \"want\", \"load\", \"sent\", \"happened\", \"good\", \"takes\", \"since\", \"experience\", \"limit\", \"thing\", \"bad\", \"problem\", \"service\", \"services\", \"user\", \"information\", \"yet\", \"also\", \"said\", \"annoying\", \"fees\", \"amount\", \"options\", \"trying\", \"fix\", \"always\", \"feature\", \"first\", \"need\", \"time\", \"log\", \"cannot\", \"verified\"], \"Freq\": [103.0, 91.0, 107.0, 66.0, 26.0, 42.0, 40.0, 39.0, 59.0, 32.0, 47.0, 63.0, 36.0, 17.0, 31.0, 16.0, 41.0, 22.0, 38.0, 30.0, 154.0, 21.0, 25.0, 20.0, 38.0, 58.0, 23.0, 54.0, 28.0, 40.0, 91.00244842014594, 46.16242380260522, 37.805343933090306, 57.6499910836821, 27.986720613713025, 23.773491085289795, 18.215133442863706, 17.00659307151583, 15.141628498053572, 11.18869054806544, 9.838910528487846, 9.946119490456919, 8.452895425254695, 18.474083088355115, 18.599192528951157, 8.738685659070518, 10.52002976977728, 25.80255157966461, 12.752812278279562, 7.748818615122043, 16.710648138803354, 12.402588039209355, 9.425795844702364, 11.082755988266467, 15.096916372862303, 6.71572512300119, 7.840888142378479, 11.378961396819918, 5.296326181845815, 28.35368669628053, 29.95828347800607, 21.26129228327287, 27.81251051236796, 45.31206472490665, 23.449846958703024, 12.491882051671409, 13.518181947969513, 13.318126854847764, 13.561479785816825, 12.358190414477928, 14.089289700186056, 39.73239653996624, 24.920866574720886, 19.17597191330567, 19.003406945087026, 18.271980492771142, 18.368221632115755, 17.31368786754823, 21.069704082681792, 11.792892430767123, 14.376267526722776, 15.775330418860788, 9.469153659112264, 22.434163363309803, 24.036143243505425, 8.57865126657578, 10.657357465817112, 27.210062560556803, 16.339015752661282, 5.9627182884747585, 7.203934167619712, 10.51209206081873, 7.301282582809744, 10.736581066411883, 8.319790159500844, 19.26147545616723, 16.042424717689922, 14.45424109729923, 7.555648174779088, 10.99859083400465, 16.996923805935705, 17.33099339732513, 16.321800840750655, 9.020633081949544, 17.33424446844526, 11.252729260637995, 10.811410321162722, 41.92991785315468, 38.10659555553894, 31.219915968483935, 22.412996168189565, 20.51603602017897, 19.623899241217302, 18.920574674703378, 17.448478103837655, 10.149151365091283, 10.338704654046467, 80.05931851667607, 6.035192226890112, 10.533873894763316, 19.77161691161984, 6.131328108311295, 12.322519923416518, 4.810763782817545, 6.803689758461384, 11.936414289602588, 7.95293652786651, 4.944686809278524, 17.136690152112447, 10.425569322285245, 3.352525998988829, 8.956169148148266, 9.115310853020512, 49.58742202361589, 17.120139443446373, 6.423340296199175, 3.3249271642263856, 6.439558654128824, 10.329397640066603, 10.397432282200976, 6.060073184445332, 7.113229420106059, 6.506469151222932, 21.885313295996347, 20.303814126887783, 9.338103961374896, 10.017397913719382, 16.93685080058346, 13.105012550766526, 14.387915931857876, 71.03358740190247, 9.590147017330313, 7.17820308335729, 16.012715075183323, 8.274843399799119, 8.72762544627413, 11.136628056663993, 6.022886245081938, 9.091962930717647, 5.819031066408509, 17.01329291685929, 6.72231592194664, 28.036142733796993, 3.8134906193432347, 5.348971108475885, 4.090237333016532, 4.686089511033401, 5.857803017151645, 10.93755281717826, 8.551363804575546, 14.404724154310365, 6.54939608522262, 5.505229904272597, 11.952424338008166, 8.171899381308881, 5.739946603440797, 7.6524431811586915, 6.8700686406328915, 6.80657111642753, 6.217485597496255, 6.5090688087071165, 19.537713516736048, 16.479346880599824, 14.015389674268182, 13.315623765766965, 11.916458746713008, 13.659593883670913, 6.999519338199908, 7.246476740448838, 9.050316492736888, 10.40871263204642, 18.05225304829841, 19.29246457386365, 11.067777322560701, 11.567996244226475, 6.030955079219026, 10.999739864262963, 6.730118709049985, 6.848350953110404, 7.562326720970054, 31.992430447116448, 19.971377306764808, 5.599231668143448, 16.785644534450636, 5.802429273881169, 7.838992086186941, 8.175713493177014, 5.859315006201603, 4.34938769014236, 6.257886826967678, 5.2200907906407945, 35.74050364704548, 7.130233841087149, 16.531280840615793, 9.508929665552484, 7.316035698003738, 6.357300199584042, 25.746684170379663, 16.200162170402994, 9.217262415703653, 14.763304614864456, 7.970144660399294, 9.34230583706142, 5.924662555729276, 6.78484916892129, 5.019578328556064, 7.4801466545451945, 10.19402856306922, 11.612949569582838, 4.422405603578059, 6.362107865585023, 3.353761063948404, 4.8051253346798, 3.325387937653276, 2.4068010831587854, 2.976410156549424, 2.4374316775181564, 2.619313971263181, 2.099609337217379, 1.7952497484420862, 10.68647039248273, 7.955162124948109, 1.8835175308847885, 2.609761857259268, 6.710644419366779, 4.34263384627323, 4.067207566179744, 6.5657317081599365, 2.1991068794809903], \"Total\": [103.0, 91.0, 107.0, 66.0, 26.0, 42.0, 40.0, 39.0, 59.0, 32.0, 47.0, 63.0, 36.0, 17.0, 31.0, 16.0, 41.0, 22.0, 38.0, 30.0, 154.0, 21.0, 25.0, 20.0, 38.0, 58.0, 23.0, 54.0, 28.0, 40.0, 91.95531196423507, 47.11815436814147, 38.76022939926486, 59.54430345204578, 29.110430457496584, 24.730220622916935, 19.1961750841911, 17.95954213552177, 16.095870065466382, 12.139779810731742, 10.793013548180088, 10.916922834501813, 9.410896990711642, 20.709425755835763, 21.49669743024298, 11.49785609329329, 14.124480099352972, 35.376966595623536, 17.497829183705754, 11.000101265831177, 23.951011766961717, 17.80948343552132, 14.213219914242169, 17.5689605501466, 24.393664756232706, 11.168948314101975, 13.100242669364505, 19.579086096650418, 9.427403613659491, 54.65585810139039, 58.22031511445234, 43.55254809017706, 63.84588026955957, 154.52620123359782, 66.88084660932157, 32.43952454614785, 42.30125196397496, 41.926564787628024, 47.17604189798811, 32.93102587454789, 103.28880249278266, 40.73270925764354, 25.901008788165395, 20.15473791031666, 19.98444805751421, 19.251147033055915, 19.354062850595163, 18.29418622577614, 22.289209981775503, 12.770249486429721, 16.621077678138334, 19.652729808974588, 12.397797142588162, 29.47926558599547, 32.526103269794895, 11.608908965243279, 14.446678460616347, 40.21144251553085, 24.909795025843913, 9.866500393772068, 12.344394925048423, 18.242859044249748, 12.875081319338326, 19.95243247394472, 15.887087365205442, 38.11036875901526, 32.43952454614785, 29.357610383552302, 15.346757398631896, 23.212930179252048, 36.0571482769292, 43.55254809017706, 47.17604189798811, 20.917676453156265, 103.28880249278266, 42.30125196397496, 154.52620123359782, 42.92161147931198, 39.10182686757035, 32.207697527365646, 23.408490357459605, 21.508990886401204, 20.617509325782027, 19.909527596382517, 18.43744533640259, 11.138609243443808, 13.576115270463852, 107.83740214056365, 8.98806443732387, 16.28125023102125, 32.93102587454789, 11.17303770591867, 23.75810139598991, 9.820206806947187, 13.935368891642923, 24.688089296019125, 16.94934654265379, 10.851670274283975, 41.82811882184244, 26.669220811304076, 9.427403613659491, 25.751098158492365, 28.33080191995124, 154.52620123359782, 54.65585810139039, 21.035983273757292, 12.27759493047538, 23.951011766961717, 42.30125196397496, 58.22031511445234, 23.776968957297598, 63.84588026955957, 41.926564787628024, 22.843092361391605, 21.259529976438436, 11.237546282621455, 12.95994790140214, 23.776968957297598, 18.560560429483168, 20.728707217880757, 103.28880249278266, 14.777699079260557, 11.131333054473401, 25.751098158492365, 13.341265858751145, 14.103243555162127, 19.377480141540342, 10.492523438444419, 16.020416096917423, 10.43489990062761, 31.401778685441336, 13.67733180063395, 63.84588026955957, 8.918288817829552, 13.273009686488708, 10.277898515228465, 12.113017337041079, 15.791472881532044, 30.995026205223464, 24.393664756232706, 41.926564787628024, 19.424949784184317, 16.461610497274247, 47.17604189798811, 29.357610383552302, 17.5689605501466, 40.21144251553085, 36.0571482769292, 42.30125196397496, 32.526103269794895, 154.52620123359782, 20.509749749019115, 17.449701365104783, 14.991884498434494, 14.309450637236871, 13.673143541438357, 17.34895427149814, 8.96893368125703, 9.916529210107344, 13.181652274470412, 16.031145115322104, 28.33080191995124, 30.995026205223464, 17.858215601072715, 19.447641016895595, 10.407829538548615, 20.15354455683236, 13.431783235553064, 13.811867827811433, 15.326148731505118, 66.88084660932157, 41.82811882184244, 12.483398574927174, 38.11036875901526, 13.273009686488708, 19.424949784184317, 20.917676453156265, 15.346757398631896, 12.344394925048423, 17.840230297674328, 16.461610497274247, 154.52620123359782, 23.75810139598991, 107.83740214056365, 58.22031511445234, 41.926564787628024, 23.212930179252048, 26.810542219327697, 17.168814614332856, 10.187511895933703, 16.443252758467242, 12.165374278168791, 21.035983273757292, 13.431783235553064, 15.887087365205442, 12.515447017803156, 19.377480141540342, 31.401778685441336, 36.0571482769292, 14.777699079260557, 22.213222843876586, 13.181652274470412, 19.95243247394472, 15.326148731505118, 12.113017337041079, 15.066271245745376, 13.100242669364505, 14.757479544912599, 12.95994790140214, 11.17303770591867, 66.88084660932157, 58.22031511445234, 14.446678460616347, 20.917676453156265, 54.65585810139039, 43.55254809017706, 41.82811882184244, 154.52620123359782, 24.909795025843913], \"Category\": [\"Default\", \"Default\", \"Default\", \"Default\", \"Default\", \"Default\", \"Default\", \"Default\", \"Default\", \"Default\", \"Default\", \"Default\", \"Default\", \"Default\", \"Default\", \"Default\", \"Default\", \"Default\", \"Default\", \"Default\", \"Default\", \"Default\", \"Default\", \"Default\", \"Default\", \"Default\", \"Default\", \"Default\", \"Default\", \"Default\", \"Topic1\", \"Topic1\", \"Topic1\", \"Topic1\", \"Topic1\", \"Topic1\", \"Topic1\", \"Topic1\", \"Topic1\", \"Topic1\", \"Topic1\", \"Topic1\", \"Topic1\", \"Topic1\", \"Topic1\", \"Topic1\", \"Topic1\", \"Topic1\", \"Topic1\", \"Topic1\", \"Topic1\", \"Topic1\", \"Topic1\", \"Topic1\", \"Topic1\", \"Topic1\", \"Topic1\", \"Topic1\", \"Topic1\", \"Topic1\", \"Topic1\", \"Topic1\", \"Topic1\", \"Topic1\", \"Topic1\", \"Topic1\", \"Topic1\", \"Topic1\", \"Topic1\", \"Topic1\", \"Topic1\", \"Topic2\", \"Topic2\", \"Topic2\", \"Topic2\", \"Topic2\", \"Topic2\", \"Topic2\", \"Topic2\", \"Topic2\", \"Topic2\", \"Topic2\", \"Topic2\", \"Topic2\", \"Topic2\", \"Topic2\", \"Topic2\", \"Topic2\", \"Topic2\", \"Topic2\", \"Topic2\", \"Topic2\", \"Topic2\", \"Topic2\", \"Topic2\", \"Topic2\", \"Topic2\", \"Topic2\", \"Topic2\", \"Topic2\", \"Topic2\", \"Topic2\", \"Topic2\", \"Topic2\", \"Topic2\", \"Topic2\", \"Topic2\", \"Topic3\", \"Topic3\", \"Topic3\", \"Topic3\", \"Topic3\", \"Topic3\", \"Topic3\", \"Topic3\", \"Topic3\", \"Topic3\", \"Topic3\", \"Topic3\", \"Topic3\", \"Topic3\", \"Topic3\", \"Topic3\", \"Topic3\", \"Topic3\", \"Topic3\", \"Topic3\", \"Topic3\", \"Topic3\", \"Topic3\", \"Topic3\", \"Topic3\", \"Topic3\", \"Topic3\", \"Topic3\", \"Topic3\", \"Topic3\", \"Topic3\", \"Topic3\", \"Topic3\", \"Topic3\", \"Topic3\", \"Topic3\", \"Topic4\", \"Topic4\", \"Topic4\", \"Topic4\", \"Topic4\", \"Topic4\", \"Topic4\", \"Topic4\", \"Topic4\", \"Topic4\", \"Topic4\", \"Topic4\", \"Topic4\", \"Topic4\", \"Topic4\", \"Topic4\", \"Topic4\", \"Topic4\", \"Topic4\", \"Topic4\", \"Topic4\", \"Topic4\", \"Topic4\", \"Topic4\", \"Topic4\", \"Topic4\", \"Topic4\", \"Topic4\", \"Topic4\", \"Topic4\", \"Topic4\", \"Topic4\", \"Topic4\", \"Topic4\", \"Topic4\", \"Topic4\", \"Topic4\", \"Topic4\", \"Topic5\", \"Topic5\", \"Topic5\", \"Topic5\", \"Topic5\", \"Topic5\", \"Topic5\", \"Topic5\", \"Topic5\", \"Topic5\", \"Topic5\", \"Topic5\", \"Topic5\", \"Topic5\", \"Topic5\", \"Topic5\", \"Topic5\", \"Topic5\", \"Topic5\", \"Topic5\", \"Topic5\", \"Topic5\", \"Topic5\", \"Topic5\", \"Topic5\", \"Topic5\", \"Topic5\", \"Topic5\", \"Topic5\", \"Topic5\", \"Topic5\", \"Topic5\", \"Topic5\", \"Topic5\", \"Topic5\", \"Topic5\", \"Topic6\", \"Topic6\", \"Topic6\", \"Topic6\", \"Topic6\", \"Topic6\", \"Topic6\", \"Topic6\", \"Topic6\", \"Topic6\", \"Topic6\", \"Topic6\", \"Topic6\", \"Topic6\", \"Topic6\", \"Topic6\", \"Topic6\", \"Topic6\", \"Topic6\", \"Topic6\", \"Topic6\", \"Topic6\", \"Topic6\", \"Topic6\", \"Topic6\", \"Topic6\", \"Topic6\", \"Topic6\", \"Topic6\", \"Topic6\", \"Topic6\", \"Topic6\"], \"logprob\": [30.0, 29.0, 28.0, 27.0, 26.0, 25.0, 24.0, 23.0, 22.0, 21.0, 20.0, 19.0, 18.0, 17.0, 16.0, 15.0, 14.0, 13.0, 12.0, 11.0, 10.0, 9.0, 8.0, 7.0, 6.0, 5.0, 4.0, 3.0, 2.0, 1.0, -2.4321, -3.1108, -3.3105, -2.8886, -3.6113, -3.7744, -4.0407, -4.1094, -4.2255, -4.5281, -4.6566, -4.6458, -4.8085, -4.0266, -4.0199, -4.7752, -4.5897, -3.6925, -4.3972, -4.8955, -4.1269, -4.4251, -4.6995, -4.5376, -4.2285, -5.0385, -4.8836, -4.5112, -5.276, -3.5982, -3.5432, -3.8861, -3.6175, -3.1294, -3.7881, -4.4179, -4.339, -4.3539, -4.3358, -4.4287, -4.2976, -2.8198, -3.2862, -3.5483, -3.5573, -3.5966, -3.5913, -3.6505, -3.4541, -4.0345, -3.8364, -3.7435, -4.2539, -3.3914, -3.3224, -4.3527, -4.1357, -3.1984, -3.7084, -4.7164, -4.5273, -4.1494, -4.5139, -4.1283, -4.3833, -3.5438, -3.7267, -3.831, -4.4797, -4.1042, -3.6689, -3.6495, -3.7094, -4.3024, -3.6493, -4.0813, -4.1213, -2.7265, -2.8221, -3.0215, -3.3529, -3.4413, -3.4858, -3.5223, -3.6033, -4.1451, -4.1266, -2.0798, -4.6649, -4.1079, -3.4783, -4.6491, -3.9511, -4.8917, -4.5451, -3.9829, -4.389, -4.8642, -3.6213, -4.1183, -5.2528, -4.2702, -4.2526, -2.5588, -3.6223, -4.6026, -5.2611, -4.6001, -4.1275, -4.121, -4.6608, -4.5006, -4.5897, -3.1196, -3.1946, -3.9713, -3.9011, -3.3759, -3.6324, -3.539, -1.9422, -3.9446, -4.2343, -3.432, -4.0922, -4.0389, -3.7951, -4.4098, -3.998, -4.4442, -3.3714, -4.2999, -2.8719, -4.8668, -4.5285, -4.7968, -4.6608, -4.4376, -3.8132, -4.0593, -3.5378, -4.326, -4.4997, -3.7244, -4.1047, -4.4579, -4.1704, -4.2782, -4.2875, -4.378, -4.3322, -3.1972, -3.3674, -3.5294, -3.5806, -3.6916, -3.5551, -4.2237, -4.189, -3.9667, -3.8269, -3.2763, -3.2098, -3.7655, -3.7213, -4.3726, -3.7717, -4.263, -4.2455, -4.1464, -2.704, -3.1752, -4.4469, -3.349, -4.4113, -4.1104, -4.0684, -4.4015, -4.6995, -4.3357, -4.517, -2.5933, -4.2052, -3.3643, -3.9173, -4.1795, -4.3199, -2.2308, -2.6941, -3.2581, -2.787, -3.4034, -3.2446, -3.7, -3.5644, -3.8658, -3.4669, -3.1573, -3.027, -3.9924, -3.6288, -4.269, -3.9094, -4.2775, -4.6008, -4.3884, -4.5882, -4.5162, -4.7374, -4.894, -3.1102, -3.4053, -4.846, -4.5199, -3.5754, -4.0106, -4.0762, -3.5973, -4.6911], \"loglift\": [30.0, 29.0, 28.0, 27.0, 26.0, 25.0, 24.0, 23.0, 22.0, 21.0, 20.0, 19.0, 18.0, 17.0, 16.0, 15.0, 14.0, 13.0, 12.0, 11.0, 10.0, 9.0, 8.0, 7.0, 6.0, 5.0, 4.0, 3.0, 2.0, 1.0, 1.223, 1.2129, 1.2085, 1.2011, 1.194, 1.1939, 1.1809, 1.1789, 1.1723, 1.1518, 1.1408, 1.1403, 1.126, 1.1192, 1.0886, 0.959, 0.9388, 0.9178, 0.9171, 0.883, 0.8734, 0.8716, 0.8227, 0.7727, 0.7536, 0.7247, 0.7201, 0.6907, 0.6568, 0.5771, 0.569, 0.5163, 0.4024, 0.0066, 0.1853, 0.2791, 0.0926, 0.0866, -0.0133, 0.2533, -0.7587, 1.6496, 1.6359, 1.6247, 1.6241, 1.6222, 1.6222, 1.6194, 1.6182, 1.5948, 1.5293, 1.4547, 1.405, 1.4013, 1.372, 1.3719, 1.3702, 1.2839, 1.2527, 1.1708, 1.1359, 1.1232, 1.1072, 1.0547, 1.0276, 0.9921, 0.9703, 0.9659, 0.9658, 0.9275, 0.9224, 0.753, 0.6131, 0.8334, -0.1104, 0.3502, -0.9853, 1.6905, 1.6881, 1.6827, 1.6704, 1.6666, 1.6645, 1.6629, 1.6587, 1.6208, 1.4414, 1.416, 1.3156, 1.2784, 1.2037, 1.1138, 1.0574, 1.0003, 0.9969, 0.9871, 0.9572, 0.9279, 0.8215, 0.7746, 0.68, 0.6577, 0.5799, 0.5772, 0.5531, 0.5276, 0.4075, 0.4003, 0.304, -0.0088, 0.3469, -0.4807, -0.1493, 1.9282, 1.925, 1.7859, 1.7135, 1.6318, 1.623, 1.6059, 1.5966, 1.5386, 1.5323, 1.4959, 1.4934, 1.4911, 1.4171, 1.4159, 1.4045, 1.387, 1.3581, 1.2607, 1.148, 1.1215, 1.0622, 1.0496, 1.0213, 0.9793, 0.9294, 0.9228, 0.9026, 0.8838, 0.8757, 0.5981, 0.6922, 0.8523, 0.3119, 0.3131, 0.1441, 0.3163, -1.1962, 1.9583, 1.9496, 1.9395, 1.9349, 1.8693, 1.7678, 1.7589, 1.6932, 1.6308, 1.575, 1.5562, 1.5327, 1.5284, 1.4874, 1.4612, 1.4013, 1.3158, 1.3053, 1.3005, 1.2694, 1.2676, 1.2051, 1.1869, 1.1794, 1.0994, 1.0674, 1.044, 0.9637, 0.9592, 0.8583, 0.5428, 0.8033, 0.1315, 0.1948, 0.261, 0.7117, 2.6568, 2.6392, 2.5972, 2.5895, 2.2744, 1.8856, 1.8788, 1.8464, 1.7836, 1.7454, 1.5722, 1.5643, 1.4908, 1.4469, 1.3285, 1.2736, 1.1693, 1.0813, 1.0755, 1.0156, 0.9684, 0.8771, 0.8689, 0.8633, 0.7068, 0.6599, 0.6159, 0.5999, 0.3918, 0.3667, -0.4612, 0.2701]}, \"token.table\": {\"Topic\": [3, 1, 2, 3, 5, 3, 4, 1, 5, 1, 3, 4, 5, 2, 5, 6, 1, 3, 5, 6, 1, 2, 6, 1, 4, 5, 6, 1, 3, 4, 5, 2, 4, 5, 5, 2, 4, 3, 4, 4, 6, 1, 2, 2, 4, 2, 1, 2, 3, 4, 5, 6, 3, 1, 2, 2, 4, 2, 1, 3, 4, 1, 1, 1, 4, 1, 5, 1, 3, 4, 1, 2, 4, 1, 3, 1, 3, 4, 1, 4, 2, 2, 5, 1, 3, 5, 6, 2, 4, 6, 1, 2, 1, 2, 6, 1, 2, 5, 6, 1, 5, 6, 2, 4, 1, 2, 3, 4, 2, 3, 1, 3, 4, 2, 1, 2, 1, 6, 1, 2, 5, 6, 2, 5, 1, 2, 3, 5, 1, 3, 3, 5, 6, 1, 5, 1, 2, 5, 3, 1, 4, 5, 2, 6, 6, 3, 5, 6, 2, 4, 1, 1, 4, 1, 2, 4, 5, 1, 2, 1, 3, 5, 1, 2, 4, 1, 3, 1, 2, 1, 3, 4, 6, 1, 4, 5, 2, 4, 5, 3, 4, 5, 1, 2, 4, 1, 1, 3, 5, 4, 6, 3, 4, 2, 4, 1, 4, 2, 1, 1, 3, 2, 5, 6, 2, 4, 1, 5, 3, 4, 6, 3, 5, 2, 3, 4, 1, 3, 5, 1, 5, 1, 4, 6, 2, 5, 1, 3, 1, 3, 5, 1, 4, 6, 2, 4, 6, 4, 6, 3, 4, 5, 6, 2, 5, 1, 3, 5, 1, 2, 3, 4, 3, 1, 4, 1, 3, 5, 2, 6, 1, 3, 5, 1, 2, 1, 2, 4, 6, 3, 4, 1, 2, 6, 1, 2, 4, 1, 1, 1, 2, 4, 2, 4, 5, 1, 3, 1, 3, 6, 1, 1, 1, 5, 1, 3, 4, 2, 5, 1, 2, 3, 6, 1, 3, 5, 1, 2, 4, 5, 3, 2, 3, 6, 3, 1, 2, 2, 3, 5, 1, 2, 4, 2, 3, 4, 5, 1, 5, 1, 2, 2, 5, 6, 2, 5, 2, 3, 6], \"Freq\": [0.9543169674931024, 0.06491254296793664, 0.03709288169596379, 0.7418576339192758, 0.1576447472078461, 0.7365877352084631, 0.14731754704169261, 0.7787897269580846, 0.21239719826129577, 0.31006594663429543, 0.166958586649236, 0.333917173298472, 0.166958586649236, 0.2609918558194219, 0.5219837116388438, 0.19574389186456645, 0.5152840540458178, 0.17176135134860593, 0.17176135134860593, 0.13740908107888475, 0.542097990083806, 0.271048995041903, 0.20328674628142726, 0.5309873869594078, 0.13274684673985196, 0.13274684673985196, 0.19912027010977795, 0.182242193161887, 0.121494795441258, 0.364484386323774, 0.303736988603145, 0.1616330504349721, 0.7004098852182123, 0.10775536695664806, 0.9338385712257808, 0.2998216243008318, 0.5996432486016636, 0.3494996580187366, 0.6213327253666429, 0.5676692696703544, 0.3612440806993164, 0.7349414746943409, 0.2544028181634257, 0.354528373593171, 0.6381510724677079, 0.9652133708175459, 0.29121274994635593, 0.0711853388757759, 0.3235697221626177, 0.04529976110276648, 0.23297019995708476, 0.04529976110276648, 0.9220366319641625, 0.9740646315009883, 0.0167942177844998, 0.3812238327096865, 0.5718357490645298, 0.9507392921395167, 0.09648455057895666, 0.19296910115791333, 0.6753918540526966, 0.9319160715755549, 0.8500783727519101, 0.8691694406315315, 0.04828719114619619, 0.782754621989895, 0.17394547155331, 0.1796729996499611, 0.1796729996499611, 0.6288554987748639, 0.06148907489503312, 0.7378688987403974, 0.18446722468509935, 0.3643980010132237, 0.6073300016887062, 0.4864807715888267, 0.09729615431776534, 0.38918461727106135, 0.44851653514552603, 0.44851653514552603, 0.9300372815233715, 0.43440902235673456, 0.506810526082857, 0.5303687213259262, 0.3182212327955557, 0.5211519481249111, 0.4467016698213523, 0.7614206981893816, 0.06922006347176196, 0.13844012694352392, 0.3837117845958712, 0.6029756615077976, 0.6106757105124742, 0.15266892762811854, 0.15266892762811854, 0.04780645700488929, 0.4302581130440036, 0.3824516560391143, 0.14341937101466787, 0.3438951682886496, 0.4784628428363821, 0.16447160222500634, 0.9292569666776072, 0.940754570875539, 0.09947417326436578, 0.671450669534469, 0.024868543316091445, 0.19894834652873156, 0.46075856284067884, 0.46075856284067884, 0.3799518920756869, 0.2533012613837913, 0.3799518920756869, 0.9427063792416979, 0.17228147847381173, 0.7752666531321528, 0.060815217930957295, 0.9122282689643594, 0.3106776493902228, 0.54368588643289, 0.0776694123475557, 0.8834345512364317, 0.7259354138876611, 0.16131898086392468, 0.4124604943590071, 0.11248922573427467, 0.37496408578091556, 0.07499281715618311, 0.709782123837039, 0.2505113378248373, 0.9785280317409287, 0.6827672140487855, 0.22758907134959516, 0.9465720156849705, 0.9169211360829453, 0.3473334420285335, 0.04961906314693336, 0.5458096946162669, 0.9763359011545722, 0.2059207382485373, 0.36036129193494026, 0.4118414764970746, 0.5035535977174095, 0.4406093980027333, 0.9697677796779739, 0.406425162757324, 0.47814725030273414, 0.09562945006054682, 0.08898739768008533, 0.800886579120768, 0.9160090395066298, 0.37452210752219434, 0.5617831612832915, 0.5618239761396154, 0.10214981384356643, 0.10214981384356643, 0.20429962768713286, 0.1526505492702609, 0.8141362627747247, 0.40724588393033123, 0.24434753035819873, 0.32579670714426495, 0.13554228204919166, 0.16458705677401847, 0.6873930018209007, 0.926525289286438, 0.939829936234621, 0.7429493032258995, 0.2285997856079691, 0.5122964119977417, 0.31103710728434314, 0.03659260085698155, 0.12807410299943542, 0.15068172533889618, 0.37670431334724047, 0.45204517601668853, 0.30852070926172276, 0.05142011821028712, 0.6170414185234455, 0.9700492762717058, 0.35489565090757097, 0.6130015788403498, 0.21934102672430222, 0.2924547022990696, 0.5117957290233719, 0.9803863544915119, 0.4455589846628477, 0.4860643469049248, 0.04050536224207706, 0.7716080401000761, 0.15432160802001524, 0.6675519564684448, 0.22251731882281492, 0.9421599068414892, 0.9630920215155911, 0.6261042005645697, 0.34151138212612897, 0.9350092214813183, 0.9061119865020814, 0.3071017230896262, 0.6756237907971776, 0.2799831803855956, 0.6159629968483104, 0.11199327215423825, 0.8423039872086133, 0.06016457051490095, 0.2882445363741376, 0.5764890727482752, 0.1273813193854048, 0.5413706073879705, 0.318453298463512, 0.07313607123112263, 0.8776328547734715, 0.7462872484330614, 0.0678442953120965, 0.135688590624193, 0.7272660320727978, 0.18181650801819946, 0.9084905025054321, 0.31189287877016003, 0.6237857575403201, 0.3302232539342757, 0.4127790674178446, 0.16511162696713785, 0.5670589804119169, 0.32403370309252394, 0.4305591080260685, 0.5023189593637466, 0.035297271246521815, 0.31767544121869634, 0.6353508824373927, 0.6149137552678478, 0.3689482531607086, 0.931922229892499, 0.47147378016240066, 0.19413626241981202, 0.33280502129110634, 0.6766953330396532, 0.2706781332158613, 0.28522555479900435, 0.14261277739950218, 0.09507518493300146, 0.4278383321985066, 0.17292108521656388, 0.8069650643439648, 0.4484247045310222, 0.16815926419913332, 0.33631852839826665, 0.33095947164691075, 0.2600395848654299, 0.23639962260493627, 0.16547973582345538, 0.8977781499863644, 0.8838566975999551, 0.09303754711578474, 0.16836362187910997, 0.5050908656373299, 0.29463633828844243, 0.2466015373964786, 0.657604099723943, 0.30549254806708204, 0.5091542467784701, 0.10183084935569402, 0.6332133080542621, 0.2814281369130054, 0.23970378331133646, 0.15980252220755764, 0.15980252220755764, 0.3995063055188941, 0.2523450323199622, 0.7149775915732262, 0.48217615089979976, 0.39033307453793314, 0.09184307636186662, 0.2043763072542689, 0.4768780502599607, 0.27250174300569185, 0.9762691390794904, 0.9704725390827991, 0.36991910849152637, 0.49322547798870187, 0.09247977712288159, 0.49855198516034893, 0.026239578166334154, 0.4460728288276806, 0.4719945975420139, 0.4719945975420139, 0.2685035241947511, 0.5370070483895022, 0.1790023494631674, 0.9896111280161104, 0.9618545504121659, 0.6737983189375272, 0.280749299557303, 0.4385560960516639, 0.10963902401291598, 0.4385560960516639, 0.11149597438653892, 0.7804718207057725, 0.3601458489939618, 0.09003646224849045, 0.22509115562122614, 0.27010938674547136, 0.24031917125721522, 0.24031917125721522, 0.48063834251443044, 0.2967608013888306, 0.339155201587235, 0.25436640119042625, 0.10598600049601094, 0.971821601294947, 0.6423176097354474, 0.24086910365079278, 0.08028970121693092, 0.9625028294450569, 0.9376868006806104, 0.9396840690349687, 0.47387382441842313, 0.21539719291746506, 0.25847663150095807, 0.6267376124537851, 0.08953394463625501, 0.268601833908765, 0.09583225613308037, 0.09583225613308037, 0.5749935367984822, 0.2874967683992411, 0.2016834678368633, 0.7058921374290216, 0.30405917805402005, 0.6081183561080401, 0.5212827564937704, 0.3909620673703278, 0.0651603445617213, 0.9820117720869243, 0.9751459790949671, 0.5513112255543061, 0.20047680929247494, 0.2505960116155937], \"Term\": [\"access\", \"account\", \"account\", \"account\", \"account\", \"add\", \"add\", \"almost\", \"almost\", \"already\", \"already\", \"already\", \"already\", \"also\", \"also\", \"also\", \"always\", \"always\", \"always\", \"always\", \"amount\", \"amount\", \"amount\", \"annoying\", \"annoying\", \"annoying\", \"annoying\", \"another\", \"another\", \"another\", \"another\", \"anymore\", \"anymore\", \"anymore\", \"anything\", \"asked\", \"asked\", \"back\", \"back\", \"bad\", \"bad\", \"bank\", \"bank\", \"better\", \"better\", \"bills\", \"cannot\", \"cannot\", \"cannot\", \"cannot\", \"cannot\", \"cannot\", \"card\", \"cash\", \"cash\", \"convenient\", \"convenient\", \"could\", \"customer_service\", \"customer_service\", \"customer_service\", \"data\", \"day\", \"days\", \"days\", \"deducted\", \"deducted\", \"easy\", \"easy\", \"easy\", \"email\", \"email\", \"email\", \"error\", \"error\", \"especially\", \"especially\", \"especially\", \"ever\", \"ever\", \"every\", \"everything\", \"everything\", \"everytime\", \"everytime\", \"experience\", \"experience\", \"feature\", \"feature\", \"feature\", \"fee\", \"fee\", \"fees\", \"fees\", \"fees\", \"first\", \"first\", \"first\", \"first\", \"fix\", \"fix\", \"fix\", \"fully_verified\", \"gcredit\", \"get\", \"get\", \"get\", \"get\", \"getting\", \"getting\", \"give\", \"give\", \"give\", \"go\", \"going\", \"going\", \"good\", \"good\", \"got\", \"got\", \"got\", \"happened\", \"hassle\", \"hassle\", \"help\", \"help\", \"help\", \"help\", \"hope\", \"hope\", \"id\", \"information\", \"information\", \"ios\", \"iphone\", \"issue\", \"issue\", \"issue\", \"keeps\", \"know\", \"know\", \"know\", \"limit\", \"limit\", \"load\", \"log\", \"log\", \"log\", \"long\", \"long\", \"longer\", \"lot\", \"lot\", \"make\", \"make\", \"make\", \"make\", \"many\", \"many\", \"message\", \"message\", \"message\", \"money\", \"money\", \"money\", \"month\", \"mpin\", \"much\", \"much\", \"need\", \"need\", \"need\", \"need\", \"never\", \"never\", \"never\", \"new\", \"new\", \"new\", \"nothing\", \"number\", \"number\", \"online\", \"online\", \"online\", \"open\", \"option\", \"option\", \"option\", \"options\", \"options\", \"pandemic\", \"pandemic\", \"pay\", \"paying\", \"paymaya\", \"paymaya\", \"payment\", \"paypal\", \"people\", \"people\", \"phone\", \"phone\", \"phone\", \"poor\", \"poor\", \"possible\", \"possible\", \"problem\", \"problem\", \"problem\", \"put\", \"put\", \"really\", \"really\", \"really\", \"reason\", \"reason\", \"receive\", \"received\", \"received\", \"said\", \"said\", \"said\", \"say\", \"say\", \"saying\", \"saying\", \"says\", \"says\", \"says\", \"send\", \"send\", \"sent\", \"service\", \"service\", \"service\", \"services\", \"services\", \"since\", \"since\", \"since\", \"since\", \"something\", \"something\", \"soon\", \"soon\", \"soon\", \"still\", \"still\", \"still\", \"still\", \"student_id\", \"support\", \"support\", \"system\", \"system\", \"system\", \"takes\", \"takes\", \"thank\", \"thank\", \"thank\", \"thanks\", \"thanks\", \"thing\", \"thing\", \"thing\", \"thing\", \"ticket\", \"ticket\", \"time\", \"time\", \"time\", \"times\", \"times\", \"times\", \"transaction\", \"transactions\", \"transfer\", \"transfer\", \"transfer\", \"tried\", \"tried\", \"tried\", \"try\", \"try\", \"trying\", \"trying\", \"trying\", \"update\", \"updated\", \"us\", \"us\", \"use\", \"use\", \"use\", \"used\", \"used\", \"user\", \"user\", \"user\", \"user\", \"users\", \"users\", \"users\", \"using\", \"using\", \"using\", \"using\", \"verification\", \"verified\", \"verified\", \"verified\", \"verify\", \"wait\", \"wallet\", \"want\", \"want\", \"want\", \"way\", \"way\", \"way\", \"well\", \"well\", \"well\", \"well\", \"whenever\", \"whenever\", \"without\", \"without\", \"work\", \"work\", \"work\", \"working\", \"wrong\", \"yet\", \"yet\", \"yet\"]}, \"R\": 30, \"lambda.step\": 0.01, \"plot.opts\": {\"xlab\": \"PC1\", \"ylab\": \"PC2\"}, \"topic.order\": [2, 5, 4, 3, 6, 1]};\n",
              "\n",
              "function LDAvis_load_lib(url, callback){\n",
              "  var s = document.createElement('script');\n",
              "  s.src = url;\n",
              "  s.async = true;\n",
              "  s.onreadystatechange = s.onload = callback;\n",
              "  s.onerror = function(){console.warn(\"failed to load library \" + url);};\n",
              "  document.getElementsByTagName(\"head\")[0].appendChild(s);\n",
              "}\n",
              "\n",
              "if(typeof(LDAvis) !== \"undefined\"){\n",
              "   // already loaded: just create the visualization\n",
              "   !function(LDAvis){\n",
              "       new LDAvis(\"#\" + \"ldavis_el17214008722314824016269612\", ldavis_el17214008722314824016269612_data);\n",
              "   }(LDAvis);\n",
              "}else if(typeof define === \"function\" && define.amd){\n",
              "   // require.js is available: use it to load d3/LDAvis\n",
              "   require.config({paths: {d3: \"https://d3js.org/d3.v5\"}});\n",
              "   require([\"d3\"], function(d3){\n",
              "      window.d3 = d3;\n",
              "      LDAvis_load_lib(\"https://cdn.jsdelivr.net/gh/bmabey/pyLDAvis@3.3.1/pyLDAvis/js/ldavis.v3.0.0.js\", function(){\n",
              "        new LDAvis(\"#\" + \"ldavis_el17214008722314824016269612\", ldavis_el17214008722314824016269612_data);\n",
              "      });\n",
              "    });\n",
              "}else{\n",
              "    // require.js not available: dynamically load d3 & LDAvis\n",
              "    LDAvis_load_lib(\"https://d3js.org/d3.v5.js\", function(){\n",
              "         LDAvis_load_lib(\"https://cdn.jsdelivr.net/gh/bmabey/pyLDAvis@3.3.1/pyLDAvis/js/ldavis.v3.0.0.js\", function(){\n",
              "                 new LDAvis(\"#\" + \"ldavis_el17214008722314824016269612\", ldavis_el17214008722314824016269612_data);\n",
              "            })\n",
              "         });\n",
              "}\n",
              "</script>"
            ],
            "text/plain": [
              "PreparedData(topic_coordinates=              x         y  topics  cluster       Freq\n",
              "topic                                                \n",
              "1     -0.036954 -0.133634       1        1  29.130088\n",
              "4      0.233406  0.079388       2        1  18.741273\n",
              "3     -0.242259 -0.093852       3        1  18.016879\n",
              "2      0.161730 -0.169959       4        1  13.931592\n",
              "5     -0.124983  0.161132       5        1  13.441193\n",
              "0      0.009060  0.156925       6        1   6.738975, topic_info=         Term        Freq       Total Category  logprob  loglift\n",
              "10      money  103.000000  103.000000  Default  30.0000  30.0000\n",
              "21     update   91.000000   91.000000  Default  29.0000  29.0000\n",
              "0     account  107.000000  107.000000  Default  28.0000  28.0000\n",
              "7         fix   66.000000   66.000000  Default  27.0000  27.0000\n",
              "140      load   26.000000   26.000000  Default  26.0000  26.0000\n",
              "..        ...         ...         ...      ...      ...      ...\n",
              "11       need    6.710644   54.655858   Topic6  -3.5754   0.5999\n",
              "55       time    4.342634   43.552548   Topic6  -4.0106   0.3918\n",
              "77        log    4.067208   41.828119   Topic6  -4.0762   0.3667\n",
              "58     cannot    6.565732  154.526201   Topic6  -3.5973  -0.4612\n",
              "84   verified    2.199107   24.909795   Topic6  -4.6911   0.2701\n",
              "\n",
              "[249 rows x 6 columns], token_table=      Topic      Freq     Term\n",
              "term                          \n",
              "70        3  0.954317   access\n",
              "0         1  0.064913  account\n",
              "0         2  0.037093  account\n",
              "0         3  0.741858  account\n",
              "0         5  0.157645  account\n",
              "...     ...       ...      ...\n",
              "112       2  0.982012  working\n",
              "39        5  0.975146    wrong\n",
              "142       2  0.551311      yet\n",
              "142       3  0.200477      yet\n",
              "142       6  0.250596      yet\n",
              "\n",
              "[339 rows x 3 columns], R=30, lambda_step=0.01, plot_opts={'xlab': 'PC1', 'ylab': 'PC2'}, topic_order=[2, 5, 4, 3, 6, 1])"
            ]
          },
          "metadata": {
            "tags": []
          },
          "execution_count": 77
        }
      ]
    },
    {
      "cell_type": "code",
      "metadata": {
        "id": "9CUevpbMaJ8H",
        "colab": {
          "base_uri": "https://localhost:8080/",
          "height": 861
        },
        "outputId": "5f910871-4b15-492f-e6f0-1dba32ce7ed4"
      },
      "source": [
        "# Visualize the topics\n",
        "pyLDAvis.enable_notebook()\n",
        "vis = pyLDAvis.gensim_models.prepare(lda_model2, b_corpus, b_id2word)\n",
        "vis"
      ],
      "execution_count": 78,
      "outputs": [
        {
          "output_type": "execute_result",
          "data": {
            "text/html": [
              "\n",
              "<link rel=\"stylesheet\" type=\"text/css\" href=\"https://cdn.jsdelivr.net/gh/bmabey/pyLDAvis@3.3.1/pyLDAvis/js/ldavis.v1.0.0.css\">\n",
              "\n",
              "\n",
              "<div id=\"ldavis_el1721400872232169763875473713\"></div>\n",
              "<script type=\"text/javascript\">\n",
              "\n",
              "var ldavis_el1721400872232169763875473713_data = {\"mdsDat\": {\"x\": [-0.05826524271941076, 0.07191549121663908, -0.23553992982922817, 0.23662445854541334, -0.23061393341472744, 0.21587915620131398], \"y\": [-0.15220558619357963, 0.26857617297463376, 0.045065005740901554, 0.13002833305996117, -0.032664845682166294, -0.25879907989975076], \"topics\": [1, 2, 3, 4, 5, 6], \"cluster\": [1, 1, 1, 1, 1, 1], \"Freq\": [40.537769636018254, 29.752611935229577, 11.29689366310194, 9.07396927195911, 5.067818510832388, 4.270936982858737]}, \"tinfo\": {\"Term\": [\"cannot\", \"id\", \"verification\", \"money\", \"verify\", \"error\", \"bank\", \"pera\", \"code\", \"account\", \"service\", \"student\", \"log\", \"transaction\", \"cash\", \"poor\", \"email\", \"verified\", \"customer_service\", \"update\", \"use\", \"load\", \"send\", \"register\", \"system\", \"sana\", \"card\", \"fully_verified\", \"transfer\", \"login\", \"update\", \"use\", \"always\", \"time\", \"wala\", \"working\", \"also\", \"since\", \"good\", \"payment\", \"paymaya\", \"hope\", \"add\", \"transactions\", \"possible\", \"soon\", \"paypal\", \"link\", \"pay\", \"gcredit\", \"go\", \"bills\", \"feature\", \"linked\", \"bpi\", \"everytime\", \"last\", \"limit\", \"useless\", \"via\", \"using\", \"cash\", \"need\", \"make\", \"cannot\", \"thank\", \"transaction\", \"fix\", \"could\", \"error\", \"issue\", \"code\", \"email\", \"load\", \"send\", \"number\", \"mpin\", \"received\", \"help\", \"worst\", \"receive\", \"balance\", \"sent\", \"sending\", \"give\", \"message\", \"scam\", \"bulok\", \"pesos\", \"support\", \"let\", \"wallet\", \"text\", \"name\", \"keeps\", \"hard\", \"yet\", \"however\", \"new\", \"mastercard\", \"without\", \"says\", \"account\", \"try\", \"trying\", \"authentication_code\", \"tried\", \"already\", \"money\", \"still\", \"problem\", \"days\", \"fix\", \"customer_service\", \"get\", \"id\", \"verification\", \"verify\", \"student\", \"verified\", \"open\", \"valid\", \"iphone\", \"stupid\", \"screen\", \"students\", \"face\", \"trust\", \"ids\", \"buggy\", \"takes\", \"options\", \"postal\", \"input\", \"next\", \"us\", \"process\", \"put\", \"making\", \"click\", \"option\", \"available\", \"cannot\", \"get\", \"account\", \"need\", \"fix\", \"problem\", \"service\", \"poor\", \"got\", \"passport\", \"unavailable\", \"bad\", \"charge\", \"acct\", \"free\", \"maintenance\", \"team\", \"accept\", \"refund\", \"business\", \"pandemic\", \"bring_back\", \"fully_verify\", \"cards\", \"transferred\", \"removed\", \"supposed\", \"credited\", \"two\", \"someone\", \"bank\", \"different\", \"people\", \"inconvenient\", \"never\", \"system\", \"transfer\", \"customer_service\", \"money\", \"able\", \"php\", \"account\", \"deducted\", \"still\", \"cash\", \"log\", \"register\", \"login\", \"access\", \"authentication\", \"mobile\", \"pin\", \"well\", \"laging\", \"see\", \"submit_ticket\", \"apple\", \"giving\", \"far\", \"friends\", \"logging\", \"improve\", \"right\", \"sometimes\", \"stars\", \"error\", \"put\", \"cannot\", \"problem\", \"help_center\", \"could\", \"know\", \"says\", \"problems\", \"us\", \"phone\", \"fix\", \"account\", \"pera\", \"sana\", \"acc\", \"fee\", \"disappointed\", \"experience\", \"tagal\", \"okay\", \"ayusin\", \"hirap\", \"gamit\", \"trash\", \"thru\", \"download\", \"application\", \"bug\", \"reliable\", \"technical\", \"card\", \"fully_verified\", \"click\", \"php\", \"users\", \"user\", \"transaction\", \"us\", \"errors\", \"transfer\", \"bank\", \"ticket\", \"used\"], \"Freq\": [378.0, 204.0, 164.0, 232.0, 120.0, 103.0, 129.0, 71.0, 193.0, 305.0, 77.0, 83.0, 58.0, 90.0, 243.0, 63.0, 126.0, 64.0, 81.0, 151.0, 150.0, 102.0, 97.0, 34.0, 60.0, 31.0, 36.0, 38.0, 56.0, 29.0, 151.0125345295828, 149.95797196607148, 83.4210364494836, 95.4494435779186, 74.40704075069195, 66.03472154674513, 69.19568711484686, 66.68757724342355, 55.097445040774375, 52.57107756824773, 49.425273076864364, 46.98443662924108, 48.80913960464878, 41.19807206976924, 40.99838368713488, 40.155521201845055, 39.12967306573844, 38.46496864844049, 38.4031923262513, 37.62347603382452, 37.32457553846365, 35.973427164604665, 34.27937945885378, 35.00207433389018, 33.93419847741507, 34.13758242755864, 32.802291077577095, 38.22745245440073, 45.15578261205059, 31.01642900121141, 128.14699681042077, 230.3555320539284, 84.5090309050032, 43.65817480140361, 184.48114435758316, 39.67382445900816, 60.51090085066626, 75.01498142723752, 41.042034550086385, 44.92225710235332, 38.50290657806726, 192.50657516758406, 126.08780557602533, 101.67668973082998, 96.5708108206606, 78.51233218239604, 66.82600418299674, 58.0739777987465, 49.629465773752315, 49.50787536810504, 43.30409435292742, 40.993488704636476, 41.025739532498996, 40.11099406868472, 38.188820805050696, 35.65820088841456, 32.51997162475231, 30.509370444666455, 30.20854483469342, 30.17816258927923, 29.17463036359484, 27.784889948278536, 26.541039592541807, 25.768822033036752, 24.800246523639196, 24.392837358754434, 24.304200924019007, 24.153332288366027, 23.81865397751465, 23.398754729084693, 22.77369611948961, 50.12369613281068, 193.77475427282752, 49.60467311147509, 42.48850014117243, 31.115072415144976, 51.878421132614804, 59.950868650003784, 134.92048489266475, 67.04226188939563, 50.36888777158423, 40.26866945233935, 85.82508455224122, 40.30180284596034, 38.04374057229345, 203.58850055975378, 163.94182281032542, 120.00750865237907, 82.90726620456361, 63.80899162253776, 33.78627656967262, 30.89384342751239, 27.494296866358834, 24.256231676014096, 23.61448211767271, 22.436733818585157, 20.497434052361577, 17.005833019869737, 15.247041964778399, 15.098860460584913, 14.246995104561966, 13.779534559693396, 13.369755051476522, 12.770540516481192, 5.379441300959878, 11.44306161936826, 21.656677922355808, 22.29263372246698, 6.231617212243893, 5.021289456786162, 21.273177772179327, 6.511463713455729, 95.04190002057965, 21.635164912452687, 72.75082275689147, 12.118556136927195, 7.966542156896657, 6.863841439257638, 76.66942013107344, 62.49458886821655, 32.882522730579254, 30.119292121449465, 23.737350207377, 22.787450617063186, 20.499840251779382, 19.829529596257508, 18.73666471062998, 18.546712793659527, 17.96930266354861, 14.59141356985999, 13.680135767852745, 13.65072278948142, 13.37137344150043, 12.86673164300307, 12.158428237797615, 11.206562655298484, 11.009947661503364, 10.102926222717795, 8.108825969086814, 7.400257342267593, 6.249405546712715, 8.936638332050908, 93.47246546852774, 6.885814668485299, 18.116925605343493, 5.718020733152879, 23.41870960835432, 32.63801206558132, 30.07911844161848, 40.45062640917992, 96.41555379804159, 20.608592944871155, 15.761657107792422, 32.22288601256904, 11.776055575154581, 13.591553720762597, 12.055376330470892, 57.46383112558349, 33.8883068851572, 28.971677796813232, 25.554949773589243, 22.324279605178894, 18.754614584747223, 17.787113078929096, 17.37844041820213, 16.961556375074753, 15.895489646339227, 13.008483892903222, 11.56592043533591, 9.15040342680921, 9.045136169611004, 8.860844819272991, 7.757092845276131, 6.773637182920508, 6.613093423609868, 5.922274535878601, 5.331319868589045, 57.62264912896314, 14.341971205660762, 87.02245095935153, 10.404734488984877, 2.9296133127583177, 5.360657168759832, 3.450542156744785, 5.311142731121508, 1.298030297035052, 1.3377814659766945, 3.3356761393324703, 8.197278998719916, 3.7208032997872236, 70.46403322625483, 30.772392162715807, 23.54392828764893, 21.775365309282293, 19.295109932947028, 18.73880823166005, 17.597686865220897, 16.60910124340815, 16.482352881064855, 15.737598356271834, 15.069754903328521, 13.415199738910411, 12.695624666102653, 12.05604857980253, 11.219850200558703, 8.197708960167292, 4.612176437450553, 4.212542550539641, 20.273933400755535, 19.404114155696007, 4.720501727355447, 13.90895794240982, 4.986180725514436, 10.935772261545653, 21.977595411171958, 2.5869582812620817, 1.3820263928401688, 7.484371437843036, 10.956964433287313, 1.6290422789068897, 1.431799061735305], \"Total\": [378.0, 204.0, 164.0, 232.0, 120.0, 103.0, 129.0, 71.0, 193.0, 305.0, 77.0, 83.0, 58.0, 90.0, 243.0, 63.0, 126.0, 64.0, 81.0, 151.0, 150.0, 102.0, 97.0, 34.0, 60.0, 31.0, 36.0, 38.0, 56.0, 29.0, 151.82848765123472, 150.85594256416778, 84.27665013754765, 96.46282129582674, 75.23624762014573, 66.85164973011449, 70.13337062903366, 67.6082934050184, 55.91661426706355, 53.38644696156555, 50.25330614705689, 47.803588704270744, 49.76397292317392, 42.01286268070363, 41.8210321463499, 40.97738521616221, 39.94342065814859, 39.28023431858339, 39.21962748304405, 38.43723072062471, 38.14652679322213, 36.78881798420232, 35.09771902757895, 35.838104844860794, 34.75089990189504, 34.96301287128576, 33.62145152919141, 39.21122247310834, 46.33499699770783, 31.83580663915812, 132.38619056149193, 243.0465248338984, 97.26213681704914, 47.57344047088153, 378.92373762773707, 43.21809836525542, 90.13431820229357, 177.32753751084493, 49.1105092329081, 103.22032445440718, 61.406510275034584, 193.37471427751797, 126.95229819982808, 102.53758689822277, 97.44440731187404, 79.3757069950577, 67.69165989091766, 58.93565706857117, 50.48988640394977, 50.36693800756398, 44.16517030698217, 41.854460303035076, 41.88775391585204, 40.970053567737956, 39.05077260365004, 36.52348371010096, 33.3828711904443, 31.37651875133422, 31.068591564151205, 31.039711942511293, 30.038234767502953, 28.647482714816878, 27.406464389147406, 26.627829769062732, 25.659098942777934, 25.25437774352646, 25.164570630678238, 25.017809925834904, 24.679099239832745, 24.264762725123543, 23.6418798574289, 56.154330615573244, 305.5977660674276, 59.383153970115266, 49.86376592951368, 34.252199888056275, 65.09509454800396, 79.47220304451952, 232.03490814042746, 105.40626470972475, 71.03519989305438, 51.08574179957423, 177.32753751084493, 81.73310025395459, 86.42817372080042, 204.42580088539876, 164.78258208053876, 120.84698559621495, 83.7432299769562, 64.6478812048295, 34.62651197891462, 31.73291905299024, 28.335569602076593, 25.095393608237867, 24.47697922314858, 23.273114894658136, 21.3354574052404, 17.906842696717284, 16.082942530769554, 15.947028779095731, 15.094193751156013, 14.61685635221014, 14.205482282401558, 13.612347672086251, 6.219383059445516, 16.48107821560894, 34.52496565378209, 37.33233852905933, 11.809976883889401, 10.442240310025063, 51.34842856525275, 25.394774450046274, 378.92373762773707, 86.42817372080042, 305.5977660674276, 97.26213681704914, 177.32753751084493, 71.03519989305438, 77.51096417572067, 63.33390152220267, 33.72384855533591, 30.962257928988308, 24.57713212674025, 23.628241834559354, 21.33887204865939, 20.673023558656432, 19.578772888914234, 19.38621181842922, 18.812567493798245, 15.433241106049126, 14.519927656126622, 14.493407338707302, 14.21211765551337, 13.706684858074873, 13.000530485010296, 12.044881428258188, 11.849030724646768, 10.944605580274496, 8.948529704197949, 8.253043260772273, 7.09039516016675, 11.68584651452714, 129.28246470609213, 10.075030001252925, 28.092491833642793, 8.868450390987498, 41.106218789198756, 60.86795093709209, 56.85620951064663, 81.73310025395459, 232.03490814042746, 42.20420505544781, 39.8513678996768, 305.5977660674276, 33.55064890868588, 105.40626470972475, 243.0465248338984, 58.340506783981006, 34.761905782001726, 29.845646876974374, 26.42857555343286, 23.201616598985062, 19.632092574671898, 18.65900220039005, 18.25846802291438, 17.84019849539522, 16.77450353893255, 13.889531085279245, 12.44010061139004, 10.037081506753264, 9.931971928932448, 9.73818930435664, 8.630345236552104, 7.646683995516734, 7.485985693776573, 6.797391338832892, 6.204808930262146, 103.22032445440718, 37.33233852905933, 378.92373762773707, 71.03519989305438, 21.954452383219564, 49.1105092329081, 34.95415787783116, 56.154330615573244, 14.6743740669834, 16.48107821560894, 46.152964272911, 177.32753751084493, 305.5977660674276, 71.34275025592427, 31.65137903508082, 24.43694381493624, 22.65332260634846, 20.17482182020964, 19.620215446422087, 18.476734244726984, 17.48812511120287, 17.362102452154634, 16.616678015572358, 15.948049564112992, 14.296397119653355, 13.57954291559383, 12.934035175436543, 12.099300872290957, 9.076128699879032, 5.4901082296727655, 5.093095865409561, 36.563794817853136, 38.950245450505804, 10.442240310025063, 39.8513678996768, 14.363071068522402, 33.083697959959466, 90.13431820229357, 16.48107821560894, 10.139707058148728, 56.85620951064663, 129.28246470609213, 22.273820925661145, 19.7912478513814], \"Category\": [\"Default\", \"Default\", \"Default\", \"Default\", \"Default\", \"Default\", \"Default\", \"Default\", \"Default\", \"Default\", \"Default\", \"Default\", \"Default\", \"Default\", \"Default\", \"Default\", \"Default\", \"Default\", \"Default\", \"Default\", \"Default\", \"Default\", \"Default\", \"Default\", \"Default\", \"Default\", \"Default\", \"Default\", \"Default\", \"Default\", \"Topic1\", \"Topic1\", \"Topic1\", \"Topic1\", \"Topic1\", \"Topic1\", \"Topic1\", \"Topic1\", \"Topic1\", \"Topic1\", \"Topic1\", \"Topic1\", \"Topic1\", \"Topic1\", \"Topic1\", \"Topic1\", \"Topic1\", \"Topic1\", \"Topic1\", \"Topic1\", \"Topic1\", \"Topic1\", \"Topic1\", \"Topic1\", \"Topic1\", \"Topic1\", \"Topic1\", \"Topic1\", \"Topic1\", \"Topic1\", \"Topic1\", \"Topic1\", \"Topic1\", \"Topic1\", \"Topic1\", \"Topic1\", \"Topic1\", \"Topic1\", \"Topic1\", \"Topic1\", \"Topic1\", \"Topic2\", \"Topic2\", \"Topic2\", \"Topic2\", \"Topic2\", \"Topic2\", \"Topic2\", \"Topic2\", \"Topic2\", \"Topic2\", \"Topic2\", \"Topic2\", \"Topic2\", \"Topic2\", \"Topic2\", \"Topic2\", \"Topic2\", \"Topic2\", \"Topic2\", \"Topic2\", \"Topic2\", \"Topic2\", \"Topic2\", \"Topic2\", \"Topic2\", \"Topic2\", \"Topic2\", \"Topic2\", \"Topic2\", \"Topic2\", \"Topic2\", \"Topic2\", \"Topic2\", \"Topic2\", \"Topic2\", \"Topic2\", \"Topic2\", \"Topic2\", \"Topic2\", \"Topic2\", \"Topic2\", \"Topic2\", \"Topic2\", \"Topic2\", \"Topic3\", \"Topic3\", \"Topic3\", \"Topic3\", \"Topic3\", \"Topic3\", \"Topic3\", \"Topic3\", \"Topic3\", \"Topic3\", \"Topic3\", \"Topic3\", \"Topic3\", \"Topic3\", \"Topic3\", \"Topic3\", \"Topic3\", \"Topic3\", \"Topic3\", \"Topic3\", \"Topic3\", \"Topic3\", \"Topic3\", \"Topic3\", \"Topic3\", \"Topic3\", \"Topic3\", \"Topic3\", \"Topic3\", \"Topic3\", \"Topic3\", \"Topic3\", \"Topic3\", \"Topic4\", \"Topic4\", \"Topic4\", \"Topic4\", \"Topic4\", \"Topic4\", \"Topic4\", \"Topic4\", \"Topic4\", \"Topic4\", \"Topic4\", \"Topic4\", \"Topic4\", \"Topic4\", \"Topic4\", \"Topic4\", \"Topic4\", \"Topic4\", \"Topic4\", \"Topic4\", \"Topic4\", \"Topic4\", \"Topic4\", \"Topic4\", \"Topic4\", \"Topic4\", \"Topic4\", \"Topic4\", \"Topic4\", \"Topic4\", \"Topic4\", \"Topic4\", \"Topic4\", \"Topic4\", \"Topic4\", \"Topic4\", \"Topic4\", \"Topic4\", \"Topic4\", \"Topic5\", \"Topic5\", \"Topic5\", \"Topic5\", \"Topic5\", \"Topic5\", \"Topic5\", \"Topic5\", \"Topic5\", \"Topic5\", \"Topic5\", \"Topic5\", \"Topic5\", \"Topic5\", \"Topic5\", \"Topic5\", \"Topic5\", \"Topic5\", \"Topic5\", \"Topic5\", \"Topic5\", \"Topic5\", \"Topic5\", \"Topic5\", \"Topic5\", \"Topic5\", \"Topic5\", \"Topic5\", \"Topic5\", \"Topic5\", \"Topic5\", \"Topic5\", \"Topic5\", \"Topic6\", \"Topic6\", \"Topic6\", \"Topic6\", \"Topic6\", \"Topic6\", \"Topic6\", \"Topic6\", \"Topic6\", \"Topic6\", \"Topic6\", \"Topic6\", \"Topic6\", \"Topic6\", \"Topic6\", \"Topic6\", \"Topic6\", \"Topic6\", \"Topic6\", \"Topic6\", \"Topic6\", \"Topic6\", \"Topic6\", \"Topic6\", \"Topic6\", \"Topic6\", \"Topic6\", \"Topic6\", \"Topic6\", \"Topic6\", \"Topic6\"], \"logprob\": [30.0, 29.0, 28.0, 27.0, 26.0, 25.0, 24.0, 23.0, 22.0, 21.0, 20.0, 19.0, 18.0, 17.0, 16.0, 15.0, 14.0, 13.0, 12.0, 11.0, 10.0, 9.0, 8.0, 7.0, 6.0, 5.0, 4.0, 3.0, 2.0, 1.0, -3.4442, -3.4512, -4.0377, -3.903, -4.152, -4.2714, -4.2246, -4.2616, -4.4525, -4.4994, -4.5611, -4.6118, -4.5737, -4.7432, -4.7481, -4.7688, -4.7947, -4.8118, -4.8134, -4.834, -4.8419, -4.8788, -4.927, -4.9062, -4.9372, -4.9312, -4.9711, -4.818, -4.6515, -5.0271, -3.6084, -3.022, -4.0247, -4.6852, -3.244, -4.7809, -4.3588, -4.1439, -4.747, -4.6567, -4.8108, -2.8921, -3.3153, -3.5305, -3.582, -3.789, -3.9502, -4.0905, -4.2477, -4.2501, -4.384, -4.4389, -4.4381, -4.4606, -4.5097, -4.5783, -4.6704, -4.7342, -4.7441, -4.7451, -4.779, -4.8278, -4.8736, -4.9031, -4.9414, -4.958, -4.9616, -4.9678, -4.9818, -4.9996, -5.0267, -4.2378, -2.8856, -4.2482, -4.403, -4.7146, -4.2034, -4.0587, -3.2476, -3.9469, -4.2329, -4.4567, -3.7, -4.4559, -4.5135, -1.8678, -2.0844, -2.3963, -2.7662, -3.028, -3.6638, -3.7533, -3.8699, -3.9952, -4.022, -4.0732, -4.1636, -4.3503, -4.4595, -4.4693, -4.5273, -4.5607, -4.5909, -4.6367, -5.5013, -4.7465, -4.1086, -4.0796, -5.3542, -5.5702, -4.1264, -5.3103, -2.6296, -4.1096, -2.8968, -4.6891, -5.1086, -5.2576, -2.6253, -2.8297, -3.4718, -3.5596, -3.7977, -3.8385, -3.9443, -3.9776, -4.0343, -4.0445, -4.0761, -4.2843, -4.3488, -4.351, -4.3716, -4.4101, -4.4667, -4.5483, -4.566, -4.6519, -4.8718, -4.9632, -5.1323, -4.7746, -2.4271, -5.0353, -4.0679, -5.2211, -3.8112, -3.4793, -3.5609, -3.2647, -2.3961, -3.9391, -4.2072, -3.4921, -4.4987, -4.3553, -4.4752, -2.3311, -2.8592, -3.0159, -3.1414, -3.2766, -3.4508, -3.5038, -3.527, -3.5513, -3.6162, -3.8167, -3.9342, -4.1685, -4.18, -4.2006, -4.3337, -4.4692, -4.4932, -4.6035, -4.7087, -2.3283, -3.7191, -1.9161, -4.04, -5.3074, -4.7032, -5.1437, -4.7125, -6.1214, -6.0912, -5.1776, -4.2785, -5.0683, -1.9561, -2.7846, -3.0523, -3.1304, -3.2513, -3.2806, -3.3434, -3.4012, -3.4089, -3.4551, -3.4985, -3.6148, -3.6699, -3.7216, -3.7935, -4.1073, -4.6825, -4.7731, -3.2018, -3.2457, -4.6593, -3.5786, -4.6045, -3.8191, -3.1212, -5.2607, -5.8876, -4.1984, -3.8172, -5.7232, -5.8523], \"loglift\": [30.0, 29.0, 28.0, 27.0, 26.0, 25.0, 24.0, 23.0, 22.0, 21.0, 20.0, 19.0, 18.0, 17.0, 16.0, 15.0, 14.0, 13.0, 12.0, 11.0, 10.0, 9.0, 8.0, 7.0, 6.0, 5.0, 4.0, 3.0, 2.0, 1.0, 0.8975, 0.897, 0.8927, 0.8924, 0.8919, 0.8906, 0.8895, 0.8892, 0.8882, 0.8875, 0.8863, 0.8857, 0.8836, 0.8834, 0.8831, 0.8827, 0.8824, 0.882, 0.8819, 0.8815, 0.8812, 0.8805, 0.8793, 0.8793, 0.8792, 0.879, 0.8783, 0.8775, 0.8772, 0.8769, 0.8704, 0.8493, 0.7624, 0.8171, 0.1831, 0.8174, 0.5045, 0.0426, 0.7235, 0.071, 0.4362, 1.2078, 1.2054, 1.2038, 1.2032, 1.2013, 1.1994, 1.1975, 1.1951, 1.1951, 1.1926, 1.1915, 1.1915, 1.1911, 1.1899, 1.1883, 1.1861, 1.1842, 1.1842, 1.1841, 1.1831, 1.1817, 1.1802, 1.1795, 1.1782, 1.1775, 1.1775, 1.1771, 1.1768, 1.1759, 1.1748, 1.0986, 0.7567, 1.0323, 1.0522, 1.1162, 0.9853, 0.9304, 0.6701, 0.7598, 0.8685, 0.9743, 0.4866, 0.5052, 0.3917, 2.1765, 2.1755, 2.1737, 2.1706, 2.1676, 2.1561, 2.1538, 2.1505, 2.1466, 2.1448, 2.144, 2.1406, 2.129, 2.1273, 2.126, 2.1229, 2.1217, 2.12, 2.1168, 2.0356, 1.8158, 1.7143, 1.665, 1.5413, 1.4485, 1.2995, 0.8197, 0.7976, 0.7956, 0.7454, 0.098, -0.9221, -0.1563, 2.3888, 2.3864, 2.3745, 2.3722, 2.365, 2.3635, 2.3596, 2.3581, 2.3558, 2.3555, 2.3539, 2.3437, 2.3402, 2.3399, 2.3388, 2.3365, 2.3328, 2.3276, 2.3263, 2.3197, 2.3012, 2.2907, 2.2735, 2.1315, 2.0754, 2.0192, 1.9611, 1.9609, 1.8371, 1.7765, 1.7631, 1.6964, 1.5215, 1.6829, 1.4722, 0.1502, 1.3528, 0.3514, -0.604, 2.9671, 2.9568, 2.9525, 2.9486, 2.9437, 2.9365, 2.9344, 2.9329, 2.9318, 2.9284, 2.9167, 2.9094, 2.8898, 2.8887, 2.8878, 2.8756, 2.861, 2.8583, 2.8444, 2.8305, 2.3993, 2.0256, 1.5111, 1.0613, 0.9682, 0.7673, 0.6668, 0.624, 0.557, 0.4711, 0.355, -0.0919, -1.4261, 3.1409, 3.1252, 3.1161, 3.1138, 3.1088, 3.1074, 3.1046, 3.1018, 3.1013, 3.099, 3.0967, 3.0897, 3.086, 3.083, 3.0779, 3.0515, 2.9791, 2.9635, 2.5636, 2.4565, 2.3594, 2.1007, 2.0953, 2.0463, 1.7421, 1.3016, 1.1604, 1.1256, 0.6853, 0.5379, 0.527]}, \"token.table\": {\"Topic\": [1, 4, 6, 4, 5, 1, 2, 3, 4, 5, 4, 1, 1, 2, 1, 1, 5, 6, 5, 2, 5, 1, 3, 6, 4, 2, 1, 4, 6, 1, 1, 4, 6, 3, 2, 4, 1, 2, 3, 5, 1, 6, 4, 1, 4, 4, 3, 6, 2, 1, 2, 5, 4, 1, 2, 4, 2, 4, 2, 4, 1, 4, 6, 6, 2, 1, 5, 1, 6, 1, 6, 3, 5, 1, 6, 1, 2, 3, 5, 4, 5, 2, 6, 4, 6, 1, 1, 2, 3, 2, 5, 1, 1, 4, 2, 2, 2, 5, 6, 1, 2, 3, 3, 5, 1, 4, 3, 3, 1, 2, 4, 2, 1, 2, 5, 5, 1, 2, 1, 1, 1, 2, 5, 5, 5, 4, 1, 2, 3, 4, 2, 2, 5, 2, 4, 2, 2, 1, 3, 2, 4, 2, 3, 2, 6, 3, 1, 3, 3, 4, 4, 1, 1, 1, 1, 2, 4, 6, 2, 1, 2, 5, 2, 4, 6, 5, 4, 1, 3, 2, 3, 4, 5, 1, 5, 2, 3, 3, 5, 2, 2, 4, 5, 6, 4, 5, 6, 2, 5, 2, 3, 5, 2, 2, 2, 4, 1, 3, 4, 5, 1, 5, 1, 2, 3, 4, 3, 3, 3, 5, 2, 4, 1, 4, 6, 3, 4, 6, 2, 1, 3, 6, 2, 6, 1, 1, 4, 6, 1, 1, 4, 6, 4, 6, 1, 2, 3, 1, 2, 3, 1, 2, 4, 4, 1, 3, 4, 5, 6, 1, 2, 6, 1, 4, 1, 6, 1, 6, 1, 3, 3, 3, 3, 3, 1, 1, 2, 5, 2, 1, 2, 2], \"Freq\": [0.49758074988997514, 0.49758074988997514, 0.9821195392416799, 0.9719280543165159, 0.9837836302389293, 0.009816825687587242, 0.634821394463975, 0.23887609173128957, 0.10471280733426391, 0.01308910091678299, 0.9674443577763633, 0.9846480721233141, 0.23907730341080885, 0.7549809581393964, 0.9838397809934366, 0.9848516743906642, 0.9646224234724365, 0.9091434386255733, 0.9482097898713823, 0.905051357323466, 0.058390410149901026, 0.7088072404583692, 0.2756472601782547, 0.9215473784981842, 0.9734114015355781, 0.9795849642583226, 0.1856400251539222, 0.7193550974714484, 0.085085011528881, 0.9785582134076434, 0.9783919293021217, 0.94844232099941, 0.8814330718014858, 0.94061409230432, 0.9879999832257296, 0.9659564292111237, 0.485585836221128, 0.03166864149268226, 0.25071007848373456, 0.2295976508219464, 0.43759134082514933, 0.5469891760314366, 0.913250999233017, 0.9463208748085801, 0.049373263033491134, 0.9372566626011751, 0.478824452565007, 0.478824452565007, 0.9980622374599597, 0.8348518604349272, 0.04072448099682572, 0.1018112024920643, 0.8481719747274147, 0.012234945167782446, 0.4893978067112979, 0.4893978067112979, 0.7829973411550496, 0.1957493352887624, 0.6259193393592856, 0.35766819391959176, 0.2977658626948924, 0.694787012954749, 0.9417679208927243, 0.9277847042498848, 0.9924987714808509, 0.4359606524960758, 0.5619048409949421, 0.7889774284525151, 0.09862217855656438, 0.9724562389737109, 0.9683889584130337, 0.9374066662891236, 0.9061644620422702, 0.9687239211552071, 0.9711599654628424, 0.4229461540648371, 0.4849782566610132, 0.04511425643358263, 0.04511425643358263, 0.9704387556769739, 0.9241964515901955, 0.48780180407703355, 0.48780180407703355, 0.9230392570392482, 0.940553886523758, 0.9886248121306486, 0.300827830563573, 0.4396714446698375, 0.25454662586148485, 0.9730921430335076, 0.8966749940153935, 0.9699441367378735, 0.9836074791172852, 0.978536003856494, 0.9503302850592705, 0.9902973359846687, 0.8198792520900193, 0.13664654201500323, 0.9628880083615728, 0.9831897829001497, 0.9593165857102522, 0.9979170883344737, 0.932665149508699, 0.9154294860496541, 0.33827781266597934, 0.6765556253319587, 0.9550152782725391, 0.9528659694923262, 0.6351118118473479, 0.3419832833024181, 0.0162849182524961, 0.9743132467649085, 0.028608899790837937, 0.858266993725138, 0.0858266993725138, 0.9529041957906418, 0.9815162195287184, 0.9654362256790744, 0.9691103108570762, 0.9674076710388229, 0.9766141416101979, 0.994757172325926, 0.9770227092996546, 0.9269617588549757, 0.9716659893330447, 0.980078015135372, 0.9248858094871499, 0.06306039610139658, 0.508045024896273, 0.4233708540802275, 0.9478765673725704, 0.9856672021142335, 0.9678030972873781, 0.5818090091784726, 0.41373085097135825, 0.9897821992837487, 0.9764220451119089, 0.8739269234839625, 0.12337791860950059, 0.413562728481049, 0.5595260444155369, 0.9724828190351186, 0.8039382607904153, 0.9952667256862218, 0.9720881965277012, 0.9819065813127199, 0.5647689872952445, 0.4089706459724184, 0.9577982886780666, 0.9147123824264748, 0.9689215841042589, 0.968902624494041, 0.9750602250250098, 0.9927613283228277, 0.9763810749654429, 0.3203702987010162, 0.6407405974020324, 0.9811788829123143, 0.9656054069285777, 0.3900074520362912, 0.5200099360483883, 0.06500124200604854, 0.2509324152981233, 0.4014918644769973, 0.35130538141737266, 0.9646818091711103, 0.9789385859682898, 0.9803679607075035, 0.9151396440869193, 0.7038763891039441, 0.09854269447455219, 0.04223258334623665, 0.14077527782078883, 0.8858980928698923, 0.06814600714383787, 0.3475745673532753, 0.6372200401476714, 0.5893014171312975, 0.3750099927199166, 0.9736178916806313, 0.984124092016442, 0.9641921317764114, 0.9780821630787513, 0.910728858308504, 0.9136921314024361, 0.9350806007843971, 0.9794202004797686, 0.8904032770383258, 0.08904032770383258, 0.9885309089125356, 0.9805131499765508, 0.9538285268988751, 0.9954393759053641, 0.9763228630850064, 0.9788063614574456, 0.9934078464749543, 0.9910026806715218, 0.17114720765104355, 0.770162434429696, 0.8826915651777373, 0.9761481800020585, 0.8058265864745582, 0.20871624718497672, 0.6356358436997018, 0.01897420428954334, 0.13281943002680338, 0.9911248947865909, 0.94529675548715, 0.956350809820401, 0.9359567231019044, 0.966503814712039, 0.8940016141698706, 0.46001219967037177, 0.5421572353257953, 0.9741981327212607, 0.9275089634335579, 0.956807198482285, 0.7853769309874046, 0.9851690322627548, 0.9255381775926873, 0.06941536331945154, 0.9573223547216511, 0.897915093541875, 0.0897915093541875, 0.9848353876013989, 0.6767677530227081, 0.07766187329768781, 0.24408017322130457, 0.9758916051876457, 0.33417633999048335, 0.5276468526165526, 0.12311759894386229, 0.9283459766138737, 0.9093200119720242, 0.19970782883513954, 0.7988313153405582, 0.9493577560223094, 0.134718341232364, 0.841989632702275, 0.033679585308091, 0.14038249758141103, 0.8422949854884662, 0.8462151776402393, 0.9765175153974811, 0.9945432661284367, 0.6674320609425962, 0.06067564190387238, 0.06067564190387238, 0.18202692571161716, 0.994326093161337, 0.909492930166282, 0.05052738500923788, 0.9711881496879373, 0.02158195888195416, 0.634753709377225, 0.33249003824521306, 0.6266069392167865, 0.34811496623154803, 0.9668682168216436, 0.02266097383175727, 0.9769035098294502, 0.9952508203800553, 0.9899783072120064, 0.9929912559089809, 0.9737463338488156, 0.9835684572363667, 0.9773982684181186, 0.931074829425174, 0.972849880749766, 0.987260602639536, 0.992714704882221, 0.9537218159701678], \"Term\": [\"able\", \"able\", \"acc\", \"accept\", \"access\", \"account\", \"account\", \"account\", \"account\", \"account\", \"acct\", \"add\", \"already\", \"already\", \"also\", \"always\", \"apple\", \"application\", \"authentication\", \"authentication_code\", \"authentication_code\", \"available\", \"available\", \"ayusin\", \"bad\", \"balance\", \"bank\", \"bank\", \"bank\", \"bills\", \"bpi\", \"bring_back\", \"bug\", \"buggy\", \"bulok\", \"business\", \"cannot\", \"cannot\", \"cannot\", \"cannot\", \"card\", \"card\", \"cards\", \"cash\", \"cash\", \"charge\", \"click\", \"click\", \"code\", \"could\", \"could\", \"could\", \"credited\", \"customer_service\", \"customer_service\", \"customer_service\", \"days\", \"days\", \"deducted\", \"deducted\", \"different\", \"different\", \"disappointed\", \"download\", \"email\", \"error\", \"error\", \"errors\", \"errors\", \"everytime\", \"experience\", \"face\", \"far\", \"feature\", \"fee\", \"fix\", \"fix\", \"fix\", \"fix\", \"free\", \"friends\", \"fully_verified\", \"fully_verified\", \"fully_verify\", \"gamit\", \"gcredit\", \"get\", \"get\", \"get\", \"give\", \"giving\", \"go\", \"good\", \"got\", \"hard\", \"help\", \"help_center\", \"help_center\", \"hirap\", \"hope\", \"however\", \"id\", \"ids\", \"improve\", \"inconvenient\", \"inconvenient\", \"input\", \"iphone\", \"issue\", \"issue\", \"issue\", \"keeps\", \"know\", \"know\", \"know\", \"laging\", \"last\", \"let\", \"limit\", \"link\", \"linked\", \"load\", \"log\", \"logging\", \"login\", \"maintenance\", \"make\", \"make\", \"making\", \"making\", \"mastercard\", \"message\", \"mobile\", \"money\", \"money\", \"mpin\", \"name\", \"need\", \"need\", \"never\", \"never\", \"new\", \"next\", \"number\", \"okay\", \"open\", \"option\", \"option\", \"options\", \"pandemic\", \"passport\", \"pay\", \"paymaya\", \"payment\", \"paypal\", \"people\", \"people\", \"pera\", \"pesos\", \"phone\", \"phone\", \"phone\", \"php\", \"php\", \"php\", \"pin\", \"poor\", \"possible\", \"postal\", \"problem\", \"problem\", \"problem\", \"problem\", \"problems\", \"problems\", \"process\", \"process\", \"put\", \"put\", \"receive\", \"received\", \"refund\", \"register\", \"reliable\", \"removed\", \"right\", \"sana\", \"says\", \"says\", \"scam\", \"screen\", \"see\", \"send\", \"sending\", \"sent\", \"service\", \"since\", \"someone\", \"someone\", \"sometimes\", \"soon\", \"stars\", \"still\", \"still\", \"still\", \"still\", \"student\", \"students\", \"stupid\", \"submit_ticket\", \"support\", \"supposed\", \"system\", \"system\", \"tagal\", \"takes\", \"team\", \"technical\", \"text\", \"thank\", \"thank\", \"thru\", \"ticket\", \"ticket\", \"time\", \"transaction\", \"transaction\", \"transaction\", \"transactions\", \"transfer\", \"transfer\", \"transfer\", \"transferred\", \"trash\", \"tried\", \"tried\", \"trust\", \"try\", \"try\", \"try\", \"trying\", \"trying\", \"two\", \"unavailable\", \"update\", \"us\", \"us\", \"us\", \"us\", \"use\", \"used\", \"used\", \"useless\", \"useless\", \"user\", \"user\", \"users\", \"users\", \"using\", \"using\", \"valid\", \"verification\", \"verified\", \"verify\", \"via\", \"wala\", \"wallet\", \"well\", \"without\", \"working\", \"worst\", \"yet\"]}, \"R\": 30, \"lambda.step\": 0.01, \"plot.opts\": {\"xlab\": \"PC1\", \"ylab\": \"PC2\"}, \"topic.order\": [3, 1, 4, 2, 5, 6]};\n",
              "\n",
              "function LDAvis_load_lib(url, callback){\n",
              "  var s = document.createElement('script');\n",
              "  s.src = url;\n",
              "  s.async = true;\n",
              "  s.onreadystatechange = s.onload = callback;\n",
              "  s.onerror = function(){console.warn(\"failed to load library \" + url);};\n",
              "  document.getElementsByTagName(\"head\")[0].appendChild(s);\n",
              "}\n",
              "\n",
              "if(typeof(LDAvis) !== \"undefined\"){\n",
              "   // already loaded: just create the visualization\n",
              "   !function(LDAvis){\n",
              "       new LDAvis(\"#\" + \"ldavis_el1721400872232169763875473713\", ldavis_el1721400872232169763875473713_data);\n",
              "   }(LDAvis);\n",
              "}else if(typeof define === \"function\" && define.amd){\n",
              "   // require.js is available: use it to load d3/LDAvis\n",
              "   require.config({paths: {d3: \"https://d3js.org/d3.v5\"}});\n",
              "   require([\"d3\"], function(d3){\n",
              "      window.d3 = d3;\n",
              "      LDAvis_load_lib(\"https://cdn.jsdelivr.net/gh/bmabey/pyLDAvis@3.3.1/pyLDAvis/js/ldavis.v3.0.0.js\", function(){\n",
              "        new LDAvis(\"#\" + \"ldavis_el1721400872232169763875473713\", ldavis_el1721400872232169763875473713_data);\n",
              "      });\n",
              "    });\n",
              "}else{\n",
              "    // require.js not available: dynamically load d3 & LDAvis\n",
              "    LDAvis_load_lib(\"https://d3js.org/d3.v5.js\", function(){\n",
              "         LDAvis_load_lib(\"https://cdn.jsdelivr.net/gh/bmabey/pyLDAvis@3.3.1/pyLDAvis/js/ldavis.v3.0.0.js\", function(){\n",
              "                 new LDAvis(\"#\" + \"ldavis_el1721400872232169763875473713\", ldavis_el1721400872232169763875473713_data);\n",
              "            })\n",
              "         });\n",
              "}\n",
              "</script>"
            ],
            "text/plain": [
              "PreparedData(topic_coordinates=              x         y  topics  cluster       Freq\n",
              "topic                                                \n",
              "2     -0.058265 -0.152206       1        1  40.537770\n",
              "0      0.071915  0.268576       2        1  29.752612\n",
              "3     -0.235540  0.045065       3        1  11.296894\n",
              "1      0.236624  0.130028       4        1   9.073969\n",
              "4     -0.230614 -0.032665       5        1   5.067819\n",
              "5      0.215879 -0.258799       6        1   4.270937, topic_info=             Term        Freq       Total Category  logprob  loglift\n",
              "36         cannot  378.000000  378.000000  Default  30.0000  30.0000\n",
              "213            id  204.000000  204.000000  Default  29.0000  29.0000\n",
              "153  verification  164.000000  164.000000  Default  28.0000  28.0000\n",
              "110         money  232.000000  232.000000  Default  27.0000  27.0000\n",
              "281        verify  120.000000  120.000000  Default  26.0000  26.0000\n",
              "..            ...         ...         ...      ...      ...      ...\n",
              "11         errors    1.382026   10.139707   Topic6  -5.8876   1.1604\n",
              "30       transfer    7.484371   56.856210   Topic6  -4.1984   1.1256\n",
              "4            bank   10.956964  129.282465   Topic6  -3.8172   0.6853\n",
              "138        ticket    1.629042   22.273821   Topic6  -5.7232   0.5379\n",
              "221          used    1.431799   19.791248   Topic6  -5.8523   0.5270\n",
              "\n",
              "[251 rows x 6 columns], token_table=      Topic      Freq     Term\n",
              "term                          \n",
              "120       1  0.497581     able\n",
              "120       4  0.497581     able\n",
              "321       6  0.982120      acc\n",
              "295       4  0.971928   accept\n",
              "242       5  0.983784   access\n",
              "...     ...       ...      ...\n",
              "59        5  0.931075     well\n",
              "201       2  0.972850  without\n",
              "186       1  0.987261  working\n",
              "119       2  0.992715    worst\n",
              "171       2  0.953722      yet\n",
              "\n",
              "[272 rows x 3 columns], R=30, lambda_step=0.01, plot_opts={'xlab': 'PC1', 'ylab': 'PC2'}, topic_order=[3, 1, 4, 2, 5, 6])"
            ]
          },
          "metadata": {
            "tags": []
          },
          "execution_count": 78
        }
      ]
    },
    {
      "cell_type": "markdown",
      "metadata": {
        "id": "xJjoZyGKhgj3"
      },
      "source": [
        ""
      ]
    },
    {
      "cell_type": "markdown",
      "metadata": {
        "id": "11lnnRnfkoP6"
      },
      "source": [
        "##### Checking time series distribution of reviews [ January 1 2020 to May 31 2021 ]"
      ]
    },
    {
      "cell_type": "code",
      "metadata": {
        "id": "yUP8xcaMcvhF"
      },
      "source": [
        ""
      ],
      "execution_count": 78,
      "outputs": []
    }
  ]
}