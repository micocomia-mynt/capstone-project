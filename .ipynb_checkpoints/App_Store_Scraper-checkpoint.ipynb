{
 "cells": [
  {
   "cell_type": "markdown",
   "id": "shaped-variable",
   "metadata": {},
   "source": [
    "#### App Store Reviews Scraper\n",
    "\n",
    "---\n",
    "\n",
    "This notebook scrapes the Apple App Store for the reviews of a particular app. In this case, we will use the scraper to get the reviews for GCash. \n",
    "\n",
    "Reference: https://python.plainenglish.io/scraping-app-store-reviews-with-python-90e4117ccdfb"
   ]
  },
  {
   "cell_type": "code",
   "execution_count": 1,
   "id": "sublime-spain",
   "metadata": {},
   "outputs": [],
   "source": [
    "import pandas as pd\n",
    "import datetime as dt\n",
    "import random\n",
    "import time\n",
    "\n",
    "from app_store_scraper import AppStore\n",
    "from tzlocal import get_localzone"
   ]
  },
  {
   "cell_type": "markdown",
   "id": "molecular-organization",
   "metadata": {},
   "source": [
    "#### Scraping Reviews\n",
    "\n",
    "This section focuses on how to use the AppStore library and discusses its various parameters. \n",
    "\n",
    "---\n",
    "\n",
    "First, we search for the application name and id of the application of interest. These details are readily available from the web page of the app. \n",
    "\n",
    "For example, here's the url for the App Store page of GCash: https://apps.apple.com/ph/app/gcash/id520020791. The application name is the value between \"app/\" and \"/id...\" while the application ID is the value after \"/id\"\n",
    "\n"
   ]
  },
  {
   "cell_type": "code",
   "execution_count": null,
   "id": "amended-russia",
   "metadata": {},
   "outputs": [],
   "source": [
    "app_name = \"gcash\"\n",
    "app_id = 520020791"
   ]
  },
  {
   "cell_type": "code",
   "execution_count": 2,
   "id": "under-ranking",
   "metadata": {},
   "outputs": [],
   "source": [
    "app_name = \"paymaya\"\n",
    "app_id = 991673877"
   ]
  },
  {
   "cell_type": "markdown",
   "id": "objective-momentum",
   "metadata": {},
   "source": [
    "We first intantiate _AppStore_ so that we may access its _review_ method. It has three required parameters: _country, app_name,_ and _app_id_. For the _app_name_ and _app_id_, we simply input the values we have obtained previously and set the App Store country accordingly. In this case, we set the _country_ to \"ph\" or Philippines."
   ]
  },
  {
   "cell_type": "code",
   "execution_count": 3,
   "id": "insured-screw",
   "metadata": {},
   "outputs": [
    {
     "name": "stderr",
     "output_type": "stream",
     "text": [
      "2021-06-13 13:53:34,441 [INFO] Base - Initialised: AppStore('ph', 'paymaya', 991673877)\n",
      "2021-06-13 13:53:34,442 [INFO] Base - Ready to fetch reviews from: https://apps.apple.com/ph/app/paymaya/id991673877\n"
     ]
    }
   ],
   "source": [
    "app_store = AppStore(country='ph', \n",
    "                     app_name=app_name, \n",
    "                     app_id=app_id)"
   ]
  },
  {
   "cell_type": "markdown",
   "id": "royal-moldova",
   "metadata": {},
   "source": [
    "Using the _review_ method, we scrape the reviews of the specified app. We may limit the number of reviews scraped by setting a value for the _how_many_ parameter. \n",
    "\n",
    "Without setting a value for this parameter, the method scrapes all reviews by default. We could also filter reviews by date by passing a datetime object to the _after_ parameter. By providing a value to this parameter, the scraper would only get reviews posted after the specified date. Lastly, sleep simply adds a sleep time in between calls.\n",
    "\n",
    "Since we want to get all of the reviews for GCash, we do not provide a value for the _how_many_ and _after_ parameters."
   ]
  },
  {
   "cell_type": "code",
   "execution_count": 4,
   "id": "swedish-flight",
   "metadata": {
    "scrolled": true,
    "tags": []
   },
   "outputs": [
    {
     "name": "stderr",
     "output_type": "stream",
     "text": [
      "2021-06-13 13:53:42,951 [INFO] Base - [id:991673877] Fetched 40 reviews (40 fetched in total)\n",
      "2021-06-13 13:53:55,688 [INFO] Base - [id:991673877] Fetched 100 reviews (100 fetched in total)\n",
      "2021-06-13 13:54:08,732 [INFO] Base - [id:991673877] Fetched 160 reviews (160 fetched in total)\n",
      "2021-06-13 13:54:21,413 [INFO] Base - [id:991673877] Fetched 220 reviews (220 fetched in total)\n",
      "2021-06-13 13:54:34,486 [INFO] Base - [id:991673877] Fetched 280 reviews (280 fetched in total)\n",
      "2021-06-13 13:54:47,394 [INFO] Base - [id:991673877] Fetched 340 reviews (340 fetched in total)\n",
      "2021-06-13 13:55:00,309 [INFO] Base - [id:991673877] Fetched 400 reviews (400 fetched in total)\n",
      "2021-06-13 13:55:13,184 [INFO] Base - [id:991673877] Fetched 460 reviews (460 fetched in total)\n",
      "2021-06-13 13:55:26,041 [INFO] Base - [id:991673877] Fetched 520 reviews (520 fetched in total)\n",
      "2021-06-13 13:55:38,906 [INFO] Base - [id:991673877] Fetched 580 reviews (580 fetched in total)\n",
      "2021-06-13 13:55:52,157 [INFO] Base - [id:991673877] Fetched 640 reviews (640 fetched in total)\n",
      "2021-06-13 13:56:05,241 [INFO] Base - [id:991673877] Fetched 700 reviews (700 fetched in total)\n",
      "2021-06-13 13:56:18,168 [INFO] Base - [id:991673877] Fetched 760 reviews (760 fetched in total)\n",
      "2021-06-13 13:56:31,009 [INFO] Base - [id:991673877] Fetched 820 reviews (820 fetched in total)\n",
      "2021-06-13 13:56:44,086 [INFO] Base - [id:991673877] Fetched 880 reviews (880 fetched in total)\n",
      "2021-06-13 13:56:57,118 [INFO] Base - [id:991673877] Fetched 940 reviews (940 fetched in total)\n",
      "2021-06-13 13:57:09,978 [INFO] Base - [id:991673877] Fetched 1000 reviews (1000 fetched in total)\n",
      "2021-06-13 13:57:22,837 [INFO] Base - [id:991673877] Fetched 1060 reviews (1060 fetched in total)\n",
      "2021-06-13 13:57:35,750 [INFO] Base - [id:991673877] Fetched 1120 reviews (1120 fetched in total)\n",
      "2021-06-13 13:57:48,945 [INFO] Base - [id:991673877] Fetched 1180 reviews (1180 fetched in total)\n",
      "2021-06-13 13:58:01,817 [INFO] Base - [id:991673877] Fetched 1240 reviews (1240 fetched in total)\n",
      "2021-06-13 13:58:15,070 [INFO] Base - [id:991673877] Fetched 1300 reviews (1300 fetched in total)\n",
      "2021-06-13 13:58:27,967 [INFO] Base - [id:991673877] Fetched 1360 reviews (1360 fetched in total)\n",
      "2021-06-13 13:58:40,875 [INFO] Base - [id:991673877] Fetched 1420 reviews (1420 fetched in total)\n",
      "2021-06-13 13:58:54,118 [INFO] Base - [id:991673877] Fetched 1480 reviews (1480 fetched in total)\n",
      "2021-06-13 13:59:07,088 [INFO] Base - [id:991673877] Fetched 1540 reviews (1540 fetched in total)\n",
      "2021-06-13 13:59:19,952 [INFO] Base - [id:991673877] Fetched 1600 reviews (1600 fetched in total)\n",
      "2021-06-13 13:59:32,802 [INFO] Base - [id:991673877] Fetched 1660 reviews (1660 fetched in total)\n",
      "2021-06-13 13:59:45,694 [INFO] Base - [id:991673877] Fetched 1720 reviews (1720 fetched in total)\n",
      "2021-06-13 13:59:59,004 [INFO] Base - [id:991673877] Fetched 1780 reviews (1780 fetched in total)\n",
      "2021-06-13 14:00:11,844 [INFO] Base - [id:991673877] Fetched 1840 reviews (1840 fetched in total)\n",
      "2021-06-13 14:00:25,078 [INFO] Base - [id:991673877] Fetched 1900 reviews (1900 fetched in total)\n",
      "2021-06-13 14:00:38,099 [INFO] Base - [id:991673877] Fetched 1960 reviews (1960 fetched in total)\n",
      "2021-06-13 14:00:51,131 [INFO] Base - [id:991673877] Fetched 2020 reviews (2020 fetched in total)\n",
      "2021-06-13 14:01:04,139 [INFO] Base - [id:991673877] Fetched 2080 reviews (2080 fetched in total)\n",
      "2021-06-13 14:01:17,160 [INFO] Base - [id:991673877] Fetched 2140 reviews (2140 fetched in total)\n",
      "2021-06-13 14:01:30,227 [INFO] Base - [id:991673877] Fetched 2200 reviews (2200 fetched in total)\n",
      "2021-06-13 14:01:43,354 [INFO] Base - [id:991673877] Fetched 2260 reviews (2260 fetched in total)\n",
      "2021-06-13 14:01:56,235 [INFO] Base - [id:991673877] Fetched 2320 reviews (2320 fetched in total)\n",
      "2021-06-13 14:02:09,353 [INFO] Base - [id:991673877] Fetched 2380 reviews (2380 fetched in total)\n",
      "2021-06-13 14:02:22,195 [INFO] Base - [id:991673877] Fetched 2440 reviews (2440 fetched in total)\n",
      "2021-06-13 14:02:35,159 [INFO] Base - [id:991673877] Fetched 2500 reviews (2500 fetched in total)\n",
      "2021-06-13 14:02:48,070 [INFO] Base - [id:991673877] Fetched 2560 reviews (2560 fetched in total)\n",
      "2021-06-13 14:02:48,523 [INFO] Base - [id:991673877] Fetched 2569 reviews (2569 fetched in total)\n"
     ]
    },
    {
     "name": "stdout",
     "output_type": "stream",
     "text": [
      "Number of reviews scraped: 2569\n"
     ]
    }
   ],
   "source": [
    "app_store.review(sleep = random.randint(3,5))\n",
    "\n",
    "reviews = app_store.reviews\n",
    "print(f\"Number of reviews scraped: {app_store.reviews_count}\")"
   ]
  },
  {
   "cell_type": "markdown",
   "id": "wired-message",
   "metadata": {},
   "source": [
    "The method returns a list of dictionaries with the following keys: username, rating, title, review, date, and isEdited. A sample review is shown below."
   ]
  },
  {
   "cell_type": "code",
   "execution_count": 5,
   "id": "established-newspaper",
   "metadata": {},
   "outputs": [
    {
     "data": {
      "text/plain": [
       "{'date': datetime.datetime(2020, 3, 30, 1, 10, 54),\n",
       " 'rating': 5,\n",
       " 'isEdited': False,\n",
       " 'review': 'I have been contacting them about a payment i made via this app because such payment did not reach the biller. It has been two weeks since the payment was made (as of writing). I have been contacting them via email, messenger, call and to no avail no one responded with a resolution nor offered to help. Until now my line is cut because i do not have extra to pay off my bill twice. VERY DISAPPOINTING!!!\\nUPDATE: NO TICKET WAS PROVIDED. I checked the email and Miyuki replied to me asking for my details last March 10 5:45AM(for reference isent the screenshot of the email to paymaya cares messenger). I provided it on the same day and i got no response since then. I also communicated via Paymaya Cares and got no response either. I followed-up last March 28 via email and messenger and still no response.',\n",
       " 'title': 'VERY BAD SERVICE',\n",
       " 'userName': 'Hyrucha',\n",
       " 'developerResponse': {'id': 14329762,\n",
       "  'body': 'Hi Hyrucha. If you sent an email to support@paymaya.com, you should get an automated response with the ticket reference number. We regret that we are unable to escalate this issue without an identifier such as the reference number. We also advise against providing personal details through this channel, for security reasons. You may send another email follow-up, with your review alias as the subject. Thank you.',\n",
       "  'modified': '2020-03-30T10:00:06Z'}}"
      ]
     },
     "execution_count": 5,
     "metadata": {},
     "output_type": "execute_result"
    }
   ],
   "source": [
    "app_store.reviews[0]"
   ]
  },
  {
   "cell_type": "markdown",
   "id": "adjusted-joining",
   "metadata": {},
   "source": [
    "#### Storing the Reviews as CSV\n",
    "\n",
    "This section focuses on the storage of the reviews for future use.\n",
    "\n",
    "---"
   ]
  },
  {
   "cell_type": "markdown",
   "id": "genuine-astronomy",
   "metadata": {},
   "source": [
    "Since by default, the output does not contain information regarding the name and id of the app, we add the app_name and app_id columns for reference."
   ]
  },
  {
   "cell_type": "code",
   "execution_count": 6,
   "id": "precise-artist",
   "metadata": {},
   "outputs": [],
   "source": [
    "for review in reviews:\n",
    "    review['app_name'] = app_name\n",
    "    review['app_id'] = app_id"
   ]
  },
  {
   "cell_type": "markdown",
   "id": "lonely-reflection",
   "metadata": {},
   "source": [
    "Finally, we store the DataFrame as a CSV file using the _to_csv_ method. We add a timestamp for reference."
   ]
  },
  {
   "cell_type": "code",
   "execution_count": 7,
   "id": "direct-share",
   "metadata": {},
   "outputs": [],
   "source": [
    "time_now = time.strftime(\"%m%d-%H%M\")\n",
    "review_df = pd.DataFrame(reviews)\n",
    "path = f\"Data/{app_name}_{time_now}.csv\"\n",
    "review_df.to_csv(path, index=False)"
   ]
  },
  {
   "cell_type": "code",
   "execution_count": null,
   "id": "turned-university",
   "metadata": {},
   "outputs": [],
   "source": []
  }
 ],
 "metadata": {
  "kernelspec": {
   "display_name": "Python 3",
   "language": "python",
   "name": "python3"
  },
  "language_info": {
   "codemirror_mode": {
    "name": "ipython",
    "version": 3
   },
   "file_extension": ".py",
   "mimetype": "text/x-python",
   "name": "python",
   "nbconvert_exporter": "python",
   "pygments_lexer": "ipython3",
   "version": "3.9.1"
  }
 },
 "nbformat": 4,
 "nbformat_minor": 5
}
