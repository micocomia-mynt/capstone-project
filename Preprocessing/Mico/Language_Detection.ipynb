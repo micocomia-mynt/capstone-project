{
 "cells": [
  {
   "cell_type": "code",
   "execution_count": 2,
   "id": "foreign-hello",
   "metadata": {},
   "outputs": [],
   "source": [
    "import gcld3\n",
    "import pandas as pd"
   ]
  },
  {
   "cell_type": "code",
   "execution_count": 3,
   "id": "strange-clothing",
   "metadata": {},
   "outputs": [],
   "source": [
    "gcash = pd.read_csv('../Data/Preprocessed/Gcash.csv')"
   ]
  },
  {
   "cell_type": "code",
   "execution_count": 4,
   "id": "according-mathematics",
   "metadata": {},
   "outputs": [],
   "source": [
    "detector = gcld3.NNetLanguageIdentifier(min_num_bytes=0, max_num_bytes=1000)"
   ]
  },
  {
   "cell_type": "code",
   "execution_count": 6,
   "id": "wireless-observer",
   "metadata": {},
   "outputs": [],
   "source": [
    "languages = []\n",
    "probability = []\n",
    "\n",
    "for review in gcash.title_review:\n",
    "    results = detector.FindTopNMostFreqLangs(text=review, num_langs=2)\n",
    "\n",
    "    for i in results:\n",
    "        languages.append(i.language)\n",
    "        probability.append(i.probability)"
   ]
  },
  {
   "cell_type": "code",
   "execution_count": 7,
   "id": "coupled-lemon",
   "metadata": {},
   "outputs": [],
   "source": [
    "gcash['l1'] = languages[0::2]\n",
    "gcash['l2'] = languages[1::2]\n",
    "gcash['l1_prob'] = probability[0::2]\n",
    "gcash['l2_prob'] = probability[1::2]"
   ]
  },
  {
   "cell_type": "code",
   "execution_count": 8,
   "id": "loose-virtue",
   "metadata": {},
   "outputs": [
    {
     "data": {
      "text/plain": [
       "en     3233\n",
       "fil     267\n",
       "de       84\n",
       "jv       79\n",
       "zu       73\n",
       "       ... \n",
       "fa        1\n",
       "eo        1\n",
       "lv        1\n",
       "ru        1\n",
       "ur        1\n",
       "Name: l1, Length: 83, dtype: int64"
      ]
     },
     "execution_count": 8,
     "metadata": {},
     "output_type": "execute_result"
    }
   ],
   "source": [
    "gcash.l1.value_counts()"
   ]
  },
  {
   "cell_type": "code",
   "execution_count": 9,
   "id": "identified-cleaning",
   "metadata": {},
   "outputs": [
    {
     "data": {
      "text/plain": [
       "und    4867\n",
       "Name: l2, dtype: int64"
      ]
     },
     "execution_count": 9,
     "metadata": {},
     "output_type": "execute_result"
    }
   ],
   "source": [
    "gcash.l2.value_counts()"
   ]
  },
  {
   "cell_type": "code",
   "execution_count": 10,
   "id": "changed-lewis",
   "metadata": {},
   "outputs": [
    {
     "data": {
      "text/html": [
       "<div>\n",
       "<style scoped>\n",
       "    .dataframe tbody tr th:only-of-type {\n",
       "        vertical-align: middle;\n",
       "    }\n",
       "\n",
       "    .dataframe tbody tr th {\n",
       "        vertical-align: top;\n",
       "    }\n",
       "\n",
       "    .dataframe thead th {\n",
       "        text-align: right;\n",
       "    }\n",
       "</style>\n",
       "<table border=\"1\" class=\"dataframe\">\n",
       "  <thead>\n",
       "    <tr style=\"text-align: right;\">\n",
       "      <th></th>\n",
       "      <th>date</th>\n",
       "      <th>rating</th>\n",
       "      <th>title_review</th>\n",
       "      <th>l1</th>\n",
       "      <th>l2</th>\n",
       "      <th>l1_prob</th>\n",
       "      <th>l2_prob</th>\n",
       "    </tr>\n",
       "  </thead>\n",
       "  <tbody>\n",
       "    <tr>\n",
       "      <th>7</th>\n",
       "      <td>2020-04-26 04:57:47</td>\n",
       "      <td>1</td>\n",
       "      <td>['gcash', 'lose', 'primeokay', 'gcash', 'dati'...</td>\n",
       "      <td>fil</td>\n",
       "      <td>und</td>\n",
       "      <td>0.934221</td>\n",
       "      <td>0.0</td>\n",
       "    </tr>\n",
       "    <tr>\n",
       "      <th>126</th>\n",
       "      <td>2021-06-06 00:23:49</td>\n",
       "      <td>1</td>\n",
       "      <td>['gcashnapaka', 'kwenta', 'service', 'niyo', '...</td>\n",
       "      <td>fil</td>\n",
       "      <td>und</td>\n",
       "      <td>0.942151</td>\n",
       "      <td>0.0</td>\n",
       "    </tr>\n",
       "    <tr>\n",
       "      <th>197</th>\n",
       "      <td>2020-05-07 01:13:50</td>\n",
       "      <td>2</td>\n",
       "      <td>['know', 'dookay', 'naman', 'yung', 'gcash', '...</td>\n",
       "      <td>fil</td>\n",
       "      <td>und</td>\n",
       "      <td>0.892783</td>\n",
       "      <td>0.0</td>\n",
       "    </tr>\n",
       "    <tr>\n",
       "      <th>268</th>\n",
       "      <td>2020-12-15 00:11:12</td>\n",
       "      <td>2</td>\n",
       "      <td>['student', 'id', 'optiongcash', 'handy', 'app...</td>\n",
       "      <td>fil</td>\n",
       "      <td>und</td>\n",
       "      <td>0.636250</td>\n",
       "      <td>0.0</td>\n",
       "    </tr>\n",
       "    <tr>\n",
       "      <th>587</th>\n",
       "      <td>2019-09-06 15:38:28</td>\n",
       "      <td>5</td>\n",
       "      <td>['thankyou', 'much', 'gcash', 'since', 'colleg...</td>\n",
       "      <td>fil</td>\n",
       "      <td>und</td>\n",
       "      <td>0.915872</td>\n",
       "      <td>0.0</td>\n",
       "    </tr>\n",
       "    <tr>\n",
       "      <th>...</th>\n",
       "      <td>...</td>\n",
       "      <td>...</td>\n",
       "      <td>...</td>\n",
       "      <td>...</td>\n",
       "      <td>...</td>\n",
       "      <td>...</td>\n",
       "      <td>...</td>\n",
       "    </tr>\n",
       "    <tr>\n",
       "      <th>4764</th>\n",
       "      <td>2019-04-26 06:52:50</td>\n",
       "      <td>1</td>\n",
       "      <td>['di', 'makagawa', 'accountafter', 'download',...</td>\n",
       "      <td>fil</td>\n",
       "      <td>und</td>\n",
       "      <td>0.633183</td>\n",
       "      <td>0.0</td>\n",
       "    </tr>\n",
       "    <tr>\n",
       "      <th>4796</th>\n",
       "      <td>2019-01-05 05:28:49</td>\n",
       "      <td>1</td>\n",
       "      <td>['poorjust', 'bumili', 'ticket', 'movie', 'pap...</td>\n",
       "      <td>fil</td>\n",
       "      <td>und</td>\n",
       "      <td>0.973184</td>\n",
       "      <td>0.0</td>\n",
       "    </tr>\n",
       "    <tr>\n",
       "      <th>4810</th>\n",
       "      <td>2018-12-04 22:17:36</td>\n",
       "      <td>1</td>\n",
       "      <td>['disappointed', 'month', 'friday', 'pay', 'bi...</td>\n",
       "      <td>fil</td>\n",
       "      <td>und</td>\n",
       "      <td>0.991123</td>\n",
       "      <td>0.0</td>\n",
       "    </tr>\n",
       "    <tr>\n",
       "      <th>4812</th>\n",
       "      <td>2018-11-25 13:18:52</td>\n",
       "      <td>5</td>\n",
       "      <td>['love', 'itgcash', 'best', 'ganda', 'kya', 'f...</td>\n",
       "      <td>fil</td>\n",
       "      <td>und</td>\n",
       "      <td>0.494422</td>\n",
       "      <td>0.0</td>\n",
       "    </tr>\n",
       "    <tr>\n",
       "      <th>4847</th>\n",
       "      <td>2017-07-24 03:41:40</td>\n",
       "      <td>1</td>\n",
       "      <td>['cant', 'log', 'inputang', 'ina', 'mo', 'glob...</td>\n",
       "      <td>fil</td>\n",
       "      <td>und</td>\n",
       "      <td>0.606781</td>\n",
       "      <td>0.0</td>\n",
       "    </tr>\n",
       "  </tbody>\n",
       "</table>\n",
       "<p>267 rows × 7 columns</p>\n",
       "</div>"
      ],
      "text/plain": [
       "                     date  rating  \\\n",
       "7     2020-04-26 04:57:47       1   \n",
       "126   2021-06-06 00:23:49       1   \n",
       "197   2020-05-07 01:13:50       2   \n",
       "268   2020-12-15 00:11:12       2   \n",
       "587   2019-09-06 15:38:28       5   \n",
       "...                   ...     ...   \n",
       "4764  2019-04-26 06:52:50       1   \n",
       "4796  2019-01-05 05:28:49       1   \n",
       "4810  2018-12-04 22:17:36       1   \n",
       "4812  2018-11-25 13:18:52       5   \n",
       "4847  2017-07-24 03:41:40       1   \n",
       "\n",
       "                                           title_review   l1   l2   l1_prob  \\\n",
       "7     ['gcash', 'lose', 'primeokay', 'gcash', 'dati'...  fil  und  0.934221   \n",
       "126   ['gcashnapaka', 'kwenta', 'service', 'niyo', '...  fil  und  0.942151   \n",
       "197   ['know', 'dookay', 'naman', 'yung', 'gcash', '...  fil  und  0.892783   \n",
       "268   ['student', 'id', 'optiongcash', 'handy', 'app...  fil  und  0.636250   \n",
       "587   ['thankyou', 'much', 'gcash', 'since', 'colleg...  fil  und  0.915872   \n",
       "...                                                 ...  ...  ...       ...   \n",
       "4764  ['di', 'makagawa', 'accountafter', 'download',...  fil  und  0.633183   \n",
       "4796  ['poorjust', 'bumili', 'ticket', 'movie', 'pap...  fil  und  0.973184   \n",
       "4810  ['disappointed', 'month', 'friday', 'pay', 'bi...  fil  und  0.991123   \n",
       "4812  ['love', 'itgcash', 'best', 'ganda', 'kya', 'f...  fil  und  0.494422   \n",
       "4847  ['cant', 'log', 'inputang', 'ina', 'mo', 'glob...  fil  und  0.606781   \n",
       "\n",
       "      l2_prob  \n",
       "7         0.0  \n",
       "126       0.0  \n",
       "197       0.0  \n",
       "268       0.0  \n",
       "587       0.0  \n",
       "...       ...  \n",
       "4764      0.0  \n",
       "4796      0.0  \n",
       "4810      0.0  \n",
       "4812      0.0  \n",
       "4847      0.0  \n",
       "\n",
       "[267 rows x 7 columns]"
      ]
     },
     "execution_count": 10,
     "metadata": {},
     "output_type": "execute_result"
    }
   ],
   "source": [
    "gcash.loc[gcash['l1'] == 'fil']"
   ]
  },
  {
   "cell_type": "markdown",
   "id": "greatest-proof",
   "metadata": {},
   "source": [
    "Can't detect secondary language"
   ]
  },
  {
   "cell_type": "code",
   "execution_count": null,
   "id": "understood-advancement",
   "metadata": {},
   "outputs": [],
   "source": []
  }
 ],
 "metadata": {
  "kernelspec": {
   "display_name": "Python 3",
   "language": "python",
   "name": "python3"
  },
  "language_info": {
   "codemirror_mode": {
    "name": "ipython",
    "version": 3
   },
   "file_extension": ".py",
   "mimetype": "text/x-python",
   "name": "python",
   "nbconvert_exporter": "python",
   "pygments_lexer": "ipython3",
   "version": "3.9.1"
  }
 },
 "nbformat": 4,
 "nbformat_minor": 5
}
