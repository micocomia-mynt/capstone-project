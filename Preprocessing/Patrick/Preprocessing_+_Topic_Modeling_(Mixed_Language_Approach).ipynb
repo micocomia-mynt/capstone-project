{
  "nbformat": 4,
  "nbformat_minor": 0,
  "metadata": {
    "colab": {
      "name": "Preprocessing + Topic Modeling (Mixed Language Approach).ipynb",
      "provenance": [],
      "toc_visible": true
    },
    "kernelspec": {
      "name": "python3",
      "display_name": "Python 3"
    },
    "language_info": {
      "name": "python"
    }
  },
  "cells": [
    {
      "cell_type": "markdown",
      "metadata": {
        "id": "rwT6404Ajmd4"
      },
      "source": [
        "# Preprocessing + Topic Modeling (Mixed Language Approach)\n",
        "This notebook serves as a demo for topic modeling GCash App Store Reviews using LDA. The approach of this notebook is to ignore the multi-lingual nature of reviews and move directly to LDA after data cleaning. This notebook will be divided into four parts:\n",
        "\n",
        "1. Data Cleaning\n",
        "2. Text Cleaning\n",
        "3. Modeling (LDA)\n",
        "4. Exploration of Results"
      ]
    },
    {
      "cell_type": "code",
      "metadata": {
        "id": "JzIQhx5ukPfe"
      },
      "source": [
        "# importing libraries\n",
        "import pandas as pd\n",
        "import regex as re\n",
        "# !pip install emot\n",
        "from emot.emo_unicode import UNICODE_EMO, EMOTICONS\n",
        "# ! pip install contractions\n",
        "import contractions"
      ],
      "execution_count": null,
      "outputs": []
    },
    {
      "cell_type": "code",
      "metadata": {
        "id": "Z49bQJ0NkPnM"
      },
      "source": [
        "# importing the dataset\n",
        "df = pd.read_csv('gcash_0613-1427.csv')"
      ],
      "execution_count": null,
      "outputs": []
    },
    {
      "cell_type": "code",
      "metadata": {
        "colab": {
          "base_uri": "https://localhost:8080/"
        },
        "id": "ZEoG0tP1lNoc",
        "outputId": "0f5b253a-f313-4168-fb0c-a4b0fbc1b558"
      },
      "source": [
        "df.shape"
      ],
      "execution_count": null,
      "outputs": [
        {
          "output_type": "execute_result",
          "data": {
            "text/plain": [
              "(4867, 9)"
            ]
          },
          "metadata": {
            "tags": []
          },
          "execution_count": 19
        }
      ]
    },
    {
      "cell_type": "code",
      "metadata": {
        "colab": {
          "base_uri": "https://localhost:8080/"
        },
        "id": "GwH3Ps-dlPs6",
        "outputId": "6eb648f3-a092-4c66-ffe9-7a019c3e9a81"
      },
      "source": [
        "df.dtypes"
      ],
      "execution_count": null,
      "outputs": [
        {
          "output_type": "execute_result",
          "data": {
            "text/plain": [
              "title                object\n",
              "date                 object\n",
              "rating                int64\n",
              "userName             object\n",
              "isEdited               bool\n",
              "review               object\n",
              "app_name             object\n",
              "app_id                int64\n",
              "developerResponse    object\n",
              "dtype: object"
            ]
          },
          "metadata": {
            "tags": []
          },
          "execution_count": 20
        }
      ]
    },
    {
      "cell_type": "code",
      "metadata": {
        "colab": {
          "base_uri": "https://localhost:8080/",
          "height": 193
        },
        "id": "fjjTCM1TkxQ2",
        "outputId": "996cce3c-3ce2-4f45-ea3e-51299de10f1f"
      },
      "source": [
        "df.head(3)"
      ],
      "execution_count": null,
      "outputs": [
        {
          "output_type": "execute_result",
          "data": {
            "text/html": [
              "<div>\n",
              "<style scoped>\n",
              "    .dataframe tbody tr th:only-of-type {\n",
              "        vertical-align: middle;\n",
              "    }\n",
              "\n",
              "    .dataframe tbody tr th {\n",
              "        vertical-align: top;\n",
              "    }\n",
              "\n",
              "    .dataframe thead th {\n",
              "        text-align: right;\n",
              "    }\n",
              "</style>\n",
              "<table border=\"1\" class=\"dataframe\">\n",
              "  <thead>\n",
              "    <tr style=\"text-align: right;\">\n",
              "      <th></th>\n",
              "      <th>title</th>\n",
              "      <th>date</th>\n",
              "      <th>rating</th>\n",
              "      <th>userName</th>\n",
              "      <th>isEdited</th>\n",
              "      <th>review</th>\n",
              "      <th>app_name</th>\n",
              "      <th>app_id</th>\n",
              "      <th>developerResponse</th>\n",
              "    </tr>\n",
              "  </thead>\n",
              "  <tbody>\n",
              "    <tr>\n",
              "      <th>0</th>\n",
              "      <td>It is starting to become pretty annoying</td>\n",
              "      <td>2018-12-29 15:24:59</td>\n",
              "      <td>3</td>\n",
              "      <td>Fhayerie0406</td>\n",
              "      <td>False</td>\n",
              "      <td>Almost everything is smooth except for three t...</td>\n",
              "      <td>gcash</td>\n",
              "      <td>520020791</td>\n",
              "      <td>NaN</td>\n",
              "    </tr>\n",
              "    <tr>\n",
              "      <th>1</th>\n",
              "      <td>Actually ok.</td>\n",
              "      <td>2020-05-16 07:33:32</td>\n",
              "      <td>5</td>\n",
              "      <td>i don't usually rate/review</td>\n",
              "      <td>False</td>\n",
              "      <td>This app gets so many negative reviews but it’...</td>\n",
              "      <td>gcash</td>\n",
              "      <td>520020791</td>\n",
              "      <td>NaN</td>\n",
              "    </tr>\n",
              "    <tr>\n",
              "      <th>2</th>\n",
              "      <td>Cash In Concern</td>\n",
              "      <td>2020-02-04 00:25:57</td>\n",
              "      <td>3</td>\n",
              "      <td>Mhei Castro</td>\n",
              "      <td>False</td>\n",
              "      <td>A little bit disappointed when I cashed in via...</td>\n",
              "      <td>gcash</td>\n",
              "      <td>520020791</td>\n",
              "      <td>NaN</td>\n",
              "    </tr>\n",
              "  </tbody>\n",
              "</table>\n",
              "</div>"
            ],
            "text/plain": [
              "                                      title  ... developerResponse\n",
              "0  It is starting to become pretty annoying  ...               NaN\n",
              "1                              Actually ok.  ...               NaN\n",
              "2                           Cash In Concern  ...               NaN\n",
              "\n",
              "[3 rows x 9 columns]"
            ]
          },
          "metadata": {
            "tags": []
          },
          "execution_count": 21
        }
      ]
    },
    {
      "cell_type": "markdown",
      "metadata": {
        "id": "9NZMpbSEj_oC"
      },
      "source": [
        "## Part 1: Data Cleaning"
      ]
    },
    {
      "cell_type": "code",
      "metadata": {
        "colab": {
          "base_uri": "https://localhost:8080/"
        },
        "id": "foPJjLZVmoFW",
        "outputId": "a69dceb8-e571-4889-b573-19b9885e3bb6"
      },
      "source": [
        "# Checking for null values\n",
        "df.isnull().sum() "
      ],
      "execution_count": null,
      "outputs": [
        {
          "output_type": "execute_result",
          "data": {
            "text/plain": [
              "title                   0\n",
              "date                    0\n",
              "rating                  0\n",
              "userName                0\n",
              "isEdited                0\n",
              "review                  0\n",
              "app_name                0\n",
              "app_id                  0\n",
              "developerResponse    4718\n",
              "dtype: int64"
            ]
          },
          "metadata": {
            "tags": []
          },
          "execution_count": 35
        }
      ]
    },
    {
      "cell_type": "code",
      "metadata": {
        "id": "StJdPT_cm2TI"
      },
      "source": [
        "# Dropping unwanted columns [userName, app_name, app_id, developerResponse]\n",
        "df = df.drop(['userName', 'app_name', 'app_id', 'developerResponse', 'isEdited'], axis=1)"
      ],
      "execution_count": null,
      "outputs": []
    },
    {
      "cell_type": "code",
      "metadata": {
        "id": "Dc4F9FJSjhz6"
      },
      "source": [
        "# Splitting datetime column + Checking date range\n",
        "\n",
        "# Code block below separated the timestamp [[date]] column into Date and Time column respectively\n",
        "df['Dates'] = pd.to_datetime(df['date']).dt.date\n",
        "df['Time'] = pd.to_datetime(df['date']).dt.time\n",
        "df = df.drop('date', axis=1)"
      ],
      "execution_count": null,
      "outputs": []
    },
    {
      "cell_type": "code",
      "metadata": {
        "colab": {
          "base_uri": "https://localhost:8080/",
          "height": 79
        },
        "id": "-9uJxaZClsWs",
        "outputId": "b5abe687-49d0-459e-91f4-cce170978708"
      },
      "source": [
        "df.sort_values(by='Dates', ascending=False).head(1)"
      ],
      "execution_count": null,
      "outputs": [
        {
          "output_type": "execute_result",
          "data": {
            "text/html": [
              "<div>\n",
              "<style scoped>\n",
              "    .dataframe tbody tr th:only-of-type {\n",
              "        vertical-align: middle;\n",
              "    }\n",
              "\n",
              "    .dataframe tbody tr th {\n",
              "        vertical-align: top;\n",
              "    }\n",
              "\n",
              "    .dataframe thead th {\n",
              "        text-align: right;\n",
              "    }\n",
              "</style>\n",
              "<table border=\"1\" class=\"dataframe\">\n",
              "  <thead>\n",
              "    <tr style=\"text-align: right;\">\n",
              "      <th></th>\n",
              "      <th>title</th>\n",
              "      <th>rating</th>\n",
              "      <th>review</th>\n",
              "      <th>Dates</th>\n",
              "      <th>Time</th>\n",
              "    </tr>\n",
              "  </thead>\n",
              "  <tbody>\n",
              "    <tr>\n",
              "      <th>2570</th>\n",
              "      <td>Annoying</td>\n",
              "      <td>2</td>\n",
              "      <td>I can’t open my GCash account 4days after i ac...</td>\n",
              "      <td>2021-06-11</td>\n",
              "      <td>09:05:47</td>\n",
              "    </tr>\n",
              "  </tbody>\n",
              "</table>\n",
              "</div>"
            ],
            "text/plain": [
              "         title  rating  ...       Dates      Time\n",
              "2570  Annoying       2  ...  2021-06-11  09:05:47\n",
              "\n",
              "[1 rows x 5 columns]"
            ]
          },
          "metadata": {
            "tags": []
          },
          "execution_count": 38
        }
      ]
    },
    {
      "cell_type": "code",
      "metadata": {
        "colab": {
          "base_uri": "https://localhost:8080/",
          "height": 79
        },
        "id": "0J-wd6N7ltlQ",
        "outputId": "1af59837-76b8-4be6-948e-a8de81b93599"
      },
      "source": [
        "df.sort_values(by='Dates', ascending=True).head(1)"
      ],
      "execution_count": null,
      "outputs": [
        {
          "output_type": "execute_result",
          "data": {
            "text/html": [
              "<div>\n",
              "<style scoped>\n",
              "    .dataframe tbody tr th:only-of-type {\n",
              "        vertical-align: middle;\n",
              "    }\n",
              "\n",
              "    .dataframe tbody tr th {\n",
              "        vertical-align: top;\n",
              "    }\n",
              "\n",
              "    .dataframe thead th {\n",
              "        text-align: right;\n",
              "    }\n",
              "</style>\n",
              "<table border=\"1\" class=\"dataframe\">\n",
              "  <thead>\n",
              "    <tr style=\"text-align: right;\">\n",
              "      <th></th>\n",
              "      <th>title</th>\n",
              "      <th>rating</th>\n",
              "      <th>review</th>\n",
              "      <th>Dates</th>\n",
              "      <th>Time</th>\n",
              "    </tr>\n",
              "  </thead>\n",
              "  <tbody>\n",
              "    <tr>\n",
              "      <th>4134</th>\n",
              "      <td>App does not work</td>\n",
              "      <td>1</td>\n",
              "      <td>App does not work. It hangs and automatically ...</td>\n",
              "      <td>2012-05-23</td>\n",
              "      <td>16:24:07</td>\n",
              "    </tr>\n",
              "  </tbody>\n",
              "</table>\n",
              "</div>"
            ],
            "text/plain": [
              "                  title  rating  ...       Dates      Time\n",
              "4134  App does not work       1  ...  2012-05-23  16:24:07\n",
              "\n",
              "[1 rows x 5 columns]"
            ]
          },
          "metadata": {
            "tags": []
          },
          "execution_count": 39
        }
      ]
    },
    {
      "cell_type": "markdown",
      "metadata": {
        "id": "CEot_wyzmLFP"
      },
      "source": [
        "In the section above, we can see that the dataset ranges from 2012-05-23 to 2021-06-11."
      ]
    },
    {
      "cell_type": "code",
      "metadata": {
        "colab": {
          "base_uri": "https://localhost:8080/"
        },
        "id": "1MEu6XTPmIzC",
        "outputId": "9d022c8c-7a44-4fc9-b743-70578a3a4254"
      },
      "source": [
        "df.dtypes"
      ],
      "execution_count": null,
      "outputs": [
        {
          "output_type": "execute_result",
          "data": {
            "text/plain": [
              "title     object\n",
              "rating     int64\n",
              "review    object\n",
              "Dates     object\n",
              "Time      object\n",
              "dtype: object"
            ]
          },
          "metadata": {
            "tags": []
          },
          "execution_count": 40
        }
      ]
    },
    {
      "cell_type": "code",
      "metadata": {
        "id": "BfKtZ66Qnehd"
      },
      "source": [
        "# Joining the title and review column\n",
        "\n",
        "df['final_review'] = df.title.map(str) + \" \" + df.review"
      ],
      "execution_count": null,
      "outputs": []
    },
    {
      "cell_type": "code",
      "metadata": {
        "id": "0j7UbhqRoK1f"
      },
      "source": [
        "df = df.drop(['review','title'], axis=1)"
      ],
      "execution_count": null,
      "outputs": []
    },
    {
      "cell_type": "markdown",
      "metadata": {
        "id": "Lq7vd0-ZoaUI"
      },
      "source": [
        "## Part 2: Text Cleaning\n",
        "\n",
        "Now that we have done the initial cleaning of the df, let us now proceed to text cleaning for topic modeling purposes.\n",
        "\n",
        "My approach in this notebook would be as follows:\n",
        "1. Do the necessary text cleaning steps (remove encodings, lowercase, strip punctutation, expand contractions etc)\n",
        "2. Remove Filipino stop words and possibly lemmatize Filipino words\n",
        "3. Remove English stop words and lemmatize\n",
        "4. Tokenization and other methods"
      ]
    },
    {
      "cell_type": "code",
      "metadata": {
        "colab": {
          "base_uri": "https://localhost:8080/",
          "height": 172
        },
        "id": "nPooN-xVpA40",
        "outputId": "fe927c0a-fcd2-4043-f892-700f86adbfdc"
      },
      "source": [
        "df.head(4)"
      ],
      "execution_count": null,
      "outputs": [
        {
          "output_type": "execute_result",
          "data": {
            "text/html": [
              "<div>\n",
              "<style scoped>\n",
              "    .dataframe tbody tr th:only-of-type {\n",
              "        vertical-align: middle;\n",
              "    }\n",
              "\n",
              "    .dataframe tbody tr th {\n",
              "        vertical-align: top;\n",
              "    }\n",
              "\n",
              "    .dataframe thead th {\n",
              "        text-align: right;\n",
              "    }\n",
              "</style>\n",
              "<table border=\"1\" class=\"dataframe\">\n",
              "  <thead>\n",
              "    <tr style=\"text-align: right;\">\n",
              "      <th></th>\n",
              "      <th>rating</th>\n",
              "      <th>Dates</th>\n",
              "      <th>Time</th>\n",
              "      <th>final_review</th>\n",
              "    </tr>\n",
              "  </thead>\n",
              "  <tbody>\n",
              "    <tr>\n",
              "      <th>0</th>\n",
              "      <td>3</td>\n",
              "      <td>2018-12-29</td>\n",
              "      <td>15:24:59</td>\n",
              "      <td>It is starting to become pretty annoying Almos...</td>\n",
              "    </tr>\n",
              "    <tr>\n",
              "      <th>1</th>\n",
              "      <td>5</td>\n",
              "      <td>2020-05-16</td>\n",
              "      <td>07:33:32</td>\n",
              "      <td>Actually ok. This app gets so many negative re...</td>\n",
              "    </tr>\n",
              "    <tr>\n",
              "      <th>2</th>\n",
              "      <td>3</td>\n",
              "      <td>2020-02-04</td>\n",
              "      <td>00:25:57</td>\n",
              "      <td>Cash In Concern A little bit disappointed when...</td>\n",
              "    </tr>\n",
              "    <tr>\n",
              "      <th>3</th>\n",
              "      <td>1</td>\n",
              "      <td>2019-12-10</td>\n",
              "      <td>09:43:52</td>\n",
              "      <td>Frustrating and slow and you’re a bunch of thi...</td>\n",
              "    </tr>\n",
              "  </tbody>\n",
              "</table>\n",
              "</div>"
            ],
            "text/plain": [
              "   rating  ...                                       final_review\n",
              "0       3  ...  It is starting to become pretty annoying Almos...\n",
              "1       5  ...  Actually ok. This app gets so many negative re...\n",
              "2       3  ...  Cash In Concern A little bit disappointed when...\n",
              "3       1  ...  Frustrating and slow and you’re a bunch of thi...\n",
              "\n",
              "[4 rows x 4 columns]"
            ]
          },
          "metadata": {
            "tags": []
          },
          "execution_count": 43
        }
      ]
    },
    {
      "cell_type": "markdown",
      "metadata": {
        "id": "nqoUPaB6qqH8"
      },
      "source": [
        "#### Remove emojis and emoticons"
      ]
    },
    {
      "cell_type": "code",
      "metadata": {
        "colab": {
          "base_uri": "https://localhost:8080/",
          "height": 35
        },
        "id": "1-kVVzdSoOJi",
        "outputId": "9b8c4750-4a60-41e6-e1d0-9ad09d5a8169"
      },
      "source": [
        "# Remove emojis and emoticons\n",
        "\n",
        "# Code block 1: remove emojis\n",
        "def remove_emoji(text):\n",
        "    emoji_pattern = re.compile(\"[\"\n",
        "                           u\"\\U0001F600-\\U0001F64F\"  # emoticons\n",
        "                           u\"\\U0001F300-\\U0001F5FF\"  # symbols & pictographs\n",
        "                           u\"\\U0001F680-\\U0001F6FF\"  # transport & map symbols\n",
        "                           u\"\\U0001F1E0-\\U0001F1FF\"  # flags \n",
        "                           u\"\\U00002702-\\U000027B0\"\n",
        "                           u\"\\U000024C2-\\U0001F251\"\n",
        "                           \"]+\", flags=re.UNICODE)\n",
        "    return emoji_pattern.sub(r'', text)\n",
        "\n",
        "#Example\n",
        "remove_emoji(\"Have fun with NLP! 😃😃\")"
      ],
      "execution_count": null,
      "outputs": [
        {
          "output_type": "execute_result",
          "data": {
            "application/vnd.google.colaboratory.intrinsic+json": {
              "type": "string"
            },
            "text/plain": [
              "'Have fun with NLP! '"
            ]
          },
          "metadata": {
            "tags": []
          },
          "execution_count": 46
        }
      ]
    },
    {
      "cell_type": "code",
      "metadata": {
        "id": "YGgq_VLMpBZI"
      },
      "source": [
        "# apply the remove emoji function to the review column\n",
        "df['final_review'] = df['final_review'].apply(lambda x: remove_emoji(x))"
      ],
      "execution_count": null,
      "outputs": []
    },
    {
      "cell_type": "code",
      "metadata": {
        "colab": {
          "base_uri": "https://localhost:8080/"
        },
        "id": "ScKSA3NdpBWc",
        "outputId": "31f602d6-443c-49f1-dffd-ab006c2ab4dd"
      },
      "source": [
        "# Code block 2: remove emoticons\n",
        "\n",
        "!pip install emot\n",
        "from emot.emo_unicode import UNICODE_EMO, EMOTICONS\n",
        "\n",
        "# Function for removing emoticons\n",
        "def remove_emoticons(text):\n",
        "    emoticon_pattern = re.compile(u'(' + u'|'.join(k for k in EMOTICONS) + u')')\n",
        "    return emoticon_pattern.sub(r'', text)\n"
      ],
      "execution_count": null,
      "outputs": [
        {
          "output_type": "stream",
          "text": [
            "Collecting emot\n",
            "  Downloading https://files.pythonhosted.org/packages/49/07/20001ade19873de611b7b66a4d5e5aabbf190d65abea337d5deeaa2bc3de/emot-2.1-py3-none-any.whl\n",
            "Installing collected packages: emot\n",
            "Successfully installed emot-2.1\n"
          ],
          "name": "stdout"
        }
      ]
    },
    {
      "cell_type": "code",
      "metadata": {
        "colab": {
          "base_uri": "https://localhost:8080/",
          "height": 35
        },
        "id": "cEEFqPvjpBUJ",
        "outputId": "cb0adb75-47a5-4670-8a69-32a44b705b3b"
      },
      "source": [
        "#Example\n",
        "remove_emoticons(\"I used to play Super Mario games :)\")"
      ],
      "execution_count": null,
      "outputs": [
        {
          "output_type": "execute_result",
          "data": {
            "application/vnd.google.colaboratory.intrinsic+json": {
              "type": "string"
            },
            "text/plain": [
              "'I used to play Super Mario games '"
            ]
          },
          "metadata": {
            "tags": []
          },
          "execution_count": 49
        }
      ]
    },
    {
      "cell_type": "code",
      "metadata": {
        "id": "f6M_EzAIpBR0"
      },
      "source": [
        "# Applying remove emoticons code\n",
        "df['final_review'] = df['final_review'].apply(lambda x: remove_emoticons(x))"
      ],
      "execution_count": null,
      "outputs": []
    },
    {
      "cell_type": "markdown",
      "metadata": {
        "id": "1ZTZZsvPs7qH"
      },
      "source": [
        "#### Remove \\n, \\t, \\r"
      ]
    },
    {
      "cell_type": "code",
      "metadata": {
        "colab": {
          "base_uri": "https://localhost:8080/",
          "height": 141
        },
        "id": "EyJMBkgJpBPZ",
        "outputId": "93ddb573-e0ef-43dd-e00c-d9ac79541d99"
      },
      "source": [
        "df['final_review'][12]"
      ],
      "execution_count": null,
      "outputs": [
        {
          "output_type": "execute_result",
          "data": {
            "application/vnd.google.colaboratory.intrinsic+json": {
              "type": "string"
            },
            "text/plain": [
              "'Best Finance App! GCash is a big help, indeed. I’ve been using using this app since 2017 and it really helped me to be more financially literate for it has a lot of features that will enable youth professionals to efficiently manage their finances. \\n\\nSome of the best features include:\\n- It allows you to buy load and earn rebates! \\n- Upon registering to promo, you can earn coupons which you can use on scan to pay features\\n- allows you to save with high interest, and invest too! \\n- easily transfer funds to bank with real-time posting and no extra fees! \\n- Scan to pay is very useful\\n- Secured and convenient e-wallet\\n- Wide-range of coverage, a lot of establishments are using GCash already!\\n- You can help nature by just loading or walking! \\n- Smooth application\\n\\nWhy 4 star not 5 then? \\nI think there is a need for the following upgrades: \\n\\n1. GCredit\\nAllow users to pay it in installment. Like for 5,000 they can choose of to pay it within 3 to 5 months. \\n\\nInclude card for GCredit\\n\\n2. Customer Service\\nYou know what to do. Customer service is really 1/5, honestly. \\n\\n3. User interface and security\\nAllow users to log in using only fingerprint. \\n\\n4. Partner Establishments\\nSome cashiers don’t know how to transact using GCash pushing some establishments not to offer it to customers\\n\\n5. Vouchers\\nVouchers must be universal.'"
            ]
          },
          "metadata": {
            "tags": []
          },
          "execution_count": 64
        }
      ]
    },
    {
      "cell_type": "code",
      "metadata": {
        "id": "ivmQynWXq0Tf"
      },
      "source": [
        "# Remove \\r \\n \\t\n",
        "df['final_review'] = df['final_review'].replace(r'\\r+|\\n+|\\t+','', regex=True)"
      ],
      "execution_count": null,
      "outputs": []
    },
    {
      "cell_type": "code",
      "metadata": {
        "colab": {
          "base_uri": "https://localhost:8080/",
          "height": 141
        },
        "id": "9FmRYWRPrzrk",
        "outputId": "bf65a169-ed02-422d-9737-cf203c43aa49"
      },
      "source": [
        "df['final_review'][12]"
      ],
      "execution_count": null,
      "outputs": [
        {
          "output_type": "execute_result",
          "data": {
            "application/vnd.google.colaboratory.intrinsic+json": {
              "type": "string"
            },
            "text/plain": [
              "'Best Finance App! GCash is a big help, indeed. I’ve been using using this app since 2017 and it really helped me to be more financially literate for it has a lot of features that will enable youth professionals to efficiently manage their finances. Some of the best features include:- It allows you to buy load and earn rebates! - Upon registering to promo, you can earn coupons which you can use on scan to pay features- allows you to save with high interest, and invest too! - easily transfer funds to bank with real-time posting and no extra fees! - Scan to pay is very useful- Secured and convenient e-wallet- Wide-range of coverage, a lot of establishments are using GCash already!- You can help nature by just loading or walking! - Smooth applicationWhy 4 star not 5 then? I think there is a need for the following upgrades: 1. GCreditAllow users to pay it in installment. Like for 5,000 they can choose of to pay it within 3 to 5 months. Include card for GCredit2. Customer ServiceYou know what to do. Customer service is really 1/5, honestly. 3. User interface and securityAllow users to log in using only fingerprint. 4. Partner EstablishmentsSome cashiers don’t know how to transact using GCash pushing some establishments not to offer it to customers5. VouchersVouchers must be universal.'"
            ]
          },
          "metadata": {
            "tags": []
          },
          "execution_count": 66
        }
      ]
    },
    {
      "cell_type": "markdown",
      "metadata": {
        "id": "b5flG9ahs_Uf"
      },
      "source": [
        "#### Convert reviews to lowercase"
      ]
    },
    {
      "cell_type": "code",
      "metadata": {
        "colab": {
          "base_uri": "https://localhost:8080/"
        },
        "id": "4bzVVHrhr05N",
        "outputId": "1ab24241-0fcc-44ea-9d10-6ba77fa0a406"
      },
      "source": [
        "df['final_review'] = df['final_review'].apply(lambda x: \" \".join(x.lower() for x in x.split()))\n",
        "df['final_review'].head()"
      ],
      "execution_count": null,
      "outputs": [
        {
          "output_type": "execute_result",
          "data": {
            "text/plain": [
              "0    it is starting to become pretty annoying almos...\n",
              "1    actually ok. this app gets so many negative re...\n",
              "2    cash in concern a little bit disappointed when...\n",
              "3    frustrating and slow and you’re a bunch of thi...\n",
              "4    payments don’t post. my payment via gcash did ...\n",
              "Name: final_review, dtype: object"
            ]
          },
          "metadata": {
            "tags": []
          },
          "execution_count": 67
        }
      ]
    },
    {
      "cell_type": "markdown",
      "metadata": {
        "id": "IK-5OOm1tA_8"
      },
      "source": [
        "#### Removing URLS"
      ]
    },
    {
      "cell_type": "code",
      "metadata": {
        "colab": {
          "base_uri": "https://localhost:8080/"
        },
        "id": "fB1_dc9DtAx1",
        "outputId": "a0854cd5-5265-4b66-ffff-943f1cdf76c6"
      },
      "source": [
        "import re\n",
        "\n",
        "def remove_urls (vTEXT):\n",
        "    vTEXT = re.sub(r'(https|http)?:\\/\\/(\\w|\\.|\\/|\\?|\\=|\\&|\\%)*\\b', '', vTEXT, flags=re.MULTILINE)\n",
        "    return(vTEXT)\n",
        "\n",
        "df['final_review'] = df.final_review.apply(remove_urls)\n",
        "df.final_review.head()"
      ],
      "execution_count": null,
      "outputs": [
        {
          "output_type": "execute_result",
          "data": {
            "text/plain": [
              "0    it is starting to become pretty annoying almos...\n",
              "1    actually ok. this app gets so many negative re...\n",
              "2    cash in concern a little bit disappointed when...\n",
              "3    frustrating and slow and you’re a bunch of thi...\n",
              "4    payments don’t post. my payment via gcash did ...\n",
              "Name: final_review, dtype: object"
            ]
          },
          "metadata": {
            "tags": []
          },
          "execution_count": 68
        }
      ]
    },
    {
      "cell_type": "markdown",
      "metadata": {
        "id": "KqalMpi-tAPy"
      },
      "source": [
        "#### Expand Contractions\n",
        "\n",
        "Contractions are words or combinations of words which are shortened by dropping letters and replacing them by an apostrophe. \n",
        "\n",
        "Let’s have a look at some examples:\n",
        "* we’re = we are\n",
        "* we’ve = we have\n",
        "* I’d = I would\n",
        "\n",
        "Note: This step needs to be done before word tokenizer because NLTK word tokenizer has in-built methods for dealing with contractions. However, NLTK word tokenizer's approach separates contractions without expanding. Expanding is a better method than simply separating."
      ]
    },
    {
      "cell_type": "code",
      "metadata": {
        "colab": {
          "base_uri": "https://localhost:8080/"
        },
        "id": "uOjDxIAvtAAF",
        "outputId": "2ea7580c-6398-45c5-eb39-39073d87adfd"
      },
      "source": [
        "!pip install contractions"
      ],
      "execution_count": null,
      "outputs": [
        {
          "output_type": "stream",
          "text": [
            "Collecting contractions\n",
            "  Downloading https://files.pythonhosted.org/packages/6c/64/53b56cff18d3d7c4f29fe1a18699e225041ced4f0115310aec0f04c155d4/contractions-0.0.50-py2.py3-none-any.whl\n",
            "Collecting textsearch>=0.0.21\n",
            "  Downloading https://files.pythonhosted.org/packages/d3/fe/021d7d76961b5ceb9f8d022c4138461d83beff36c3938dc424586085e559/textsearch-0.0.21-py2.py3-none-any.whl\n",
            "Collecting anyascii\n",
            "\u001b[?25l  Downloading https://files.pythonhosted.org/packages/a3/14/666cd44bf53f36a961544af592cb5c5c800013f9c51a4745af8d7c17362a/anyascii-0.2.0-py3-none-any.whl (283kB)\n",
            "\u001b[K     |████████████████████████████████| 286kB 7.4MB/s \n",
            "\u001b[?25hCollecting pyahocorasick\n",
            "\u001b[?25l  Downloading https://files.pythonhosted.org/packages/7f/c2/eae730037ae1cbbfaa229d27030d1d5e34a1e41114b21447d1202ae9c220/pyahocorasick-1.4.2.tar.gz (321kB)\n",
            "\u001b[K     |████████████████████████████████| 327kB 33.1MB/s \n",
            "\u001b[?25hBuilding wheels for collected packages: pyahocorasick\n",
            "  Building wheel for pyahocorasick (setup.py) ... \u001b[?25l\u001b[?25hdone\n",
            "  Created wheel for pyahocorasick: filename=pyahocorasick-1.4.2-cp37-cp37m-linux_x86_64.whl size=85422 sha256=9ab0754452ed285dd31489ecc0e236dacee6a4261ad6573db74258ac1463c421\n",
            "  Stored in directory: /root/.cache/pip/wheels/3a/03/34/77e3ece0bba8b86bfac88a79f923b36d805cad63caeba38842\n",
            "Successfully built pyahocorasick\n",
            "Installing collected packages: anyascii, pyahocorasick, textsearch, contractions\n",
            "Successfully installed anyascii-0.2.0 contractions-0.0.50 pyahocorasick-1.4.2 textsearch-0.0.21\n"
          ],
          "name": "stdout"
        }
      ]
    },
    {
      "cell_type": "code",
      "metadata": {
        "colab": {
          "base_uri": "https://localhost:8080/"
        },
        "id": "lJEvu_uqt2-B",
        "outputId": "ae39224d-dfff-4238-fc3d-3106eb998f10"
      },
      "source": [
        "import contractions\n",
        "\n",
        "# Example text \n",
        "text = ''' She'll be airport in 30 mins. We are supposed to catch the arrival, aren't we?  \n",
        "          I'd love to welcome her personally. It'll be an awesome vacation.'''\n",
        "  \n",
        "# creating an empty list \n",
        "expanded_words = []     \n",
        "for word in text.split(): \n",
        "  # using contractions.fix to expand the shotened words \n",
        "  expanded_words.append(contractions.fix(word))    \n",
        "    \n",
        "expanded_text = ' '.join(expanded_words) \n",
        "print('Original text: ' + text) \n",
        "print('\\n') \n",
        "print('Expanded_text: ' + expanded_text)"
      ],
      "execution_count": null,
      "outputs": [
        {
          "output_type": "stream",
          "text": [
            "Original text:  She'll be airport in 30 mins. We are supposed to catch the arrival, aren't we?  \n",
            "          I'd love to welcome her personally. It'll be an awesome vacation.\n",
            "\n",
            "\n",
            "Expanded_text: she will be airport in 30 mins. We are supposed to catch the arrival, are not we? I would love to welcome her personally. it will be an awesome vacation.\n"
          ],
          "name": "stdout"
        }
      ]
    },
    {
      "cell_type": "code",
      "metadata": {
        "colab": {
          "base_uri": "https://localhost:8080/"
        },
        "id": "N0IDX825uCsp",
        "outputId": "969b0c1b-f7c0-47a7-ce82-1ed213fbf51a"
      },
      "source": [
        "df['final_review'] = df['final_review'].apply(lambda x: contractions.fix(x))\n",
        "df.final_review.sample(5)"
      ],
      "execution_count": null,
      "outputs": [
        {
          "output_type": "execute_result",
          "data": {
            "text/plain": [
              "4349    bwesit na apps nag hihingi nang passcode eh wa...\n",
              "1192    new update review i am using gcash for quite s...\n",
              "2946    thanks to gcash ultimately the best!!!i receiv...\n",
              "4787    fix this!! why i can not enter authentication ...\n",
              "1470    authentication error i cannot access my gcash ...\n",
              "Name: final_review, dtype: object"
            ]
          },
          "metadata": {
            "tags": []
          },
          "execution_count": 71
        }
      ]
    },
    {
      "cell_type": "markdown",
      "metadata": {
        "id": "KkVLysoQtoCP"
      },
      "source": [
        "#### Remove punctuation"
      ]
    },
    {
      "cell_type": "code",
      "metadata": {
        "colab": {
          "base_uri": "https://localhost:8080/"
        },
        "id": "SWVqm2bZtn6X",
        "outputId": "9dd3aee9-91c9-4351-a7af-eda7df646b7a"
      },
      "source": [
        "df['final_review'] = df['final_review'].str.replace('[^\\w\\s]','')\n",
        "df['final_review'].head()"
      ],
      "execution_count": null,
      "outputs": [
        {
          "output_type": "execute_result",
          "data": {
            "text/plain": [
              "0    it is starting to become pretty annoying almos...\n",
              "1    actually ok this app gets so many negative rev...\n",
              "2    cash in concern a little bit disappointed when...\n",
              "3    frustrating and slow and you are a bunch of th...\n",
              "4    payments do not post my payment via gcash did ...\n",
              "Name: final_review, dtype: object"
            ]
          },
          "metadata": {
            "tags": []
          },
          "execution_count": 72
        }
      ]
    },
    {
      "cell_type": "markdown",
      "metadata": {
        "id": "MYYq7hzxtnyy"
      },
      "source": [
        "#### Removing English + Tagalog Stopwords and Lemmatizing English words"
      ]
    },
    {
      "cell_type": "code",
      "metadata": {
        "id": "p5n8CGZJzjVF"
      },
      "source": [
        "from spacy.lang.tl.stop_words import STOP_WORDS as tl_stop\n",
        "from spacy.lang.en.stop_words import STOP_WORDS as en_stop\n",
        "\n",
        "final_stopwords_list = list(tl_stop) + list(en_stop) + ['gcash', 'g-cash', '\\'','-', '-pron-', 'ake','d','g','m','ve']"
      ],
      "execution_count": null,
      "outputs": []
    },
    {
      "cell_type": "code",
      "metadata": {
        "id": "Fqr_tSSz0CGK"
      },
      "source": [
        "import spacy\n",
        "nlp = spacy.load('en')"
      ],
      "execution_count": null,
      "outputs": []
    },
    {
      "cell_type": "code",
      "metadata": {
        "id": "UIar0F5w0CJO"
      },
      "source": [
        "def tokenizer(text):\n",
        "    return [token.lemma_.lower() for token in nlp(text)]"
      ],
      "execution_count": null,
      "outputs": []
    },
    {
      "cell_type": "markdown",
      "metadata": {
        "id": "ZSA_NuQItneP"
      },
      "source": [
        "#### Feature Extraction ( TFIDF + SVD + UMAP)"
      ]
    },
    {
      "cell_type": "code",
      "metadata": {
        "colab": {
          "base_uri": "https://localhost:8080/"
        },
        "id": "aHza72yJ1iYM",
        "outputId": "56087290-403b-4563-9016-f7d49b23f792"
      },
      "source": [
        "!pip install umap"
      ],
      "execution_count": null,
      "outputs": [
        {
          "output_type": "stream",
          "text": [
            "Collecting umap\n",
            "  Downloading https://files.pythonhosted.org/packages/4b/46/08ab68936625400fe690684428d4db4764f49b406782cc133df1d0299d06/umap-0.1.1.tar.gz\n",
            "Building wheels for collected packages: umap\n",
            "  Building wheel for umap (setup.py) ... \u001b[?25l\u001b[?25hdone\n",
            "  Created wheel for umap: filename=umap-0.1.1-cp37-none-any.whl size=3568 sha256=e0355dac09a8dbdf5ecbd43f615c48b50baf0d341389f4d4c1d49372441f447e\n",
            "  Stored in directory: /root/.cache/pip/wheels/7b/29/33/b4d917dc95f69c0a060e2ab012d95e15db9ed4cc0b94ccac26\n",
            "Successfully built umap\n",
            "Installing collected packages: umap\n",
            "Successfully installed umap-0.1.1\n"
          ],
          "name": "stdout"
        }
      ]
    },
    {
      "cell_type": "code",
      "metadata": {
        "colab": {
          "base_uri": "https://localhost:8080/"
        },
        "id": "6Q9eIEod1Kr2",
        "outputId": "818c8321-737d-4838-ad36-880322546fdc"
      },
      "source": [
        "from sklearn.decomposition import TruncatedSVD\n",
        "from sklearn.feature_extraction.text import TfidfVectorizer\n",
        "import umap\n",
        "\n",
        "vectorizer = TfidfVectorizer(min_df=10, max_features=10000, tokenizer=tokenizer, stop_words=final_stopwords_list, ngram_range=(1, 2))\n",
        "vz = vectorizer.fit_transform(df['final_review'])"
      ],
      "execution_count": null,
      "outputs": [
        {
          "output_type": "stream",
          "text": [
            "/usr/local/lib/python3.7/dist-packages/sklearn/feature_extraction/text.py:385: UserWarning: Your stop_words may be inconsistent with your preprocessing. Tokenizing the stop words generated tokens [\"'\", '-', '-pron-', 'ake', 'ate', 'cash', 'd', 'g', 'm', 'nag', 'regard', 'use', 've'] not in stop_words.\n",
            "  'stop_words.' % sorted(inconsistent))\n"
          ],
          "name": "stderr"
        }
      ]
    },
    {
      "cell_type": "code",
      "metadata": {
        "colab": {
          "base_uri": "https://localhost:8080/"
        },
        "id": "KX2TxYXe3hYh",
        "outputId": "f82e6112-86d1-4bb8-ff87-9be3d21a2318"
      },
      "source": [
        "vz[0]"
      ],
      "execution_count": null,
      "outputs": [
        {
          "output_type": "execute_result",
          "data": {
            "text/plain": [
              "<1x1880 sparse matrix of type '<class 'numpy.float64'>'\n",
              "\twith 77 stored elements in Compressed Sparse Row format>"
            ]
          },
          "metadata": {
            "tags": []
          },
          "execution_count": 94
        }
      ]
    },
    {
      "cell_type": "code",
      "metadata": {
        "colab": {
          "base_uri": "https://localhost:8080/"
        },
        "id": "ZcB32cYL5gWI",
        "outputId": "3b3980d1-1860-40d0-d355-2c557e1e4c5c"
      },
      "source": [
        "!pip install lda"
      ],
      "execution_count": null,
      "outputs": [
        {
          "output_type": "stream",
          "text": [
            "Collecting lda\n",
            "\u001b[?25l  Downloading https://files.pythonhosted.org/packages/d1/45/8bf6862a599649350280bf0020b0b23c4948304158702632f677dc967737/lda-2.0.0-cp37-cp37m-manylinux1_x86_64.whl (351kB)\n",
            "\u001b[K     |████████████████████████████████| 358kB 8.5MB/s \n",
            "\u001b[?25hCollecting pbr<4,>=0.6\n",
            "\u001b[?25l  Downloading https://files.pythonhosted.org/packages/0c/5d/b077dbf309993d52c1d71e6bf6fe443a8029ea215135ebbe0b1b10e7aefc/pbr-3.1.1-py2.py3-none-any.whl (99kB)\n",
            "\u001b[K     |████████████████████████████████| 102kB 9.7MB/s \n",
            "\u001b[?25hRequirement already satisfied: numpy<2.0,>=1.13.0 in /usr/local/lib/python3.7/dist-packages (from lda) (1.19.5)\n",
            "Installing collected packages: pbr, lda\n",
            "Successfully installed lda-2.0.0 pbr-3.1.1\n"
          ],
          "name": "stdout"
        }
      ]
    },
    {
      "cell_type": "code",
      "metadata": {
        "id": "DIL_-HuA700q"
      },
      "source": [
        "df_goodreviews = df.loc[df['rating'].isin([4,5])]"
      ],
      "execution_count": null,
      "outputs": []
    },
    {
      "cell_type": "code",
      "metadata": {
        "colab": {
          "base_uri": "https://localhost:8080/",
          "height": 417
        },
        "id": "dEw7kpLb8PJG",
        "outputId": "5215660a-9924-4d05-9bb0-55475cbfa2ad"
      },
      "source": [
        "df_goodreviews"
      ],
      "execution_count": null,
      "outputs": [
        {
          "output_type": "execute_result",
          "data": {
            "text/html": [
              "<div>\n",
              "<style scoped>\n",
              "    .dataframe tbody tr th:only-of-type {\n",
              "        vertical-align: middle;\n",
              "    }\n",
              "\n",
              "    .dataframe tbody tr th {\n",
              "        vertical-align: top;\n",
              "    }\n",
              "\n",
              "    .dataframe thead th {\n",
              "        text-align: right;\n",
              "    }\n",
              "</style>\n",
              "<table border=\"1\" class=\"dataframe\">\n",
              "  <thead>\n",
              "    <tr style=\"text-align: right;\">\n",
              "      <th></th>\n",
              "      <th>rating</th>\n",
              "      <th>Dates</th>\n",
              "      <th>Time</th>\n",
              "      <th>final_review</th>\n",
              "    </tr>\n",
              "  </thead>\n",
              "  <tbody>\n",
              "    <tr>\n",
              "      <th>1</th>\n",
              "      <td>5</td>\n",
              "      <td>2020-05-16</td>\n",
              "      <td>07:33:32</td>\n",
              "      <td>actually ok this app gets so many negative rev...</td>\n",
              "    </tr>\n",
              "    <tr>\n",
              "      <th>6</th>\n",
              "      <td>5</td>\n",
              "      <td>2020-06-07</td>\n",
              "      <td>04:57:17</td>\n",
              "      <td>gcash user since 2018 I have been using gcash ...</td>\n",
              "    </tr>\n",
              "    <tr>\n",
              "      <th>8</th>\n",
              "      <td>5</td>\n",
              "      <td>2021-01-12</td>\n",
              "      <td>09:46:26</td>\n",
              "      <td>read please those others who does not like gca...</td>\n",
              "    </tr>\n",
              "    <tr>\n",
              "      <th>12</th>\n",
              "      <td>4</td>\n",
              "      <td>2020-04-21</td>\n",
              "      <td>09:25:07</td>\n",
              "      <td>best finance app gcash is a big help indeed I ...</td>\n",
              "    </tr>\n",
              "    <tr>\n",
              "      <th>15</th>\n",
              "      <td>5</td>\n",
              "      <td>2019-09-23</td>\n",
              "      <td>13:15:48</td>\n",
              "      <td>smooth and convenient disclaimer not to demeri...</td>\n",
              "    </tr>\n",
              "    <tr>\n",
              "      <th>...</th>\n",
              "      <td>...</td>\n",
              "      <td>...</td>\n",
              "      <td>...</td>\n",
              "      <td>...</td>\n",
              "    </tr>\n",
              "    <tr>\n",
              "      <th>4826</th>\n",
              "      <td>4</td>\n",
              "      <td>2018-06-19</td>\n",
              "      <td>06:41:03</td>\n",
              "      <td>qr code scan for electric  water bill hopefull...</td>\n",
              "    </tr>\n",
              "    <tr>\n",
              "      <th>4827</th>\n",
              "      <td>5</td>\n",
              "      <td>2018-08-16</td>\n",
              "      <td>07:34:45</td>\n",
              "      <td>sharing code problem i can not share my reffer...</td>\n",
              "    </tr>\n",
              "    <tr>\n",
              "      <th>4835</th>\n",
              "      <td>5</td>\n",
              "      <td>2018-05-04</td>\n",
              "      <td>04:02:13</td>\n",
              "      <td>gcash on mobile i can buy load pay at robinson...</td>\n",
              "    </tr>\n",
              "    <tr>\n",
              "      <th>4839</th>\n",
              "      <td>5</td>\n",
              "      <td>2018-02-17</td>\n",
              "      <td>03:03:45</td>\n",
              "      <td>fix this i can not log in  in my iphone 4 runn...</td>\n",
              "    </tr>\n",
              "    <tr>\n",
              "      <th>4840</th>\n",
              "      <td>5</td>\n",
              "      <td>2018-01-30</td>\n",
              "      <td>08:56:05</td>\n",
              "      <td>great app 5 stars for this app since i can cas...</td>\n",
              "    </tr>\n",
              "  </tbody>\n",
              "</table>\n",
              "<p>748 rows × 4 columns</p>\n",
              "</div>"
            ],
            "text/plain": [
              "      rating  ...                                       final_review\n",
              "1          5  ...  actually ok this app gets so many negative rev...\n",
              "6          5  ...  gcash user since 2018 I have been using gcash ...\n",
              "8          5  ...  read please those others who does not like gca...\n",
              "12         4  ...  best finance app gcash is a big help indeed I ...\n",
              "15         5  ...  smooth and convenient disclaimer not to demeri...\n",
              "...      ...  ...                                                ...\n",
              "4826       4  ...  qr code scan for electric  water bill hopefull...\n",
              "4827       5  ...  sharing code problem i can not share my reffer...\n",
              "4835       5  ...  gcash on mobile i can buy load pay at robinson...\n",
              "4839       5  ...  fix this i can not log in  in my iphone 4 runn...\n",
              "4840       5  ...  great app 5 stars for this app since i can cas...\n",
              "\n",
              "[748 rows x 4 columns]"
            ]
          },
          "metadata": {
            "tags": []
          },
          "execution_count": 113
        }
      ]
    },
    {
      "cell_type": "code",
      "metadata": {
        "id": "WlmncjSE8OD1"
      },
      "source": [
        "df_badreviews = df.loc[df['rating'].isin([1,2,3])]"
      ],
      "execution_count": null,
      "outputs": []
    },
    {
      "cell_type": "code",
      "metadata": {
        "colab": {
          "base_uri": "https://localhost:8080/",
          "height": 417
        },
        "id": "WK842Bfk8U9a",
        "outputId": "a4822a92-0415-4ce3-dccf-9c22af32c7b9"
      },
      "source": [
        "df_badreviews"
      ],
      "execution_count": null,
      "outputs": [
        {
          "output_type": "execute_result",
          "data": {
            "text/html": [
              "<div>\n",
              "<style scoped>\n",
              "    .dataframe tbody tr th:only-of-type {\n",
              "        vertical-align: middle;\n",
              "    }\n",
              "\n",
              "    .dataframe tbody tr th {\n",
              "        vertical-align: top;\n",
              "    }\n",
              "\n",
              "    .dataframe thead th {\n",
              "        text-align: right;\n",
              "    }\n",
              "</style>\n",
              "<table border=\"1\" class=\"dataframe\">\n",
              "  <thead>\n",
              "    <tr style=\"text-align: right;\">\n",
              "      <th></th>\n",
              "      <th>rating</th>\n",
              "      <th>Dates</th>\n",
              "      <th>Time</th>\n",
              "      <th>final_review</th>\n",
              "    </tr>\n",
              "  </thead>\n",
              "  <tbody>\n",
              "    <tr>\n",
              "      <th>0</th>\n",
              "      <td>3</td>\n",
              "      <td>2018-12-29</td>\n",
              "      <td>15:24:59</td>\n",
              "      <td>it is starting to become pretty annoying almos...</td>\n",
              "    </tr>\n",
              "    <tr>\n",
              "      <th>2</th>\n",
              "      <td>3</td>\n",
              "      <td>2020-02-04</td>\n",
              "      <td>00:25:57</td>\n",
              "      <td>cash in concern a little bit disappointed when...</td>\n",
              "    </tr>\n",
              "    <tr>\n",
              "      <th>3</th>\n",
              "      <td>1</td>\n",
              "      <td>2019-12-10</td>\n",
              "      <td>09:43:52</td>\n",
              "      <td>frustrating and slow and you are a bunch of th...</td>\n",
              "    </tr>\n",
              "    <tr>\n",
              "      <th>4</th>\n",
              "      <td>1</td>\n",
              "      <td>2018-06-26</td>\n",
              "      <td>18:43:31</td>\n",
              "      <td>payments do not post my payment via gcash did ...</td>\n",
              "    </tr>\n",
              "    <tr>\n",
              "      <th>5</th>\n",
              "      <td>1</td>\n",
              "      <td>2019-08-11</td>\n",
              "      <td>06:45:05</td>\n",
              "      <td>forgotten mpin once you forgot your mpin you h...</td>\n",
              "    </tr>\n",
              "    <tr>\n",
              "      <th>...</th>\n",
              "      <td>...</td>\n",
              "      <td>...</td>\n",
              "      <td>...</td>\n",
              "      <td>...</td>\n",
              "    </tr>\n",
              "    <tr>\n",
              "      <th>4862</th>\n",
              "      <td>1</td>\n",
              "      <td>2016-01-16</td>\n",
              "      <td>11:52:50</td>\n",
              "      <td>fix this this is one of the crucial apps for g...</td>\n",
              "    </tr>\n",
              "    <tr>\n",
              "      <th>4863</th>\n",
              "      <td>1</td>\n",
              "      <td>2015-11-09</td>\n",
              "      <td>08:20:37</td>\n",
              "      <td>can not access because they can not process my...</td>\n",
              "    </tr>\n",
              "    <tr>\n",
              "      <th>4864</th>\n",
              "      <td>1</td>\n",
              "      <td>2015-09-19</td>\n",
              "      <td>14:58:01</td>\n",
              "      <td>waste of time downloading compatibility says c...</td>\n",
              "    </tr>\n",
              "    <tr>\n",
              "      <th>4865</th>\n",
              "      <td>1</td>\n",
              "      <td>2015-09-09</td>\n",
              "      <td>11:45:00</td>\n",
              "      <td>can not log in useless appcan not access my gc...</td>\n",
              "    </tr>\n",
              "    <tr>\n",
              "      <th>4866</th>\n",
              "      <td>2</td>\n",
              "      <td>2015-02-06</td>\n",
              "      <td>16:10:18</td>\n",
              "      <td>2887 text why does it always ask me to send a ...</td>\n",
              "    </tr>\n",
              "  </tbody>\n",
              "</table>\n",
              "<p>4119 rows × 4 columns</p>\n",
              "</div>"
            ],
            "text/plain": [
              "      rating  ...                                       final_review\n",
              "0          3  ...  it is starting to become pretty annoying almos...\n",
              "2          3  ...  cash in concern a little bit disappointed when...\n",
              "3          1  ...  frustrating and slow and you are a bunch of th...\n",
              "4          1  ...  payments do not post my payment via gcash did ...\n",
              "5          1  ...  forgotten mpin once you forgot your mpin you h...\n",
              "...      ...  ...                                                ...\n",
              "4862       1  ...  fix this this is one of the crucial apps for g...\n",
              "4863       1  ...  can not access because they can not process my...\n",
              "4864       1  ...  waste of time downloading compatibility says c...\n",
              "4865       1  ...  can not log in useless appcan not access my gc...\n",
              "4866       2  ...  2887 text why does it always ask me to send a ...\n",
              "\n",
              "[4119 rows x 4 columns]"
            ]
          },
          "metadata": {
            "tags": []
          },
          "execution_count": 115
        }
      ]
    },
    {
      "cell_type": "markdown",
      "metadata": {
        "id": "d_pLdqoI5EDQ"
      },
      "source": [
        "### MOdeling"
      ]
    },
    {
      "cell_type": "code",
      "metadata": {
        "colab": {
          "base_uri": "https://localhost:8080/",
          "height": 904
        },
        "id": "ofYv3OSC6URV",
        "outputId": "54db997d-1c0e-48db-856e-98813c75e1fc"
      },
      "source": [
        "!pip install pyLDAvis"
      ],
      "execution_count": null,
      "outputs": [
        {
          "output_type": "stream",
          "text": [
            "Collecting pyLDAvis\n",
            "\u001b[?25l  Downloading https://files.pythonhosted.org/packages/03/a5/15a0da6b0150b8b68610cc78af80364a80a9a4c8b6dd5ee549b8989d4b60/pyLDAvis-3.3.1.tar.gz (1.7MB)\n",
            "\u001b[K     |████████████████████████████████| 1.7MB 7.3MB/s \n",
            "\u001b[?25h  Installing build dependencies ... \u001b[?25l\u001b[?25hdone\n",
            "  Getting requirements to build wheel ... \u001b[?25l\u001b[?25hdone\n",
            "  Installing backend dependencies ... \u001b[?25l\u001b[?25hdone\n",
            "    Preparing wheel metadata ... \u001b[?25l\u001b[?25hdone\n",
            "Requirement already satisfied: future in /usr/local/lib/python3.7/dist-packages (from pyLDAvis) (0.16.0)\n",
            "Requirement already satisfied: setuptools in /usr/local/lib/python3.7/dist-packages (from pyLDAvis) (57.0.0)\n",
            "Requirement already satisfied: jinja2 in /usr/local/lib/python3.7/dist-packages (from pyLDAvis) (2.11.3)\n",
            "Collecting pandas>=1.2.0\n",
            "\u001b[?25l  Downloading https://files.pythonhosted.org/packages/51/51/48f3fc47c4e2144da2806dfb6629c4dd1fa3d5a143f9652b141e979a8ca9/pandas-1.2.4-cp37-cp37m-manylinux1_x86_64.whl (9.9MB)\n",
            "\u001b[K     |████████████████████████████████| 9.9MB 38.2MB/s \n",
            "\u001b[?25hCollecting numpy>=1.20.0\n",
            "\u001b[?25l  Downloading https://files.pythonhosted.org/packages/a5/42/560d269f604d3e186a57c21a363e77e199358d054884e61b73e405dd217c/numpy-1.20.3-cp37-cp37m-manylinux_2_12_x86_64.manylinux2010_x86_64.whl (15.3MB)\n",
            "\u001b[K     |████████████████████████████████| 15.3MB 265kB/s \n",
            "\u001b[?25hRequirement already satisfied: scipy in /usr/local/lib/python3.7/dist-packages (from pyLDAvis) (1.4.1)\n",
            "Requirement already satisfied: scikit-learn in /usr/local/lib/python3.7/dist-packages (from pyLDAvis) (0.22.2.post1)\n",
            "Requirement already satisfied: gensim in /usr/local/lib/python3.7/dist-packages (from pyLDAvis) (3.6.0)\n",
            "Requirement already satisfied: numexpr in /usr/local/lib/python3.7/dist-packages (from pyLDAvis) (2.7.3)\n",
            "Requirement already satisfied: sklearn in /usr/local/lib/python3.7/dist-packages (from pyLDAvis) (0.0)\n",
            "Collecting funcy\n",
            "  Downloading https://files.pythonhosted.org/packages/44/52/5cf7401456a461e4b481650dfb8279bc000f31a011d0918904f86e755947/funcy-1.16-py2.py3-none-any.whl\n",
            "Requirement already satisfied: joblib in /usr/local/lib/python3.7/dist-packages (from pyLDAvis) (1.0.1)\n",
            "Requirement already satisfied: MarkupSafe>=0.23 in /usr/local/lib/python3.7/dist-packages (from jinja2->pyLDAvis) (2.0.1)\n",
            "Requirement already satisfied: python-dateutil>=2.7.3 in /usr/local/lib/python3.7/dist-packages (from pandas>=1.2.0->pyLDAvis) (2.8.1)\n",
            "Requirement already satisfied: pytz>=2017.3 in /usr/local/lib/python3.7/dist-packages (from pandas>=1.2.0->pyLDAvis) (2018.9)\n",
            "Requirement already satisfied: smart-open>=1.2.1 in /usr/local/lib/python3.7/dist-packages (from gensim->pyLDAvis) (5.1.0)\n",
            "Requirement already satisfied: six>=1.5.0 in /usr/local/lib/python3.7/dist-packages (from gensim->pyLDAvis) (1.15.0)\n",
            "Building wheels for collected packages: pyLDAvis\n",
            "  Building wheel for pyLDAvis (PEP 517) ... \u001b[?25l\u001b[?25hdone\n",
            "  Created wheel for pyLDAvis: filename=pyLDAvis-3.3.1-cp37-none-any.whl size=136897 sha256=bf6e26de17f53c9befb976db2592a5e938b5a0977eba4bcf168937ae7b7f5b65\n",
            "  Stored in directory: /root/.cache/pip/wheels/a0/9c/fc/c6e00689d35c82cf96a8adc70edfe7ba7904374fdac3240ac2\n",
            "Successfully built pyLDAvis\n",
            "\u001b[31mERROR: tensorflow 2.5.0 has requirement numpy~=1.19.2, but you'll have numpy 1.20.3 which is incompatible.\u001b[0m\n",
            "\u001b[31mERROR: google-colab 1.0.0 has requirement pandas~=1.1.0; python_version >= \"3.0\", but you'll have pandas 1.2.4 which is incompatible.\u001b[0m\n",
            "\u001b[31mERROR: datascience 0.10.6 has requirement folium==0.2.1, but you'll have folium 0.8.3 which is incompatible.\u001b[0m\n",
            "\u001b[31mERROR: albumentations 0.1.12 has requirement imgaug<0.2.7,>=0.2.5, but you'll have imgaug 0.2.9 which is incompatible.\u001b[0m\n",
            "Installing collected packages: numpy, pandas, funcy, pyLDAvis\n",
            "  Found existing installation: numpy 1.19.5\n",
            "    Uninstalling numpy-1.19.5:\n",
            "      Successfully uninstalled numpy-1.19.5\n",
            "  Found existing installation: pandas 1.1.5\n",
            "    Uninstalling pandas-1.1.5:\n",
            "      Successfully uninstalled pandas-1.1.5\n",
            "Successfully installed funcy-1.16 numpy-1.20.3 pandas-1.2.4 pyLDAvis-3.3.1\n"
          ],
          "name": "stdout"
        },
        {
          "output_type": "display_data",
          "data": {
            "application/vnd.colab-display-data+json": {
              "pip_warning": {
                "packages": [
                  "numpy",
                  "pandas"
                ]
              }
            }
          },
          "metadata": {
            "tags": []
          }
        }
      ]
    },
    {
      "cell_type": "code",
      "metadata": {
        "colab": {
          "base_uri": "https://localhost:8080/"
        },
        "id": "L8gXcGJD58fm",
        "outputId": "47477077-fcea-48bb-af7b-ddfd04f4f025"
      },
      "source": [
        "import numpy as np\n",
        "import pyLDAvis"
      ],
      "execution_count": null,
      "outputs": [
        {
          "output_type": "stream",
          "text": [
            "INFO:root:Generating grammar tables from /usr/lib/python3.7/lib2to3/Grammar.txt\n",
            "INFO:root:Generating grammar tables from /usr/lib/python3.7/lib2to3/PatternGrammar.txt\n",
            "/usr/local/lib/python3.7/dist-packages/past/types/oldstr.py:5: DeprecationWarning: Using or importing the ABCs from 'collections' instead of from 'collections.abc' is deprecated since Python 3.3,and in 3.9 it will stop working\n",
            "  from collections import Iterable\n",
            "/usr/local/lib/python3.7/dist-packages/past/builtins/misc.py:4: DeprecationWarning: Using or importing the ABCs from 'collections' instead of from 'collections.abc' is deprecated since Python 3.3,and in 3.9 it will stop working\n",
            "  from collections import Mapping\n"
          ],
          "name": "stderr"
        }
      ]
    },
    {
      "cell_type": "code",
      "metadata": {
        "id": "YtK85KYN1biF"
      },
      "source": [
        "from sklearn.feature_extraction.text import CountVectorizer \n",
        "import lda\n",
        "\n",
        "# create document term matrix\n",
        "min_df = 5 # minimum required occurences of a word, e.g 4\n",
        "max_features = 10000 # max number of unique words, e.g 10000\n",
        "\n",
        "vectorizer = CountVectorizer(\n",
        "              min_df=min_df, \n",
        "              max_features=max_features,\n",
        "              stop_words =  final_stopwords_list,\n",
        "              tokenizer=tokenizer, # use tokenizer we defined before\n",
        "              ngram_range=(1,1)) # we use unigram & bigram\n",
        "X = vectorizer.fit_transform(df_goodreviews['final_review'])\n",
        "\n",
        "\n",
        "# build LDA model\n",
        "n_topics = 4 # pick the number of topics, e.g 5\n",
        "n_iter = 2000 # number of learning iterations, e.g 2000\n",
        "\n",
        "lda_model = lda.LDA(\n",
        "              n_topics=n_topics, \n",
        "              n_iter=n_iter)\n",
        "X_topics = lda_model.fit_transform(X) # X is document term matrix\n",
        "\n",
        "\n",
        "# Print the topics found by the LDA model\n",
        "n_top_words = 10\n",
        "topic_summaries = []\n",
        "\n"
      ],
      "execution_count": null,
      "outputs": []
    },
    {
      "cell_type": "code",
      "metadata": {
        "colab": {
          "base_uri": "https://localhost:8080/"
        },
        "id": "jTK6SKPo5apS",
        "outputId": "4a2a2d19-d82b-4112-86b8-e13181ef85fe"
      },
      "source": [
        "topic_word = lda_model.topic_word_  # get the topic words\n",
        "vocab = vectorizer.get_feature_names()\n",
        "for i, topic_dist in enumerate(topic_word):\n",
        "    topic_words = np.array(vocab)[np.argsort(topic_dist)][:-(n_top_words+1):-1]\n",
        "    topic_summaries.append(' '.join(topic_words))\n",
        "    print('Topic {}: {}'.format(i, ' '.join(topic_words)))"
      ],
      "execution_count": null,
      "outputs": [
        {
          "output_type": "stream",
          "text": [
            "Topic 0: app add update feature user good great love option like\n",
            "Topic 1: app pay use bill convenient money bank easy transfer good\n",
            "Topic 2: card load 5 yung good cash credit po star thank\n",
            "Topic 3: app account use update fix transaction verify try hope help\n"
          ],
          "name": "stdout"
        }
      ]
    },
    {
      "cell_type": "code",
      "metadata": {
        "colab": {
          "base_uri": "https://localhost:8080/",
          "height": 231
        },
        "id": "-ohCG5E25_dD",
        "outputId": "3a77aee5-7574-443a-d282-5b5eb8c6f6a8"
      },
      "source": [
        "\n",
        "# a function to prepare the data\n",
        "def prepareLDAData(lda_model, lda_df, vectorizer):\n",
        "    data = {\n",
        "        'vocab': vocab,\n",
        "        'doc_topic_dists': lda_model.doc_topic_,\n",
        "        'doc_lengths': list(lda_df['len_docs']),\n",
        "        'term_frequency':vectorizer.vocabulary_,\n",
        "        'topic_term_dists': lda_model.components_\n",
        "    } \n",
        "    return data\n",
        "\n",
        "# load the pre-prepared pyLDAvis data\n",
        "lda_data = prepareLDAData(lda_model=lda_model, lda_df=lda_df, vectorizer=vectorizer)\n",
        "prepared_data = pyLDAvis.prepare(**lda_data)\n",
        "pyLDAvis.display(prepared_data)"
      ],
      "execution_count": null,
      "outputs": [
        {
          "output_type": "error",
          "ename": "NameError",
          "evalue": "ignored",
          "traceback": [
            "\u001b[0;31m---------------------------------------------------------------------------\u001b[0m",
            "\u001b[0;31mNameError\u001b[0m                                 Traceback (most recent call last)",
            "\u001b[0;32m<ipython-input-107-86517e88a7f2>\u001b[0m in \u001b[0;36m<module>\u001b[0;34m()\u001b[0m\n\u001b[1;32m     12\u001b[0m \u001b[0;34m\u001b[0m\u001b[0m\n\u001b[1;32m     13\u001b[0m \u001b[0;31m# load the pre-prepared pyLDAvis data\u001b[0m\u001b[0;34m\u001b[0m\u001b[0;34m\u001b[0m\u001b[0;34m\u001b[0m\u001b[0m\n\u001b[0;32m---> 14\u001b[0;31m \u001b[0mlda_data\u001b[0m \u001b[0;34m=\u001b[0m \u001b[0mprepareLDAData\u001b[0m\u001b[0;34m(\u001b[0m\u001b[0mlda_model\u001b[0m\u001b[0;34m=\u001b[0m\u001b[0mlda_model\u001b[0m\u001b[0;34m,\u001b[0m \u001b[0mlda_df\u001b[0m\u001b[0;34m=\u001b[0m\u001b[0mlda_df\u001b[0m\u001b[0;34m,\u001b[0m \u001b[0mvectorizer\u001b[0m\u001b[0;34m=\u001b[0m\u001b[0mvectorizer\u001b[0m\u001b[0;34m)\u001b[0m\u001b[0;34m\u001b[0m\u001b[0;34m\u001b[0m\u001b[0m\n\u001b[0m\u001b[1;32m     15\u001b[0m \u001b[0mprepared_data\u001b[0m \u001b[0;34m=\u001b[0m \u001b[0mpyLDAvis\u001b[0m\u001b[0;34m.\u001b[0m\u001b[0mprepare\u001b[0m\u001b[0;34m(\u001b[0m\u001b[0;34m**\u001b[0m\u001b[0mlda_data\u001b[0m\u001b[0;34m)\u001b[0m\u001b[0;34m\u001b[0m\u001b[0;34m\u001b[0m\u001b[0m\n\u001b[1;32m     16\u001b[0m \u001b[0mpyLDAvis\u001b[0m\u001b[0;34m.\u001b[0m\u001b[0mdisplay\u001b[0m\u001b[0;34m(\u001b[0m\u001b[0mprepared_data\u001b[0m\u001b[0;34m)\u001b[0m\u001b[0;34m\u001b[0m\u001b[0;34m\u001b[0m\u001b[0m\n",
            "\u001b[0;31mNameError\u001b[0m: name 'lda_df' is not defined"
          ]
        }
      ]
    },
    {
      "cell_type": "code",
      "metadata": {
        "id": "QYNUGf6w6jIa"
      },
      "source": [
        ""
      ],
      "execution_count": null,
      "outputs": []
    }
  ]
}