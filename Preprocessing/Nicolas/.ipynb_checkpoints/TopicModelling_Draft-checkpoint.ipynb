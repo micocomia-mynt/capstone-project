{
 "cells": [
  {
   "cell_type": "code",
   "execution_count": 64,
   "id": "f3b91a49-1724-4696-af3a-ba1127112050",
   "metadata": {},
   "outputs": [
    {
     "name": "stderr",
     "output_type": "stream",
     "text": [
      "D:\\Anaconda3\\envs\\project-env-2\\lib\\site-packages\\gensim\\similarities\\__init__.py:15: UserWarning: The gensim.similarities.levenshtein submodule is disabled, because the optional Levenshtein package <https://pypi.org/project/python-Levenshtein/> is unavailable. Install Levenhstein (e.g. `pip install python-Levenshtein`) to suppress this warning.\n",
      "  warnings.warn(msg)\n"
     ]
    }
   ],
   "source": [
    "from nltk import FreqDist\n",
    "from gensim import corpora\n",
    "\n",
    "import pandas as pd\n",
    "import matplotlib.pyplot as plt\n",
    "import seaborn as sns\n",
    "import spacy\n",
    "import gensim\n",
    "%matplotlib inline"
   ]
  },
  {
   "cell_type": "code",
   "execution_count": 44,
   "id": "482b6f82-c9ab-41fe-8f27-699cd7d3cb62",
   "metadata": {},
   "outputs": [],
   "source": [
    "df_appstore_tl = pd.read_csv('df_appstore_tl.csv', index_col=[0])\n",
    "df_appstore_en = pd.read_csv('df_appstore_en.csv', index_col=[0])"
   ]
  },
  {
   "cell_type": "code",
   "execution_count": 45,
   "id": "a8b8f02b-c3d0-44a4-8b1a-c368b7d387f6",
   "metadata": {},
   "outputs": [
    {
     "data": {
      "text/html": [
       "<div>\n",
       "<style scoped>\n",
       "    .dataframe tbody tr th:only-of-type {\n",
       "        vertical-align: middle;\n",
       "    }\n",
       "\n",
       "    .dataframe tbody tr th {\n",
       "        vertical-align: top;\n",
       "    }\n",
       "\n",
       "    .dataframe thead th {\n",
       "        text-align: right;\n",
       "    }\n",
       "</style>\n",
       "<table border=\"1\" class=\"dataframe\">\n",
       "  <thead>\n",
       "    <tr style=\"text-align: right;\">\n",
       "      <th></th>\n",
       "      <th>title</th>\n",
       "      <th>date</th>\n",
       "      <th>review</th>\n",
       "      <th>rating</th>\n",
       "      <th>year</th>\n",
       "      <th>month</th>\n",
       "      <th>day</th>\n",
       "      <th>combined_text</th>\n",
       "      <th>prediction1</th>\n",
       "      <th>confidence_level1</th>\n",
       "      <th>prediction2</th>\n",
       "      <th>confidence_level2</th>\n",
       "    </tr>\n",
       "  </thead>\n",
       "  <tbody>\n",
       "    <tr>\n",
       "      <th>0</th>\n",
       "      <td>Gcash user since 2018</td>\n",
       "      <td>2020-06-07 04:57:17</td>\n",
       "      <td>I've been using gcash for 2 years now, and yes...</td>\n",
       "      <td>5</td>\n",
       "      <td>2020</td>\n",
       "      <td>6</td>\n",
       "      <td>7</td>\n",
       "      <td>Gcash user since 2018 I've been using gcash fo...</td>\n",
       "      <td>__label__en</td>\n",
       "      <td>0.981548</td>\n",
       "      <td>__label__th</td>\n",
       "      <td>0.000830</td>\n",
       "    </tr>\n",
       "    <tr>\n",
       "      <th>1</th>\n",
       "      <td>Read please!!</td>\n",
       "      <td>2021-01-12 09:46:26</td>\n",
       "      <td>Those others who doesn’t like gcash don’t expe...</td>\n",
       "      <td>5</td>\n",
       "      <td>2021</td>\n",
       "      <td>1</td>\n",
       "      <td>12</td>\n",
       "      <td>Read please!! Those others who doesn’t like gc...</td>\n",
       "      <td>__label__en</td>\n",
       "      <td>0.963981</td>\n",
       "      <td>__label__de</td>\n",
       "      <td>0.005407</td>\n",
       "    </tr>\n",
       "    <tr>\n",
       "      <th>2</th>\n",
       "      <td>Delayed Payment Reflection</td>\n",
       "      <td>2020-07-16 05:22:48</td>\n",
       "      <td>GCash serves as a really convenient way to pur...</td>\n",
       "      <td>2</td>\n",
       "      <td>2020</td>\n",
       "      <td>7</td>\n",
       "      <td>16</td>\n",
       "      <td>Delayed Payment Reflection GCash serves as a r...</td>\n",
       "      <td>__label__en</td>\n",
       "      <td>0.972274</td>\n",
       "      <td>__label__de</td>\n",
       "      <td>0.001312</td>\n",
       "    </tr>\n",
       "    <tr>\n",
       "      <th>3</th>\n",
       "      <td>7 years and counting</td>\n",
       "      <td>2021-02-17 09:15:31</td>\n",
       "      <td>Been using gcash for 7 years and I can say it ...</td>\n",
       "      <td>5</td>\n",
       "      <td>2021</td>\n",
       "      <td>2</td>\n",
       "      <td>17</td>\n",
       "      <td>7 years and counting Been using gcash for 7 ye...</td>\n",
       "      <td>__label__en</td>\n",
       "      <td>0.964854</td>\n",
       "      <td>__label__vi</td>\n",
       "      <td>0.001743</td>\n",
       "    </tr>\n",
       "    <tr>\n",
       "      <th>4</th>\n",
       "      <td>Worst Customer Service Ever!!!!!!!</td>\n",
       "      <td>2020-07-06 06:55:09</td>\n",
       "      <td>My old account number was blocked and can’t re...</td>\n",
       "      <td>1</td>\n",
       "      <td>2020</td>\n",
       "      <td>7</td>\n",
       "      <td>6</td>\n",
       "      <td>Worst Customer Service Ever!!!!!!! My old acco...</td>\n",
       "      <td>__label__en</td>\n",
       "      <td>0.978832</td>\n",
       "      <td>__label__ru</td>\n",
       "      <td>0.001608</td>\n",
       "    </tr>\n",
       "  </tbody>\n",
       "</table>\n",
       "</div>"
      ],
      "text/plain": [
       "                                title                 date  \\\n",
       "0               Gcash user since 2018  2020-06-07 04:57:17   \n",
       "1                       Read please!!  2021-01-12 09:46:26   \n",
       "2          Delayed Payment Reflection  2020-07-16 05:22:48   \n",
       "3                7 years and counting  2021-02-17 09:15:31   \n",
       "4  Worst Customer Service Ever!!!!!!!  2020-07-06 06:55:09   \n",
       "\n",
       "                                              review  rating  year  month  \\\n",
       "0  I've been using gcash for 2 years now, and yes...       5  2020      6   \n",
       "1  Those others who doesn’t like gcash don’t expe...       5  2021      1   \n",
       "2  GCash serves as a really convenient way to pur...       2  2020      7   \n",
       "3  Been using gcash for 7 years and I can say it ...       5  2021      2   \n",
       "4  My old account number was blocked and can’t re...       1  2020      7   \n",
       "\n",
       "   day                                      combined_text  prediction1  \\\n",
       "0    7  Gcash user since 2018 I've been using gcash fo...  __label__en   \n",
       "1   12  Read please!! Those others who doesn’t like gc...  __label__en   \n",
       "2   16  Delayed Payment Reflection GCash serves as a r...  __label__en   \n",
       "3   17  7 years and counting Been using gcash for 7 ye...  __label__en   \n",
       "4    6  Worst Customer Service Ever!!!!!!! My old acco...  __label__en   \n",
       "\n",
       "   confidence_level1  prediction2  confidence_level2  \n",
       "0           0.981548  __label__th           0.000830  \n",
       "1           0.963981  __label__de           0.005407  \n",
       "2           0.972274  __label__de           0.001312  \n",
       "3           0.964854  __label__vi           0.001743  \n",
       "4           0.978832  __label__ru           0.001608  "
      ]
     },
     "execution_count": 45,
     "metadata": {},
     "output_type": "execute_result"
    }
   ],
   "source": [
    "df_appstore_en.head()"
   ]
  },
  {
   "cell_type": "code",
   "execution_count": 23,
   "id": "122fa31e-b005-42d1-a704-c3f6f171175a",
   "metadata": {},
   "outputs": [
    {
     "data": {
      "text/plain": [
       "['apple', 'egg']"
      ]
     },
     "execution_count": 23,
     "metadata": {},
     "output_type": "execute_result"
    }
   ],
   "source": [
    "nlp = spacy.load('en_core_web_sm')\n",
    "\n",
    "nlp.Defaults.stop_words.update(['gcash', 'app']) # add gcash & app as part of stop words since these words are the common words and give no insight.\n",
    "\n",
    "def tokenizer(text):\n",
    "    return [token.lemma_.lower() for token in nlp(text) if not token.is_stop and not token.is_punct]\n",
    "\n",
    "text = 'apple egg'\n",
    "\n",
    "tokenizer(text)"
   ]
  },
  {
   "cell_type": "code",
   "execution_count": 46,
   "id": "9193286b-a3f0-42ed-aa2e-d236f3d9f36f",
   "metadata": {},
   "outputs": [
    {
     "name": "stderr",
     "output_type": "stream",
     "text": [
      "<ipython-input-46-b3bda8f45a4f>:2: FutureWarning: The default value of regex will change from True to False in a future version.\n",
      "  df_appstore_en['combined_text'] = df_appstore_en['combined_text'].str.replace(\"[^a-zA-Z#]\", \" \")\n"
     ]
    }
   ],
   "source": [
    "# remove unwanted characters, numbers and symbols\n",
    "df_appstore_en['combined_text'] = df_appstore_en['combined_text'].str.replace(\"[^a-zA-Z#]\", \" \")\n",
    "\n",
    "#lower case the reviews\n",
    "df_appstore_en['combined_text'] = df_appstore_en['combined_text'].apply(lambda x: x.lower())"
   ]
  },
  {
   "cell_type": "code",
   "execution_count": 47,
   "id": "edbb7830-8765-4e40-be2a-f1e00e4971f9",
   "metadata": {},
   "outputs": [
    {
     "data": {
      "text/html": [
       "<div>\n",
       "<style scoped>\n",
       "    .dataframe tbody tr th:only-of-type {\n",
       "        vertical-align: middle;\n",
       "    }\n",
       "\n",
       "    .dataframe tbody tr th {\n",
       "        vertical-align: top;\n",
       "    }\n",
       "\n",
       "    .dataframe thead th {\n",
       "        text-align: right;\n",
       "    }\n",
       "</style>\n",
       "<table border=\"1\" class=\"dataframe\">\n",
       "  <thead>\n",
       "    <tr style=\"text-align: right;\">\n",
       "      <th></th>\n",
       "      <th>title</th>\n",
       "      <th>date</th>\n",
       "      <th>review</th>\n",
       "      <th>rating</th>\n",
       "      <th>year</th>\n",
       "      <th>month</th>\n",
       "      <th>day</th>\n",
       "      <th>combined_text</th>\n",
       "      <th>prediction1</th>\n",
       "      <th>confidence_level1</th>\n",
       "      <th>prediction2</th>\n",
       "      <th>confidence_level2</th>\n",
       "    </tr>\n",
       "  </thead>\n",
       "  <tbody>\n",
       "    <tr>\n",
       "      <th>0</th>\n",
       "      <td>Gcash user since 2018</td>\n",
       "      <td>2020-06-07 04:57:17</td>\n",
       "      <td>I've been using gcash for 2 years now, and yes...</td>\n",
       "      <td>5</td>\n",
       "      <td>2020</td>\n",
       "      <td>6</td>\n",
       "      <td>7</td>\n",
       "      <td>gcash user since      i ve been using gcash fo...</td>\n",
       "      <td>__label__en</td>\n",
       "      <td>0.981548</td>\n",
       "      <td>__label__th</td>\n",
       "      <td>0.000830</td>\n",
       "    </tr>\n",
       "    <tr>\n",
       "      <th>1</th>\n",
       "      <td>Read please!!</td>\n",
       "      <td>2021-01-12 09:46:26</td>\n",
       "      <td>Those others who doesn’t like gcash don’t expe...</td>\n",
       "      <td>5</td>\n",
       "      <td>2021</td>\n",
       "      <td>1</td>\n",
       "      <td>12</td>\n",
       "      <td>read please   those others who doesn t like gc...</td>\n",
       "      <td>__label__en</td>\n",
       "      <td>0.963981</td>\n",
       "      <td>__label__de</td>\n",
       "      <td>0.005407</td>\n",
       "    </tr>\n",
       "    <tr>\n",
       "      <th>2</th>\n",
       "      <td>Delayed Payment Reflection</td>\n",
       "      <td>2020-07-16 05:22:48</td>\n",
       "      <td>GCash serves as a really convenient way to pur...</td>\n",
       "      <td>2</td>\n",
       "      <td>2020</td>\n",
       "      <td>7</td>\n",
       "      <td>16</td>\n",
       "      <td>delayed payment reflection gcash serves as a r...</td>\n",
       "      <td>__label__en</td>\n",
       "      <td>0.972274</td>\n",
       "      <td>__label__de</td>\n",
       "      <td>0.001312</td>\n",
       "    </tr>\n",
       "    <tr>\n",
       "      <th>3</th>\n",
       "      <td>7 years and counting</td>\n",
       "      <td>2021-02-17 09:15:31</td>\n",
       "      <td>Been using gcash for 7 years and I can say it ...</td>\n",
       "      <td>5</td>\n",
       "      <td>2021</td>\n",
       "      <td>2</td>\n",
       "      <td>17</td>\n",
       "      <td>years and counting been using gcash for   ye...</td>\n",
       "      <td>__label__en</td>\n",
       "      <td>0.964854</td>\n",
       "      <td>__label__vi</td>\n",
       "      <td>0.001743</td>\n",
       "    </tr>\n",
       "    <tr>\n",
       "      <th>4</th>\n",
       "      <td>Worst Customer Service Ever!!!!!!!</td>\n",
       "      <td>2020-07-06 06:55:09</td>\n",
       "      <td>My old account number was blocked and can’t re...</td>\n",
       "      <td>1</td>\n",
       "      <td>2020</td>\n",
       "      <td>7</td>\n",
       "      <td>6</td>\n",
       "      <td>worst customer service ever        my old acco...</td>\n",
       "      <td>__label__en</td>\n",
       "      <td>0.978832</td>\n",
       "      <td>__label__ru</td>\n",
       "      <td>0.001608</td>\n",
       "    </tr>\n",
       "  </tbody>\n",
       "</table>\n",
       "</div>"
      ],
      "text/plain": [
       "                                title                 date  \\\n",
       "0               Gcash user since 2018  2020-06-07 04:57:17   \n",
       "1                       Read please!!  2021-01-12 09:46:26   \n",
       "2          Delayed Payment Reflection  2020-07-16 05:22:48   \n",
       "3                7 years and counting  2021-02-17 09:15:31   \n",
       "4  Worst Customer Service Ever!!!!!!!  2020-07-06 06:55:09   \n",
       "\n",
       "                                              review  rating  year  month  \\\n",
       "0  I've been using gcash for 2 years now, and yes...       5  2020      6   \n",
       "1  Those others who doesn’t like gcash don’t expe...       5  2021      1   \n",
       "2  GCash serves as a really convenient way to pur...       2  2020      7   \n",
       "3  Been using gcash for 7 years and I can say it ...       5  2021      2   \n",
       "4  My old account number was blocked and can’t re...       1  2020      7   \n",
       "\n",
       "   day                                      combined_text  prediction1  \\\n",
       "0    7  gcash user since      i ve been using gcash fo...  __label__en   \n",
       "1   12  read please   those others who doesn t like gc...  __label__en   \n",
       "2   16  delayed payment reflection gcash serves as a r...  __label__en   \n",
       "3   17    years and counting been using gcash for   ye...  __label__en   \n",
       "4    6  worst customer service ever        my old acco...  __label__en   \n",
       "\n",
       "   confidence_level1  prediction2  confidence_level2  \n",
       "0           0.981548  __label__th           0.000830  \n",
       "1           0.963981  __label__de           0.005407  \n",
       "2           0.972274  __label__de           0.001312  \n",
       "3           0.964854  __label__vi           0.001743  \n",
       "4           0.978832  __label__ru           0.001608  "
      ]
     },
     "execution_count": 47,
     "metadata": {},
     "output_type": "execute_result"
    }
   ],
   "source": [
    "df_appstore_en.head()"
   ]
  },
  {
   "cell_type": "code",
   "execution_count": 48,
   "id": "8164a8b7-45a5-40c0-a198-b0dadb45e13e",
   "metadata": {},
   "outputs": [],
   "source": [
    "# function to plot most frequent terms\n",
    "def freq_words(x, terms = 30):\n",
    "  all_words = ' '.join([text for text in x])\n",
    "  all_words = all_words.split()\n",
    "\n",
    "  fdist = FreqDist(all_words)\n",
    "  words_df = pd.DataFrame({'word':list(fdist.keys()), 'count':list(fdist.values())})\n",
    "\n",
    "  # selecting top 20 most frequent words\n",
    "  d = words_df.nlargest(columns=\"count\", n = terms) \n",
    "  plt.figure(figsize=(20,5))\n",
    "  ax = sns.barplot(data=d, x= \"word\", y = \"count\")\n",
    "  ax.set(ylabel = 'Count')\n",
    "  plt.show()"
   ]
  },
  {
   "cell_type": "code",
   "execution_count": 49,
   "id": "fc5aa154-e2e2-4837-a410-12e19d326558",
   "metadata": {},
   "outputs": [],
   "source": [
    "from nltk.corpus import stopwords\n",
    "stop_words = stopwords.words('english')\n",
    "newStopWords = ['gcash','app']\n",
    "stop_words.extend(newStopWords)"
   ]
  },
  {
   "cell_type": "code",
   "execution_count": 50,
   "id": "cf79a586-bf26-47e4-be6e-3cf49f4fa6aa",
   "metadata": {},
   "outputs": [],
   "source": [
    "# function to remove stopwords\n",
    "def remove_stopwords(rev):\n",
    "    rev_new = \" \".join([i for i in rev if i not in stop_words])\n",
    "    return rev_new"
   ]
  },
  {
   "cell_type": "code",
   "execution_count": 51,
   "id": "0e738127-8d5d-4024-8f70-3b9a314949f3",
   "metadata": {},
   "outputs": [],
   "source": [
    "# remove short words (length < 2)\n",
    "df_appstore_en['combined_text'] = df_appstore_en['combined_text'].apply(lambda x: ' '.join([w for w in x.split() if len(w)>2]))\n",
    "\n",
    "# remove stopwords from the text\n",
    "reviews = [remove_stopwords(r.split()) for r in df_appstore_en['combined_text']]\n",
    "\n",
    "# make entire text lowercase\n",
    "reviews = [r.lower() for r in reviews]"
   ]
  },
  {
   "cell_type": "code",
   "execution_count": 52,
   "id": "6e4c4328-f54b-444e-bcb5-37e34023991d",
   "metadata": {},
   "outputs": [
    {
     "data": {
      "image/png": "[encoded data removed]",
      "text/plain": [
       "<Figure size 1440x360 with 1 Axes>"
      ]
     },
     "metadata": {
      "needs_background": "light"
     },
     "output_type": "display_data"
    }
   ],
   "source": [
    "freq_words(reviews, 35)"
   ]
  },
  {
   "cell_type": "code",
   "execution_count": 54,
   "id": "88abeec3-7272-4e7b-a016-e84023cbd576",
   "metadata": {
    "scrolled": true,
    "tags": []
   },
   "outputs": [
    {
     "name": "stdout",
     "output_type": "stream",
     "text": [
      "Collecting en-core-web-sm==3.0.0\n",
      "  Downloading https://github.com/explosion/spacy-models/releases/download/en_core_web_sm-3.0.0/en_core_web_sm-3.0.0-py3-none-any.whl (13.7 MB)\n",
      "Requirement already satisfied: spacy<3.1.0,>=3.0.0 in d:\\anaconda3\\envs\\project-env-2\\lib\\site-packages (from en-core-web-sm==3.0.0) (3.0.6)\n",
      "Requirement already satisfied: murmurhash<1.1.0,>=0.28.0 in d:\\anaconda3\\envs\\project-env-2\\lib\\site-packages (from spacy<3.1.0,>=3.0.0->en-core-web-sm==3.0.0) (1.0.5)\n",
      "Requirement already satisfied: thinc<8.1.0,>=8.0.3 in d:\\anaconda3\\envs\\project-env-2\\lib\\site-packages (from spacy<3.1.0,>=3.0.0->en-core-web-sm==3.0.0) (8.0.4)\n",
      "Requirement already satisfied: requests<3.0.0,>=2.13.0 in d:\\anaconda3\\envs\\project-env-2\\lib\\site-packages (from spacy<3.1.0,>=3.0.0->en-core-web-sm==3.0.0) (2.25.1)\n",
      "Requirement already satisfied: jinja2 in d:\\anaconda3\\envs\\project-env-2\\lib\\site-packages (from spacy<3.1.0,>=3.0.0->en-core-web-sm==3.0.0) (3.0.0)\n",
      "Requirement already satisfied: blis<0.8.0,>=0.4.0 in d:\\anaconda3\\envs\\project-env-2\\lib\\site-packages (from spacy<3.1.0,>=3.0.0->en-core-web-sm==3.0.0) (0.7.4)\n",
      "Requirement already satisfied: preshed<3.1.0,>=3.0.2 in d:\\anaconda3\\envs\\project-env-2\\lib\\site-packages (from spacy<3.1.0,>=3.0.0->en-core-web-sm==3.0.0) (3.0.5)\n",
      "Requirement already satisfied: spacy-legacy<3.1.0,>=3.0.4 in d:\\anaconda3\\envs\\project-env-2\\lib\\site-packages (from spacy<3.1.0,>=3.0.0->en-core-web-sm==3.0.0) (3.0.5)\n",
      "Requirement already satisfied: wasabi<1.1.0,>=0.8.1 in d:\\anaconda3\\envs\\project-env-2\\lib\\site-packages (from spacy<3.1.0,>=3.0.0->en-core-web-sm==3.0.0) (0.8.2)\n",
      "Requirement already satisfied: setuptools in d:\\anaconda3\\envs\\project-env-2\\lib\\site-packages (from spacy<3.1.0,>=3.0.0->en-core-web-sm==3.0.0) (57.0.0)\n",
      "Requirement already satisfied: typer<0.4.0,>=0.3.0 in d:\\anaconda3\\envs\\project-env-2\\lib\\site-packages (from spacy<3.1.0,>=3.0.0->en-core-web-sm==3.0.0) (0.3.2)\n",
      "Requirement already satisfied: packaging>=20.0 in d:\\anaconda3\\envs\\project-env-2\\lib\\site-packages (from spacy<3.1.0,>=3.0.0->en-core-web-sm==3.0.0) (20.9)\n",
      "Requirement already satisfied: catalogue<2.1.0,>=2.0.3 in d:\\anaconda3\\envs\\project-env-2\\lib\\site-packages (from spacy<3.1.0,>=3.0.0->en-core-web-sm==3.0.0) (2.0.4)\n",
      "Requirement already satisfied: cymem<2.1.0,>=2.0.2 in d:\\anaconda3\\envs\\project-env-2\\lib\\site-packages (from spacy<3.1.0,>=3.0.0->en-core-web-sm==3.0.0) (2.0.5)\n",
      "Requirement already satisfied: pathy>=0.3.5 in d:\\anaconda3\\envs\\project-env-2\\lib\\site-packages (from spacy<3.1.0,>=3.0.0->en-core-web-sm==3.0.0) (0.5.2)\n",
      "Requirement already satisfied: pydantic<1.8.0,>=1.7.1 in d:\\anaconda3\\envs\\project-env-2\\lib\\site-packages (from spacy<3.1.0,>=3.0.0->en-core-web-sm==3.0.0) (1.7.4)\n",
      "Requirement already satisfied: tqdm<5.0.0,>=4.38.0 in d:\\anaconda3\\envs\\project-env-2\\lib\\site-packages (from spacy<3.1.0,>=3.0.0->en-core-web-sm==3.0.0) (4.61.1)\n",
      "Requirement already satisfied: numpy>=1.15.0 in d:\\anaconda3\\envs\\project-env-2\\lib\\site-packages (from spacy<3.1.0,>=3.0.0->en-core-web-sm==3.0.0) (1.20.3)\n",
      "Requirement already satisfied: srsly<3.0.0,>=2.4.1 in d:\\anaconda3\\envs\\project-env-2\\lib\\site-packages (from spacy<3.1.0,>=3.0.0->en-core-web-sm==3.0.0) (2.4.1)\n",
      "Requirement already satisfied: pyparsing>=2.0.2 in d:\\anaconda3\\envs\\project-env-2\\lib\\site-packages (from packaging>=20.0->spacy<3.1.0,>=3.0.0->en-core-web-sm==3.0.0) (2.4.7)\n",
      "Requirement already satisfied: smart-open<4.0.0,>=2.2.0 in d:\\anaconda3\\envs\\project-env-2\\lib\\site-packages (from pathy>=0.3.5->spacy<3.1.0,>=3.0.0->en-core-web-sm==3.0.0) (3.0.0)\n",
      "Requirement already satisfied: idna<3,>=2.5 in d:\\anaconda3\\envs\\project-env-2\\lib\\site-packages (from requests<3.0.0,>=2.13.0->spacy<3.1.0,>=3.0.0->en-core-web-sm==3.0.0) (2.10)\n",
      "Requirement already satisfied: urllib3<1.27,>=1.21.1 in d:\\anaconda3\\envs\\project-env-2\\lib\\site-packages (from requests<3.0.0,>=2.13.0->spacy<3.1.0,>=3.0.0->en-core-web-sm==3.0.0) (1.26.4)\n",
      "Requirement already satisfied: chardet<5,>=3.0.2 in d:\\anaconda3\\envs\\project-env-2\\lib\\site-packages (from requests<3.0.0,>=2.13.0->spacy<3.1.0,>=3.0.0->en-core-web-sm==3.0.0) (4.0.0)\n",
      "Requirement already satisfied: certifi>=2017.4.17 in d:\\anaconda3\\envs\\project-env-2\\lib\\site-packages (from requests<3.0.0,>=2.13.0->spacy<3.1.0,>=3.0.0->en-core-web-sm==3.0.0) (2021.5.30)\n",
      "Requirement already satisfied: click<7.2.0,>=7.1.1 in d:\\anaconda3\\envs\\project-env-2\\lib\\site-packages (from typer<0.4.0,>=0.3.0->spacy<3.1.0,>=3.0.0->en-core-web-sm==3.0.0) (7.1.2)\n",
      "Requirement already satisfied: MarkupSafe>=2.0.0rc2 in d:\\anaconda3\\envs\\project-env-2\\lib\\site-packages (from jinja2->spacy<3.1.0,>=3.0.0->en-core-web-sm==3.0.0) (2.0.1)\n",
      "[!] As of spaCy v3.0, shortcuts like 'en' are deprecated. Please use the full\n",
      "pipeline package name 'en_core_web_sm' instead.\n",
      "[+] Download and installation successful\n",
      "You can now load the package via spacy.load('en_core_web_sm')\n"
     ]
    }
   ],
   "source": [
    "!python -m spacy download en"
   ]
  },
  {
   "cell_type": "code",
   "execution_count": 59,
   "id": "f4f594e0-f6b6-482f-9ffe-b49fe3899037",
   "metadata": {},
   "outputs": [],
   "source": [
    "nlp = spacy.load('en_core_web_sm', disable=['parser', 'ner'])\n",
    "\n",
    "# def lemmatization(texts, tags=['NOUN', 'ADJ']): # filter noun and adjective\n",
    "#        output = []\n",
    "#        for sent in texts:\n",
    "#              doc = nlp(\" \".join(sent)) \n",
    "#              output.append([token.lemma_ for token in doc if token.pos_ in tags])\n",
    "#        return output\n",
    "\n",
    "def lemmatization(texts): # filter noun and adjective\n",
    "       output = []\n",
    "       for sent in texts:\n",
    "             doc = nlp(\" \".join(sent)) \n",
    "             output.append([token.lemma_ for token in doc])\n",
    "       return output"
   ]
  },
  {
   "cell_type": "code",
   "execution_count": 60,
   "id": "b11a564f-8485-4167-b62f-93529a9e123a",
   "metadata": {},
   "outputs": [
    {
     "name": "stdout",
     "output_type": "stream",
     "text": [
      "['read', 'please', 'others', 'like', 'expect', 'much', 'everything', 'want', 'give', 'others', 'error', 'maybe', 'give', 'little', 'patience', 'think', 'time', 'giving', 'challenge', 'like', 'give', 'patience', 'really', 'need', 'time', 'maybe', 'try', 'solve', 'problem', 'first', 'dramatically', 'crazy', 'anyways', 'base', 'experience', 'get', 'people', 'realize', 'hurting', 'nobody', 'cares', 'maybe', 'least', 'try', 'solve', 'problems', 'people', 'close', 'make', 'things', 'even', 'true', 'start', 'girl', 'hurting', 'girls', 'boys', 'well', 'things', 'said', 'right', 'happy', 'using', 'bye', 'anyways', 'sorry', 'telling', 'feelings', 'take', 'anymore']\n"
     ]
    }
   ],
   "source": [
    "tokenized_reviews = pd.Series(reviews).apply(lambda x: x.split())\n",
    "print(tokenized_reviews[1])"
   ]
  },
  {
   "cell_type": "code",
   "execution_count": 61,
   "id": "dc87a6ac-9316-44b3-adc6-e7b4a47ac50d",
   "metadata": {},
   "outputs": [
    {
     "name": "stdout",
     "output_type": "stream",
     "text": [
      "['read', 'please', 'other', 'like', 'expect', 'much', 'everything', 'want', 'give', 'other', 'error', 'maybe', 'give', 'little', 'patience', 'think', 'time', 'give', 'challenge', 'like', 'give', 'patience', 'really', 'need', 'time', 'maybe', 'try', 'solve', 'problem', 'first', 'dramatically', 'crazy', 'anyways', 'base', 'experience', 'get', 'people', 'realize', 'hurt', 'nobody', 'care', 'maybe', 'least', 'try', 'solve', 'problem', 'people', 'close', 'make', 'thing', 'even', 'true', 'start', 'girl', 'hurt', 'girl', 'boy', 'well', 'thing', 'say', 'right', 'happy', 'use', 'bye', 'anyways', 'sorry', 'tell', 'feeling', 'take', 'anymore']\n"
     ]
    }
   ],
   "source": [
    "reviews_2 = lemmatization(tokenized_reviews)\n",
    "print(reviews_2[1]) # print lemmatized review"
   ]
  },
  {
   "cell_type": "code",
   "execution_count": 63,
   "id": "135f0533-7fb6-49ca-91ee-35ba8e386870",
   "metadata": {},
   "outputs": [
    {
     "data": {
      "image/png": "[encoded data removed]",
      "text/plain": [
       "<Figure size 1440x360 with 1 Axes>"
      ]
     },
     "metadata": {
      "needs_background": "light"
     },
     "output_type": "display_data"
    }
   ],
   "source": [
    "reviews_3 = []\n",
    "for i in range(len(reviews_2)):\n",
    "    reviews_3.append(' '.join(reviews_2[i]))\n",
    "\n",
    "df_appstore_en['reviews'] = reviews_3\n",
    "\n",
    "freq_words(df_appstore_en['reviews'], 35)"
   ]
  },
  {
   "cell_type": "code",
   "execution_count": 65,
   "id": "77404f9e-db48-4cab-a118-2c19518f32c1",
   "metadata": {},
   "outputs": [],
   "source": [
    "dictionary = corpora.Dictionary(reviews_2)"
   ]
  },
  {
   "cell_type": "code",
   "execution_count": 66,
   "id": "51d747e0-eba3-42a2-8ff7-dfa19ec9021f",
   "metadata": {},
   "outputs": [],
   "source": [
    "doc_term_matrix = [dictionary.doc2bow(rev) for rev in reviews_2]"
   ]
  },
  {
   "cell_type": "code",
   "execution_count": 67,
   "id": "4aa67fbe-6e39-459c-b0e8-1a06025296ee",
   "metadata": {},
   "outputs": [],
   "source": [
    "# Creating the object for LDA model using gensim library\n",
    "LDA = gensim.models.ldamodel.LdaModel\n",
    "\n",
    "# Build LDA model\n",
    "lda_model = LDA(corpus=doc_term_matrix, id2word=dictionary, num_topics=5, random_state=8,\n",
    "                chunksize=1000, passes=50)"
   ]
  },
  {
   "cell_type": "code",
   "execution_count": 68,
   "id": "44aeefdd-ba01-4260-9c85-74610c4339cd",
   "metadata": {},
   "outputs": [
    {
     "data": {
      "text/plain": [
       "[(0,\n",
       "  '0.036*\"account\" + 0.028*\"verify\" + 0.023*\"update\" + 0.022*\"money\" + 0.019*\"try\" + 0.017*\"time\" + 0.016*\"use\" + 0.016*\"get\" + 0.015*\"keep\" + 0.014*\"verification\"'),\n",
       " (1,\n",
       "  '0.030*\"use\" + 0.023*\"pay\" + 0.019*\"bill\" + 0.017*\"please\" + 0.013*\"say\" + 0.012*\"try\" + 0.012*\"name\" + 0.012*\"cash\" + 0.012*\"need\" + 0.010*\"money\"'),\n",
       " (2,\n",
       "  '0.043*\"student\" + 0.024*\"nt\" + 0.021*\"verify\" + 0.020*\"even\" + 0.018*\"ca\" + 0.015*\"please\" + 0.014*\"give\" + 0.013*\"get\" + 0.011*\"issue\" + 0.011*\"need\"'),\n",
       " (3,\n",
       "  '0.066*\"code\" + 0.032*\"receive\" + 0.031*\"email\" + 0.030*\"send\" + 0.017*\"verification\" + 0.016*\"number\" + 0.016*\"fix\" + 0.015*\"try\" + 0.015*\"time\" + 0.014*\"log\"'),\n",
       " (4,\n",
       "  '0.026*\"service\" + 0.023*\"money\" + 0.023*\"customer\" + 0.021*\"load\" + 0.019*\"cash\" + 0.018*\"transaction\" + 0.014*\"poor\" + 0.012*\"account\" + 0.012*\"card\" + 0.011*\"bank\"')]"
      ]
     },
     "execution_count": 68,
     "metadata": {},
     "output_type": "execute_result"
    }
   ],
   "source": [
    "lda_model.print_topics()"
   ]
  },
  {
   "cell_type": "code",
   "execution_count": null,
   "id": "fe21834b-310d-4e92-8719-83e348d9c0f2",
   "metadata": {},
   "outputs": [],
   "source": []
  }
 ],
 "metadata": {
  "kernelspec": {
   "display_name": "Python 3",
   "language": "python",
   "name": "python3"
  },
  "language_info": {
   "codemirror_mode": {
    "name": "ipython",
    "version": 3
   },
   "file_extension": ".py",
   "mimetype": "text/x-python",
   "name": "python",
   "nbconvert_exporter": "python",
   "pygments_lexer": "ipython3",
   "version": "3.9.5"
  }
 },
 "nbformat": 4,
 "nbformat_minor": 5
}
