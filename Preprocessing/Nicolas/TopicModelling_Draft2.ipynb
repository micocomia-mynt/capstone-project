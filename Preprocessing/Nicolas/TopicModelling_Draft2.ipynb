{
 "cells": [
  {
   "cell_type": "code",
   "execution_count": 137,
   "id": "f3b91a49-1724-4696-af3a-ba1127112050",
   "metadata": {},
   "outputs": [
    {
     "name": "stderr",
     "output_type": "stream",
     "text": [
      "D:\\Anaconda3\\envs\\project-env-2\\lib\\site-packages\\ipykernel\\ipkernel.py:287: DeprecationWarning: `should_run_async` will not call `transform_cell` automatically in the future. Please pass the result to `transformed_cell` argument and any exception that happen during thetransform in `preprocessing_exc_tuple` in IPython 7.17 and above.\n",
      "  and should_run_async(code)\n"
     ]
    }
   ],
   "source": [
    "from nltk import FreqDist\n",
    "from gensim import corpora, models\n",
    "from gensim.utils import simple_preprocess\n",
    "\n",
    "import pandas as pd\n",
    "import matplotlib.pyplot as plt\n",
    "import seaborn as sns\n",
    "import spacy\n",
    "import gensim\n",
    "import pyLDAvis\n",
    "import pyLDAvis.gensim_models as gensimvis\n",
    "%matplotlib inline\n",
    "\n",
    "pyLDAvis.enable_notebook()"
   ]
  },
  {
   "cell_type": "markdown",
   "id": "5c24d6dd-ab73-4be6-8d61-582abb340b0d",
   "metadata": {},
   "source": [
    "Reference: https://towardsdatascience.com/topic-modeling-and-latent-dirichlet-allocation-in-python-9bf156893c24"
   ]
  },
  {
   "cell_type": "code",
   "execution_count": 3,
   "id": "482b6f82-c9ab-41fe-8f27-699cd7d3cb62",
   "metadata": {},
   "outputs": [],
   "source": [
    "gcash_good = pd.read_csv('/Mynt Capstone/repo/capstone-project/Data/Preprocessed/Mico/App Store/gcash_good.csv')\n",
    "gcash_bad = pd.read_csv('/Mynt Capstone/repo/capstone-project/Data/Preprocessed/Mico/App Store/gcash_bad.csv')\n",
    "# , index_col=[0]"
   ]
  },
  {
   "cell_type": "code",
   "execution_count": 4,
   "id": "a8b8f02b-c3d0-44a4-8b1a-c368b7d387f6",
   "metadata": {},
   "outputs": [
    {
     "data": {
      "text/html": [
       "<div>\n",
       "<style scoped>\n",
       "    .dataframe tbody tr th:only-of-type {\n",
       "        vertical-align: middle;\n",
       "    }\n",
       "\n",
       "    .dataframe tbody tr th {\n",
       "        vertical-align: top;\n",
       "    }\n",
       "\n",
       "    .dataframe thead th {\n",
       "        text-align: right;\n",
       "    }\n",
       "</style>\n",
       "<table border=\"1\" class=\"dataframe\">\n",
       "  <thead>\n",
       "    <tr style=\"text-align: right;\">\n",
       "      <th></th>\n",
       "      <th>date</th>\n",
       "      <th>rating</th>\n",
       "      <th>title_review</th>\n",
       "    </tr>\n",
       "  </thead>\n",
       "  <tbody>\n",
       "    <tr>\n",
       "      <th>0</th>\n",
       "      <td>2020-01-10 03:29:09</td>\n",
       "      <td>5</td>\n",
       "      <td>['nice', 'far', 'good', 'convenient', 'problem...</td>\n",
       "    </tr>\n",
       "    <tr>\n",
       "      <th>1</th>\n",
       "      <td>2020-01-17 17:59:30</td>\n",
       "      <td>5</td>\n",
       "      <td>['good', 'service', 'plz', 'support']</td>\n",
       "    </tr>\n",
       "    <tr>\n",
       "      <th>2</th>\n",
       "      <td>2020-01-20 17:32:16</td>\n",
       "      <td>4</td>\n",
       "      <td>['incoming', 'outgo', 'transaction', 'limit', ...</td>\n",
       "    </tr>\n",
       "    <tr>\n",
       "      <th>3</th>\n",
       "      <td>2020-01-23 00:33:47</td>\n",
       "      <td>5</td>\n",
       "      <td>['convenience', 'since', 'day', 'instal', 'app...</td>\n",
       "    </tr>\n",
       "    <tr>\n",
       "      <th>4</th>\n",
       "      <td>2020-01-25 06:41:20</td>\n",
       "      <td>4</td>\n",
       "      <td>['icon', 'ok', 'maybe', 'stop', 'rearrange', '...</td>\n",
       "    </tr>\n",
       "  </tbody>\n",
       "</table>\n",
       "</div>"
      ],
      "text/plain": [
       "                  date  rating  \\\n",
       "0  2020-01-10 03:29:09       5   \n",
       "1  2020-01-17 17:59:30       5   \n",
       "2  2020-01-20 17:32:16       4   \n",
       "3  2020-01-23 00:33:47       5   \n",
       "4  2020-01-25 06:41:20       4   \n",
       "\n",
       "                                        title_review  \n",
       "0  ['nice', 'far', 'good', 'convenient', 'problem...  \n",
       "1              ['good', 'service', 'plz', 'support']  \n",
       "2  ['incoming', 'outgo', 'transaction', 'limit', ...  \n",
       "3  ['convenience', 'since', 'day', 'instal', 'app...  \n",
       "4  ['icon', 'ok', 'maybe', 'stop', 'rearrange', '...  "
      ]
     },
     "execution_count": 4,
     "metadata": {},
     "output_type": "execute_result"
    }
   ],
   "source": [
    "gcash_good.head()"
   ]
  },
  {
   "cell_type": "code",
   "execution_count": 7,
   "id": "dd54adc0-da27-4702-8469-cf397947a2ae",
   "metadata": {},
   "outputs": [
    {
     "data": {
      "text/plain": [
       "date            object\n",
       "rating           int64\n",
       "title_review    object\n",
       "dtype: object"
      ]
     },
     "execution_count": 7,
     "metadata": {},
     "output_type": "execute_result"
    }
   ],
   "source": [
    "gcash_good.dtypes"
   ]
  },
  {
   "cell_type": "code",
   "execution_count": 6,
   "id": "8816202a-cb3e-4eb9-bb18-3937ad2e2ff6",
   "metadata": {},
   "outputs": [
    {
     "data": {
      "text/html": [
       "<div>\n",
       "<style scoped>\n",
       "    .dataframe tbody tr th:only-of-type {\n",
       "        vertical-align: middle;\n",
       "    }\n",
       "\n",
       "    .dataframe tbody tr th {\n",
       "        vertical-align: top;\n",
       "    }\n",
       "\n",
       "    .dataframe thead th {\n",
       "        text-align: right;\n",
       "    }\n",
       "</style>\n",
       "<table border=\"1\" class=\"dataframe\">\n",
       "  <thead>\n",
       "    <tr style=\"text-align: right;\">\n",
       "      <th></th>\n",
       "      <th>date</th>\n",
       "      <th>rating</th>\n",
       "      <th>title_review</th>\n",
       "    </tr>\n",
       "  </thead>\n",
       "  <tbody>\n",
       "    <tr>\n",
       "      <th>0</th>\n",
       "      <td>2020-01-01 02:10:56</td>\n",
       "      <td>3</td>\n",
       "      <td>['need', 'improvement', 'great', 'try', 'buy',...</td>\n",
       "    </tr>\n",
       "    <tr>\n",
       "      <th>1</th>\n",
       "      <td>2020-01-01 11:26:33</td>\n",
       "      <td>1</td>\n",
       "      <td>['total', 'scam', 'andami', 'video', 'youtube'...</td>\n",
       "    </tr>\n",
       "    <tr>\n",
       "      <th>2</th>\n",
       "      <td>2020-01-01 15:11:30</td>\n",
       "      <td>3</td>\n",
       "      <td>['email', 'registration', 'error', 'log', 'ema...</td>\n",
       "    </tr>\n",
       "    <tr>\n",
       "      <th>3</th>\n",
       "      <td>2020-01-01 19:14:19</td>\n",
       "      <td>1</td>\n",
       "      <td>['customer', 'support', 'issue', 'trash', 'avi...</td>\n",
       "    </tr>\n",
       "    <tr>\n",
       "      <th>4</th>\n",
       "      <td>2020-01-02 01:43:34</td>\n",
       "      <td>1</td>\n",
       "      <td>['outdate', 'please', 'keep', 'bad', 'dial']</td>\n",
       "    </tr>\n",
       "  </tbody>\n",
       "</table>\n",
       "</div>"
      ],
      "text/plain": [
       "                  date  rating  \\\n",
       "0  2020-01-01 02:10:56       3   \n",
       "1  2020-01-01 11:26:33       1   \n",
       "2  2020-01-01 15:11:30       3   \n",
       "3  2020-01-01 19:14:19       1   \n",
       "4  2020-01-02 01:43:34       1   \n",
       "\n",
       "                                        title_review  \n",
       "0  ['need', 'improvement', 'great', 'try', 'buy',...  \n",
       "1  ['total', 'scam', 'andami', 'video', 'youtube'...  \n",
       "2  ['email', 'registration', 'error', 'log', 'ema...  \n",
       "3  ['customer', 'support', 'issue', 'trash', 'avi...  \n",
       "4       ['outdate', 'please', 'keep', 'bad', 'dial']  "
      ]
     },
     "execution_count": 6,
     "metadata": {},
     "output_type": "execute_result"
    }
   ],
   "source": [
    "gcash_bad.head()"
   ]
  },
  {
   "cell_type": "code",
   "execution_count": 87,
   "id": "122fa31e-b005-42d1-a704-c3f6f171175a",
   "metadata": {},
   "outputs": [
    {
     "data": {
      "text/html": [
       "<div>\n",
       "<style scoped>\n",
       "    .dataframe tbody tr th:only-of-type {\n",
       "        vertical-align: middle;\n",
       "    }\n",
       "\n",
       "    .dataframe tbody tr th {\n",
       "        vertical-align: top;\n",
       "    }\n",
       "\n",
       "    .dataframe thead th {\n",
       "        text-align: right;\n",
       "    }\n",
       "</style>\n",
       "<table border=\"1\" class=\"dataframe\">\n",
       "  <thead>\n",
       "    <tr style=\"text-align: right;\">\n",
       "      <th></th>\n",
       "      <th>date</th>\n",
       "      <th>rating</th>\n",
       "      <th>title_review</th>\n",
       "    </tr>\n",
       "  </thead>\n",
       "  <tbody>\n",
       "    <tr>\n",
       "      <th>0</th>\n",
       "      <td>2020-01-10 03:29:09</td>\n",
       "      <td>5</td>\n",
       "      <td>['nice', 'far', 'good', 'convenient', 'problem...</td>\n",
       "    </tr>\n",
       "    <tr>\n",
       "      <th>1</th>\n",
       "      <td>2020-01-17 17:59:30</td>\n",
       "      <td>5</td>\n",
       "      <td>['good', 'service', 'plz', 'support']</td>\n",
       "    </tr>\n",
       "    <tr>\n",
       "      <th>3</th>\n",
       "      <td>2020-01-23 00:33:47</td>\n",
       "      <td>5</td>\n",
       "      <td>['convenience', 'since', 'day', 'instal', 'app...</td>\n",
       "    </tr>\n",
       "    <tr>\n",
       "      <th>6</th>\n",
       "      <td>2020-02-07 18:34:41</td>\n",
       "      <td>5</td>\n",
       "      <td>['face', 'id', 'authenticator', 'hope', 'could...</td>\n",
       "    </tr>\n",
       "    <tr>\n",
       "      <th>7</th>\n",
       "      <td>2020-02-10 02:45:27</td>\n",
       "      <td>5</td>\n",
       "      <td>['grest', 'improvement', 'year', 'use', 'sever...</td>\n",
       "    </tr>\n",
       "  </tbody>\n",
       "</table>\n",
       "</div>"
      ],
      "text/plain": [
       "                  date  rating  \\\n",
       "0  2020-01-10 03:29:09       5   \n",
       "1  2020-01-17 17:59:30       5   \n",
       "3  2020-01-23 00:33:47       5   \n",
       "6  2020-02-07 18:34:41       5   \n",
       "7  2020-02-10 02:45:27       5   \n",
       "\n",
       "                                        title_review  \n",
       "0  ['nice', 'far', 'good', 'convenient', 'problem...  \n",
       "1              ['good', 'service', 'plz', 'support']  \n",
       "3  ['convenience', 'since', 'day', 'instal', 'app...  \n",
       "6  ['face', 'id', 'authenticator', 'hope', 'could...  \n",
       "7  ['grest', 'improvement', 'year', 'use', 'sever...  "
      ]
     },
     "execution_count": 87,
     "metadata": {},
     "output_type": "execute_result"
    }
   ],
   "source": [
    "gcash_rating5 = gcash_good[gcash_good['rating'] == 5]\n",
    "gcash_rating5.head()"
   ]
  },
  {
   "cell_type": "code",
   "execution_count": 11,
   "id": "9193286b-a3f0-42ed-aa2e-d236f3d9f36f",
   "metadata": {},
   "outputs": [
    {
     "data": {
      "text/html": [
       "<div>\n",
       "<style scoped>\n",
       "    .dataframe tbody tr th:only-of-type {\n",
       "        vertical-align: middle;\n",
       "    }\n",
       "\n",
       "    .dataframe tbody tr th {\n",
       "        vertical-align: top;\n",
       "    }\n",
       "\n",
       "    .dataframe thead th {\n",
       "        text-align: right;\n",
       "    }\n",
       "</style>\n",
       "<table border=\"1\" class=\"dataframe\">\n",
       "  <thead>\n",
       "    <tr style=\"text-align: right;\">\n",
       "      <th></th>\n",
       "      <th>date</th>\n",
       "      <th>rating</th>\n",
       "      <th>title_review</th>\n",
       "    </tr>\n",
       "  </thead>\n",
       "  <tbody>\n",
       "    <tr>\n",
       "      <th>1</th>\n",
       "      <td>2020-01-01 11:26:33</td>\n",
       "      <td>1</td>\n",
       "      <td>['total', 'scam', 'andami', 'video', 'youtube'...</td>\n",
       "    </tr>\n",
       "    <tr>\n",
       "      <th>3</th>\n",
       "      <td>2020-01-01 19:14:19</td>\n",
       "      <td>1</td>\n",
       "      <td>['customer', 'support', 'issue', 'trash', 'avi...</td>\n",
       "    </tr>\n",
       "    <tr>\n",
       "      <th>4</th>\n",
       "      <td>2020-01-02 01:43:34</td>\n",
       "      <td>1</td>\n",
       "      <td>['outdate', 'please', 'keep', 'bad', 'dial']</td>\n",
       "    </tr>\n",
       "    <tr>\n",
       "      <th>5</th>\n",
       "      <td>2020-01-02 05:52:51</td>\n",
       "      <td>1</td>\n",
       "      <td>['refuse', 'let', 'cash', 'try', 'many', 'time...</td>\n",
       "    </tr>\n",
       "    <tr>\n",
       "      <th>6</th>\n",
       "      <td>2020-01-02 08:15:18</td>\n",
       "      <td>1</td>\n",
       "      <td>['worthless', 'download', 'register', 'last', ...</td>\n",
       "    </tr>\n",
       "  </tbody>\n",
       "</table>\n",
       "</div>"
      ],
      "text/plain": [
       "                  date  rating  \\\n",
       "1  2020-01-01 11:26:33       1   \n",
       "3  2020-01-01 19:14:19       1   \n",
       "4  2020-01-02 01:43:34       1   \n",
       "5  2020-01-02 05:52:51       1   \n",
       "6  2020-01-02 08:15:18       1   \n",
       "\n",
       "                                        title_review  \n",
       "1  ['total', 'scam', 'andami', 'video', 'youtube'...  \n",
       "3  ['customer', 'support', 'issue', 'trash', 'avi...  \n",
       "4       ['outdate', 'please', 'keep', 'bad', 'dial']  \n",
       "5  ['refuse', 'let', 'cash', 'try', 'many', 'time...  \n",
       "6  ['worthless', 'download', 'register', 'last', ...  "
      ]
     },
     "execution_count": 11,
     "metadata": {},
     "output_type": "execute_result"
    }
   ],
   "source": [
    "gcash_rating1 = gcash_bad[gcash_bad['rating'] == 1]\n",
    "gcash_rating1.head()"
   ]
  },
  {
   "cell_type": "code",
   "execution_count": 88,
   "id": "edbb7830-8765-4e40-be2a-f1e00e4971f9",
   "metadata": {},
   "outputs": [],
   "source": [
    "def to_sentence(str_list):\n",
    "    new_str_list = str_list.replace(\"'\", \"\")\n",
    "    words = new_str_list.strip('][').split(', ')\n",
    "    return words"
   ]
  },
  {
   "cell_type": "code",
   "execution_count": 111,
   "id": "8164a8b7-45a5-40c0-a198-b0dadb45e13e",
   "metadata": {},
   "outputs": [
    {
     "name": "stderr",
     "output_type": "stream",
     "text": [
      "<ipython-input-111-0a361396980a>:2: SettingWithCopyWarning: \n",
      "A value is trying to be set on a copy of a slice from a DataFrame.\n",
      "Try using .loc[row_indexer,col_indexer] = value instead\n",
      "\n",
      "See the caveats in the documentation: https://pandas.pydata.org/pandas-docs/stable/user_guide/indexing.html#returning-a-view-versus-a-copy\n",
      "  gcash_rating1['title_review'] = gcash_rating1['title_review'].apply(lambda x: to_sentence(x))\n"
     ]
    }
   ],
   "source": [
    "gcash_rating5['title_review'] = gcash_rating5['title_review'].apply(lambda x: to_sentence(x))\n",
    "gcash_rating1['title_review'] = gcash_rating1['title_review'].apply(lambda x: to_sentence(x))"
   ]
  },
  {
   "cell_type": "code",
   "execution_count": 90,
   "id": "fc5aa154-e2e2-4837-a410-12e19d326558",
   "metadata": {
    "scrolled": true,
    "tags": []
   },
   "outputs": [
    {
     "data": {
      "text/html": [
       "<div>\n",
       "<style scoped>\n",
       "    .dataframe tbody tr th:only-of-type {\n",
       "        vertical-align: middle;\n",
       "    }\n",
       "\n",
       "    .dataframe tbody tr th {\n",
       "        vertical-align: top;\n",
       "    }\n",
       "\n",
       "    .dataframe thead th {\n",
       "        text-align: right;\n",
       "    }\n",
       "</style>\n",
       "<table border=\"1\" class=\"dataframe\">\n",
       "  <thead>\n",
       "    <tr style=\"text-align: right;\">\n",
       "      <th></th>\n",
       "      <th>date</th>\n",
       "      <th>rating</th>\n",
       "      <th>title_review</th>\n",
       "    </tr>\n",
       "  </thead>\n",
       "  <tbody>\n",
       "    <tr>\n",
       "      <th>0</th>\n",
       "      <td>2020-01-10 03:29:09</td>\n",
       "      <td>5</td>\n",
       "      <td>[nice, far, good, convenient, problem, encount...</td>\n",
       "    </tr>\n",
       "    <tr>\n",
       "      <th>1</th>\n",
       "      <td>2020-01-17 17:59:30</td>\n",
       "      <td>5</td>\n",
       "      <td>[good, service, plz, support]</td>\n",
       "    </tr>\n",
       "    <tr>\n",
       "      <th>3</th>\n",
       "      <td>2020-01-23 00:33:47</td>\n",
       "      <td>5</td>\n",
       "      <td>[convenience, since, day, instal, apps, always...</td>\n",
       "    </tr>\n",
       "    <tr>\n",
       "      <th>6</th>\n",
       "      <td>2020-02-07 18:34:41</td>\n",
       "      <td>5</td>\n",
       "      <td>[face, id, authenticator, hope, could, add, fa...</td>\n",
       "    </tr>\n",
       "    <tr>\n",
       "      <th>7</th>\n",
       "      <td>2020-02-10 02:45:27</td>\n",
       "      <td>5</td>\n",
       "      <td>[grest, improvement, year, use, several, year,...</td>\n",
       "    </tr>\n",
       "  </tbody>\n",
       "</table>\n",
       "</div>"
      ],
      "text/plain": [
       "                  date  rating  \\\n",
       "0  2020-01-10 03:29:09       5   \n",
       "1  2020-01-17 17:59:30       5   \n",
       "3  2020-01-23 00:33:47       5   \n",
       "6  2020-02-07 18:34:41       5   \n",
       "7  2020-02-10 02:45:27       5   \n",
       "\n",
       "                                        title_review  \n",
       "0  [nice, far, good, convenient, problem, encount...  \n",
       "1                      [good, service, plz, support]  \n",
       "3  [convenience, since, day, instal, apps, always...  \n",
       "6  [face, id, authenticator, hope, could, add, fa...  \n",
       "7  [grest, improvement, year, use, several, year,...  "
      ]
     },
     "execution_count": 90,
     "metadata": {},
     "output_type": "execute_result"
    }
   ],
   "source": [
    "gcash_rating5.head()"
   ]
  },
  {
   "cell_type": "code",
   "execution_count": 112,
   "id": "afd2457c-3fa5-4769-b3c2-0aeaf1730e42",
   "metadata": {},
   "outputs": [
    {
     "data": {
      "text/html": [
       "<div>\n",
       "<style scoped>\n",
       "    .dataframe tbody tr th:only-of-type {\n",
       "        vertical-align: middle;\n",
       "    }\n",
       "\n",
       "    .dataframe tbody tr th {\n",
       "        vertical-align: top;\n",
       "    }\n",
       "\n",
       "    .dataframe thead th {\n",
       "        text-align: right;\n",
       "    }\n",
       "</style>\n",
       "<table border=\"1\" class=\"dataframe\">\n",
       "  <thead>\n",
       "    <tr style=\"text-align: right;\">\n",
       "      <th></th>\n",
       "      <th>date</th>\n",
       "      <th>rating</th>\n",
       "      <th>title_review</th>\n",
       "    </tr>\n",
       "  </thead>\n",
       "  <tbody>\n",
       "    <tr>\n",
       "      <th>1</th>\n",
       "      <td>2020-01-01 11:26:33</td>\n",
       "      <td>1</td>\n",
       "      <td>[total, scam, andami, video, youtube, right, s...</td>\n",
       "    </tr>\n",
       "    <tr>\n",
       "      <th>3</th>\n",
       "      <td>2020-01-01 19:14:19</td>\n",
       "      <td>1</td>\n",
       "      <td>[customer, support, issue, trash, avid, user, ...</td>\n",
       "    </tr>\n",
       "    <tr>\n",
       "      <th>4</th>\n",
       "      <td>2020-01-02 01:43:34</td>\n",
       "      <td>1</td>\n",
       "      <td>[outdate, please, keep, bad, dial]</td>\n",
       "    </tr>\n",
       "    <tr>\n",
       "      <th>5</th>\n",
       "      <td>2020-01-02 05:52:51</td>\n",
       "      <td>1</td>\n",
       "      <td>[refuse, let, cash, try, many, time, cash, eve...</td>\n",
       "    </tr>\n",
       "    <tr>\n",
       "      <th>6</th>\n",
       "      <td>2020-01-02 08:15:18</td>\n",
       "      <td>1</td>\n",
       "      <td>[worthless, download, register, last, monday, ...</td>\n",
       "    </tr>\n",
       "  </tbody>\n",
       "</table>\n",
       "</div>"
      ],
      "text/plain": [
       "                  date  rating  \\\n",
       "1  2020-01-01 11:26:33       1   \n",
       "3  2020-01-01 19:14:19       1   \n",
       "4  2020-01-02 01:43:34       1   \n",
       "5  2020-01-02 05:52:51       1   \n",
       "6  2020-01-02 08:15:18       1   \n",
       "\n",
       "                                        title_review  \n",
       "1  [total, scam, andami, video, youtube, right, s...  \n",
       "3  [customer, support, issue, trash, avid, user, ...  \n",
       "4                 [outdate, please, keep, bad, dial]  \n",
       "5  [refuse, let, cash, try, many, time, cash, eve...  \n",
       "6  [worthless, download, register, last, monday, ...  "
      ]
     },
     "execution_count": 112,
     "metadata": {},
     "output_type": "execute_result"
    }
   ],
   "source": [
    "gcash_rating1.head()"
   ]
  },
  {
   "cell_type": "markdown",
   "id": "f92741f3-56e9-4d24-90a3-8b313351e0db",
   "metadata": {},
   "source": [
    "### Creating the LDA Model <br>\n",
    "### 5-Star Reviews"
   ]
  },
  {
   "cell_type": "code",
   "execution_count": 126,
   "id": "b46667e7-58f0-4575-bc1b-d52d9bcf5b4c",
   "metadata": {},
   "outputs": [
    {
     "name": "stderr",
     "output_type": "stream",
     "text": [
      "D:\\Anaconda3\\envs\\project-env-2\\lib\\site-packages\\ipykernel\\ipkernel.py:287: DeprecationWarning: `should_run_async` will not call `transform_cell` automatically in the future. Please pass the result to `transformed_cell` argument and any exception that happen during thetransform in `preprocessing_exc_tuple` in IPython 7.17 and above.\n",
      "  and should_run_async(code)\n"
     ]
    }
   ],
   "source": [
    "dictionary = corpora.Dictionary(gcash_rating5['title_review'])"
   ]
  },
  {
   "cell_type": "code",
   "execution_count": 127,
   "id": "49677b44-320d-44a6-aceb-2856c65fb7a3",
   "metadata": {},
   "outputs": [
    {
     "name": "stderr",
     "output_type": "stream",
     "text": [
      "D:\\Anaconda3\\envs\\project-env-2\\lib\\site-packages\\ipykernel\\ipkernel.py:287: DeprecationWarning: `should_run_async` will not call `transform_cell` automatically in the future. Please pass the result to `transformed_cell` argument and any exception that happen during thetransform in `preprocessing_exc_tuple` in IPython 7.17 and above.\n",
      "  and should_run_async(code)\n"
     ]
    }
   ],
   "source": [
    "dictionary.filter_extremes(no_below=15, no_above=0.5, keep_n=100000)"
   ]
  },
  {
   "cell_type": "code",
   "execution_count": 128,
   "id": "cf79a586-bf26-47e4-be6e-3cf49f4fa6aa",
   "metadata": {},
   "outputs": [
    {
     "name": "stderr",
     "output_type": "stream",
     "text": [
      "D:\\Anaconda3\\envs\\project-env-2\\lib\\site-packages\\ipykernel\\ipkernel.py:287: DeprecationWarning: `should_run_async` will not call `transform_cell` automatically in the future. Please pass the result to `transformed_cell` argument and any exception that happen during thetransform in `preprocessing_exc_tuple` in IPython 7.17 and above.\n",
      "  and should_run_async(code)\n"
     ]
    }
   ],
   "source": [
    "bow_corpus = [dictionary.doc2bow(doc) for doc in gcash_rating5['title_review']]"
   ]
  },
  {
   "cell_type": "code",
   "execution_count": 129,
   "id": "6594ee2c-a33a-482d-bc69-553db37e7dc1",
   "metadata": {},
   "outputs": [
    {
     "name": "stderr",
     "output_type": "stream",
     "text": [
      "D:\\Anaconda3\\envs\\project-env-2\\lib\\site-packages\\ipykernel\\ipkernel.py:287: DeprecationWarning: `should_run_async` will not call `transform_cell` automatically in the future. Please pass the result to `transformed_cell` argument and any exception that happen during thetransform in `preprocessing_exc_tuple` in IPython 7.17 and above.\n",
      "  and should_run_async(code)\n"
     ]
    },
    {
     "data": {
      "text/plain": [
       "[(5, 1), (6, 1), (7, 1), (8, 1), (9, 1), (10, 1), (11, 1), (12, 1)]"
      ]
     },
     "execution_count": 129,
     "metadata": {},
     "output_type": "execute_result"
    }
   ],
   "source": [
    "bow_corpus[2]"
   ]
  },
  {
   "cell_type": "code",
   "execution_count": 130,
   "id": "89250a69-972f-4a6b-83c6-308d886bd102",
   "metadata": {},
   "outputs": [
    {
     "name": "stdout",
     "output_type": "stream",
     "text": [
      "Word 5 (\"payment\") appears 1 time.\n",
      "Word 6 (\"bill\") appears 1 time.\n",
      "Word 7 (\"help\") appears 1 time.\n",
      "Word 8 (\"load\") appears 1 time.\n",
      "Word 9 (\"money\") appears 1 time.\n",
      "Word 10 (\"time\") appears 1 time.\n",
      "Word 11 (\"transfer\") appears 1 time.\n",
      "Word 12 (\"use\") appears 1 time.\n"
     ]
    },
    {
     "name": "stderr",
     "output_type": "stream",
     "text": [
      "D:\\Anaconda3\\envs\\project-env-2\\lib\\site-packages\\ipykernel\\ipkernel.py:287: DeprecationWarning: `should_run_async` will not call `transform_cell` automatically in the future. Please pass the result to `transformed_cell` argument and any exception that happen during thetransform in `preprocessing_exc_tuple` in IPython 7.17 and above.\n",
      "  and should_run_async(code)\n"
     ]
    }
   ],
   "source": [
    "bow_doc_2 = bow_corpus[2]\n",
    "for i in range(len(bow_doc_2)):\n",
    "    print(\"Word {} (\\\"{}\\\") appears {} time.\".format(bow_doc_2[i][0], \n",
    "                                               dictionary[bow_doc_2[i][0]], \n",
    "bow_doc_2[i][1]))"
   ]
  },
  {
   "cell_type": "code",
   "execution_count": 131,
   "id": "b5a6f7ef-d4e9-4366-8665-58c626f14c31",
   "metadata": {},
   "outputs": [
    {
     "name": "stderr",
     "output_type": "stream",
     "text": [
      "D:\\Anaconda3\\envs\\project-env-2\\lib\\site-packages\\ipykernel\\ipkernel.py:287: DeprecationWarning: `should_run_async` will not call `transform_cell` automatically in the future. Please pass the result to `transformed_cell` argument and any exception that happen during thetransform in `preprocessing_exc_tuple` in IPython 7.17 and above.\n",
      "  and should_run_async(code)\n"
     ]
    }
   ],
   "source": [
    "lda_model = gensim.models.LdaMulticore(bow_corpus, num_topics=7, id2word=dictionary, passes=2, workers=2)"
   ]
  },
  {
   "cell_type": "code",
   "execution_count": 132,
   "id": "77404f9e-db48-4cab-a118-2c19518f32c1",
   "metadata": {},
   "outputs": [
    {
     "name": "stdout",
     "output_type": "stream",
     "text": [
      "Topic: 0 \n",
      "Words: 0.180*\"pay\" + 0.108*\"bill\" + 0.072*\"make\" + 0.067*\"transaction\" + 0.058*\"convenient\" + 0.054*\"like\" + 0.053*\"use\" + 0.047*\"go\" + 0.044*\"transfer\" + 0.036*\"easy\"\n",
      "Topic: 1 \n",
      "Words: 0.134*\"cash\" + 0.083*\"transaction\" + 0.079*\"payment\" + 0.079*\"use\" + 0.073*\"convenient\" + 0.060*\"thank\" + 0.053*\"bank\" + 0.050*\"money\" + 0.047*\"get\" + 0.045*\"time\"\n",
      "Topic: 2 \n",
      "Words: 0.199*\"use\" + 0.062*\"easy\" + 0.061*\"bank\" + 0.056*\"transfer\" + 0.056*\"convenient\" + 0.055*\"transaction\" + 0.049*\"load\" + 0.040*\"online\" + 0.037*\"I\" + 0.036*\"money\"\n",
      "Topic: 3 \n",
      "Words: 0.153*\"money\" + 0.099*\"love\" + 0.095*\"I\" + 0.058*\"useful\" + 0.054*\"pay\" + 0.050*\"great\" + 0.047*\"bank\" + 0.047*\"transaction\" + 0.043*\"get\" + 0.041*\"make\"\n",
      "Topic: 4 \n",
      "Words: 0.197*\"good\" + 0.157*\"update\" + 0.079*\"please\" + 0.050*\"thank\" + 0.048*\"time\" + 0.048*\"use\" + 0.046*\"payment\" + 0.043*\"make\" + 0.034*\"need\" + 0.032*\"like\"\n",
      "Topic: 5 \n",
      "Words: 0.176*\"need\" + 0.122*\"help\" + 0.099*\"thank\" + 0.082*\"money\" + 0.082*\"good\" + 0.075*\"great\" + 0.051*\"love\" + 0.048*\"transfer\" + 0.047*\"get\" + 0.037*\"easy\"\n",
      "Topic: 6 \n",
      "Words: 0.191*\"hope\" + 0.169*\"love\" + 0.101*\"like\" + 0.092*\"cash\" + 0.077*\"money\" + 0.055*\"need\" + 0.048*\"help\" + 0.031*\"payment\" + 0.028*\"go\" + 0.028*\"make\"\n"
     ]
    },
    {
     "name": "stderr",
     "output_type": "stream",
     "text": [
      "D:\\Anaconda3\\envs\\project-env-2\\lib\\site-packages\\ipykernel\\ipkernel.py:287: DeprecationWarning: `should_run_async` will not call `transform_cell` automatically in the future. Please pass the result to `transformed_cell` argument and any exception that happen during thetransform in `preprocessing_exc_tuple` in IPython 7.17 and above.\n",
      "  and should_run_async(code)\n"
     ]
    }
   ],
   "source": [
    "for idx, topic in lda_model.print_topics(-1):\n",
    "    print('Topic: {} \\nWords: {}'.format(idx, topic))"
   ]
  },
  {
   "cell_type": "code",
   "execution_count": 134,
   "id": "596b2a4a-a070-4c2e-9d6b-a942440bc2b3",
   "metadata": {},
   "outputs": [
    {
     "name": "stderr",
     "output_type": "stream",
     "text": [
      "D:\\Anaconda3\\envs\\project-env-2\\lib\\site-packages\\ipykernel\\ipkernel.py:287: DeprecationWarning: `should_run_async` will not call `transform_cell` automatically in the future. Please pass the result to `transformed_cell` argument and any exception that happen during thetransform in `preprocessing_exc_tuple` in IPython 7.17 and above.\n",
      "  and should_run_async(code)\n"
     ]
    }
   ],
   "source": [
    "lda_viz = gensimvis.prepare(lda_model, bow_corpus, dictionary)"
   ]
  },
  {
   "cell_type": "code",
   "execution_count": 138,
   "id": "adc2bc48-fdc6-428b-9199-25d5c04e19d7",
   "metadata": {},
   "outputs": [
    {
     "name": "stderr",
     "output_type": "stream",
     "text": [
      "D:\\Anaconda3\\envs\\project-env-2\\lib\\site-packages\\ipykernel\\ipkernel.py:287: DeprecationWarning: `should_run_async` will not call `transform_cell` automatically in the future. Please pass the result to `transformed_cell` argument and any exception that happen during thetransform in `preprocessing_exc_tuple` in IPython 7.17 and above.\n",
      "  and should_run_async(code)\n"
     ]
    },
    {
     "data": {
      "text/html": [
       "\n",
       "<link rel=\"stylesheet\" type=\"text/css\" href=\"https://cdn.jsdelivr.net/gh/bmabey/pyLDAvis@3.3.1/pyLDAvis/js/ldavis.v1.0.0.css\">\n",
       "\n",
       "\n",
       "<div id=\"ldavis_el2160025234925769441224589740\"></div>\n",
       "<script type=\"text/javascript\">\n",
       "\n",
       "var ldavis_el2160025234925769441224589740_data = {\"mdsDat\": {\"x\": [-0.07454200074464137, -0.12312124306111945, -0.05590444159970083, 0.016580315871341927, -0.07337805476250087, 0.16756532360913845, 0.14280010068748222], \"y\": [-0.013618262248717743, -0.006736571623823787, -0.09415537164644779, 0.16990098729553885, 0.00975190078903584, 0.0037429116284535906, -0.06888559419403913], \"topics\": [1, 2, 3, 4, 5, 6, 7], \"cluster\": [1, 1, 1, 1, 1, 1, 1], \"Freq\": [23.013887428781437, 21.251056077635518, 16.316586590316163, 14.043648486037414, 10.704293888944234, 9.150273617554609, 5.52025391073063]}, \"tinfo\": {\"Term\": [\"love\", \"hope\", \"good\", \"need\", \"cash\", \"update\", \"money\", \"help\", \"pay\", \"thank\", \"use\", \"like\", \"payment\", \"great\", \"please\", \"I\", \"bill\", \"load\", \"useful\", \"transfer\", \"transaction\", \"convenient\", \"get\", \"go\", \"make\", \"easy\", \"bank\", \"time\", \"online\", \"use\", \"load\", \"online\", \"easy\", \"transfer\", \"bank\", \"convenient\", \"transaction\", \"I\", \"please\", \"cash\", \"help\", \"time\", \"hope\", \"like\", \"money\", \"get\", \"payment\", \"bill\", \"love\", \"great\", \"useful\", \"thank\", \"pay\", \"good\", \"make\", \"go\", \"need\", \"update\", \"pay\", \"bill\", \"go\", \"make\", \"like\", \"transaction\", \"transfer\", \"convenient\", \"help\", \"easy\", \"online\", \"hope\", \"time\", \"useful\", \"bank\", \"great\", \"I\", \"use\", \"get\", \"payment\", \"update\", \"please\", \"good\", \"love\", \"cash\", \"need\", \"load\", \"money\", \"thank\", \"useful\", \"money\", \"I\", \"love\", \"great\", \"load\", \"get\", \"bank\", \"go\", \"make\", \"time\", \"transaction\", \"bill\", \"transfer\", \"pay\", \"convenient\", \"online\", \"like\", \"good\", \"use\", \"help\", \"payment\", \"easy\", \"need\", \"cash\", \"please\", \"hope\", \"thank\", \"update\", \"update\", \"good\", \"please\", \"payment\", \"thank\", \"time\", \"useful\", \"need\", \"make\", \"get\", \"go\", \"like\", \"I\", \"use\", \"convenient\", \"bill\", \"hope\", \"easy\", \"love\", \"cash\", \"bank\", \"transaction\", \"pay\", \"great\", \"money\", \"help\", \"transfer\", \"online\", \"load\", \"cash\", \"payment\", \"thank\", \"transaction\", \"convenient\", \"time\", \"get\", \"bank\", \"go\", \"make\", \"use\", \"money\", \"load\", \"like\", \"bill\", \"online\", \"easy\", \"great\", \"pay\", \"update\", \"transfer\", \"good\", \"hope\", \"please\", \"I\", \"need\", \"useful\", \"help\", \"love\", \"need\", \"help\", \"thank\", \"great\", \"good\", \"get\", \"money\", \"please\", \"transfer\", \"love\", \"easy\", \"online\", \"like\", \"make\", \"bank\", \"transaction\", \"update\", \"hope\", \"time\", \"convenient\", \"useful\", \"load\", \"payment\", \"go\", \"cash\", \"I\", \"bill\", \"pay\", \"use\", \"hope\", \"love\", \"cash\", \"like\", \"need\", \"help\", \"money\", \"payment\", \"go\", \"thank\", \"update\", \"get\", \"make\", \"please\", \"great\", \"transaction\", \"use\", \"online\", \"useful\", \"load\", \"time\", \"easy\", \"I\", \"transfer\", \"bank\", \"bill\", \"convenient\", \"good\", \"pay\"], \"Freq\": [33.0, 19.0, 40.0, 23.0, 25.0, 24.0, 43.0, 23.0, 49.0, 23.0, 64.0, 30.0, 19.0, 20.0, 20.0, 27.0, 35.0, 16.0, 16.0, 27.0, 40.0, 36.0, 24.0, 20.0, 32.0, 25.0, 30.0, 23.0, 15.0, 38.29341688268271, 9.485409816989282, 7.770171443969975, 11.926515779950623, 10.856113072430269, 11.814275328954695, 10.701679724393438, 10.630525429251332, 7.029269784383799, 4.942808869411203, 5.695076102384608, 4.2935519661558486, 4.233938275591297, 3.3936049403583555, 4.948621050328339, 6.851124542207504, 3.8670292323590574, 2.885979589562062, 4.779914606697733, 4.45430540770505, 2.5776159739342077, 1.9890977572172046, 2.866935551768231, 5.512091909979297, 4.290784039377168, 2.3111488835157874, 1.4091386193975897, 1.5487865745172285, 0.8070163808138319, 31.886395232958186, 19.19661103421992, 8.287430706653952, 12.845199767738318, 9.657123449713218, 11.888977695994221, 7.875187584854891, 10.22682276806011, 6.125209652875529, 6.326929024220659, 3.307276862663294, 4.066482525384474, 4.886547739815266, 2.734723838736953, 4.891798042470994, 3.1385621795330225, 4.066322553934341, 9.387340853609588, 2.6978295967510766, 1.675526260580558, 2.016278835405911, 1.528214534555921, 2.844192235959477, 1.567369199573747, 1.1107640776393914, 0.948181027478446, 0.5827557898307687, 1.207192570669232, 0.4730606562140473, 7.858781760077898, 20.822388891606863, 12.883936021727445, 13.494063859927174, 6.79426066216824, 4.636360890269055, 5.900526451765749, 6.43554044093433, 3.612287702212763, 5.612924165313611, 3.79875701782032, 6.433618362023828, 5.3965438606927965, 4.156786975701104, 7.306239649659195, 5.193095843011409, 1.6707239514950103, 3.291623577558985, 2.368146883608853, 3.5979962055235792, 0.9141897334577496, 0.6441164564622549, 0.7646519180886423, 0.716072350652856, 0.7335486387081716, 0.5248606149370487, 0.3995725822707477, 0.1411424556150647, 0.14073914641140525, 18.358269855657735, 23.124957974462486, 9.284974408185837, 5.424549672235281, 5.85450830914427, 5.673813832059981, 3.0648753591777522, 4.008088114446294, 4.989113446218575, 3.6110279939188077, 2.681152528150842, 3.79416814311567, 2.839433185892813, 5.6714098785661005, 3.1451856659598745, 2.8693677145483516, 1.515496098013134, 1.948403214679882, 2.2097697055230214, 1.3696829730197289, 1.4572890143650532, 1.3314669709205698, 1.619791443423258, 0.23229620378190477, 0.4682948257617378, 0.21131841410455196, 0.24707150239761388, 0.12937000992386186, 0.12932849607587615, 11.982964294984038, 7.0986494510212985, 5.401168615917473, 7.39052596650536, 6.563179680061108, 3.9938644863400476, 4.178286041959966, 4.781740885894748, 2.9288811051488794, 3.8531971378300973, 7.05818897948453, 4.448596114553196, 1.5569982847381467, 2.8169969832755677, 3.250043631409847, 0.9446309259778564, 1.4342417055587622, 1.0763540443051056, 2.45585928871256, 0.9552418356401009, 0.903947281547038, 1.228826248325622, 0.5681156534029195, 0.5686211845426293, 0.7412249404576414, 0.6332436388519561, 0.18029504219319656, 0.20634758489980998, 0.18062376645973932, 13.480051951532543, 9.289718783001057, 7.5449590583875, 5.765600848983252, 6.237324986066144, 3.5714328335061967, 6.262617777499479, 2.790492637089115, 3.6571494439014183, 3.9261726157123396, 2.861183914192555, 1.3615790008126105, 1.68431968174143, 1.436134130223083, 1.3118178487531102, 1.471597605596542, 0.7818026964873124, 0.5164762635922069, 0.5012503373049644, 0.5229169424847746, 0.15881854352986888, 0.15851701361916815, 0.15878068773931012, 0.15840415782250233, 0.15925139460875798, 0.15891910686822824, 0.15897715359971004, 0.1589596844332022, 0.1595513234756851, 8.795902285129738, 7.8006212742016805, 4.234063199663747, 4.676253140102794, 2.537904451748866, 2.20624439573671, 3.5497994770221784, 1.424106709935541, 1.2901614780175394, 1.2893834419777028, 1.2120173652130923, 1.0365252491673884, 1.2895153183137422, 0.5136121807415238, 0.5111149014132622, 0.9825347681076981, 0.7954912809660228, 0.1618512326614949, 0.16207507256552922, 0.16227320903329934, 0.1629131333732262, 0.16189557779662794, 0.16231276764126168, 0.1619534668718718, 0.1619553342613958, 0.16231791906063822, 0.16251320078350384, 0.16417107778860585, 0.16263650215270603], \"Total\": [33.0, 19.0, 40.0, 23.0, 25.0, 24.0, 43.0, 23.0, 49.0, 23.0, 64.0, 30.0, 19.0, 20.0, 20.0, 27.0, 35.0, 16.0, 16.0, 27.0, 40.0, 36.0, 24.0, 20.0, 32.0, 25.0, 30.0, 23.0, 15.0, 64.96339540430822, 16.711643500555596, 15.345603427504102, 25.42382113448775, 27.858209327704202, 30.85441689563433, 36.51539382475421, 40.12924679839955, 27.881418360905528, 20.15358442946328, 25.285350681008442, 23.246580530231256, 23.2510848223051, 19.255650348151576, 30.869106025836004, 43.61001419932019, 24.862657399428247, 19.311708827536304, 35.813775920229, 33.63292582910275, 20.095804814118996, 16.1486673734984, 23.57115808902429, 49.10197371131841, 40.25840344558836, 32.33723284915321, 20.367456297404065, 23.87232810922819, 24.27136611562939, 49.10197371131841, 35.813775920229, 20.367456297404065, 32.33723284915321, 30.869106025836004, 40.12924679839955, 27.858209327704202, 36.51539382475421, 23.246580530231256, 25.42382113448775, 15.345603427504102, 19.255650348151576, 23.2510848223051, 16.1486673734984, 30.85441689563433, 20.095804814118996, 27.881418360905528, 64.96339540430822, 24.862657399428247, 19.311708827536304, 24.27136611562939, 20.15358442946328, 40.25840344558836, 33.63292582910275, 25.285350681008442, 23.87232810922819, 16.711643500555596, 43.61001419932019, 23.57115808902429, 16.1486673734984, 43.61001419932019, 27.881418360905528, 33.63292582910275, 20.095804814118996, 16.711643500555596, 24.862657399428247, 30.85441689563433, 20.367456297404065, 32.33723284915321, 23.2510848223051, 40.12924679839955, 35.813775920229, 27.858209327704202, 49.10197371131841, 36.51539382475421, 15.345603427504102, 30.869106025836004, 40.25840344558836, 64.96339540430822, 23.246580530231256, 19.311708827536304, 25.42382113448775, 23.87232810922819, 25.285350681008442, 20.15358442946328, 19.255650348151576, 23.57115808902429, 24.27136611562939, 24.27136611562939, 40.25840344558836, 20.15358442946328, 19.311708827536304, 23.57115808902429, 23.2510848223051, 16.1486673734984, 23.87232810922819, 32.33723284915321, 24.862657399428247, 20.367456297404065, 30.869106025836004, 27.881418360905528, 64.96339540430822, 36.51539382475421, 35.813775920229, 19.255650348151576, 25.42382113448775, 33.63292582910275, 25.285350681008442, 30.85441689563433, 40.12924679839955, 49.10197371131841, 20.095804814118996, 43.61001419932019, 23.246580530231256, 27.858209327704202, 15.345603427504102, 16.711643500555596, 25.285350681008442, 19.311708827536304, 23.57115808902429, 40.12924679839955, 36.51539382475421, 23.2510848223051, 24.862657399428247, 30.85441689563433, 20.367456297404065, 32.33723284915321, 64.96339540430822, 43.61001419932019, 16.711643500555596, 30.869106025836004, 35.813775920229, 15.345603427504102, 25.42382113448775, 20.095804814118996, 49.10197371131841, 24.27136611562939, 27.858209327704202, 40.25840344558836, 19.255650348151576, 20.15358442946328, 27.881418360905528, 23.87232810922819, 16.1486673734984, 23.246580530231256, 33.63292582910275, 23.87232810922819, 23.246580530231256, 23.57115808902429, 20.095804814118996, 40.25840344558836, 24.862657399428247, 43.61001419932019, 20.15358442946328, 27.858209327704202, 33.63292582910275, 25.42382113448775, 15.345603427504102, 30.869106025836004, 32.33723284915321, 30.85441689563433, 40.12924679839955, 24.27136611562939, 19.255650348151576, 23.2510848223051, 36.51539382475421, 16.1486673734984, 16.711643500555596, 19.311708827536304, 20.367456297404065, 25.285350681008442, 27.881418360905528, 35.813775920229, 49.10197371131841, 64.96339540430822, 19.255650348151576, 33.63292582910275, 25.285350681008442, 30.869106025836004, 23.87232810922819, 23.246580530231256, 43.61001419932019, 19.311708827536304, 20.367456297404065, 23.57115808902429, 24.27136611562939, 24.862657399428247, 32.33723284915321, 20.15358442946328, 20.095804814118996, 40.12924679839955, 64.96339540430822, 15.345603427504102, 16.1486673734984, 16.711643500555596, 23.2510848223051, 25.42382113448775, 27.881418360905528, 27.858209327704202, 30.85441689563433, 35.813775920229, 36.51539382475421, 40.25840344558836, 49.10197371131841], \"Category\": [\"Default\", \"Default\", \"Default\", \"Default\", \"Default\", \"Default\", \"Default\", \"Default\", \"Default\", \"Default\", \"Default\", \"Default\", \"Default\", \"Default\", \"Default\", \"Default\", \"Default\", \"Default\", \"Default\", \"Default\", \"Default\", \"Default\", \"Default\", \"Default\", \"Default\", \"Default\", \"Default\", \"Default\", \"Default\", \"Topic1\", \"Topic1\", \"Topic1\", \"Topic1\", \"Topic1\", \"Topic1\", \"Topic1\", \"Topic1\", \"Topic1\", \"Topic1\", \"Topic1\", \"Topic1\", \"Topic1\", \"Topic1\", \"Topic1\", \"Topic1\", \"Topic1\", \"Topic1\", \"Topic1\", \"Topic1\", \"Topic1\", \"Topic1\", \"Topic1\", \"Topic1\", \"Topic1\", \"Topic1\", \"Topic1\", \"Topic1\", \"Topic1\", \"Topic2\", \"Topic2\", \"Topic2\", \"Topic2\", \"Topic2\", \"Topic2\", \"Topic2\", \"Topic2\", \"Topic2\", \"Topic2\", \"Topic2\", \"Topic2\", \"Topic2\", \"Topic2\", \"Topic2\", \"Topic2\", \"Topic2\", \"Topic2\", \"Topic2\", \"Topic2\", \"Topic2\", \"Topic2\", \"Topic2\", \"Topic2\", \"Topic2\", \"Topic2\", \"Topic2\", \"Topic2\", \"Topic2\", \"Topic3\", \"Topic3\", \"Topic3\", \"Topic3\", \"Topic3\", \"Topic3\", \"Topic3\", \"Topic3\", \"Topic3\", \"Topic3\", \"Topic3\", \"Topic3\", \"Topic3\", \"Topic3\", \"Topic3\", \"Topic3\", \"Topic3\", \"Topic3\", \"Topic3\", \"Topic3\", \"Topic3\", \"Topic3\", \"Topic3\", \"Topic3\", \"Topic3\", \"Topic3\", \"Topic3\", \"Topic3\", \"Topic3\", \"Topic4\", \"Topic4\", \"Topic4\", \"Topic4\", \"Topic4\", \"Topic4\", \"Topic4\", \"Topic4\", \"Topic4\", \"Topic4\", \"Topic4\", \"Topic4\", \"Topic4\", \"Topic4\", \"Topic4\", \"Topic4\", \"Topic4\", \"Topic4\", \"Topic4\", \"Topic4\", \"Topic4\", \"Topic4\", \"Topic4\", \"Topic4\", \"Topic4\", \"Topic4\", \"Topic4\", \"Topic4\", \"Topic4\", \"Topic5\", \"Topic5\", \"Topic5\", \"Topic5\", \"Topic5\", \"Topic5\", \"Topic5\", \"Topic5\", \"Topic5\", \"Topic5\", \"Topic5\", \"Topic5\", \"Topic5\", \"Topic5\", \"Topic5\", \"Topic5\", \"Topic5\", \"Topic5\", \"Topic5\", \"Topic5\", \"Topic5\", \"Topic5\", \"Topic5\", \"Topic5\", \"Topic5\", \"Topic5\", \"Topic5\", \"Topic5\", \"Topic5\", \"Topic6\", \"Topic6\", \"Topic6\", \"Topic6\", \"Topic6\", \"Topic6\", \"Topic6\", \"Topic6\", \"Topic6\", \"Topic6\", \"Topic6\", \"Topic6\", \"Topic6\", \"Topic6\", \"Topic6\", \"Topic6\", \"Topic6\", \"Topic6\", \"Topic6\", \"Topic6\", \"Topic6\", \"Topic6\", \"Topic6\", \"Topic6\", \"Topic6\", \"Topic6\", \"Topic6\", \"Topic6\", \"Topic6\", \"Topic7\", \"Topic7\", \"Topic7\", \"Topic7\", \"Topic7\", \"Topic7\", \"Topic7\", \"Topic7\", \"Topic7\", \"Topic7\", \"Topic7\", \"Topic7\", \"Topic7\", \"Topic7\", \"Topic7\", \"Topic7\", \"Topic7\", \"Topic7\", \"Topic7\", \"Topic7\", \"Topic7\", \"Topic7\", \"Topic7\", \"Topic7\", \"Topic7\", \"Topic7\", \"Topic7\", \"Topic7\", \"Topic7\"], \"logprob\": [29.0, 28.0, 27.0, 26.0, 25.0, 24.0, 23.0, 22.0, 21.0, 20.0, 19.0, 18.0, 17.0, 16.0, 15.0, 14.0, 13.0, 12.0, 11.0, 10.0, 9.0, 8.0, 7.0, 6.0, 5.0, 4.0, 3.0, 2.0, 1.0, -1.6131, -3.0086, -3.2081, -2.7796, -2.8736, -2.7891, -2.888, -2.8946, -3.3083, -3.6604, -3.5188, -3.8012, -3.8152, -4.0365, -3.6593, -3.3339, -3.9059, -4.1985, -3.6939, -3.7645, -4.3115, -4.5707, -4.2051, -3.5514, -3.8019, -4.4206, -4.9154, -4.8209, -5.4728, -1.7165, -2.2239, -3.0639, -2.6257, -2.911, -2.7031, -3.115, -2.8537, -3.3663, -3.3339, -3.9825, -3.7759, -3.5922, -4.1726, -3.5911, -4.0349, -3.7759, -2.9393, -4.1862, -4.6625, -4.4774, -4.7546, -4.1334, -4.7293, -5.0736, -5.2319, -5.7187, -4.9904, -5.9272, -2.8528, -1.8784, -2.3585, -2.3122, -2.9984, -3.3805, -3.1394, -3.0526, -3.6301, -3.1894, -3.5798, -3.0529, -3.2287, -3.4897, -2.9257, -3.2671, -4.4012, -3.7231, -4.0523, -3.6341, -5.0042, -5.3543, -5.1828, -5.2484, -5.2243, -5.5591, -5.8318, -6.8724, -6.8753, -1.8544, -1.6235, -2.536, -3.0735, -2.9972, -3.0286, -3.6444, -3.3761, -3.1572, -3.4804, -3.7782, -3.431, -3.7208, -3.029, -3.6186, -3.7103, -4.3487, -4.0974, -3.9715, -4.4499, -4.3879, -4.4782, -4.2821, -6.2242, -5.5231, -6.3188, -6.1625, -6.8095, -6.8098, -2.0094, -2.533, -2.8063, -2.4927, -2.6114, -3.1081, -3.063, -2.9281, -3.4183, -3.144, -2.5387, -3.0003, -4.0501, -3.4572, -3.3142, -4.5499, -4.1323, -4.4193, -3.5944, -4.5387, -4.5939, -4.2868, -5.0583, -5.0574, -4.7924, -4.9498, -6.2061, -6.0711, -6.2042, -1.7348, -2.1071, -2.3152, -2.5841, -2.5055, -3.0631, -2.5014, -3.3098, -3.0394, -2.9684, -3.2848, -4.0274, -3.8147, -3.9741, -4.0646, -3.9497, -4.5822, -4.9968, -5.0267, -4.9844, -6.176, -6.1779, -6.1763, -6.1787, -6.1733, -6.1754, -6.175, -6.1751, -6.1714, -1.6564, -1.7765, -2.3875, -2.2882, -2.8993, -3.0394, -2.5638, -3.4771, -3.5759, -3.5765, -3.6384, -3.7948, -3.5764, -4.497, -4.5018, -3.8483, -4.0595, -5.6518, -5.6504, -5.6492, -5.6452, -5.6515, -5.6489, -5.6511, -5.6511, -5.6489, -5.6477, -5.6375, -5.6469], \"loglift\": [29.0, 28.0, 27.0, 26.0, 25.0, 24.0, 23.0, 22.0, 21.0, 20.0, 19.0, 18.0, 17.0, 16.0, 15.0, 14.0, 13.0, 12.0, 11.0, 10.0, 9.0, 8.0, 7.0, 6.0, 5.0, 4.0, 3.0, 2.0, 1.0, 0.9405, 0.9027, 0.7885, 0.7121, 0.5267, 0.5091, 0.2417, 0.1407, 0.0912, 0.0636, -0.0216, -0.22, -0.2341, -0.2668, -0.3616, -0.3818, -0.3918, -0.4318, -0.5448, -0.5526, -0.5846, -0.6251, -0.6377, -0.7179, -0.7698, -1.1694, -1.2019, -1.2662, -1.9346, 1.117, 0.9252, 0.6496, 0.6255, 0.3867, 0.3323, 0.2854, 0.276, 0.215, 0.1579, 0.0141, -0.0063, -0.0111, -0.227, -0.293, -0.308, -0.3765, -0.3857, -0.6722, -0.8958, -0.9393, -1.0305, -1.1013, -1.5173, -1.5764, -1.6772, -1.8073, -2.0382, -2.3598, 1.0928, 1.0737, 1.041, 0.8997, 0.7286, 0.5308, 0.3747, 0.2455, 0.0834, 0.0618, 0.0013, -0.0176, -0.0796, -0.0894, -0.0922, -0.1374, -0.4046, -0.4254, -1.0202, -1.0805, -1.4229, -1.5876, -1.691, -1.6937, -1.7271, -1.835, -2.0622, -3.305, -3.3372, 1.6838, 1.4086, 1.188, 0.6932, 0.5702, 0.5525, 0.3012, 0.1786, 0.094, 0.0336, -0.0647, -0.1333, -0.3214, -0.4754, -0.4889, -0.5612, -0.5791, -0.6057, -0.7596, -0.9526, -1.0897, -1.4428, -1.4486, -2.4973, -2.5709, -2.7375, -2.7622, -2.8129, -2.8985, 1.4878, 1.2337, 0.7611, 0.5426, 0.5183, 0.4729, 0.4511, 0.37, 0.2952, 0.1072, 0.0149, -0.0482, -0.1388, -0.1596, -0.1651, -0.5533, -0.6405, -0.6924, -0.7609, -1.0006, -1.1936, -1.2547, -1.2887, -1.3334, -1.3929, -1.3951, -2.2605, -2.4898, -2.9923, 1.8199, 1.4741, 1.2522, 1.1428, 0.5266, 0.451, 0.4507, 0.4142, 0.3609, 0.2435, 0.2069, -0.0308, -0.517, -0.7229, -0.7665, -0.9144, -1.0441, -1.2271, -1.4456, -1.8547, -2.2304, -2.2666, -2.4096, -2.4652, -2.6761, -2.7759, -3.0259, -3.3416, -3.6178, 2.1132, 1.4354, 1.1097, 1.0095, 0.6554, 0.5419, 0.3884, 0.2896, 0.1376, -0.0091, -0.1003, -0.2807, -0.3252, -0.7729, -0.7749, -0.813, -1.5059, -1.6552, -1.7048, -1.7378, -2.0641, -2.1597, -2.2494, -2.2508, -2.353, -2.4998, -2.518, -2.6054, -2.8134]}, \"token.table\": {\"Topic\": [1, 2, 3, 4, 5, 1, 2, 3, 4, 5, 6, 1, 2, 3, 4, 5, 1, 2, 3, 4, 5, 7, 1, 2, 3, 4, 5, 6, 1, 2, 3, 4, 5, 6, 1, 2, 3, 4, 5, 6, 7, 1, 2, 3, 4, 5, 7, 1, 2, 3, 4, 5, 6, 1, 2, 3, 5, 6, 7, 1, 2, 3, 6, 7, 1, 2, 4, 5, 6, 7, 1, 2, 3, 4, 5, 6, 7, 1, 2, 3, 5, 1, 2, 3, 4, 6, 7, 1, 2, 3, 4, 5, 6, 7, 1, 2, 3, 5, 6, 7, 1, 2, 3, 4, 5, 6, 7, 1, 2, 3, 5, 6, 1, 2, 3, 4, 5, 1, 2, 3, 4, 5, 7, 1, 2, 3, 4, 5, 6, 7, 1, 4, 5, 6, 7, 1, 2, 3, 4, 5, 6, 1, 2, 3, 4, 5, 6, 7, 1, 2, 3, 5, 6, 1, 2, 4, 5, 6, 7, 1, 2, 3, 4, 5, 7, 1, 2, 3, 4], \"Freq\": [0.25106326763545095, 0.1434647243631148, 0.4662603541801231, 0.10759854327233612, 0.0358661810907787, 0.38892324689169255, 0.16205135287153855, 0.19446162344584628, 0.03241027057430771, 0.16205135287153855, 0.03241027057430771, 0.13961108181211934, 0.5305221108860535, 0.13961108181211934, 0.0837666490872716, 0.0837666490872716, 0.2372915478094016, 0.03954859130156693, 0.03954859130156693, 0.03954859130156693, 0.4745830956188032, 0.15819436520626773, 0.30124281427146954, 0.27385710388315415, 0.13692855194157708, 0.08215713116494625, 0.1916999727182079, 0.027385710388315415, 0.471998286037414, 0.235999143018707, 0.039333190503117836, 0.07866638100623567, 0.039333190503117836, 0.1179995715093535, 0.16088384824431462, 0.12066288618323597, 0.24132577236647193, 0.16088384824431462, 0.16088384824431462, 0.16088384824431462, 0.040220962061078655, 0.049097932770694346, 0.39278346216555476, 0.19639173108277738, 0.14729379831208306, 0.14729379831208306, 0.049097932770694346, 0.09935813787067437, 0.07451860340300577, 0.04967906893533718, 0.5713092927563777, 0.02483953446766859, 0.14903720680601154, 0.14928488944579354, 0.14928488944579354, 0.3483314087068516, 0.04976162981526452, 0.2985697788915871, 0.04976162981526452, 0.1720683175230077, 0.2581024762845115, 0.04301707938075192, 0.38715371442676727, 0.08603415876150385, 0.15579842517694975, 0.20773123356926634, 0.10386561678463317, 0.051932808392316586, 0.051932808392316586, 0.4673952755308493, 0.16197424038827793, 0.32394848077655586, 0.09718454423296677, 0.12957939231062235, 0.09718454423296677, 0.06478969615531117, 0.16197424038827793, 0.5385466725460477, 0.059838519171783074, 0.2991925958589154, 0.11967703834356615, 0.11893107427896678, 0.05946553713948339, 0.38652599140664207, 0.05946553713948339, 0.11893107427896678, 0.23786214855793356, 0.06184821098730383, 0.4020133714174749, 0.1855446329619115, 0.15462052746825958, 0.12369642197460766, 0.030924105493651915, 0.030924105493651915, 0.16051359139683835, 0.022930513056691193, 0.48154077419051505, 0.09172205222676477, 0.13758307834014716, 0.09172205222676477, 0.08377900935547511, 0.041889504677737555, 0.041889504677737555, 0.16755801871095022, 0.041889504677737555, 0.5445635608105882, 0.12566851403321266, 0.5213219563371165, 0.19549573362641873, 0.13033048908427913, 0.06516524454213957, 0.06516524454213957, 0.1221946807123346, 0.6517049637991179, 0.14256046083105703, 0.04073156023744487, 0.04073156023744487, 0.155346169869874, 0.10356411324658267, 0.051782056623291335, 0.2589102831164567, 0.36247439636303935, 0.051782056623291335, 0.24809482489329854, 0.0992379299573194, 0.0496189649786597, 0.4465706848079373, 0.0496189649786597, 0.14885689493597912, 0.0496189649786597, 0.12727418774544322, 0.25454837549088644, 0.21212364624240534, 0.33939783398784856, 0.04242472924848107, 0.17203498376827314, 0.21504372971034144, 0.17203498376827314, 0.25805247565240974, 0.17203498376827314, 0.043008745942068285, 0.2741142901400957, 0.2990337710619226, 0.1495168855309613, 0.02491948092182688, 0.17443636645278818, 0.02491948092182688, 0.02491948092182688, 0.39485667835300564, 0.2871684933476405, 0.14358424667382025, 0.03589606166845506, 0.14358424667382025, 0.04120081231670171, 0.08240162463340342, 0.7416146217006309, 0.04120081231670171, 0.04120081231670171, 0.04120081231670171, 0.5849447948879829, 0.13853955668399595, 0.0615731363039982, 0.0923597044559973, 0.10775298853199684, 0.01539328407599955, 0.12384922877798589, 0.18577384316697884, 0.49539691511194356, 0.18577384316697884], \"Term\": [\"I\", \"I\", \"I\", \"I\", \"I\", \"bank\", \"bank\", \"bank\", \"bank\", \"bank\", \"bank\", \"bill\", \"bill\", \"bill\", \"bill\", \"bill\", \"cash\", \"cash\", \"cash\", \"cash\", \"cash\", \"cash\", \"convenient\", \"convenient\", \"convenient\", \"convenient\", \"convenient\", \"convenient\", \"easy\", \"easy\", \"easy\", \"easy\", \"easy\", \"easy\", \"get\", \"get\", \"get\", \"get\", \"get\", \"get\", \"get\", \"go\", \"go\", \"go\", \"go\", \"go\", \"go\", \"good\", \"good\", \"good\", \"good\", \"good\", \"good\", \"great\", \"great\", \"great\", \"great\", \"great\", \"great\", \"help\", \"help\", \"help\", \"help\", \"help\", \"hope\", \"hope\", \"hope\", \"hope\", \"hope\", \"hope\", \"like\", \"like\", \"like\", \"like\", \"like\", \"like\", \"like\", \"load\", \"load\", \"load\", \"load\", \"love\", \"love\", \"love\", \"love\", \"love\", \"love\", \"make\", \"make\", \"make\", \"make\", \"make\", \"make\", \"make\", \"money\", \"money\", \"money\", \"money\", \"money\", \"money\", \"need\", \"need\", \"need\", \"need\", \"need\", \"need\", \"need\", \"online\", \"online\", \"online\", \"online\", \"online\", \"pay\", \"pay\", \"pay\", \"pay\", \"pay\", \"payment\", \"payment\", \"payment\", \"payment\", \"payment\", \"payment\", \"please\", \"please\", \"please\", \"please\", \"please\", \"please\", \"please\", \"thank\", \"thank\", \"thank\", \"thank\", \"thank\", \"time\", \"time\", \"time\", \"time\", \"time\", \"time\", \"transaction\", \"transaction\", \"transaction\", \"transaction\", \"transaction\", \"transaction\", \"transaction\", \"transfer\", \"transfer\", \"transfer\", \"transfer\", \"transfer\", \"update\", \"update\", \"update\", \"update\", \"update\", \"update\", \"use\", \"use\", \"use\", \"use\", \"use\", \"use\", \"useful\", \"useful\", \"useful\", \"useful\"]}, \"R\": 29, \"lambda.step\": 0.01, \"plot.opts\": {\"xlab\": \"PC1\", \"ylab\": \"PC2\"}, \"topic.order\": [3, 1, 4, 5, 2, 6, 7]};\n",
       "\n",
       "function LDAvis_load_lib(url, callback){\n",
       "  var s = document.createElement('script');\n",
       "  s.src = url;\n",
       "  s.async = true;\n",
       "  s.onreadystatechange = s.onload = callback;\n",
       "  s.onerror = function(){console.warn(\"failed to load library \" + url);};\n",
       "  document.getElementsByTagName(\"head\")[0].appendChild(s);\n",
       "}\n",
       "\n",
       "if(typeof(LDAvis) !== \"undefined\"){\n",
       "   // already loaded: just create the visualization\n",
       "   !function(LDAvis){\n",
       "       new LDAvis(\"#\" + \"ldavis_el2160025234925769441224589740\", ldavis_el2160025234925769441224589740_data);\n",
       "   }(LDAvis);\n",
       "}else if(typeof define === \"function\" && define.amd){\n",
       "   // require.js is available: use it to load d3/LDAvis\n",
       "   require.config({paths: {d3: \"https://d3js.org/d3.v5\"}});\n",
       "   require([\"d3\"], function(d3){\n",
       "      window.d3 = d3;\n",
       "      LDAvis_load_lib(\"https://cdn.jsdelivr.net/gh/bmabey/pyLDAvis@3.3.1/pyLDAvis/js/ldavis.v3.0.0.js\", function(){\n",
       "        new LDAvis(\"#\" + \"ldavis_el2160025234925769441224589740\", ldavis_el2160025234925769441224589740_data);\n",
       "      });\n",
       "    });\n",
       "}else{\n",
       "    // require.js not available: dynamically load d3 & LDAvis\n",
       "    LDAvis_load_lib(\"https://d3js.org/d3.v5.js\", function(){\n",
       "         LDAvis_load_lib(\"https://cdn.jsdelivr.net/gh/bmabey/pyLDAvis@3.3.1/pyLDAvis/js/ldavis.v3.0.0.js\", function(){\n",
       "                 new LDAvis(\"#\" + \"ldavis_el2160025234925769441224589740\", ldavis_el2160025234925769441224589740_data);\n",
       "            })\n",
       "         });\n",
       "}\n",
       "</script>"
      ],
      "text/plain": [
       "PreparedData(topic_coordinates=              x         y  topics  cluster       Freq\n",
       "topic                                                \n",
       "2     -0.074542 -0.013618       1        1  23.013887\n",
       "0     -0.123121 -0.006737       2        1  21.251056\n",
       "3     -0.055904 -0.094155       3        1  16.316587\n",
       "4      0.016580  0.169901       4        1  14.043648\n",
       "1     -0.073378  0.009752       5        1  10.704294\n",
       "5      0.167565  0.003743       6        1   9.150274\n",
       "6      0.142800 -0.068886       7        1   5.520254, topic_info=          Term       Freq      Total Category  logprob  loglift\n",
       "14        love  33.000000  33.000000  Default  29.0000  29.0000\n",
       "2         hope  19.000000  19.000000  Default  28.0000  28.0000\n",
       "1         good  40.000000  40.000000  Default  27.0000  27.0000\n",
       "13        need  23.000000  23.000000  Default  26.0000  26.0000\n",
       "23        cash  25.000000  25.000000  Default  25.0000  25.0000\n",
       "..         ...        ...        ...      ...      ...      ...\n",
       "18        bank   0.161955  30.854417   Topic7  -5.6511  -2.3530\n",
       "6         bill   0.162318  35.813776   Topic7  -5.6489  -2.4998\n",
       "0   convenient   0.162513  36.515394   Topic7  -5.6477  -2.5180\n",
       "1         good   0.164171  40.258403   Topic7  -5.6375  -2.6054\n",
       "16         pay   0.162637  49.101974   Topic7  -5.6469  -2.8134\n",
       "\n",
       "[232 rows x 6 columns], token_table=      Topic      Freq    Term\n",
       "term                         \n",
       "15        1  0.251063       I\n",
       "15        2  0.143465       I\n",
       "15        3  0.466260       I\n",
       "15        4  0.107599       I\n",
       "15        5  0.035866       I\n",
       "...     ...       ...     ...\n",
       "12        7  0.015393     use\n",
       "25        1  0.123849  useful\n",
       "25        2  0.185774  useful\n",
       "25        3  0.495397  useful\n",
       "25        4  0.185774  useful\n",
       "\n",
       "[169 rows x 3 columns], R=29, lambda_step=0.01, plot_opts={'xlab': 'PC1', 'ylab': 'PC2'}, topic_order=[3, 1, 4, 5, 2, 6, 7])"
      ]
     },
     "execution_count": 138,
     "metadata": {},
     "output_type": "execute_result"
    }
   ],
   "source": [
    "lda_viz"
   ]
  },
  {
   "cell_type": "markdown",
   "id": "39314fcf-e4e4-4d01-b2f8-17ccd4f8138e",
   "metadata": {},
   "source": [
    "### Using TFIDF"
   ]
  },
  {
   "cell_type": "code",
   "execution_count": 109,
   "id": "4aa67fbe-6e39-459c-b0e8-1a06025296ee",
   "metadata": {},
   "outputs": [],
   "source": [
    "tfidf = models.TfidfModel(bow_corpus)\n",
    "corpus_tfidf = tfidf[bow_corpus]"
   ]
  },
  {
   "cell_type": "code",
   "execution_count": 110,
   "id": "44aeefdd-ba01-4260-9c85-74610c4339cd",
   "metadata": {},
   "outputs": [
    {
     "name": "stdout",
     "output_type": "stream",
     "text": [
      "Topic: 0 Word: 0.146*\"money\" + 0.109*\"hope\" + 0.092*\"transaction\" + 0.084*\"update\" + 0.079*\"need\" + 0.071*\"thank\" + 0.062*\"help\" + 0.046*\"use\" + 0.044*\"like\" + 0.037*\"transfer\"\n",
      "Topic: 1 Word: 0.171*\"time\" + 0.079*\"load\" + 0.077*\"thank\" + 0.066*\"great\" + 0.066*\"love\" + 0.045*\"use\" + 0.039*\"pay\" + 0.039*\"make\" + 0.038*\"convenient\" + 0.030*\"need\"\n",
      "Topic: 2 Word: 0.117*\"pay\" + 0.101*\"bill\" + 0.099*\"please\" + 0.087*\"help\" + 0.070*\"convenient\" + 0.054*\"great\" + 0.042*\"online\" + 0.034*\"update\" + 0.033*\"go\" + 0.033*\"transfer\"\n",
      "Topic: 3 Word: 0.089*\"cash\" + 0.081*\"use\" + 0.079*\"useful\" + 0.066*\"payment\" + 0.058*\"bank\" + 0.055*\"get\" + 0.052*\"like\" + 0.045*\"I\" + 0.037*\"thank\" + 0.037*\"pay\"\n",
      "Topic: 4 Word: 0.150*\"good\" + 0.070*\"love\" + 0.068*\"use\" + 0.063*\"make\" + 0.058*\"transaction\" + 0.054*\"I\" + 0.050*\"easy\" + 0.049*\"convenient\" + 0.043*\"like\" + 0.042*\"money\"\n"
     ]
    }
   ],
   "source": [
    "lda_model_tfidf = gensim.models.LdaMulticore(corpus_tfidf, num_topics=5, id2word=dictionary, passes=2, workers=4)\n",
    "for idx, topic in lda_model_tfidf.print_topics(-1):\n",
    "    print('Topic: {} Word: {}'.format(idx, topic))"
   ]
  },
  {
   "cell_type": "markdown",
   "id": "1e8f1c02-73f7-42cb-9000-51c9a0830b97",
   "metadata": {},
   "source": [
    "### Add to stopwords: \"I\", \"thank\", \"please\""
   ]
  },
  {
   "cell_type": "markdown",
   "id": "ab892b77-d825-4fc5-8597-c00f8b3a1662",
   "metadata": {},
   "source": [
    "### 1-Star Reviews"
   ]
  },
  {
   "cell_type": "code",
   "execution_count": 113,
   "id": "3f66b7e0-b70e-474e-ae76-45a859d18244",
   "metadata": {},
   "outputs": [],
   "source": [
    "dictionary = corpora.Dictionary(gcash_rating1['title_review'])"
   ]
  },
  {
   "cell_type": "code",
   "execution_count": 114,
   "id": "9f5cf01b-519e-4608-87e0-09cda6d8ecdd",
   "metadata": {},
   "outputs": [],
   "source": [
    "dictionary.filter_extremes(no_below=15, no_above=0.5, keep_n=100000)"
   ]
  },
  {
   "cell_type": "code",
   "execution_count": 115,
   "id": "7d516922-e9c9-430c-9969-2e6e6bc763f5",
   "metadata": {},
   "outputs": [],
   "source": [
    "bow_corpus = [dictionary.doc2bow(doc) for doc in gcash_rating1['title_review']]"
   ]
  },
  {
   "cell_type": "code",
   "execution_count": 118,
   "id": "f343eed7-c338-48d5-910d-3a019bbec007",
   "metadata": {},
   "outputs": [],
   "source": [
    "lda_model = gensim.models.LdaMulticore(bow_corpus, num_topics=4, id2word=dictionary, passes=2, workers=2)"
   ]
  },
  {
   "cell_type": "code",
   "execution_count": 119,
   "id": "372447b9-1b9d-4a20-91f2-2ab1e71867c2",
   "metadata": {},
   "outputs": [
    {
     "name": "stdout",
     "output_type": "stream",
     "text": [
      "Topic: 0 \n",
      "Words: 0.030*\"use\" + 0.026*\"update\" + 0.020*\"try\" + 0.019*\"money\" + 0.019*\"load\" + 0.017*\"pay\" + 0.015*\"I\" + 0.015*\"time\" + 0.014*\"even\" + 0.014*\"bill\"\n",
      "Topic: 1 \n",
      "Words: 0.041*\"id\" + 0.021*\"cash\" + 0.020*\"nyo\" + 0.020*\"yung\" + 0.018*\"student\" + 0.017*\"verification\" + 0.016*\"naman\" + 0.014*\"service\" + 0.014*\"load\" + 0.013*\"please\"\n",
      "Topic: 2 \n",
      "Words: 0.031*\"money\" + 0.030*\"service\" + 0.028*\"account\" + 0.027*\"use\" + 0.025*\"customer\" + 0.018*\"transaction\" + 0.016*\"work\" + 0.014*\"email\" + 0.013*\"poor\" + 0.013*\"cash\"\n",
      "Topic: 3 \n",
      "Words: 0.042*\"verify\" + 0.040*\"account\" + 0.032*\"fix\" + 0.030*\"update\" + 0.027*\"use\" + 0.022*\"get\" + 0.021*\"please\" + 0.021*\"try\" + 0.015*\"money\" + 0.015*\"need\"\n"
     ]
    }
   ],
   "source": [
    "for idx, topic in lda_model.print_topics(-1):\n",
    "    print('Topic: {} \\nWords: {}'.format(idx, topic))"
   ]
  },
  {
   "cell_type": "markdown",
   "id": "063c43b7-92b7-4898-a61f-51b32a74f449",
   "metadata": {},
   "source": [
    "### Using TFIDF"
   ]
  },
  {
   "cell_type": "code",
   "execution_count": 121,
   "id": "901ef20d-d2d4-4c87-a609-a53b0653d064",
   "metadata": {},
   "outputs": [],
   "source": [
    "tfidf = models.TfidfModel(bow_corpus)\n",
    "corpus_tfidf = tfidf[bow_corpus]"
   ]
  },
  {
   "cell_type": "code",
   "execution_count": 122,
   "id": "9548d15b-9513-489a-a33b-6dde8a436561",
   "metadata": {},
   "outputs": [
    {
     "name": "stdout",
     "output_type": "stream",
     "text": [
      "Topic: 0 Word: 0.017*\"cash\" + 0.016*\"paypal\" + 0.015*\"service\" + 0.014*\"update\" + 0.012*\"verification\" + 0.012*\"always\" + 0.011*\"id\" + 0.011*\"mpin\" + 0.011*\"unavailable\" + 0.010*\"customer\"\n",
      "Topic: 1 Word: 0.023*\"id\" + 0.021*\"verify\" + 0.018*\"account\" + 0.015*\"work\" + 0.013*\"fully\" + 0.012*\"fix\" + 0.012*\"use\" + 0.012*\"log\" + 0.011*\"please\" + 0.011*\"try\"\n",
      "Topic: 2 Word: 0.015*\"money\" + 0.014*\"load\" + 0.013*\"pera\" + 0.013*\"transaction\" + 0.013*\"scam\" + 0.012*\"code\" + 0.011*\"update\" + 0.011*\"gcredit\" + 0.011*\"receive\" + 0.011*\"nyo\"\n",
      "Topic: 3 Word: 0.017*\"verify\" + 0.017*\"use\" + 0.016*\"update\" + 0.012*\"account\" + 0.011*\"get\" + 0.011*\"load\" + 0.011*\"money\" + 0.010*\"pay\" + 0.010*\"time\" + 0.009*\"need\"\n"
     ]
    }
   ],
   "source": [
    "lda_model_tfidf = gensim.models.LdaMulticore(corpus_tfidf, num_topics=4, id2word=dictionary, passes=2, workers=4)\n",
    "for idx, topic in lda_model_tfidf.print_topics(-1):\n",
    "    print('Topic: {} Word: {}'.format(idx, topic))"
   ]
  },
  {
   "cell_type": "code",
   "execution_count": 123,
   "id": "3bb6e9dc-b0b8-46a1-aa3b-23087ea07668",
   "metadata": {
    "scrolled": true,
    "tags": []
   },
   "outputs": [
    {
     "name": "stdout",
     "output_type": "stream",
     "text": [
      "Collecting pyLDAvis\n",
      "  Downloading pyLDAvis-3.3.1.tar.gz (1.7 MB)\n",
      "  Installing build dependencies: started\n",
      "  Installing build dependencies: finished with status 'done'\n",
      "  Getting requirements to build wheel: started\n",
      "  Getting requirements to build wheel: finished with status 'done'\n",
      "  Installing backend dependencies: started\n",
      "  Installing backend dependencies: finished with status 'done'\n",
      "    Preparing wheel metadata: started\n",
      "    Preparing wheel metadata: finished with status 'done'\n",
      "Collecting funcy\n",
      "  Downloading funcy-1.16-py2.py3-none-any.whl (32 kB)\n",
      "Requirement already satisfied: sklearn in d:\\anaconda3\\envs\\project-env-2\\lib\\site-packages (from pyLDAvis) (0.0)\n",
      "Requirement already satisfied: numpy>=1.20.0 in d:\\anaconda3\\envs\\project-env-2\\lib\\site-packages (from pyLDAvis) (1.20.3)\n",
      "Requirement already satisfied: scikit-learn in d:\\anaconda3\\envs\\project-env-2\\lib\\site-packages (from pyLDAvis) (0.24.2)\n",
      "Requirement already satisfied: joblib in d:\\anaconda3\\envs\\project-env-2\\lib\\site-packages (from pyLDAvis) (1.0.1)\n",
      "Requirement already satisfied: scipy in d:\\anaconda3\\envs\\project-env-2\\lib\\site-packages (from pyLDAvis) (1.6.3)\n",
      "Collecting numexpr\n",
      "  Downloading numexpr-2.7.3-cp39-cp39-win_amd64.whl (93 kB)\n",
      "Requirement already satisfied: jinja2 in d:\\anaconda3\\envs\\project-env-2\\lib\\site-packages (from pyLDAvis) (3.0.0)\n",
      "Collecting future\n",
      "  Downloading future-0.18.2.tar.gz (829 kB)\n",
      "Requirement already satisfied: gensim in d:\\anaconda3\\envs\\project-env-2\\lib\\site-packages (from pyLDAvis) (4.0.1)\n",
      "Requirement already satisfied: setuptools in d:\\anaconda3\\envs\\project-env-2\\lib\\site-packages (from pyLDAvis) (57.0.0)\n",
      "Requirement already satisfied: pandas>=1.2.0 in d:\\anaconda3\\envs\\project-env-2\\lib\\site-packages (from pyLDAvis) (1.2.4)\n",
      "Requirement already satisfied: python-dateutil>=2.7.3 in d:\\anaconda3\\envs\\project-env-2\\lib\\site-packages (from pandas>=1.2.0->pyLDAvis) (2.8.1)\n",
      "Requirement already satisfied: pytz>=2017.3 in d:\\anaconda3\\envs\\project-env-2\\lib\\site-packages (from pandas>=1.2.0->pyLDAvis) (2021.1)\n",
      "Requirement already satisfied: six>=1.5 in d:\\anaconda3\\envs\\project-env-2\\lib\\site-packages (from python-dateutil>=2.7.3->pandas>=1.2.0->pyLDAvis) (1.15.0)\n",
      "Requirement already satisfied: smart-open>=1.8.1 in d:\\anaconda3\\envs\\project-env-2\\lib\\site-packages (from gensim->pyLDAvis) (3.0.0)\n",
      "Requirement already satisfied: requests in d:\\anaconda3\\envs\\project-env-2\\lib\\site-packages (from smart-open>=1.8.1->gensim->pyLDAvis) (2.25.1)\n",
      "Requirement already satisfied: MarkupSafe>=2.0.0rc2 in d:\\anaconda3\\envs\\project-env-2\\lib\\site-packages (from jinja2->pyLDAvis) (2.0.1)\n",
      "Requirement already satisfied: urllib3<1.27,>=1.21.1 in d:\\anaconda3\\envs\\project-env-2\\lib\\site-packages (from requests->smart-open>=1.8.1->gensim->pyLDAvis) (1.26.4)\n",
      "Requirement already satisfied: idna<3,>=2.5 in d:\\anaconda3\\envs\\project-env-2\\lib\\site-packages (from requests->smart-open>=1.8.1->gensim->pyLDAvis) (2.10)\n",
      "Requirement already satisfied: chardet<5,>=3.0.2 in d:\\anaconda3\\envs\\project-env-2\\lib\\site-packages (from requests->smart-open>=1.8.1->gensim->pyLDAvis) (4.0.0)\n",
      "Requirement already satisfied: certifi>=2017.4.17 in d:\\anaconda3\\envs\\project-env-2\\lib\\site-packages (from requests->smart-open>=1.8.1->gensim->pyLDAvis) (2021.5.30)\n",
      "Requirement already satisfied: threadpoolctl>=2.0.0 in d:\\anaconda3\\envs\\project-env-2\\lib\\site-packages (from scikit-learn->pyLDAvis) (2.1.0)\n",
      "Building wheels for collected packages: pyLDAvis, future\n",
      "  Building wheel for pyLDAvis (PEP 517): started\n",
      "  Building wheel for pyLDAvis (PEP 517): finished with status 'done'\n",
      "  Created wheel for pyLDAvis: filename=pyLDAvis-3.3.1-py2.py3-none-any.whl size=136897 sha256=d0a19943401247c6b03fa4939e6094d1605cd20aac3d71c415cf7688f841242d\n",
      "  Stored in directory: c:\\users\\nicolas da silva\\appdata\\local\\pip\\cache\\wheels\\57\\a4\\86\\d10c6c2e0bf149fbc0afb0aa5a6528ac35b30a133a0270c477\n",
      "  Building wheel for future (setup.py): started\n",
      "  Building wheel for future (setup.py): finished with status 'done'\n",
      "  Created wheel for future: filename=future-0.18.2-py3-none-any.whl size=491070 sha256=09f4d756530242115530e8092ea0fcb61b1978863ab7ca7e827104ada07ab40d\n",
      "  Stored in directory: c:\\users\\nicolas da silva\\appdata\\local\\pip\\cache\\wheels\\2f\\a0\\d3\\4030d9f80e6b3be787f19fc911b8e7aa462986a40ab1e4bb94\n",
      "Successfully built pyLDAvis future\n",
      "Installing collected packages: numexpr, future, funcy, pyLDAvis\n",
      "Successfully installed funcy-1.16 future-0.18.2 numexpr-2.7.3 pyLDAvis-3.3.1\n"
     ]
    }
   ],
   "source": [
    "!pip install pyLDAvis"
   ]
  },
  {
   "cell_type": "code",
   "execution_count": null,
   "id": "78588e38-20cd-47ae-8ef4-454f5884936c",
   "metadata": {},
   "outputs": [],
   "source": [
    "lda_viz = gensimvis.prepare(ldamodel, corpus, dictionary)"
   ]
  }
 ],
 "metadata": {
  "kernelspec": {
   "display_name": "Python 3",
   "language": "python",
   "name": "python3"
  },
  "language_info": {
   "codemirror_mode": {
    "name": "ipython",
    "version": 3
   },
   "file_extension": ".py",
   "mimetype": "text/x-python",
   "name": "python",
   "nbconvert_exporter": "python",
   "pygments_lexer": "ipython3",
   "version": "3.9.5"
  }
 },
 "nbformat": 4,
 "nbformat_minor": 5
}
