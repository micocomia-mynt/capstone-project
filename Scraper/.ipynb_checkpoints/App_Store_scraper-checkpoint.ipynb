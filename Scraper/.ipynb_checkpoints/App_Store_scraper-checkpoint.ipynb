{
 "cells": [
  {
   "cell_type": "markdown",
   "id": "analyzed-bangkok",
   "metadata": {},
   "source": [
    "#### App Store Reviews Scraper\n",
    "\n",
    "---\n",
    "\n",
    "This notebook scrapes the Apple App Store for the reviews of a particular app. In this case, we will use the scraper to get the reviews for GCash. \n",
    "\n",
    "Reference: https://python.plainenglish.io/scraping-app-store-reviews-with-python-90e4117ccdfb"
   ]
  },
  {
   "cell_type": "code",
   "execution_count": 1,
   "id": "martial-dietary",
   "metadata": {},
   "outputs": [],
   "source": [
    "import pandas as pd\n",
    "import datetime as dt\n",
    "import random\n",
    "import time\n",
    "\n",
    "from app_store_scraper import AppStore\n",
    "from tzlocal import get_localzone"
   ]
  },
  {
   "cell_type": "markdown",
   "id": "light-theology",
   "metadata": {},
   "source": [
    "#### Scraping Reviews\n",
    "\n",
    "This section focuses on how to use the AppStore library and discusses its various parameters. \n",
    "\n",
    "---\n",
    "\n",
    "First, we search for the application name and id of the application of interest. These details are readily available from the web page of the app. \n",
    "\n",
    "For example, here's the url for the App Store page of GCash: https://apps.apple.com/ph/app/gcash/id520020791. The application name is the value between \"app/\" and \"/id...\" while the application ID is the value after \"/id\"\n",
    "\n"
   ]
  },
  {
   "cell_type": "code",
   "execution_count": 8,
   "id": "tight-engineer",
   "metadata": {},
   "outputs": [],
   "source": [
    "app_name = \"gcash\"\n",
    "app_id = 520020791"
   ]
  },
  {
   "cell_type": "code",
   "execution_count": 2,
   "id": "independent-result",
   "metadata": {},
   "outputs": [],
   "source": [
    "app_name = \"paymaya\"\n",
    "app_id = 991673877"
   ]
  },
  {
   "cell_type": "markdown",
   "id": "honey-great",
   "metadata": {},
   "source": [
    "We first intantiate _AppStore_ so that we may access its _review_ method. It has three required parameters: _country, app_name,_ and _app_id_. For the _app_name_ and _app_id_, we simply input the values we have obtained previously and set the App Store country accordingly. In this case, we set the _country_ to \"ph\" or Philippines."
   ]
  },
  {
   "cell_type": "code",
   "execution_count": 9,
   "id": "proud-drunk",
   "metadata": {},
   "outputs": [
    {
     "name": "stderr",
     "output_type": "stream",
     "text": [
      "2021-06-13 14:05:53,113 [INFO] Base - Initialised: AppStore('ph', 'gcash', 520020791)\n",
      "2021-06-13 14:05:53,114 [INFO] Base - Ready to fetch reviews from: https://apps.apple.com/ph/app/gcash/id520020791\n"
     ]
    }
   ],
   "source": [
    "app_store = AppStore(country='ph', \n",
    "                     app_name=app_name, \n",
    "                     app_id=app_id)"
   ]
  },
  {
   "cell_type": "markdown",
   "id": "regular-mathematics",
   "metadata": {},
   "source": [
    "Using the _review_ method, we scrape the reviews of the specified app. We may limit the number of reviews scraped by setting a value for the _how_many_ parameter. \n",
    "\n",
    "Without setting a value for this parameter, the method scrapes all reviews by default. We could also filter reviews by date by passing a datetime object to the _after_ parameter. By providing a value to this parameter, the scraper would only get reviews posted after the specified date. Lastly, sleep simply adds a sleep time in between calls.\n",
    "\n",
    "Since we want to get all of the reviews for GCash, we do not provide a value for the _how_many_ and _after_ parameters."
   ]
  },
  {
   "cell_type": "code",
   "execution_count": 10,
   "id": "figured-point",
   "metadata": {
    "scrolled": true,
    "tags": []
   },
   "outputs": [
    {
     "name": "stderr",
     "output_type": "stream",
     "text": [
      "2021-06-13 14:06:00,918 [INFO] Base - [id:520020791] Fetched 20 reviews (20 fetched in total)\n",
      "2021-06-13 14:06:11,571 [INFO] Base - [id:520020791] Fetched 60 reviews (60 fetched in total)\n",
      "2021-06-13 14:06:22,073 [INFO] Base - [id:520020791] Fetched 100 reviews (100 fetched in total)\n",
      "2021-06-13 14:06:32,530 [INFO] Base - [id:520020791] Fetched 140 reviews (140 fetched in total)\n",
      "2021-06-13 14:06:43,133 [INFO] Base - [id:520020791] Fetched 180 reviews (180 fetched in total)\n",
      "2021-06-13 14:06:54,193 [INFO] Base - [id:520020791] Fetched 220 reviews (220 fetched in total)\n",
      "2021-06-13 14:07:05,001 [INFO] Base - [id:520020791] Fetched 260 reviews (260 fetched in total)\n",
      "2021-06-13 14:07:15,683 [INFO] Base - [id:520020791] Fetched 300 reviews (300 fetched in total)\n",
      "2021-06-13 14:07:26,399 [INFO] Base - [id:520020791] Fetched 340 reviews (340 fetched in total)\n",
      "2021-06-13 14:07:37,286 [INFO] Base - [id:520020791] Fetched 380 reviews (380 fetched in total)\n",
      "2021-06-13 14:07:48,079 [INFO] Base - [id:520020791] Fetched 420 reviews (420 fetched in total)\n",
      "2021-06-13 14:07:59,074 [INFO] Base - [id:520020791] Fetched 460 reviews (460 fetched in total)\n",
      "2021-06-13 14:08:09,983 [INFO] Base - [id:520020791] Fetched 500 reviews (500 fetched in total)\n",
      "2021-06-13 14:08:21,006 [INFO] Base - [id:520020791] Fetched 540 reviews (540 fetched in total)\n",
      "2021-06-13 14:08:31,975 [INFO] Base - [id:520020791] Fetched 580 reviews (580 fetched in total)\n",
      "2021-06-13 14:08:42,529 [INFO] Base - [id:520020791] Fetched 620 reviews (620 fetched in total)\n",
      "2021-06-13 14:08:53,257 [INFO] Base - [id:520020791] Fetched 660 reviews (660 fetched in total)\n",
      "2021-06-13 14:09:03,873 [INFO] Base - [id:520020791] Fetched 700 reviews (700 fetched in total)\n",
      "2021-06-13 14:09:14,642 [INFO] Base - [id:520020791] Fetched 740 reviews (740 fetched in total)\n",
      "2021-06-13 14:09:25,539 [INFO] Base - [id:520020791] Fetched 780 reviews (780 fetched in total)\n",
      "2021-06-13 14:09:36,180 [INFO] Base - [id:520020791] Fetched 820 reviews (820 fetched in total)\n",
      "2021-06-13 14:09:47,060 [INFO] Base - [id:520020791] Fetched 860 reviews (860 fetched in total)\n",
      "2021-06-13 14:09:57,696 [INFO] Base - [id:520020791] Fetched 900 reviews (900 fetched in total)\n",
      "2021-06-13 14:10:08,595 [INFO] Base - [id:520020791] Fetched 940 reviews (940 fetched in total)\n",
      "2021-06-13 14:10:19,137 [INFO] Base - [id:520020791] Fetched 980 reviews (980 fetched in total)\n",
      "2021-06-13 14:10:29,849 [INFO] Base - [id:520020791] Fetched 1020 reviews (1020 fetched in total)\n",
      "2021-06-13 14:10:40,837 [INFO] Base - [id:520020791] Fetched 1060 reviews (1060 fetched in total)\n",
      "2021-06-13 14:10:51,936 [INFO] Base - [id:520020791] Fetched 1100 reviews (1100 fetched in total)\n",
      "2021-06-13 14:11:02,566 [INFO] Base - [id:520020791] Fetched 1140 reviews (1140 fetched in total)\n",
      "2021-06-13 14:11:13,266 [INFO] Base - [id:520020791] Fetched 1180 reviews (1180 fetched in total)\n",
      "2021-06-13 14:11:23,934 [INFO] Base - [id:520020791] Fetched 1220 reviews (1220 fetched in total)\n",
      "2021-06-13 14:11:34,643 [INFO] Base - [id:520020791] Fetched 1260 reviews (1260 fetched in total)\n",
      "2021-06-13 14:11:45,369 [INFO] Base - [id:520020791] Fetched 1300 reviews (1300 fetched in total)\n",
      "2021-06-13 14:11:56,635 [INFO] Base - [id:520020791] Fetched 1340 reviews (1340 fetched in total)\n",
      "2021-06-13 14:12:07,332 [INFO] Base - [id:520020791] Fetched 1380 reviews (1380 fetched in total)\n",
      "2021-06-13 14:12:18,024 [INFO] Base - [id:520020791] Fetched 1420 reviews (1420 fetched in total)\n",
      "2021-06-13 14:12:28,791 [INFO] Base - [id:520020791] Fetched 1460 reviews (1460 fetched in total)\n",
      "2021-06-13 14:12:40,693 [INFO] Base - [id:520020791] Fetched 1500 reviews (1500 fetched in total)\n",
      "2021-06-13 14:12:51,408 [INFO] Base - [id:520020791] Fetched 1540 reviews (1540 fetched in total)\n",
      "2021-06-13 14:13:02,543 [INFO] Base - [id:520020791] Fetched 1580 reviews (1580 fetched in total)\n",
      "2021-06-13 14:13:13,481 [INFO] Base - [id:520020791] Fetched 1620 reviews (1620 fetched in total)\n",
      "2021-06-13 14:13:24,156 [INFO] Base - [id:520020791] Fetched 1660 reviews (1660 fetched in total)\n",
      "2021-06-13 14:13:35,119 [INFO] Base - [id:520020791] Fetched 1700 reviews (1700 fetched in total)\n",
      "2021-06-13 14:13:45,773 [INFO] Base - [id:520020791] Fetched 1740 reviews (1740 fetched in total)\n",
      "2021-06-13 14:13:57,465 [INFO] Base - [id:520020791] Fetched 1780 reviews (1780 fetched in total)\n",
      "2021-06-13 14:14:08,083 [INFO] Base - [id:520020791] Fetched 1820 reviews (1820 fetched in total)\n",
      "2021-06-13 14:14:18,953 [INFO] Base - [id:520020791] Fetched 1860 reviews (1860 fetched in total)\n",
      "2021-06-13 14:14:29,811 [INFO] Base - [id:520020791] Fetched 1900 reviews (1900 fetched in total)\n",
      "2021-06-13 14:14:40,668 [INFO] Base - [id:520020791] Fetched 1940 reviews (1940 fetched in total)\n",
      "2021-06-13 14:14:51,311 [INFO] Base - [id:520020791] Fetched 1980 reviews (1980 fetched in total)\n",
      "2021-06-13 14:15:03,076 [INFO] Base - [id:520020791] Fetched 2020 reviews (2020 fetched in total)\n",
      "2021-06-13 14:15:13,769 [INFO] Base - [id:520020791] Fetched 2060 reviews (2060 fetched in total)\n",
      "2021-06-13 14:15:24,525 [INFO] Base - [id:520020791] Fetched 2100 reviews (2100 fetched in total)\n",
      "2021-06-13 14:15:35,235 [INFO] Base - [id:520020791] Fetched 2140 reviews (2140 fetched in total)\n",
      "2021-06-13 14:15:45,905 [INFO] Base - [id:520020791] Fetched 2180 reviews (2180 fetched in total)\n",
      "2021-06-13 14:15:57,125 [INFO] Base - [id:520020791] Fetched 2220 reviews (2220 fetched in total)\n",
      "2021-06-13 14:16:07,837 [INFO] Base - [id:520020791] Fetched 2260 reviews (2260 fetched in total)\n",
      "2021-06-13 14:16:18,597 [INFO] Base - [id:520020791] Fetched 2300 reviews (2300 fetched in total)\n",
      "2021-06-13 14:16:29,369 [INFO] Base - [id:520020791] Fetched 2340 reviews (2340 fetched in total)\n",
      "2021-06-13 14:16:40,237 [INFO] Base - [id:520020791] Fetched 2380 reviews (2380 fetched in total)\n",
      "2021-06-13 14:16:50,943 [INFO] Base - [id:520020791] Fetched 2420 reviews (2420 fetched in total)\n",
      "2021-06-13 14:17:02,129 [INFO] Base - [id:520020791] Fetched 2460 reviews (2460 fetched in total)\n",
      "2021-06-13 14:17:12,720 [INFO] Base - [id:520020791] Fetched 2500 reviews (2500 fetched in total)\n",
      "2021-06-13 14:17:23,587 [INFO] Base - [id:520020791] Fetched 2540 reviews (2540 fetched in total)\n",
      "2021-06-13 14:17:34,290 [INFO] Base - [id:520020791] Fetched 2580 reviews (2580 fetched in total)\n",
      "2021-06-13 14:17:45,009 [INFO] Base - [id:520020791] Fetched 2620 reviews (2620 fetched in total)\n",
      "2021-06-13 14:17:55,837 [INFO] Base - [id:520020791] Fetched 2660 reviews (2660 fetched in total)\n",
      "2021-06-13 14:18:06,488 [INFO] Base - [id:520020791] Fetched 2700 reviews (2700 fetched in total)\n",
      "2021-06-13 14:18:17,144 [INFO] Base - [id:520020791] Fetched 2740 reviews (2740 fetched in total)\n",
      "2021-06-13 14:18:27,759 [INFO] Base - [id:520020791] Fetched 2780 reviews (2780 fetched in total)\n",
      "2021-06-13 14:18:38,312 [INFO] Base - [id:520020791] Fetched 2820 reviews (2820 fetched in total)\n",
      "2021-06-13 14:18:49,122 [INFO] Base - [id:520020791] Fetched 2860 reviews (2860 fetched in total)\n",
      "2021-06-13 14:19:00,072 [INFO] Base - [id:520020791] Fetched 2900 reviews (2900 fetched in total)\n",
      "2021-06-13 14:19:11,189 [INFO] Base - [id:520020791] Fetched 2940 reviews (2940 fetched in total)\n",
      "2021-06-13 14:19:21,870 [INFO] Base - [id:520020791] Fetched 2980 reviews (2980 fetched in total)\n",
      "2021-06-13 14:19:32,610 [INFO] Base - [id:520020791] Fetched 3020 reviews (3020 fetched in total)\n",
      "2021-06-13 14:19:43,442 [INFO] Base - [id:520020791] Fetched 3060 reviews (3060 fetched in total)\n",
      "2021-06-13 14:19:54,140 [INFO] Base - [id:520020791] Fetched 3100 reviews (3100 fetched in total)\n",
      "2021-06-13 14:20:04,911 [INFO] Base - [id:520020791] Fetched 3140 reviews (3140 fetched in total)\n",
      "2021-06-13 14:20:15,830 [INFO] Base - [id:520020791] Fetched 3180 reviews (3180 fetched in total)\n",
      "2021-06-13 14:20:26,541 [INFO] Base - [id:520020791] Fetched 3220 reviews (3220 fetched in total)\n",
      "2021-06-13 14:20:37,674 [INFO] Base - [id:520020791] Fetched 3260 reviews (3260 fetched in total)\n",
      "2021-06-13 14:20:48,312 [INFO] Base - [id:520020791] Fetched 3300 reviews (3300 fetched in total)\n",
      "2021-06-13 14:20:59,213 [INFO] Base - [id:520020791] Fetched 3340 reviews (3340 fetched in total)\n",
      "2021-06-13 14:21:09,826 [INFO] Base - [id:520020791] Fetched 3380 reviews (3380 fetched in total)\n",
      "2021-06-13 14:21:20,436 [INFO] Base - [id:520020791] Fetched 3420 reviews (3420 fetched in total)\n",
      "2021-06-13 14:21:31,276 [INFO] Base - [id:520020791] Fetched 3460 reviews (3460 fetched in total)\n",
      "2021-06-13 14:21:42,576 [INFO] Base - [id:520020791] Fetched 3500 reviews (3500 fetched in total)\n",
      "2021-06-13 14:21:53,243 [INFO] Base - [id:520020791] Fetched 3540 reviews (3540 fetched in total)\n",
      "2021-06-13 14:22:04,216 [INFO] Base - [id:520020791] Fetched 3580 reviews (3580 fetched in total)\n",
      "2021-06-13 14:22:14,914 [INFO] Base - [id:520020791] Fetched 3620 reviews (3620 fetched in total)\n",
      "2021-06-13 14:22:25,779 [INFO] Base - [id:520020791] Fetched 3660 reviews (3660 fetched in total)\n",
      "2021-06-13 14:22:36,544 [INFO] Base - [id:520020791] Fetched 3700 reviews (3700 fetched in total)\n",
      "2021-06-13 14:22:47,715 [INFO] Base - [id:520020791] Fetched 3740 reviews (3740 fetched in total)\n",
      "2021-06-13 14:22:58,366 [INFO] Base - [id:520020791] Fetched 3780 reviews (3780 fetched in total)\n",
      "2021-06-13 14:23:08,894 [INFO] Base - [id:520020791] Fetched 3820 reviews (3820 fetched in total)\n",
      "2021-06-13 14:23:19,572 [INFO] Base - [id:520020791] Fetched 3860 reviews (3860 fetched in total)\n",
      "2021-06-13 14:23:30,183 [INFO] Base - [id:520020791] Fetched 3900 reviews (3900 fetched in total)\n",
      "2021-06-13 14:23:40,766 [INFO] Base - [id:520020791] Fetched 3940 reviews (3940 fetched in total)\n",
      "2021-06-13 14:23:51,345 [INFO] Base - [id:520020791] Fetched 3980 reviews (3980 fetched in total)\n",
      "2021-06-13 14:24:02,231 [INFO] Base - [id:520020791] Fetched 4020 reviews (4020 fetched in total)\n",
      "2021-06-13 14:24:12,804 [INFO] Base - [id:520020791] Fetched 4060 reviews (4060 fetched in total)\n",
      "2021-06-13 14:24:23,946 [INFO] Base - [id:520020791] Fetched 4100 reviews (4100 fetched in total)\n",
      "2021-06-13 14:24:35,001 [INFO] Base - [id:520020791] Fetched 4140 reviews (4140 fetched in total)\n",
      "2021-06-13 14:24:45,917 [INFO] Base - [id:520020791] Fetched 4180 reviews (4180 fetched in total)\n",
      "2021-06-13 14:24:56,822 [INFO] Base - [id:520020791] Fetched 4220 reviews (4220 fetched in total)\n",
      "2021-06-13 14:25:07,747 [INFO] Base - [id:520020791] Fetched 4260 reviews (4260 fetched in total)\n",
      "2021-06-13 14:25:18,406 [INFO] Base - [id:520020791] Fetched 4300 reviews (4300 fetched in total)\n",
      "2021-06-13 14:25:29,100 [INFO] Base - [id:520020791] Fetched 4340 reviews (4340 fetched in total)\n",
      "2021-06-13 14:25:39,848 [INFO] Base - [id:520020791] Fetched 4380 reviews (4380 fetched in total)\n",
      "2021-06-13 14:25:50,521 [INFO] Base - [id:520020791] Fetched 4420 reviews (4420 fetched in total)\n",
      "2021-06-13 14:26:01,702 [INFO] Base - [id:520020791] Fetched 4460 reviews (4460 fetched in total)\n",
      "2021-06-13 14:26:12,279 [INFO] Base - [id:520020791] Fetched 4500 reviews (4500 fetched in total)\n",
      "2021-06-13 14:26:22,813 [INFO] Base - [id:520020791] Fetched 4540 reviews (4540 fetched in total)\n",
      "2021-06-13 14:26:33,582 [INFO] Base - [id:520020791] Fetched 4580 reviews (4580 fetched in total)\n",
      "2021-06-13 14:26:44,726 [INFO] Base - [id:520020791] Fetched 4620 reviews (4620 fetched in total)\n",
      "2021-06-13 14:26:55,492 [INFO] Base - [id:520020791] Fetched 4660 reviews (4660 fetched in total)\n",
      "2021-06-13 14:27:06,559 [INFO] Base - [id:520020791] Fetched 4700 reviews (4700 fetched in total)\n",
      "2021-06-13 14:27:17,159 [INFO] Base - [id:520020791] Fetched 4740 reviews (4740 fetched in total)\n",
      "2021-06-13 14:27:27,831 [INFO] Base - [id:520020791] Fetched 4780 reviews (4780 fetched in total)\n",
      "2021-06-13 14:27:38,610 [INFO] Base - [id:520020791] Fetched 4820 reviews (4820 fetched in total)\n",
      "2021-06-13 14:27:49,163 [INFO] Base - [id:520020791] Fetched 4860 reviews (4860 fetched in total)\n",
      "2021-06-13 14:27:49,455 [INFO] Base - [id:520020791] Fetched 4867 reviews (4867 fetched in total)\n"
     ]
    },
    {
     "name": "stdout",
     "output_type": "stream",
     "text": [
      "Number of reviews scraped: 4867\n"
     ]
    }
   ],
   "source": [
    "app_store.review(sleep = random.randint(3,5))\n",
    "\n",
    "reviews = app_store.reviews\n",
    "print(f\"Number of reviews scraped: {app_store.reviews_count}\")"
   ]
  },
  {
   "cell_type": "markdown",
   "id": "disciplinary-spoke",
   "metadata": {},
   "source": [
    "The method returns a list of dictionaries with the following keys: username, rating, title, review, date, and isEdited. A sample review is shown below."
   ]
  },
  {
   "cell_type": "code",
   "execution_count": 11,
   "id": "owned-breach",
   "metadata": {},
   "outputs": [
    {
     "data": {
      "text/plain": [
       "{'title': 'It is starting to become pretty annoying',\n",
       " 'date': datetime.datetime(2018, 12, 29, 15, 24, 59),\n",
       " 'rating': 3,\n",
       " 'userName': 'Fhayerie0406',\n",
       " 'isEdited': False,\n",
       " 'review': 'Almost everything is smooth except for three things that i had experienced; the first one was i purchase a load amounting to 100 i received a text message that it was an error but gcash deducted the 100 on my balance and it never returned next i was trying to pay my electric bill through pelco2 and i keep on getting an error of invalid account number wherein last month my transaction went smoothly with the same company and lastly i was trying to cashin my remittance through moneygram and the only options are to provide the amount and the control number i did that and was getting a pop up stating that i need to provide the sender name and receiver name but there is no option for me to type that hence, i tried it again same error and on the fourth attempt i receive a pop up error stating that the control number is wrong and that my account specific to the cashin through remittance is locked out due to mulitple invalid attempts like what the heck. Tried to call 2882 and it is totally useless contacted the gcash care and there is still no respond. I hope there could be a person that i can easily talked to with the issues that is going through with the app and my activities through it.'}"
      ]
     },
     "execution_count": 11,
     "metadata": {},
     "output_type": "execute_result"
    }
   ],
   "source": [
    "app_store.reviews[0]"
   ]
  },
  {
   "cell_type": "markdown",
   "id": "nutritional-stable",
   "metadata": {},
   "source": [
    "#### Storing the Reviews as CSV\n",
    "\n",
    "This section focuses on the storage of the reviews for future use.\n",
    "\n",
    "---"
   ]
  },
  {
   "cell_type": "markdown",
   "id": "adolescent-screw",
   "metadata": {},
   "source": [
    "Since by default, the output does not contain information regarding the name and id of the app, we add the app_name and app_id columns for reference."
   ]
  },
  {
   "cell_type": "code",
   "execution_count": 12,
   "id": "configured-little",
   "metadata": {},
   "outputs": [],
   "source": [
    "for review in reviews:\n",
    "    review['app_name'] = app_name\n",
    "    review['app_id'] = app_id"
   ]
  },
  {
   "cell_type": "markdown",
   "id": "superior-steam",
   "metadata": {},
   "source": [
    "Finally, we store the DataFrame as a CSV file using the _to_csv_ method. We add a timestamp for reference."
   ]
  },
  {
   "cell_type": "code",
   "execution_count": 13,
   "id": "wicked-charge",
   "metadata": {},
   "outputs": [],
   "source": [
    "time_now = time.strftime(\"%m%d-%H%M\")\n",
    "review_df = pd.DataFrame(reviews)\n",
    "path = f\"Data/{app_name}_{time_now}.csv\"\n",
    "review_df.to_csv(path, index=False)"
   ]
  },
  {
   "cell_type": "code",
   "execution_count": null,
   "id": "polish-superior",
   "metadata": {},
   "outputs": [],
   "source": []
  }
 ],
 "metadata": {
  "kernelspec": {
   "display_name": "Python 3",
   "language": "python",
   "name": "python3"
  },
  "language_info": {
   "codemirror_mode": {
    "name": "ipython",
    "version": 3
   },
   "file_extension": ".py",
   "mimetype": "text/x-python",
   "name": "python",
   "nbconvert_exporter": "python",
   "pygments_lexer": "ipython3",
   "version": "3.9.1"
  }
 },
 "nbformat": 4,
 "nbformat_minor": 5
}
